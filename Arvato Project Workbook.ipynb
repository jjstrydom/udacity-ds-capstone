{
 "cells": [
  {
   "cell_type": "markdown",
   "metadata": {},
   "source": [
    "# Capstone Project: Create a Customer Segmentation Report for Arvato Financial Services\n",
    "\n",
    "In this project, you will analyze demographics data for customers of a mail-order sales company in Germany, comparing it against demographics information for the general population. You'll use unsupervised learning techniques to perform customer segmentation, identifying the parts of the population that best describe the core customer base of the company. Then, you'll apply what you've learned on a third dataset with demographics information for targets of a marketing campaign for the company, and use a model to predict which individuals are most likely to convert into becoming customers for the company. The data that you will use has been provided by our partners at Bertelsmann Arvato Analytics, and represents a real-life data science task.\n",
    "\n",
    "If you completed the first term of this program, you will be familiar with the first part of this project, from the unsupervised learning project. The versions of those two datasets used in this project will include many more features and has not been pre-cleaned. You are also free to choose whatever approach you'd like to analyzing the data rather than follow pre-determined steps. In your work on this project, make sure that you carefully document your steps and decisions, since your main deliverable for this project will be a blog post reporting your findings."
   ]
  },
  {
   "cell_type": "code",
   "execution_count": 1,
   "metadata": {},
   "outputs": [],
   "source": [
    "# !pip install pyarrow==2.0.0\n",
    "# !pip install umap\n",
    "# wait_for_me = True # dummy code that prevents jupyter from executing the following cells before this one has completed"
   ]
  },
  {
   "cell_type": "code",
   "execution_count": 2,
   "metadata": {},
   "outputs": [
    {
     "data": {
      "text/html": [
       "\n",
       "    <div class=\"bk-root\">\n",
       "        <a href=\"https://bokeh.org\" target=\"_blank\" class=\"bk-logo bk-logo-small bk-logo-notebook\"></a>\n",
       "        <span id=\"1002\">Loading BokehJS ...</span>\n",
       "    </div>"
      ]
     },
     "metadata": {},
     "output_type": "display_data"
    },
    {
     "data": {
      "application/javascript": [
       "\n",
       "(function(root) {\n",
       "  function now() {\n",
       "    return new Date();\n",
       "  }\n",
       "\n",
       "  var force = true;\n",
       "\n",
       "  if (typeof root._bokeh_onload_callbacks === \"undefined\" || force === true) {\n",
       "    root._bokeh_onload_callbacks = [];\n",
       "    root._bokeh_is_loading = undefined;\n",
       "  }\n",
       "\n",
       "  var JS_MIME_TYPE = 'application/javascript';\n",
       "  var HTML_MIME_TYPE = 'text/html';\n",
       "  var EXEC_MIME_TYPE = 'application/vnd.bokehjs_exec.v0+json';\n",
       "  var CLASS_NAME = 'output_bokeh rendered_html';\n",
       "\n",
       "  /**\n",
       "   * Render data to the DOM node\n",
       "   */\n",
       "  function render(props, node) {\n",
       "    var script = document.createElement(\"script\");\n",
       "    node.appendChild(script);\n",
       "  }\n",
       "\n",
       "  /**\n",
       "   * Handle when an output is cleared or removed\n",
       "   */\n",
       "  function handleClearOutput(event, handle) {\n",
       "    var cell = handle.cell;\n",
       "\n",
       "    var id = cell.output_area._bokeh_element_id;\n",
       "    var server_id = cell.output_area._bokeh_server_id;\n",
       "    // Clean up Bokeh references\n",
       "    if (id != null && id in Bokeh.index) {\n",
       "      Bokeh.index[id].model.document.clear();\n",
       "      delete Bokeh.index[id];\n",
       "    }\n",
       "\n",
       "    if (server_id !== undefined) {\n",
       "      // Clean up Bokeh references\n",
       "      var cmd = \"from bokeh.io.state import curstate; print(curstate().uuid_to_server['\" + server_id + \"'].get_sessions()[0].document.roots[0]._id)\";\n",
       "      cell.notebook.kernel.execute(cmd, {\n",
       "        iopub: {\n",
       "          output: function(msg) {\n",
       "            var id = msg.content.text.trim();\n",
       "            if (id in Bokeh.index) {\n",
       "              Bokeh.index[id].model.document.clear();\n",
       "              delete Bokeh.index[id];\n",
       "            }\n",
       "          }\n",
       "        }\n",
       "      });\n",
       "      // Destroy server and session\n",
       "      var cmd = \"import bokeh.io.notebook as ion; ion.destroy_server('\" + server_id + \"')\";\n",
       "      cell.notebook.kernel.execute(cmd);\n",
       "    }\n",
       "  }\n",
       "\n",
       "  /**\n",
       "   * Handle when a new output is added\n",
       "   */\n",
       "  function handleAddOutput(event, handle) {\n",
       "    var output_area = handle.output_area;\n",
       "    var output = handle.output;\n",
       "\n",
       "    // limit handleAddOutput to display_data with EXEC_MIME_TYPE content only\n",
       "    if ((output.output_type != \"display_data\") || (!Object.prototype.hasOwnProperty.call(output.data, EXEC_MIME_TYPE))) {\n",
       "      return\n",
       "    }\n",
       "\n",
       "    var toinsert = output_area.element.find(\".\" + CLASS_NAME.split(' ')[0]);\n",
       "\n",
       "    if (output.metadata[EXEC_MIME_TYPE][\"id\"] !== undefined) {\n",
       "      toinsert[toinsert.length - 1].firstChild.textContent = output.data[JS_MIME_TYPE];\n",
       "      // store reference to embed id on output_area\n",
       "      output_area._bokeh_element_id = output.metadata[EXEC_MIME_TYPE][\"id\"];\n",
       "    }\n",
       "    if (output.metadata[EXEC_MIME_TYPE][\"server_id\"] !== undefined) {\n",
       "      var bk_div = document.createElement(\"div\");\n",
       "      bk_div.innerHTML = output.data[HTML_MIME_TYPE];\n",
       "      var script_attrs = bk_div.children[0].attributes;\n",
       "      for (var i = 0; i < script_attrs.length; i++) {\n",
       "        toinsert[toinsert.length - 1].firstChild.setAttribute(script_attrs[i].name, script_attrs[i].value);\n",
       "        toinsert[toinsert.length - 1].firstChild.textContent = bk_div.children[0].textContent\n",
       "      }\n",
       "      // store reference to server id on output_area\n",
       "      output_area._bokeh_server_id = output.metadata[EXEC_MIME_TYPE][\"server_id\"];\n",
       "    }\n",
       "  }\n",
       "\n",
       "  function register_renderer(events, OutputArea) {\n",
       "\n",
       "    function append_mime(data, metadata, element) {\n",
       "      // create a DOM node to render to\n",
       "      var toinsert = this.create_output_subarea(\n",
       "        metadata,\n",
       "        CLASS_NAME,\n",
       "        EXEC_MIME_TYPE\n",
       "      );\n",
       "      this.keyboard_manager.register_events(toinsert);\n",
       "      // Render to node\n",
       "      var props = {data: data, metadata: metadata[EXEC_MIME_TYPE]};\n",
       "      render(props, toinsert[toinsert.length - 1]);\n",
       "      element.append(toinsert);\n",
       "      return toinsert\n",
       "    }\n",
       "\n",
       "    /* Handle when an output is cleared or removed */\n",
       "    events.on('clear_output.CodeCell', handleClearOutput);\n",
       "    events.on('delete.Cell', handleClearOutput);\n",
       "\n",
       "    /* Handle when a new output is added */\n",
       "    events.on('output_added.OutputArea', handleAddOutput);\n",
       "\n",
       "    /**\n",
       "     * Register the mime type and append_mime function with output_area\n",
       "     */\n",
       "    OutputArea.prototype.register_mime_type(EXEC_MIME_TYPE, append_mime, {\n",
       "      /* Is output safe? */\n",
       "      safe: true,\n",
       "      /* Index of renderer in `output_area.display_order` */\n",
       "      index: 0\n",
       "    });\n",
       "  }\n",
       "\n",
       "  // register the mime type if in Jupyter Notebook environment and previously unregistered\n",
       "  if (root.Jupyter !== undefined) {\n",
       "    var events = require('base/js/events');\n",
       "    var OutputArea = require('notebook/js/outputarea').OutputArea;\n",
       "\n",
       "    if (OutputArea.prototype.mime_types().indexOf(EXEC_MIME_TYPE) == -1) {\n",
       "      register_renderer(events, OutputArea);\n",
       "    }\n",
       "  }\n",
       "\n",
       "  \n",
       "  if (typeof (root._bokeh_timeout) === \"undefined\" || force === true) {\n",
       "    root._bokeh_timeout = Date.now() + 5000;\n",
       "    root._bokeh_failed_load = false;\n",
       "  }\n",
       "\n",
       "  var NB_LOAD_WARNING = {'data': {'text/html':\n",
       "     \"<div style='background-color: #fdd'>\\n\"+\n",
       "     \"<p>\\n\"+\n",
       "     \"BokehJS does not appear to have successfully loaded. If loading BokehJS from CDN, this \\n\"+\n",
       "     \"may be due to a slow or bad network connection. Possible fixes:\\n\"+\n",
       "     \"</p>\\n\"+\n",
       "     \"<ul>\\n\"+\n",
       "     \"<li>re-rerun `output_notebook()` to attempt to load from CDN again, or</li>\\n\"+\n",
       "     \"<li>use INLINE resources instead, as so:</li>\\n\"+\n",
       "     \"</ul>\\n\"+\n",
       "     \"<code>\\n\"+\n",
       "     \"from bokeh.resources import INLINE\\n\"+\n",
       "     \"output_notebook(resources=INLINE)\\n\"+\n",
       "     \"</code>\\n\"+\n",
       "     \"</div>\"}};\n",
       "\n",
       "  function display_loaded() {\n",
       "    var el = document.getElementById(\"1002\");\n",
       "    if (el != null) {\n",
       "      el.textContent = \"BokehJS is loading...\";\n",
       "    }\n",
       "    if (root.Bokeh !== undefined) {\n",
       "      if (el != null) {\n",
       "        el.textContent = \"BokehJS \" + root.Bokeh.version + \" successfully loaded.\";\n",
       "      }\n",
       "    } else if (Date.now() < root._bokeh_timeout) {\n",
       "      setTimeout(display_loaded, 100)\n",
       "    }\n",
       "  }\n",
       "\n",
       "\n",
       "  function run_callbacks() {\n",
       "    try {\n",
       "      root._bokeh_onload_callbacks.forEach(function(callback) {\n",
       "        if (callback != null)\n",
       "          callback();\n",
       "      });\n",
       "    } finally {\n",
       "      delete root._bokeh_onload_callbacks\n",
       "    }\n",
       "    console.debug(\"Bokeh: all callbacks have finished\");\n",
       "  }\n",
       "\n",
       "  function load_libs(css_urls, js_urls, callback) {\n",
       "    if (css_urls == null) css_urls = [];\n",
       "    if (js_urls == null) js_urls = [];\n",
       "\n",
       "    root._bokeh_onload_callbacks.push(callback);\n",
       "    if (root._bokeh_is_loading > 0) {\n",
       "      console.debug(\"Bokeh: BokehJS is being loaded, scheduling callback at\", now());\n",
       "      return null;\n",
       "    }\n",
       "    if (js_urls == null || js_urls.length === 0) {\n",
       "      run_callbacks();\n",
       "      return null;\n",
       "    }\n",
       "    console.debug(\"Bokeh: BokehJS not loaded, scheduling load and callback at\", now());\n",
       "    root._bokeh_is_loading = css_urls.length + js_urls.length;\n",
       "\n",
       "    function on_load() {\n",
       "      root._bokeh_is_loading--;\n",
       "      if (root._bokeh_is_loading === 0) {\n",
       "        console.debug(\"Bokeh: all BokehJS libraries/stylesheets loaded\");\n",
       "        run_callbacks()\n",
       "      }\n",
       "    }\n",
       "\n",
       "    function on_error(url) {\n",
       "      console.error(\"failed to load \" + url);\n",
       "    }\n",
       "\n",
       "    for (let i = 0; i < css_urls.length; i++) {\n",
       "      const url = css_urls[i];\n",
       "      const element = document.createElement(\"link\");\n",
       "      element.onload = on_load;\n",
       "      element.onerror = on_error.bind(null, url);\n",
       "      element.rel = \"stylesheet\";\n",
       "      element.type = \"text/css\";\n",
       "      element.href = url;\n",
       "      console.debug(\"Bokeh: injecting link tag for BokehJS stylesheet: \", url);\n",
       "      document.body.appendChild(element);\n",
       "    }\n",
       "\n",
       "    const hashes = {\"https://cdn.bokeh.org/bokeh/release/bokeh-2.3.1.min.js\": \"YF85VygJKMVnHE+lLv2AM93Vbstr0yo2TbIu5v8se5Rq3UQAUmcuh4aaJwNlpKwa\", \"https://cdn.bokeh.org/bokeh/release/bokeh-widgets-2.3.1.min.js\": \"KKuas3gevv3PvrlkyCMzffFeaMq5we/a2QsP5AUoS3mJ0jmaCL7jirFJN3GoE/lM\", \"https://cdn.bokeh.org/bokeh/release/bokeh-tables-2.3.1.min.js\": \"MK/uFc3YT18pkvvXRl66tTHjP0/dxoSH2e/eiNMFIguKlun2+WVqaPTWmUy/zvh4\"};\n",
       "\n",
       "    for (let i = 0; i < js_urls.length; i++) {\n",
       "      const url = js_urls[i];\n",
       "      const element = document.createElement('script');\n",
       "      element.onload = on_load;\n",
       "      element.onerror = on_error.bind(null, url);\n",
       "      element.async = false;\n",
       "      element.src = url;\n",
       "      if (url in hashes) {\n",
       "        element.crossOrigin = \"anonymous\";\n",
       "        element.integrity = \"sha384-\" + hashes[url];\n",
       "      }\n",
       "      console.debug(\"Bokeh: injecting script tag for BokehJS library: \", url);\n",
       "      document.head.appendChild(element);\n",
       "    }\n",
       "  };\n",
       "\n",
       "  function inject_raw_css(css) {\n",
       "    const element = document.createElement(\"style\");\n",
       "    element.appendChild(document.createTextNode(css));\n",
       "    document.body.appendChild(element);\n",
       "  }\n",
       "\n",
       "  \n",
       "  var js_urls = [\"https://cdn.bokeh.org/bokeh/release/bokeh-2.3.1.min.js\", \"https://cdn.bokeh.org/bokeh/release/bokeh-widgets-2.3.1.min.js\", \"https://cdn.bokeh.org/bokeh/release/bokeh-tables-2.3.1.min.js\"];\n",
       "  var css_urls = [];\n",
       "  \n",
       "\n",
       "  var inline_js = [\n",
       "    function(Bokeh) {\n",
       "      Bokeh.set_log_level(\"info\");\n",
       "    },\n",
       "    function(Bokeh) {\n",
       "    \n",
       "    \n",
       "    }\n",
       "  ];\n",
       "\n",
       "  function run_inline_js() {\n",
       "    \n",
       "    if (root.Bokeh !== undefined || force === true) {\n",
       "      \n",
       "    for (var i = 0; i < inline_js.length; i++) {\n",
       "      inline_js[i].call(root, root.Bokeh);\n",
       "    }\n",
       "    if (force === true) {\n",
       "        display_loaded();\n",
       "      }} else if (Date.now() < root._bokeh_timeout) {\n",
       "      setTimeout(run_inline_js, 100);\n",
       "    } else if (!root._bokeh_failed_load) {\n",
       "      console.log(\"Bokeh: BokehJS failed to load within specified timeout.\");\n",
       "      root._bokeh_failed_load = true;\n",
       "    } else if (force !== true) {\n",
       "      var cell = $(document.getElementById(\"1002\")).parents('.cell').data().cell;\n",
       "      cell.output_area.append_execute_result(NB_LOAD_WARNING)\n",
       "    }\n",
       "\n",
       "  }\n",
       "\n",
       "  if (root._bokeh_is_loading === 0) {\n",
       "    console.debug(\"Bokeh: BokehJS loaded, going straight to plotting\");\n",
       "    run_inline_js();\n",
       "  } else {\n",
       "    load_libs(css_urls, js_urls, function() {\n",
       "      console.debug(\"Bokeh: BokehJS plotting callback run at\", now());\n",
       "      run_inline_js();\n",
       "    });\n",
       "  }\n",
       "}(window));"
      ],
      "application/vnd.bokehjs_load.v0+json": "\n(function(root) {\n  function now() {\n    return new Date();\n  }\n\n  var force = true;\n\n  if (typeof root._bokeh_onload_callbacks === \"undefined\" || force === true) {\n    root._bokeh_onload_callbacks = [];\n    root._bokeh_is_loading = undefined;\n  }\n\n  \n\n  \n  if (typeof (root._bokeh_timeout) === \"undefined\" || force === true) {\n    root._bokeh_timeout = Date.now() + 5000;\n    root._bokeh_failed_load = false;\n  }\n\n  var NB_LOAD_WARNING = {'data': {'text/html':\n     \"<div style='background-color: #fdd'>\\n\"+\n     \"<p>\\n\"+\n     \"BokehJS does not appear to have successfully loaded. If loading BokehJS from CDN, this \\n\"+\n     \"may be due to a slow or bad network connection. Possible fixes:\\n\"+\n     \"</p>\\n\"+\n     \"<ul>\\n\"+\n     \"<li>re-rerun `output_notebook()` to attempt to load from CDN again, or</li>\\n\"+\n     \"<li>use INLINE resources instead, as so:</li>\\n\"+\n     \"</ul>\\n\"+\n     \"<code>\\n\"+\n     \"from bokeh.resources import INLINE\\n\"+\n     \"output_notebook(resources=INLINE)\\n\"+\n     \"</code>\\n\"+\n     \"</div>\"}};\n\n  function display_loaded() {\n    var el = document.getElementById(\"1002\");\n    if (el != null) {\n      el.textContent = \"BokehJS is loading...\";\n    }\n    if (root.Bokeh !== undefined) {\n      if (el != null) {\n        el.textContent = \"BokehJS \" + root.Bokeh.version + \" successfully loaded.\";\n      }\n    } else if (Date.now() < root._bokeh_timeout) {\n      setTimeout(display_loaded, 100)\n    }\n  }\n\n\n  function run_callbacks() {\n    try {\n      root._bokeh_onload_callbacks.forEach(function(callback) {\n        if (callback != null)\n          callback();\n      });\n    } finally {\n      delete root._bokeh_onload_callbacks\n    }\n    console.debug(\"Bokeh: all callbacks have finished\");\n  }\n\n  function load_libs(css_urls, js_urls, callback) {\n    if (css_urls == null) css_urls = [];\n    if (js_urls == null) js_urls = [];\n\n    root._bokeh_onload_callbacks.push(callback);\n    if (root._bokeh_is_loading > 0) {\n      console.debug(\"Bokeh: BokehJS is being loaded, scheduling callback at\", now());\n      return null;\n    }\n    if (js_urls == null || js_urls.length === 0) {\n      run_callbacks();\n      return null;\n    }\n    console.debug(\"Bokeh: BokehJS not loaded, scheduling load and callback at\", now());\n    root._bokeh_is_loading = css_urls.length + js_urls.length;\n\n    function on_load() {\n      root._bokeh_is_loading--;\n      if (root._bokeh_is_loading === 0) {\n        console.debug(\"Bokeh: all BokehJS libraries/stylesheets loaded\");\n        run_callbacks()\n      }\n    }\n\n    function on_error(url) {\n      console.error(\"failed to load \" + url);\n    }\n\n    for (let i = 0; i < css_urls.length; i++) {\n      const url = css_urls[i];\n      const element = document.createElement(\"link\");\n      element.onload = on_load;\n      element.onerror = on_error.bind(null, url);\n      element.rel = \"stylesheet\";\n      element.type = \"text/css\";\n      element.href = url;\n      console.debug(\"Bokeh: injecting link tag for BokehJS stylesheet: \", url);\n      document.body.appendChild(element);\n    }\n\n    const hashes = {\"https://cdn.bokeh.org/bokeh/release/bokeh-2.3.1.min.js\": \"YF85VygJKMVnHE+lLv2AM93Vbstr0yo2TbIu5v8se5Rq3UQAUmcuh4aaJwNlpKwa\", \"https://cdn.bokeh.org/bokeh/release/bokeh-widgets-2.3.1.min.js\": \"KKuas3gevv3PvrlkyCMzffFeaMq5we/a2QsP5AUoS3mJ0jmaCL7jirFJN3GoE/lM\", \"https://cdn.bokeh.org/bokeh/release/bokeh-tables-2.3.1.min.js\": \"MK/uFc3YT18pkvvXRl66tTHjP0/dxoSH2e/eiNMFIguKlun2+WVqaPTWmUy/zvh4\"};\n\n    for (let i = 0; i < js_urls.length; i++) {\n      const url = js_urls[i];\n      const element = document.createElement('script');\n      element.onload = on_load;\n      element.onerror = on_error.bind(null, url);\n      element.async = false;\n      element.src = url;\n      if (url in hashes) {\n        element.crossOrigin = \"anonymous\";\n        element.integrity = \"sha384-\" + hashes[url];\n      }\n      console.debug(\"Bokeh: injecting script tag for BokehJS library: \", url);\n      document.head.appendChild(element);\n    }\n  };\n\n  function inject_raw_css(css) {\n    const element = document.createElement(\"style\");\n    element.appendChild(document.createTextNode(css));\n    document.body.appendChild(element);\n  }\n\n  \n  var js_urls = [\"https://cdn.bokeh.org/bokeh/release/bokeh-2.3.1.min.js\", \"https://cdn.bokeh.org/bokeh/release/bokeh-widgets-2.3.1.min.js\", \"https://cdn.bokeh.org/bokeh/release/bokeh-tables-2.3.1.min.js\"];\n  var css_urls = [];\n  \n\n  var inline_js = [\n    function(Bokeh) {\n      Bokeh.set_log_level(\"info\");\n    },\n    function(Bokeh) {\n    \n    \n    }\n  ];\n\n  function run_inline_js() {\n    \n    if (root.Bokeh !== undefined || force === true) {\n      \n    for (var i = 0; i < inline_js.length; i++) {\n      inline_js[i].call(root, root.Bokeh);\n    }\n    if (force === true) {\n        display_loaded();\n      }} else if (Date.now() < root._bokeh_timeout) {\n      setTimeout(run_inline_js, 100);\n    } else if (!root._bokeh_failed_load) {\n      console.log(\"Bokeh: BokehJS failed to load within specified timeout.\");\n      root._bokeh_failed_load = true;\n    } else if (force !== true) {\n      var cell = $(document.getElementById(\"1002\")).parents('.cell').data().cell;\n      cell.output_area.append_execute_result(NB_LOAD_WARNING)\n    }\n\n  }\n\n  if (root._bokeh_is_loading === 0) {\n    console.debug(\"Bokeh: BokehJS loaded, going straight to plotting\");\n    run_inline_js();\n  } else {\n    load_libs(css_urls, js_urls, function() {\n      console.debug(\"Bokeh: BokehJS plotting callback run at\", now());\n      run_inline_js();\n    });\n  }\n}(window));"
     },
     "metadata": {},
     "output_type": "display_data"
    }
   ],
   "source": [
    "import time\n",
    "import os\n",
    "import numpy as np\n",
    "import pandas as pd\n",
    "from scipy import stats\n",
    "import umap.umap_ as umap\n",
    "\n",
    "from sklearn.ensemble import RandomForestClassifier, StackingClassifier\n",
    "from sklearn.model_selection import train_test_split, RandomizedSearchCV\n",
    "from sklearn.metrics import confusion_matrix, roc_auc_score, roc_curve, auc\n",
    "from sklearn.cluster import OPTICS\n",
    "\n",
    "from bokeh.plotting import figure, output_file, show\n",
    "from bokeh.io import output_notebook\n",
    "from bokeh.layouts import column, gridplot\n",
    "from bokeh.models import ColumnDataSource, FactorRange, Label\n",
    "from bokeh.palettes import Spectral6, Cividis, Category10, Category20, RdYlBu\n",
    "from bokeh.transform import factor_cmap\n",
    "output_notebook()\n",
    "\n",
    "from tqdm.notebook import tqdm\n",
    "\n",
    "from datetime import datetime\n",
    "from functools import partial\n",
    "\n",
    "from sys import getsizeof\n",
    "import gc\n",
    "\n",
    "from IPython.display import clear_output"
   ]
  },
  {
   "cell_type": "code",
   "execution_count": 3,
   "metadata": {},
   "outputs": [],
   "source": [
    "pd.set_option('plotting.backend', 'pandas_bokeh')"
   ]
  },
  {
   "cell_type": "markdown",
   "metadata": {},
   "source": [
    "## Part 0: Get to Know the Data\n",
    "\n",
    "There are four data files associated with this project:\n",
    "\n",
    "- `Udacity_AZDIAS_052018.csv`: Demographics data for the general population of Germany; 891 211 persons (rows) x 366 features (columns).\n",
    "- `Udacity_CUSTOMERS_052018.csv`: Demographics data for customers of a mail-order company; 191 652 persons (rows) x 369 features (columns).\n",
    "- `Udacity_MAILOUT_052018_TRAIN.csv`: Demographics data for individuals who were targets of a marketing campaign; 42 982 persons (rows) x 367 (columns).\n",
    "- `Udacity_MAILOUT_052018_TEST.csv`: Demographics data for individuals who were targets of a marketing campaign; 42 833 persons (rows) x 366 (columns).\n",
    "\n",
    "Each row of the demographics files represents a single person, but also includes information outside of individuals, including information about their household, building, and neighborhood. Use the information from the first two files to figure out how customers (\"CUSTOMERS\") are similar to or differ from the general population at large (\"AZDIAS\"), then use your analysis to make predictions on the other two files (\"MAILOUT\"), predicting which recipients are most likely to become a customer for the mail-order company.\n",
    "\n",
    "The \"CUSTOMERS\" file contains three extra columns ('CUSTOMER_GROUP', 'ONLINE_PURCHASE', and 'PRODUCT_GROUP'), which provide broad information about the customers depicted in the file. The original \"MAILOUT\" file included one additional column, \"RESPONSE\", which indicated whether or not each recipient became a customer of the company. For the \"TRAIN\" subset, this column has been retained, but in the \"TEST\" subset it has been removed; it is against that withheld column that your final predictions will be assessed in the Kaggle competition.\n",
    "\n",
    "Otherwise, all of the remaining columns are the same between the three data files. For more information about the columns depicted in the files, you can refer to two Excel spreadsheets provided in the workspace. [One of them](./DIAS Information Levels - Attributes 2017.xlsx) is a top-level list of attributes and descriptions, organized by informational category. [The other](./DIAS Attributes - Values 2017.xlsx) is a detailed mapping of data values for each feature in alphabetical order.\n",
    "\n",
    "In the below cell, we've provided some initial code to load in the first two datasets. Note for all of the `.csv` data files in this project that they're semicolon (`;`) delimited, so an additional argument in the [`read_csv()`](https://pandas.pydata.org/pandas-docs/stable/generated/pandas.read_csv.html) call has been included to read in the data properly. Also, considering the size of the datasets, it may take some time for them to load completely.\n",
    "\n",
    "You'll notice when the data is loaded in that a warning message will immediately pop up. Before you really start digging into the modeling and analysis, you're going to need to perform some cleaning. Take some time to browse the structure of the data and look over the informational spreadsheets to understand the data values. Make some decisions on which features to keep, which features to drop, and if any revisions need to be made on data formats. It'll be a good idea to create a function with pre-processing steps, since you'll need to clean all of the datasets before you work with them."
   ]
  },
  {
   "cell_type": "code",
   "execution_count": 4,
   "metadata": {},
   "outputs": [],
   "source": [
    "# load in the data\n",
    "# csv files are cumbersome to wrok with - convert them to the parquet format so we can load them quicker\n",
    "\n",
    "def load_data(path, name):\n",
    "    \"\"\"\n",
    "    Load a csv file if a parquet file does not exist otherwise load the parquet file. \n",
    "    If the parquet file does not exist it will be created and saved in the current working directory.\n",
    "    This speeds up loading times for the next run (by about 4x). \n",
    "    \n",
    "    INPUT\n",
    "    path - path to the csv file\n",
    "    name - name to save the csv file to in parquet format\n",
    "    \n",
    "    OUTPUT\n",
    "    df - pandas dataframe with object columns converted to string\n",
    "    \"\"\"\n",
    "    if not os.path.exists(f'{name}.parquet'):\n",
    "        print(f'{name} parquet not found - loading csv')\n",
    "        df = pd.read_csv(path, sep=';')\n",
    "        print(f'{name} csv loaded')\n",
    "        for c in df.columns:\n",
    "            if df[c].dtype == object:\n",
    "                df[c] = df[c].astype(str)\n",
    "                print(f\"{name}: {c} converted to string\")\n",
    "        df.to_parquet(f'{name}.parquet')\n",
    "        print(f'{name} converted to parquet')\n",
    "    else:\n",
    "        print(f'{name} parquet found - loading')\n",
    "        df = pd.read_parquet(f'{name}.parquet')\n",
    "        print(f'{name} parquet loaded')\n",
    "    return df"
   ]
  },
  {
   "cell_type": "code",
   "execution_count": 5,
   "metadata": {},
   "outputs": [
    {
     "name": "stdout",
     "output_type": "stream",
     "text": [
      "azdias parquet found - loading\n",
      "azdias parquet loaded\n",
      "customers parquet found - loading\n",
      "customers parquet loaded\n",
      "CPU times: user 6.74 s, sys: 2.17 s, total: 8.91 s\n",
      "Wall time: 1.27 s\n"
     ]
    }
   ],
   "source": [
    "%%time        \n",
    "# load the two datasets\n",
    "azdias = load_data('../../data/Term2/capstone/arvato_data/Udacity_AZDIAS_052018.csv', 'azdias')\n",
    "customers = load_data('../../data/Term2/capstone/arvato_data/Udacity_CUSTOMERS_052018.csv', 'customers')"
   ]
  },
  {
   "cell_type": "code",
   "execution_count": 6,
   "metadata": {},
   "outputs": [],
   "source": [
    "# parse attributes sheet\n",
    "attributes = pd.read_excel('DIAS Attributes - Values 2017.xlsx', header=1).drop(columns=['Unnamed: 0', 'Description']).fillna(method='ffill')\n",
    "# make the attribute labels match the labels in the dataset where we could figure out what matches\n",
    "attributes.loc[:,'Attribute'] = attributes['Attribute'].str.replace('_RZ', '')\n",
    "attributes['Attribute'].replace(\n",
    "    {\n",
    "        'D19_BUCH': 'D19_BUCH_CD',\n",
    "        'CAMEO_DEUINTL_2015': 'CAMEO_INTL_2015',\n",
    "        'D19_KK_KUNDENTYP': 'KK_KUNDENTYP',\n",
    "        'KBA13_CCM_1400_2500': 'KBA13_CCM_1401_2500',\n",
    "        'SOHO_FLAG': 'SOHO_KZ',\n",
    "    },\n",
    "    inplace=True\n",
    ")\n",
    "\n",
    "# get number of values associated with an attribute \n",
    "nr_attribute_values = attributes.groupby('Attribute').count()['Value']\n",
    "# filter out attributes that are only 1 row (these dont have a pre-devined value for unknowns)\n",
    "attributes_filt = attributes[attributes['Attribute'].isin(nr_attribute_values[nr_attribute_values >  1].index)]"
   ]
  },
  {
   "cell_type": "markdown",
   "metadata": {},
   "source": [
    "# Clean dataset meta info"
   ]
  },
  {
   "cell_type": "code",
   "execution_count": 7,
   "metadata": {},
   "outputs": [],
   "source": [
    "def setup_dataframe(df, index_col='LNR'):\n",
    "    \"\"\"\n",
    "    Setup the dataframe index to the specified column. For this data its the LNR column. \n",
    "    Rid the dataframe of columns that contain meta information on the data, that is not important to the task.\n",
    "    The function runs in place and does not return a value.\n",
    "    \n",
    "    Input\n",
    "    - DataFrame - dataframe to set the index on.\n",
    "    - index_column - the column to use as the index.\n",
    "    \"\"\"\n",
    "    # Entry ID = LNR (does not overlap between azdias and customers)\n",
    "    df.set_index(index_col, inplace=True)\n",
    "    # EINGEFUEGT tanslates to inserted and is in the form of a date\n",
    "    # drop so we don't errenously correlate when the data appeared in the dataset to things we observe in the data\n",
    "    df.drop(columns=['EINGEFUEGT_AM'], inplace=True) "
   ]
  },
  {
   "cell_type": "code",
   "execution_count": 8,
   "metadata": {},
   "outputs": [],
   "source": [
    "# setup both the datasets to prepare them for further analysis\n",
    "setup_dataframe(azdias)\n",
    "setup_dataframe(customers)"
   ]
  },
  {
   "cell_type": "markdown",
   "metadata": {},
   "source": [
    "# Basic checks on number of columns"
   ]
  },
  {
   "cell_type": "code",
   "execution_count": 9,
   "metadata": {},
   "outputs": [
    {
     "name": "stdout",
     "output_type": "stream",
     "text": [
      "364 - number of columns in azdias dataframe\n",
      "367 - number of columns in customers dataframe\n",
      "364 - number of columns that overlap betwen azdias and customers\n",
      "314 - number of columns described in attributes file\n",
      "4 - number of attribures not in dataframe columns\n",
      "54 - number of columns in dataframe not in attributes\n"
     ]
    }
   ],
   "source": [
    "# check how many columns there are\n",
    "print(\n",
    " f\"{len(azdias.columns)} - number of columns in azdias dataframe\\n\" + \n",
    " f\"{len(customers.columns)} - number of columns in customers dataframe\\n\" +\n",
    " f\"{len(set(azdias.columns).intersection(set(customers.columns)))} - number of columns that overlap betwen azdias and customers\\n\" +\n",
    " f\"{len(nr_attribute_values)} - number of columns described in attributes file\\n\" +\n",
    " f\"{len(set(nr_attribute_values.index) - set(azdias.columns))} - number of attribures not in dataframe columns\\n\" +\n",
    " f\"{len(set(azdias.columns) - set(nr_attribute_values.index))} - number of columns in dataframe not in attributes\" \n",
    ")\n",
    "# 364 columns are too many to analyze individually. \n",
    "# All comuns in azdias is in customers.\n",
    "# The attributes file does not contain information of all columns in the data.\n",
    "# There are columns in the data not contained in the attributes file. These will need further investigation. "
   ]
  },
  {
   "cell_type": "markdown",
   "metadata": {},
   "source": [
    "# Drop columns we know too little about\n",
    "Columns we could manually treat or decode have been treated above so these are the remaining cases.\n",
    "\n",
    "Often the speed with which we can get to a good enough answer is preferred for decision makers, so they can start working on their approach while futher analsysis refines the results. \n",
    "\n",
    "We can always come back later and try to squeeze more information out of these columns if required, if the rest of the dataset does not provide sufficient predictive capability given the bussiness objectives or for a version 2 iteration to improve. "
   ]
  },
  {
   "cell_type": "code",
   "execution_count": 10,
   "metadata": {},
   "outputs": [],
   "source": [
    "# identify columns in our data that is not described by the accompanying information sheet\n",
    "low_to_no_info_columns = set(azdias.columns) - set(nr_attribute_values.index)\n",
    "# drop the columns we know too little about\n",
    "azdias.drop(columns=low_to_no_info_columns, inplace=True)\n",
    "customers.drop(columns=low_to_no_info_columns, inplace=True)"
   ]
  },
  {
   "cell_type": "markdown",
   "metadata": {},
   "source": [
    "# Check for duplicate rows"
   ]
  },
  {
   "cell_type": "code",
   "execution_count": 11,
   "metadata": {},
   "outputs": [],
   "source": [
    "# find rows that are duplicated in our dataset\n",
    "a_dups, c_dups = azdias.duplicated(), customers.duplicated()"
   ]
  },
  {
   "cell_type": "code",
   "execution_count": 12,
   "metadata": {},
   "outputs": [
    {
     "data": {
      "text/plain": [
       "KK_KUNDENTYP                   1.000000\n",
       "D19_GESAMT_ONLINE_QUOTE_12     0.999885\n",
       "D19_VERSAND_ONLINE_QUOTE_12    0.999885\n",
       "D19_LOTTO                      0.999885\n",
       "D19_BANKEN_ONLINE_QUOTE_12     0.999885\n",
       "                                 ...   \n",
       "ALTER_HH                       0.995736\n",
       "WOHNDAUER_2008                 0.995736\n",
       "SOHO_KZ                        0.995736\n",
       "HH_EINKOMMEN_SCORE             0.001128\n",
       "SEMIO_TRADV                    0.000000\n",
       "Length: 210, dtype: float64"
      ]
     },
     "execution_count": 12,
     "metadata": {},
     "output_type": "execute_result"
    }
   ],
   "source": [
    "# Check the number of missing values in this duplicate data - turns out its mostly missing anway\n",
    "(azdias.loc[a_dups].isna().sum()/a_dups.sum()).sort_values(ascending=False).head(210)"
   ]
  },
  {
   "cell_type": "code",
   "execution_count": 13,
   "metadata": {},
   "outputs": [
    {
     "data": {
      "text/plain": [
       "(0.058686902575231056, 0.2160791434474986)"
      ]
     },
     "execution_count": 13,
     "metadata": {},
     "output_type": "execute_result"
    }
   ],
   "source": [
    "# There is some mismatch in the degree to which data is missing between the two datasets, nothing to worry about too much.\n",
    "a_dups.sum()/len(azdias), c_dups.sum()/len(customers)"
   ]
  },
  {
   "cell_type": "code",
   "execution_count": 14,
   "metadata": {},
   "outputs": [],
   "source": [
    "# drop the duplicated rows\n",
    "azdias.drop(index=(a_dups[a_dups==True].index), inplace=True)\n",
    "customers.drop(index=(c_dups[c_dups==True].index), inplace=True)"
   ]
  },
  {
   "cell_type": "markdown",
   "metadata": {},
   "source": [
    "# Basic data type cleaning"
   ]
  },
  {
   "cell_type": "code",
   "execution_count": 15,
   "metadata": {},
   "outputs": [
    {
     "data": {
      "text/plain": [
       "CAMEO_DEU_2015     object\n",
       "CAMEO_DEUG_2015    object\n",
       "CAMEO_INTL_2015    object\n",
       "OST_WEST_KZ        object\n",
       "dtype: object"
      ]
     },
     "execution_count": 15,
     "metadata": {},
     "output_type": "execute_result"
    }
   ],
   "source": [
    "# instead of searching for object, remove known accepted datatypes\n",
    "# there may be some strange things we could miss if we only look for object data types\n",
    "cols_requiring_transformation = azdias.dtypes[(azdias.dtypes != np.int64) & (azdias.dtypes != np.float64)]\n",
    "cols_requiring_transformation"
   ]
  },
  {
   "cell_type": "code",
   "execution_count": 16,
   "metadata": {},
   "outputs": [
    {
     "data": {
      "text/html": [
       "<div>\n",
       "<style scoped>\n",
       "    .dataframe tbody tr th:only-of-type {\n",
       "        vertical-align: middle;\n",
       "    }\n",
       "\n",
       "    .dataframe tbody tr th {\n",
       "        vertical-align: top;\n",
       "    }\n",
       "\n",
       "    .dataframe thead th {\n",
       "        text-align: right;\n",
       "    }\n",
       "</style>\n",
       "<table border=\"1\" class=\"dataframe\">\n",
       "  <thead>\n",
       "    <tr style=\"text-align: right;\">\n",
       "      <th></th>\n",
       "      <th>A X/XX</th>\n",
       "      <th>A nan</th>\n",
       "      <th>C X/XX</th>\n",
       "      <th>C nan</th>\n",
       "    </tr>\n",
       "  </thead>\n",
       "  <tbody>\n",
       "    <tr>\n",
       "      <th>CAMEO_DEU_2015</th>\n",
       "      <td>0.000445</td>\n",
       "      <td>0.055828</td>\n",
       "      <td>0.000839</td>\n",
       "      <td>0.061116</td>\n",
       "    </tr>\n",
       "    <tr>\n",
       "      <th>CAMEO_DEUG_2015</th>\n",
       "      <td>0.000445</td>\n",
       "      <td>0.055828</td>\n",
       "      <td>0.000839</td>\n",
       "      <td>0.061116</td>\n",
       "    </tr>\n",
       "    <tr>\n",
       "      <th>CAMEO_INTL_2015</th>\n",
       "      <td>0.000445</td>\n",
       "      <td>0.055828</td>\n",
       "      <td>0.000839</td>\n",
       "      <td>0.061116</td>\n",
       "    </tr>\n",
       "    <tr>\n",
       "      <th>OST_WEST_KZ</th>\n",
       "      <td>0.000000</td>\n",
       "      <td>0.048883</td>\n",
       "      <td>0.000000</td>\n",
       "      <td>0.057801</td>\n",
       "    </tr>\n",
       "  </tbody>\n",
       "</table>\n",
       "</div>"
      ],
      "text/plain": [
       "                   A X/XX     A nan    C X/XX     C nan\n",
       "CAMEO_DEU_2015   0.000445  0.055828  0.000839  0.061116\n",
       "CAMEO_DEUG_2015  0.000445  0.055828  0.000839  0.061116\n",
       "CAMEO_INTL_2015  0.000445  0.055828  0.000839  0.061116\n",
       "OST_WEST_KZ      0.000000  0.048883  0.000000  0.057801"
      ]
     },
     "execution_count": 16,
     "metadata": {},
     "output_type": "execute_result"
    }
   ],
   "source": [
    "# X / XX missing data labels are very rare and goes up in frequency in both datasets as nans go up \n",
    "# conclusion: replace them with NaNs. \n",
    "pd.DataFrame([\n",
    "    azdias[cols_requiring_transformation.index].isin(['X', 'XX']).sum()/len(azdias),\n",
    "    azdias[cols_requiring_transformation.index].isin(['nan']).sum()/len(azdias),\n",
    "    customers[cols_requiring_transformation.index].isin(['X', 'XX']).sum()/len(customers),\n",
    "    customers[cols_requiring_transformation.index].isin(['nan']).sum()/len(customers),\n",
    "], index=['A X/XX', 'A nan', 'C X/XX', 'C nan']).T"
   ]
  },
  {
   "cell_type": "code",
   "execution_count": 17,
   "metadata": {},
   "outputs": [],
   "source": [
    "def process_column_dtype(val, base_type=float, nans=[]):\n",
    "    \"\"\"\n",
    "    Convert value to type of base_type, unless str.lower(value) is in nans (all lower) then replace with np.NaN\n",
    "    \n",
    "    Input\n",
    "    val - value to convert\n",
    "    base_type - data type value is to be converted to\n",
    "    nans = list of values that should be processed as a NaN\n",
    "    \n",
    "    Output\n",
    "    value of type base_type or np.NaN\n",
    "    \"\"\"\n",
    "    if str.lower(val) in nans:\n",
    "        return np.NaN\n",
    "    else:\n",
    "        return base_type(val)\n",
    "    \n",
    "def datm(x):\n",
    "    \"\"\"\n",
    "    Helper function to convert datetimes.\n",
    "    \n",
    "    Input - string in format %Y-%m-%d %H:%M:%S (e.g. 1992-02-10 14:13:59)\n",
    "    Output - datetime \n",
    "    \"\"\"\n",
    "    return datetime.strptime(x, '%Y-%m-%d %H:%M:%S')\n",
    "\n",
    "# create functions that can be used in a pandas apply (only 1 input argument)\n",
    "# sometimes it's hard when you try to be DRY\n",
    "process_column_cat = partial(process_column_dtype, base_type=str, nans=['nan', 'x', 'xx'])\n",
    "process_column_datetime = partial(process_column_dtype, base_type=datm, nans=['nan', 'x', 'xx'])\n",
    "process_column_float = partial(process_column_dtype, base_type=float, nans=['nan', 'x', 'xx'])"
   ]
  },
  {
   "cell_type": "code",
   "execution_count": 18,
   "metadata": {},
   "outputs": [],
   "source": [
    "def apply_cleaning_process(df, col_to_proc):\n",
    "    \"\"\"\n",
    "    Takes a dataframe and a dict mapping columns to the cleaning process to be applied.\n",
    "    \n",
    "    Input\n",
    "    df - DataFrame to apply cleaning process to\n",
    "    col_to_proc - dict with keys as the column names, and values as the process to apply to those columns\n",
    "    \n",
    "    Output\n",
    "    None - modifies dataframe in place\n",
    "    \"\"\"\n",
    "    for c, p in col_to_proc.items():\n",
    "        df[c] = df[c].apply(p)\n",
    "\n",
    "col_to_proc = {\n",
    "    # columns that are numeric\n",
    "    'CAMEO_DEUG_2015' : process_column_float,\n",
    "    'CAMEO_INTL_2015' : process_column_float,\n",
    "    # columns that are categories \n",
    "    'CAMEO_DEU_2015'  : process_column_cat,\n",
    "    'OST_WEST_KZ'     : process_column_cat,\n",
    "}\n",
    "\n",
    "# clean both datasets\n",
    "apply_cleaning_process(azdias, col_to_proc)\n",
    "apply_cleaning_process(customers, col_to_proc)"
   ]
  },
  {
   "cell_type": "code",
   "execution_count": 19,
   "metadata": {},
   "outputs": [],
   "source": [
    "def generate_categorical_replacement_dict(values):\n",
    "    \"\"\"\n",
    "    Generates a dict that maps the values to a numeric.\n",
    "    \n",
    "    Input - list like of values\n",
    "    Output - a dict with keys as the values provided, and a numeric value as the value. \n",
    "    \"\"\"\n",
    "    replacements = dict()\n",
    "    for n, k in enumerate(values):\n",
    "        if type(k) == str:\n",
    "            replacements[k] = n+1\n",
    "    return replacements\n",
    "\n",
    "def categorical_to_numeric(df, col, pre_calculated_replacement=None):\n",
    "    \"\"\"\n",
    "    Replaces non numeric categorical values with numeric values.\n",
    "    Uses the sort order of the non numerics to assign a numeric value.\n",
    "    Returns the replacement value mapping if one is not provided so the same mapping can be applied to other \n",
    "    dataframes columns ensuring consistency.\n",
    "    \n",
    "    Input\n",
    "    df - A pandas dataframe\n",
    "    col - A column that this transformation should be applied to\n",
    "    pre_calculated_replacement - a dict that maps between the current column values and the new column values\n",
    "    \n",
    "    Returns \n",
    "    None if replacement is provided otherwise:\n",
    "    replacement - a dict that maps between the current column values and the new column values\n",
    "    \"\"\"\n",
    "    if pre_calculated_replacement is None:\n",
    "        vals = df[col].sort_values().unique() # String categories with missing data. \n",
    "        replacement = generate_categorical_replacement_dict(vals)\n",
    "    else:\n",
    "        replacement = pre_calculated_replacement\n",
    "    df[col].replace(replacement, inplace=True)\n",
    "    if pre_calculated_replacement is None:\n",
    "        return replacement\n",
    "    else:\n",
    "        return None"
   ]
  },
  {
   "cell_type": "code",
   "execution_count": 20,
   "metadata": {},
   "outputs": [],
   "source": [
    "# convert these from categorial to numeric making sure the conversion is consistent between the datasets\n",
    "CAMEO_DEU_2015_replacements = categorical_to_numeric(azdias, 'CAMEO_DEU_2015')\n",
    "categorical_to_numeric(customers, 'CAMEO_DEU_2015', CAMEO_DEU_2015_replacements)\n",
    "OST_WEST_KZ_replacements = categorical_to_numeric(azdias, 'OST_WEST_KZ')\n",
    "categorical_to_numeric(customers, 'OST_WEST_KZ', OST_WEST_KZ_replacements)"
   ]
  },
  {
   "cell_type": "code",
   "execution_count": 21,
   "metadata": {},
   "outputs": [
    {
     "data": {
      "text/plain": [
       "Series([], dtype: object)"
      ]
     },
     "execution_count": 21,
     "metadata": {},
     "output_type": "execute_result"
    }
   ],
   "source": [
    "# double check we have all object columns treated\n",
    "azdias.dtypes[(azdias.dtypes != np.int64) & (azdias.dtypes != np.float64)]"
   ]
  },
  {
   "cell_type": "markdown",
   "metadata": {},
   "source": [
    "# Clean missing data"
   ]
  },
  {
   "cell_type": "code",
   "execution_count": 22,
   "metadata": {},
   "outputs": [
    {
     "data": {
      "text/plain": [
       "(0.6865045213000556, 0.5387380191693291)"
      ]
     },
     "execution_count": 22,
     "metadata": {},
     "output_type": "execute_result"
    }
   ],
   "source": [
    "# most rows contain some form of missing data!\n",
    "# dropping all rows with missing data would be fatal. \n",
    "(azdias.isnull().sum(axis=1) > 0).sum()/len(azdias), (customers.isnull().sum(axis=1) > 0).sum()/len(customers)"
   ]
  },
  {
   "cell_type": "code",
   "execution_count": 23,
   "metadata": {},
   "outputs": [],
   "source": [
    "def find_value_for_unknown(group):\n",
    "    \"\"\"\n",
    "    Takes a dataframe of Attributes Values and Meanings. \n",
    "    The meanings are parsed to find the Values that represent unkown or missing data.\n",
    "    If no unkown label exist, the minimum value in the group minus 1 is returned.\n",
    "    \n",
    "    Input - A dataframe (or dataframe group prodiced as part of a group by).\n",
    "    Output - a list of values that should be used to label unknowns within the dataframe.\n",
    "    \"\"\"\n",
    "    # all the labels indicating missing data\n",
    "    missing_meanings = ['unknown', 'unknown / no main age detectable', 'no transactions known', 'no transaction known']\n",
    "    # find all rows that contain a missing label or equivalent\n",
    "    missing_values = group[group['Meaning'].isin(missing_meanings)]['Value'].values\n",
    "    # if there is only 1 missing value check if it is a string\n",
    "    # sometimes there is more than 1 missing Value but its formatted as a string after reading the spreadsheet\n",
    "    if len(missing_values) == 1:\n",
    "        if type(missing_values[0]) == str:\n",
    "            # split the string and return all missing values as a list of ints\n",
    "            return [int(i) for i in missing_values[0].split(',')]\n",
    "    elif len(missing_values) > 1:\n",
    "        # There should not be more than 1 row with a missing label - should not happen so throw an error\n",
    "        raise ValueError('More than 1 row contains a missing definition.')\n",
    "    else:\n",
    "        pass\n",
    "    return missing_values\n",
    "\n",
    "missing_labels = attributes_filt.groupby('Attribute').apply(find_value_for_unknown)"
   ]
  },
  {
   "cell_type": "code",
   "execution_count": 24,
   "metadata": {},
   "outputs": [
    {
     "data": {
      "application/vnd.jupyter.widget-view+json": {
       "model_id": "e138405e3d694472b6a69731517997e0",
       "version_major": 2,
       "version_minor": 0
      },
      "text/plain": [
       "  0%|          | 0/307 [00:00<?, ?it/s]"
      ]
     },
     "metadata": {},
     "output_type": "display_data"
    }
   ],
   "source": [
    "# Calculate for each column in each dataset what % of the labels are the missing / unkown label\n",
    "azdias_missing = dict()\n",
    "customers_missing = dict()\n",
    "for c in tqdm(missing_labels.index):\n",
    "    if c in azdias.columns:\n",
    "        azdias_missing[c] = azdias[c].isin(missing_labels.loc[c]).sum()/len(azdias)\n",
    "    if c in customers.columns:\n",
    "        customers_missing[c] = customers[c].isin(missing_labels.loc[c]).sum()/len(customers)"
   ]
  },
  {
   "cell_type": "code",
   "execution_count": 25,
   "metadata": {},
   "outputs": [
    {
     "data": {
      "text/html": [
       "<div>\n",
       "<style scoped>\n",
       "    .dataframe tbody tr th:only-of-type {\n",
       "        vertical-align: middle;\n",
       "    }\n",
       "\n",
       "    .dataframe tbody tr th {\n",
       "        vertical-align: top;\n",
       "    }\n",
       "\n",
       "    .dataframe thead th {\n",
       "        text-align: right;\n",
       "    }\n",
       "</style>\n",
       "<table border=\"1\" class=\"dataframe\">\n",
       "  <thead>\n",
       "    <tr style=\"text-align: right;\">\n",
       "      <th></th>\n",
       "      <th>azdias_null</th>\n",
       "      <th>customers_null</th>\n",
       "      <th>azdias_missing</th>\n",
       "      <th>customers_missing</th>\n",
       "      <th>azdias_all</th>\n",
       "      <th>customers_all</th>\n",
       "    </tr>\n",
       "    <tr>\n",
       "      <th>features</th>\n",
       "      <th></th>\n",
       "      <th></th>\n",
       "      <th></th>\n",
       "      <th></th>\n",
       "      <th></th>\n",
       "      <th></th>\n",
       "    </tr>\n",
       "  </thead>\n",
       "  <tbody>\n",
       "    <tr>\n",
       "      <th>TITEL_KZ</th>\n",
       "      <td>0.025532</td>\n",
       "      <td>0.035643</td>\n",
       "      <td>0.971894</td>\n",
       "      <td>0.948975</td>\n",
       "      <td>0.997425</td>\n",
       "      <td>0.984618</td>\n",
       "    </tr>\n",
       "    <tr>\n",
       "      <th>D19_TELKO_ONLINE_DATUM</th>\n",
       "      <td>0.000000</td>\n",
       "      <td>0.000000</td>\n",
       "      <td>0.990222</td>\n",
       "      <td>0.985803</td>\n",
       "      <td>0.990222</td>\n",
       "      <td>0.985803</td>\n",
       "    </tr>\n",
       "    <tr>\n",
       "      <th>D19_BANKEN_LOKAL</th>\n",
       "      <td>0.000000</td>\n",
       "      <td>0.000000</td>\n",
       "      <td>0.980360</td>\n",
       "      <td>0.971359</td>\n",
       "      <td>0.980360</td>\n",
       "      <td>0.971359</td>\n",
       "    </tr>\n",
       "    <tr>\n",
       "      <th>D19_BANKEN_OFFLINE_DATUM</th>\n",
       "      <td>0.000000</td>\n",
       "      <td>0.000000</td>\n",
       "      <td>0.976534</td>\n",
       "      <td>0.950466</td>\n",
       "      <td>0.976534</td>\n",
       "      <td>0.950466</td>\n",
       "    </tr>\n",
       "    <tr>\n",
       "      <th>D19_TELKO_ANZ_12</th>\n",
       "      <td>0.000000</td>\n",
       "      <td>0.000000</td>\n",
       "      <td>0.960388</td>\n",
       "      <td>0.952210</td>\n",
       "      <td>0.960388</td>\n",
       "      <td>0.952210</td>\n",
       "    </tr>\n",
       "    <tr>\n",
       "      <th>D19_DIGIT_SERV</th>\n",
       "      <td>0.000000</td>\n",
       "      <td>0.000000</td>\n",
       "      <td>0.959996</td>\n",
       "      <td>0.946053</td>\n",
       "      <td>0.959996</td>\n",
       "      <td>0.946053</td>\n",
       "    </tr>\n",
       "    <tr>\n",
       "      <th>D19_BIO_OEKO</th>\n",
       "      <td>0.000000</td>\n",
       "      <td>0.000000</td>\n",
       "      <td>0.955720</td>\n",
       "      <td>0.886222</td>\n",
       "      <td>0.955720</td>\n",
       "      <td>0.886222</td>\n",
       "    </tr>\n",
       "    <tr>\n",
       "      <th>D19_TIERARTIKEL</th>\n",
       "      <td>0.000000</td>\n",
       "      <td>0.000000</td>\n",
       "      <td>0.953510</td>\n",
       "      <td>0.947730</td>\n",
       "      <td>0.953510</td>\n",
       "      <td>0.947730</td>\n",
       "    </tr>\n",
       "    <tr>\n",
       "      <th>D19_NAHRUNGSERGAENZUNG</th>\n",
       "      <td>0.000000</td>\n",
       "      <td>0.000000</td>\n",
       "      <td>0.953458</td>\n",
       "      <td>0.883320</td>\n",
       "      <td>0.953458</td>\n",
       "      <td>0.883320</td>\n",
       "    </tr>\n",
       "    <tr>\n",
       "      <th>D19_GARTEN</th>\n",
       "      <td>0.000000</td>\n",
       "      <td>0.000000</td>\n",
       "      <td>0.952802</td>\n",
       "      <td>0.922311</td>\n",
       "      <td>0.952802</td>\n",
       "      <td>0.922311</td>\n",
       "    </tr>\n",
       "  </tbody>\n",
       "</table>\n",
       "</div>"
      ],
      "text/plain": [
       "                          azdias_null  customers_null  azdias_missing  \\\n",
       "features                                                                \n",
       "TITEL_KZ                     0.025532        0.035643        0.971894   \n",
       "D19_TELKO_ONLINE_DATUM       0.000000        0.000000        0.990222   \n",
       "D19_BANKEN_LOKAL             0.000000        0.000000        0.980360   \n",
       "D19_BANKEN_OFFLINE_DATUM     0.000000        0.000000        0.976534   \n",
       "D19_TELKO_ANZ_12             0.000000        0.000000        0.960388   \n",
       "D19_DIGIT_SERV               0.000000        0.000000        0.959996   \n",
       "D19_BIO_OEKO                 0.000000        0.000000        0.955720   \n",
       "D19_TIERARTIKEL              0.000000        0.000000        0.953510   \n",
       "D19_NAHRUNGSERGAENZUNG       0.000000        0.000000        0.953458   \n",
       "D19_GARTEN                   0.000000        0.000000        0.952802   \n",
       "\n",
       "                          customers_missing  azdias_all  customers_all  \n",
       "features                                                                \n",
       "TITEL_KZ                           0.948975    0.997425       0.984618  \n",
       "D19_TELKO_ONLINE_DATUM             0.985803    0.990222       0.985803  \n",
       "D19_BANKEN_LOKAL                   0.971359    0.980360       0.971359  \n",
       "D19_BANKEN_OFFLINE_DATUM           0.950466    0.976534       0.950466  \n",
       "D19_TELKO_ANZ_12                   0.952210    0.960388       0.952210  \n",
       "D19_DIGIT_SERV                     0.946053    0.959996       0.946053  \n",
       "D19_BIO_OEKO                       0.886222    0.955720       0.886222  \n",
       "D19_TIERARTIKEL                    0.947730    0.953510       0.947730  \n",
       "D19_NAHRUNGSERGAENZUNG             0.883320    0.953458       0.883320  \n",
       "D19_GARTEN                         0.922311    0.952802       0.922311  "
      ]
     },
     "execution_count": 25,
     "metadata": {},
     "output_type": "execute_result"
    }
   ],
   "source": [
    "# combine the missing label data with the NAN / NULL % into a single dataframe (this will make plotting easier)\n",
    "all_data = pd.DataFrame(\n",
    "    [azdias.isnull().sum()/len(azdias), \n",
    "     customers.isnull().sum()/len(customers),\n",
    "     pd.Series(azdias_missing),\n",
    "     pd.Series(customers_missing)], \n",
    "    index=['azdias_null', 'customers_null', 'azdias_missing', 'customers_missing']\n",
    ").T\n",
    "all_data.index.name='features'\n",
    "all_data.fillna(0, inplace=True)\n",
    "\n",
    "all_data['azdias_all'] = all_data['azdias_null'] + all_data['azdias_missing']\n",
    "all_data['customers_all'] = all_data['customers_null'] + all_data['customers_missing']\n",
    "\n",
    "all_data.sort_values(by='azdias_all', ascending=False, inplace=True)\n",
    "all_data.head(10)"
   ]
  },
  {
   "cell_type": "code",
   "execution_count": 26,
   "metadata": {
    "scrolled": false
   },
   "outputs": [
    {
     "data": {
      "text/html": [
       "\n",
       "\n",
       "\n",
       "\n",
       "\n",
       "\n",
       "  <div class=\"bk-root\" id=\"60023cb3-cde9-4575-8207-0f52d7fe6509\" data-root-id=\"1003\"></div>\n"
      ]
     },
     "metadata": {},
     "output_type": "display_data"
    },
    {
     "data": {
      "application/javascript": [
       "(function(root) {\n",
       "  function embed_document(root) {\n",
       "    \n",
       "  var docs_json = {\"6728c2ec-c925-4c78-b556-41e74ad9e2d8\":{\"defs\":[],\"roots\":{\"references\":[{\"attributes\":{\"children\":[{\"id\":\"1006\"},{\"id\":\"1061\"},{\"id\":\"1116\"},{\"id\":\"1171\"},{\"id\":\"1226\"},{\"id\":\"1281\"},{\"id\":\"1336\"},{\"id\":\"1391\"},{\"id\":\"1446\"},{\"id\":\"1501\"}]},\"id\":\"1003\",\"type\":\"Column\"},{\"attributes\":{},\"id\":\"1260\",\"type\":\"UnionRenderers\"},{\"attributes\":{},\"id\":\"1261\",\"type\":\"Selection\"},{\"attributes\":{},\"id\":\"1095\",\"type\":\"UnionRenderers\"},{\"attributes\":{},\"id\":\"1096\",\"type\":\"Selection\"},{\"attributes\":{\"bottom\":{\"expr\":{\"id\":\"1246\"}},\"fill_alpha\":{\"value\":0.5},\"fill_color\":{\"value\":\"red\"},\"line_alpha\":{\"value\":0.5},\"line_color\":{\"value\":null},\"line_width\":{\"value\":0},\"top\":{\"expr\":{\"id\":\"1247\"}},\"width\":{\"value\":0.8},\"x\":{\"field\":\"x\"}},\"id\":\"1265\",\"type\":\"VBar\"},{\"attributes\":{\"below\":[{\"id\":\"1346\"}],\"center\":[{\"id\":\"1348\"},{\"id\":\"1352\"},{\"id\":\"1372\"}],\"height\":500,\"left\":[{\"id\":\"1349\"}],\"renderers\":[{\"id\":\"1361\"},{\"id\":\"1377\"}],\"title\":{\"id\":\"1337\"},\"toolbar\":{\"id\":\"1353\"},\"toolbar_location\":null,\"width\":950,\"x_range\":{\"id\":\"1335\"},\"x_scale\":{\"id\":\"1342\"},\"y_range\":{\"id\":\"1340\"},\"y_scale\":{\"id\":\"1344\"}},\"id\":\"1336\",\"subtype\":\"Figure\",\"type\":\"Plot\"},{\"attributes\":{\"source\":{\"id\":\"1224\"}},\"id\":\"1268\",\"type\":\"CDSView\"},{\"attributes\":{\"data_source\":{\"id\":\"1224\"},\"glyph\":{\"id\":\"1265\"},\"hover_glyph\":null,\"muted_glyph\":null,\"name\":\"missing\",\"nonselection_glyph\":{\"id\":\"1266\"},\"view\":{\"id\":\"1268\"}},\"id\":\"1267\",\"type\":\"GlyphRenderer\"},{\"attributes\":{},\"id\":\"1292\",\"type\":\"CategoricalTicker\"},{\"attributes\":{\"bottom\":{\"expr\":{\"id\":\"1246\"}},\"fill_alpha\":{\"value\":0.1},\"fill_color\":{\"value\":\"red\"},\"line_alpha\":{\"value\":0.1},\"line_color\":{\"value\":null},\"line_width\":{\"value\":0},\"top\":{\"expr\":{\"id\":\"1247\"}},\"width\":{\"value\":0.8},\"x\":{\"field\":\"x\"}},\"id\":\"1266\",\"type\":\"VBar\"},{\"attributes\":{\"label\":{\"value\":\"missing\"},\"renderers\":[{\"id\":\"1267\"}]},\"id\":\"1278\",\"type\":\"LegendItem\"},{\"attributes\":{\"bottom\":{\"expr\":{\"id\":\"1081\"}},\"fill_alpha\":{\"value\":0.5},\"fill_color\":{\"value\":\"red\"},\"line_alpha\":{\"value\":0.5},\"line_color\":{\"value\":null},\"line_width\":{\"value\":0},\"top\":{\"expr\":{\"id\":\"1082\"}},\"width\":{\"value\":0.8},\"x\":{\"field\":\"x\"}},\"id\":\"1100\",\"type\":\"VBar\"},{\"attributes\":{\"text\":\"Overview of missing data in datasets (plot 3 of 10)\"},\"id\":\"1117\",\"type\":\"Title\"},{\"attributes\":{\"factors\":[[\"KBA13_SEG_MITTELKLASSE\",\"azdias\"],[\"KBA13_SEG_MITTELKLASSE\",\"customers\"],[\"KBA13_SEG_MINIWAGEN\",\"azdias\"],[\"KBA13_SEG_MINIWAGEN\",\"customers\"],[\"KBA13_SEG_MINIVANS\",\"azdias\"],[\"KBA13_SEG_MINIVANS\",\"customers\"],[\"KBA13_SEG_KOMPAKTKLASSE\",\"azdias\"],[\"KBA13_SEG_KOMPAKTKLASSE\",\"customers\"],[\"KBA13_SEG_KLEINWAGEN\",\"azdias\"],[\"KBA13_SEG_KLEINWAGEN\",\"customers\"],[\"KBA13_SEG_KLEINST\",\"azdias\"],[\"KBA13_SEG_KLEINST\",\"customers\"],[\"KBA13_SEG_GROSSRAUMVANS\",\"azdias\"],[\"KBA13_SEG_GROSSRAUMVANS\",\"customers\"],[\"KBA13_SEG_GELAENDEWAGEN\",\"azdias\"],[\"KBA13_SEG_GELAENDEWAGEN\",\"customers\"],[\"KBA13_RENAULT\",\"azdias\"],[\"KBA13_RENAULT\",\"customers\"],[\"KBA13_KMH_140_210\",\"azdias\"],[\"KBA13_KMH_140_210\",\"customers\"],[\"KBA13_ANZAHL_PKW\",\"azdias\"],[\"KBA13_ANZAHL_PKW\",\"customers\"],[\"KBA13_KMH_110\",\"azdias\"],[\"KBA13_KMH_110\",\"customers\"],[\"KBA13_BJ_2008\",\"azdias\"],[\"KBA13_BJ_2008\",\"customers\"],[\"KBA13_CCM_2000\",\"azdias\"],[\"KBA13_CCM_2000\",\"customers\"],[\"KBA13_CCM_1800\",\"azdias\"],[\"KBA13_CCM_1800\",\"customers\"],[\"KBA13_CCM_1500\",\"azdias\"],[\"KBA13_CCM_1500\",\"customers\"],[\"KBA13_CCM_1401_2500\",\"azdias\"],[\"KBA13_CCM_1401_2500\",\"customers\"],[\"KBA13_CCM_1400\",\"azdias\"],[\"KBA13_CCM_1400\",\"customers\"],[\"KBA13_CCM_1200\",\"azdias\"],[\"KBA13_CCM_1200\",\"customers\"],[\"KBA13_CCM_1000\",\"azdias\"],[\"KBA13_CCM_1000\",\"customers\"],[\"KBA13_CCM_0_1400\",\"azdias\"],[\"KBA13_CCM_0_1400\",\"customers\"],[\"KBA13_BMW\",\"azdias\"],[\"KBA13_BMW\",\"customers\"],[\"KBA13_BJ_2009\",\"azdias\"],[\"KBA13_BJ_2009\",\"customers\"],[\"KBA13_BJ_2006\",\"azdias\"],[\"KBA13_BJ_2006\",\"customers\"],[\"KBA13_CCM_2501\",\"azdias\"],[\"KBA13_CCM_2501\",\"customers\"],[\"KBA13_BJ_2004\",\"azdias\"],[\"KBA13_BJ_2004\",\"customers\"],[\"KBA13_BJ_2000\",\"azdias\"],[\"KBA13_BJ_2000\",\"customers\"],[\"KBA13_BJ_1999\",\"azdias\"],[\"KBA13_BJ_1999\",\"customers\"],[\"KBA13_AUTOQUOTE\",\"azdias\"],[\"KBA13_AUTOQUOTE\",\"customers\"],[\"KBA13_AUDI\",\"azdias\"],[\"KBA13_AUDI\",\"customers\"],[\"KBA13_ALTERHALTER_61\",\"azdias\"],[\"KBA13_ALTERHALTER_61\",\"customers\"],[\"KBA13_ALTERHALTER_60\",\"azdias\"],[\"KBA13_ALTERHALTER_60\",\"customers\"]]},\"id\":\"1335\",\"type\":\"FactorRange\"},{\"attributes\":{\"data\":{\"missing\":[0.0,0.0,0.0,0.0,0.0,0.0,0.0,0.0,0.0,0.0,0.0,0.0,0.0,0.0,0.0,0.0,0.0,0.0,0.0,0.0,0.0,0.0,0.0,0.0,0.0,0.0,0.0,0.0,0.0,0.0,0.0,0.0,0.0,0.0,0.0,0.0,0.0,0.0,0.0,0.0,0.0,0.0,0.0,0.0,0.0,0.0,0.0,0.0,0.0,0.0,0.0,0.0,0.0,0.0,0.0,0.0,0.0,0.0,0.0,0.0,0.0,0.0,0.000189529846778827,0.00015308839190628329],\"null\":[0.06395142314266711,0.06677316293929712,0.06395142314266711,0.06677316293929712,0.06395142314266711,0.06677316293929712,0.06395142314266711,0.06677316293929712,0.06395142314266711,0.06677316293929712,0.06395142314266711,0.06677316293929712,0.06395142314266711,0.06677316293929712,0.06395142314266711,0.06677316293929712,0.06395142314266711,0.06677316293929712,0.06395142314266711,0.06677316293929712,0.06395142314266711,0.06677316293929712,0.06395142314266711,0.06677316293929712,0.06395142314266711,0.06677316293929712,0.06395142314266711,0.06677316293929712,0.06395142314266711,0.06677316293929712,0.06395142314266711,0.06677316293929712,0.06395142314266711,0.06677316293929712,0.06395142314266711,0.06677316293929712,0.06395142314266711,0.06677316293929712,0.06395142314266711,0.06677316293929712,0.06395142314266711,0.06677316293929712,0.06395142314266711,0.06677316293929712,0.06395142314266711,0.06677316293929712,0.06395142314266711,0.06677316293929712,0.06395142314266711,0.06677316293929712,0.06395142314266711,0.06677316293929712,0.06395142314266711,0.06677316293929712,0.06395142314266711,0.06677316293929712,0.056272484319087206,0.0619542066027689,0.056272484319087206,0.0619542066027689,0.056272484319087206,0.0619542066027689,0.05373111555598998,0.06144834930777423],\"x\":[[\"KBA13_ALTERHALTER_45\",\"azdias\"],[\"KBA13_ALTERHALTER_45\",\"customers\"],[\"KBA13_ALTERHALTER_30\",\"azdias\"],[\"KBA13_ALTERHALTER_30\",\"customers\"],[\"KBA13_KMH_0_140\",\"azdias\"],[\"KBA13_KMH_0_140\",\"customers\"],[\"KBA13_CCM_2500\",\"azdias\"],[\"KBA13_CCM_2500\",\"customers\"],[\"KBA13_CCM_1600\",\"azdias\"],[\"KBA13_CCM_1600\",\"customers\"],[\"KBA13_CCM_3000\",\"azdias\"],[\"KBA13_CCM_3000\",\"customers\"],[\"KBA13_HALTER_50\",\"azdias\"],[\"KBA13_HALTER_50\",\"customers\"],[\"KBA13_HERST_SONST\",\"azdias\"],[\"KBA13_HERST_SONST\",\"customers\"],[\"KBA13_HERST_FORD_OPEL\",\"azdias\"],[\"KBA13_HERST_FORD_OPEL\",\"customers\"],[\"KBA13_HERST_EUROPA\",\"azdias\"],[\"KBA13_HERST_EUROPA\",\"customers\"],[\"KBA13_HERST_BMW_BENZ\",\"azdias\"],[\"KBA13_HERST_BMW_BENZ\",\"customers\"],[\"KBA13_HERST_AUDI_VW\",\"azdias\"],[\"KBA13_HERST_AUDI_VW\",\"customers\"],[\"KBA13_HERST_ASIEN\",\"azdias\"],[\"KBA13_HERST_ASIEN\",\"customers\"],[\"KBA13_HALTER_66\",\"azdias\"],[\"KBA13_HALTER_66\",\"customers\"],[\"KBA13_CCM_3001\",\"azdias\"],[\"KBA13_CCM_3001\",\"customers\"],[\"KBA13_HALTER_60\",\"azdias\"],[\"KBA13_HALTER_60\",\"customers\"],[\"KBA13_HALTER_55\",\"azdias\"],[\"KBA13_HALTER_55\",\"customers\"],[\"KBA13_HALTER_65\",\"azdias\"],[\"KBA13_HALTER_65\",\"customers\"],[\"KBA13_HALTER_45\",\"azdias\"],[\"KBA13_HALTER_45\",\"customers\"],[\"KBA13_HALTER_35\",\"azdias\"],[\"KBA13_HALTER_35\",\"customers\"],[\"KBA13_HALTER_30\",\"azdias\"],[\"KBA13_HALTER_30\",\"customers\"],[\"KBA13_HALTER_25\",\"azdias\"],[\"KBA13_HALTER_25\",\"customers\"],[\"KBA13_HALTER_20\",\"azdias\"],[\"KBA13_HALTER_20\",\"customers\"],[\"KBA13_FORD\",\"azdias\"],[\"KBA13_FORD\",\"customers\"],[\"KBA13_FIAT\",\"azdias\"],[\"KBA13_FIAT\",\"customers\"],[\"KBA13_FAB_SONSTIGE\",\"azdias\"],[\"KBA13_FAB_SONSTIGE\",\"customers\"],[\"KBA13_HALTER_40\",\"azdias\"],[\"KBA13_HALTER_40\",\"customers\"],[\"KBA13_FAB_ASIEN\",\"azdias\"],[\"KBA13_FAB_ASIEN\",\"customers\"],[\"CAMEO_DEU_2015\",\"azdias\"],[\"CAMEO_DEU_2015\",\"customers\"],[\"CAMEO_INTL_2015\",\"azdias\"],[\"CAMEO_INTL_2015\",\"customers\"],[\"CAMEO_DEUG_2015\",\"azdias\"],[\"CAMEO_DEUG_2015\",\"customers\"],[\"RELAT_AB\",\"azdias\"],[\"RELAT_AB\",\"customers\"]]},\"selected\":{\"id\":\"1426\"},\"selection_policy\":{\"id\":\"1425\"}},\"id\":\"1389\",\"type\":\"ColumnDataSource\"},{\"attributes\":{\"fields\":[\"null\"]},\"id\":\"1136\",\"type\":\"Stack\"},{\"attributes\":{\"text\":\"Overview of missing data in datasets (plot 6 of 10)\"},\"id\":\"1282\",\"type\":\"Title\"},{\"attributes\":{\"source\":{\"id\":\"1059\"}},\"id\":\"1103\",\"type\":\"CDSView\"},{\"attributes\":{\"fields\":[]},\"id\":\"1299\",\"type\":\"Stack\"},{\"attributes\":{\"data_source\":{\"id\":\"1059\"},\"glyph\":{\"id\":\"1100\"},\"hover_glyph\":null,\"muted_glyph\":null,\"name\":\"missing\",\"nonselection_glyph\":{\"id\":\"1101\"},\"view\":{\"id\":\"1103\"}},\"id\":\"1102\",\"type\":\"GlyphRenderer\"},{\"attributes\":{\"end\":1.05,\"start\":0},\"id\":\"1285\",\"type\":\"DataRange1d\"},{\"attributes\":{\"formatter\":{\"id\":\"1310\"},\"group_label_orientation\":1.5707963267948966,\"major_label_orientation\":1.5707963267948966,\"major_label_policy\":{\"id\":\"1311\"},\"ticker\":{\"id\":\"1292\"}},\"id\":\"1291\",\"type\":\"CategoricalAxis\"},{\"attributes\":{\"fields\":[\"null\",\"missing\"]},\"id\":\"1137\",\"type\":\"Stack\"},{\"attributes\":{},\"id\":\"1289\",\"type\":\"LinearScale\"},{\"attributes\":{\"bottom\":{\"expr\":{\"id\":\"1081\"}},\"fill_alpha\":{\"value\":0.1},\"fill_color\":{\"value\":\"red\"},\"line_alpha\":{\"value\":0.1},\"line_color\":{\"value\":null},\"line_width\":{\"value\":0},\"top\":{\"expr\":{\"id\":\"1082\"}},\"width\":{\"value\":0.8},\"x\":{\"field\":\"x\"}},\"id\":\"1101\",\"type\":\"VBar\"},{\"attributes\":{\"formatter\":{\"id\":\"1313\"},\"major_label_policy\":{\"id\":\"1314\"},\"ticker\":{\"id\":\"1295\"}},\"id\":\"1294\",\"type\":\"LinearAxis\"},{\"attributes\":{\"data\":{\"missing\":[0.0,0.0,0.0,1.3312034078807241e-05,0.0,0.0,0.0,0.0,0.0,0.0,0.0,0.0,0.0,0.0,0.0,0.0,0.0,0.0,0.0,0.0,0.0704359663280559,0.05156416400425985,0.0704359663280559,0.05156416400425985,0.0704359663280559,0.05156416400425985,0.020046059328802098,0.008592917997870075,0.06700178086535276,0.04996671991480298,0.06670377796161246,0.04822949946751864,0.0,0.0,0.0,0.0,0.0,0.0,0.0,0.0,0.0,0.0,0.0,0.0,0.0,0.0,0.0,0.0,0.0,0.0,0.0,0.0,0.0,0.0,0.0,0.0,0.0,0.0,0.0,0.0,0.0,0.0,0.0,0.0],\"null\":[0.09677107893739316,0.09803647497337593,0.09677107893739316,0.09803647497337593,0.09677107893739316,0.09803647497337593,0.0767238275969761,0.07663738019169329,0.0767238275969761,0.07663738019169329,0.0767238275969761,0.07663738019169329,0.0767238275969761,0.07663738019169329,0.0767238275969761,0.07663738019169329,0.0767238275969761,0.07663738019169329,0.0767238275969761,0.07663738019169329,0.0,0.0,0.0,0.0,0.0,0.0,0.04888320431794287,0.05780085197018105,0.0,0.0,0.0,0.0,0.06395142314266711,0.06677316293929712,0.06395142314266711,0.06677316293929712,0.06395142314266711,0.06677316293929712,0.06395142314266711,0.06677316293929712,0.06395142314266711,0.06677316293929712,0.06395142314266711,0.06677316293929712,0.06395142314266711,0.06677316293929712,0.06395142314266711,0.06677316293929712,0.06395142314266711,0.06677316293929712,0.06395142314266711,0.06677316293929712,0.06395142314266711,0.06677316293929712,0.06395142314266711,0.06677316293929712,0.06395142314266711,0.06677316293929712,0.06395142314266711,0.06677316293929712,0.06395142314266711,0.06677316293929712,0.06395142314266711,0.06677316293929712],\"x\":[[\"KBA05_ANTG4\",\"azdias\"],[\"KBA05_ANTG4\",\"customers\"],[\"KBA05_GBZ\",\"azdias\"],[\"KBA05_GBZ\",\"customers\"],[\"KBA05_ANTG2\",\"azdias\"],[\"KBA05_ANTG2\",\"customers\"],[\"PLZ8_HHZ\",\"azdias\"],[\"PLZ8_HHZ\",\"customers\"],[\"PLZ8_ANTG3\",\"azdias\"],[\"PLZ8_ANTG3\",\"customers\"],[\"PLZ8_ANTG4\",\"azdias\"],[\"PLZ8_ANTG4\",\"customers\"],[\"PLZ8_BAUMAX\",\"azdias\"],[\"PLZ8_BAUMAX\",\"customers\"],[\"PLZ8_GBZ\",\"azdias\"],[\"PLZ8_GBZ\",\"customers\"],[\"PLZ8_ANTG1\",\"azdias\"],[\"PLZ8_ANTG1\",\"customers\"],[\"PLZ8_ANTG2\",\"azdias\"],[\"PLZ8_ANTG2\",\"customers\"],[\"HEALTH_TYP\",\"azdias\"],[\"HEALTH_TYP\",\"customers\"],[\"VERS_TYP\",\"azdias\"],[\"VERS_TYP\",\"customers\"],[\"SHOPPER_TYP\",\"azdias\"],[\"SHOPPER_TYP\",\"customers\"],[\"KBA05_HERSTTEMP\",\"azdias\"],[\"KBA05_HERSTTEMP\",\"customers\"],[\"NATIONALITAET_KZ\",\"azdias\"],[\"NATIONALITAET_KZ\",\"customers\"],[\"PRAEGENDE_JUGENDJAHRE\",\"azdias\"],[\"PRAEGENDE_JUGENDJAHRE\",\"customers\"],[\"KBA13_NISSAN\",\"azdias\"],[\"KBA13_NISSAN\",\"customers\"],[\"KBA13_KRSSEG_KLEIN\",\"azdias\"],[\"KBA13_KRSSEG_KLEIN\",\"customers\"],[\"KBA13_MERCEDES\",\"azdias\"],[\"KBA13_MERCEDES\",\"customers\"],[\"KBA13_MAZDA\",\"azdias\"],[\"KBA13_MAZDA\",\"customers\"],[\"KBA13_KW_90\",\"azdias\"],[\"KBA13_KW_90\",\"customers\"],[\"KBA13_KW_80\",\"azdias\"],[\"KBA13_KW_80\",\"customers\"],[\"KBA13_KW_70\",\"azdias\"],[\"KBA13_KW_70\",\"customers\"],[\"KBA13_KW_61_120\",\"azdias\"],[\"KBA13_KW_61_120\",\"customers\"],[\"KBA13_KW_60\",\"azdias\"],[\"KBA13_KW_60\",\"customers\"],[\"KBA13_KW_50\",\"azdias\"],[\"KBA13_KW_50\",\"customers\"],[\"KBA13_KW_40\",\"azdias\"],[\"KBA13_KW_40\",\"customers\"],[\"KBA13_KW_30\",\"azdias\"],[\"KBA13_KW_30\",\"customers\"],[\"KBA13_KW_121\",\"azdias\"],[\"KBA13_KW_121\",\"customers\"],[\"KBA13_KW_120\",\"azdias\"],[\"KBA13_KW_120\",\"customers\"],[\"KBA13_KW_110\",\"azdias\"],[\"KBA13_KW_110\",\"customers\"],[\"KBA13_KW_0_60\",\"azdias\"],[\"KBA13_KW_0_60\",\"customers\"]]},\"selected\":{\"id\":\"1261\"},\"selection_policy\":{\"id\":\"1260\"}},\"id\":\"1224\",\"type\":\"ColumnDataSource\"},{\"attributes\":{},\"id\":\"1287\",\"type\":\"CategoricalScale\"},{\"attributes\":{\"label\":{\"value\":\"missing\"},\"renderers\":[{\"id\":\"1102\"}]},\"id\":\"1113\",\"type\":\"LegendItem\"},{\"attributes\":{\"axis\":{\"id\":\"1291\"},\"grid_line_color\":null,\"ticker\":null},\"id\":\"1293\",\"type\":\"Grid\"},{\"attributes\":{\"axis\":{\"id\":\"1294\"},\"dimension\":1,\"ticker\":null},\"id\":\"1297\",\"type\":\"Grid\"},{\"attributes\":{},\"id\":\"1295\",\"type\":\"BasicTicker\"},{\"attributes\":{\"active_multi\":null},\"id\":\"1298\",\"type\":\"Toolbar\"},{\"attributes\":{\"bottom\":{\"expr\":{\"id\":\"1301\"}},\"fill_alpha\":{\"value\":0.1},\"fill_color\":{\"value\":\"red\"},\"line_alpha\":{\"value\":0.1},\"line_color\":{\"value\":null},\"line_width\":{\"value\":0},\"top\":{\"expr\":{\"id\":\"1302\"}},\"width\":{\"value\":0.8},\"x\":{\"field\":\"x\"}},\"id\":\"1321\",\"type\":\"VBar\"},{\"attributes\":{\"bottom\":{\"expr\":{\"id\":\"1299\"}},\"fill_alpha\":{\"value\":0.5},\"fill_color\":{\"value\":\"blue\"},\"line_alpha\":{\"value\":0.5},\"line_color\":{\"value\":null},\"line_width\":{\"value\":0},\"top\":{\"expr\":{\"id\":\"1300\"}},\"width\":{\"value\":0.8},\"x\":{\"field\":\"x\"}},\"id\":\"1304\",\"type\":\"VBar\"},{\"attributes\":{\"fields\":[\"null\"]},\"id\":\"1300\",\"type\":\"Stack\"},{\"attributes\":{\"label\":{\"value\":\"missing\"},\"renderers\":[{\"id\":\"1322\"}]},\"id\":\"1333\",\"type\":\"LegendItem\"},{\"attributes\":{\"data_source\":{\"id\":\"1279\"},\"glyph\":{\"id\":\"1320\"},\"hover_glyph\":null,\"muted_glyph\":null,\"name\":\"missing\",\"nonselection_glyph\":{\"id\":\"1321\"},\"view\":{\"id\":\"1323\"}},\"id\":\"1322\",\"type\":\"GlyphRenderer\"},{\"attributes\":{\"fields\":[\"null\",\"missing\"]},\"id\":\"1302\",\"type\":\"Stack\"},{\"attributes\":{\"fields\":[\"null\"]},\"id\":\"1301\",\"type\":\"Stack\"},{\"attributes\":{\"source\":{\"id\":\"1279\"}},\"id\":\"1323\",\"type\":\"CDSView\"},{\"attributes\":{},\"id\":\"1205\",\"type\":\"UnionRenderers\"},{\"attributes\":{},\"id\":\"1206\",\"type\":\"Selection\"},{\"attributes\":{\"factors\":[[\"CUSTOMER_GROUP\",\"azdias\"],[\"CUSTOMER_GROUP\",\"customers\"],[\"SEMIO_RAT\",\"azdias\"],[\"SEMIO_RAT\",\"customers\"],[\"PRODUCT_GROUP\",\"azdias\"],[\"PRODUCT_GROUP\",\"customers\"],[\"ZABEOTYP\",\"azdias\"],[\"ZABEOTYP\",\"customers\"],[\"ANREDE_KZ\",\"azdias\"],[\"ANREDE_KZ\",\"customers\"],[\"SEMIO_REL\",\"azdias\"],[\"SEMIO_REL\",\"customers\"],[\"SEMIO_ERL\",\"azdias\"],[\"SEMIO_ERL\",\"customers\"],[\"SEMIO_PFLICHT\",\"azdias\"],[\"SEMIO_PFLICHT\",\"customers\"],[\"SEMIO_MAT\",\"azdias\"],[\"SEMIO_MAT\",\"customers\"],[\"FINANZ_UNAUFFAELLIGER\",\"azdias\"],[\"FINANZ_UNAUFFAELLIGER\",\"customers\"],[\"FINANZ_SPARER\",\"azdias\"],[\"FINANZ_SPARER\",\"customers\"],[\"FINANZ_VORSORGER\",\"azdias\"],[\"FINANZ_VORSORGER\",\"customers\"],[\"FINANZ_MINIMALIST\",\"azdias\"],[\"FINANZ_MINIMALIST\",\"customers\"],[\"FINANZ_HAUSBAUER\",\"azdias\"],[\"FINANZ_HAUSBAUER\",\"customers\"],[\"FINANZ_ANLEGER\",\"azdias\"],[\"FINANZ_ANLEGER\",\"customers\"],[\"FINANZTYP\",\"azdias\"],[\"FINANZTYP\",\"customers\"],[\"GEBURTSJAHR\",\"azdias\"],[\"GEBURTSJAHR\",\"customers\"],[\"GREEN_AVANTGARDE\",\"azdias\"],[\"GREEN_AVANTGARDE\",\"customers\"],[\"SEMIO_DOM\",\"azdias\"],[\"SEMIO_DOM\",\"customers\"],[\"SEMIO_FAM\",\"azdias\"],[\"SEMIO_FAM\",\"customers\"],[\"SEMIO_KAEM\",\"azdias\"],[\"SEMIO_KAEM\",\"customers\"],[\"SEMIO_KRIT\",\"azdias\"],[\"SEMIO_KRIT\",\"customers\"],[\"SEMIO_KULT\",\"azdias\"],[\"SEMIO_KULT\",\"customers\"],[\"SEMIO_LUST\",\"azdias\"],[\"SEMIO_LUST\",\"customers\"],[\"ONLINE_PURCHASE\",\"azdias\"],[\"ONLINE_PURCHASE\",\"customers\"]]},\"id\":\"1500\",\"type\":\"FactorRange\"},{\"attributes\":{\"fields\":[]},\"id\":\"1464\",\"type\":\"Stack\"},{\"attributes\":{},\"id\":\"1457\",\"type\":\"CategoricalTicker\"},{\"attributes\":{},\"id\":\"1535\",\"type\":\"UnionRenderers\"},{\"attributes\":{\"below\":[{\"id\":\"1511\"}],\"center\":[{\"id\":\"1513\"},{\"id\":\"1517\"},{\"id\":\"1537\"}],\"height\":500,\"left\":[{\"id\":\"1514\"}],\"renderers\":[{\"id\":\"1526\"},{\"id\":\"1542\"}],\"title\":{\"id\":\"1502\"},\"toolbar\":{\"id\":\"1518\"},\"toolbar_location\":null,\"width\":950,\"x_range\":{\"id\":\"1500\"},\"x_scale\":{\"id\":\"1507\"},\"y_range\":{\"id\":\"1505\"},\"y_scale\":{\"id\":\"1509\"}},\"id\":\"1501\",\"subtype\":\"Figure\",\"type\":\"Plot\"},{\"attributes\":{\"text\":\"Overview of missing data in datasets (plot 9 of 10)\"},\"id\":\"1447\",\"type\":\"Title\"},{\"attributes\":{\"end\":1.05,\"start\":0},\"id\":\"1450\",\"type\":\"DataRange1d\"},{\"attributes\":{},\"id\":\"1536\",\"type\":\"Selection\"},{\"attributes\":{\"formatter\":{\"id\":\"1475\"},\"group_label_orientation\":1.5707963267948966,\"major_label_orientation\":1.5707963267948966,\"major_label_policy\":{\"id\":\"1476\"},\"ticker\":{\"id\":\"1457\"}},\"id\":\"1456\",\"type\":\"CategoricalAxis\"},{\"attributes\":{},\"id\":\"1454\",\"type\":\"LinearScale\"},{\"attributes\":{\"formatter\":{\"id\":\"1478\"},\"major_label_policy\":{\"id\":\"1479\"},\"ticker\":{\"id\":\"1460\"}},\"id\":\"1459\",\"type\":\"LinearAxis\"},{\"attributes\":{},\"id\":\"1452\",\"type\":\"CategoricalScale\"},{\"attributes\":{\"axis\":{\"id\":\"1456\"},\"grid_line_color\":null,\"ticker\":null},\"id\":\"1458\",\"type\":\"Grid\"},{\"attributes\":{\"axis\":{\"id\":\"1459\"},\"dimension\":1,\"ticker\":null},\"id\":\"1462\",\"type\":\"Grid\"},{\"attributes\":{},\"id\":\"1460\",\"type\":\"BasicTicker\"},{\"attributes\":{\"factors\":[[\"KBA13_ALTERHALTER_45\",\"azdias\"],[\"KBA13_ALTERHALTER_45\",\"customers\"],[\"KBA13_ALTERHALTER_30\",\"azdias\"],[\"KBA13_ALTERHALTER_30\",\"customers\"],[\"KBA13_KMH_0_140\",\"azdias\"],[\"KBA13_KMH_0_140\",\"customers\"],[\"KBA13_CCM_2500\",\"azdias\"],[\"KBA13_CCM_2500\",\"customers\"],[\"KBA13_CCM_1600\",\"azdias\"],[\"KBA13_CCM_1600\",\"customers\"],[\"KBA13_CCM_3000\",\"azdias\"],[\"KBA13_CCM_3000\",\"customers\"],[\"KBA13_HALTER_50\",\"azdias\"],[\"KBA13_HALTER_50\",\"customers\"],[\"KBA13_HERST_SONST\",\"azdias\"],[\"KBA13_HERST_SONST\",\"customers\"],[\"KBA13_HERST_FORD_OPEL\",\"azdias\"],[\"KBA13_HERST_FORD_OPEL\",\"customers\"],[\"KBA13_HERST_EUROPA\",\"azdias\"],[\"KBA13_HERST_EUROPA\",\"customers\"],[\"KBA13_HERST_BMW_BENZ\",\"azdias\"],[\"KBA13_HERST_BMW_BENZ\",\"customers\"],[\"KBA13_HERST_AUDI_VW\",\"azdias\"],[\"KBA13_HERST_AUDI_VW\",\"customers\"],[\"KBA13_HERST_ASIEN\",\"azdias\"],[\"KBA13_HERST_ASIEN\",\"customers\"],[\"KBA13_HALTER_66\",\"azdias\"],[\"KBA13_HALTER_66\",\"customers\"],[\"KBA13_CCM_3001\",\"azdias\"],[\"KBA13_CCM_3001\",\"customers\"],[\"KBA13_HALTER_60\",\"azdias\"],[\"KBA13_HALTER_60\",\"customers\"],[\"KBA13_HALTER_55\",\"azdias\"],[\"KBA13_HALTER_55\",\"customers\"],[\"KBA13_HALTER_65\",\"azdias\"],[\"KBA13_HALTER_65\",\"customers\"],[\"KBA13_HALTER_45\",\"azdias\"],[\"KBA13_HALTER_45\",\"customers\"],[\"KBA13_HALTER_35\",\"azdias\"],[\"KBA13_HALTER_35\",\"customers\"],[\"KBA13_HALTER_30\",\"azdias\"],[\"KBA13_HALTER_30\",\"customers\"],[\"KBA13_HALTER_25\",\"azdias\"],[\"KBA13_HALTER_25\",\"customers\"],[\"KBA13_HALTER_20\",\"azdias\"],[\"KBA13_HALTER_20\",\"customers\"],[\"KBA13_FORD\",\"azdias\"],[\"KBA13_FORD\",\"customers\"],[\"KBA13_FIAT\",\"azdias\"],[\"KBA13_FIAT\",\"customers\"],[\"KBA13_FAB_SONSTIGE\",\"azdias\"],[\"KBA13_FAB_SONSTIGE\",\"customers\"],[\"KBA13_HALTER_40\",\"azdias\"],[\"KBA13_HALTER_40\",\"customers\"],[\"KBA13_FAB_ASIEN\",\"azdias\"],[\"KBA13_FAB_ASIEN\",\"customers\"],[\"CAMEO_DEU_2015\",\"azdias\"],[\"CAMEO_DEU_2015\",\"customers\"],[\"CAMEO_INTL_2015\",\"azdias\"],[\"CAMEO_INTL_2015\",\"customers\"],[\"CAMEO_DEUG_2015\",\"azdias\"],[\"CAMEO_DEUG_2015\",\"customers\"],[\"RELAT_AB\",\"azdias\"],[\"RELAT_AB\",\"customers\"]]},\"id\":\"1390\",\"type\":\"FactorRange\"},{\"attributes\":{\"active_multi\":null},\"id\":\"1463\",\"type\":\"Toolbar\"},{\"attributes\":{\"bottom\":{\"expr\":{\"id\":\"1191\"}},\"fill_alpha\":{\"value\":0.5},\"fill_color\":{\"value\":\"red\"},\"line_alpha\":{\"value\":0.5},\"line_color\":{\"value\":null},\"line_width\":{\"value\":0},\"top\":{\"expr\":{\"id\":\"1192\"}},\"width\":{\"value\":0.8},\"x\":{\"field\":\"x\"}},\"id\":\"1210\",\"type\":\"VBar\"},{\"attributes\":{},\"id\":\"1347\",\"type\":\"CategoricalTicker\"},{\"attributes\":{\"fields\":[\"null\",\"missing\"]},\"id\":\"1467\",\"type\":\"Stack\"},{\"attributes\":{\"below\":[{\"id\":\"1291\"}],\"center\":[{\"id\":\"1293\"},{\"id\":\"1297\"},{\"id\":\"1317\"}],\"height\":500,\"left\":[{\"id\":\"1294\"}],\"renderers\":[{\"id\":\"1306\"},{\"id\":\"1322\"}],\"title\":{\"id\":\"1282\"},\"toolbar\":{\"id\":\"1298\"},\"toolbar_location\":null,\"width\":950,\"x_range\":{\"id\":\"1280\"},\"x_scale\":{\"id\":\"1287\"},\"y_range\":{\"id\":\"1285\"},\"y_scale\":{\"id\":\"1289\"}},\"id\":\"1281\",\"subtype\":\"Figure\",\"type\":\"Plot\"},{\"attributes\":{\"data\":{\"missing\":[0.0,0.0,0.0,0.0,0.0,0.0,0.0,0.0,0.0,0.0,0.0,0.0,0.0,0.0,0.0,0.0,0.0,0.0,0.0,0.0,0.0,0.0,0.0,0.0,0.0,0.0,0.0,0.0,0.0,0.0,0.0,0.0,0.0,0.0,0.0,0.0,0.0,0.0,0.0,0.0,0.0,0.0,0.0,0.0,0.0,0.0,0.0,0.0,0.0,0.0,0.0,0.0,0.0,0.0,0.0,0.0,0.0,0.0,0.0,0.0,0.0,0.0,0.0,0.0],\"null\":[0.05373111555598998,0.06144834930777423,0.053484369151693016,0.07231096911608094,0.04958887519399989,0.05801384451544196,0.04958887519399989,0.05801384451544196,0.04958887519399989,0.05801384451544196,0.0488915483992476,0.05780085197018105,0.04888320431794287,0.05780085197018105,0.04888320431794287,0.05780085197018105,0.04888320431794287,0.05780085197018105,0.04888320431794287,0.05780085197018105,0.04888320431794287,0.05780085197018105,0.04888320431794287,0.05780085197018105,0.026089558216655262,0.03600905218317359,0.025531696780853434,0.03564297124600639,0.025531696780853434,0.03564297124600639,0.025531696780853434,0.03564297124600639,0.025531696780853434,0.03564297124600639,0.02180070042602495,0.01974174653887114,0.005786024379021549,0.021385782747603835,0.005786024379021549,0.021385782747603835,0.005786024379021549,0.021385782747603835,0.005786024379021549,0.021385782747603835,0.005786024379021549,0.021385782747603835,0.005786024379021549,0.021385782747603835,0.005786024379021549,0.021385782747603835,0.005786024379021549,0.021385782747603835,0.005786024379021549,0.021385782747603835,0.005786024379021549,0.021385782747603835,0.0,0.0,0.0,0.0,0.0,0.0,0.0,0.0],\"x\":[[\"ORTSGR_KLS9\",\"azdias\"],[\"ORTSGR_KLS9\",\"customers\"],[\"ANZ_HH_TITEL\",\"azdias\"],[\"ANZ_HH_TITEL\",\"customers\"],[\"BALLRAUM\",\"azdias\"],[\"BALLRAUM\",\"customers\"],[\"INNENSTADT\",\"azdias\"],[\"INNENSTADT\",\"customers\"],[\"EWDICHTE\",\"azdias\"],[\"EWDICHTE\",\"customers\"],[\"GEBAEUDETYP_RASTER\",\"azdias\"],[\"GEBAEUDETYP_RASTER\",\"customers\"],[\"OST_WEST_KZ\",\"azdias\"],[\"OST_WEST_KZ\",\"customers\"],[\"KBA05_MODTEMP\",\"azdias\"],[\"KBA05_MODTEMP\",\"customers\"],[\"ANZ_HAUSHALTE_AKTIV\",\"azdias\"],[\"ANZ_HAUSHALTE_AKTIV\",\"customers\"],[\"MIN_GEBAEUDEJAHR\",\"azdias\"],[\"MIN_GEBAEUDEJAHR\",\"customers\"],[\"GEBAEUDETYP\",\"azdias\"],[\"GEBAEUDETYP\",\"customers\"],[\"WOHNLAGE\",\"azdias\"],[\"WOHNLAGE\",\"customers\"],[\"KONSUMNAEHE\",\"azdias\"],[\"KONSUMNAEHE\",\"customers\"],[\"ANZ_TITEL\",\"azdias\"],[\"ANZ_TITEL\",\"customers\"],[\"SOHO_KZ\",\"azdias\"],[\"SOHO_KZ\",\"customers\"],[\"ANZ_PERSONEN\",\"azdias\"],[\"ANZ_PERSONEN\",\"customers\"],[\"WOHNDAUER_2008\",\"azdias\"],[\"WOHNDAUER_2008\",\"customers\"],[\"HH_EINKOMMEN_SCORE\",\"azdias\"],[\"HH_EINKOMMEN_SCORE\",\"customers\"],[\"LP_STATUS_FEIN\",\"azdias\"],[\"LP_STATUS_FEIN\",\"customers\"],[\"LP_FAMILIE_FEIN\",\"azdias\"],[\"LP_FAMILIE_FEIN\",\"customers\"],[\"LP_FAMILIE_GROB\",\"azdias\"],[\"LP_FAMILIE_GROB\",\"customers\"],[\"CJT_GESAMTTYP\",\"azdias\"],[\"CJT_GESAMTTYP\",\"customers\"],[\"LP_LEBENSPHASE_FEIN\",\"azdias\"],[\"LP_LEBENSPHASE_FEIN\",\"customers\"],[\"LP_STATUS_GROB\",\"azdias\"],[\"LP_STATUS_GROB\",\"customers\"],[\"GFK_URLAUBERTYP\",\"azdias\"],[\"GFK_URLAUBERTYP\",\"customers\"],[\"ONLINE_AFFINITAET\",\"azdias\"],[\"ONLINE_AFFINITAET\",\"customers\"],[\"RETOURTYP_BK_S\",\"azdias\"],[\"RETOURTYP_BK_S\",\"customers\"],[\"LP_LEBENSPHASE_GROB\",\"azdias\"],[\"LP_LEBENSPHASE_GROB\",\"customers\"],[\"SEMIO_SOZ\",\"azdias\"],[\"SEMIO_SOZ\",\"customers\"],[\"SEMIO_TRADV\",\"azdias\"],[\"SEMIO_TRADV\",\"customers\"],[\"SEMIO_VERT\",\"azdias\"],[\"SEMIO_VERT\",\"customers\"],[\"ALTERSKATEGORIE_GROB\",\"azdias\"],[\"ALTERSKATEGORIE_GROB\",\"customers\"]]},\"selected\":{\"id\":\"1481\"},\"selection_policy\":{\"id\":\"1480\"}},\"id\":\"1444\",\"type\":\"ColumnDataSource\"},{\"attributes\":{\"fields\":[\"null\"]},\"id\":\"1465\",\"type\":\"Stack\"},{\"attributes\":{\"below\":[{\"id\":\"1401\"}],\"center\":[{\"id\":\"1403\"},{\"id\":\"1407\"},{\"id\":\"1427\"}],\"height\":500,\"left\":[{\"id\":\"1404\"}],\"renderers\":[{\"id\":\"1416\"},{\"id\":\"1432\"}],\"title\":{\"id\":\"1392\"},\"toolbar\":{\"id\":\"1408\"},\"toolbar_location\":null,\"width\":950,\"x_range\":{\"id\":\"1390\"},\"x_scale\":{\"id\":\"1397\"},\"y_range\":{\"id\":\"1395\"},\"y_scale\":{\"id\":\"1399\"}},\"id\":\"1391\",\"subtype\":\"Figure\",\"type\":\"Plot\"},{\"attributes\":{},\"id\":\"1476\",\"type\":\"AllLabels\"},{\"attributes\":{\"fields\":[]},\"id\":\"1354\",\"type\":\"Stack\"},{\"attributes\":{\"text\":\"Overview of missing data in datasets (plot 7 of 10)\"},\"id\":\"1337\",\"type\":\"Title\"},{\"attributes\":{\"source\":{\"id\":\"1169\"}},\"id\":\"1213\",\"type\":\"CDSView\"},{\"attributes\":{\"data_source\":{\"id\":\"1169\"},\"glyph\":{\"id\":\"1210\"},\"hover_glyph\":null,\"muted_glyph\":null,\"name\":\"missing\",\"nonselection_glyph\":{\"id\":\"1211\"},\"view\":{\"id\":\"1213\"}},\"id\":\"1212\",\"type\":\"GlyphRenderer\"},{\"attributes\":{\"end\":1.05,\"start\":0},\"id\":\"1340\",\"type\":\"DataRange1d\"},{\"attributes\":{\"formatter\":{\"id\":\"1365\"},\"group_label_orientation\":1.5707963267948966,\"major_label_orientation\":1.5707963267948966,\"major_label_policy\":{\"id\":\"1366\"},\"ticker\":{\"id\":\"1347\"}},\"id\":\"1346\",\"type\":\"CategoricalAxis\"},{\"attributes\":{},\"id\":\"1344\",\"type\":\"LinearScale\"},{\"attributes\":{\"bottom\":{\"expr\":{\"id\":\"1191\"}},\"fill_alpha\":{\"value\":0.1},\"fill_color\":{\"value\":\"red\"},\"line_alpha\":{\"value\":0.1},\"line_color\":{\"value\":null},\"line_width\":{\"value\":0},\"top\":{\"expr\":{\"id\":\"1192\"}},\"width\":{\"value\":0.8},\"x\":{\"field\":\"x\"}},\"id\":\"1211\",\"type\":\"VBar\"},{\"attributes\":{},\"id\":\"1475\",\"type\":\"CategoricalTickFormatter\"},{\"attributes\":{\"formatter\":{\"id\":\"1368\"},\"major_label_policy\":{\"id\":\"1369\"},\"ticker\":{\"id\":\"1350\"}},\"id\":\"1349\",\"type\":\"LinearAxis\"},{\"attributes\":{\"bottom\":{\"expr\":{\"id\":\"1521\"}},\"fill_alpha\":{\"value\":0.5},\"fill_color\":{\"value\":\"red\"},\"line_alpha\":{\"value\":0.5},\"line_color\":{\"value\":null},\"line_width\":{\"value\":0},\"top\":{\"expr\":{\"id\":\"1522\"}},\"width\":{\"value\":0.8},\"x\":{\"field\":\"x\"}},\"id\":\"1540\",\"type\":\"VBar\"},{\"attributes\":{},\"id\":\"1342\",\"type\":\"CategoricalScale\"},{\"attributes\":{\"label\":{\"value\":\"missing\"},\"renderers\":[{\"id\":\"1212\"}]},\"id\":\"1223\",\"type\":\"LegendItem\"},{\"attributes\":{\"axis\":{\"id\":\"1346\"},\"grid_line_color\":null,\"ticker\":null},\"id\":\"1348\",\"type\":\"Grid\"},{\"attributes\":{\"source\":{\"id\":\"1499\"}},\"id\":\"1543\",\"type\":\"CDSView\"},{\"attributes\":{\"axis\":{\"id\":\"1349\"},\"dimension\":1,\"ticker\":null},\"id\":\"1352\",\"type\":\"Grid\"},{\"attributes\":{\"data_source\":{\"id\":\"1499\"},\"glyph\":{\"id\":\"1540\"},\"hover_glyph\":null,\"muted_glyph\":null,\"name\":\"missing\",\"nonselection_glyph\":{\"id\":\"1541\"},\"view\":{\"id\":\"1543\"}},\"id\":\"1542\",\"type\":\"GlyphRenderer\"},{\"attributes\":{\"fields\":[\"null\"]},\"id\":\"1466\",\"type\":\"Stack\"},{\"attributes\":{},\"id\":\"1350\",\"type\":\"BasicTicker\"},{\"attributes\":{\"source\":{\"id\":\"1444\"}},\"id\":\"1472\",\"type\":\"CDSView\"},{\"attributes\":{\"active_multi\":null},\"id\":\"1353\",\"type\":\"Toolbar\"},{\"attributes\":{\"bottom\":{\"expr\":{\"id\":\"1521\"}},\"fill_alpha\":{\"value\":0.1},\"fill_color\":{\"value\":\"red\"},\"line_alpha\":{\"value\":0.1},\"line_color\":{\"value\":null},\"line_width\":{\"value\":0},\"top\":{\"expr\":{\"id\":\"1522\"}},\"width\":{\"value\":0.8},\"x\":{\"field\":\"x\"}},\"id\":\"1541\",\"type\":\"VBar\"},{\"attributes\":{\"bottom\":{\"expr\":{\"id\":\"1464\"}},\"fill_alpha\":{\"value\":0.5},\"fill_color\":{\"value\":\"blue\"},\"line_alpha\":{\"value\":0.5},\"line_color\":{\"value\":null},\"line_width\":{\"value\":0},\"top\":{\"expr\":{\"id\":\"1465\"}},\"width\":{\"value\":0.8},\"x\":{\"field\":\"x\"}},\"id\":\"1469\",\"type\":\"VBar\"},{\"attributes\":{\"fields\":[\"null\",\"missing\"]},\"id\":\"1357\",\"type\":\"Stack\"},{\"attributes\":{\"data_source\":{\"id\":\"1444\"},\"glyph\":{\"id\":\"1469\"},\"hover_glyph\":null,\"muted_glyph\":null,\"name\":\"null\",\"nonselection_glyph\":{\"id\":\"1470\"},\"view\":{\"id\":\"1472\"}},\"id\":\"1471\",\"type\":\"GlyphRenderer\"},{\"attributes\":{\"label\":{\"value\":\"missing\"},\"renderers\":[{\"id\":\"1542\"}]},\"id\":\"1553\",\"type\":\"LegendItem\"},{\"attributes\":{\"fields\":[\"null\"]},\"id\":\"1355\",\"type\":\"Stack\"},{\"attributes\":{\"bottom\":{\"expr\":{\"id\":\"1464\"}},\"fill_alpha\":{\"value\":0.1},\"fill_color\":{\"value\":\"blue\"},\"line_alpha\":{\"value\":0.1},\"line_color\":{\"value\":null},\"line_width\":{\"value\":0},\"top\":{\"expr\":{\"id\":\"1465\"}},\"width\":{\"value\":0.8},\"x\":{\"field\":\"x\"}},\"id\":\"1470\",\"type\":\"VBar\"},{\"attributes\":{},\"id\":\"1370\",\"type\":\"UnionRenderers\"},{\"attributes\":{},\"id\":\"1371\",\"type\":\"Selection\"},{\"attributes\":{\"label\":{\"value\":\"null\"},\"renderers\":[{\"id\":\"1471\"}]},\"id\":\"1483\",\"type\":\"LegendItem\"},{\"attributes\":{\"items\":[{\"id\":\"1483\"},{\"id\":\"1498\"}],\"orientation\":\"horizontal\"},\"id\":\"1482\",\"type\":\"Legend\"},{\"attributes\":{\"fields\":[\"null\"]},\"id\":\"1356\",\"type\":\"Stack\"},{\"attributes\":{\"source\":{\"id\":\"1334\"}},\"id\":\"1362\",\"type\":\"CDSView\"},{\"attributes\":{\"label\":{\"value\":\"null\"},\"renderers\":[{\"id\":\"1361\"}]},\"id\":\"1373\",\"type\":\"LegendItem\"},{\"attributes\":{\"factors\":[[\"KBA13_KMH_211\",\"azdias\"],[\"KBA13_KMH_211\",\"customers\"],[\"KBA13_KMH_250\",\"azdias\"],[\"KBA13_KMH_250\",\"customers\"],[\"KBA13_KRSZUL_NEU\",\"azdias\"],[\"KBA13_KRSZUL_NEU\",\"customers\"],[\"KBA13_KRSSEG_VAN\",\"azdias\"],[\"KBA13_KRSSEG_VAN\",\"customers\"],[\"KBA13_KRSSEG_OBER\",\"azdias\"],[\"KBA13_KRSSEG_OBER\",\"customers\"],[\"KBA13_KMH_251\",\"azdias\"],[\"KBA13_KMH_251\",\"customers\"],[\"KBA13_KMH_180\",\"azdias\"],[\"KBA13_KMH_180\",\"customers\"],[\"KBA13_KRSAQUOT\",\"azdias\"],[\"KBA13_KRSAQUOT\",\"customers\"],[\"KBA13_KRSHERST_AUDI_VW\",\"azdias\"],[\"KBA13_KRSHERST_AUDI_VW\",\"customers\"],[\"KBA13_KRSHERST_BMW_BENZ\",\"azdias\"],[\"KBA13_KRSHERST_BMW_BENZ\",\"customers\"],[\"KBA13_KRSHERST_FORD_OPEL\",\"azdias\"],[\"KBA13_KRSHERST_FORD_OPEL\",\"customers\"],[\"KBA13_MOTOR\",\"azdias\"],[\"KBA13_MOTOR\",\"customers\"],[\"KBA13_SEG_VAN\",\"azdias\"],[\"KBA13_SEG_VAN\",\"customers\"],[\"KBA13_OPEL\",\"azdias\"],[\"KBA13_OPEL\",\"customers\"],[\"KBA13_SEG_UTILITIES\",\"azdias\"],[\"KBA13_SEG_UTILITIES\",\"customers\"],[\"KBA13_KMH_140\",\"azdias\"],[\"KBA13_KMH_140\",\"customers\"],[\"KBA13_TOYOTA\",\"azdias\"],[\"KBA13_TOYOTA\",\"customers\"],[\"KBA13_VORB_0\",\"azdias\"],[\"KBA13_VORB_0\",\"customers\"],[\"KBA13_SITZE_6\",\"azdias\"],[\"KBA13_SITZE_6\",\"customers\"],[\"KBA13_VORB_1\",\"azdias\"],[\"KBA13_VORB_1\",\"customers\"],[\"KBA13_VORB_1_2\",\"azdias\"],[\"KBA13_VORB_1_2\",\"customers\"],[\"KBA13_VORB_2\",\"azdias\"],[\"KBA13_VORB_2\",\"customers\"],[\"KBA13_VORB_3\",\"azdias\"],[\"KBA13_VORB_3\",\"customers\"],[\"KBA13_VW\",\"azdias\"],[\"KBA13_VW\",\"customers\"],[\"KBA13_SITZE_5\",\"azdias\"],[\"KBA13_SITZE_5\",\"customers\"],[\"KBA13_SITZE_4\",\"azdias\"],[\"KBA13_SITZE_4\",\"customers\"],[\"KBA13_SEG_WOHNMOBILE\",\"azdias\"],[\"KBA13_SEG_WOHNMOBILE\",\"customers\"],[\"KBA13_SEG_SPORTWAGEN\",\"azdias\"],[\"KBA13_SEG_SPORTWAGEN\",\"customers\"],[\"KBA13_PEUGEOT\",\"azdias\"],[\"KBA13_PEUGEOT\",\"customers\"],[\"KBA13_SEG_SONSTIGE\",\"azdias\"],[\"KBA13_SEG_SONSTIGE\",\"customers\"],[\"KBA13_SEG_OBERKLASSE\",\"azdias\"],[\"KBA13_SEG_OBERKLASSE\",\"customers\"],[\"KBA13_SEG_OBEREMITTELKLASSE\",\"azdias\"],[\"KBA13_SEG_OBEREMITTELKLASSE\",\"customers\"]]},\"id\":\"1280\",\"type\":\"FactorRange\"},{\"attributes\":{\"bottom\":{\"expr\":{\"id\":\"1354\"}},\"fill_alpha\":{\"value\":0.5},\"fill_color\":{\"value\":\"blue\"},\"line_alpha\":{\"value\":0.5},\"line_color\":{\"value\":null},\"line_width\":{\"value\":0},\"top\":{\"expr\":{\"id\":\"1355\"}},\"width\":{\"value\":0.8},\"x\":{\"field\":\"x\"}},\"id\":\"1359\",\"type\":\"VBar\"},{\"attributes\":{\"data\":{\"missing\":[0.0,0.0,0.0,0.0,0.0,0.0,0.0,0.0,0.0,0.0,0.0,0.0,0.0,0.0,0.0,0.0,0.0,0.0,0.0,0.0,0.0,0.0,0.0,0.0,0.0,0.0,0.0,0.0,0.0,0.0,0.0,0.0,0.0,0.0,0.0,0.0,0.0,0.0,0.0,0.0,0.0,0.0,0.0,0.0,0.0,0.0,0.0,0.0,0.0,0.0,0.0,0.0,0.0,0.0,0.0,0.0,0.0,0.0,0.0,0.0,0.0,0.0,0.0,0.0],\"null\":[0.06395142314266711,0.06677316293929712,0.06395142314266711,0.06677316293929712,0.06395142314266711,0.06677316293929712,0.06395142314266711,0.06677316293929712,0.06395142314266711,0.06677316293929712,0.06395142314266711,0.06677316293929712,0.06395142314266711,0.06677316293929712,0.06395142314266711,0.06677316293929712,0.06395142314266711,0.06677316293929712,0.06395142314266711,0.06677316293929712,0.06395142314266711,0.06677316293929712,0.06395142314266711,0.06677316293929712,0.06395142314266711,0.06677316293929712,0.06395142314266711,0.06677316293929712,0.06395142314266711,0.06677316293929712,0.06395142314266711,0.06677316293929712,0.06395142314266711,0.06677316293929712,0.06395142314266711,0.06677316293929712,0.06395142314266711,0.06677316293929712,0.06395142314266711,0.06677316293929712,0.06395142314266711,0.06677316293929712,0.06395142314266711,0.06677316293929712,0.06395142314266711,0.06677316293929712,0.06395142314266711,0.06677316293929712,0.06395142314266711,0.06677316293929712,0.06395142314266711,0.06677316293929712,0.06395142314266711,0.06677316293929712,0.06395142314266711,0.06677316293929712,0.06395142314266711,0.06677316293929712,0.06395142314266711,0.06677316293929712,0.06395142314266711,0.06677316293929712,0.06395142314266711,0.06677316293929712],\"x\":[[\"KBA13_SEG_MITTELKLASSE\",\"azdias\"],[\"KBA13_SEG_MITTELKLASSE\",\"customers\"],[\"KBA13_SEG_MINIWAGEN\",\"azdias\"],[\"KBA13_SEG_MINIWAGEN\",\"customers\"],[\"KBA13_SEG_MINIVANS\",\"azdias\"],[\"KBA13_SEG_MINIVANS\",\"customers\"],[\"KBA13_SEG_KOMPAKTKLASSE\",\"azdias\"],[\"KBA13_SEG_KOMPAKTKLASSE\",\"customers\"],[\"KBA13_SEG_KLEINWAGEN\",\"azdias\"],[\"KBA13_SEG_KLEINWAGEN\",\"customers\"],[\"KBA13_SEG_KLEINST\",\"azdias\"],[\"KBA13_SEG_KLEINST\",\"customers\"],[\"KBA13_SEG_GROSSRAUMVANS\",\"azdias\"],[\"KBA13_SEG_GROSSRAUMVANS\",\"customers\"],[\"KBA13_SEG_GELAENDEWAGEN\",\"azdias\"],[\"KBA13_SEG_GELAENDEWAGEN\",\"customers\"],[\"KBA13_RENAULT\",\"azdias\"],[\"KBA13_RENAULT\",\"customers\"],[\"KBA13_KMH_140_210\",\"azdias\"],[\"KBA13_KMH_140_210\",\"customers\"],[\"KBA13_ANZAHL_PKW\",\"azdias\"],[\"KBA13_ANZAHL_PKW\",\"customers\"],[\"KBA13_KMH_110\",\"azdias\"],[\"KBA13_KMH_110\",\"customers\"],[\"KBA13_BJ_2008\",\"azdias\"],[\"KBA13_BJ_2008\",\"customers\"],[\"KBA13_CCM_2000\",\"azdias\"],[\"KBA13_CCM_2000\",\"customers\"],[\"KBA13_CCM_1800\",\"azdias\"],[\"KBA13_CCM_1800\",\"customers\"],[\"KBA13_CCM_1500\",\"azdias\"],[\"KBA13_CCM_1500\",\"customers\"],[\"KBA13_CCM_1401_2500\",\"azdias\"],[\"KBA13_CCM_1401_2500\",\"customers\"],[\"KBA13_CCM_1400\",\"azdias\"],[\"KBA13_CCM_1400\",\"customers\"],[\"KBA13_CCM_1200\",\"azdias\"],[\"KBA13_CCM_1200\",\"customers\"],[\"KBA13_CCM_1000\",\"azdias\"],[\"KBA13_CCM_1000\",\"customers\"],[\"KBA13_CCM_0_1400\",\"azdias\"],[\"KBA13_CCM_0_1400\",\"customers\"],[\"KBA13_BMW\",\"azdias\"],[\"KBA13_BMW\",\"customers\"],[\"KBA13_BJ_2009\",\"azdias\"],[\"KBA13_BJ_2009\",\"customers\"],[\"KBA13_BJ_2006\",\"azdias\"],[\"KBA13_BJ_2006\",\"customers\"],[\"KBA13_CCM_2501\",\"azdias\"],[\"KBA13_CCM_2501\",\"customers\"],[\"KBA13_BJ_2004\",\"azdias\"],[\"KBA13_BJ_2004\",\"customers\"],[\"KBA13_BJ_2000\",\"azdias\"],[\"KBA13_BJ_2000\",\"customers\"],[\"KBA13_BJ_1999\",\"azdias\"],[\"KBA13_BJ_1999\",\"customers\"],[\"KBA13_AUTOQUOTE\",\"azdias\"],[\"KBA13_AUTOQUOTE\",\"customers\"],[\"KBA13_AUDI\",\"azdias\"],[\"KBA13_AUDI\",\"customers\"],[\"KBA13_ALTERHALTER_61\",\"azdias\"],[\"KBA13_ALTERHALTER_61\",\"customers\"],[\"KBA13_ALTERHALTER_60\",\"azdias\"],[\"KBA13_ALTERHALTER_60\",\"customers\"]]},\"selected\":{\"id\":\"1371\"},\"selection_policy\":{\"id\":\"1370\"}},\"id\":\"1334\",\"type\":\"ColumnDataSource\"},{\"attributes\":{\"data_source\":{\"id\":\"1334\"},\"glyph\":{\"id\":\"1359\"},\"hover_glyph\":null,\"muted_glyph\":null,\"name\":\"null\",\"nonselection_glyph\":{\"id\":\"1360\"},\"view\":{\"id\":\"1362\"}},\"id\":\"1361\",\"type\":\"GlyphRenderer\"},{\"attributes\":{\"bottom\":{\"expr\":{\"id\":\"1354\"}},\"fill_alpha\":{\"value\":0.1},\"fill_color\":{\"value\":\"blue\"},\"line_alpha\":{\"value\":0.1},\"line_color\":{\"value\":null},\"line_width\":{\"value\":0},\"top\":{\"expr\":{\"id\":\"1355\"}},\"width\":{\"value\":0.8},\"x\":{\"field\":\"x\"}},\"id\":\"1360\",\"type\":\"VBar\"},{\"attributes\":{\"fields\":[\"null\"]},\"id\":\"1246\",\"type\":\"Stack\"},{\"attributes\":{\"items\":[{\"id\":\"1373\"},{\"id\":\"1388\"}],\"orientation\":\"horizontal\"},\"id\":\"1372\",\"type\":\"Legend\"},{\"attributes\":{},\"id\":\"1420\",\"type\":\"CategoricalTickFormatter\"},{\"attributes\":{},\"id\":\"1421\",\"type\":\"AllLabels\"},{\"attributes\":{\"fields\":[\"null\",\"missing\"]},\"id\":\"1247\",\"type\":\"Stack\"},{\"attributes\":{\"source\":{\"id\":\"1224\"}},\"id\":\"1252\",\"type\":\"CDSView\"},{\"attributes\":{\"bottom\":{\"expr\":{\"id\":\"1244\"}},\"fill_alpha\":{\"value\":0.5},\"fill_color\":{\"value\":\"blue\"},\"line_alpha\":{\"value\":0.5},\"line_color\":{\"value\":null},\"line_width\":{\"value\":0},\"top\":{\"expr\":{\"id\":\"1245\"}},\"width\":{\"value\":0.8},\"x\":{\"field\":\"x\"}},\"id\":\"1249\",\"type\":\"VBar\"},{\"attributes\":{\"data_source\":{\"id\":\"1224\"},\"glyph\":{\"id\":\"1249\"},\"hover_glyph\":null,\"muted_glyph\":null,\"name\":\"null\",\"nonselection_glyph\":{\"id\":\"1250\"},\"view\":{\"id\":\"1252\"}},\"id\":\"1251\",\"type\":\"GlyphRenderer\"},{\"attributes\":{\"bottom\":{\"expr\":{\"id\":\"1244\"}},\"fill_alpha\":{\"value\":0.1},\"fill_color\":{\"value\":\"blue\"},\"line_alpha\":{\"value\":0.1},\"line_color\":{\"value\":null},\"line_width\":{\"value\":0},\"top\":{\"expr\":{\"id\":\"1245\"}},\"width\":{\"value\":0.8},\"x\":{\"field\":\"x\"}},\"id\":\"1250\",\"type\":\"VBar\"},{\"attributes\":{},\"id\":\"1038\",\"type\":\"BasicTickFormatter\"},{\"attributes\":{\"label\":{\"value\":\"null\"},\"renderers\":[{\"id\":\"1251\"}]},\"id\":\"1263\",\"type\":\"LegendItem\"},{\"attributes\":{},\"id\":\"1039\",\"type\":\"AllLabels\"},{\"attributes\":{\"items\":[{\"id\":\"1263\"},{\"id\":\"1278\"}],\"orientation\":\"horizontal\"},\"id\":\"1262\",\"type\":\"Legend\"},{\"attributes\":{},\"id\":\"1255\",\"type\":\"CategoricalTickFormatter\"},{\"attributes\":{},\"id\":\"1256\",\"type\":\"AllLabels\"},{\"attributes\":{},\"id\":\"1425\",\"type\":\"UnionRenderers\"},{\"attributes\":{},\"id\":\"1426\",\"type\":\"Selection\"},{\"attributes\":{},\"id\":\"1040\",\"type\":\"UnionRenderers\"},{\"attributes\":{},\"id\":\"1041\",\"type\":\"Selection\"},{\"attributes\":{},\"id\":\"1258\",\"type\":\"BasicTickFormatter\"},{\"attributes\":{\"bottom\":{\"expr\":{\"id\":\"1026\"}},\"fill_alpha\":{\"value\":0.5},\"fill_color\":{\"value\":\"red\"},\"line_alpha\":{\"value\":0.5},\"line_color\":{\"value\":null},\"line_width\":{\"value\":0},\"top\":{\"expr\":{\"id\":\"1027\"}},\"width\":{\"value\":0.8},\"x\":{\"field\":\"x\"}},\"id\":\"1045\",\"type\":\"VBar\"},{\"attributes\":{},\"id\":\"1259\",\"type\":\"AllLabels\"},{\"attributes\":{\"source\":{\"id\":\"1004\"}},\"id\":\"1048\",\"type\":\"CDSView\"},{\"attributes\":{\"data_source\":{\"id\":\"1004\"},\"glyph\":{\"id\":\"1045\"},\"hover_glyph\":null,\"muted_glyph\":null,\"name\":\"missing\",\"nonselection_glyph\":{\"id\":\"1046\"},\"view\":{\"id\":\"1048\"}},\"id\":\"1047\",\"type\":\"GlyphRenderer\"},{\"attributes\":{\"bottom\":{\"expr\":{\"id\":\"1026\"}},\"fill_alpha\":{\"value\":0.1},\"fill_color\":{\"value\":\"red\"},\"line_alpha\":{\"value\":0.1},\"line_color\":{\"value\":null},\"line_width\":{\"value\":0},\"top\":{\"expr\":{\"id\":\"1027\"}},\"width\":{\"value\":0.8},\"x\":{\"field\":\"x\"}},\"id\":\"1046\",\"type\":\"VBar\"},{\"attributes\":{\"bottom\":{\"expr\":{\"id\":\"1411\"}},\"fill_alpha\":{\"value\":0.5},\"fill_color\":{\"value\":\"red\"},\"line_alpha\":{\"value\":0.5},\"line_color\":{\"value\":null},\"line_width\":{\"value\":0},\"top\":{\"expr\":{\"id\":\"1412\"}},\"width\":{\"value\":0.8},\"x\":{\"field\":\"x\"}},\"id\":\"1430\",\"type\":\"VBar\"},{\"attributes\":{\"data\":{\"missing\":[0.0,0.0,0.04394350818554376,0.038611554845580404,0.04394350818554376,0.038611554845580404,0.017527338786389134,0.0062167199148029815,0.01752137872831433,0.006210063897763578,0.01752137872831433,0.006210063897763578,0.01752137872831433,0.006210063897763578,0.01752137872831433,0.006210063897763578,0.01752137872831433,0.006210063897763578,0.01752137872831433,0.006210063897763578,0.01752137872831433,0.006210063897763578,0.01752137872831433,0.006210063897763578,0.01752137872831433,0.006210063897763578,0.01752137872831433,0.006210063897763578,0.01752137872831433,0.006210063897763578,0.01752137872831433,0.006210063897763578,0.01752137872831433,0.006210063897763578,0.01752137872831433,0.006210063897763578,0.01752137872831433,0.006210063897763578,0.01752137872831433,0.006210063897763578,0.01752137872831433,0.006210063897763578,0.01752137872831433,0.006210063897763578,0.01752137872831433,0.006210063897763578,0.01752137872831433,0.006210063897763578,0.01752137872831433,0.006210063897763578,0.01752137872831433,0.006210063897763578,0.01752137872831433,0.006210063897763578,0.01752137872831433,0.006210063897763578,0.01752137872831433,0.006210063897763578,0.01752137872831433,0.006210063897763578,0.01752137872831433,0.006210063897763578,0.01752137872831433,0.006210063897763578],\"null\":[0.24414305092988825,0.04296458998935037,0.08231436207114402,0.08660143769968051,0.08231436207114402,0.08660143769968051,0.09677107893739316,0.09803647497337593,0.09677107893739316,0.09803647497337593,0.09677107893739316,0.09803647497337593,0.09677107893739316,0.09803647497337593,0.09677107893739316,0.09803647497337593,0.09677107893739316,0.09803647497337593,0.09677107893739316,0.09803647497337593,0.09677107893739316,0.09803647497337593,0.09677107893739316,0.09803647497337593,0.09677107893739316,0.09803647497337593,0.09677107893739316,0.09803647497337593,0.09677107893739316,0.09803647497337593,0.09677107893739316,0.09803647497337593,0.09677107893739316,0.09803647497337593,0.09677107893739316,0.09803647497337593,0.09677107893739316,0.09803647497337593,0.09677107893739316,0.09803647497337593,0.09677107893739316,0.09803647497337593,0.09677107893739316,0.09803647497337593,0.09677107893739316,0.09803647497337593,0.09677107893739316,0.09803647497337593,0.09677107893739316,0.09803647497337593,0.09677107893739316,0.09803647497337593,0.09677107893739316,0.09803647497337593,0.09677107893739316,0.09803647497337593,0.09677107893739316,0.09803647497337593,0.09677107893739316,0.09803647497337593,0.09677107893739316,0.09803647497337593,0.09677107893739316,0.09803647497337593],\"x\":[[\"D19_BANKEN_ONLINE_QUOTE_12\",\"azdias\"],[\"D19_BANKEN_ONLINE_QUOTE_12\",\"customers\"],[\"KKK\",\"azdias\"],[\"KKK\",\"customers\"],[\"REGIOTYP\",\"azdias\"],[\"REGIOTYP\",\"customers\"],[\"KBA05_AUTOQUOT\",\"azdias\"],[\"KBA05_AUTOQUOT\",\"customers\"],[\"KBA05_MOD3\",\"azdias\"],[\"KBA05_MOD3\",\"customers\"],[\"KBA05_KW3\",\"azdias\"],[\"KBA05_KW3\",\"customers\"],[\"KBA05_MOD1\",\"azdias\"],[\"KBA05_MOD1\",\"customers\"],[\"KBA05_MAXVORB\",\"azdias\"],[\"KBA05_MAXVORB\",\"customers\"],[\"KBA05_MAXSEG\",\"azdias\"],[\"KBA05_MAXSEG\",\"customers\"],[\"KBA05_MAXHERST\",\"azdias\"],[\"KBA05_MAXHERST\",\"customers\"],[\"KBA05_MAXBJ\",\"azdias\"],[\"KBA05_MAXBJ\",\"customers\"],[\"KBA05_MAXAH\",\"azdias\"],[\"KBA05_MAXAH\",\"customers\"],[\"KBA05_KRSHERST1\",\"azdias\"],[\"KBA05_KRSHERST1\",\"customers\"],[\"KBA05_KRSHERST2\",\"azdias\"],[\"KBA05_KRSHERST2\",\"customers\"],[\"KBA05_KW2\",\"azdias\"],[\"KBA05_KW2\",\"customers\"],[\"KBA05_KW1\",\"azdias\"],[\"KBA05_KW1\",\"customers\"],[\"KBA05_KRSHERST3\",\"azdias\"],[\"KBA05_KRSHERST3\",\"customers\"],[\"KBA05_KRSKLEIN\",\"azdias\"],[\"KBA05_KRSKLEIN\",\"customers\"],[\"KBA05_KRSOBER\",\"azdias\"],[\"KBA05_KRSOBER\",\"customers\"],[\"KBA05_KRSZUL\",\"azdias\"],[\"KBA05_KRSZUL\",\"customers\"],[\"KBA05_KRSVAN\",\"azdias\"],[\"KBA05_KRSVAN\",\"customers\"],[\"KBA05_MOD2\",\"azdias\"],[\"KBA05_MOD2\",\"customers\"],[\"KBA05_SEG6\",\"azdias\"],[\"KBA05_SEG6\",\"customers\"],[\"KBA05_MOD4\",\"azdias\"],[\"KBA05_MOD4\",\"customers\"],[\"KBA05_SEG9\",\"azdias\"],[\"KBA05_SEG9\",\"customers\"],[\"KBA05_HERST5\",\"azdias\"],[\"KBA05_HERST5\",\"customers\"],[\"KBA05_VORB1\",\"azdias\"],[\"KBA05_VORB1\",\"customers\"],[\"KBA05_VORB2\",\"azdias\"],[\"KBA05_VORB2\",\"customers\"],[\"KBA05_ZUL1\",\"azdias\"],[\"KBA05_ZUL1\",\"customers\"],[\"KBA05_ZUL2\",\"azdias\"],[\"KBA05_ZUL2\",\"customers\"],[\"KBA05_ZUL3\",\"azdias\"],[\"KBA05_ZUL3\",\"customers\"],[\"KBA05_ZUL4\",\"azdias\"],[\"KBA05_ZUL4\",\"customers\"]]},\"selected\":{\"id\":\"1151\"},\"selection_policy\":{\"id\":\"1150\"}},\"id\":\"1114\",\"type\":\"ColumnDataSource\"},{\"attributes\":{\"label\":{\"value\":\"missing\"},\"renderers\":[{\"id\":\"1047\"}]},\"id\":\"1058\",\"type\":\"LegendItem\"},{\"attributes\":{\"source\":{\"id\":\"1389\"}},\"id\":\"1433\",\"type\":\"CDSView\"},{\"attributes\":{\"data_source\":{\"id\":\"1389\"},\"glyph\":{\"id\":\"1430\"},\"hover_glyph\":null,\"muted_glyph\":null,\"name\":\"missing\",\"nonselection_glyph\":{\"id\":\"1431\"},\"view\":{\"id\":\"1433\"}},\"id\":\"1432\",\"type\":\"GlyphRenderer\"},{\"attributes\":{\"bottom\":{\"expr\":{\"id\":\"1411\"}},\"fill_alpha\":{\"value\":0.1},\"fill_color\":{\"value\":\"red\"},\"line_alpha\":{\"value\":0.1},\"line_color\":{\"value\":null},\"line_width\":{\"value\":0},\"top\":{\"expr\":{\"id\":\"1412\"}},\"width\":{\"value\":0.8},\"x\":{\"field\":\"x\"}},\"id\":\"1431\",\"type\":\"VBar\"},{\"attributes\":{\"data\":{\"missing\":[0.0,0.0,0.0,0.0,0.0,0.0,0.0,0.0,0.0,0.0,0.0,0.0,0.0,0.0,0.0,0.0,0.0,0.0,0.0,0.0,0.0,0.0,0.0,0.0,0.0,0.0,0.0,0.0,0.0,0.0,0.0,0.0,0.0,0.0,0.0,0.0,0.0,0.0,0.0,0.0,0.0,0.0,0.0,0.0,0.0,0.0,0.0,0.0,0.0,0.0],\"null\":[0.0,0.0,0.0,0.0,0.0,0.0,0.0,0.0,0.0,0.0,0.0,0.0,0.0,0.0,0.0,0.0,0.0,0.0,0.0,0.0,0.0,0.0,0.0,0.0,0.0,0.0,0.0,0.0,0.0,0.0,0.0,0.0,0.0,0.0,0.0,0.0,0.0,0.0,0.0,0.0,0.0,0.0,0.0,0.0,0.0,0.0,0.0,0.0,0.0,0.0],\"x\":[[\"CUSTOMER_GROUP\",\"azdias\"],[\"CUSTOMER_GROUP\",\"customers\"],[\"SEMIO_RAT\",\"azdias\"],[\"SEMIO_RAT\",\"customers\"],[\"PRODUCT_GROUP\",\"azdias\"],[\"PRODUCT_GROUP\",\"customers\"],[\"ZABEOTYP\",\"azdias\"],[\"ZABEOTYP\",\"customers\"],[\"ANREDE_KZ\",\"azdias\"],[\"ANREDE_KZ\",\"customers\"],[\"SEMIO_REL\",\"azdias\"],[\"SEMIO_REL\",\"customers\"],[\"SEMIO_ERL\",\"azdias\"],[\"SEMIO_ERL\",\"customers\"],[\"SEMIO_PFLICHT\",\"azdias\"],[\"SEMIO_PFLICHT\",\"customers\"],[\"SEMIO_MAT\",\"azdias\"],[\"SEMIO_MAT\",\"customers\"],[\"FINANZ_UNAUFFAELLIGER\",\"azdias\"],[\"FINANZ_UNAUFFAELLIGER\",\"customers\"],[\"FINANZ_SPARER\",\"azdias\"],[\"FINANZ_SPARER\",\"customers\"],[\"FINANZ_VORSORGER\",\"azdias\"],[\"FINANZ_VORSORGER\",\"customers\"],[\"FINANZ_MINIMALIST\",\"azdias\"],[\"FINANZ_MINIMALIST\",\"customers\"],[\"FINANZ_HAUSBAUER\",\"azdias\"],[\"FINANZ_HAUSBAUER\",\"customers\"],[\"FINANZ_ANLEGER\",\"azdias\"],[\"FINANZ_ANLEGER\",\"customers\"],[\"FINANZTYP\",\"azdias\"],[\"FINANZTYP\",\"customers\"],[\"GEBURTSJAHR\",\"azdias\"],[\"GEBURTSJAHR\",\"customers\"],[\"GREEN_AVANTGARDE\",\"azdias\"],[\"GREEN_AVANTGARDE\",\"customers\"],[\"SEMIO_DOM\",\"azdias\"],[\"SEMIO_DOM\",\"customers\"],[\"SEMIO_FAM\",\"azdias\"],[\"SEMIO_FAM\",\"customers\"],[\"SEMIO_KAEM\",\"azdias\"],[\"SEMIO_KAEM\",\"customers\"],[\"SEMIO_KRIT\",\"azdias\"],[\"SEMIO_KRIT\",\"customers\"],[\"SEMIO_KULT\",\"azdias\"],[\"SEMIO_KULT\",\"customers\"],[\"SEMIO_LUST\",\"azdias\"],[\"SEMIO_LUST\",\"customers\"],[\"ONLINE_PURCHASE\",\"azdias\"],[\"ONLINE_PURCHASE\",\"customers\"]]},\"selected\":{\"id\":\"1536\"},\"selection_policy\":{\"id\":\"1535\"}},\"id\":\"1499\",\"type\":\"ColumnDataSource\"},{\"attributes\":{\"label\":{\"value\":\"missing\"},\"renderers\":[{\"id\":\"1432\"}]},\"id\":\"1443\",\"type\":\"LegendItem\"},{\"attributes\":{\"bottom\":{\"expr\":{\"id\":\"1299\"}},\"fill_alpha\":{\"value\":0.1},\"fill_color\":{\"value\":\"blue\"},\"line_alpha\":{\"value\":0.1},\"line_color\":{\"value\":null},\"line_width\":{\"value\":0},\"top\":{\"expr\":{\"id\":\"1300\"}},\"width\":{\"value\":0.8},\"x\":{\"field\":\"x\"}},\"id\":\"1305\",\"type\":\"VBar\"},{\"attributes\":{\"bottom\":{\"expr\":{\"id\":\"1301\"}},\"fill_alpha\":{\"value\":0.5},\"fill_color\":{\"value\":\"red\"},\"line_alpha\":{\"value\":0.5},\"line_color\":{\"value\":null},\"line_width\":{\"value\":0},\"top\":{\"expr\":{\"id\":\"1302\"}},\"width\":{\"value\":0.8},\"x\":{\"field\":\"x\"}},\"id\":\"1320\",\"type\":\"VBar\"},{\"attributes\":{\"data_source\":{\"id\":\"1279\"},\"glyph\":{\"id\":\"1304\"},\"hover_glyph\":null,\"muted_glyph\":null,\"name\":\"null\",\"nonselection_glyph\":{\"id\":\"1305\"},\"view\":{\"id\":\"1307\"}},\"id\":\"1306\",\"type\":\"GlyphRenderer\"},{\"attributes\":{\"source\":{\"id\":\"1279\"}},\"id\":\"1307\",\"type\":\"CDSView\"},{\"attributes\":{\"label\":{\"value\":\"null\"},\"renderers\":[{\"id\":\"1306\"}]},\"id\":\"1318\",\"type\":\"LegendItem\"},{\"attributes\":{\"items\":[{\"id\":\"1318\"},{\"id\":\"1333\"}],\"orientation\":\"horizontal\"},\"id\":\"1317\",\"type\":\"Legend\"},{\"attributes\":{\"fields\":[]},\"id\":\"1519\",\"type\":\"Stack\"},{\"attributes\":{},\"id\":\"1150\",\"type\":\"UnionRenderers\"},{\"attributes\":{},\"id\":\"1512\",\"type\":\"CategoricalTicker\"},{\"attributes\":{},\"id\":\"1151\",\"type\":\"Selection\"},{\"attributes\":{\"text\":\"Overview of missing data in datasets (plot 10 of 10)\"},\"id\":\"1502\",\"type\":\"Title\"},{\"attributes\":{\"end\":1.05,\"start\":0},\"id\":\"1505\",\"type\":\"DataRange1d\"},{\"attributes\":{\"formatter\":{\"id\":\"1530\"},\"group_label_orientation\":1.5707963267948966,\"major_label_orientation\":1.5707963267948966,\"major_label_policy\":{\"id\":\"1531\"},\"ticker\":{\"id\":\"1512\"}},\"id\":\"1511\",\"type\":\"CategoricalAxis\"},{\"attributes\":{},\"id\":\"1509\",\"type\":\"LinearScale\"},{\"attributes\":{\"formatter\":{\"id\":\"1533\"},\"major_label_policy\":{\"id\":\"1534\"},\"ticker\":{\"id\":\"1515\"}},\"id\":\"1514\",\"type\":\"LinearAxis\"},{\"attributes\":{\"items\":[{\"id\":\"1538\"},{\"id\":\"1553\"}],\"orientation\":\"horizontal\"},\"id\":\"1537\",\"type\":\"Legend\"},{\"attributes\":{},\"id\":\"1507\",\"type\":\"CategoricalScale\"},{\"attributes\":{\"axis\":{\"id\":\"1511\"},\"grid_line_color\":null,\"ticker\":null},\"id\":\"1513\",\"type\":\"Grid\"},{\"attributes\":{},\"id\":\"1310\",\"type\":\"CategoricalTickFormatter\"},{\"attributes\":{},\"id\":\"1311\",\"type\":\"AllLabels\"},{\"attributes\":{\"axis\":{\"id\":\"1514\"},\"dimension\":1,\"ticker\":null},\"id\":\"1517\",\"type\":\"Grid\"},{\"attributes\":{},\"id\":\"1515\",\"type\":\"BasicTicker\"},{\"attributes\":{\"active_multi\":null},\"id\":\"1518\",\"type\":\"Toolbar\"},{\"attributes\":{\"fields\":[\"null\"]},\"id\":\"1520\",\"type\":\"Stack\"},{\"attributes\":{\"label\":{\"value\":\"null\"},\"renderers\":[{\"id\":\"1526\"}]},\"id\":\"1538\",\"type\":\"LegendItem\"},{\"attributes\":{\"bottom\":{\"expr\":{\"id\":\"1519\"}},\"fill_alpha\":{\"value\":0.1},\"fill_color\":{\"value\":\"blue\"},\"line_alpha\":{\"value\":0.1},\"line_color\":{\"value\":null},\"line_width\":{\"value\":0},\"top\":{\"expr\":{\"id\":\"1520\"}},\"width\":{\"value\":0.8},\"x\":{\"field\":\"x\"}},\"id\":\"1525\",\"type\":\"VBar\"},{\"attributes\":{\"bottom\":{\"expr\":{\"id\":\"1136\"}},\"fill_alpha\":{\"value\":0.5},\"fill_color\":{\"value\":\"red\"},\"line_alpha\":{\"value\":0.5},\"line_color\":{\"value\":null},\"line_width\":{\"value\":0},\"top\":{\"expr\":{\"id\":\"1137\"}},\"width\":{\"value\":0.8},\"x\":{\"field\":\"x\"}},\"id\":\"1155\",\"type\":\"VBar\"},{\"attributes\":{\"formatter\":{\"id\":\"1258\"},\"major_label_policy\":{\"id\":\"1259\"},\"ticker\":{\"id\":\"1240\"}},\"id\":\"1239\",\"type\":\"LinearAxis\"},{\"attributes\":{\"data_source\":{\"id\":\"1499\"},\"glyph\":{\"id\":\"1524\"},\"hover_glyph\":null,\"muted_glyph\":null,\"name\":\"null\",\"nonselection_glyph\":{\"id\":\"1525\"},\"view\":{\"id\":\"1527\"}},\"id\":\"1526\",\"type\":\"GlyphRenderer\"},{\"attributes\":{\"source\":{\"id\":\"1499\"}},\"id\":\"1527\",\"type\":\"CDSView\"},{\"attributes\":{\"axis\":{\"id\":\"1181\"},\"grid_line_color\":null,\"ticker\":null},\"id\":\"1183\",\"type\":\"Grid\"},{\"attributes\":{\"source\":{\"id\":\"1114\"}},\"id\":\"1158\",\"type\":\"CDSView\"},{\"attributes\":{\"data_source\":{\"id\":\"1114\"},\"glyph\":{\"id\":\"1155\"},\"hover_glyph\":null,\"muted_glyph\":null,\"name\":\"missing\",\"nonselection_glyph\":{\"id\":\"1156\"},\"view\":{\"id\":\"1158\"}},\"id\":\"1157\",\"type\":\"GlyphRenderer\"},{\"attributes\":{},\"id\":\"1185\",\"type\":\"BasicTicker\"},{\"attributes\":{\"bottom\":{\"expr\":{\"id\":\"1519\"}},\"fill_alpha\":{\"value\":0.5},\"fill_color\":{\"value\":\"blue\"},\"line_alpha\":{\"value\":0.5},\"line_color\":{\"value\":null},\"line_width\":{\"value\":0},\"top\":{\"expr\":{\"id\":\"1520\"}},\"width\":{\"value\":0.8},\"x\":{\"field\":\"x\"}},\"id\":\"1524\",\"type\":\"VBar\"},{\"attributes\":{},\"id\":\"1313\",\"type\":\"BasicTickFormatter\"},{\"attributes\":{\"bottom\":{\"expr\":{\"id\":\"1136\"}},\"fill_alpha\":{\"value\":0.1},\"fill_color\":{\"value\":\"red\"},\"line_alpha\":{\"value\":0.1},\"line_color\":{\"value\":null},\"line_width\":{\"value\":0},\"top\":{\"expr\":{\"id\":\"1137\"}},\"width\":{\"value\":0.8},\"x\":{\"field\":\"x\"}},\"id\":\"1156\",\"type\":\"VBar\"},{\"attributes\":{},\"id\":\"1314\",\"type\":\"AllLabels\"},{\"attributes\":{},\"id\":\"1240\",\"type\":\"BasicTicker\"},{\"attributes\":{\"label\":{\"value\":\"missing\"},\"renderers\":[{\"id\":\"1157\"}]},\"id\":\"1168\",\"type\":\"LegendItem\"},{\"attributes\":{},\"id\":\"1530\",\"type\":\"CategoricalTickFormatter\"},{\"attributes\":{},\"id\":\"1531\",\"type\":\"AllLabels\"},{\"attributes\":{\"axis\":{\"id\":\"1239\"},\"dimension\":1,\"ticker\":null},\"id\":\"1242\",\"type\":\"Grid\"},{\"attributes\":{\"data\":{\"missing\":[0.0,0.0,0.0,0.0,0.0,0.0,0.0,0.0,0.0,0.0,0.0,0.0,0.0,0.0,0.0,0.0,0.0,0.0,0.0,0.0,0.0,0.0,0.0,0.0,0.0,0.0,0.0,0.0,0.0,0.0,0.0,0.0,0.0,0.0,0.0,0.0,0.0,0.0,0.0,0.0,0.0,0.0,0.0,0.0,0.0,0.0,0.0,0.0,0.0,0.0,0.0,0.0,0.0,0.0,0.0,0.0,0.0,0.0,0.0,0.0,0.0,0.0,0.0,0.0],\"null\":[0.06395142314266711,0.06677316293929712,0.06395142314266711,0.06677316293929712,0.06395142314266711,0.06677316293929712,0.06395142314266711,0.06677316293929712,0.06395142314266711,0.06677316293929712,0.06395142314266711,0.06677316293929712,0.06395142314266711,0.06677316293929712,0.06395142314266711,0.06677316293929712,0.06395142314266711,0.06677316293929712,0.06395142314266711,0.06677316293929712,0.06395142314266711,0.06677316293929712,0.06395142314266711,0.06677316293929712,0.06395142314266711,0.06677316293929712,0.06395142314266711,0.06677316293929712,0.06395142314266711,0.06677316293929712,0.06395142314266711,0.06677316293929712,0.06395142314266711,0.06677316293929712,0.06395142314266711,0.06677316293929712,0.06395142314266711,0.06677316293929712,0.06395142314266711,0.06677316293929712,0.06395142314266711,0.06677316293929712,0.06395142314266711,0.06677316293929712,0.06395142314266711,0.06677316293929712,0.06395142314266711,0.06677316293929712,0.06395142314266711,0.06677316293929712,0.06395142314266711,0.06677316293929712,0.06395142314266711,0.06677316293929712,0.06395142314266711,0.06677316293929712,0.06395142314266711,0.06677316293929712,0.06395142314266711,0.06677316293929712,0.06395142314266711,0.06677316293929712,0.06395142314266711,0.06677316293929712],\"x\":[[\"KBA13_KMH_211\",\"azdias\"],[\"KBA13_KMH_211\",\"customers\"],[\"KBA13_KMH_250\",\"azdias\"],[\"KBA13_KMH_250\",\"customers\"],[\"KBA13_KRSZUL_NEU\",\"azdias\"],[\"KBA13_KRSZUL_NEU\",\"customers\"],[\"KBA13_KRSSEG_VAN\",\"azdias\"],[\"KBA13_KRSSEG_VAN\",\"customers\"],[\"KBA13_KRSSEG_OBER\",\"azdias\"],[\"KBA13_KRSSEG_OBER\",\"customers\"],[\"KBA13_KMH_251\",\"azdias\"],[\"KBA13_KMH_251\",\"customers\"],[\"KBA13_KMH_180\",\"azdias\"],[\"KBA13_KMH_180\",\"customers\"],[\"KBA13_KRSAQUOT\",\"azdias\"],[\"KBA13_KRSAQUOT\",\"customers\"],[\"KBA13_KRSHERST_AUDI_VW\",\"azdias\"],[\"KBA13_KRSHERST_AUDI_VW\",\"customers\"],[\"KBA13_KRSHERST_BMW_BENZ\",\"azdias\"],[\"KBA13_KRSHERST_BMW_BENZ\",\"customers\"],[\"KBA13_KRSHERST_FORD_OPEL\",\"azdias\"],[\"KBA13_KRSHERST_FORD_OPEL\",\"customers\"],[\"KBA13_MOTOR\",\"azdias\"],[\"KBA13_MOTOR\",\"customers\"],[\"KBA13_SEG_VAN\",\"azdias\"],[\"KBA13_SEG_VAN\",\"customers\"],[\"KBA13_OPEL\",\"azdias\"],[\"KBA13_OPEL\",\"customers\"],[\"KBA13_SEG_UTILITIES\",\"azdias\"],[\"KBA13_SEG_UTILITIES\",\"customers\"],[\"KBA13_KMH_140\",\"azdias\"],[\"KBA13_KMH_140\",\"customers\"],[\"KBA13_TOYOTA\",\"azdias\"],[\"KBA13_TOYOTA\",\"customers\"],[\"KBA13_VORB_0\",\"azdias\"],[\"KBA13_VORB_0\",\"customers\"],[\"KBA13_SITZE_6\",\"azdias\"],[\"KBA13_SITZE_6\",\"customers\"],[\"KBA13_VORB_1\",\"azdias\"],[\"KBA13_VORB_1\",\"customers\"],[\"KBA13_VORB_1_2\",\"azdias\"],[\"KBA13_VORB_1_2\",\"customers\"],[\"KBA13_VORB_2\",\"azdias\"],[\"KBA13_VORB_2\",\"customers\"],[\"KBA13_VORB_3\",\"azdias\"],[\"KBA13_VORB_3\",\"customers\"],[\"KBA13_VW\",\"azdias\"],[\"KBA13_VW\",\"customers\"],[\"KBA13_SITZE_5\",\"azdias\"],[\"KBA13_SITZE_5\",\"customers\"],[\"KBA13_SITZE_4\",\"azdias\"],[\"KBA13_SITZE_4\",\"customers\"],[\"KBA13_SEG_WOHNMOBILE\",\"azdias\"],[\"KBA13_SEG_WOHNMOBILE\",\"customers\"],[\"KBA13_SEG_SPORTWAGEN\",\"azdias\"],[\"KBA13_SEG_SPORTWAGEN\",\"customers\"],[\"KBA13_PEUGEOT\",\"azdias\"],[\"KBA13_PEUGEOT\",\"customers\"],[\"KBA13_SEG_SONSTIGE\",\"azdias\"],[\"KBA13_SEG_SONSTIGE\",\"customers\"],[\"KBA13_SEG_OBERKLASSE\",\"azdias\"],[\"KBA13_SEG_OBERKLASSE\",\"customers\"],[\"KBA13_SEG_OBEREMITTELKLASSE\",\"azdias\"],[\"KBA13_SEG_OBEREMITTELKLASSE\",\"customers\"]]},\"selected\":{\"id\":\"1316\"},\"selection_policy\":{\"id\":\"1315\"}},\"id\":\"1279\",\"type\":\"ColumnDataSource\"},{\"attributes\":{},\"id\":\"1315\",\"type\":\"UnionRenderers\"},{\"attributes\":{\"text\":\"Overview of missing data in datasets (plot 4 of 10)\"},\"id\":\"1172\",\"type\":\"Title\"},{\"attributes\":{},\"id\":\"1533\",\"type\":\"BasicTickFormatter\"},{\"attributes\":{\"fields\":[]},\"id\":\"1189\",\"type\":\"Stack\"},{\"attributes\":{},\"id\":\"1316\",\"type\":\"Selection\"},{\"attributes\":{},\"id\":\"1179\",\"type\":\"LinearScale\"},{\"attributes\":{},\"id\":\"1534\",\"type\":\"AllLabels\"},{\"attributes\":{\"formatter\":{\"id\":\"1200\"},\"group_label_orientation\":1.5707963267948966,\"major_label_orientation\":1.5707963267948966,\"major_label_policy\":{\"id\":\"1201\"},\"ticker\":{\"id\":\"1182\"}},\"id\":\"1181\",\"type\":\"CategoricalAxis\"},{\"attributes\":{\"formatter\":{\"id\":\"1203\"},\"major_label_policy\":{\"id\":\"1204\"},\"ticker\":{\"id\":\"1185\"}},\"id\":\"1184\",\"type\":\"LinearAxis\"},{\"attributes\":{},\"id\":\"1182\",\"type\":\"CategoricalTicker\"},{\"attributes\":{\"factors\":[[\"KBA05_VORB0\",\"azdias\"],[\"KBA05_VORB0\",\"customers\"],[\"KBA05_SEG8\",\"azdias\"],[\"KBA05_SEG8\",\"customers\"],[\"KBA05_MOD8\",\"azdias\"],[\"KBA05_MOD8\",\"customers\"],[\"KBA05_SEG7\",\"azdias\"],[\"KBA05_SEG7\",\"customers\"],[\"KBA05_SEG5\",\"azdias\"],[\"KBA05_SEG5\",\"customers\"],[\"KBA05_SEG4\",\"azdias\"],[\"KBA05_SEG4\",\"customers\"],[\"KBA05_SEG3\",\"azdias\"],[\"KBA05_SEG3\",\"customers\"],[\"KBA05_SEG2\",\"azdias\"],[\"KBA05_SEG2\",\"customers\"],[\"KBA05_SEG10\",\"azdias\"],[\"KBA05_SEG10\",\"customers\"],[\"KBA05_SEG1\",\"azdias\"],[\"KBA05_SEG1\",\"customers\"],[\"KBA05_MOTOR\",\"azdias\"],[\"KBA05_MOTOR\",\"customers\"],[\"KBA05_KRSAQUOT\",\"azdias\"],[\"KBA05_KRSAQUOT\",\"customers\"],[\"KBA05_CCM4\",\"azdias\"],[\"KBA05_CCM4\",\"customers\"],[\"KBA05_HERST4\",\"azdias\"],[\"KBA05_HERST4\",\"customers\"],[\"KBA05_HERST3\",\"azdias\"],[\"KBA05_HERST3\",\"customers\"],[\"KBA05_HERST2\",\"azdias\"],[\"KBA05_HERST2\",\"customers\"],[\"KBA05_HERST1\",\"azdias\"],[\"KBA05_HERST1\",\"customers\"],[\"KBA05_FRAU\",\"azdias\"],[\"KBA05_FRAU\",\"customers\"],[\"KBA05_DIESEL\",\"azdias\"],[\"KBA05_DIESEL\",\"customers\"],[\"KBA05_CCM3\",\"azdias\"],[\"KBA05_CCM3\",\"customers\"],[\"KBA05_CCM2\",\"azdias\"],[\"KBA05_CCM2\",\"customers\"],[\"KBA05_CCM1\",\"azdias\"],[\"KBA05_CCM1\",\"customers\"],[\"KBA05_ALTER1\",\"azdias\"],[\"KBA05_ALTER1\",\"customers\"],[\"KBA05_ALTER2\",\"azdias\"],[\"KBA05_ALTER2\",\"customers\"],[\"KBA05_ALTER3\",\"azdias\"],[\"KBA05_ALTER3\",\"customers\"],[\"KBA05_ALTER4\",\"azdias\"],[\"KBA05_ALTER4\",\"customers\"],[\"W_KEIT_KIND_HH\",\"azdias\"],[\"W_KEIT_KIND_HH\",\"customers\"],[\"KBA05_ANHANG\",\"azdias\"],[\"KBA05_ANHANG\",\"customers\"],[\"KBA05_MOTRAD\",\"azdias\"],[\"KBA05_MOTRAD\",\"customers\"],[\"MOBI_REGIO\",\"azdias\"],[\"MOBI_REGIO\",\"customers\"],[\"KBA05_ANTG1\",\"azdias\"],[\"KBA05_ANTG1\",\"customers\"],[\"KBA05_ANTG3\",\"azdias\"],[\"KBA05_ANTG3\",\"customers\"]]},\"id\":\"1170\",\"type\":\"FactorRange\"},{\"attributes\":{\"below\":[{\"id\":\"1181\"}],\"center\":[{\"id\":\"1183\"},{\"id\":\"1187\"},{\"id\":\"1207\"}],\"height\":500,\"left\":[{\"id\":\"1184\"}],\"renderers\":[{\"id\":\"1196\"},{\"id\":\"1212\"}],\"title\":{\"id\":\"1172\"},\"toolbar\":{\"id\":\"1188\"},\"toolbar_location\":null,\"width\":950,\"x_range\":{\"id\":\"1170\"},\"x_scale\":{\"id\":\"1177\"},\"y_range\":{\"id\":\"1175\"},\"y_scale\":{\"id\":\"1179\"}},\"id\":\"1171\",\"subtype\":\"Figure\",\"type\":\"Plot\"},{\"attributes\":{\"fields\":[]},\"id\":\"1134\",\"type\":\"Stack\"},{\"attributes\":{\"end\":1.05,\"start\":0},\"id\":\"1120\",\"type\":\"DataRange1d\"},{\"attributes\":{},\"id\":\"1127\",\"type\":\"CategoricalTicker\"},{\"attributes\":{\"formatter\":{\"id\":\"1145\"},\"group_label_orientation\":1.5707963267948966,\"major_label_orientation\":1.5707963267948966,\"major_label_policy\":{\"id\":\"1146\"},\"ticker\":{\"id\":\"1127\"}},\"id\":\"1126\",\"type\":\"CategoricalAxis\"},{\"attributes\":{},\"id\":\"1124\",\"type\":\"LinearScale\"},{\"attributes\":{\"formatter\":{\"id\":\"1148\"},\"major_label_policy\":{\"id\":\"1149\"},\"ticker\":{\"id\":\"1130\"}},\"id\":\"1129\",\"type\":\"LinearAxis\"},{\"attributes\":{},\"id\":\"1122\",\"type\":\"CategoricalScale\"},{\"attributes\":{\"axis\":{\"id\":\"1126\"},\"grid_line_color\":null,\"ticker\":null},\"id\":\"1128\",\"type\":\"Grid\"},{\"attributes\":{\"axis\":{\"id\":\"1129\"},\"dimension\":1,\"ticker\":null},\"id\":\"1132\",\"type\":\"Grid\"},{\"attributes\":{},\"id\":\"1130\",\"type\":\"BasicTicker\"},{\"attributes\":{\"active_multi\":null},\"id\":\"1133\",\"type\":\"Toolbar\"},{\"attributes\":{\"fields\":[\"null\"]},\"id\":\"1135\",\"type\":\"Stack\"},{\"attributes\":{\"items\":[{\"id\":\"1153\"},{\"id\":\"1168\"}],\"orientation\":\"horizontal\"},\"id\":\"1152\",\"type\":\"Legend\"},{\"attributes\":{\"label\":{\"value\":\"null\"},\"renderers\":[{\"id\":\"1141\"}]},\"id\":\"1153\",\"type\":\"LegendItem\"},{\"attributes\":{\"end\":1.05,\"start\":0},\"id\":\"1175\",\"type\":\"DataRange1d\"},{\"attributes\":{\"data_source\":{\"id\":\"1114\"},\"glyph\":{\"id\":\"1139\"},\"hover_glyph\":null,\"muted_glyph\":null,\"name\":\"null\",\"nonselection_glyph\":{\"id\":\"1140\"},\"view\":{\"id\":\"1142\"}},\"id\":\"1141\",\"type\":\"GlyphRenderer\"},{\"attributes\":{\"bottom\":{\"expr\":{\"id\":\"1134\"}},\"fill_alpha\":{\"value\":0.1},\"fill_color\":{\"value\":\"blue\"},\"line_alpha\":{\"value\":0.1},\"line_color\":{\"value\":null},\"line_width\":{\"value\":0},\"top\":{\"expr\":{\"id\":\"1135\"}},\"width\":{\"value\":0.8},\"x\":{\"field\":\"x\"}},\"id\":\"1140\",\"type\":\"VBar\"},{\"attributes\":{},\"id\":\"1177\",\"type\":\"CategoricalScale\"},{\"attributes\":{\"bottom\":{\"expr\":{\"id\":\"1134\"}},\"fill_alpha\":{\"value\":0.5},\"fill_color\":{\"value\":\"blue\"},\"line_alpha\":{\"value\":0.5},\"line_color\":{\"value\":null},\"line_width\":{\"value\":0},\"top\":{\"expr\":{\"id\":\"1135\"}},\"width\":{\"value\":0.8},\"x\":{\"field\":\"x\"}},\"id\":\"1139\",\"type\":\"VBar\"},{\"attributes\":{\"source\":{\"id\":\"1114\"}},\"id\":\"1142\",\"type\":\"CDSView\"},{\"attributes\":{},\"id\":\"1145\",\"type\":\"CategoricalTickFormatter\"},{\"attributes\":{},\"id\":\"1146\",\"type\":\"AllLabels\"},{\"attributes\":{},\"id\":\"1148\",\"type\":\"BasicTickFormatter\"},{\"attributes\":{},\"id\":\"1149\",\"type\":\"AllLabels\"},{\"attributes\":{\"data\":{\"missing\":[0.8266993913588694,0.6524094781682641,0.8160761838463354,0.6222044728434505,0.8131176110180017,0.7975772097976571,0.8064053936141554,0.8343517039403621,0.8042252043703914,0.8400359424920127,0.8040130263029283,0.7865415335463258,0.7876776991315003,0.608805910543131,0.763125835898145,0.642332268370607,0.7462326472909152,0.7415202342917998,0.7452480456969572,0.33813232161874335,0.7312931657206068,0.7158879126730564,0.7180213083996291,0.6879858892438765,0.6981242505226971,0.5390109158679446,0.6936673190943573,0.39116080937167197,0.6887443111245676,0.5064430244941427,0.6800247461611266,0.4102369542066028,0.6528635695026213,0.44557374866879657,0.6347390328971365,0.47048722044728436,0.0,0.0,0.6097318212268661,0.40725505857294997,0.6034618401321703,0.3195953141640043,0.5407596451619825,0.23497071352502663,0.5399812615774128,0.3356895633652822,0.5270610476828487,0.3747870074547391,0.4090447457320024,0.3560503194888179,0.47524549479210126,0.323169595314164,0.4596194145315752,0.21217385516506923,0.35982897017348536,0.12836794462193823,0.28196677148422133,0.1472444089456869,0.0,0.0,0.0,0.0,0.0,0.0],\"null\":[0.0,0.0,0.0,0.0,0.0,0.0,0.0,0.0,0.0,0.0,0.0,0.0,0.0,0.0,0.0,0.0,0.0,0.0,0.0,0.0,0.0,0.0,0.0,0.0,0.0,0.0,0.0,0.0,0.0,0.0,0.0,0.0,0.0,0.0,0.0,0.0,0.6345185107483687,0.4700745473908413,0.0,0.0,0.0,0.0,0.0,0.0,0.0,0.0,0.0,0.0,0.09677107893739316,0.09803647497337593,0.0,0.0,0.0,0.0,0.0,0.0,0.025531696780853434,0.03564297124600639,0.24414305092988825,0.04296458998935037,0.24414305092988825,0.04296458998935037,0.24414305092988825,0.04296458998935037],\"x\":[[\"D19_KOSMETIK\",\"azdias\"],[\"D19_KOSMETIK\",\"customers\"],[\"D19_REISEN\",\"azdias\"],[\"D19_REISEN\",\"customers\"],[\"D19_VERSAND_REST\",\"azdias\"],[\"D19_VERSAND_REST\",\"customers\"],[\"D19_BANKEN_DIREKT\",\"azdias\"],[\"D19_BANKEN_DIREKT\",\"customers\"],[\"D19_BANKEN_ONLINE_DATUM\",\"azdias\"],[\"D19_BANKEN_ONLINE_DATUM\",\"customers\"],[\"D19_TELKO_MOBILE\",\"azdias\"],[\"D19_TELKO_MOBILE\",\"customers\"],[\"D19_HAUS_DEKO\",\"azdias\"],[\"D19_HAUS_DEKO\",\"customers\"],[\"D19_BEKLEIDUNG_REST\",\"azdias\"],[\"D19_BEKLEIDUNG_REST\",\"customers\"],[\"D19_BANKEN_DATUM\",\"azdias\"],[\"D19_BANKEN_DATUM\",\"customers\"],[\"AGER_TYP\",\"azdias\"],[\"AGER_TYP\",\"customers\"],[\"D19_TELKO_DATUM\",\"azdias\"],[\"D19_TELKO_DATUM\",\"customers\"],[\"D19_VERSICHERUNGEN\",\"azdias\"],[\"D19_VERSICHERUNGEN\",\"customers\"],[\"D19_VERSAND_ANZ_12\",\"azdias\"],[\"D19_VERSAND_ANZ_12\",\"customers\"],[\"D19_VERSAND_OFFLINE_DATUM\",\"azdias\"],[\"D19_VERSAND_OFFLINE_DATUM\",\"customers\"],[\"D19_TECHNIK\",\"azdias\"],[\"D19_TECHNIK\",\"customers\"],[\"D19_BUCH_CD\",\"azdias\"],[\"D19_BUCH_CD\",\"customers\"],[\"D19_VOLLSORTIMENT\",\"azdias\"],[\"D19_VOLLSORTIMENT\",\"customers\"],[\"D19_GESAMT_ANZ_12\",\"azdias\"],[\"D19_GESAMT_ANZ_12\",\"customers\"],[\"KK_KUNDENTYP\",\"azdias\"],[\"KK_KUNDENTYP\",\"customers\"],[\"D19_VERSAND_ANZ_24\",\"azdias\"],[\"D19_VERSAND_ANZ_24\",\"customers\"],[\"D19_GESAMT_OFFLINE_DATUM\",\"azdias\"],[\"D19_GESAMT_OFFLINE_DATUM\",\"customers\"],[\"D19_SONSTIGE\",\"azdias\"],[\"D19_SONSTIGE\",\"customers\"],[\"D19_GESAMT_ANZ_24\",\"azdias\"],[\"D19_GESAMT_ANZ_24\",\"customers\"],[\"D19_VERSAND_ONLINE_DATUM\",\"azdias\"],[\"D19_VERSAND_ONLINE_DATUM\",\"customers\"],[\"KBA05_BAUMAX\",\"azdias\"],[\"KBA05_BAUMAX\",\"customers\"],[\"D19_GESAMT_ONLINE_DATUM\",\"azdias\"],[\"D19_GESAMT_ONLINE_DATUM\",\"customers\"],[\"D19_VERSAND_DATUM\",\"azdias\"],[\"D19_VERSAND_DATUM\",\"customers\"],[\"D19_GESAMT_DATUM\",\"azdias\"],[\"D19_GESAMT_DATUM\",\"customers\"],[\"ALTER_HH\",\"azdias\"],[\"ALTER_HH\",\"customers\"],[\"D19_GESAMT_ONLINE_QUOTE_12\",\"azdias\"],[\"D19_GESAMT_ONLINE_QUOTE_12\",\"customers\"],[\"D19_KONSUMTYP\",\"azdias\"],[\"D19_KONSUMTYP\",\"customers\"],[\"D19_VERSAND_ONLINE_QUOTE_12\",\"azdias\"],[\"D19_VERSAND_ONLINE_QUOTE_12\",\"customers\"]]},\"selected\":{\"id\":\"1096\"},\"selection_policy\":{\"id\":\"1095\"}},\"id\":\"1059\",\"type\":\"ColumnDataSource\"},{\"attributes\":{\"below\":[{\"id\":\"1016\"}],\"center\":[{\"id\":\"1018\"},{\"id\":\"1022\"},{\"id\":\"1042\"}],\"height\":500,\"left\":[{\"id\":\"1019\"}],\"renderers\":[{\"id\":\"1031\"},{\"id\":\"1047\"}],\"title\":{\"id\":\"1007\"},\"toolbar\":{\"id\":\"1023\"},\"toolbar_location\":null,\"width\":950,\"x_range\":{\"id\":\"1005\"},\"x_scale\":{\"id\":\"1012\"},\"y_range\":{\"id\":\"1010\"},\"y_scale\":{\"id\":\"1014\"}},\"id\":\"1006\",\"subtype\":\"Figure\",\"type\":\"Plot\"},{\"attributes\":{\"data\":{\"missing\":[0.9718935581308304,0.9489749733759318,0.9902219287224735,0.985802715654952,0.9803604166318997,0.9713591586794462,0.9765340593478743,0.9504659211927583,0.9603882620232251,0.952209797657082,0.9599960902019029,0.9460529818956337,0.9557203445390372,0.8862220447284345,0.9535103550048991,0.9477302981895633,0.9534579064938409,0.8833200212992546,0.9528023001056122,0.9223109691160809,0.9364574368412646,0.862533280085197,0.9343451922595534,0.8323282747603834,0.9290908050608045,0.9235356762513312,0.9268533992595224,0.8754792332268371,0.9225037488765291,0.9119675186368477,0.9172016812131818,0.8975838658146965,0.916640243742535,0.9041666666666667,0.9140476184799945,0.8938099041533546,0.9069456132780558,0.7613019169329074,0.9023539845372254,0.7513578274760383,0.8973081993710946,0.7979832268370607,0.8937488526888206,0.6906616080937167,0.8842306399433556,0.8806709265175718,0.8802350170100057,0.8318690095846646,0.8738017303240603,0.889776357827476,0.8638913457572731,0.8483027156549521,0.8591078031464339,0.8142904685835995,0.8535732932181691,0.6801184771033014,0.8507029292493427,0.8470913205537807,0.8447917436507502,0.7950745473908413,0.8309060003480674,0.7473575612353568,0.5850834050526988,0.5868743343982961],\"null\":[0.025531696780853434,0.03564297124600639,0.0,0.0,0.0,0.0,0.0,0.0,0.0,0.0,0.0,0.0,0.0,0.0,0.0,0.0,0.0,0.0,0.0,0.0,0.0,0.0,0.0,0.0,0.0,0.0,0.0,0.0,0.0,0.0,0.0,0.0,0.0,0.0,0.0,0.0,0.0,0.0,0.0,0.0,0.0,0.0,0.0,0.0,0.0,0.0,0.0,0.0,0.0,0.0,0.0,0.0,0.0,0.0,0.0,0.0,0.0,0.0,0.0,0.0,0.0,0.0,0.24414305092988825,0.04296458998935037],\"x\":[[\"TITEL_KZ\",\"azdias\"],[\"TITEL_KZ\",\"customers\"],[\"D19_TELKO_ONLINE_DATUM\",\"azdias\"],[\"D19_TELKO_ONLINE_DATUM\",\"customers\"],[\"D19_BANKEN_LOKAL\",\"azdias\"],[\"D19_BANKEN_LOKAL\",\"customers\"],[\"D19_BANKEN_OFFLINE_DATUM\",\"azdias\"],[\"D19_BANKEN_OFFLINE_DATUM\",\"customers\"],[\"D19_TELKO_ANZ_12\",\"azdias\"],[\"D19_TELKO_ANZ_12\",\"customers\"],[\"D19_DIGIT_SERV\",\"azdias\"],[\"D19_DIGIT_SERV\",\"customers\"],[\"D19_BIO_OEKO\",\"azdias\"],[\"D19_BIO_OEKO\",\"customers\"],[\"D19_TIERARTIKEL\",\"azdias\"],[\"D19_TIERARTIKEL\",\"customers\"],[\"D19_NAHRUNGSERGAENZUNG\",\"azdias\"],[\"D19_NAHRUNGSERGAENZUNG\",\"customers\"],[\"D19_GARTEN\",\"azdias\"],[\"D19_GARTEN\",\"customers\"],[\"D19_LEBENSMITTEL\",\"azdias\"],[\"D19_LEBENSMITTEL\",\"customers\"],[\"D19_WEIN_FEINKOST\",\"azdias\"],[\"D19_WEIN_FEINKOST\",\"customers\"],[\"D19_BANKEN_ANZ_12\",\"azdias\"],[\"D19_BANKEN_ANZ_12\",\"customers\"],[\"D19_ENERGIE\",\"azdias\"],[\"D19_ENERGIE\",\"customers\"],[\"D19_TELKO_ANZ_24\",\"azdias\"],[\"D19_TELKO_ANZ_24\",\"customers\"],[\"D19_BANKEN_REST\",\"azdias\"],[\"D19_BANKEN_REST\",\"customers\"],[\"D19_VERSI_ANZ_12\",\"azdias\"],[\"D19_VERSI_ANZ_12\",\"customers\"],[\"D19_TELKO_OFFLINE_DATUM\",\"azdias\"],[\"D19_TELKO_OFFLINE_DATUM\",\"customers\"],[\"D19_BILDUNG\",\"azdias\"],[\"D19_BILDUNG\",\"customers\"],[\"D19_BEKLEIDUNG_GEH\",\"azdias\"],[\"D19_BEKLEIDUNG_GEH\",\"customers\"],[\"D19_RATGEBER\",\"azdias\"],[\"D19_RATGEBER\",\"customers\"],[\"D19_SAMMELARTIKEL\",\"azdias\"],[\"D19_SAMMELARTIKEL\",\"customers\"],[\"D19_BANKEN_ANZ_24\",\"azdias\"],[\"D19_BANKEN_ANZ_24\",\"customers\"],[\"D19_FREIZEIT\",\"azdias\"],[\"D19_FREIZEIT\",\"customers\"],[\"D19_BANKEN_GROSS\",\"azdias\"],[\"D19_BANKEN_GROSS\",\"customers\"],[\"D19_VERSI_ANZ_24\",\"azdias\"],[\"D19_VERSI_ANZ_24\",\"customers\"],[\"D19_SCHUHE\",\"azdias\"],[\"D19_SCHUHE\",\"customers\"],[\"D19_HANDWERK\",\"azdias\"],[\"D19_HANDWERK\",\"customers\"],[\"D19_TELKO_REST\",\"azdias\"],[\"D19_TELKO_REST\",\"customers\"],[\"D19_DROGERIEARTIKEL\",\"azdias\"],[\"D19_DROGERIEARTIKEL\",\"customers\"],[\"D19_KINDERARTIKEL\",\"azdias\"],[\"D19_KINDERARTIKEL\",\"customers\"],[\"D19_LOTTO\",\"azdias\"],[\"D19_LOTTO\",\"customers\"]]},\"selected\":{\"id\":\"1041\"},\"selection_policy\":{\"id\":\"1040\"}},\"id\":\"1004\",\"type\":\"ColumnDataSource\"},{\"attributes\":{\"below\":[{\"id\":\"1071\"}],\"center\":[{\"id\":\"1073\"},{\"id\":\"1077\"},{\"id\":\"1097\"}],\"height\":500,\"left\":[{\"id\":\"1074\"}],\"renderers\":[{\"id\":\"1086\"},{\"id\":\"1102\"}],\"title\":{\"id\":\"1062\"},\"toolbar\":{\"id\":\"1078\"},\"toolbar_location\":null,\"width\":950,\"x_range\":{\"id\":\"1060\"},\"x_scale\":{\"id\":\"1067\"},\"y_range\":{\"id\":\"1065\"},\"y_scale\":{\"id\":\"1069\"}},\"id\":\"1061\",\"subtype\":\"Figure\",\"type\":\"Plot\"},{\"attributes\":{\"factors\":[[\"TITEL_KZ\",\"azdias\"],[\"TITEL_KZ\",\"customers\"],[\"D19_TELKO_ONLINE_DATUM\",\"azdias\"],[\"D19_TELKO_ONLINE_DATUM\",\"customers\"],[\"D19_BANKEN_LOKAL\",\"azdias\"],[\"D19_BANKEN_LOKAL\",\"customers\"],[\"D19_BANKEN_OFFLINE_DATUM\",\"azdias\"],[\"D19_BANKEN_OFFLINE_DATUM\",\"customers\"],[\"D19_TELKO_ANZ_12\",\"azdias\"],[\"D19_TELKO_ANZ_12\",\"customers\"],[\"D19_DIGIT_SERV\",\"azdias\"],[\"D19_DIGIT_SERV\",\"customers\"],[\"D19_BIO_OEKO\",\"azdias\"],[\"D19_BIO_OEKO\",\"customers\"],[\"D19_TIERARTIKEL\",\"azdias\"],[\"D19_TIERARTIKEL\",\"customers\"],[\"D19_NAHRUNGSERGAENZUNG\",\"azdias\"],[\"D19_NAHRUNGSERGAENZUNG\",\"customers\"],[\"D19_GARTEN\",\"azdias\"],[\"D19_GARTEN\",\"customers\"],[\"D19_LEBENSMITTEL\",\"azdias\"],[\"D19_LEBENSMITTEL\",\"customers\"],[\"D19_WEIN_FEINKOST\",\"azdias\"],[\"D19_WEIN_FEINKOST\",\"customers\"],[\"D19_BANKEN_ANZ_12\",\"azdias\"],[\"D19_BANKEN_ANZ_12\",\"customers\"],[\"D19_ENERGIE\",\"azdias\"],[\"D19_ENERGIE\",\"customers\"],[\"D19_TELKO_ANZ_24\",\"azdias\"],[\"D19_TELKO_ANZ_24\",\"customers\"],[\"D19_BANKEN_REST\",\"azdias\"],[\"D19_BANKEN_REST\",\"customers\"],[\"D19_VERSI_ANZ_12\",\"azdias\"],[\"D19_VERSI_ANZ_12\",\"customers\"],[\"D19_TELKO_OFFLINE_DATUM\",\"azdias\"],[\"D19_TELKO_OFFLINE_DATUM\",\"customers\"],[\"D19_BILDUNG\",\"azdias\"],[\"D19_BILDUNG\",\"customers\"],[\"D19_BEKLEIDUNG_GEH\",\"azdias\"],[\"D19_BEKLEIDUNG_GEH\",\"customers\"],[\"D19_RATGEBER\",\"azdias\"],[\"D19_RATGEBER\",\"customers\"],[\"D19_SAMMELARTIKEL\",\"azdias\"],[\"D19_SAMMELARTIKEL\",\"customers\"],[\"D19_BANKEN_ANZ_24\",\"azdias\"],[\"D19_BANKEN_ANZ_24\",\"customers\"],[\"D19_FREIZEIT\",\"azdias\"],[\"D19_FREIZEIT\",\"customers\"],[\"D19_BANKEN_GROSS\",\"azdias\"],[\"D19_BANKEN_GROSS\",\"customers\"],[\"D19_VERSI_ANZ_24\",\"azdias\"],[\"D19_VERSI_ANZ_24\",\"customers\"],[\"D19_SCHUHE\",\"azdias\"],[\"D19_SCHUHE\",\"customers\"],[\"D19_HANDWERK\",\"azdias\"],[\"D19_HANDWERK\",\"customers\"],[\"D19_TELKO_REST\",\"azdias\"],[\"D19_TELKO_REST\",\"customers\"],[\"D19_DROGERIEARTIKEL\",\"azdias\"],[\"D19_DROGERIEARTIKEL\",\"customers\"],[\"D19_KINDERARTIKEL\",\"azdias\"],[\"D19_KINDERARTIKEL\",\"customers\"],[\"D19_LOTTO\",\"azdias\"],[\"D19_LOTTO\",\"customers\"]]},\"id\":\"1005\",\"type\":\"FactorRange\"},{\"attributes\":{\"factors\":[[\"D19_BANKEN_ONLINE_QUOTE_12\",\"azdias\"],[\"D19_BANKEN_ONLINE_QUOTE_12\",\"customers\"],[\"KKK\",\"azdias\"],[\"KKK\",\"customers\"],[\"REGIOTYP\",\"azdias\"],[\"REGIOTYP\",\"customers\"],[\"KBA05_AUTOQUOT\",\"azdias\"],[\"KBA05_AUTOQUOT\",\"customers\"],[\"KBA05_MOD3\",\"azdias\"],[\"KBA05_MOD3\",\"customers\"],[\"KBA05_KW3\",\"azdias\"],[\"KBA05_KW3\",\"customers\"],[\"KBA05_MOD1\",\"azdias\"],[\"KBA05_MOD1\",\"customers\"],[\"KBA05_MAXVORB\",\"azdias\"],[\"KBA05_MAXVORB\",\"customers\"],[\"KBA05_MAXSEG\",\"azdias\"],[\"KBA05_MAXSEG\",\"customers\"],[\"KBA05_MAXHERST\",\"azdias\"],[\"KBA05_MAXHERST\",\"customers\"],[\"KBA05_MAXBJ\",\"azdias\"],[\"KBA05_MAXBJ\",\"customers\"],[\"KBA05_MAXAH\",\"azdias\"],[\"KBA05_MAXAH\",\"customers\"],[\"KBA05_KRSHERST1\",\"azdias\"],[\"KBA05_KRSHERST1\",\"customers\"],[\"KBA05_KRSHERST2\",\"azdias\"],[\"KBA05_KRSHERST2\",\"customers\"],[\"KBA05_KW2\",\"azdias\"],[\"KBA05_KW2\",\"customers\"],[\"KBA05_KW1\",\"azdias\"],[\"KBA05_KW1\",\"customers\"],[\"KBA05_KRSHERST3\",\"azdias\"],[\"KBA05_KRSHERST3\",\"customers\"],[\"KBA05_KRSKLEIN\",\"azdias\"],[\"KBA05_KRSKLEIN\",\"customers\"],[\"KBA05_KRSOBER\",\"azdias\"],[\"KBA05_KRSOBER\",\"customers\"],[\"KBA05_KRSZUL\",\"azdias\"],[\"KBA05_KRSZUL\",\"customers\"],[\"KBA05_KRSVAN\",\"azdias\"],[\"KBA05_KRSVAN\",\"customers\"],[\"KBA05_MOD2\",\"azdias\"],[\"KBA05_MOD2\",\"customers\"],[\"KBA05_SEG6\",\"azdias\"],[\"KBA05_SEG6\",\"customers\"],[\"KBA05_MOD4\",\"azdias\"],[\"KBA05_MOD4\",\"customers\"],[\"KBA05_SEG9\",\"azdias\"],[\"KBA05_SEG9\",\"customers\"],[\"KBA05_HERST5\",\"azdias\"],[\"KBA05_HERST5\",\"customers\"],[\"KBA05_VORB1\",\"azdias\"],[\"KBA05_VORB1\",\"customers\"],[\"KBA05_VORB2\",\"azdias\"],[\"KBA05_VORB2\",\"customers\"],[\"KBA05_ZUL1\",\"azdias\"],[\"KBA05_ZUL1\",\"customers\"],[\"KBA05_ZUL2\",\"azdias\"],[\"KBA05_ZUL2\",\"customers\"],[\"KBA05_ZUL3\",\"azdias\"],[\"KBA05_ZUL3\",\"customers\"],[\"KBA05_ZUL4\",\"azdias\"],[\"KBA05_ZUL4\",\"customers\"]]},\"id\":\"1115\",\"type\":\"FactorRange\"},{\"attributes\":{\"fields\":[]},\"id\":\"1079\",\"type\":\"Stack\"},{\"attributes\":{\"data_source\":{\"id\":\"1004\"},\"glyph\":{\"id\":\"1029\"},\"hover_glyph\":null,\"muted_glyph\":null,\"name\":\"null\",\"nonselection_glyph\":{\"id\":\"1030\"},\"view\":{\"id\":\"1032\"}},\"id\":\"1031\",\"type\":\"GlyphRenderer\"},{\"attributes\":{\"data\":{\"missing\":[0.01752137872831433,0.006210063897763578,0.01752137872831433,0.006210063897763578,0.01752137872831433,0.006210063897763578,0.01752137872831433,0.006210063897763578,0.01752137872831433,0.006210063897763578,0.01752137872831433,0.006210063897763578,0.01752137872831433,0.006210063897763578,0.01752137872831433,0.006210063897763578,0.01752137872831433,0.006210063897763578,0.01752137872831433,0.006210063897763578,0.01752137872831433,0.006210063897763578,0.01752137872831433,0.006210063897763578,0.01752137872831433,0.006210063897763578,0.01752137872831433,0.006210063897763578,0.01752137872831433,0.006210063897763578,0.01752137872831433,0.006210063897763578,0.01752137872831433,0.006210063897763578,0.01752137872831433,0.006210063897763578,0.01752137872831433,0.006210063897763578,0.01752137872831433,0.006210063897763578,0.01752137872831433,0.006210063897763578,0.01752137872831433,0.006210063897763578,0.01752137872831433,0.006210063897763578,0.01752137872831433,0.006210063897763578,0.01752137872831433,0.006210063897763578,0.01752137872831433,0.006210063897763578,0.048059524292004704,0.02125266240681576,0.016441416205159504,0.0057973908413205535,0.015651112504440245,0.005837326943556976,0.0,0.0,0.0,0.0,0.0,0.0],\"null\":[0.09677107893739316,0.09803647497337593,0.09677107893739316,0.09803647497337593,0.09677107893739316,0.09803647497337593,0.09677107893739316,0.09803647497337593,0.09677107893739316,0.09803647497337593,0.09677107893739316,0.09803647497337593,0.09677107893739316,0.09803647497337593,0.09677107893739316,0.09803647497337593,0.09677107893739316,0.09803647497337593,0.09677107893739316,0.09803647497337593,0.09677107893739316,0.09803647497337593,0.09677107893739316,0.09803647497337593,0.09677107893739316,0.09803647497337593,0.09677107893739316,0.09803647497337593,0.09677107893739316,0.09803647497337593,0.09677107893739316,0.09803647497337593,0.09677107893739316,0.09803647497337593,0.09677107893739316,0.09803647497337593,0.09677107893739316,0.09803647497337593,0.09677107893739316,0.09803647497337593,0.09677107893739316,0.09803647497337593,0.09677107893739316,0.09803647497337593,0.09677107893739316,0.09803647497337593,0.09677107893739316,0.09803647497337593,0.09677107893739316,0.09803647497337593,0.09677107893739316,0.09803647497337593,0.06618167687425947,0.08312699680511182,0.09677107893739316,0.09803647497337593,0.09677107893739316,0.09803647497337593,0.09677107893739316,0.09803647497337593,0.09677107893739316,0.09803647497337593,0.09677107893739316,0.09803647497337593],\"x\":[[\"KBA05_VORB0\",\"azdias\"],[\"KBA05_VORB0\",\"customers\"],[\"KBA05_SEG8\",\"azdias\"],[\"KBA05_SEG8\",\"customers\"],[\"KBA05_MOD8\",\"azdias\"],[\"KBA05_MOD8\",\"customers\"],[\"KBA05_SEG7\",\"azdias\"],[\"KBA05_SEG7\",\"customers\"],[\"KBA05_SEG5\",\"azdias\"],[\"KBA05_SEG5\",\"customers\"],[\"KBA05_SEG4\",\"azdias\"],[\"KBA05_SEG4\",\"customers\"],[\"KBA05_SEG3\",\"azdias\"],[\"KBA05_SEG3\",\"customers\"],[\"KBA05_SEG2\",\"azdias\"],[\"KBA05_SEG2\",\"customers\"],[\"KBA05_SEG10\",\"azdias\"],[\"KBA05_SEG10\",\"customers\"],[\"KBA05_SEG1\",\"azdias\"],[\"KBA05_SEG1\",\"customers\"],[\"KBA05_MOTOR\",\"azdias\"],[\"KBA05_MOTOR\",\"customers\"],[\"KBA05_KRSAQUOT\",\"azdias\"],[\"KBA05_KRSAQUOT\",\"customers\"],[\"KBA05_CCM4\",\"azdias\"],[\"KBA05_CCM4\",\"customers\"],[\"KBA05_HERST4\",\"azdias\"],[\"KBA05_HERST4\",\"customers\"],[\"KBA05_HERST3\",\"azdias\"],[\"KBA05_HERST3\",\"customers\"],[\"KBA05_HERST2\",\"azdias\"],[\"KBA05_HERST2\",\"customers\"],[\"KBA05_HERST1\",\"azdias\"],[\"KBA05_HERST1\",\"customers\"],[\"KBA05_FRAU\",\"azdias\"],[\"KBA05_FRAU\",\"customers\"],[\"KBA05_DIESEL\",\"azdias\"],[\"KBA05_DIESEL\",\"customers\"],[\"KBA05_CCM3\",\"azdias\"],[\"KBA05_CCM3\",\"customers\"],[\"KBA05_CCM2\",\"azdias\"],[\"KBA05_CCM2\",\"customers\"],[\"KBA05_CCM1\",\"azdias\"],[\"KBA05_CCM1\",\"customers\"],[\"KBA05_ALTER1\",\"azdias\"],[\"KBA05_ALTER1\",\"customers\"],[\"KBA05_ALTER2\",\"azdias\"],[\"KBA05_ALTER2\",\"customers\"],[\"KBA05_ALTER3\",\"azdias\"],[\"KBA05_ALTER3\",\"customers\"],[\"KBA05_ALTER4\",\"azdias\"],[\"KBA05_ALTER4\",\"customers\"],[\"W_KEIT_KIND_HH\",\"azdias\"],[\"W_KEIT_KIND_HH\",\"customers\"],[\"KBA05_ANHANG\",\"azdias\"],[\"KBA05_ANHANG\",\"customers\"],[\"KBA05_MOTRAD\",\"azdias\"],[\"KBA05_MOTRAD\",\"customers\"],[\"MOBI_REGIO\",\"azdias\"],[\"MOBI_REGIO\",\"customers\"],[\"KBA05_ANTG1\",\"azdias\"],[\"KBA05_ANTG1\",\"customers\"],[\"KBA05_ANTG3\",\"azdias\"],[\"KBA05_ANTG3\",\"customers\"]]},\"selected\":{\"id\":\"1206\"},\"selection_policy\":{\"id\":\"1205\"}},\"id\":\"1169\",\"type\":\"ColumnDataSource\"},{\"attributes\":{},\"id\":\"1072\",\"type\":\"CategoricalTicker\"},{\"attributes\":{\"below\":[{\"id\":\"1126\"}],\"center\":[{\"id\":\"1128\"},{\"id\":\"1132\"},{\"id\":\"1152\"}],\"height\":500,\"left\":[{\"id\":\"1129\"}],\"renderers\":[{\"id\":\"1141\"},{\"id\":\"1157\"}],\"title\":{\"id\":\"1117\"},\"toolbar\":{\"id\":\"1133\"},\"toolbar_location\":null,\"width\":950,\"x_range\":{\"id\":\"1115\"},\"x_scale\":{\"id\":\"1122\"},\"y_range\":{\"id\":\"1120\"},\"y_scale\":{\"id\":\"1124\"}},\"id\":\"1116\",\"subtype\":\"Figure\",\"type\":\"Plot\"},{\"attributes\":{\"text\":\"Overview of missing data in datasets (plot 2 of 10)\"},\"id\":\"1062\",\"type\":\"Title\"},{\"attributes\":{\"end\":1.05,\"start\":0},\"id\":\"1065\",\"type\":\"DataRange1d\"},{\"attributes\":{\"formatter\":{\"id\":\"1090\"},\"group_label_orientation\":1.5707963267948966,\"major_label_orientation\":1.5707963267948966,\"major_label_policy\":{\"id\":\"1091\"},\"ticker\":{\"id\":\"1072\"}},\"id\":\"1071\",\"type\":\"CategoricalAxis\"},{\"attributes\":{\"factors\":[[\"D19_KOSMETIK\",\"azdias\"],[\"D19_KOSMETIK\",\"customers\"],[\"D19_REISEN\",\"azdias\"],[\"D19_REISEN\",\"customers\"],[\"D19_VERSAND_REST\",\"azdias\"],[\"D19_VERSAND_REST\",\"customers\"],[\"D19_BANKEN_DIREKT\",\"azdias\"],[\"D19_BANKEN_DIREKT\",\"customers\"],[\"D19_BANKEN_ONLINE_DATUM\",\"azdias\"],[\"D19_BANKEN_ONLINE_DATUM\",\"customers\"],[\"D19_TELKO_MOBILE\",\"azdias\"],[\"D19_TELKO_MOBILE\",\"customers\"],[\"D19_HAUS_DEKO\",\"azdias\"],[\"D19_HAUS_DEKO\",\"customers\"],[\"D19_BEKLEIDUNG_REST\",\"azdias\"],[\"D19_BEKLEIDUNG_REST\",\"customers\"],[\"D19_BANKEN_DATUM\",\"azdias\"],[\"D19_BANKEN_DATUM\",\"customers\"],[\"AGER_TYP\",\"azdias\"],[\"AGER_TYP\",\"customers\"],[\"D19_TELKO_DATUM\",\"azdias\"],[\"D19_TELKO_DATUM\",\"customers\"],[\"D19_VERSICHERUNGEN\",\"azdias\"],[\"D19_VERSICHERUNGEN\",\"customers\"],[\"D19_VERSAND_ANZ_12\",\"azdias\"],[\"D19_VERSAND_ANZ_12\",\"customers\"],[\"D19_VERSAND_OFFLINE_DATUM\",\"azdias\"],[\"D19_VERSAND_OFFLINE_DATUM\",\"customers\"],[\"D19_TECHNIK\",\"azdias\"],[\"D19_TECHNIK\",\"customers\"],[\"D19_BUCH_CD\",\"azdias\"],[\"D19_BUCH_CD\",\"customers\"],[\"D19_VOLLSORTIMENT\",\"azdias\"],[\"D19_VOLLSORTIMENT\",\"customers\"],[\"D19_GESAMT_ANZ_12\",\"azdias\"],[\"D19_GESAMT_ANZ_12\",\"customers\"],[\"KK_KUNDENTYP\",\"azdias\"],[\"KK_KUNDENTYP\",\"customers\"],[\"D19_VERSAND_ANZ_24\",\"azdias\"],[\"D19_VERSAND_ANZ_24\",\"customers\"],[\"D19_GESAMT_OFFLINE_DATUM\",\"azdias\"],[\"D19_GESAMT_OFFLINE_DATUM\",\"customers\"],[\"D19_SONSTIGE\",\"azdias\"],[\"D19_SONSTIGE\",\"customers\"],[\"D19_GESAMT_ANZ_24\",\"azdias\"],[\"D19_GESAMT_ANZ_24\",\"customers\"],[\"D19_VERSAND_ONLINE_DATUM\",\"azdias\"],[\"D19_VERSAND_ONLINE_DATUM\",\"customers\"],[\"KBA05_BAUMAX\",\"azdias\"],[\"KBA05_BAUMAX\",\"customers\"],[\"D19_GESAMT_ONLINE_DATUM\",\"azdias\"],[\"D19_GESAMT_ONLINE_DATUM\",\"customers\"],[\"D19_VERSAND_DATUM\",\"azdias\"],[\"D19_VERSAND_DATUM\",\"customers\"],[\"D19_GESAMT_DATUM\",\"azdias\"],[\"D19_GESAMT_DATUM\",\"customers\"],[\"ALTER_HH\",\"azdias\"],[\"ALTER_HH\",\"customers\"],[\"D19_GESAMT_ONLINE_QUOTE_12\",\"azdias\"],[\"D19_GESAMT_ONLINE_QUOTE_12\",\"customers\"],[\"D19_KONSUMTYP\",\"azdias\"],[\"D19_KONSUMTYP\",\"customers\"],[\"D19_VERSAND_ONLINE_QUOTE_12\",\"azdias\"],[\"D19_VERSAND_ONLINE_QUOTE_12\",\"customers\"]]},\"id\":\"1060\",\"type\":\"FactorRange\"},{\"attributes\":{},\"id\":\"1069\",\"type\":\"LinearScale\"},{\"attributes\":{\"formatter\":{\"id\":\"1093\"},\"major_label_policy\":{\"id\":\"1094\"},\"ticker\":{\"id\":\"1075\"}},\"id\":\"1074\",\"type\":\"LinearAxis\"},{\"attributes\":{\"text\":\"Overview of missing data in datasets (plot 1 of 10)\"},\"id\":\"1007\",\"type\":\"Title\"},{\"attributes\":{},\"id\":\"1067\",\"type\":\"CategoricalScale\"},{\"attributes\":{\"axis\":{\"id\":\"1071\"},\"grid_line_color\":null,\"ticker\":null},\"id\":\"1073\",\"type\":\"Grid\"},{\"attributes\":{},\"id\":\"1014\",\"type\":\"LinearScale\"},{\"attributes\":{\"fields\":[]},\"id\":\"1024\",\"type\":\"Stack\"},{\"attributes\":{\"end\":1.05,\"start\":0},\"id\":\"1010\",\"type\":\"DataRange1d\"},{\"attributes\":{\"axis\":{\"id\":\"1074\"},\"dimension\":1,\"ticker\":null},\"id\":\"1077\",\"type\":\"Grid\"},{\"attributes\":{},\"id\":\"1075\",\"type\":\"BasicTicker\"},{\"attributes\":{\"formatter\":{\"id\":\"1035\"},\"group_label_orientation\":1.5707963267948966,\"major_label_orientation\":1.5707963267948966,\"major_label_policy\":{\"id\":\"1036\"},\"ticker\":{\"id\":\"1017\"}},\"id\":\"1016\",\"type\":\"CategoricalAxis\"},{\"attributes\":{\"active_multi\":null},\"id\":\"1078\",\"type\":\"Toolbar\"},{\"attributes\":{},\"id\":\"1012\",\"type\":\"CategoricalScale\"},{\"attributes\":{\"fields\":[\"null\",\"missing\"]},\"id\":\"1082\",\"type\":\"Stack\"},{\"attributes\":{\"fields\":[\"null\"]},\"id\":\"1080\",\"type\":\"Stack\"},{\"attributes\":{},\"id\":\"1017\",\"type\":\"CategoricalTicker\"},{\"attributes\":{\"formatter\":{\"id\":\"1038\"},\"major_label_policy\":{\"id\":\"1039\"},\"ticker\":{\"id\":\"1020\"}},\"id\":\"1019\",\"type\":\"LinearAxis\"},{\"attributes\":{\"axis\":{\"id\":\"1016\"},\"grid_line_color\":null,\"ticker\":null},\"id\":\"1018\",\"type\":\"Grid\"},{\"attributes\":{\"axis\":{\"id\":\"1019\"},\"dimension\":1,\"ticker\":null},\"id\":\"1022\",\"type\":\"Grid\"},{\"attributes\":{},\"id\":\"1020\",\"type\":\"BasicTicker\"},{\"attributes\":{\"active_multi\":null},\"id\":\"1023\",\"type\":\"Toolbar\"},{\"attributes\":{\"fields\":[\"null\",\"missing\"]},\"id\":\"1027\",\"type\":\"Stack\"},{\"attributes\":{\"fields\":[\"null\"]},\"id\":\"1025\",\"type\":\"Stack\"},{\"attributes\":{\"fields\":[\"null\"]},\"id\":\"1081\",\"type\":\"Stack\"},{\"attributes\":{\"source\":{\"id\":\"1059\"}},\"id\":\"1087\",\"type\":\"CDSView\"},{\"attributes\":{\"bottom\":{\"expr\":{\"id\":\"1079\"}},\"fill_alpha\":{\"value\":0.5},\"fill_color\":{\"value\":\"blue\"},\"line_alpha\":{\"value\":0.5},\"line_color\":{\"value\":null},\"line_width\":{\"value\":0},\"top\":{\"expr\":{\"id\":\"1080\"}},\"width\":{\"value\":0.8},\"x\":{\"field\":\"x\"}},\"id\":\"1084\",\"type\":\"VBar\"},{\"attributes\":{\"data_source\":{\"id\":\"1059\"},\"glyph\":{\"id\":\"1084\"},\"hover_glyph\":null,\"muted_glyph\":null,\"name\":\"null\",\"nonselection_glyph\":{\"id\":\"1085\"},\"view\":{\"id\":\"1087\"}},\"id\":\"1086\",\"type\":\"GlyphRenderer\"},{\"attributes\":{\"bottom\":{\"expr\":{\"id\":\"1079\"}},\"fill_alpha\":{\"value\":0.1},\"fill_color\":{\"value\":\"blue\"},\"line_alpha\":{\"value\":0.1},\"line_color\":{\"value\":null},\"line_width\":{\"value\":0},\"top\":{\"expr\":{\"id\":\"1080\"}},\"width\":{\"value\":0.8},\"x\":{\"field\":\"x\"}},\"id\":\"1085\",\"type\":\"VBar\"},{\"attributes\":{\"fields\":[\"null\"]},\"id\":\"1026\",\"type\":\"Stack\"},{\"attributes\":{\"label\":{\"value\":\"null\"},\"renderers\":[{\"id\":\"1086\"}]},\"id\":\"1098\",\"type\":\"LegendItem\"},{\"attributes\":{\"source\":{\"id\":\"1004\"}},\"id\":\"1032\",\"type\":\"CDSView\"},{\"attributes\":{\"items\":[{\"id\":\"1098\"},{\"id\":\"1113\"}],\"orientation\":\"horizontal\"},\"id\":\"1097\",\"type\":\"Legend\"},{\"attributes\":{\"bottom\":{\"expr\":{\"id\":\"1024\"}},\"fill_alpha\":{\"value\":0.5},\"fill_color\":{\"value\":\"blue\"},\"line_alpha\":{\"value\":0.5},\"line_color\":{\"value\":null},\"line_width\":{\"value\":0},\"top\":{\"expr\":{\"id\":\"1025\"}},\"width\":{\"value\":0.8},\"x\":{\"field\":\"x\"}},\"id\":\"1029\",\"type\":\"VBar\"},{\"attributes\":{},\"id\":\"1036\",\"type\":\"AllLabels\"},{\"attributes\":{\"bottom\":{\"expr\":{\"id\":\"1024\"}},\"fill_alpha\":{\"value\":0.1},\"fill_color\":{\"value\":\"blue\"},\"line_alpha\":{\"value\":0.1},\"line_color\":{\"value\":null},\"line_width\":{\"value\":0},\"top\":{\"expr\":{\"id\":\"1025\"}},\"width\":{\"value\":0.8},\"x\":{\"field\":\"x\"}},\"id\":\"1030\",\"type\":\"VBar\"},{\"attributes\":{\"label\":{\"value\":\"null\"},\"renderers\":[{\"id\":\"1031\"}]},\"id\":\"1043\",\"type\":\"LegendItem\"},{\"attributes\":{\"items\":[{\"id\":\"1043\"},{\"id\":\"1058\"}],\"orientation\":\"horizontal\"},\"id\":\"1042\",\"type\":\"Legend\"},{\"attributes\":{},\"id\":\"1090\",\"type\":\"CategoricalTickFormatter\"},{\"attributes\":{},\"id\":\"1091\",\"type\":\"AllLabels\"},{\"attributes\":{},\"id\":\"1093\",\"type\":\"BasicTickFormatter\"},{\"attributes\":{},\"id\":\"1094\",\"type\":\"AllLabels\"},{\"attributes\":{},\"id\":\"1035\",\"type\":\"CategoricalTickFormatter\"},{\"attributes\":{},\"id\":\"1232\",\"type\":\"CategoricalScale\"},{\"attributes\":{},\"id\":\"1478\",\"type\":\"BasicTickFormatter\"},{\"attributes\":{\"text\":\"Overview of missing data in datasets (plot 8 of 10)\"},\"id\":\"1392\",\"type\":\"Title\"},{\"attributes\":{},\"id\":\"1479\",\"type\":\"AllLabels\"},{\"attributes\":{\"below\":[{\"id\":\"1456\"}],\"center\":[{\"id\":\"1458\"},{\"id\":\"1462\"},{\"id\":\"1482\"}],\"height\":500,\"left\":[{\"id\":\"1459\"}],\"renderers\":[{\"id\":\"1471\"},{\"id\":\"1487\"}],\"title\":{\"id\":\"1447\"},\"toolbar\":{\"id\":\"1463\"},\"toolbar_location\":null,\"width\":950,\"x_range\":{\"id\":\"1445\"},\"x_scale\":{\"id\":\"1452\"},\"y_range\":{\"id\":\"1450\"},\"y_scale\":{\"id\":\"1454\"}},\"id\":\"1446\",\"subtype\":\"Figure\",\"type\":\"Plot\"},{\"attributes\":{\"axis\":{\"id\":\"1184\"},\"dimension\":1,\"ticker\":null},\"id\":\"1187\",\"type\":\"Grid\"},{\"attributes\":{\"active_multi\":null},\"id\":\"1188\",\"type\":\"Toolbar\"},{\"attributes\":{},\"id\":\"1237\",\"type\":\"CategoricalTicker\"},{\"attributes\":{\"fields\":[\"null\",\"missing\"]},\"id\":\"1192\",\"type\":\"Stack\"},{\"attributes\":{\"fields\":[\"null\"]},\"id\":\"1190\",\"type\":\"Stack\"},{\"attributes\":{\"active_multi\":null},\"id\":\"1243\",\"type\":\"Toolbar\"},{\"attributes\":{\"formatter\":{\"id\":\"1255\"},\"group_label_orientation\":1.5707963267948966,\"major_label_orientation\":1.5707963267948966,\"major_label_policy\":{\"id\":\"1256\"},\"ticker\":{\"id\":\"1237\"}},\"id\":\"1236\",\"type\":\"CategoricalAxis\"},{\"attributes\":{\"fields\":[\"null\"]},\"id\":\"1245\",\"type\":\"Stack\"},{\"attributes\":{\"axis\":{\"id\":\"1236\"},\"grid_line_color\":null,\"ticker\":null},\"id\":\"1238\",\"type\":\"Grid\"},{\"attributes\":{},\"id\":\"1234\",\"type\":\"LinearScale\"},{\"attributes\":{\"end\":1.05,\"start\":0},\"id\":\"1230\",\"type\":\"DataRange1d\"},{\"attributes\":{\"below\":[{\"id\":\"1236\"}],\"center\":[{\"id\":\"1238\"},{\"id\":\"1242\"},{\"id\":\"1262\"}],\"height\":500,\"left\":[{\"id\":\"1239\"}],\"renderers\":[{\"id\":\"1251\"},{\"id\":\"1267\"}],\"title\":{\"id\":\"1227\"},\"toolbar\":{\"id\":\"1243\"},\"toolbar_location\":null,\"width\":950,\"x_range\":{\"id\":\"1225\"},\"x_scale\":{\"id\":\"1232\"},\"y_range\":{\"id\":\"1230\"},\"y_scale\":{\"id\":\"1234\"}},\"id\":\"1226\",\"subtype\":\"Figure\",\"type\":\"Plot\"},{\"attributes\":{},\"id\":\"1365\",\"type\":\"CategoricalTickFormatter\"},{\"attributes\":{},\"id\":\"1366\",\"type\":\"AllLabels\"},{\"attributes\":{\"fields\":[]},\"id\":\"1244\",\"type\":\"Stack\"},{\"attributes\":{\"text\":\"Overview of missing data in datasets (plot 5 of 10)\"},\"id\":\"1227\",\"type\":\"Title\"},{\"attributes\":{\"fields\":[\"null\"]},\"id\":\"1191\",\"type\":\"Stack\"},{\"attributes\":{\"source\":{\"id\":\"1169\"}},\"id\":\"1197\",\"type\":\"CDSView\"},{\"attributes\":{\"bottom\":{\"expr\":{\"id\":\"1189\"}},\"fill_alpha\":{\"value\":0.5},\"fill_color\":{\"value\":\"blue\"},\"line_alpha\":{\"value\":0.5},\"line_color\":{\"value\":null},\"line_width\":{\"value\":0},\"top\":{\"expr\":{\"id\":\"1190\"}},\"width\":{\"value\":0.8},\"x\":{\"field\":\"x\"}},\"id\":\"1194\",\"type\":\"VBar\"},{\"attributes\":{\"factors\":[[\"KBA05_ANTG4\",\"azdias\"],[\"KBA05_ANTG4\",\"customers\"],[\"KBA05_GBZ\",\"azdias\"],[\"KBA05_GBZ\",\"customers\"],[\"KBA05_ANTG2\",\"azdias\"],[\"KBA05_ANTG2\",\"customers\"],[\"PLZ8_HHZ\",\"azdias\"],[\"PLZ8_HHZ\",\"customers\"],[\"PLZ8_ANTG3\",\"azdias\"],[\"PLZ8_ANTG3\",\"customers\"],[\"PLZ8_ANTG4\",\"azdias\"],[\"PLZ8_ANTG4\",\"customers\"],[\"PLZ8_BAUMAX\",\"azdias\"],[\"PLZ8_BAUMAX\",\"customers\"],[\"PLZ8_GBZ\",\"azdias\"],[\"PLZ8_GBZ\",\"customers\"],[\"PLZ8_ANTG1\",\"azdias\"],[\"PLZ8_ANTG1\",\"customers\"],[\"PLZ8_ANTG2\",\"azdias\"],[\"PLZ8_ANTG2\",\"customers\"],[\"HEALTH_TYP\",\"azdias\"],[\"HEALTH_TYP\",\"customers\"],[\"VERS_TYP\",\"azdias\"],[\"VERS_TYP\",\"customers\"],[\"SHOPPER_TYP\",\"azdias\"],[\"SHOPPER_TYP\",\"customers\"],[\"KBA05_HERSTTEMP\",\"azdias\"],[\"KBA05_HERSTTEMP\",\"customers\"],[\"NATIONALITAET_KZ\",\"azdias\"],[\"NATIONALITAET_KZ\",\"customers\"],[\"PRAEGENDE_JUGENDJAHRE\",\"azdias\"],[\"PRAEGENDE_JUGENDJAHRE\",\"customers\"],[\"KBA13_NISSAN\",\"azdias\"],[\"KBA13_NISSAN\",\"customers\"],[\"KBA13_KRSSEG_KLEIN\",\"azdias\"],[\"KBA13_KRSSEG_KLEIN\",\"customers\"],[\"KBA13_MERCEDES\",\"azdias\"],[\"KBA13_MERCEDES\",\"customers\"],[\"KBA13_MAZDA\",\"azdias\"],[\"KBA13_MAZDA\",\"customers\"],[\"KBA13_KW_90\",\"azdias\"],[\"KBA13_KW_90\",\"customers\"],[\"KBA13_KW_80\",\"azdias\"],[\"KBA13_KW_80\",\"customers\"],[\"KBA13_KW_70\",\"azdias\"],[\"KBA13_KW_70\",\"customers\"],[\"KBA13_KW_61_120\",\"azdias\"],[\"KBA13_KW_61_120\",\"customers\"],[\"KBA13_KW_60\",\"azdias\"],[\"KBA13_KW_60\",\"customers\"],[\"KBA13_KW_50\",\"azdias\"],[\"KBA13_KW_50\",\"customers\"],[\"KBA13_KW_40\",\"azdias\"],[\"KBA13_KW_40\",\"customers\"],[\"KBA13_KW_30\",\"azdias\"],[\"KBA13_KW_30\",\"customers\"],[\"KBA13_KW_121\",\"azdias\"],[\"KBA13_KW_121\",\"customers\"],[\"KBA13_KW_120\",\"azdias\"],[\"KBA13_KW_120\",\"customers\"],[\"KBA13_KW_110\",\"azdias\"],[\"KBA13_KW_110\",\"customers\"],[\"KBA13_KW_0_60\",\"azdias\"],[\"KBA13_KW_0_60\",\"customers\"]]},\"id\":\"1225\",\"type\":\"FactorRange\"},{\"attributes\":{\"data_source\":{\"id\":\"1169\"},\"glyph\":{\"id\":\"1194\"},\"hover_glyph\":null,\"muted_glyph\":null,\"name\":\"null\",\"nonselection_glyph\":{\"id\":\"1195\"},\"view\":{\"id\":\"1197\"}},\"id\":\"1196\",\"type\":\"GlyphRenderer\"},{\"attributes\":{\"bottom\":{\"expr\":{\"id\":\"1189\"}},\"fill_alpha\":{\"value\":0.1},\"fill_color\":{\"value\":\"blue\"},\"line_alpha\":{\"value\":0.1},\"line_color\":{\"value\":null},\"line_width\":{\"value\":0},\"top\":{\"expr\":{\"id\":\"1190\"}},\"width\":{\"value\":0.8},\"x\":{\"field\":\"x\"}},\"id\":\"1195\",\"type\":\"VBar\"},{\"attributes\":{\"label\":{\"value\":\"null\"},\"renderers\":[{\"id\":\"1196\"}]},\"id\":\"1208\",\"type\":\"LegendItem\"},{\"attributes\":{\"factors\":[[\"ORTSGR_KLS9\",\"azdias\"],[\"ORTSGR_KLS9\",\"customers\"],[\"ANZ_HH_TITEL\",\"azdias\"],[\"ANZ_HH_TITEL\",\"customers\"],[\"BALLRAUM\",\"azdias\"],[\"BALLRAUM\",\"customers\"],[\"INNENSTADT\",\"azdias\"],[\"INNENSTADT\",\"customers\"],[\"EWDICHTE\",\"azdias\"],[\"EWDICHTE\",\"customers\"],[\"GEBAEUDETYP_RASTER\",\"azdias\"],[\"GEBAEUDETYP_RASTER\",\"customers\"],[\"OST_WEST_KZ\",\"azdias\"],[\"OST_WEST_KZ\",\"customers\"],[\"KBA05_MODTEMP\",\"azdias\"],[\"KBA05_MODTEMP\",\"customers\"],[\"ANZ_HAUSHALTE_AKTIV\",\"azdias\"],[\"ANZ_HAUSHALTE_AKTIV\",\"customers\"],[\"MIN_GEBAEUDEJAHR\",\"azdias\"],[\"MIN_GEBAEUDEJAHR\",\"customers\"],[\"GEBAEUDETYP\",\"azdias\"],[\"GEBAEUDETYP\",\"customers\"],[\"WOHNLAGE\",\"azdias\"],[\"WOHNLAGE\",\"customers\"],[\"KONSUMNAEHE\",\"azdias\"],[\"KONSUMNAEHE\",\"customers\"],[\"ANZ_TITEL\",\"azdias\"],[\"ANZ_TITEL\",\"customers\"],[\"SOHO_KZ\",\"azdias\"],[\"SOHO_KZ\",\"customers\"],[\"ANZ_PERSONEN\",\"azdias\"],[\"ANZ_PERSONEN\",\"customers\"],[\"WOHNDAUER_2008\",\"azdias\"],[\"WOHNDAUER_2008\",\"customers\"],[\"HH_EINKOMMEN_SCORE\",\"azdias\"],[\"HH_EINKOMMEN_SCORE\",\"customers\"],[\"LP_STATUS_FEIN\",\"azdias\"],[\"LP_STATUS_FEIN\",\"customers\"],[\"LP_FAMILIE_FEIN\",\"azdias\"],[\"LP_FAMILIE_FEIN\",\"customers\"],[\"LP_FAMILIE_GROB\",\"azdias\"],[\"LP_FAMILIE_GROB\",\"customers\"],[\"CJT_GESAMTTYP\",\"azdias\"],[\"CJT_GESAMTTYP\",\"customers\"],[\"LP_LEBENSPHASE_FEIN\",\"azdias\"],[\"LP_LEBENSPHASE_FEIN\",\"customers\"],[\"LP_STATUS_GROB\",\"azdias\"],[\"LP_STATUS_GROB\",\"customers\"],[\"GFK_URLAUBERTYP\",\"azdias\"],[\"GFK_URLAUBERTYP\",\"customers\"],[\"ONLINE_AFFINITAET\",\"azdias\"],[\"ONLINE_AFFINITAET\",\"customers\"],[\"RETOURTYP_BK_S\",\"azdias\"],[\"RETOURTYP_BK_S\",\"customers\"],[\"LP_LEBENSPHASE_GROB\",\"azdias\"],[\"LP_LEBENSPHASE_GROB\",\"customers\"],[\"SEMIO_SOZ\",\"azdias\"],[\"SEMIO_SOZ\",\"customers\"],[\"SEMIO_TRADV\",\"azdias\"],[\"SEMIO_TRADV\",\"customers\"],[\"SEMIO_VERT\",\"azdias\"],[\"SEMIO_VERT\",\"customers\"],[\"ALTERSKATEGORIE_GROB\",\"azdias\"],[\"ALTERSKATEGORIE_GROB\",\"customers\"]]},\"id\":\"1445\",\"type\":\"FactorRange\"},{\"attributes\":{},\"id\":\"1480\",\"type\":\"UnionRenderers\"},{\"attributes\":{\"items\":[{\"id\":\"1208\"},{\"id\":\"1223\"}],\"orientation\":\"horizontal\"},\"id\":\"1207\",\"type\":\"Legend\"},{\"attributes\":{\"fields\":[]},\"id\":\"1409\",\"type\":\"Stack\"},{\"attributes\":{},\"id\":\"1481\",\"type\":\"Selection\"},{\"attributes\":{},\"id\":\"1402\",\"type\":\"CategoricalTicker\"},{\"attributes\":{\"end\":1.05,\"start\":0},\"id\":\"1395\",\"type\":\"DataRange1d\"},{\"attributes\":{\"formatter\":{\"id\":\"1420\"},\"group_label_orientation\":1.5707963267948966,\"major_label_orientation\":1.5707963267948966,\"major_label_policy\":{\"id\":\"1421\"},\"ticker\":{\"id\":\"1402\"}},\"id\":\"1401\",\"type\":\"CategoricalAxis\"},{\"attributes\":{},\"id\":\"1399\",\"type\":\"LinearScale\"},{\"attributes\":{},\"id\":\"1368\",\"type\":\"BasicTickFormatter\"},{\"attributes\":{\"formatter\":{\"id\":\"1423\"},\"major_label_policy\":{\"id\":\"1424\"},\"ticker\":{\"id\":\"1405\"}},\"id\":\"1404\",\"type\":\"LinearAxis\"},{\"attributes\":{},\"id\":\"1369\",\"type\":\"AllLabels\"},{\"attributes\":{},\"id\":\"1397\",\"type\":\"CategoricalScale\"},{\"attributes\":{\"axis\":{\"id\":\"1401\"},\"grid_line_color\":null,\"ticker\":null},\"id\":\"1403\",\"type\":\"Grid\"},{\"attributes\":{\"axis\":{\"id\":\"1404\"},\"dimension\":1,\"ticker\":null},\"id\":\"1407\",\"type\":\"Grid\"},{\"attributes\":{},\"id\":\"1405\",\"type\":\"BasicTicker\"},{\"attributes\":{\"active_multi\":null},\"id\":\"1408\",\"type\":\"Toolbar\"},{\"attributes\":{},\"id\":\"1200\",\"type\":\"CategoricalTickFormatter\"},{\"attributes\":{},\"id\":\"1201\",\"type\":\"AllLabels\"},{\"attributes\":{\"fields\":[\"null\",\"missing\"]},\"id\":\"1412\",\"type\":\"Stack\"},{\"attributes\":{\"fields\":[\"null\"]},\"id\":\"1410\",\"type\":\"Stack\"},{\"attributes\":{},\"id\":\"1424\",\"type\":\"AllLabels\"},{\"attributes\":{\"bottom\":{\"expr\":{\"id\":\"1466\"}},\"fill_alpha\":{\"value\":0.5},\"fill_color\":{\"value\":\"red\"},\"line_alpha\":{\"value\":0.5},\"line_color\":{\"value\":null},\"line_width\":{\"value\":0},\"top\":{\"expr\":{\"id\":\"1467\"}},\"width\":{\"value\":0.8},\"x\":{\"field\":\"x\"}},\"id\":\"1485\",\"type\":\"VBar\"},{\"attributes\":{},\"id\":\"1423\",\"type\":\"BasicTickFormatter\"},{\"attributes\":{\"fields\":[\"null\",\"missing\"]},\"id\":\"1522\",\"type\":\"Stack\"},{\"attributes\":{\"source\":{\"id\":\"1444\"}},\"id\":\"1488\",\"type\":\"CDSView\"},{\"attributes\":{\"data_source\":{\"id\":\"1444\"},\"glyph\":{\"id\":\"1485\"},\"hover_glyph\":null,\"muted_glyph\":null,\"name\":\"missing\",\"nonselection_glyph\":{\"id\":\"1486\"},\"view\":{\"id\":\"1488\"}},\"id\":\"1487\",\"type\":\"GlyphRenderer\"},{\"attributes\":{\"fields\":[\"null\"]},\"id\":\"1521\",\"type\":\"Stack\"},{\"attributes\":{\"bottom\":{\"expr\":{\"id\":\"1466\"}},\"fill_alpha\":{\"value\":0.1},\"fill_color\":{\"value\":\"red\"},\"line_alpha\":{\"value\":0.1},\"line_color\":{\"value\":null},\"line_width\":{\"value\":0},\"top\":{\"expr\":{\"id\":\"1467\"}},\"width\":{\"value\":0.8},\"x\":{\"field\":\"x\"}},\"id\":\"1486\",\"type\":\"VBar\"},{\"attributes\":{\"fields\":[\"null\"]},\"id\":\"1411\",\"type\":\"Stack\"},{\"attributes\":{\"source\":{\"id\":\"1389\"}},\"id\":\"1417\",\"type\":\"CDSView\"},{\"attributes\":{\"bottom\":{\"expr\":{\"id\":\"1409\"}},\"fill_alpha\":{\"value\":0.5},\"fill_color\":{\"value\":\"blue\"},\"line_alpha\":{\"value\":0.5},\"line_color\":{\"value\":null},\"line_width\":{\"value\":0},\"top\":{\"expr\":{\"id\":\"1410\"}},\"width\":{\"value\":0.8},\"x\":{\"field\":\"x\"}},\"id\":\"1414\",\"type\":\"VBar\"},{\"attributes\":{\"label\":{\"value\":\"missing\"},\"renderers\":[{\"id\":\"1487\"}]},\"id\":\"1498\",\"type\":\"LegendItem\"},{\"attributes\":{},\"id\":\"1203\",\"type\":\"BasicTickFormatter\"},{\"attributes\":{\"data_source\":{\"id\":\"1389\"},\"glyph\":{\"id\":\"1414\"},\"hover_glyph\":null,\"muted_glyph\":null,\"name\":\"null\",\"nonselection_glyph\":{\"id\":\"1415\"},\"view\":{\"id\":\"1417\"}},\"id\":\"1416\",\"type\":\"GlyphRenderer\"},{\"attributes\":{},\"id\":\"1204\",\"type\":\"AllLabels\"},{\"attributes\":{\"bottom\":{\"expr\":{\"id\":\"1409\"}},\"fill_alpha\":{\"value\":0.1},\"fill_color\":{\"value\":\"blue\"},\"line_alpha\":{\"value\":0.1},\"line_color\":{\"value\":null},\"line_width\":{\"value\":0},\"top\":{\"expr\":{\"id\":\"1410\"}},\"width\":{\"value\":0.8},\"x\":{\"field\":\"x\"}},\"id\":\"1415\",\"type\":\"VBar\"},{\"attributes\":{\"label\":{\"value\":\"null\"},\"renderers\":[{\"id\":\"1416\"}]},\"id\":\"1428\",\"type\":\"LegendItem\"},{\"attributes\":{\"bottom\":{\"expr\":{\"id\":\"1356\"}},\"fill_alpha\":{\"value\":0.5},\"fill_color\":{\"value\":\"red\"},\"line_alpha\":{\"value\":0.5},\"line_color\":{\"value\":null},\"line_width\":{\"value\":0},\"top\":{\"expr\":{\"id\":\"1357\"}},\"width\":{\"value\":0.8},\"x\":{\"field\":\"x\"}},\"id\":\"1375\",\"type\":\"VBar\"},{\"attributes\":{\"items\":[{\"id\":\"1428\"},{\"id\":\"1443\"}],\"orientation\":\"horizontal\"},\"id\":\"1427\",\"type\":\"Legend\"},{\"attributes\":{\"label\":{\"value\":\"missing\"},\"renderers\":[{\"id\":\"1377\"}]},\"id\":\"1388\",\"type\":\"LegendItem\"},{\"attributes\":{\"source\":{\"id\":\"1334\"}},\"id\":\"1378\",\"type\":\"CDSView\"},{\"attributes\":{\"data_source\":{\"id\":\"1334\"},\"glyph\":{\"id\":\"1375\"},\"hover_glyph\":null,\"muted_glyph\":null,\"name\":\"missing\",\"nonselection_glyph\":{\"id\":\"1376\"},\"view\":{\"id\":\"1378\"}},\"id\":\"1377\",\"type\":\"GlyphRenderer\"},{\"attributes\":{\"bottom\":{\"expr\":{\"id\":\"1356\"}},\"fill_alpha\":{\"value\":0.1},\"fill_color\":{\"value\":\"red\"},\"line_alpha\":{\"value\":0.1},\"line_color\":{\"value\":null},\"line_width\":{\"value\":0},\"top\":{\"expr\":{\"id\":\"1357\"}},\"width\":{\"value\":0.8},\"x\":{\"field\":\"x\"}},\"id\":\"1376\",\"type\":\"VBar\"}],\"root_ids\":[\"1003\"]},\"title\":\"Bokeh Application\",\"version\":\"2.3.1\"}};\n",
       "  var render_items = [{\"docid\":\"6728c2ec-c925-4c78-b556-41e74ad9e2d8\",\"root_ids\":[\"1003\"],\"roots\":{\"1003\":\"60023cb3-cde9-4575-8207-0f52d7fe6509\"}}];\n",
       "  root.Bokeh.embed.embed_items_notebook(docs_json, render_items);\n",
       "\n",
       "  }\n",
       "  if (root.Bokeh !== undefined) {\n",
       "    embed_document(root);\n",
       "  } else {\n",
       "    var attempts = 0;\n",
       "    var timer = setInterval(function(root) {\n",
       "      if (root.Bokeh !== undefined) {\n",
       "        clearInterval(timer);\n",
       "        embed_document(root);\n",
       "      } else {\n",
       "        attempts++;\n",
       "        if (attempts > 100) {\n",
       "          clearInterval(timer);\n",
       "          console.log(\"Bokeh: ERROR: Unable to run BokehJS code because BokehJS library is missing\");\n",
       "        }\n",
       "      }\n",
       "    }, 10, root)\n",
       "  }\n",
       "})(window);"
      ],
      "application/vnd.bokehjs_exec.v0+json": ""
     },
     "metadata": {
      "application/vnd.bokehjs_exec.v0+json": {
       "id": "1003"
      }
     },
     "output_type": "display_data"
    }
   ],
   "source": [
    "# plot the missing an NULL values for each column \n",
    "layout = column()\n",
    "\n",
    "page_size = 32\n",
    "pages_total = (len(all_data)//page_size)\n",
    "for k in range(0,len(all_data),page_size):\n",
    "    plot_data = all_data.iloc[k:k+page_size]\n",
    "\n",
    "    features = list(plot_data.index.unique())\n",
    "    cols = ['azdias', 'customers']\n",
    "    factors = [ (feature, col) for feature in features for col in cols ]\n",
    "\n",
    "    unk_type = ['null', 'missing']\n",
    "\n",
    "    null = []\n",
    "    missing = []\n",
    "    for feature, source in factors:\n",
    "        null.append(plot_data.loc[feature, f\"{source}_null\"])\n",
    "        missing.append(plot_data.loc[feature, f\"{source}_missing\"])\n",
    "\n",
    "    source = ColumnDataSource(data=dict(\n",
    "        x=factors,\n",
    "        null=null,\n",
    "        missing=missing,\n",
    "    ))\n",
    "\n",
    "    p = figure(x_range=FactorRange(*factors), plot_width=950, plot_height=500,\n",
    "               title=f\"Overview of missing data in datasets (plot {k//page_size+1} of {pages_total+1})\",\n",
    "               toolbar_location=None, tools=\"\")\n",
    "\n",
    "    p.vbar_stack(unk_type, x='x', width=0.8, alpha=0.5, color=[\"blue\", \"red\"], line_color=None, line_width=0, source=source,\n",
    "                 legend_label=unk_type)\n",
    "\n",
    "    p.y_range.start = 0\n",
    "    p.y_range.end = 1.05\n",
    "    p.xaxis.major_label_orientation = np.pi/2\n",
    "    p.xaxis.group_label_orientation = np.pi/2\n",
    "    p.xgrid.grid_line_color = None\n",
    "    p.legend.location = \"top_right\"\n",
    "    p.legend.orientation = \"horizontal\"\n",
    "\n",
    "    layout.children.append(p)\n",
    "show(layout)"
   ]
  },
  {
   "cell_type": "markdown",
   "metadata": {},
   "source": [
    "### Cleaning ALTER_KINDX columns\n",
    "premature feature engineering - continue later if required"
   ]
  },
  {
   "cell_type": "code",
   "execution_count": 27,
   "metadata": {},
   "outputs": [],
   "source": [
    "# # we can combine these columns to obtain 1 that has fewer missing values... \n",
    "# # the \"alter\" word seems to be used to group into age buckets\n",
    "# # if we combine them we \"only\" have 91% of the data missing instead of 99.9%\n",
    "# len(azdias[['ALTER_KIND1','ALTER_KIND2','ALTER_KIND3','ALTER_KIND4']].mean(axis=1).round().dropna())/len(azdias)"
   ]
  },
  {
   "cell_type": "code",
   "execution_count": 28,
   "metadata": {},
   "outputs": [],
   "source": [
    "# def muli_columns_row_mean(df, cols, fillna=-1):\n",
    "#     return df[cols].mean(axis=1).round().fillna(fillna)\n",
    "\n",
    "# def muli_columns_row_count_non_nan(df, cols):\n",
    "#     return ((df[cols].isnull() == False).sum(axis=1))"
   ]
  },
  {
   "cell_type": "code",
   "execution_count": 29,
   "metadata": {},
   "outputs": [],
   "source": [
    "# ALTER_KIND_cols = ['ALTER_KIND1','ALTER_KIND2','ALTER_KIND3','ALTER_KIND4']\n",
    "# azdias['ALTER_KIND_M'] = muli_columns_row_mean(azdias,ALTER_KIND_cols)\n",
    "# azdias['ALTER_KIND_C'] = muli_columns_row_count_non_nan(azdias,ALTER_KIND_cols)\n",
    "\n",
    "# customers['ALTER_KIND_M'] = muli_columns_row_mean(customers,ALTER_KIND_cols)\n",
    "# customers['ALTER_KIND_C'] = muli_columns_row_count_non_nan(customers,ALTER_KIND_cols)"
   ]
  },
  {
   "cell_type": "code",
   "execution_count": 30,
   "metadata": {},
   "outputs": [],
   "source": [
    "# azdias.drop(columns=ALTER_KIND_cols, inplace=True)\n",
    "# customers.drop(columns=ALTER_KIND_cols, inplace=True)"
   ]
  },
  {
   "cell_type": "markdown",
   "metadata": {},
   "source": [
    "### Cleaning missing data"
   ]
  },
  {
   "cell_type": "code",
   "execution_count": 31,
   "metadata": {},
   "outputs": [],
   "source": [
    "# if there are more than 1 missing label use the first one, and replace the 2nd one with the first\n",
    "def clean_missing(df1, missing_labels):\n",
    "    \"\"\"\n",
    "    Makes the missing labels consistent through the dataset. If there is more than 1 missing label, the first one\n",
    "    is used. Additionally returns which columns in the dataset is missing from the labels, and which lables are\n",
    "    missing from the dataset.\n",
    "    \n",
    "    Input\n",
    "    df - DataFrame to treat\n",
    "    missing_labels - a series that has as index the column names and as values a list of the possible missing values\n",
    "    \n",
    "    Output\n",
    "    df_cols_missing_from_labels - columns in the dataset thats is missing from the labels\n",
    "    label_cols_missing_from_df - columns in the labels that is missing from the dataset\n",
    "    \"\"\"\n",
    "    df_cols_missing_from_labels = list(df1.columns)\n",
    "    label_cols_missing_from_df = []\n",
    "    # go through all values that we have a index mapping for\n",
    "    for c in tqdm(missing_labels.index):\n",
    "        if c in df_cols_missing_from_labels:\n",
    "            # remove colum if it has been treated\n",
    "            df_cols_missing_from_labels.remove(c)\n",
    "            if len(missing_labels[c]) > 1:\n",
    "                # if there is more than 1 value to map to, map all of the rest to the first one\n",
    "                replacement_mapping = dict()\n",
    "                for k in missing_labels[c][1:]:\n",
    "                    replacement_mapping[k] = missing_labels[c][0]\n",
    "                df1[c].replace(replacement_mapping, inplace=True)\n",
    "        else:\n",
    "            label_cols_missing_from_df.append(c)\n",
    "    return df_cols_missing_from_labels, label_cols_missing_from_df"
   ]
  },
  {
   "cell_type": "code",
   "execution_count": 32,
   "metadata": {},
   "outputs": [
    {
     "data": {
      "application/vnd.jupyter.widget-view+json": {
       "model_id": "617638236370424dbec98729b4d53346",
       "version_major": 2,
       "version_minor": 0
      },
      "text/plain": [
       "  0%|          | 0/307 [00:00<?, ?it/s]"
      ]
     },
     "metadata": {},
     "output_type": "display_data"
    },
    {
     "data": {
      "application/vnd.jupyter.widget-view+json": {
       "model_id": "c098ca6bf44b4921baaeef425ec39293",
       "version_major": 2,
       "version_minor": 0
      },
      "text/plain": [
       "  0%|          | 0/307 [00:00<?, ?it/s]"
      ]
     },
     "metadata": {},
     "output_type": "display_data"
    }
   ],
   "source": [
    "df_cols_missing_from_labels, label_cols_missing_from_df = clean_missing(azdias, missing_labels)\n",
    "_, _ = clean_missing(customers, missing_labels)"
   ]
  },
  {
   "cell_type": "markdown",
   "metadata": {},
   "source": [
    "# Fill missing values\n",
    "\n",
    "There are various ways to treat missing values. Due to the multiple procesess in which missing data ends up the dataset, it was chosen to not mix these. So if data was lablelled as missing that label was kept (unless there were multiple labels for missing, in which case the first label was used and all other missing labels were replaced with the first). Missing data in the form of NaNs were replaced with the smallest value in the data -1. The data is mostly categorical. "
   ]
  },
  {
   "cell_type": "code",
   "execution_count": 33,
   "metadata": {},
   "outputs": [],
   "source": [
    "# replace all nans with a numeric value not found in the data\n",
    "missing_fill_value = azdias.min()-1\n",
    "azdias.fillna(missing_fill_value, inplace=True)\n",
    "customers.fillna(missing_fill_value, inplace=True)"
   ]
  },
  {
   "cell_type": "code",
   "execution_count": 34,
   "metadata": {},
   "outputs": [
    {
     "data": {
      "text/plain": [
       "AGER_TYP                [-2.0, -1.0]\n",
       "ALTERSKATEGORIE_GROB         [-1, 0]\n",
       "ALTER_HH                 [-1.0, 0.0]\n",
       "ANREDE_KZ                    [-1, 0]\n",
       "BALLRAUM                 [-1.0, 0.0]\n",
       "                            ...     \n",
       "ANZ_PERSONEN                  [-1.0]\n",
       "ANZ_TITEL                     [-1.0]\n",
       "GEBURTSJAHR                   [-1.0]\n",
       "KBA13_ANZAHL_PKW              [-1.0]\n",
       "MIN_GEBAEUDEJAHR            [1984.0]\n",
       "Length: 314, dtype: object"
      ]
     },
     "execution_count": 34,
     "metadata": {},
     "output_type": "execute_result"
    }
   ],
   "source": [
    "# update the missing labels array so we can use it elsewhere\n",
    "def merge(r):\n",
    "    \"\"\"\n",
    "    Merges the missing values into a single list. Values in each column does not have to be in a list. Removes NaNs.\n",
    "    \"\"\"\n",
    "    col_vals = list(r)\n",
    "    arr = []\n",
    "    for elem in col_vals:\n",
    "        if '__len__' in dir(elem):  # if __len__ is implemented its a list like objecct\n",
    "            arr.extend(list(elem))\n",
    "        elif np.isnan(elem) == False:  # keep it if its not NaN\n",
    "            arr.append(elem)\n",
    "    arr = np.array(list(set(arr)))\n",
    "    arr.sort()\n",
    "    return arr\n",
    "\n",
    "missing_labels_all = pd.DataFrame([missing_labels, missing_fill_value]).T\n",
    "missing_labels_all = missing_labels_all.apply(merge, axis=1)\n",
    "missing_labels_all"
   ]
  },
  {
   "cell_type": "code",
   "execution_count": 35,
   "metadata": {},
   "outputs": [
    {
     "data": {
      "text/plain": [
       "(True, True)"
      ]
     },
     "execution_count": 35,
     "metadata": {},
     "output_type": "execute_result"
    }
   ],
   "source": [
    "# make sure the operation completed and that there are no longer any nans in the data\n",
    "azdias.isna().sum().sum() == 0, customers.isna().sum().sum() == 0"
   ]
  },
  {
   "cell_type": "markdown",
   "metadata": {},
   "source": [
    "# Convert columns to int64 if they dont lose information in the process"
   ]
  },
  {
   "cell_type": "code",
   "execution_count": 36,
   "metadata": {},
   "outputs": [
    {
     "name": "stdout",
     "output_type": "stream",
     "text": [
      "223 columns can be converted from float to int, while 0 can not\n"
     ]
    }
   ],
   "source": [
    "can_convert_to_int = []\n",
    "cannot_convert_to_int = []\n",
    "for c in azdias.dtypes[azdias.dtypes == np.float64].index:\n",
    "    # if all values in float form equals the value in int form\n",
    "    if (azdias[c] == azdias[c].astype(np.int64)).sum() == len(azdias[c]):\n",
    "        # then we can convert that column to int without losing information\n",
    "        can_convert_to_int.append(c)\n",
    "    else:\n",
    "        # otherwise at last some of the float values contain information that is lost in the conversion\n",
    "        cannot_convert_to_int.append(c)\n",
    "        print(f\"{c} is not convertable from float to int\")\n",
    "print(f\"{len(can_convert_to_int)} columns can be converted from float to int, while {len(cannot_convert_to_int)} can not\")        \n",
    "# convert all to the columns that we can to int\n",
    "azdias[can_convert_to_int] = azdias[can_convert_to_int].astype(np.int64)\n",
    "customers[can_convert_to_int] = customers[can_convert_to_int].astype(np.int64)"
   ]
  },
  {
   "cell_type": "markdown",
   "metadata": {},
   "source": [
    "# Find and treat data that has long tails"
   ]
  },
  {
   "cell_type": "code",
   "execution_count": 37,
   "metadata": {},
   "outputs": [],
   "source": [
    "# Calculate some properties of the features so problematic ones can be identified\n",
    "column_stats = azdias.quantile([0, 0.01, 0.25, 0.5, 0.75, 0.99, 1]).T\n",
    "column_stats['IQR'] = column_stats[0.75] - column_stats[0.25]\n",
    "column_stats['l'] = column_stats[0.25] - 1.5 * column_stats['IQR']\n",
    "column_stats['u'] = column_stats[0.75] + 1.5 * column_stats['IQR']"
   ]
  },
  {
   "cell_type": "code",
   "execution_count": 38,
   "metadata": {},
   "outputs": [],
   "source": [
    "column_stats['num_vals'] = azdias.apply(pd.Series.unique).apply(len)"
   ]
  },
  {
   "cell_type": "code",
   "execution_count": 39,
   "metadata": {},
   "outputs": [],
   "source": [
    "column_stats['upper_outlier_percentage'] = (\n",
    "    (azdias > column_stats['u'])\n",
    ").sum()/len(azdias) "
   ]
  },
  {
   "cell_type": "code",
   "execution_count": 40,
   "metadata": {},
   "outputs": [
    {
     "data": {
      "text/html": [
       "<div>\n",
       "<style scoped>\n",
       "    .dataframe tbody tr th:only-of-type {\n",
       "        vertical-align: middle;\n",
       "    }\n",
       "\n",
       "    .dataframe tbody tr th {\n",
       "        vertical-align: top;\n",
       "    }\n",
       "\n",
       "    .dataframe thead th {\n",
       "        text-align: right;\n",
       "    }\n",
       "</style>\n",
       "<table border=\"1\" class=\"dataframe\">\n",
       "  <thead>\n",
       "    <tr style=\"text-align: right;\">\n",
       "      <th></th>\n",
       "      <th>0.0</th>\n",
       "      <th>0.01</th>\n",
       "      <th>0.25</th>\n",
       "      <th>0.5</th>\n",
       "      <th>0.75</th>\n",
       "      <th>0.99</th>\n",
       "      <th>1.0</th>\n",
       "      <th>IQR</th>\n",
       "      <th>l</th>\n",
       "      <th>u</th>\n",
       "      <th>num_vals</th>\n",
       "      <th>upper_outlier_percentage</th>\n",
       "    </tr>\n",
       "  </thead>\n",
       "  <tbody>\n",
       "    <tr>\n",
       "      <th>ANZ_HAUSHALTE_AKTIV</th>\n",
       "      <td>-1.0</td>\n",
       "      <td>-1.0</td>\n",
       "      <td>1.0</td>\n",
       "      <td>3.0</td>\n",
       "      <td>9.0</td>\n",
       "      <td>68.0</td>\n",
       "      <td>595.0</td>\n",
       "      <td>8.0</td>\n",
       "      <td>-11.0</td>\n",
       "      <td>21.0</td>\n",
       "      <td>293</td>\n",
       "      <td>0.069872</td>\n",
       "    </tr>\n",
       "    <tr>\n",
       "      <th>ANZ_HH_TITEL</th>\n",
       "      <td>-1.0</td>\n",
       "      <td>-1.0</td>\n",
       "      <td>0.0</td>\n",
       "      <td>0.0</td>\n",
       "      <td>0.0</td>\n",
       "      <td>1.0</td>\n",
       "      <td>23.0</td>\n",
       "      <td>0.0</td>\n",
       "      <td>0.0</td>\n",
       "      <td>0.0</td>\n",
       "      <td>22</td>\n",
       "      <td>0.028538</td>\n",
       "    </tr>\n",
       "    <tr>\n",
       "      <th>ANZ_PERSONEN</th>\n",
       "      <td>-1.0</td>\n",
       "      <td>-1.0</td>\n",
       "      <td>1.0</td>\n",
       "      <td>1.0</td>\n",
       "      <td>2.0</td>\n",
       "      <td>5.0</td>\n",
       "      <td>45.0</td>\n",
       "      <td>1.0</td>\n",
       "      <td>-0.5</td>\n",
       "      <td>3.5</td>\n",
       "      <td>31</td>\n",
       "      <td>0.083275</td>\n",
       "    </tr>\n",
       "    <tr>\n",
       "      <th>D19_BANKEN_ONLINE_QUOTE_12</th>\n",
       "      <td>-1.0</td>\n",
       "      <td>-1.0</td>\n",
       "      <td>0.0</td>\n",
       "      <td>0.0</td>\n",
       "      <td>0.0</td>\n",
       "      <td>10.0</td>\n",
       "      <td>10.0</td>\n",
       "      <td>0.0</td>\n",
       "      <td>0.0</td>\n",
       "      <td>0.0</td>\n",
       "      <td>12</td>\n",
       "      <td>0.053919</td>\n",
       "    </tr>\n",
       "    <tr>\n",
       "      <th>KBA13_ANZAHL_PKW</th>\n",
       "      <td>-1.0</td>\n",
       "      <td>-1.0</td>\n",
       "      <td>346.0</td>\n",
       "      <td>525.0</td>\n",
       "      <td>757.0</td>\n",
       "      <td>1700.0</td>\n",
       "      <td>2300.0</td>\n",
       "      <td>411.0</td>\n",
       "      <td>-270.5</td>\n",
       "      <td>1373.5</td>\n",
       "      <td>1262</td>\n",
       "      <td>0.043839</td>\n",
       "    </tr>\n",
       "    <tr>\n",
       "      <th>MIN_GEBAEUDEJAHR</th>\n",
       "      <td>1984.0</td>\n",
       "      <td>1984.0</td>\n",
       "      <td>1992.0</td>\n",
       "      <td>1992.0</td>\n",
       "      <td>1993.0</td>\n",
       "      <td>2009.0</td>\n",
       "      <td>2016.0</td>\n",
       "      <td>1.0</td>\n",
       "      <td>1990.5</td>\n",
       "      <td>1994.5</td>\n",
       "      <td>33</td>\n",
       "      <td>0.132273</td>\n",
       "    </tr>\n",
       "  </tbody>\n",
       "</table>\n",
       "</div>"
      ],
      "text/plain": [
       "                               0.0    0.01    0.25     0.5    0.75    0.99  \\\n",
       "ANZ_HAUSHALTE_AKTIV           -1.0    -1.0     1.0     3.0     9.0    68.0   \n",
       "ANZ_HH_TITEL                  -1.0    -1.0     0.0     0.0     0.0     1.0   \n",
       "ANZ_PERSONEN                  -1.0    -1.0     1.0     1.0     2.0     5.0   \n",
       "D19_BANKEN_ONLINE_QUOTE_12    -1.0    -1.0     0.0     0.0     0.0    10.0   \n",
       "KBA13_ANZAHL_PKW              -1.0    -1.0   346.0   525.0   757.0  1700.0   \n",
       "MIN_GEBAEUDEJAHR            1984.0  1984.0  1992.0  1992.0  1993.0  2009.0   \n",
       "\n",
       "                               1.0    IQR       l       u  num_vals  \\\n",
       "ANZ_HAUSHALTE_AKTIV          595.0    8.0   -11.0    21.0       293   \n",
       "ANZ_HH_TITEL                  23.0    0.0     0.0     0.0        22   \n",
       "ANZ_PERSONEN                  45.0    1.0    -0.5     3.5        31   \n",
       "D19_BANKEN_ONLINE_QUOTE_12    10.0    0.0     0.0     0.0        12   \n",
       "KBA13_ANZAHL_PKW            2300.0  411.0  -270.5  1373.5      1262   \n",
       "MIN_GEBAEUDEJAHR            2016.0    1.0  1990.5  1994.5        33   \n",
       "\n",
       "                            upper_outlier_percentage  \n",
       "ANZ_HAUSHALTE_AKTIV                         0.069872  \n",
       "ANZ_HH_TITEL                                0.028538  \n",
       "ANZ_PERSONEN                                0.083275  \n",
       "D19_BANKEN_ONLINE_QUOTE_12                  0.053919  \n",
       "KBA13_ANZAHL_PKW                            0.043839  \n",
       "MIN_GEBAEUDEJAHR                            0.132273  "
      ]
     },
     "execution_count": 40,
     "metadata": {},
     "output_type": "execute_result"
    }
   ],
   "source": [
    "# find columns that has the most outliers\n",
    "column_stats[(column_stats['num_vals'] > 10) & (column_stats['upper_outlier_percentage'] > 0)]"
   ]
  },
  {
   "cell_type": "code",
   "execution_count": 41,
   "metadata": {},
   "outputs": [],
   "source": [
    "# some households with very large number of people\n",
    "before = azdias['ANZ_PERSONEN'].value_counts().copy()"
   ]
  },
  {
   "cell_type": "code",
   "execution_count": 42,
   "metadata": {},
   "outputs": [],
   "source": [
    "# unlikely that distinguishing between 8 and 9 or even between 8 and 40 will have a significant impact on \n",
    "# likelihood of being a customer\n",
    "# very small % of data points affected with this adjustment\n",
    "azdias.loc[azdias['ANZ_PERSONEN'] >= 8,'ANZ_PERSONEN'] = 8\n",
    "customers.loc[customers['ANZ_PERSONEN'] >= 8,'ANZ_PERSONEN'] = 8"
   ]
  },
  {
   "cell_type": "code",
   "execution_count": 43,
   "metadata": {},
   "outputs": [],
   "source": [
    "after = azdias['ANZ_PERSONEN'].value_counts().copy()"
   ]
  },
  {
   "cell_type": "code",
   "execution_count": 44,
   "metadata": {},
   "outputs": [
    {
     "data": {
      "text/html": [
       "\n",
       "\n",
       "\n",
       "\n",
       "\n",
       "\n",
       "  <div class=\"bk-root\" id=\"c59d9354-1e71-40ac-864a-e9f1bc23415e\" data-root-id=\"2094\"></div>\n"
      ]
     },
     "metadata": {},
     "output_type": "display_data"
    },
    {
     "data": {
      "application/javascript": [
       "(function(root) {\n",
       "  function embed_document(root) {\n",
       "    \n",
       "  var docs_json = {\"92009138-f1e2-49b6-8ebf-88aa476c05b7\":{\"defs\":[],\"roots\":{\"references\":[{\"attributes\":{\"below\":[{\"id\":\"2103\"}],\"center\":[{\"id\":\"2106\"},{\"id\":\"2110\"},{\"id\":\"2131\"}],\"height\":400,\"left\":[{\"id\":\"2107\"}],\"renderers\":[{\"id\":\"2118\"},{\"id\":\"2136\"}],\"title\":{\"id\":\"2121\"},\"toolbar\":{\"id\":\"2113\"},\"width\":500,\"x_range\":{\"id\":\"2095\"},\"x_scale\":{\"id\":\"2099\"},\"y_range\":{\"id\":\"2097\"},\"y_scale\":{\"id\":\"2101\"}},\"id\":\"2094\",\"subtype\":\"Figure\",\"type\":\"Plot\"},{\"attributes\":{},\"id\":\"2126\",\"type\":\"BasicTickFormatter\"},{\"attributes\":{},\"id\":\"2130\",\"type\":\"Selection\"},{\"attributes\":{},\"id\":\"2127\",\"type\":\"AllLabels\"},{\"attributes\":{\"line_color\":\"red\",\"x\":{\"field\":\"x\"},\"y\":{\"field\":\"y\"}},\"id\":\"2134\",\"type\":\"Line\"},{\"attributes\":{},\"id\":\"2108\",\"type\":\"BasicTicker\"},{\"attributes\":{\"source\":{\"id\":\"2133\"}},\"id\":\"2137\",\"type\":\"CDSView\"},{\"attributes\":{\"overlay\":{\"id\":\"2112\"}},\"id\":\"2111\",\"type\":\"BoxZoomTool\"},{\"attributes\":{},\"id\":\"2101\",\"type\":\"LinearScale\"},{\"attributes\":{},\"id\":\"2124\",\"type\":\"AllLabels\"},{\"attributes\":{\"data\":{\"x\":[-1,0,1,2,3,4,5,6,7,8],\"y\":[21419,34102,423162,195469,94905,47126,15503,4842,1525,865]},\"selected\":{\"id\":\"2150\"},\"selection_policy\":{\"id\":\"2149\"}},\"id\":\"2133\",\"type\":\"ColumnDataSource\"},{\"attributes\":{\"active_multi\":null,\"tools\":[{\"id\":\"2111\"}]},\"id\":\"2113\",\"type\":\"Toolbar\"},{\"attributes\":{\"data_source\":{\"id\":\"2115\"},\"glyph\":{\"id\":\"2116\"},\"hover_glyph\":null,\"muted_glyph\":null,\"nonselection_glyph\":{\"id\":\"2117\"},\"view\":{\"id\":\"2119\"}},\"id\":\"2118\",\"type\":\"GlyphRenderer\"},{\"attributes\":{\"axis_label\":\"Column values\",\"formatter\":{\"id\":\"2123\"},\"major_label_policy\":{\"id\":\"2124\"},\"ticker\":{\"id\":\"2104\"}},\"id\":\"2103\",\"type\":\"LinearAxis\"},{\"attributes\":{\"label\":{\"value\":\"ANZ_PERSONEN before\"},\"renderers\":[{\"id\":\"2118\"}]},\"id\":\"2132\",\"type\":\"LegendItem\"},{\"attributes\":{\"data\":{\"x\":[-1,0,1,2,3,4,5,6,7,8,9,10,11,12,13,14,15,16,17,18,20,21,22,23,29,31,35,37,38,40,45],\"y\":[21419,34102,423162,195469,94905,47126,15503,4842,1525,523,180,67,38,16,11,4,3,1,1,1,3,4,2,2,1,1,1,2,2,1,1]},\"selected\":{\"id\":\"2130\"},\"selection_policy\":{\"id\":\"2129\"}},\"id\":\"2115\",\"type\":\"ColumnDataSource\"},{\"attributes\":{\"text\":\"ANZ_PERSONEN transformation\"},\"id\":\"2121\",\"type\":\"Title\"},{\"attributes\":{},\"id\":\"2129\",\"type\":\"UnionRenderers\"},{\"attributes\":{\"bottom_units\":\"screen\",\"fill_alpha\":0.5,\"fill_color\":\"lightgrey\",\"left_units\":\"screen\",\"level\":\"overlay\",\"line_alpha\":1.0,\"line_color\":\"black\",\"line_dash\":[4,4],\"line_width\":2,\"right_units\":\"screen\",\"syncable\":false,\"top_units\":\"screen\"},\"id\":\"2112\",\"type\":\"BoxAnnotation\"},{\"attributes\":{},\"id\":\"2150\",\"type\":\"Selection\"},{\"attributes\":{\"line_alpha\":0.1,\"line_color\":\"red\",\"x\":{\"field\":\"x\"},\"y\":{\"field\":\"y\"}},\"id\":\"2135\",\"type\":\"Line\"},{\"attributes\":{\"line_alpha\":0.1,\"line_color\":\"blue\",\"x\":{\"field\":\"x\"},\"y\":{\"field\":\"y\"}},\"id\":\"2117\",\"type\":\"Line\"},{\"attributes\":{},\"id\":\"2149\",\"type\":\"UnionRenderers\"},{\"attributes\":{},\"id\":\"2095\",\"type\":\"DataRange1d\"},{\"attributes\":{\"source\":{\"id\":\"2115\"}},\"id\":\"2119\",\"type\":\"CDSView\"},{\"attributes\":{},\"id\":\"2123\",\"type\":\"BasicTickFormatter\"},{\"attributes\":{\"axis_label\":\"Numer of occurences\",\"formatter\":{\"id\":\"2126\"},\"major_label_policy\":{\"id\":\"2127\"},\"ticker\":{\"id\":\"2108\"}},\"id\":\"2107\",\"type\":\"LinearAxis\"},{\"attributes\":{\"line_color\":\"blue\",\"x\":{\"field\":\"x\"},\"y\":{\"field\":\"y\"}},\"id\":\"2116\",\"type\":\"Line\"},{\"attributes\":{\"data_source\":{\"id\":\"2133\"},\"glyph\":{\"id\":\"2134\"},\"hover_glyph\":null,\"muted_glyph\":null,\"nonselection_glyph\":{\"id\":\"2135\"},\"view\":{\"id\":\"2137\"}},\"id\":\"2136\",\"type\":\"GlyphRenderer\"},{\"attributes\":{\"axis\":{\"id\":\"2103\"},\"grid_line_color\":null,\"ticker\":null},\"id\":\"2106\",\"type\":\"Grid\"},{\"attributes\":{\"items\":[{\"id\":\"2132\"},{\"id\":\"2151\"}]},\"id\":\"2131\",\"type\":\"Legend\"},{\"attributes\":{\"axis\":{\"id\":\"2107\"},\"dimension\":1,\"ticker\":null},\"id\":\"2110\",\"type\":\"Grid\"},{\"attributes\":{\"label\":{\"value\":\"ANZ_PERSONEN after\"},\"renderers\":[{\"id\":\"2136\"}]},\"id\":\"2151\",\"type\":\"LegendItem\"},{\"attributes\":{},\"id\":\"2104\",\"type\":\"BasicTicker\"},{\"attributes\":{},\"id\":\"2099\",\"type\":\"LinearScale\"},{\"attributes\":{},\"id\":\"2097\",\"type\":\"DataRange1d\"}],\"root_ids\":[\"2094\"]},\"title\":\"Bokeh Application\",\"version\":\"2.3.1\"}};\n",
       "  var render_items = [{\"docid\":\"92009138-f1e2-49b6-8ebf-88aa476c05b7\",\"root_ids\":[\"2094\"],\"roots\":{\"2094\":\"c59d9354-1e71-40ac-864a-e9f1bc23415e\"}}];\n",
       "  root.Bokeh.embed.embed_items_notebook(docs_json, render_items);\n",
       "\n",
       "  }\n",
       "  if (root.Bokeh !== undefined) {\n",
       "    embed_document(root);\n",
       "  } else {\n",
       "    var attempts = 0;\n",
       "    var timer = setInterval(function(root) {\n",
       "      if (root.Bokeh !== undefined) {\n",
       "        clearInterval(timer);\n",
       "        embed_document(root);\n",
       "      } else {\n",
       "        attempts++;\n",
       "        if (attempts > 100) {\n",
       "          clearInterval(timer);\n",
       "          console.log(\"Bokeh: ERROR: Unable to run BokehJS code because BokehJS library is missing\");\n",
       "        }\n",
       "      }\n",
       "    }, 10, root)\n",
       "  }\n",
       "})(window);"
      ],
      "application/vnd.bokehjs_exec.v0+json": ""
     },
     "metadata": {
      "application/vnd.bokehjs_exec.v0+json": {
       "id": "2094"
      }
     },
     "output_type": "display_data"
    }
   ],
   "source": [
    "def plot_columns_before_after(before, after, c):\n",
    "    \n",
    "    p = figure(plot_width=500, plot_height=400,\n",
    "               toolbar_location='right', tools=\"box_zoom\")\n",
    "    \n",
    "    after = after.sort_index()\n",
    "    before = before.sort_index()\n",
    "    \n",
    "    p.line(before.index, before.values, line_color='blue', legend_label=f'{c} before')\n",
    "    p.line(after.index,  after.values,  line_color='red',  legend_label=f'{c} after')\n",
    "\n",
    "    p.title.text = f\"{c} transformation\"\n",
    "    \n",
    "    p.yaxis.axis_label = 'Numer of occurences'\n",
    "    p.xaxis.axis_label = 'Column values'\n",
    "    p.xgrid.grid_line_color = None\n",
    "    return show(p)\n",
    "\n",
    "plot_columns_before_after(before, azdias['ANZ_PERSONEN'].value_counts().copy(), 'ANZ_PERSONEN')"
   ]
  },
  {
   "cell_type": "code",
   "execution_count": 45,
   "metadata": {},
   "outputs": [],
   "source": [
    "# The tail of this feature is in steps of 100, while the body is not.\n",
    "# It does not make sense to have this as a sparse continious variable (could be very prone to overfitting)\n",
    "# Convert entire feature into buckets of 100\n",
    "before = azdias['KBA13_ANZAHL_PKW'].value_counts().copy()"
   ]
  },
  {
   "cell_type": "code",
   "execution_count": 46,
   "metadata": {},
   "outputs": [],
   "source": [
    "# use ceiling for 2 reasons\n",
    "# 1. having no cars is significantly different to having 1 car\n",
    "# 2. the distribution has a stop at 1300 when rounding, and with this amount of data that large a step is unlikely to \n",
    "#    be natural.  \n",
    "azdias['KBA13_ANZAHL_PKW'] = (np.ceil((azdias['KBA13_ANZAHL_PKW']/100))*100)\n",
    "customers['KBA13_ANZAHL_PKW'] = (np.ceil((customers['KBA13_ANZAHL_PKW']/100))*100)"
   ]
  },
  {
   "cell_type": "code",
   "execution_count": 47,
   "metadata": {},
   "outputs": [
    {
     "data": {
      "text/html": [
       "\n",
       "\n",
       "\n",
       "\n",
       "\n",
       "\n",
       "  <div class=\"bk-root\" id=\"7a854c71-dd75-4cb6-a437-f209037925e6\" data-root-id=\"2321\"></div>\n"
      ]
     },
     "metadata": {},
     "output_type": "display_data"
    },
    {
     "data": {
      "application/javascript": [
       "(function(root) {\n",
       "  function embed_document(root) {\n",
       "    \n",
       "  var docs_json = {\"fb27c070-3267-4b71-a0bd-dee399edd801\":{\"defs\":[],\"roots\":{\"references\":[{\"attributes\":{\"below\":[{\"id\":\"2330\"}],\"center\":[{\"id\":\"2333\"},{\"id\":\"2337\"},{\"id\":\"2358\"}],\"height\":400,\"left\":[{\"id\":\"2334\"}],\"renderers\":[{\"id\":\"2345\"},{\"id\":\"2363\"}],\"title\":{\"id\":\"2348\"},\"toolbar\":{\"id\":\"2340\"},\"width\":500,\"x_range\":{\"id\":\"2322\"},\"x_scale\":{\"id\":\"2326\"},\"y_range\":{\"id\":\"2324\"},\"y_scale\":{\"id\":\"2328\"}},\"id\":\"2321\",\"subtype\":\"Figure\",\"type\":\"Plot\"},{\"attributes\":{\"line_alpha\":0.1,\"line_color\":\"blue\",\"x\":{\"field\":\"x\"},\"y\":{\"field\":\"y\"}},\"id\":\"2344\",\"type\":\"Line\"},{\"attributes\":{\"active_multi\":null,\"tools\":[{\"id\":\"2338\"}]},\"id\":\"2340\",\"type\":\"Toolbar\"},{\"attributes\":{\"data_source\":{\"id\":\"2360\"},\"glyph\":{\"id\":\"2361\"},\"hover_glyph\":null,\"muted_glyph\":null,\"nonselection_glyph\":{\"id\":\"2362\"},\"view\":{\"id\":\"2364\"}},\"id\":\"2363\",\"type\":\"GlyphRenderer\"},{\"attributes\":{},\"id\":\"2328\",\"type\":\"LinearScale\"},{\"attributes\":{\"line_alpha\":0.1,\"line_color\":\"red\",\"x\":{\"field\":\"x\"},\"y\":{\"field\":\"y\"}},\"id\":\"2362\",\"type\":\"Line\"},{\"attributes\":{},\"id\":\"2357\",\"type\":\"Selection\"},{\"attributes\":{\"label\":{\"value\":\"KBA13_ANZAHL_PKW after\"},\"renderers\":[{\"id\":\"2363\"}]},\"id\":\"2378\",\"type\":\"LegendItem\"},{\"attributes\":{\"data_source\":{\"id\":\"2342\"},\"glyph\":{\"id\":\"2343\"},\"hover_glyph\":null,\"muted_glyph\":null,\"nonselection_glyph\":{\"id\":\"2344\"},\"view\":{\"id\":\"2346\"}},\"id\":\"2345\",\"type\":\"GlyphRenderer\"},{\"attributes\":{},\"id\":\"2351\",\"type\":\"AllLabels\"},{\"attributes\":{\"axis_label\":\"Numer of occurences\",\"formatter\":{\"id\":\"2353\"},\"major_label_policy\":{\"id\":\"2354\"},\"ticker\":{\"id\":\"2335\"}},\"id\":\"2334\",\"type\":\"LinearAxis\"},{\"attributes\":{\"data\":{\"x\":[-1,0,1,2,3,4,5,6,7,8,9,10,11,12,13,14,15,16,17,18,19,20,21,22,23,24,25,26,27,28,29,30,31,32,33,34,35,36,37,38,39,40,41,42,43,44,45,46,47,48,49,50,51,52,53,54,55,56,57,58,59,60,61,62,63,64,65,66,67,68,69,70,71,72,73,74,75,76,77,78,79,80,81,82,83,84,85,86,87,88,89,90,91,92,93,94,95,96,97,98,99,100,101,102,103,104,105,106,107,108,109,110,111,112,113,114,115,116,117,118,119,120,121,122,123,124,125,126,127,128,129,130,131,132,133,134,135,136,137,138,139,140,141,142,143,144,145,146,147,148,149,150,151,152,153,154,155,156,157,158,159,160,161,162,163,164,165,166,167,168,169,170,171,172,173,174,175,176,177,178,179,180,181,182,183,184,185,186,187,188,189,190,191,192,193,194,195,196,197,198,199,200,201,202,203,204,205,206,207,208,209,210,211,212,213,214,215,216,217,218,219,220,221,222,223,224,225,226,227,228,229,230,231,232,233,234,235,236,237,238,239,240,241,242,243,244,245,246,247,248,249,250,251,252,253,254,255,256,257,258,259,260,261,262,263,264,265,266,267,268,269,270,271,272,273,274,275,276,277,278,279,280,281,282,283,284,285,286,287,288,289,290,291,292,293,294,295,296,297,298,299,300,301,302,303,304,305,306,307,308,309,310,311,312,313,314,315,316,317,318,319,320,321,322,323,324,325,326,327,328,329,330,331,332,333,334,335,336,337,338,339,340,341,342,343,344,345,346,347,348,349,350,351,352,353,354,355,356,357,358,359,360,361,362,363,364,365,366,367,368,369,370,371,372,373,374,375,376,377,378,379,380,381,382,383,384,385,386,387,388,389,390,391,392,393,394,395,396,397,398,399,400,401,402,403,404,405,406,407,408,409,410,411,412,413,414,415,416,417,418,419,420,421,422,423,424,425,426,427,428,429,430,431,432,433,434,435,436,437,438,439,440,441,442,443,444,445,446,447,448,449,450,451,452,453,454,455,456,457,458,459,460,461,462,463,464,465,466,467,468,469,470,471,472,473,474,475,476,477,478,479,480,481,482,483,484,485,486,487,488,489,490,491,492,493,494,495,496,497,498,499,500,501,502,503,504,505,506,507,508,509,510,511,512,513,514,515,516,517,518,519,520,521,522,523,524,525,526,527,528,529,530,531,532,533,534,535,536,537,538,539,540,541,542,543,544,545,546,547,548,549,550,551,552,553,554,555,556,557,558,559,560,561,562,563,564,565,566,567,568,569,570,571,572,573,574,575,576,577,578,579,580,581,582,583,584,585,586,587,588,589,590,591,592,593,594,595,596,597,598,599,600,601,602,603,604,605,606,607,608,609,610,611,612,613,614,615,616,617,618,619,620,621,622,623,624,625,626,627,628,629,630,631,632,633,634,635,636,637,638,639,640,641,642,643,644,645,646,647,648,649,650,651,652,653,654,655,656,657,658,659,660,661,662,663,664,665,666,667,668,669,670,671,672,673,674,675,676,677,678,679,680,681,682,683,684,685,686,687,688,689,690,691,692,693,694,695,696,697,698,699,700,701,702,703,704,705,706,707,708,709,710,711,712,713,714,715,716,717,718,719,720,721,722,723,724,725,726,727,728,729,730,731,732,733,734,735,736,737,738,739,740,741,742,743,744,745,746,747,748,749,750,751,752,753,754,755,756,757,758,759,760,761,762,763,764,765,766,767,768,769,770,771,772,773,774,775,776,777,778,779,780,781,782,783,784,785,786,787,788,789,790,791,792,793,794,795,796,797,798,799,800,801,802,803,804,805,806,807,808,809,810,811,812,813,814,815,816,817,818,819,820,821,822,823,824,825,826,827,828,829,830,831,832,833,834,835,836,837,838,839,840,841,842,843,844,845,846,847,848,849,850,851,852,853,854,855,856,857,858,859,860,861,862,863,864,865,866,867,868,869,870,871,872,873,874,875,876,877,878,879,880,881,882,883,884,885,886,887,888,889,890,891,892,893,894,895,896,897,898,899,900,901,902,903,904,905,906,907,908,909,910,911,912,913,914,915,916,917,918,919,920,921,922,923,924,925,926,927,928,929,930,931,932,933,934,935,936,937,938,939,940,941,942,943,944,945,946,947,948,949,950,951,952,953,954,955,956,957,958,959,960,961,962,963,964,965,966,967,968,969,970,971,972,973,974,975,976,977,978,979,980,981,982,983,984,985,986,987,988,989,990,991,992,993,994,995,996,997,998,999,1000,1001,1002,1003,1004,1005,1006,1007,1008,1009,1010,1011,1012,1013,1014,1015,1016,1017,1018,1019,1020,1021,1022,1023,1024,1025,1026,1027,1028,1029,1030,1031,1032,1033,1034,1035,1036,1037,1038,1039,1040,1041,1042,1043,1044,1045,1046,1047,1048,1049,1050,1051,1052,1053,1054,1055,1056,1057,1058,1059,1060,1061,1062,1063,1064,1065,1066,1067,1068,1069,1070,1071,1072,1073,1074,1075,1076,1077,1078,1079,1080,1081,1082,1083,1084,1085,1086,1087,1088,1089,1090,1091,1092,1093,1094,1095,1096,1097,1098,1099,1100,1101,1102,1103,1104,1105,1106,1107,1108,1109,1110,1111,1112,1113,1114,1115,1116,1117,1118,1119,1120,1121,1122,1123,1124,1125,1126,1127,1128,1129,1130,1131,1132,1133,1134,1135,1136,1137,1138,1139,1140,1141,1142,1143,1144,1145,1146,1147,1148,1149,1150,1151,1152,1153,1154,1155,1156,1157,1158,1159,1160,1161,1162,1163,1164,1165,1166,1167,1168,1169,1170,1171,1172,1173,1174,1175,1176,1177,1178,1179,1180,1181,1182,1183,1184,1185,1186,1187,1188,1189,1190,1191,1192,1193,1194,1195,1196,1197,1198,1199,1200,1201,1202,1203,1204,1205,1206,1207,1208,1209,1210,1211,1212,1213,1214,1215,1216,1217,1218,1219,1220,1221,1222,1223,1224,1225,1226,1227,1228,1229,1230,1231,1232,1233,1234,1235,1236,1237,1238,1239,1240,1241,1242,1243,1244,1245,1246,1247,1249,1250,1300,1400,1500,1600,1700,1800,1900,2000,2100,2200,2300],\"y\":[53650,62,8,6,6,7,7,5,5,6,7,8,7,16,10,16,14,11,20,21,11,18,17,16,13,22,23,21,24,24,15,12,29,28,31,42,43,38,45,35,28,42,44,35,27,52,59,46,77,53,27,37,84,75,53,50,53,53,45,60,76,54,58,66,80,95,67,69,66,84,101,91,99,74,89,89,85,111,74,84,120,94,144,119,139,117,142,126,145,107,159,125,132,156,128,123,141,207,154,152,163,97,179,159,218,219,129,230,161,198,222,151,217,186,189,180,193,218,225,227,220,220,228,245,226,263,233,250,257,277,304,301,202,242,341,317,311,312,244,294,263,319,312,254,243,285,349,281,311,319,368,297,357,269,365,310,355,327,394,380,329,264,356,434,363,388,388,294,359,442,479,419,289,385,344,397,318,377,527,351,403,432,387,391,404,405,595,455,525,437,425,456,470,411,426,416,482,564,502,480,538,495,583,476,476,524,586,542,532,492,576,461,422,629,595,690,643,563,607,649,487,484,580,681,604,578,582,554,565,752,641,589,765,672,619,721,527,684,659,626,624,592,635,784,684,575,634,651,803,689,632,577,850,724,764,759,802,686,840,836,750,600,690,671,703,640,706,973,826,755,932,765,768,900,811,686,859,851,880,731,754,946,849,782,876,844,819,867,717,842,985,988,919,939,1026,808,797,954,912,996,927,748,922,915,1021,851,919,969,842,972,984,1036,1071,927,1124,1068,912,939,764,1039,980,1045,934,1014,1034,958,964,989,915,834,860,1147,1040,1038,1050,1144,1153,1182,873,818,1040,1117,1183,1020,1088,956,1215,1005,884,1120,868,869,1176,1254,1014,989,907,1182,1037,1085,1135,1224,1062,813,1031,1175,1146,1037,1033,1049,1227,1134,1036,1114,1107,1062,1254,978,1257,1076,1173,1207,858,1224,1070,1243,1096,1458,1338,1324,1281,1280,956,1010,1282,1112,1446,1217,1023,1197,1218,1043,1091,1318,1168,1101,1065,1288,1060,1126,1252,1221,1048,1200,1058,1147,1034,1190,1603,1384,1026,1337,1317,1196,1008,1112,1147,1241,1127,1212,1245,1220,1149,966,1116,1240,957,1009,1198,1276,1327,1186,1153,1223,1130,1195,1185,1253,1170,1179,1099,1380,1245,1388,1281,1380,1409,1323,1200,1178,1379,987,1053,1197,1131,1604,1094,1308,1254,1155,1200,1232,1229,977,1100,1024,1205,1089,1297,1256,1264,1178,1417,1011,1392,1101,1273,1071,1319,1232,1296,1302,1299,1358,1114,1379,1097,1035,1262,1020,1310,1255,1161,1220,1072,1339,1038,1326,921,1262,1213,1049,1150,1168,1154,953,1242,1284,1265,1239,1600,1176,1051,1048,1176,1125,1162,1190,1152,1173,1169,1200,1139,1067,1100,1496,838,1290,1267,1012,1060,1177,1169,1042,1158,1159,947,1060,1139,956,1201,1166,1119,1182,1138,1232,914,1278,996,1301,1155,1156,986,1065,905,1160,1212,865,1291,1182,996,1140,1105,1253,1142,1274,1000,1165,1138,927,855,1037,994,1119,1092,1278,929,1054,969,909,946,1022,906,1002,1115,1049,1056,1103,1203,1056,814,1064,943,1068,858,1107,917,890,931,1026,907,1108,1077,1007,934,864,1009,980,956,1171,712,1137,1194,996,1020,784,1009,762,866,844,1050,1043,816,1070,1049,912,981,957,861,782,876,919,952,903,885,786,707,1000,961,887,918,1031,796,709,765,952,787,982,715,853,805,979,781,839,901,880,711,967,904,1064,1111,888,879,854,758,782,680,964,782,848,924,668,776,718,761,736,748,797,721,665,831,933,624,674,796,1074,945,695,771,533,717,716,585,928,523,653,521,801,717,682,981,854,1073,560,601,642,810,592,696,745,604,669,587,725,784,1033,615,550,756,534,684,715,617,656,614,595,701,576,672,624,627,721,730,801,593,756,697,596,798,598,786,623,616,791,609,664,742,773,514,796,861,715,591,680,690,629,464,826,533,580,599,565,567,581,650,737,522,689,527,564,617,600,677,707,563,421,690,629,614,444,523,518,758,634,508,431,714,390,487,658,607,724,627,486,506,487,623,529,510,575,690,624,635,644,515,404,545,505,545,573,472,310,590,643,570,573,449,458,480,605,577,590,548,482,575,465,550,577,535,541,381,451,739,516,427,268,396,552,563,303,422,368,517,659,328,434,332,343,558,676,532,378,366,463,582,403,452,371,507,368,546,370,417,357,471,338,376,338,406,399,426,529,476,379,513,541,355,383,299,395,525,394,372,582,592,472,461,411,444,412,423,389,373,463,400,471,295,568,409,343,368,404,310,416,401,369,430,328,322,487,440,269,509,237,370,445,517,434,364,346,407,488,568,250,423,402,383,501,320,400,468,362,350,209,395,294,329,358,320,403,370,387,366,231,427,346,223,337,404,345,456,265,365,410,476,292,341,369,320,309,355,265,367,356,329,373,410,468,442,259,291,217,281,390,228,369,258,293,298,355,357,281,272,367,379,195,280,344,253,240,284,303,261,518,247,289,192,238,449,363,259,309,290,351,351,250,260,215,339,203,266,344,316,367,542,211,236,128,344,433,169,382,284,267,231,238,167,327,355,202,344,306,200,294,281,298,416,345,285,292,306,315,320,142,174,331,327,355,262,292,471,156,215,224,362,339,317,309,222,471,295,223,168,253,239,103,301,170,196,331,216,244,142,225,243,324,265,239,314,213,339,247,219,229,78,202,255,249,258,67,396,280,231,263,194,309,235,309,277,279,129,265,217,202,163,314,73,268,229,270,272,150,150,85,227,137,156,261,236,169,204,255,213,195,98,321,218,234,191,253,178,287,182,228,143,206,198,122,135,151,233,205,145,200,212,207,171,128,206,139,232,258,180,166,117,196,203,199,254,113,144,286,249,152,164,243,209,179,112,281,258,132,183,150,221,75,71,198,176,245,281,214,152,418,280,236,173,233,261,107,169,122,168,219,271,128,129,193,139,188,183,170,157,296,85,181,135,189,334,154,166,348,103,125,142,95,61,147,171,121,213,151,128,57,87,161,152,216,119,175,124,160,159,124,244,166,183,173,76,143,229,6426,11722,8291,6135,3795,2617,1450,1198,651,307,611]},\"selected\":{\"id\":\"2357\"},\"selection_policy\":{\"id\":\"2356\"}},\"id\":\"2342\",\"type\":\"ColumnDataSource\"},{\"attributes\":{\"source\":{\"id\":\"2360\"}},\"id\":\"2364\",\"type\":\"CDSView\"},{\"attributes\":{},\"id\":\"2350\",\"type\":\"BasicTickFormatter\"},{\"attributes\":{\"bottom_units\":\"screen\",\"fill_alpha\":0.5,\"fill_color\":\"lightgrey\",\"left_units\":\"screen\",\"level\":\"overlay\",\"line_alpha\":1.0,\"line_color\":\"black\",\"line_dash\":[4,4],\"line_width\":2,\"right_units\":\"screen\",\"syncable\":false,\"top_units\":\"screen\"},\"id\":\"2339\",\"type\":\"BoxAnnotation\"},{\"attributes\":{\"line_color\":\"blue\",\"x\":{\"field\":\"x\"},\"y\":{\"field\":\"y\"}},\"id\":\"2343\",\"type\":\"Line\"},{\"attributes\":{},\"id\":\"2356\",\"type\":\"UnionRenderers\"},{\"attributes\":{},\"id\":\"2324\",\"type\":\"DataRange1d\"},{\"attributes\":{\"axis\":{\"id\":\"2330\"},\"grid_line_color\":null,\"ticker\":null},\"id\":\"2333\",\"type\":\"Grid\"},{\"attributes\":{},\"id\":\"2376\",\"type\":\"UnionRenderers\"},{\"attributes\":{},\"id\":\"2331\",\"type\":\"BasicTicker\"},{\"attributes\":{\"data\":{\"x\":{\"__ndarray__\":\"AAAAAAAAAIAAAAAAAABZQAAAAAAAAGlAAAAAAADAckAAAAAAAAB5QAAAAAAAQH9AAAAAAADAgkAAAAAAAOCFQAAAAAAAAIlAAAAAAAAgjEAAAAAAAECPQAAAAAAAMJFAAAAAAADAkkAAAAAAAFCUQAAAAAAA4JVAAAAAAABwl0AAAAAAAACZQAAAAAAAkJpAAAAAAAAgnEAAAAAAALCdQAAAAAAAQJ9AAAAAAABooEAAAAAAADChQAAAAAAA+KFA\",\"dtype\":\"float64\",\"order\":\"little\",\"shape\":[24]},\"y\":[53712,6289,32748,71349,106262,120093,111570,88182,65590,48059,35916,27687,20220,14464,11722,8291,6135,3795,2617,1450,1198,651,307,611]},\"selected\":{\"id\":\"2377\"},\"selection_policy\":{\"id\":\"2376\"}},\"id\":\"2360\",\"type\":\"ColumnDataSource\"},{\"attributes\":{},\"id\":\"2335\",\"type\":\"BasicTicker\"},{\"attributes\":{\"text\":\"KBA13_ANZAHL_PKW transformation\"},\"id\":\"2348\",\"type\":\"Title\"},{\"attributes\":{\"items\":[{\"id\":\"2359\"},{\"id\":\"2378\"}]},\"id\":\"2358\",\"type\":\"Legend\"},{\"attributes\":{},\"id\":\"2326\",\"type\":\"LinearScale\"},{\"attributes\":{\"source\":{\"id\":\"2342\"}},\"id\":\"2346\",\"type\":\"CDSView\"},{\"attributes\":{},\"id\":\"2353\",\"type\":\"BasicTickFormatter\"},{\"attributes\":{\"axis\":{\"id\":\"2334\"},\"dimension\":1,\"ticker\":null},\"id\":\"2337\",\"type\":\"Grid\"},{\"attributes\":{\"line_color\":\"red\",\"x\":{\"field\":\"x\"},\"y\":{\"field\":\"y\"}},\"id\":\"2361\",\"type\":\"Line\"},{\"attributes\":{},\"id\":\"2377\",\"type\":\"Selection\"},{\"attributes\":{\"label\":{\"value\":\"KBA13_ANZAHL_PKW before\"},\"renderers\":[{\"id\":\"2345\"}]},\"id\":\"2359\",\"type\":\"LegendItem\"},{\"attributes\":{\"overlay\":{\"id\":\"2339\"}},\"id\":\"2338\",\"type\":\"BoxZoomTool\"},{\"attributes\":{\"axis_label\":\"Column values\",\"formatter\":{\"id\":\"2350\"},\"major_label_policy\":{\"id\":\"2351\"},\"ticker\":{\"id\":\"2331\"}},\"id\":\"2330\",\"type\":\"LinearAxis\"},{\"attributes\":{},\"id\":\"2354\",\"type\":\"AllLabels\"},{\"attributes\":{},\"id\":\"2322\",\"type\":\"DataRange1d\"}],\"root_ids\":[\"2321\"]},\"title\":\"Bokeh Application\",\"version\":\"2.3.1\"}};\n",
       "  var render_items = [{\"docid\":\"fb27c070-3267-4b71-a0bd-dee399edd801\",\"root_ids\":[\"2321\"],\"roots\":{\"2321\":\"7a854c71-dd75-4cb6-a437-f209037925e6\"}}];\n",
       "  root.Bokeh.embed.embed_items_notebook(docs_json, render_items);\n",
       "\n",
       "  }\n",
       "  if (root.Bokeh !== undefined) {\n",
       "    embed_document(root);\n",
       "  } else {\n",
       "    var attempts = 0;\n",
       "    var timer = setInterval(function(root) {\n",
       "      if (root.Bokeh !== undefined) {\n",
       "        clearInterval(timer);\n",
       "        embed_document(root);\n",
       "      } else {\n",
       "        attempts++;\n",
       "        if (attempts > 100) {\n",
       "          clearInterval(timer);\n",
       "          console.log(\"Bokeh: ERROR: Unable to run BokehJS code because BokehJS library is missing\");\n",
       "        }\n",
       "      }\n",
       "    }, 10, root)\n",
       "  }\n",
       "})(window);"
      ],
      "application/vnd.bokehjs_exec.v0+json": ""
     },
     "metadata": {
      "application/vnd.bokehjs_exec.v0+json": {
       "id": "2321"
      }
     },
     "output_type": "display_data"
    }
   ],
   "source": [
    "plot_columns_before_after(before, azdias['KBA13_ANZAHL_PKW'].value_counts(), 'KBA13_ANZAHL_PKW')"
   ]
  },
  {
   "cell_type": "code",
   "execution_count": 48,
   "metadata": {},
   "outputs": [],
   "source": [
    "before = azdias['ANZ_HAUSHALTE_AKTIV'].value_counts()"
   ]
  },
  {
   "cell_type": "code",
   "execution_count": 49,
   "metadata": {},
   "outputs": [],
   "source": [
    "# bin data above the median as things are too extreme in the tails\n",
    "ANZ_HAUSHALTE_AKTIV_quantiles = azdias['ANZ_HAUSHALTE_AKTIV'].quantile([0.5,0.6,0.7,0.8,0.9])"
   ]
  },
  {
   "cell_type": "code",
   "execution_count": 50,
   "metadata": {},
   "outputs": [],
   "source": [
    "def bin_the_tails(df, column, quantiles):\n",
    "    \"\"\"\n",
    "    Takes a list of values (quantile values) bins all data in between these to the lowest of edges.\n",
    "    \"\"\"\n",
    "    prev = np.inf\n",
    "    for v in np.flip(quantiles.values):\n",
    "        df.loc[(df[column] >= v) & (df[column] < prev), column] = v\n",
    "        prev = v"
   ]
  },
  {
   "cell_type": "code",
   "execution_count": 51,
   "metadata": {},
   "outputs": [],
   "source": [
    "bin_the_tails(azdias,    'ANZ_HAUSHALTE_AKTIV', ANZ_HAUSHALTE_AKTIV_quantiles)\n",
    "bin_the_tails(customers, 'ANZ_HAUSHALTE_AKTIV', ANZ_HAUSHALTE_AKTIV_quantiles)"
   ]
  },
  {
   "cell_type": "code",
   "execution_count": 52,
   "metadata": {},
   "outputs": [
    {
     "data": {
      "text/html": [
       "\n",
       "\n",
       "\n",
       "\n",
       "\n",
       "\n",
       "  <div class=\"bk-root\" id=\"b08ac53d-3be8-4746-aa7a-4ac159511a4d\" data-root-id=\"2561\"></div>\n"
      ]
     },
     "metadata": {},
     "output_type": "display_data"
    },
    {
     "data": {
      "application/javascript": [
       "(function(root) {\n",
       "  function embed_document(root) {\n",
       "    \n",
       "  var docs_json = {\"e6f9053a-2f02-4fd2-bdc3-2b3c46a0eee2\":{\"defs\":[],\"roots\":{\"references\":[{\"attributes\":{\"below\":[{\"id\":\"2570\"}],\"center\":[{\"id\":\"2573\"},{\"id\":\"2577\"},{\"id\":\"2598\"}],\"height\":400,\"left\":[{\"id\":\"2574\"}],\"renderers\":[{\"id\":\"2585\"},{\"id\":\"2603\"}],\"title\":{\"id\":\"2588\"},\"toolbar\":{\"id\":\"2580\"},\"width\":500,\"x_range\":{\"id\":\"2562\"},\"x_scale\":{\"id\":\"2566\"},\"y_range\":{\"id\":\"2564\"},\"y_scale\":{\"id\":\"2568\"}},\"id\":\"2561\",\"subtype\":\"Figure\",\"type\":\"Plot\"},{\"attributes\":{\"active_multi\":null,\"tools\":[{\"id\":\"2578\"}]},\"id\":\"2580\",\"type\":\"Toolbar\"},{\"attributes\":{\"line_alpha\":0.1,\"line_color\":\"blue\",\"x\":{\"field\":\"x\"},\"y\":{\"field\":\"y\"}},\"id\":\"2584\",\"type\":\"Line\"},{\"attributes\":{\"axis_label\":\"Numer of occurences\",\"formatter\":{\"id\":\"2593\"},\"major_label_policy\":{\"id\":\"2594\"},\"ticker\":{\"id\":\"2575\"}},\"id\":\"2574\",\"type\":\"LinearAxis\"},{\"attributes\":{\"data_source\":{\"id\":\"2582\"},\"glyph\":{\"id\":\"2583\"},\"hover_glyph\":null,\"muted_glyph\":null,\"nonselection_glyph\":{\"id\":\"2584\"},\"view\":{\"id\":\"2586\"}},\"id\":\"2585\",\"type\":\"GlyphRenderer\"},{\"attributes\":{\"items\":[{\"id\":\"2599\"},{\"id\":\"2618\"}]},\"id\":\"2598\",\"type\":\"Legend\"},{\"attributes\":{},\"id\":\"2566\",\"type\":\"LinearScale\"},{\"attributes\":{\"line_alpha\":0.1,\"line_color\":\"red\",\"x\":{\"field\":\"x\"},\"y\":{\"field\":\"y\"}},\"id\":\"2602\",\"type\":\"Line\"},{\"attributes\":{\"data_source\":{\"id\":\"2600\"},\"glyph\":{\"id\":\"2601\"},\"hover_glyph\":null,\"muted_glyph\":null,\"nonselection_glyph\":{\"id\":\"2602\"},\"view\":{\"id\":\"2604\"}},\"id\":\"2603\",\"type\":\"GlyphRenderer\"},{\"attributes\":{},\"id\":\"2571\",\"type\":\"BasicTicker\"},{\"attributes\":{},\"id\":\"2564\",\"type\":\"DataRange1d\"},{\"attributes\":{\"data\":{\"x\":{\"__ndarray__\":\"AAAAAAAA8L8AAAAAAAAAAAAAAAAAAPA/AAAAAAAAAEAAAAAAAAAIQAAAAAAAABRAAAAAAAAAIEAAAAAAAAAmQAAAAAAAADFA\",\"dtype\":\"float64\",\"order\":\"little\",\"shape\":[9]},\"y\":[41009,6462,195957,120979,105782,108354,86721,87163,86491]},\"selected\":{\"id\":\"2617\"},\"selection_policy\":{\"id\":\"2616\"}},\"id\":\"2600\",\"type\":\"ColumnDataSource\"},{\"attributes\":{},\"id\":\"2593\",\"type\":\"BasicTickFormatter\"},{\"attributes\":{\"axis\":{\"id\":\"2574\"},\"dimension\":1,\"ticker\":null},\"id\":\"2577\",\"type\":\"Grid\"},{\"attributes\":{\"axis\":{\"id\":\"2570\"},\"grid_line_color\":null,\"ticker\":null},\"id\":\"2573\",\"type\":\"Grid\"},{\"attributes\":{\"overlay\":{\"id\":\"2579\"}},\"id\":\"2578\",\"type\":\"BoxZoomTool\"},{\"attributes\":{\"bottom_units\":\"screen\",\"fill_alpha\":0.5,\"fill_color\":\"lightgrey\",\"left_units\":\"screen\",\"level\":\"overlay\",\"line_alpha\":1.0,\"line_color\":\"black\",\"line_dash\":[4,4],\"line_width\":2,\"right_units\":\"screen\",\"syncable\":false,\"top_units\":\"screen\"},\"id\":\"2579\",\"type\":\"BoxAnnotation\"},{\"attributes\":{},\"id\":\"2568\",\"type\":\"LinearScale\"},{\"attributes\":{},\"id\":\"2590\",\"type\":\"BasicTickFormatter\"},{\"attributes\":{\"line_color\":\"blue\",\"x\":{\"field\":\"x\"},\"y\":{\"field\":\"y\"}},\"id\":\"2583\",\"type\":\"Line\"},{\"attributes\":{},\"id\":\"2616\",\"type\":\"UnionRenderers\"},{\"attributes\":{},\"id\":\"2591\",\"type\":\"AllLabels\"},{\"attributes\":{},\"id\":\"2562\",\"type\":\"DataRange1d\"},{\"attributes\":{},\"id\":\"2617\",\"type\":\"Selection\"},{\"attributes\":{\"source\":{\"id\":\"2582\"}},\"id\":\"2586\",\"type\":\"CDSView\"},{\"attributes\":{\"axis_label\":\"Column values\",\"formatter\":{\"id\":\"2590\"},\"major_label_policy\":{\"id\":\"2591\"},\"ticker\":{\"id\":\"2571\"}},\"id\":\"2570\",\"type\":\"LinearAxis\"},{\"attributes\":{\"data\":{\"x\":[-1,0,1,2,3,4,5,6,7,8,9,10,11,12,13,14,15,16,17,18,19,20,21,22,23,24,25,26,27,28,29,30,31,32,33,34,35,36,37,38,39,40,41,42,43,44,45,46,47,48,49,50,51,52,53,54,55,56,57,58,59,60,61,62,63,64,65,66,67,68,69,70,71,72,73,74,75,76,77,78,79,80,81,82,83,84,85,86,87,88,89,90,91,92,93,94,95,96,97,98,99,100,101,102,103,104,105,106,107,108,109,110,111,112,113,114,115,116,117,118,119,120,121,122,123,124,125,126,127,128,129,130,131,132,133,134,135,136,137,138,139,140,141,142,143,144,145,146,147,148,149,150,151,152,153,154,155,156,157,158,159,160,161,162,163,164,165,166,167,168,169,170,171,172,174,175,176,177,178,179,180,181,183,184,185,186,187,189,190,191,193,194,195,196,197,198,199,200,201,202,204,205,206,207,208,209,210,211,213,214,215,216,218,219,220,221,222,223,224,225,226,228,229,230,231,232,236,237,240,241,242,243,244,246,247,249,250,252,253,254,255,256,258,259,260,263,265,266,267,272,274,276,277,280,283,285,286,290,293,301,304,305,307,311,314,316,317,318,321,326,328,331,333,344,346,347,348,353,366,367,377,378,379,395,404,414,430,438,445,515,523,536,595],\"y\":[41009,6462,195957,120979,62574,43208,37813,36019,34522,32293,29000,25428,21959,18032,15280,12625,10368,8899,7291,6320,5456,4672,4135,3733,3241,2835,2631,2338,2230,2040,1958,1819,1632,1615,1546,1433,1315,1276,1314,1254,1113,1115,1029,1041,818,827,685,771,661,660,608,548,473,536,427,435,433,398,375,392,346,295,370,306,291,311,201,244,247,246,192,247,188,224,244,170,169,149,181,127,135,150,130,136,123,131,130,122,119,105,117,101,122,114,116,83,91,76,97,91,85,63,68,94,89,64,56,82,65,56,64,84,65,84,45,39,49,69,44,65,53,77,43,65,35,59,51,37,70,28,45,35,46,32,32,43,29,29,54,30,22,64,49,30,31,25,54,37,12,30,34,25,9,39,27,30,28,20,33,23,16,19,17,16,11,12,29,6,16,3,8,20,26,9,4,29,23,8,19,17,15,19,18,10,8,18,12,9,10,7,6,10,27,12,5,20,15,8,7,6,6,5,7,8,7,9,19,7,2,6,6,12,10,9,1,9,13,16,3,16,3,5,5,13,5,1,10,2,5,7,7,6,3,14,13,4,4,8,18,2,4,4,10,6,4,5,11,4,7,3,8,7,9,5,6,4,7,6,3,4,6,13,3,13,6,5,6,8,8,4,7,4,8,9,7,11,11,7,1,9,5,3,6,3,2,3,6,9,7,4,4,1,8]},\"selected\":{\"id\":\"2597\"},\"selection_policy\":{\"id\":\"2596\"}},\"id\":\"2582\",\"type\":\"ColumnDataSource\"},{\"attributes\":{},\"id\":\"2575\",\"type\":\"BasicTicker\"},{\"attributes\":{},\"id\":\"2596\",\"type\":\"UnionRenderers\"},{\"attributes\":{},\"id\":\"2597\",\"type\":\"Selection\"},{\"attributes\":{\"source\":{\"id\":\"2600\"}},\"id\":\"2604\",\"type\":\"CDSView\"},{\"attributes\":{\"label\":{\"value\":\"ANZ_HAUSHALTE_AKTIV after\"},\"renderers\":[{\"id\":\"2603\"}]},\"id\":\"2618\",\"type\":\"LegendItem\"},{\"attributes\":{\"line_color\":\"red\",\"x\":{\"field\":\"x\"},\"y\":{\"field\":\"y\"}},\"id\":\"2601\",\"type\":\"Line\"},{\"attributes\":{\"text\":\"ANZ_HAUSHALTE_AKTIV transformation\"},\"id\":\"2588\",\"type\":\"Title\"},{\"attributes\":{\"label\":{\"value\":\"ANZ_HAUSHALTE_AKTIV before\"},\"renderers\":[{\"id\":\"2585\"}]},\"id\":\"2599\",\"type\":\"LegendItem\"},{\"attributes\":{},\"id\":\"2594\",\"type\":\"AllLabels\"}],\"root_ids\":[\"2561\"]},\"title\":\"Bokeh Application\",\"version\":\"2.3.1\"}};\n",
       "  var render_items = [{\"docid\":\"e6f9053a-2f02-4fd2-bdc3-2b3c46a0eee2\",\"root_ids\":[\"2561\"],\"roots\":{\"2561\":\"b08ac53d-3be8-4746-aa7a-4ac159511a4d\"}}];\n",
       "  root.Bokeh.embed.embed_items_notebook(docs_json, render_items);\n",
       "\n",
       "  }\n",
       "  if (root.Bokeh !== undefined) {\n",
       "    embed_document(root);\n",
       "  } else {\n",
       "    var attempts = 0;\n",
       "    var timer = setInterval(function(root) {\n",
       "      if (root.Bokeh !== undefined) {\n",
       "        clearInterval(timer);\n",
       "        embed_document(root);\n",
       "      } else {\n",
       "        attempts++;\n",
       "        if (attempts > 100) {\n",
       "          clearInterval(timer);\n",
       "          console.log(\"Bokeh: ERROR: Unable to run BokehJS code because BokehJS library is missing\");\n",
       "        }\n",
       "      }\n",
       "    }, 10, root)\n",
       "  }\n",
       "})(window);"
      ],
      "application/vnd.bokehjs_exec.v0+json": ""
     },
     "metadata": {
      "application/vnd.bokehjs_exec.v0+json": {
       "id": "2561"
      }
     },
     "output_type": "display_data"
    }
   ],
   "source": [
    "plot_columns_before_after(before, azdias['ANZ_HAUSHALTE_AKTIV'].value_counts(), 'ANZ_HAUSHALTE_AKTIV')"
   ]
  },
  {
   "cell_type": "markdown",
   "metadata": {},
   "source": [
    "# Find highly correlated features"
   ]
  },
  {
   "cell_type": "code",
   "execution_count": 53,
   "metadata": {},
   "outputs": [],
   "source": [
    "# # Calclate cross correlation matrix between all columns\n",
    "# %%time\n",
    "# a_corr = azdias.corr()"
   ]
  },
  {
   "cell_type": "code",
   "execution_count": 54,
   "metadata": {},
   "outputs": [],
   "source": [
    "# # Remove the correlaton between the columns and themselves\n",
    "# np.fill_diagonal(a_corr.values, 0)"
   ]
  },
  {
   "cell_type": "code",
   "execution_count": 55,
   "metadata": {},
   "outputs": [],
   "source": [
    "# # Find coclumns that are highly correlated\n",
    "# pd.DataFrame([a_corr.abs().idxmax(axis=1),a_corr.abs().max(axis=1)], index=['max_corr_col', 'value']).T.sort_values(by='value', ascending=False).head(20)"
   ]
  },
  {
   "cell_type": "code",
   "execution_count": 56,
   "metadata": {},
   "outputs": [],
   "source": [
    "# a_corr['KBA13_HERST_SONST'].abs().sort_values(ascending=False)"
   ]
  },
  {
   "cell_type": "code",
   "execution_count": 57,
   "metadata": {},
   "outputs": [],
   "source": [
    "# a_corr['CAMEO_DEU_2015'].abs().sort_values(ascending=False)"
   ]
  },
  {
   "cell_type": "code",
   "execution_count": 58,
   "metadata": {},
   "outputs": [],
   "source": [
    "# The correlated columns identified above that we should drop\n",
    "correlated_cols_to_drop = [\n",
    "    'KBA13_FAB_SONSTIGE',   # exact copy of KBA13_HERST_SONST\n",
    "    'CAMEO_DEUG_2015',      # just a less detailed version of CAMEO_DEU_2015\n",
    "    'LP_LEBENSPHASE_GROB',  # a GROB suffix is a less detailed version of a FEIN suffix\n",
    "    'LP_STATUS_GROB',\n",
    "    'LP_FAMILIE_GROB', \n",
    "]"
   ]
  },
  {
   "cell_type": "code",
   "execution_count": 59,
   "metadata": {},
   "outputs": [],
   "source": [
    "# Drop columns\n",
    "azdias.drop(columns=correlated_cols_to_drop, inplace=True)\n",
    "customers.drop(columns=correlated_cols_to_drop, inplace=True)"
   ]
  },
  {
   "cell_type": "code",
   "execution_count": 60,
   "metadata": {
    "scrolled": false
   },
   "outputs": [],
   "source": [
    "# # plot a correlation heatmap\n",
    "# a_corr_flat = a_corr.stack()\n",
    "# axis_values = pd.DataFrame(list(a_corr_flat.index), columns=['x','y'])\n",
    "# a_corr_flat.values.max(), a_corr_flat.values.min()\n",
    "\n",
    "# factors = list(a_corr.columns)\n",
    "# x = axis_values['x']\n",
    "# y = axis_values['y']\n",
    "\n",
    "# colors = []\n",
    "# for k in (np.round(a_corr_flat.values*5).astype(int)+5):\n",
    "#     colors.append(RdYlBu[11][k])\n",
    "\n",
    "# hm = figure(title=\"Cross Correlation Heatmap\", tools=\"hover\", toolbar_location=None,\n",
    "#             x_range=factors, y_range=factors, plot_width=950, plot_height=950)\n",
    "\n",
    "# hm.rect(x, y, color=colors, width=1, height=1)\n",
    "\n",
    "# hm.xaxis.major_label_orientation = np.pi/2\n",
    "# hm.yaxis.major_label_text_font_size = \"3pt\"\n",
    "# hm.xaxis.major_label_text_font_size = \"3pt\"\n",
    "\n",
    "# show(hm)"
   ]
  },
  {
   "cell_type": "markdown",
   "metadata": {},
   "source": [
    "### missing data discussion\n",
    "\n",
    "There are two clear ways in which data can be missing. The first is a null in the dataset, caused by a missing value in the original CSV file. The second is data that has explicitly been labelled as unkown or missing in the dataset. It is possible that each of these ways in which data can be missing, could be the result of different mechanisms each containing different information (e.g. the difference between trying to obtain the data and failing, and not trying). It could also be the case that these two different mechanisms are equivalent and thus should be merged to avoid noise in our dataset. \n",
    "\n",
    "There are some columns that are mainly missing data - which should be dropped.\n",
    "\n",
    "There is a clear bias in the datasets between azdias and customers when comparing missing data, most notable in the KBA13 prefixed features, with customers being almost double as likely to have these features missing. Ivestigating and knowing why these fields end up missing would be very important to determine if the fact that the data is missing should be exploited."
   ]
  },
  {
   "cell_type": "code",
   "execution_count": 61,
   "metadata": {},
   "outputs": [],
   "source": [
    "# use a KS test to determine if the distributions of the data are similar \n",
    "# if the data distribution is too similar then this does not tell us anything about our customers. "
   ]
  },
  {
   "cell_type": "code",
   "execution_count": 62,
   "metadata": {},
   "outputs": [],
   "source": [
    "def filter_missing_values(series, missing_vals):\n",
    "    \"\"\"\n",
    "    Returns values that does not represent a value that indicates the value is missing or NaN. \n",
    "    \n",
    "    Input\n",
    "    Series - The series that should be filtered\n",
    "    mssing_vals - The list of values that represents a value that is missing.\n",
    "    \n",
    "    Output\n",
    "    Series consisiting only of the values that are not labelled as missing.\n",
    "    \"\"\"\n",
    "    return series[series.isin(missing_vals) == False]"
   ]
  },
  {
   "cell_type": "code",
   "execution_count": 63,
   "metadata": {
    "scrolled": true
   },
   "outputs": [
    {
     "data": {
      "application/vnd.jupyter.widget-view+json": {
       "model_id": "61654b8de8074d4faba7dbdc3e4874ae",
       "version_major": 2,
       "version_minor": 0
      },
      "text/plain": [
       "  0%|          | 0/305 [00:00<?, ?it/s]"
      ]
     },
     "metadata": {},
     "output_type": "display_data"
    }
   ],
   "source": [
    "similarity = dict()\n",
    "for n, c in enumerate(tqdm(azdias.columns)):\n",
    "    \"\"\"\n",
    "    Uses the KS statistic to determine if the distributions are the same.\n",
    "    If the KS statistic is large or the p-value is small, then we can reject the hypothesis that the distributions \n",
    "    of the two samples are the same.\n",
    "    \"\"\"\n",
    "    m = missing_labels_all[c]\n",
    "#     ks, p = stats.ks_2samp(azdias[c], customers[c])\n",
    "    ks, p = stats.ks_2samp(filter_missing_values(azdias[c], m),\n",
    "                           filter_missing_values(customers[c], m))\n",
    "    similarity[c] = {'ks': ks, 'p': p}\n",
    "similarity_scores = pd.DataFrame(similarity).T"
   ]
  },
  {
   "cell_type": "code",
   "execution_count": 64,
   "metadata": {},
   "outputs": [],
   "source": [
    "def calc_pdf_cdf(data, bins):\n",
    "    \"\"\"\n",
    "    Calculates a PDF and CDF from data using the bins.\n",
    "    \n",
    "    Input\n",
    "    data - list like to calculate PDF and CDF from\n",
    "    bins - bins to use to group data by \n",
    "    \n",
    "    Output\n",
    "    bins - bin centers of the PDF and CDF\n",
    "    pdf - probability distribution of the data\n",
    "    cdf - cumulative probability distribution of the data\n",
    "    \"\"\"\n",
    "    if np.diff(bins).min() < 1:\n",
    "        raise Error('minimum bin distance is less than 1')\n",
    "    else:\n",
    "        hist_bins = np.append(bins[0] - 0.5, (bins + 0.5))\n",
    "    count, bins_count = np.histogram(data.loc[np.isfinite(data)], hist_bins)\n",
    "    pdf = count / sum(count)\n",
    "    cdf = np.cumsum(pdf)\n",
    "    return bins, pdf, cdf"
   ]
  },
  {
   "cell_type": "code",
   "execution_count": 65,
   "metadata": {},
   "outputs": [],
   "source": [
    "def ks_bar_plot(c, azdias=azdias, customers=customers, missing_labels_all=missing_labels_all, attributes=attributes):\n",
    "    \"\"\"\n",
    "    Generates a bar plot for a provided column.\n",
    "    \"\"\"\n",
    "    m = missing_labels_all[c]\n",
    "    azdi_valid = filter_missing_values(azdias[c], m)\n",
    "    cust_valid = filter_missing_values(customers[c], m)\n",
    "    \n",
    "    numeric_bins = azdi_valid.append(cust_valid).unique()\n",
    "    numeric_bins.sort()\n",
    "    \n",
    "    bins = []\n",
    "    for i in list(numeric_bins):\n",
    "        valid_attrib = attributes[(attributes['Attribute'] == c) &\n",
    "                          (attributes['Value'] == i)]['Meaning']\n",
    "        if len(valid_attrib) > 0:\n",
    "            bins.append(valid_attrib.values[0])\n",
    "        else:\n",
    "            bins.append(i)\n",
    "    \n",
    "    x1, pdf1, cdf1 = calc_pdf_cdf(azdi_valid, bins=numeric_bins)\n",
    "    x2, pdf2, cdf2 = calc_pdf_cdf(cust_valid, bins=numeric_bins)\n",
    "    \n",
    "    datasets = ['a', 'c']\n",
    "    \n",
    "    x_cat = [ (str(b), d) for b in bins for d in datasets ]\n",
    "    \n",
    "    counts_cat = list(pd.DataFrame([pdf1, pdf2], index=datasets).T.stack().values)\n",
    "    \n",
    "    source = ColumnDataSource(data=dict(x=x_cat, counts=counts_cat))\n",
    "    \n",
    "    p = figure(x_range=FactorRange(*x_cat), plot_width=950, plot_height=500,\n",
    "               toolbar_location=None, tools=\"\")\n",
    "\n",
    "    p.vbar(x='x', top='counts', width=0.9, source=source,  line_color=None,\n",
    "           fill_color=factor_cmap('x', palette=Category10[10][0:2], factors=datasets, start=1, end=2))\n",
    "\n",
    "    p.title.text = f\"{c} [ks:{similarity_scores.loc[c]['ks']:0.4f} p:{similarity_scores.loc[c]['p']:0.4f}]\"\n",
    "    \n",
    "    p.y_range.start = 0\n",
    "    p.xaxis.major_label_orientation = 0\n",
    "    p.xaxis.group_label_orientation = np.pi/2\n",
    "    p.xgrid.grid_line_color = None\n",
    "    return p"
   ]
  },
  {
   "cell_type": "code",
   "execution_count": 66,
   "metadata": {
    "scrolled": false
   },
   "outputs": [
    {
     "data": {
      "application/vnd.jupyter.widget-view+json": {
       "model_id": "e929a2ae41354033ab58198890be028a",
       "version_major": 2,
       "version_minor": 0
      },
      "text/plain": [
       "  0%|          | 0/5 [00:00<?, ?it/s]"
      ]
     },
     "metadata": {},
     "output_type": "display_data"
    },
    {
     "data": {
      "text/html": [
       "\n",
       "\n",
       "\n",
       "\n",
       "\n",
       "\n",
       "  <div class=\"bk-root\" id=\"54fe51ae-db31-4c52-aaba-bb5b97004afe\" data-root-id=\"2814\"></div>\n"
      ]
     },
     "metadata": {},
     "output_type": "display_data"
    },
    {
     "data": {
      "application/javascript": [
       "(function(root) {\n",
       "  function embed_document(root) {\n",
       "    \n",
       "  var docs_json = {\"7499ffd5-932e-4923-9b2f-c4c19737899d\":{\"defs\":[],\"roots\":{\"references\":[{\"attributes\":{\"children\":[{\"id\":\"2817\"},{\"id\":\"2842\"},{\"id\":\"2867\"},{\"id\":\"2892\"},{\"id\":\"2917\"}]},\"id\":\"2814\",\"type\":\"Column\"},{\"attributes\":{},\"id\":\"3093\",\"type\":\"AllLabels\"},{\"attributes\":{\"axis\":{\"id\":\"2825\"},\"grid_line_color\":null,\"ticker\":null},\"id\":\"2827\",\"type\":\"Grid\"},{\"attributes\":{\"source\":{\"id\":\"2915\"}},\"id\":\"2938\",\"type\":\"CDSView\"},{\"attributes\":{\"data_source\":{\"id\":\"2915\"},\"glyph\":{\"id\":\"2935\"},\"hover_glyph\":null,\"muted_glyph\":null,\"nonselection_glyph\":{\"id\":\"2936\"},\"view\":{\"id\":\"2938\"}},\"id\":\"2937\",\"type\":\"GlyphRenderer\"},{\"attributes\":{\"data\":{\"counts\":[0.08032034923109053,0.08713482825516376,0.18416897161223938,0.18153029784320437,0.6046419821003785,0.6006575944311309,0.13086869705629162,0.13067727947050098],\"x\":[[\"mainly small engines\",\"a\"],[\"mainly small engines\",\"c\"],[\"mainly medium sized engines\",\"a\"],[\"mainly medium sized engines\",\"c\"],[\"mainly high engines\",\"a\"],[\"mainly high engines\",\"c\"],[\"mainly very big engines\",\"a\"],[\"mainly very big engines\",\"c\"]]},\"selected\":{\"id\":\"3116\"},\"selection_policy\":{\"id\":\"3115\"}},\"id\":\"2890\",\"type\":\"ColumnDataSource\"},{\"attributes\":{\"text\":\"D19_VERSAND_ANZ_24 [ks:0.0072 p:0.0015]\"},\"id\":\"2939\",\"type\":\"Title\"},{\"attributes\":{\"data\":{\"counts\":[0.17511601134899168,0.1772652059796873,0.06633531482245551,0.05898379550382289,0.22900207317756485,0.2296730571722013,0.35214474548816455,0.35995093004678763,0.10382187991870291,0.104216592491156,0.07357997524412048,0.06991041880634485],\"x\":[[\"none\",\"a\"],[\"none\",\"c\"],[\"very low\",\"a\"],[\"very low\",\"c\"],[\"low\",\"a\"],[\"low\",\"c\"],[\"average\",\"a\"],[\"average\",\"c\"],[\"high\",\"a\"],[\"high\",\"c\"],[\"very high\",\"a\"],[\"very high\",\"c\"]]},\"selected\":{\"id\":\"3114\"},\"selection_policy\":{\"id\":\"3113\"}},\"id\":\"2865\",\"type\":\"ColumnDataSource\"},{\"attributes\":{},\"id\":\"3111\",\"type\":\"UnionRenderers\"},{\"attributes\":{},\"id\":\"3112\",\"type\":\"Selection\"},{\"attributes\":{\"data\":{\"counts\":[0.38135195005705846,0.3851773776693282,0.32227570493861774,0.31832686004706967,0.1352739793641831,0.131694075860177,0.11606363697388736,0.11662022264254465,0.0383496084880888,0.04065897572878615,0.0066851201781645735,0.007522488052094312],\"x\":[[\"very low activity\",\"a\"],[\"very low activity\",\"c\"],[\"low activity\",\"a\"],[\"low activity\",\"c\"],[\"slightly increased activity\",\"a\"],[\"slightly increased activity\",\"c\"],[\"increased activity\",\"a\"],[\"increased activity\",\"c\"],[\"high activity\",\"a\"],[\"high activity\",\"c\"],[\"very high activity\",\"a\"],[\"very high activity\",\"c\"]]},\"selected\":{\"id\":\"3112\"},\"selection_policy\":{\"id\":\"3111\"}},\"id\":\"2840\",\"type\":\"ColumnDataSource\"},{\"attributes\":{\"start\":0},\"id\":\"2844\",\"type\":\"DataRange1d\"},{\"attributes\":{\"fill_color\":{\"field\":\"x\",\"transform\":{\"id\":\"2833\"}},\"line_color\":{\"value\":null},\"top\":{\"field\":\"counts\"},\"width\":{\"value\":0.9},\"x\":{\"field\":\"x\"}},\"id\":\"2835\",\"type\":\"VBar\"},{\"attributes\":{},\"id\":\"2826\",\"type\":\"CategoricalTicker\"},{\"attributes\":{\"factors\":[[\"no small office/home office\",\"a\"],[\"no small office/home office\",\"c\"],[\"small office/home office\",\"a\"],[\"small office/home office\",\"c\"]]},\"id\":\"2816\",\"type\":\"FactorRange\"},{\"attributes\":{},\"id\":\"3113\",\"type\":\"UnionRenderers\"},{\"attributes\":{},\"id\":\"3114\",\"type\":\"Selection\"},{\"attributes\":{},\"id\":\"3080\",\"type\":\"CategoricalTickFormatter\"},{\"attributes\":{},\"id\":\"3081\",\"type\":\"AllLabels\"},{\"attributes\":{\"factors\":[[\"none\",\"a\"],[\"none\",\"c\"],[\"very low\",\"a\"],[\"very low\",\"c\"],[\"low\",\"a\"],[\"low\",\"c\"],[\"average\",\"a\"],[\"average\",\"c\"],[\"high\",\"a\"],[\"high\",\"c\"],[\"very high\",\"a\"],[\"very high\",\"c\"]]},\"id\":\"2866\",\"type\":\"FactorRange\"},{\"attributes\":{\"data\":{\"counts\":[0.9915743016199409,0.9901232011595403,0.008425698380059181,0.009876798840459675],\"x\":[[\"no small office/home office\",\"a\"],[\"no small office/home office\",\"c\"],[\"small office/home office\",\"a\"],[\"small office/home office\",\"c\"]]},\"selected\":{\"id\":\"3110\"},\"selection_policy\":{\"id\":\"3109\"}},\"id\":\"2815\",\"type\":\"ColumnDataSource\"},{\"attributes\":{\"formatter\":{\"id\":\"3083\"},\"major_label_policy\":{\"id\":\"3084\"},\"ticker\":{\"id\":\"2829\"}},\"id\":\"2828\",\"type\":\"LinearAxis\"},{\"attributes\":{},\"id\":\"3083\",\"type\":\"BasicTickFormatter\"},{\"attributes\":{\"fill_alpha\":{\"value\":0.1},\"fill_color\":{\"field\":\"x\",\"transform\":{\"id\":\"2833\"}},\"line_alpha\":{\"value\":0.1},\"line_color\":{\"value\":null},\"top\":{\"field\":\"counts\"},\"width\":{\"value\":0.9},\"x\":{\"field\":\"x\"}},\"id\":\"2836\",\"type\":\"VBar\"},{\"attributes\":{},\"id\":\"3084\",\"type\":\"AllLabels\"},{\"attributes\":{},\"id\":\"3096\",\"type\":\"AllLabels\"},{\"attributes\":{},\"id\":\"3101\",\"type\":\"BasicTickFormatter\"},{\"attributes\":{\"source\":{\"id\":\"2840\"}},\"id\":\"2863\",\"type\":\"CDSView\"},{\"attributes\":{},\"id\":\"3102\",\"type\":\"AllLabels\"},{\"attributes\":{\"data_source\":{\"id\":\"2840\"},\"glyph\":{\"id\":\"2860\"},\"hover_glyph\":null,\"muted_glyph\":null,\"nonselection_glyph\":{\"id\":\"2861\"},\"view\":{\"id\":\"2863\"}},\"id\":\"2862\",\"type\":\"GlyphRenderer\"},{\"attributes\":{\"formatter\":{\"id\":\"3104\"},\"group_label_orientation\":1.5707963267948966,\"major_label_orientation\":0,\"major_label_policy\":{\"id\":\"3105\"},\"ticker\":{\"id\":\"2926\"}},\"id\":\"2925\",\"type\":\"CategoricalAxis\"},{\"attributes\":{\"text\":\"D19_VERSAND_ANZ_12 [ks:0.0038 p:0.4027]\"},\"id\":\"2864\",\"type\":\"Title\"},{\"attributes\":{\"axis\":{\"id\":\"2828\"},\"dimension\":1,\"ticker\":null},\"id\":\"2831\",\"type\":\"Grid\"},{\"attributes\":{},\"id\":\"3115\",\"type\":\"UnionRenderers\"},{\"attributes\":{\"formatter\":{\"id\":\"3080\"},\"group_label_orientation\":1.5707963267948966,\"major_label_orientation\":0,\"major_label_policy\":{\"id\":\"3081\"},\"ticker\":{\"id\":\"2826\"}},\"id\":\"2825\",\"type\":\"CategoricalAxis\"},{\"attributes\":{\"active_multi\":null},\"id\":\"2832\",\"type\":\"Toolbar\"},{\"attributes\":{},\"id\":\"3116\",\"type\":\"Selection\"},{\"attributes\":{\"data_source\":{\"id\":\"2815\"},\"glyph\":{\"id\":\"2835\"},\"hover_glyph\":null,\"muted_glyph\":null,\"nonselection_glyph\":{\"id\":\"2836\"},\"view\":{\"id\":\"2838\"}},\"id\":\"2837\",\"type\":\"GlyphRenderer\"},{\"attributes\":{\"axis\":{\"id\":\"2878\"},\"dimension\":1,\"ticker\":null},\"id\":\"2881\",\"type\":\"Grid\"},{\"attributes\":{\"below\":[{\"id\":\"2925\"}],\"center\":[{\"id\":\"2927\"},{\"id\":\"2931\"}],\"height\":500,\"left\":[{\"id\":\"2928\"}],\"renderers\":[{\"id\":\"2937\"}],\"title\":{\"id\":\"2939\"},\"toolbar\":{\"id\":\"2932\"},\"toolbar_location\":null,\"width\":950,\"x_range\":{\"id\":\"2916\"},\"x_scale\":{\"id\":\"2921\"},\"y_range\":{\"id\":\"2919\"},\"y_scale\":{\"id\":\"2923\"}},\"id\":\"2917\",\"subtype\":\"Figure\",\"type\":\"Plot\"},{\"attributes\":{},\"id\":\"2879\",\"type\":\"BasicTicker\"},{\"attributes\":{},\"id\":\"3086\",\"type\":\"CategoricalTickFormatter\"},{\"attributes\":{},\"id\":\"2846\",\"type\":\"CategoricalScale\"},{\"attributes\":{},\"id\":\"3087\",\"type\":\"AllLabels\"},{\"attributes\":{},\"id\":\"2871\",\"type\":\"CategoricalScale\"},{\"attributes\":{\"formatter\":{\"id\":\"3092\"},\"group_label_orientation\":1.5707963267948966,\"major_label_orientation\":0,\"major_label_policy\":{\"id\":\"3093\"},\"ticker\":{\"id\":\"2876\"}},\"id\":\"2875\",\"type\":\"CategoricalAxis\"},{\"attributes\":{},\"id\":\"3104\",\"type\":\"CategoricalTickFormatter\"},{\"attributes\":{},\"id\":\"3105\",\"type\":\"AllLabels\"},{\"attributes\":{},\"id\":\"2873\",\"type\":\"LinearScale\"},{\"attributes\":{\"active_multi\":null},\"id\":\"2932\",\"type\":\"Toolbar\"},{\"attributes\":{\"axis\":{\"id\":\"2875\"},\"grid_line_color\":null,\"ticker\":null},\"id\":\"2877\",\"type\":\"Grid\"},{\"attributes\":{},\"id\":\"2829\",\"type\":\"BasicTicker\"},{\"attributes\":{\"active_multi\":null},\"id\":\"2882\",\"type\":\"Toolbar\"},{\"attributes\":{},\"id\":\"2926\",\"type\":\"CategoricalTicker\"},{\"attributes\":{\"start\":0},\"id\":\"2819\",\"type\":\"DataRange1d\"},{\"attributes\":{\"fill_color\":{\"field\":\"x\",\"transform\":{\"id\":\"2883\"}},\"line_color\":{\"value\":null},\"top\":{\"field\":\"counts\"},\"width\":{\"value\":0.9},\"x\":{\"field\":\"x\"}},\"id\":\"2885\",\"type\":\"VBar\"},{\"attributes\":{\"fill_color\":{\"field\":\"x\",\"transform\":{\"id\":\"2858\"}},\"line_color\":{\"value\":null},\"top\":{\"field\":\"counts\"},\"width\":{\"value\":0.9},\"x\":{\"field\":\"x\"}},\"id\":\"2860\",\"type\":\"VBar\"},{\"attributes\":{},\"id\":\"2876\",\"type\":\"CategoricalTicker\"},{\"attributes\":{\"data_source\":{\"id\":\"2890\"},\"glyph\":{\"id\":\"2910\"},\"hover_glyph\":null,\"muted_glyph\":null,\"nonselection_glyph\":{\"id\":\"2911\"},\"view\":{\"id\":\"2913\"}},\"id\":\"2912\",\"type\":\"GlyphRenderer\"},{\"attributes\":{\"formatter\":{\"id\":\"3107\"},\"major_label_policy\":{\"id\":\"3108\"},\"ticker\":{\"id\":\"2929\"}},\"id\":\"2928\",\"type\":\"LinearAxis\"},{\"attributes\":{},\"id\":\"2904\",\"type\":\"BasicTicker\"},{\"attributes\":{\"fill_alpha\":{\"value\":0.1},\"fill_color\":{\"field\":\"x\",\"transform\":{\"id\":\"2908\"}},\"line_alpha\":{\"value\":0.1},\"line_color\":{\"value\":null},\"top\":{\"field\":\"counts\"},\"width\":{\"value\":0.9},\"x\":{\"field\":\"x\"}},\"id\":\"2911\",\"type\":\"VBar\"},{\"attributes\":{\"below\":[{\"id\":\"2825\"}],\"center\":[{\"id\":\"2827\"},{\"id\":\"2831\"}],\"height\":500,\"left\":[{\"id\":\"2828\"}],\"renderers\":[{\"id\":\"2837\"}],\"title\":{\"id\":\"2839\"},\"toolbar\":{\"id\":\"2832\"},\"toolbar_location\":null,\"width\":950,\"x_range\":{\"id\":\"2816\"},\"x_scale\":{\"id\":\"2821\"},\"y_range\":{\"id\":\"2819\"},\"y_scale\":{\"id\":\"2823\"}},\"id\":\"2817\",\"subtype\":\"Figure\",\"type\":\"Plot\"},{\"attributes\":{\"fill_alpha\":{\"value\":0.1},\"fill_color\":{\"field\":\"x\",\"transform\":{\"id\":\"2883\"}},\"line_alpha\":{\"value\":0.1},\"line_color\":{\"value\":null},\"top\":{\"field\":\"counts\"},\"width\":{\"value\":0.9},\"x\":{\"field\":\"x\"}},\"id\":\"2886\",\"type\":\"VBar\"},{\"attributes\":{},\"id\":\"2823\",\"type\":\"LinearScale\"},{\"attributes\":{\"text\":\"KBA13_MOTOR [ks:0.0068 p:0.0000]\"},\"id\":\"2914\",\"type\":\"Title\"},{\"attributes\":{},\"id\":\"2821\",\"type\":\"CategoricalScale\"},{\"attributes\":{\"end\":2,\"factors\":[\"a\",\"c\"],\"palette\":[\"#1f77b4\",\"#ff7f0e\"],\"start\":1},\"id\":\"2933\",\"type\":\"CategoricalColorMapper\"},{\"attributes\":{\"end\":2,\"factors\":[\"a\",\"c\"],\"palette\":[\"#1f77b4\",\"#ff7f0e\"],\"start\":1},\"id\":\"2833\",\"type\":\"CategoricalColorMapper\"},{\"attributes\":{\"end\":2,\"factors\":[\"a\",\"c\"],\"palette\":[\"#1f77b4\",\"#ff7f0e\"],\"start\":1},\"id\":\"2883\",\"type\":\"CategoricalColorMapper\"},{\"attributes\":{\"active_multi\":null},\"id\":\"2907\",\"type\":\"Toolbar\"},{\"attributes\":{\"below\":[{\"id\":\"2875\"}],\"center\":[{\"id\":\"2877\"},{\"id\":\"2881\"}],\"height\":500,\"left\":[{\"id\":\"2878\"}],\"renderers\":[{\"id\":\"2887\"}],\"title\":{\"id\":\"2889\"},\"toolbar\":{\"id\":\"2882\"},\"toolbar_location\":null,\"width\":950,\"x_range\":{\"id\":\"2866\"},\"x_scale\":{\"id\":\"2871\"},\"y_range\":{\"id\":\"2869\"},\"y_scale\":{\"id\":\"2873\"}},\"id\":\"2867\",\"subtype\":\"Figure\",\"type\":\"Plot\"},{\"attributes\":{},\"id\":\"2929\",\"type\":\"BasicTicker\"},{\"attributes\":{\"formatter\":{\"id\":\"3095\"},\"major_label_policy\":{\"id\":\"3096\"},\"ticker\":{\"id\":\"2879\"}},\"id\":\"2878\",\"type\":\"LinearAxis\"},{\"attributes\":{},\"id\":\"3089\",\"type\":\"BasicTickFormatter\"},{\"attributes\":{\"start\":0},\"id\":\"2869\",\"type\":\"DataRange1d\"},{\"attributes\":{},\"id\":\"3090\",\"type\":\"AllLabels\"},{\"attributes\":{},\"id\":\"2921\",\"type\":\"CategoricalScale\"},{\"attributes\":{\"data\":{\"counts\":[0.27566332623708395,0.2800660273541896,0.286087787833343,0.2884429671884475,0.14609517933555893,0.14651784310642982,0.16803755616167232,0.16103712354301886,0.09284581998332331,0.09132661082040111,0.03127033044901849,0.03260942798751319],\"x\":[[\"very low activity\",\"a\"],[\"very low activity\",\"c\"],[\"low activity\",\"a\"],[\"low activity\",\"c\"],[\"slightly increased activity\",\"a\"],[\"slightly increased activity\",\"c\"],[\"increased activity\",\"a\"],[\"increased activity\",\"c\"],[\"high activity\",\"a\"],[\"high activity\",\"c\"],[\"very high activity\",\"a\"],[\"very high activity\",\"c\"]]},\"selected\":{\"id\":\"3118\"},\"selection_policy\":{\"id\":\"3117\"}},\"id\":\"2915\",\"type\":\"ColumnDataSource\"},{\"attributes\":{},\"id\":\"2923\",\"type\":\"LinearScale\"},{\"attributes\":{},\"id\":\"3107\",\"type\":\"BasicTickFormatter\"},{\"attributes\":{\"fill_alpha\":{\"value\":0.1},\"fill_color\":{\"field\":\"x\",\"transform\":{\"id\":\"2933\"}},\"line_alpha\":{\"value\":0.1},\"line_color\":{\"value\":null},\"top\":{\"field\":\"counts\"},\"width\":{\"value\":0.9},\"x\":{\"field\":\"x\"}},\"id\":\"2936\",\"type\":\"VBar\"},{\"attributes\":{},\"id\":\"3108\",\"type\":\"AllLabels\"},{\"attributes\":{\"source\":{\"id\":\"2815\"}},\"id\":\"2838\",\"type\":\"CDSView\"},{\"attributes\":{\"axis\":{\"id\":\"2903\"},\"dimension\":1,\"ticker\":null},\"id\":\"2906\",\"type\":\"Grid\"},{\"attributes\":{\"factors\":[[\"very low activity\",\"a\"],[\"very low activity\",\"c\"],[\"low activity\",\"a\"],[\"low activity\",\"c\"],[\"slightly increased activity\",\"a\"],[\"slightly increased activity\",\"c\"],[\"increased activity\",\"a\"],[\"increased activity\",\"c\"],[\"high activity\",\"a\"],[\"high activity\",\"c\"],[\"very high activity\",\"a\"],[\"very high activity\",\"c\"]]},\"id\":\"2916\",\"type\":\"FactorRange\"},{\"attributes\":{},\"id\":\"3117\",\"type\":\"UnionRenderers\"},{\"attributes\":{\"formatter\":{\"id\":\"3089\"},\"major_label_policy\":{\"id\":\"3090\"},\"ticker\":{\"id\":\"2854\"}},\"id\":\"2853\",\"type\":\"LinearAxis\"},{\"attributes\":{\"source\":{\"id\":\"2890\"}},\"id\":\"2913\",\"type\":\"CDSView\"},{\"attributes\":{},\"id\":\"3118\",\"type\":\"Selection\"},{\"attributes\":{\"fill_color\":{\"field\":\"x\",\"transform\":{\"id\":\"2933\"}},\"line_color\":{\"value\":null},\"top\":{\"field\":\"counts\"},\"width\":{\"value\":0.9},\"x\":{\"field\":\"x\"}},\"id\":\"2935\",\"type\":\"VBar\"},{\"attributes\":{\"text\":\"SOHO_KZ [ks:0.0015 p:0.9575]\"},\"id\":\"2839\",\"type\":\"Title\"},{\"attributes\":{\"source\":{\"id\":\"2865\"}},\"id\":\"2888\",\"type\":\"CDSView\"},{\"attributes\":{\"axis\":{\"id\":\"2853\"},\"dimension\":1,\"ticker\":null},\"id\":\"2856\",\"type\":\"Grid\"},{\"attributes\":{\"fill_color\":{\"field\":\"x\",\"transform\":{\"id\":\"2908\"}},\"line_color\":{\"value\":null},\"top\":{\"field\":\"counts\"},\"width\":{\"value\":0.9},\"x\":{\"field\":\"x\"}},\"id\":\"2910\",\"type\":\"VBar\"},{\"attributes\":{},\"id\":\"2898\",\"type\":\"LinearScale\"},{\"attributes\":{\"data_source\":{\"id\":\"2865\"},\"glyph\":{\"id\":\"2885\"},\"hover_glyph\":null,\"muted_glyph\":null,\"nonselection_glyph\":{\"id\":\"2886\"},\"view\":{\"id\":\"2888\"}},\"id\":\"2887\",\"type\":\"GlyphRenderer\"},{\"attributes\":{\"text\":\"KBA13_CCM_1800 [ks:0.0052 p:0.0032]\"},\"id\":\"2889\",\"type\":\"Title\"},{\"attributes\":{\"start\":0},\"id\":\"2894\",\"type\":\"DataRange1d\"},{\"attributes\":{},\"id\":\"3092\",\"type\":\"CategoricalTickFormatter\"},{\"attributes\":{\"end\":2,\"factors\":[\"a\",\"c\"],\"palette\":[\"#1f77b4\",\"#ff7f0e\"],\"start\":1},\"id\":\"2908\",\"type\":\"CategoricalColorMapper\"},{\"attributes\":{},\"id\":\"2848\",\"type\":\"LinearScale\"},{\"attributes\":{\"factors\":[[\"mainly small engines\",\"a\"],[\"mainly small engines\",\"c\"],[\"mainly medium sized engines\",\"a\"],[\"mainly medium sized engines\",\"c\"],[\"mainly high engines\",\"a\"],[\"mainly high engines\",\"c\"],[\"mainly very big engines\",\"a\"],[\"mainly very big engines\",\"c\"]]},\"id\":\"2891\",\"type\":\"FactorRange\"},{\"attributes\":{\"formatter\":{\"id\":\"3101\"},\"major_label_policy\":{\"id\":\"3102\"},\"ticker\":{\"id\":\"2904\"}},\"id\":\"2903\",\"type\":\"LinearAxis\"},{\"attributes\":{\"end\":2,\"factors\":[\"a\",\"c\"],\"palette\":[\"#1f77b4\",\"#ff7f0e\"],\"start\":1},\"id\":\"2858\",\"type\":\"CategoricalColorMapper\"},{\"attributes\":{\"axis\":{\"id\":\"2928\"},\"dimension\":1,\"ticker\":null},\"id\":\"2931\",\"type\":\"Grid\"},{\"attributes\":{},\"id\":\"3098\",\"type\":\"CategoricalTickFormatter\"},{\"attributes\":{},\"id\":\"3099\",\"type\":\"AllLabels\"},{\"attributes\":{},\"id\":\"2896\",\"type\":\"CategoricalScale\"},{\"attributes\":{},\"id\":\"2854\",\"type\":\"BasicTicker\"},{\"attributes\":{\"below\":[{\"id\":\"2850\"}],\"center\":[{\"id\":\"2852\"},{\"id\":\"2856\"}],\"height\":500,\"left\":[{\"id\":\"2853\"}],\"renderers\":[{\"id\":\"2862\"}],\"title\":{\"id\":\"2864\"},\"toolbar\":{\"id\":\"2857\"},\"toolbar_location\":null,\"width\":950,\"x_range\":{\"id\":\"2841\"},\"x_scale\":{\"id\":\"2846\"},\"y_range\":{\"id\":\"2844\"},\"y_scale\":{\"id\":\"2848\"}},\"id\":\"2842\",\"subtype\":\"Figure\",\"type\":\"Plot\"},{\"attributes\":{\"formatter\":{\"id\":\"3098\"},\"group_label_orientation\":1.5707963267948966,\"major_label_orientation\":0,\"major_label_policy\":{\"id\":\"3099\"},\"ticker\":{\"id\":\"2901\"}},\"id\":\"2900\",\"type\":\"CategoricalAxis\"},{\"attributes\":{\"axis\":{\"id\":\"2900\"},\"grid_line_color\":null,\"ticker\":null},\"id\":\"2902\",\"type\":\"Grid\"},{\"attributes\":{\"axis\":{\"id\":\"2850\"},\"grid_line_color\":null,\"ticker\":null},\"id\":\"2852\",\"type\":\"Grid\"},{\"attributes\":{\"active_multi\":null},\"id\":\"2857\",\"type\":\"Toolbar\"},{\"attributes\":{},\"id\":\"2901\",\"type\":\"CategoricalTicker\"},{\"attributes\":{\"factors\":[[\"very low activity\",\"a\"],[\"very low activity\",\"c\"],[\"low activity\",\"a\"],[\"low activity\",\"c\"],[\"slightly increased activity\",\"a\"],[\"slightly increased activity\",\"c\"],[\"increased activity\",\"a\"],[\"increased activity\",\"c\"],[\"high activity\",\"a\"],[\"high activity\",\"c\"],[\"very high activity\",\"a\"],[\"very high activity\",\"c\"]]},\"id\":\"2841\",\"type\":\"FactorRange\"},{\"attributes\":{},\"id\":\"2851\",\"type\":\"CategoricalTicker\"},{\"attributes\":{},\"id\":\"3109\",\"type\":\"UnionRenderers\"},{\"attributes\":{},\"id\":\"3095\",\"type\":\"BasicTickFormatter\"},{\"attributes\":{},\"id\":\"3110\",\"type\":\"Selection\"},{\"attributes\":{\"formatter\":{\"id\":\"3086\"},\"group_label_orientation\":1.5707963267948966,\"major_label_orientation\":0,\"major_label_policy\":{\"id\":\"3087\"},\"ticker\":{\"id\":\"2851\"}},\"id\":\"2850\",\"type\":\"CategoricalAxis\"},{\"attributes\":{\"below\":[{\"id\":\"2900\"}],\"center\":[{\"id\":\"2902\"},{\"id\":\"2906\"}],\"height\":500,\"left\":[{\"id\":\"2903\"}],\"renderers\":[{\"id\":\"2912\"}],\"title\":{\"id\":\"2914\"},\"toolbar\":{\"id\":\"2907\"},\"toolbar_location\":null,\"width\":950,\"x_range\":{\"id\":\"2891\"},\"x_scale\":{\"id\":\"2896\"},\"y_range\":{\"id\":\"2894\"},\"y_scale\":{\"id\":\"2898\"}},\"id\":\"2892\",\"subtype\":\"Figure\",\"type\":\"Plot\"},{\"attributes\":{\"fill_alpha\":{\"value\":0.1},\"fill_color\":{\"field\":\"x\",\"transform\":{\"id\":\"2858\"}},\"line_alpha\":{\"value\":0.1},\"line_color\":{\"value\":null},\"top\":{\"field\":\"counts\"},\"width\":{\"value\":0.9},\"x\":{\"field\":\"x\"}},\"id\":\"2861\",\"type\":\"VBar\"},{\"attributes\":{\"axis\":{\"id\":\"2925\"},\"grid_line_color\":null,\"ticker\":null},\"id\":\"2927\",\"type\":\"Grid\"},{\"attributes\":{\"start\":0},\"id\":\"2919\",\"type\":\"DataRange1d\"}],\"root_ids\":[\"2814\"]},\"title\":\"Bokeh Application\",\"version\":\"2.3.1\"}};\n",
       "  var render_items = [{\"docid\":\"7499ffd5-932e-4923-9b2f-c4c19737899d\",\"root_ids\":[\"2814\"],\"roots\":{\"2814\":\"54fe51ae-db31-4c52-aaba-bb5b97004afe\"}}];\n",
       "  root.Bokeh.embed.embed_items_notebook(docs_json, render_items);\n",
       "\n",
       "  }\n",
       "  if (root.Bokeh !== undefined) {\n",
       "    embed_document(root);\n",
       "  } else {\n",
       "    var attempts = 0;\n",
       "    var timer = setInterval(function(root) {\n",
       "      if (root.Bokeh !== undefined) {\n",
       "        clearInterval(timer);\n",
       "        embed_document(root);\n",
       "      } else {\n",
       "        attempts++;\n",
       "        if (attempts > 100) {\n",
       "          clearInterval(timer);\n",
       "          console.log(\"Bokeh: ERROR: Unable to run BokehJS code because BokehJS library is missing\");\n",
       "        }\n",
       "      }\n",
       "    }, 10, root)\n",
       "  }\n",
       "})(window);"
      ],
      "application/vnd.bokehjs_exec.v0+json": ""
     },
     "metadata": {
      "application/vnd.bokehjs_exec.v0+json": {
       "id": "2814"
      }
     },
     "output_type": "display_data"
    }
   ],
   "source": [
    "# plot a few of the most simmilar features\n",
    "layout = column()\n",
    "for c in tqdm(similarity_scores.sort_values(by=['ks'], ascending=True).head(5).index):\n",
    "    layout.children.append(ks_bar_plot(c))\n",
    "\n",
    "show(layout)"
   ]
  },
  {
   "cell_type": "code",
   "execution_count": 67,
   "metadata": {},
   "outputs": [
    {
     "data": {
      "text/html": [
       "<div>\n",
       "<style scoped>\n",
       "    .dataframe tbody tr th:only-of-type {\n",
       "        vertical-align: middle;\n",
       "    }\n",
       "\n",
       "    .dataframe tbody tr th {\n",
       "        vertical-align: top;\n",
       "    }\n",
       "\n",
       "    .dataframe thead th {\n",
       "        text-align: right;\n",
       "    }\n",
       "</style>\n",
       "<table border=\"1\" class=\"dataframe\">\n",
       "  <thead>\n",
       "    <tr style=\"text-align: right;\">\n",
       "      <th></th>\n",
       "      <th>ks</th>\n",
       "      <th>p</th>\n",
       "    </tr>\n",
       "  </thead>\n",
       "  <tbody>\n",
       "    <tr>\n",
       "      <th>D19_DIGIT_SERV</th>\n",
       "      <td>0.021255</td>\n",
       "      <td>0.005409</td>\n",
       "    </tr>\n",
       "    <tr>\n",
       "      <th>D19_LEBENSMITTEL</th>\n",
       "      <td>0.011993</td>\n",
       "      <td>0.027410</td>\n",
       "    </tr>\n",
       "    <tr>\n",
       "      <th>D19_TELKO_ONLINE_DATUM</th>\n",
       "      <td>0.014892</td>\n",
       "      <td>0.840361</td>\n",
       "    </tr>\n",
       "    <tr>\n",
       "      <th>D19_VERSAND_ANZ_12</th>\n",
       "      <td>0.003825</td>\n",
       "      <td>0.402700</td>\n",
       "    </tr>\n",
       "    <tr>\n",
       "      <th>D19_VERSAND_ANZ_24</th>\n",
       "      <td>0.007181</td>\n",
       "      <td>0.001457</td>\n",
       "    </tr>\n",
       "    <tr>\n",
       "      <th>KBA13_CCM_1800</th>\n",
       "      <td>0.005202</td>\n",
       "      <td>0.003183</td>\n",
       "    </tr>\n",
       "    <tr>\n",
       "      <th>SOHO_KZ</th>\n",
       "      <td>0.001451</td>\n",
       "      <td>0.957509</td>\n",
       "    </tr>\n",
       "    <tr>\n",
       "      <th>TITEL_KZ</th>\n",
       "      <td>0.030428</td>\n",
       "      <td>0.245682</td>\n",
       "    </tr>\n",
       "  </tbody>\n",
       "</table>\n",
       "</div>"
      ],
      "text/plain": [
       "                              ks         p\n",
       "D19_DIGIT_SERV          0.021255  0.005409\n",
       "D19_LEBENSMITTEL        0.011993  0.027410\n",
       "D19_TELKO_ONLINE_DATUM  0.014892  0.840361\n",
       "D19_VERSAND_ANZ_12      0.003825  0.402700\n",
       "D19_VERSAND_ANZ_24      0.007181  0.001457\n",
       "KBA13_CCM_1800          0.005202  0.003183\n",
       "SOHO_KZ                 0.001451  0.957509\n",
       "TITEL_KZ                0.030428  0.245682"
      ]
     },
     "execution_count": 67,
     "metadata": {},
     "output_type": "execute_result"
    }
   ],
   "source": [
    "# Find most similar features\n",
    "similarity_scores[similarity_scores['p'] > 0.001]"
   ]
  },
  {
   "cell_type": "code",
   "execution_count": 68,
   "metadata": {},
   "outputs": [],
   "source": [
    "# Drop columns that are distributed too similarly between datasets, they will not provide separation\n",
    "ks_cols_to_drop = similarity_scores[similarity_scores['p'] > 0.001].index\n",
    "azdias.drop(columns=ks_cols_to_drop, inplace=True)\n",
    "customers.drop(columns=ks_cols_to_drop, inplace=True)"
   ]
  },
  {
   "cell_type": "markdown",
   "metadata": {},
   "source": [
    "# UMAP\n",
    "Tried clustering to see if there was anything insightful. Did not produce anything amazing. "
   ]
  },
  {
   "cell_type": "code",
   "execution_count": 69,
   "metadata": {},
   "outputs": [],
   "source": [
    "# azdias_c = azdias.copy()\n",
    "# customers_c = customers.copy()\n",
    "# azdias_c['customer'] = False\n",
    "# customers_c['customer'] = True\n",
    "# combined_data = azdias_c.append(customers_c[azdias_c.columns])"
   ]
  },
  {
   "cell_type": "code",
   "execution_count": 70,
   "metadata": {},
   "outputs": [],
   "source": [
    "# mini_data = combined_data.sample(100000, random_state=42)\n",
    "# labels = mini_data['customer']\n",
    "# train = mini_data.drop(columns=['customer'])"
   ]
  },
  {
   "cell_type": "code",
   "execution_count": 71,
   "metadata": {
    "scrolled": true
   },
   "outputs": [],
   "source": [
    "# plots = []\n",
    "# for n_neighbors in tqdm([200, 500, 1000]):\n",
    "#     sub_plots = []\n",
    "#     for min_dist in tqdm([0.3, 0.99]): \n",
    "#         # gridsearch revealed default settings perform very well \n",
    "#         reducer = umap.UMAP(random_state=42, init='random', n_neighbors=n_neighbors, min_dist=min_dist)\n",
    "#         reducer.fit(train)\n",
    "#         embedding = reducer.transform(train)\n",
    "\n",
    "#         x = embedding[:,0]\n",
    "#         y = embedding[:,1]\n",
    "#         colors = labels.replace({False: Cividis[11][-1], True: Cividis[11][0]})\n",
    "\n",
    "#         p = figure(title=f\"Overall view of customers vs non-customers in dataset [n_neighbors = {n_neighbors}, min_dist = {min_dist}]\")\n",
    "\n",
    "#         p.scatter(x, y, radius=0.1,\n",
    "#                   fill_color=colors, fill_alpha=0.25,\n",
    "#                   line_color=None)\n",
    "        \n",
    "#         sub_plots.append(p)\n",
    "# #         layout.children.append(p)\n",
    "#     plots.append(sub_plots)\n",
    "\n",
    "# grid = gridplot(plots)\n",
    "# show(grid)"
   ]
  },
  {
   "cell_type": "code",
   "execution_count": 72,
   "metadata": {
    "scrolled": false
   },
   "outputs": [],
   "source": [
    "# layout = column()\n",
    "# for num_cols in [21]: # tqdm(range(15,25,1)):\n",
    "#     ks_most_dissimilar = similarity_scores.sort_values(by=['ks'], ascending=False).head(num_cols).index\n",
    "#     ks_mini_data = combined_data[[*ks_most_dissimilar, 'customer']].sample(100000, random_state=42)\n",
    "#     ks_labels = ks_mini_data['customer']\n",
    "#     ks_train = ks_mini_data.drop(columns=['customer'])\n",
    "\n",
    "#     ks_reducer = umap.UMAP(random_state=42, init='random', n_neighbors=15, min_dist=0.1)\n",
    "#     ks_reducer.fit(ks_train)\n",
    "#     ks_embedding = ks_reducer.transform(ks_train)\n",
    "\n",
    "#     x = ks_embedding[:,0]\n",
    "#     y = ks_embedding[:,1]\n",
    "#     colors = ks_labels.replace({False: Cividis[11][-1], True: Cividis[11][0]})\n",
    "\n",
    "#     p = figure(title=f\"Overall view of customers vs non-customers in dataset [top {num_cols} dissimilar columns]\")\n",
    "\n",
    "#     p.scatter(x, y, radius=0.1,\n",
    "#               fill_color=colors, fill_alpha=0.1,\n",
    "#               line_color=None)\n",
    "#     layout.children.append(p)\n",
    "\n",
    "# show(layout)"
   ]
  },
  {
   "cell_type": "code",
   "execution_count": 73,
   "metadata": {},
   "outputs": [],
   "source": [
    "# %%time\n",
    "# ks_emb_sample = ks_embedding\n",
    "# clustering = OPTICS(min_samples=1000, n_jobs=-1)\n",
    "# clustering.fit(ks_emb_sample)"
   ]
  },
  {
   "cell_type": "code",
   "execution_count": 74,
   "metadata": {},
   "outputs": [],
   "source": [
    "# max(clustering.labels_)"
   ]
  },
  {
   "cell_type": "code",
   "execution_count": 75,
   "metadata": {},
   "outputs": [],
   "source": [
    "# cluster_labels = list(pd.DataFrame(clustering.labels_).value_counts().index.get_level_values(0))"
   ]
  },
  {
   "cell_type": "code",
   "execution_count": 76,
   "metadata": {},
   "outputs": [],
   "source": [
    "# c = 0\n",
    "# r = dict()\n",
    "# for l in cluster_labels:\n",
    "#     if l == -1:\n",
    "#         r[l] = '#cfcfcf'\n",
    "#     elif c < len(Category10[10]):\n",
    "#         r[l] = Category10[10][c]\n",
    "#         c += 1\n",
    "#     else:\n",
    "#         r[l] = '#cfcfcf'"
   ]
  },
  {
   "cell_type": "code",
   "execution_count": 77,
   "metadata": {},
   "outputs": [],
   "source": [
    "# emb_arr = pd.DataFrame(np.vstack([ks_emb_sample.T, ks_labels.astype(int).values, clustering.labels_, ]).T, columns=['Emb_0', 'Emb_1', 'is_customer', 'Cluster'])\n",
    "# emb_arr.head(10)"
   ]
  },
  {
   "cell_type": "code",
   "execution_count": 78,
   "metadata": {},
   "outputs": [],
   "source": [
    "# locations = emb_arr.groupby('Cluster').mean().sort_values(by='is_customer', ascending=False).reset_index()\n",
    "# locations.merge((emb_arr['Cluster'].value_counts()/len(emb_arr)).rename('Cluster Size'), \n",
    "#                 left_on='Cluster', right_index=True)"
   ]
  },
  {
   "cell_type": "code",
   "execution_count": 79,
   "metadata": {},
   "outputs": [],
   "source": [
    "# colors = list(pd.Series(clustering.labels_).replace(r).values)\n",
    "\n",
    "# x = ks_embedding[:,0]\n",
    "# y = ks_embedding[:,1]\n",
    "\n",
    "# p = figure(title=f\"Clusters within the dataset ranked from highest to lowest customer density\")\n",
    "\n",
    "# p.scatter(x, y, radius=0.1,\n",
    "#           fill_color=colors, fill_alpha=0.25,\n",
    "#           line_color=None)\n",
    "\n",
    "\n",
    "# for k in locations.iterrows():\n",
    "#     l, xl, yl = k[0], k[1]['Emb_0'], k[1]['Emb_1']\n",
    "#     if l != -1:\n",
    "#         citation = Label(x=xl, y=yl, # x_units='screen', y_units='screen',\n",
    "#                          text=str(int(l)), render_mode='css',\n",
    "#                          border_line_color='black', border_line_alpha=1.0,\n",
    "#                          background_fill_color='white', background_fill_alpha=1.0)\n",
    "\n",
    "#         p.add_layout(citation)\n",
    "\n",
    "# show(p)"
   ]
  },
  {
   "cell_type": "code",
   "execution_count": 80,
   "metadata": {},
   "outputs": [],
   "source": [
    "# c_cols = list(set(customers.columns) - set(azdias.columns))\n",
    "# customer_groups = customers[c_cols].copy()\n",
    "\n",
    "# customer_groups['PRODUCT_GROUP_COSMETIC'] = (customer_groups['PRODUCT_GROUP'].str.find('COSMETIC') >= 0)\n",
    "# customer_groups['PRODUCT_GROUP_FOOD'] = (customer_groups['PRODUCT_GROUP'].str.find('FOOD') >= 0)\n",
    "# customer_groups.drop(columns='PRODUCT_GROUP', inplace=True)"
   ]
  },
  {
   "cell_type": "code",
   "execution_count": 81,
   "metadata": {},
   "outputs": [],
   "source": [
    "# label_groups = pd.merge(labels, customer_groups, left_index=True, right_index=True, how='left')\n",
    "# label_groups['ONLINE_PURCHASE'].fillna(-1, inplace=True)\n",
    "# label_groups['CUSTOMER_GROUP'].fillna('NONE', inplace=True)\n",
    "# label_groups['PRODUCT_GROUP_COSMETIC'].fillna(False, inplace=True)\n",
    "# label_groups['PRODUCT_GROUP_FOOD'].fillna(False, inplace=True)\n",
    "# label_groups.head()"
   ]
  },
  {
   "cell_type": "code",
   "execution_count": 82,
   "metadata": {
    "scrolled": false
   },
   "outputs": [],
   "source": [
    "# layout = column()\n",
    "# for k in ['ONLINE_PURCHASE', 'CUSTOMER_GROUP', 'PRODUCT_GROUP_COSMETIC', 'PRODUCT_GROUP_FOOD']:\n",
    "#     x = embedding[:,0]\n",
    "#     y = embedding[:,1]\n",
    "#     if k == 'ONLINE_PURCHASE':\n",
    "#         colors = label_groups[k].replace({-1: Category20[20][1], 0:Category20[20][4],  1: Category20[20][6]})\n",
    "#     elif k == 'CUSTOMER_GROUP':\n",
    "#         colors = label_groups[k].replace({'NONE': Category20[20][1], 'SINGLE_BUYER':Category20[20][4],  'MULTI_BUYER': Category20[20][6]})\n",
    "#     else: \n",
    "#         colors = label_groups[k].replace({False: Category20[20][1], True: Category20[20][6]})\n",
    "#     p = figure(title=k)\n",
    "\n",
    "#     p.scatter(x, y, radius=0.1,\n",
    "#               fill_color=colors, fill_alpha=0.25,\n",
    "#               line_color=None)\n",
    "\n",
    "#     layout.children.append(p)\n",
    "# show(layout)"
   ]
  },
  {
   "cell_type": "markdown",
   "metadata": {},
   "source": [
    "## Part 1: Customer Segmentation Report\n",
    "\n",
    "The main bulk of your analysis will come in this part of the project. Here, you should use unsupervised learning techniques to describe the relationship between the demographics of the company's existing customers and the general population of Germany. By the end of this part, you should be able to describe parts of the general population that are more likely to be part of the mail-order company's main customer base, and which parts of the general population are less so."
   ]
  },
  {
   "cell_type": "code",
   "execution_count": 83,
   "metadata": {},
   "outputs": [],
   "source": [
    "# find features that the distribution of customers and general population differ the most on (ignoring missing values)\n",
    "most_different = similarity_scores.sort_values(by=['ks'], ascending=False).index"
   ]
  },
  {
   "cell_type": "code",
   "execution_count": 84,
   "metadata": {},
   "outputs": [],
   "source": [
    "def output_col(c, attributes=attributes):\n",
    "    \"\"\"plot helper\"\"\"\n",
    "    p = ks_bar_plot(c)\n",
    "    show(p)\n",
    "#     display(attributes[attributes['Attribute'] == c])"
   ]
  },
  {
   "cell_type": "markdown",
   "metadata": {},
   "source": [
    "#### Customers vs  General Population:\n",
    "- Customers are typically older, growing up in the 40's - 60's, and older than 60 years of age.\n",
    "    - PRAEGENDE_JUGENDJAHRE\n",
    "    - ALTERSKATEGORIE_GROB\n",
    "    - LP_LEBENSPHASE_FEIN\n",
    "    - ALTER_HH\n",
    "    - LP_STATUS_FEIN\n",
    "- Customers are more likely to be male than general population (2:1 vs 1:1)\n",
    "    - ANREDE_KZ\n",
    "- Customers are wealthy and have a high income, with a greater chance of being a customer the more wealthy they are. \n",
    "    - HH_EINKOMMEN_SCORE\n",
    "    - LP_STATUS_FEIN\n",
    "- Customers have a higher interest in investing and saving, and lower in finance minimalism and preparedness\n",
    "    - FINANZ_SPARER\n",
    "    - FINANZ_ANLEGER\n",
    "    - FINANZ_VORSORGER\n",
    "    - FINANZ_MINIMALIST\n",
    "- Customers typically own their home\n",
    "    - LP_LEBENSPHASE_FEIN\n",
    "    - LP_STATUS_FEIN\n",
    "    - FINANZ_HAUSBAUER\n",
    "- Customers live in freestanding homes but more densely populated areas\n",
    "    - KBA05_ANTG1\n",
    "    - ANZ_HAUSHALTE_AKTIV\n",
    "    - KBA05_GBZ\n",
    "- Customers are more family orientated, and have multiple generations living in the same home\n",
    "    - LP_FAMILIE_FEIN\n",
    "    - ANZ_PERSONEN\n",
    "- Customers are immobile w.r.t. housing, staying at the same location for 10+ years, and not move home\n",
    "    - WOHNDAUER_2008\n",
    "    - MOBI_REGIO\n",
    "- Customers own more cars, and newer cars than the general population\n",
    "    - KBA05_AUTOQUOT\n",
    "    - KBA05_VORB2\n",
    "- Customers are critical, realistic, traditional and religious\n",
    "    - SEMIO_PFLICHT\n",
    "    - SEMIO_REL\n",
    "    - SEMIO_VERT\n",
    "    - SEMIO_KRIT\n",
    "    - SEMIO_TRADV\n",
    "    - SEMIO_LUST\n",
    "    - SEMIO_RAT\n",
    "\n",
    "\n",
    "#### Feature analysis\n",
    "- D19_KONSUMTYP: consumption type\n",
    "    - Customers are more likely to fall within the universal, versatile and gourmet groups\n",
    "    - Customers are less likely to fall within the family, informed, modern and inactive groups\n",
    "- PRAEGENDE_JUGENDJAHRE: dominating movement in the person's youth (avantgarde or mainstream)\n",
    "    - Customers are more likely to fall in the <= 60ies than > 60ies group\n",
    "- FINANZ_VORSORGER: financial typology: be prepared\n",
    "    - Customers rank low and very low on financial preparedness \n",
    "    - Customers are less likely to rank average, high or very high on financial preparedness \n",
    "- FINANZ_SPARER: financial typology: money saver\n",
    "    - Customers rank very high on saving money\n",
    "    - Customers are less likely to rank high, average, low, of very low on saving money\n",
    "- FINANZ_ANLEGER: financial typology: investor\n",
    "    - Customers rank very high on investing money\n",
    "    - Customers are less likely to rank high, average, low, of very low on investing money\n",
    "- FINANZ_MINIMALIST: financial typology: low financial interest\n",
    "    - Customers rank very low on financial interest\n",
    "    - Customers are less likely to rank low, average, high or very high on financial interest\n",
    "- LP_STATUS_FEIN: social status fine\n",
    "    - Customers are typically hoseowners, title-holder-households, and top earners\n",
    "    - Customers are not minimalistic high-income earners, orientationseeking low-income earners, or new houseowners\n",
    "- SEMIO_RAT: affinity indicating in what way the person is of a rational mind\n",
    "    - Customers are more likely to be rational individuals\n",
    "- ALTERSKATEGORIE_GROB: age classification through prename analysis\n",
    "    - Customer age is typically older than 60 years (this aligns with PRAEGENDE_JUGENDJAHRE)\n",
    "    - There is allso a large number of customers in the > 45 age group, but this is not larger than the general population\n",
    "- SEMIO_PFLICHT: affinity indicating in what way the person is dutyfull traditional minded\n",
    "    - Customers are more likely to show affinity with traditional values\n",
    "- ZABEOTYP: typification of energy consumers\n",
    "    - Customers are more likely to identify with green, smart or fair supplied energy types\n",
    "    - Customers are less likely to identify with price driven, seeking orentation, or indifferent energy types\n",
    "- HH_EINKOMMEN_SCORE: estimated household net income\n",
    "    - Customers are of above average to high household income\n",
    "- ANZ_HAUSHALTE_AKTIV: number of households in the building\n",
    "    - Customers typically have fewer households in the building than non customers\n",
    "- SEMIO_LUST: affinity indicating in what way the person is sensual minded\n",
    "    - Customers have low affinity with sensuality\n",
    "- LP_LEBENSPHASE_FEIN: lifestage fine\n",
    "    - Customers are top earners, homeowners, older age\n",
    "- KBA05_BAUMAX: most common building-type within the cell\n",
    "    - Customers are located in less densly populated areas with only 1-2 homes in a microcell\n",
    "- FINANZ_UNAUFFAELLIGER: financial typology: unremarkable\n",
    "    - HMMM?\n",
    "- SEMIO_TRADV: affinity indicating in what way the person is traditional minded\n",
    "    - More towards high affinity \n",
    "- SEMIO_KRIT: affinity indicating in what way the person is critical minded\n",
    "    - Higher affinity with being critically minded\n",
    "- ALTER_HH: main age within the household\n",
    "    - Customers birth years are more likely to be < 1955 than >= 1955\n",
    "- KBA05_ANTG1: number of 1-2 family houses in the cell\n",
    "    - Homes are typically 1-2 family homes\n",
    "- ANZ_PERSONEN: number of adult persons in the household\n",
    "    - More likely to have a larger number of adults in the household \n",
    "- LP_FAMILIE_FEIN: familytyp fine\n",
    "    - Less likely to be single\n",
    "    - More likely to be a coupe with multi genrations living in the same household\n",
    "- MOBI_REGIO: moving patterns\n",
    "    - Low to very low mobility compared to the general population \n",
    "- WOHNDAUER_2008: length of residence\n",
    "    - Living in the same location for more than 10 years\n",
    "- ANREDE_KZ\n",
    "    - More likely to be male compared to general population\n",
    "- SEMIO_VERT: affinity indicating in what way the person is dreamily\n",
    "    - low afinity to dreaming, i.e. more focused on reality\n",
    "- SEMIO_REL: affinity indicating in what way the person is religious\n",
    "    - More affinity with religion\n",
    "- KBA05_AUTOQUOT: share of cars per household\n",
    "    - Customers are more likely to have a high number of cars\n",
    "- KBA05_GBZ: number of buildings in the microcell\n",
    "    - more likely to have a large number of buildings in the microcell \n",
    "- KBA05_VORB2: share of cars with more than two preowner\n",
    "    - More likely to own newer cars than pre-owned cars\n",
    "- FINANZ_HAUSBAUER: financial typology: main focus is the own house\n",
    "    - High affinity with owning a home "
   ]
  },
  {
   "cell_type": "code",
   "execution_count": 85,
   "metadata": {
    "scrolled": true
   },
   "outputs": [
    {
     "data": {
      "text/html": [
       "\n",
       "\n",
       "\n",
       "\n",
       "\n",
       "\n",
       "  <div class=\"bk-root\" id=\"0888f6a8-5897-49ea-a3e5-71b9223c278a\" data-root-id=\"3371\"></div>\n"
      ]
     },
     "metadata": {},
     "output_type": "display_data"
    },
    {
     "data": {
      "application/javascript": [
       "(function(root) {\n",
       "  function embed_document(root) {\n",
       "    \n",
       "  var docs_json = {\"68507494-f973-4040-8c56-fc733c89719c\":{\"defs\":[],\"roots\":{\"references\":[{\"attributes\":{\"below\":[{\"id\":\"3379\"}],\"center\":[{\"id\":\"3381\"},{\"id\":\"3385\"}],\"height\":500,\"left\":[{\"id\":\"3382\"}],\"renderers\":[{\"id\":\"3391\"}],\"title\":{\"id\":\"3393\"},\"toolbar\":{\"id\":\"3386\"},\"toolbar_location\":null,\"width\":950,\"x_range\":{\"id\":\"3370\"},\"x_scale\":{\"id\":\"3375\"},\"y_range\":{\"id\":\"3373\"},\"y_scale\":{\"id\":\"3377\"}},\"id\":\"3371\",\"subtype\":\"Figure\",\"type\":\"Plot\"},{\"attributes\":{\"source\":{\"id\":\"3369\"}},\"id\":\"3392\",\"type\":\"CDSView\"},{\"attributes\":{\"active_multi\":null},\"id\":\"3386\",\"type\":\"Toolbar\"},{\"attributes\":{},\"id\":\"3375\",\"type\":\"CategoricalScale\"},{\"attributes\":{\"formatter\":{\"id\":\"3579\"},\"major_label_policy\":{\"id\":\"3580\"},\"ticker\":{\"id\":\"3383\"}},\"id\":\"3382\",\"type\":\"LinearAxis\"},{\"attributes\":{\"end\":2,\"factors\":[\"a\",\"c\"],\"palette\":[\"#1f77b4\",\"#ff7f0e\"],\"start\":1},\"id\":\"3387\",\"type\":\"CategoricalColorMapper\"},{\"attributes\":{\"axis\":{\"id\":\"3382\"},\"dimension\":1,\"ticker\":null},\"id\":\"3385\",\"type\":\"Grid\"},{\"attributes\":{\"data_source\":{\"id\":\"3369\"},\"glyph\":{\"id\":\"3389\"},\"hover_glyph\":null,\"muted_glyph\":null,\"nonselection_glyph\":{\"id\":\"3390\"},\"view\":{\"id\":\"3392\"}},\"id\":\"3391\",\"type\":\"GlyphRenderer\"},{\"attributes\":{},\"id\":\"3579\",\"type\":\"BasicTickFormatter\"},{\"attributes\":{},\"id\":\"3576\",\"type\":\"CategoricalTickFormatter\"},{\"attributes\":{},\"id\":\"3577\",\"type\":\"AllLabels\"},{\"attributes\":{},\"id\":\"3377\",\"type\":\"LinearScale\"},{\"attributes\":{},\"id\":\"3380\",\"type\":\"CategoricalTicker\"},{\"attributes\":{\"text\":\"D19_KONSUMTYP [ks:0.4699 p:0.0000]\"},\"id\":\"3393\",\"type\":\"Title\"},{\"attributes\":{\"data\":{\"counts\":[0.1859511561231474,0.2486072956149807,0.07778559285414649,0.20559168202524603,0.08410318844602288,0.3634941057829398,0.12342178387704186,0.03330667315783983,0.03851430842356592,0.010439197412803839,0.08920016022658815,0.05159787182251278,0.4010238100494873,0.08696317418367702],\"x\":[[\"Universal\",\"a\"],[\"Universal\",\"c\"],[\"Versatile\",\"a\"],[\"Versatile\",\"c\"],[\"Gourmet\",\"a\"],[\"Gourmet\",\"c\"],[\"Family\",\"a\"],[\"Family\",\"c\"],[\"Informed \",\"a\"],[\"Informed \",\"c\"],[\"Modern\",\"a\"],[\"Modern\",\"c\"],[\"Inactive\",\"a\"],[\"Inactive\",\"c\"]]},\"selected\":{\"id\":\"3582\"},\"selection_policy\":{\"id\":\"3581\"}},\"id\":\"3369\",\"type\":\"ColumnDataSource\"},{\"attributes\":{\"factors\":[[\"Universal\",\"a\"],[\"Universal\",\"c\"],[\"Versatile\",\"a\"],[\"Versatile\",\"c\"],[\"Gourmet\",\"a\"],[\"Gourmet\",\"c\"],[\"Family\",\"a\"],[\"Family\",\"c\"],[\"Informed \",\"a\"],[\"Informed \",\"c\"],[\"Modern\",\"a\"],[\"Modern\",\"c\"],[\"Inactive\",\"a\"],[\"Inactive\",\"c\"]]},\"id\":\"3370\",\"type\":\"FactorRange\"},{\"attributes\":{},\"id\":\"3580\",\"type\":\"AllLabels\"},{\"attributes\":{},\"id\":\"3582\",\"type\":\"Selection\"},{\"attributes\":{\"fill_alpha\":{\"value\":0.1},\"fill_color\":{\"field\":\"x\",\"transform\":{\"id\":\"3387\"}},\"line_alpha\":{\"value\":0.1},\"line_color\":{\"value\":null},\"top\":{\"field\":\"counts\"},\"width\":{\"value\":0.9},\"x\":{\"field\":\"x\"}},\"id\":\"3390\",\"type\":\"VBar\"},{\"attributes\":{},\"id\":\"3383\",\"type\":\"BasicTicker\"},{\"attributes\":{\"start\":0},\"id\":\"3373\",\"type\":\"DataRange1d\"},{\"attributes\":{\"formatter\":{\"id\":\"3576\"},\"group_label_orientation\":1.5707963267948966,\"major_label_orientation\":0,\"major_label_policy\":{\"id\":\"3577\"},\"ticker\":{\"id\":\"3380\"}},\"id\":\"3379\",\"type\":\"CategoricalAxis\"},{\"attributes\":{\"axis\":{\"id\":\"3379\"},\"grid_line_color\":null,\"ticker\":null},\"id\":\"3381\",\"type\":\"Grid\"},{\"attributes\":{\"fill_color\":{\"field\":\"x\",\"transform\":{\"id\":\"3387\"}},\"line_color\":{\"value\":null},\"top\":{\"field\":\"counts\"},\"width\":{\"value\":0.9},\"x\":{\"field\":\"x\"}},\"id\":\"3389\",\"type\":\"VBar\"},{\"attributes\":{},\"id\":\"3581\",\"type\":\"UnionRenderers\"}],\"root_ids\":[\"3371\"]},\"title\":\"Bokeh Application\",\"version\":\"2.3.1\"}};\n",
       "  var render_items = [{\"docid\":\"68507494-f973-4040-8c56-fc733c89719c\",\"root_ids\":[\"3371\"],\"roots\":{\"3371\":\"0888f6a8-5897-49ea-a3e5-71b9223c278a\"}}];\n",
       "  root.Bokeh.embed.embed_items_notebook(docs_json, render_items);\n",
       "\n",
       "  }\n",
       "  if (root.Bokeh !== undefined) {\n",
       "    embed_document(root);\n",
       "  } else {\n",
       "    var attempts = 0;\n",
       "    var timer = setInterval(function(root) {\n",
       "      if (root.Bokeh !== undefined) {\n",
       "        clearInterval(timer);\n",
       "        embed_document(root);\n",
       "      } else {\n",
       "        attempts++;\n",
       "        if (attempts > 100) {\n",
       "          clearInterval(timer);\n",
       "          console.log(\"Bokeh: ERROR: Unable to run BokehJS code because BokehJS library is missing\");\n",
       "        }\n",
       "      }\n",
       "    }, 10, root)\n",
       "  }\n",
       "})(window);"
      ],
      "application/vnd.bokehjs_exec.v0+json": ""
     },
     "metadata": {
      "application/vnd.bokehjs_exec.v0+json": {
       "id": "3371"
      }
     },
     "output_type": "display_data"
    },
    {
     "name": "stdout",
     "output_type": "stream",
     "text": [
      "==========================================================================================================================================================================================================================================\n"
     ]
    },
    {
     "data": {
      "text/html": [
       "\n",
       "\n",
       "\n",
       "\n",
       "\n",
       "\n",
       "  <div class=\"bk-root\" id=\"83187e85-2014-4126-86d8-2e8fdabe5e9d\" data-root-id=\"3635\"></div>\n"
      ]
     },
     "metadata": {},
     "output_type": "display_data"
    },
    {
     "data": {
      "application/javascript": [
       "(function(root) {\n",
       "  function embed_document(root) {\n",
       "    \n",
       "  var docs_json = {\"5e2c6769-6115-485d-a96a-0fee456aff99\":{\"defs\":[],\"roots\":{\"references\":[{\"attributes\":{\"below\":[{\"id\":\"3643\"}],\"center\":[{\"id\":\"3645\"},{\"id\":\"3649\"}],\"height\":500,\"left\":[{\"id\":\"3646\"}],\"renderers\":[{\"id\":\"3655\"}],\"title\":{\"id\":\"3657\"},\"toolbar\":{\"id\":\"3650\"},\"toolbar_location\":null,\"width\":950,\"x_range\":{\"id\":\"3634\"},\"x_scale\":{\"id\":\"3639\"},\"y_range\":{\"id\":\"3637\"},\"y_scale\":{\"id\":\"3641\"}},\"id\":\"3635\",\"subtype\":\"Figure\",\"type\":\"Plot\"},{\"attributes\":{\"axis\":{\"id\":\"3646\"},\"dimension\":1,\"ticker\":null},\"id\":\"3649\",\"type\":\"Grid\"},{\"attributes\":{\"start\":0},\"id\":\"3637\",\"type\":\"DataRange1d\"},{\"attributes\":{\"fill_color\":{\"field\":\"x\",\"transform\":{\"id\":\"3651\"}},\"line_color\":{\"value\":null},\"top\":{\"field\":\"counts\"},\"width\":{\"value\":0.9},\"x\":{\"field\":\"x\"}},\"id\":\"3653\",\"type\":\"VBar\"},{\"attributes\":{\"axis\":{\"id\":\"3643\"},\"grid_line_color\":null,\"ticker\":null},\"id\":\"3645\",\"type\":\"Grid\"},{\"attributes\":{},\"id\":\"3850\",\"type\":\"CategoricalTickFormatter\"},{\"attributes\":{},\"id\":\"3855\",\"type\":\"UnionRenderers\"},{\"attributes\":{},\"id\":\"3853\",\"type\":\"BasicTickFormatter\"},{\"attributes\":{},\"id\":\"3856\",\"type\":\"Selection\"},{\"attributes\":{},\"id\":\"3644\",\"type\":\"CategoricalTicker\"},{\"attributes\":{\"formatter\":{\"id\":\"3850\"},\"group_label_orientation\":1.5707963267948966,\"major_label_orientation\":0,\"major_label_policy\":{\"id\":\"3851\"},\"ticker\":{\"id\":\"3644\"}},\"id\":\"3643\",\"type\":\"CategoricalAxis\"},{\"attributes\":{},\"id\":\"3851\",\"type\":\"AllLabels\"},{\"attributes\":{\"factors\":[[\"40ies - war years (Mainstream, O+W)\",\"a\"],[\"40ies - war years (Mainstream, O+W)\",\"c\"],[\"40ies - reconstruction years (Avantgarde, O+W)\",\"a\"],[\"40ies - reconstruction years (Avantgarde, O+W)\",\"c\"],[\"50ies - economic miracle (Mainstream, O+W)\",\"a\"],[\"50ies - economic miracle (Mainstream, O+W)\",\"c\"],[\"50ies - milk bar / Individualisation (Avantgarde, O+W)\",\"a\"],[\"50ies - milk bar / Individualisation (Avantgarde, O+W)\",\"c\"],[\"60ies - economic miracle (Mainstream, O+W)\",\"a\"],[\"60ies - economic miracle (Mainstream, O+W)\",\"c\"],[\"60ies - generation 68 / student protestors (Avantgarde, W)\",\"a\"],[\"60ies - generation 68 / student protestors (Avantgarde, W)\",\"c\"],[\"60ies - opponents to the building of the Wall (Avantgarde, O)\",\"a\"],[\"60ies - opponents to the building of the Wall (Avantgarde, O)\",\"c\"],[\"70ies - family orientation (Mainstream, O+W)\",\"a\"],[\"70ies - family orientation (Mainstream, O+W)\",\"c\"],[\"70ies - peace movement (Avantgarde, O+W)\",\"a\"],[\"70ies - peace movement (Avantgarde, O+W)\",\"c\"],[\"80ies - Generation Golf (Mainstream, W)\",\"a\"],[\"80ies - Generation Golf (Mainstream, W)\",\"c\"],[\"80ies - ecological awareness (Avantgarde, W)\",\"a\"],[\"80ies - ecological awareness (Avantgarde, W)\",\"c\"],[\"80ies - FDJ / communist party youth organisation (Mainstream, O)\",\"a\"],[\"80ies - FDJ / communist party youth organisation (Mainstream, O)\",\"c\"],[\"80ies - Swords into ploughshares (Avantgarde, O)\",\"a\"],[\"80ies - Swords into ploughshares (Avantgarde, O)\",\"c\"],[\"90ies - digital media kids (Mainstream, O+W)\",\"a\"],[\"90ies - digital media kids (Mainstream, O+W)\",\"c\"],[\"90ies - ecological awareness (Avantgarde, O+W)\",\"a\"],[\"90ies - ecological awareness (Avantgarde, O+W)\",\"c\"]]},\"id\":\"3634\",\"type\":\"FactorRange\"},{\"attributes\":{\"text\":\"PRAEGENDE_JUGENDJAHRE [ks:0.4056 p:0.0000]\"},\"id\":\"3657\",\"type\":\"Title\"},{\"attributes\":{\"data\":{\"counts\":[0.027181499925283445,0.0726743779459278,0.009552224318259321,0.07901730142523462,0.07046856859682307,0.1422717037078479,0.026120141667699076,0.15515336307817112,0.11035571466705153,0.12404716281802033,0.03276161331563977,0.108004531658671,0.005119041993258906,0.006014238359651454,0.18640822827248937,0.10415122312824314,0.042875808311801766,0.07777948725121334,0.10958300498493535,0.035162314502706404,0.04566139478567843,0.04364518790998224,0.031214916745321276,0.004979229897757948,0.007361815880525034,0.004084087444228429,0.2409947391881312,0.02523182790886331,0.05434128734710247,0.017783962963480986],\"x\":[[\"40ies - war years (Mainstream, O+W)\",\"a\"],[\"40ies - war years (Mainstream, O+W)\",\"c\"],[\"40ies - reconstruction years (Avantgarde, O+W)\",\"a\"],[\"40ies - reconstruction years (Avantgarde, O+W)\",\"c\"],[\"50ies - economic miracle (Mainstream, O+W)\",\"a\"],[\"50ies - economic miracle (Mainstream, O+W)\",\"c\"],[\"50ies - milk bar / Individualisation (Avantgarde, O+W)\",\"a\"],[\"50ies - milk bar / Individualisation (Avantgarde, O+W)\",\"c\"],[\"60ies - economic miracle (Mainstream, O+W)\",\"a\"],[\"60ies - economic miracle (Mainstream, O+W)\",\"c\"],[\"60ies - generation 68 / student protestors (Avantgarde, W)\",\"a\"],[\"60ies - generation 68 / student protestors (Avantgarde, W)\",\"c\"],[\"60ies - opponents to the building of the Wall (Avantgarde, O)\",\"a\"],[\"60ies - opponents to the building of the Wall (Avantgarde, O)\",\"c\"],[\"70ies - family orientation (Mainstream, O+W)\",\"a\"],[\"70ies - family orientation (Mainstream, O+W)\",\"c\"],[\"70ies - peace movement (Avantgarde, O+W)\",\"a\"],[\"70ies - peace movement (Avantgarde, O+W)\",\"c\"],[\"80ies - Generation Golf (Mainstream, W)\",\"a\"],[\"80ies - Generation Golf (Mainstream, W)\",\"c\"],[\"80ies - ecological awareness (Avantgarde, W)\",\"a\"],[\"80ies - ecological awareness (Avantgarde, W)\",\"c\"],[\"80ies - FDJ / communist party youth organisation (Mainstream, O)\",\"a\"],[\"80ies - FDJ / communist party youth organisation (Mainstream, O)\",\"c\"],[\"80ies - Swords into ploughshares (Avantgarde, O)\",\"a\"],[\"80ies - Swords into ploughshares (Avantgarde, O)\",\"c\"],[\"90ies - digital media kids (Mainstream, O+W)\",\"a\"],[\"90ies - digital media kids (Mainstream, O+W)\",\"c\"],[\"90ies - ecological awareness (Avantgarde, O+W)\",\"a\"],[\"90ies - ecological awareness (Avantgarde, O+W)\",\"c\"]]},\"selected\":{\"id\":\"3856\"},\"selection_policy\":{\"id\":\"3855\"}},\"id\":\"3633\",\"type\":\"ColumnDataSource\"},{\"attributes\":{\"end\":2,\"factors\":[\"a\",\"c\"],\"palette\":[\"#1f77b4\",\"#ff7f0e\"],\"start\":1},\"id\":\"3651\",\"type\":\"CategoricalColorMapper\"},{\"attributes\":{\"formatter\":{\"id\":\"3853\"},\"major_label_policy\":{\"id\":\"3854\"},\"ticker\":{\"id\":\"3647\"}},\"id\":\"3646\",\"type\":\"LinearAxis\"},{\"attributes\":{\"data_source\":{\"id\":\"3633\"},\"glyph\":{\"id\":\"3653\"},\"hover_glyph\":null,\"muted_glyph\":null,\"nonselection_glyph\":{\"id\":\"3654\"},\"view\":{\"id\":\"3656\"}},\"id\":\"3655\",\"type\":\"GlyphRenderer\"},{\"attributes\":{\"fill_alpha\":{\"value\":0.1},\"fill_color\":{\"field\":\"x\",\"transform\":{\"id\":\"3651\"}},\"line_alpha\":{\"value\":0.1},\"line_color\":{\"value\":null},\"top\":{\"field\":\"counts\"},\"width\":{\"value\":0.9},\"x\":{\"field\":\"x\"}},\"id\":\"3654\",\"type\":\"VBar\"},{\"attributes\":{},\"id\":\"3641\",\"type\":\"LinearScale\"},{\"attributes\":{},\"id\":\"3639\",\"type\":\"CategoricalScale\"},{\"attributes\":{},\"id\":\"3854\",\"type\":\"AllLabels\"},{\"attributes\":{\"source\":{\"id\":\"3633\"}},\"id\":\"3656\",\"type\":\"CDSView\"},{\"attributes\":{\"active_multi\":null},\"id\":\"3650\",\"type\":\"Toolbar\"},{\"attributes\":{},\"id\":\"3647\",\"type\":\"BasicTicker\"}],\"root_ids\":[\"3635\"]},\"title\":\"Bokeh Application\",\"version\":\"2.3.1\"}};\n",
       "  var render_items = [{\"docid\":\"5e2c6769-6115-485d-a96a-0fee456aff99\",\"root_ids\":[\"3635\"],\"roots\":{\"3635\":\"83187e85-2014-4126-86d8-2e8fdabe5e9d\"}}];\n",
       "  root.Bokeh.embed.embed_items_notebook(docs_json, render_items);\n",
       "\n",
       "  }\n",
       "  if (root.Bokeh !== undefined) {\n",
       "    embed_document(root);\n",
       "  } else {\n",
       "    var attempts = 0;\n",
       "    var timer = setInterval(function(root) {\n",
       "      if (root.Bokeh !== undefined) {\n",
       "        clearInterval(timer);\n",
       "        embed_document(root);\n",
       "      } else {\n",
       "        attempts++;\n",
       "        if (attempts > 100) {\n",
       "          clearInterval(timer);\n",
       "          console.log(\"Bokeh: ERROR: Unable to run BokehJS code because BokehJS library is missing\");\n",
       "        }\n",
       "      }\n",
       "    }, 10, root)\n",
       "  }\n",
       "})(window);"
      ],
      "application/vnd.bokehjs_exec.v0+json": ""
     },
     "metadata": {
      "application/vnd.bokehjs_exec.v0+json": {
       "id": "3635"
      }
     },
     "output_type": "display_data"
    },
    {
     "name": "stdout",
     "output_type": "stream",
     "text": [
      "==========================================================================================================================================================================================================================================\n"
     ]
    },
    {
     "data": {
      "text/html": [
       "\n",
       "\n",
       "\n",
       "\n",
       "\n",
       "\n",
       "  <div class=\"bk-root\" id=\"9e1af761-68c8-4ab4-93b1-60c549d81e81\" data-root-id=\"3909\"></div>\n"
      ]
     },
     "metadata": {},
     "output_type": "display_data"
    },
    {
     "data": {
      "application/javascript": [
       "(function(root) {\n",
       "  function embed_document(root) {\n",
       "    \n",
       "  var docs_json = {\"0307cd58-f3c3-4315-8db9-58e9e386c398\":{\"defs\":[],\"roots\":{\"references\":[{\"attributes\":{\"below\":[{\"id\":\"3917\"}],\"center\":[{\"id\":\"3919\"},{\"id\":\"3923\"}],\"height\":500,\"left\":[{\"id\":\"3920\"}],\"renderers\":[{\"id\":\"3929\"}],\"title\":{\"id\":\"3931\"},\"toolbar\":{\"id\":\"3924\"},\"toolbar_location\":null,\"width\":950,\"x_range\":{\"id\":\"3908\"},\"x_scale\":{\"id\":\"3913\"},\"y_range\":{\"id\":\"3911\"},\"y_scale\":{\"id\":\"3915\"}},\"id\":\"3909\",\"subtype\":\"Figure\",\"type\":\"Plot\"},{\"attributes\":{},\"id\":\"3918\",\"type\":\"CategoricalTicker\"},{\"attributes\":{},\"id\":\"3915\",\"type\":\"LinearScale\"},{\"attributes\":{\"active_multi\":null},\"id\":\"3924\",\"type\":\"Toolbar\"},{\"attributes\":{\"fill_color\":{\"field\":\"x\",\"transform\":{\"id\":\"3925\"}},\"line_color\":{\"value\":null},\"top\":{\"field\":\"counts\"},\"width\":{\"value\":0.9},\"x\":{\"field\":\"x\"}},\"id\":\"3927\",\"type\":\"VBar\"},{\"attributes\":{},\"id\":\"4134\",\"type\":\"CategoricalTickFormatter\"},{\"attributes\":{\"formatter\":{\"id\":\"4137\"},\"major_label_policy\":{\"id\":\"4138\"},\"ticker\":{\"id\":\"3921\"}},\"id\":\"3920\",\"type\":\"LinearAxis\"},{\"attributes\":{},\"id\":\"3913\",\"type\":\"CategoricalScale\"},{\"attributes\":{\"axis\":{\"id\":\"3920\"},\"dimension\":1,\"ticker\":null},\"id\":\"3923\",\"type\":\"Grid\"},{\"attributes\":{\"start\":0},\"id\":\"3911\",\"type\":\"DataRange1d\"},{\"attributes\":{},\"id\":\"4139\",\"type\":\"UnionRenderers\"},{\"attributes\":{\"data\":{\"counts\":[0.12439714012573339,0.01790468583599574,0.13888365728235655,0.02218450479233227,0.2118478802457451,0.08728700745473908,0.23621617369039644,0.1792332268370607,0.2886551486557685,0.6933905750798722],\"x\":[[\"very high\",\"a\"],[\"very high\",\"c\"],[\"high\",\"a\"],[\"high\",\"c\"],[\"average\",\"a\"],[\"average\",\"c\"],[\"low\",\"a\"],[\"low\",\"c\"],[\"very low\",\"a\"],[\"very low\",\"c\"]]},\"selected\":{\"id\":\"4140\"},\"selection_policy\":{\"id\":\"4139\"}},\"id\":\"3907\",\"type\":\"ColumnDataSource\"},{\"attributes\":{\"text\":\"FINANZ_VORSORGER [ks:0.4047 p:0.0000]\"},\"id\":\"3931\",\"type\":\"Title\"},{\"attributes\":{\"factors\":[[\"very high\",\"a\"],[\"very high\",\"c\"],[\"high\",\"a\"],[\"high\",\"c\"],[\"average\",\"a\"],[\"average\",\"c\"],[\"low\",\"a\"],[\"low\",\"c\"],[\"very low\",\"a\"],[\"very low\",\"c\"]]},\"id\":\"3908\",\"type\":\"FactorRange\"},{\"attributes\":{\"end\":2,\"factors\":[\"a\",\"c\"],\"palette\":[\"#1f77b4\",\"#ff7f0e\"],\"start\":1},\"id\":\"3925\",\"type\":\"CategoricalColorMapper\"},{\"attributes\":{},\"id\":\"4137\",\"type\":\"BasicTickFormatter\"},{\"attributes\":{\"formatter\":{\"id\":\"4134\"},\"group_label_orientation\":1.5707963267948966,\"major_label_orientation\":0,\"major_label_policy\":{\"id\":\"4135\"},\"ticker\":{\"id\":\"3918\"}},\"id\":\"3917\",\"type\":\"CategoricalAxis\"},{\"attributes\":{\"fill_alpha\":{\"value\":0.1},\"fill_color\":{\"field\":\"x\",\"transform\":{\"id\":\"3925\"}},\"line_alpha\":{\"value\":0.1},\"line_color\":{\"value\":null},\"top\":{\"field\":\"counts\"},\"width\":{\"value\":0.9},\"x\":{\"field\":\"x\"}},\"id\":\"3928\",\"type\":\"VBar\"},{\"attributes\":{\"source\":{\"id\":\"3907\"}},\"id\":\"3930\",\"type\":\"CDSView\"},{\"attributes\":{},\"id\":\"4138\",\"type\":\"AllLabels\"},{\"attributes\":{\"axis\":{\"id\":\"3917\"},\"grid_line_color\":null,\"ticker\":null},\"id\":\"3919\",\"type\":\"Grid\"},{\"attributes\":{},\"id\":\"4135\",\"type\":\"AllLabels\"},{\"attributes\":{},\"id\":\"4140\",\"type\":\"Selection\"},{\"attributes\":{},\"id\":\"3921\",\"type\":\"BasicTicker\"},{\"attributes\":{\"data_source\":{\"id\":\"3907\"},\"glyph\":{\"id\":\"3927\"},\"hover_glyph\":null,\"muted_glyph\":null,\"nonselection_glyph\":{\"id\":\"3928\"},\"view\":{\"id\":\"3930\"}},\"id\":\"3929\",\"type\":\"GlyphRenderer\"}],\"root_ids\":[\"3909\"]},\"title\":\"Bokeh Application\",\"version\":\"2.3.1\"}};\n",
       "  var render_items = [{\"docid\":\"0307cd58-f3c3-4315-8db9-58e9e386c398\",\"root_ids\":[\"3909\"],\"roots\":{\"3909\":\"9e1af761-68c8-4ab4-93b1-60c549d81e81\"}}];\n",
       "  root.Bokeh.embed.embed_items_notebook(docs_json, render_items);\n",
       "\n",
       "  }\n",
       "  if (root.Bokeh !== undefined) {\n",
       "    embed_document(root);\n",
       "  } else {\n",
       "    var attempts = 0;\n",
       "    var timer = setInterval(function(root) {\n",
       "      if (root.Bokeh !== undefined) {\n",
       "        clearInterval(timer);\n",
       "        embed_document(root);\n",
       "      } else {\n",
       "        attempts++;\n",
       "        if (attempts > 100) {\n",
       "          clearInterval(timer);\n",
       "          console.log(\"Bokeh: ERROR: Unable to run BokehJS code because BokehJS library is missing\");\n",
       "        }\n",
       "      }\n",
       "    }, 10, root)\n",
       "  }\n",
       "})(window);"
      ],
      "application/vnd.bokehjs_exec.v0+json": ""
     },
     "metadata": {
      "application/vnd.bokehjs_exec.v0+json": {
       "id": "3909"
      }
     },
     "output_type": "display_data"
    },
    {
     "name": "stdout",
     "output_type": "stream",
     "text": [
      "==========================================================================================================================================================================================================================================\n"
     ]
    },
    {
     "data": {
      "text/html": [
       "\n",
       "\n",
       "\n",
       "\n",
       "\n",
       "\n",
       "  <div class=\"bk-root\" id=\"872d45f4-33af-426b-b76d-ffd8c1392fb3\" data-root-id=\"4193\"></div>\n"
      ]
     },
     "metadata": {},
     "output_type": "display_data"
    },
    {
     "data": {
      "application/javascript": [
       "(function(root) {\n",
       "  function embed_document(root) {\n",
       "    \n",
       "  var docs_json = {\"7dff267e-b540-402b-84a4-4a3095b27e3c\":{\"defs\":[],\"roots\":{\"references\":[{\"attributes\":{\"below\":[{\"id\":\"4201\"}],\"center\":[{\"id\":\"4203\"},{\"id\":\"4207\"}],\"height\":500,\"left\":[{\"id\":\"4204\"}],\"renderers\":[{\"id\":\"4213\"}],\"title\":{\"id\":\"4215\"},\"toolbar\":{\"id\":\"4208\"},\"toolbar_location\":null,\"width\":950,\"x_range\":{\"id\":\"4192\"},\"x_scale\":{\"id\":\"4197\"},\"y_range\":{\"id\":\"4195\"},\"y_scale\":{\"id\":\"4199\"}},\"id\":\"4193\",\"subtype\":\"Figure\",\"type\":\"Plot\"},{\"attributes\":{\"formatter\":{\"id\":\"4431\"},\"major_label_policy\":{\"id\":\"4432\"},\"ticker\":{\"id\":\"4205\"}},\"id\":\"4204\",\"type\":\"LinearAxis\"},{\"attributes\":{\"text\":\"FINANZ_SPARER [ks:0.4016 p:0.0000]\"},\"id\":\"4215\",\"type\":\"Title\"},{\"attributes\":{\"start\":0},\"id\":\"4195\",\"type\":\"DataRange1d\"},{\"attributes\":{\"data_source\":{\"id\":\"4191\"},\"glyph\":{\"id\":\"4211\"},\"hover_glyph\":null,\"muted_glyph\":null,\"nonselection_glyph\":{\"id\":\"4212\"},\"view\":{\"id\":\"4214\"}},\"id\":\"4213\",\"type\":\"GlyphRenderer\"},{\"attributes\":{},\"id\":\"4429\",\"type\":\"AllLabels\"},{\"attributes\":{},\"id\":\"4197\",\"type\":\"CategoricalScale\"},{\"attributes\":{\"fill_alpha\":{\"value\":0.1},\"fill_color\":{\"field\":\"x\",\"transform\":{\"id\":\"4209\"}},\"line_alpha\":{\"value\":0.1},\"line_color\":{\"value\":null},\"top\":{\"field\":\"counts\"},\"width\":{\"value\":0.9},\"x\":{\"field\":\"x\"}},\"id\":\"4212\",\"type\":\"VBar\"},{\"attributes\":{},\"id\":\"4432\",\"type\":\"AllLabels\"},{\"attributes\":{},\"id\":\"4431\",\"type\":\"BasicTickFormatter\"},{\"attributes\":{},\"id\":\"4434\",\"type\":\"Selection\"},{\"attributes\":{\"formatter\":{\"id\":\"4428\"},\"group_label_orientation\":1.5707963267948966,\"major_label_orientation\":0,\"major_label_policy\":{\"id\":\"4429\"},\"ticker\":{\"id\":\"4202\"}},\"id\":\"4201\",\"type\":\"CategoricalAxis\"},{\"attributes\":{\"factors\":[[\"very high\",\"a\"],[\"very high\",\"c\"],[\"high\",\"a\"],[\"high\",\"c\"],[\"average\",\"a\"],[\"average\",\"c\"],[\"low\",\"a\"],[\"low\",\"c\"],[\"very low\",\"a\"],[\"very low\",\"c\"]]},\"id\":\"4192\",\"type\":\"FactorRange\"},{\"attributes\":{\"source\":{\"id\":\"4191\"}},\"id\":\"4214\",\"type\":\"CDSView\"},{\"attributes\":{},\"id\":\"4202\",\"type\":\"CategoricalTicker\"},{\"attributes\":{},\"id\":\"4428\",\"type\":\"CategoricalTickFormatter\"},{\"attributes\":{},\"id\":\"4199\",\"type\":\"LinearScale\"},{\"attributes\":{\"active_multi\":null},\"id\":\"4208\",\"type\":\"Toolbar\"},{\"attributes\":{\"end\":2,\"factors\":[\"a\",\"c\"],\"palette\":[\"#1f77b4\",\"#ff7f0e\"],\"start\":1},\"id\":\"4209\",\"type\":\"CategoricalColorMapper\"},{\"attributes\":{},\"id\":\"4433\",\"type\":\"UnionRenderers\"},{\"attributes\":{\"axis\":{\"id\":\"4201\"},\"grid_line_color\":null,\"ticker\":null},\"id\":\"4203\",\"type\":\"Grid\"},{\"attributes\":{},\"id\":\"4205\",\"type\":\"BasicTicker\"},{\"attributes\":{\"fill_color\":{\"field\":\"x\",\"transform\":{\"id\":\"4209\"}},\"line_color\":{\"value\":null},\"top\":{\"field\":\"counts\"},\"width\":{\"value\":0.9},\"x\":{\"field\":\"x\"}},\"id\":\"4211\",\"type\":\"VBar\"},{\"attributes\":{\"data\":{\"counts\":[0.2981089927740256,0.699720447284345,0.18240519335620406,0.16456336528221513,0.16728452602042154,0.06020367412140575,0.17775992409270036,0.06281283280085197,0.17444136375664845,0.012699680511182108],\"x\":[[\"very high\",\"a\"],[\"very high\",\"c\"],[\"high\",\"a\"],[\"high\",\"c\"],[\"average\",\"a\"],[\"average\",\"c\"],[\"low\",\"a\"],[\"low\",\"c\"],[\"very low\",\"a\"],[\"very low\",\"c\"]]},\"selected\":{\"id\":\"4434\"},\"selection_policy\":{\"id\":\"4433\"}},\"id\":\"4191\",\"type\":\"ColumnDataSource\"},{\"attributes\":{\"axis\":{\"id\":\"4204\"},\"dimension\":1,\"ticker\":null},\"id\":\"4207\",\"type\":\"Grid\"}],\"root_ids\":[\"4193\"]},\"title\":\"Bokeh Application\",\"version\":\"2.3.1\"}};\n",
       "  var render_items = [{\"docid\":\"7dff267e-b540-402b-84a4-4a3095b27e3c\",\"root_ids\":[\"4193\"],\"roots\":{\"4193\":\"872d45f4-33af-426b-b76d-ffd8c1392fb3\"}}];\n",
       "  root.Bokeh.embed.embed_items_notebook(docs_json, render_items);\n",
       "\n",
       "  }\n",
       "  if (root.Bokeh !== undefined) {\n",
       "    embed_document(root);\n",
       "  } else {\n",
       "    var attempts = 0;\n",
       "    var timer = setInterval(function(root) {\n",
       "      if (root.Bokeh !== undefined) {\n",
       "        clearInterval(timer);\n",
       "        embed_document(root);\n",
       "      } else {\n",
       "        attempts++;\n",
       "        if (attempts > 100) {\n",
       "          clearInterval(timer);\n",
       "          console.log(\"Bokeh: ERROR: Unable to run BokehJS code because BokehJS library is missing\");\n",
       "        }\n",
       "      }\n",
       "    }, 10, root)\n",
       "  }\n",
       "})(window);"
      ],
      "application/vnd.bokehjs_exec.v0+json": ""
     },
     "metadata": {
      "application/vnd.bokehjs_exec.v0+json": {
       "id": "4193"
      }
     },
     "output_type": "display_data"
    },
    {
     "name": "stdout",
     "output_type": "stream",
     "text": [
      "==========================================================================================================================================================================================================================================\n"
     ]
    },
    {
     "data": {
      "text/html": [
       "\n",
       "\n",
       "\n",
       "\n",
       "\n",
       "\n",
       "  <div class=\"bk-root\" id=\"73d527a3-ebc7-4c96-bff1-a904267cb824\" data-root-id=\"4487\"></div>\n"
      ]
     },
     "metadata": {},
     "output_type": "display_data"
    },
    {
     "data": {
      "application/javascript": [
       "(function(root) {\n",
       "  function embed_document(root) {\n",
       "    \n",
       "  var docs_json = {\"9494ae06-fddd-4cfe-98fb-e06ea7f6ca14\":{\"defs\":[],\"roots\":{\"references\":[{\"attributes\":{\"below\":[{\"id\":\"4495\"}],\"center\":[{\"id\":\"4497\"},{\"id\":\"4501\"}],\"height\":500,\"left\":[{\"id\":\"4498\"}],\"renderers\":[{\"id\":\"4507\"}],\"title\":{\"id\":\"4509\"},\"toolbar\":{\"id\":\"4502\"},\"toolbar_location\":null,\"width\":950,\"x_range\":{\"id\":\"4486\"},\"x_scale\":{\"id\":\"4491\"},\"y_range\":{\"id\":\"4489\"},\"y_scale\":{\"id\":\"4493\"}},\"id\":\"4487\",\"subtype\":\"Figure\",\"type\":\"Plot\"},{\"attributes\":{\"formatter\":{\"id\":\"4735\"},\"major_label_policy\":{\"id\":\"4736\"},\"ticker\":{\"id\":\"4499\"}},\"id\":\"4498\",\"type\":\"LinearAxis\"},{\"attributes\":{},\"id\":\"4493\",\"type\":\"LinearScale\"},{\"attributes\":{\"axis\":{\"id\":\"4495\"},\"grid_line_color\":null,\"ticker\":null},\"id\":\"4497\",\"type\":\"Grid\"},{\"attributes\":{},\"id\":\"4738\",\"type\":\"Selection\"},{\"attributes\":{},\"id\":\"4733\",\"type\":\"AllLabels\"},{\"attributes\":{},\"id\":\"4735\",\"type\":\"BasicTickFormatter\"},{\"attributes\":{},\"id\":\"4499\",\"type\":\"BasicTicker\"},{\"attributes\":{\"factors\":[[\"very high\",\"a\"],[\"very high\",\"c\"],[\"high\",\"a\"],[\"high\",\"c\"],[\"average\",\"a\"],[\"average\",\"c\"],[\"low\",\"a\"],[\"low\",\"c\"],[\"very low\",\"a\"],[\"very low\",\"c\"]]},\"id\":\"4486\",\"type\":\"FactorRange\"},{\"attributes\":{},\"id\":\"4737\",\"type\":\"UnionRenderers\"},{\"attributes\":{},\"id\":\"4496\",\"type\":\"CategoricalTicker\"},{\"attributes\":{\"active_multi\":null},\"id\":\"4502\",\"type\":\"Toolbar\"},{\"attributes\":{\"fill_alpha\":{\"value\":0.1},\"fill_color\":{\"field\":\"x\",\"transform\":{\"id\":\"4503\"}},\"line_alpha\":{\"value\":0.1},\"line_color\":{\"value\":null},\"top\":{\"field\":\"counts\"},\"width\":{\"value\":0.9},\"x\":{\"field\":\"x\"}},\"id\":\"4506\",\"type\":\"VBar\"},{\"attributes\":{},\"id\":\"4736\",\"type\":\"AllLabels\"},{\"attributes\":{\"text\":\"FINANZ_ANLEGER [ks:0.3767 p:0.0000]\"},\"id\":\"4509\",\"type\":\"Title\"},{\"attributes\":{\"end\":2,\"factors\":[\"a\",\"c\"],\"palette\":[\"#1f77b4\",\"#ff7f0e\"],\"start\":1},\"id\":\"4503\",\"type\":\"CategoricalColorMapper\"},{\"attributes\":{\"start\":0},\"id\":\"4489\",\"type\":\"DataRange1d\"},{\"attributes\":{\"data_source\":{\"id\":\"4485\"},\"glyph\":{\"id\":\"4505\"},\"hover_glyph\":null,\"muted_glyph\":null,\"nonselection_glyph\":{\"id\":\"4506\"},\"view\":{\"id\":\"4508\"}},\"id\":\"4507\",\"type\":\"GlyphRenderer\"},{\"attributes\":{\"source\":{\"id\":\"4485\"}},\"id\":\"4508\",\"type\":\"CDSView\"},{\"attributes\":{},\"id\":\"4732\",\"type\":\"CategoricalTickFormatter\"},{\"attributes\":{\"formatter\":{\"id\":\"4732\"},\"group_label_orientation\":1.5707963267948966,\"major_label_orientation\":0,\"major_label_policy\":{\"id\":\"4733\"},\"ticker\":{\"id\":\"4496\"}},\"id\":\"4495\",\"type\":\"CategoricalAxis\"},{\"attributes\":{\"data\":{\"counts\":[0.2511699594000844,0.6278487752928648,0.1922106809008747,0.1760649627263046,0.16806290960499118,0.08605564430244941,0.171139491583206,0.05033280085197018,0.21741695851084372,0.05969781682641107],\"x\":[[\"very high\",\"a\"],[\"very high\",\"c\"],[\"high\",\"a\"],[\"high\",\"c\"],[\"average\",\"a\"],[\"average\",\"c\"],[\"low\",\"a\"],[\"low\",\"c\"],[\"very low\",\"a\"],[\"very low\",\"c\"]]},\"selected\":{\"id\":\"4738\"},\"selection_policy\":{\"id\":\"4737\"}},\"id\":\"4485\",\"type\":\"ColumnDataSource\"},{\"attributes\":{\"fill_color\":{\"field\":\"x\",\"transform\":{\"id\":\"4503\"}},\"line_color\":{\"value\":null},\"top\":{\"field\":\"counts\"},\"width\":{\"value\":0.9},\"x\":{\"field\":\"x\"}},\"id\":\"4505\",\"type\":\"VBar\"},{\"attributes\":{},\"id\":\"4491\",\"type\":\"CategoricalScale\"},{\"attributes\":{\"axis\":{\"id\":\"4498\"},\"dimension\":1,\"ticker\":null},\"id\":\"4501\",\"type\":\"Grid\"}],\"root_ids\":[\"4487\"]},\"title\":\"Bokeh Application\",\"version\":\"2.3.1\"}};\n",
       "  var render_items = [{\"docid\":\"9494ae06-fddd-4cfe-98fb-e06ea7f6ca14\",\"root_ids\":[\"4487\"],\"roots\":{\"4487\":\"73d527a3-ebc7-4c96-bff1-a904267cb824\"}}];\n",
       "  root.Bokeh.embed.embed_items_notebook(docs_json, render_items);\n",
       "\n",
       "  }\n",
       "  if (root.Bokeh !== undefined) {\n",
       "    embed_document(root);\n",
       "  } else {\n",
       "    var attempts = 0;\n",
       "    var timer = setInterval(function(root) {\n",
       "      if (root.Bokeh !== undefined) {\n",
       "        clearInterval(timer);\n",
       "        embed_document(root);\n",
       "      } else {\n",
       "        attempts++;\n",
       "        if (attempts > 100) {\n",
       "          clearInterval(timer);\n",
       "          console.log(\"Bokeh: ERROR: Unable to run BokehJS code because BokehJS library is missing\");\n",
       "        }\n",
       "      }\n",
       "    }, 10, root)\n",
       "  }\n",
       "})(window);"
      ],
      "application/vnd.bokehjs_exec.v0+json": ""
     },
     "metadata": {
      "application/vnd.bokehjs_exec.v0+json": {
       "id": "4487"
      }
     },
     "output_type": "display_data"
    },
    {
     "name": "stdout",
     "output_type": "stream",
     "text": [
      "==========================================================================================================================================================================================================================================\n"
     ]
    },
    {
     "data": {
      "text/html": [
       "\n",
       "\n",
       "\n",
       "\n",
       "\n",
       "\n",
       "  <div class=\"bk-root\" id=\"a2d4374f-1f6d-4dba-beec-2338df00cc89\" data-root-id=\"4791\"></div>\n"
      ]
     },
     "metadata": {},
     "output_type": "display_data"
    },
    {
     "data": {
      "application/javascript": [
       "(function(root) {\n",
       "  function embed_document(root) {\n",
       "    \n",
       "  var docs_json = {\"0ce19e92-a46d-436c-8581-d01d313f21d9\":{\"defs\":[],\"roots\":{\"references\":[{\"attributes\":{\"below\":[{\"id\":\"4799\"}],\"center\":[{\"id\":\"4801\"},{\"id\":\"4805\"}],\"height\":500,\"left\":[{\"id\":\"4802\"}],\"renderers\":[{\"id\":\"4811\"}],\"title\":{\"id\":\"4813\"},\"toolbar\":{\"id\":\"4806\"},\"toolbar_location\":null,\"width\":950,\"x_range\":{\"id\":\"4790\"},\"x_scale\":{\"id\":\"4795\"},\"y_range\":{\"id\":\"4793\"},\"y_scale\":{\"id\":\"4797\"}},\"id\":\"4791\",\"subtype\":\"Figure\",\"type\":\"Plot\"},{\"attributes\":{},\"id\":\"5049\",\"type\":\"BasicTickFormatter\"},{\"attributes\":{\"formatter\":{\"id\":\"5049\"},\"major_label_policy\":{\"id\":\"5050\"},\"ticker\":{\"id\":\"4803\"}},\"id\":\"4802\",\"type\":\"LinearAxis\"},{\"attributes\":{\"active_multi\":null},\"id\":\"4806\",\"type\":\"Toolbar\"},{\"attributes\":{},\"id\":\"5047\",\"type\":\"AllLabels\"},{\"attributes\":{\"data_source\":{\"id\":\"4789\"},\"glyph\":{\"id\":\"4809\"},\"hover_glyph\":null,\"muted_glyph\":null,\"nonselection_glyph\":{\"id\":\"4810\"},\"view\":{\"id\":\"4812\"}},\"id\":\"4811\",\"type\":\"GlyphRenderer\"},{\"attributes\":{},\"id\":\"4803\",\"type\":\"BasicTicker\"},{\"attributes\":{\"axis\":{\"id\":\"4799\"},\"grid_line_color\":null,\"ticker\":null},\"id\":\"4801\",\"type\":\"Grid\"},{\"attributes\":{\"start\":0},\"id\":\"4793\",\"type\":\"DataRange1d\"},{\"attributes\":{\"factors\":[[\"very high\",\"a\"],[\"very high\",\"c\"],[\"high\",\"a\"],[\"high\",\"c\"],[\"average\",\"a\"],[\"average\",\"c\"],[\"low\",\"a\"],[\"low\",\"c\"],[\"very low\",\"a\"],[\"very low\",\"c\"]]},\"id\":\"4790\",\"type\":\"FactorRange\"},{\"attributes\":{\"formatter\":{\"id\":\"5046\"},\"group_label_orientation\":1.5707963267948966,\"major_label_orientation\":0,\"major_label_policy\":{\"id\":\"5047\"},\"ticker\":{\"id\":\"4800\"}},\"id\":\"4799\",\"type\":\"CategoricalAxis\"},{\"attributes\":{},\"id\":\"5052\",\"type\":\"Selection\"},{\"attributes\":{},\"id\":\"4800\",\"type\":\"CategoricalTicker\"},{\"attributes\":{},\"id\":\"5051\",\"type\":\"UnionRenderers\"},{\"attributes\":{\"fill_alpha\":{\"value\":0.1},\"fill_color\":{\"field\":\"x\",\"transform\":{\"id\":\"4807\"}},\"line_alpha\":{\"value\":0.1},\"line_color\":{\"value\":null},\"top\":{\"field\":\"counts\"},\"width\":{\"value\":0.9},\"x\":{\"field\":\"x\"}},\"id\":\"4810\",\"type\":\"VBar\"},{\"attributes\":{\"axis\":{\"id\":\"4802\"},\"dimension\":1,\"ticker\":null},\"id\":\"4805\",\"type\":\"Grid\"},{\"attributes\":{\"data\":{\"counts\":[0.16636071701882663,0.011614749733759318,0.18981592956641768,0.06546858359957401,0.2433062587761855,0.16754526091586794,0.19925308552206533,0.19386980830670927,0.20126400911650483,0.5615015974440895],\"x\":[[\"very high\",\"a\"],[\"very high\",\"c\"],[\"high\",\"a\"],[\"high\",\"c\"],[\"average\",\"a\"],[\"average\",\"c\"],[\"low\",\"a\"],[\"low\",\"c\"],[\"very low\",\"a\"],[\"very low\",\"c\"]]},\"selected\":{\"id\":\"5052\"},\"selection_policy\":{\"id\":\"5051\"}},\"id\":\"4789\",\"type\":\"ColumnDataSource\"},{\"attributes\":{\"end\":2,\"factors\":[\"a\",\"c\"],\"palette\":[\"#1f77b4\",\"#ff7f0e\"],\"start\":1},\"id\":\"4807\",\"type\":\"CategoricalColorMapper\"},{\"attributes\":{},\"id\":\"4797\",\"type\":\"LinearScale\"},{\"attributes\":{},\"id\":\"5050\",\"type\":\"AllLabels\"},{\"attributes\":{\"text\":\"FINANZ_MINIMALIST [ks:0.3602 p:0.0000]\"},\"id\":\"4813\",\"type\":\"Title\"},{\"attributes\":{},\"id\":\"5046\",\"type\":\"CategoricalTickFormatter\"},{\"attributes\":{\"fill_color\":{\"field\":\"x\",\"transform\":{\"id\":\"4807\"}},\"line_color\":{\"value\":null},\"top\":{\"field\":\"counts\"},\"width\":{\"value\":0.9},\"x\":{\"field\":\"x\"}},\"id\":\"4809\",\"type\":\"VBar\"},{\"attributes\":{},\"id\":\"4795\",\"type\":\"CategoricalScale\"},{\"attributes\":{\"source\":{\"id\":\"4789\"}},\"id\":\"4812\",\"type\":\"CDSView\"}],\"root_ids\":[\"4791\"]},\"title\":\"Bokeh Application\",\"version\":\"2.3.1\"}};\n",
       "  var render_items = [{\"docid\":\"0ce19e92-a46d-436c-8581-d01d313f21d9\",\"root_ids\":[\"4791\"],\"roots\":{\"4791\":\"a2d4374f-1f6d-4dba-beec-2338df00cc89\"}}];\n",
       "  root.Bokeh.embed.embed_items_notebook(docs_json, render_items);\n",
       "\n",
       "  }\n",
       "  if (root.Bokeh !== undefined) {\n",
       "    embed_document(root);\n",
       "  } else {\n",
       "    var attempts = 0;\n",
       "    var timer = setInterval(function(root) {\n",
       "      if (root.Bokeh !== undefined) {\n",
       "        clearInterval(timer);\n",
       "        embed_document(root);\n",
       "      } else {\n",
       "        attempts++;\n",
       "        if (attempts > 100) {\n",
       "          clearInterval(timer);\n",
       "          console.log(\"Bokeh: ERROR: Unable to run BokehJS code because BokehJS library is missing\");\n",
       "        }\n",
       "      }\n",
       "    }, 10, root)\n",
       "  }\n",
       "})(window);"
      ],
      "application/vnd.bokehjs_exec.v0+json": ""
     },
     "metadata": {
      "application/vnd.bokehjs_exec.v0+json": {
       "id": "4791"
      }
     },
     "output_type": "display_data"
    },
    {
     "name": "stdout",
     "output_type": "stream",
     "text": [
      "==========================================================================================================================================================================================================================================\n"
     ]
    },
    {
     "data": {
      "text/html": [
       "\n",
       "\n",
       "\n",
       "\n",
       "\n",
       "\n",
       "  <div class=\"bk-root\" id=\"8ff1a9c5-4082-49cb-b06a-f0c7f274bae5\" data-root-id=\"5105\"></div>\n"
      ]
     },
     "metadata": {},
     "output_type": "display_data"
    },
    {
     "data": {
      "application/javascript": [
       "(function(root) {\n",
       "  function embed_document(root) {\n",
       "    \n",
       "  var docs_json = {\"c3615d8b-bab7-41c3-9bdc-4022f2b41924\":{\"defs\":[],\"roots\":{\"references\":[{\"attributes\":{\"below\":[{\"id\":\"5113\"}],\"center\":[{\"id\":\"5115\"},{\"id\":\"5119\"}],\"height\":500,\"left\":[{\"id\":\"5116\"}],\"renderers\":[{\"id\":\"5125\"}],\"title\":{\"id\":\"5127\"},\"toolbar\":{\"id\":\"5120\"},\"toolbar_location\":null,\"width\":950,\"x_range\":{\"id\":\"5104\"},\"x_scale\":{\"id\":\"5109\"},\"y_range\":{\"id\":\"5107\"},\"y_scale\":{\"id\":\"5111\"}},\"id\":\"5105\",\"subtype\":\"Figure\",\"type\":\"Plot\"},{\"attributes\":{\"data\":{\"counts\":[0.2599344894396593,0.13064947254585893,0.13998925741909493,0.009522060573908194,0.08823063937539566,0.10416454120671713,0.09331058527882752,0.03398015330517524,0.034560897005505575,0.006849082141375393,0.03695879452895701,0.0441619566474185,0.01201706343877688,0.07166030729049766,0.023556945270386924,0.005692831928829399,0.17084660169962976,0.2234623572541098,0.14059472654376642,0.36985723710610974],\"x\":[[\"typical low-income earners\",\"a\"],[\"typical low-income earners\",\"c\"],[\"orientationseeking low-income earners\",\"a\"],[\"orientationseeking low-income earners\",\"c\"],[\"aspiring low-income earners \",\"a\"],[\"aspiring low-income earners \",\"c\"],[\"villagers\",\"a\"],[\"villagers\",\"c\"],[\"minimalistic high-income earners\",\"a\"],[\"minimalistic high-income earners\",\"c\"],[\"independant workers\",\"a\"],[\"independant workers\",\"c\"],[\"title holder-households\",\"a\"],[\"title holder-households\",\"c\"],[\"new houseowners\",\"a\"],[\"new houseowners\",\"c\"],[\"houseowners\",\"a\"],[\"houseowners\",\"c\"],[\"top earners \",\"a\"],[\"top earners \",\"c\"]]},\"selected\":{\"id\":\"5376\"},\"selection_policy\":{\"id\":\"5375\"}},\"id\":\"5103\",\"type\":\"ColumnDataSource\"},{\"attributes\":{},\"id\":\"5371\",\"type\":\"AllLabels\"},{\"attributes\":{\"data_source\":{\"id\":\"5103\"},\"glyph\":{\"id\":\"5123\"},\"hover_glyph\":null,\"muted_glyph\":null,\"nonselection_glyph\":{\"id\":\"5124\"},\"view\":{\"id\":\"5126\"}},\"id\":\"5125\",\"type\":\"GlyphRenderer\"},{\"attributes\":{\"text\":\"LP_STATUS_FEIN [ks:0.3309 p:0.0000]\"},\"id\":\"5127\",\"type\":\"Title\"},{\"attributes\":{},\"id\":\"5376\",\"type\":\"Selection\"},{\"attributes\":{\"factors\":[[\"typical low-income earners\",\"a\"],[\"typical low-income earners\",\"c\"],[\"orientationseeking low-income earners\",\"a\"],[\"orientationseeking low-income earners\",\"c\"],[\"aspiring low-income earners \",\"a\"],[\"aspiring low-income earners \",\"c\"],[\"villagers\",\"a\"],[\"villagers\",\"c\"],[\"minimalistic high-income earners\",\"a\"],[\"minimalistic high-income earners\",\"c\"],[\"independant workers\",\"a\"],[\"independant workers\",\"c\"],[\"title holder-households\",\"a\"],[\"title holder-households\",\"c\"],[\"new houseowners\",\"a\"],[\"new houseowners\",\"c\"],[\"houseowners\",\"a\"],[\"houseowners\",\"c\"],[\"top earners \",\"a\"],[\"top earners \",\"c\"]]},\"id\":\"5104\",\"type\":\"FactorRange\"},{\"attributes\":{\"formatter\":{\"id\":\"5373\"},\"major_label_policy\":{\"id\":\"5374\"},\"ticker\":{\"id\":\"5117\"}},\"id\":\"5116\",\"type\":\"LinearAxis\"},{\"attributes\":{},\"id\":\"5373\",\"type\":\"BasicTickFormatter\"},{\"attributes\":{\"axis\":{\"id\":\"5116\"},\"dimension\":1,\"ticker\":null},\"id\":\"5119\",\"type\":\"Grid\"},{\"attributes\":{\"formatter\":{\"id\":\"5370\"},\"group_label_orientation\":1.5707963267948966,\"major_label_orientation\":0,\"major_label_policy\":{\"id\":\"5371\"},\"ticker\":{\"id\":\"5114\"}},\"id\":\"5113\",\"type\":\"CategoricalAxis\"},{\"attributes\":{\"axis\":{\"id\":\"5113\"},\"grid_line_color\":null,\"ticker\":null},\"id\":\"5115\",\"type\":\"Grid\"},{\"attributes\":{},\"id\":\"5375\",\"type\":\"UnionRenderers\"},{\"attributes\":{},\"id\":\"5370\",\"type\":\"CategoricalTickFormatter\"},{\"attributes\":{},\"id\":\"5109\",\"type\":\"CategoricalScale\"},{\"attributes\":{\"active_multi\":null},\"id\":\"5120\",\"type\":\"Toolbar\"},{\"attributes\":{\"source\":{\"id\":\"5103\"}},\"id\":\"5126\",\"type\":\"CDSView\"},{\"attributes\":{\"start\":0},\"id\":\"5107\",\"type\":\"DataRange1d\"},{\"attributes\":{\"fill_color\":{\"field\":\"x\",\"transform\":{\"id\":\"5121\"}},\"line_color\":{\"value\":null},\"top\":{\"field\":\"counts\"},\"width\":{\"value\":0.9},\"x\":{\"field\":\"x\"}},\"id\":\"5123\",\"type\":\"VBar\"},{\"attributes\":{\"end\":2,\"factors\":[\"a\",\"c\"],\"palette\":[\"#1f77b4\",\"#ff7f0e\"],\"start\":1},\"id\":\"5121\",\"type\":\"CategoricalColorMapper\"},{\"attributes\":{},\"id\":\"5111\",\"type\":\"LinearScale\"},{\"attributes\":{\"fill_alpha\":{\"value\":0.1},\"fill_color\":{\"field\":\"x\",\"transform\":{\"id\":\"5121\"}},\"line_alpha\":{\"value\":0.1},\"line_color\":{\"value\":null},\"top\":{\"field\":\"counts\"},\"width\":{\"value\":0.9},\"x\":{\"field\":\"x\"}},\"id\":\"5124\",\"type\":\"VBar\"},{\"attributes\":{},\"id\":\"5374\",\"type\":\"AllLabels\"},{\"attributes\":{},\"id\":\"5114\",\"type\":\"CategoricalTicker\"},{\"attributes\":{},\"id\":\"5117\",\"type\":\"BasicTicker\"}],\"root_ids\":[\"5105\"]},\"title\":\"Bokeh Application\",\"version\":\"2.3.1\"}};\n",
       "  var render_items = [{\"docid\":\"c3615d8b-bab7-41c3-9bdc-4022f2b41924\",\"root_ids\":[\"5105\"],\"roots\":{\"5105\":\"8ff1a9c5-4082-49cb-b06a-f0c7f274bae5\"}}];\n",
       "  root.Bokeh.embed.embed_items_notebook(docs_json, render_items);\n",
       "\n",
       "  }\n",
       "  if (root.Bokeh !== undefined) {\n",
       "    embed_document(root);\n",
       "  } else {\n",
       "    var attempts = 0;\n",
       "    var timer = setInterval(function(root) {\n",
       "      if (root.Bokeh !== undefined) {\n",
       "        clearInterval(timer);\n",
       "        embed_document(root);\n",
       "      } else {\n",
       "        attempts++;\n",
       "        if (attempts > 100) {\n",
       "          clearInterval(timer);\n",
       "          console.log(\"Bokeh: ERROR: Unable to run BokehJS code because BokehJS library is missing\");\n",
       "        }\n",
       "      }\n",
       "    }, 10, root)\n",
       "  }\n",
       "})(window);"
      ],
      "application/vnd.bokehjs_exec.v0+json": ""
     },
     "metadata": {
      "application/vnd.bokehjs_exec.v0+json": {
       "id": "5105"
      }
     },
     "output_type": "display_data"
    },
    {
     "name": "stdout",
     "output_type": "stream",
     "text": [
      "==========================================================================================================================================================================================================================================\n"
     ]
    },
    {
     "data": {
      "text/html": [
       "\n",
       "\n",
       "\n",
       "\n",
       "\n",
       "\n",
       "  <div class=\"bk-root\" id=\"48bca195-3afb-4d72-a3c3-d475939c098e\" data-root-id=\"5429\"></div>\n"
      ]
     },
     "metadata": {},
     "output_type": "display_data"
    },
    {
     "data": {
      "application/javascript": [
       "(function(root) {\n",
       "  function embed_document(root) {\n",
       "    \n",
       "  var docs_json = {\"b60f958c-8463-4098-8459-133b660392db\":{\"defs\":[],\"roots\":{\"references\":[{\"attributes\":{\"below\":[{\"id\":\"5437\"}],\"center\":[{\"id\":\"5439\"},{\"id\":\"5443\"}],\"height\":500,\"left\":[{\"id\":\"5440\"}],\"renderers\":[{\"id\":\"5449\"}],\"title\":{\"id\":\"5451\"},\"toolbar\":{\"id\":\"5444\"},\"toolbar_location\":null,\"width\":950,\"x_range\":{\"id\":\"5428\"},\"x_scale\":{\"id\":\"5433\"},\"y_range\":{\"id\":\"5431\"},\"y_scale\":{\"id\":\"5435\"}},\"id\":\"5429\",\"subtype\":\"Figure\",\"type\":\"Plot\"},{\"attributes\":{\"axis\":{\"id\":\"5440\"},\"dimension\":1,\"ticker\":null},\"id\":\"5443\",\"type\":\"Grid\"},{\"attributes\":{\"formatter\":{\"id\":\"5707\"},\"major_label_policy\":{\"id\":\"5708\"},\"ticker\":{\"id\":\"5441\"}},\"id\":\"5440\",\"type\":\"LinearAxis\"},{\"attributes\":{\"axis\":{\"id\":\"5437\"},\"grid_line_color\":null,\"ticker\":null},\"id\":\"5439\",\"type\":\"Grid\"},{\"attributes\":{\"fill_alpha\":{\"value\":0.1},\"fill_color\":{\"field\":\"x\",\"transform\":{\"id\":\"5445\"}},\"line_alpha\":{\"value\":0.1},\"line_color\":{\"value\":null},\"top\":{\"field\":\"counts\"},\"width\":{\"value\":0.9},\"x\":{\"field\":\"x\"}},\"id\":\"5448\",\"type\":\"VBar\"},{\"attributes\":{},\"id\":\"5710\",\"type\":\"Selection\"},{\"attributes\":{},\"id\":\"5433\",\"type\":\"CategoricalScale\"},{\"attributes\":{},\"id\":\"5708\",\"type\":\"AllLabels\"},{\"attributes\":{},\"id\":\"5709\",\"type\":\"UnionRenderers\"},{\"attributes\":{\"text\":\"SEMIO_RAT [ks:0.3023 p:0.0000]\"},\"id\":\"5451\",\"type\":\"Title\"},{\"attributes\":{\"fill_color\":{\"field\":\"x\",\"transform\":{\"id\":\"5445\"}},\"line_color\":{\"value\":null},\"top\":{\"field\":\"counts\"},\"width\":{\"value\":0.9},\"x\":{\"field\":\"x\"}},\"id\":\"5447\",\"type\":\"VBar\"},{\"attributes\":{\"data_source\":{\"id\":\"5427\"},\"glyph\":{\"id\":\"5447\"},\"hover_glyph\":null,\"muted_glyph\":null,\"nonselection_glyph\":{\"id\":\"5448\"},\"view\":{\"id\":\"5450\"}},\"id\":\"5449\",\"type\":\"GlyphRenderer\"},{\"attributes\":{\"factors\":[[\"highest affinity\",\"a\"],[\"highest affinity\",\"c\"],[\"very high affinity\",\"a\"],[\"very high affinity\",\"c\"],[\"high affinity\",\"a\"],[\"high affinity\",\"c\"],[\"average affinity\",\"a\"],[\"average affinity\",\"c\"],[\"low affinity\",\"a\"],[\"low affinity\",\"c\"],[\"very low affinity\",\"a\"],[\"very low affinity\",\"c\"],[\"lowest affinity\",\"a\"],[\"lowest affinity\",\"c\"]]},\"id\":\"5428\",\"type\":\"FactorRange\"},{\"attributes\":{},\"id\":\"5704\",\"type\":\"CategoricalTickFormatter\"},{\"attributes\":{},\"id\":\"5438\",\"type\":\"CategoricalTicker\"},{\"attributes\":{\"start\":0},\"id\":\"5431\",\"type\":\"DataRange1d\"},{\"attributes\":{},\"id\":\"5435\",\"type\":\"LinearScale\"},{\"attributes\":{\"source\":{\"id\":\"5427\"}},\"id\":\"5450\",\"type\":\"CDSView\"},{\"attributes\":{\"end\":2,\"factors\":[\"a\",\"c\"],\"palette\":[\"#1f77b4\",\"#ff7f0e\"],\"start\":1},\"id\":\"5445\",\"type\":\"CategoricalColorMapper\"},{\"attributes\":{},\"id\":\"5441\",\"type\":\"BasicTicker\"},{\"attributes\":{\"active_multi\":null},\"id\":\"5444\",\"type\":\"Toolbar\"},{\"attributes\":{\"formatter\":{\"id\":\"5704\"},\"group_label_orientation\":1.5707963267948966,\"major_label_orientation\":0,\"major_label_policy\":{\"id\":\"5705\"},\"ticker\":{\"id\":\"5438\"}},\"id\":\"5437\",\"type\":\"CategoricalAxis\"},{\"attributes\":{},\"id\":\"5707\",\"type\":\"BasicTickFormatter\"},{\"attributes\":{\"data\":{\"counts\":[0.05572892702266491,0.18724707135250265,0.16735843074054912,0.1983426517571885,0.1572430201759886,0.2970181043663472,0.3365263351126093,0.17229100106496273,0.106140290230988,0.11248668796592119,0.0732729539716635,0.01757188498402556,0.10373004274553652,0.015042598509052183],\"x\":[[\"highest affinity\",\"a\"],[\"highest affinity\",\"c\"],[\"very high affinity\",\"a\"],[\"very high affinity\",\"c\"],[\"high affinity\",\"a\"],[\"high affinity\",\"c\"],[\"average affinity\",\"a\"],[\"average affinity\",\"c\"],[\"low affinity\",\"a\"],[\"low affinity\",\"c\"],[\"very low affinity\",\"a\"],[\"very low affinity\",\"c\"],[\"lowest affinity\",\"a\"],[\"lowest affinity\",\"c\"]]},\"selected\":{\"id\":\"5710\"},\"selection_policy\":{\"id\":\"5709\"}},\"id\":\"5427\",\"type\":\"ColumnDataSource\"},{\"attributes\":{},\"id\":\"5705\",\"type\":\"AllLabels\"}],\"root_ids\":[\"5429\"]},\"title\":\"Bokeh Application\",\"version\":\"2.3.1\"}};\n",
       "  var render_items = [{\"docid\":\"b60f958c-8463-4098-8459-133b660392db\",\"root_ids\":[\"5429\"],\"roots\":{\"5429\":\"48bca195-3afb-4d72-a3c3-d475939c098e\"}}];\n",
       "  root.Bokeh.embed.embed_items_notebook(docs_json, render_items);\n",
       "\n",
       "  }\n",
       "  if (root.Bokeh !== undefined) {\n",
       "    embed_document(root);\n",
       "  } else {\n",
       "    var attempts = 0;\n",
       "    var timer = setInterval(function(root) {\n",
       "      if (root.Bokeh !== undefined) {\n",
       "        clearInterval(timer);\n",
       "        embed_document(root);\n",
       "      } else {\n",
       "        attempts++;\n",
       "        if (attempts > 100) {\n",
       "          clearInterval(timer);\n",
       "          console.log(\"Bokeh: ERROR: Unable to run BokehJS code because BokehJS library is missing\");\n",
       "        }\n",
       "      }\n",
       "    }, 10, root)\n",
       "  }\n",
       "})(window);"
      ],
      "application/vnd.bokehjs_exec.v0+json": ""
     },
     "metadata": {
      "application/vnd.bokehjs_exec.v0+json": {
       "id": "5429"
      }
     },
     "output_type": "display_data"
    },
    {
     "name": "stdout",
     "output_type": "stream",
     "text": [
      "==========================================================================================================================================================================================================================================\n"
     ]
    },
    {
     "data": {
      "text/html": [
       "\n",
       "\n",
       "\n",
       "\n",
       "\n",
       "\n",
       "  <div class=\"bk-root\" id=\"c902e285-fbce-45af-8eca-64fbfa2de99a\" data-root-id=\"5763\"></div>\n"
      ]
     },
     "metadata": {},
     "output_type": "display_data"
    },
    {
     "data": {
      "application/javascript": [
       "(function(root) {\n",
       "  function embed_document(root) {\n",
       "    \n",
       "  var docs_json = {\"4d16d1bd-41c0-4d41-a2c9-f482c0ac86a1\":{\"defs\":[],\"roots\":{\"references\":[{\"attributes\":{\"below\":[{\"id\":\"5771\"}],\"center\":[{\"id\":\"5773\"},{\"id\":\"5777\"}],\"height\":500,\"left\":[{\"id\":\"5774\"}],\"renderers\":[{\"id\":\"5783\"}],\"title\":{\"id\":\"5785\"},\"toolbar\":{\"id\":\"5778\"},\"toolbar_location\":null,\"width\":950,\"x_range\":{\"id\":\"5762\"},\"x_scale\":{\"id\":\"5767\"},\"y_range\":{\"id\":\"5765\"},\"y_scale\":{\"id\":\"5769\"}},\"id\":\"5763\",\"subtype\":\"Figure\",\"type\":\"Plot\"},{\"attributes\":{\"start\":0},\"id\":\"5765\",\"type\":\"DataRange1d\"},{\"attributes\":{\"data_source\":{\"id\":\"5761\"},\"glyph\":{\"id\":\"5781\"},\"hover_glyph\":null,\"muted_glyph\":null,\"nonselection_glyph\":{\"id\":\"5782\"},\"view\":{\"id\":\"5784\"}},\"id\":\"5783\",\"type\":\"GlyphRenderer\"},{\"attributes\":{\"axis\":{\"id\":\"5774\"},\"dimension\":1,\"ticker\":null},\"id\":\"5777\",\"type\":\"Grid\"},{\"attributes\":{\"source\":{\"id\":\"5761\"}},\"id\":\"5784\",\"type\":\"CDSView\"},{\"attributes\":{},\"id\":\"5775\",\"type\":\"BasicTicker\"},{\"attributes\":{\"formatter\":{\"id\":\"6051\"},\"major_label_policy\":{\"id\":\"6052\"},\"ticker\":{\"id\":\"5775\"}},\"id\":\"5774\",\"type\":\"LinearAxis\"},{\"attributes\":{},\"id\":\"5767\",\"type\":\"CategoricalScale\"},{\"attributes\":{},\"id\":\"6052\",\"type\":\"AllLabels\"},{\"attributes\":{},\"id\":\"5769\",\"type\":\"LinearScale\"},{\"attributes\":{},\"id\":\"6048\",\"type\":\"CategoricalTickFormatter\"},{\"attributes\":{\"factors\":[[\"< 30 years\",\"a\"],[\"< 30 years\",\"c\"],[\"30 - 45 years\",\"a\"],[\"30 - 45 years\",\"c\"],[\"46 - 60 years\",\"a\"],[\"46 - 60 years\",\"c\"],[\"> 60 years\",\"a\"],[\"> 60 years\",\"c\"],[\"uniformly distributed\",\"a\"],[\"uniformly distributed\",\"c\"]]},\"id\":\"5762\",\"type\":\"FactorRange\"},{\"attributes\":{},\"id\":\"5772\",\"type\":\"CategoricalTicker\"},{\"attributes\":{\"fill_alpha\":{\"value\":0.1},\"fill_color\":{\"field\":\"x\",\"transform\":{\"id\":\"5779\"}},\"line_alpha\":{\"value\":0.1},\"line_color\":{\"value\":null},\"top\":{\"field\":\"counts\"},\"width\":{\"value\":0.9},\"x\":{\"field\":\"x\"}},\"id\":\"5782\",\"type\":\"VBar\"},{\"attributes\":{\"axis\":{\"id\":\"5771\"},\"grid_line_color\":null,\"ticker\":null},\"id\":\"5773\",\"type\":\"Grid\"},{\"attributes\":{},\"id\":\"6054\",\"type\":\"Selection\"},{\"attributes\":{\"data\":{\"counts\":[0.15916931094576586,0.0580870607028754,0.17551894225657336,0.04340388711395101,0.38964594871012426,0.3262113951011715,0.2722316126248334,0.5707002129925453,0.0034341854627031486,0.001597444089456869],\"x\":[[\"< 30 years\",\"a\"],[\"< 30 years\",\"c\"],[\"30 - 45 years\",\"a\"],[\"30 - 45 years\",\"c\"],[\"46 - 60 years\",\"a\"],[\"46 - 60 years\",\"c\"],[\"> 60 years\",\"a\"],[\"> 60 years\",\"c\"],[\"uniformly distributed\",\"a\"],[\"uniformly distributed\",\"c\"]]},\"selected\":{\"id\":\"6054\"},\"selection_policy\":{\"id\":\"6053\"}},\"id\":\"5761\",\"type\":\"ColumnDataSource\"},{\"attributes\":{},\"id\":\"6049\",\"type\":\"AllLabels\"},{\"attributes\":{\"text\":\"ALTERSKATEGORIE_GROB [ks:0.2966 p:0.0000]\"},\"id\":\"5785\",\"type\":\"Title\"},{\"attributes\":{\"end\":2,\"factors\":[\"a\",\"c\"],\"palette\":[\"#1f77b4\",\"#ff7f0e\"],\"start\":1},\"id\":\"5779\",\"type\":\"CategoricalColorMapper\"},{\"attributes\":{\"active_multi\":null},\"id\":\"5778\",\"type\":\"Toolbar\"},{\"attributes\":{\"formatter\":{\"id\":\"6048\"},\"group_label_orientation\":1.5707963267948966,\"major_label_orientation\":0,\"major_label_policy\":{\"id\":\"6049\"},\"ticker\":{\"id\":\"5772\"}},\"id\":\"5771\",\"type\":\"CategoricalAxis\"},{\"attributes\":{},\"id\":\"6051\",\"type\":\"BasicTickFormatter\"},{\"attributes\":{},\"id\":\"6053\",\"type\":\"UnionRenderers\"},{\"attributes\":{\"fill_color\":{\"field\":\"x\",\"transform\":{\"id\":\"5779\"}},\"line_color\":{\"value\":null},\"top\":{\"field\":\"counts\"},\"width\":{\"value\":0.9},\"x\":{\"field\":\"x\"}},\"id\":\"5781\",\"type\":\"VBar\"}],\"root_ids\":[\"5763\"]},\"title\":\"Bokeh Application\",\"version\":\"2.3.1\"}};\n",
       "  var render_items = [{\"docid\":\"4d16d1bd-41c0-4d41-a2c9-f482c0ac86a1\",\"root_ids\":[\"5763\"],\"roots\":{\"5763\":\"c902e285-fbce-45af-8eca-64fbfa2de99a\"}}];\n",
       "  root.Bokeh.embed.embed_items_notebook(docs_json, render_items);\n",
       "\n",
       "  }\n",
       "  if (root.Bokeh !== undefined) {\n",
       "    embed_document(root);\n",
       "  } else {\n",
       "    var attempts = 0;\n",
       "    var timer = setInterval(function(root) {\n",
       "      if (root.Bokeh !== undefined) {\n",
       "        clearInterval(timer);\n",
       "        embed_document(root);\n",
       "      } else {\n",
       "        attempts++;\n",
       "        if (attempts > 100) {\n",
       "          clearInterval(timer);\n",
       "          console.log(\"Bokeh: ERROR: Unable to run BokehJS code because BokehJS library is missing\");\n",
       "        }\n",
       "      }\n",
       "    }, 10, root)\n",
       "  }\n",
       "})(window);"
      ],
      "application/vnd.bokehjs_exec.v0+json": ""
     },
     "metadata": {
      "application/vnd.bokehjs_exec.v0+json": {
       "id": "5763"
      }
     },
     "output_type": "display_data"
    },
    {
     "name": "stdout",
     "output_type": "stream",
     "text": [
      "==========================================================================================================================================================================================================================================\n"
     ]
    },
    {
     "data": {
      "text/html": [
       "\n",
       "\n",
       "\n",
       "\n",
       "\n",
       "\n",
       "  <div class=\"bk-root\" id=\"ec3bc838-2ab1-4a00-ad45-ca83aef1f80d\" data-root-id=\"6107\"></div>\n"
      ]
     },
     "metadata": {},
     "output_type": "display_data"
    },
    {
     "data": {
      "application/javascript": [
       "(function(root) {\n",
       "  function embed_document(root) {\n",
       "    \n",
       "  var docs_json = {\"8d612158-9639-46ff-94c9-d561ebccb249\":{\"defs\":[],\"roots\":{\"references\":[{\"attributes\":{\"below\":[{\"id\":\"6115\"}],\"center\":[{\"id\":\"6117\"},{\"id\":\"6121\"}],\"height\":500,\"left\":[{\"id\":\"6118\"}],\"renderers\":[{\"id\":\"6127\"}],\"title\":{\"id\":\"6129\"},\"toolbar\":{\"id\":\"6122\"},\"toolbar_location\":null,\"width\":950,\"x_range\":{\"id\":\"6106\"},\"x_scale\":{\"id\":\"6111\"},\"y_range\":{\"id\":\"6109\"},\"y_scale\":{\"id\":\"6113\"}},\"id\":\"6107\",\"subtype\":\"Figure\",\"type\":\"Plot\"},{\"attributes\":{\"fill_color\":{\"field\":\"x\",\"transform\":{\"id\":\"6123\"}},\"line_color\":{\"value\":null},\"top\":{\"field\":\"counts\"},\"width\":{\"value\":0.9},\"x\":{\"field\":\"x\"}},\"id\":\"6125\",\"type\":\"VBar\"},{\"attributes\":{},\"id\":\"6406\",\"type\":\"AllLabels\"},{\"attributes\":{},\"id\":\"6408\",\"type\":\"Selection\"},{\"attributes\":{},\"id\":\"6111\",\"type\":\"CategoricalScale\"},{\"attributes\":{\"formatter\":{\"id\":\"6405\"},\"major_label_policy\":{\"id\":\"6406\"},\"ticker\":{\"id\":\"6119\"}},\"id\":\"6118\",\"type\":\"LinearAxis\"},{\"attributes\":{\"data\":{\"counts\":[0.08835666894738223,0.14887513312034079,0.10989035877165587,0.22101304579339723,0.1597116762305732,0.2108759318423855,0.19312733783277986,0.2665468583599574,0.1808567702683695,0.10622337593184239,0.13044302303681646,0.021239350372736953,0.1376141649124229,0.025226304579339724],\"x\":[[\"highest affinity\",\"a\"],[\"highest affinity\",\"c\"],[\"very high affinity\",\"a\"],[\"very high affinity\",\"c\"],[\"high affinity\",\"a\"],[\"high affinity\",\"c\"],[\"average affinity\",\"a\"],[\"average affinity\",\"c\"],[\"low affinity\",\"a\"],[\"low affinity\",\"c\"],[\"very low affinity\",\"a\"],[\"very low affinity\",\"c\"],[\"lowest affinity\",\"a\"],[\"lowest affinity\",\"c\"]]},\"selected\":{\"id\":\"6408\"},\"selection_policy\":{\"id\":\"6407\"}},\"id\":\"6105\",\"type\":\"ColumnDataSource\"},{\"attributes\":{\"axis\":{\"id\":\"6118\"},\"dimension\":1,\"ticker\":null},\"id\":\"6121\",\"type\":\"Grid\"},{\"attributes\":{},\"id\":\"6116\",\"type\":\"CategoricalTicker\"},{\"attributes\":{\"text\":\"SEMIO_PFLICHT [ks:0.2962 p:0.0000]\"},\"id\":\"6129\",\"type\":\"Title\"},{\"attributes\":{\"factors\":[[\"highest affinity\",\"a\"],[\"highest affinity\",\"c\"],[\"very high affinity\",\"a\"],[\"very high affinity\",\"c\"],[\"high affinity\",\"a\"],[\"high affinity\",\"c\"],[\"average affinity\",\"a\"],[\"average affinity\",\"c\"],[\"low affinity\",\"a\"],[\"low affinity\",\"c\"],[\"very low affinity\",\"a\"],[\"very low affinity\",\"c\"],[\"lowest affinity\",\"a\"],[\"lowest affinity\",\"c\"]]},\"id\":\"6106\",\"type\":\"FactorRange\"},{\"attributes\":{},\"id\":\"6119\",\"type\":\"BasicTicker\"},{\"attributes\":{\"fill_alpha\":{\"value\":0.1},\"fill_color\":{\"field\":\"x\",\"transform\":{\"id\":\"6123\"}},\"line_alpha\":{\"value\":0.1},\"line_color\":{\"value\":null},\"top\":{\"field\":\"counts\"},\"width\":{\"value\":0.9},\"x\":{\"field\":\"x\"}},\"id\":\"6126\",\"type\":\"VBar\"},{\"attributes\":{\"axis\":{\"id\":\"6115\"},\"grid_line_color\":null,\"ticker\":null},\"id\":\"6117\",\"type\":\"Grid\"},{\"attributes\":{},\"id\":\"6407\",\"type\":\"UnionRenderers\"},{\"attributes\":{\"data_source\":{\"id\":\"6105\"},\"glyph\":{\"id\":\"6125\"},\"hover_glyph\":null,\"muted_glyph\":null,\"nonselection_glyph\":{\"id\":\"6126\"},\"view\":{\"id\":\"6128\"}},\"id\":\"6127\",\"type\":\"GlyphRenderer\"},{\"attributes\":{},\"id\":\"6403\",\"type\":\"AllLabels\"},{\"attributes\":{},\"id\":\"6113\",\"type\":\"LinearScale\"},{\"attributes\":{},\"id\":\"6405\",\"type\":\"BasicTickFormatter\"},{\"attributes\":{\"start\":0},\"id\":\"6109\",\"type\":\"DataRange1d\"},{\"attributes\":{\"end\":2,\"factors\":[\"a\",\"c\"],\"palette\":[\"#1f77b4\",\"#ff7f0e\"],\"start\":1},\"id\":\"6123\",\"type\":\"CategoricalColorMapper\"},{\"attributes\":{\"formatter\":{\"id\":\"6402\"},\"group_label_orientation\":1.5707963267948966,\"major_label_orientation\":0,\"major_label_policy\":{\"id\":\"6403\"},\"ticker\":{\"id\":\"6116\"}},\"id\":\"6115\",\"type\":\"CategoricalAxis\"},{\"attributes\":{},\"id\":\"6402\",\"type\":\"CategoricalTickFormatter\"},{\"attributes\":{\"source\":{\"id\":\"6105\"}},\"id\":\"6128\",\"type\":\"CDSView\"},{\"attributes\":{\"active_multi\":null},\"id\":\"6122\",\"type\":\"Toolbar\"}],\"root_ids\":[\"6107\"]},\"title\":\"Bokeh Application\",\"version\":\"2.3.1\"}};\n",
       "  var render_items = [{\"docid\":\"8d612158-9639-46ff-94c9-d561ebccb249\",\"root_ids\":[\"6107\"],\"roots\":{\"6107\":\"ec3bc838-2ab1-4a00-ad45-ca83aef1f80d\"}}];\n",
       "  root.Bokeh.embed.embed_items_notebook(docs_json, render_items);\n",
       "\n",
       "  }\n",
       "  if (root.Bokeh !== undefined) {\n",
       "    embed_document(root);\n",
       "  } else {\n",
       "    var attempts = 0;\n",
       "    var timer = setInterval(function(root) {\n",
       "      if (root.Bokeh !== undefined) {\n",
       "        clearInterval(timer);\n",
       "        embed_document(root);\n",
       "      } else {\n",
       "        attempts++;\n",
       "        if (attempts > 100) {\n",
       "          clearInterval(timer);\n",
       "          console.log(\"Bokeh: ERROR: Unable to run BokehJS code because BokehJS library is missing\");\n",
       "        }\n",
       "      }\n",
       "    }, 10, root)\n",
       "  }\n",
       "})(window);"
      ],
      "application/vnd.bokehjs_exec.v0+json": ""
     },
     "metadata": {
      "application/vnd.bokehjs_exec.v0+json": {
       "id": "6107"
      }
     },
     "output_type": "display_data"
    },
    {
     "name": "stdout",
     "output_type": "stream",
     "text": [
      "==========================================================================================================================================================================================================================================\n"
     ]
    },
    {
     "data": {
      "text/html": [
       "\n",
       "\n",
       "\n",
       "\n",
       "\n",
       "\n",
       "  <div class=\"bk-root\" id=\"a8d5effa-c5db-4dcb-9abf-f49a4e799a5e\" data-root-id=\"6461\"></div>\n"
      ]
     },
     "metadata": {},
     "output_type": "display_data"
    },
    {
     "data": {
      "application/javascript": [
       "(function(root) {\n",
       "  function embed_document(root) {\n",
       "    \n",
       "  var docs_json = {\"c4e25e84-a2cd-4e86-8708-b07a330186f0\":{\"defs\":[],\"roots\":{\"references\":[{\"attributes\":{\"below\":[{\"id\":\"6469\"}],\"center\":[{\"id\":\"6471\"},{\"id\":\"6475\"}],\"height\":500,\"left\":[{\"id\":\"6472\"}],\"renderers\":[{\"id\":\"6481\"}],\"title\":{\"id\":\"6483\"},\"toolbar\":{\"id\":\"6476\"},\"toolbar_location\":null,\"width\":950,\"x_range\":{\"id\":\"6460\"},\"x_scale\":{\"id\":\"6465\"},\"y_range\":{\"id\":\"6463\"},\"y_scale\":{\"id\":\"6467\"}},\"id\":\"6461\",\"subtype\":\"Figure\",\"type\":\"Plot\"},{\"attributes\":{\"end\":2,\"factors\":[\"a\",\"c\"],\"palette\":[\"#1f77b4\",\"#ff7f0e\"],\"start\":1},\"id\":\"6477\",\"type\":\"CategoricalColorMapper\"},{\"attributes\":{},\"id\":\"6465\",\"type\":\"CategoricalScale\"},{\"attributes\":{},\"id\":\"6770\",\"type\":\"AllLabels\"},{\"attributes\":{},\"id\":\"6771\",\"type\":\"UnionRenderers\"},{\"attributes\":{},\"id\":\"6767\",\"type\":\"AllLabels\"},{\"attributes\":{\"text\":\"ZABEOTYP [ks:0.2961 p:0.0000]\"},\"id\":\"6483\",\"type\":\"Title\"},{\"attributes\":{\"data_source\":{\"id\":\"6459\"},\"glyph\":{\"id\":\"6479\"},\"hover_glyph\":null,\"muted_glyph\":null,\"nonselection_glyph\":{\"id\":\"6480\"},\"view\":{\"id\":\"6482\"}},\"id\":\"6481\",\"type\":\"GlyphRenderer\"},{\"attributes\":{},\"id\":\"6470\",\"type\":\"CategoricalTicker\"},{\"attributes\":{\"start\":0},\"id\":\"6463\",\"type\":\"DataRange1d\"},{\"attributes\":{\"fill_alpha\":{\"value\":0.1},\"fill_color\":{\"field\":\"x\",\"transform\":{\"id\":\"6477\"}},\"line_alpha\":{\"value\":0.1},\"line_color\":{\"value\":null},\"top\":{\"field\":\"counts\"},\"width\":{\"value\":0.9},\"x\":{\"field\":\"x\"}},\"id\":\"6480\",\"type\":\"VBar\"},{\"attributes\":{\"data\":{\"counts\":[0.1473564758415006,0.361328541001065,0.039539025268262216,0.04586661341853035,0.3726776633711519,0.44846911608093715,0.25038561575743995,0.09842252396166135,0.10126853876064168,0.007055378061767838,0.08877268100100368,0.03885782747603834],\"x\":[[\"green\",\"a\"],[\"green\",\"c\"],[\"smart\",\"a\"],[\"smart\",\"c\"],[\"fair supplied\",\"a\"],[\"fair supplied\",\"c\"],[\"price driven\",\"a\"],[\"price driven\",\"c\"],[\"seeking orientation\",\"a\"],[\"seeking orientation\",\"c\"],[\"indifferent\",\"a\"],[\"indifferent\",\"c\"]]},\"selected\":{\"id\":\"6772\"},\"selection_policy\":{\"id\":\"6771\"}},\"id\":\"6459\",\"type\":\"ColumnDataSource\"},{\"attributes\":{\"active_multi\":null},\"id\":\"6476\",\"type\":\"Toolbar\"},{\"attributes\":{\"fill_color\":{\"field\":\"x\",\"transform\":{\"id\":\"6477\"}},\"line_color\":{\"value\":null},\"top\":{\"field\":\"counts\"},\"width\":{\"value\":0.9},\"x\":{\"field\":\"x\"}},\"id\":\"6479\",\"type\":\"VBar\"},{\"attributes\":{\"axis\":{\"id\":\"6469\"},\"grid_line_color\":null,\"ticker\":null},\"id\":\"6471\",\"type\":\"Grid\"},{\"attributes\":{},\"id\":\"6769\",\"type\":\"BasicTickFormatter\"},{\"attributes\":{\"formatter\":{\"id\":\"6769\"},\"major_label_policy\":{\"id\":\"6770\"},\"ticker\":{\"id\":\"6473\"}},\"id\":\"6472\",\"type\":\"LinearAxis\"},{\"attributes\":{\"source\":{\"id\":\"6459\"}},\"id\":\"6482\",\"type\":\"CDSView\"},{\"attributes\":{\"axis\":{\"id\":\"6472\"},\"dimension\":1,\"ticker\":null},\"id\":\"6475\",\"type\":\"Grid\"},{\"attributes\":{\"factors\":[[\"green\",\"a\"],[\"green\",\"c\"],[\"smart\",\"a\"],[\"smart\",\"c\"],[\"fair supplied\",\"a\"],[\"fair supplied\",\"c\"],[\"price driven\",\"a\"],[\"price driven\",\"c\"],[\"seeking orientation\",\"a\"],[\"seeking orientation\",\"c\"],[\"indifferent\",\"a\"],[\"indifferent\",\"c\"]]},\"id\":\"6460\",\"type\":\"FactorRange\"},{\"attributes\":{},\"id\":\"6766\",\"type\":\"CategoricalTickFormatter\"},{\"attributes\":{\"formatter\":{\"id\":\"6766\"},\"group_label_orientation\":1.5707963267948966,\"major_label_orientation\":0,\"major_label_policy\":{\"id\":\"6767\"},\"ticker\":{\"id\":\"6470\"}},\"id\":\"6469\",\"type\":\"CategoricalAxis\"},{\"attributes\":{},\"id\":\"6473\",\"type\":\"BasicTicker\"},{\"attributes\":{},\"id\":\"6467\",\"type\":\"LinearScale\"},{\"attributes\":{},\"id\":\"6772\",\"type\":\"Selection\"}],\"root_ids\":[\"6461\"]},\"title\":\"Bokeh Application\",\"version\":\"2.3.1\"}};\n",
       "  var render_items = [{\"docid\":\"c4e25e84-a2cd-4e86-8708-b07a330186f0\",\"root_ids\":[\"6461\"],\"roots\":{\"6461\":\"a8d5effa-c5db-4dcb-9abf-f49a4e799a5e\"}}];\n",
       "  root.Bokeh.embed.embed_items_notebook(docs_json, render_items);\n",
       "\n",
       "  }\n",
       "  if (root.Bokeh !== undefined) {\n",
       "    embed_document(root);\n",
       "  } else {\n",
       "    var attempts = 0;\n",
       "    var timer = setInterval(function(root) {\n",
       "      if (root.Bokeh !== undefined) {\n",
       "        clearInterval(timer);\n",
       "        embed_document(root);\n",
       "      } else {\n",
       "        attempts++;\n",
       "        if (attempts > 100) {\n",
       "          clearInterval(timer);\n",
       "          console.log(\"Bokeh: ERROR: Unable to run BokehJS code because BokehJS library is missing\");\n",
       "        }\n",
       "      }\n",
       "    }, 10, root)\n",
       "  }\n",
       "})(window);"
      ],
      "application/vnd.bokehjs_exec.v0+json": ""
     },
     "metadata": {
      "application/vnd.bokehjs_exec.v0+json": {
       "id": "6461"
      }
     },
     "output_type": "display_data"
    },
    {
     "name": "stdout",
     "output_type": "stream",
     "text": [
      "==========================================================================================================================================================================================================================================\n"
     ]
    },
    {
     "data": {
      "text/html": [
       "\n",
       "\n",
       "\n",
       "\n",
       "\n",
       "\n",
       "  <div class=\"bk-root\" id=\"c2564ee2-b1f1-40d6-a9b2-f6a8ef750aec\" data-root-id=\"6825\"></div>\n"
      ]
     },
     "metadata": {},
     "output_type": "display_data"
    },
    {
     "data": {
      "application/javascript": [
       "(function(root) {\n",
       "  function embed_document(root) {\n",
       "    \n",
       "  var docs_json = {\"e0bbe02d-df0d-4cb4-966f-776898c0d31c\":{\"defs\":[],\"roots\":{\"references\":[{\"attributes\":{\"below\":[{\"id\":\"6833\"}],\"center\":[{\"id\":\"6835\"},{\"id\":\"6839\"}],\"height\":500,\"left\":[{\"id\":\"6836\"}],\"renderers\":[{\"id\":\"6845\"}],\"title\":{\"id\":\"6847\"},\"toolbar\":{\"id\":\"6840\"},\"toolbar_location\":null,\"width\":950,\"x_range\":{\"id\":\"6824\"},\"x_scale\":{\"id\":\"6829\"},\"y_range\":{\"id\":\"6827\"},\"y_scale\":{\"id\":\"6831\"}},\"id\":\"6825\",\"subtype\":\"Figure\",\"type\":\"Plot\"},{\"attributes\":{},\"id\":\"6834\",\"type\":\"CategoricalTicker\"},{\"attributes\":{},\"id\":\"7141\",\"type\":\"AllLabels\"},{\"attributes\":{},\"id\":\"7146\",\"type\":\"Selection\"},{\"attributes\":{},\"id\":\"7145\",\"type\":\"UnionRenderers\"},{\"attributes\":{\"factors\":[[\"highest income\",\"a\"],[\"highest income\",\"c\"],[\"very high income\",\"a\"],[\"very high income\",\"c\"],[\"high income\",\"a\"],[\"high income\",\"c\"],[\"average income\",\"a\"],[\"average income\",\"c\"],[\"lower income\",\"a\"],[\"lower income\",\"c\"],[\"very low income\",\"a\"],[\"very low income\",\"c\"]]},\"id\":\"6824\",\"type\":\"FactorRange\"},{\"attributes\":{\"axis\":{\"id\":\"6833\"},\"grid_line_color\":null,\"ticker\":null},\"id\":\"6835\",\"type\":\"Grid\"},{\"attributes\":{\"source\":{\"id\":\"6823\"}},\"id\":\"6846\",\"type\":\"CDSView\"},{\"attributes\":{\"end\":2,\"factors\":[\"a\",\"c\"],\"palette\":[\"#1f77b4\",\"#ff7f0e\"],\"start\":1},\"id\":\"6841\",\"type\":\"CategoricalColorMapper\"},{\"attributes\":{},\"id\":\"6831\",\"type\":\"LinearScale\"},{\"attributes\":{\"start\":0},\"id\":\"6827\",\"type\":\"DataRange1d\"},{\"attributes\":{\"formatter\":{\"id\":\"7140\"},\"group_label_orientation\":1.5707963267948966,\"major_label_orientation\":0,\"major_label_policy\":{\"id\":\"7141\"},\"ticker\":{\"id\":\"6834\"}},\"id\":\"6833\",\"type\":\"CategoricalAxis\"},{\"attributes\":{\"active_multi\":null},\"id\":\"6840\",\"type\":\"Toolbar\"},{\"attributes\":{\"text\":\"HH_EINKOMMEN_SCORE [ks:0.2924 p:0.0000]\"},\"id\":\"6847\",\"type\":\"Title\"},{\"attributes\":{},\"id\":\"6829\",\"type\":\"CategoricalScale\"},{\"attributes\":{\"axis\":{\"id\":\"6836\"},\"dimension\":1,\"ticker\":null},\"id\":\"6839\",\"type\":\"Grid\"},{\"attributes\":{\"fill_alpha\":{\"value\":0.1},\"fill_color\":{\"field\":\"x\",\"transform\":{\"id\":\"6841\"}},\"line_alpha\":{\"value\":0.1},\"line_color\":{\"value\":null},\"top\":{\"field\":\"counts\"},\"width\":{\"value\":0.9},\"x\":{\"field\":\"x\"}},\"id\":\"6844\",\"type\":\"VBar\"},{\"attributes\":{\"fill_color\":{\"field\":\"x\",\"transform\":{\"id\":\"6841\"}},\"line_color\":{\"value\":null},\"top\":{\"field\":\"counts\"},\"width\":{\"value\":0.9},\"x\":{\"field\":\"x\"}},\"id\":\"6843\",\"type\":\"VBar\"},{\"attributes\":{},\"id\":\"6837\",\"type\":\"BasicTicker\"},{\"attributes\":{\"data\":{\"counts\":[0.0648673151935893,0.20305688716270354,0.10813290780608534,0.19613781115471843,0.10334024266751479,0.15222646224044978,0.17030716681959815,0.18765023018319596,0.24547389868015876,0.16223501772206908,0.30787846883305364,0.09869359153686326],\"x\":[[\"highest income\",\"a\"],[\"highest income\",\"c\"],[\"very high income\",\"a\"],[\"very high income\",\"c\"],[\"high income\",\"a\"],[\"high income\",\"c\"],[\"average income\",\"a\"],[\"average income\",\"c\"],[\"lower income\",\"a\"],[\"lower income\",\"c\"],[\"very low income\",\"a\"],[\"very low income\",\"c\"]]},\"selected\":{\"id\":\"7146\"},\"selection_policy\":{\"id\":\"7145\"}},\"id\":\"6823\",\"type\":\"ColumnDataSource\"},{\"attributes\":{},\"id\":\"7144\",\"type\":\"AllLabels\"},{\"attributes\":{},\"id\":\"7143\",\"type\":\"BasicTickFormatter\"},{\"attributes\":{\"data_source\":{\"id\":\"6823\"},\"glyph\":{\"id\":\"6843\"},\"hover_glyph\":null,\"muted_glyph\":null,\"nonselection_glyph\":{\"id\":\"6844\"},\"view\":{\"id\":\"6846\"}},\"id\":\"6845\",\"type\":\"GlyphRenderer\"},{\"attributes\":{},\"id\":\"7140\",\"type\":\"CategoricalTickFormatter\"},{\"attributes\":{\"formatter\":{\"id\":\"7143\"},\"major_label_policy\":{\"id\":\"7144\"},\"ticker\":{\"id\":\"6837\"}},\"id\":\"6836\",\"type\":\"LinearAxis\"}],\"root_ids\":[\"6825\"]},\"title\":\"Bokeh Application\",\"version\":\"2.3.1\"}};\n",
       "  var render_items = [{\"docid\":\"e0bbe02d-df0d-4cb4-966f-776898c0d31c\",\"root_ids\":[\"6825\"],\"roots\":{\"6825\":\"c2564ee2-b1f1-40d6-a9b2-f6a8ef750aec\"}}];\n",
       "  root.Bokeh.embed.embed_items_notebook(docs_json, render_items);\n",
       "\n",
       "  }\n",
       "  if (root.Bokeh !== undefined) {\n",
       "    embed_document(root);\n",
       "  } else {\n",
       "    var attempts = 0;\n",
       "    var timer = setInterval(function(root) {\n",
       "      if (root.Bokeh !== undefined) {\n",
       "        clearInterval(timer);\n",
       "        embed_document(root);\n",
       "      } else {\n",
       "        attempts++;\n",
       "        if (attempts > 100) {\n",
       "          clearInterval(timer);\n",
       "          console.log(\"Bokeh: ERROR: Unable to run BokehJS code because BokehJS library is missing\");\n",
       "        }\n",
       "      }\n",
       "    }, 10, root)\n",
       "  }\n",
       "})(window);"
      ],
      "application/vnd.bokehjs_exec.v0+json": ""
     },
     "metadata": {
      "application/vnd.bokehjs_exec.v0+json": {
       "id": "6825"
      }
     },
     "output_type": "display_data"
    },
    {
     "name": "stdout",
     "output_type": "stream",
     "text": [
      "==========================================================================================================================================================================================================================================\n"
     ]
    },
    {
     "data": {
      "text/html": [
       "\n",
       "\n",
       "\n",
       "\n",
       "\n",
       "\n",
       "  <div class=\"bk-root\" id=\"5489f286-6404-472f-9a39-6420da1493b6\" data-root-id=\"7199\"></div>\n"
      ]
     },
     "metadata": {},
     "output_type": "display_data"
    },
    {
     "data": {
      "application/javascript": [
       "(function(root) {\n",
       "  function embed_document(root) {\n",
       "    \n",
       "  var docs_json = {\"7a88fff8-4602-449a-9af8-0e19475cd2d2\":{\"defs\":[],\"roots\":{\"references\":[{\"attributes\":{\"below\":[{\"id\":\"7207\"}],\"center\":[{\"id\":\"7209\"},{\"id\":\"7213\"}],\"height\":500,\"left\":[{\"id\":\"7210\"}],\"renderers\":[{\"id\":\"7219\"}],\"title\":{\"id\":\"7221\"},\"toolbar\":{\"id\":\"7214\"},\"toolbar_location\":null,\"width\":950,\"x_range\":{\"id\":\"7198\"},\"x_scale\":{\"id\":\"7203\"},\"y_range\":{\"id\":\"7201\"},\"y_scale\":{\"id\":\"7205\"}},\"id\":\"7199\",\"subtype\":\"Figure\",\"type\":\"Plot\"},{\"attributes\":{\"source\":{\"id\":\"7197\"}},\"id\":\"7220\",\"type\":\"CDSView\"},{\"attributes\":{\"axis\":{\"id\":\"7210\"},\"dimension\":1,\"ticker\":null},\"id\":\"7213\",\"type\":\"Grid\"},{\"attributes\":{\"formatter\":{\"id\":\"7527\"},\"major_label_policy\":{\"id\":\"7528\"},\"ticker\":{\"id\":\"7211\"}},\"id\":\"7210\",\"type\":\"LinearAxis\"},{\"attributes\":{\"factors\":[[\"0.0\",\"a\"],[\"0.0\",\"c\"],[\"1.0\",\"a\"],[\"1.0\",\"c\"],[\"2.0\",\"a\"],[\"2.0\",\"c\"],[\"3.0\",\"a\"],[\"3.0\",\"c\"],[\"5.0\",\"a\"],[\"5.0\",\"c\"],[\"8.0\",\"a\"],[\"8.0\",\"c\"],[\"11.0\",\"a\"],[\"11.0\",\"c\"],[\"17.0\",\"a\"],[\"17.0\",\"c\"]]},\"id\":\"7198\",\"type\":\"FactorRange\"},{\"attributes\":{\"fill_alpha\":{\"value\":0.1},\"fill_color\":{\"field\":\"x\",\"transform\":{\"id\":\"7215\"}},\"line_alpha\":{\"value\":0.1},\"line_color\":{\"value\":null},\"top\":{\"field\":\"counts\"},\"width\":{\"value\":0.9},\"x\":{\"field\":\"x\"}},\"id\":\"7218\",\"type\":\"VBar\"},{\"attributes\":{\"active_multi\":null},\"id\":\"7214\",\"type\":\"Toolbar\"},{\"attributes\":{\"axis\":{\"id\":\"7207\"},\"grid_line_color\":null,\"ticker\":null},\"id\":\"7209\",\"type\":\"Grid\"},{\"attributes\":{},\"id\":\"7205\",\"type\":\"LinearScale\"},{\"attributes\":{\"fill_color\":{\"field\":\"x\",\"transform\":{\"id\":\"7215\"}},\"line_color\":{\"value\":null},\"top\":{\"field\":\"counts\"},\"width\":{\"value\":0.9},\"x\":{\"field\":\"x\"}},\"id\":\"7217\",\"type\":\"VBar\"},{\"attributes\":{\"start\":0},\"id\":\"7201\",\"type\":\"DataRange1d\"},{\"attributes\":{},\"id\":\"7530\",\"type\":\"Selection\"},{\"attributes\":{},\"id\":\"7203\",\"type\":\"CategoricalScale\"},{\"attributes\":{\"text\":\"ANZ_HAUSHALTE_AKTIV [ks:0.2824 p:0.0000]\"},\"id\":\"7221\",\"type\":\"Title\"},{\"attributes\":{},\"id\":\"7211\",\"type\":\"BasicTicker\"},{\"attributes\":{\"end\":2,\"factors\":[\"a\",\"c\"],\"palette\":[\"#1f77b4\",\"#ff7f0e\"],\"start\":1},\"id\":\"7215\",\"type\":\"CategoricalColorMapper\"},{\"attributes\":{},\"id\":\"7525\",\"type\":\"AllLabels\"},{\"attributes\":{\"formatter\":{\"id\":\"7524\"},\"group_label_orientation\":1.5707963267948966,\"major_label_orientation\":0,\"major_label_policy\":{\"id\":\"7525\"},\"ticker\":{\"id\":\"7208\"}},\"id\":\"7207\",\"type\":\"CategoricalAxis\"},{\"attributes\":{},\"id\":\"7524\",\"type\":\"CategoricalTickFormatter\"},{\"attributes\":{},\"id\":\"7527\",\"type\":\"BasicTickFormatter\"},{\"attributes\":{\"data_source\":{\"id\":\"7197\"},\"glyph\":{\"id\":\"7217\"},\"hover_glyph\":null,\"muted_glyph\":null,\"nonselection_glyph\":{\"id\":\"7218\"},\"view\":{\"id\":\"7220\"}},\"id\":\"7219\",\"type\":\"GlyphRenderer\"},{\"attributes\":{\"data\":{\"counts\":[0.008098667893205867,0.01728644494051824,0.24558815604285703,0.5132597699850235,0.15162004689757855,0.157110966684563,0.1325740153325755,0.08725875271977168,0.13579744056026438,0.07185848710051146,0.10868532627154225,0.0508350052276131,0.10923927415281692,0.04754302184294555,0.10839707284915949,0.054847551499053376],\"x\":[[\"0.0\",\"a\"],[\"0.0\",\"c\"],[\"1.0\",\"a\"],[\"1.0\",\"c\"],[\"2.0\",\"a\"],[\"2.0\",\"c\"],[\"3.0\",\"a\"],[\"3.0\",\"c\"],[\"5.0\",\"a\"],[\"5.0\",\"c\"],[\"8.0\",\"a\"],[\"8.0\",\"c\"],[\"11.0\",\"a\"],[\"11.0\",\"c\"],[\"17.0\",\"a\"],[\"17.0\",\"c\"]]},\"selected\":{\"id\":\"7530\"},\"selection_policy\":{\"id\":\"7529\"}},\"id\":\"7197\",\"type\":\"ColumnDataSource\"},{\"attributes\":{},\"id\":\"7529\",\"type\":\"UnionRenderers\"},{\"attributes\":{},\"id\":\"7208\",\"type\":\"CategoricalTicker\"},{\"attributes\":{},\"id\":\"7528\",\"type\":\"AllLabels\"}],\"root_ids\":[\"7199\"]},\"title\":\"Bokeh Application\",\"version\":\"2.3.1\"}};\n",
       "  var render_items = [{\"docid\":\"7a88fff8-4602-449a-9af8-0e19475cd2d2\",\"root_ids\":[\"7199\"],\"roots\":{\"7199\":\"5489f286-6404-472f-9a39-6420da1493b6\"}}];\n",
       "  root.Bokeh.embed.embed_items_notebook(docs_json, render_items);\n",
       "\n",
       "  }\n",
       "  if (root.Bokeh !== undefined) {\n",
       "    embed_document(root);\n",
       "  } else {\n",
       "    var attempts = 0;\n",
       "    var timer = setInterval(function(root) {\n",
       "      if (root.Bokeh !== undefined) {\n",
       "        clearInterval(timer);\n",
       "        embed_document(root);\n",
       "      } else {\n",
       "        attempts++;\n",
       "        if (attempts > 100) {\n",
       "          clearInterval(timer);\n",
       "          console.log(\"Bokeh: ERROR: Unable to run BokehJS code because BokehJS library is missing\");\n",
       "        }\n",
       "      }\n",
       "    }, 10, root)\n",
       "  }\n",
       "})(window);"
      ],
      "application/vnd.bokehjs_exec.v0+json": ""
     },
     "metadata": {
      "application/vnd.bokehjs_exec.v0+json": {
       "id": "7199"
      }
     },
     "output_type": "display_data"
    },
    {
     "name": "stdout",
     "output_type": "stream",
     "text": [
      "==========================================================================================================================================================================================================================================\n"
     ]
    },
    {
     "data": {
      "text/html": [
       "\n",
       "\n",
       "\n",
       "\n",
       "\n",
       "\n",
       "  <div class=\"bk-root\" id=\"5dad9bfb-d5f4-455b-a98e-fda02fcd10c1\" data-root-id=\"7583\"></div>\n"
      ]
     },
     "metadata": {},
     "output_type": "display_data"
    },
    {
     "data": {
      "application/javascript": [
       "(function(root) {\n",
       "  function embed_document(root) {\n",
       "    \n",
       "  var docs_json = {\"c931851d-c10f-43de-b055-93712b2fa0a3\":{\"defs\":[],\"roots\":{\"references\":[{\"attributes\":{\"below\":[{\"id\":\"7591\"}],\"center\":[{\"id\":\"7593\"},{\"id\":\"7597\"}],\"height\":500,\"left\":[{\"id\":\"7594\"}],\"renderers\":[{\"id\":\"7603\"}],\"title\":{\"id\":\"7605\"},\"toolbar\":{\"id\":\"7598\"},\"toolbar_location\":null,\"width\":950,\"x_range\":{\"id\":\"7582\"},\"x_scale\":{\"id\":\"7587\"},\"y_range\":{\"id\":\"7585\"},\"y_scale\":{\"id\":\"7589\"}},\"id\":\"7583\",\"subtype\":\"Figure\",\"type\":\"Plot\"},{\"attributes\":{\"data_source\":{\"id\":\"7581\"},\"glyph\":{\"id\":\"7601\"},\"hover_glyph\":null,\"muted_glyph\":null,\"nonselection_glyph\":{\"id\":\"7602\"},\"view\":{\"id\":\"7604\"}},\"id\":\"7603\",\"type\":\"GlyphRenderer\"},{\"attributes\":{},\"id\":\"7589\",\"type\":\"LinearScale\"},{\"attributes\":{},\"id\":\"7919\",\"type\":\"AllLabels\"},{\"attributes\":{\"fill_alpha\":{\"value\":0.1},\"fill_color\":{\"field\":\"x\",\"transform\":{\"id\":\"7599\"}},\"line_alpha\":{\"value\":0.1},\"line_color\":{\"value\":null},\"top\":{\"field\":\"counts\"},\"width\":{\"value\":0.9},\"x\":{\"field\":\"x\"}},\"id\":\"7602\",\"type\":\"VBar\"},{\"attributes\":{\"axis\":{\"id\":\"7591\"},\"grid_line_color\":null,\"ticker\":null},\"id\":\"7593\",\"type\":\"Grid\"},{\"attributes\":{\"start\":0},\"id\":\"7585\",\"type\":\"DataRange1d\"},{\"attributes\":{\"axis\":{\"id\":\"7594\"},\"dimension\":1,\"ticker\":null},\"id\":\"7597\",\"type\":\"Grid\"},{\"attributes\":{},\"id\":\"7595\",\"type\":\"BasicTicker\"},{\"attributes\":{},\"id\":\"7918\",\"type\":\"CategoricalTickFormatter\"},{\"attributes\":{\"data\":{\"counts\":[0.13153728969935083,0.041866347177848776,0.13631725627534513,0.02652422790202343,0.09782124117017396,0.01841719914802982,0.1162139803890249,0.16198083067092653,0.1405524735433022,0.2218583599574015,0.189069730295452,0.14587992545260917,0.18848802862735095,0.38347310969116083],\"x\":[[\"highest affinity\",\"a\"],[\"highest affinity\",\"c\"],[\"very high affinity\",\"a\"],[\"very high affinity\",\"c\"],[\"high affinity\",\"a\"],[\"high affinity\",\"c\"],[\"average affinity\",\"a\"],[\"average affinity\",\"c\"],[\"low affinity\",\"a\"],[\"low affinity\",\"c\"],[\"very low affinity\",\"a\"],[\"very low affinity\",\"c\"],[\"lowest affinity\",\"a\"],[\"lowest affinity\",\"c\"]]},\"selected\":{\"id\":\"7924\"},\"selection_policy\":{\"id\":\"7923\"}},\"id\":\"7581\",\"type\":\"ColumnDataSource\"},{\"attributes\":{},\"id\":\"7923\",\"type\":\"UnionRenderers\"},{\"attributes\":{},\"id\":\"7924\",\"type\":\"Selection\"},{\"attributes\":{\"factors\":[[\"highest affinity\",\"a\"],[\"highest affinity\",\"c\"],[\"very high affinity\",\"a\"],[\"very high affinity\",\"c\"],[\"high affinity\",\"a\"],[\"high affinity\",\"c\"],[\"average affinity\",\"a\"],[\"average affinity\",\"c\"],[\"low affinity\",\"a\"],[\"low affinity\",\"c\"],[\"very low affinity\",\"a\"],[\"very low affinity\",\"c\"],[\"lowest affinity\",\"a\"],[\"lowest affinity\",\"c\"]]},\"id\":\"7582\",\"type\":\"FactorRange\"},{\"attributes\":{},\"id\":\"7922\",\"type\":\"AllLabels\"},{\"attributes\":{\"text\":\"SEMIO_LUST [ks:0.2789 p:0.0000]\"},\"id\":\"7605\",\"type\":\"Title\"},{\"attributes\":{\"active_multi\":null},\"id\":\"7598\",\"type\":\"Toolbar\"},{\"attributes\":{},\"id\":\"7921\",\"type\":\"BasicTickFormatter\"},{\"attributes\":{\"formatter\":{\"id\":\"7918\"},\"group_label_orientation\":1.5707963267948966,\"major_label_orientation\":0,\"major_label_policy\":{\"id\":\"7919\"},\"ticker\":{\"id\":\"7592\"}},\"id\":\"7591\",\"type\":\"CategoricalAxis\"},{\"attributes\":{\"source\":{\"id\":\"7581\"}},\"id\":\"7604\",\"type\":\"CDSView\"},{\"attributes\":{\"formatter\":{\"id\":\"7921\"},\"major_label_policy\":{\"id\":\"7922\"},\"ticker\":{\"id\":\"7595\"}},\"id\":\"7594\",\"type\":\"LinearAxis\"},{\"attributes\":{},\"id\":\"7592\",\"type\":\"CategoricalTicker\"},{\"attributes\":{},\"id\":\"7587\",\"type\":\"CategoricalScale\"},{\"attributes\":{\"fill_color\":{\"field\":\"x\",\"transform\":{\"id\":\"7599\"}},\"line_color\":{\"value\":null},\"top\":{\"field\":\"counts\"},\"width\":{\"value\":0.9},\"x\":{\"field\":\"x\"}},\"id\":\"7601\",\"type\":\"VBar\"},{\"attributes\":{\"end\":2,\"factors\":[\"a\",\"c\"],\"palette\":[\"#1f77b4\",\"#ff7f0e\"],\"start\":1},\"id\":\"7599\",\"type\":\"CategoricalColorMapper\"}],\"root_ids\":[\"7583\"]},\"title\":\"Bokeh Application\",\"version\":\"2.3.1\"}};\n",
       "  var render_items = [{\"docid\":\"c931851d-c10f-43de-b055-93712b2fa0a3\",\"root_ids\":[\"7583\"],\"roots\":{\"7583\":\"5dad9bfb-d5f4-455b-a98e-fda02fcd10c1\"}}];\n",
       "  root.Bokeh.embed.embed_items_notebook(docs_json, render_items);\n",
       "\n",
       "  }\n",
       "  if (root.Bokeh !== undefined) {\n",
       "    embed_document(root);\n",
       "  } else {\n",
       "    var attempts = 0;\n",
       "    var timer = setInterval(function(root) {\n",
       "      if (root.Bokeh !== undefined) {\n",
       "        clearInterval(timer);\n",
       "        embed_document(root);\n",
       "      } else {\n",
       "        attempts++;\n",
       "        if (attempts > 100) {\n",
       "          clearInterval(timer);\n",
       "          console.log(\"Bokeh: ERROR: Unable to run BokehJS code because BokehJS library is missing\");\n",
       "        }\n",
       "      }\n",
       "    }, 10, root)\n",
       "  }\n",
       "})(window);"
      ],
      "application/vnd.bokehjs_exec.v0+json": ""
     },
     "metadata": {
      "application/vnd.bokehjs_exec.v0+json": {
       "id": "7583"
      }
     },
     "output_type": "display_data"
    },
    {
     "name": "stdout",
     "output_type": "stream",
     "text": [
      "==========================================================================================================================================================================================================================================\n"
     ]
    },
    {
     "data": {
      "text/html": [
       "\n",
       "\n",
       "\n",
       "\n",
       "\n",
       "\n",
       "  <div class=\"bk-root\" id=\"4a7e51f6-b23f-42f0-880c-c7fd6282e786\" data-root-id=\"7977\"></div>\n"
      ]
     },
     "metadata": {},
     "output_type": "display_data"
    },
    {
     "data": {
      "application/javascript": [
       "(function(root) {\n",
       "  function embed_document(root) {\n",
       "    \n",
       "  var docs_json = {\"fd1067ad-d63f-4da9-a28a-24657b6e1719\":{\"defs\":[],\"roots\":{\"references\":[{\"attributes\":{\"below\":[{\"id\":\"7985\"}],\"center\":[{\"id\":\"7987\"},{\"id\":\"7991\"}],\"height\":500,\"left\":[{\"id\":\"7988\"}],\"renderers\":[{\"id\":\"7997\"}],\"title\":{\"id\":\"7999\"},\"toolbar\":{\"id\":\"7992\"},\"toolbar_location\":null,\"width\":950,\"x_range\":{\"id\":\"7976\"},\"x_scale\":{\"id\":\"7981\"},\"y_range\":{\"id\":\"7979\"},\"y_scale\":{\"id\":\"7983\"}},\"id\":\"7977\",\"subtype\":\"Figure\",\"type\":\"Plot\"},{\"attributes\":{},\"id\":\"8327\",\"type\":\"UnionRenderers\"},{\"attributes\":{\"fill_color\":{\"field\":\"x\",\"transform\":{\"id\":\"7993\"}},\"line_color\":{\"value\":null},\"top\":{\"field\":\"counts\"},\"width\":{\"value\":0.9},\"x\":{\"field\":\"x\"}},\"id\":\"7995\",\"type\":\"VBar\"},{\"attributes\":{\"text\":\"LP_LEBENSPHASE_FEIN [ks:0.2730 p:0.0000]\"},\"id\":\"7999\",\"type\":\"Title\"},{\"attributes\":{\"axis\":{\"id\":\"7988\"},\"dimension\":1,\"ticker\":null},\"id\":\"7991\",\"type\":\"Grid\"},{\"attributes\":{\"axis\":{\"id\":\"7985\"},\"grid_line_color\":null,\"ticker\":null},\"id\":\"7987\",\"type\":\"Grid\"},{\"attributes\":{},\"id\":\"8326\",\"type\":\"AllLabels\"},{\"attributes\":{\"formatter\":{\"id\":\"8322\"},\"group_label_orientation\":1.5707963267948966,\"major_label_orientation\":0,\"major_label_policy\":{\"id\":\"8323\"},\"ticker\":{\"id\":\"7986\"}},\"id\":\"7985\",\"type\":\"CategoricalAxis\"},{\"attributes\":{},\"id\":\"8322\",\"type\":\"CategoricalTickFormatter\"},{\"attributes\":{\"source\":{\"id\":\"7975\"}},\"id\":\"7998\",\"type\":\"CDSView\"},{\"attributes\":{},\"id\":\"7989\",\"type\":\"BasicTicker\"},{\"attributes\":{},\"id\":\"8323\",\"type\":\"AllLabels\"},{\"attributes\":{\"end\":2,\"factors\":[\"a\",\"c\"],\"palette\":[\"#1f77b4\",\"#ff7f0e\"],\"start\":1},\"id\":\"7993\",\"type\":\"CategoricalColorMapper\"},{\"attributes\":{},\"id\":\"7981\",\"type\":\"CategoricalScale\"},{\"attributes\":{\"data_source\":{\"id\":\"7975\"},\"glyph\":{\"id\":\"7995\"},\"hover_glyph\":null,\"muted_glyph\":null,\"nonselection_glyph\":{\"id\":\"7996\"},\"view\":{\"id\":\"7998\"}},\"id\":\"7997\",\"type\":\"GlyphRenderer\"},{\"attributes\":{\"factors\":[[\"0\",\"a\"],[\"0\",\"c\"],[\"single low-income earners of younger age\",\"a\"],[\"single low-income earners of younger age\",\"c\"],[\"single low-income earners of middle age\",\"a\"],[\"single low-income earners of middle age\",\"c\"],[\"single average earners of younger age \",\"a\"],[\"single average earners of younger age \",\"c\"],[\"single average earners of middle age\",\"a\"],[\"single average earners of middle age\",\"c\"],[\"single low-income earners of advanced age\",\"a\"],[\"single low-income earners of advanced age\",\"c\"],[\"single low-income earners at retirement age \",\"a\"],[\"single low-income earners at retirement age \",\"c\"],[\"single average earners of advanced age\",\"a\"],[\"single average earners of advanced age\",\"c\"],[\"single average earners at retirement age\",\"a\"],[\"single average earners at retirement age\",\"c\"],[\"single independant persons\",\"a\"],[\"single independant persons\",\"c\"],[\"wealthy single homeowners\",\"a\"],[\"wealthy single homeowners\",\"c\"],[\"single homeowners of advanced age\",\"a\"],[\"single homeowners of advanced age\",\"c\"],[\"single homeowners at retirement age\",\"a\"],[\"single homeowners at retirement age\",\"c\"],[\"single top earners of higher age \",\"a\"],[\"single top earners of higher age \",\"c\"],[\"low-income- and average earner-couples of younger age\",\"a\"],[\"low-income- and average earner-couples of younger age\",\"c\"],[\"low-income earner-couples of higher age\",\"a\"],[\"low-income earner-couples of higher age\",\"c\"],[\"average earner-couples of higher age \",\"a\"],[\"average earner-couples of higher age \",\"c\"],[\"independant couples\",\"a\"],[\"independant couples\",\"c\"],[\"wealthy homeowner-couples of younger age \",\"a\"],[\"wealthy homeowner-couples of younger age \",\"c\"],[\"homeowner-couples of higher age\",\"a\"],[\"homeowner-couples of higher age\",\"c\"],[\"top earner-couples of higher age\",\"a\"],[\"top earner-couples of higher age\",\"c\"],[\"single parent low-income earners\",\"a\"],[\"single parent low-income earners\",\"c\"],[\"single parent average earners\",\"a\"],[\"single parent average earners\",\"c\"],[\"single parent high-income earners\",\"a\"],[\"single parent high-income earners\",\"c\"],[\"low-income earner-families\",\"a\"],[\"low-income earner-families\",\"c\"],[\"average earner-families \",\"a\"],[\"average earner-families \",\"c\"],[\"independant families\",\"a\"],[\"independant families\",\"c\"],[\"homeowner-families\",\"a\"],[\"homeowner-families\",\"c\"],[\"top earner-families\",\"a\"],[\"top earner-families\",\"c\"],[\"low-income earners of younger age from mulitperson households\",\"a\"],[\"low-income earners of younger age from mulitperson households\",\"c\"],[\"average earners of younger age from mulitperson households\",\"a\"],[\"average earners of younger age from mulitperson households\",\"c\"],[\"low-income earners of higher age from mulitperson households\",\"a\"],[\"low-income earners of higher age from mulitperson households\",\"c\"],[\"average earners of higher age from mulitperson households\",\"a\"],[\"average earners of higher age from mulitperson households\",\"c\"],[\"independant persons of younger age from mulitperson households\",\"a\"],[\"independant persons of younger age from mulitperson households\",\"c\"],[\"homeowners of younger age from mulitperson households\",\"a\"],[\"homeowners of younger age from mulitperson households\",\"c\"],[\"top earners of younger age from mulitperson households\",\"a\"],[\"top earners of younger age from mulitperson households\",\"c\"],[\"independant persons of higher age from mulitperson households\",\"a\"],[\"independant persons of higher age from mulitperson households\",\"c\"],[\"homeowners of advanced age from mulitperson households\",\"a\"],[\"homeowners of advanced age from mulitperson households\",\"c\"],[\"homeowners at retirement age from mulitperson households\",\"a\"],[\"homeowners at retirement age from mulitperson households\",\"c\"],[\"top earners of middle age from mulitperson households\",\"a\"],[\"top earners of middle age from mulitperson households\",\"c\"],[\"top earners at retirement age from mulitperson households\",\"a\"],[\"top earners at retirement age from mulitperson households\",\"c\"]]},\"id\":\"7976\",\"type\":\"FactorRange\"},{\"attributes\":{},\"id\":\"8328\",\"type\":\"Selection\"},{\"attributes\":{\"active_multi\":null},\"id\":\"7992\",\"type\":\"Toolbar\"},{\"attributes\":{},\"id\":\"7986\",\"type\":\"CategoricalTicker\"},{\"attributes\":{\"data\":{\"counts\":[0.056348193903585336,0.04710019248165303,0.07363583609890847,0.0037476109830167246,0.046694258474169845,0.004482169941575357,0.02366245276141879,0.00175477973433451,0.020890483224308927,0.0029314343623960226,0.06568440791114351,0.015337318995830698,0.05392032266109076,0.04503934651458576,0.03158510617890234,0.011548899181782937,0.03623343052811295,0.042726846089493765,0.015606716031383683,0.019948716902337665,0.030743444148170884,0.005788052534568481,0.03186326229162271,0.013487318655757106,0.027754464885188665,0.04042794860807879,0.0310659613650751,0.06756582124371714,0.020919257994590344,0.003842831588755807,0.023945404669186057,0.022077577587789998,0.017300830631702124,0.02687941670577513,0.007042625026376873,0.02358070286409979,0.008579677338909244,0.004080883103103511,0.02327519231138138,0.04170662531371789,0.02043847954113833,0.07348990321505573,0.015254225095436322,0.0015983458820488753,0.008646818469565885,0.001707169431464969,0.01099795699131002,0.0075564352125800024,0.014464117861459073,0.0035843756588925845,0.012418711273954997,0.004550184659960416,0.004288639720692896,0.006889890972406429,0.01727085691265898,0.017343753188189925,0.014640363329432754,0.02517224727431016,0.031658242053367605,0.0031626844049052216,0.02671737420629592,0.005618015738605834,0.028508603656314142,0.0269610343678372,0.02037613420552859,0.03668713909690057,0.0072572368547257765,0.00423051548355064,0.015607914980145408,0.006230148204071361,0.01632488633965739,0.012093016928863406,0.012546998791459648,0.05979173893230495,0.022103819371175355,0.031184748379549335,0.01655148765562355,0.058649091663435966,0.019288687678643366,0.046093574649554166,0.017887116576186,0.12335149326314214],\"x\":[[\"0\",\"a\"],[\"0\",\"c\"],[\"single low-income earners of younger age\",\"a\"],[\"single low-income earners of younger age\",\"c\"],[\"single low-income earners of middle age\",\"a\"],[\"single low-income earners of middle age\",\"c\"],[\"single average earners of younger age \",\"a\"],[\"single average earners of younger age \",\"c\"],[\"single average earners of middle age\",\"a\"],[\"single average earners of middle age\",\"c\"],[\"single low-income earners of advanced age\",\"a\"],[\"single low-income earners of advanced age\",\"c\"],[\"single low-income earners at retirement age \",\"a\"],[\"single low-income earners at retirement age \",\"c\"],[\"single average earners of advanced age\",\"a\"],[\"single average earners of advanced age\",\"c\"],[\"single average earners at retirement age\",\"a\"],[\"single average earners at retirement age\",\"c\"],[\"single independant persons\",\"a\"],[\"single independant persons\",\"c\"],[\"wealthy single homeowners\",\"a\"],[\"wealthy single homeowners\",\"c\"],[\"single homeowners of advanced age\",\"a\"],[\"single homeowners of advanced age\",\"c\"],[\"single homeowners at retirement age\",\"a\"],[\"single homeowners at retirement age\",\"c\"],[\"single top earners of higher age \",\"a\"],[\"single top earners of higher age \",\"c\"],[\"low-income- and average earner-couples of younger age\",\"a\"],[\"low-income- and average earner-couples of younger age\",\"c\"],[\"low-income earner-couples of higher age\",\"a\"],[\"low-income earner-couples of higher age\",\"c\"],[\"average earner-couples of higher age \",\"a\"],[\"average earner-couples of higher age \",\"c\"],[\"independant couples\",\"a\"],[\"independant couples\",\"c\"],[\"wealthy homeowner-couples of younger age \",\"a\"],[\"wealthy homeowner-couples of younger age \",\"c\"],[\"homeowner-couples of higher age\",\"a\"],[\"homeowner-couples of higher age\",\"c\"],[\"top earner-couples of higher age\",\"a\"],[\"top earner-couples of higher age\",\"c\"],[\"single parent low-income earners\",\"a\"],[\"single parent low-income earners\",\"c\"],[\"single parent average earners\",\"a\"],[\"single parent average earners\",\"c\"],[\"single parent high-income earners\",\"a\"],[\"single parent high-income earners\",\"c\"],[\"low-income earner-families\",\"a\"],[\"low-income earner-families\",\"c\"],[\"average earner-families \",\"a\"],[\"average earner-families \",\"c\"],[\"independant families\",\"a\"],[\"independant families\",\"c\"],[\"homeowner-families\",\"a\"],[\"homeowner-families\",\"c\"],[\"top earner-families\",\"a\"],[\"top earner-families\",\"c\"],[\"low-income earners of younger age from mulitperson households\",\"a\"],[\"low-income earners of younger age from mulitperson households\",\"c\"],[\"average earners of younger age from mulitperson households\",\"a\"],[\"average earners of younger age from mulitperson households\",\"c\"],[\"low-income earners of higher age from mulitperson households\",\"a\"],[\"low-income earners of higher age from mulitperson households\",\"c\"],[\"average earners of higher age from mulitperson households\",\"a\"],[\"average earners of higher age from mulitperson households\",\"c\"],[\"independant persons of younger age from mulitperson households\",\"a\"],[\"independant persons of younger age from mulitperson households\",\"c\"],[\"homeowners of younger age from mulitperson households\",\"a\"],[\"homeowners of younger age from mulitperson households\",\"c\"],[\"top earners of younger age from mulitperson households\",\"a\"],[\"top earners of younger age from mulitperson households\",\"c\"],[\"independant persons of higher age from mulitperson households\",\"a\"],[\"independant persons of higher age from mulitperson households\",\"c\"],[\"homeowners of advanced age from mulitperson households\",\"a\"],[\"homeowners of advanced age from mulitperson households\",\"c\"],[\"homeowners at retirement age from mulitperson households\",\"a\"],[\"homeowners at retirement age from mulitperson households\",\"c\"],[\"top earners of middle age from mulitperson households\",\"a\"],[\"top earners of middle age from mulitperson households\",\"c\"],[\"top earners at retirement age from mulitperson households\",\"a\"],[\"top earners at retirement age from mulitperson households\",\"c\"]]},\"selected\":{\"id\":\"8328\"},\"selection_policy\":{\"id\":\"8327\"}},\"id\":\"7975\",\"type\":\"ColumnDataSource\"},{\"attributes\":{\"formatter\":{\"id\":\"8325\"},\"major_label_policy\":{\"id\":\"8326\"},\"ticker\":{\"id\":\"7989\"}},\"id\":\"7988\",\"type\":\"LinearAxis\"},{\"attributes\":{\"start\":0},\"id\":\"7979\",\"type\":\"DataRange1d\"},{\"attributes\":{\"fill_alpha\":{\"value\":0.1},\"fill_color\":{\"field\":\"x\",\"transform\":{\"id\":\"7993\"}},\"line_alpha\":{\"value\":0.1},\"line_color\":{\"value\":null},\"top\":{\"field\":\"counts\"},\"width\":{\"value\":0.9},\"x\":{\"field\":\"x\"}},\"id\":\"7996\",\"type\":\"VBar\"},{\"attributes\":{},\"id\":\"8325\",\"type\":\"BasicTickFormatter\"},{\"attributes\":{},\"id\":\"7983\",\"type\":\"LinearScale\"}],\"root_ids\":[\"7977\"]},\"title\":\"Bokeh Application\",\"version\":\"2.3.1\"}};\n",
       "  var render_items = [{\"docid\":\"fd1067ad-d63f-4da9-a28a-24657b6e1719\",\"root_ids\":[\"7977\"],\"roots\":{\"7977\":\"4a7e51f6-b23f-42f0-880c-c7fd6282e786\"}}];\n",
       "  root.Bokeh.embed.embed_items_notebook(docs_json, render_items);\n",
       "\n",
       "  }\n",
       "  if (root.Bokeh !== undefined) {\n",
       "    embed_document(root);\n",
       "  } else {\n",
       "    var attempts = 0;\n",
       "    var timer = setInterval(function(root) {\n",
       "      if (root.Bokeh !== undefined) {\n",
       "        clearInterval(timer);\n",
       "        embed_document(root);\n",
       "      } else {\n",
       "        attempts++;\n",
       "        if (attempts > 100) {\n",
       "          clearInterval(timer);\n",
       "          console.log(\"Bokeh: ERROR: Unable to run BokehJS code because BokehJS library is missing\");\n",
       "        }\n",
       "      }\n",
       "    }, 10, root)\n",
       "  }\n",
       "})(window);"
      ],
      "application/vnd.bokehjs_exec.v0+json": ""
     },
     "metadata": {
      "application/vnd.bokehjs_exec.v0+json": {
       "id": "7977"
      }
     },
     "output_type": "display_data"
    },
    {
     "name": "stdout",
     "output_type": "stream",
     "text": [
      "==========================================================================================================================================================================================================================================\n"
     ]
    },
    {
     "data": {
      "text/html": [
       "\n",
       "\n",
       "\n",
       "\n",
       "\n",
       "\n",
       "  <div class=\"bk-root\" id=\"a75bf5f6-58e7-4efa-be62-0dcfc146b1ef\" data-root-id=\"8381\"></div>\n"
      ]
     },
     "metadata": {},
     "output_type": "display_data"
    },
    {
     "data": {
      "application/javascript": [
       "(function(root) {\n",
       "  function embed_document(root) {\n",
       "    \n",
       "  var docs_json = {\"eca71c58-1eee-49de-bd68-4316d2f41b56\":{\"defs\":[],\"roots\":{\"references\":[{\"attributes\":{\"below\":[{\"id\":\"8389\"}],\"center\":[{\"id\":\"8391\"},{\"id\":\"8395\"}],\"height\":500,\"left\":[{\"id\":\"8392\"}],\"renderers\":[{\"id\":\"8401\"}],\"title\":{\"id\":\"8403\"},\"toolbar\":{\"id\":\"8396\"},\"toolbar_location\":null,\"width\":950,\"x_range\":{\"id\":\"8380\"},\"x_scale\":{\"id\":\"8385\"},\"y_range\":{\"id\":\"8383\"},\"y_scale\":{\"id\":\"8387\"}},\"id\":\"8381\",\"subtype\":\"Figure\",\"type\":\"Plot\"},{\"attributes\":{\"start\":0},\"id\":\"8383\",\"type\":\"DataRange1d\"},{\"attributes\":{\"axis\":{\"id\":\"8389\"},\"grid_line_color\":null,\"ticker\":null},\"id\":\"8391\",\"type\":\"Grid\"},{\"attributes\":{\"axis\":{\"id\":\"8392\"},\"dimension\":1,\"ticker\":null},\"id\":\"8395\",\"type\":\"Grid\"},{\"attributes\":{},\"id\":\"8736\",\"type\":\"CategoricalTickFormatter\"},{\"attributes\":{},\"id\":\"8739\",\"type\":\"BasicTickFormatter\"},{\"attributes\":{},\"id\":\"8387\",\"type\":\"LinearScale\"},{\"attributes\":{\"formatter\":{\"id\":\"8739\"},\"major_label_policy\":{\"id\":\"8740\"},\"ticker\":{\"id\":\"8393\"}},\"id\":\"8392\",\"type\":\"LinearAxis\"},{\"attributes\":{},\"id\":\"8393\",\"type\":\"BasicTicker\"},{\"attributes\":{},\"id\":\"8741\",\"type\":\"UnionRenderers\"},{\"attributes\":{},\"id\":\"8390\",\"type\":\"CategoricalTicker\"},{\"attributes\":{\"fill_alpha\":{\"value\":0.1},\"fill_color\":{\"field\":\"x\",\"transform\":{\"id\":\"8397\"}},\"line_alpha\":{\"value\":0.1},\"line_color\":{\"value\":null},\"top\":{\"field\":\"counts\"},\"width\":{\"value\":0.9},\"x\":{\"field\":\"x\"}},\"id\":\"8400\",\"type\":\"VBar\"},{\"attributes\":{\"factors\":[[\"mainly 1-2 family homes in the microcell\",\"a\"],[\"mainly 1-2 family homes in the microcell\",\"c\"],[\"mainly 3-5 family homes in the microcell\",\"a\"],[\"mainly 3-5 family homes in the microcell\",\"c\"],[\"mainly 6-10 family homes in the microcell\",\"a\"],[\"mainly 6-10 family homes in the microcell\",\"c\"],[\"mainly>10 family homes in the microcell\",\"a\"],[\"mainly>10 family homes in the microcell\",\"c\"],[\"mainly business buildings in the microcell\",\"a\"],[\"mainly business buildings in the microcell\",\"c\"]]},\"id\":\"8380\",\"type\":\"FactorRange\"},{\"attributes\":{},\"id\":\"8737\",\"type\":\"AllLabels\"},{\"attributes\":{},\"id\":\"8742\",\"type\":\"Selection\"},{\"attributes\":{\"end\":2,\"factors\":[\"a\",\"c\"],\"palette\":[\"#1f77b4\",\"#ff7f0e\"],\"start\":1},\"id\":\"8397\",\"type\":\"CategoricalColorMapper\"},{\"attributes\":{\"text\":\"KBA05_BAUMAX [ks:0.2694 p:0.0000]\"},\"id\":\"8403\",\"type\":\"Title\"},{\"attributes\":{\"source\":{\"id\":\"8379\"}},\"id\":\"8402\",\"type\":\"CDSView\"},{\"attributes\":{},\"id\":\"8740\",\"type\":\"AllLabels\"},{\"attributes\":{\"formatter\":{\"id\":\"8736\"},\"group_label_orientation\":1.5707963267948966,\"major_label_orientation\":0,\"major_label_policy\":{\"id\":\"8737\"},\"ticker\":{\"id\":\"8390\"}},\"id\":\"8389\",\"type\":\"CategoricalAxis\"},{\"attributes\":{\"active_multi\":null},\"id\":\"8396\",\"type\":\"Toolbar\"},{\"attributes\":{\"fill_color\":{\"field\":\"x\",\"transform\":{\"id\":\"8397\"}},\"line_color\":{\"value\":null},\"top\":{\"field\":\"counts\"},\"width\":{\"value\":0.9},\"x\":{\"field\":\"x\"}},\"id\":\"8399\",\"type\":\"VBar\"},{\"attributes\":{\"data_source\":{\"id\":\"8379\"},\"glyph\":{\"id\":\"8399\"},\"hover_glyph\":null,\"muted_glyph\":null,\"nonselection_glyph\":{\"id\":\"8400\"},\"view\":{\"id\":\"8402\"}},\"id\":\"8401\",\"type\":\"GlyphRenderer\"},{\"attributes\":{\"data\":{\"counts\":[0.5027111775773071,0.7721597698066278,0.023358579767475518,0.010546465410031944,0.14460900188142217,0.059413787217440076,0.09091851994789908,0.03632129532541637,0.2384027208258961,0.1215586822404838],\"x\":[[\"mainly 1-2 family homes in the microcell\",\"a\"],[\"mainly 1-2 family homes in the microcell\",\"c\"],[\"mainly 3-5 family homes in the microcell\",\"a\"],[\"mainly 3-5 family homes in the microcell\",\"c\"],[\"mainly 6-10 family homes in the microcell\",\"a\"],[\"mainly 6-10 family homes in the microcell\",\"c\"],[\"mainly>10 family homes in the microcell\",\"a\"],[\"mainly>10 family homes in the microcell\",\"c\"],[\"mainly business buildings in the microcell\",\"a\"],[\"mainly business buildings in the microcell\",\"c\"]]},\"selected\":{\"id\":\"8742\"},\"selection_policy\":{\"id\":\"8741\"}},\"id\":\"8379\",\"type\":\"ColumnDataSource\"},{\"attributes\":{},\"id\":\"8385\",\"type\":\"CategoricalScale\"}],\"root_ids\":[\"8381\"]},\"title\":\"Bokeh Application\",\"version\":\"2.3.1\"}};\n",
       "  var render_items = [{\"docid\":\"eca71c58-1eee-49de-bd68-4316d2f41b56\",\"root_ids\":[\"8381\"],\"roots\":{\"8381\":\"a75bf5f6-58e7-4efa-be62-0dcfc146b1ef\"}}];\n",
       "  root.Bokeh.embed.embed_items_notebook(docs_json, render_items);\n",
       "\n",
       "  }\n",
       "  if (root.Bokeh !== undefined) {\n",
       "    embed_document(root);\n",
       "  } else {\n",
       "    var attempts = 0;\n",
       "    var timer = setInterval(function(root) {\n",
       "      if (root.Bokeh !== undefined) {\n",
       "        clearInterval(timer);\n",
       "        embed_document(root);\n",
       "      } else {\n",
       "        attempts++;\n",
       "        if (attempts > 100) {\n",
       "          clearInterval(timer);\n",
       "          console.log(\"Bokeh: ERROR: Unable to run BokehJS code because BokehJS library is missing\");\n",
       "        }\n",
       "      }\n",
       "    }, 10, root)\n",
       "  }\n",
       "})(window);"
      ],
      "application/vnd.bokehjs_exec.v0+json": ""
     },
     "metadata": {
      "application/vnd.bokehjs_exec.v0+json": {
       "id": "8381"
      }
     },
     "output_type": "display_data"
    },
    {
     "name": "stdout",
     "output_type": "stream",
     "text": [
      "==========================================================================================================================================================================================================================================\n"
     ]
    },
    {
     "data": {
      "text/html": [
       "\n",
       "\n",
       "\n",
       "\n",
       "\n",
       "\n",
       "  <div class=\"bk-root\" id=\"d8baf5d6-82fb-4720-b689-f694d4900bfd\" data-root-id=\"8795\"></div>\n"
      ]
     },
     "metadata": {},
     "output_type": "display_data"
    },
    {
     "data": {
      "application/javascript": [
       "(function(root) {\n",
       "  function embed_document(root) {\n",
       "    \n",
       "  var docs_json = {\"273c31ed-d4ce-4665-8d07-41b3089784c7\":{\"defs\":[],\"roots\":{\"references\":[{\"attributes\":{\"below\":[{\"id\":\"8803\"}],\"center\":[{\"id\":\"8805\"},{\"id\":\"8809\"}],\"height\":500,\"left\":[{\"id\":\"8806\"}],\"renderers\":[{\"id\":\"8815\"}],\"title\":{\"id\":\"8817\"},\"toolbar\":{\"id\":\"8810\"},\"toolbar_location\":null,\"width\":950,\"x_range\":{\"id\":\"8794\"},\"x_scale\":{\"id\":\"8799\"},\"y_range\":{\"id\":\"8797\"},\"y_scale\":{\"id\":\"8801\"}},\"id\":\"8795\",\"subtype\":\"Figure\",\"type\":\"Plot\"},{\"attributes\":{},\"id\":\"8807\",\"type\":\"BasicTicker\"},{\"attributes\":{},\"id\":\"9163\",\"type\":\"BasicTickFormatter\"},{\"attributes\":{},\"id\":\"8804\",\"type\":\"CategoricalTicker\"},{\"attributes\":{},\"id\":\"9164\",\"type\":\"AllLabels\"},{\"attributes\":{},\"id\":\"9165\",\"type\":\"UnionRenderers\"},{\"attributes\":{},\"id\":\"9166\",\"type\":\"Selection\"},{\"attributes\":{\"data\":{\"counts\":[0.2628647853544685,0.40814696485623003,0.22134702080537072,0.34458200212992546,0.20333572530330735,0.1512646432374867,0.13551980050493612,0.03043796592119276,0.1769326680319173,0.06556842385516506],\"x\":[[\"very high\",\"a\"],[\"very high\",\"c\"],[\"high\",\"a\"],[\"high\",\"c\"],[\"average\",\"a\"],[\"average\",\"c\"],[\"low\",\"a\"],[\"low\",\"c\"],[\"very low\",\"a\"],[\"very low\",\"c\"]]},\"selected\":{\"id\":\"9166\"},\"selection_policy\":{\"id\":\"9165\"}},\"id\":\"8793\",\"type\":\"ColumnDataSource\"},{\"attributes\":{},\"id\":\"9161\",\"type\":\"AllLabels\"},{\"attributes\":{\"formatter\":{\"id\":\"9163\"},\"major_label_policy\":{\"id\":\"9164\"},\"ticker\":{\"id\":\"8807\"}},\"id\":\"8806\",\"type\":\"LinearAxis\"},{\"attributes\":{\"active_multi\":null},\"id\":\"8810\",\"type\":\"Toolbar\"},{\"attributes\":{},\"id\":\"9160\",\"type\":\"CategoricalTickFormatter\"},{\"attributes\":{\"fill_alpha\":{\"value\":0.1},\"fill_color\":{\"field\":\"x\",\"transform\":{\"id\":\"8811\"}},\"line_alpha\":{\"value\":0.1},\"line_color\":{\"value\":null},\"top\":{\"field\":\"counts\"},\"width\":{\"value\":0.9},\"x\":{\"field\":\"x\"}},\"id\":\"8814\",\"type\":\"VBar\"},{\"attributes\":{\"axis\":{\"id\":\"8803\"},\"grid_line_color\":null,\"ticker\":null},\"id\":\"8805\",\"type\":\"Grid\"},{\"attributes\":{},\"id\":\"8801\",\"type\":\"LinearScale\"},{\"attributes\":{\"axis\":{\"id\":\"8806\"},\"dimension\":1,\"ticker\":null},\"id\":\"8809\",\"type\":\"Grid\"},{\"attributes\":{\"text\":\"FINANZ_UNAUFFAELLIGER [ks:0.2685 p:0.0000]\"},\"id\":\"8817\",\"type\":\"Title\"},{\"attributes\":{\"formatter\":{\"id\":\"9160\"},\"group_label_orientation\":1.5707963267948966,\"major_label_orientation\":0,\"major_label_policy\":{\"id\":\"9161\"},\"ticker\":{\"id\":\"8804\"}},\"id\":\"8803\",\"type\":\"CategoricalAxis\"},{\"attributes\":{\"data_source\":{\"id\":\"8793\"},\"glyph\":{\"id\":\"8813\"},\"hover_glyph\":null,\"muted_glyph\":null,\"nonselection_glyph\":{\"id\":\"8814\"},\"view\":{\"id\":\"8816\"}},\"id\":\"8815\",\"type\":\"GlyphRenderer\"},{\"attributes\":{\"factors\":[[\"very high\",\"a\"],[\"very high\",\"c\"],[\"high\",\"a\"],[\"high\",\"c\"],[\"average\",\"a\"],[\"average\",\"c\"],[\"low\",\"a\"],[\"low\",\"c\"],[\"very low\",\"a\"],[\"very low\",\"c\"]]},\"id\":\"8794\",\"type\":\"FactorRange\"},{\"attributes\":{\"fill_color\":{\"field\":\"x\",\"transform\":{\"id\":\"8811\"}},\"line_color\":{\"value\":null},\"top\":{\"field\":\"counts\"},\"width\":{\"value\":0.9},\"x\":{\"field\":\"x\"}},\"id\":\"8813\",\"type\":\"VBar\"},{\"attributes\":{\"source\":{\"id\":\"8793\"}},\"id\":\"8816\",\"type\":\"CDSView\"},{\"attributes\":{},\"id\":\"8799\",\"type\":\"CategoricalScale\"},{\"attributes\":{\"end\":2,\"factors\":[\"a\",\"c\"],\"palette\":[\"#1f77b4\",\"#ff7f0e\"],\"start\":1},\"id\":\"8811\",\"type\":\"CategoricalColorMapper\"},{\"attributes\":{\"start\":0},\"id\":\"8797\",\"type\":\"DataRange1d\"}],\"root_ids\":[\"8795\"]},\"title\":\"Bokeh Application\",\"version\":\"2.3.1\"}};\n",
       "  var render_items = [{\"docid\":\"273c31ed-d4ce-4665-8d07-41b3089784c7\",\"root_ids\":[\"8795\"],\"roots\":{\"8795\":\"d8baf5d6-82fb-4720-b689-f694d4900bfd\"}}];\n",
       "  root.Bokeh.embed.embed_items_notebook(docs_json, render_items);\n",
       "\n",
       "  }\n",
       "  if (root.Bokeh !== undefined) {\n",
       "    embed_document(root);\n",
       "  } else {\n",
       "    var attempts = 0;\n",
       "    var timer = setInterval(function(root) {\n",
       "      if (root.Bokeh !== undefined) {\n",
       "        clearInterval(timer);\n",
       "        embed_document(root);\n",
       "      } else {\n",
       "        attempts++;\n",
       "        if (attempts > 100) {\n",
       "          clearInterval(timer);\n",
       "          console.log(\"Bokeh: ERROR: Unable to run BokehJS code because BokehJS library is missing\");\n",
       "        }\n",
       "      }\n",
       "    }, 10, root)\n",
       "  }\n",
       "})(window);"
      ],
      "application/vnd.bokehjs_exec.v0+json": ""
     },
     "metadata": {
      "application/vnd.bokehjs_exec.v0+json": {
       "id": "8795"
      }
     },
     "output_type": "display_data"
    },
    {
     "name": "stdout",
     "output_type": "stream",
     "text": [
      "==========================================================================================================================================================================================================================================\n"
     ]
    },
    {
     "data": {
      "text/html": [
       "\n",
       "\n",
       "\n",
       "\n",
       "\n",
       "\n",
       "  <div class=\"bk-root\" id=\"028a1572-b087-4561-9679-4675de27b706\" data-root-id=\"9219\"></div>\n"
      ]
     },
     "metadata": {},
     "output_type": "display_data"
    },
    {
     "data": {
      "application/javascript": [
       "(function(root) {\n",
       "  function embed_document(root) {\n",
       "    \n",
       "  var docs_json = {\"b11b7a8f-821e-4f29-9bb9-2544890ece7c\":{\"defs\":[],\"roots\":{\"references\":[{\"attributes\":{\"below\":[{\"id\":\"9227\"}],\"center\":[{\"id\":\"9229\"},{\"id\":\"9233\"}],\"height\":500,\"left\":[{\"id\":\"9230\"}],\"renderers\":[{\"id\":\"9239\"}],\"title\":{\"id\":\"9241\"},\"toolbar\":{\"id\":\"9234\"},\"toolbar_location\":null,\"width\":950,\"x_range\":{\"id\":\"9218\"},\"x_scale\":{\"id\":\"9223\"},\"y_range\":{\"id\":\"9221\"},\"y_scale\":{\"id\":\"9225\"}},\"id\":\"9219\",\"subtype\":\"Figure\",\"type\":\"Plot\"},{\"attributes\":{},\"id\":\"9595\",\"type\":\"AllLabels\"},{\"attributes\":{},\"id\":\"9225\",\"type\":\"LinearScale\"},{\"attributes\":{\"factors\":[[\"doesn't belong to the green avantgarde\",\"a\"],[\"doesn't belong to the green avantgarde\",\"c\"],[\"belongs to the green avantgarde\",\"a\"],[\"belongs to the green avantgarde\",\"c\"]]},\"id\":\"9218\",\"type\":\"FactorRange\"},{\"attributes\":{\"axis\":{\"id\":\"9230\"},\"dimension\":1,\"ticker\":null},\"id\":\"9233\",\"type\":\"Grid\"},{\"attributes\":{\"axis\":{\"id\":\"9227\"},\"grid_line_color\":null,\"ticker\":null},\"id\":\"9229\",\"type\":\"Grid\"},{\"attributes\":{},\"id\":\"9231\",\"type\":\"BasicTicker\"},{\"attributes\":{},\"id\":\"9599\",\"type\":\"UnionRenderers\"},{\"attributes\":{},\"id\":\"9600\",\"type\":\"Selection\"},{\"attributes\":{\"active_multi\":null},\"id\":\"9234\",\"type\":\"Toolbar\"},{\"attributes\":{\"fill_alpha\":{\"value\":0.1},\"fill_color\":{\"field\":\"x\",\"transform\":{\"id\":\"9235\"}},\"line_alpha\":{\"value\":0.1},\"line_color\":{\"value\":null},\"top\":{\"field\":\"counts\"},\"width\":{\"value\":0.9},\"x\":{\"field\":\"x\"}},\"id\":\"9238\",\"type\":\"VBar\"},{\"attributes\":{},\"id\":\"9223\",\"type\":\"CategoricalScale\"},{\"attributes\":{\"formatter\":{\"id\":\"9594\"},\"group_label_orientation\":1.5707963267948966,\"major_label_orientation\":0,\"major_label_policy\":{\"id\":\"9595\"},\"ticker\":{\"id\":\"9228\"}},\"id\":\"9227\",\"type\":\"CategoricalAxis\"},{\"attributes\":{},\"id\":\"9597\",\"type\":\"BasicTickFormatter\"},{\"attributes\":{},\"id\":\"9598\",\"type\":\"AllLabels\"},{\"attributes\":{},\"id\":\"9228\",\"type\":\"CategoricalTicker\"},{\"attributes\":{\"formatter\":{\"id\":\"9597\"},\"major_label_policy\":{\"id\":\"9598\"},\"ticker\":{\"id\":\"9231\"}},\"id\":\"9230\",\"type\":\"LinearAxis\"},{\"attributes\":{\"fill_color\":{\"field\":\"x\",\"transform\":{\"id\":\"9235\"}},\"line_color\":{\"value\":null},\"top\":{\"field\":\"counts\"},\"width\":{\"value\":0.9},\"x\":{\"field\":\"x\"}},\"id\":\"9237\",\"type\":\"VBar\"},{\"attributes\":{\"end\":2,\"factors\":[\"a\",\"c\"],\"palette\":[\"#1f77b4\",\"#ff7f0e\"],\"start\":1},\"id\":\"9235\",\"type\":\"CategoricalColorMapper\"},{\"attributes\":{\"source\":{\"id\":\"9217\"}},\"id\":\"9240\",\"type\":\"CDSView\"},{\"attributes\":{\"data\":{\"counts\":[0.7911345328148878,0.532221778487753,0.20886546718511226,0.46777822151224707],\"x\":[[\"doesn't belong to the green avantgarde\",\"a\"],[\"doesn't belong to the green avantgarde\",\"c\"],[\"belongs to the green avantgarde\",\"a\"],[\"belongs to the green avantgarde\",\"c\"]]},\"selected\":{\"id\":\"9600\"},\"selection_policy\":{\"id\":\"9599\"}},\"id\":\"9217\",\"type\":\"ColumnDataSource\"},{\"attributes\":{\"data_source\":{\"id\":\"9217\"},\"glyph\":{\"id\":\"9237\"},\"hover_glyph\":null,\"muted_glyph\":null,\"nonselection_glyph\":{\"id\":\"9238\"},\"view\":{\"id\":\"9240\"}},\"id\":\"9239\",\"type\":\"GlyphRenderer\"},{\"attributes\":{\"text\":\"GREEN_AVANTGARDE [ks:0.2589 p:0.0000]\"},\"id\":\"9241\",\"type\":\"Title\"},{\"attributes\":{},\"id\":\"9594\",\"type\":\"CategoricalTickFormatter\"},{\"attributes\":{\"start\":0},\"id\":\"9221\",\"type\":\"DataRange1d\"}],\"root_ids\":[\"9219\"]},\"title\":\"Bokeh Application\",\"version\":\"2.3.1\"}};\n",
       "  var render_items = [{\"docid\":\"b11b7a8f-821e-4f29-9bb9-2544890ece7c\",\"root_ids\":[\"9219\"],\"roots\":{\"9219\":\"028a1572-b087-4561-9679-4675de27b706\"}}];\n",
       "  root.Bokeh.embed.embed_items_notebook(docs_json, render_items);\n",
       "\n",
       "  }\n",
       "  if (root.Bokeh !== undefined) {\n",
       "    embed_document(root);\n",
       "  } else {\n",
       "    var attempts = 0;\n",
       "    var timer = setInterval(function(root) {\n",
       "      if (root.Bokeh !== undefined) {\n",
       "        clearInterval(timer);\n",
       "        embed_document(root);\n",
       "      } else {\n",
       "        attempts++;\n",
       "        if (attempts > 100) {\n",
       "          clearInterval(timer);\n",
       "          console.log(\"Bokeh: ERROR: Unable to run BokehJS code because BokehJS library is missing\");\n",
       "        }\n",
       "      }\n",
       "    }, 10, root)\n",
       "  }\n",
       "})(window);"
      ],
      "application/vnd.bokehjs_exec.v0+json": ""
     },
     "metadata": {
      "application/vnd.bokehjs_exec.v0+json": {
       "id": "9219"
      }
     },
     "output_type": "display_data"
    },
    {
     "name": "stdout",
     "output_type": "stream",
     "text": [
      "==========================================================================================================================================================================================================================================\n"
     ]
    },
    {
     "data": {
      "text/html": [
       "\n",
       "\n",
       "\n",
       "\n",
       "\n",
       "\n",
       "  <div class=\"bk-root\" id=\"3caf8e91-84bc-491a-8ea9-6d993d05ee25\" data-root-id=\"9653\"></div>\n"
      ]
     },
     "metadata": {},
     "output_type": "display_data"
    },
    {
     "data": {
      "application/javascript": [
       "(function(root) {\n",
       "  function embed_document(root) {\n",
       "    \n",
       "  var docs_json = {\"f6a0208a-3783-47dd-8acb-5e912646403f\":{\"defs\":[],\"roots\":{\"references\":[{\"attributes\":{\"below\":[{\"id\":\"9661\"}],\"center\":[{\"id\":\"9663\"},{\"id\":\"9667\"}],\"height\":500,\"left\":[{\"id\":\"9664\"}],\"renderers\":[{\"id\":\"9673\"}],\"title\":{\"id\":\"9675\"},\"toolbar\":{\"id\":\"9668\"},\"toolbar_location\":null,\"width\":950,\"x_range\":{\"id\":\"9652\"},\"x_scale\":{\"id\":\"9657\"},\"y_range\":{\"id\":\"9655\"},\"y_scale\":{\"id\":\"9659\"}},\"id\":\"9653\",\"subtype\":\"Figure\",\"type\":\"Plot\"},{\"attributes\":{\"formatter\":{\"id\":\"10038\"},\"group_label_orientation\":1.5707963267948966,\"major_label_orientation\":0,\"major_label_policy\":{\"id\":\"10039\"},\"ticker\":{\"id\":\"9662\"}},\"id\":\"9661\",\"type\":\"CategoricalAxis\"},{\"attributes\":{},\"id\":\"10039\",\"type\":\"AllLabels\"},{\"attributes\":{\"axis\":{\"id\":\"9661\"},\"grid_line_color\":null,\"ticker\":null},\"id\":\"9663\",\"type\":\"Grid\"},{\"attributes\":{\"factors\":[[\"highest affinity\",\"a\"],[\"highest affinity\",\"c\"],[\"very high affinity\",\"a\"],[\"very high affinity\",\"c\"],[\"high affinity\",\"a\"],[\"high affinity\",\"c\"],[\"average affinity\",\"a\"],[\"average affinity\",\"c\"],[\"low affinity\",\"a\"],[\"low affinity\",\"c\"],[\"very low affinity\",\"a\"],[\"very low affinity\",\"c\"],[\"lowest affinity\",\"a\"],[\"lowest affinity\",\"c\"]]},\"id\":\"9652\",\"type\":\"FactorRange\"},{\"attributes\":{\"formatter\":{\"id\":\"10041\"},\"major_label_policy\":{\"id\":\"10042\"},\"ticker\":{\"id\":\"9665\"}},\"id\":\"9664\",\"type\":\"LinearAxis\"},{\"attributes\":{\"axis\":{\"id\":\"9664\"},\"dimension\":1,\"ticker\":null},\"id\":\"9667\",\"type\":\"Grid\"},{\"attributes\":{},\"id\":\"10043\",\"type\":\"UnionRenderers\"},{\"attributes\":{},\"id\":\"9662\",\"type\":\"CategoricalTicker\"},{\"attributes\":{},\"id\":\"10044\",\"type\":\"Selection\"},{\"attributes\":{},\"id\":\"9665\",\"type\":\"BasicTicker\"},{\"attributes\":{\"active_multi\":null},\"id\":\"9668\",\"type\":\"Toolbar\"},{\"attributes\":{},\"id\":\"9657\",\"type\":\"CategoricalScale\"},{\"attributes\":{\"fill_alpha\":{\"value\":0.1},\"fill_color\":{\"field\":\"x\",\"transform\":{\"id\":\"9669\"}},\"line_alpha\":{\"value\":0.1},\"line_color\":{\"value\":null},\"top\":{\"field\":\"counts\"},\"width\":{\"value\":0.9},\"x\":{\"field\":\"x\"}},\"id\":\"9672\",\"type\":\"VBar\"},{\"attributes\":{\"start\":0},\"id\":\"9655\",\"type\":\"DataRange1d\"},{\"attributes\":{},\"id\":\"10041\",\"type\":\"BasicTickFormatter\"},{\"attributes\":{\"end\":2,\"factors\":[\"a\",\"c\"],\"palette\":[\"#1f77b4\",\"#ff7f0e\"],\"start\":1},\"id\":\"9669\",\"type\":\"CategoricalColorMapper\"},{\"attributes\":{},\"id\":\"10042\",\"type\":\"AllLabels\"},{\"attributes\":{},\"id\":\"9659\",\"type\":\"LinearScale\"},{\"attributes\":{\"fill_color\":{\"field\":\"x\",\"transform\":{\"id\":\"9669\"}},\"line_color\":{\"value\":null},\"top\":{\"field\":\"counts\"},\"width\":{\"value\":0.9},\"x\":{\"field\":\"x\"}},\"id\":\"9671\",\"type\":\"VBar\"},{\"attributes\":{\"data\":{\"counts\":[0.11528659535258512,0.23443823216187434,0.15810365256199058,0.15155750798722045,0.20789636174214882,0.19205271565495208,0.207615047001018,0.3652489350372737,0.13989329112022866,0.031682641107561235,0.0804607840098794,0.011288604898828542,0.09074426821214945,0.01373136315228967],\"x\":[[\"highest affinity\",\"a\"],[\"highest affinity\",\"c\"],[\"very high affinity\",\"a\"],[\"very high affinity\",\"c\"],[\"high affinity\",\"a\"],[\"high affinity\",\"c\"],[\"average affinity\",\"a\"],[\"average affinity\",\"c\"],[\"low affinity\",\"a\"],[\"low affinity\",\"c\"],[\"very low affinity\",\"a\"],[\"very low affinity\",\"c\"],[\"lowest affinity\",\"a\"],[\"lowest affinity\",\"c\"]]},\"selected\":{\"id\":\"10044\"},\"selection_policy\":{\"id\":\"10043\"}},\"id\":\"9651\",\"type\":\"ColumnDataSource\"},{\"attributes\":{\"source\":{\"id\":\"9651\"}},\"id\":\"9674\",\"type\":\"CDSView\"},{\"attributes\":{\"data_source\":{\"id\":\"9651\"},\"glyph\":{\"id\":\"9671\"},\"hover_glyph\":null,\"muted_glyph\":null,\"nonselection_glyph\":{\"id\":\"9672\"},\"view\":{\"id\":\"9674\"}},\"id\":\"9673\",\"type\":\"GlyphRenderer\"},{\"attributes\":{},\"id\":\"10038\",\"type\":\"CategoricalTickFormatter\"},{\"attributes\":{\"text\":\"SEMIO_TRADV [ks:0.2544 p:0.0000]\"},\"id\":\"9675\",\"type\":\"Title\"}],\"root_ids\":[\"9653\"]},\"title\":\"Bokeh Application\",\"version\":\"2.3.1\"}};\n",
       "  var render_items = [{\"docid\":\"f6a0208a-3783-47dd-8acb-5e912646403f\",\"root_ids\":[\"9653\"],\"roots\":{\"9653\":\"3caf8e91-84bc-491a-8ea9-6d993d05ee25\"}}];\n",
       "  root.Bokeh.embed.embed_items_notebook(docs_json, render_items);\n",
       "\n",
       "  }\n",
       "  if (root.Bokeh !== undefined) {\n",
       "    embed_document(root);\n",
       "  } else {\n",
       "    var attempts = 0;\n",
       "    var timer = setInterval(function(root) {\n",
       "      if (root.Bokeh !== undefined) {\n",
       "        clearInterval(timer);\n",
       "        embed_document(root);\n",
       "      } else {\n",
       "        attempts++;\n",
       "        if (attempts > 100) {\n",
       "          clearInterval(timer);\n",
       "          console.log(\"Bokeh: ERROR: Unable to run BokehJS code because BokehJS library is missing\");\n",
       "        }\n",
       "      }\n",
       "    }, 10, root)\n",
       "  }\n",
       "})(window);"
      ],
      "application/vnd.bokehjs_exec.v0+json": ""
     },
     "metadata": {
      "application/vnd.bokehjs_exec.v0+json": {
       "id": "9653"
      }
     },
     "output_type": "display_data"
    },
    {
     "name": "stdout",
     "output_type": "stream",
     "text": [
      "==========================================================================================================================================================================================================================================\n"
     ]
    },
    {
     "data": {
      "text/html": [
       "\n",
       "\n",
       "\n",
       "\n",
       "\n",
       "\n",
       "  <div class=\"bk-root\" id=\"5803e78a-c089-47f2-a1b6-c2e410fbf179\" data-root-id=\"10097\"></div>\n"
      ]
     },
     "metadata": {},
     "output_type": "display_data"
    },
    {
     "data": {
      "application/javascript": [
       "(function(root) {\n",
       "  function embed_document(root) {\n",
       "    \n",
       "  var docs_json = {\"a04731b1-2700-4b69-baea-9358236b34e4\":{\"defs\":[],\"roots\":{\"references\":[{\"attributes\":{\"below\":[{\"id\":\"10105\"}],\"center\":[{\"id\":\"10107\"},{\"id\":\"10111\"}],\"height\":500,\"left\":[{\"id\":\"10108\"}],\"renderers\":[{\"id\":\"10117\"}],\"title\":{\"id\":\"10119\"},\"toolbar\":{\"id\":\"10112\"},\"toolbar_location\":null,\"width\":950,\"x_range\":{\"id\":\"10096\"},\"x_scale\":{\"id\":\"10101\"},\"y_range\":{\"id\":\"10099\"},\"y_scale\":{\"id\":\"10103\"}},\"id\":\"10097\",\"subtype\":\"Figure\",\"type\":\"Plot\"},{\"attributes\":{\"text\":\"SEMIO_KRIT [ks:0.2420 p:0.0000]\"},\"id\":\"10119\",\"type\":\"Title\"},{\"attributes\":{},\"id\":\"10492\",\"type\":\"CategoricalTickFormatter\"},{\"attributes\":{},\"id\":\"10101\",\"type\":\"CategoricalScale\"},{\"attributes\":{},\"id\":\"10493\",\"type\":\"AllLabels\"},{\"attributes\":{\"axis\":{\"id\":\"10108\"},\"dimension\":1,\"ticker\":null},\"id\":\"10111\",\"type\":\"Grid\"},{\"attributes\":{\"start\":0},\"id\":\"10099\",\"type\":\"DataRange1d\"},{\"attributes\":{},\"id\":\"10109\",\"type\":\"BasicTicker\"},{\"attributes\":{},\"id\":\"10497\",\"type\":\"UnionRenderers\"},{\"attributes\":{\"axis\":{\"id\":\"10105\"},\"grid_line_color\":null,\"ticker\":null},\"id\":\"10107\",\"type\":\"Grid\"},{\"attributes\":{},\"id\":\"10498\",\"type\":\"Selection\"},{\"attributes\":{\"active_multi\":null},\"id\":\"10112\",\"type\":\"Toolbar\"},{\"attributes\":{},\"id\":\"10106\",\"type\":\"CategoricalTicker\"},{\"attributes\":{\"fill_alpha\":{\"value\":0.1},\"fill_color\":{\"field\":\"x\",\"transform\":{\"id\":\"10113\"}},\"line_alpha\":{\"value\":0.1},\"line_color\":{\"value\":null},\"top\":{\"field\":\"counts\"},\"width\":{\"value\":0.9},\"x\":{\"field\":\"x\"}},\"id\":\"10116\",\"type\":\"VBar\"},{\"attributes\":{},\"id\":\"10103\",\"type\":\"LinearScale\"},{\"attributes\":{},\"id\":\"10495\",\"type\":\"BasicTickFormatter\"},{\"attributes\":{\"formatter\":{\"id\":\"10495\"},\"major_label_policy\":{\"id\":\"10496\"},\"ticker\":{\"id\":\"10109\"}},\"id\":\"10108\",\"type\":\"LinearAxis\"},{\"attributes\":{},\"id\":\"10496\",\"type\":\"AllLabels\"},{\"attributes\":{\"formatter\":{\"id\":\"10492\"},\"group_label_orientation\":1.5707963267948966,\"major_label_orientation\":0,\"major_label_policy\":{\"id\":\"10493\"},\"ticker\":{\"id\":\"10106\"}},\"id\":\"10105\",\"type\":\"CategoricalAxis\"},{\"attributes\":{\"end\":2,\"factors\":[\"a\",\"c\"],\"palette\":[\"#1f77b4\",\"#ff7f0e\"],\"start\":1},\"id\":\"10113\",\"type\":\"CategoricalColorMapper\"},{\"attributes\":{\"data\":{\"counts\":[0.06548554209112213,0.1161741214057508,0.0642398899534877,0.009398296059637913,0.1538648592591886,0.40004659211927585,0.1717319213558417,0.08359957401490947,0.18626254294221842,0.1296126198083067,0.15850297645300257,0.10852635782747604,0.19991226794513886,0.15264243876464323],\"x\":[[\"highest affinity\",\"a\"],[\"highest affinity\",\"c\"],[\"very high affinity\",\"a\"],[\"very high affinity\",\"c\"],[\"high affinity\",\"a\"],[\"high affinity\",\"c\"],[\"average affinity\",\"a\"],[\"average affinity\",\"c\"],[\"low affinity\",\"a\"],[\"low affinity\",\"c\"],[\"very low affinity\",\"a\"],[\"very low affinity\",\"c\"],[\"lowest affinity\",\"a\"],[\"lowest affinity\",\"c\"]]},\"selected\":{\"id\":\"10498\"},\"selection_policy\":{\"id\":\"10497\"}},\"id\":\"10095\",\"type\":\"ColumnDataSource\"},{\"attributes\":{\"fill_color\":{\"field\":\"x\",\"transform\":{\"id\":\"10113\"}},\"line_color\":{\"value\":null},\"top\":{\"field\":\"counts\"},\"width\":{\"value\":0.9},\"x\":{\"field\":\"x\"}},\"id\":\"10115\",\"type\":\"VBar\"},{\"attributes\":{\"source\":{\"id\":\"10095\"}},\"id\":\"10118\",\"type\":\"CDSView\"},{\"attributes\":{\"factors\":[[\"highest affinity\",\"a\"],[\"highest affinity\",\"c\"],[\"very high affinity\",\"a\"],[\"very high affinity\",\"c\"],[\"high affinity\",\"a\"],[\"high affinity\",\"c\"],[\"average affinity\",\"a\"],[\"average affinity\",\"c\"],[\"low affinity\",\"a\"],[\"low affinity\",\"c\"],[\"very low affinity\",\"a\"],[\"very low affinity\",\"c\"],[\"lowest affinity\",\"a\"],[\"lowest affinity\",\"c\"]]},\"id\":\"10096\",\"type\":\"FactorRange\"},{\"attributes\":{\"data_source\":{\"id\":\"10095\"},\"glyph\":{\"id\":\"10115\"},\"hover_glyph\":null,\"muted_glyph\":null,\"nonselection_glyph\":{\"id\":\"10116\"},\"view\":{\"id\":\"10118\"}},\"id\":\"10117\",\"type\":\"GlyphRenderer\"}],\"root_ids\":[\"10097\"]},\"title\":\"Bokeh Application\",\"version\":\"2.3.1\"}};\n",
       "  var render_items = [{\"docid\":\"a04731b1-2700-4b69-baea-9358236b34e4\",\"root_ids\":[\"10097\"],\"roots\":{\"10097\":\"5803e78a-c089-47f2-a1b6-c2e410fbf179\"}}];\n",
       "  root.Bokeh.embed.embed_items_notebook(docs_json, render_items);\n",
       "\n",
       "  }\n",
       "  if (root.Bokeh !== undefined) {\n",
       "    embed_document(root);\n",
       "  } else {\n",
       "    var attempts = 0;\n",
       "    var timer = setInterval(function(root) {\n",
       "      if (root.Bokeh !== undefined) {\n",
       "        clearInterval(timer);\n",
       "        embed_document(root);\n",
       "      } else {\n",
       "        attempts++;\n",
       "        if (attempts > 100) {\n",
       "          clearInterval(timer);\n",
       "          console.log(\"Bokeh: ERROR: Unable to run BokehJS code because BokehJS library is missing\");\n",
       "        }\n",
       "      }\n",
       "    }, 10, root)\n",
       "  }\n",
       "})(window);"
      ],
      "application/vnd.bokehjs_exec.v0+json": ""
     },
     "metadata": {
      "application/vnd.bokehjs_exec.v0+json": {
       "id": "10097"
      }
     },
     "output_type": "display_data"
    },
    {
     "name": "stdout",
     "output_type": "stream",
     "text": [
      "==========================================================================================================================================================================================================================================\n"
     ]
    },
    {
     "data": {
      "text/html": [
       "\n",
       "\n",
       "\n",
       "\n",
       "\n",
       "\n",
       "  <div class=\"bk-root\" id=\"e6575c99-3380-482d-83b8-9e7501b8949d\" data-root-id=\"10551\"></div>\n"
      ]
     },
     "metadata": {},
     "output_type": "display_data"
    },
    {
     "data": {
      "application/javascript": [
       "(function(root) {\n",
       "  function embed_document(root) {\n",
       "    \n",
       "  var docs_json = {\"1173318d-8be1-4877-9e7d-92cd1a6bcd3b\":{\"defs\":[],\"roots\":{\"references\":[{\"attributes\":{\"below\":[{\"id\":\"10559\"}],\"center\":[{\"id\":\"10561\"},{\"id\":\"10565\"}],\"height\":500,\"left\":[{\"id\":\"10562\"}],\"renderers\":[{\"id\":\"10571\"}],\"title\":{\"id\":\"10573\"},\"toolbar\":{\"id\":\"10566\"},\"toolbar_location\":null,\"width\":950,\"x_range\":{\"id\":\"10550\"},\"x_scale\":{\"id\":\"10555\"},\"y_range\":{\"id\":\"10553\"},\"y_scale\":{\"id\":\"10557\"}},\"id\":\"10551\",\"subtype\":\"Figure\",\"type\":\"Plot\"},{\"attributes\":{\"text\":\"ALTER_HH [ks:0.2395 p:0.0000]\"},\"id\":\"10573\",\"type\":\"Title\"},{\"attributes\":{\"formatter\":{\"id\":\"10956\"},\"group_label_orientation\":1.5707963267948966,\"major_label_orientation\":0,\"major_label_policy\":{\"id\":\"10957\"},\"ticker\":{\"id\":\"10560\"}},\"id\":\"10559\",\"type\":\"CategoricalAxis\"},{\"attributes\":{\"axis\":{\"id\":\"10559\"},\"grid_line_color\":null,\"ticker\":null},\"id\":\"10561\",\"type\":\"Grid\"},{\"attributes\":{\"factors\":[[\"01.01.1895 bis 31.12.1899\",\"a\"],[\"01.01.1895 bis 31.12.1899\",\"c\"],[\"01.01.1900 bis 31.12.1904\",\"a\"],[\"01.01.1900 bis 31.12.1904\",\"c\"],[\"01.01.1905 bis 31.12.1909\",\"a\"],[\"01.01.1905 bis 31.12.1909\",\"c\"],[\"01.01.1910 bis 31.12.1914\",\"a\"],[\"01.01.1910 bis 31.12.1914\",\"c\"],[\"01.01.1915 bis 31.12.1919\",\"a\"],[\"01.01.1915 bis 31.12.1919\",\"c\"],[\"01.01.1920 bis 31.12.1924\",\"a\"],[\"01.01.1920 bis 31.12.1924\",\"c\"],[\"01.01.1925 bis 31.12.1929\",\"a\"],[\"01.01.1925 bis 31.12.1929\",\"c\"],[\"01.01.1930 bis 31.12.1934\",\"a\"],[\"01.01.1930 bis 31.12.1934\",\"c\"],[\"01.01.1935 bis 31.12.1939\",\"a\"],[\"01.01.1935 bis 31.12.1939\",\"c\"],[\"01.01.1940 bis 31.12.1944\",\"a\"],[\"01.01.1940 bis 31.12.1944\",\"c\"],[\"01.01.1945 bis 31.12.1949\",\"a\"],[\"01.01.1945 bis 31.12.1949\",\"c\"],[\"01.01.1950 bis 31.12.1954\",\"a\"],[\"01.01.1950 bis 31.12.1954\",\"c\"],[\"01.01.1955 bis 31.12.1959\",\"a\"],[\"01.01.1955 bis 31.12.1959\",\"c\"],[\"01.01.1960 bis 31.12.1964\",\"a\"],[\"01.01.1960 bis 31.12.1964\",\"c\"],[\"01.01.1965 bis 31.12.1969\",\"a\"],[\"01.01.1965 bis 31.12.1969\",\"c\"],[\"01.01.1970 bis 31.12.1974\",\"a\"],[\"01.01.1970 bis 31.12.1974\",\"c\"],[\"01.01.1975 bis 31.12.1979\",\"a\"],[\"01.01.1975 bis 31.12.1979\",\"c\"],[\"01.01.1980 bis 31.12.1984\",\"a\"],[\"01.01.1980 bis 31.12.1984\",\"c\"],[\"01.01.1985 bis 31.12.1989\",\"a\"],[\"01.01.1985 bis 31.12.1989\",\"c\"],[\"01.01.1990 bis 31.12.1994\",\"a\"],[\"01.01.1990 bis 31.12.1994\",\"c\"],[\"01.01.1995 bis 31.12.1999\",\"a\"],[\"01.01.1995 bis 31.12.1999\",\"c\"]]},\"id\":\"10550\",\"type\":\"FactorRange\"},{\"attributes\":{},\"id\":\"10956\",\"type\":\"CategoricalTickFormatter\"},{\"attributes\":{\"formatter\":{\"id\":\"10959\"},\"major_label_policy\":{\"id\":\"10960\"},\"ticker\":{\"id\":\"10563\"}},\"id\":\"10562\",\"type\":\"LinearAxis\"},{\"attributes\":{},\"id\":\"10957\",\"type\":\"AllLabels\"},{\"attributes\":{\"axis\":{\"id\":\"10562\"},\"dimension\":1,\"ticker\":null},\"id\":\"10565\",\"type\":\"Grid\"},{\"attributes\":{},\"id\":\"10560\",\"type\":\"CategoricalTicker\"},{\"attributes\":{},\"id\":\"10563\",\"type\":\"BasicTicker\"},{\"attributes\":{\"active_multi\":null},\"id\":\"10566\",\"type\":\"Toolbar\"},{\"attributes\":{},\"id\":\"10555\",\"type\":\"CategoricalScale\"},{\"attributes\":{},\"id\":\"10961\",\"type\":\"UnionRenderers\"},{\"attributes\":{\"fill_alpha\":{\"value\":0.1},\"fill_color\":{\"field\":\"x\",\"transform\":{\"id\":\"10567\"}},\"line_alpha\":{\"value\":0.1},\"line_color\":{\"value\":null},\"top\":{\"field\":\"counts\"},\"width\":{\"value\":0.9},\"x\":{\"field\":\"x\"}},\"id\":\"10570\",\"type\":\"VBar\"},{\"attributes\":{},\"id\":\"10962\",\"type\":\"Selection\"},{\"attributes\":{\"start\":0},\"id\":\"10553\",\"type\":\"DataRange1d\"},{\"attributes\":{\"end\":2,\"factors\":[\"a\",\"c\"],\"palette\":[\"#1f77b4\",\"#ff7f0e\"],\"start\":1},\"id\":\"10567\",\"type\":\"CategoricalColorMapper\"},{\"attributes\":{},\"id\":\"10557\",\"type\":\"LinearScale\"},{\"attributes\":{\"fill_color\":{\"field\":\"x\",\"transform\":{\"id\":\"10567\"}},\"line_color\":{\"value\":null},\"top\":{\"field\":\"counts\"},\"width\":{\"value\":0.9},\"x\":{\"field\":\"x\"}},\"id\":\"10569\",\"type\":\"VBar\"},{\"attributes\":{},\"id\":\"10959\",\"type\":\"BasicTickFormatter\"},{\"attributes\":{},\"id\":\"10960\",\"type\":\"AllLabels\"},{\"attributes\":{\"data\":{\"counts\":[1.7213126041394126e-06,0.0,8.09016923945524e-05,0.0001058950986860862,0.0003442625208278825,0.00012218665233009946,0.0010379515002960657,0.0004235803947443448,0.001772951982263595,0.0018572371154175118,0.0065564797091670225,0.015028958236602233,0.014491730814249714,0.04314817982616912,0.02317403158952891,0.0659726464814317,0.03927518968864897,0.10560999649731596,0.05235716548010851,0.11788568216807996,0.04806593315798895,0.07331199139805968,0.0601134000743607,0.06333341479110155,0.06474200966689159,0.050177985223560845,0.07621111554827249,0.050389775420933015,0.0892793208388989,0.06295870905728924,0.08926210771285752,0.06518250612969706,0.0958168661094204,0.05961894056026653,0.10474531458709153,0.052475094287366714,0.09104022363293353,0.04990102881161262,0.07000750492295404,0.053330400853677414,0.07162381745824095,0.0691657909956583],\"x\":[[\"01.01.1895 bis 31.12.1899\",\"a\"],[\"01.01.1895 bis 31.12.1899\",\"c\"],[\"01.01.1900 bis 31.12.1904\",\"a\"],[\"01.01.1900 bis 31.12.1904\",\"c\"],[\"01.01.1905 bis 31.12.1909\",\"a\"],[\"01.01.1905 bis 31.12.1909\",\"c\"],[\"01.01.1910 bis 31.12.1914\",\"a\"],[\"01.01.1910 bis 31.12.1914\",\"c\"],[\"01.01.1915 bis 31.12.1919\",\"a\"],[\"01.01.1915 bis 31.12.1919\",\"c\"],[\"01.01.1920 bis 31.12.1924\",\"a\"],[\"01.01.1920 bis 31.12.1924\",\"c\"],[\"01.01.1925 bis 31.12.1929\",\"a\"],[\"01.01.1925 bis 31.12.1929\",\"c\"],[\"01.01.1930 bis 31.12.1934\",\"a\"],[\"01.01.1930 bis 31.12.1934\",\"c\"],[\"01.01.1935 bis 31.12.1939\",\"a\"],[\"01.01.1935 bis 31.12.1939\",\"c\"],[\"01.01.1940 bis 31.12.1944\",\"a\"],[\"01.01.1940 bis 31.12.1944\",\"c\"],[\"01.01.1945 bis 31.12.1949\",\"a\"],[\"01.01.1945 bis 31.12.1949\",\"c\"],[\"01.01.1950 bis 31.12.1954\",\"a\"],[\"01.01.1950 bis 31.12.1954\",\"c\"],[\"01.01.1955 bis 31.12.1959\",\"a\"],[\"01.01.1955 bis 31.12.1959\",\"c\"],[\"01.01.1960 bis 31.12.1964\",\"a\"],[\"01.01.1960 bis 31.12.1964\",\"c\"],[\"01.01.1965 bis 31.12.1969\",\"a\"],[\"01.01.1965 bis 31.12.1969\",\"c\"],[\"01.01.1970 bis 31.12.1974\",\"a\"],[\"01.01.1970 bis 31.12.1974\",\"c\"],[\"01.01.1975 bis 31.12.1979\",\"a\"],[\"01.01.1975 bis 31.12.1979\",\"c\"],[\"01.01.1980 bis 31.12.1984\",\"a\"],[\"01.01.1980 bis 31.12.1984\",\"c\"],[\"01.01.1985 bis 31.12.1989\",\"a\"],[\"01.01.1985 bis 31.12.1989\",\"c\"],[\"01.01.1990 bis 31.12.1994\",\"a\"],[\"01.01.1990 bis 31.12.1994\",\"c\"],[\"01.01.1995 bis 31.12.1999\",\"a\"],[\"01.01.1995 bis 31.12.1999\",\"c\"]]},\"selected\":{\"id\":\"10962\"},\"selection_policy\":{\"id\":\"10961\"}},\"id\":\"10549\",\"type\":\"ColumnDataSource\"},{\"attributes\":{\"source\":{\"id\":\"10549\"}},\"id\":\"10572\",\"type\":\"CDSView\"},{\"attributes\":{\"data_source\":{\"id\":\"10549\"},\"glyph\":{\"id\":\"10569\"},\"hover_glyph\":null,\"muted_glyph\":null,\"nonselection_glyph\":{\"id\":\"10570\"},\"view\":{\"id\":\"10572\"}},\"id\":\"10571\",\"type\":\"GlyphRenderer\"}],\"root_ids\":[\"10551\"]},\"title\":\"Bokeh Application\",\"version\":\"2.3.1\"}};\n",
       "  var render_items = [{\"docid\":\"1173318d-8be1-4877-9e7d-92cd1a6bcd3b\",\"root_ids\":[\"10551\"],\"roots\":{\"10551\":\"e6575c99-3380-482d-83b8-9e7501b8949d\"}}];\n",
       "  root.Bokeh.embed.embed_items_notebook(docs_json, render_items);\n",
       "\n",
       "  }\n",
       "  if (root.Bokeh !== undefined) {\n",
       "    embed_document(root);\n",
       "  } else {\n",
       "    var attempts = 0;\n",
       "    var timer = setInterval(function(root) {\n",
       "      if (root.Bokeh !== undefined) {\n",
       "        clearInterval(timer);\n",
       "        embed_document(root);\n",
       "      } else {\n",
       "        attempts++;\n",
       "        if (attempts > 100) {\n",
       "          clearInterval(timer);\n",
       "          console.log(\"Bokeh: ERROR: Unable to run BokehJS code because BokehJS library is missing\");\n",
       "        }\n",
       "      }\n",
       "    }, 10, root)\n",
       "  }\n",
       "})(window);"
      ],
      "application/vnd.bokehjs_exec.v0+json": ""
     },
     "metadata": {
      "application/vnd.bokehjs_exec.v0+json": {
       "id": "10551"
      }
     },
     "output_type": "display_data"
    },
    {
     "name": "stdout",
     "output_type": "stream",
     "text": [
      "==========================================================================================================================================================================================================================================\n"
     ]
    },
    {
     "data": {
      "text/html": [
       "\n",
       "\n",
       "\n",
       "\n",
       "\n",
       "\n",
       "  <div class=\"bk-root\" id=\"27bd94d7-00fd-4924-b103-b6429affe139\" data-root-id=\"11015\"></div>\n"
      ]
     },
     "metadata": {},
     "output_type": "display_data"
    },
    {
     "data": {
      "application/javascript": [
       "(function(root) {\n",
       "  function embed_document(root) {\n",
       "    \n",
       "  var docs_json = {\"17ee1d1d-f223-4eac-a99c-c9777ce9aa50\":{\"defs\":[],\"roots\":{\"references\":[{\"attributes\":{\"below\":[{\"id\":\"11023\"}],\"center\":[{\"id\":\"11025\"},{\"id\":\"11029\"}],\"height\":500,\"left\":[{\"id\":\"11026\"}],\"renderers\":[{\"id\":\"11035\"}],\"title\":{\"id\":\"11037\"},\"toolbar\":{\"id\":\"11030\"},\"toolbar_location\":null,\"width\":950,\"x_range\":{\"id\":\"11014\"},\"x_scale\":{\"id\":\"11019\"},\"y_range\":{\"id\":\"11017\"},\"y_scale\":{\"id\":\"11021\"}},\"id\":\"11015\",\"subtype\":\"Figure\",\"type\":\"Plot\"},{\"attributes\":{\"source\":{\"id\":\"11013\"}},\"id\":\"11036\",\"type\":\"CDSView\"},{\"attributes\":{\"data_source\":{\"id\":\"11013\"},\"glyph\":{\"id\":\"11033\"},\"hover_glyph\":null,\"muted_glyph\":null,\"nonselection_glyph\":{\"id\":\"11034\"},\"view\":{\"id\":\"11036\"}},\"id\":\"11035\",\"type\":\"GlyphRenderer\"},{\"attributes\":{\"formatter\":{\"id\":\"11430\"},\"group_label_orientation\":1.5707963267948966,\"major_label_orientation\":0,\"major_label_policy\":{\"id\":\"11431\"},\"ticker\":{\"id\":\"11024\"}},\"id\":\"11023\",\"type\":\"CategoricalAxis\"},{\"attributes\":{\"text\":\"KBA05_ANTG1 [ks:0.2374 p:0.0000]\"},\"id\":\"11037\",\"type\":\"Title\"},{\"attributes\":{},\"id\":\"11430\",\"type\":\"CategoricalTickFormatter\"},{\"attributes\":{\"axis\":{\"id\":\"11026\"},\"dimension\":1,\"ticker\":null},\"id\":\"11029\",\"type\":\"Grid\"},{\"attributes\":{},\"id\":\"11027\",\"type\":\"BasicTicker\"},{\"attributes\":{},\"id\":\"11431\",\"type\":\"AllLabels\"},{\"attributes\":{\"formatter\":{\"id\":\"11433\"},\"major_label_policy\":{\"id\":\"11434\"},\"ticker\":{\"id\":\"11027\"}},\"id\":\"11026\",\"type\":\"LinearAxis\"},{\"attributes\":{\"axis\":{\"id\":\"11023\"},\"grid_line_color\":null,\"ticker\":null},\"id\":\"11025\",\"type\":\"Grid\"},{\"attributes\":{\"active_multi\":null},\"id\":\"11030\",\"type\":\"Toolbar\"},{\"attributes\":{\"start\":0},\"id\":\"11017\",\"type\":\"DataRange1d\"},{\"attributes\":{},\"id\":\"11024\",\"type\":\"CategoricalTicker\"},{\"attributes\":{},\"id\":\"11435\",\"type\":\"UnionRenderers\"},{\"attributes\":{},\"id\":\"11436\",\"type\":\"Selection\"},{\"attributes\":{\"data\":{\"counts\":[0.34433806013975865,0.1655658950195925,0.21273796248028665,0.15407605286655696,0.16723920631883177,0.21220417530680166,0.15541185242861952,0.24402447033820132,0.12027291863250344,0.22412940646884755],\"x\":[[\"no 1-2 family homes\",\"a\"],[\"no 1-2 family homes\",\"c\"],[\"lower share of 1-2 family homes\",\"a\"],[\"lower share of 1-2 family homes\",\"c\"],[\"average share of 1-2 family homes\",\"a\"],[\"average share of 1-2 family homes\",\"c\"],[\"high share of 1-2 family homes\",\"a\"],[\"high share of 1-2 family homes\",\"c\"],[\"very high share of 1-2 family homes\",\"a\"],[\"very high share of 1-2 family homes\",\"c\"]]},\"selected\":{\"id\":\"11436\"},\"selection_policy\":{\"id\":\"11435\"}},\"id\":\"11013\",\"type\":\"ColumnDataSource\"},{\"attributes\":{\"fill_alpha\":{\"value\":0.1},\"fill_color\":{\"field\":\"x\",\"transform\":{\"id\":\"11031\"}},\"line_alpha\":{\"value\":0.1},\"line_color\":{\"value\":null},\"top\":{\"field\":\"counts\"},\"width\":{\"value\":0.9},\"x\":{\"field\":\"x\"}},\"id\":\"11034\",\"type\":\"VBar\"},{\"attributes\":{},\"id\":\"11021\",\"type\":\"LinearScale\"},{\"attributes\":{},\"id\":\"11019\",\"type\":\"CategoricalScale\"},{\"attributes\":{\"fill_color\":{\"field\":\"x\",\"transform\":{\"id\":\"11031\"}},\"line_color\":{\"value\":null},\"top\":{\"field\":\"counts\"},\"width\":{\"value\":0.9},\"x\":{\"field\":\"x\"}},\"id\":\"11033\",\"type\":\"VBar\"},{\"attributes\":{\"end\":2,\"factors\":[\"a\",\"c\"],\"palette\":[\"#1f77b4\",\"#ff7f0e\"],\"start\":1},\"id\":\"11031\",\"type\":\"CategoricalColorMapper\"},{\"attributes\":{},\"id\":\"11433\",\"type\":\"BasicTickFormatter\"},{\"attributes\":{},\"id\":\"11434\",\"type\":\"AllLabels\"},{\"attributes\":{\"factors\":[[\"no 1-2 family homes\",\"a\"],[\"no 1-2 family homes\",\"c\"],[\"lower share of 1-2 family homes\",\"a\"],[\"lower share of 1-2 family homes\",\"c\"],[\"average share of 1-2 family homes\",\"a\"],[\"average share of 1-2 family homes\",\"c\"],[\"high share of 1-2 family homes\",\"a\"],[\"high share of 1-2 family homes\",\"c\"],[\"very high share of 1-2 family homes\",\"a\"],[\"very high share of 1-2 family homes\",\"c\"]]},\"id\":\"11014\",\"type\":\"FactorRange\"}],\"root_ids\":[\"11015\"]},\"title\":\"Bokeh Application\",\"version\":\"2.3.1\"}};\n",
       "  var render_items = [{\"docid\":\"17ee1d1d-f223-4eac-a99c-c9777ce9aa50\",\"root_ids\":[\"11015\"],\"roots\":{\"11015\":\"27bd94d7-00fd-4924-b103-b6429affe139\"}}];\n",
       "  root.Bokeh.embed.embed_items_notebook(docs_json, render_items);\n",
       "\n",
       "  }\n",
       "  if (root.Bokeh !== undefined) {\n",
       "    embed_document(root);\n",
       "  } else {\n",
       "    var attempts = 0;\n",
       "    var timer = setInterval(function(root) {\n",
       "      if (root.Bokeh !== undefined) {\n",
       "        clearInterval(timer);\n",
       "        embed_document(root);\n",
       "      } else {\n",
       "        attempts++;\n",
       "        if (attempts > 100) {\n",
       "          clearInterval(timer);\n",
       "          console.log(\"Bokeh: ERROR: Unable to run BokehJS code because BokehJS library is missing\");\n",
       "        }\n",
       "      }\n",
       "    }, 10, root)\n",
       "  }\n",
       "})(window);"
      ],
      "application/vnd.bokehjs_exec.v0+json": ""
     },
     "metadata": {
      "application/vnd.bokehjs_exec.v0+json": {
       "id": "11015"
      }
     },
     "output_type": "display_data"
    },
    {
     "name": "stdout",
     "output_type": "stream",
     "text": [
      "==========================================================================================================================================================================================================================================\n"
     ]
    },
    {
     "data": {
      "text/html": [
       "\n",
       "\n",
       "\n",
       "\n",
       "\n",
       "\n",
       "  <div class=\"bk-root\" id=\"9c9828e6-4190-4e64-beee-cd4536d29102\" data-root-id=\"11489\"></div>\n"
      ]
     },
     "metadata": {},
     "output_type": "display_data"
    },
    {
     "data": {
      "application/javascript": [
       "(function(root) {\n",
       "  function embed_document(root) {\n",
       "    \n",
       "  var docs_json = {\"843faf2d-25e5-4d15-a3e4-3cc699eb3d52\":{\"defs\":[],\"roots\":{\"references\":[{\"attributes\":{\"below\":[{\"id\":\"11497\"}],\"center\":[{\"id\":\"11499\"},{\"id\":\"11503\"}],\"height\":500,\"left\":[{\"id\":\"11500\"}],\"renderers\":[{\"id\":\"11509\"}],\"title\":{\"id\":\"11511\"},\"toolbar\":{\"id\":\"11504\"},\"toolbar_location\":null,\"width\":950,\"x_range\":{\"id\":\"11488\"},\"x_scale\":{\"id\":\"11493\"},\"y_range\":{\"id\":\"11491\"},\"y_scale\":{\"id\":\"11495\"}},\"id\":\"11489\",\"subtype\":\"Figure\",\"type\":\"Plot\"},{\"attributes\":{\"data\":{\"counts\":[0.4053030212726393,0.34434904153354634,4.7680464598447044e-06,1.9968051118210863e-05,1.1920116149611761e-06,6.6560170394036205e-06,5.960058074805881e-06,0.0,9.536092919689409e-06,0.0,8.344081304728233e-06,0.0,4.7680464598447044e-06,0.0,8.344081304728233e-06,6.6560170394036205e-06,8.344081304728233e-06,6.6560170394036205e-06,4.887247621340822e-05,3.9936102236421726e-05,3.5760348448835286e-05,6.656017039403621e-05,3.337632521891293e-05,4.6592119275825345e-05,4.648845298348587e-05,4.6592119275825345e-05,6.556063882286469e-05,8.652822151224707e-05,4.4104429753563516e-05,6.656017039403621e-05,5.3640522673252926e-05,0.00012646432374866878,6.556063882286469e-05,0.00017971246006389776,0.00010132098727169998,0.0002795527156549521,0.00023125025330246818,0.0004792332268370607,0.00028369876436075994,0.0009518104366347177,0.00042316412331121754,0.0015042598509052182,0.0004470043556104411,0.0016107561235356763,0.0005578614358018305,0.002635782747603834,0.0007187830038215893,0.0033812566560170393,0.0008677844556917362,0.004266506922257721,0.0010310900469414175,0.005318157614483493,0.001217043858875361,0.006163471778487753,0.0014065737056541878,0.007321618743343983,0.0015198148090754997,0.0077209797657082,0.0019370188743119113,0.009078807241746539,0.0018297378289654053,0.008978966986155485,0.0020216516989741548,0.009810969116080938,0.00221952562705771,0.010030617678381256,0.0030110213393919312,0.012846112886048987,0.003517626275750431,0.014769701810436634,0.0036642437043906554,0.016240681576144837,0.004015887130804203,0.017312300319488817,0.004603548856980062,0.018443823216187434,0.00503744108482593,0.02042066027689031,0.0054367649758379245,0.020500532481363153,0.007432192419282934,0.023495740149094783,0.006224684653327262,0.018630191693290735,0.00648692720861872,0.019122736954206604,0.006546527789366779,0.017438764643237487,0.004902743772335317,0.012133919062832801,0.005731191844733335,0.014403620873269435,0.006526263591912439,0.014177316293929713,0.00695300375006854,0.015082534611288605,0.00793522132079655,0.015634984025559105,0.008428714129390476,0.014836261980830672,0.008143823353414755,0.014064164004259852,0.008470434535914118,0.013891107561235357,0.008458514419764506,0.013571618743343982,0.00897942349550254,0.014177316293929713,0.009331066921916088,0.012992545260915868,0.009582581372672896,0.01266640042598509,0.009654102069570566,0.012393503727369541,0.009921112671321869,0.011940894568690096,0.010844921672916782,0.013045793397231097,0.011314574249211484,0.012287007454739084,0.01177707475581642,0.012293663471778488,0.012017861102038578,0.012593184238551651,0.012531618108086845,0.011628061767838125,0.012872533429965742,0.01119542066027689,0.013219408809919444,0.010709531416400426,0.013032262986370538,0.009970713525026624,0.013330265890110833,0.009518104366347178,0.012864189348661013,0.00856629392971246,0.012349240330997786,0.00805378061767838,0.012972662405622481,0.008686102236421725,0.01166502566401007,0.005903887113951012,0.010760288848254538,0.005125133120340788,0.009960449054615588,0.00402689030883919,0.010341892771403165,0.003920394036208733,0.010108258494870775,0.0038538338658146965,0.010734064592725391,0.0031682641107561235,0.011080939972679093,0.003174920127795527,0.011334838446665824,0.0028354632587859426,0.011231133436164203,0.0027689030883919063,0.012247919343726085,0.0024693823216187434,0.011173916878646066,0.002143237486687966,0.011343182527970553,0.0018903088391906283,0.010593407222159974,0.001424387646432375,0.01019527534276294,0.00154419595314164,0.009750655010382421,0.0014643237486687967,0.009764959149761955,0.001071618743343983,0.009258354213403456,0.0008120340788072418,0.009298882608312135,0.0007920660276890309,0.008643276220083488,0.000718849840255591,0.008162895539254134,0.0006256656017039403,0.006843338681492113,0.0007388178913738019,0.006198460397798116,0.000579073482428115,0.005524973835345052,0.0005391373801916933,0.005064857351970037,0.00043264110756123536,0.004778774564379355,0.0004459531416400426,0.00482407100574788,0.0002995207667731629,0.004799038761833695,0.0003461128860489883,0.0009893696404177762,0.0002196485623003195,0.0008868566415311151,0.0001597444089456869,0.0008975847460657657,0.00013977635782747605,0.0008916246879909598,9.984025559105431e-05,0.0009321530828996398,9.984025559105431e-05,0.0008427522117775515,9.984025559105431e-05,0.0008093758865586387,3.328008519701811e-05,0.0007056708760570162,5.3248136315228964e-05,0.0006794466205278704,1.9968051118210863e-05,0.0006758705856829869,3.328008519701811e-05,0.0006556063882286469,3.9936102236421726e-05,0.0006663344927632975,1.3312034078807241e-05,0.000649646330153841,1.3312034078807241e-05,0.0005781256332561705,2.6624068157614482e-05,0.000960761361658708,0.00045260915867944624,0.00045296441368524696,0.0002595846645367412,0.00014780944025518584,0.00012646432374866878,0.00030634698504502226,0.00033280085197018105,0.00019906593969851643,4.6592119275825345e-05,0.0007068628876719774,0.0002995207667731629],\"x\":[[\"0\",\"a\"],[\"0\",\"c\"],[\"1900\",\"a\"],[\"1900\",\"c\"],[\"1902\",\"a\"],[\"1902\",\"c\"],[\"1904\",\"a\"],[\"1904\",\"c\"],[\"1905\",\"a\"],[\"1905\",\"c\"],[\"1906\",\"a\"],[\"1906\",\"c\"],[\"1907\",\"a\"],[\"1907\",\"c\"],[\"1908\",\"a\"],[\"1908\",\"c\"],[\"1909\",\"a\"],[\"1909\",\"c\"],[\"1910\",\"a\"],[\"1910\",\"c\"],[\"1911\",\"a\"],[\"1911\",\"c\"],[\"1912\",\"a\"],[\"1912\",\"c\"],[\"1913\",\"a\"],[\"1913\",\"c\"],[\"1914\",\"a\"],[\"1914\",\"c\"],[\"1915\",\"a\"],[\"1915\",\"c\"],[\"1916\",\"a\"],[\"1916\",\"c\"],[\"1917\",\"a\"],[\"1917\",\"c\"],[\"1918\",\"a\"],[\"1918\",\"c\"],[\"1919\",\"a\"],[\"1919\",\"c\"],[\"1920\",\"a\"],[\"1920\",\"c\"],[\"1921\",\"a\"],[\"1921\",\"c\"],[\"1922\",\"a\"],[\"1922\",\"c\"],[\"1923\",\"a\"],[\"1923\",\"c\"],[\"1924\",\"a\"],[\"1924\",\"c\"],[\"1925\",\"a\"],[\"1925\",\"c\"],[\"1926\",\"a\"],[\"1926\",\"c\"],[\"1927\",\"a\"],[\"1927\",\"c\"],[\"1928\",\"a\"],[\"1928\",\"c\"],[\"1929\",\"a\"],[\"1929\",\"c\"],[\"1930\",\"a\"],[\"1930\",\"c\"],[\"1931\",\"a\"],[\"1931\",\"c\"],[\"1932\",\"a\"],[\"1932\",\"c\"],[\"1933\",\"a\"],[\"1933\",\"c\"],[\"1934\",\"a\"],[\"1934\",\"c\"],[\"1935\",\"a\"],[\"1935\",\"c\"],[\"1936\",\"a\"],[\"1936\",\"c\"],[\"1937\",\"a\"],[\"1937\",\"c\"],[\"1938\",\"a\"],[\"1938\",\"c\"],[\"1939\",\"a\"],[\"1939\",\"c\"],[\"1940\",\"a\"],[\"1940\",\"c\"],[\"1941\",\"a\"],[\"1941\",\"c\"],[\"1942\",\"a\"],[\"1942\",\"c\"],[\"1943\",\"a\"],[\"1943\",\"c\"],[\"1944\",\"a\"],[\"1944\",\"c\"],[\"1945\",\"a\"],[\"1945\",\"c\"],[\"1946\",\"a\"],[\"1946\",\"c\"],[\"1947\",\"a\"],[\"1947\",\"c\"],[\"1948\",\"a\"],[\"1948\",\"c\"],[\"1949\",\"a\"],[\"1949\",\"c\"],[\"1950\",\"a\"],[\"1950\",\"c\"],[\"1951\",\"a\"],[\"1951\",\"c\"],[\"1952\",\"a\"],[\"1952\",\"c\"],[\"1953\",\"a\"],[\"1953\",\"c\"],[\"1954\",\"a\"],[\"1954\",\"c\"],[\"1955\",\"a\"],[\"1955\",\"c\"],[\"1956\",\"a\"],[\"1956\",\"c\"],[\"1957\",\"a\"],[\"1957\",\"c\"],[\"1958\",\"a\"],[\"1958\",\"c\"],[\"1959\",\"a\"],[\"1959\",\"c\"],[\"1960\",\"a\"],[\"1960\",\"c\"],[\"1961\",\"a\"],[\"1961\",\"c\"],[\"1962\",\"a\"],[\"1962\",\"c\"],[\"1963\",\"a\"],[\"1963\",\"c\"],[\"1964\",\"a\"],[\"1964\",\"c\"],[\"1965\",\"a\"],[\"1965\",\"c\"],[\"1966\",\"a\"],[\"1966\",\"c\"],[\"1967\",\"a\"],[\"1967\",\"c\"],[\"1968\",\"a\"],[\"1968\",\"c\"],[\"1969\",\"a\"],[\"1969\",\"c\"],[\"1970\",\"a\"],[\"1970\",\"c\"],[\"1971\",\"a\"],[\"1971\",\"c\"],[\"1972\",\"a\"],[\"1972\",\"c\"],[\"1973\",\"a\"],[\"1973\",\"c\"],[\"1974\",\"a\"],[\"1974\",\"c\"],[\"1975\",\"a\"],[\"1975\",\"c\"],[\"1976\",\"a\"],[\"1976\",\"c\"],[\"1977\",\"a\"],[\"1977\",\"c\"],[\"1978\",\"a\"],[\"1978\",\"c\"],[\"1979\",\"a\"],[\"1979\",\"c\"],[\"1980\",\"a\"],[\"1980\",\"c\"],[\"1981\",\"a\"],[\"1981\",\"c\"],[\"1982\",\"a\"],[\"1982\",\"c\"],[\"1983\",\"a\"],[\"1983\",\"c\"],[\"1984\",\"a\"],[\"1984\",\"c\"],[\"1985\",\"a\"],[\"1985\",\"c\"],[\"1986\",\"a\"],[\"1986\",\"c\"],[\"1987\",\"a\"],[\"1987\",\"c\"],[\"1988\",\"a\"],[\"1988\",\"c\"],[\"1989\",\"a\"],[\"1989\",\"c\"],[\"1990\",\"a\"],[\"1990\",\"c\"],[\"1991\",\"a\"],[\"1991\",\"c\"],[\"1992\",\"a\"],[\"1992\",\"c\"],[\"1993\",\"a\"],[\"1993\",\"c\"],[\"1994\",\"a\"],[\"1994\",\"c\"],[\"1995\",\"a\"],[\"1995\",\"c\"],[\"1996\",\"a\"],[\"1996\",\"c\"],[\"1997\",\"a\"],[\"1997\",\"c\"],[\"1998\",\"a\"],[\"1998\",\"c\"],[\"1999\",\"a\"],[\"1999\",\"c\"],[\"2000\",\"a\"],[\"2000\",\"c\"],[\"2001\",\"a\"],[\"2001\",\"c\"],[\"2002\",\"a\"],[\"2002\",\"c\"],[\"2003\",\"a\"],[\"2003\",\"c\"],[\"2004\",\"a\"],[\"2004\",\"c\"],[\"2005\",\"a\"],[\"2005\",\"c\"],[\"2006\",\"a\"],[\"2006\",\"c\"],[\"2007\",\"a\"],[\"2007\",\"c\"],[\"2008\",\"a\"],[\"2008\",\"c\"],[\"2009\",\"a\"],[\"2009\",\"c\"],[\"2010\",\"a\"],[\"2010\",\"c\"],[\"2011\",\"a\"],[\"2011\",\"c\"],[\"2012\",\"a\"],[\"2012\",\"c\"],[\"2013\",\"a\"],[\"2013\",\"c\"],[\"2014\",\"a\"],[\"2014\",\"c\"],[\"2015\",\"a\"],[\"2015\",\"c\"],[\"2016\",\"a\"],[\"2016\",\"c\"],[\"2017\",\"a\"],[\"2017\",\"c\"]]},\"selected\":{\"id\":\"11920\"},\"selection_policy\":{\"id\":\"11919\"}},\"id\":\"11487\",\"type\":\"ColumnDataSource\"},{\"attributes\":{\"source\":{\"id\":\"11487\"}},\"id\":\"11510\",\"type\":\"CDSView\"},{\"attributes\":{\"axis\":{\"id\":\"11500\"},\"dimension\":1,\"ticker\":null},\"id\":\"11503\",\"type\":\"Grid\"},{\"attributes\":{\"factors\":[[\"0\",\"a\"],[\"0\",\"c\"],[\"1900\",\"a\"],[\"1900\",\"c\"],[\"1902\",\"a\"],[\"1902\",\"c\"],[\"1904\",\"a\"],[\"1904\",\"c\"],[\"1905\",\"a\"],[\"1905\",\"c\"],[\"1906\",\"a\"],[\"1906\",\"c\"],[\"1907\",\"a\"],[\"1907\",\"c\"],[\"1908\",\"a\"],[\"1908\",\"c\"],[\"1909\",\"a\"],[\"1909\",\"c\"],[\"1910\",\"a\"],[\"1910\",\"c\"],[\"1911\",\"a\"],[\"1911\",\"c\"],[\"1912\",\"a\"],[\"1912\",\"c\"],[\"1913\",\"a\"],[\"1913\",\"c\"],[\"1914\",\"a\"],[\"1914\",\"c\"],[\"1915\",\"a\"],[\"1915\",\"c\"],[\"1916\",\"a\"],[\"1916\",\"c\"],[\"1917\",\"a\"],[\"1917\",\"c\"],[\"1918\",\"a\"],[\"1918\",\"c\"],[\"1919\",\"a\"],[\"1919\",\"c\"],[\"1920\",\"a\"],[\"1920\",\"c\"],[\"1921\",\"a\"],[\"1921\",\"c\"],[\"1922\",\"a\"],[\"1922\",\"c\"],[\"1923\",\"a\"],[\"1923\",\"c\"],[\"1924\",\"a\"],[\"1924\",\"c\"],[\"1925\",\"a\"],[\"1925\",\"c\"],[\"1926\",\"a\"],[\"1926\",\"c\"],[\"1927\",\"a\"],[\"1927\",\"c\"],[\"1928\",\"a\"],[\"1928\",\"c\"],[\"1929\",\"a\"],[\"1929\",\"c\"],[\"1930\",\"a\"],[\"1930\",\"c\"],[\"1931\",\"a\"],[\"1931\",\"c\"],[\"1932\",\"a\"],[\"1932\",\"c\"],[\"1933\",\"a\"],[\"1933\",\"c\"],[\"1934\",\"a\"],[\"1934\",\"c\"],[\"1935\",\"a\"],[\"1935\",\"c\"],[\"1936\",\"a\"],[\"1936\",\"c\"],[\"1937\",\"a\"],[\"1937\",\"c\"],[\"1938\",\"a\"],[\"1938\",\"c\"],[\"1939\",\"a\"],[\"1939\",\"c\"],[\"1940\",\"a\"],[\"1940\",\"c\"],[\"1941\",\"a\"],[\"1941\",\"c\"],[\"1942\",\"a\"],[\"1942\",\"c\"],[\"1943\",\"a\"],[\"1943\",\"c\"],[\"1944\",\"a\"],[\"1944\",\"c\"],[\"1945\",\"a\"],[\"1945\",\"c\"],[\"1946\",\"a\"],[\"1946\",\"c\"],[\"1947\",\"a\"],[\"1947\",\"c\"],[\"1948\",\"a\"],[\"1948\",\"c\"],[\"1949\",\"a\"],[\"1949\",\"c\"],[\"1950\",\"a\"],[\"1950\",\"c\"],[\"1951\",\"a\"],[\"1951\",\"c\"],[\"1952\",\"a\"],[\"1952\",\"c\"],[\"1953\",\"a\"],[\"1953\",\"c\"],[\"1954\",\"a\"],[\"1954\",\"c\"],[\"1955\",\"a\"],[\"1955\",\"c\"],[\"1956\",\"a\"],[\"1956\",\"c\"],[\"1957\",\"a\"],[\"1957\",\"c\"],[\"1958\",\"a\"],[\"1958\",\"c\"],[\"1959\",\"a\"],[\"1959\",\"c\"],[\"1960\",\"a\"],[\"1960\",\"c\"],[\"1961\",\"a\"],[\"1961\",\"c\"],[\"1962\",\"a\"],[\"1962\",\"c\"],[\"1963\",\"a\"],[\"1963\",\"c\"],[\"1964\",\"a\"],[\"1964\",\"c\"],[\"1965\",\"a\"],[\"1965\",\"c\"],[\"1966\",\"a\"],[\"1966\",\"c\"],[\"1967\",\"a\"],[\"1967\",\"c\"],[\"1968\",\"a\"],[\"1968\",\"c\"],[\"1969\",\"a\"],[\"1969\",\"c\"],[\"1970\",\"a\"],[\"1970\",\"c\"],[\"1971\",\"a\"],[\"1971\",\"c\"],[\"1972\",\"a\"],[\"1972\",\"c\"],[\"1973\",\"a\"],[\"1973\",\"c\"],[\"1974\",\"a\"],[\"1974\",\"c\"],[\"1975\",\"a\"],[\"1975\",\"c\"],[\"1976\",\"a\"],[\"1976\",\"c\"],[\"1977\",\"a\"],[\"1977\",\"c\"],[\"1978\",\"a\"],[\"1978\",\"c\"],[\"1979\",\"a\"],[\"1979\",\"c\"],[\"1980\",\"a\"],[\"1980\",\"c\"],[\"1981\",\"a\"],[\"1981\",\"c\"],[\"1982\",\"a\"],[\"1982\",\"c\"],[\"1983\",\"a\"],[\"1983\",\"c\"],[\"1984\",\"a\"],[\"1984\",\"c\"],[\"1985\",\"a\"],[\"1985\",\"c\"],[\"1986\",\"a\"],[\"1986\",\"c\"],[\"1987\",\"a\"],[\"1987\",\"c\"],[\"1988\",\"a\"],[\"1988\",\"c\"],[\"1989\",\"a\"],[\"1989\",\"c\"],[\"1990\",\"a\"],[\"1990\",\"c\"],[\"1991\",\"a\"],[\"1991\",\"c\"],[\"1992\",\"a\"],[\"1992\",\"c\"],[\"1993\",\"a\"],[\"1993\",\"c\"],[\"1994\",\"a\"],[\"1994\",\"c\"],[\"1995\",\"a\"],[\"1995\",\"c\"],[\"1996\",\"a\"],[\"1996\",\"c\"],[\"1997\",\"a\"],[\"1997\",\"c\"],[\"1998\",\"a\"],[\"1998\",\"c\"],[\"1999\",\"a\"],[\"1999\",\"c\"],[\"2000\",\"a\"],[\"2000\",\"c\"],[\"2001\",\"a\"],[\"2001\",\"c\"],[\"2002\",\"a\"],[\"2002\",\"c\"],[\"2003\",\"a\"],[\"2003\",\"c\"],[\"2004\",\"a\"],[\"2004\",\"c\"],[\"2005\",\"a\"],[\"2005\",\"c\"],[\"2006\",\"a\"],[\"2006\",\"c\"],[\"2007\",\"a\"],[\"2007\",\"c\"],[\"2008\",\"a\"],[\"2008\",\"c\"],[\"2009\",\"a\"],[\"2009\",\"c\"],[\"2010\",\"a\"],[\"2010\",\"c\"],[\"2011\",\"a\"],[\"2011\",\"c\"],[\"2012\",\"a\"],[\"2012\",\"c\"],[\"2013\",\"a\"],[\"2013\",\"c\"],[\"2014\",\"a\"],[\"2014\",\"c\"],[\"2015\",\"a\"],[\"2015\",\"c\"],[\"2016\",\"a\"],[\"2016\",\"c\"],[\"2017\",\"a\"],[\"2017\",\"c\"]]},\"id\":\"11488\",\"type\":\"FactorRange\"},{\"attributes\":{},\"id\":\"11919\",\"type\":\"UnionRenderers\"},{\"attributes\":{\"axis\":{\"id\":\"11497\"},\"grid_line_color\":null,\"ticker\":null},\"id\":\"11499\",\"type\":\"Grid\"},{\"attributes\":{},\"id\":\"11920\",\"type\":\"Selection\"},{\"attributes\":{\"data_source\":{\"id\":\"11487\"},\"glyph\":{\"id\":\"11507\"},\"hover_glyph\":null,\"muted_glyph\":null,\"nonselection_glyph\":{\"id\":\"11508\"},\"view\":{\"id\":\"11510\"}},\"id\":\"11509\",\"type\":\"GlyphRenderer\"},{\"attributes\":{\"text\":\"GEBURTSJAHR [ks:0.2285 p:0.0000]\"},\"id\":\"11511\",\"type\":\"Title\"},{\"attributes\":{},\"id\":\"11914\",\"type\":\"CategoricalTickFormatter\"},{\"attributes\":{\"formatter\":{\"id\":\"11914\"},\"group_label_orientation\":1.5707963267948966,\"major_label_orientation\":0,\"major_label_policy\":{\"id\":\"11915\"},\"ticker\":{\"id\":\"11498\"}},\"id\":\"11497\",\"type\":\"CategoricalAxis\"},{\"attributes\":{},\"id\":\"11915\",\"type\":\"AllLabels\"},{\"attributes\":{\"formatter\":{\"id\":\"11917\"},\"major_label_policy\":{\"id\":\"11918\"},\"ticker\":{\"id\":\"11501\"}},\"id\":\"11500\",\"type\":\"LinearAxis\"},{\"attributes\":{},\"id\":\"11498\",\"type\":\"CategoricalTicker\"},{\"attributes\":{},\"id\":\"11501\",\"type\":\"BasicTicker\"},{\"attributes\":{\"active_multi\":null},\"id\":\"11504\",\"type\":\"Toolbar\"},{\"attributes\":{},\"id\":\"11493\",\"type\":\"CategoricalScale\"},{\"attributes\":{\"fill_alpha\":{\"value\":0.1},\"fill_color\":{\"field\":\"x\",\"transform\":{\"id\":\"11505\"}},\"line_alpha\":{\"value\":0.1},\"line_color\":{\"value\":null},\"top\":{\"field\":\"counts\"},\"width\":{\"value\":0.9},\"x\":{\"field\":\"x\"}},\"id\":\"11508\",\"type\":\"VBar\"},{\"attributes\":{\"start\":0},\"id\":\"11491\",\"type\":\"DataRange1d\"},{\"attributes\":{\"end\":2,\"factors\":[\"a\",\"c\"],\"palette\":[\"#1f77b4\",\"#ff7f0e\"],\"start\":1},\"id\":\"11505\",\"type\":\"CategoricalColorMapper\"},{\"attributes\":{},\"id\":\"11918\",\"type\":\"AllLabels\"},{\"attributes\":{},\"id\":\"11917\",\"type\":\"BasicTickFormatter\"},{\"attributes\":{},\"id\":\"11495\",\"type\":\"LinearScale\"},{\"attributes\":{\"fill_color\":{\"field\":\"x\",\"transform\":{\"id\":\"11505\"}},\"line_color\":{\"value\":null},\"top\":{\"field\":\"counts\"},\"width\":{\"value\":0.9},\"x\":{\"field\":\"x\"}},\"id\":\"11507\",\"type\":\"VBar\"}],\"root_ids\":[\"11489\"]},\"title\":\"Bokeh Application\",\"version\":\"2.3.1\"}};\n",
       "  var render_items = [{\"docid\":\"843faf2d-25e5-4d15-a3e4-3cc699eb3d52\",\"root_ids\":[\"11489\"],\"roots\":{\"11489\":\"9c9828e6-4190-4e64-beee-cd4536d29102\"}}];\n",
       "  root.Bokeh.embed.embed_items_notebook(docs_json, render_items);\n",
       "\n",
       "  }\n",
       "  if (root.Bokeh !== undefined) {\n",
       "    embed_document(root);\n",
       "  } else {\n",
       "    var attempts = 0;\n",
       "    var timer = setInterval(function(root) {\n",
       "      if (root.Bokeh !== undefined) {\n",
       "        clearInterval(timer);\n",
       "        embed_document(root);\n",
       "      } else {\n",
       "        attempts++;\n",
       "        if (attempts > 100) {\n",
       "          clearInterval(timer);\n",
       "          console.log(\"Bokeh: ERROR: Unable to run BokehJS code because BokehJS library is missing\");\n",
       "        }\n",
       "      }\n",
       "    }, 10, root)\n",
       "  }\n",
       "})(window);"
      ],
      "application/vnd.bokehjs_exec.v0+json": ""
     },
     "metadata": {
      "application/vnd.bokehjs_exec.v0+json": {
       "id": "11489"
      }
     },
     "output_type": "display_data"
    },
    {
     "name": "stdout",
     "output_type": "stream",
     "text": [
      "==========================================================================================================================================================================================================================================\n"
     ]
    },
    {
     "data": {
      "text/html": [
       "\n",
       "\n",
       "\n",
       "\n",
       "\n",
       "\n",
       "  <div class=\"bk-root\" id=\"92c6df27-7b61-4b13-a9ba-72e990d37da4\" data-root-id=\"11973\"></div>\n"
      ]
     },
     "metadata": {},
     "output_type": "display_data"
    },
    {
     "data": {
      "application/javascript": [
       "(function(root) {\n",
       "  function embed_document(root) {\n",
       "    \n",
       "  var docs_json = {\"4001b33d-2b8e-4d93-b963-600d66e3c65f\":{\"defs\":[],\"roots\":{\"references\":[{\"attributes\":{\"below\":[{\"id\":\"11981\"}],\"center\":[{\"id\":\"11983\"},{\"id\":\"11987\"}],\"height\":500,\"left\":[{\"id\":\"11984\"}],\"renderers\":[{\"id\":\"11993\"}],\"title\":{\"id\":\"11995\"},\"toolbar\":{\"id\":\"11988\"},\"toolbar_location\":null,\"width\":950,\"x_range\":{\"id\":\"11972\"},\"x_scale\":{\"id\":\"11977\"},\"y_range\":{\"id\":\"11975\"},\"y_scale\":{\"id\":\"11979\"}},\"id\":\"11973\",\"subtype\":\"Figure\",\"type\":\"Plot\"},{\"attributes\":{\"source\":{\"id\":\"11971\"}},\"id\":\"11994\",\"type\":\"CDSView\"},{\"attributes\":{\"data_source\":{\"id\":\"11971\"},\"glyph\":{\"id\":\"11991\"},\"hover_glyph\":null,\"muted_glyph\":null,\"nonselection_glyph\":{\"id\":\"11992\"},\"view\":{\"id\":\"11994\"}},\"id\":\"11993\",\"type\":\"GlyphRenderer\"},{\"attributes\":{\"text\":\"ANZ_PERSONEN [ks:0.2280 p:0.0000]\"},\"id\":\"11995\",\"type\":\"Title\"},{\"attributes\":{},\"id\":\"12408\",\"type\":\"CategoricalTickFormatter\"},{\"attributes\":{\"formatter\":{\"id\":\"12408\"},\"group_label_orientation\":1.5707963267948966,\"major_label_orientation\":0,\"major_label_policy\":{\"id\":\"12409\"},\"ticker\":{\"id\":\"11982\"}},\"id\":\"11981\",\"type\":\"CategoricalAxis\"},{\"attributes\":{},\"id\":\"12409\",\"type\":\"AllLabels\"},{\"attributes\":{\"axis\":{\"id\":\"11981\"},\"grid_line_color\":null,\"ticker\":null},\"id\":\"11983\",\"type\":\"Grid\"},{\"attributes\":{\"factors\":[[\"0\",\"a\"],[\"0\",\"c\"],[\"1\",\"a\"],[\"1\",\"c\"],[\"2\",\"a\"],[\"2\",\"c\"],[\"3\",\"a\"],[\"3\",\"c\"],[\"4\",\"a\"],[\"4\",\"c\"],[\"5\",\"a\"],[\"5\",\"c\"],[\"6\",\"a\"],[\"6\",\"c\"],[\"7\",\"a\"],[\"7\",\"c\"],[\"8\",\"a\"],[\"8\",\"c\"]]},\"id\":\"11972\",\"type\":\"FactorRange\"},{\"attributes\":{\"formatter\":{\"id\":\"12411\"},\"major_label_policy\":{\"id\":\"12412\"},\"ticker\":{\"id\":\"11985\"}},\"id\":\"11984\",\"type\":\"LinearAxis\"},{\"attributes\":{\"data\":{\"counts\":[0.041715035737046775,0.049239051661662696,0.5176299909846984,0.2821548124374504,0.23910610288208303,0.30183248783517963,0.11609188512768823,0.18774890430341304,0.05764655369609015,0.11099147599820547,0.018963937570565834,0.04466991061876661,0.005922943025006759,0.0160886220105601,0.0018654457069672257,0.00493494840735756,0.0010581052698535411,0.0023397867274044934],\"x\":[[\"0\",\"a\"],[\"0\",\"c\"],[\"1\",\"a\"],[\"1\",\"c\"],[\"2\",\"a\"],[\"2\",\"c\"],[\"3\",\"a\"],[\"3\",\"c\"],[\"4\",\"a\"],[\"4\",\"c\"],[\"5\",\"a\"],[\"5\",\"c\"],[\"6\",\"a\"],[\"6\",\"c\"],[\"7\",\"a\"],[\"7\",\"c\"],[\"8\",\"a\"],[\"8\",\"c\"]]},\"selected\":{\"id\":\"12414\"},\"selection_policy\":{\"id\":\"12413\"}},\"id\":\"11971\",\"type\":\"ColumnDataSource\"},{\"attributes\":{\"axis\":{\"id\":\"11984\"},\"dimension\":1,\"ticker\":null},\"id\":\"11987\",\"type\":\"Grid\"},{\"attributes\":{},\"id\":\"12413\",\"type\":\"UnionRenderers\"},{\"attributes\":{},\"id\":\"11982\",\"type\":\"CategoricalTicker\"},{\"attributes\":{},\"id\":\"12414\",\"type\":\"Selection\"},{\"attributes\":{},\"id\":\"11985\",\"type\":\"BasicTicker\"},{\"attributes\":{\"active_multi\":null},\"id\":\"11988\",\"type\":\"Toolbar\"},{\"attributes\":{},\"id\":\"11977\",\"type\":\"CategoricalScale\"},{\"attributes\":{\"fill_alpha\":{\"value\":0.1},\"fill_color\":{\"field\":\"x\",\"transform\":{\"id\":\"11989\"}},\"line_alpha\":{\"value\":0.1},\"line_color\":{\"value\":null},\"top\":{\"field\":\"counts\"},\"width\":{\"value\":0.9},\"x\":{\"field\":\"x\"}},\"id\":\"11992\",\"type\":\"VBar\"},{\"attributes\":{\"start\":0},\"id\":\"11975\",\"type\":\"DataRange1d\"},{\"attributes\":{\"end\":2,\"factors\":[\"a\",\"c\"],\"palette\":[\"#1f77b4\",\"#ff7f0e\"],\"start\":1},\"id\":\"11989\",\"type\":\"CategoricalColorMapper\"},{\"attributes\":{},\"id\":\"12411\",\"type\":\"BasicTickFormatter\"},{\"attributes\":{},\"id\":\"12412\",\"type\":\"AllLabels\"},{\"attributes\":{},\"id\":\"11979\",\"type\":\"LinearScale\"},{\"attributes\":{\"fill_color\":{\"field\":\"x\",\"transform\":{\"id\":\"11989\"}},\"line_color\":{\"value\":null},\"top\":{\"field\":\"counts\"},\"width\":{\"value\":0.9},\"x\":{\"field\":\"x\"}},\"id\":\"11991\",\"type\":\"VBar\"}],\"root_ids\":[\"11973\"]},\"title\":\"Bokeh Application\",\"version\":\"2.3.1\"}};\n",
       "  var render_items = [{\"docid\":\"4001b33d-2b8e-4d93-b963-600d66e3c65f\",\"root_ids\":[\"11973\"],\"roots\":{\"11973\":\"92c6df27-7b61-4b13-a9ba-72e990d37da4\"}}];\n",
       "  root.Bokeh.embed.embed_items_notebook(docs_json, render_items);\n",
       "\n",
       "  }\n",
       "  if (root.Bokeh !== undefined) {\n",
       "    embed_document(root);\n",
       "  } else {\n",
       "    var attempts = 0;\n",
       "    var timer = setInterval(function(root) {\n",
       "      if (root.Bokeh !== undefined) {\n",
       "        clearInterval(timer);\n",
       "        embed_document(root);\n",
       "      } else {\n",
       "        attempts++;\n",
       "        if (attempts > 100) {\n",
       "          clearInterval(timer);\n",
       "          console.log(\"Bokeh: ERROR: Unable to run BokehJS code because BokehJS library is missing\");\n",
       "        }\n",
       "      }\n",
       "    }, 10, root)\n",
       "  }\n",
       "})(window);"
      ],
      "application/vnd.bokehjs_exec.v0+json": ""
     },
     "metadata": {
      "application/vnd.bokehjs_exec.v0+json": {
       "id": "11973"
      }
     },
     "output_type": "display_data"
    },
    {
     "name": "stdout",
     "output_type": "stream",
     "text": [
      "==========================================================================================================================================================================================================================================\n"
     ]
    },
    {
     "data": {
      "text/html": [
       "\n",
       "\n",
       "\n",
       "\n",
       "\n",
       "\n",
       "  <div class=\"bk-root\" id=\"4658931d-83ab-4a74-8df2-b2eaeb5240ea\" data-root-id=\"12467\"></div>\n"
      ]
     },
     "metadata": {},
     "output_type": "display_data"
    },
    {
     "data": {
      "application/javascript": [
       "(function(root) {\n",
       "  function embed_document(root) {\n",
       "    \n",
       "  var docs_json = {\"dc28c66e-00d5-40a6-9d45-135be17d7593\":{\"defs\":[],\"roots\":{\"references\":[{\"attributes\":{\"below\":[{\"id\":\"12475\"}],\"center\":[{\"id\":\"12477\"},{\"id\":\"12481\"}],\"height\":500,\"left\":[{\"id\":\"12478\"}],\"renderers\":[{\"id\":\"12487\"}],\"title\":{\"id\":\"12489\"},\"toolbar\":{\"id\":\"12482\"},\"toolbar_location\":null,\"width\":950,\"x_range\":{\"id\":\"12466\"},\"x_scale\":{\"id\":\"12471\"},\"y_range\":{\"id\":\"12469\"},\"y_scale\":{\"id\":\"12473\"}},\"id\":\"12467\",\"subtype\":\"Figure\",\"type\":\"Plot\"},{\"attributes\":{},\"id\":\"12916\",\"type\":\"AllLabels\"},{\"attributes\":{\"data\":{\"counts\":[0.032809232864624296,0.04389669924571677,0.5054216463005237,0.27654104348180947,0.12458396477968117,0.1962632713719249,0.005932398473018857,0.0010474266631299012,0.014709902357612844,0.003693199208308678,0.014256699725680524,0.0061213246546552675,0.010777350419152487,0.0056452216259598575,0.024755894032112643,0.020098349282784794,0.02754944464693357,0.03179688084501486,0.013347896564292428,0.016493569208376694,0.16407733699092636,0.24722669985784923,0.061778232845441115,0.1511763145544696],\"x\":[[\"0\",\"a\"],[\"0\",\"c\"],[\"single \",\"a\"],[\"single \",\"c\"],[\"couple\",\"a\"],[\"couple\",\"c\"],[\"young single parent \",\"a\"],[\"young single parent \",\"c\"],[\"single parent with teenager\",\"a\"],[\"single parent with teenager\",\"c\"],[\"single parent with child of full age\",\"a\"],[\"single parent with child of full age\",\"c\"],[\"young family \",\"a\"],[\"young family \",\"c\"],[\"family with teenager \",\"a\"],[\"family with teenager \",\"c\"],[\"family with child of full age\",\"a\"],[\"family with child of full age\",\"c\"],[\"shared flat\",\"a\"],[\"shared flat\",\"c\"],[\"two-generational household\",\"a\"],[\"two-generational household\",\"c\"],[\"multi-generational household\",\"a\"],[\"multi-generational household\",\"c\"]]},\"selected\":{\"id\":\"12918\"},\"selection_policy\":{\"id\":\"12917\"}},\"id\":\"12465\",\"type\":\"ColumnDataSource\"},{\"attributes\":{\"source\":{\"id\":\"12465\"}},\"id\":\"12488\",\"type\":\"CDSView\"},{\"attributes\":{},\"id\":\"12471\",\"type\":\"CategoricalScale\"},{\"attributes\":{\"data_source\":{\"id\":\"12465\"},\"glyph\":{\"id\":\"12485\"},\"hover_glyph\":null,\"muted_glyph\":null,\"nonselection_glyph\":{\"id\":\"12486\"},\"view\":{\"id\":\"12488\"}},\"id\":\"12487\",\"type\":\"GlyphRenderer\"},{\"attributes\":{\"text\":\"LP_FAMILIE_FEIN [ks:0.2178 p:0.0000]\"},\"id\":\"12489\",\"type\":\"Title\"},{\"attributes\":{},\"id\":\"12912\",\"type\":\"CategoricalTickFormatter\"},{\"attributes\":{\"factors\":[[\"0\",\"a\"],[\"0\",\"c\"],[\"single \",\"a\"],[\"single \",\"c\"],[\"couple\",\"a\"],[\"couple\",\"c\"],[\"young single parent \",\"a\"],[\"young single parent \",\"c\"],[\"single parent with teenager\",\"a\"],[\"single parent with teenager\",\"c\"],[\"single parent with child of full age\",\"a\"],[\"single parent with child of full age\",\"c\"],[\"young family \",\"a\"],[\"young family \",\"c\"],[\"family with teenager \",\"a\"],[\"family with teenager \",\"c\"],[\"family with child of full age\",\"a\"],[\"family with child of full age\",\"c\"],[\"shared flat\",\"a\"],[\"shared flat\",\"c\"],[\"two-generational household\",\"a\"],[\"two-generational household\",\"c\"],[\"multi-generational household\",\"a\"],[\"multi-generational household\",\"c\"]]},\"id\":\"12466\",\"type\":\"FactorRange\"},{\"attributes\":{},\"id\":\"12918\",\"type\":\"Selection\"},{\"attributes\":{},\"id\":\"12473\",\"type\":\"LinearScale\"},{\"attributes\":{},\"id\":\"12913\",\"type\":\"AllLabels\"},{\"attributes\":{},\"id\":\"12476\",\"type\":\"CategoricalTicker\"},{\"attributes\":{\"axis\":{\"id\":\"12475\"},\"grid_line_color\":null,\"ticker\":null},\"id\":\"12477\",\"type\":\"Grid\"},{\"attributes\":{\"fill_alpha\":{\"value\":0.1},\"fill_color\":{\"field\":\"x\",\"transform\":{\"id\":\"12483\"}},\"line_alpha\":{\"value\":0.1},\"line_color\":{\"value\":null},\"top\":{\"field\":\"counts\"},\"width\":{\"value\":0.9},\"x\":{\"field\":\"x\"}},\"id\":\"12486\",\"type\":\"VBar\"},{\"attributes\":{\"formatter\":{\"id\":\"12912\"},\"group_label_orientation\":1.5707963267948966,\"major_label_orientation\":0,\"major_label_policy\":{\"id\":\"12913\"},\"ticker\":{\"id\":\"12476\"}},\"id\":\"12475\",\"type\":\"CategoricalAxis\"},{\"attributes\":{\"axis\":{\"id\":\"12478\"},\"dimension\":1,\"ticker\":null},\"id\":\"12481\",\"type\":\"Grid\"},{\"attributes\":{},\"id\":\"12479\",\"type\":\"BasicTicker\"},{\"attributes\":{\"formatter\":{\"id\":\"12915\"},\"major_label_policy\":{\"id\":\"12916\"},\"ticker\":{\"id\":\"12479\"}},\"id\":\"12478\",\"type\":\"LinearAxis\"},{\"attributes\":{\"active_multi\":null},\"id\":\"12482\",\"type\":\"Toolbar\"},{\"attributes\":{},\"id\":\"12917\",\"type\":\"UnionRenderers\"},{\"attributes\":{\"fill_color\":{\"field\":\"x\",\"transform\":{\"id\":\"12483\"}},\"line_color\":{\"value\":null},\"top\":{\"field\":\"counts\"},\"width\":{\"value\":0.9},\"x\":{\"field\":\"x\"}},\"id\":\"12485\",\"type\":\"VBar\"},{\"attributes\":{\"start\":0},\"id\":\"12469\",\"type\":\"DataRange1d\"},{\"attributes\":{\"end\":2,\"factors\":[\"a\",\"c\"],\"palette\":[\"#1f77b4\",\"#ff7f0e\"],\"start\":1},\"id\":\"12483\",\"type\":\"CategoricalColorMapper\"},{\"attributes\":{},\"id\":\"12915\",\"type\":\"BasicTickFormatter\"}],\"root_ids\":[\"12467\"]},\"title\":\"Bokeh Application\",\"version\":\"2.3.1\"}};\n",
       "  var render_items = [{\"docid\":\"dc28c66e-00d5-40a6-9d45-135be17d7593\",\"root_ids\":[\"12467\"],\"roots\":{\"12467\":\"4658931d-83ab-4a74-8df2-b2eaeb5240ea\"}}];\n",
       "  root.Bokeh.embed.embed_items_notebook(docs_json, render_items);\n",
       "\n",
       "  }\n",
       "  if (root.Bokeh !== undefined) {\n",
       "    embed_document(root);\n",
       "  } else {\n",
       "    var attempts = 0;\n",
       "    var timer = setInterval(function(root) {\n",
       "      if (root.Bokeh !== undefined) {\n",
       "        clearInterval(timer);\n",
       "        embed_document(root);\n",
       "      } else {\n",
       "        attempts++;\n",
       "        if (attempts > 100) {\n",
       "          clearInterval(timer);\n",
       "          console.log(\"Bokeh: ERROR: Unable to run BokehJS code because BokehJS library is missing\");\n",
       "        }\n",
       "      }\n",
       "    }, 10, root)\n",
       "  }\n",
       "})(window);"
      ],
      "application/vnd.bokehjs_exec.v0+json": ""
     },
     "metadata": {
      "application/vnd.bokehjs_exec.v0+json": {
       "id": "12467"
      }
     },
     "output_type": "display_data"
    },
    {
     "name": "stdout",
     "output_type": "stream",
     "text": [
      "==========================================================================================================================================================================================================================================\n"
     ]
    },
    {
     "data": {
      "text/html": [
       "\n",
       "\n",
       "\n",
       "\n",
       "\n",
       "\n",
       "  <div class=\"bk-root\" id=\"aa6ecd56-1571-4340-8455-da0914e3fa86\" data-root-id=\"12971\"></div>\n"
      ]
     },
     "metadata": {},
     "output_type": "display_data"
    },
    {
     "data": {
      "application/javascript": [
       "(function(root) {\n",
       "  function embed_document(root) {\n",
       "    \n",
       "  var docs_json = {\"f3b303d0-ad60-4b81-bf0e-383d80248616\":{\"defs\":[],\"roots\":{\"references\":[{\"attributes\":{\"below\":[{\"id\":\"12979\"}],\"center\":[{\"id\":\"12981\"},{\"id\":\"12985\"}],\"height\":500,\"left\":[{\"id\":\"12982\"}],\"renderers\":[{\"id\":\"12991\"}],\"title\":{\"id\":\"12993\"},\"toolbar\":{\"id\":\"12986\"},\"toolbar_location\":null,\"width\":950,\"x_range\":{\"id\":\"12970\"},\"x_scale\":{\"id\":\"12975\"},\"y_range\":{\"id\":\"12973\"},\"y_scale\":{\"id\":\"12977\"}},\"id\":\"12971\",\"subtype\":\"Figure\",\"type\":\"Plot\"},{\"attributes\":{\"end\":2,\"factors\":[\"a\",\"c\"],\"palette\":[\"#1f77b4\",\"#ff7f0e\"],\"start\":1},\"id\":\"12987\",\"type\":\"CategoricalColorMapper\"},{\"attributes\":{\"formatter\":{\"id\":\"13429\"},\"major_label_policy\":{\"id\":\"13430\"},\"ticker\":{\"id\":\"12983\"}},\"id\":\"12982\",\"type\":\"LinearAxis\"},{\"attributes\":{\"data\":{\"counts\":[0.216231268187427,0.09727623587753023,0.19307277610246326,0.09718030270605338,0.19839653704791252,0.20195408490823624,0.19559344625759664,0.28865553349912554,0.19625594699994062,0.3142844492329036,0.0004500254046599405,0.0006493937761510135],\"x\":[[\"very high mobility\",\"a\"],[\"very high mobility\",\"c\"],[\"high mobility\",\"a\"],[\"high mobility\",\"c\"],[\"middle mobility\",\"a\"],[\"middle mobility\",\"c\"],[\"low mobility\",\"a\"],[\"low mobility\",\"c\"],[\"very low mobility \",\"a\"],[\"very low mobility \",\"c\"],[\"none\",\"a\"],[\"none\",\"c\"]]},\"selected\":{\"id\":\"13432\"},\"selection_policy\":{\"id\":\"13431\"}},\"id\":\"12969\",\"type\":\"ColumnDataSource\"},{\"attributes\":{\"start\":0},\"id\":\"12973\",\"type\":\"DataRange1d\"},{\"attributes\":{},\"id\":\"13429\",\"type\":\"BasicTickFormatter\"},{\"attributes\":{},\"id\":\"13430\",\"type\":\"AllLabels\"},{\"attributes\":{\"factors\":[[\"very high mobility\",\"a\"],[\"very high mobility\",\"c\"],[\"high mobility\",\"a\"],[\"high mobility\",\"c\"],[\"middle mobility\",\"a\"],[\"middle mobility\",\"c\"],[\"low mobility\",\"a\"],[\"low mobility\",\"c\"],[\"very low mobility \",\"a\"],[\"very low mobility \",\"c\"],[\"none\",\"a\"],[\"none\",\"c\"]]},\"id\":\"12970\",\"type\":\"FactorRange\"},{\"attributes\":{\"source\":{\"id\":\"12969\"}},\"id\":\"12992\",\"type\":\"CDSView\"},{\"attributes\":{},\"id\":\"13432\",\"type\":\"Selection\"},{\"attributes\":{\"data_source\":{\"id\":\"12969\"},\"glyph\":{\"id\":\"12989\"},\"hover_glyph\":null,\"muted_glyph\":null,\"nonselection_glyph\":{\"id\":\"12990\"},\"view\":{\"id\":\"12992\"}},\"id\":\"12991\",\"type\":\"GlyphRenderer\"},{\"attributes\":{\"text\":\"MOBI_REGIO [ks:0.2148 p:0.0000]\"},\"id\":\"12993\",\"type\":\"Title\"},{\"attributes\":{\"axis\":{\"id\":\"12982\"},\"dimension\":1,\"ticker\":null},\"id\":\"12985\",\"type\":\"Grid\"},{\"attributes\":{},\"id\":\"12983\",\"type\":\"BasicTicker\"},{\"attributes\":{},\"id\":\"12975\",\"type\":\"CategoricalScale\"},{\"attributes\":{},\"id\":\"13426\",\"type\":\"CategoricalTickFormatter\"},{\"attributes\":{\"formatter\":{\"id\":\"13426\"},\"group_label_orientation\":1.5707963267948966,\"major_label_orientation\":0,\"major_label_policy\":{\"id\":\"13427\"},\"ticker\":{\"id\":\"12980\"}},\"id\":\"12979\",\"type\":\"CategoricalAxis\"},{\"attributes\":{},\"id\":\"13427\",\"type\":\"AllLabels\"},{\"attributes\":{},\"id\":\"12977\",\"type\":\"LinearScale\"},{\"attributes\":{\"axis\":{\"id\":\"12979\"},\"grid_line_color\":null,\"ticker\":null},\"id\":\"12981\",\"type\":\"Grid\"},{\"attributes\":{\"active_multi\":null},\"id\":\"12986\",\"type\":\"Toolbar\"},{\"attributes\":{\"fill_color\":{\"field\":\"x\",\"transform\":{\"id\":\"12987\"}},\"line_color\":{\"value\":null},\"top\":{\"field\":\"counts\"},\"width\":{\"value\":0.9},\"x\":{\"field\":\"x\"}},\"id\":\"12989\",\"type\":\"VBar\"},{\"attributes\":{},\"id\":\"12980\",\"type\":\"CategoricalTicker\"},{\"attributes\":{},\"id\":\"13431\",\"type\":\"UnionRenderers\"},{\"attributes\":{\"fill_alpha\":{\"value\":0.1},\"fill_color\":{\"field\":\"x\",\"transform\":{\"id\":\"12987\"}},\"line_alpha\":{\"value\":0.1},\"line_color\":{\"value\":null},\"top\":{\"field\":\"counts\"},\"width\":{\"value\":0.9},\"x\":{\"field\":\"x\"}},\"id\":\"12990\",\"type\":\"VBar\"}],\"root_ids\":[\"12971\"]},\"title\":\"Bokeh Application\",\"version\":\"2.3.1\"}};\n",
       "  var render_items = [{\"docid\":\"f3b303d0-ad60-4b81-bf0e-383d80248616\",\"root_ids\":[\"12971\"],\"roots\":{\"12971\":\"aa6ecd56-1571-4340-8455-da0914e3fa86\"}}];\n",
       "  root.Bokeh.embed.embed_items_notebook(docs_json, render_items);\n",
       "\n",
       "  }\n",
       "  if (root.Bokeh !== undefined) {\n",
       "    embed_document(root);\n",
       "  } else {\n",
       "    var attempts = 0;\n",
       "    var timer = setInterval(function(root) {\n",
       "      if (root.Bokeh !== undefined) {\n",
       "        clearInterval(timer);\n",
       "        embed_document(root);\n",
       "      } else {\n",
       "        attempts++;\n",
       "        if (attempts > 100) {\n",
       "          clearInterval(timer);\n",
       "          console.log(\"Bokeh: ERROR: Unable to run BokehJS code because BokehJS library is missing\");\n",
       "        }\n",
       "      }\n",
       "    }, 10, root)\n",
       "  }\n",
       "})(window);"
      ],
      "application/vnd.bokehjs_exec.v0+json": ""
     },
     "metadata": {
      "application/vnd.bokehjs_exec.v0+json": {
       "id": "12971"
      }
     },
     "output_type": "display_data"
    },
    {
     "name": "stdout",
     "output_type": "stream",
     "text": [
      "==========================================================================================================================================================================================================================================\n"
     ]
    },
    {
     "data": {
      "text/html": [
       "\n",
       "\n",
       "\n",
       "\n",
       "\n",
       "\n",
       "  <div class=\"bk-root\" id=\"aff8d7e1-50a5-4813-a1d9-224e92499ab6\" data-root-id=\"13485\"></div>\n"
      ]
     },
     "metadata": {},
     "output_type": "display_data"
    },
    {
     "data": {
      "application/javascript": [
       "(function(root) {\n",
       "  function embed_document(root) {\n",
       "    \n",
       "  var docs_json = {\"c920d4f9-8a04-4e18-a913-8432316763ea\":{\"defs\":[],\"roots\":{\"references\":[{\"attributes\":{\"below\":[{\"id\":\"13493\"}],\"center\":[{\"id\":\"13495\"},{\"id\":\"13499\"}],\"height\":500,\"left\":[{\"id\":\"13496\"}],\"renderers\":[{\"id\":\"13505\"}],\"title\":{\"id\":\"13507\"},\"toolbar\":{\"id\":\"13500\"},\"toolbar_location\":null,\"width\":950,\"x_range\":{\"id\":\"13484\"},\"x_scale\":{\"id\":\"13489\"},\"y_range\":{\"id\":\"13487\"},\"y_scale\":{\"id\":\"13491\"}},\"id\":\"13485\",\"subtype\":\"Figure\",\"type\":\"Plot\"},{\"attributes\":{\"data\":{\"counts\":[0.23783969350997355,0.027070021299254527,0.1320879990654629,0.29442891373801916,0.06357951551879922,0.03478434504792332,0.09362059223905078,0.047876730564430245,0.12682049973894946,0.31106230031948884,0.3460516999277641,0.2847776890308839],\"x\":[[\"low finacial interest\",\"a\"],[\"low finacial interest\",\"c\"],[\"money saver\",\"a\"],[\"money saver\",\"c\"],[\"main focus is the own house\",\"a\"],[\"main focus is the own house\",\"c\"],[\"be prepared\",\"a\"],[\"be prepared\",\"c\"],[\"Investor\",\"a\"],[\"Investor\",\"c\"],[\"unremarkable\",\"a\"],[\"unremarkable\",\"c\"]]},\"selected\":{\"id\":\"13956\"},\"selection_policy\":{\"id\":\"13955\"}},\"id\":\"13483\",\"type\":\"ColumnDataSource\"},{\"attributes\":{},\"id\":\"13494\",\"type\":\"CategoricalTicker\"},{\"attributes\":{\"start\":0},\"id\":\"13487\",\"type\":\"DataRange1d\"},{\"attributes\":{},\"id\":\"13950\",\"type\":\"CategoricalTickFormatter\"},{\"attributes\":{},\"id\":\"13951\",\"type\":\"AllLabels\"},{\"attributes\":{\"end\":2,\"factors\":[\"a\",\"c\"],\"palette\":[\"#1f77b4\",\"#ff7f0e\"],\"start\":1},\"id\":\"13501\",\"type\":\"CategoricalColorMapper\"},{\"attributes\":{},\"id\":\"13955\",\"type\":\"UnionRenderers\"},{\"attributes\":{},\"id\":\"13956\",\"type\":\"Selection\"},{\"attributes\":{\"formatter\":{\"id\":\"13950\"},\"group_label_orientation\":1.5707963267948966,\"major_label_orientation\":0,\"major_label_policy\":{\"id\":\"13951\"},\"ticker\":{\"id\":\"13494\"}},\"id\":\"13493\",\"type\":\"CategoricalAxis\"},{\"attributes\":{},\"id\":\"13953\",\"type\":\"BasicTickFormatter\"},{\"attributes\":{},\"id\":\"13954\",\"type\":\"AllLabels\"},{\"attributes\":{\"fill_color\":{\"field\":\"x\",\"transform\":{\"id\":\"13501\"}},\"line_color\":{\"value\":null},\"top\":{\"field\":\"counts\"},\"width\":{\"value\":0.9},\"x\":{\"field\":\"x\"}},\"id\":\"13503\",\"type\":\"VBar\"},{\"attributes\":{\"formatter\":{\"id\":\"13953\"},\"major_label_policy\":{\"id\":\"13954\"},\"ticker\":{\"id\":\"13497\"}},\"id\":\"13496\",\"type\":\"LinearAxis\"},{\"attributes\":{},\"id\":\"13489\",\"type\":\"CategoricalScale\"},{\"attributes\":{\"source\":{\"id\":\"13483\"}},\"id\":\"13506\",\"type\":\"CDSView\"},{\"attributes\":{},\"id\":\"13497\",\"type\":\"BasicTicker\"},{\"attributes\":{\"axis\":{\"id\":\"13493\"},\"grid_line_color\":null,\"ticker\":null},\"id\":\"13495\",\"type\":\"Grid\"},{\"attributes\":{\"data_source\":{\"id\":\"13483\"},\"glyph\":{\"id\":\"13503\"},\"hover_glyph\":null,\"muted_glyph\":null,\"nonselection_glyph\":{\"id\":\"13504\"},\"view\":{\"id\":\"13506\"}},\"id\":\"13505\",\"type\":\"GlyphRenderer\"},{\"attributes\":{\"fill_alpha\":{\"value\":0.1},\"fill_color\":{\"field\":\"x\",\"transform\":{\"id\":\"13501\"}},\"line_alpha\":{\"value\":0.1},\"line_color\":{\"value\":null},\"top\":{\"field\":\"counts\"},\"width\":{\"value\":0.9},\"x\":{\"field\":\"x\"}},\"id\":\"13504\",\"type\":\"VBar\"},{\"attributes\":{\"active_multi\":null},\"id\":\"13500\",\"type\":\"Toolbar\"},{\"attributes\":{},\"id\":\"13491\",\"type\":\"LinearScale\"},{\"attributes\":{\"text\":\"FINANZTYP [ks:0.2108 p:0.0000]\"},\"id\":\"13507\",\"type\":\"Title\"},{\"attributes\":{\"factors\":[[\"low finacial interest\",\"a\"],[\"low finacial interest\",\"c\"],[\"money saver\",\"a\"],[\"money saver\",\"c\"],[\"main focus is the own house\",\"a\"],[\"main focus is the own house\",\"c\"],[\"be prepared\",\"a\"],[\"be prepared\",\"c\"],[\"Investor\",\"a\"],[\"Investor\",\"c\"],[\"unremarkable\",\"a\"],[\"unremarkable\",\"c\"]]},\"id\":\"13484\",\"type\":\"FactorRange\"},{\"attributes\":{\"axis\":{\"id\":\"13496\"},\"dimension\":1,\"ticker\":null},\"id\":\"13499\",\"type\":\"Grid\"}],\"root_ids\":[\"13485\"]},\"title\":\"Bokeh Application\",\"version\":\"2.3.1\"}};\n",
       "  var render_items = [{\"docid\":\"c920d4f9-8a04-4e18-a913-8432316763ea\",\"root_ids\":[\"13485\"],\"roots\":{\"13485\":\"aff8d7e1-50a5-4813-a1d9-224e92499ab6\"}}];\n",
       "  root.Bokeh.embed.embed_items_notebook(docs_json, render_items);\n",
       "\n",
       "  }\n",
       "  if (root.Bokeh !== undefined) {\n",
       "    embed_document(root);\n",
       "  } else {\n",
       "    var attempts = 0;\n",
       "    var timer = setInterval(function(root) {\n",
       "      if (root.Bokeh !== undefined) {\n",
       "        clearInterval(timer);\n",
       "        embed_document(root);\n",
       "      } else {\n",
       "        attempts++;\n",
       "        if (attempts > 100) {\n",
       "          clearInterval(timer);\n",
       "          console.log(\"Bokeh: ERROR: Unable to run BokehJS code because BokehJS library is missing\");\n",
       "        }\n",
       "      }\n",
       "    }, 10, root)\n",
       "  }\n",
       "})(window);"
      ],
      "application/vnd.bokehjs_exec.v0+json": ""
     },
     "metadata": {
      "application/vnd.bokehjs_exec.v0+json": {
       "id": "13485"
      }
     },
     "output_type": "display_data"
    },
    {
     "name": "stdout",
     "output_type": "stream",
     "text": [
      "==========================================================================================================================================================================================================================================\n"
     ]
    },
    {
     "data": {
      "text/html": [
       "\n",
       "\n",
       "\n",
       "\n",
       "\n",
       "\n",
       "  <div class=\"bk-root\" id=\"2b615979-6026-4af4-9d24-e053632137e2\" data-root-id=\"14009\"></div>\n"
      ]
     },
     "metadata": {},
     "output_type": "display_data"
    },
    {
     "data": {
      "application/javascript": [
       "(function(root) {\n",
       "  function embed_document(root) {\n",
       "    \n",
       "  var docs_json = {\"4b5b9bac-a737-4500-9f5b-ccc45431aa2f\":{\"defs\":[],\"roots\":{\"references\":[{\"attributes\":{\"below\":[{\"id\":\"14017\"}],\"center\":[{\"id\":\"14019\"},{\"id\":\"14023\"}],\"height\":500,\"left\":[{\"id\":\"14020\"}],\"renderers\":[{\"id\":\"14029\"}],\"title\":{\"id\":\"14031\"},\"toolbar\":{\"id\":\"14024\"},\"toolbar_location\":null,\"width\":950,\"x_range\":{\"id\":\"14008\"},\"x_scale\":{\"id\":\"14013\"},\"y_range\":{\"id\":\"14011\"},\"y_scale\":{\"id\":\"14015\"}},\"id\":\"14009\",\"subtype\":\"Figure\",\"type\":\"Plot\"},{\"attributes\":{\"text\":\"WOHNDAUER_2008 [ks:0.2034 p:0.0000]\"},\"id\":\"14031\",\"type\":\"Title\"},{\"attributes\":{},\"id\":\"14013\",\"type\":\"CategoricalScale\"},{\"attributes\":{},\"id\":\"14484\",\"type\":\"CategoricalTickFormatter\"},{\"attributes\":{},\"id\":\"14485\",\"type\":\"AllLabels\"},{\"attributes\":{\"axis\":{\"id\":\"14020\"},\"dimension\":1,\"ticker\":null},\"id\":\"14023\",\"type\":\"Grid\"},{\"attributes\":{\"start\":0},\"id\":\"14011\",\"type\":\"DataRange1d\"},{\"attributes\":{},\"id\":\"14021\",\"type\":\"BasicTicker\"},{\"attributes\":{},\"id\":\"14489\",\"type\":\"UnionRenderers\"},{\"attributes\":{\"axis\":{\"id\":\"14017\"},\"grid_line_color\":null,\"ticker\":null},\"id\":\"14019\",\"type\":\"Grid\"},{\"attributes\":{},\"id\":\"14490\",\"type\":\"Selection\"},{\"attributes\":{\"active_multi\":null},\"id\":\"14024\",\"type\":\"Toolbar\"},{\"attributes\":{},\"id\":\"14018\",\"type\":\"CategoricalTicker\"},{\"attributes\":{\"fill_alpha\":{\"value\":0.1},\"fill_color\":{\"field\":\"x\",\"transform\":{\"id\":\"14025\"}},\"line_alpha\":{\"value\":0.1},\"line_color\":{\"value\":null},\"top\":{\"field\":\"counts\"},\"width\":{\"value\":0.9},\"x\":{\"field\":\"x\"}},\"id\":\"14028\",\"type\":\"VBar\"},{\"attributes\":{\"factors\":[[\"length of residence below 1 year\",\"a\"],[\"length of residence below 1 year\",\"c\"],[\"length of residence 1-2 years\",\"a\"],[\"length of residence 1-2 years\",\"c\"],[\"length of residence 2-3 years\",\"a\"],[\"length of residence 2-3 years\",\"c\"],[\"length of residence 3-4 years\",\"a\"],[\"length of residence 3-4 years\",\"c\"],[\"length of residence 4-5 years\",\"a\"],[\"length of residence 4-5 years\",\"c\"],[\"length of residence 5-6 years\",\"a\"],[\"length of residence 5-6 years\",\"c\"],[\"length of residence 6-7 years\",\"a\"],[\"length of residence 6-7 years\",\"c\"],[\"length of residence 7-10 years\",\"a\"],[\"length of residence 7-10 years\",\"c\"],[\"length of residence more than 10 years\",\"a\"],[\"length of residence more than 10 years\",\"c\"]]},\"id\":\"14008\",\"type\":\"FactorRange\"},{\"attributes\":{},\"id\":\"14015\",\"type\":\"LinearScale\"},{\"attributes\":{\"fill_color\":{\"field\":\"x\",\"transform\":{\"id\":\"14025\"}},\"line_color\":{\"value\":null},\"top\":{\"field\":\"counts\"},\"width\":{\"value\":0.9},\"x\":{\"field\":\"x\"}},\"id\":\"14027\",\"type\":\"VBar\"},{\"attributes\":{},\"id\":\"14487\",\"type\":\"BasicTickFormatter\"},{\"attributes\":{\"formatter\":{\"id\":\"14487\"},\"major_label_policy\":{\"id\":\"14488\"},\"ticker\":{\"id\":\"14021\"}},\"id\":\"14020\",\"type\":\"LinearAxis\"},{\"attributes\":{},\"id\":\"14488\",\"type\":\"AllLabels\"},{\"attributes\":{\"formatter\":{\"id\":\"14484\"},\"group_label_orientation\":1.5707963267948966,\"major_label_orientation\":0,\"major_label_policy\":{\"id\":\"14485\"},\"ticker\":{\"id\":\"14018\"}},\"id\":\"14017\",\"type\":\"CategoricalAxis\"},{\"attributes\":{\"end\":2,\"factors\":[\"a\",\"c\"],\"palette\":[\"#1f77b4\",\"#ff7f0e\"],\"start\":1},\"id\":\"14025\",\"type\":\"CategoricalColorMapper\"},{\"attributes\":{\"data\":{\"counts\":[0.0008354750281040099,0.0006763985229664907,0.0075523028162725585,0.00033819926148324534,0.047420241492650145,0.014583980398246885,0.06206123799539816,0.017054905614797944,0.03786793622989141,0.012278703799565173,0.0430214593534671,0.01621285847396211,0.029280769762409495,0.013721227180177382,0.09799889663473595,0.047727508023604925,0.6739616806870712,0.8774062187251959],\"x\":[[\"length of residence below 1 year\",\"a\"],[\"length of residence below 1 year\",\"c\"],[\"length of residence 1-2 years\",\"a\"],[\"length of residence 1-2 years\",\"c\"],[\"length of residence 2-3 years\",\"a\"],[\"length of residence 2-3 years\",\"c\"],[\"length of residence 3-4 years\",\"a\"],[\"length of residence 3-4 years\",\"c\"],[\"length of residence 4-5 years\",\"a\"],[\"length of residence 4-5 years\",\"c\"],[\"length of residence 5-6 years\",\"a\"],[\"length of residence 5-6 years\",\"c\"],[\"length of residence 6-7 years\",\"a\"],[\"length of residence 6-7 years\",\"c\"],[\"length of residence 7-10 years\",\"a\"],[\"length of residence 7-10 years\",\"c\"],[\"length of residence more than 10 years\",\"a\"],[\"length of residence more than 10 years\",\"c\"]]},\"selected\":{\"id\":\"14490\"},\"selection_policy\":{\"id\":\"14489\"}},\"id\":\"14007\",\"type\":\"ColumnDataSource\"},{\"attributes\":{\"source\":{\"id\":\"14007\"}},\"id\":\"14030\",\"type\":\"CDSView\"},{\"attributes\":{\"data_source\":{\"id\":\"14007\"},\"glyph\":{\"id\":\"14027\"},\"hover_glyph\":null,\"muted_glyph\":null,\"nonselection_glyph\":{\"id\":\"14028\"},\"view\":{\"id\":\"14030\"}},\"id\":\"14029\",\"type\":\"GlyphRenderer\"}],\"root_ids\":[\"14009\"]},\"title\":\"Bokeh Application\",\"version\":\"2.3.1\"}};\n",
       "  var render_items = [{\"docid\":\"4b5b9bac-a737-4500-9f5b-ccc45431aa2f\",\"root_ids\":[\"14009\"],\"roots\":{\"14009\":\"2b615979-6026-4af4-9d24-e053632137e2\"}}];\n",
       "  root.Bokeh.embed.embed_items_notebook(docs_json, render_items);\n",
       "\n",
       "  }\n",
       "  if (root.Bokeh !== undefined) {\n",
       "    embed_document(root);\n",
       "  } else {\n",
       "    var attempts = 0;\n",
       "    var timer = setInterval(function(root) {\n",
       "      if (root.Bokeh !== undefined) {\n",
       "        clearInterval(timer);\n",
       "        embed_document(root);\n",
       "      } else {\n",
       "        attempts++;\n",
       "        if (attempts > 100) {\n",
       "          clearInterval(timer);\n",
       "          console.log(\"Bokeh: ERROR: Unable to run BokehJS code because BokehJS library is missing\");\n",
       "        }\n",
       "      }\n",
       "    }, 10, root)\n",
       "  }\n",
       "})(window);"
      ],
      "application/vnd.bokehjs_exec.v0+json": ""
     },
     "metadata": {
      "application/vnd.bokehjs_exec.v0+json": {
       "id": "14009"
      }
     },
     "output_type": "display_data"
    },
    {
     "name": "stdout",
     "output_type": "stream",
     "text": [
      "==========================================================================================================================================================================================================================================\n"
     ]
    },
    {
     "data": {
      "text/html": [
       "\n",
       "\n",
       "\n",
       "\n",
       "\n",
       "\n",
       "  <div class=\"bk-root\" id=\"e9709c45-3b6b-49ce-80b7-4ee6992d619e\" data-root-id=\"14543\"></div>\n"
      ]
     },
     "metadata": {},
     "output_type": "display_data"
    },
    {
     "data": {
      "application/javascript": [
       "(function(root) {\n",
       "  function embed_document(root) {\n",
       "    \n",
       "  var docs_json = {\"571258e0-e389-4a9f-acab-a79bb9e1d3e6\":{\"defs\":[],\"roots\":{\"references\":[{\"attributes\":{\"below\":[{\"id\":\"14551\"}],\"center\":[{\"id\":\"14553\"},{\"id\":\"14557\"}],\"height\":500,\"left\":[{\"id\":\"14554\"}],\"renderers\":[{\"id\":\"14563\"}],\"title\":{\"id\":\"14565\"},\"toolbar\":{\"id\":\"14558\"},\"toolbar_location\":null,\"width\":950,\"x_range\":{\"id\":\"14542\"},\"x_scale\":{\"id\":\"14547\"},\"y_range\":{\"id\":\"14545\"},\"y_scale\":{\"id\":\"14549\"}},\"id\":\"14543\",\"subtype\":\"Figure\",\"type\":\"Plot\"},{\"attributes\":{},\"id\":\"15028\",\"type\":\"CategoricalTickFormatter\"},{\"attributes\":{\"formatter\":{\"id\":\"15028\"},\"group_label_orientation\":1.5707963267948966,\"major_label_orientation\":0,\"major_label_policy\":{\"id\":\"15029\"},\"ticker\":{\"id\":\"14552\"}},\"id\":\"14551\",\"type\":\"CategoricalAxis\"},{\"attributes\":{},\"id\":\"15029\",\"type\":\"AllLabels\"},{\"attributes\":{\"axis\":{\"id\":\"14551\"},\"grid_line_color\":null,\"ticker\":null},\"id\":\"14553\",\"type\":\"Grid\"},{\"attributes\":{\"factors\":[[\"highest affinity\",\"a\"],[\"highest affinity\",\"c\"],[\"very high affinity\",\"a\"],[\"very high affinity\",\"c\"],[\"high affinity\",\"a\"],[\"high affinity\",\"c\"],[\"average affinity\",\"a\"],[\"average affinity\",\"c\"],[\"low affinity\",\"a\"],[\"low affinity\",\"c\"],[\"very low affinity\",\"a\"],[\"very low affinity\",\"c\"],[\"lowest affinity\",\"a\"],[\"lowest affinity\",\"c\"]]},\"id\":\"14542\",\"type\":\"FactorRange\"},{\"attributes\":{\"formatter\":{\"id\":\"15031\"},\"major_label_policy\":{\"id\":\"15032\"},\"ticker\":{\"id\":\"14555\"}},\"id\":\"14554\",\"type\":\"LinearAxis\"},{\"attributes\":{\"axis\":{\"id\":\"14554\"},\"dimension\":1,\"ticker\":null},\"id\":\"14557\",\"type\":\"Grid\"},{\"attributes\":{},\"id\":\"15033\",\"type\":\"UnionRenderers\"},{\"attributes\":{},\"id\":\"14552\",\"type\":\"CategoricalTicker\"},{\"attributes\":{},\"id\":\"15034\",\"type\":\"Selection\"},{\"attributes\":{},\"id\":\"14555\",\"type\":\"BasicTicker\"},{\"attributes\":{\"active_multi\":null},\"id\":\"14558\",\"type\":\"Toolbar\"},{\"attributes\":{},\"id\":\"14547\",\"type\":\"CategoricalScale\"},{\"attributes\":{\"fill_alpha\":{\"value\":0.1},\"fill_color\":{\"field\":\"x\",\"transform\":{\"id\":\"14559\"}},\"line_alpha\":{\"value\":0.1},\"line_color\":{\"value\":null},\"top\":{\"field\":\"counts\"},\"width\":{\"value\":0.9},\"x\":{\"field\":\"x\"}},\"id\":\"14562\",\"type\":\"VBar\"},{\"attributes\":{\"start\":0},\"id\":\"14545\",\"type\":\"DataRange1d\"},{\"attributes\":{},\"id\":\"15031\",\"type\":\"BasicTickFormatter\"},{\"attributes\":{\"end\":2,\"factors\":[\"a\",\"c\"],\"palette\":[\"#1f77b4\",\"#ff7f0e\"],\"start\":1},\"id\":\"14559\",\"type\":\"CategoricalColorMapper\"},{\"attributes\":{},\"id\":\"15032\",\"type\":\"AllLabels\"},{\"attributes\":{\"data\":{\"counts\":[0.056260564202937596,0.11979499467518637,0.1359072042797985,0.13322683706070287,0.21565754936716103,0.35048588924387647,0.09409024481534548,0.04717119275825346,0.15315680435990167,0.1064563365282215,0.18333377040425883,0.1681975505857295,0.16159386257059688,0.07466719914802981],\"x\":[[\"highest affinity\",\"a\"],[\"highest affinity\",\"c\"],[\"very high affinity\",\"a\"],[\"very high affinity\",\"c\"],[\"high affinity\",\"a\"],[\"high affinity\",\"c\"],[\"average affinity\",\"a\"],[\"average affinity\",\"c\"],[\"low affinity\",\"a\"],[\"low affinity\",\"c\"],[\"very low affinity\",\"a\"],[\"very low affinity\",\"c\"],[\"lowest affinity\",\"a\"],[\"lowest affinity\",\"c\"]]},\"selected\":{\"id\":\"15034\"},\"selection_policy\":{\"id\":\"15033\"}},\"id\":\"14541\",\"type\":\"ColumnDataSource\"},{\"attributes\":{},\"id\":\"14549\",\"type\":\"LinearScale\"},{\"attributes\":{\"fill_color\":{\"field\":\"x\",\"transform\":{\"id\":\"14559\"}},\"line_color\":{\"value\":null},\"top\":{\"field\":\"counts\"},\"width\":{\"value\":0.9},\"x\":{\"field\":\"x\"}},\"id\":\"14561\",\"type\":\"VBar\"},{\"attributes\":{\"text\":\"SEMIO_KAEM [ks:0.1957 p:0.0000]\"},\"id\":\"14565\",\"type\":\"Title\"},{\"attributes\":{\"data_source\":{\"id\":\"14541\"},\"glyph\":{\"id\":\"14561\"},\"hover_glyph\":null,\"muted_glyph\":null,\"nonselection_glyph\":{\"id\":\"14562\"},\"view\":{\"id\":\"14564\"}},\"id\":\"14563\",\"type\":\"GlyphRenderer\"},{\"attributes\":{\"source\":{\"id\":\"14541\"}},\"id\":\"14564\",\"type\":\"CDSView\"}],\"root_ids\":[\"14543\"]},\"title\":\"Bokeh Application\",\"version\":\"2.3.1\"}};\n",
       "  var render_items = [{\"docid\":\"571258e0-e389-4a9f-acab-a79bb9e1d3e6\",\"root_ids\":[\"14543\"],\"roots\":{\"14543\":\"e9709c45-3b6b-49ce-80b7-4ee6992d619e\"}}];\n",
       "  root.Bokeh.embed.embed_items_notebook(docs_json, render_items);\n",
       "\n",
       "  }\n",
       "  if (root.Bokeh !== undefined) {\n",
       "    embed_document(root);\n",
       "  } else {\n",
       "    var attempts = 0;\n",
       "    var timer = setInterval(function(root) {\n",
       "      if (root.Bokeh !== undefined) {\n",
       "        clearInterval(timer);\n",
       "        embed_document(root);\n",
       "      } else {\n",
       "        attempts++;\n",
       "        if (attempts > 100) {\n",
       "          clearInterval(timer);\n",
       "          console.log(\"Bokeh: ERROR: Unable to run BokehJS code because BokehJS library is missing\");\n",
       "        }\n",
       "      }\n",
       "    }, 10, root)\n",
       "  }\n",
       "})(window);"
      ],
      "application/vnd.bokehjs_exec.v0+json": ""
     },
     "metadata": {
      "application/vnd.bokehjs_exec.v0+json": {
       "id": "14543"
      }
     },
     "output_type": "display_data"
    },
    {
     "name": "stdout",
     "output_type": "stream",
     "text": [
      "==========================================================================================================================================================================================================================================\n"
     ]
    },
    {
     "data": {
      "text/html": [
       "\n",
       "\n",
       "\n",
       "\n",
       "\n",
       "\n",
       "  <div class=\"bk-root\" id=\"480bd59a-76d0-4f51-8b35-b19ca9783c94\" data-root-id=\"15087\"></div>\n"
      ]
     },
     "metadata": {},
     "output_type": "display_data"
    },
    {
     "data": {
      "application/javascript": [
       "(function(root) {\n",
       "  function embed_document(root) {\n",
       "    \n",
       "  var docs_json = {\"e1c54a54-970c-4995-b3b8-1a18e2b91d1d\":{\"defs\":[],\"roots\":{\"references\":[{\"attributes\":{\"below\":[{\"id\":\"15095\"}],\"center\":[{\"id\":\"15097\"},{\"id\":\"15101\"}],\"height\":500,\"left\":[{\"id\":\"15098\"}],\"renderers\":[{\"id\":\"15107\"}],\"title\":{\"id\":\"15109\"},\"toolbar\":{\"id\":\"15102\"},\"toolbar_location\":null,\"width\":950,\"x_range\":{\"id\":\"15086\"},\"x_scale\":{\"id\":\"15091\"},\"y_range\":{\"id\":\"15089\"},\"y_scale\":{\"id\":\"15093\"}},\"id\":\"15087\",\"subtype\":\"Figure\",\"type\":\"Plot\"},{\"attributes\":{\"source\":{\"id\":\"15085\"}},\"id\":\"15108\",\"type\":\"CDSView\"},{\"attributes\":{},\"id\":\"15091\",\"type\":\"CategoricalScale\"},{\"attributes\":{\"formatter\":{\"id\":\"15585\"},\"major_label_policy\":{\"id\":\"15586\"},\"ticker\":{\"id\":\"15099\"}},\"id\":\"15098\",\"type\":\"LinearAxis\"},{\"attributes\":{\"data_source\":{\"id\":\"15085\"},\"glyph\":{\"id\":\"15105\"},\"hover_glyph\":null,\"muted_glyph\":null,\"nonselection_glyph\":{\"id\":\"15106\"},\"view\":{\"id\":\"15108\"}},\"id\":\"15107\",\"type\":\"GlyphRenderer\"},{\"attributes\":{\"factors\":[[\"1\",\"a\"],[\"1\",\"c\"],[\"2\",\"a\"],[\"2\",\"c\"],[\"3\",\"a\"],[\"3\",\"c\"],[\"4\",\"a\"],[\"4\",\"c\"],[\"5\",\"a\"],[\"5\",\"c\"],[\"6\",\"a\"],[\"6\",\"c\"],[\"7\",\"a\"],[\"7\",\"c\"],[\"8\",\"a\"],[\"8\",\"c\"],[\"9\",\"a\"],[\"9\",\"c\"],[\"10\",\"a\"],[\"10\",\"c\"],[\"11\",\"a\"],[\"11\",\"c\"],[\"12\",\"a\"],[\"12\",\"c\"],[\"13\",\"a\"],[\"13\",\"c\"],[\"14\",\"a\"],[\"14\",\"c\"],[\"15\",\"a\"],[\"15\",\"c\"],[\"16\",\"a\"],[\"16\",\"c\"],[\"17\",\"a\"],[\"17\",\"c\"],[\"18\",\"a\"],[\"18\",\"c\"],[\"19\",\"a\"],[\"19\",\"c\"],[\"20\",\"a\"],[\"20\",\"c\"],[\"21\",\"a\"],[\"21\",\"c\"],[\"22\",\"a\"],[\"22\",\"c\"],[\"23\",\"a\"],[\"23\",\"c\"],[\"24\",\"a\"],[\"24\",\"c\"],[\"25\",\"a\"],[\"25\",\"c\"],[\"26\",\"a\"],[\"26\",\"c\"],[\"27\",\"a\"],[\"27\",\"c\"],[\"28\",\"a\"],[\"28\",\"c\"],[\"29\",\"a\"],[\"29\",\"c\"],[\"30\",\"a\"],[\"30\",\"c\"],[\"31\",\"a\"],[\"31\",\"c\"],[\"32\",\"a\"],[\"32\",\"c\"],[\"33\",\"a\"],[\"33\",\"c\"],[\"34\",\"a\"],[\"34\",\"c\"],[\"35\",\"a\"],[\"35\",\"c\"],[\"36\",\"a\"],[\"36\",\"c\"],[\"37\",\"a\"],[\"37\",\"c\"],[\"38\",\"a\"],[\"38\",\"c\"],[\"39\",\"a\"],[\"39\",\"c\"],[\"40\",\"a\"],[\"40\",\"c\"],[\"41\",\"a\"],[\"41\",\"c\"],[\"42\",\"a\"],[\"42\",\"c\"],[\"43\",\"a\"],[\"43\",\"c\"],[\"44\",\"a\"],[\"44\",\"c\"]]},\"id\":\"15086\",\"type\":\"FactorRange\"},{\"attributes\":{\"text\":\"CAMEO_DEU_2015 [ks:0.1932 p:0.0000]\"},\"id\":\"15109\",\"type\":\"Title\"},{\"attributes\":{},\"id\":\"15582\",\"type\":\"CategoricalTickFormatter\"},{\"attributes\":{},\"id\":\"15583\",\"type\":\"AllLabels\"},{\"attributes\":{\"axis\":{\"id\":\"15095\"},\"grid_line_color\":null,\"ticker\":null},\"id\":\"15097\",\"type\":\"Grid\"},{\"attributes\":{\"axis\":{\"id\":\"15098\"},\"dimension\":1,\"ticker\":null},\"id\":\"15101\",\"type\":\"Grid\"},{\"attributes\":{},\"id\":\"15099\",\"type\":\"BasicTicker\"},{\"attributes\":{},\"id\":\"15587\",\"type\":\"UnionRenderers\"},{\"attributes\":{},\"id\":\"15096\",\"type\":\"CategoricalTicker\"},{\"attributes\":{},\"id\":\"15588\",\"type\":\"Selection\"},{\"attributes\":{\"active_multi\":null},\"id\":\"15102\",\"type\":\"Toolbar\"},{\"attributes\":{\"formatter\":{\"id\":\"15582\"},\"group_label_orientation\":1.5707963267948966,\"major_label_orientation\":0,\"major_label_policy\":{\"id\":\"15583\"},\"ticker\":{\"id\":\"15096\"}},\"id\":\"15095\",\"type\":\"CategoricalAxis\"},{\"attributes\":{\"data\":{\"counts\":[0.013704513016129644,0.02975903272500213,0.005142034330752422,0.008209633014503448,0.005452754165035177,0.015638747764879515,0.015042124010054187,0.04167257968381915,0.006397544555455912,0.023663894644225584,0.016734662944765128,0.026338943604007608,0.019558929405969358,0.02471404649050606,0.024530446754493437,0.035974796355689266,0.04430031198292304,0.07943547242641842,0.013316744767654824,0.013488774728237733,0.009043715501888318,0.012566344052450827,0.043915069911962715,0.04698719950046831,0.04333152290611461,0.05726875372520081,0.041876444657766104,0.05323134561348736,0.011427163986813354,0.014836942639003207,0.06039837819403569,0.06416569693185366,0.010824670649606547,0.015064002497658446,0.006720895277311137,0.009124968069707376,0.015427366081014512,0.013964181307297137,0.013078020992535145,0.012019981267561661,0.012548786803248665,0.011147219935855589,0.018873072210784252,0.03220702182612891,0.0045193315734296646,0.005825504498623449,0.0054060198810170395,0.007492975335622854,0.008601634436851878,0.005399767263644878,0.07157923987318589,0.0682669656288139,0.018717712293642875,0.020073510629239632,0.007670738022760859,0.008763091419975591,0.020343307524219728,0.021875798257315584,0.006809311490318425,0.008287684840916186,0.04344899016053858,0.029077853149036416,0.03094441146379356,0.02421025742911475,0.011439794874385824,0.008472170976073567,0.006708264389738667,0.005669400845797973,0.005850627123567973,0.007322680441631425,0.06622500663121597,0.030135100615899867,0.042225057154766266,0.026864019527147846,0.03914059440956916,0.019853546391167372,0.022191206376072047,0.015638747764879515,0.0259438430738528,0.007258819856384639,0.03494461355799472,0.006506684074589163,0.031543115534728626,0.006989186274231544,0.03610286594839019,0.013857746998552493,0.007999141099645071,0.010678908977379161],\"x\":[[\"1\",\"a\"],[\"1\",\"c\"],[\"2\",\"a\"],[\"2\",\"c\"],[\"3\",\"a\"],[\"3\",\"c\"],[\"4\",\"a\"],[\"4\",\"c\"],[\"5\",\"a\"],[\"5\",\"c\"],[\"6\",\"a\"],[\"6\",\"c\"],[\"7\",\"a\"],[\"7\",\"c\"],[\"8\",\"a\"],[\"8\",\"c\"],[\"9\",\"a\"],[\"9\",\"c\"],[\"10\",\"a\"],[\"10\",\"c\"],[\"11\",\"a\"],[\"11\",\"c\"],[\"12\",\"a\"],[\"12\",\"c\"],[\"13\",\"a\"],[\"13\",\"c\"],[\"14\",\"a\"],[\"14\",\"c\"],[\"15\",\"a\"],[\"15\",\"c\"],[\"16\",\"a\"],[\"16\",\"c\"],[\"17\",\"a\"],[\"17\",\"c\"],[\"18\",\"a\"],[\"18\",\"c\"],[\"19\",\"a\"],[\"19\",\"c\"],[\"20\",\"a\"],[\"20\",\"c\"],[\"21\",\"a\"],[\"21\",\"c\"],[\"22\",\"a\"],[\"22\",\"c\"],[\"23\",\"a\"],[\"23\",\"c\"],[\"24\",\"a\"],[\"24\",\"c\"],[\"25\",\"a\"],[\"25\",\"c\"],[\"26\",\"a\"],[\"26\",\"c\"],[\"27\",\"a\"],[\"27\",\"c\"],[\"28\",\"a\"],[\"28\",\"c\"],[\"29\",\"a\"],[\"29\",\"c\"],[\"30\",\"a\"],[\"30\",\"c\"],[\"31\",\"a\"],[\"31\",\"c\"],[\"32\",\"a\"],[\"32\",\"c\"],[\"33\",\"a\"],[\"33\",\"c\"],[\"34\",\"a\"],[\"34\",\"c\"],[\"35\",\"a\"],[\"35\",\"c\"],[\"36\",\"a\"],[\"36\",\"c\"],[\"37\",\"a\"],[\"37\",\"c\"],[\"38\",\"a\"],[\"38\",\"c\"],[\"39\",\"a\"],[\"39\",\"c\"],[\"40\",\"a\"],[\"40\",\"c\"],[\"41\",\"a\"],[\"41\",\"c\"],[\"42\",\"a\"],[\"42\",\"c\"],[\"43\",\"a\"],[\"43\",\"c\"],[\"44\",\"a\"],[\"44\",\"c\"]]},\"selected\":{\"id\":\"15588\"},\"selection_policy\":{\"id\":\"15587\"}},\"id\":\"15085\",\"type\":\"ColumnDataSource\"},{\"attributes\":{\"fill_alpha\":{\"value\":0.1},\"fill_color\":{\"field\":\"x\",\"transform\":{\"id\":\"15103\"}},\"line_alpha\":{\"value\":0.1},\"line_color\":{\"value\":null},\"top\":{\"field\":\"counts\"},\"width\":{\"value\":0.9},\"x\":{\"field\":\"x\"}},\"id\":\"15106\",\"type\":\"VBar\"},{\"attributes\":{\"start\":0},\"id\":\"15089\",\"type\":\"DataRange1d\"},{\"attributes\":{\"end\":2,\"factors\":[\"a\",\"c\"],\"palette\":[\"#1f77b4\",\"#ff7f0e\"],\"start\":1},\"id\":\"15103\",\"type\":\"CategoricalColorMapper\"},{\"attributes\":{},\"id\":\"15585\",\"type\":\"BasicTickFormatter\"},{\"attributes\":{},\"id\":\"15586\",\"type\":\"AllLabels\"},{\"attributes\":{},\"id\":\"15093\",\"type\":\"LinearScale\"},{\"attributes\":{\"fill_color\":{\"field\":\"x\",\"transform\":{\"id\":\"15103\"}},\"line_color\":{\"value\":null},\"top\":{\"field\":\"counts\"},\"width\":{\"value\":0.9},\"x\":{\"field\":\"x\"}},\"id\":\"15105\",\"type\":\"VBar\"}],\"root_ids\":[\"15087\"]},\"title\":\"Bokeh Application\",\"version\":\"2.3.1\"}};\n",
       "  var render_items = [{\"docid\":\"e1c54a54-970c-4995-b3b8-1a18e2b91d1d\",\"root_ids\":[\"15087\"],\"roots\":{\"15087\":\"480bd59a-76d0-4f51-8b35-b19ca9783c94\"}}];\n",
       "  root.Bokeh.embed.embed_items_notebook(docs_json, render_items);\n",
       "\n",
       "  }\n",
       "  if (root.Bokeh !== undefined) {\n",
       "    embed_document(root);\n",
       "  } else {\n",
       "    var attempts = 0;\n",
       "    var timer = setInterval(function(root) {\n",
       "      if (root.Bokeh !== undefined) {\n",
       "        clearInterval(timer);\n",
       "        embed_document(root);\n",
       "      } else {\n",
       "        attempts++;\n",
       "        if (attempts > 100) {\n",
       "          clearInterval(timer);\n",
       "          console.log(\"Bokeh: ERROR: Unable to run BokehJS code because BokehJS library is missing\");\n",
       "        }\n",
       "      }\n",
       "    }, 10, root)\n",
       "  }\n",
       "})(window);"
      ],
      "application/vnd.bokehjs_exec.v0+json": ""
     },
     "metadata": {
      "application/vnd.bokehjs_exec.v0+json": {
       "id": "15087"
      }
     },
     "output_type": "display_data"
    },
    {
     "name": "stdout",
     "output_type": "stream",
     "text": [
      "==========================================================================================================================================================================================================================================\n"
     ]
    },
    {
     "data": {
      "text/html": [
       "\n",
       "\n",
       "\n",
       "\n",
       "\n",
       "\n",
       "  <div class=\"bk-root\" id=\"7a651729-d68d-45e0-932a-3bad49aa9d99\" data-root-id=\"15641\"></div>\n"
      ]
     },
     "metadata": {},
     "output_type": "display_data"
    },
    {
     "data": {
      "application/javascript": [
       "(function(root) {\n",
       "  function embed_document(root) {\n",
       "    \n",
       "  var docs_json = {\"b6d6c3dd-df49-4855-846d-0f34208b0c19\":{\"defs\":[],\"roots\":{\"references\":[{\"attributes\":{\"below\":[{\"id\":\"15649\"}],\"center\":[{\"id\":\"15651\"},{\"id\":\"15655\"}],\"height\":500,\"left\":[{\"id\":\"15652\"}],\"renderers\":[{\"id\":\"15661\"}],\"title\":{\"id\":\"15663\"},\"toolbar\":{\"id\":\"15656\"},\"toolbar_location\":null,\"width\":950,\"x_range\":{\"id\":\"15640\"},\"x_scale\":{\"id\":\"15645\"},\"y_range\":{\"id\":\"15643\"},\"y_scale\":{\"id\":\"15647\"}},\"id\":\"15641\",\"subtype\":\"Figure\",\"type\":\"Plot\"},{\"attributes\":{\"source\":{\"id\":\"15639\"}},\"id\":\"15662\",\"type\":\"CDSView\"},{\"attributes\":{\"formatter\":{\"id\":\"16146\"},\"group_label_orientation\":1.5707963267948966,\"major_label_orientation\":0,\"major_label_policy\":{\"id\":\"16147\"},\"ticker\":{\"id\":\"15650\"}},\"id\":\"15649\",\"type\":\"CategoricalAxis\"},{\"attributes\":{\"data_source\":{\"id\":\"15639\"},\"glyph\":{\"id\":\"15659\"},\"hover_glyph\":null,\"muted_glyph\":null,\"nonselection_glyph\":{\"id\":\"15660\"},\"view\":{\"id\":\"15662\"}},\"id\":\"15661\",\"type\":\"GlyphRenderer\"},{\"attributes\":{\"axis\":{\"id\":\"15652\"},\"dimension\":1,\"ticker\":null},\"id\":\"15655\",\"type\":\"Grid\"},{\"attributes\":{\"text\":\"CAMEO_INTL_2015 [ks:0.1911 p:0.0000]\"},\"id\":\"15663\",\"type\":\"Title\"},{\"attributes\":{\"factors\":[[\"Wealthy Households-Young Couples With Children\",\"a\"],[\"Wealthy Households-Young Couples With Children\",\"c\"],[\"Wealthy Households-Families With School Age Children\",\"a\"],[\"Wealthy Households-Families With School Age Children\",\"c\"],[\"Wealthy Households-Older Families &  Mature Couples\",\"a\"],[\"Wealthy Households-Older Families &  Mature Couples\",\"c\"],[\"Wealthy Households-Elders In Retirement\",\"a\"],[\"Wealthy Households-Elders In Retirement\",\"c\"],[\"Prosperous Households-Young Couples With Children\",\"a\"],[\"Prosperous Households-Young Couples With Children\",\"c\"],[\"Prosperous Households-Families With School Age Children\",\"a\"],[\"Prosperous Households-Families With School Age Children\",\"c\"],[\"Prosperous Households-Older Families & Mature Couples\",\"a\"],[\"Prosperous Households-Older Families & Mature Couples\",\"c\"],[\"Prosperous Households-Elders In Retirement\",\"a\"],[\"Prosperous Households-Elders In Retirement\",\"c\"],[\"Comfortable Households-Pre-Family Couples & Singles\",\"a\"],[\"Comfortable Households-Pre-Family Couples & Singles\",\"c\"],[\"Comfortable Households-Young Couples With Children\",\"a\"],[\"Comfortable Households-Young Couples With Children\",\"c\"],[\"Comfortable Households-Families With School Age Children\",\"a\"],[\"Comfortable Households-Families With School Age Children\",\"c\"],[\"Comfortable Households-Older Families & Mature Couples\",\"a\"],[\"Comfortable Households-Older Families & Mature Couples\",\"c\"],[\"Comfortable Households-Elders In Retirement\",\"a\"],[\"Comfortable Households-Elders In Retirement\",\"c\"],[\"Less Affluent Households-Pre-Family Couples & Singles\",\"a\"],[\"Less Affluent Households-Pre-Family Couples & Singles\",\"c\"],[\"Less Affluent Households-Families With School Age Children\",\"a\"],[\"Less Affluent Households-Families With School Age Children\",\"c\"],[\"Less Affluent Households-Older Families & Mature Couples\",\"a\"],[\"Less Affluent Households-Older Families & Mature Couples\",\"c\"],[\"Less Affluent Households-Elders In Retirement\",\"a\"],[\"Less Affluent Households-Elders In Retirement\",\"c\"],[\"Poorer Households-Pre-Family Couples & Singles\",\"a\"],[\"Poorer Households-Pre-Family Couples & Singles\",\"c\"],[\"Poorer Households-Young Couples With Children\",\"a\"],[\"Poorer Households-Young Couples With Children\",\"c\"],[\"Poorer Households-Older Families & Mature Couples\",\"a\"],[\"Poorer Households-Older Families & Mature Couples\",\"c\"],[\"Poorer Households-Elders In Retirement\",\"a\"],[\"Poorer Households-Elders In Retirement\",\"c\"]]},\"id\":\"15640\",\"type\":\"FactorRange\"},{\"attributes\":{},\"id\":\"16146\",\"type\":\"CategoricalTickFormatter\"},{\"attributes\":{},\"id\":\"16147\",\"type\":\"AllLabels\"},{\"attributes\":{},\"id\":\"15650\",\"type\":\"CategoricalTicker\"},{\"attributes\":{\"axis\":{\"id\":\"15649\"},\"grid_line_color\":null,\"ticker\":null},\"id\":\"15651\",\"type\":\"Grid\"},{\"attributes\":{},\"id\":\"16151\",\"type\":\"UnionRenderers\"},{\"attributes\":{\"formatter\":{\"id\":\"16149\"},\"major_label_policy\":{\"id\":\"16150\"},\"ticker\":{\"id\":\"15653\"}},\"id\":\"15652\",\"type\":\"LinearAxis\"},{\"attributes\":{},\"id\":\"16152\",\"type\":\"Selection\"},{\"attributes\":{},\"id\":\"15653\",\"type\":\"BasicTicker\"},{\"attributes\":{\"active_multi\":null},\"id\":\"15656\",\"type\":\"Toolbar\"},{\"attributes\":{},\"id\":\"15645\",\"type\":\"CategoricalScale\"},{\"attributes\":{\"fill_alpha\":{\"value\":0.1},\"fill_color\":{\"field\":\"x\",\"transform\":{\"id\":\"15657\"}},\"line_alpha\":{\"value\":0.1},\"line_color\":{\"value\":null},\"top\":{\"field\":\"counts\"},\"width\":{\"value\":0.9},\"x\":{\"field\":\"x\"}},\"id\":\"15660\",\"type\":\"VBar\"},{\"attributes\":{\"start\":0},\"id\":\"15643\",\"type\":\"DataRange1d\"},{\"attributes\":{},\"id\":\"16149\",\"type\":\"BasicTickFormatter\"},{\"attributes\":{\"end\":2,\"factors\":[\"a\",\"c\"],\"palette\":[\"#1f77b4\",\"#ff7f0e\"],\"start\":1},\"id\":\"15657\",\"type\":\"CategoricalColorMapper\"},{\"attributes\":{},\"id\":\"16150\",\"type\":\"AllLabels\"},{\"attributes\":{},\"id\":\"15647\",\"type\":\"LinearScale\"},{\"attributes\":{\"fill_color\":{\"field\":\"x\",\"transform\":{\"id\":\"15657\"}},\"line_color\":{\"value\":null},\"top\":{\"field\":\"counts\"},\"width\":{\"value\":0.9},\"x\":{\"field\":\"x\"}},\"id\":\"15659\",\"type\":\"VBar\"},{\"attributes\":{\"data\":{\"counts\":[0.016734662944765128,0.026338943604007608,0.033263442422099,0.05447307921550819,0.07942554723320408,0.13925864956149064,0.0214396685655101,0.06533647432804474,0.041876444657766104,0.05323134561348736,0.033787624256356494,0.04089206141969177,0.11513811875560495,0.12621689892998042,0.05005241818342575,0.06639372179490818,0.02402900051786639,0.019363948570942015,0.013078020992535145,0.012019981267561661,0.012548786803248665,0.011147219935855589,0.023392403784213915,0.03803252632475236,0.013076757903777898,0.016256066755598444,0.1166184587790984,0.08015213010529901,0.07157923987318589,0.0682669656288139,0.018717712293642875,0.020073510629239632,0.033003246138106124,0.0374861635398632,0.1688156016723295,0.05748871796327307,0.0259438430738528,0.007258819856384639,0.05728865367369365,0.03399511821303891,0.030190347475717118,0.026317656742258676],\"x\":[[\"Wealthy Households-Young Couples With Children\",\"a\"],[\"Wealthy Households-Young Couples With Children\",\"c\"],[\"Wealthy Households-Families With School Age Children\",\"a\"],[\"Wealthy Households-Families With School Age Children\",\"c\"],[\"Wealthy Households-Older Families &  Mature Couples\",\"a\"],[\"Wealthy Households-Older Families &  Mature Couples\",\"c\"],[\"Wealthy Households-Elders In Retirement\",\"a\"],[\"Wealthy Households-Elders In Retirement\",\"c\"],[\"Prosperous Households-Young Couples With Children\",\"a\"],[\"Prosperous Households-Young Couples With Children\",\"c\"],[\"Prosperous Households-Families With School Age Children\",\"a\"],[\"Prosperous Households-Families With School Age Children\",\"c\"],[\"Prosperous Households-Older Families & Mature Couples\",\"a\"],[\"Prosperous Households-Older Families & Mature Couples\",\"c\"],[\"Prosperous Households-Elders In Retirement\",\"a\"],[\"Prosperous Households-Elders In Retirement\",\"c\"],[\"Comfortable Households-Pre-Family Couples & Singles\",\"a\"],[\"Comfortable Households-Pre-Family Couples & Singles\",\"c\"],[\"Comfortable Households-Young Couples With Children\",\"a\"],[\"Comfortable Households-Young Couples With Children\",\"c\"],[\"Comfortable Households-Families With School Age Children\",\"a\"],[\"Comfortable Households-Families With School Age Children\",\"c\"],[\"Comfortable Households-Older Families & Mature Couples\",\"a\"],[\"Comfortable Households-Older Families & Mature Couples\",\"c\"],[\"Comfortable Households-Elders In Retirement\",\"a\"],[\"Comfortable Households-Elders In Retirement\",\"c\"],[\"Less Affluent Households-Pre-Family Couples & Singles\",\"a\"],[\"Less Affluent Households-Pre-Family Couples & Singles\",\"c\"],[\"Less Affluent Households-Families With School Age Children\",\"a\"],[\"Less Affluent Households-Families With School Age Children\",\"c\"],[\"Less Affluent Households-Older Families & Mature Couples\",\"a\"],[\"Less Affluent Households-Older Families & Mature Couples\",\"c\"],[\"Less Affluent Households-Elders In Retirement\",\"a\"],[\"Less Affluent Households-Elders In Retirement\",\"c\"],[\"Poorer Households-Pre-Family Couples & Singles\",\"a\"],[\"Poorer Households-Pre-Family Couples & Singles\",\"c\"],[\"Poorer Households-Young Couples With Children\",\"a\"],[\"Poorer Households-Young Couples With Children\",\"c\"],[\"Poorer Households-Older Families & Mature Couples\",\"a\"],[\"Poorer Households-Older Families & Mature Couples\",\"c\"],[\"Poorer Households-Elders In Retirement\",\"a\"],[\"Poorer Households-Elders In Retirement\",\"c\"]]},\"selected\":{\"id\":\"16152\"},\"selection_policy\":{\"id\":\"16151\"}},\"id\":\"15639\",\"type\":\"ColumnDataSource\"}],\"root_ids\":[\"15641\"]},\"title\":\"Bokeh Application\",\"version\":\"2.3.1\"}};\n",
       "  var render_items = [{\"docid\":\"b6d6c3dd-df49-4855-846d-0f34208b0c19\",\"root_ids\":[\"15641\"],\"roots\":{\"15641\":\"7a651729-d68d-45e0-932a-3bad49aa9d99\"}}];\n",
       "  root.Bokeh.embed.embed_items_notebook(docs_json, render_items);\n",
       "\n",
       "  }\n",
       "  if (root.Bokeh !== undefined) {\n",
       "    embed_document(root);\n",
       "  } else {\n",
       "    var attempts = 0;\n",
       "    var timer = setInterval(function(root) {\n",
       "      if (root.Bokeh !== undefined) {\n",
       "        clearInterval(timer);\n",
       "        embed_document(root);\n",
       "      } else {\n",
       "        attempts++;\n",
       "        if (attempts > 100) {\n",
       "          clearInterval(timer);\n",
       "          console.log(\"Bokeh: ERROR: Unable to run BokehJS code because BokehJS library is missing\");\n",
       "        }\n",
       "      }\n",
       "    }, 10, root)\n",
       "  }\n",
       "})(window);"
      ],
      "application/vnd.bokehjs_exec.v0+json": ""
     },
     "metadata": {
      "application/vnd.bokehjs_exec.v0+json": {
       "id": "15641"
      }
     },
     "output_type": "display_data"
    },
    {
     "name": "stdout",
     "output_type": "stream",
     "text": [
      "==========================================================================================================================================================================================================================================\n"
     ]
    },
    {
     "data": {
      "text/html": [
       "\n",
       "\n",
       "\n",
       "\n",
       "\n",
       "\n",
       "  <div class=\"bk-root\" id=\"a57017f4-9f1a-4c8f-902e-2a9a34c43ac7\" data-root-id=\"16205\"></div>\n"
      ]
     },
     "metadata": {},
     "output_type": "display_data"
    },
    {
     "data": {
      "application/javascript": [
       "(function(root) {\n",
       "  function embed_document(root) {\n",
       "    \n",
       "  var docs_json = {\"456e6f50-e3d2-4cce-8530-bbc2a024b79f\":{\"defs\":[],\"roots\":{\"references\":[{\"attributes\":{\"below\":[{\"id\":\"16213\"}],\"center\":[{\"id\":\"16215\"},{\"id\":\"16219\"}],\"height\":500,\"left\":[{\"id\":\"16216\"}],\"renderers\":[{\"id\":\"16225\"}],\"title\":{\"id\":\"16227\"},\"toolbar\":{\"id\":\"16220\"},\"toolbar_location\":null,\"width\":950,\"x_range\":{\"id\":\"16204\"},\"x_scale\":{\"id\":\"16209\"},\"y_range\":{\"id\":\"16207\"},\"y_scale\":{\"id\":\"16211\"}},\"id\":\"16205\",\"subtype\":\"Figure\",\"type\":\"Plot\"},{\"attributes\":{\"data\":{\"counts\":[0.47830419659609164,0.6666466986155485,0.5216958034039084,0.3333533013844515],\"x\":[[\"male\",\"a\"],[\"male\",\"c\"],[\"female\",\"a\"],[\"female\",\"c\"]]},\"selected\":{\"id\":\"16726\"},\"selection_policy\":{\"id\":\"16725\"}},\"id\":\"16203\",\"type\":\"ColumnDataSource\"},{\"attributes\":{},\"id\":\"16724\",\"type\":\"AllLabels\"},{\"attributes\":{\"source\":{\"id\":\"16203\"}},\"id\":\"16226\",\"type\":\"CDSView\"},{\"attributes\":{},\"id\":\"16723\",\"type\":\"BasicTickFormatter\"},{\"attributes\":{\"data_source\":{\"id\":\"16203\"},\"glyph\":{\"id\":\"16223\"},\"hover_glyph\":null,\"muted_glyph\":null,\"nonselection_glyph\":{\"id\":\"16224\"},\"view\":{\"id\":\"16226\"}},\"id\":\"16225\",\"type\":\"GlyphRenderer\"},{\"attributes\":{\"text\":\"ANREDE_KZ [ks:0.1883 p:0.0000]\"},\"id\":\"16227\",\"type\":\"Title\"},{\"attributes\":{\"factors\":[[\"male\",\"a\"],[\"male\",\"c\"],[\"female\",\"a\"],[\"female\",\"c\"]]},\"id\":\"16204\",\"type\":\"FactorRange\"},{\"attributes\":{},\"id\":\"16209\",\"type\":\"CategoricalScale\"},{\"attributes\":{\"formatter\":{\"id\":\"16723\"},\"major_label_policy\":{\"id\":\"16724\"},\"ticker\":{\"id\":\"16217\"}},\"id\":\"16216\",\"type\":\"LinearAxis\"},{\"attributes\":{\"axis\":{\"id\":\"16213\"},\"grid_line_color\":null,\"ticker\":null},\"id\":\"16215\",\"type\":\"Grid\"},{\"attributes\":{},\"id\":\"16720\",\"type\":\"CategoricalTickFormatter\"},{\"attributes\":{\"axis\":{\"id\":\"16216\"},\"dimension\":1,\"ticker\":null},\"id\":\"16219\",\"type\":\"Grid\"},{\"attributes\":{},\"id\":\"16721\",\"type\":\"AllLabels\"},{\"attributes\":{},\"id\":\"16217\",\"type\":\"BasicTicker\"},{\"attributes\":{},\"id\":\"16214\",\"type\":\"CategoricalTicker\"},{\"attributes\":{\"active_multi\":null},\"id\":\"16220\",\"type\":\"Toolbar\"},{\"attributes\":{\"formatter\":{\"id\":\"16720\"},\"group_label_orientation\":1.5707963267948966,\"major_label_orientation\":0,\"major_label_policy\":{\"id\":\"16721\"},\"ticker\":{\"id\":\"16214\"}},\"id\":\"16213\",\"type\":\"CategoricalAxis\"},{\"attributes\":{\"fill_alpha\":{\"value\":0.1},\"fill_color\":{\"field\":\"x\",\"transform\":{\"id\":\"16221\"}},\"line_alpha\":{\"value\":0.1},\"line_color\":{\"value\":null},\"top\":{\"field\":\"counts\"},\"width\":{\"value\":0.9},\"x\":{\"field\":\"x\"}},\"id\":\"16224\",\"type\":\"VBar\"},{\"attributes\":{},\"id\":\"16725\",\"type\":\"UnionRenderers\"},{\"attributes\":{},\"id\":\"16726\",\"type\":\"Selection\"},{\"attributes\":{\"start\":0},\"id\":\"16207\",\"type\":\"DataRange1d\"},{\"attributes\":{\"end\":2,\"factors\":[\"a\",\"c\"],\"palette\":[\"#1f77b4\",\"#ff7f0e\"],\"start\":1},\"id\":\"16221\",\"type\":\"CategoricalColorMapper\"},{\"attributes\":{},\"id\":\"16211\",\"type\":\"LinearScale\"},{\"attributes\":{\"fill_color\":{\"field\":\"x\",\"transform\":{\"id\":\"16221\"}},\"line_color\":{\"value\":null},\"top\":{\"field\":\"counts\"},\"width\":{\"value\":0.9},\"x\":{\"field\":\"x\"}},\"id\":\"16223\",\"type\":\"VBar\"}],\"root_ids\":[\"16205\"]},\"title\":\"Bokeh Application\",\"version\":\"2.3.1\"}};\n",
       "  var render_items = [{\"docid\":\"456e6f50-e3d2-4cce-8530-bbc2a024b79f\",\"root_ids\":[\"16205\"],\"roots\":{\"16205\":\"a57017f4-9f1a-4c8f-902e-2a9a34c43ac7\"}}];\n",
       "  root.Bokeh.embed.embed_items_notebook(docs_json, render_items);\n",
       "\n",
       "  }\n",
       "  if (root.Bokeh !== undefined) {\n",
       "    embed_document(root);\n",
       "  } else {\n",
       "    var attempts = 0;\n",
       "    var timer = setInterval(function(root) {\n",
       "      if (root.Bokeh !== undefined) {\n",
       "        clearInterval(timer);\n",
       "        embed_document(root);\n",
       "      } else {\n",
       "        attempts++;\n",
       "        if (attempts > 100) {\n",
       "          clearInterval(timer);\n",
       "          console.log(\"Bokeh: ERROR: Unable to run BokehJS code because BokehJS library is missing\");\n",
       "        }\n",
       "      }\n",
       "    }, 10, root)\n",
       "  }\n",
       "})(window);"
      ],
      "application/vnd.bokehjs_exec.v0+json": ""
     },
     "metadata": {
      "application/vnd.bokehjs_exec.v0+json": {
       "id": "16205"
      }
     },
     "output_type": "display_data"
    },
    {
     "name": "stdout",
     "output_type": "stream",
     "text": [
      "==========================================================================================================================================================================================================================================\n"
     ]
    },
    {
     "data": {
      "text/html": [
       "\n",
       "\n",
       "\n",
       "\n",
       "\n",
       "\n",
       "  <div class=\"bk-root\" id=\"08a22e1a-11ea-4327-a94f-1a629401cd4b\" data-root-id=\"16779\"></div>\n"
      ]
     },
     "metadata": {},
     "output_type": "display_data"
    },
    {
     "data": {
      "application/javascript": [
       "(function(root) {\n",
       "  function embed_document(root) {\n",
       "    \n",
       "  var docs_json = {\"250c817d-7743-4482-abbe-29bbcc5ecf44\":{\"defs\":[],\"roots\":{\"references\":[{\"attributes\":{\"below\":[{\"id\":\"16787\"}],\"center\":[{\"id\":\"16789\"},{\"id\":\"16793\"}],\"height\":500,\"left\":[{\"id\":\"16790\"}],\"renderers\":[{\"id\":\"16799\"}],\"title\":{\"id\":\"16801\"},\"toolbar\":{\"id\":\"16794\"},\"toolbar_location\":null,\"width\":950,\"x_range\":{\"id\":\"16778\"},\"x_scale\":{\"id\":\"16783\"},\"y_range\":{\"id\":\"16781\"},\"y_scale\":{\"id\":\"16785\"}},\"id\":\"16779\",\"subtype\":\"Figure\",\"type\":\"Plot\"},{\"attributes\":{},\"id\":\"17307\",\"type\":\"BasicTickFormatter\"},{\"attributes\":{},\"id\":\"17308\",\"type\":\"AllLabels\"},{\"attributes\":{\"data\":{\"counts\":[0.05335443988566225,0.0588325346112886,0.12094984253526567,0.07740282215122471,0.11562870268607897,0.333772630457934,0.1491218450432581,0.06289936102236422,0.21199688169761527,0.27890708200212994,0.15645390848688429,0.11007055378061768,0.19249437966523547,0.0781150159744409],\"x\":[[\"highest affinity\",\"a\"],[\"highest affinity\",\"c\"],[\"very high affinity\",\"a\"],[\"very high affinity\",\"c\"],[\"high affinity\",\"a\"],[\"high affinity\",\"c\"],[\"average affinity\",\"a\"],[\"average affinity\",\"c\"],[\"low affinity\",\"a\"],[\"low affinity\",\"c\"],[\"very low affinity\",\"a\"],[\"very low affinity\",\"c\"],[\"lowest affinity\",\"a\"],[\"lowest affinity\",\"c\"]]},\"selected\":{\"id\":\"17310\"},\"selection_policy\":{\"id\":\"17309\"}},\"id\":\"16777\",\"type\":\"ColumnDataSource\"},{\"attributes\":{\"source\":{\"id\":\"16777\"}},\"id\":\"16800\",\"type\":\"CDSView\"},{\"attributes\":{\"formatter\":{\"id\":\"17307\"},\"major_label_policy\":{\"id\":\"17308\"},\"ticker\":{\"id\":\"16791\"}},\"id\":\"16790\",\"type\":\"LinearAxis\"},{\"attributes\":{\"formatter\":{\"id\":\"17304\"},\"group_label_orientation\":1.5707963267948966,\"major_label_orientation\":0,\"major_label_policy\":{\"id\":\"17305\"},\"ticker\":{\"id\":\"16788\"}},\"id\":\"16787\",\"type\":\"CategoricalAxis\"},{\"attributes\":{\"data_source\":{\"id\":\"16777\"},\"glyph\":{\"id\":\"16797\"},\"hover_glyph\":null,\"muted_glyph\":null,\"nonselection_glyph\":{\"id\":\"16798\"},\"view\":{\"id\":\"16800\"}},\"id\":\"16799\",\"type\":\"GlyphRenderer\"},{\"attributes\":{\"text\":\"SEMIO_DOM [ks:0.1801 p:0.0000]\"},\"id\":\"16801\",\"type\":\"Title\"},{\"attributes\":{},\"id\":\"17310\",\"type\":\"Selection\"},{\"attributes\":{\"axis\":{\"id\":\"16790\"},\"dimension\":1,\"ticker\":null},\"id\":\"16793\",\"type\":\"Grid\"},{\"attributes\":{\"axis\":{\"id\":\"16787\"},\"grid_line_color\":null,\"ticker\":null},\"id\":\"16789\",\"type\":\"Grid\"},{\"attributes\":{},\"id\":\"17304\",\"type\":\"CategoricalTickFormatter\"},{\"attributes\":{\"start\":0},\"id\":\"16781\",\"type\":\"DataRange1d\"},{\"attributes\":{},\"id\":\"17305\",\"type\":\"AllLabels\"},{\"attributes\":{\"factors\":[[\"highest affinity\",\"a\"],[\"highest affinity\",\"c\"],[\"very high affinity\",\"a\"],[\"very high affinity\",\"c\"],[\"high affinity\",\"a\"],[\"high affinity\",\"c\"],[\"average affinity\",\"a\"],[\"average affinity\",\"c\"],[\"low affinity\",\"a\"],[\"low affinity\",\"c\"],[\"very low affinity\",\"a\"],[\"very low affinity\",\"c\"],[\"lowest affinity\",\"a\"],[\"lowest affinity\",\"c\"]]},\"id\":\"16778\",\"type\":\"FactorRange\"},{\"attributes\":{},\"id\":\"16791\",\"type\":\"BasicTicker\"},{\"attributes\":{},\"id\":\"16788\",\"type\":\"CategoricalTicker\"},{\"attributes\":{\"active_multi\":null},\"id\":\"16794\",\"type\":\"Toolbar\"},{\"attributes\":{\"fill_color\":{\"field\":\"x\",\"transform\":{\"id\":\"16795\"}},\"line_color\":{\"value\":null},\"top\":{\"field\":\"counts\"},\"width\":{\"value\":0.9},\"x\":{\"field\":\"x\"}},\"id\":\"16797\",\"type\":\"VBar\"},{\"attributes\":{\"fill_alpha\":{\"value\":0.1},\"fill_color\":{\"field\":\"x\",\"transform\":{\"id\":\"16795\"}},\"line_alpha\":{\"value\":0.1},\"line_color\":{\"value\":null},\"top\":{\"field\":\"counts\"},\"width\":{\"value\":0.9},\"x\":{\"field\":\"x\"}},\"id\":\"16798\",\"type\":\"VBar\"},{\"attributes\":{},\"id\":\"17309\",\"type\":\"UnionRenderers\"},{\"attributes\":{},\"id\":\"16785\",\"type\":\"LinearScale\"},{\"attributes\":{},\"id\":\"16783\",\"type\":\"CategoricalScale\"},{\"attributes\":{\"end\":2,\"factors\":[\"a\",\"c\"],\"palette\":[\"#1f77b4\",\"#ff7f0e\"],\"start\":1},\"id\":\"16795\",\"type\":\"CategoricalColorMapper\"}],\"root_ids\":[\"16779\"]},\"title\":\"Bokeh Application\",\"version\":\"2.3.1\"}};\n",
       "  var render_items = [{\"docid\":\"250c817d-7743-4482-abbe-29bbcc5ecf44\",\"root_ids\":[\"16779\"],\"roots\":{\"16779\":\"08a22e1a-11ea-4327-a94f-1a629401cd4b\"}}];\n",
       "  root.Bokeh.embed.embed_items_notebook(docs_json, render_items);\n",
       "\n",
       "  }\n",
       "  if (root.Bokeh !== undefined) {\n",
       "    embed_document(root);\n",
       "  } else {\n",
       "    var attempts = 0;\n",
       "    var timer = setInterval(function(root) {\n",
       "      if (root.Bokeh !== undefined) {\n",
       "        clearInterval(timer);\n",
       "        embed_document(root);\n",
       "      } else {\n",
       "        attempts++;\n",
       "        if (attempts > 100) {\n",
       "          clearInterval(timer);\n",
       "          console.log(\"Bokeh: ERROR: Unable to run BokehJS code because BokehJS library is missing\");\n",
       "        }\n",
       "      }\n",
       "    }, 10, root)\n",
       "  }\n",
       "})(window);"
      ],
      "application/vnd.bokehjs_exec.v0+json": ""
     },
     "metadata": {
      "application/vnd.bokehjs_exec.v0+json": {
       "id": "16779"
      }
     },
     "output_type": "display_data"
    },
    {
     "name": "stdout",
     "output_type": "stream",
     "text": [
      "==========================================================================================================================================================================================================================================\n"
     ]
    },
    {
     "data": {
      "text/html": [
       "\n",
       "\n",
       "\n",
       "\n",
       "\n",
       "\n",
       "  <div class=\"bk-root\" id=\"0fab828b-144f-4ec4-94cf-02eb0cb185d6\" data-root-id=\"17363\"></div>\n"
      ]
     },
     "metadata": {},
     "output_type": "display_data"
    },
    {
     "data": {
      "application/javascript": [
       "(function(root) {\n",
       "  function embed_document(root) {\n",
       "    \n",
       "  var docs_json = {\"e1b13f8b-2410-4180-84b3-e5fc07f8b03d\":{\"defs\":[],\"roots\":{\"references\":[{\"attributes\":{\"below\":[{\"id\":\"17371\"}],\"center\":[{\"id\":\"17373\"},{\"id\":\"17377\"}],\"height\":500,\"left\":[{\"id\":\"17374\"}],\"renderers\":[{\"id\":\"17383\"}],\"title\":{\"id\":\"17385\"},\"toolbar\":{\"id\":\"17378\"},\"toolbar_location\":null,\"width\":950,\"x_range\":{\"id\":\"17362\"},\"x_scale\":{\"id\":\"17367\"},\"y_range\":{\"id\":\"17365\"},\"y_scale\":{\"id\":\"17369\"}},\"id\":\"17363\",\"subtype\":\"Figure\",\"type\":\"Plot\"},{\"attributes\":{},\"id\":\"17369\",\"type\":\"LinearScale\"},{\"attributes\":{\"data\":{\"counts\":[0.08145492169675701,0.06080271565495208,0.24347075637905016,0.09937433439829606,0.03789643326284571,0.04416932907348243,0.14654709995494197,0.12496006389776358,0.1611420901685266,0.16723908413205538,0.1688949337122341,0.19407614483493077,0.16059376482564447,0.3093783280085197],\"x\":[[\"highest affinity\",\"a\"],[\"highest affinity\",\"c\"],[\"very high affinity\",\"a\"],[\"very high affinity\",\"c\"],[\"high affinity\",\"a\"],[\"high affinity\",\"c\"],[\"average affinity\",\"a\"],[\"average affinity\",\"c\"],[\"low affinity\",\"a\"],[\"low affinity\",\"c\"],[\"very low affinity\",\"a\"],[\"very low affinity\",\"c\"],[\"lowest affinity\",\"a\"],[\"lowest affinity\",\"c\"]]},\"selected\":{\"id\":\"17904\"},\"selection_policy\":{\"id\":\"17903\"}},\"id\":\"17361\",\"type\":\"ColumnDataSource\"},{\"attributes\":{\"fill_color\":{\"field\":\"x\",\"transform\":{\"id\":\"17379\"}},\"line_color\":{\"value\":null},\"top\":{\"field\":\"counts\"},\"width\":{\"value\":0.9},\"x\":{\"field\":\"x\"}},\"id\":\"17381\",\"type\":\"VBar\"},{\"attributes\":{},\"id\":\"17901\",\"type\":\"BasicTickFormatter\"},{\"attributes\":{},\"id\":\"17902\",\"type\":\"AllLabels\"},{\"attributes\":{\"source\":{\"id\":\"17361\"}},\"id\":\"17384\",\"type\":\"CDSView\"},{\"attributes\":{\"factors\":[[\"highest affinity\",\"a\"],[\"highest affinity\",\"c\"],[\"very high affinity\",\"a\"],[\"very high affinity\",\"c\"],[\"high affinity\",\"a\"],[\"high affinity\",\"c\"],[\"average affinity\",\"a\"],[\"average affinity\",\"c\"],[\"low affinity\",\"a\"],[\"low affinity\",\"c\"],[\"very low affinity\",\"a\"],[\"very low affinity\",\"c\"],[\"lowest affinity\",\"a\"],[\"lowest affinity\",\"c\"]]},\"id\":\"17362\",\"type\":\"FactorRange\"},{\"attributes\":{\"data_source\":{\"id\":\"17361\"},\"glyph\":{\"id\":\"17381\"},\"hover_glyph\":null,\"muted_glyph\":null,\"nonselection_glyph\":{\"id\":\"17382\"},\"view\":{\"id\":\"17384\"}},\"id\":\"17383\",\"type\":\"GlyphRenderer\"},{\"attributes\":{},\"id\":\"17367\",\"type\":\"CategoricalScale\"},{\"attributes\":{\"text\":\"SEMIO_VERT [ks:0.1801 p:0.0000]\"},\"id\":\"17385\",\"type\":\"Title\"},{\"attributes\":{\"formatter\":{\"id\":\"17901\"},\"major_label_policy\":{\"id\":\"17902\"},\"ticker\":{\"id\":\"17375\"}},\"id\":\"17374\",\"type\":\"LinearAxis\"},{\"attributes\":{\"axis\":{\"id\":\"17371\"},\"grid_line_color\":null,\"ticker\":null},\"id\":\"17373\",\"type\":\"Grid\"},{\"attributes\":{},\"id\":\"17898\",\"type\":\"CategoricalTickFormatter\"},{\"attributes\":{\"axis\":{\"id\":\"17374\"},\"dimension\":1,\"ticker\":null},\"id\":\"17377\",\"type\":\"Grid\"},{\"attributes\":{},\"id\":\"17899\",\"type\":\"AllLabels\"},{\"attributes\":{},\"id\":\"17375\",\"type\":\"BasicTicker\"},{\"attributes\":{},\"id\":\"17372\",\"type\":\"CategoricalTicker\"},{\"attributes\":{\"active_multi\":null},\"id\":\"17378\",\"type\":\"Toolbar\"},{\"attributes\":{\"formatter\":{\"id\":\"17898\"},\"group_label_orientation\":1.5707963267948966,\"major_label_orientation\":0,\"major_label_policy\":{\"id\":\"17899\"},\"ticker\":{\"id\":\"17372\"}},\"id\":\"17371\",\"type\":\"CategoricalAxis\"},{\"attributes\":{\"fill_alpha\":{\"value\":0.1},\"fill_color\":{\"field\":\"x\",\"transform\":{\"id\":\"17379\"}},\"line_alpha\":{\"value\":0.1},\"line_color\":{\"value\":null},\"top\":{\"field\":\"counts\"},\"width\":{\"value\":0.9},\"x\":{\"field\":\"x\"}},\"id\":\"17382\",\"type\":\"VBar\"},{\"attributes\":{},\"id\":\"17903\",\"type\":\"UnionRenderers\"},{\"attributes\":{},\"id\":\"17904\",\"type\":\"Selection\"},{\"attributes\":{\"start\":0},\"id\":\"17365\",\"type\":\"DataRange1d\"},{\"attributes\":{\"end\":2,\"factors\":[\"a\",\"c\"],\"palette\":[\"#1f77b4\",\"#ff7f0e\"],\"start\":1},\"id\":\"17379\",\"type\":\"CategoricalColorMapper\"}],\"root_ids\":[\"17363\"]},\"title\":\"Bokeh Application\",\"version\":\"2.3.1\"}};\n",
       "  var render_items = [{\"docid\":\"e1b13f8b-2410-4180-84b3-e5fc07f8b03d\",\"root_ids\":[\"17363\"],\"roots\":{\"17363\":\"0fab828b-144f-4ec4-94cf-02eb0cb185d6\"}}];\n",
       "  root.Bokeh.embed.embed_items_notebook(docs_json, render_items);\n",
       "\n",
       "  }\n",
       "  if (root.Bokeh !== undefined) {\n",
       "    embed_document(root);\n",
       "  } else {\n",
       "    var attempts = 0;\n",
       "    var timer = setInterval(function(root) {\n",
       "      if (root.Bokeh !== undefined) {\n",
       "        clearInterval(timer);\n",
       "        embed_document(root);\n",
       "      } else {\n",
       "        attempts++;\n",
       "        if (attempts > 100) {\n",
       "          clearInterval(timer);\n",
       "          console.log(\"Bokeh: ERROR: Unable to run BokehJS code because BokehJS library is missing\");\n",
       "        }\n",
       "      }\n",
       "    }, 10, root)\n",
       "  }\n",
       "})(window);"
      ],
      "application/vnd.bokehjs_exec.v0+json": ""
     },
     "metadata": {
      "application/vnd.bokehjs_exec.v0+json": {
       "id": "17363"
      }
     },
     "output_type": "display_data"
    },
    {
     "name": "stdout",
     "output_type": "stream",
     "text": [
      "==========================================================================================================================================================================================================================================\n"
     ]
    },
    {
     "data": {
      "text/html": [
       "\n",
       "\n",
       "\n",
       "\n",
       "\n",
       "\n",
       "  <div class=\"bk-root\" id=\"d4404f6d-d16b-40d1-a52b-1bf1b6170fe4\" data-root-id=\"17957\"></div>\n"
      ]
     },
     "metadata": {},
     "output_type": "display_data"
    },
    {
     "data": {
      "application/javascript": [
       "(function(root) {\n",
       "  function embed_document(root) {\n",
       "    \n",
       "  var docs_json = {\"370bee8f-cbcb-4bcc-9d0a-a75f13151fad\":{\"defs\":[],\"roots\":{\"references\":[{\"attributes\":{\"below\":[{\"id\":\"17965\"}],\"center\":[{\"id\":\"17967\"},{\"id\":\"17971\"}],\"height\":500,\"left\":[{\"id\":\"17968\"}],\"renderers\":[{\"id\":\"17977\"}],\"title\":{\"id\":\"17979\"},\"toolbar\":{\"id\":\"17972\"},\"toolbar_location\":null,\"width\":950,\"x_range\":{\"id\":\"17956\"},\"x_scale\":{\"id\":\"17961\"},\"y_range\":{\"id\":\"17959\"},\"y_scale\":{\"id\":\"17963\"}},\"id\":\"17957\",\"subtype\":\"Figure\",\"type\":\"Plot\"},{\"attributes\":{},\"id\":\"18506\",\"type\":\"AllLabels\"},{\"attributes\":{\"data\":{\"counts\":[0.1288576475889181,0.13760649627263047,0.08706572036837927,0.19674520766773163,0.1797422394083808,0.2165135782747604,0.24685130131908006,0.2540135782747604,0.09482452397016157,0.11124201277955272,0.07280449340698376,0.01888312034078807,0.18985407393809645,0.06499600638977636],\"x\":[[\"highest affinity\",\"a\"],[\"highest affinity\",\"c\"],[\"very high affinity\",\"a\"],[\"very high affinity\",\"c\"],[\"high affinity\",\"a\"],[\"high affinity\",\"c\"],[\"average affinity\",\"a\"],[\"average affinity\",\"c\"],[\"low affinity\",\"a\"],[\"low affinity\",\"c\"],[\"very low affinity\",\"a\"],[\"very low affinity\",\"c\"],[\"lowest affinity\",\"a\"],[\"lowest affinity\",\"c\"]]},\"selected\":{\"id\":\"18508\"},\"selection_policy\":{\"id\":\"18507\"}},\"id\":\"17955\",\"type\":\"ColumnDataSource\"},{\"attributes\":{\"source\":{\"id\":\"17955\"}},\"id\":\"17978\",\"type\":\"CDSView\"},{\"attributes\":{},\"id\":\"18508\",\"type\":\"Selection\"},{\"attributes\":{\"end\":2,\"factors\":[\"a\",\"c\"],\"palette\":[\"#1f77b4\",\"#ff7f0e\"],\"start\":1},\"id\":\"17973\",\"type\":\"CategoricalColorMapper\"},{\"attributes\":{\"data_source\":{\"id\":\"17955\"},\"glyph\":{\"id\":\"17975\"},\"hover_glyph\":null,\"muted_glyph\":null,\"nonselection_glyph\":{\"id\":\"17976\"},\"view\":{\"id\":\"17978\"}},\"id\":\"17977\",\"type\":\"GlyphRenderer\"},{\"attributes\":{\"text\":\"SEMIO_REL [ks:0.1788 p:0.0000]\"},\"id\":\"17979\",\"type\":\"Title\"},{\"attributes\":{},\"id\":\"18507\",\"type\":\"UnionRenderers\"},{\"attributes\":{},\"id\":\"17966\",\"type\":\"CategoricalTicker\"},{\"attributes\":{\"formatter\":{\"id\":\"18505\"},\"major_label_policy\":{\"id\":\"18506\"},\"ticker\":{\"id\":\"17969\"}},\"id\":\"17968\",\"type\":\"LinearAxis\"},{\"attributes\":{\"start\":0},\"id\":\"17959\",\"type\":\"DataRange1d\"},{\"attributes\":{},\"id\":\"17961\",\"type\":\"CategoricalScale\"},{\"attributes\":{},\"id\":\"18502\",\"type\":\"CategoricalTickFormatter\"},{\"attributes\":{\"formatter\":{\"id\":\"18502\"},\"group_label_orientation\":1.5707963267948966,\"major_label_orientation\":0,\"major_label_policy\":{\"id\":\"18503\"},\"ticker\":{\"id\":\"17966\"}},\"id\":\"17965\",\"type\":\"CategoricalAxis\"},{\"attributes\":{\"factors\":[[\"highest affinity\",\"a\"],[\"highest affinity\",\"c\"],[\"very high affinity\",\"a\"],[\"very high affinity\",\"c\"],[\"high affinity\",\"a\"],[\"high affinity\",\"c\"],[\"average affinity\",\"a\"],[\"average affinity\",\"c\"],[\"low affinity\",\"a\"],[\"low affinity\",\"c\"],[\"very low affinity\",\"a\"],[\"very low affinity\",\"c\"],[\"lowest affinity\",\"a\"],[\"lowest affinity\",\"c\"]]},\"id\":\"17956\",\"type\":\"FactorRange\"},{\"attributes\":{\"fill_alpha\":{\"value\":0.1},\"fill_color\":{\"field\":\"x\",\"transform\":{\"id\":\"17973\"}},\"line_alpha\":{\"value\":0.1},\"line_color\":{\"value\":null},\"top\":{\"field\":\"counts\"},\"width\":{\"value\":0.9},\"x\":{\"field\":\"x\"}},\"id\":\"17976\",\"type\":\"VBar\"},{\"attributes\":{},\"id\":\"18503\",\"type\":\"AllLabels\"},{\"attributes\":{\"axis\":{\"id\":\"17965\"},\"grid_line_color\":null,\"ticker\":null},\"id\":\"17967\",\"type\":\"Grid\"},{\"attributes\":{},\"id\":\"17963\",\"type\":\"LinearScale\"},{\"attributes\":{},\"id\":\"18505\",\"type\":\"BasicTickFormatter\"},{\"attributes\":{\"active_multi\":null},\"id\":\"17972\",\"type\":\"Toolbar\"},{\"attributes\":{\"fill_color\":{\"field\":\"x\",\"transform\":{\"id\":\"17973\"}},\"line_color\":{\"value\":null},\"top\":{\"field\":\"counts\"},\"width\":{\"value\":0.9},\"x\":{\"field\":\"x\"}},\"id\":\"17975\",\"type\":\"VBar\"},{\"attributes\":{\"axis\":{\"id\":\"17968\"},\"dimension\":1,\"ticker\":null},\"id\":\"17971\",\"type\":\"Grid\"},{\"attributes\":{},\"id\":\"17969\",\"type\":\"BasicTicker\"}],\"root_ids\":[\"17957\"]},\"title\":\"Bokeh Application\",\"version\":\"2.3.1\"}};\n",
       "  var render_items = [{\"docid\":\"370bee8f-cbcb-4bcc-9d0a-a75f13151fad\",\"root_ids\":[\"17957\"],\"roots\":{\"17957\":\"d4404f6d-d16b-40d1-a52b-1bf1b6170fe4\"}}];\n",
       "  root.Bokeh.embed.embed_items_notebook(docs_json, render_items);\n",
       "\n",
       "  }\n",
       "  if (root.Bokeh !== undefined) {\n",
       "    embed_document(root);\n",
       "  } else {\n",
       "    var attempts = 0;\n",
       "    var timer = setInterval(function(root) {\n",
       "      if (root.Bokeh !== undefined) {\n",
       "        clearInterval(timer);\n",
       "        embed_document(root);\n",
       "      } else {\n",
       "        attempts++;\n",
       "        if (attempts > 100) {\n",
       "          clearInterval(timer);\n",
       "          console.log(\"Bokeh: ERROR: Unable to run BokehJS code because BokehJS library is missing\");\n",
       "        }\n",
       "      }\n",
       "    }, 10, root)\n",
       "  }\n",
       "})(window);"
      ],
      "application/vnd.bokehjs_exec.v0+json": ""
     },
     "metadata": {
      "application/vnd.bokehjs_exec.v0+json": {
       "id": "17957"
      }
     },
     "output_type": "display_data"
    },
    {
     "name": "stdout",
     "output_type": "stream",
     "text": [
      "==========================================================================================================================================================================================================================================\n"
     ]
    },
    {
     "data": {
      "text/html": [
       "\n",
       "\n",
       "\n",
       "\n",
       "\n",
       "\n",
       "  <div class=\"bk-root\" id=\"85d1175f-6652-4573-92e1-dfc8f286534d\" data-root-id=\"18561\"></div>\n"
      ]
     },
     "metadata": {},
     "output_type": "display_data"
    },
    {
     "data": {
      "application/javascript": [
       "(function(root) {\n",
       "  function embed_document(root) {\n",
       "    \n",
       "  var docs_json = {\"f92df06e-52e9-4079-844e-3d42de6cee40\":{\"defs\":[],\"roots\":{\"references\":[{\"attributes\":{\"below\":[{\"id\":\"18569\"}],\"center\":[{\"id\":\"18571\"},{\"id\":\"18575\"}],\"height\":500,\"left\":[{\"id\":\"18572\"}],\"renderers\":[{\"id\":\"18581\"}],\"title\":{\"id\":\"18583\"},\"toolbar\":{\"id\":\"18576\"},\"toolbar_location\":null,\"width\":950,\"x_range\":{\"id\":\"18560\"},\"x_scale\":{\"id\":\"18565\"},\"y_range\":{\"id\":\"18563\"},\"y_scale\":{\"id\":\"18567\"}},\"id\":\"18561\",\"subtype\":\"Figure\",\"type\":\"Plot\"},{\"attributes\":{\"fill_alpha\":{\"value\":0.1},\"fill_color\":{\"field\":\"x\",\"transform\":{\"id\":\"18577\"}},\"line_alpha\":{\"value\":0.1},\"line_color\":{\"value\":null},\"top\":{\"field\":\"counts\"},\"width\":{\"value\":0.9},\"x\":{\"field\":\"x\"}},\"id\":\"18580\",\"type\":\"VBar\"},{\"attributes\":{},\"id\":\"19121\",\"type\":\"UnionRenderers\"},{\"attributes\":{},\"id\":\"19122\",\"type\":\"Selection\"},{\"attributes\":{\"data\":{\"counts\":[0.11319581551779132,0.03982106897909747,0.1659553908248781,0.08189363709995022,0.3472331571630255,0.3299597999658188,0.26203751929596475,0.38736931273546,0.11157811719834031,0.1609561812196735],\"x\":[[\"very low car quote\",\"a\"],[\"very low car quote\",\"c\"],[\"low car quote\",\"a\"],[\"low car quote\",\"c\"],[\"average car quote\",\"a\"],[\"average car quote\",\"c\"],[\"high car quote\",\"a\"],[\"high car quote\",\"c\"],[\"very high car quote\",\"a\"],[\"very high car quote\",\"c\"]]},\"selected\":{\"id\":\"19122\"},\"selection_policy\":{\"id\":\"19121\"}},\"id\":\"18559\",\"type\":\"ColumnDataSource\"},{\"attributes\":{},\"id\":\"18567\",\"type\":\"LinearScale\"},{\"attributes\":{},\"id\":\"18565\",\"type\":\"CategoricalScale\"},{\"attributes\":{\"end\":2,\"factors\":[\"a\",\"c\"],\"palette\":[\"#1f77b4\",\"#ff7f0e\"],\"start\":1},\"id\":\"18577\",\"type\":\"CategoricalColorMapper\"},{\"attributes\":{\"fill_color\":{\"field\":\"x\",\"transform\":{\"id\":\"18577\"}},\"line_color\":{\"value\":null},\"top\":{\"field\":\"counts\"},\"width\":{\"value\":0.9},\"x\":{\"field\":\"x\"}},\"id\":\"18579\",\"type\":\"VBar\"},{\"attributes\":{},\"id\":\"19119\",\"type\":\"BasicTickFormatter\"},{\"attributes\":{},\"id\":\"19120\",\"type\":\"AllLabels\"},{\"attributes\":{\"factors\":[[\"very low car quote\",\"a\"],[\"very low car quote\",\"c\"],[\"low car quote\",\"a\"],[\"low car quote\",\"c\"],[\"average car quote\",\"a\"],[\"average car quote\",\"c\"],[\"high car quote\",\"a\"],[\"high car quote\",\"c\"],[\"very high car quote\",\"a\"],[\"very high car quote\",\"c\"]]},\"id\":\"18560\",\"type\":\"FactorRange\"},{\"attributes\":{\"source\":{\"id\":\"18559\"}},\"id\":\"18582\",\"type\":\"CDSView\"},{\"attributes\":{\"data_source\":{\"id\":\"18559\"},\"glyph\":{\"id\":\"18579\"},\"hover_glyph\":null,\"muted_glyph\":null,\"nonselection_glyph\":{\"id\":\"18580\"},\"view\":{\"id\":\"18582\"}},\"id\":\"18581\",\"type\":\"GlyphRenderer\"},{\"attributes\":{\"text\":\"KBA05_AUTOQUOT [ks:0.1747 p:0.0000]\"},\"id\":\"18583\",\"type\":\"Title\"},{\"attributes\":{\"formatter\":{\"id\":\"19116\"},\"group_label_orientation\":1.5707963267948966,\"major_label_orientation\":0,\"major_label_policy\":{\"id\":\"19117\"},\"ticker\":{\"id\":\"18570\"}},\"id\":\"18569\",\"type\":\"CategoricalAxis\"},{\"attributes\":{\"axis\":{\"id\":\"18572\"},\"dimension\":1,\"ticker\":null},\"id\":\"18575\",\"type\":\"Grid\"},{\"attributes\":{},\"id\":\"18573\",\"type\":\"BasicTicker\"},{\"attributes\":{},\"id\":\"19116\",\"type\":\"CategoricalTickFormatter\"},{\"attributes\":{},\"id\":\"19117\",\"type\":\"AllLabels\"},{\"attributes\":{\"formatter\":{\"id\":\"19119\"},\"major_label_policy\":{\"id\":\"19120\"},\"ticker\":{\"id\":\"18573\"}},\"id\":\"18572\",\"type\":\"LinearAxis\"},{\"attributes\":{\"axis\":{\"id\":\"18569\"},\"grid_line_color\":null,\"ticker\":null},\"id\":\"18571\",\"type\":\"Grid\"},{\"attributes\":{\"active_multi\":null},\"id\":\"18576\",\"type\":\"Toolbar\"},{\"attributes\":{\"start\":0},\"id\":\"18563\",\"type\":\"DataRange1d\"},{\"attributes\":{},\"id\":\"18570\",\"type\":\"CategoricalTicker\"}],\"root_ids\":[\"18561\"]},\"title\":\"Bokeh Application\",\"version\":\"2.3.1\"}};\n",
       "  var render_items = [{\"docid\":\"f92df06e-52e9-4079-844e-3d42de6cee40\",\"root_ids\":[\"18561\"],\"roots\":{\"18561\":\"85d1175f-6652-4573-92e1-dfc8f286534d\"}}];\n",
       "  root.Bokeh.embed.embed_items_notebook(docs_json, render_items);\n",
       "\n",
       "  }\n",
       "  if (root.Bokeh !== undefined) {\n",
       "    embed_document(root);\n",
       "  } else {\n",
       "    var attempts = 0;\n",
       "    var timer = setInterval(function(root) {\n",
       "      if (root.Bokeh !== undefined) {\n",
       "        clearInterval(timer);\n",
       "        embed_document(root);\n",
       "      } else {\n",
       "        attempts++;\n",
       "        if (attempts > 100) {\n",
       "          clearInterval(timer);\n",
       "          console.log(\"Bokeh: ERROR: Unable to run BokehJS code because BokehJS library is missing\");\n",
       "        }\n",
       "      }\n",
       "    }, 10, root)\n",
       "  }\n",
       "})(window);"
      ],
      "application/vnd.bokehjs_exec.v0+json": ""
     },
     "metadata": {
      "application/vnd.bokehjs_exec.v0+json": {
       "id": "18561"
      }
     },
     "output_type": "display_data"
    },
    {
     "name": "stdout",
     "output_type": "stream",
     "text": [
      "==========================================================================================================================================================================================================================================\n"
     ]
    },
    {
     "data": {
      "text/html": [
       "\n",
       "\n",
       "\n",
       "\n",
       "\n",
       "\n",
       "  <div class=\"bk-root\" id=\"38522cf7-7384-410c-aa87-91448ff7f43c\" data-root-id=\"19175\"></div>\n"
      ]
     },
     "metadata": {},
     "output_type": "display_data"
    },
    {
     "data": {
      "application/javascript": [
       "(function(root) {\n",
       "  function embed_document(root) {\n",
       "    \n",
       "  var docs_json = {\"b3b61f21-6fbf-4358-8440-095b739654cb\":{\"defs\":[],\"roots\":{\"references\":[{\"attributes\":{\"below\":[{\"id\":\"19183\"}],\"center\":[{\"id\":\"19185\"},{\"id\":\"19189\"}],\"height\":500,\"left\":[{\"id\":\"19186\"}],\"renderers\":[{\"id\":\"19195\"}],\"title\":{\"id\":\"19197\"},\"toolbar\":{\"id\":\"19190\"},\"toolbar_location\":null,\"width\":950,\"x_range\":{\"id\":\"19174\"},\"x_scale\":{\"id\":\"19179\"},\"y_range\":{\"id\":\"19177\"},\"y_scale\":{\"id\":\"19181\"}},\"id\":\"19175\",\"subtype\":\"Figure\",\"type\":\"Plot\"},{\"attributes\":{\"fill_alpha\":{\"value\":0.1},\"fill_color\":{\"field\":\"x\",\"transform\":{\"id\":\"19191\"}},\"line_alpha\":{\"value\":0.1},\"line_color\":{\"value\":null},\"top\":{\"field\":\"counts\"},\"width\":{\"value\":0.9},\"x\":{\"field\":\"x\"}},\"id\":\"19194\",\"type\":\"VBar\"},{\"attributes\":{\"data\":{\"counts\":[0.14140167736741738,0.06950829834180755,0.18278817792500016,0.08756613951840837,0.26106356443875495,0.2558354057664067,0.20495423861904227,0.3170785704270565,0.20979234164978522,0.2700115859463209],\"x\":[[\"1-2 buildings\",\"a\"],[\"1-2 buildings\",\"c\"],[\"3-4 buildings\",\"a\"],[\"3-4 buildings\",\"c\"],[\"5-16 buildings\",\"a\"],[\"5-16 buildings\",\"c\"],[\"17-22 buildings\",\"a\"],[\"17-22 buildings\",\"c\"],[\">=23 buildings\",\"a\"],[\">=23 buildings\",\"c\"]]},\"selected\":{\"id\":\"19746\"},\"selection_policy\":{\"id\":\"19745\"}},\"id\":\"19173\",\"type\":\"ColumnDataSource\"},{\"attributes\":{},\"id\":\"19745\",\"type\":\"UnionRenderers\"},{\"attributes\":{},\"id\":\"19746\",\"type\":\"Selection\"},{\"attributes\":{\"axis\":{\"id\":\"19186\"},\"dimension\":1,\"ticker\":null},\"id\":\"19189\",\"type\":\"Grid\"},{\"attributes\":{},\"id\":\"19187\",\"type\":\"BasicTicker\"},{\"attributes\":{\"active_multi\":null},\"id\":\"19190\",\"type\":\"Toolbar\"},{\"attributes\":{\"fill_color\":{\"field\":\"x\",\"transform\":{\"id\":\"19191\"}},\"line_color\":{\"value\":null},\"top\":{\"field\":\"counts\"},\"width\":{\"value\":0.9},\"x\":{\"field\":\"x\"}},\"id\":\"19193\",\"type\":\"VBar\"},{\"attributes\":{},\"id\":\"19744\",\"type\":\"AllLabels\"},{\"attributes\":{\"factors\":[[\"1-2 buildings\",\"a\"],[\"1-2 buildings\",\"c\"],[\"3-4 buildings\",\"a\"],[\"3-4 buildings\",\"c\"],[\"5-16 buildings\",\"a\"],[\"5-16 buildings\",\"c\"],[\"17-22 buildings\",\"a\"],[\"17-22 buildings\",\"c\"],[\">=23 buildings\",\"a\"],[\">=23 buildings\",\"c\"]]},\"id\":\"19174\",\"type\":\"FactorRange\"},{\"attributes\":{\"source\":{\"id\":\"19173\"}},\"id\":\"19196\",\"type\":\"CDSView\"},{\"attributes\":{\"data_source\":{\"id\":\"19173\"},\"glyph\":{\"id\":\"19193\"},\"hover_glyph\":null,\"muted_glyph\":null,\"nonselection_glyph\":{\"id\":\"19194\"},\"view\":{\"id\":\"19196\"}},\"id\":\"19195\",\"type\":\"GlyphRenderer\"},{\"attributes\":{\"text\":\"KBA05_GBZ [ks:0.1723 p:0.0000]\"},\"id\":\"19197\",\"type\":\"Title\"},{\"attributes\":{\"formatter\":{\"id\":\"19743\"},\"major_label_policy\":{\"id\":\"19744\"},\"ticker\":{\"id\":\"19187\"}},\"id\":\"19186\",\"type\":\"LinearAxis\"},{\"attributes\":{},\"id\":\"19184\",\"type\":\"CategoricalTicker\"},{\"attributes\":{},\"id\":\"19179\",\"type\":\"CategoricalScale\"},{\"attributes\":{},\"id\":\"19740\",\"type\":\"CategoricalTickFormatter\"},{\"attributes\":{\"end\":2,\"factors\":[\"a\",\"c\"],\"palette\":[\"#1f77b4\",\"#ff7f0e\"],\"start\":1},\"id\":\"19191\",\"type\":\"CategoricalColorMapper\"},{\"attributes\":{},\"id\":\"19741\",\"type\":\"AllLabels\"},{\"attributes\":{\"formatter\":{\"id\":\"19740\"},\"group_label_orientation\":1.5707963267948966,\"major_label_orientation\":0,\"major_label_policy\":{\"id\":\"19741\"},\"ticker\":{\"id\":\"19184\"}},\"id\":\"19183\",\"type\":\"CategoricalAxis\"},{\"attributes\":{\"axis\":{\"id\":\"19183\"},\"grid_line_color\":null,\"ticker\":null},\"id\":\"19185\",\"type\":\"Grid\"},{\"attributes\":{\"start\":0},\"id\":\"19177\",\"type\":\"DataRange1d\"},{\"attributes\":{},\"id\":\"19743\",\"type\":\"BasicTickFormatter\"},{\"attributes\":{},\"id\":\"19181\",\"type\":\"LinearScale\"}],\"root_ids\":[\"19175\"]},\"title\":\"Bokeh Application\",\"version\":\"2.3.1\"}};\n",
       "  var render_items = [{\"docid\":\"b3b61f21-6fbf-4358-8440-095b739654cb\",\"root_ids\":[\"19175\"],\"roots\":{\"19175\":\"38522cf7-7384-410c-aa87-91448ff7f43c\"}}];\n",
       "  root.Bokeh.embed.embed_items_notebook(docs_json, render_items);\n",
       "\n",
       "  }\n",
       "  if (root.Bokeh !== undefined) {\n",
       "    embed_document(root);\n",
       "  } else {\n",
       "    var attempts = 0;\n",
       "    var timer = setInterval(function(root) {\n",
       "      if (root.Bokeh !== undefined) {\n",
       "        clearInterval(timer);\n",
       "        embed_document(root);\n",
       "      } else {\n",
       "        attempts++;\n",
       "        if (attempts > 100) {\n",
       "          clearInterval(timer);\n",
       "          console.log(\"Bokeh: ERROR: Unable to run BokehJS code because BokehJS library is missing\");\n",
       "        }\n",
       "      }\n",
       "    }, 10, root)\n",
       "  }\n",
       "})(window);"
      ],
      "application/vnd.bokehjs_exec.v0+json": ""
     },
     "metadata": {
      "application/vnd.bokehjs_exec.v0+json": {
       "id": "19175"
      }
     },
     "output_type": "display_data"
    },
    {
     "name": "stdout",
     "output_type": "stream",
     "text": [
      "==========================================================================================================================================================================================================================================\n"
     ]
    },
    {
     "data": {
      "text/html": [
       "\n",
       "\n",
       "\n",
       "\n",
       "\n",
       "\n",
       "  <div class=\"bk-root\" id=\"42bf6c00-239b-4901-8cb7-87d77f86844c\" data-root-id=\"19799\"></div>\n"
      ]
     },
     "metadata": {},
     "output_type": "display_data"
    },
    {
     "data": {
      "application/javascript": [
       "(function(root) {\n",
       "  function embed_document(root) {\n",
       "    \n",
       "  var docs_json = {\"11ca8050-93cc-4434-9e14-b58b10db2705\":{\"defs\":[],\"roots\":{\"references\":[{\"attributes\":{\"below\":[{\"id\":\"19807\"}],\"center\":[{\"id\":\"19809\"},{\"id\":\"19813\"}],\"height\":500,\"left\":[{\"id\":\"19810\"}],\"renderers\":[{\"id\":\"19819\"}],\"title\":{\"id\":\"19821\"},\"toolbar\":{\"id\":\"19814\"},\"toolbar_location\":null,\"width\":950,\"x_range\":{\"id\":\"19798\"},\"x_scale\":{\"id\":\"19803\"},\"y_range\":{\"id\":\"19801\"},\"y_scale\":{\"id\":\"19805\"}},\"id\":\"19799\",\"subtype\":\"Figure\",\"type\":\"Plot\"},{\"attributes\":{\"active_multi\":null},\"id\":\"19814\",\"type\":\"Toolbar\"},{\"attributes\":{\"start\":0},\"id\":\"19801\",\"type\":\"DataRange1d\"},{\"attributes\":{},\"id\":\"19808\",\"type\":\"CategoricalTicker\"},{\"attributes\":{\"fill_alpha\":{\"value\":0.1},\"fill_color\":{\"field\":\"x\",\"transform\":{\"id\":\"19815\"}},\"line_alpha\":{\"value\":0.1},\"line_color\":{\"value\":null},\"top\":{\"field\":\"counts\"},\"width\":{\"value\":0.9},\"x\":{\"field\":\"x\"}},\"id\":\"19818\",\"type\":\"VBar\"},{\"attributes\":{},\"id\":\"20379\",\"type\":\"UnionRenderers\"},{\"attributes\":{\"data\":{\"counts\":[0.06864404954807035,0.019765489158703502,0.24990713774298956,0.16452169002362943,0.28146684682841744,0.2502489262732393,0.1375343859516901,0.1618392307806625,0.2624475799288325,0.40362466376376527],\"x\":[[\"below 30 years\",\"a\"],[\"below 30 years\",\"c\"],[\"30 - 40 years\",\"a\"],[\"30 - 40 years\",\"c\"],[\"40 - 50 years\",\"a\"],[\"40 - 50 years\",\"c\"],[\"50 - 60 years\",\"a\"],[\"50 - 60 years\",\"c\"],[\"elder than 60 years\",\"a\"],[\"elder than 60 years\",\"c\"]]},\"selected\":{\"id\":\"20380\"},\"selection_policy\":{\"id\":\"20379\"}},\"id\":\"19797\",\"type\":\"ColumnDataSource\"},{\"attributes\":{},\"id\":\"20380\",\"type\":\"Selection\"},{\"attributes\":{},\"id\":\"19805\",\"type\":\"LinearScale\"},{\"attributes\":{},\"id\":\"19803\",\"type\":\"CategoricalScale\"},{\"attributes\":{\"end\":2,\"factors\":[\"a\",\"c\"],\"palette\":[\"#1f77b4\",\"#ff7f0e\"],\"start\":1},\"id\":\"19815\",\"type\":\"CategoricalColorMapper\"},{\"attributes\":{\"fill_color\":{\"field\":\"x\",\"transform\":{\"id\":\"19815\"}},\"line_color\":{\"value\":null},\"top\":{\"field\":\"counts\"},\"width\":{\"value\":0.9},\"x\":{\"field\":\"x\"}},\"id\":\"19817\",\"type\":\"VBar\"},{\"attributes\":{},\"id\":\"20377\",\"type\":\"BasicTickFormatter\"},{\"attributes\":{},\"id\":\"20378\",\"type\":\"AllLabels\"},{\"attributes\":{\"factors\":[[\"below 30 years\",\"a\"],[\"below 30 years\",\"c\"],[\"30 - 40 years\",\"a\"],[\"30 - 40 years\",\"c\"],[\"40 - 50 years\",\"a\"],[\"40 - 50 years\",\"c\"],[\"50 - 60 years\",\"a\"],[\"50 - 60 years\",\"c\"],[\"elder than 60 years\",\"a\"],[\"elder than 60 years\",\"c\"]]},\"id\":\"19798\",\"type\":\"FactorRange\"},{\"attributes\":{\"source\":{\"id\":\"19797\"}},\"id\":\"19820\",\"type\":\"CDSView\"},{\"attributes\":{\"data_source\":{\"id\":\"19797\"},\"glyph\":{\"id\":\"19817\"},\"hover_glyph\":null,\"muted_glyph\":null,\"nonselection_glyph\":{\"id\":\"19818\"},\"view\":{\"id\":\"19820\"}},\"id\":\"19819\",\"type\":\"GlyphRenderer\"},{\"attributes\":{\"formatter\":{\"id\":\"20374\"},\"group_label_orientation\":1.5707963267948966,\"major_label_orientation\":0,\"major_label_policy\":{\"id\":\"20375\"},\"ticker\":{\"id\":\"19808\"}},\"id\":\"19807\",\"type\":\"CategoricalAxis\"},{\"attributes\":{\"text\":\"KBA05_MAXAH [ks:0.1655 p:0.0000]\"},\"id\":\"19821\",\"type\":\"Title\"},{\"attributes\":{\"axis\":{\"id\":\"19810\"},\"dimension\":1,\"ticker\":null},\"id\":\"19813\",\"type\":\"Grid\"},{\"attributes\":{},\"id\":\"19811\",\"type\":\"BasicTicker\"},{\"attributes\":{},\"id\":\"20374\",\"type\":\"CategoricalTickFormatter\"},{\"attributes\":{},\"id\":\"20375\",\"type\":\"AllLabels\"},{\"attributes\":{\"formatter\":{\"id\":\"20377\"},\"major_label_policy\":{\"id\":\"20378\"},\"ticker\":{\"id\":\"19811\"}},\"id\":\"19810\",\"type\":\"LinearAxis\"},{\"attributes\":{\"axis\":{\"id\":\"19807\"},\"grid_line_color\":null,\"ticker\":null},\"id\":\"19809\",\"type\":\"Grid\"}],\"root_ids\":[\"19799\"]},\"title\":\"Bokeh Application\",\"version\":\"2.3.1\"}};\n",
       "  var render_items = [{\"docid\":\"11ca8050-93cc-4434-9e14-b58b10db2705\",\"root_ids\":[\"19799\"],\"roots\":{\"19799\":\"42bf6c00-239b-4901-8cb7-87d77f86844c\"}}];\n",
       "  root.Bokeh.embed.embed_items_notebook(docs_json, render_items);\n",
       "\n",
       "  }\n",
       "  if (root.Bokeh !== undefined) {\n",
       "    embed_document(root);\n",
       "  } else {\n",
       "    var attempts = 0;\n",
       "    var timer = setInterval(function(root) {\n",
       "      if (root.Bokeh !== undefined) {\n",
       "        clearInterval(timer);\n",
       "        embed_document(root);\n",
       "      } else {\n",
       "        attempts++;\n",
       "        if (attempts > 100) {\n",
       "          clearInterval(timer);\n",
       "          console.log(\"Bokeh: ERROR: Unable to run BokehJS code because BokehJS library is missing\");\n",
       "        }\n",
       "      }\n",
       "    }, 10, root)\n",
       "  }\n",
       "})(window);"
      ],
      "application/vnd.bokehjs_exec.v0+json": ""
     },
     "metadata": {
      "application/vnd.bokehjs_exec.v0+json": {
       "id": "19799"
      }
     },
     "output_type": "display_data"
    },
    {
     "name": "stdout",
     "output_type": "stream",
     "text": [
      "==========================================================================================================================================================================================================================================\n"
     ]
    },
    {
     "data": {
      "text/html": [
       "\n",
       "\n",
       "\n",
       "\n",
       "\n",
       "\n",
       "  <div class=\"bk-root\" id=\"50030516-4880-4539-8648-a7199e34d4ff\" data-root-id=\"20433\"></div>\n"
      ]
     },
     "metadata": {},
     "output_type": "display_data"
    },
    {
     "data": {
      "application/javascript": [
       "(function(root) {\n",
       "  function embed_document(root) {\n",
       "    \n",
       "  var docs_json = {\"61569cd4-9a5c-4892-bd3f-5b89feb3dc63\":{\"defs\":[],\"roots\":{\"references\":[{\"attributes\":{\"below\":[{\"id\":\"20441\"}],\"center\":[{\"id\":\"20443\"},{\"id\":\"20447\"}],\"height\":500,\"left\":[{\"id\":\"20444\"}],\"renderers\":[{\"id\":\"20453\"}],\"title\":{\"id\":\"20455\"},\"toolbar\":{\"id\":\"20448\"},\"toolbar_location\":null,\"width\":950,\"x_range\":{\"id\":\"20432\"},\"x_scale\":{\"id\":\"20437\"},\"y_range\":{\"id\":\"20435\"},\"y_scale\":{\"id\":\"20439\"}},\"id\":\"20433\",\"subtype\":\"Figure\",\"type\":\"Plot\"},{\"attributes\":{\"active_multi\":null},\"id\":\"20448\",\"type\":\"Toolbar\"},{\"attributes\":{\"formatter\":{\"id\":\"21018\"},\"group_label_orientation\":1.5707963267948966,\"major_label_orientation\":0,\"major_label_policy\":{\"id\":\"21019\"},\"ticker\":{\"id\":\"20442\"}},\"id\":\"20441\",\"type\":\"CategoricalAxis\"},{\"attributes\":{\"axis\":{\"id\":\"20441\"},\"grid_line_color\":null,\"ticker\":null},\"id\":\"20443\",\"type\":\"Grid\"},{\"attributes\":{},\"id\":\"20442\",\"type\":\"CategoricalTicker\"},{\"attributes\":{\"formatter\":{\"id\":\"21021\"},\"major_label_policy\":{\"id\":\"21022\"},\"ticker\":{\"id\":\"20445\"}},\"id\":\"20444\",\"type\":\"LinearAxis\"},{\"attributes\":{},\"id\":\"21018\",\"type\":\"CategoricalTickFormatter\"},{\"attributes\":{},\"id\":\"21019\",\"type\":\"AllLabels\"},{\"attributes\":{},\"id\":\"20445\",\"type\":\"BasicTicker\"},{\"attributes\":{},\"id\":\"20437\",\"type\":\"CategoricalScale\"},{\"attributes\":{},\"id\":\"20439\",\"type\":\"LinearScale\"},{\"attributes\":{},\"id\":\"21023\",\"type\":\"UnionRenderers\"},{\"attributes\":{},\"id\":\"21024\",\"type\":\"Selection\"},{\"attributes\":{\"end\":2,\"factors\":[\"a\",\"c\"],\"palette\":[\"#1f77b4\",\"#ff7f0e\"],\"start\":1},\"id\":\"20449\",\"type\":\"CategoricalColorMapper\"},{\"attributes\":{\"fill_alpha\":{\"value\":0.1},\"fill_color\":{\"field\":\"x\",\"transform\":{\"id\":\"20449\"}},\"line_alpha\":{\"value\":0.1},\"line_color\":{\"value\":null},\"top\":{\"field\":\"counts\"},\"width\":{\"value\":0.9},\"x\":{\"field\":\"x\"}},\"id\":\"20452\",\"type\":\"VBar\"},{\"attributes\":{\"axis\":{\"id\":\"20444\"},\"dimension\":1,\"ticker\":null},\"id\":\"20447\",\"type\":\"Grid\"},{\"attributes\":{\"start\":0},\"id\":\"20435\",\"type\":\"DataRange1d\"},{\"attributes\":{},\"id\":\"21021\",\"type\":\"BasicTickFormatter\"},{\"attributes\":{},\"id\":\"21022\",\"type\":\"AllLabels\"},{\"attributes\":{\"source\":{\"id\":\"20431\"}},\"id\":\"20454\",\"type\":\"CDSView\"},{\"attributes\":{\"data\":{\"counts\":[0.11768161675842621,0.1641059125194692,0.1770619520804159,0.2902596121800758,0.1861104183851599,0.16516014065443763,0.250358485679756,0.1823474599903419,0.1398429856701644,0.12347391975623524,0.1289445414260776,0.07465295489944024],\"x\":[[\"Advertising- and Consumptionminimalist\",\"a\"],[\"Advertising- and Consumptionminimalist\",\"c\"],[\"Advertising- and Consumptiontraditionalist\",\"a\"],[\"Advertising- and Consumptiontraditionalist\",\"c\"],[\"advertisinginterested Store-shopper\",\"a\"],[\"advertisinginterested Store-shopper\",\"c\"],[\"advertisinginterested Online-shopper\",\"a\"],[\"advertisinginterested Online-shopper\",\"c\"],[\"Advertising- and Cross-Channel-Enthusiast\",\"a\"],[\"Advertising- and Cross-Channel-Enthusiast\",\"c\"],[\"Advertising-Enthusiast with restricted Cross-Channel-Behaviour \",\"a\"],[\"Advertising-Enthusiast with restricted Cross-Channel-Behaviour \",\"c\"]]},\"selected\":{\"id\":\"21024\"},\"selection_policy\":{\"id\":\"21023\"}},\"id\":\"20431\",\"type\":\"ColumnDataSource\"},{\"attributes\":{\"fill_color\":{\"field\":\"x\",\"transform\":{\"id\":\"20449\"}},\"line_color\":{\"value\":null},\"top\":{\"field\":\"counts\"},\"width\":{\"value\":0.9},\"x\":{\"field\":\"x\"}},\"id\":\"20451\",\"type\":\"VBar\"},{\"attributes\":{\"factors\":[[\"Advertising- and Consumptionminimalist\",\"a\"],[\"Advertising- and Consumptionminimalist\",\"c\"],[\"Advertising- and Consumptiontraditionalist\",\"a\"],[\"Advertising- and Consumptiontraditionalist\",\"c\"],[\"advertisinginterested Store-shopper\",\"a\"],[\"advertisinginterested Store-shopper\",\"c\"],[\"advertisinginterested Online-shopper\",\"a\"],[\"advertisinginterested Online-shopper\",\"c\"],[\"Advertising- and Cross-Channel-Enthusiast\",\"a\"],[\"Advertising- and Cross-Channel-Enthusiast\",\"c\"],[\"Advertising-Enthusiast with restricted Cross-Channel-Behaviour \",\"a\"],[\"Advertising-Enthusiast with restricted Cross-Channel-Behaviour \",\"c\"]]},\"id\":\"20432\",\"type\":\"FactorRange\"},{\"attributes\":{\"data_source\":{\"id\":\"20431\"},\"glyph\":{\"id\":\"20451\"},\"hover_glyph\":null,\"muted_glyph\":null,\"nonselection_glyph\":{\"id\":\"20452\"},\"view\":{\"id\":\"20454\"}},\"id\":\"20453\",\"type\":\"GlyphRenderer\"},{\"attributes\":{\"text\":\"CJT_GESAMTTYP [ks:0.1596 p:0.0000]\"},\"id\":\"20455\",\"type\":\"Title\"}],\"root_ids\":[\"20433\"]},\"title\":\"Bokeh Application\",\"version\":\"2.3.1\"}};\n",
       "  var render_items = [{\"docid\":\"61569cd4-9a5c-4892-bd3f-5b89feb3dc63\",\"root_ids\":[\"20433\"],\"roots\":{\"20433\":\"50030516-4880-4539-8648-a7199e34d4ff\"}}];\n",
       "  root.Bokeh.embed.embed_items_notebook(docs_json, render_items);\n",
       "\n",
       "  }\n",
       "  if (root.Bokeh !== undefined) {\n",
       "    embed_document(root);\n",
       "  } else {\n",
       "    var attempts = 0;\n",
       "    var timer = setInterval(function(root) {\n",
       "      if (root.Bokeh !== undefined) {\n",
       "        clearInterval(timer);\n",
       "        embed_document(root);\n",
       "      } else {\n",
       "        attempts++;\n",
       "        if (attempts > 100) {\n",
       "          clearInterval(timer);\n",
       "          console.log(\"Bokeh: ERROR: Unable to run BokehJS code because BokehJS library is missing\");\n",
       "        }\n",
       "      }\n",
       "    }, 10, root)\n",
       "  }\n",
       "})(window);"
      ],
      "application/vnd.bokehjs_exec.v0+json": ""
     },
     "metadata": {
      "application/vnd.bokehjs_exec.v0+json": {
       "id": "20433"
      }
     },
     "output_type": "display_data"
    },
    {
     "name": "stdout",
     "output_type": "stream",
     "text": [
      "==========================================================================================================================================================================================================================================\n"
     ]
    },
    {
     "data": {
      "text/html": [
       "\n",
       "\n",
       "\n",
       "\n",
       "\n",
       "\n",
       "  <div class=\"bk-root\" id=\"f40608cc-d5ce-4ed6-974c-8049c565a503\" data-root-id=\"21077\"></div>\n"
      ]
     },
     "metadata": {},
     "output_type": "display_data"
    },
    {
     "data": {
      "application/javascript": [
       "(function(root) {\n",
       "  function embed_document(root) {\n",
       "    \n",
       "  var docs_json = {\"d6a0c283-a6d6-44e5-af6c-16f068317a28\":{\"defs\":[],\"roots\":{\"references\":[{\"attributes\":{\"below\":[{\"id\":\"21085\"}],\"center\":[{\"id\":\"21087\"},{\"id\":\"21091\"}],\"height\":500,\"left\":[{\"id\":\"21088\"}],\"renderers\":[{\"id\":\"21097\"}],\"title\":{\"id\":\"21099\"},\"toolbar\":{\"id\":\"21092\"},\"toolbar_location\":null,\"width\":950,\"x_range\":{\"id\":\"21076\"},\"x_scale\":{\"id\":\"21081\"},\"y_range\":{\"id\":\"21079\"},\"y_scale\":{\"id\":\"21083\"}},\"id\":\"21077\",\"subtype\":\"Figure\",\"type\":\"Plot\"},{\"attributes\":{\"formatter\":{\"id\":\"21675\"},\"major_label_policy\":{\"id\":\"21676\"},\"ticker\":{\"id\":\"21089\"}},\"id\":\"21088\",\"type\":\"LinearAxis\"},{\"attributes\":{\"formatter\":{\"id\":\"21672\"},\"group_label_orientation\":1.5707963267948966,\"major_label_orientation\":0,\"major_label_policy\":{\"id\":\"21673\"},\"ticker\":{\"id\":\"21086\"}},\"id\":\"21085\",\"type\":\"CategoricalAxis\"},{\"attributes\":{\"data_source\":{\"id\":\"21075\"},\"glyph\":{\"id\":\"21095\"},\"hover_glyph\":null,\"muted_glyph\":null,\"nonselection_glyph\":{\"id\":\"21096\"},\"view\":{\"id\":\"21098\"}},\"id\":\"21097\",\"type\":\"GlyphRenderer\"},{\"attributes\":{\"axis\":{\"id\":\"21088\"},\"dimension\":1,\"ticker\":null},\"id\":\"21091\",\"type\":\"Grid\"},{\"attributes\":{\"text\":\"GFK_URLAUBERTYP [ks:0.1584 p:0.0000]\"},\"id\":\"21099\",\"type\":\"Title\"},{\"attributes\":{\"axis\":{\"id\":\"21085\"},\"grid_line_color\":null,\"ticker\":null},\"id\":\"21087\",\"type\":\"Grid\"},{\"attributes\":{\"start\":0},\"id\":\"21079\",\"type\":\"DataRange1d\"},{\"attributes\":{},\"id\":\"21672\",\"type\":\"CategoricalTickFormatter\"},{\"attributes\":{},\"id\":\"21673\",\"type\":\"AllLabels\"},{\"attributes\":{},\"id\":\"21089\",\"type\":\"BasicTicker\"},{\"attributes\":{},\"id\":\"21675\",\"type\":\"BasicTickFormatter\"},{\"attributes\":{},\"id\":\"21086\",\"type\":\"CategoricalTicker\"},{\"attributes\":{\"active_multi\":null},\"id\":\"21092\",\"type\":\"Toolbar\"},{\"attributes\":{\"fill_alpha\":{\"value\":0.1},\"fill_color\":{\"field\":\"x\",\"transform\":{\"id\":\"21093\"}},\"line_alpha\":{\"value\":0.1},\"line_color\":{\"value\":null},\"top\":{\"field\":\"counts\"},\"width\":{\"value\":0.9},\"x\":{\"field\":\"x\"}},\"id\":\"21096\",\"type\":\"VBar\"},{\"attributes\":{},\"id\":\"21677\",\"type\":\"UnionRenderers\"},{\"attributes\":{},\"id\":\"21678\",\"type\":\"Selection\"},{\"attributes\":{},\"id\":\"21083\",\"type\":\"LinearScale\"},{\"attributes\":{},\"id\":\"21081\",\"type\":\"CategoricalScale\"},{\"attributes\":{\"end\":2,\"factors\":[\"a\",\"c\"],\"palette\":[\"#1f77b4\",\"#ff7f0e\"],\"start\":1},\"id\":\"21093\",\"type\":\"CategoricalColorMapper\"},{\"attributes\":{\"fill_color\":{\"field\":\"x\",\"transform\":{\"id\":\"21093\"}},\"line_color\":{\"value\":null},\"top\":{\"field\":\"counts\"},\"width\":{\"value\":0.9},\"x\":{\"field\":\"x\"}},\"id\":\"21095\",\"type\":\"VBar\"},{\"attributes\":{\"data\":{\"counts\":[0.06390037215369564,0.05962850360818081,0.05575471426653111,0.034490263693063176,0.06675267125784112,0.09955314330021016,0.07579394387001477,0.11077557183374483,0.08884929693644612,0.1165636243683133,0.03241837556830171,0.04325736089289722,0.051094400429703236,0.09359505396967904,0.10464904371846764,0.11944064695600128,0.07227023345930288,0.037462506886490235,0.12968669070958583,0.18483679868323505,0.09484643864259817,0.05080699463363872,0.16398381898751174,0.04958953117454617],\"x\":[[\"Event travelers\",\"a\"],[\"Event travelers\",\"c\"],[\"Family-oriented vacationists\",\"a\"],[\"Family-oriented vacationists\",\"c\"],[\"Winter sportspeople\",\"a\"],[\"Winter sportspeople\",\"c\"],[\"Culture lovers\",\"a\"],[\"Culture lovers\",\"c\"],[\"Nature fans\",\"a\"],[\"Nature fans\",\"c\"],[\"Hiker\",\"a\"],[\"Hiker\",\"c\"],[\"Golden ager\",\"a\"],[\"Golden ager\",\"c\"],[\"Homeland-connected vacationists \",\"a\"],[\"Homeland-connected vacationists \",\"c\"],[\"Package tour travelers\",\"a\"],[\"Package tour travelers\",\"c\"],[\"Connoisseurs\",\"a\"],[\"Connoisseurs\",\"c\"],[\"Active families\",\"a\"],[\"Active families\",\"c\"],[\"without vacation\",\"a\"],[\"without vacation\",\"c\"]]},\"selected\":{\"id\":\"21678\"},\"selection_policy\":{\"id\":\"21677\"}},\"id\":\"21075\",\"type\":\"ColumnDataSource\"},{\"attributes\":{},\"id\":\"21676\",\"type\":\"AllLabels\"},{\"attributes\":{\"factors\":[[\"Event travelers\",\"a\"],[\"Event travelers\",\"c\"],[\"Family-oriented vacationists\",\"a\"],[\"Family-oriented vacationists\",\"c\"],[\"Winter sportspeople\",\"a\"],[\"Winter sportspeople\",\"c\"],[\"Culture lovers\",\"a\"],[\"Culture lovers\",\"c\"],[\"Nature fans\",\"a\"],[\"Nature fans\",\"c\"],[\"Hiker\",\"a\"],[\"Hiker\",\"c\"],[\"Golden ager\",\"a\"],[\"Golden ager\",\"c\"],[\"Homeland-connected vacationists \",\"a\"],[\"Homeland-connected vacationists \",\"c\"],[\"Package tour travelers\",\"a\"],[\"Package tour travelers\",\"c\"],[\"Connoisseurs\",\"a\"],[\"Connoisseurs\",\"c\"],[\"Active families\",\"a\"],[\"Active families\",\"c\"],[\"without vacation\",\"a\"],[\"without vacation\",\"c\"]]},\"id\":\"21076\",\"type\":\"FactorRange\"},{\"attributes\":{\"source\":{\"id\":\"21075\"}},\"id\":\"21098\",\"type\":\"CDSView\"}],\"root_ids\":[\"21077\"]},\"title\":\"Bokeh Application\",\"version\":\"2.3.1\"}};\n",
       "  var render_items = [{\"docid\":\"d6a0c283-a6d6-44e5-af6c-16f068317a28\",\"root_ids\":[\"21077\"],\"roots\":{\"21077\":\"f40608cc-d5ce-4ed6-974c-8049c565a503\"}}];\n",
       "  root.Bokeh.embed.embed_items_notebook(docs_json, render_items);\n",
       "\n",
       "  }\n",
       "  if (root.Bokeh !== undefined) {\n",
       "    embed_document(root);\n",
       "  } else {\n",
       "    var attempts = 0;\n",
       "    var timer = setInterval(function(root) {\n",
       "      if (root.Bokeh !== undefined) {\n",
       "        clearInterval(timer);\n",
       "        embed_document(root);\n",
       "      } else {\n",
       "        attempts++;\n",
       "        if (attempts > 100) {\n",
       "          clearInterval(timer);\n",
       "          console.log(\"Bokeh: ERROR: Unable to run BokehJS code because BokehJS library is missing\");\n",
       "        }\n",
       "      }\n",
       "    }, 10, root)\n",
       "  }\n",
       "})(window);"
      ],
      "application/vnd.bokehjs_exec.v0+json": ""
     },
     "metadata": {
      "application/vnd.bokehjs_exec.v0+json": {
       "id": "21077"
      }
     },
     "output_type": "display_data"
    },
    {
     "name": "stdout",
     "output_type": "stream",
     "text": [
      "==========================================================================================================================================================================================================================================\n"
     ]
    },
    {
     "data": {
      "text/html": [
       "\n",
       "\n",
       "\n",
       "\n",
       "\n",
       "\n",
       "  <div class=\"bk-root\" id=\"464d081b-6441-4695-ba46-0b8e1b24d48c\" data-root-id=\"21731\"></div>\n"
      ]
     },
     "metadata": {},
     "output_type": "display_data"
    },
    {
     "data": {
      "application/javascript": [
       "(function(root) {\n",
       "  function embed_document(root) {\n",
       "    \n",
       "  var docs_json = {\"0544b409-85d3-444b-9a8e-1497640e6cf9\":{\"defs\":[],\"roots\":{\"references\":[{\"attributes\":{\"below\":[{\"id\":\"21739\"}],\"center\":[{\"id\":\"21741\"},{\"id\":\"21745\"}],\"height\":500,\"left\":[{\"id\":\"21742\"}],\"renderers\":[{\"id\":\"21751\"}],\"title\":{\"id\":\"21753\"},\"toolbar\":{\"id\":\"21746\"},\"toolbar_location\":null,\"width\":950,\"x_range\":{\"id\":\"21730\"},\"x_scale\":{\"id\":\"21735\"},\"y_range\":{\"id\":\"21733\"},\"y_scale\":{\"id\":\"21737\"}},\"id\":\"21731\",\"subtype\":\"Figure\",\"type\":\"Plot\"},{\"attributes\":{\"source\":{\"id\":\"21729\"}},\"id\":\"21752\",\"type\":\"CDSView\"},{\"attributes\":{\"data_source\":{\"id\":\"21729\"},\"glyph\":{\"id\":\"21749\"},\"hover_glyph\":null,\"muted_glyph\":null,\"nonselection_glyph\":{\"id\":\"21750\"},\"view\":{\"id\":\"21752\"}},\"id\":\"21751\",\"type\":\"GlyphRenderer\"},{\"attributes\":{\"axis\":{\"id\":\"21742\"},\"dimension\":1,\"ticker\":null},\"id\":\"21745\",\"type\":\"Grid\"},{\"attributes\":{\"text\":\"KBA05_ANTG3 [ks:0.1554 p:0.0000]\"},\"id\":\"21753\",\"type\":\"Title\"},{\"attributes\":{\"formatter\":{\"id\":\"22339\"},\"major_label_policy\":{\"id\":\"22340\"},\"ticker\":{\"id\":\"21743\"}},\"id\":\"21742\",\"type\":\"LinearAxis\"},{\"attributes\":{\"formatter\":{\"id\":\"22336\"},\"group_label_orientation\":1.5707963267948966,\"major_label_orientation\":0,\"major_label_policy\":{\"id\":\"22337\"},\"ticker\":{\"id\":\"21740\"}},\"id\":\"21739\",\"type\":\"CategoricalAxis\"},{\"attributes\":{},\"id\":\"22341\",\"type\":\"UnionRenderers\"},{\"attributes\":{\"axis\":{\"id\":\"21739\"},\"grid_line_color\":null,\"ticker\":null},\"id\":\"21741\",\"type\":\"Grid\"},{\"attributes\":{\"start\":0},\"id\":\"21733\",\"type\":\"DataRange1d\"},{\"attributes\":{},\"id\":\"22336\",\"type\":\"CategoricalTickFormatter\"},{\"attributes\":{},\"id\":\"22337\",\"type\":\"AllLabels\"},{\"attributes\":{},\"id\":\"21743\",\"type\":\"BasicTicker\"},{\"attributes\":{\"data\":{\"counts\":[0.6749180122338284,0.8303606349300057,0.12238315506080621,0.0748500121761333,0.10587474512857398,0.049198958018168266,0.09682408757679135,0.04559039487569275],\"x\":[[\"no 6-10 family homes\",\"a\"],[\"no 6-10 family homes\",\"c\"],[\"lower share of 6-10 family homes\",\"a\"],[\"lower share of 6-10 family homes\",\"c\"],[\"average share of 6-10 family homes\",\"a\"],[\"average share of 6-10 family homes\",\"c\"],[\"high share of 6-10 family homes\",\"a\"],[\"high share of 6-10 family homes\",\"c\"]]},\"selected\":{\"id\":\"22342\"},\"selection_policy\":{\"id\":\"22341\"}},\"id\":\"21729\",\"type\":\"ColumnDataSource\"},{\"attributes\":{},\"id\":\"21740\",\"type\":\"CategoricalTicker\"},{\"attributes\":{},\"id\":\"22339\",\"type\":\"BasicTickFormatter\"},{\"attributes\":{\"active_multi\":null},\"id\":\"21746\",\"type\":\"Toolbar\"},{\"attributes\":{\"fill_color\":{\"field\":\"x\",\"transform\":{\"id\":\"21747\"}},\"line_color\":{\"value\":null},\"top\":{\"field\":\"counts\"},\"width\":{\"value\":0.9},\"x\":{\"field\":\"x\"}},\"id\":\"21749\",\"type\":\"VBar\"},{\"attributes\":{\"fill_alpha\":{\"value\":0.1},\"fill_color\":{\"field\":\"x\",\"transform\":{\"id\":\"21747\"}},\"line_alpha\":{\"value\":0.1},\"line_color\":{\"value\":null},\"top\":{\"field\":\"counts\"},\"width\":{\"value\":0.9},\"x\":{\"field\":\"x\"}},\"id\":\"21750\",\"type\":\"VBar\"},{\"attributes\":{},\"id\":\"22342\",\"type\":\"Selection\"},{\"attributes\":{},\"id\":\"21737\",\"type\":\"LinearScale\"},{\"attributes\":{},\"id\":\"21735\",\"type\":\"CategoricalScale\"},{\"attributes\":{\"end\":2,\"factors\":[\"a\",\"c\"],\"palette\":[\"#1f77b4\",\"#ff7f0e\"],\"start\":1},\"id\":\"21747\",\"type\":\"CategoricalColorMapper\"},{\"attributes\":{\"factors\":[[\"no 6-10 family homes\",\"a\"],[\"no 6-10 family homes\",\"c\"],[\"lower share of 6-10 family homes\",\"a\"],[\"lower share of 6-10 family homes\",\"c\"],[\"average share of 6-10 family homes\",\"a\"],[\"average share of 6-10 family homes\",\"c\"],[\"high share of 6-10 family homes\",\"a\"],[\"high share of 6-10 family homes\",\"c\"]]},\"id\":\"21730\",\"type\":\"FactorRange\"},{\"attributes\":{},\"id\":\"22340\",\"type\":\"AllLabels\"}],\"root_ids\":[\"21731\"]},\"title\":\"Bokeh Application\",\"version\":\"2.3.1\"}};\n",
       "  var render_items = [{\"docid\":\"0544b409-85d3-444b-9a8e-1497640e6cf9\",\"root_ids\":[\"21731\"],\"roots\":{\"21731\":\"464d081b-6441-4695-ba46-0b8e1b24d48c\"}}];\n",
       "  root.Bokeh.embed.embed_items_notebook(docs_json, render_items);\n",
       "\n",
       "  }\n",
       "  if (root.Bokeh !== undefined) {\n",
       "    embed_document(root);\n",
       "  } else {\n",
       "    var attempts = 0;\n",
       "    var timer = setInterval(function(root) {\n",
       "      if (root.Bokeh !== undefined) {\n",
       "        clearInterval(timer);\n",
       "        embed_document(root);\n",
       "      } else {\n",
       "        attempts++;\n",
       "        if (attempts > 100) {\n",
       "          clearInterval(timer);\n",
       "          console.log(\"Bokeh: ERROR: Unable to run BokehJS code because BokehJS library is missing\");\n",
       "        }\n",
       "      }\n",
       "    }, 10, root)\n",
       "  }\n",
       "})(window);"
      ],
      "application/vnd.bokehjs_exec.v0+json": ""
     },
     "metadata": {
      "application/vnd.bokehjs_exec.v0+json": {
       "id": "21731"
      }
     },
     "output_type": "display_data"
    },
    {
     "name": "stdout",
     "output_type": "stream",
     "text": [
      "==========================================================================================================================================================================================================================================\n"
     ]
    },
    {
     "data": {
      "text/html": [
       "\n",
       "\n",
       "\n",
       "\n",
       "\n",
       "\n",
       "  <div class=\"bk-root\" id=\"14155d9b-2310-43bc-b8f4-ad3bf60da850\" data-root-id=\"22395\"></div>\n"
      ]
     },
     "metadata": {},
     "output_type": "display_data"
    },
    {
     "data": {
      "application/javascript": [
       "(function(root) {\n",
       "  function embed_document(root) {\n",
       "    \n",
       "  var docs_json = {\"cde39218-3d84-4f9f-8c34-b67e9d8acf1d\":{\"defs\":[],\"roots\":{\"references\":[{\"attributes\":{\"below\":[{\"id\":\"22403\"}],\"center\":[{\"id\":\"22405\"},{\"id\":\"22409\"}],\"height\":500,\"left\":[{\"id\":\"22406\"}],\"renderers\":[{\"id\":\"22415\"}],\"title\":{\"id\":\"22417\"},\"toolbar\":{\"id\":\"22410\"},\"toolbar_location\":null,\"width\":950,\"x_range\":{\"id\":\"22394\"},\"x_scale\":{\"id\":\"22399\"},\"y_range\":{\"id\":\"22397\"},\"y_scale\":{\"id\":\"22401\"}},\"id\":\"22395\",\"subtype\":\"Figure\",\"type\":\"Plot\"},{\"attributes\":{},\"id\":\"23014\",\"type\":\"AllLabels\"},{\"attributes\":{\"source\":{\"id\":\"22393\"}},\"id\":\"22416\",\"type\":\"CDSView\"},{\"attributes\":{\"data_source\":{\"id\":\"22393\"},\"glyph\":{\"id\":\"22413\"},\"hover_glyph\":null,\"muted_glyph\":null,\"nonselection_glyph\":{\"id\":\"22414\"},\"view\":{\"id\":\"22416\"}},\"id\":\"22415\",\"type\":\"GlyphRenderer\"},{\"attributes\":{\"text\":\"KBA05_VORB2 [ks:0.1518 p:0.0000]\"},\"id\":\"22417\",\"type\":\"Title\"},{\"attributes\":{\"axis\":{\"id\":\"22406\"},\"dimension\":1,\"ticker\":null},\"id\":\"22409\",\"type\":\"Grid\"},{\"attributes\":{},\"id\":\"22407\",\"type\":\"BasicTicker\"},{\"attributes\":{},\"id\":\"23010\",\"type\":\"CategoricalTickFormatter\"},{\"attributes\":{},\"id\":\"23011\",\"type\":\"AllLabels\"},{\"attributes\":{},\"id\":\"22399\",\"type\":\"CategoricalScale\"},{\"attributes\":{\"active_multi\":null},\"id\":\"22410\",\"type\":\"Toolbar\"},{\"attributes\":{},\"id\":\"23013\",\"type\":\"BasicTickFormatter\"},{\"attributes\":{\"start\":0},\"id\":\"22397\",\"type\":\"DataRange1d\"},{\"attributes\":{\"axis\":{\"id\":\"22403\"},\"grid_line_color\":null,\"ticker\":null},\"id\":\"22405\",\"type\":\"Grid\"},{\"attributes\":{},\"id\":\"22404\",\"type\":\"CategoricalTicker\"},{\"attributes\":{\"factors\":[[\"none\",\"a\"],[\"none\",\"c\"],[\"very low\",\"a\"],[\"very low\",\"c\"],[\"low\",\"a\"],[\"low\",\"c\"],[\"average\",\"a\"],[\"average\",\"c\"],[\"high\",\"a\"],[\"high\",\"c\"],[\"very high\",\"a\"],[\"very high\",\"c\"]]},\"id\":\"22394\",\"type\":\"FactorRange\"},{\"attributes\":{\"data\":{\"counts\":[0.07313777528948799,0.08635884022648575,0.11377376062532636,0.18737089271649154,0.21632060896107322,0.28128668876042145,0.3159106692004156,0.3052207641665057,0.16180373494689357,0.10370194236799476,0.11905345097680328,0.03606087176210079],\"x\":[[\"none\",\"a\"],[\"none\",\"c\"],[\"very low\",\"a\"],[\"very low\",\"c\"],[\"low\",\"a\"],[\"low\",\"c\"],[\"average\",\"a\"],[\"average\",\"c\"],[\"high\",\"a\"],[\"high\",\"c\"],[\"very high\",\"a\"],[\"very high\",\"c\"]]},\"selected\":{\"id\":\"23016\"},\"selection_policy\":{\"id\":\"23015\"}},\"id\":\"22393\",\"type\":\"ColumnDataSource\"},{\"attributes\":{\"fill_alpha\":{\"value\":0.1},\"fill_color\":{\"field\":\"x\",\"transform\":{\"id\":\"22411\"}},\"line_alpha\":{\"value\":0.1},\"line_color\":{\"value\":null},\"top\":{\"field\":\"counts\"},\"width\":{\"value\":0.9},\"x\":{\"field\":\"x\"}},\"id\":\"22414\",\"type\":\"VBar\"},{\"attributes\":{},\"id\":\"23015\",\"type\":\"UnionRenderers\"},{\"attributes\":{},\"id\":\"23016\",\"type\":\"Selection\"},{\"attributes\":{},\"id\":\"22401\",\"type\":\"LinearScale\"},{\"attributes\":{\"fill_color\":{\"field\":\"x\",\"transform\":{\"id\":\"22411\"}},\"line_color\":{\"value\":null},\"top\":{\"field\":\"counts\"},\"width\":{\"value\":0.9},\"x\":{\"field\":\"x\"}},\"id\":\"22413\",\"type\":\"VBar\"},{\"attributes\":{\"formatter\":{\"id\":\"23013\"},\"major_label_policy\":{\"id\":\"23014\"},\"ticker\":{\"id\":\"22407\"}},\"id\":\"22406\",\"type\":\"LinearAxis\"},{\"attributes\":{\"formatter\":{\"id\":\"23010\"},\"group_label_orientation\":1.5707963267948966,\"major_label_orientation\":0,\"major_label_policy\":{\"id\":\"23011\"},\"ticker\":{\"id\":\"22404\"}},\"id\":\"22403\",\"type\":\"CategoricalAxis\"},{\"attributes\":{\"end\":2,\"factors\":[\"a\",\"c\"],\"palette\":[\"#1f77b4\",\"#ff7f0e\"],\"start\":1},\"id\":\"22411\",\"type\":\"CategoricalColorMapper\"}],\"root_ids\":[\"22395\"]},\"title\":\"Bokeh Application\",\"version\":\"2.3.1\"}};\n",
       "  var render_items = [{\"docid\":\"cde39218-3d84-4f9f-8c34-b67e9d8acf1d\",\"root_ids\":[\"22395\"],\"roots\":{\"22395\":\"14155d9b-2310-43bc-b8f4-ad3bf60da850\"}}];\n",
       "  root.Bokeh.embed.embed_items_notebook(docs_json, render_items);\n",
       "\n",
       "  }\n",
       "  if (root.Bokeh !== undefined) {\n",
       "    embed_document(root);\n",
       "  } else {\n",
       "    var attempts = 0;\n",
       "    var timer = setInterval(function(root) {\n",
       "      if (root.Bokeh !== undefined) {\n",
       "        clearInterval(timer);\n",
       "        embed_document(root);\n",
       "      } else {\n",
       "        attempts++;\n",
       "        if (attempts > 100) {\n",
       "          clearInterval(timer);\n",
       "          console.log(\"Bokeh: ERROR: Unable to run BokehJS code because BokehJS library is missing\");\n",
       "        }\n",
       "      }\n",
       "    }, 10, root)\n",
       "  }\n",
       "})(window);"
      ],
      "application/vnd.bokehjs_exec.v0+json": ""
     },
     "metadata": {
      "application/vnd.bokehjs_exec.v0+json": {
       "id": "22395"
      }
     },
     "output_type": "display_data"
    },
    {
     "name": "stdout",
     "output_type": "stream",
     "text": [
      "==========================================================================================================================================================================================================================================\n"
     ]
    },
    {
     "data": {
      "text/html": [
       "\n",
       "\n",
       "\n",
       "\n",
       "\n",
       "\n",
       "  <div class=\"bk-root\" id=\"dfab7293-e9ca-4a65-aa43-8e7603845af0\" data-root-id=\"23069\"></div>\n"
      ]
     },
     "metadata": {},
     "output_type": "display_data"
    },
    {
     "data": {
      "application/javascript": [
       "(function(root) {\n",
       "  function embed_document(root) {\n",
       "    \n",
       "  var docs_json = {\"f5c419d0-c585-4940-a516-f406c504c724\":{\"defs\":[],\"roots\":{\"references\":[{\"attributes\":{\"below\":[{\"id\":\"23077\"}],\"center\":[{\"id\":\"23079\"},{\"id\":\"23083\"}],\"height\":500,\"left\":[{\"id\":\"23080\"}],\"renderers\":[{\"id\":\"23089\"}],\"title\":{\"id\":\"23091\"},\"toolbar\":{\"id\":\"23084\"},\"toolbar_location\":null,\"width\":950,\"x_range\":{\"id\":\"23068\"},\"x_scale\":{\"id\":\"23073\"},\"y_range\":{\"id\":\"23071\"},\"y_scale\":{\"id\":\"23075\"}},\"id\":\"23069\",\"subtype\":\"Figure\",\"type\":\"Plot\"},{\"attributes\":{},\"id\":\"23698\",\"type\":\"AllLabels\"},{\"attributes\":{\"factors\":[[\"none\",\"a\"],[\"none\",\"c\"],[\"low\",\"a\"],[\"low\",\"c\"],[\"average\",\"a\"],[\"average\",\"c\"],[\"high\",\"a\"],[\"high\",\"c\"],[\"very high\",\"a\"],[\"very high\",\"c\"]]},\"id\":\"23068\",\"type\":\"FactorRange\"},{\"attributes\":{\"source\":{\"id\":\"23067\"}},\"id\":\"23090\",\"type\":\"CDSView\"},{\"attributes\":{\"data_source\":{\"id\":\"23067\"},\"glyph\":{\"id\":\"23087\"},\"hover_glyph\":null,\"muted_glyph\":null,\"nonselection_glyph\":{\"id\":\"23088\"},\"view\":{\"id\":\"23090\"}},\"id\":\"23089\",\"type\":\"GlyphRenderer\"},{\"attributes\":{\"formatter\":{\"id\":\"23694\"},\"group_label_orientation\":1.5707963267948966,\"major_label_orientation\":0,\"major_label_policy\":{\"id\":\"23695\"},\"ticker\":{\"id\":\"23078\"}},\"id\":\"23077\",\"type\":\"CategoricalAxis\"},{\"attributes\":{\"text\":\"KBA05_ALTER1 [ks:0.1513 p:0.0000]\"},\"id\":\"23091\",\"type\":\"Title\"},{\"attributes\":{},\"id\":\"23700\",\"type\":\"Selection\"},{\"attributes\":{\"axis\":{\"id\":\"23080\"},\"dimension\":1,\"ticker\":null},\"id\":\"23083\",\"type\":\"Grid\"},{\"attributes\":{},\"id\":\"23081\",\"type\":\"BasicTicker\"},{\"attributes\":{},\"id\":\"23694\",\"type\":\"CategoricalTickFormatter\"},{\"attributes\":{\"formatter\":{\"id\":\"23697\"},\"major_label_policy\":{\"id\":\"23698\"},\"ticker\":{\"id\":\"23081\"}},\"id\":\"23080\",\"type\":\"LinearAxis\"},{\"attributes\":{},\"id\":\"23695\",\"type\":\"AllLabels\"},{\"attributes\":{\"axis\":{\"id\":\"23077\"},\"grid_line_color\":null,\"ticker\":null},\"id\":\"23079\",\"type\":\"Grid\"},{\"attributes\":{\"active_multi\":null},\"id\":\"23084\",\"type\":\"Toolbar\"},{\"attributes\":{\"start\":0},\"id\":\"23071\",\"type\":\"DataRange1d\"},{\"attributes\":{},\"id\":\"23697\",\"type\":\"BasicTickFormatter\"},{\"attributes\":{},\"id\":\"23078\",\"type\":\"CategoricalTicker\"},{\"attributes\":{\"fill_alpha\":{\"value\":0.1},\"fill_color\":{\"field\":\"x\",\"transform\":{\"id\":\"23085\"}},\"line_alpha\":{\"value\":0.1},\"line_color\":{\"value\":null},\"top\":{\"field\":\"counts\"},\"width\":{\"value\":0.9},\"x\":{\"field\":\"x\"}},\"id\":\"23088\",\"type\":\"VBar\"},{\"attributes\":{},\"id\":\"23699\",\"type\":\"UnionRenderers\"},{\"attributes\":{\"data\":{\"counts\":[0.13830150894438492,0.17016897264040184,0.2248060659241275,0.3283226084501181,0.3076714990929107,0.32355214076594985,0.22356117334826306,0.14653955327022247,0.10565975269031379,0.031416724873307676],\"x\":[[\"none\",\"a\"],[\"none\",\"c\"],[\"low\",\"a\"],[\"low\",\"c\"],[\"average\",\"a\"],[\"average\",\"c\"],[\"high\",\"a\"],[\"high\",\"c\"],[\"very high\",\"a\"],[\"very high\",\"c\"]]},\"selected\":{\"id\":\"23700\"},\"selection_policy\":{\"id\":\"23699\"}},\"id\":\"23067\",\"type\":\"ColumnDataSource\"},{\"attributes\":{},\"id\":\"23075\",\"type\":\"LinearScale\"},{\"attributes\":{},\"id\":\"23073\",\"type\":\"CategoricalScale\"},{\"attributes\":{\"end\":2,\"factors\":[\"a\",\"c\"],\"palette\":[\"#1f77b4\",\"#ff7f0e\"],\"start\":1},\"id\":\"23085\",\"type\":\"CategoricalColorMapper\"},{\"attributes\":{\"fill_color\":{\"field\":\"x\",\"transform\":{\"id\":\"23085\"}},\"line_color\":{\"value\":null},\"top\":{\"field\":\"counts\"},\"width\":{\"value\":0.9},\"x\":{\"field\":\"x\"}},\"id\":\"23087\",\"type\":\"VBar\"}],\"root_ids\":[\"23069\"]},\"title\":\"Bokeh Application\",\"version\":\"2.3.1\"}};\n",
       "  var render_items = [{\"docid\":\"f5c419d0-c585-4940-a516-f406c504c724\",\"root_ids\":[\"23069\"],\"roots\":{\"23069\":\"dfab7293-e9ca-4a65-aa43-8e7603845af0\"}}];\n",
       "  root.Bokeh.embed.embed_items_notebook(docs_json, render_items);\n",
       "\n",
       "  }\n",
       "  if (root.Bokeh !== undefined) {\n",
       "    embed_document(root);\n",
       "  } else {\n",
       "    var attempts = 0;\n",
       "    var timer = setInterval(function(root) {\n",
       "      if (root.Bokeh !== undefined) {\n",
       "        clearInterval(timer);\n",
       "        embed_document(root);\n",
       "      } else {\n",
       "        attempts++;\n",
       "        if (attempts > 100) {\n",
       "          clearInterval(timer);\n",
       "          console.log(\"Bokeh: ERROR: Unable to run BokehJS code because BokehJS library is missing\");\n",
       "        }\n",
       "      }\n",
       "    }, 10, root)\n",
       "  }\n",
       "})(window);"
      ],
      "application/vnd.bokehjs_exec.v0+json": ""
     },
     "metadata": {
      "application/vnd.bokehjs_exec.v0+json": {
       "id": "23069"
      }
     },
     "output_type": "display_data"
    },
    {
     "name": "stdout",
     "output_type": "stream",
     "text": [
      "==========================================================================================================================================================================================================================================\n"
     ]
    },
    {
     "data": {
      "text/html": [
       "\n",
       "\n",
       "\n",
       "\n",
       "\n",
       "\n",
       "  <div class=\"bk-root\" id=\"b68ec862-8e7e-4ef1-98ce-f6cacb42801b\" data-root-id=\"23753\"></div>\n"
      ]
     },
     "metadata": {},
     "output_type": "display_data"
    },
    {
     "data": {
      "application/javascript": [
       "(function(root) {\n",
       "  function embed_document(root) {\n",
       "    \n",
       "  var docs_json = {\"18b47d8c-25f7-45c9-861f-b3381e65f152\":{\"defs\":[],\"roots\":{\"references\":[{\"attributes\":{\"below\":[{\"id\":\"23761\"}],\"center\":[{\"id\":\"23763\"},{\"id\":\"23767\"}],\"height\":500,\"left\":[{\"id\":\"23764\"}],\"renderers\":[{\"id\":\"23773\"}],\"title\":{\"id\":\"23775\"},\"toolbar\":{\"id\":\"23768\"},\"toolbar_location\":null,\"width\":950,\"x_range\":{\"id\":\"23752\"},\"x_scale\":{\"id\":\"23757\"},\"y_range\":{\"id\":\"23755\"},\"y_scale\":{\"id\":\"23759\"}},\"id\":\"23753\",\"subtype\":\"Figure\",\"type\":\"Plot\"},{\"attributes\":{\"fill_color\":{\"field\":\"x\",\"transform\":{\"id\":\"23769\"}},\"line_color\":{\"value\":null},\"top\":{\"field\":\"counts\"},\"width\":{\"value\":0.9},\"x\":{\"field\":\"x\"}},\"id\":\"23771\",\"type\":\"VBar\"},{\"attributes\":{\"data\":{\"counts\":[0.1705589819267199,0.16847044728434504,0.20479832355486471,0.35706869009584663,0.2182287184206323,0.20541134185303514,0.18732104925630394,0.12293663471778488,0.21909292684147913,0.14611288604898828],\"x\":[[\"very high\",\"a\"],[\"very high\",\"c\"],[\"high\",\"a\"],[\"high\",\"c\"],[\"average\",\"a\"],[\"average\",\"c\"],[\"low\",\"a\"],[\"low\",\"c\"],[\"very low\",\"a\"],[\"very low\",\"c\"]]},\"selected\":{\"id\":\"24394\"},\"selection_policy\":{\"id\":\"24393\"}},\"id\":\"23751\",\"type\":\"ColumnDataSource\"},{\"attributes\":{},\"id\":\"24391\",\"type\":\"BasicTickFormatter\"},{\"attributes\":{},\"id\":\"24392\",\"type\":\"AllLabels\"},{\"attributes\":{\"source\":{\"id\":\"23751\"}},\"id\":\"23774\",\"type\":\"CDSView\"},{\"attributes\":{\"data_source\":{\"id\":\"23751\"},\"glyph\":{\"id\":\"23771\"},\"hover_glyph\":null,\"muted_glyph\":null,\"nonselection_glyph\":{\"id\":\"23772\"},\"view\":{\"id\":\"23774\"}},\"id\":\"23773\",\"type\":\"GlyphRenderer\"},{\"attributes\":{\"text\":\"FINANZ_HAUSBAUER [ks:0.1502 p:0.0000]\"},\"id\":\"23775\",\"type\":\"Title\"},{\"attributes\":{},\"id\":\"23757\",\"type\":\"CategoricalScale\"},{\"attributes\":{\"axis\":{\"id\":\"23764\"},\"dimension\":1,\"ticker\":null},\"id\":\"23767\",\"type\":\"Grid\"},{\"attributes\":{\"formatter\":{\"id\":\"24391\"},\"major_label_policy\":{\"id\":\"24392\"},\"ticker\":{\"id\":\"23765\"}},\"id\":\"23764\",\"type\":\"LinearAxis\"},{\"attributes\":{},\"id\":\"24388\",\"type\":\"CategoricalTickFormatter\"},{\"attributes\":{},\"id\":\"23765\",\"type\":\"BasicTicker\"},{\"attributes\":{},\"id\":\"24389\",\"type\":\"AllLabels\"},{\"attributes\":{\"axis\":{\"id\":\"23761\"},\"grid_line_color\":null,\"ticker\":null},\"id\":\"23763\",\"type\":\"Grid\"},{\"attributes\":{\"active_multi\":null},\"id\":\"23768\",\"type\":\"Toolbar\"},{\"attributes\":{\"factors\":[[\"very high\",\"a\"],[\"very high\",\"c\"],[\"high\",\"a\"],[\"high\",\"c\"],[\"average\",\"a\"],[\"average\",\"c\"],[\"low\",\"a\"],[\"low\",\"c\"],[\"very low\",\"a\"],[\"very low\",\"c\"]]},\"id\":\"23752\",\"type\":\"FactorRange\"},{\"attributes\":{},\"id\":\"23762\",\"type\":\"CategoricalTicker\"},{\"attributes\":{\"formatter\":{\"id\":\"24388\"},\"group_label_orientation\":1.5707963267948966,\"major_label_orientation\":0,\"major_label_policy\":{\"id\":\"24389\"},\"ticker\":{\"id\":\"23762\"}},\"id\":\"23761\",\"type\":\"CategoricalAxis\"},{\"attributes\":{\"fill_alpha\":{\"value\":0.1},\"fill_color\":{\"field\":\"x\",\"transform\":{\"id\":\"23769\"}},\"line_alpha\":{\"value\":0.1},\"line_color\":{\"value\":null},\"top\":{\"field\":\"counts\"},\"width\":{\"value\":0.9},\"x\":{\"field\":\"x\"}},\"id\":\"23772\",\"type\":\"VBar\"},{\"attributes\":{},\"id\":\"24393\",\"type\":\"UnionRenderers\"},{\"attributes\":{},\"id\":\"24394\",\"type\":\"Selection\"},{\"attributes\":{\"start\":0},\"id\":\"23755\",\"type\":\"DataRange1d\"},{\"attributes\":{\"end\":2,\"factors\":[\"a\",\"c\"],\"palette\":[\"#1f77b4\",\"#ff7f0e\"],\"start\":1},\"id\":\"23769\",\"type\":\"CategoricalColorMapper\"},{\"attributes\":{},\"id\":\"23759\",\"type\":\"LinearScale\"}],\"root_ids\":[\"23753\"]},\"title\":\"Bokeh Application\",\"version\":\"2.3.1\"}};\n",
       "  var render_items = [{\"docid\":\"18b47d8c-25f7-45c9-861f-b3381e65f152\",\"root_ids\":[\"23753\"],\"roots\":{\"23753\":\"b68ec862-8e7e-4ef1-98ce-f6cacb42801b\"}}];\n",
       "  root.Bokeh.embed.embed_items_notebook(docs_json, render_items);\n",
       "\n",
       "  }\n",
       "  if (root.Bokeh !== undefined) {\n",
       "    embed_document(root);\n",
       "  } else {\n",
       "    var attempts = 0;\n",
       "    var timer = setInterval(function(root) {\n",
       "      if (root.Bokeh !== undefined) {\n",
       "        clearInterval(timer);\n",
       "        embed_document(root);\n",
       "      } else {\n",
       "        attempts++;\n",
       "        if (attempts > 100) {\n",
       "          clearInterval(timer);\n",
       "          console.log(\"Bokeh: ERROR: Unable to run BokehJS code because BokehJS library is missing\");\n",
       "        }\n",
       "      }\n",
       "    }, 10, root)\n",
       "  }\n",
       "})(window);"
      ],
      "application/vnd.bokehjs_exec.v0+json": ""
     },
     "metadata": {
      "application/vnd.bokehjs_exec.v0+json": {
       "id": "23753"
      }
     },
     "output_type": "display_data"
    },
    {
     "name": "stdout",
     "output_type": "stream",
     "text": [
      "==========================================================================================================================================================================================================================================\n"
     ]
    },
    {
     "data": {
      "text/html": [
       "\n",
       "\n",
       "\n",
       "\n",
       "\n",
       "\n",
       "  <div class=\"bk-root\" id=\"8fca818d-1b46-40aa-8b67-b07f61e60d94\" data-root-id=\"24447\"></div>\n"
      ]
     },
     "metadata": {},
     "output_type": "display_data"
    },
    {
     "data": {
      "application/javascript": [
       "(function(root) {\n",
       "  function embed_document(root) {\n",
       "    \n",
       "  var docs_json = {\"29f60600-147f-4a87-a735-baee1d99d5e6\":{\"defs\":[],\"roots\":{\"references\":[{\"attributes\":{\"below\":[{\"id\":\"24455\"}],\"center\":[{\"id\":\"24457\"},{\"id\":\"24461\"}],\"height\":500,\"left\":[{\"id\":\"24458\"}],\"renderers\":[{\"id\":\"24467\"}],\"title\":{\"id\":\"24469\"},\"toolbar\":{\"id\":\"24462\"},\"toolbar_location\":null,\"width\":950,\"x_range\":{\"id\":\"24446\"},\"x_scale\":{\"id\":\"24451\"},\"y_range\":{\"id\":\"24449\"},\"y_scale\":{\"id\":\"24453\"}},\"id\":\"24447\",\"subtype\":\"Figure\",\"type\":\"Plot\"},{\"attributes\":{\"factors\":[[\"very low\",\"a\"],[\"very low\",\"c\"],[\"low\",\"a\"],[\"low\",\"c\"],[\"average\",\"a\"],[\"average\",\"c\"],[\"high\",\"a\"],[\"high\",\"c\"],[\"very high\",\"a\"],[\"very high\",\"c\"]]},\"id\":\"24446\",\"type\":\"FactorRange\"},{\"attributes\":{},\"id\":\"25098\",\"type\":\"Selection\"},{\"attributes\":{},\"id\":\"25096\",\"type\":\"AllLabels\"},{\"attributes\":{\"source\":{\"id\":\"24445\"}},\"id\":\"24468\",\"type\":\"CDSView\"},{\"attributes\":{\"data_source\":{\"id\":\"24445\"},\"glyph\":{\"id\":\"24465\"},\"hover_glyph\":null,\"muted_glyph\":null,\"nonselection_glyph\":{\"id\":\"24466\"},\"view\":{\"id\":\"24468\"}},\"id\":\"24467\",\"type\":\"GlyphRenderer\"},{\"attributes\":{\"fill_alpha\":{\"value\":0.1},\"fill_color\":{\"field\":\"x\",\"transform\":{\"id\":\"24463\"}},\"line_alpha\":{\"value\":0.1},\"line_color\":{\"value\":null},\"top\":{\"field\":\"counts\"},\"width\":{\"value\":0.9},\"x\":{\"field\":\"x\"}},\"id\":\"24466\",\"type\":\"VBar\"},{\"attributes\":{\"text\":\"KBA05_VORB0 [ks:0.1493 p:0.0000]\"},\"id\":\"24469\",\"type\":\"Title\"},{\"attributes\":{},\"id\":\"25097\",\"type\":\"UnionRenderers\"},{\"attributes\":{\"axis\":{\"id\":\"24455\"},\"grid_line_color\":null,\"ticker\":null},\"id\":\"24457\",\"type\":\"Grid\"},{\"attributes\":{},\"id\":\"24456\",\"type\":\"CategoricalTicker\"},{\"attributes\":{\"formatter\":{\"id\":\"25092\"},\"group_label_orientation\":1.5707963267948966,\"major_label_orientation\":0,\"major_label_policy\":{\"id\":\"25093\"},\"ticker\":{\"id\":\"24456\"}},\"id\":\"24455\",\"type\":\"CategoricalAxis\"},{\"attributes\":{},\"id\":\"25092\",\"type\":\"CategoricalTickFormatter\"},{\"attributes\":{},\"id\":\"25093\",\"type\":\"AllLabels\"},{\"attributes\":{},\"id\":\"24451\",\"type\":\"CategoricalScale\"},{\"attributes\":{\"start\":0},\"id\":\"24449\",\"type\":\"DataRange1d\"},{\"attributes\":{},\"id\":\"25095\",\"type\":\"BasicTickFormatter\"},{\"attributes\":{\"formatter\":{\"id\":\"25095\"},\"major_label_policy\":{\"id\":\"25096\"},\"ticker\":{\"id\":\"24459\"}},\"id\":\"24458\",\"type\":\"LinearAxis\"},{\"attributes\":{},\"id\":\"24453\",\"type\":\"LinearScale\"},{\"attributes\":{\"axis\":{\"id\":\"24458\"},\"dimension\":1,\"ticker\":null},\"id\":\"24461\",\"type\":\"Grid\"},{\"attributes\":{},\"id\":\"24459\",\"type\":\"BasicTicker\"},{\"attributes\":{\"fill_color\":{\"field\":\"x\",\"transform\":{\"id\":\"24463\"}},\"line_color\":{\"value\":null},\"top\":{\"field\":\"counts\"},\"width\":{\"value\":0.9},\"x\":{\"field\":\"x\"}},\"id\":\"24465\",\"type\":\"VBar\"},{\"attributes\":{\"active_multi\":null},\"id\":\"24462\",\"type\":\"Toolbar\"},{\"attributes\":{\"data\":{\"counts\":[0.14408319381564286,0.05518732630890636,0.23308291926636127,0.17265823537279495,0.3280621665706641,0.3477834415729168,0.2182263039745046,0.3001753629865208,0.07654541637282716,0.12419563375886103],\"x\":[[\"very low\",\"a\"],[\"very low\",\"c\"],[\"low\",\"a\"],[\"low\",\"c\"],[\"average\",\"a\"],[\"average\",\"c\"],[\"high\",\"a\"],[\"high\",\"c\"],[\"very high\",\"a\"],[\"very high\",\"c\"]]},\"selected\":{\"id\":\"25098\"},\"selection_policy\":{\"id\":\"25097\"}},\"id\":\"24445\",\"type\":\"ColumnDataSource\"},{\"attributes\":{\"end\":2,\"factors\":[\"a\",\"c\"],\"palette\":[\"#1f77b4\",\"#ff7f0e\"],\"start\":1},\"id\":\"24463\",\"type\":\"CategoricalColorMapper\"}],\"root_ids\":[\"24447\"]},\"title\":\"Bokeh Application\",\"version\":\"2.3.1\"}};\n",
       "  var render_items = [{\"docid\":\"29f60600-147f-4a87-a735-baee1d99d5e6\",\"root_ids\":[\"24447\"],\"roots\":{\"24447\":\"8fca818d-1b46-40aa-8b67-b07f61e60d94\"}}];\n",
       "  root.Bokeh.embed.embed_items_notebook(docs_json, render_items);\n",
       "\n",
       "  }\n",
       "  if (root.Bokeh !== undefined) {\n",
       "    embed_document(root);\n",
       "  } else {\n",
       "    var attempts = 0;\n",
       "    var timer = setInterval(function(root) {\n",
       "      if (root.Bokeh !== undefined) {\n",
       "        clearInterval(timer);\n",
       "        embed_document(root);\n",
       "      } else {\n",
       "        attempts++;\n",
       "        if (attempts > 100) {\n",
       "          clearInterval(timer);\n",
       "          console.log(\"Bokeh: ERROR: Unable to run BokehJS code because BokehJS library is missing\");\n",
       "        }\n",
       "      }\n",
       "    }, 10, root)\n",
       "  }\n",
       "})(window);"
      ],
      "application/vnd.bokehjs_exec.v0+json": ""
     },
     "metadata": {
      "application/vnd.bokehjs_exec.v0+json": {
       "id": "24447"
      }
     },
     "output_type": "display_data"
    },
    {
     "name": "stdout",
     "output_type": "stream",
     "text": [
      "==========================================================================================================================================================================================================================================\n"
     ]
    },
    {
     "data": {
      "text/html": [
       "\n",
       "\n",
       "\n",
       "\n",
       "\n",
       "\n",
       "  <div class=\"bk-root\" id=\"bf6686bd-8acd-4aed-bfbf-60f68d5f6c6d\" data-root-id=\"25151\"></div>\n"
      ]
     },
     "metadata": {},
     "output_type": "display_data"
    },
    {
     "data": {
      "application/javascript": [
       "(function(root) {\n",
       "  function embed_document(root) {\n",
       "    \n",
       "  var docs_json = {\"92d64d55-009f-4851-aee5-cff11dbf8b0b\":{\"defs\":[],\"roots\":{\"references\":[{\"attributes\":{\"below\":[{\"id\":\"25159\"}],\"center\":[{\"id\":\"25161\"},{\"id\":\"25165\"}],\"height\":500,\"left\":[{\"id\":\"25162\"}],\"renderers\":[{\"id\":\"25171\"}],\"title\":{\"id\":\"25173\"},\"toolbar\":{\"id\":\"25166\"},\"toolbar_location\":null,\"width\":950,\"x_range\":{\"id\":\"25150\"},\"x_scale\":{\"id\":\"25155\"},\"y_range\":{\"id\":\"25153\"},\"y_scale\":{\"id\":\"25157\"}},\"id\":\"25151\",\"subtype\":\"Figure\",\"type\":\"Plot\"},{\"attributes\":{},\"id\":\"25812\",\"type\":\"Selection\"},{\"attributes\":{\"fill_color\":{\"field\":\"x\",\"transform\":{\"id\":\"25167\"}},\"line_color\":{\"value\":null},\"top\":{\"field\":\"counts\"},\"width\":{\"value\":0.9},\"x\":{\"field\":\"x\"}},\"id\":\"25169\",\"type\":\"VBar\"},{\"attributes\":{},\"id\":\"25811\",\"type\":\"UnionRenderers\"},{\"attributes\":{\"factors\":[[\"very low activity\",\"a\"],[\"very low activity\",\"c\"],[\"low activity\",\"a\"],[\"low activity\",\"c\"],[\"slightly increased activity\",\"a\"],[\"slightly increased activity\",\"c\"],[\"increased activity\",\"a\"],[\"increased activity\",\"c\"],[\"high activity\",\"a\"],[\"high activity\",\"c\"],[\"very high activity\",\"a\"],[\"very high activity\",\"c\"]]},\"id\":\"25150\",\"type\":\"FactorRange\"},{\"attributes\":{},\"id\":\"25157\",\"type\":\"LinearScale\"},{\"attributes\":{},\"id\":\"25155\",\"type\":\"CategoricalScale\"},{\"attributes\":{\"end\":2,\"factors\":[\"a\",\"c\"],\"palette\":[\"#1f77b4\",\"#ff7f0e\"],\"start\":1},\"id\":\"25167\",\"type\":\"CategoricalColorMapper\"},{\"attributes\":{\"data\":{\"counts\":[0.5004622858775867,0.6476323119777159,0.30371341637668736,0.24669220055710306,0.09595373779145024,0.06084610027855153,0.06862003462941484,0.032990947075208915,0.024929816598584564,0.00948816155988858,0.006320708726276329,0.0023502785515320335],\"x\":[[\"very low activity\",\"a\"],[\"very low activity\",\"c\"],[\"low activity\",\"a\"],[\"low activity\",\"c\"],[\"slightly increased activity\",\"a\"],[\"slightly increased activity\",\"c\"],[\"increased activity\",\"a\"],[\"increased activity\",\"c\"],[\"high activity\",\"a\"],[\"high activity\",\"c\"],[\"very high activity\",\"a\"],[\"very high activity\",\"c\"]]},\"selected\":{\"id\":\"25812\"},\"selection_policy\":{\"id\":\"25811\"}},\"id\":\"25149\",\"type\":\"ColumnDataSource\"},{\"attributes\":{},\"id\":\"25809\",\"type\":\"BasicTickFormatter\"},{\"attributes\":{},\"id\":\"25810\",\"type\":\"AllLabels\"},{\"attributes\":{\"source\":{\"id\":\"25149\"}},\"id\":\"25172\",\"type\":\"CDSView\"},{\"attributes\":{\"formatter\":{\"id\":\"25806\"},\"group_label_orientation\":1.5707963267948966,\"major_label_orientation\":0,\"major_label_policy\":{\"id\":\"25807\"},\"ticker\":{\"id\":\"25160\"}},\"id\":\"25159\",\"type\":\"CategoricalAxis\"},{\"attributes\":{\"data_source\":{\"id\":\"25149\"},\"glyph\":{\"id\":\"25169\"},\"hover_glyph\":null,\"muted_glyph\":null,\"nonselection_glyph\":{\"id\":\"25170\"},\"view\":{\"id\":\"25172\"}},\"id\":\"25171\",\"type\":\"GlyphRenderer\"},{\"attributes\":{\"text\":\"D19_BANKEN_ANZ_12 [ks:0.1472 p:0.0000]\"},\"id\":\"25173\",\"type\":\"Title\"},{\"attributes\":{\"axis\":{\"id\":\"25162\"},\"dimension\":1,\"ticker\":null},\"id\":\"25165\",\"type\":\"Grid\"},{\"attributes\":{},\"id\":\"25163\",\"type\":\"BasicTicker\"},{\"attributes\":{},\"id\":\"25806\",\"type\":\"CategoricalTickFormatter\"},{\"attributes\":{},\"id\":\"25807\",\"type\":\"AllLabels\"},{\"attributes\":{\"formatter\":{\"id\":\"25809\"},\"major_label_policy\":{\"id\":\"25810\"},\"ticker\":{\"id\":\"25163\"}},\"id\":\"25162\",\"type\":\"LinearAxis\"},{\"attributes\":{\"axis\":{\"id\":\"25159\"},\"grid_line_color\":null,\"ticker\":null},\"id\":\"25161\",\"type\":\"Grid\"},{\"attributes\":{\"active_multi\":null},\"id\":\"25166\",\"type\":\"Toolbar\"},{\"attributes\":{\"start\":0},\"id\":\"25153\",\"type\":\"DataRange1d\"},{\"attributes\":{},\"id\":\"25160\",\"type\":\"CategoricalTicker\"},{\"attributes\":{\"fill_alpha\":{\"value\":0.1},\"fill_color\":{\"field\":\"x\",\"transform\":{\"id\":\"25167\"}},\"line_alpha\":{\"value\":0.1},\"line_color\":{\"value\":null},\"top\":{\"field\":\"counts\"},\"width\":{\"value\":0.9},\"x\":{\"field\":\"x\"}},\"id\":\"25170\",\"type\":\"VBar\"}],\"root_ids\":[\"25151\"]},\"title\":\"Bokeh Application\",\"version\":\"2.3.1\"}};\n",
       "  var render_items = [{\"docid\":\"92d64d55-009f-4851-aee5-cff11dbf8b0b\",\"root_ids\":[\"25151\"],\"roots\":{\"25151\":\"bf6686bd-8acd-4aed-bfbf-60f68d5f6c6d\"}}];\n",
       "  root.Bokeh.embed.embed_items_notebook(docs_json, render_items);\n",
       "\n",
       "  }\n",
       "  if (root.Bokeh !== undefined) {\n",
       "    embed_document(root);\n",
       "  } else {\n",
       "    var attempts = 0;\n",
       "    var timer = setInterval(function(root) {\n",
       "      if (root.Bokeh !== undefined) {\n",
       "        clearInterval(timer);\n",
       "        embed_document(root);\n",
       "      } else {\n",
       "        attempts++;\n",
       "        if (attempts > 100) {\n",
       "          clearInterval(timer);\n",
       "          console.log(\"Bokeh: ERROR: Unable to run BokehJS code because BokehJS library is missing\");\n",
       "        }\n",
       "      }\n",
       "    }, 10, root)\n",
       "  }\n",
       "})(window);"
      ],
      "application/vnd.bokehjs_exec.v0+json": ""
     },
     "metadata": {
      "application/vnd.bokehjs_exec.v0+json": {
       "id": "25151"
      }
     },
     "output_type": "display_data"
    },
    {
     "name": "stdout",
     "output_type": "stream",
     "text": [
      "==========================================================================================================================================================================================================================================\n"
     ]
    },
    {
     "data": {
      "text/html": [
       "\n",
       "\n",
       "\n",
       "\n",
       "\n",
       "\n",
       "  <div class=\"bk-root\" id=\"98e8443e-ac5d-42b5-a9e5-8da64d4c4ba6\" data-root-id=\"25865\"></div>\n"
      ]
     },
     "metadata": {},
     "output_type": "display_data"
    },
    {
     "data": {
      "application/javascript": [
       "(function(root) {\n",
       "  function embed_document(root) {\n",
       "    \n",
       "  var docs_json = {\"505271b9-baba-4608-9403-2222a2d01449\":{\"defs\":[],\"roots\":{\"references\":[{\"attributes\":{\"below\":[{\"id\":\"25873\"}],\"center\":[{\"id\":\"25875\"},{\"id\":\"25879\"}],\"height\":500,\"left\":[{\"id\":\"25876\"}],\"renderers\":[{\"id\":\"25885\"}],\"title\":{\"id\":\"25887\"},\"toolbar\":{\"id\":\"25880\"},\"toolbar_location\":null,\"width\":950,\"x_range\":{\"id\":\"25864\"},\"x_scale\":{\"id\":\"25869\"},\"y_range\":{\"id\":\"25867\"},\"y_scale\":{\"id\":\"25871\"}},\"id\":\"25865\",\"subtype\":\"Figure\",\"type\":\"Plot\"},{\"attributes\":{\"axis\":{\"id\":\"25876\"},\"dimension\":1,\"ticker\":null},\"id\":\"25879\",\"type\":\"Grid\"},{\"attributes\":{\"data\":{\"counts\":[0.11296626273827917,0.04845517097891186,0.20372633358276046,0.12148345197580586,0.38156563073659955,0.3843495965165183,0.193349985734204,0.2786711052326532,0.1083917872081568,0.1670406752961108],\"x\":[[\"way below average\",\"a\"],[\"way below average\",\"c\"],[\"below average\",\"a\"],[\"below average\",\"c\"],[\"average\",\"a\"],[\"average\",\"c\"],[\"above average\",\"a\"],[\"above average\",\"c\"],[\"way above average\",\"a\"],[\"way above average\",\"c\"]]},\"selected\":{\"id\":\"26536\"},\"selection_policy\":{\"id\":\"26535\"}},\"id\":\"25863\",\"type\":\"ColumnDataSource\"},{\"attributes\":{},\"id\":\"26535\",\"type\":\"UnionRenderers\"},{\"attributes\":{\"active_multi\":null},\"id\":\"25880\",\"type\":\"Toolbar\"},{\"attributes\":{},\"id\":\"26536\",\"type\":\"Selection\"},{\"attributes\":{\"fill_alpha\":{\"value\":0.1},\"fill_color\":{\"field\":\"x\",\"transform\":{\"id\":\"25881\"}},\"line_alpha\":{\"value\":0.1},\"line_color\":{\"value\":null},\"top\":{\"field\":\"counts\"},\"width\":{\"value\":0.9},\"x\":{\"field\":\"x\"}},\"id\":\"25884\",\"type\":\"VBar\"},{\"attributes\":{\"fill_color\":{\"field\":\"x\",\"transform\":{\"id\":\"25881\"}},\"line_color\":{\"value\":null},\"top\":{\"field\":\"counts\"},\"width\":{\"value\":0.9},\"x\":{\"field\":\"x\"}},\"id\":\"25883\",\"type\":\"VBar\"},{\"attributes\":{},\"id\":\"26534\",\"type\":\"AllLabels\"},{\"attributes\":{\"factors\":[[\"way below average\",\"a\"],[\"way below average\",\"c\"],[\"below average\",\"a\"],[\"below average\",\"c\"],[\"average\",\"a\"],[\"average\",\"c\"],[\"above average\",\"a\"],[\"above average\",\"c\"],[\"way above average\",\"a\"],[\"way above average\",\"c\"]]},\"id\":\"25864\",\"type\":\"FactorRange\"},{\"attributes\":{\"source\":{\"id\":\"25863\"}},\"id\":\"25886\",\"type\":\"CDSView\"},{\"attributes\":{\"data_source\":{\"id\":\"25863\"},\"glyph\":{\"id\":\"25883\"},\"hover_glyph\":null,\"muted_glyph\":null,\"nonselection_glyph\":{\"id\":\"25884\"},\"view\":{\"id\":\"25886\"}},\"id\":\"25885\",\"type\":\"GlyphRenderer\"},{\"attributes\":{\"text\":\"KBA05_KRSAQUOT [ks:0.1468 p:0.0000]\"},\"id\":\"25887\",\"type\":\"Title\"},{\"attributes\":{},\"id\":\"25874\",\"type\":\"CategoricalTicker\"},{\"attributes\":{\"formatter\":{\"id\":\"26533\"},\"major_label_policy\":{\"id\":\"26534\"},\"ticker\":{\"id\":\"25877\"}},\"id\":\"25876\",\"type\":\"LinearAxis\"},{\"attributes\":{},\"id\":\"25869\",\"type\":\"CategoricalScale\"},{\"attributes\":{},\"id\":\"26530\",\"type\":\"CategoricalTickFormatter\"},{\"attributes\":{\"end\":2,\"factors\":[\"a\",\"c\"],\"palette\":[\"#1f77b4\",\"#ff7f0e\"],\"start\":1},\"id\":\"25881\",\"type\":\"CategoricalColorMapper\"},{\"attributes\":{},\"id\":\"26531\",\"type\":\"AllLabels\"},{\"attributes\":{\"formatter\":{\"id\":\"26530\"},\"group_label_orientation\":1.5707963267948966,\"major_label_orientation\":0,\"major_label_policy\":{\"id\":\"26531\"},\"ticker\":{\"id\":\"25874\"}},\"id\":\"25873\",\"type\":\"CategoricalAxis\"},{\"attributes\":{},\"id\":\"25877\",\"type\":\"BasicTicker\"},{\"attributes\":{\"axis\":{\"id\":\"25873\"},\"grid_line_color\":null,\"ticker\":null},\"id\":\"25875\",\"type\":\"Grid\"},{\"attributes\":{\"start\":0},\"id\":\"25867\",\"type\":\"DataRange1d\"},{\"attributes\":{},\"id\":\"26533\",\"type\":\"BasicTickFormatter\"},{\"attributes\":{},\"id\":\"25871\",\"type\":\"LinearScale\"}],\"root_ids\":[\"25865\"]},\"title\":\"Bokeh Application\",\"version\":\"2.3.1\"}};\n",
       "  var render_items = [{\"docid\":\"505271b9-baba-4608-9403-2222a2d01449\",\"root_ids\":[\"25865\"],\"roots\":{\"25865\":\"98e8443e-ac5d-42b5-a9e5-8da64d4c4ba6\"}}];\n",
       "  root.Bokeh.embed.embed_items_notebook(docs_json, render_items);\n",
       "\n",
       "  }\n",
       "  if (root.Bokeh !== undefined) {\n",
       "    embed_document(root);\n",
       "  } else {\n",
       "    var attempts = 0;\n",
       "    var timer = setInterval(function(root) {\n",
       "      if (root.Bokeh !== undefined) {\n",
       "        clearInterval(timer);\n",
       "        embed_document(root);\n",
       "      } else {\n",
       "        attempts++;\n",
       "        if (attempts > 100) {\n",
       "          clearInterval(timer);\n",
       "          console.log(\"Bokeh: ERROR: Unable to run BokehJS code because BokehJS library is missing\");\n",
       "        }\n",
       "      }\n",
       "    }, 10, root)\n",
       "  }\n",
       "})(window);"
      ],
      "application/vnd.bokehjs_exec.v0+json": ""
     },
     "metadata": {
      "application/vnd.bokehjs_exec.v0+json": {
       "id": "25865"
      }
     },
     "output_type": "display_data"
    },
    {
     "name": "stdout",
     "output_type": "stream",
     "text": [
      "==========================================================================================================================================================================================================================================\n"
     ]
    },
    {
     "data": {
      "text/html": [
       "\n",
       "\n",
       "\n",
       "\n",
       "\n",
       "\n",
       "  <div class=\"bk-root\" id=\"6a7fae25-aef2-4089-98ff-2847acda33a2\" data-root-id=\"26589\"></div>\n"
      ]
     },
     "metadata": {},
     "output_type": "display_data"
    },
    {
     "data": {
      "application/javascript": [
       "(function(root) {\n",
       "  function embed_document(root) {\n",
       "    \n",
       "  var docs_json = {\"d0398c08-c29a-4725-9118-22cdc8f5fb18\":{\"defs\":[],\"roots\":{\"references\":[{\"attributes\":{\"below\":[{\"id\":\"26597\"}],\"center\":[{\"id\":\"26599\"},{\"id\":\"26603\"}],\"height\":500,\"left\":[{\"id\":\"26600\"}],\"renderers\":[{\"id\":\"26609\"}],\"title\":{\"id\":\"26611\"},\"toolbar\":{\"id\":\"26604\"},\"toolbar_location\":null,\"width\":950,\"x_range\":{\"id\":\"26588\"},\"x_scale\":{\"id\":\"26593\"},\"y_range\":{\"id\":\"26591\"},\"y_scale\":{\"id\":\"26595\"}},\"id\":\"26589\",\"subtype\":\"Figure\",\"type\":\"Plot\"},{\"attributes\":{\"start\":0},\"id\":\"26591\",\"type\":\"DataRange1d\"},{\"attributes\":{},\"id\":\"27270\",\"type\":\"Selection\"},{\"attributes\":{\"axis\":{\"id\":\"26597\"},\"grid_line_color\":null,\"ticker\":null},\"id\":\"26599\",\"type\":\"Grid\"},{\"attributes\":{},\"id\":\"26598\",\"type\":\"CategoricalTicker\"},{\"attributes\":{\"fill_alpha\":{\"value\":0.1},\"fill_color\":{\"field\":\"x\",\"transform\":{\"id\":\"26605\"}},\"line_alpha\":{\"value\":0.1},\"line_color\":{\"value\":null},\"top\":{\"field\":\"counts\"},\"width\":{\"value\":0.9},\"x\":{\"field\":\"x\"}},\"id\":\"26608\",\"type\":\"VBar\"},{\"attributes\":{},\"id\":\"26595\",\"type\":\"LinearScale\"},{\"attributes\":{\"factors\":[[\"none\",\"a\"],[\"none\",\"c\"],[\"very low\",\"a\"],[\"very low\",\"c\"],[\"low\",\"a\"],[\"low\",\"c\"],[\"average\",\"a\"],[\"average\",\"c\"],[\"high\",\"a\"],[\"high\",\"c\"],[\"very high\",\"a\"],[\"very high\",\"c\"]]},\"id\":\"26588\",\"type\":\"FactorRange\"},{\"attributes\":{},\"id\":\"27267\",\"type\":\"BasicTickFormatter\"},{\"attributes\":{\"data\":{\"counts\":[0.06744760684542875,0.018049012468605567,0.07647004990336942,0.04636716253771047,0.18651047863091424,0.12580808155865,0.4024905926496159,0.3966398668430204,0.1938815885098434,0.27737817473881315,0.07319968346082828,0.13575770185320038],\"x\":[[\"none\",\"a\"],[\"none\",\"c\"],[\"very low\",\"a\"],[\"very low\",\"c\"],[\"low\",\"a\"],[\"low\",\"c\"],[\"average\",\"a\"],[\"average\",\"c\"],[\"high\",\"a\"],[\"high\",\"c\"],[\"very high\",\"a\"],[\"very high\",\"c\"]]},\"selected\":{\"id\":\"27270\"},\"selection_policy\":{\"id\":\"27269\"}},\"id\":\"26587\",\"type\":\"ColumnDataSource\"},{\"attributes\":{\"formatter\":{\"id\":\"27267\"},\"major_label_policy\":{\"id\":\"27268\"},\"ticker\":{\"id\":\"26601\"}},\"id\":\"26600\",\"type\":\"LinearAxis\"},{\"attributes\":{},\"id\":\"27268\",\"type\":\"AllLabels\"},{\"attributes\":{\"fill_color\":{\"field\":\"x\",\"transform\":{\"id\":\"26605\"}},\"line_color\":{\"value\":null},\"top\":{\"field\":\"counts\"},\"width\":{\"value\":0.9},\"x\":{\"field\":\"x\"}},\"id\":\"26607\",\"type\":\"VBar\"},{\"attributes\":{\"formatter\":{\"id\":\"27264\"},\"group_label_orientation\":1.5707963267948966,\"major_label_orientation\":0,\"major_label_policy\":{\"id\":\"27265\"},\"ticker\":{\"id\":\"26598\"}},\"id\":\"26597\",\"type\":\"CategoricalAxis\"},{\"attributes\":{\"end\":2,\"factors\":[\"a\",\"c\"],\"palette\":[\"#1f77b4\",\"#ff7f0e\"],\"start\":1},\"id\":\"26605\",\"type\":\"CategoricalColorMapper\"},{\"attributes\":{\"source\":{\"id\":\"26587\"}},\"id\":\"26610\",\"type\":\"CDSView\"},{\"attributes\":{\"data_source\":{\"id\":\"26587\"},\"glyph\":{\"id\":\"26607\"},\"hover_glyph\":null,\"muted_glyph\":null,\"nonselection_glyph\":{\"id\":\"26608\"},\"view\":{\"id\":\"26610\"}},\"id\":\"26609\",\"type\":\"GlyphRenderer\"},{\"attributes\":{\"text\":\"KBA05_ALTER4 [ks:0.1461 p:0.0000]\"},\"id\":\"26611\",\"type\":\"Title\"},{\"attributes\":{},\"id\":\"27264\",\"type\":\"CategoricalTickFormatter\"},{\"attributes\":{\"axis\":{\"id\":\"26600\"},\"dimension\":1,\"ticker\":null},\"id\":\"26603\",\"type\":\"Grid\"},{\"attributes\":{},\"id\":\"27265\",\"type\":\"AllLabels\"},{\"attributes\":{},\"id\":\"26601\",\"type\":\"BasicTicker\"},{\"attributes\":{},\"id\":\"26593\",\"type\":\"CategoricalScale\"},{\"attributes\":{},\"id\":\"27269\",\"type\":\"UnionRenderers\"},{\"attributes\":{\"active_multi\":null},\"id\":\"26604\",\"type\":\"Toolbar\"}],\"root_ids\":[\"26589\"]},\"title\":\"Bokeh Application\",\"version\":\"2.3.1\"}};\n",
       "  var render_items = [{\"docid\":\"d0398c08-c29a-4725-9118-22cdc8f5fb18\",\"root_ids\":[\"26589\"],\"roots\":{\"26589\":\"6a7fae25-aef2-4089-98ff-2847acda33a2\"}}];\n",
       "  root.Bokeh.embed.embed_items_notebook(docs_json, render_items);\n",
       "\n",
       "  }\n",
       "  if (root.Bokeh !== undefined) {\n",
       "    embed_document(root);\n",
       "  } else {\n",
       "    var attempts = 0;\n",
       "    var timer = setInterval(function(root) {\n",
       "      if (root.Bokeh !== undefined) {\n",
       "        clearInterval(timer);\n",
       "        embed_document(root);\n",
       "      } else {\n",
       "        attempts++;\n",
       "        if (attempts > 100) {\n",
       "          clearInterval(timer);\n",
       "          console.log(\"Bokeh: ERROR: Unable to run BokehJS code because BokehJS library is missing\");\n",
       "        }\n",
       "      }\n",
       "    }, 10, root)\n",
       "  }\n",
       "})(window);"
      ],
      "application/vnd.bokehjs_exec.v0+json": ""
     },
     "metadata": {
      "application/vnd.bokehjs_exec.v0+json": {
       "id": "26589"
      }
     },
     "output_type": "display_data"
    },
    {
     "name": "stdout",
     "output_type": "stream",
     "text": [
      "==========================================================================================================================================================================================================================================\n"
     ]
    },
    {
     "data": {
      "text/html": [
       "\n",
       "\n",
       "\n",
       "\n",
       "\n",
       "\n",
       "  <div class=\"bk-root\" id=\"c6f9cba7-4f0b-4e43-8a23-bd0b075a7e4a\" data-root-id=\"27323\"></div>\n"
      ]
     },
     "metadata": {},
     "output_type": "display_data"
    },
    {
     "data": {
      "application/javascript": [
       "(function(root) {\n",
       "  function embed_document(root) {\n",
       "    \n",
       "  var docs_json = {\"f34b5d85-77fc-44c6-a267-ad982560dbb5\":{\"defs\":[],\"roots\":{\"references\":[{\"attributes\":{\"below\":[{\"id\":\"27331\"}],\"center\":[{\"id\":\"27333\"},{\"id\":\"27337\"}],\"height\":500,\"left\":[{\"id\":\"27334\"}],\"renderers\":[{\"id\":\"27343\"}],\"title\":{\"id\":\"27345\"},\"toolbar\":{\"id\":\"27338\"},\"toolbar_location\":null,\"width\":950,\"x_range\":{\"id\":\"27322\"},\"x_scale\":{\"id\":\"27327\"},\"y_range\":{\"id\":\"27325\"},\"y_scale\":{\"id\":\"27329\"}},\"id\":\"27323\",\"subtype\":\"Figure\",\"type\":\"Plot\"},{\"attributes\":{},\"id\":\"27335\",\"type\":\"BasicTicker\"},{\"attributes\":{},\"id\":\"28011\",\"type\":\"BasicTickFormatter\"},{\"attributes\":{\"active_multi\":null},\"id\":\"27338\",\"type\":\"Toolbar\"},{\"attributes\":{\"axis\":{\"id\":\"27334\"},\"dimension\":1,\"ticker\":null},\"id\":\"27337\",\"type\":\"Grid\"},{\"attributes\":{},\"id\":\"28013\",\"type\":\"UnionRenderers\"},{\"attributes\":{\"fill_alpha\":{\"value\":0.1},\"fill_color\":{\"field\":\"x\",\"transform\":{\"id\":\"27339\"}},\"line_alpha\":{\"value\":0.1},\"line_color\":{\"value\":null},\"top\":{\"field\":\"counts\"},\"width\":{\"value\":0.9},\"x\":{\"field\":\"x\"}},\"id\":\"27342\",\"type\":\"VBar\"},{\"attributes\":{},\"id\":\"28014\",\"type\":\"Selection\"},{\"attributes\":{\"formatter\":{\"id\":\"28011\"},\"major_label_policy\":{\"id\":\"28012\"},\"ticker\":{\"id\":\"27335\"}},\"id\":\"27334\",\"type\":\"LinearAxis\"},{\"attributes\":{},\"id\":\"27332\",\"type\":\"CategoricalTicker\"},{\"attributes\":{\"axis\":{\"id\":\"27331\"},\"grid_line_color\":null,\"ticker\":null},\"id\":\"27333\",\"type\":\"Grid\"},{\"attributes\":{\"formatter\":{\"id\":\"28008\"},\"group_label_orientation\":1.5707963267948966,\"major_label_orientation\":0,\"major_label_policy\":{\"id\":\"28009\"},\"ticker\":{\"id\":\"27332\"}},\"id\":\"27331\",\"type\":\"CategoricalAxis\"},{\"attributes\":{},\"id\":\"28012\",\"type\":\"AllLabels\"},{\"attributes\":{},\"id\":\"27329\",\"type\":\"LinearScale\"},{\"attributes\":{\"fill_color\":{\"field\":\"x\",\"transform\":{\"id\":\"27339\"}},\"line_color\":{\"value\":null},\"top\":{\"field\":\"counts\"},\"width\":{\"value\":0.9},\"x\":{\"field\":\"x\"}},\"id\":\"27341\",\"type\":\"VBar\"},{\"attributes\":{\"source\":{\"id\":\"27321\"}},\"id\":\"27344\",\"type\":\"CDSView\"},{\"attributes\":{\"end\":2,\"factors\":[\"a\",\"c\"],\"palette\":[\"#1f77b4\",\"#ff7f0e\"],\"start\":1},\"id\":\"27339\",\"type\":\"CategoricalColorMapper\"},{\"attributes\":{},\"id\":\"27327\",\"type\":\"CategoricalScale\"},{\"attributes\":{\"data_source\":{\"id\":\"27321\"},\"glyph\":{\"id\":\"27341\"},\"hover_glyph\":null,\"muted_glyph\":null,\"nonselection_glyph\":{\"id\":\"27342\"},\"view\":{\"id\":\"27344\"}},\"id\":\"27343\",\"type\":\"GlyphRenderer\"},{\"attributes\":{\"text\":\"KBA13_SEG_SPORTWAGEN [ks:0.1446 p:0.0000]\"},\"id\":\"27345\",\"type\":\"Title\"},{\"attributes\":{\"start\":0},\"id\":\"27325\",\"type\":\"DataRange1d\"},{\"attributes\":{\"data\":{\"counts\":[0.10622233428587438,0.10281153714481342,0.13529521131639136,0.0500470729202328,0.18706607171054979,0.13111234736962227,0.3411255775098438,0.38959260527216705,0.11734719866338626,0.15683841150290997,0.11294360651395448,0.1695980257902545],\"x\":[[\"none\",\"a\"],[\"none\",\"c\"],[\"very low\",\"a\"],[\"very low\",\"c\"],[\"low\",\"a\"],[\"low\",\"c\"],[\"average\",\"a\"],[\"average\",\"c\"],[\"high\",\"a\"],[\"high\",\"c\"],[\"very high\",\"a\"],[\"very high\",\"c\"]]},\"selected\":{\"id\":\"28014\"},\"selection_policy\":{\"id\":\"28013\"}},\"id\":\"27321\",\"type\":\"ColumnDataSource\"},{\"attributes\":{},\"id\":\"28008\",\"type\":\"CategoricalTickFormatter\"},{\"attributes\":{\"factors\":[[\"none\",\"a\"],[\"none\",\"c\"],[\"very low\",\"a\"],[\"very low\",\"c\"],[\"low\",\"a\"],[\"low\",\"c\"],[\"average\",\"a\"],[\"average\",\"c\"],[\"high\",\"a\"],[\"high\",\"c\"],[\"very high\",\"a\"],[\"very high\",\"c\"]]},\"id\":\"27322\",\"type\":\"FactorRange\"},{\"attributes\":{},\"id\":\"28009\",\"type\":\"AllLabels\"}],\"root_ids\":[\"27323\"]},\"title\":\"Bokeh Application\",\"version\":\"2.3.1\"}};\n",
       "  var render_items = [{\"docid\":\"f34b5d85-77fc-44c6-a267-ad982560dbb5\",\"root_ids\":[\"27323\"],\"roots\":{\"27323\":\"c6f9cba7-4f0b-4e43-8a23-bd0b075a7e4a\"}}];\n",
       "  root.Bokeh.embed.embed_items_notebook(docs_json, render_items);\n",
       "\n",
       "  }\n",
       "  if (root.Bokeh !== undefined) {\n",
       "    embed_document(root);\n",
       "  } else {\n",
       "    var attempts = 0;\n",
       "    var timer = setInterval(function(root) {\n",
       "      if (root.Bokeh !== undefined) {\n",
       "        clearInterval(timer);\n",
       "        embed_document(root);\n",
       "      } else {\n",
       "        attempts++;\n",
       "        if (attempts > 100) {\n",
       "          clearInterval(timer);\n",
       "          console.log(\"Bokeh: ERROR: Unable to run BokehJS code because BokehJS library is missing\");\n",
       "        }\n",
       "      }\n",
       "    }, 10, root)\n",
       "  }\n",
       "})(window);"
      ],
      "application/vnd.bokehjs_exec.v0+json": ""
     },
     "metadata": {
      "application/vnd.bokehjs_exec.v0+json": {
       "id": "27323"
      }
     },
     "output_type": "display_data"
    },
    {
     "name": "stdout",
     "output_type": "stream",
     "text": [
      "==========================================================================================================================================================================================================================================\n"
     ]
    },
    {
     "data": {
      "text/html": [
       "\n",
       "\n",
       "\n",
       "\n",
       "\n",
       "\n",
       "  <div class=\"bk-root\" id=\"dfbd6fc8-76c8-4941-a541-ba5df39d4899\" data-root-id=\"28067\"></div>\n"
      ]
     },
     "metadata": {},
     "output_type": "display_data"
    },
    {
     "data": {
      "application/javascript": [
       "(function(root) {\n",
       "  function embed_document(root) {\n",
       "    \n",
       "  var docs_json = {\"58786456-dd53-479e-95be-acac3c65933d\":{\"defs\":[],\"roots\":{\"references\":[{\"attributes\":{\"below\":[{\"id\":\"28075\"}],\"center\":[{\"id\":\"28077\"},{\"id\":\"28081\"}],\"height\":500,\"left\":[{\"id\":\"28078\"}],\"renderers\":[{\"id\":\"28087\"}],\"title\":{\"id\":\"28089\"},\"toolbar\":{\"id\":\"28082\"},\"toolbar_location\":null,\"width\":950,\"x_range\":{\"id\":\"28066\"},\"x_scale\":{\"id\":\"28071\"},\"y_range\":{\"id\":\"28069\"},\"y_scale\":{\"id\":\"28073\"}},\"id\":\"28067\",\"subtype\":\"Figure\",\"type\":\"Plot\"},{\"attributes\":{},\"id\":\"28076\",\"type\":\"CategoricalTicker\"},{\"attributes\":{\"axis\":{\"id\":\"28075\"},\"grid_line_color\":null,\"ticker\":null},\"id\":\"28077\",\"type\":\"Grid\"},{\"attributes\":{},\"id\":\"28762\",\"type\":\"CategoricalTickFormatter\"},{\"attributes\":{},\"id\":\"28763\",\"type\":\"AllLabels\"},{\"attributes\":{\"fill_alpha\":{\"value\":0.1},\"fill_color\":{\"field\":\"x\",\"transform\":{\"id\":\"28083\"}},\"line_alpha\":{\"value\":0.1},\"line_color\":{\"value\":null},\"top\":{\"field\":\"counts\"},\"width\":{\"value\":0.9},\"x\":{\"field\":\"x\"}},\"id\":\"28086\",\"type\":\"VBar\"},{\"attributes\":{\"formatter\":{\"id\":\"28762\"},\"group_label_orientation\":1.5707963267948966,\"major_label_orientation\":0,\"major_label_policy\":{\"id\":\"28763\"},\"ticker\":{\"id\":\"28076\"}},\"id\":\"28075\",\"type\":\"CategoricalAxis\"},{\"attributes\":{\"axis\":{\"id\":\"28078\"},\"dimension\":1,\"ticker\":null},\"id\":\"28081\",\"type\":\"Grid\"},{\"attributes\":{},\"id\":\"28079\",\"type\":\"BasicTicker\"},{\"attributes\":{\"formatter\":{\"id\":\"28765\"},\"major_label_policy\":{\"id\":\"28766\"},\"ticker\":{\"id\":\"28079\"}},\"id\":\"28078\",\"type\":\"LinearAxis\"},{\"attributes\":{\"active_multi\":null},\"id\":\"28082\",\"type\":\"Toolbar\"},{\"attributes\":{},\"id\":\"28767\",\"type\":\"UnionRenderers\"},{\"attributes\":{},\"id\":\"28768\",\"type\":\"Selection\"},{\"attributes\":{\"start\":0},\"id\":\"28069\",\"type\":\"DataRange1d\"},{\"attributes\":{},\"id\":\"28073\",\"type\":\"LinearScale\"},{\"attributes\":{\"data\":{\"counts\":[0.24080259906653245,0.3361916509384892,0.43507313239197026,0.4828055105589324,0.32412426854149734,0.18100283850257842],\"x\":[[\"no preowner\",\"a\"],[\"no preowner\",\"c\"],[\"1 preowner\",\"a\"],[\"1 preowner\",\"c\"],[\"2 or more preowner\",\"a\"],[\"2 or more preowner\",\"c\"]]},\"selected\":{\"id\":\"28768\"},\"selection_policy\":{\"id\":\"28767\"}},\"id\":\"28065\",\"type\":\"ColumnDataSource\"},{\"attributes\":{},\"id\":\"28765\",\"type\":\"BasicTickFormatter\"},{\"attributes\":{},\"id\":\"28766\",\"type\":\"AllLabels\"},{\"attributes\":{},\"id\":\"28071\",\"type\":\"CategoricalScale\"},{\"attributes\":{\"source\":{\"id\":\"28065\"}},\"id\":\"28088\",\"type\":\"CDSView\"},{\"attributes\":{\"factors\":[[\"no preowner\",\"a\"],[\"no preowner\",\"c\"],[\"1 preowner\",\"a\"],[\"1 preowner\",\"c\"],[\"2 or more preowner\",\"a\"],[\"2 or more preowner\",\"c\"]]},\"id\":\"28066\",\"type\":\"FactorRange\"},{\"attributes\":{\"data_source\":{\"id\":\"28065\"},\"glyph\":{\"id\":\"28085\"},\"hover_glyph\":null,\"muted_glyph\":null,\"nonselection_glyph\":{\"id\":\"28086\"},\"view\":{\"id\":\"28088\"}},\"id\":\"28087\",\"type\":\"GlyphRenderer\"},{\"attributes\":{\"text\":\"KBA05_MAXVORB [ks:0.1431 p:0.0000]\"},\"id\":\"28089\",\"type\":\"Title\"},{\"attributes\":{\"fill_color\":{\"field\":\"x\",\"transform\":{\"id\":\"28083\"}},\"line_color\":{\"value\":null},\"top\":{\"field\":\"counts\"},\"width\":{\"value\":0.9},\"x\":{\"field\":\"x\"}},\"id\":\"28085\",\"type\":\"VBar\"},{\"attributes\":{\"end\":2,\"factors\":[\"a\",\"c\"],\"palette\":[\"#1f77b4\",\"#ff7f0e\"],\"start\":1},\"id\":\"28083\",\"type\":\"CategoricalColorMapper\"}],\"root_ids\":[\"28067\"]},\"title\":\"Bokeh Application\",\"version\":\"2.3.1\"}};\n",
       "  var render_items = [{\"docid\":\"58786456-dd53-479e-95be-acac3c65933d\",\"root_ids\":[\"28067\"],\"roots\":{\"28067\":\"dfbd6fc8-76c8-4941-a541-ba5df39d4899\"}}];\n",
       "  root.Bokeh.embed.embed_items_notebook(docs_json, render_items);\n",
       "\n",
       "  }\n",
       "  if (root.Bokeh !== undefined) {\n",
       "    embed_document(root);\n",
       "  } else {\n",
       "    var attempts = 0;\n",
       "    var timer = setInterval(function(root) {\n",
       "      if (root.Bokeh !== undefined) {\n",
       "        clearInterval(timer);\n",
       "        embed_document(root);\n",
       "      } else {\n",
       "        attempts++;\n",
       "        if (attempts > 100) {\n",
       "          clearInterval(timer);\n",
       "          console.log(\"Bokeh: ERROR: Unable to run BokehJS code because BokehJS library is missing\");\n",
       "        }\n",
       "      }\n",
       "    }, 10, root)\n",
       "  }\n",
       "})(window);"
      ],
      "application/vnd.bokehjs_exec.v0+json": ""
     },
     "metadata": {
      "application/vnd.bokehjs_exec.v0+json": {
       "id": "28067"
      }
     },
     "output_type": "display_data"
    },
    {
     "name": "stdout",
     "output_type": "stream",
     "text": [
      "==========================================================================================================================================================================================================================================\n"
     ]
    }
   ],
   "source": [
    "# Plot the 50 features that are the most different between the general population and the customers\n",
    "for k in range(50):\n",
    "    output_col(most_different[k])\n",
    "    print('='*117*2)"
   ]
  },
  {
   "cell_type": "markdown",
   "metadata": {},
   "source": [
    "## Part 2: Supervised Learning Model\n",
    "\n",
    "Now that you've found which parts of the population are more likely to be customers of the mail-order company, it's time to build a prediction model. Each of the rows in the \"MAILOUT\" data files represents an individual that was targeted for a mailout campaign. Ideally, we should be able to use the demographic information from each individual to decide whether or not it will be worth it to include that person in the campaign.\n",
    "\n",
    "The \"MAILOUT\" data has been split into two approximately equal parts, each with almost 43 000 data rows. In this part, you can verify your model with the \"TRAIN\" partition, which includes a column, \"RESPONSE\", that states whether or not a person became a customer of the company following the campaign. In the next part, you'll need to create predictions on the \"TEST\" partition, where the \"RESPONSE\" column has been withheld."
   ]
  },
  {
   "cell_type": "code",
   "execution_count": 86,
   "metadata": {},
   "outputs": [],
   "source": [
    "# Find the variables taking up the most memory\n",
    "d = dict()\n",
    "keys = list(locals().keys())\n",
    "for k in keys:\n",
    "    d[k] = getsizeof(locals()[k])/1000/1000 # convert to MB"
   ]
  },
  {
   "cell_type": "code",
   "execution_count": 87,
   "metadata": {},
   "outputs": [
    {
     "data": {
      "text/html": [
       "<div>\n",
       "<style scoped>\n",
       "    .dataframe tbody tr th:only-of-type {\n",
       "        vertical-align: middle;\n",
       "    }\n",
       "\n",
       "    .dataframe tbody tr th {\n",
       "        vertical-align: top;\n",
       "    }\n",
       "\n",
       "    .dataframe thead th {\n",
       "        text-align: right;\n",
       "    }\n",
       "</style>\n",
       "<table border=\"1\" class=\"dataframe\">\n",
       "  <thead>\n",
       "    <tr style=\"text-align: right;\">\n",
       "      <th></th>\n",
       "      <th>mem size</th>\n",
       "    </tr>\n",
       "  </thead>\n",
       "  <tbody>\n",
       "    <tr>\n",
       "      <th>azdias</th>\n",
       "      <td>1999.980528</td>\n",
       "    </tr>\n",
       "    <tr>\n",
       "      <th>customers</th>\n",
       "      <td>379.981394</td>\n",
       "    </tr>\n",
       "    <tr>\n",
       "      <th>a_dups</th>\n",
       "      <td>41.837621</td>\n",
       "    </tr>\n",
       "    <tr>\n",
       "      <th>c_dups</th>\n",
       "      <td>5.951996</td>\n",
       "    </tr>\n",
       "    <tr>\n",
       "      <th>attributes_filt</th>\n",
       "      <td>0.425551</td>\n",
       "    </tr>\n",
       "    <tr>\n",
       "      <th>attributes</th>\n",
       "      <td>0.409354</td>\n",
       "    </tr>\n",
       "    <tr>\n",
       "      <th>_34</th>\n",
       "      <td>0.070819</td>\n",
       "    </tr>\n",
       "    <tr>\n",
       "      <th>missing_labels_all</th>\n",
       "      <td>0.070819</td>\n",
       "    </tr>\n",
       "    <tr>\n",
       "      <th>missing_labels</th>\n",
       "      <td>0.061597</td>\n",
       "    </tr>\n",
       "    <tr>\n",
       "      <th>column_stats</th>\n",
       "      <td>0.051735</td>\n",
       "    </tr>\n",
       "  </tbody>\n",
       "</table>\n",
       "</div>"
      ],
      "text/plain": [
       "                       mem size\n",
       "azdias              1999.980528\n",
       "customers            379.981394\n",
       "a_dups                41.837621\n",
       "c_dups                 5.951996\n",
       "attributes_filt        0.425551\n",
       "attributes             0.409354\n",
       "_34                    0.070819\n",
       "missing_labels_all     0.070819\n",
       "missing_labels         0.061597\n",
       "column_stats           0.051735"
      ]
     },
     "execution_count": 87,
     "metadata": {},
     "output_type": "execute_result"
    }
   ],
   "source": [
    "pd.DataFrame(d.values(), columns=['mem size'], index=d.keys()).sort_values(by='mem size', ascending=False).head(10)"
   ]
  },
  {
   "cell_type": "code",
   "execution_count": 88,
   "metadata": {},
   "outputs": [
    {
     "data": {
      "text/plain": [
       "191"
      ]
     },
     "execution_count": 88,
     "metadata": {},
     "output_type": "execute_result"
    }
   ],
   "source": [
    "# clear memory\n",
    "del azdias\n",
    "del customers\n",
    "del a_dups\n",
    "del c_dups\n",
    "gc.collect()"
   ]
  },
  {
   "cell_type": "code",
   "execution_count": 89,
   "metadata": {},
   "outputs": [],
   "source": [
    "def apply_pre_processing(df, \n",
    "                         low_to_no_info_columns, \n",
    "                         correlated_cols_to_drop,\n",
    "                         ks_cols_to_drop,\n",
    "                         col_to_proc, \n",
    "                         missing_labels, \n",
    "                         missing_fill_value,\n",
    "                         drop_duplicates=True, \n",
    "                         replacements=None,\n",
    "                         ANZ_HAUSHALTE_AKTIV_quantiles=ANZ_HAUSHALTE_AKTIV_quantiles):\n",
    "    \"\"\"\n",
    "    Systematically apply the pre-processing steps uncovered through the analysis process.\n",
    "    The process \n",
    "        1. Removes meta data and sets the index\n",
    "        2. Drops columns of low value\n",
    "        3. Drops duplicated rows if asked to do so\n",
    "        4. Converts columns to numeric equivalents\n",
    "        5. Unifies the missing labels\n",
    "        6. Fill NaNs with a unique label (separate from missing labels)\n",
    "        7. Converts all columns to int\n",
    "        8. Cleans columns that are prone to ouliers \n",
    "        \n",
    "    Inputs\n",
    "    df - DataFrame with the data to process\n",
    "    low_to_no_info_columns - columns identified as low or no info in the analysis process \n",
    "    correlated_cols_to_drop - columns identified as highly correlated in the analysis process\n",
    "    ks_cols_to_drop - columns identified as similarly distributed in the analysis process\n",
    "    col_to_proc - columns and processes mapping to convert object columns to numeric \n",
    "    missing_labels - labels for each column which indicates the missing values \n",
    "    missing_fill_value - labels for each column to use for NaN values\n",
    "    drop_duplicates=True - flag that drops dupliacte rows from the dataset \n",
    "    replacements=None - replacements mapping (generated in this function to be re-used for subsequent datasets)\n",
    "    ANZ_HAUSHALTE_AKTIV_quantiles - bins to use for this column as determined by the analysis process\n",
    "    \n",
    "    Output\n",
    "    The dataframe is processed in place, so its not retuned\n",
    "    replacements - mapping as calculated in the application of this function\n",
    "    \"\"\"\n",
    "    \n",
    "    setup_dataframe(df)\n",
    "    columns_to_drop = [\n",
    "        *low_to_no_info_columns,  # columns we dont have descriptions for in the accompanying data descriptions\n",
    "        *correlated_cols_to_drop, # columns that are highly correlated    \n",
    "        *ks_cols_to_drop,         # columns with the same distribution in customers and general population\n",
    "    ]\n",
    "    df.drop(columns=columns_to_drop, inplace=True) \n",
    "\n",
    "    # Check for duplicated rows\n",
    "    if drop_duplicates:\n",
    "        dups = df.duplicated()\n",
    "        print(f\"Found and dropping {dups.sum()} duplicate rows\")\n",
    "        df.drop(index=(dups[dups==True].index), inplace=True)\n",
    "    # process non numeric columns so they are numeric\n",
    "    \n",
    "    if 'CAMEO_DEUG_2015' in col_to_proc.keys():\n",
    "        col_to_proc.pop('CAMEO_DEUG_2015')\n",
    "    apply_cleaning_process(df, col_to_proc)\n",
    "    \n",
    "    # convert categoricals to numerics\n",
    "    if replacements is None:\n",
    "        replacements = dict()\n",
    "        cols_to_replace = ['CAMEO_DEU_2015', 'OST_WEST_KZ']\n",
    "        for c in cols_to_replace:\n",
    "            replacements[c] = categorical_to_numeric(df, c)\n",
    "    else:\n",
    "        for c, r in replacements.items():\n",
    "            categorical_to_numeric(df, c, r)\n",
    "    \n",
    "    # some columns have more than 1 missing label, unify these in the data\n",
    "    clean_missing(df, missing_labels)\n",
    "    \n",
    "    # replace all nans with a numeric value not found in the data\n",
    "    df.fillna(missing_fill_value, inplace=True)\n",
    "    \n",
    "    # analysis showed all columns thus far can be converted to int\n",
    "    df.astype(np.int64, copy=False)\n",
    "    \n",
    "    # apply treatment to some features to reduce outliers or reduce the number of categories\n",
    "    df.loc[df['ANZ_PERSONEN'] >= 8,'ANZ_PERSONEN'] = 8\n",
    "    df['KBA13_ANZAHL_PKW'] = (np.ceil((df['KBA13_ANZAHL_PKW']/100))*100)\n",
    "    bin_the_tails(df, 'ANZ_HAUSHALTE_AKTIV', ANZ_HAUSHALTE_AKTIV_quantiles)\n",
    "    \n",
    "    return replacements"
   ]
  },
  {
   "cell_type": "code",
   "execution_count": 90,
   "metadata": {},
   "outputs": [
    {
     "name": "stdout",
     "output_type": "stream",
     "text": [
      "azdias parquet found - loading\n",
      "azdias parquet loaded\n",
      "customers parquet found - loading\n",
      "customers parquet loaded\n"
     ]
    }
   ],
   "source": [
    "# re-load the original datasets so we can be sure we are processing them as intended\n",
    "train_azdias = load_data('../../data/Term2/capstone/arvato_data/Udacity_AZDIAS_052018.csv', 'azdias')\n",
    "train_customers = load_data('../../data/Term2/capstone/arvato_data/Udacity_CUSTOMERS_052018.csv', 'customers')"
   ]
  },
  {
   "cell_type": "code",
   "execution_count": 91,
   "metadata": {},
   "outputs": [],
   "source": [
    "# Drop descriptive columns\n",
    "train_customers.drop(columns=['CUSTOMER_GROUP', 'PRODUCT_GROUP', 'ONLINE_PURCHASE'], inplace=True)"
   ]
  },
  {
   "cell_type": "code",
   "execution_count": 92,
   "metadata": {},
   "outputs": [
    {
     "name": "stdout",
     "output_type": "stream",
     "text": [
      "Found and dropping 52310 duplicate rows\n"
     ]
    },
    {
     "data": {
      "application/vnd.jupyter.widget-view+json": {
       "model_id": "42419ebcd47c479180ed2e5714efa07c",
       "version_major": 2,
       "version_minor": 0
      },
      "text/plain": [
       "  0%|          | 0/307 [00:00<?, ?it/s]"
      ]
     },
     "metadata": {},
     "output_type": "display_data"
    }
   ],
   "source": [
    "# apply standardised pre-processing\n",
    "replacements = apply_pre_processing(train_azdias, \n",
    "                                    low_to_no_info_columns, \n",
    "                                    correlated_cols_to_drop,\n",
    "                                    ks_cols_to_drop,\n",
    "                                    col_to_proc, \n",
    "                                    missing_labels, \n",
    "                                    missing_fill_value,\n",
    "                                    drop_duplicates=True, \n",
    "                                    replacements=None)"
   ]
  },
  {
   "cell_type": "code",
   "execution_count": 93,
   "metadata": {},
   "outputs": [
    {
     "name": "stdout",
     "output_type": "stream",
     "text": [
      "Found and dropping 42298 duplicate rows\n"
     ]
    },
    {
     "data": {
      "application/vnd.jupyter.widget-view+json": {
       "model_id": "3b03742af90442a3addb523203f3307a",
       "version_major": 2,
       "version_minor": 0
      },
      "text/plain": [
       "  0%|          | 0/307 [00:00<?, ?it/s]"
      ]
     },
     "metadata": {},
     "output_type": "display_data"
    }
   ],
   "source": [
    "# apply standardised pre-processing\n",
    "_ = apply_pre_processing(train_customers, \n",
    "                         low_to_no_info_columns, \n",
    "                         correlated_cols_to_drop,\n",
    "                         ks_cols_to_drop,\n",
    "                         col_to_proc, \n",
    "                         missing_labels, \n",
    "                         missing_fill_value,\n",
    "                         drop_duplicates=True, \n",
    "                         replacements=replacements)"
   ]
  },
  {
   "cell_type": "code",
   "execution_count": 94,
   "metadata": {},
   "outputs": [],
   "source": [
    "# Construct a training dataset from the two larger datasets\n",
    "train_azdias['RESPONSE'] = 0\n",
    "train_customers['RESPONSE'] = 1\n",
    "\n",
    "data_train = pd.concat([train_azdias, train_customers], axis=0)"
   ]
  },
  {
   "cell_type": "code",
   "execution_count": 95,
   "metadata": {},
   "outputs": [
    {
     "name": "stdout",
     "output_type": "stream",
     "text": [
      "mailout_train parquet found - loading\n",
      "mailout_train parquet loaded\n"
     ]
    }
   ],
   "source": [
    "# Load verification dataset\n",
    "mailout_veri = load_data('../../data/Term2/capstone/arvato_data/Udacity_MAILOUT_052018_TRAIN.csv', 'mailout_train')"
   ]
  },
  {
   "cell_type": "code",
   "execution_count": 96,
   "metadata": {},
   "outputs": [
    {
     "data": {
      "application/vnd.jupyter.widget-view+json": {
       "model_id": "d490e04c3e014cadbc051e2681132551",
       "version_major": 2,
       "version_minor": 0
      },
      "text/plain": [
       "  0%|          | 0/307 [00:00<?, ?it/s]"
      ]
     },
     "metadata": {},
     "output_type": "display_data"
    }
   ],
   "source": [
    "# apply standardised pre-processing\n",
    "_ = apply_pre_processing(mailout_veri, \n",
    "                         low_to_no_info_columns, \n",
    "                         correlated_cols_to_drop,\n",
    "                         ks_cols_to_drop,\n",
    "                         col_to_proc, \n",
    "                         missing_labels, \n",
    "                         missing_fill_value,\n",
    "                         drop_duplicates=False, \n",
    "                         replacements=replacements)"
   ]
  },
  {
   "cell_type": "code",
   "execution_count": 97,
   "metadata": {},
   "outputs": [],
   "source": [
    "# Construct datasets\n",
    "X = data_train.drop(columns=['RESPONSE'])\n",
    "y = data_train['RESPONSE']\n",
    "X_train, X_test, y_train, y_test = train_test_split(X, y, test_size=0.2, random_state=42)\n",
    "\n",
    "X_valid = mailout_veri.drop(columns=['RESPONSE'])\n",
    "y_valid = mailout_veri['RESPONSE']"
   ]
  },
  {
   "cell_type": "code",
   "execution_count": 98,
   "metadata": {},
   "outputs": [
    {
     "data": {
      "text/plain": [
       "40"
      ]
     },
     "execution_count": 98,
     "metadata": {},
     "output_type": "execute_result"
    }
   ],
   "source": [
    "# clear memory\n",
    "del data_train\n",
    "del train_azdias\n",
    "del train_customers\n",
    "del mailout_veri\n",
    "gc.collect()"
   ]
  },
  {
   "cell_type": "code",
   "execution_count": 99,
   "metadata": {},
   "outputs": [
    {
     "data": {
      "text/plain": [
       "0    0.848873\n",
       "1    0.151127\n",
       "Name: RESPONSE, dtype: float64"
      ]
     },
     "execution_count": 99,
     "metadata": {},
     "output_type": "execute_result"
    }
   ],
   "source": [
    "# what is the balance of the data classes?\n",
    "y.value_counts()/len(y)"
   ]
  },
  {
   "cell_type": "code",
   "execution_count": 101,
   "metadata": {},
   "outputs": [
    {
     "name": "stdout",
     "output_type": "stream",
     "text": [
      "CPU times: user 18min 49s, sys: 765 ms, total: 18min 49s\n",
      "Wall time: 2min 25s\n"
     ]
    },
    {
     "data": {
      "text/plain": [
       "RandomForestClassifier(n_jobs=-1, random_state=42)"
      ]
     },
     "execution_count": 101,
     "metadata": {},
     "output_type": "execute_result"
    }
   ],
   "source": [
    "%%time\n",
    "# Train the classifier\n",
    "clf = RandomForestClassifier(random_state=42, n_jobs=-1)\n",
    "clf.fit(X_train, y_train)"
   ]
  },
  {
   "cell_type": "code",
   "execution_count": 102,
   "metadata": {},
   "outputs": [],
   "source": [
    "# Predict on the test set\n",
    "y_pred_test = clf.predict(X_test)\n",
    "y_score_test = clf.predict_proba(X_test)[:,1]"
   ]
  },
  {
   "cell_type": "code",
   "execution_count": 103,
   "metadata": {},
   "outputs": [],
   "source": [
    "# Predict on the validation set\n",
    "y_pred_valid = clf.predict(X_valid)\n",
    "y_score_valid = clf.predict_proba(X_valid)[:,1]"
   ]
  },
  {
   "cell_type": "code",
   "execution_count": 104,
   "metadata": {},
   "outputs": [],
   "source": [
    "# Calculate ROC curves and AUC\n",
    "fpr_test, tpr_test, thresholds_test = roc_curve(y_test, y_score_test)\n",
    "roc_auc_test = auc(fpr_test, tpr_test)\n",
    "\n",
    "fpr_valid, tpr_valid, thresholds_valid = roc_curve(y_valid, y_score_valid)\n",
    "roc_auc_valid = auc(fpr_valid, tpr_valid)"
   ]
  },
  {
   "cell_type": "code",
   "execution_count": 105,
   "metadata": {},
   "outputs": [
    {
     "data": {
      "text/html": [
       "\n",
       "\n",
       "\n",
       "\n",
       "\n",
       "\n",
       "  <div class=\"bk-root\" id=\"ad7adf31-bf64-426c-aa27-4e6e7b32a7e2\" data-root-id=\"28819\"></div>\n"
      ]
     },
     "metadata": {},
     "output_type": "display_data"
    },
    {
     "data": {
      "application/javascript": [
       "(function(root) {\n",
       "  function embed_document(root) {\n",
       "    \n",
       "  var docs_json = {\"c5d7d533-756a-4ec8-a187-6dea6ebb722c\":{\"defs\":[],\"roots\":{\"references\":[{\"attributes\":{\"below\":[{\"id\":\"28830\"}],\"center\":[{\"id\":\"28833\"},{\"id\":\"28837\"},{\"id\":\"28867\"}],\"left\":[{\"id\":\"28834\"}],\"renderers\":[{\"id\":\"28855\"},{\"id\":\"28872\"},{\"id\":\"28890\"}],\"title\":{\"id\":\"28820\"},\"toolbar\":{\"id\":\"28845\"},\"x_range\":{\"id\":\"28822\"},\"x_scale\":{\"id\":\"28826\"},\"y_range\":{\"id\":\"28824\"},\"y_scale\":{\"id\":\"28828\"}},\"id\":\"28819\",\"subtype\":\"Figure\",\"type\":\"Plot\"},{\"attributes\":{\"active_multi\":null,\"tools\":[{\"id\":\"28838\"},{\"id\":\"28839\"},{\"id\":\"28840\"},{\"id\":\"28841\"},{\"id\":\"28842\"},{\"id\":\"28843\"}]},\"id\":\"28845\",\"type\":\"Toolbar\"},{\"attributes\":{},\"id\":\"28828\",\"type\":\"LinearScale\"},{\"attributes\":{\"data\":{\"x\":{\"__ndarray__\":\"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\",\"dtype\":\"float64\",\"order\":\"little\",\"shape\":[2146]},\"y\":{\"__ndarray__\":\"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\",\"dtype\":\"float64\",\"order\":\"little\",\"shape\":[2146]}},\"selected\":{\"id\":\"28866\"},\"selection_policy\":{\"id\":\"28865\"}},\"id\":\"28852\",\"type\":\"ColumnDataSource\"},{\"attributes\":{\"axis\":{\"id\":\"28834\"},\"dimension\":1,\"ticker\":null},\"id\":\"28837\",\"type\":\"Grid\"},{\"attributes\":{},\"id\":\"28884\",\"type\":\"UnionRenderers\"},{\"attributes\":{},\"id\":\"28842\",\"type\":\"ResetTool\"},{\"attributes\":{\"axis_label\":\"False Positive Rate\",\"formatter\":{\"id\":\"28859\"},\"major_label_policy\":{\"id\":\"28860\"},\"ticker\":{\"id\":\"28831\"}},\"id\":\"28830\",\"type\":\"LinearAxis\"},{\"attributes\":{\"line_color\":\"Gray\",\"x\":{\"field\":\"x\"},\"y\":{\"field\":\"y\"}},\"id\":\"28888\",\"type\":\"Line\"},{\"attributes\":{},\"id\":\"28826\",\"type\":\"LinearScale\"},{\"attributes\":{},\"id\":\"29583\",\"type\":\"UnionRenderers\"},{\"attributes\":{},\"id\":\"29584\",\"type\":\"Selection\"},{\"attributes\":{\"overlay\":{\"id\":\"28844\"}},\"id\":\"28840\",\"type\":\"BoxZoomTool\"},{\"attributes\":{},\"id\":\"28863\",\"type\":\"AllLabels\"},{\"attributes\":{\"label\":{\"value\":\"Test ROC curve (AUC = 0.896)\"},\"renderers\":[{\"id\":\"28855\"}]},\"id\":\"28868\",\"type\":\"LegendItem\"},{\"attributes\":{},\"id\":\"28835\",\"type\":\"BasicTicker\"},{\"attributes\":{\"data_source\":{\"id\":\"28852\"},\"glyph\":{\"id\":\"28853\"},\"hover_glyph\":null,\"muted_glyph\":null,\"nonselection_glyph\":{\"id\":\"28854\"},\"view\":{\"id\":\"28856\"}},\"id\":\"28855\",\"type\":\"GlyphRenderer\"},{\"attributes\":{},\"id\":\"28859\",\"type\":\"BasicTickFormatter\"},{\"attributes\":{},\"id\":\"28866\",\"type\":\"Selection\"},{\"attributes\":{},\"id\":\"28838\",\"type\":\"PanTool\"},{\"attributes\":{},\"id\":\"28885\",\"type\":\"Selection\"},{\"attributes\":{\"data_source\":{\"id\":\"28869\"},\"glyph\":{\"id\":\"28870\"},\"hover_glyph\":null,\"muted_glyph\":null,\"nonselection_glyph\":{\"id\":\"28871\"},\"view\":{\"id\":\"28873\"}},\"id\":\"28872\",\"type\":\"GlyphRenderer\"},{\"attributes\":{},\"id\":\"28831\",\"type\":\"BasicTicker\"},{\"attributes\":{\"text\":\"ROC\"},\"id\":\"28820\",\"type\":\"Title\"},{\"attributes\":{},\"id\":\"28865\",\"type\":\"UnionRenderers\"},{\"attributes\":{\"axis_label\":\"True Positive Rate\",\"formatter\":{\"id\":\"28862\"},\"major_label_policy\":{\"id\":\"28863\"},\"ticker\":{\"id\":\"28835\"}},\"id\":\"28834\",\"type\":\"LinearAxis\"},{\"attributes\":{\"label\":{\"value\":\"Validation ROC curve (AUC = 0.799)\"},\"renderers\":[{\"id\":\"28872\"}]},\"id\":\"28886\",\"type\":\"LegendItem\"},{\"attributes\":{\"data_source\":{\"id\":\"28887\"},\"glyph\":{\"id\":\"28888\"},\"hover_glyph\":null,\"muted_glyph\":null,\"nonselection_glyph\":{\"id\":\"28889\"},\"view\":{\"id\":\"28891\"}},\"id\":\"28890\",\"type\":\"GlyphRenderer\"},{\"attributes\":{},\"id\":\"28860\",\"type\":\"AllLabels\"},{\"attributes\":{\"source\":{\"id\":\"28869\"}},\"id\":\"28873\",\"type\":\"CDSView\"},{\"attributes\":{\"line_alpha\":0.1,\"line_color\":\"Blue\",\"x\":{\"field\":\"x\"},\"y\":{\"field\":\"y\"}},\"id\":\"28871\",\"type\":\"Line\"},{\"attributes\":{\"items\":[{\"id\":\"28868\"},{\"id\":\"28886\"}],\"location\":\"bottom_right\"},\"id\":\"28867\",\"type\":\"Legend\"},{\"attributes\":{},\"id\":\"28822\",\"type\":\"DataRange1d\"},{\"attributes\":{},\"id\":\"28839\",\"type\":\"WheelZoomTool\"},{\"attributes\":{\"source\":{\"id\":\"28852\"}},\"id\":\"28856\",\"type\":\"CDSView\"},{\"attributes\":{\"line_color\":\"Red\",\"x\":{\"field\":\"x\"},\"y\":{\"field\":\"y\"}},\"id\":\"28853\",\"type\":\"Line\"},{\"attributes\":{\"source\":{\"id\":\"28887\"}},\"id\":\"28891\",\"type\":\"CDSView\"},{\"attributes\":{},\"id\":\"28824\",\"type\":\"DataRange1d\"},{\"attributes\":{\"data\":{\"x\":[0,1],\"y\":[0,1]},\"selected\":{\"id\":\"29584\"},\"selection_policy\":{\"id\":\"29583\"}},\"id\":\"28887\",\"type\":\"ColumnDataSource\"},{\"attributes\":{\"bottom_units\":\"screen\",\"fill_alpha\":0.5,\"fill_color\":\"lightgrey\",\"left_units\":\"screen\",\"level\":\"overlay\",\"line_alpha\":1.0,\"line_color\":\"black\",\"line_dash\":[4,4],\"line_width\":2,\"right_units\":\"screen\",\"syncable\":false,\"top_units\":\"screen\"},\"id\":\"28844\",\"type\":\"BoxAnnotation\"},{\"attributes\":{\"axis\":{\"id\":\"28830\"},\"ticker\":null},\"id\":\"28833\",\"type\":\"Grid\"},{\"attributes\":{\"line_color\":\"Blue\",\"x\":{\"field\":\"x\"},\"y\":{\"field\":\"y\"}},\"id\":\"28870\",\"type\":\"Line\"},{\"attributes\":{\"line_alpha\":0.1,\"line_color\":\"Gray\",\"x\":{\"field\":\"x\"},\"y\":{\"field\":\"y\"}},\"id\":\"28889\",\"type\":\"Line\"},{\"attributes\":{},\"id\":\"28862\",\"type\":\"BasicTickFormatter\"},{\"attributes\":{},\"id\":\"28841\",\"type\":\"SaveTool\"},{\"attributes\":{},\"id\":\"28843\",\"type\":\"HelpTool\"},{\"attributes\":{\"line_alpha\":0.1,\"line_color\":\"Red\",\"x\":{\"field\":\"x\"},\"y\":{\"field\":\"y\"}},\"id\":\"28854\",\"type\":\"Line\"},{\"attributes\":{\"data\":{\"x\":{\"__ndarray__\":\"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\",\"dtype\":\"float64\",\"order\":\"little\",\"shape\":[1231]},\"y\":{\"__ndarray__\":\"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\",\"dtype\":\"float64\",\"order\":\"little\",\"shape\":[1231]}},\"selected\":{\"id\":\"28885\"},\"selection_policy\":{\"id\":\"28884\"}},\"id\":\"28869\",\"type\":\"ColumnDataSource\"}],\"root_ids\":[\"28819\"]},\"title\":\"Bokeh Application\",\"version\":\"2.3.1\"}};\n",
       "  var render_items = [{\"docid\":\"c5d7d533-756a-4ec8-a187-6dea6ebb722c\",\"root_ids\":[\"28819\"],\"roots\":{\"28819\":\"ad7adf31-bf64-426c-aa27-4e6e7b32a7e2\"}}];\n",
       "  root.Bokeh.embed.embed_items_notebook(docs_json, render_items);\n",
       "\n",
       "  }\n",
       "  if (root.Bokeh !== undefined) {\n",
       "    embed_document(root);\n",
       "  } else {\n",
       "    var attempts = 0;\n",
       "    var timer = setInterval(function(root) {\n",
       "      if (root.Bokeh !== undefined) {\n",
       "        clearInterval(timer);\n",
       "        embed_document(root);\n",
       "      } else {\n",
       "        attempts++;\n",
       "        if (attempts > 100) {\n",
       "          clearInterval(timer);\n",
       "          console.log(\"Bokeh: ERROR: Unable to run BokehJS code because BokehJS library is missing\");\n",
       "        }\n",
       "      }\n",
       "    }, 10, root)\n",
       "  }\n",
       "})(window);"
      ],
      "application/vnd.bokehjs_exec.v0+json": ""
     },
     "metadata": {
      "application/vnd.bokehjs_exec.v0+json": {
       "id": "28819"
      }
     },
     "output_type": "display_data"
    }
   ],
   "source": [
    "# Plot the results\n",
    "p = figure(title=\"ROC\")\n",
    "\n",
    "p.line(fpr_test, tpr_test, color='Red', legend_label=f\"Test ROC curve (AUC = {roc_auc_test:0.3f})\")\n",
    "p.line(fpr_valid, tpr_valid, color='Blue', legend_label=f\"Validation ROC curve (AUC = {roc_auc_valid:0.3f})\")\n",
    "p.line([0,1], [0,1], color='Gray')\n",
    "\n",
    "p.yaxis.axis_label = \"True Positive Rate\"\n",
    "p.xaxis.axis_label = \"False Positive Rate\"\n",
    "p.legend.location = \"bottom_right\"\n",
    "\n",
    "show(p)"
   ]
  },
  {
   "cell_type": "markdown",
   "metadata": {},
   "source": [
    "### Gridsearch"
   ]
  },
  {
   "cell_type": "code",
   "execution_count": 106,
   "metadata": {},
   "outputs": [],
   "source": [
    "# # Get a ballpark for tree depth so we can set meaningful values for our gridsearch\n",
    "# np.mean(np.array([estimator.tree_.max_depth for estimator in clf.estimators_])) # around 42"
   ]
  },
  {
   "cell_type": "code",
   "execution_count": 107,
   "metadata": {},
   "outputs": [],
   "source": [
    "# # paramaters to search over\n",
    "# param_grid = {\n",
    "#     'n_estimators':      [100, 500],\n",
    "#     'max_depth':         [None, 10, 20, 30],\n",
    "#     'min_samples_split': [2, 5, 10, 15],\n",
    "#     'min_samples_leaf':  [1, 2, 5, 10],\n",
    "#     'max_features':      ['sqrt', 'log2'],\n",
    "#              }"
   ]
  },
  {
   "cell_type": "code",
   "execution_count": 108,
   "metadata": {},
   "outputs": [],
   "source": [
    "# # construct pipeline for search\n",
    "# clf_hyp = RandomForestClassifier(random_state=42, n_jobs=-1)\n",
    "# clf_rand = RandomizedSearchCV(estimator=clf_hyp, param_distributions=param_grid, n_iter=(60/2),\n",
    "#                               verbose=5, random_state=42, scoring='roc_auc')"
   ]
  },
  {
   "cell_type": "code",
   "execution_count": 109,
   "metadata": {
    "scrolled": true
   },
   "outputs": [],
   "source": [
    "# # find the best hyper-parameters\n",
    "# %%time\n",
    "# clf_rand.fit(X, y)"
   ]
  },
  {
   "cell_type": "code",
   "execution_count": 110,
   "metadata": {},
   "outputs": [],
   "source": [
    "# # And the best parameters are....\n",
    "# clf_rand.best_params_"
   ]
  },
  {
   "cell_type": "code",
   "execution_count": 111,
   "metadata": {},
   "outputs": [],
   "source": [
    "# # Evaluate the best performing model\n",
    "# y_pred_test_rnd = clf_rand.predict(X_test)\n",
    "# y_score_test_rnd = clf_rand.predict_proba(X_test)[:,1]\n",
    "# y_pred_valid_rnd = clf_rand.predict(X_valid)\n",
    "# y_score_valid_rnd = clf_rand.predict_proba(X_valid)[:,1]\n",
    "# \n",
    "# fpr_test_rnd, tpr_test_rnd, thresholds_test_rnd = roc_curve(y_test, y_score_test_rnd)\n",
    "# roc_auc_test_rnd = auc(fpr_test_rnd, tpr_test_rnd)\n",
    "\n",
    "# fpr_valid_rnd, tpr_valid_rnd, thresholds_valid_rnd = roc_curve(y_valid, y_score_valid_rnd)\n",
    "# roc_auc_valid_rnd = auc(fpr_valid_rnd, tpr_valid_rnd)"
   ]
  },
  {
   "cell_type": "code",
   "execution_count": 112,
   "metadata": {},
   "outputs": [],
   "source": [
    "# Plot the results\n",
    "# p = figure(title=\"ROC improvement\")\n",
    "\n",
    "# p.line(fpr_test, tpr_test, color='#ff9e9e', legend_label=f\"Test ROC curve (AUC = {roc_auc_test:0.3f})\")\n",
    "# p.line(fpr_valid, tpr_valid, color='#a3a3ff', legend_label=f\"Validation ROC curve (AUC = {roc_auc_valid:0.3f})\")\n",
    "# p.line(fpr_test_rnd, tpr_test_rnd, color='Red', legend_label=f\"Optimised Test ROC curve (AUC = {roc_auc_test_rnd:0.3f})\")\n",
    "# p.line(fpr_valid_rnd, tpr_valid_rnd, color='Blue', legend_label=f\"Optimised Validation ROC curve (AUC = {roc_auc_valid_rnd:0.3f})\")\n",
    "# p.line([0,1], [0,1], color='Gray')\n",
    "\n",
    "# p.yaxis.axis_label = \"True Positive Rate\"\n",
    "# p.xaxis.axis_label = \"False Positive Rate\"\n",
    "# p.legend.location = \"bottom_right\"\n",
    "\n",
    "# show(p)"
   ]
  },
  {
   "cell_type": "code",
   "execution_count": 113,
   "metadata": {},
   "outputs": [],
   "source": [
    "# results_df = pd.DataFrame(clf_rand.cv_results_)[['params', 'mean_test_score', 'std_test_score']].sort_values(by='mean_test_score', ascending=False)"
   ]
  },
  {
   "cell_type": "code",
   "execution_count": 114,
   "metadata": {},
   "outputs": [],
   "source": [
    "# for k in clf_rand.best_params_.keys():\n",
    "#     results_df[k] = results_df['params'].apply(lambda x: x[k])\n",
    "# results_df.drop(columns=['params'], inplace=True)"
   ]
  },
  {
   "cell_type": "code",
   "execution_count": 115,
   "metadata": {},
   "outputs": [],
   "source": [
    "# results_df"
   ]
  },
  {
   "cell_type": "markdown",
   "metadata": {},
   "source": [
    "### Varying n_estimators"
   ]
  },
  {
   "cell_type": "code",
   "execution_count": 116,
   "metadata": {},
   "outputs": [],
   "source": [
    "# performance_data = dict()"
   ]
  },
  {
   "cell_type": "code",
   "execution_count": 117,
   "metadata": {},
   "outputs": [],
   "source": [
    "# # Train a classifier for multiple values of n_estimators\n",
    "# for k in tqdm(np.geomspace(10,500,18, dtype=int)):\n",
    "#     # Train a classifier for k estimators\n",
    "#     clf = RandomForestClassifier(random_state=42, n_jobs=-1, n_estimators=k)\n",
    "#     clf.fit(X_train, y_train)\n",
    "#     # Evaluate the model\n",
    "#     y_pred_test = clf.predict(X_test)\n",
    "#     y_score_test = clf.predict_proba(X_test)[:,1]\n",
    "#     y_pred_valid = clf.predict(X_valid)\n",
    "#     y_score_valid = clf.predict_proba(X_valid)[:,1]\n",
    "    \n",
    "#     fpr_test, tpr_test, thresholds_test = roc_curve(y_test, y_score_test)\n",
    "#     roc_auc_test = auc(fpr_test, tpr_test)\n",
    "#     fpr_valid, tpr_valid, thresholds_valid = roc_curve(y_valid, y_score_valid)\n",
    "#     roc_auc_valid = auc(fpr_valid, tpr_valid)\n",
    "#     # store the results \n",
    "#     performance_data[k] = {\n",
    "#         'y_score_test': y_score_test,\n",
    "#         'y_score_valid': y_score_valid,\n",
    "#         'fpr_test': fpr_test, \n",
    "#         'tpr_test': tpr_test, \n",
    "#         'thresholds_test': thresholds_test,\n",
    "#         'roc_auc_test': roc_auc_test,\n",
    "#         'fpr_valid': fpr_valid, \n",
    "#         'tpr_valid': tpr_valid, \n",
    "#         'thresholds_valid': thresholds_valid,\n",
    "#         'roc_auc_valid': roc_auc_valid,\n",
    "#     }\n",
    "#     print(f\"{k}, {roc_auc_test:0.3f}, {roc_auc_valid:0.3f}\")"
   ]
  },
  {
   "cell_type": "code",
   "execution_count": 118,
   "metadata": {},
   "outputs": [],
   "source": [
    "# # Plot the data\n",
    "# p = figure(title=\"ROC for varying n_estimators\")\n",
    "\n",
    "# for k, v in performance_data.items():\n",
    "    \n",
    "#     fpr_valid, tpr_valid = v['fpr_valid'], v['tpr_valid']\n",
    "#     if np.abs(k - 100) < 2:\n",
    "#         color = 'Blue'\n",
    "#         alpha = 1\n",
    "#         legend = 'n_estimators = 100'\n",
    "#     elif np.abs(k - 126) < 5:\n",
    "#         color = 'Red'\n",
    "#         alpha = 1\n",
    "#         legend = 'n_estimators = 126'\n",
    "#     else:\n",
    "#         color = 'Black'\n",
    "#         alpha = 0.15\n",
    "#         legend = 'n_estimators variations'\n",
    "    \n",
    "# #     p.line(fpr_test, tpr_test, color='Red', legend_label=f\"Test ROC curve (AUC = {roc_auc_test:0.3f})\")\n",
    "#     p.line(fpr_valid, tpr_valid, color=color, line_alpha=alpha, legend_label=legend)\n",
    "\n",
    "# p.line([0,1], [0,1], color='Gray')\n",
    "\n",
    "# p.yaxis.axis_label = \"True Positive Rate\"\n",
    "# p.xaxis.axis_label = \"False Positive Rate\"\n",
    "# p.legend.location = \"bottom_right\"\n",
    "\n",
    "# show(p)"
   ]
  },
  {
   "cell_type": "code",
   "execution_count": 119,
   "metadata": {},
   "outputs": [],
   "source": [
    "# # Plot the data\n",
    "# p = figure(title=\"AUC scores by n_estimators\")\n",
    "\n",
    "# n_est, auc_test, auc_valid = [], [], []\n",
    "# for k, v in performance_data.items():\n",
    "#     n_est.append(k)\n",
    "#     auc_test.append(v['roc_auc_test'])\n",
    "#     auc_valid.append(v['roc_auc_valid'])  \n",
    "    \n",
    "# p.line(n_est, auc_test, color='Blue', legend_label=f\"Test AUC scores\")\n",
    "# p.line(n_est, auc_valid, color='Red', legend_label=f\"Validation AUC scores\")\n",
    "\n",
    "# # p.line([0,1], [0,1], color='Gray')\n",
    "\n",
    "# p.yaxis.axis_label = \"AUC\"\n",
    "# p.xaxis.axis_label = \"n_estimators\"\n",
    "# p.legend.location = \"bottom_right\"\n",
    "\n",
    "# show(p)"
   ]
  },
  {
   "cell_type": "markdown",
   "metadata": {},
   "source": [
    "### Stacked classifier"
   ]
  },
  {
   "cell_type": "code",
   "execution_count": 120,
   "metadata": {},
   "outputs": [],
   "source": [
    "def get_scores(clf, X_data, y_data):\n",
    "    \"\"\"\n",
    "    Score a classifier on a dataset and return evaluation metrics.\n",
    "    \n",
    "    Input\n",
    "    clf - A classifier to evaluate\n",
    "    X_data - The feature data to evaluate on\n",
    "    y_data - The labels to evaluate against\n",
    "    \n",
    "    Output\n",
    "    fpr - False positive rate values\n",
    "    tpr - True positive rate values\n",
    "    roc_auc - AUC score\n",
    "    \"\"\"\n",
    "    y_score_data = clf.predict_proba(X_data)[:,1]\n",
    "    fpr, tpr, thresholds = roc_curve(y_data, y_score_data)\n",
    "    roc_auc = auc(fpr, tpr)\n",
    "    return fpr, tpr, roc_auc"
   ]
  },
  {
   "cell_type": "code",
   "execution_count": 121,
   "metadata": {},
   "outputs": [],
   "source": [
    "# # Stack a few classifiers \n",
    "# clfs = StackingClassifier(estimators=[\n",
    "#        ('n15', RandomForestClassifier(n_estimators=15, random_state=42, n_jobs=1)),\n",
    "#        ('n31', RandomForestClassifier(n_estimators=31, random_state=42, n_jobs=2)),\n",
    "#        ('n126', RandomForestClassifier(n_estimators=126, random_state=42, n_jobs=5)),\n",
    "#    ]\n",
    "#)"
   ]
  },
  {
   "cell_type": "code",
   "execution_count": 122,
   "metadata": {},
   "outputs": [],
   "source": [
    "# # Strain the stacked ensable\n",
    "# clfs.fit(X_train, y_train)"
   ]
  },
  {
   "cell_type": "code",
   "execution_count": 123,
   "metadata": {},
   "outputs": [],
   "source": [
    "# Evaluate\n",
    "# fpr_valids, tpr_valids, roc_auc_valids = get_scores(clfs, X_valid, y_valid)"
   ]
  },
  {
   "cell_type": "code",
   "execution_count": 124,
   "metadata": {},
   "outputs": [],
   "source": [
    "# roc_auc_valids"
   ]
  },
  {
   "cell_type": "code",
   "execution_count": 125,
   "metadata": {},
   "outputs": [],
   "source": [
    "# # Evaluate the elements of the ensamble individually to see if the stack exploits the strenghts of each\n",
    "# fpr_valid, tpr_valid = [], []\n",
    "# for c in clfs.estimators_:\n",
    "#     fpr_v, tpr_v, roc_auc_valids = get_scores(c, X_valid, y_valid)\n",
    "#     fpr_valid.append(fpr_v)\n",
    "#     tpr_valid.append(tpr_v)"
   ]
  },
  {
   "cell_type": "code",
   "execution_count": 126,
   "metadata": {},
   "outputs": [],
   "source": [
    "# # Plot the data\n",
    "# p = figure(title=\"ROC Stacked Random Forests\")\n",
    "\n",
    "# for fpr, tpr in zip(fpr_valid, tpr_valid):\n",
    "#     p.line(fpr, tpr, color='Blue', alpha=0.25, legend_label=f\"Individual Random Forests\")\n",
    "# p.line(fpr_valids, tpr_valids, color='Red',  legend_label=f\"Stacked (AUC = {roc_auc_valids:0.3f})\")\n",
    "# p.line([0,1], [0,1], color='Gray')\n",
    "\n",
    "# p.yaxis.axis_label = \"True Positive Rate\"\n",
    "# p.xaxis.axis_label = \"False Positive Rate\"\n",
    "# p.legend.location = \"bottom_right\"\n",
    "\n",
    "# show(p)"
   ]
  },
  {
   "cell_type": "markdown",
   "metadata": {},
   "source": [
    "### Balanced vs unbalanced vs mathing validation set balance"
   ]
  },
  {
   "cell_type": "code",
   "execution_count": 127,
   "metadata": {},
   "outputs": [],
   "source": [
    "# # Train classifier assuming equally weighted classes\n",
    "# clf_plain = RandomForestClassifier(n_estimators = 126, random_state=42, n_jobs=-1)\n",
    "# clf_plain.fit(X_train, y_train)\n",
    "# print('done1')\n",
    "\n",
    "# # Train classifier calculating weights from the data\n",
    "# clf_bal = RandomForestClassifier(n_estimators = 126, random_state=42, n_jobs=-1, class_weight='balanced')\n",
    "# clf_bal.fit(X_train, y_train)\n",
    "# print('done2')\n",
    "\n",
    "# # Train classifier calculating weights from the data for each subtree\n",
    "# clf_balsub = RandomForestClassifier(n_estimators = 126, random_state=42, n_jobs=-1, class_weight='balanced_subsample')\n",
    "# clf_balsub.fit(X_train, y_train)\n",
    "# print('done3')\n",
    "\n",
    "# # Train classifier calculating weights from the validation data\n",
    "# clf_val = RandomForestClassifier(n_estimators = 126, random_state=42, n_jobs=-1, class_weight=(y_valid.value_counts()/len(y_valid)).to_dict())\n",
    "# clf_val.fit(X_train, y_train)\n",
    "# print('done4')"
   ]
  },
  {
   "cell_type": "code",
   "execution_count": 128,
   "metadata": {},
   "outputs": [],
   "source": [
    "# # score the classifiers\n",
    "# fpr_valid1, tpr_valid1, roc_auc_valid1 = get_scores(clf_plain, X_valid, y_valid)\n",
    "# fpr_valid2, tpr_valid2, roc_auc_valid2 = get_scores(clf_bal, X_valid, y_valid)\n",
    "# fpr_valid3, tpr_valid3, roc_auc_valid3 = get_scores(clf_balsub, X_valid, y_valid)\n",
    "# fpr_valid4, tpr_valid4, roc_auc_valid4 = get_scores(clf_val, X_valid, y_valid)"
   ]
  },
  {
   "cell_type": "code",
   "execution_count": 129,
   "metadata": {},
   "outputs": [],
   "source": [
    "# # Plot the data\n",
    "# p = figure(title=\"ROC Balancing\")\n",
    "\n",
    "# p.line(fpr_valid1, tpr_valid1, color='Red', legend_label=f\"none (AUC = {roc_auc_valid1:0.3f})\")\n",
    "# p.line(fpr_valid2, tpr_valid2, color='Blue', legend_label=f\"balanced (AUC = {roc_auc_valid2:0.3f})\")\n",
    "# p.line(fpr_valid3, tpr_valid3, color='Green', legend_label=f\"balanced subsample (AUC = {roc_auc_valid3:0.3f})\")\n",
    "# p.line(fpr_valid4, tpr_valid4, color='Purple', legend_label=f\"balanced validation (AUC = {roc_auc_valid4:0.3f})\")\n",
    "# p.line([0,1], [0,1], color='Gray')\n",
    "\n",
    "# p.yaxis.axis_label = \"True Positive Rate\"\n",
    "# p.xaxis.axis_label = \"False Positive Rate\"\n",
    "# p.legend.location = \"bottom_right\"\n",
    "\n",
    "# show(p)"
   ]
  },
  {
   "cell_type": "markdown",
   "metadata": {},
   "source": [
    "### Reducing number of features"
   ]
  },
  {
   "cell_type": "code",
   "execution_count": 130,
   "metadata": {},
   "outputs": [],
   "source": [
    "# # Train a classifier, measure performance, find the least important features, remove them, retrain\n",
    "# res_dict = dict()\n",
    "# X_lim_t = X_train.copy()\n",
    "# X_lim_v = X_valid.copy()\n",
    "\n",
    "# # loop over the number of features we want to remain (geometrically spaced)\n",
    "# for rem_cols in tqdm(np.flip(np.geomspace(8,len(X_train.columns),16,dtype = int, endpoint=False))):\n",
    "#     # train a classifier\n",
    "#     clf = RandomForestClassifier(n_estimators = 126, random_state=42, n_jobs=-1)\n",
    "#     clf.fit(X_lim_t, y_train)\n",
    "#     # evaluate performance on validation set\n",
    "#     fpr_valid, tpr_valid, roc_auc_valid = get_scores(clf, X_lim_v, y_valid)\n",
    "#     n = len(X_lim_t.columns)\n",
    "#     # store results\n",
    "#     res_dict[n] = {\n",
    "#         \"score\": roc_auc_valid,\n",
    "#         \"remaining columns\": X_lim_t.columns\n",
    "#     }\n",
    "#     print(n, roc_auc_valid)\n",
    "#     # calculate number of columns to remove\n",
    "#     step_size = n - rem_cols\n",
    "#     # remove the least important columns\n",
    "#     cols_to_drop = pd.DataFrame(clf.feature_importances_, index=X_lim_t.columns).sort_values(by=0).head(step_size).index\n",
    "#     X_lim_t.drop(columns=cols_to_drop, inplace=True)\n",
    "#     X_lim_v.drop(columns=cols_to_drop, inplace=True)"
   ]
  },
  {
   "cell_type": "code",
   "execution_count": 131,
   "metadata": {},
   "outputs": [],
   "source": [
    "# # most_important_columns = pd.DataFrame(res_dict).T.sort_index().loc[31]['remaining columns'].to_list()"
   ]
  },
  {
   "cell_type": "code",
   "execution_count": 132,
   "metadata": {},
   "outputs": [],
   "source": [
    "most_important_columns = [\n",
    "    'AGER_TYP',\n",
    "    'ALTER_HH',\n",
    "    'CAMEO_DEU_2015',\n",
    "    'CAMEO_INTL_2015',\n",
    "    'CJT_GESAMTTYP',\n",
    "    'D19_GESAMT_DATUM',\n",
    "    'D19_GESAMT_OFFLINE_DATUM',\n",
    "    'D19_KONSUMTYP',\n",
    "    'D19_LOTTO',\n",
    "    'D19_SONSTIGE',\n",
    "    'D19_VERSAND_DATUM',\n",
    "    'D19_VERSAND_OFFLINE_DATUM',\n",
    "    'FINANZ_ANLEGER',\n",
    "    'FINANZ_MINIMALIST',\n",
    "    'FINANZ_SPARER',\n",
    "    'FINANZ_VORSORGER',\n",
    "    'GEBURTSJAHR',\n",
    "    'GFK_URLAUBERTYP',\n",
    "    'HH_EINKOMMEN_SCORE',\n",
    "    'INNENSTADT',\n",
    "    'KBA05_HERST1',\n",
    "    'KBA05_ZUL4',\n",
    "    'KBA13_ANZAHL_PKW',\n",
    "    'KBA13_SEG_SPORTWAGEN',\n",
    "    'KONSUMNAEHE',\n",
    "    'LP_LEBENSPHASE_FEIN',\n",
    "    'LP_STATUS_FEIN',\n",
    "    'ORTSGR_KLS9',\n",
    "    'PRAEGENDE_JUGENDJAHRE',\n",
    "    'REGIOTYP',\n",
    "    'SEMIO_PFLICHT'\n",
    "]"
   ]
  },
  {
   "cell_type": "code",
   "execution_count": 133,
   "metadata": {},
   "outputs": [],
   "source": [
    "# # Plot the data\n",
    "# p = figure(title=\"AUC by number of most important features\")\n",
    "\n",
    "# p.line(pd.DataFrame(res_dict).T.index, pd.DataFrame(res_dict).T['score'].values, color='Blue', legend_label=f\"AUC\")\n",
    "\n",
    "# p.yaxis.axis_label = \"AUC\"\n",
    "# p.xaxis.axis_label = \"number of most important features\"\n",
    "# p.legend.location = \"bottom_right\"\n",
    "\n",
    "# show(p)"
   ]
  },
  {
   "cell_type": "markdown",
   "metadata": {},
   "source": [
    "### Predict missing values"
   ]
  },
  {
   "cell_type": "code",
   "execution_count": 134,
   "metadata": {},
   "outputs": [],
   "source": [
    "# for c in most_important_columns:\n",
    "#     m = missing_labels_all.loc[c]\n",
    "#     sum(X[c].isin(m))\n",
    "#     print(f\"{c}, {m}, {sum(X[c].isin(m))/len(X):0.3f}, {sum(X_valid[c].isin(m))/len(X_valid):0.3f}\")"
   ]
  },
  {
   "cell_type": "code",
   "execution_count": null,
   "metadata": {},
   "outputs": [],
   "source": []
  },
  {
   "cell_type": "code",
   "execution_count": null,
   "metadata": {},
   "outputs": [],
   "source": []
  },
  {
   "cell_type": "code",
   "execution_count": null,
   "metadata": {},
   "outputs": [],
   "source": []
  },
  {
   "cell_type": "code",
   "execution_count": null,
   "metadata": {},
   "outputs": [],
   "source": []
  },
  {
   "cell_type": "markdown",
   "metadata": {},
   "source": [
    "## Part 3: Kaggle Competition\n",
    "\n",
    "Now that you've created a model to predict which individuals are most likely to respond to a mailout campaign, it's time to test that model in competition through Kaggle. If you click on the link [here](http://www.kaggle.com/t/21e6d45d4c574c7fa2d868f0e8c83140), you'll be taken to the competition page where, if you have a Kaggle account, you can enter.\n",
    "\n",
    "Your entry to the competition should be a CSV file with two columns. The first column should be a copy of \"LNR\", which acts as an ID number for each individual in the \"TEST\" partition. The second column, \"RESPONSE\", should be some measure of how likely each individual became a customer – this might not be a straightforward probability. As you should have found in Part 2, there is a large output class imbalance, where most individuals did not respond to the mailout. Thus, predicting individual classes and using accuracy does not seem to be an appropriate performance evaluation method. Instead, the competition will be using AUC to evaluate performance. The exact values of the \"RESPONSE\" column do not matter as much: only that the higher values try to capture as many of the actual customers as possible, early in the ROC curve sweep."
   ]
  },
  {
   "cell_type": "code",
   "execution_count": 136,
   "metadata": {},
   "outputs": [
    {
     "name": "stdout",
     "output_type": "stream",
     "text": [
      "CPU times: user 30min 48s, sys: 928 ms, total: 30min 49s\n",
      "Wall time: 3min 57s\n"
     ]
    },
    {
     "data": {
      "text/plain": [
       "RandomForestClassifier(n_estimators=126, n_jobs=-1, random_state=42)"
      ]
     },
     "execution_count": 136,
     "metadata": {},
     "output_type": "execute_result"
    }
   ],
   "source": [
    "%%time\n",
    "# Train the best classifier from above on all the data\n",
    "clf = RandomForestClassifier(random_state=42, n_jobs=-1, n_estimators=126)\n",
    "clf.fit(X, y)"
   ]
  },
  {
   "cell_type": "code",
   "execution_count": 137,
   "metadata": {},
   "outputs": [
    {
     "name": "stdout",
     "output_type": "stream",
     "text": [
      "0.8365845381778747\n"
     ]
    }
   ],
   "source": [
    "# Evaluate on the validation set\n",
    "y_pred_valid = clf.predict(X_valid)\n",
    "y_score_valid = clf.predict_proba(X_valid)[:,1]\n",
    "\n",
    "fpr_valid, tpr_valid, thresholds_valid = roc_curve(y_valid, y_score_valid)\n",
    "roc_auc_valid = auc(fpr_valid, tpr_valid)\n",
    "print(roc_auc_valid) # did 20% extra data provide any real gains? Yes about 3.5%! "
   ]
  },
  {
   "cell_type": "code",
   "execution_count": 138,
   "metadata": {},
   "outputs": [
    {
     "name": "stdout",
     "output_type": "stream",
     "text": [
      "mailout_test parquet found - loading\n",
      "mailout_test parquet loaded\n"
     ]
    }
   ],
   "source": [
    "# Load the kaggle dataset\n",
    "mailout_test = load_data('../../data/Term2/capstone/arvato_data/Udacity_MAILOUT_052018_TEST.csv', 'mailout_test')"
   ]
  },
  {
   "cell_type": "code",
   "execution_count": 139,
   "metadata": {},
   "outputs": [
    {
     "data": {
      "application/vnd.jupyter.widget-view+json": {
       "model_id": "2272a875bab54512be14826d3b90df42",
       "version_major": 2,
       "version_minor": 0
      },
      "text/plain": [
       "  0%|          | 0/307 [00:00<?, ?it/s]"
      ]
     },
     "metadata": {},
     "output_type": "display_data"
    }
   ],
   "source": [
    "# apply the standard pre-processing pipeline\n",
    "_ = apply_pre_processing(mailout_test, \n",
    "                         low_to_no_info_columns, \n",
    "                         correlated_cols_to_drop,\n",
    "                         ks_cols_to_drop,\n",
    "                         col_to_proc, \n",
    "                         missing_labels, \n",
    "                         missing_fill_value,\n",
    "                         drop_duplicates=False, \n",
    "                         replacements=replacements)"
   ]
  },
  {
   "cell_type": "code",
   "execution_count": 140,
   "metadata": {},
   "outputs": [],
   "source": [
    "# score the kaggle dataset\n",
    "y_score_kaggle = clf.predict_proba(mailout_test)[:,1]"
   ]
  },
  {
   "cell_type": "code",
   "execution_count": 141,
   "metadata": {},
   "outputs": [],
   "source": [
    "# convert dataframe to csv file for submission\n",
    "kaggle = pd.DataFrame(y_score_kaggle, columns=['RESPONSE'], index=mailout_test.index)\n",
    "kaggle.to_csv('kaggle.csv')"
   ]
  },
  {
   "cell_type": "code",
   "execution_count": 142,
   "metadata": {},
   "outputs": [
    {
     "data": {
      "text/html": [
       "<div>\n",
       "<style scoped>\n",
       "    .dataframe tbody tr th:only-of-type {\n",
       "        vertical-align: middle;\n",
       "    }\n",
       "\n",
       "    .dataframe tbody tr th {\n",
       "        vertical-align: top;\n",
       "    }\n",
       "\n",
       "    .dataframe thead th {\n",
       "        text-align: right;\n",
       "    }\n",
       "</style>\n",
       "<table border=\"1\" class=\"dataframe\">\n",
       "  <thead>\n",
       "    <tr style=\"text-align: right;\">\n",
       "      <th></th>\n",
       "      <th>RESPONSE</th>\n",
       "    </tr>\n",
       "    <tr>\n",
       "      <th>LNR</th>\n",
       "      <th></th>\n",
       "    </tr>\n",
       "  </thead>\n",
       "  <tbody>\n",
       "    <tr>\n",
       "      <th>1754</th>\n",
       "      <td>0.728175</td>\n",
       "    </tr>\n",
       "    <tr>\n",
       "      <th>1770</th>\n",
       "      <td>0.603175</td>\n",
       "    </tr>\n",
       "    <tr>\n",
       "      <th>1465</th>\n",
       "      <td>0.269841</td>\n",
       "    </tr>\n",
       "    <tr>\n",
       "      <th>1470</th>\n",
       "      <td>0.145503</td>\n",
       "    </tr>\n",
       "    <tr>\n",
       "      <th>1478</th>\n",
       "      <td>0.253968</td>\n",
       "    </tr>\n",
       "  </tbody>\n",
       "</table>\n",
       "</div>"
      ],
      "text/plain": [
       "      RESPONSE\n",
       "LNR           \n",
       "1754  0.728175\n",
       "1770  0.603175\n",
       "1465  0.269841\n",
       "1470  0.145503\n",
       "1478  0.253968"
      ]
     },
     "execution_count": 142,
     "metadata": {},
     "output_type": "execute_result"
    }
   ],
   "source": [
    "# check scores are correct\n",
    "kaggle.head()"
   ]
  },
  {
   "cell_type": "code",
   "execution_count": null,
   "metadata": {},
   "outputs": [],
   "source": []
  }
 ],
 "metadata": {
  "kernelspec": {
   "display_name": "Python 3",
   "language": "python",
   "name": "python3"
  },
  "language_info": {
   "codemirror_mode": {
    "name": "ipython",
    "version": 3
   },
   "file_extension": ".py",
   "mimetype": "text/x-python",
   "name": "python",
   "nbconvert_exporter": "python",
   "pygments_lexer": "ipython3",
   "version": "3.8.5"
  }
 },
 "nbformat": 4,
 "nbformat_minor": 2
}
