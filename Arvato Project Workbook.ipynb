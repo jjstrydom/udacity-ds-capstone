{
 "cells": [
  {
   "cell_type": "markdown",
   "metadata": {},
   "source": [
    "# Capstone Project: Create a Customer Segmentation Report for Arvato Financial Services\n",
    "\n",
    "In this project, you will analyze demographics data for customers of a mail-order sales company in Germany, comparing it against demographics information for the general population. You'll use unsupervised learning techniques to perform customer segmentation, identifying the parts of the population that best describe the core customer base of the company. Then, you'll apply what you've learned on a third dataset with demographics information for targets of a marketing campaign for the company, and use a model to predict which individuals are most likely to convert into becoming customers for the company. The data that you will use has been provided by our partners at Bertelsmann Arvato Analytics, and represents a real-life data science task.\n",
    "\n",
    "If you completed the first term of this program, you will be familiar with the first part of this project, from the unsupervised learning project. The versions of those two datasets used in this project will include many more features and has not been pre-cleaned. You are also free to choose whatever approach you'd like to analyzing the data rather than follow pre-determined steps. In your work on this project, make sure that you carefully document your steps and decisions, since your main deliverable for this project will be a blog post reporting your findings."
   ]
  },
  {
   "cell_type": "code",
   "execution_count": 1,
   "metadata": {},
   "outputs": [],
   "source": [
    "# !pip install pyarrow==2.0.0\n",
    "# !pip install umap\n",
    "# wait_for_me = True # dummy code that prevents jupyter from executing the following cells before this one has completed"
   ]
  },
  {
   "cell_type": "code",
   "execution_count": 2,
   "metadata": {},
   "outputs": [
    {
     "data": {
      "text/html": [
       "\n",
       "    <div class=\"bk-root\">\n",
       "        <a href=\"https://bokeh.org\" target=\"_blank\" class=\"bk-logo bk-logo-small bk-logo-notebook\"></a>\n",
       "        <span id=\"1002\">Loading BokehJS ...</span>\n",
       "    </div>"
      ]
     },
     "metadata": {},
     "output_type": "display_data"
    },
    {
     "data": {
      "application/javascript": [
       "\n",
       "(function(root) {\n",
       "  function now() {\n",
       "    return new Date();\n",
       "  }\n",
       "\n",
       "  var force = true;\n",
       "\n",
       "  if (typeof root._bokeh_onload_callbacks === \"undefined\" || force === true) {\n",
       "    root._bokeh_onload_callbacks = [];\n",
       "    root._bokeh_is_loading = undefined;\n",
       "  }\n",
       "\n",
       "  var JS_MIME_TYPE = 'application/javascript';\n",
       "  var HTML_MIME_TYPE = 'text/html';\n",
       "  var EXEC_MIME_TYPE = 'application/vnd.bokehjs_exec.v0+json';\n",
       "  var CLASS_NAME = 'output_bokeh rendered_html';\n",
       "\n",
       "  /**\n",
       "   * Render data to the DOM node\n",
       "   */\n",
       "  function render(props, node) {\n",
       "    var script = document.createElement(\"script\");\n",
       "    node.appendChild(script);\n",
       "  }\n",
       "\n",
       "  /**\n",
       "   * Handle when an output is cleared or removed\n",
       "   */\n",
       "  function handleClearOutput(event, handle) {\n",
       "    var cell = handle.cell;\n",
       "\n",
       "    var id = cell.output_area._bokeh_element_id;\n",
       "    var server_id = cell.output_area._bokeh_server_id;\n",
       "    // Clean up Bokeh references\n",
       "    if (id != null && id in Bokeh.index) {\n",
       "      Bokeh.index[id].model.document.clear();\n",
       "      delete Bokeh.index[id];\n",
       "    }\n",
       "\n",
       "    if (server_id !== undefined) {\n",
       "      // Clean up Bokeh references\n",
       "      var cmd = \"from bokeh.io.state import curstate; print(curstate().uuid_to_server['\" + server_id + \"'].get_sessions()[0].document.roots[0]._id)\";\n",
       "      cell.notebook.kernel.execute(cmd, {\n",
       "        iopub: {\n",
       "          output: function(msg) {\n",
       "            var id = msg.content.text.trim();\n",
       "            if (id in Bokeh.index) {\n",
       "              Bokeh.index[id].model.document.clear();\n",
       "              delete Bokeh.index[id];\n",
       "            }\n",
       "          }\n",
       "        }\n",
       "      });\n",
       "      // Destroy server and session\n",
       "      var cmd = \"import bokeh.io.notebook as ion; ion.destroy_server('\" + server_id + \"')\";\n",
       "      cell.notebook.kernel.execute(cmd);\n",
       "    }\n",
       "  }\n",
       "\n",
       "  /**\n",
       "   * Handle when a new output is added\n",
       "   */\n",
       "  function handleAddOutput(event, handle) {\n",
       "    var output_area = handle.output_area;\n",
       "    var output = handle.output;\n",
       "\n",
       "    // limit handleAddOutput to display_data with EXEC_MIME_TYPE content only\n",
       "    if ((output.output_type != \"display_data\") || (!Object.prototype.hasOwnProperty.call(output.data, EXEC_MIME_TYPE))) {\n",
       "      return\n",
       "    }\n",
       "\n",
       "    var toinsert = output_area.element.find(\".\" + CLASS_NAME.split(' ')[0]);\n",
       "\n",
       "    if (output.metadata[EXEC_MIME_TYPE][\"id\"] !== undefined) {\n",
       "      toinsert[toinsert.length - 1].firstChild.textContent = output.data[JS_MIME_TYPE];\n",
       "      // store reference to embed id on output_area\n",
       "      output_area._bokeh_element_id = output.metadata[EXEC_MIME_TYPE][\"id\"];\n",
       "    }\n",
       "    if (output.metadata[EXEC_MIME_TYPE][\"server_id\"] !== undefined) {\n",
       "      var bk_div = document.createElement(\"div\");\n",
       "      bk_div.innerHTML = output.data[HTML_MIME_TYPE];\n",
       "      var script_attrs = bk_div.children[0].attributes;\n",
       "      for (var i = 0; i < script_attrs.length; i++) {\n",
       "        toinsert[toinsert.length - 1].firstChild.setAttribute(script_attrs[i].name, script_attrs[i].value);\n",
       "        toinsert[toinsert.length - 1].firstChild.textContent = bk_div.children[0].textContent\n",
       "      }\n",
       "      // store reference to server id on output_area\n",
       "      output_area._bokeh_server_id = output.metadata[EXEC_MIME_TYPE][\"server_id\"];\n",
       "    }\n",
       "  }\n",
       "\n",
       "  function register_renderer(events, OutputArea) {\n",
       "\n",
       "    function append_mime(data, metadata, element) {\n",
       "      // create a DOM node to render to\n",
       "      var toinsert = this.create_output_subarea(\n",
       "        metadata,\n",
       "        CLASS_NAME,\n",
       "        EXEC_MIME_TYPE\n",
       "      );\n",
       "      this.keyboard_manager.register_events(toinsert);\n",
       "      // Render to node\n",
       "      var props = {data: data, metadata: metadata[EXEC_MIME_TYPE]};\n",
       "      render(props, toinsert[toinsert.length - 1]);\n",
       "      element.append(toinsert);\n",
       "      return toinsert\n",
       "    }\n",
       "\n",
       "    /* Handle when an output is cleared or removed */\n",
       "    events.on('clear_output.CodeCell', handleClearOutput);\n",
       "    events.on('delete.Cell', handleClearOutput);\n",
       "\n",
       "    /* Handle when a new output is added */\n",
       "    events.on('output_added.OutputArea', handleAddOutput);\n",
       "\n",
       "    /**\n",
       "     * Register the mime type and append_mime function with output_area\n",
       "     */\n",
       "    OutputArea.prototype.register_mime_type(EXEC_MIME_TYPE, append_mime, {\n",
       "      /* Is output safe? */\n",
       "      safe: true,\n",
       "      /* Index of renderer in `output_area.display_order` */\n",
       "      index: 0\n",
       "    });\n",
       "  }\n",
       "\n",
       "  // register the mime type if in Jupyter Notebook environment and previously unregistered\n",
       "  if (root.Jupyter !== undefined) {\n",
       "    var events = require('base/js/events');\n",
       "    var OutputArea = require('notebook/js/outputarea').OutputArea;\n",
       "\n",
       "    if (OutputArea.prototype.mime_types().indexOf(EXEC_MIME_TYPE) == -1) {\n",
       "      register_renderer(events, OutputArea);\n",
       "    }\n",
       "  }\n",
       "\n",
       "  \n",
       "  if (typeof (root._bokeh_timeout) === \"undefined\" || force === true) {\n",
       "    root._bokeh_timeout = Date.now() + 5000;\n",
       "    root._bokeh_failed_load = false;\n",
       "  }\n",
       "\n",
       "  var NB_LOAD_WARNING = {'data': {'text/html':\n",
       "     \"<div style='background-color: #fdd'>\\n\"+\n",
       "     \"<p>\\n\"+\n",
       "     \"BokehJS does not appear to have successfully loaded. If loading BokehJS from CDN, this \\n\"+\n",
       "     \"may be due to a slow or bad network connection. Possible fixes:\\n\"+\n",
       "     \"</p>\\n\"+\n",
       "     \"<ul>\\n\"+\n",
       "     \"<li>re-rerun `output_notebook()` to attempt to load from CDN again, or</li>\\n\"+\n",
       "     \"<li>use INLINE resources instead, as so:</li>\\n\"+\n",
       "     \"</ul>\\n\"+\n",
       "     \"<code>\\n\"+\n",
       "     \"from bokeh.resources import INLINE\\n\"+\n",
       "     \"output_notebook(resources=INLINE)\\n\"+\n",
       "     \"</code>\\n\"+\n",
       "     \"</div>\"}};\n",
       "\n",
       "  function display_loaded() {\n",
       "    var el = document.getElementById(\"1002\");\n",
       "    if (el != null) {\n",
       "      el.textContent = \"BokehJS is loading...\";\n",
       "    }\n",
       "    if (root.Bokeh !== undefined) {\n",
       "      if (el != null) {\n",
       "        el.textContent = \"BokehJS \" + root.Bokeh.version + \" successfully loaded.\";\n",
       "      }\n",
       "    } else if (Date.now() < root._bokeh_timeout) {\n",
       "      setTimeout(display_loaded, 100)\n",
       "    }\n",
       "  }\n",
       "\n",
       "\n",
       "  function run_callbacks() {\n",
       "    try {\n",
       "      root._bokeh_onload_callbacks.forEach(function(callback) {\n",
       "        if (callback != null)\n",
       "          callback();\n",
       "      });\n",
       "    } finally {\n",
       "      delete root._bokeh_onload_callbacks\n",
       "    }\n",
       "    console.debug(\"Bokeh: all callbacks have finished\");\n",
       "  }\n",
       "\n",
       "  function load_libs(css_urls, js_urls, callback) {\n",
       "    if (css_urls == null) css_urls = [];\n",
       "    if (js_urls == null) js_urls = [];\n",
       "\n",
       "    root._bokeh_onload_callbacks.push(callback);\n",
       "    if (root._bokeh_is_loading > 0) {\n",
       "      console.debug(\"Bokeh: BokehJS is being loaded, scheduling callback at\", now());\n",
       "      return null;\n",
       "    }\n",
       "    if (js_urls == null || js_urls.length === 0) {\n",
       "      run_callbacks();\n",
       "      return null;\n",
       "    }\n",
       "    console.debug(\"Bokeh: BokehJS not loaded, scheduling load and callback at\", now());\n",
       "    root._bokeh_is_loading = css_urls.length + js_urls.length;\n",
       "\n",
       "    function on_load() {\n",
       "      root._bokeh_is_loading--;\n",
       "      if (root._bokeh_is_loading === 0) {\n",
       "        console.debug(\"Bokeh: all BokehJS libraries/stylesheets loaded\");\n",
       "        run_callbacks()\n",
       "      }\n",
       "    }\n",
       "\n",
       "    function on_error(url) {\n",
       "      console.error(\"failed to load \" + url);\n",
       "    }\n",
       "\n",
       "    for (let i = 0; i < css_urls.length; i++) {\n",
       "      const url = css_urls[i];\n",
       "      const element = document.createElement(\"link\");\n",
       "      element.onload = on_load;\n",
       "      element.onerror = on_error.bind(null, url);\n",
       "      element.rel = \"stylesheet\";\n",
       "      element.type = \"text/css\";\n",
       "      element.href = url;\n",
       "      console.debug(\"Bokeh: injecting link tag for BokehJS stylesheet: \", url);\n",
       "      document.body.appendChild(element);\n",
       "    }\n",
       "\n",
       "    const hashes = {\"https://cdn.bokeh.org/bokeh/release/bokeh-2.3.1.min.js\": \"YF85VygJKMVnHE+lLv2AM93Vbstr0yo2TbIu5v8se5Rq3UQAUmcuh4aaJwNlpKwa\", \"https://cdn.bokeh.org/bokeh/release/bokeh-widgets-2.3.1.min.js\": \"KKuas3gevv3PvrlkyCMzffFeaMq5we/a2QsP5AUoS3mJ0jmaCL7jirFJN3GoE/lM\", \"https://cdn.bokeh.org/bokeh/release/bokeh-tables-2.3.1.min.js\": \"MK/uFc3YT18pkvvXRl66tTHjP0/dxoSH2e/eiNMFIguKlun2+WVqaPTWmUy/zvh4\"};\n",
       "\n",
       "    for (let i = 0; i < js_urls.length; i++) {\n",
       "      const url = js_urls[i];\n",
       "      const element = document.createElement('script');\n",
       "      element.onload = on_load;\n",
       "      element.onerror = on_error.bind(null, url);\n",
       "      element.async = false;\n",
       "      element.src = url;\n",
       "      if (url in hashes) {\n",
       "        element.crossOrigin = \"anonymous\";\n",
       "        element.integrity = \"sha384-\" + hashes[url];\n",
       "      }\n",
       "      console.debug(\"Bokeh: injecting script tag for BokehJS library: \", url);\n",
       "      document.head.appendChild(element);\n",
       "    }\n",
       "  };\n",
       "\n",
       "  function inject_raw_css(css) {\n",
       "    const element = document.createElement(\"style\");\n",
       "    element.appendChild(document.createTextNode(css));\n",
       "    document.body.appendChild(element);\n",
       "  }\n",
       "\n",
       "  \n",
       "  var js_urls = [\"https://cdn.bokeh.org/bokeh/release/bokeh-2.3.1.min.js\", \"https://cdn.bokeh.org/bokeh/release/bokeh-widgets-2.3.1.min.js\", \"https://cdn.bokeh.org/bokeh/release/bokeh-tables-2.3.1.min.js\"];\n",
       "  var css_urls = [];\n",
       "  \n",
       "\n",
       "  var inline_js = [\n",
       "    function(Bokeh) {\n",
       "      Bokeh.set_log_level(\"info\");\n",
       "    },\n",
       "    function(Bokeh) {\n",
       "    \n",
       "    \n",
       "    }\n",
       "  ];\n",
       "\n",
       "  function run_inline_js() {\n",
       "    \n",
       "    if (root.Bokeh !== undefined || force === true) {\n",
       "      \n",
       "    for (var i = 0; i < inline_js.length; i++) {\n",
       "      inline_js[i].call(root, root.Bokeh);\n",
       "    }\n",
       "    if (force === true) {\n",
       "        display_loaded();\n",
       "      }} else if (Date.now() < root._bokeh_timeout) {\n",
       "      setTimeout(run_inline_js, 100);\n",
       "    } else if (!root._bokeh_failed_load) {\n",
       "      console.log(\"Bokeh: BokehJS failed to load within specified timeout.\");\n",
       "      root._bokeh_failed_load = true;\n",
       "    } else if (force !== true) {\n",
       "      var cell = $(document.getElementById(\"1002\")).parents('.cell').data().cell;\n",
       "      cell.output_area.append_execute_result(NB_LOAD_WARNING)\n",
       "    }\n",
       "\n",
       "  }\n",
       "\n",
       "  if (root._bokeh_is_loading === 0) {\n",
       "    console.debug(\"Bokeh: BokehJS loaded, going straight to plotting\");\n",
       "    run_inline_js();\n",
       "  } else {\n",
       "    load_libs(css_urls, js_urls, function() {\n",
       "      console.debug(\"Bokeh: BokehJS plotting callback run at\", now());\n",
       "      run_inline_js();\n",
       "    });\n",
       "  }\n",
       "}(window));"
      ],
      "application/vnd.bokehjs_load.v0+json": "\n(function(root) {\n  function now() {\n    return new Date();\n  }\n\n  var force = true;\n\n  if (typeof root._bokeh_onload_callbacks === \"undefined\" || force === true) {\n    root._bokeh_onload_callbacks = [];\n    root._bokeh_is_loading = undefined;\n  }\n\n  \n\n  \n  if (typeof (root._bokeh_timeout) === \"undefined\" || force === true) {\n    root._bokeh_timeout = Date.now() + 5000;\n    root._bokeh_failed_load = false;\n  }\n\n  var NB_LOAD_WARNING = {'data': {'text/html':\n     \"<div style='background-color: #fdd'>\\n\"+\n     \"<p>\\n\"+\n     \"BokehJS does not appear to have successfully loaded. If loading BokehJS from CDN, this \\n\"+\n     \"may be due to a slow or bad network connection. Possible fixes:\\n\"+\n     \"</p>\\n\"+\n     \"<ul>\\n\"+\n     \"<li>re-rerun `output_notebook()` to attempt to load from CDN again, or</li>\\n\"+\n     \"<li>use INLINE resources instead, as so:</li>\\n\"+\n     \"</ul>\\n\"+\n     \"<code>\\n\"+\n     \"from bokeh.resources import INLINE\\n\"+\n     \"output_notebook(resources=INLINE)\\n\"+\n     \"</code>\\n\"+\n     \"</div>\"}};\n\n  function display_loaded() {\n    var el = document.getElementById(\"1002\");\n    if (el != null) {\n      el.textContent = \"BokehJS is loading...\";\n    }\n    if (root.Bokeh !== undefined) {\n      if (el != null) {\n        el.textContent = \"BokehJS \" + root.Bokeh.version + \" successfully loaded.\";\n      }\n    } else if (Date.now() < root._bokeh_timeout) {\n      setTimeout(display_loaded, 100)\n    }\n  }\n\n\n  function run_callbacks() {\n    try {\n      root._bokeh_onload_callbacks.forEach(function(callback) {\n        if (callback != null)\n          callback();\n      });\n    } finally {\n      delete root._bokeh_onload_callbacks\n    }\n    console.debug(\"Bokeh: all callbacks have finished\");\n  }\n\n  function load_libs(css_urls, js_urls, callback) {\n    if (css_urls == null) css_urls = [];\n    if (js_urls == null) js_urls = [];\n\n    root._bokeh_onload_callbacks.push(callback);\n    if (root._bokeh_is_loading > 0) {\n      console.debug(\"Bokeh: BokehJS is being loaded, scheduling callback at\", now());\n      return null;\n    }\n    if (js_urls == null || js_urls.length === 0) {\n      run_callbacks();\n      return null;\n    }\n    console.debug(\"Bokeh: BokehJS not loaded, scheduling load and callback at\", now());\n    root._bokeh_is_loading = css_urls.length + js_urls.length;\n\n    function on_load() {\n      root._bokeh_is_loading--;\n      if (root._bokeh_is_loading === 0) {\n        console.debug(\"Bokeh: all BokehJS libraries/stylesheets loaded\");\n        run_callbacks()\n      }\n    }\n\n    function on_error(url) {\n      console.error(\"failed to load \" + url);\n    }\n\n    for (let i = 0; i < css_urls.length; i++) {\n      const url = css_urls[i];\n      const element = document.createElement(\"link\");\n      element.onload = on_load;\n      element.onerror = on_error.bind(null, url);\n      element.rel = \"stylesheet\";\n      element.type = \"text/css\";\n      element.href = url;\n      console.debug(\"Bokeh: injecting link tag for BokehJS stylesheet: \", url);\n      document.body.appendChild(element);\n    }\n\n    const hashes = {\"https://cdn.bokeh.org/bokeh/release/bokeh-2.3.1.min.js\": \"YF85VygJKMVnHE+lLv2AM93Vbstr0yo2TbIu5v8se5Rq3UQAUmcuh4aaJwNlpKwa\", \"https://cdn.bokeh.org/bokeh/release/bokeh-widgets-2.3.1.min.js\": \"KKuas3gevv3PvrlkyCMzffFeaMq5we/a2QsP5AUoS3mJ0jmaCL7jirFJN3GoE/lM\", \"https://cdn.bokeh.org/bokeh/release/bokeh-tables-2.3.1.min.js\": \"MK/uFc3YT18pkvvXRl66tTHjP0/dxoSH2e/eiNMFIguKlun2+WVqaPTWmUy/zvh4\"};\n\n    for (let i = 0; i < js_urls.length; i++) {\n      const url = js_urls[i];\n      const element = document.createElement('script');\n      element.onload = on_load;\n      element.onerror = on_error.bind(null, url);\n      element.async = false;\n      element.src = url;\n      if (url in hashes) {\n        element.crossOrigin = \"anonymous\";\n        element.integrity = \"sha384-\" + hashes[url];\n      }\n      console.debug(\"Bokeh: injecting script tag for BokehJS library: \", url);\n      document.head.appendChild(element);\n    }\n  };\n\n  function inject_raw_css(css) {\n    const element = document.createElement(\"style\");\n    element.appendChild(document.createTextNode(css));\n    document.body.appendChild(element);\n  }\n\n  \n  var js_urls = [\"https://cdn.bokeh.org/bokeh/release/bokeh-2.3.1.min.js\", \"https://cdn.bokeh.org/bokeh/release/bokeh-widgets-2.3.1.min.js\", \"https://cdn.bokeh.org/bokeh/release/bokeh-tables-2.3.1.min.js\"];\n  var css_urls = [];\n  \n\n  var inline_js = [\n    function(Bokeh) {\n      Bokeh.set_log_level(\"info\");\n    },\n    function(Bokeh) {\n    \n    \n    }\n  ];\n\n  function run_inline_js() {\n    \n    if (root.Bokeh !== undefined || force === true) {\n      \n    for (var i = 0; i < inline_js.length; i++) {\n      inline_js[i].call(root, root.Bokeh);\n    }\n    if (force === true) {\n        display_loaded();\n      }} else if (Date.now() < root._bokeh_timeout) {\n      setTimeout(run_inline_js, 100);\n    } else if (!root._bokeh_failed_load) {\n      console.log(\"Bokeh: BokehJS failed to load within specified timeout.\");\n      root._bokeh_failed_load = true;\n    } else if (force !== true) {\n      var cell = $(document.getElementById(\"1002\")).parents('.cell').data().cell;\n      cell.output_area.append_execute_result(NB_LOAD_WARNING)\n    }\n\n  }\n\n  if (root._bokeh_is_loading === 0) {\n    console.debug(\"Bokeh: BokehJS loaded, going straight to plotting\");\n    run_inline_js();\n  } else {\n    load_libs(css_urls, js_urls, function() {\n      console.debug(\"Bokeh: BokehJS plotting callback run at\", now());\n      run_inline_js();\n    });\n  }\n}(window));"
     },
     "metadata": {},
     "output_type": "display_data"
    }
   ],
   "source": [
    "import time\n",
    "import os\n",
    "import numpy as np\n",
    "import pandas as pd\n",
    "from scipy import stats\n",
    "import umap.umap_ as umap\n",
    "\n",
    "from sklearn.ensemble import RandomForestClassifier\n",
    "from sklearn.model_selection import train_test_split, RandomizedSearchCV\n",
    "from sklearn.metrics import confusion_matrix, roc_auc_score, roc_curve, auc\n",
    "from sklearn.cluster import OPTICS\n",
    "\n",
    "from bokeh.plotting import figure, output_file, show\n",
    "from bokeh.io import output_notebook\n",
    "from bokeh.layouts import column, gridplot\n",
    "from bokeh.models import ColumnDataSource, FactorRange, Label\n",
    "from bokeh.palettes import Spectral6, Cividis, Category10, Category20, RdYlBu\n",
    "from bokeh.transform import factor_cmap\n",
    "output_notebook()\n",
    "\n",
    "from tqdm.notebook import tqdm\n",
    "\n",
    "from datetime import datetime\n",
    "from functools import partial\n",
    "\n",
    "from IPython.display import clear_output"
   ]
  },
  {
   "cell_type": "code",
   "execution_count": 3,
   "metadata": {},
   "outputs": [],
   "source": [
    "pd.set_option('plotting.backend', 'pandas_bokeh')"
   ]
  },
  {
   "cell_type": "markdown",
   "metadata": {},
   "source": [
    "## Part 0: Get to Know the Data\n",
    "\n",
    "There are four data files associated with this project:\n",
    "\n",
    "- `Udacity_AZDIAS_052018.csv`: Demographics data for the general population of Germany; 891 211 persons (rows) x 366 features (columns).\n",
    "- `Udacity_CUSTOMERS_052018.csv`: Demographics data for customers of a mail-order company; 191 652 persons (rows) x 369 features (columns).\n",
    "- `Udacity_MAILOUT_052018_TRAIN.csv`: Demographics data for individuals who were targets of a marketing campaign; 42 982 persons (rows) x 367 (columns).\n",
    "- `Udacity_MAILOUT_052018_TEST.csv`: Demographics data for individuals who were targets of a marketing campaign; 42 833 persons (rows) x 366 (columns).\n",
    "\n",
    "Each row of the demographics files represents a single person, but also includes information outside of individuals, including information about their household, building, and neighborhood. Use the information from the first two files to figure out how customers (\"CUSTOMERS\") are similar to or differ from the general population at large (\"AZDIAS\"), then use your analysis to make predictions on the other two files (\"MAILOUT\"), predicting which recipients are most likely to become a customer for the mail-order company.\n",
    "\n",
    "The \"CUSTOMERS\" file contains three extra columns ('CUSTOMER_GROUP', 'ONLINE_PURCHASE', and 'PRODUCT_GROUP'), which provide broad information about the customers depicted in the file. The original \"MAILOUT\" file included one additional column, \"RESPONSE\", which indicated whether or not each recipient became a customer of the company. For the \"TRAIN\" subset, this column has been retained, but in the \"TEST\" subset it has been removed; it is against that withheld column that your final predictions will be assessed in the Kaggle competition.\n",
    "\n",
    "Otherwise, all of the remaining columns are the same between the three data files. For more information about the columns depicted in the files, you can refer to two Excel spreadsheets provided in the workspace. [One of them](./DIAS Information Levels - Attributes 2017.xlsx) is a top-level list of attributes and descriptions, organized by informational category. [The other](./DIAS Attributes - Values 2017.xlsx) is a detailed mapping of data values for each feature in alphabetical order.\n",
    "\n",
    "In the below cell, we've provided some initial code to load in the first two datasets. Note for all of the `.csv` data files in this project that they're semicolon (`;`) delimited, so an additional argument in the [`read_csv()`](https://pandas.pydata.org/pandas-docs/stable/generated/pandas.read_csv.html) call has been included to read in the data properly. Also, considering the size of the datasets, it may take some time for them to load completely.\n",
    "\n",
    "You'll notice when the data is loaded in that a warning message will immediately pop up. Before you really start digging into the modeling and analysis, you're going to need to perform some cleaning. Take some time to browse the structure of the data and look over the informational spreadsheets to understand the data values. Make some decisions on which features to keep, which features to drop, and if any revisions need to be made on data formats. It'll be a good idea to create a function with pre-processing steps, since you'll need to clean all of the datasets before you work with them."
   ]
  },
  {
   "cell_type": "code",
   "execution_count": 4,
   "metadata": {},
   "outputs": [],
   "source": [
    "# load in the data\n",
    "# csv files are cumbersome to wrok with - convert them to the parquet format so we can load them quicker\n",
    "\n",
    "def load_data(path, name):\n",
    "    \"\"\"\n",
    "    Load a csv file if a parquet file does not exist otherwise load the parquet file. \n",
    "    If the parquet file does not exist it will be created and saved in the current working directory.\n",
    "    This speeds up loading times for the next run (by about 4x). \n",
    "    \n",
    "    INPUT\n",
    "    path - path to the csv file\n",
    "    name - name to save the csv file to in parquet format\n",
    "    \n",
    "    OUTPUT\n",
    "    df - pandas dataframe with object columns converted to string\n",
    "    \"\"\"\n",
    "    if not os.path.exists(f'{name}.parquet'):\n",
    "        print(f'{name} parquet not found - loading csv')\n",
    "        df = pd.read_csv(path, sep=';')\n",
    "        print(f'{name} csv loaded')\n",
    "        for c in df.columns:\n",
    "            if df[c].dtype == object:\n",
    "                df[c] = df[c].astype(str)\n",
    "                print(f\"{name}: {c} converted to string\")\n",
    "        df.to_parquet(f'{name}.parquet')\n",
    "        print(f'{name} converted to parquet')\n",
    "    else:\n",
    "        print(f'{name} parquet found - loading')\n",
    "        df = pd.read_parquet(f'{name}.parquet')\n",
    "        print(f'{name} parquet loaded')\n",
    "    return df"
   ]
  },
  {
   "cell_type": "code",
   "execution_count": 5,
   "metadata": {},
   "outputs": [
    {
     "name": "stdout",
     "output_type": "stream",
     "text": [
      "azdias parquet found - loading\n",
      "azdias parquet loaded\n",
      "customers parquet found - loading\n",
      "customers parquet loaded\n",
      "CPU times: user 6.67 s, sys: 2.25 s, total: 8.92 s\n",
      "Wall time: 1.86 s\n"
     ]
    }
   ],
   "source": [
    "%%time        \n",
    "# load the two datasets\n",
    "azdias = load_data('../../data/Term2/capstone/arvato_data/Udacity_AZDIAS_052018.csv', 'azdias')\n",
    "customers = load_data('../../data/Term2/capstone/arvato_data/Udacity_CUSTOMERS_052018.csv', 'customers')"
   ]
  },
  {
   "cell_type": "code",
   "execution_count": 6,
   "metadata": {},
   "outputs": [],
   "source": [
    "# parse attributes sheet\n",
    "attributes = pd.read_excel('DIAS Attributes - Values 2017.xlsx', header=1).drop(columns=['Unnamed: 0', 'Description']).fillna(method='ffill')\n",
    "# make the attribute labels match the labels in the dataset where we could figure out what matches\n",
    "attributes.loc[:,'Attribute'] = attributes['Attribute'].str.replace('_RZ', '')\n",
    "attributes['Attribute'].replace(\n",
    "    {\n",
    "        'D19_BUCH': 'D19_BUCH_CD',\n",
    "        'CAMEO_DEUINTL_2015': 'CAMEO_INTL_2015',\n",
    "        'D19_KK_KUNDENTYP': 'KK_KUNDENTYP',\n",
    "        'KBA13_CCM_1400_2500': 'KBA13_CCM_1401_2500',\n",
    "        'SOHO_FLAG': 'SOHO_KZ',\n",
    "    },\n",
    "    inplace=True\n",
    ")\n",
    "\n",
    "# get number of values associated with an attribute \n",
    "nr_attribute_values = attributes.groupby('Attribute').count()['Value']\n",
    "# filter out attributes that are only 1 row (these dont have a pre-devined value for unknowns)\n",
    "attributes_filt = attributes[attributes['Attribute'].isin(nr_attribute_values[nr_attribute_values >  1].index)]"
   ]
  },
  {
   "cell_type": "markdown",
   "metadata": {},
   "source": [
    "# Clean dataset meta info"
   ]
  },
  {
   "cell_type": "code",
   "execution_count": 7,
   "metadata": {},
   "outputs": [],
   "source": [
    "def setup_dataframe(df, index_col='LNR'):\n",
    "    \"\"\"\n",
    "    Setup the dataframe index to the specified column. For this data its the LNR column. \n",
    "    Rid the dataframe of columns that contain meta information on the data, that is not important to the task.\n",
    "    The function runs in place and does not return a value.\n",
    "    \n",
    "    Input\n",
    "    - DataFrame - dataframe to set the index on.\n",
    "    - index_column - the column to use as the index.\n",
    "    \"\"\"\n",
    "    # Entry ID = LNR (does not overlap between azdias and customers)\n",
    "    df.set_index(index_col, inplace=True)\n",
    "    # EINGEFUEGT tanslates to inserted and is in the form of a date\n",
    "    # drop so we don't errenously correlate when the data appeared in the dataset to things we observe in the data\n",
    "    df.drop(columns=['EINGEFUEGT_AM'], inplace=True) "
   ]
  },
  {
   "cell_type": "code",
   "execution_count": 8,
   "metadata": {},
   "outputs": [],
   "source": [
    "# setup both the datasets to prepare them for further analysis\n",
    "setup_dataframe(azdias)\n",
    "setup_dataframe(customers)"
   ]
  },
  {
   "cell_type": "markdown",
   "metadata": {},
   "source": [
    "# Basic checks on number of columns"
   ]
  },
  {
   "cell_type": "code",
   "execution_count": 9,
   "metadata": {},
   "outputs": [
    {
     "name": "stdout",
     "output_type": "stream",
     "text": [
      "364 - number of columns in azdias dataframe\n",
      "367 - number of columns in customers dataframe\n",
      "364 - number of columns that overlap betwen azdias and customers\n",
      "314 - number of columns described in attributes file\n",
      "4 - number of attribures not in dataframe columns\n",
      "54 - number of columns in dataframe not in attributes\n"
     ]
    }
   ],
   "source": [
    "# check how many columns there are\n",
    "print(\n",
    " f\"{len(azdias.columns)} - number of columns in azdias dataframe\\n\" + \n",
    " f\"{len(customers.columns)} - number of columns in customers dataframe\\n\" +\n",
    " f\"{len(set(azdias.columns).intersection(set(customers.columns)))} - number of columns that overlap betwen azdias and customers\\n\" +\n",
    " f\"{len(nr_attribute_values)} - number of columns described in attributes file\\n\" +\n",
    " f\"{len(set(nr_attribute_values.index) - set(azdias.columns))} - number of attribures not in dataframe columns\\n\" +\n",
    " f\"{len(set(azdias.columns) - set(nr_attribute_values.index))} - number of columns in dataframe not in attributes\" \n",
    ")\n",
    "# 364 columns are too many to analyze individually. \n",
    "# All comuns in azdias is in customers.\n",
    "# The attributes file does not contain information of all columns in the data.\n",
    "# There are columns in the data not contained in the attributes file. These will need further investigation. "
   ]
  },
  {
   "cell_type": "markdown",
   "metadata": {},
   "source": [
    "# Drop columns we know too little about\n",
    "Columns we could manually treat or decode have been treated above so these are the remaining cases.\n",
    "\n",
    "Often the speed with which we can get to a good enough answer is preferred for decision makers, so they can start working on their approach while futher analsysis refines the results. \n",
    "\n",
    "We can always come back later and try to squeeze more information out of these columns if required, if the rest of the dataset does not provide sufficient predictive capability given the bussiness objectives or for a version 2 iteration to improve. "
   ]
  },
  {
   "cell_type": "code",
   "execution_count": 10,
   "metadata": {},
   "outputs": [],
   "source": [
    "# identify columns in our data that is not described by the accompanying information sheet\n",
    "low_to_no_info_columns = set(azdias.columns) - set(nr_attribute_values.index)\n",
    "# drop the columns we know too little about\n",
    "azdias.drop(columns=low_to_no_info_columns, inplace=True)\n",
    "customers.drop(columns=low_to_no_info_columns, inplace=True)"
   ]
  },
  {
   "cell_type": "markdown",
   "metadata": {},
   "source": [
    "# Check for duplicate rows"
   ]
  },
  {
   "cell_type": "code",
   "execution_count": 11,
   "metadata": {},
   "outputs": [],
   "source": [
    "# find rows that are duplicated in our dataset\n",
    "a_dups, c_dups = azdias.duplicated(), customers.duplicated()"
   ]
  },
  {
   "cell_type": "code",
   "execution_count": 12,
   "metadata": {},
   "outputs": [
    {
     "data": {
      "text/plain": [
       "KK_KUNDENTYP                   1.000000\n",
       "D19_GESAMT_ONLINE_QUOTE_12     0.999885\n",
       "D19_VERSAND_ONLINE_QUOTE_12    0.999885\n",
       "D19_LOTTO                      0.999885\n",
       "D19_BANKEN_ONLINE_QUOTE_12     0.999885\n",
       "                                 ...   \n",
       "ALTER_HH                       0.995736\n",
       "WOHNDAUER_2008                 0.995736\n",
       "SOHO_KZ                        0.995736\n",
       "HH_EINKOMMEN_SCORE             0.001128\n",
       "SEMIO_TRADV                    0.000000\n",
       "Length: 210, dtype: float64"
      ]
     },
     "execution_count": 12,
     "metadata": {},
     "output_type": "execute_result"
    }
   ],
   "source": [
    "# Check the number of missing values in this duplicate data - turns out its mostly missing anway\n",
    "(azdias.loc[a_dups].isna().sum()/a_dups.sum()).sort_values(ascending=False).head(210)"
   ]
  },
  {
   "cell_type": "code",
   "execution_count": 13,
   "metadata": {},
   "outputs": [
    {
     "data": {
      "text/plain": [
       "(0.058686902575231056, 0.2160791434474986)"
      ]
     },
     "execution_count": 13,
     "metadata": {},
     "output_type": "execute_result"
    }
   ],
   "source": [
    "# There is some mismatch in the degree to which data is missing between the two datasets, nothing to worry about too much.\n",
    "a_dups.sum()/len(azdias), c_dups.sum()/len(customers)"
   ]
  },
  {
   "cell_type": "code",
   "execution_count": 14,
   "metadata": {},
   "outputs": [],
   "source": [
    "# drop the duplicated rows\n",
    "azdias.drop(index=(a_dups[a_dups==True].index), inplace=True)\n",
    "customers.drop(index=(c_dups[c_dups==True].index), inplace=True)"
   ]
  },
  {
   "cell_type": "markdown",
   "metadata": {},
   "source": [
    "# Basic data type cleaning"
   ]
  },
  {
   "cell_type": "code",
   "execution_count": 15,
   "metadata": {},
   "outputs": [
    {
     "data": {
      "text/plain": [
       "CAMEO_DEU_2015     object\n",
       "CAMEO_DEUG_2015    object\n",
       "CAMEO_INTL_2015    object\n",
       "OST_WEST_KZ        object\n",
       "dtype: object"
      ]
     },
     "execution_count": 15,
     "metadata": {},
     "output_type": "execute_result"
    }
   ],
   "source": [
    "# instead of searching for object, remove known accepted datatypes\n",
    "# there may be some strange things we could miss if we only look for object data types\n",
    "cols_requiring_transformation = azdias.dtypes[(azdias.dtypes != np.int64) & (azdias.dtypes != np.float64)]\n",
    "cols_requiring_transformation"
   ]
  },
  {
   "cell_type": "code",
   "execution_count": 16,
   "metadata": {},
   "outputs": [
    {
     "data": {
      "text/html": [
       "<div>\n",
       "<style scoped>\n",
       "    .dataframe tbody tr th:only-of-type {\n",
       "        vertical-align: middle;\n",
       "    }\n",
       "\n",
       "    .dataframe tbody tr th {\n",
       "        vertical-align: top;\n",
       "    }\n",
       "\n",
       "    .dataframe thead th {\n",
       "        text-align: right;\n",
       "    }\n",
       "</style>\n",
       "<table border=\"1\" class=\"dataframe\">\n",
       "  <thead>\n",
       "    <tr style=\"text-align: right;\">\n",
       "      <th></th>\n",
       "      <th>A X/XX</th>\n",
       "      <th>A nan</th>\n",
       "      <th>C X/XX</th>\n",
       "      <th>C nan</th>\n",
       "    </tr>\n",
       "  </thead>\n",
       "  <tbody>\n",
       "    <tr>\n",
       "      <th>CAMEO_DEU_2015</th>\n",
       "      <td>0.000445</td>\n",
       "      <td>0.055828</td>\n",
       "      <td>0.000839</td>\n",
       "      <td>0.061116</td>\n",
       "    </tr>\n",
       "    <tr>\n",
       "      <th>CAMEO_DEUG_2015</th>\n",
       "      <td>0.000445</td>\n",
       "      <td>0.055828</td>\n",
       "      <td>0.000839</td>\n",
       "      <td>0.061116</td>\n",
       "    </tr>\n",
       "    <tr>\n",
       "      <th>CAMEO_INTL_2015</th>\n",
       "      <td>0.000445</td>\n",
       "      <td>0.055828</td>\n",
       "      <td>0.000839</td>\n",
       "      <td>0.061116</td>\n",
       "    </tr>\n",
       "    <tr>\n",
       "      <th>OST_WEST_KZ</th>\n",
       "      <td>0.000000</td>\n",
       "      <td>0.048883</td>\n",
       "      <td>0.000000</td>\n",
       "      <td>0.057801</td>\n",
       "    </tr>\n",
       "  </tbody>\n",
       "</table>\n",
       "</div>"
      ],
      "text/plain": [
       "                   A X/XX     A nan    C X/XX     C nan\n",
       "CAMEO_DEU_2015   0.000445  0.055828  0.000839  0.061116\n",
       "CAMEO_DEUG_2015  0.000445  0.055828  0.000839  0.061116\n",
       "CAMEO_INTL_2015  0.000445  0.055828  0.000839  0.061116\n",
       "OST_WEST_KZ      0.000000  0.048883  0.000000  0.057801"
      ]
     },
     "execution_count": 16,
     "metadata": {},
     "output_type": "execute_result"
    }
   ],
   "source": [
    "# X / XX missing data labels are very rare and goes up in frequency in both datasets as nans go up \n",
    "# conclusion: replace them with NaNs. \n",
    "pd.DataFrame([\n",
    "    azdias[cols_requiring_transformation.index].isin(['X', 'XX']).sum()/len(azdias),\n",
    "    azdias[cols_requiring_transformation.index].isin(['nan']).sum()/len(azdias),\n",
    "    customers[cols_requiring_transformation.index].isin(['X', 'XX']).sum()/len(customers),\n",
    "    customers[cols_requiring_transformation.index].isin(['nan']).sum()/len(customers),\n",
    "], index=['A X/XX', 'A nan', 'C X/XX', 'C nan']).T"
   ]
  },
  {
   "cell_type": "code",
   "execution_count": 17,
   "metadata": {},
   "outputs": [],
   "source": [
    "def process_column_dtype(val, base_type=float, nans=[]):\n",
    "    \"\"\"\n",
    "    Convert value to type of base_type, unless str.lower(value) is in nans (all lower) then replace with np.NaN\n",
    "    \n",
    "    Input\n",
    "    val - value to convert\n",
    "    base_type - data type value is to be converted to\n",
    "    nans = list of values that should be processed as a NaN\n",
    "    \n",
    "    Output\n",
    "    value of type base_type or np.NaN\n",
    "    \"\"\"\n",
    "    if str.lower(val) in nans:\n",
    "        return np.NaN\n",
    "    else:\n",
    "        return base_type(val)\n",
    "    \n",
    "def datm(x):\n",
    "    \"\"\"\n",
    "    Helper function to convert datetimes.\n",
    "    \n",
    "    Input - string in format %Y-%m-%d %H:%M:%S (e.g. 1992-02-10 14:13:59)\n",
    "    Output - datetime \n",
    "    \"\"\"\n",
    "    return datetime.strptime(x, '%Y-%m-%d %H:%M:%S')\n",
    "\n",
    "# create functions that can be used in a pandas apply (only 1 input argument)\n",
    "# sometimes it's hard when you try to be DRY\n",
    "process_column_cat = partial(process_column_dtype, base_type=str, nans=['nan', 'x', 'xx'])\n",
    "process_column_datetime = partial(process_column_dtype, base_type=datm, nans=['nan', 'x', 'xx'])\n",
    "process_column_float = partial(process_column_dtype, base_type=float, nans=['nan', 'x', 'xx'])"
   ]
  },
  {
   "cell_type": "code",
   "execution_count": 18,
   "metadata": {},
   "outputs": [],
   "source": [
    "def apply_cleaning_process(df, col_to_proc):\n",
    "    \"\"\"\n",
    "    Takes a dataframe and a dict mapping columns to the cleaning process to be applied.\n",
    "    \n",
    "    Input\n",
    "    df - DataFrame to apply cleaning process to\n",
    "    col_to_proc - dict with keys as the column names, and values as the process to apply to those columns\n",
    "    \n",
    "    Output\n",
    "    None - modifies dataframe in place\n",
    "    \"\"\"\n",
    "    for c, p in col_to_proc.items():\n",
    "        df[c] = df[c].apply(p)\n",
    "\n",
    "col_to_proc = {\n",
    "    # columns that are numeric\n",
    "    'CAMEO_DEUG_2015' : process_column_float,\n",
    "    'CAMEO_INTL_2015' : process_column_float,\n",
    "    # columns that are categories \n",
    "    'CAMEO_DEU_2015'  : process_column_cat,\n",
    "    'OST_WEST_KZ'     : process_column_cat,\n",
    "}\n",
    "\n",
    "# clean both datasets\n",
    "apply_cleaning_process(azdias, col_to_proc)\n",
    "apply_cleaning_process(customers, col_to_proc)"
   ]
  },
  {
   "cell_type": "code",
   "execution_count": 19,
   "metadata": {},
   "outputs": [],
   "source": [
    "def generate_categorical_replacement_dict(values):\n",
    "    \"\"\"\n",
    "    Generates a dict that maps the values to a numeric.\n",
    "    \n",
    "    Input - list like of values\n",
    "    Output - a dict with keys as the values provided, and a numeric value as the value. \n",
    "    \"\"\"\n",
    "    replacements = dict()\n",
    "    for n, k in enumerate(values):\n",
    "        if type(k) == str:\n",
    "            replacements[k] = n+1\n",
    "    return replacements\n",
    "\n",
    "def categorical_to_numeric(df, col, pre_calculated_replacement=None):\n",
    "    \"\"\"\n",
    "    Replaces non numeric categorical values with numeric values.\n",
    "    Uses the sort order of the non numerics to assign a numeric value.\n",
    "    Returns the replacement value mapping if one is not provided so the same mapping can be applied to other \n",
    "    dataframes columns ensuring consistency.\n",
    "    \n",
    "    Input\n",
    "    df - A pandas dataframe\n",
    "    col - A column that this transformation should be applied to\n",
    "    pre_calculated_replacement - a dict that maps between the current column values and the new column values\n",
    "    \n",
    "    Returns \n",
    "    None if replacement is provided otherwise:\n",
    "    replacement - a dict that maps between the current column values and the new column values\n",
    "    \"\"\"\n",
    "    if pre_calculated_replacement is None:\n",
    "        vals = df[col].sort_values().unique() # String categories with missing data. \n",
    "        replacement = generate_categorical_replacement_dict(vals)\n",
    "    else:\n",
    "        replacement = pre_calculated_replacement\n",
    "    df[col].replace(replacement, inplace=True)\n",
    "    if pre_calculated_replacement is None:\n",
    "        return replacement\n",
    "    else:\n",
    "        return None"
   ]
  },
  {
   "cell_type": "code",
   "execution_count": 20,
   "metadata": {},
   "outputs": [],
   "source": [
    "# convert these from categorial to numeric making sure the conversion is consistent between the datasets\n",
    "CAMEO_DEU_2015_replacements = categorical_to_numeric(azdias, 'CAMEO_DEU_2015')\n",
    "categorical_to_numeric(customers, 'CAMEO_DEU_2015', CAMEO_DEU_2015_replacements)\n",
    "OST_WEST_KZ_replacements = categorical_to_numeric(azdias, 'OST_WEST_KZ')\n",
    "categorical_to_numeric(customers, 'OST_WEST_KZ', OST_WEST_KZ_replacements)"
   ]
  },
  {
   "cell_type": "code",
   "execution_count": 21,
   "metadata": {},
   "outputs": [
    {
     "data": {
      "text/plain": [
       "Series([], dtype: object)"
      ]
     },
     "execution_count": 21,
     "metadata": {},
     "output_type": "execute_result"
    }
   ],
   "source": [
    "# double check we have all object columns treated\n",
    "azdias.dtypes[(azdias.dtypes != np.int64) & (azdias.dtypes != np.float64)]"
   ]
  },
  {
   "cell_type": "markdown",
   "metadata": {},
   "source": [
    "# Clean missing data"
   ]
  },
  {
   "cell_type": "code",
   "execution_count": 22,
   "metadata": {},
   "outputs": [
    {
     "data": {
      "text/plain": [
       "(0.6865045213000556, 0.5387380191693291)"
      ]
     },
     "execution_count": 22,
     "metadata": {},
     "output_type": "execute_result"
    }
   ],
   "source": [
    "# most rows contain some form of missing data!\n",
    "# dropping all rows with missing data would be fatal. \n",
    "(azdias.isnull().sum(axis=1) > 0).sum()/len(azdias), (customers.isnull().sum(axis=1) > 0).sum()/len(customers)"
   ]
  },
  {
   "cell_type": "code",
   "execution_count": 23,
   "metadata": {},
   "outputs": [],
   "source": [
    "def find_value_for_unknown(group):\n",
    "    \"\"\"\n",
    "    Takes a dataframe of Attributes Values and Meanings. \n",
    "    The meanings are parsed to find the Values that represent unkown or missing data.\n",
    "    If no unkown label exist, the minimum value in the group minus 1 is returned.\n",
    "    \n",
    "    Input - A dataframe (or dataframe group prodiced as part of a group by).\n",
    "    Output - a list of values that should be used to label unknowns within the dataframe.\n",
    "    \"\"\"\n",
    "    # all the labels indicating missing data\n",
    "    missing_meanings = ['unknown', 'unknown / no main age detectable', 'no transactions known', 'no transaction known']\n",
    "    # find all rows that contain a missing label or equivalent\n",
    "    missing_values = group[group['Meaning'].isin(missing_meanings)]['Value'].values\n",
    "    # if there is only 1 missing value check if it is a string\n",
    "    # sometimes there is more than 1 missing Value but its formatted as a string after reading the spreadsheet\n",
    "    if len(missing_values) == 1:\n",
    "        if type(missing_values[0]) == str:\n",
    "            # split the string and return all missing values as a list of ints\n",
    "            return [int(i) for i in missing_values[0].split(',')]\n",
    "    elif len(missing_values) > 1:\n",
    "        # There should not be more than 1 row with a missing label - should not happen so throw an error\n",
    "        raise ValueError('More than 1 row contains a missing definition.')\n",
    "    else:\n",
    "        pass\n",
    "    return missing_values\n",
    "\n",
    "missing_labels = attributes_filt.groupby('Attribute').apply(find_value_for_unknown)"
   ]
  },
  {
   "cell_type": "code",
   "execution_count": 24,
   "metadata": {},
   "outputs": [
    {
     "data": {
      "application/vnd.jupyter.widget-view+json": {
       "model_id": "30e2074d0f1e4311bb37f76854cfb8ca",
       "version_major": 2,
       "version_minor": 0
      },
      "text/plain": [
       "  0%|          | 0/307 [00:00<?, ?it/s]"
      ]
     },
     "metadata": {},
     "output_type": "display_data"
    }
   ],
   "source": [
    "# Calculate for each column in each dataset what % of the labels are the missing / unkown label\n",
    "azdias_missing = dict()\n",
    "customers_missing = dict()\n",
    "for c in tqdm(missing_labels.index):\n",
    "    if c in azdias.columns:\n",
    "        azdias_missing[c] = azdias[c].isin(missing_labels.loc[c]).sum()/len(azdias)\n",
    "    if c in customers.columns:\n",
    "        customers_missing[c] = customers[c].isin(missing_labels.loc[c]).sum()/len(customers)"
   ]
  },
  {
   "cell_type": "code",
   "execution_count": 25,
   "metadata": {},
   "outputs": [
    {
     "data": {
      "text/html": [
       "<div>\n",
       "<style scoped>\n",
       "    .dataframe tbody tr th:only-of-type {\n",
       "        vertical-align: middle;\n",
       "    }\n",
       "\n",
       "    .dataframe tbody tr th {\n",
       "        vertical-align: top;\n",
       "    }\n",
       "\n",
       "    .dataframe thead th {\n",
       "        text-align: right;\n",
       "    }\n",
       "</style>\n",
       "<table border=\"1\" class=\"dataframe\">\n",
       "  <thead>\n",
       "    <tr style=\"text-align: right;\">\n",
       "      <th></th>\n",
       "      <th>azdias_null</th>\n",
       "      <th>customers_null</th>\n",
       "      <th>azdias_missing</th>\n",
       "      <th>customers_missing</th>\n",
       "      <th>azdias_all</th>\n",
       "      <th>customers_all</th>\n",
       "    </tr>\n",
       "    <tr>\n",
       "      <th>features</th>\n",
       "      <th></th>\n",
       "      <th></th>\n",
       "      <th></th>\n",
       "      <th></th>\n",
       "      <th></th>\n",
       "      <th></th>\n",
       "    </tr>\n",
       "  </thead>\n",
       "  <tbody>\n",
       "    <tr>\n",
       "      <th>TITEL_KZ</th>\n",
       "      <td>0.025532</td>\n",
       "      <td>0.035643</td>\n",
       "      <td>0.971894</td>\n",
       "      <td>0.948975</td>\n",
       "      <td>0.997425</td>\n",
       "      <td>0.984618</td>\n",
       "    </tr>\n",
       "    <tr>\n",
       "      <th>D19_TELKO_ONLINE_DATUM</th>\n",
       "      <td>0.000000</td>\n",
       "      <td>0.000000</td>\n",
       "      <td>0.990222</td>\n",
       "      <td>0.985803</td>\n",
       "      <td>0.990222</td>\n",
       "      <td>0.985803</td>\n",
       "    </tr>\n",
       "    <tr>\n",
       "      <th>D19_BANKEN_LOKAL</th>\n",
       "      <td>0.000000</td>\n",
       "      <td>0.000000</td>\n",
       "      <td>0.980360</td>\n",
       "      <td>0.971359</td>\n",
       "      <td>0.980360</td>\n",
       "      <td>0.971359</td>\n",
       "    </tr>\n",
       "    <tr>\n",
       "      <th>D19_BANKEN_OFFLINE_DATUM</th>\n",
       "      <td>0.000000</td>\n",
       "      <td>0.000000</td>\n",
       "      <td>0.976534</td>\n",
       "      <td>0.950466</td>\n",
       "      <td>0.976534</td>\n",
       "      <td>0.950466</td>\n",
       "    </tr>\n",
       "    <tr>\n",
       "      <th>D19_TELKO_ANZ_12</th>\n",
       "      <td>0.000000</td>\n",
       "      <td>0.000000</td>\n",
       "      <td>0.960388</td>\n",
       "      <td>0.952210</td>\n",
       "      <td>0.960388</td>\n",
       "      <td>0.952210</td>\n",
       "    </tr>\n",
       "    <tr>\n",
       "      <th>D19_DIGIT_SERV</th>\n",
       "      <td>0.000000</td>\n",
       "      <td>0.000000</td>\n",
       "      <td>0.959996</td>\n",
       "      <td>0.946053</td>\n",
       "      <td>0.959996</td>\n",
       "      <td>0.946053</td>\n",
       "    </tr>\n",
       "    <tr>\n",
       "      <th>D19_BIO_OEKO</th>\n",
       "      <td>0.000000</td>\n",
       "      <td>0.000000</td>\n",
       "      <td>0.955720</td>\n",
       "      <td>0.886222</td>\n",
       "      <td>0.955720</td>\n",
       "      <td>0.886222</td>\n",
       "    </tr>\n",
       "    <tr>\n",
       "      <th>D19_TIERARTIKEL</th>\n",
       "      <td>0.000000</td>\n",
       "      <td>0.000000</td>\n",
       "      <td>0.953510</td>\n",
       "      <td>0.947730</td>\n",
       "      <td>0.953510</td>\n",
       "      <td>0.947730</td>\n",
       "    </tr>\n",
       "    <tr>\n",
       "      <th>D19_NAHRUNGSERGAENZUNG</th>\n",
       "      <td>0.000000</td>\n",
       "      <td>0.000000</td>\n",
       "      <td>0.953458</td>\n",
       "      <td>0.883320</td>\n",
       "      <td>0.953458</td>\n",
       "      <td>0.883320</td>\n",
       "    </tr>\n",
       "    <tr>\n",
       "      <th>D19_GARTEN</th>\n",
       "      <td>0.000000</td>\n",
       "      <td>0.000000</td>\n",
       "      <td>0.952802</td>\n",
       "      <td>0.922311</td>\n",
       "      <td>0.952802</td>\n",
       "      <td>0.922311</td>\n",
       "    </tr>\n",
       "  </tbody>\n",
       "</table>\n",
       "</div>"
      ],
      "text/plain": [
       "                          azdias_null  customers_null  azdias_missing  \\\n",
       "features                                                                \n",
       "TITEL_KZ                     0.025532        0.035643        0.971894   \n",
       "D19_TELKO_ONLINE_DATUM       0.000000        0.000000        0.990222   \n",
       "D19_BANKEN_LOKAL             0.000000        0.000000        0.980360   \n",
       "D19_BANKEN_OFFLINE_DATUM     0.000000        0.000000        0.976534   \n",
       "D19_TELKO_ANZ_12             0.000000        0.000000        0.960388   \n",
       "D19_DIGIT_SERV               0.000000        0.000000        0.959996   \n",
       "D19_BIO_OEKO                 0.000000        0.000000        0.955720   \n",
       "D19_TIERARTIKEL              0.000000        0.000000        0.953510   \n",
       "D19_NAHRUNGSERGAENZUNG       0.000000        0.000000        0.953458   \n",
       "D19_GARTEN                   0.000000        0.000000        0.952802   \n",
       "\n",
       "                          customers_missing  azdias_all  customers_all  \n",
       "features                                                                \n",
       "TITEL_KZ                           0.948975    0.997425       0.984618  \n",
       "D19_TELKO_ONLINE_DATUM             0.985803    0.990222       0.985803  \n",
       "D19_BANKEN_LOKAL                   0.971359    0.980360       0.971359  \n",
       "D19_BANKEN_OFFLINE_DATUM           0.950466    0.976534       0.950466  \n",
       "D19_TELKO_ANZ_12                   0.952210    0.960388       0.952210  \n",
       "D19_DIGIT_SERV                     0.946053    0.959996       0.946053  \n",
       "D19_BIO_OEKO                       0.886222    0.955720       0.886222  \n",
       "D19_TIERARTIKEL                    0.947730    0.953510       0.947730  \n",
       "D19_NAHRUNGSERGAENZUNG             0.883320    0.953458       0.883320  \n",
       "D19_GARTEN                         0.922311    0.952802       0.922311  "
      ]
     },
     "execution_count": 25,
     "metadata": {},
     "output_type": "execute_result"
    }
   ],
   "source": [
    "# combine the missing label data with the NAN / NULL % into a single dataframe (this will make plotting easier)\n",
    "all_data = pd.DataFrame(\n",
    "    [azdias.isnull().sum()/len(azdias), \n",
    "     customers.isnull().sum()/len(customers),\n",
    "     pd.Series(azdias_missing),\n",
    "     pd.Series(customers_missing)], \n",
    "    index=['azdias_null', 'customers_null', 'azdias_missing', 'customers_missing']\n",
    ").T\n",
    "all_data.index.name='features'\n",
    "all_data.fillna(0, inplace=True)\n",
    "\n",
    "all_data['azdias_all'] = all_data['azdias_null'] + all_data['azdias_missing']\n",
    "all_data['customers_all'] = all_data['customers_null'] + all_data['customers_missing']\n",
    "\n",
    "all_data.sort_values(by='azdias_all', ascending=False, inplace=True)\n",
    "all_data.head(10)"
   ]
  },
  {
   "cell_type": "code",
   "execution_count": 26,
   "metadata": {
    "scrolled": false
   },
   "outputs": [
    {
     "data": {
      "text/html": [
       "\n",
       "\n",
       "\n",
       "\n",
       "\n",
       "\n",
       "  <div class=\"bk-root\" id=\"d106b1be-9e63-4566-9ce1-f6aeac4ae1ac\" data-root-id=\"1003\"></div>\n"
      ]
     },
     "metadata": {},
     "output_type": "display_data"
    },
    {
     "data": {
      "application/javascript": [
       "(function(root) {\n",
       "  function embed_document(root) {\n",
       "    \n",
       "  var docs_json = {\"cfdc6f80-99a9-426f-8565-4d93779b77b9\":{\"defs\":[],\"roots\":{\"references\":[{\"attributes\":{\"children\":[{\"id\":\"1006\"},{\"id\":\"1061\"},{\"id\":\"1116\"},{\"id\":\"1171\"},{\"id\":\"1226\"},{\"id\":\"1281\"},{\"id\":\"1336\"},{\"id\":\"1391\"},{\"id\":\"1446\"},{\"id\":\"1501\"}]},\"id\":\"1003\",\"type\":\"Column\"},{\"attributes\":{\"factors\":[[\"D19_BANKEN_ONLINE_QUOTE_12\",\"azdias\"],[\"D19_BANKEN_ONLINE_QUOTE_12\",\"customers\"],[\"KKK\",\"azdias\"],[\"KKK\",\"customers\"],[\"REGIOTYP\",\"azdias\"],[\"REGIOTYP\",\"customers\"],[\"KBA05_AUTOQUOT\",\"azdias\"],[\"KBA05_AUTOQUOT\",\"customers\"],[\"KBA05_MOD3\",\"azdias\"],[\"KBA05_MOD3\",\"customers\"],[\"KBA05_KW3\",\"azdias\"],[\"KBA05_KW3\",\"customers\"],[\"KBA05_MOD1\",\"azdias\"],[\"KBA05_MOD1\",\"customers\"],[\"KBA05_MAXVORB\",\"azdias\"],[\"KBA05_MAXVORB\",\"customers\"],[\"KBA05_MAXSEG\",\"azdias\"],[\"KBA05_MAXSEG\",\"customers\"],[\"KBA05_MAXHERST\",\"azdias\"],[\"KBA05_MAXHERST\",\"customers\"],[\"KBA05_MAXBJ\",\"azdias\"],[\"KBA05_MAXBJ\",\"customers\"],[\"KBA05_MAXAH\",\"azdias\"],[\"KBA05_MAXAH\",\"customers\"],[\"KBA05_KRSHERST1\",\"azdias\"],[\"KBA05_KRSHERST1\",\"customers\"],[\"KBA05_KRSHERST2\",\"azdias\"],[\"KBA05_KRSHERST2\",\"customers\"],[\"KBA05_KW2\",\"azdias\"],[\"KBA05_KW2\",\"customers\"],[\"KBA05_KW1\",\"azdias\"],[\"KBA05_KW1\",\"customers\"],[\"KBA05_KRSHERST3\",\"azdias\"],[\"KBA05_KRSHERST3\",\"customers\"],[\"KBA05_KRSKLEIN\",\"azdias\"],[\"KBA05_KRSKLEIN\",\"customers\"],[\"KBA05_KRSOBER\",\"azdias\"],[\"KBA05_KRSOBER\",\"customers\"],[\"KBA05_KRSZUL\",\"azdias\"],[\"KBA05_KRSZUL\",\"customers\"],[\"KBA05_KRSVAN\",\"azdias\"],[\"KBA05_KRSVAN\",\"customers\"],[\"KBA05_MOD2\",\"azdias\"],[\"KBA05_MOD2\",\"customers\"],[\"KBA05_SEG6\",\"azdias\"],[\"KBA05_SEG6\",\"customers\"],[\"KBA05_MOD4\",\"azdias\"],[\"KBA05_MOD4\",\"customers\"],[\"KBA05_SEG9\",\"azdias\"],[\"KBA05_SEG9\",\"customers\"],[\"KBA05_HERST5\",\"azdias\"],[\"KBA05_HERST5\",\"customers\"],[\"KBA05_VORB1\",\"azdias\"],[\"KBA05_VORB1\",\"customers\"],[\"KBA05_VORB2\",\"azdias\"],[\"KBA05_VORB2\",\"customers\"],[\"KBA05_ZUL1\",\"azdias\"],[\"KBA05_ZUL1\",\"customers\"],[\"KBA05_ZUL2\",\"azdias\"],[\"KBA05_ZUL2\",\"customers\"],[\"KBA05_ZUL3\",\"azdias\"],[\"KBA05_ZUL3\",\"customers\"],[\"KBA05_ZUL4\",\"azdias\"],[\"KBA05_ZUL4\",\"customers\"]]},\"id\":\"1115\",\"type\":\"FactorRange\"},{\"attributes\":{\"bottom\":{\"expr\":{\"id\":\"1356\"}},\"fill_alpha\":{\"value\":0.5},\"fill_color\":{\"value\":\"red\"},\"line_alpha\":{\"value\":0.5},\"line_color\":{\"value\":null},\"line_width\":{\"value\":0},\"top\":{\"expr\":{\"id\":\"1357\"}},\"width\":{\"value\":0.8},\"x\":{\"field\":\"x\"}},\"id\":\"1375\",\"type\":\"VBar\"},{\"attributes\":{\"below\":[{\"id\":\"1456\"}],\"center\":[{\"id\":\"1458\"},{\"id\":\"1462\"},{\"id\":\"1482\"}],\"height\":500,\"left\":[{\"id\":\"1459\"}],\"renderers\":[{\"id\":\"1471\"},{\"id\":\"1487\"}],\"title\":{\"id\":\"1447\"},\"toolbar\":{\"id\":\"1463\"},\"toolbar_location\":null,\"width\":950,\"x_range\":{\"id\":\"1445\"},\"x_scale\":{\"id\":\"1452\"},\"y_range\":{\"id\":\"1450\"},\"y_scale\":{\"id\":\"1454\"}},\"id\":\"1446\",\"subtype\":\"Figure\",\"type\":\"Plot\"},{\"attributes\":{\"fields\":[]},\"id\":\"1079\",\"type\":\"Stack\"},{\"attributes\":{},\"id\":\"1072\",\"type\":\"CategoricalTicker\"},{\"attributes\":{\"text\":\"Overview of missing data in datasets (plot 2 of 10)\"},\"id\":\"1062\",\"type\":\"Title\"},{\"attributes\":{\"source\":{\"id\":\"1334\"}},\"id\":\"1378\",\"type\":\"CDSView\"},{\"attributes\":{\"end\":1.05,\"start\":0},\"id\":\"1065\",\"type\":\"DataRange1d\"},{\"attributes\":{\"formatter\":{\"id\":\"1092\"},\"group_label_orientation\":1.5707963267948966,\"major_label_orientation\":1.5707963267948966,\"major_label_policy\":{\"id\":\"1094\"},\"ticker\":{\"id\":\"1072\"}},\"id\":\"1071\",\"type\":\"CategoricalAxis\"},{\"attributes\":{\"bottom\":{\"expr\":{\"id\":\"1356\"}},\"fill_alpha\":{\"value\":0.1},\"fill_color\":{\"value\":\"red\"},\"line_alpha\":{\"value\":0.1},\"line_color\":{\"value\":null},\"line_width\":{\"value\":0},\"top\":{\"expr\":{\"id\":\"1357\"}},\"width\":{\"value\":0.8},\"x\":{\"field\":\"x\"}},\"id\":\"1376\",\"type\":\"VBar\"},{\"attributes\":{},\"id\":\"1069\",\"type\":\"LinearScale\"},{\"attributes\":{\"text\":\"Overview of missing data in datasets (plot 8 of 10)\"},\"id\":\"1392\",\"type\":\"Title\"},{\"attributes\":{\"formatter\":{\"id\":\"1089\"},\"major_label_policy\":{\"id\":\"1091\"},\"ticker\":{\"id\":\"1075\"}},\"id\":\"1074\",\"type\":\"LinearAxis\"},{\"attributes\":{\"label\":{\"value\":\"missing\"},\"renderers\":[{\"id\":\"1377\"}]},\"id\":\"1388\",\"type\":\"LegendItem\"},{\"attributes\":{\"data_source\":{\"id\":\"1334\"},\"glyph\":{\"id\":\"1375\"},\"hover_glyph\":null,\"muted_glyph\":null,\"name\":\"missing\",\"nonselection_glyph\":{\"id\":\"1376\"},\"view\":{\"id\":\"1378\"}},\"id\":\"1377\",\"type\":\"GlyphRenderer\"},{\"attributes\":{},\"id\":\"1067\",\"type\":\"CategoricalScale\"},{\"attributes\":{\"axis\":{\"id\":\"1071\"},\"grid_line_color\":null,\"ticker\":null},\"id\":\"1073\",\"type\":\"Grid\"},{\"attributes\":{\"axis\":{\"id\":\"1074\"},\"dimension\":1,\"ticker\":null},\"id\":\"1077\",\"type\":\"Grid\"},{\"attributes\":{},\"id\":\"1075\",\"type\":\"BasicTicker\"},{\"attributes\":{\"active_multi\":null},\"id\":\"1078\",\"type\":\"Toolbar\"},{\"attributes\":{\"fields\":[\"null\"]},\"id\":\"1080\",\"type\":\"Stack\"},{\"attributes\":{},\"id\":\"1089\",\"type\":\"BasicTickFormatter\"},{\"attributes\":{\"data\":{\"missing\":[0.0,0.0,0.0,0.0,0.0,0.0,0.0,0.0,0.0,0.0,0.0,0.0,0.0,0.0,0.0,0.0,0.0,0.0,0.0,0.0,0.0,0.0,0.0,0.0,0.0,0.0,0.0,0.0,0.0,0.0,0.0,0.0,0.0,0.0,0.0,0.0,0.0,0.0,0.0,0.0,0.0,0.0,0.0,0.0,0.0,0.0,0.0,0.0,0.0,0.0],\"null\":[0.0,0.0,0.0,0.0,0.0,0.0,0.0,0.0,0.0,0.0,0.0,0.0,0.0,0.0,0.0,0.0,0.0,0.0,0.0,0.0,0.0,0.0,0.0,0.0,0.0,0.0,0.0,0.0,0.0,0.0,0.0,0.0,0.0,0.0,0.0,0.0,0.0,0.0,0.0,0.0,0.0,0.0,0.0,0.0,0.0,0.0,0.0,0.0,0.0,0.0],\"x\":[[\"CUSTOMER_GROUP\",\"azdias\"],[\"CUSTOMER_GROUP\",\"customers\"],[\"SEMIO_RAT\",\"azdias\"],[\"SEMIO_RAT\",\"customers\"],[\"PRODUCT_GROUP\",\"azdias\"],[\"PRODUCT_GROUP\",\"customers\"],[\"ZABEOTYP\",\"azdias\"],[\"ZABEOTYP\",\"customers\"],[\"ANREDE_KZ\",\"azdias\"],[\"ANREDE_KZ\",\"customers\"],[\"SEMIO_REL\",\"azdias\"],[\"SEMIO_REL\",\"customers\"],[\"SEMIO_ERL\",\"azdias\"],[\"SEMIO_ERL\",\"customers\"],[\"SEMIO_PFLICHT\",\"azdias\"],[\"SEMIO_PFLICHT\",\"customers\"],[\"SEMIO_MAT\",\"azdias\"],[\"SEMIO_MAT\",\"customers\"],[\"FINANZ_UNAUFFAELLIGER\",\"azdias\"],[\"FINANZ_UNAUFFAELLIGER\",\"customers\"],[\"FINANZ_SPARER\",\"azdias\"],[\"FINANZ_SPARER\",\"customers\"],[\"FINANZ_VORSORGER\",\"azdias\"],[\"FINANZ_VORSORGER\",\"customers\"],[\"FINANZ_MINIMALIST\",\"azdias\"],[\"FINANZ_MINIMALIST\",\"customers\"],[\"FINANZ_HAUSBAUER\",\"azdias\"],[\"FINANZ_HAUSBAUER\",\"customers\"],[\"FINANZ_ANLEGER\",\"azdias\"],[\"FINANZ_ANLEGER\",\"customers\"],[\"FINANZTYP\",\"azdias\"],[\"FINANZTYP\",\"customers\"],[\"GEBURTSJAHR\",\"azdias\"],[\"GEBURTSJAHR\",\"customers\"],[\"GREEN_AVANTGARDE\",\"azdias\"],[\"GREEN_AVANTGARDE\",\"customers\"],[\"SEMIO_DOM\",\"azdias\"],[\"SEMIO_DOM\",\"customers\"],[\"SEMIO_FAM\",\"azdias\"],[\"SEMIO_FAM\",\"customers\"],[\"SEMIO_KAEM\",\"azdias\"],[\"SEMIO_KAEM\",\"customers\"],[\"SEMIO_KRIT\",\"azdias\"],[\"SEMIO_KRIT\",\"customers\"],[\"SEMIO_KULT\",\"azdias\"],[\"SEMIO_KULT\",\"customers\"],[\"SEMIO_LUST\",\"azdias\"],[\"SEMIO_LUST\",\"customers\"],[\"ONLINE_PURCHASE\",\"azdias\"],[\"ONLINE_PURCHASE\",\"customers\"]]},\"selected\":{\"id\":\"1536\"},\"selection_policy\":{\"id\":\"1535\"}},\"id\":\"1499\",\"type\":\"ColumnDataSource\"},{\"attributes\":{\"fields\":[\"null\"]},\"id\":\"1081\",\"type\":\"Stack\"},{\"attributes\":{\"bottom\":{\"expr\":{\"id\":\"1079\"}},\"fill_alpha\":{\"value\":0.5},\"fill_color\":{\"value\":\"blue\"},\"line_alpha\":{\"value\":0.5},\"line_color\":{\"value\":null},\"line_width\":{\"value\":0},\"top\":{\"expr\":{\"id\":\"1080\"}},\"width\":{\"value\":0.8},\"x\":{\"field\":\"x\"}},\"id\":\"1084\",\"type\":\"VBar\"},{\"attributes\":{\"factors\":[[\"ORTSGR_KLS9\",\"azdias\"],[\"ORTSGR_KLS9\",\"customers\"],[\"ANZ_HH_TITEL\",\"azdias\"],[\"ANZ_HH_TITEL\",\"customers\"],[\"BALLRAUM\",\"azdias\"],[\"BALLRAUM\",\"customers\"],[\"INNENSTADT\",\"azdias\"],[\"INNENSTADT\",\"customers\"],[\"EWDICHTE\",\"azdias\"],[\"EWDICHTE\",\"customers\"],[\"GEBAEUDETYP_RASTER\",\"azdias\"],[\"GEBAEUDETYP_RASTER\",\"customers\"],[\"OST_WEST_KZ\",\"azdias\"],[\"OST_WEST_KZ\",\"customers\"],[\"KBA05_MODTEMP\",\"azdias\"],[\"KBA05_MODTEMP\",\"customers\"],[\"ANZ_HAUSHALTE_AKTIV\",\"azdias\"],[\"ANZ_HAUSHALTE_AKTIV\",\"customers\"],[\"MIN_GEBAEUDEJAHR\",\"azdias\"],[\"MIN_GEBAEUDEJAHR\",\"customers\"],[\"GEBAEUDETYP\",\"azdias\"],[\"GEBAEUDETYP\",\"customers\"],[\"WOHNLAGE\",\"azdias\"],[\"WOHNLAGE\",\"customers\"],[\"KONSUMNAEHE\",\"azdias\"],[\"KONSUMNAEHE\",\"customers\"],[\"ANZ_TITEL\",\"azdias\"],[\"ANZ_TITEL\",\"customers\"],[\"SOHO_KZ\",\"azdias\"],[\"SOHO_KZ\",\"customers\"],[\"ANZ_PERSONEN\",\"azdias\"],[\"ANZ_PERSONEN\",\"customers\"],[\"WOHNDAUER_2008\",\"azdias\"],[\"WOHNDAUER_2008\",\"customers\"],[\"HH_EINKOMMEN_SCORE\",\"azdias\"],[\"HH_EINKOMMEN_SCORE\",\"customers\"],[\"LP_STATUS_FEIN\",\"azdias\"],[\"LP_STATUS_FEIN\",\"customers\"],[\"LP_FAMILIE_FEIN\",\"azdias\"],[\"LP_FAMILIE_FEIN\",\"customers\"],[\"LP_FAMILIE_GROB\",\"azdias\"],[\"LP_FAMILIE_GROB\",\"customers\"],[\"CJT_GESAMTTYP\",\"azdias\"],[\"CJT_GESAMTTYP\",\"customers\"],[\"LP_LEBENSPHASE_FEIN\",\"azdias\"],[\"LP_LEBENSPHASE_FEIN\",\"customers\"],[\"LP_STATUS_GROB\",\"azdias\"],[\"LP_STATUS_GROB\",\"customers\"],[\"GFK_URLAUBERTYP\",\"azdias\"],[\"GFK_URLAUBERTYP\",\"customers\"],[\"ONLINE_AFFINITAET\",\"azdias\"],[\"ONLINE_AFFINITAET\",\"customers\"],[\"RETOURTYP_BK_S\",\"azdias\"],[\"RETOURTYP_BK_S\",\"customers\"],[\"LP_LEBENSPHASE_GROB\",\"azdias\"],[\"LP_LEBENSPHASE_GROB\",\"customers\"],[\"SEMIO_SOZ\",\"azdias\"],[\"SEMIO_SOZ\",\"customers\"],[\"SEMIO_TRADV\",\"azdias\"],[\"SEMIO_TRADV\",\"customers\"],[\"SEMIO_VERT\",\"azdias\"],[\"SEMIO_VERT\",\"customers\"],[\"ALTERSKATEGORIE_GROB\",\"azdias\"],[\"ALTERSKATEGORIE_GROB\",\"customers\"]]},\"id\":\"1445\",\"type\":\"FactorRange\"},{\"attributes\":{\"fields\":[\"null\",\"missing\"]},\"id\":\"1082\",\"type\":\"Stack\"},{\"attributes\":{\"fields\":[]},\"id\":\"1409\",\"type\":\"Stack\"},{\"attributes\":{\"source\":{\"id\":\"1059\"}},\"id\":\"1087\",\"type\":\"CDSView\"},{\"attributes\":{},\"id\":\"1402\",\"type\":\"CategoricalTicker\"},{\"attributes\":{\"end\":1.05,\"start\":0},\"id\":\"1395\",\"type\":\"DataRange1d\"},{\"attributes\":{\"bottom\":{\"expr\":{\"id\":\"1079\"}},\"fill_alpha\":{\"value\":0.1},\"fill_color\":{\"value\":\"blue\"},\"line_alpha\":{\"value\":0.1},\"line_color\":{\"value\":null},\"line_width\":{\"value\":0},\"top\":{\"expr\":{\"id\":\"1080\"}},\"width\":{\"value\":0.8},\"x\":{\"field\":\"x\"}},\"id\":\"1085\",\"type\":\"VBar\"},{\"attributes\":{\"formatter\":{\"id\":\"1422\"},\"group_label_orientation\":1.5707963267948966,\"major_label_orientation\":1.5707963267948966,\"major_label_policy\":{\"id\":\"1424\"},\"ticker\":{\"id\":\"1402\"}},\"id\":\"1401\",\"type\":\"CategoricalAxis\"},{\"attributes\":{},\"id\":\"1399\",\"type\":\"LinearScale\"},{\"attributes\":{\"formatter\":{\"id\":\"1419\"},\"major_label_policy\":{\"id\":\"1421\"},\"ticker\":{\"id\":\"1405\"}},\"id\":\"1404\",\"type\":\"LinearAxis\"},{\"attributes\":{\"label\":{\"value\":\"null\"},\"renderers\":[{\"id\":\"1086\"}]},\"id\":\"1098\",\"type\":\"LegendItem\"},{\"attributes\":{\"data_source\":{\"id\":\"1059\"},\"glyph\":{\"id\":\"1084\"},\"hover_glyph\":null,\"muted_glyph\":null,\"name\":\"null\",\"nonselection_glyph\":{\"id\":\"1085\"},\"view\":{\"id\":\"1087\"}},\"id\":\"1086\",\"type\":\"GlyphRenderer\"},{\"attributes\":{},\"id\":\"1397\",\"type\":\"CategoricalScale\"},{\"attributes\":{\"items\":[{\"id\":\"1098\"},{\"id\":\"1113\"}],\"orientation\":\"horizontal\"},\"id\":\"1097\",\"type\":\"Legend\"},{\"attributes\":{\"axis\":{\"id\":\"1401\"},\"grid_line_color\":null,\"ticker\":null},\"id\":\"1403\",\"type\":\"Grid\"},{\"attributes\":{\"axis\":{\"id\":\"1404\"},\"dimension\":1,\"ticker\":null},\"id\":\"1407\",\"type\":\"Grid\"},{\"attributes\":{},\"id\":\"1405\",\"type\":\"BasicTicker\"},{\"attributes\":{\"active_multi\":null},\"id\":\"1408\",\"type\":\"Toolbar\"},{\"attributes\":{},\"id\":\"1424\",\"type\":\"AllLabels\"},{\"attributes\":{\"fields\":[\"null\"]},\"id\":\"1411\",\"type\":\"Stack\"},{\"attributes\":{\"fields\":[\"null\"]},\"id\":\"1410\",\"type\":\"Stack\"},{\"attributes\":{},\"id\":\"1421\",\"type\":\"AllLabels\"},{\"attributes\":{},\"id\":\"1422\",\"type\":\"CategoricalTickFormatter\"},{\"attributes\":{},\"id\":\"1091\",\"type\":\"AllLabels\"},{\"attributes\":{\"factors\":[[\"KBA05_VORB0\",\"azdias\"],[\"KBA05_VORB0\",\"customers\"],[\"KBA05_SEG8\",\"azdias\"],[\"KBA05_SEG8\",\"customers\"],[\"KBA05_MOD8\",\"azdias\"],[\"KBA05_MOD8\",\"customers\"],[\"KBA05_SEG7\",\"azdias\"],[\"KBA05_SEG7\",\"customers\"],[\"KBA05_SEG5\",\"azdias\"],[\"KBA05_SEG5\",\"customers\"],[\"KBA05_SEG4\",\"azdias\"],[\"KBA05_SEG4\",\"customers\"],[\"KBA05_SEG3\",\"azdias\"],[\"KBA05_SEG3\",\"customers\"],[\"KBA05_SEG2\",\"azdias\"],[\"KBA05_SEG2\",\"customers\"],[\"KBA05_SEG10\",\"azdias\"],[\"KBA05_SEG10\",\"customers\"],[\"KBA05_SEG1\",\"azdias\"],[\"KBA05_SEG1\",\"customers\"],[\"KBA05_MOTOR\",\"azdias\"],[\"KBA05_MOTOR\",\"customers\"],[\"KBA05_KRSAQUOT\",\"azdias\"],[\"KBA05_KRSAQUOT\",\"customers\"],[\"KBA05_CCM4\",\"azdias\"],[\"KBA05_CCM4\",\"customers\"],[\"KBA05_HERST4\",\"azdias\"],[\"KBA05_HERST4\",\"customers\"],[\"KBA05_HERST3\",\"azdias\"],[\"KBA05_HERST3\",\"customers\"],[\"KBA05_HERST2\",\"azdias\"],[\"KBA05_HERST2\",\"customers\"],[\"KBA05_HERST1\",\"azdias\"],[\"KBA05_HERST1\",\"customers\"],[\"KBA05_FRAU\",\"azdias\"],[\"KBA05_FRAU\",\"customers\"],[\"KBA05_DIESEL\",\"azdias\"],[\"KBA05_DIESEL\",\"customers\"],[\"KBA05_CCM3\",\"azdias\"],[\"KBA05_CCM3\",\"customers\"],[\"KBA05_CCM2\",\"azdias\"],[\"KBA05_CCM2\",\"customers\"],[\"KBA05_CCM1\",\"azdias\"],[\"KBA05_CCM1\",\"customers\"],[\"KBA05_ALTER1\",\"azdias\"],[\"KBA05_ALTER1\",\"customers\"],[\"KBA05_ALTER2\",\"azdias\"],[\"KBA05_ALTER2\",\"customers\"],[\"KBA05_ALTER3\",\"azdias\"],[\"KBA05_ALTER3\",\"customers\"],[\"KBA05_ALTER4\",\"azdias\"],[\"KBA05_ALTER4\",\"customers\"],[\"W_KEIT_KIND_HH\",\"azdias\"],[\"W_KEIT_KIND_HH\",\"customers\"],[\"KBA05_ANHANG\",\"azdias\"],[\"KBA05_ANHANG\",\"customers\"],[\"KBA05_MOTRAD\",\"azdias\"],[\"KBA05_MOTRAD\",\"customers\"],[\"MOBI_REGIO\",\"azdias\"],[\"MOBI_REGIO\",\"customers\"],[\"KBA05_ANTG1\",\"azdias\"],[\"KBA05_ANTG1\",\"customers\"],[\"KBA05_ANTG3\",\"azdias\"],[\"KBA05_ANTG3\",\"customers\"]]},\"id\":\"1170\",\"type\":\"FactorRange\"},{\"attributes\":{\"fields\":[]},\"id\":\"1134\",\"type\":\"Stack\"},{\"attributes\":{},\"id\":\"1150\",\"type\":\"UnionRenderers\"},{\"attributes\":{\"data\":{\"missing\":[0.0,0.0,0.0,1.3312034078807241e-05,0.0,0.0,0.0,0.0,0.0,0.0,0.0,0.0,0.0,0.0,0.0,0.0,0.0,0.0,0.0,0.0,0.0704359663280559,0.05156416400425985,0.0704359663280559,0.05156416400425985,0.0704359663280559,0.05156416400425985,0.020046059328802098,0.008592917997870075,0.06700178086535276,0.04996671991480298,0.06670377796161246,0.04822949946751864,0.0,0.0,0.0,0.0,0.0,0.0,0.0,0.0,0.0,0.0,0.0,0.0,0.0,0.0,0.0,0.0,0.0,0.0,0.0,0.0,0.0,0.0,0.0,0.0,0.0,0.0,0.0,0.0,0.0,0.0,0.0,0.0],\"null\":[0.09677107893739316,0.09803647497337593,0.09677107893739316,0.09803647497337593,0.09677107893739316,0.09803647497337593,0.0767238275969761,0.07663738019169329,0.0767238275969761,0.07663738019169329,0.0767238275969761,0.07663738019169329,0.0767238275969761,0.07663738019169329,0.0767238275969761,0.07663738019169329,0.0767238275969761,0.07663738019169329,0.0767238275969761,0.07663738019169329,0.0,0.0,0.0,0.0,0.0,0.0,0.04888320431794287,0.05780085197018105,0.0,0.0,0.0,0.0,0.06395142314266711,0.06677316293929712,0.06395142314266711,0.06677316293929712,0.06395142314266711,0.06677316293929712,0.06395142314266711,0.06677316293929712,0.06395142314266711,0.06677316293929712,0.06395142314266711,0.06677316293929712,0.06395142314266711,0.06677316293929712,0.06395142314266711,0.06677316293929712,0.06395142314266711,0.06677316293929712,0.06395142314266711,0.06677316293929712,0.06395142314266711,0.06677316293929712,0.06395142314266711,0.06677316293929712,0.06395142314266711,0.06677316293929712,0.06395142314266711,0.06677316293929712,0.06395142314266711,0.06677316293929712,0.06395142314266711,0.06677316293929712],\"x\":[[\"KBA05_ANTG4\",\"azdias\"],[\"KBA05_ANTG4\",\"customers\"],[\"KBA05_GBZ\",\"azdias\"],[\"KBA05_GBZ\",\"customers\"],[\"KBA05_ANTG2\",\"azdias\"],[\"KBA05_ANTG2\",\"customers\"],[\"PLZ8_HHZ\",\"azdias\"],[\"PLZ8_HHZ\",\"customers\"],[\"PLZ8_ANTG3\",\"azdias\"],[\"PLZ8_ANTG3\",\"customers\"],[\"PLZ8_ANTG4\",\"azdias\"],[\"PLZ8_ANTG4\",\"customers\"],[\"PLZ8_BAUMAX\",\"azdias\"],[\"PLZ8_BAUMAX\",\"customers\"],[\"PLZ8_GBZ\",\"azdias\"],[\"PLZ8_GBZ\",\"customers\"],[\"PLZ8_ANTG1\",\"azdias\"],[\"PLZ8_ANTG1\",\"customers\"],[\"PLZ8_ANTG2\",\"azdias\"],[\"PLZ8_ANTG2\",\"customers\"],[\"HEALTH_TYP\",\"azdias\"],[\"HEALTH_TYP\",\"customers\"],[\"VERS_TYP\",\"azdias\"],[\"VERS_TYP\",\"customers\"],[\"SHOPPER_TYP\",\"azdias\"],[\"SHOPPER_TYP\",\"customers\"],[\"KBA05_HERSTTEMP\",\"azdias\"],[\"KBA05_HERSTTEMP\",\"customers\"],[\"NATIONALITAET_KZ\",\"azdias\"],[\"NATIONALITAET_KZ\",\"customers\"],[\"PRAEGENDE_JUGENDJAHRE\",\"azdias\"],[\"PRAEGENDE_JUGENDJAHRE\",\"customers\"],[\"KBA13_NISSAN\",\"azdias\"],[\"KBA13_NISSAN\",\"customers\"],[\"KBA13_KRSSEG_KLEIN\",\"azdias\"],[\"KBA13_KRSSEG_KLEIN\",\"customers\"],[\"KBA13_MERCEDES\",\"azdias\"],[\"KBA13_MERCEDES\",\"customers\"],[\"KBA13_MAZDA\",\"azdias\"],[\"KBA13_MAZDA\",\"customers\"],[\"KBA13_KW_90\",\"azdias\"],[\"KBA13_KW_90\",\"customers\"],[\"KBA13_KW_80\",\"azdias\"],[\"KBA13_KW_80\",\"customers\"],[\"KBA13_KW_70\",\"azdias\"],[\"KBA13_KW_70\",\"customers\"],[\"KBA13_KW_61_120\",\"azdias\"],[\"KBA13_KW_61_120\",\"customers\"],[\"KBA13_KW_60\",\"azdias\"],[\"KBA13_KW_60\",\"customers\"],[\"KBA13_KW_50\",\"azdias\"],[\"KBA13_KW_50\",\"customers\"],[\"KBA13_KW_40\",\"azdias\"],[\"KBA13_KW_40\",\"customers\"],[\"KBA13_KW_30\",\"azdias\"],[\"KBA13_KW_30\",\"customers\"],[\"KBA13_KW_121\",\"azdias\"],[\"KBA13_KW_121\",\"customers\"],[\"KBA13_KW_120\",\"azdias\"],[\"KBA13_KW_120\",\"customers\"],[\"KBA13_KW_110\",\"azdias\"],[\"KBA13_KW_110\",\"customers\"],[\"KBA13_KW_0_60\",\"azdias\"],[\"KBA13_KW_0_60\",\"customers\"]]},\"selected\":{\"id\":\"1261\"},\"selection_policy\":{\"id\":\"1260\"}},\"id\":\"1224\",\"type\":\"ColumnDataSource\"},{\"attributes\":{},\"id\":\"1127\",\"type\":\"CategoricalTicker\"},{\"attributes\":{\"below\":[{\"id\":\"1181\"}],\"center\":[{\"id\":\"1183\"},{\"id\":\"1187\"},{\"id\":\"1207\"}],\"height\":500,\"left\":[{\"id\":\"1184\"}],\"renderers\":[{\"id\":\"1196\"},{\"id\":\"1212\"}],\"title\":{\"id\":\"1172\"},\"toolbar\":{\"id\":\"1188\"},\"toolbar_location\":null,\"width\":950,\"x_range\":{\"id\":\"1170\"},\"x_scale\":{\"id\":\"1177\"},\"y_range\":{\"id\":\"1175\"},\"y_scale\":{\"id\":\"1179\"}},\"id\":\"1171\",\"subtype\":\"Figure\",\"type\":\"Plot\"},{\"attributes\":{},\"id\":\"1151\",\"type\":\"Selection\"},{\"attributes\":{\"text\":\"Overview of missing data in datasets (plot 3 of 10)\"},\"id\":\"1117\",\"type\":\"Title\"},{\"attributes\":{\"end\":1.05,\"start\":0},\"id\":\"1120\",\"type\":\"DataRange1d\"},{\"attributes\":{\"formatter\":{\"id\":\"1147\"},\"group_label_orientation\":1.5707963267948966,\"major_label_orientation\":1.5707963267948966,\"major_label_policy\":{\"id\":\"1149\"},\"ticker\":{\"id\":\"1127\"}},\"id\":\"1126\",\"type\":\"CategoricalAxis\"},{\"attributes\":{},\"id\":\"1124\",\"type\":\"LinearScale\"},{\"attributes\":{\"formatter\":{\"id\":\"1144\"},\"major_label_policy\":{\"id\":\"1146\"},\"ticker\":{\"id\":\"1130\"}},\"id\":\"1129\",\"type\":\"LinearAxis\"},{\"attributes\":{\"items\":[{\"id\":\"1153\"},{\"id\":\"1168\"}],\"orientation\":\"horizontal\"},\"id\":\"1152\",\"type\":\"Legend\"},{\"attributes\":{},\"id\":\"1034\",\"type\":\"BasicTickFormatter\"},{\"attributes\":{},\"id\":\"1122\",\"type\":\"CategoricalScale\"},{\"attributes\":{\"axis\":{\"id\":\"1126\"},\"grid_line_color\":null,\"ticker\":null},\"id\":\"1128\",\"type\":\"Grid\"},{\"attributes\":{},\"id\":\"1036\",\"type\":\"AllLabels\"},{\"attributes\":{},\"id\":\"1037\",\"type\":\"CategoricalTickFormatter\"},{\"attributes\":{\"axis\":{\"id\":\"1129\"},\"dimension\":1,\"ticker\":null},\"id\":\"1132\",\"type\":\"Grid\"},{\"attributes\":{},\"id\":\"1130\",\"type\":\"BasicTicker\"},{\"attributes\":{\"active_multi\":null},\"id\":\"1133\",\"type\":\"Toolbar\"},{\"attributes\":{},\"id\":\"1039\",\"type\":\"AllLabels\"},{\"attributes\":{\"formatter\":{\"id\":\"1202\"},\"group_label_orientation\":1.5707963267948966,\"major_label_orientation\":1.5707963267948966,\"major_label_policy\":{\"id\":\"1204\"},\"ticker\":{\"id\":\"1182\"}},\"id\":\"1181\",\"type\":\"CategoricalAxis\"},{\"attributes\":{\"bottom\":{\"expr\":{\"id\":\"1134\"}},\"fill_alpha\":{\"value\":0.5},\"fill_color\":{\"value\":\"blue\"},\"line_alpha\":{\"value\":0.5},\"line_color\":{\"value\":null},\"line_width\":{\"value\":0},\"top\":{\"expr\":{\"id\":\"1135\"}},\"width\":{\"value\":0.8},\"x\":{\"field\":\"x\"}},\"id\":\"1139\",\"type\":\"VBar\"},{\"attributes\":{\"data_source\":{\"id\":\"1114\"},\"glyph\":{\"id\":\"1139\"},\"hover_glyph\":null,\"muted_glyph\":null,\"name\":\"null\",\"nonselection_glyph\":{\"id\":\"1140\"},\"view\":{\"id\":\"1142\"}},\"id\":\"1141\",\"type\":\"GlyphRenderer\"},{\"attributes\":{\"bottom\":{\"expr\":{\"id\":\"1134\"}},\"fill_alpha\":{\"value\":0.1},\"fill_color\":{\"value\":\"blue\"},\"line_alpha\":{\"value\":0.1},\"line_color\":{\"value\":null},\"line_width\":{\"value\":0},\"top\":{\"expr\":{\"id\":\"1135\"}},\"width\":{\"value\":0.8},\"x\":{\"field\":\"x\"}},\"id\":\"1140\",\"type\":\"VBar\"},{\"attributes\":{\"label\":{\"value\":\"null\"},\"renderers\":[{\"id\":\"1141\"}]},\"id\":\"1153\",\"type\":\"LegendItem\"},{\"attributes\":{\"source\":{\"id\":\"1114\"}},\"id\":\"1142\",\"type\":\"CDSView\"},{\"attributes\":{\"fields\":[\"null\",\"missing\"]},\"id\":\"1137\",\"type\":\"Stack\"},{\"attributes\":{},\"id\":\"1040\",\"type\":\"UnionRenderers\"},{\"attributes\":{},\"id\":\"1179\",\"type\":\"LinearScale\"},{\"attributes\":{},\"id\":\"1041\",\"type\":\"Selection\"},{\"attributes\":{\"bottom\":{\"expr\":{\"id\":\"1136\"}},\"fill_alpha\":{\"value\":0.5},\"fill_color\":{\"value\":\"red\"},\"line_alpha\":{\"value\":0.5},\"line_color\":{\"value\":null},\"line_width\":{\"value\":0},\"top\":{\"expr\":{\"id\":\"1137\"}},\"width\":{\"value\":0.8},\"x\":{\"field\":\"x\"}},\"id\":\"1155\",\"type\":\"VBar\"},{\"attributes\":{\"text\":\"Overview of missing data in datasets (plot 4 of 10)\"},\"id\":\"1172\",\"type\":\"Title\"},{\"attributes\":{},\"id\":\"1177\",\"type\":\"CategoricalScale\"},{\"attributes\":{\"source\":{\"id\":\"1114\"}},\"id\":\"1158\",\"type\":\"CDSView\"},{\"attributes\":{\"end\":1.05,\"start\":0},\"id\":\"1175\",\"type\":\"DataRange1d\"},{\"attributes\":{\"bottom\":{\"expr\":{\"id\":\"1136\"}},\"fill_alpha\":{\"value\":0.1},\"fill_color\":{\"value\":\"red\"},\"line_alpha\":{\"value\":0.1},\"line_color\":{\"value\":null},\"line_width\":{\"value\":0},\"top\":{\"expr\":{\"id\":\"1137\"}},\"width\":{\"value\":0.8},\"x\":{\"field\":\"x\"}},\"id\":\"1156\",\"type\":\"VBar\"},{\"attributes\":{\"label\":{\"value\":\"missing\"},\"renderers\":[{\"id\":\"1157\"}]},\"id\":\"1168\",\"type\":\"LegendItem\"},{\"attributes\":{\"data_source\":{\"id\":\"1114\"},\"glyph\":{\"id\":\"1155\"},\"hover_glyph\":null,\"muted_glyph\":null,\"name\":\"missing\",\"nonselection_glyph\":{\"id\":\"1156\"},\"view\":{\"id\":\"1158\"}},\"id\":\"1157\",\"type\":\"GlyphRenderer\"},{\"attributes\":{\"bottom\":{\"expr\":{\"id\":\"1026\"}},\"fill_alpha\":{\"value\":0.5},\"fill_color\":{\"value\":\"red\"},\"line_alpha\":{\"value\":0.5},\"line_color\":{\"value\":null},\"line_width\":{\"value\":0},\"top\":{\"expr\":{\"id\":\"1027\"}},\"width\":{\"value\":0.8},\"x\":{\"field\":\"x\"}},\"id\":\"1045\",\"type\":\"VBar\"},{\"attributes\":{\"source\":{\"id\":\"1004\"}},\"id\":\"1048\",\"type\":\"CDSView\"},{\"attributes\":{\"bottom\":{\"expr\":{\"id\":\"1026\"}},\"fill_alpha\":{\"value\":0.1},\"fill_color\":{\"value\":\"red\"},\"line_alpha\":{\"value\":0.1},\"line_color\":{\"value\":null},\"line_width\":{\"value\":0},\"top\":{\"expr\":{\"id\":\"1027\"}},\"width\":{\"value\":0.8},\"x\":{\"field\":\"x\"}},\"id\":\"1046\",\"type\":\"VBar\"},{\"attributes\":{\"data\":{\"missing\":[0.0,0.0,0.04394350818554376,0.038611554845580404,0.04394350818554376,0.038611554845580404,0.017527338786389134,0.0062167199148029815,0.01752137872831433,0.006210063897763578,0.01752137872831433,0.006210063897763578,0.01752137872831433,0.006210063897763578,0.01752137872831433,0.006210063897763578,0.01752137872831433,0.006210063897763578,0.01752137872831433,0.006210063897763578,0.01752137872831433,0.006210063897763578,0.01752137872831433,0.006210063897763578,0.01752137872831433,0.006210063897763578,0.01752137872831433,0.006210063897763578,0.01752137872831433,0.006210063897763578,0.01752137872831433,0.006210063897763578,0.01752137872831433,0.006210063897763578,0.01752137872831433,0.006210063897763578,0.01752137872831433,0.006210063897763578,0.01752137872831433,0.006210063897763578,0.01752137872831433,0.006210063897763578,0.01752137872831433,0.006210063897763578,0.01752137872831433,0.006210063897763578,0.01752137872831433,0.006210063897763578,0.01752137872831433,0.006210063897763578,0.01752137872831433,0.006210063897763578,0.01752137872831433,0.006210063897763578,0.01752137872831433,0.006210063897763578,0.01752137872831433,0.006210063897763578,0.01752137872831433,0.006210063897763578,0.01752137872831433,0.006210063897763578,0.01752137872831433,0.006210063897763578],\"null\":[0.24414305092988825,0.04296458998935037,0.08231436207114402,0.08660143769968051,0.08231436207114402,0.08660143769968051,0.09677107893739316,0.09803647497337593,0.09677107893739316,0.09803647497337593,0.09677107893739316,0.09803647497337593,0.09677107893739316,0.09803647497337593,0.09677107893739316,0.09803647497337593,0.09677107893739316,0.09803647497337593,0.09677107893739316,0.09803647497337593,0.09677107893739316,0.09803647497337593,0.09677107893739316,0.09803647497337593,0.09677107893739316,0.09803647497337593,0.09677107893739316,0.09803647497337593,0.09677107893739316,0.09803647497337593,0.09677107893739316,0.09803647497337593,0.09677107893739316,0.09803647497337593,0.09677107893739316,0.09803647497337593,0.09677107893739316,0.09803647497337593,0.09677107893739316,0.09803647497337593,0.09677107893739316,0.09803647497337593,0.09677107893739316,0.09803647497337593,0.09677107893739316,0.09803647497337593,0.09677107893739316,0.09803647497337593,0.09677107893739316,0.09803647497337593,0.09677107893739316,0.09803647497337593,0.09677107893739316,0.09803647497337593,0.09677107893739316,0.09803647497337593,0.09677107893739316,0.09803647497337593,0.09677107893739316,0.09803647497337593,0.09677107893739316,0.09803647497337593,0.09677107893739316,0.09803647497337593],\"x\":[[\"D19_BANKEN_ONLINE_QUOTE_12\",\"azdias\"],[\"D19_BANKEN_ONLINE_QUOTE_12\",\"customers\"],[\"KKK\",\"azdias\"],[\"KKK\",\"customers\"],[\"REGIOTYP\",\"azdias\"],[\"REGIOTYP\",\"customers\"],[\"KBA05_AUTOQUOT\",\"azdias\"],[\"KBA05_AUTOQUOT\",\"customers\"],[\"KBA05_MOD3\",\"azdias\"],[\"KBA05_MOD3\",\"customers\"],[\"KBA05_KW3\",\"azdias\"],[\"KBA05_KW3\",\"customers\"],[\"KBA05_MOD1\",\"azdias\"],[\"KBA05_MOD1\",\"customers\"],[\"KBA05_MAXVORB\",\"azdias\"],[\"KBA05_MAXVORB\",\"customers\"],[\"KBA05_MAXSEG\",\"azdias\"],[\"KBA05_MAXSEG\",\"customers\"],[\"KBA05_MAXHERST\",\"azdias\"],[\"KBA05_MAXHERST\",\"customers\"],[\"KBA05_MAXBJ\",\"azdias\"],[\"KBA05_MAXBJ\",\"customers\"],[\"KBA05_MAXAH\",\"azdias\"],[\"KBA05_MAXAH\",\"customers\"],[\"KBA05_KRSHERST1\",\"azdias\"],[\"KBA05_KRSHERST1\",\"customers\"],[\"KBA05_KRSHERST2\",\"azdias\"],[\"KBA05_KRSHERST2\",\"customers\"],[\"KBA05_KW2\",\"azdias\"],[\"KBA05_KW2\",\"customers\"],[\"KBA05_KW1\",\"azdias\"],[\"KBA05_KW1\",\"customers\"],[\"KBA05_KRSHERST3\",\"azdias\"],[\"KBA05_KRSHERST3\",\"customers\"],[\"KBA05_KRSKLEIN\",\"azdias\"],[\"KBA05_KRSKLEIN\",\"customers\"],[\"KBA05_KRSOBER\",\"azdias\"],[\"KBA05_KRSOBER\",\"customers\"],[\"KBA05_KRSZUL\",\"azdias\"],[\"KBA05_KRSZUL\",\"customers\"],[\"KBA05_KRSVAN\",\"azdias\"],[\"KBA05_KRSVAN\",\"customers\"],[\"KBA05_MOD2\",\"azdias\"],[\"KBA05_MOD2\",\"customers\"],[\"KBA05_SEG6\",\"azdias\"],[\"KBA05_SEG6\",\"customers\"],[\"KBA05_MOD4\",\"azdias\"],[\"KBA05_MOD4\",\"customers\"],[\"KBA05_SEG9\",\"azdias\"],[\"KBA05_SEG9\",\"customers\"],[\"KBA05_HERST5\",\"azdias\"],[\"KBA05_HERST5\",\"customers\"],[\"KBA05_VORB1\",\"azdias\"],[\"KBA05_VORB1\",\"customers\"],[\"KBA05_VORB2\",\"azdias\"],[\"KBA05_VORB2\",\"customers\"],[\"KBA05_ZUL1\",\"azdias\"],[\"KBA05_ZUL1\",\"customers\"],[\"KBA05_ZUL2\",\"azdias\"],[\"KBA05_ZUL2\",\"customers\"],[\"KBA05_ZUL3\",\"azdias\"],[\"KBA05_ZUL3\",\"customers\"],[\"KBA05_ZUL4\",\"azdias\"],[\"KBA05_ZUL4\",\"customers\"]]},\"selected\":{\"id\":\"1151\"},\"selection_policy\":{\"id\":\"1150\"}},\"id\":\"1114\",\"type\":\"ColumnDataSource\"},{\"attributes\":{\"label\":{\"value\":\"missing\"},\"renderers\":[{\"id\":\"1047\"}]},\"id\":\"1058\",\"type\":\"LegendItem\"},{\"attributes\":{\"data_source\":{\"id\":\"1004\"},\"glyph\":{\"id\":\"1045\"},\"hover_glyph\":null,\"muted_glyph\":null,\"name\":\"missing\",\"nonselection_glyph\":{\"id\":\"1046\"},\"view\":{\"id\":\"1048\"}},\"id\":\"1047\",\"type\":\"GlyphRenderer\"},{\"attributes\":{},\"id\":\"1144\",\"type\":\"BasicTickFormatter\"},{\"attributes\":{},\"id\":\"1146\",\"type\":\"AllLabels\"},{\"attributes\":{},\"id\":\"1147\",\"type\":\"CategoricalTickFormatter\"},{\"attributes\":{},\"id\":\"1149\",\"type\":\"AllLabels\"},{\"attributes\":{},\"id\":\"1092\",\"type\":\"CategoricalTickFormatter\"},{\"attributes\":{},\"id\":\"1094\",\"type\":\"AllLabels\"},{\"attributes\":{},\"id\":\"1202\",\"type\":\"CategoricalTickFormatter\"},{\"attributes\":{\"bottom\":{\"expr\":{\"id\":\"1301\"}},\"fill_alpha\":{\"value\":0.1},\"fill_color\":{\"value\":\"red\"},\"line_alpha\":{\"value\":0.1},\"line_color\":{\"value\":null},\"line_width\":{\"value\":0},\"top\":{\"expr\":{\"id\":\"1302\"}},\"width\":{\"value\":0.8},\"x\":{\"field\":\"x\"}},\"id\":\"1321\",\"type\":\"VBar\"},{\"attributes\":{\"data_source\":{\"id\":\"1279\"},\"glyph\":{\"id\":\"1320\"},\"hover_glyph\":null,\"muted_glyph\":null,\"name\":\"missing\",\"nonselection_glyph\":{\"id\":\"1321\"},\"view\":{\"id\":\"1323\"}},\"id\":\"1322\",\"type\":\"GlyphRenderer\"},{\"attributes\":{\"bottom\":{\"expr\":{\"id\":\"1466\"}},\"fill_alpha\":{\"value\":0.5},\"fill_color\":{\"value\":\"red\"},\"line_alpha\":{\"value\":0.5},\"line_color\":{\"value\":null},\"line_width\":{\"value\":0},\"top\":{\"expr\":{\"id\":\"1467\"}},\"width\":{\"value\":0.8},\"x\":{\"field\":\"x\"}},\"id\":\"1485\",\"type\":\"VBar\"},{\"attributes\":{\"bottom\":{\"expr\":{\"id\":\"1411\"}},\"fill_alpha\":{\"value\":0.5},\"fill_color\":{\"value\":\"red\"},\"line_alpha\":{\"value\":0.5},\"line_color\":{\"value\":null},\"line_width\":{\"value\":0},\"top\":{\"expr\":{\"id\":\"1412\"}},\"width\":{\"value\":0.8},\"x\":{\"field\":\"x\"}},\"id\":\"1430\",\"type\":\"VBar\"},{\"attributes\":{\"fields\":[\"null\",\"missing\"]},\"id\":\"1522\",\"type\":\"Stack\"},{\"attributes\":{},\"id\":\"1204\",\"type\":\"AllLabels\"},{\"attributes\":{\"data\":{\"missing\":[0.0,0.0,0.0,0.0,0.0,0.0,0.0,0.0,0.0,0.0,0.0,0.0,0.0,0.0,0.0,0.0,0.0,0.0,0.0,0.0,0.0,0.0,0.0,0.0,0.0,0.0,0.0,0.0,0.0,0.0,0.0,0.0,0.0,0.0,0.0,0.0,0.0,0.0,0.0,0.0,0.0,0.0,0.0,0.0,0.0,0.0,0.0,0.0,0.0,0.0,0.0,0.0,0.0,0.0,0.0,0.0,0.0,0.0,0.0,0.0,0.0,0.0,0.0,0.0],\"null\":[0.05373111555598998,0.06144834930777423,0.053484369151693016,0.07231096911608094,0.04958887519399989,0.05801384451544196,0.04958887519399989,0.05801384451544196,0.04958887519399989,0.05801384451544196,0.0488915483992476,0.05780085197018105,0.04888320431794287,0.05780085197018105,0.04888320431794287,0.05780085197018105,0.04888320431794287,0.05780085197018105,0.04888320431794287,0.05780085197018105,0.04888320431794287,0.05780085197018105,0.04888320431794287,0.05780085197018105,0.026089558216655262,0.03600905218317359,0.025531696780853434,0.03564297124600639,0.025531696780853434,0.03564297124600639,0.025531696780853434,0.03564297124600639,0.025531696780853434,0.03564297124600639,0.02180070042602495,0.01974174653887114,0.005786024379021549,0.021385782747603835,0.005786024379021549,0.021385782747603835,0.005786024379021549,0.021385782747603835,0.005786024379021549,0.021385782747603835,0.005786024379021549,0.021385782747603835,0.005786024379021549,0.021385782747603835,0.005786024379021549,0.021385782747603835,0.005786024379021549,0.021385782747603835,0.005786024379021549,0.021385782747603835,0.005786024379021549,0.021385782747603835,0.0,0.0,0.0,0.0,0.0,0.0,0.0,0.0],\"x\":[[\"ORTSGR_KLS9\",\"azdias\"],[\"ORTSGR_KLS9\",\"customers\"],[\"ANZ_HH_TITEL\",\"azdias\"],[\"ANZ_HH_TITEL\",\"customers\"],[\"BALLRAUM\",\"azdias\"],[\"BALLRAUM\",\"customers\"],[\"INNENSTADT\",\"azdias\"],[\"INNENSTADT\",\"customers\"],[\"EWDICHTE\",\"azdias\"],[\"EWDICHTE\",\"customers\"],[\"GEBAEUDETYP_RASTER\",\"azdias\"],[\"GEBAEUDETYP_RASTER\",\"customers\"],[\"OST_WEST_KZ\",\"azdias\"],[\"OST_WEST_KZ\",\"customers\"],[\"KBA05_MODTEMP\",\"azdias\"],[\"KBA05_MODTEMP\",\"customers\"],[\"ANZ_HAUSHALTE_AKTIV\",\"azdias\"],[\"ANZ_HAUSHALTE_AKTIV\",\"customers\"],[\"MIN_GEBAEUDEJAHR\",\"azdias\"],[\"MIN_GEBAEUDEJAHR\",\"customers\"],[\"GEBAEUDETYP\",\"azdias\"],[\"GEBAEUDETYP\",\"customers\"],[\"WOHNLAGE\",\"azdias\"],[\"WOHNLAGE\",\"customers\"],[\"KONSUMNAEHE\",\"azdias\"],[\"KONSUMNAEHE\",\"customers\"],[\"ANZ_TITEL\",\"azdias\"],[\"ANZ_TITEL\",\"customers\"],[\"SOHO_KZ\",\"azdias\"],[\"SOHO_KZ\",\"customers\"],[\"ANZ_PERSONEN\",\"azdias\"],[\"ANZ_PERSONEN\",\"customers\"],[\"WOHNDAUER_2008\",\"azdias\"],[\"WOHNDAUER_2008\",\"customers\"],[\"HH_EINKOMMEN_SCORE\",\"azdias\"],[\"HH_EINKOMMEN_SCORE\",\"customers\"],[\"LP_STATUS_FEIN\",\"azdias\"],[\"LP_STATUS_FEIN\",\"customers\"],[\"LP_FAMILIE_FEIN\",\"azdias\"],[\"LP_FAMILIE_FEIN\",\"customers\"],[\"LP_FAMILIE_GROB\",\"azdias\"],[\"LP_FAMILIE_GROB\",\"customers\"],[\"CJT_GESAMTTYP\",\"azdias\"],[\"CJT_GESAMTTYP\",\"customers\"],[\"LP_LEBENSPHASE_FEIN\",\"azdias\"],[\"LP_LEBENSPHASE_FEIN\",\"customers\"],[\"LP_STATUS_GROB\",\"azdias\"],[\"LP_STATUS_GROB\",\"customers\"],[\"GFK_URLAUBERTYP\",\"azdias\"],[\"GFK_URLAUBERTYP\",\"customers\"],[\"ONLINE_AFFINITAET\",\"azdias\"],[\"ONLINE_AFFINITAET\",\"customers\"],[\"RETOURTYP_BK_S\",\"azdias\"],[\"RETOURTYP_BK_S\",\"customers\"],[\"LP_LEBENSPHASE_GROB\",\"azdias\"],[\"LP_LEBENSPHASE_GROB\",\"customers\"],[\"SEMIO_SOZ\",\"azdias\"],[\"SEMIO_SOZ\",\"customers\"],[\"SEMIO_TRADV\",\"azdias\"],[\"SEMIO_TRADV\",\"customers\"],[\"SEMIO_VERT\",\"azdias\"],[\"SEMIO_VERT\",\"customers\"],[\"ALTERSKATEGORIE_GROB\",\"azdias\"],[\"ALTERSKATEGORIE_GROB\",\"customers\"]]},\"selected\":{\"id\":\"1481\"},\"selection_policy\":{\"id\":\"1480\"}},\"id\":\"1444\",\"type\":\"ColumnDataSource\"},{\"attributes\":{\"items\":[{\"id\":\"1483\"},{\"id\":\"1498\"}],\"orientation\":\"horizontal\"},\"id\":\"1482\",\"type\":\"Legend\"},{\"attributes\":{\"below\":[{\"id\":\"1511\"}],\"center\":[{\"id\":\"1513\"},{\"id\":\"1517\"},{\"id\":\"1537\"}],\"height\":500,\"left\":[{\"id\":\"1514\"}],\"renderers\":[{\"id\":\"1526\"},{\"id\":\"1542\"}],\"title\":{\"id\":\"1502\"},\"toolbar\":{\"id\":\"1518\"},\"toolbar_location\":null,\"width\":950,\"x_range\":{\"id\":\"1500\"},\"x_scale\":{\"id\":\"1507\"},\"y_range\":{\"id\":\"1505\"},\"y_scale\":{\"id\":\"1509\"}},\"id\":\"1501\",\"subtype\":\"Figure\",\"type\":\"Plot\"},{\"attributes\":{\"label\":{\"value\":\"missing\"},\"renderers\":[{\"id\":\"1322\"}]},\"id\":\"1333\",\"type\":\"LegendItem\"},{\"attributes\":{\"bottom\":{\"expr\":{\"id\":\"1301\"}},\"fill_alpha\":{\"value\":0.5},\"fill_color\":{\"value\":\"red\"},\"line_alpha\":{\"value\":0.5},\"line_color\":{\"value\":null},\"line_width\":{\"value\":0},\"top\":{\"expr\":{\"id\":\"1302\"}},\"width\":{\"value\":0.8},\"x\":{\"field\":\"x\"}},\"id\":\"1320\",\"type\":\"VBar\"},{\"attributes\":{\"source\":{\"id\":\"1279\"}},\"id\":\"1323\",\"type\":\"CDSView\"},{\"attributes\":{\"source\":{\"id\":\"1389\"}},\"id\":\"1433\",\"type\":\"CDSView\"},{\"attributes\":{\"bottom\":{\"expr\":{\"id\":\"1411\"}},\"fill_alpha\":{\"value\":0.1},\"fill_color\":{\"value\":\"red\"},\"line_alpha\":{\"value\":0.1},\"line_color\":{\"value\":null},\"line_width\":{\"value\":0},\"top\":{\"expr\":{\"id\":\"1412\"}},\"width\":{\"value\":0.8},\"x\":{\"field\":\"x\"}},\"id\":\"1431\",\"type\":\"VBar\"},{\"attributes\":{\"label\":{\"value\":\"missing\"},\"renderers\":[{\"id\":\"1432\"}]},\"id\":\"1443\",\"type\":\"LegendItem\"},{\"attributes\":{},\"id\":\"1095\",\"type\":\"UnionRenderers\"},{\"attributes\":{\"data_source\":{\"id\":\"1389\"},\"glyph\":{\"id\":\"1430\"},\"hover_glyph\":null,\"muted_glyph\":null,\"name\":\"missing\",\"nonselection_glyph\":{\"id\":\"1431\"},\"view\":{\"id\":\"1433\"}},\"id\":\"1432\",\"type\":\"GlyphRenderer\"},{\"attributes\":{\"bottom\":{\"expr\":{\"id\":\"1299\"}},\"fill_alpha\":{\"value\":0.5},\"fill_color\":{\"value\":\"blue\"},\"line_alpha\":{\"value\":0.5},\"line_color\":{\"value\":null},\"line_width\":{\"value\":0},\"top\":{\"expr\":{\"id\":\"1300\"}},\"width\":{\"value\":0.8},\"x\":{\"field\":\"x\"}},\"id\":\"1304\",\"type\":\"VBar\"},{\"attributes\":{},\"id\":\"1096\",\"type\":\"Selection\"},{\"attributes\":{},\"id\":\"1205\",\"type\":\"UnionRenderers\"},{\"attributes\":{\"fields\":[\"null\",\"missing\"]},\"id\":\"1302\",\"type\":\"Stack\"},{\"attributes\":{},\"id\":\"1206\",\"type\":\"Selection\"},{\"attributes\":{\"source\":{\"id\":\"1279\"}},\"id\":\"1307\",\"type\":\"CDSView\"},{\"attributes\":{},\"id\":\"1474\",\"type\":\"BasicTickFormatter\"},{\"attributes\":{\"bottom\":{\"expr\":{\"id\":\"1299\"}},\"fill_alpha\":{\"value\":0.1},\"fill_color\":{\"value\":\"blue\"},\"line_alpha\":{\"value\":0.1},\"line_color\":{\"value\":null},\"line_width\":{\"value\":0},\"top\":{\"expr\":{\"id\":\"1300\"}},\"width\":{\"value\":0.8},\"x\":{\"field\":\"x\"}},\"id\":\"1305\",\"type\":\"VBar\"},{\"attributes\":{},\"id\":\"1476\",\"type\":\"AllLabels\"},{\"attributes\":{\"label\":{\"value\":\"null\"},\"renderers\":[{\"id\":\"1306\"}]},\"id\":\"1318\",\"type\":\"LegendItem\"},{\"attributes\":{\"data_source\":{\"id\":\"1279\"},\"glyph\":{\"id\":\"1304\"},\"hover_glyph\":null,\"muted_glyph\":null,\"name\":\"null\",\"nonselection_glyph\":{\"id\":\"1305\"},\"view\":{\"id\":\"1307\"}},\"id\":\"1306\",\"type\":\"GlyphRenderer\"},{\"attributes\":{},\"id\":\"1477\",\"type\":\"CategoricalTickFormatter\"},{\"attributes\":{\"items\":[{\"id\":\"1318\"},{\"id\":\"1333\"}],\"orientation\":\"horizontal\"},\"id\":\"1317\",\"type\":\"Legend\"},{\"attributes\":{},\"id\":\"1479\",\"type\":\"AllLabels\"},{\"attributes\":{},\"id\":\"1457\",\"type\":\"CategoricalTicker\"},{\"attributes\":{},\"id\":\"1480\",\"type\":\"UnionRenderers\"},{\"attributes\":{\"factors\":[[\"CUSTOMER_GROUP\",\"azdias\"],[\"CUSTOMER_GROUP\",\"customers\"],[\"SEMIO_RAT\",\"azdias\"],[\"SEMIO_RAT\",\"customers\"],[\"PRODUCT_GROUP\",\"azdias\"],[\"PRODUCT_GROUP\",\"customers\"],[\"ZABEOTYP\",\"azdias\"],[\"ZABEOTYP\",\"customers\"],[\"ANREDE_KZ\",\"azdias\"],[\"ANREDE_KZ\",\"customers\"],[\"SEMIO_REL\",\"azdias\"],[\"SEMIO_REL\",\"customers\"],[\"SEMIO_ERL\",\"azdias\"],[\"SEMIO_ERL\",\"customers\"],[\"SEMIO_PFLICHT\",\"azdias\"],[\"SEMIO_PFLICHT\",\"customers\"],[\"SEMIO_MAT\",\"azdias\"],[\"SEMIO_MAT\",\"customers\"],[\"FINANZ_UNAUFFAELLIGER\",\"azdias\"],[\"FINANZ_UNAUFFAELLIGER\",\"customers\"],[\"FINANZ_SPARER\",\"azdias\"],[\"FINANZ_SPARER\",\"customers\"],[\"FINANZ_VORSORGER\",\"azdias\"],[\"FINANZ_VORSORGER\",\"customers\"],[\"FINANZ_MINIMALIST\",\"azdias\"],[\"FINANZ_MINIMALIST\",\"customers\"],[\"FINANZ_HAUSBAUER\",\"azdias\"],[\"FINANZ_HAUSBAUER\",\"customers\"],[\"FINANZ_ANLEGER\",\"azdias\"],[\"FINANZ_ANLEGER\",\"customers\"],[\"FINANZTYP\",\"azdias\"],[\"FINANZTYP\",\"customers\"],[\"GEBURTSJAHR\",\"azdias\"],[\"GEBURTSJAHR\",\"customers\"],[\"GREEN_AVANTGARDE\",\"azdias\"],[\"GREEN_AVANTGARDE\",\"customers\"],[\"SEMIO_DOM\",\"azdias\"],[\"SEMIO_DOM\",\"customers\"],[\"SEMIO_FAM\",\"azdias\"],[\"SEMIO_FAM\",\"customers\"],[\"SEMIO_KAEM\",\"azdias\"],[\"SEMIO_KAEM\",\"customers\"],[\"SEMIO_KRIT\",\"azdias\"],[\"SEMIO_KRIT\",\"customers\"],[\"SEMIO_KULT\",\"azdias\"],[\"SEMIO_KULT\",\"customers\"],[\"SEMIO_LUST\",\"azdias\"],[\"SEMIO_LUST\",\"customers\"],[\"ONLINE_PURCHASE\",\"azdias\"],[\"ONLINE_PURCHASE\",\"customers\"]]},\"id\":\"1500\",\"type\":\"FactorRange\"},{\"attributes\":{},\"id\":\"1481\",\"type\":\"Selection\"},{\"attributes\":{\"text\":\"Overview of missing data in datasets (plot 9 of 10)\"},\"id\":\"1447\",\"type\":\"Title\"},{\"attributes\":{\"fields\":[]},\"id\":\"1464\",\"type\":\"Stack\"},{\"attributes\":{\"end\":1.05,\"start\":0},\"id\":\"1450\",\"type\":\"DataRange1d\"},{\"attributes\":{\"formatter\":{\"id\":\"1477\"},\"group_label_orientation\":1.5707963267948966,\"major_label_orientation\":1.5707963267948966,\"major_label_policy\":{\"id\":\"1479\"},\"ticker\":{\"id\":\"1457\"}},\"id\":\"1456\",\"type\":\"CategoricalAxis\"},{\"attributes\":{},\"id\":\"1454\",\"type\":\"LinearScale\"},{\"attributes\":{\"bottom\":{\"expr\":{\"id\":\"1081\"}},\"fill_alpha\":{\"value\":0.5},\"fill_color\":{\"value\":\"red\"},\"line_alpha\":{\"value\":0.5},\"line_color\":{\"value\":null},\"line_width\":{\"value\":0},\"top\":{\"expr\":{\"id\":\"1082\"}},\"width\":{\"value\":0.8},\"x\":{\"field\":\"x\"}},\"id\":\"1100\",\"type\":\"VBar\"},{\"attributes\":{\"formatter\":{\"id\":\"1474\"},\"major_label_policy\":{\"id\":\"1476\"},\"ticker\":{\"id\":\"1460\"}},\"id\":\"1459\",\"type\":\"LinearAxis\"},{\"attributes\":{},\"id\":\"1452\",\"type\":\"CategoricalScale\"},{\"attributes\":{\"bottom\":{\"expr\":{\"id\":\"1191\"}},\"fill_alpha\":{\"value\":0.5},\"fill_color\":{\"value\":\"red\"},\"line_alpha\":{\"value\":0.5},\"line_color\":{\"value\":null},\"line_width\":{\"value\":0},\"top\":{\"expr\":{\"id\":\"1192\"}},\"width\":{\"value\":0.8},\"x\":{\"field\":\"x\"}},\"id\":\"1210\",\"type\":\"VBar\"},{\"attributes\":{\"axis\":{\"id\":\"1456\"},\"grid_line_color\":null,\"ticker\":null},\"id\":\"1458\",\"type\":\"Grid\"},{\"attributes\":{\"fields\":[\"null\"]},\"id\":\"1135\",\"type\":\"Stack\"},{\"attributes\":{\"source\":{\"id\":\"1059\"}},\"id\":\"1103\",\"type\":\"CDSView\"},{\"attributes\":{\"axis\":{\"id\":\"1459\"},\"dimension\":1,\"ticker\":null},\"id\":\"1462\",\"type\":\"Grid\"},{\"attributes\":{\"fields\":[\"null\"]},\"id\":\"1136\",\"type\":\"Stack\"},{\"attributes\":{\"bottom\":{\"expr\":{\"id\":\"1081\"}},\"fill_alpha\":{\"value\":0.1},\"fill_color\":{\"value\":\"red\"},\"line_alpha\":{\"value\":0.1},\"line_color\":{\"value\":null},\"line_width\":{\"value\":0},\"top\":{\"expr\":{\"id\":\"1082\"}},\"width\":{\"value\":0.8},\"x\":{\"field\":\"x\"}},\"id\":\"1101\",\"type\":\"VBar\"},{\"attributes\":{},\"id\":\"1460\",\"type\":\"BasicTicker\"},{\"attributes\":{\"active_multi\":null},\"id\":\"1463\",\"type\":\"Toolbar\"},{\"attributes\":{\"data\":{\"missing\":[0.01752137872831433,0.006210063897763578,0.01752137872831433,0.006210063897763578,0.01752137872831433,0.006210063897763578,0.01752137872831433,0.006210063897763578,0.01752137872831433,0.006210063897763578,0.01752137872831433,0.006210063897763578,0.01752137872831433,0.006210063897763578,0.01752137872831433,0.006210063897763578,0.01752137872831433,0.006210063897763578,0.01752137872831433,0.006210063897763578,0.01752137872831433,0.006210063897763578,0.01752137872831433,0.006210063897763578,0.01752137872831433,0.006210063897763578,0.01752137872831433,0.006210063897763578,0.01752137872831433,0.006210063897763578,0.01752137872831433,0.006210063897763578,0.01752137872831433,0.006210063897763578,0.01752137872831433,0.006210063897763578,0.01752137872831433,0.006210063897763578,0.01752137872831433,0.006210063897763578,0.01752137872831433,0.006210063897763578,0.01752137872831433,0.006210063897763578,0.01752137872831433,0.006210063897763578,0.01752137872831433,0.006210063897763578,0.01752137872831433,0.006210063897763578,0.01752137872831433,0.006210063897763578,0.048059524292004704,0.02125266240681576,0.016441416205159504,0.0057973908413205535,0.015651112504440245,0.005837326943556976,0.0,0.0,0.0,0.0,0.0,0.0],\"null\":[0.09677107893739316,0.09803647497337593,0.09677107893739316,0.09803647497337593,0.09677107893739316,0.09803647497337593,0.09677107893739316,0.09803647497337593,0.09677107893739316,0.09803647497337593,0.09677107893739316,0.09803647497337593,0.09677107893739316,0.09803647497337593,0.09677107893739316,0.09803647497337593,0.09677107893739316,0.09803647497337593,0.09677107893739316,0.09803647497337593,0.09677107893739316,0.09803647497337593,0.09677107893739316,0.09803647497337593,0.09677107893739316,0.09803647497337593,0.09677107893739316,0.09803647497337593,0.09677107893739316,0.09803647497337593,0.09677107893739316,0.09803647497337593,0.09677107893739316,0.09803647497337593,0.09677107893739316,0.09803647497337593,0.09677107893739316,0.09803647497337593,0.09677107893739316,0.09803647497337593,0.09677107893739316,0.09803647497337593,0.09677107893739316,0.09803647497337593,0.09677107893739316,0.09803647497337593,0.09677107893739316,0.09803647497337593,0.09677107893739316,0.09803647497337593,0.09677107893739316,0.09803647497337593,0.06618167687425947,0.08312699680511182,0.09677107893739316,0.09803647497337593,0.09677107893739316,0.09803647497337593,0.09677107893739316,0.09803647497337593,0.09677107893739316,0.09803647497337593,0.09677107893739316,0.09803647497337593],\"x\":[[\"KBA05_VORB0\",\"azdias\"],[\"KBA05_VORB0\",\"customers\"],[\"KBA05_SEG8\",\"azdias\"],[\"KBA05_SEG8\",\"customers\"],[\"KBA05_MOD8\",\"azdias\"],[\"KBA05_MOD8\",\"customers\"],[\"KBA05_SEG7\",\"azdias\"],[\"KBA05_SEG7\",\"customers\"],[\"KBA05_SEG5\",\"azdias\"],[\"KBA05_SEG5\",\"customers\"],[\"KBA05_SEG4\",\"azdias\"],[\"KBA05_SEG4\",\"customers\"],[\"KBA05_SEG3\",\"azdias\"],[\"KBA05_SEG3\",\"customers\"],[\"KBA05_SEG2\",\"azdias\"],[\"KBA05_SEG2\",\"customers\"],[\"KBA05_SEG10\",\"azdias\"],[\"KBA05_SEG10\",\"customers\"],[\"KBA05_SEG1\",\"azdias\"],[\"KBA05_SEG1\",\"customers\"],[\"KBA05_MOTOR\",\"azdias\"],[\"KBA05_MOTOR\",\"customers\"],[\"KBA05_KRSAQUOT\",\"azdias\"],[\"KBA05_KRSAQUOT\",\"customers\"],[\"KBA05_CCM4\",\"azdias\"],[\"KBA05_CCM4\",\"customers\"],[\"KBA05_HERST4\",\"azdias\"],[\"KBA05_HERST4\",\"customers\"],[\"KBA05_HERST3\",\"azdias\"],[\"KBA05_HERST3\",\"customers\"],[\"KBA05_HERST2\",\"azdias\"],[\"KBA05_HERST2\",\"customers\"],[\"KBA05_HERST1\",\"azdias\"],[\"KBA05_HERST1\",\"customers\"],[\"KBA05_FRAU\",\"azdias\"],[\"KBA05_FRAU\",\"customers\"],[\"KBA05_DIESEL\",\"azdias\"],[\"KBA05_DIESEL\",\"customers\"],[\"KBA05_CCM3\",\"azdias\"],[\"KBA05_CCM3\",\"customers\"],[\"KBA05_CCM2\",\"azdias\"],[\"KBA05_CCM2\",\"customers\"],[\"KBA05_CCM1\",\"azdias\"],[\"KBA05_CCM1\",\"customers\"],[\"KBA05_ALTER1\",\"azdias\"],[\"KBA05_ALTER1\",\"customers\"],[\"KBA05_ALTER2\",\"azdias\"],[\"KBA05_ALTER2\",\"customers\"],[\"KBA05_ALTER3\",\"azdias\"],[\"KBA05_ALTER3\",\"customers\"],[\"KBA05_ALTER4\",\"azdias\"],[\"KBA05_ALTER4\",\"customers\"],[\"W_KEIT_KIND_HH\",\"azdias\"],[\"W_KEIT_KIND_HH\",\"customers\"],[\"KBA05_ANHANG\",\"azdias\"],[\"KBA05_ANHANG\",\"customers\"],[\"KBA05_MOTRAD\",\"azdias\"],[\"KBA05_MOTRAD\",\"customers\"],[\"MOBI_REGIO\",\"azdias\"],[\"MOBI_REGIO\",\"customers\"],[\"KBA05_ANTG1\",\"azdias\"],[\"KBA05_ANTG1\",\"customers\"],[\"KBA05_ANTG3\",\"azdias\"],[\"KBA05_ANTG3\",\"customers\"]]},\"selected\":{\"id\":\"1206\"},\"selection_policy\":{\"id\":\"1205\"}},\"id\":\"1169\",\"type\":\"ColumnDataSource\"},{\"attributes\":{\"source\":{\"id\":\"1169\"}},\"id\":\"1213\",\"type\":\"CDSView\"},{\"attributes\":{\"factors\":[[\"KBA05_ANTG4\",\"azdias\"],[\"KBA05_ANTG4\",\"customers\"],[\"KBA05_GBZ\",\"azdias\"],[\"KBA05_GBZ\",\"customers\"],[\"KBA05_ANTG2\",\"azdias\"],[\"KBA05_ANTG2\",\"customers\"],[\"PLZ8_HHZ\",\"azdias\"],[\"PLZ8_HHZ\",\"customers\"],[\"PLZ8_ANTG3\",\"azdias\"],[\"PLZ8_ANTG3\",\"customers\"],[\"PLZ8_ANTG4\",\"azdias\"],[\"PLZ8_ANTG4\",\"customers\"],[\"PLZ8_BAUMAX\",\"azdias\"],[\"PLZ8_BAUMAX\",\"customers\"],[\"PLZ8_GBZ\",\"azdias\"],[\"PLZ8_GBZ\",\"customers\"],[\"PLZ8_ANTG1\",\"azdias\"],[\"PLZ8_ANTG1\",\"customers\"],[\"PLZ8_ANTG2\",\"azdias\"],[\"PLZ8_ANTG2\",\"customers\"],[\"HEALTH_TYP\",\"azdias\"],[\"HEALTH_TYP\",\"customers\"],[\"VERS_TYP\",\"azdias\"],[\"VERS_TYP\",\"customers\"],[\"SHOPPER_TYP\",\"azdias\"],[\"SHOPPER_TYP\",\"customers\"],[\"KBA05_HERSTTEMP\",\"azdias\"],[\"KBA05_HERSTTEMP\",\"customers\"],[\"NATIONALITAET_KZ\",\"azdias\"],[\"NATIONALITAET_KZ\",\"customers\"],[\"PRAEGENDE_JUGENDJAHRE\",\"azdias\"],[\"PRAEGENDE_JUGENDJAHRE\",\"customers\"],[\"KBA13_NISSAN\",\"azdias\"],[\"KBA13_NISSAN\",\"customers\"],[\"KBA13_KRSSEG_KLEIN\",\"azdias\"],[\"KBA13_KRSSEG_KLEIN\",\"customers\"],[\"KBA13_MERCEDES\",\"azdias\"],[\"KBA13_MERCEDES\",\"customers\"],[\"KBA13_MAZDA\",\"azdias\"],[\"KBA13_MAZDA\",\"customers\"],[\"KBA13_KW_90\",\"azdias\"],[\"KBA13_KW_90\",\"customers\"],[\"KBA13_KW_80\",\"azdias\"],[\"KBA13_KW_80\",\"customers\"],[\"KBA13_KW_70\",\"azdias\"],[\"KBA13_KW_70\",\"customers\"],[\"KBA13_KW_61_120\",\"azdias\"],[\"KBA13_KW_61_120\",\"customers\"],[\"KBA13_KW_60\",\"azdias\"],[\"KBA13_KW_60\",\"customers\"],[\"KBA13_KW_50\",\"azdias\"],[\"KBA13_KW_50\",\"customers\"],[\"KBA13_KW_40\",\"azdias\"],[\"KBA13_KW_40\",\"customers\"],[\"KBA13_KW_30\",\"azdias\"],[\"KBA13_KW_30\",\"customers\"],[\"KBA13_KW_121\",\"azdias\"],[\"KBA13_KW_121\",\"customers\"],[\"KBA13_KW_120\",\"azdias\"],[\"KBA13_KW_120\",\"customers\"],[\"KBA13_KW_110\",\"azdias\"],[\"KBA13_KW_110\",\"customers\"],[\"KBA13_KW_0_60\",\"azdias\"],[\"KBA13_KW_0_60\",\"customers\"]]},\"id\":\"1225\",\"type\":\"FactorRange\"},{\"attributes\":{\"label\":{\"value\":\"missing\"},\"renderers\":[{\"id\":\"1102\"}]},\"id\":\"1113\",\"type\":\"LegendItem\"},{\"attributes\":{\"data_source\":{\"id\":\"1059\"},\"glyph\":{\"id\":\"1100\"},\"hover_glyph\":null,\"muted_glyph\":null,\"name\":\"missing\",\"nonselection_glyph\":{\"id\":\"1101\"},\"view\":{\"id\":\"1103\"}},\"id\":\"1102\",\"type\":\"GlyphRenderer\"},{\"attributes\":{\"bottom\":{\"expr\":{\"id\":\"1191\"}},\"fill_alpha\":{\"value\":0.1},\"fill_color\":{\"value\":\"red\"},\"line_alpha\":{\"value\":0.1},\"line_color\":{\"value\":null},\"line_width\":{\"value\":0},\"top\":{\"expr\":{\"id\":\"1192\"}},\"width\":{\"value\":0.8},\"x\":{\"field\":\"x\"}},\"id\":\"1211\",\"type\":\"VBar\"},{\"attributes\":{\"data\":{\"missing\":[0.0,0.0,0.0,0.0,0.0,0.0,0.0,0.0,0.0,0.0,0.0,0.0,0.0,0.0,0.0,0.0,0.0,0.0,0.0,0.0,0.0,0.0,0.0,0.0,0.0,0.0,0.0,0.0,0.0,0.0,0.0,0.0,0.0,0.0,0.0,0.0,0.0,0.0,0.0,0.0,0.0,0.0,0.0,0.0,0.0,0.0,0.0,0.0,0.0,0.0,0.0,0.0,0.0,0.0,0.0,0.0,0.0,0.0,0.0,0.0,0.0,0.0,0.0,0.0],\"null\":[0.06395142314266711,0.06677316293929712,0.06395142314266711,0.06677316293929712,0.06395142314266711,0.06677316293929712,0.06395142314266711,0.06677316293929712,0.06395142314266711,0.06677316293929712,0.06395142314266711,0.06677316293929712,0.06395142314266711,0.06677316293929712,0.06395142314266711,0.06677316293929712,0.06395142314266711,0.06677316293929712,0.06395142314266711,0.06677316293929712,0.06395142314266711,0.06677316293929712,0.06395142314266711,0.06677316293929712,0.06395142314266711,0.06677316293929712,0.06395142314266711,0.06677316293929712,0.06395142314266711,0.06677316293929712,0.06395142314266711,0.06677316293929712,0.06395142314266711,0.06677316293929712,0.06395142314266711,0.06677316293929712,0.06395142314266711,0.06677316293929712,0.06395142314266711,0.06677316293929712,0.06395142314266711,0.06677316293929712,0.06395142314266711,0.06677316293929712,0.06395142314266711,0.06677316293929712,0.06395142314266711,0.06677316293929712,0.06395142314266711,0.06677316293929712,0.06395142314266711,0.06677316293929712,0.06395142314266711,0.06677316293929712,0.06395142314266711,0.06677316293929712,0.06395142314266711,0.06677316293929712,0.06395142314266711,0.06677316293929712,0.06395142314266711,0.06677316293929712,0.06395142314266711,0.06677316293929712],\"x\":[[\"KBA13_KMH_211\",\"azdias\"],[\"KBA13_KMH_211\",\"customers\"],[\"KBA13_KMH_250\",\"azdias\"],[\"KBA13_KMH_250\",\"customers\"],[\"KBA13_KRSZUL_NEU\",\"azdias\"],[\"KBA13_KRSZUL_NEU\",\"customers\"],[\"KBA13_KRSSEG_VAN\",\"azdias\"],[\"KBA13_KRSSEG_VAN\",\"customers\"],[\"KBA13_KRSSEG_OBER\",\"azdias\"],[\"KBA13_KRSSEG_OBER\",\"customers\"],[\"KBA13_KMH_251\",\"azdias\"],[\"KBA13_KMH_251\",\"customers\"],[\"KBA13_KMH_180\",\"azdias\"],[\"KBA13_KMH_180\",\"customers\"],[\"KBA13_KRSAQUOT\",\"azdias\"],[\"KBA13_KRSAQUOT\",\"customers\"],[\"KBA13_KRSHERST_AUDI_VW\",\"azdias\"],[\"KBA13_KRSHERST_AUDI_VW\",\"customers\"],[\"KBA13_KRSHERST_BMW_BENZ\",\"azdias\"],[\"KBA13_KRSHERST_BMW_BENZ\",\"customers\"],[\"KBA13_KRSHERST_FORD_OPEL\",\"azdias\"],[\"KBA13_KRSHERST_FORD_OPEL\",\"customers\"],[\"KBA13_MOTOR\",\"azdias\"],[\"KBA13_MOTOR\",\"customers\"],[\"KBA13_SEG_VAN\",\"azdias\"],[\"KBA13_SEG_VAN\",\"customers\"],[\"KBA13_OPEL\",\"azdias\"],[\"KBA13_OPEL\",\"customers\"],[\"KBA13_SEG_UTILITIES\",\"azdias\"],[\"KBA13_SEG_UTILITIES\",\"customers\"],[\"KBA13_KMH_140\",\"azdias\"],[\"KBA13_KMH_140\",\"customers\"],[\"KBA13_TOYOTA\",\"azdias\"],[\"KBA13_TOYOTA\",\"customers\"],[\"KBA13_VORB_0\",\"azdias\"],[\"KBA13_VORB_0\",\"customers\"],[\"KBA13_SITZE_6\",\"azdias\"],[\"KBA13_SITZE_6\",\"customers\"],[\"KBA13_VORB_1\",\"azdias\"],[\"KBA13_VORB_1\",\"customers\"],[\"KBA13_VORB_1_2\",\"azdias\"],[\"KBA13_VORB_1_2\",\"customers\"],[\"KBA13_VORB_2\",\"azdias\"],[\"KBA13_VORB_2\",\"customers\"],[\"KBA13_VORB_3\",\"azdias\"],[\"KBA13_VORB_3\",\"customers\"],[\"KBA13_VW\",\"azdias\"],[\"KBA13_VW\",\"customers\"],[\"KBA13_SITZE_5\",\"azdias\"],[\"KBA13_SITZE_5\",\"customers\"],[\"KBA13_SITZE_4\",\"azdias\"],[\"KBA13_SITZE_4\",\"customers\"],[\"KBA13_SEG_WOHNMOBILE\",\"azdias\"],[\"KBA13_SEG_WOHNMOBILE\",\"customers\"],[\"KBA13_SEG_SPORTWAGEN\",\"azdias\"],[\"KBA13_SEG_SPORTWAGEN\",\"customers\"],[\"KBA13_PEUGEOT\",\"azdias\"],[\"KBA13_PEUGEOT\",\"customers\"],[\"KBA13_SEG_SONSTIGE\",\"azdias\"],[\"KBA13_SEG_SONSTIGE\",\"customers\"],[\"KBA13_SEG_OBERKLASSE\",\"azdias\"],[\"KBA13_SEG_OBERKLASSE\",\"customers\"],[\"KBA13_SEG_OBEREMITTELKLASSE\",\"azdias\"],[\"KBA13_SEG_OBEREMITTELKLASSE\",\"customers\"]]},\"selected\":{\"id\":\"1316\"},\"selection_policy\":{\"id\":\"1315\"}},\"id\":\"1279\",\"type\":\"ColumnDataSource\"},{\"attributes\":{},\"id\":\"1309\",\"type\":\"BasicTickFormatter\"},{\"attributes\":{\"fields\":[\"null\"]},\"id\":\"1465\",\"type\":\"Stack\"},{\"attributes\":{\"label\":{\"value\":\"missing\"},\"renderers\":[{\"id\":\"1212\"}]},\"id\":\"1223\",\"type\":\"LegendItem\"},{\"attributes\":{\"data_source\":{\"id\":\"1169\"},\"glyph\":{\"id\":\"1210\"},\"hover_glyph\":null,\"muted_glyph\":null,\"name\":\"missing\",\"nonselection_glyph\":{\"id\":\"1211\"},\"view\":{\"id\":\"1213\"}},\"id\":\"1212\",\"type\":\"GlyphRenderer\"},{\"attributes\":{},\"id\":\"1311\",\"type\":\"AllLabels\"},{\"attributes\":{},\"id\":\"1312\",\"type\":\"CategoricalTickFormatter\"},{\"attributes\":{},\"id\":\"1314\",\"type\":\"AllLabels\"},{\"attributes\":{\"fields\":[\"null\"]},\"id\":\"1466\",\"type\":\"Stack\"},{\"attributes\":{\"bottom\":{\"expr\":{\"id\":\"1464\"}},\"fill_alpha\":{\"value\":0.5},\"fill_color\":{\"value\":\"blue\"},\"line_alpha\":{\"value\":0.5},\"line_color\":{\"value\":null},\"line_width\":{\"value\":0},\"top\":{\"expr\":{\"id\":\"1465\"}},\"width\":{\"value\":0.8},\"x\":{\"field\":\"x\"}},\"id\":\"1469\",\"type\":\"VBar\"},{\"attributes\":{\"bottom\":{\"expr\":{\"id\":\"1464\"}},\"fill_alpha\":{\"value\":0.1},\"fill_color\":{\"value\":\"blue\"},\"line_alpha\":{\"value\":0.1},\"line_color\":{\"value\":null},\"line_width\":{\"value\":0},\"top\":{\"expr\":{\"id\":\"1465\"}},\"width\":{\"value\":0.8},\"x\":{\"field\":\"x\"}},\"id\":\"1470\",\"type\":\"VBar\"},{\"attributes\":{\"fields\":[\"null\",\"missing\"]},\"id\":\"1467\",\"type\":\"Stack\"},{\"attributes\":{\"fields\":[\"null\"]},\"id\":\"1521\",\"type\":\"Stack\"},{\"attributes\":{\"data_source\":{\"id\":\"1444\"},\"glyph\":{\"id\":\"1469\"},\"hover_glyph\":null,\"muted_glyph\":null,\"name\":\"null\",\"nonselection_glyph\":{\"id\":\"1470\"},\"view\":{\"id\":\"1472\"}},\"id\":\"1471\",\"type\":\"GlyphRenderer\"},{\"attributes\":{\"label\":{\"value\":\"null\"},\"renderers\":[{\"id\":\"1471\"}]},\"id\":\"1483\",\"type\":\"LegendItem\"},{\"attributes\":{\"source\":{\"id\":\"1444\"}},\"id\":\"1472\",\"type\":\"CDSView\"},{\"attributes\":{\"bottom\":{\"expr\":{\"id\":\"1354\"}},\"fill_alpha\":{\"value\":0.5},\"fill_color\":{\"value\":\"blue\"},\"line_alpha\":{\"value\":0.5},\"line_color\":{\"value\":null},\"line_width\":{\"value\":0},\"top\":{\"expr\":{\"id\":\"1355\"}},\"width\":{\"value\":0.8},\"x\":{\"field\":\"x\"}},\"id\":\"1359\",\"type\":\"VBar\"},{\"attributes\":{},\"id\":\"1529\",\"type\":\"BasicTickFormatter\"},{\"attributes\":{\"fields\":[\"null\",\"missing\"]},\"id\":\"1357\",\"type\":\"Stack\"},{\"attributes\":{\"source\":{\"id\":\"1334\"}},\"id\":\"1362\",\"type\":\"CDSView\"},{\"attributes\":{},\"id\":\"1531\",\"type\":\"AllLabels\"},{\"attributes\":{\"bottom\":{\"expr\":{\"id\":\"1354\"}},\"fill_alpha\":{\"value\":0.1},\"fill_color\":{\"value\":\"blue\"},\"line_alpha\":{\"value\":0.1},\"line_color\":{\"value\":null},\"line_width\":{\"value\":0},\"top\":{\"expr\":{\"id\":\"1355\"}},\"width\":{\"value\":0.8},\"x\":{\"field\":\"x\"}},\"id\":\"1360\",\"type\":\"VBar\"},{\"attributes\":{},\"id\":\"1532\",\"type\":\"CategoricalTickFormatter\"},{\"attributes\":{\"label\":{\"value\":\"null\"},\"renderers\":[{\"id\":\"1361\"}]},\"id\":\"1373\",\"type\":\"LegendItem\"},{\"attributes\":{\"data_source\":{\"id\":\"1334\"},\"glyph\":{\"id\":\"1359\"},\"hover_glyph\":null,\"muted_glyph\":null,\"name\":\"null\",\"nonselection_glyph\":{\"id\":\"1360\"},\"view\":{\"id\":\"1362\"}},\"id\":\"1361\",\"type\":\"GlyphRenderer\"},{\"attributes\":{},\"id\":\"1534\",\"type\":\"AllLabels\"},{\"attributes\":{\"items\":[{\"id\":\"1373\"},{\"id\":\"1388\"}],\"orientation\":\"horizontal\"},\"id\":\"1372\",\"type\":\"Legend\"},{\"attributes\":{},\"id\":\"1535\",\"type\":\"UnionRenderers\"},{\"attributes\":{},\"id\":\"1536\",\"type\":\"Selection\"},{\"attributes\":{},\"id\":\"1364\",\"type\":\"BasicTickFormatter\"},{\"attributes\":{},\"id\":\"1366\",\"type\":\"AllLabels\"},{\"attributes\":{},\"id\":\"1367\",\"type\":\"CategoricalTickFormatter\"},{\"attributes\":{\"factors\":[[\"D19_KOSMETIK\",\"azdias\"],[\"D19_KOSMETIK\",\"customers\"],[\"D19_REISEN\",\"azdias\"],[\"D19_REISEN\",\"customers\"],[\"D19_VERSAND_REST\",\"azdias\"],[\"D19_VERSAND_REST\",\"customers\"],[\"D19_BANKEN_DIREKT\",\"azdias\"],[\"D19_BANKEN_DIREKT\",\"customers\"],[\"D19_BANKEN_ONLINE_DATUM\",\"azdias\"],[\"D19_BANKEN_ONLINE_DATUM\",\"customers\"],[\"D19_TELKO_MOBILE\",\"azdias\"],[\"D19_TELKO_MOBILE\",\"customers\"],[\"D19_HAUS_DEKO\",\"azdias\"],[\"D19_HAUS_DEKO\",\"customers\"],[\"D19_BEKLEIDUNG_REST\",\"azdias\"],[\"D19_BEKLEIDUNG_REST\",\"customers\"],[\"D19_BANKEN_DATUM\",\"azdias\"],[\"D19_BANKEN_DATUM\",\"customers\"],[\"AGER_TYP\",\"azdias\"],[\"AGER_TYP\",\"customers\"],[\"D19_TELKO_DATUM\",\"azdias\"],[\"D19_TELKO_DATUM\",\"customers\"],[\"D19_VERSICHERUNGEN\",\"azdias\"],[\"D19_VERSICHERUNGEN\",\"customers\"],[\"D19_VERSAND_ANZ_12\",\"azdias\"],[\"D19_VERSAND_ANZ_12\",\"customers\"],[\"D19_VERSAND_OFFLINE_DATUM\",\"azdias\"],[\"D19_VERSAND_OFFLINE_DATUM\",\"customers\"],[\"D19_TECHNIK\",\"azdias\"],[\"D19_TECHNIK\",\"customers\"],[\"D19_BUCH_CD\",\"azdias\"],[\"D19_BUCH_CD\",\"customers\"],[\"D19_VOLLSORTIMENT\",\"azdias\"],[\"D19_VOLLSORTIMENT\",\"customers\"],[\"D19_GESAMT_ANZ_12\",\"azdias\"],[\"D19_GESAMT_ANZ_12\",\"customers\"],[\"KK_KUNDENTYP\",\"azdias\"],[\"KK_KUNDENTYP\",\"customers\"],[\"D19_VERSAND_ANZ_24\",\"azdias\"],[\"D19_VERSAND_ANZ_24\",\"customers\"],[\"D19_GESAMT_OFFLINE_DATUM\",\"azdias\"],[\"D19_GESAMT_OFFLINE_DATUM\",\"customers\"],[\"D19_SONSTIGE\",\"azdias\"],[\"D19_SONSTIGE\",\"customers\"],[\"D19_GESAMT_ANZ_24\",\"azdias\"],[\"D19_GESAMT_ANZ_24\",\"customers\"],[\"D19_VERSAND_ONLINE_DATUM\",\"azdias\"],[\"D19_VERSAND_ONLINE_DATUM\",\"customers\"],[\"KBA05_BAUMAX\",\"azdias\"],[\"KBA05_BAUMAX\",\"customers\"],[\"D19_GESAMT_ONLINE_DATUM\",\"azdias\"],[\"D19_GESAMT_ONLINE_DATUM\",\"customers\"],[\"D19_VERSAND_DATUM\",\"azdias\"],[\"D19_VERSAND_DATUM\",\"customers\"],[\"D19_GESAMT_DATUM\",\"azdias\"],[\"D19_GESAMT_DATUM\",\"customers\"],[\"ALTER_HH\",\"azdias\"],[\"ALTER_HH\",\"customers\"],[\"D19_GESAMT_ONLINE_QUOTE_12\",\"azdias\"],[\"D19_GESAMT_ONLINE_QUOTE_12\",\"customers\"],[\"D19_KONSUMTYP\",\"azdias\"],[\"D19_KONSUMTYP\",\"customers\"],[\"D19_VERSAND_ONLINE_QUOTE_12\",\"azdias\"],[\"D19_VERSAND_ONLINE_QUOTE_12\",\"customers\"]]},\"id\":\"1060\",\"type\":\"FactorRange\"},{\"attributes\":{},\"id\":\"1369\",\"type\":\"AllLabels\"},{\"attributes\":{\"bottom\":{\"expr\":{\"id\":\"1521\"}},\"fill_alpha\":{\"value\":0.5},\"fill_color\":{\"value\":\"red\"},\"line_alpha\":{\"value\":0.5},\"line_color\":{\"value\":null},\"line_width\":{\"value\":0},\"top\":{\"expr\":{\"id\":\"1522\"}},\"width\":{\"value\":0.8},\"x\":{\"field\":\"x\"}},\"id\":\"1540\",\"type\":\"VBar\"},{\"attributes\":{\"below\":[{\"id\":\"1016\"}],\"center\":[{\"id\":\"1018\"},{\"id\":\"1022\"},{\"id\":\"1042\"}],\"height\":500,\"left\":[{\"id\":\"1019\"}],\"renderers\":[{\"id\":\"1031\"},{\"id\":\"1047\"}],\"title\":{\"id\":\"1007\"},\"toolbar\":{\"id\":\"1023\"},\"toolbar_location\":null,\"width\":950,\"x_range\":{\"id\":\"1005\"},\"x_scale\":{\"id\":\"1012\"},\"y_range\":{\"id\":\"1010\"},\"y_scale\":{\"id\":\"1014\"}},\"id\":\"1006\",\"subtype\":\"Figure\",\"type\":\"Plot\"},{\"attributes\":{\"below\":[{\"id\":\"1126\"}],\"center\":[{\"id\":\"1128\"},{\"id\":\"1132\"},{\"id\":\"1152\"}],\"height\":500,\"left\":[{\"id\":\"1129\"}],\"renderers\":[{\"id\":\"1141\"},{\"id\":\"1157\"}],\"title\":{\"id\":\"1117\"},\"toolbar\":{\"id\":\"1133\"},\"toolbar_location\":null,\"width\":950,\"x_range\":{\"id\":\"1115\"},\"x_scale\":{\"id\":\"1122\"},\"y_range\":{\"id\":\"1120\"},\"y_scale\":{\"id\":\"1124\"}},\"id\":\"1116\",\"subtype\":\"Figure\",\"type\":\"Plot\"},{\"attributes\":{\"data\":{\"missing\":[0.9718935581308304,0.9489749733759318,0.9902219287224735,0.985802715654952,0.9803604166318997,0.9713591586794462,0.9765340593478743,0.9504659211927583,0.9603882620232251,0.952209797657082,0.9599960902019029,0.9460529818956337,0.9557203445390372,0.8862220447284345,0.9535103550048991,0.9477302981895633,0.9534579064938409,0.8833200212992546,0.9528023001056122,0.9223109691160809,0.9364574368412646,0.862533280085197,0.9343451922595534,0.8323282747603834,0.9290908050608045,0.9235356762513312,0.9268533992595224,0.8754792332268371,0.9225037488765291,0.9119675186368477,0.9172016812131818,0.8975838658146965,0.916640243742535,0.9041666666666667,0.9140476184799945,0.8938099041533546,0.9069456132780558,0.7613019169329074,0.9023539845372254,0.7513578274760383,0.8973081993710946,0.7979832268370607,0.8937488526888206,0.6906616080937167,0.8842306399433556,0.8806709265175718,0.8802350170100057,0.8318690095846646,0.8738017303240603,0.889776357827476,0.8638913457572731,0.8483027156549521,0.8591078031464339,0.8142904685835995,0.8535732932181691,0.6801184771033014,0.8507029292493427,0.8470913205537807,0.8447917436507502,0.7950745473908413,0.8309060003480674,0.7473575612353568,0.5850834050526988,0.5868743343982961],\"null\":[0.025531696780853434,0.03564297124600639,0.0,0.0,0.0,0.0,0.0,0.0,0.0,0.0,0.0,0.0,0.0,0.0,0.0,0.0,0.0,0.0,0.0,0.0,0.0,0.0,0.0,0.0,0.0,0.0,0.0,0.0,0.0,0.0,0.0,0.0,0.0,0.0,0.0,0.0,0.0,0.0,0.0,0.0,0.0,0.0,0.0,0.0,0.0,0.0,0.0,0.0,0.0,0.0,0.0,0.0,0.0,0.0,0.0,0.0,0.0,0.0,0.0,0.0,0.0,0.0,0.24414305092988825,0.04296458998935037],\"x\":[[\"TITEL_KZ\",\"azdias\"],[\"TITEL_KZ\",\"customers\"],[\"D19_TELKO_ONLINE_DATUM\",\"azdias\"],[\"D19_TELKO_ONLINE_DATUM\",\"customers\"],[\"D19_BANKEN_LOKAL\",\"azdias\"],[\"D19_BANKEN_LOKAL\",\"customers\"],[\"D19_BANKEN_OFFLINE_DATUM\",\"azdias\"],[\"D19_BANKEN_OFFLINE_DATUM\",\"customers\"],[\"D19_TELKO_ANZ_12\",\"azdias\"],[\"D19_TELKO_ANZ_12\",\"customers\"],[\"D19_DIGIT_SERV\",\"azdias\"],[\"D19_DIGIT_SERV\",\"customers\"],[\"D19_BIO_OEKO\",\"azdias\"],[\"D19_BIO_OEKO\",\"customers\"],[\"D19_TIERARTIKEL\",\"azdias\"],[\"D19_TIERARTIKEL\",\"customers\"],[\"D19_NAHRUNGSERGAENZUNG\",\"azdias\"],[\"D19_NAHRUNGSERGAENZUNG\",\"customers\"],[\"D19_GARTEN\",\"azdias\"],[\"D19_GARTEN\",\"customers\"],[\"D19_LEBENSMITTEL\",\"azdias\"],[\"D19_LEBENSMITTEL\",\"customers\"],[\"D19_WEIN_FEINKOST\",\"azdias\"],[\"D19_WEIN_FEINKOST\",\"customers\"],[\"D19_BANKEN_ANZ_12\",\"azdias\"],[\"D19_BANKEN_ANZ_12\",\"customers\"],[\"D19_ENERGIE\",\"azdias\"],[\"D19_ENERGIE\",\"customers\"],[\"D19_TELKO_ANZ_24\",\"azdias\"],[\"D19_TELKO_ANZ_24\",\"customers\"],[\"D19_BANKEN_REST\",\"azdias\"],[\"D19_BANKEN_REST\",\"customers\"],[\"D19_VERSI_ANZ_12\",\"azdias\"],[\"D19_VERSI_ANZ_12\",\"customers\"],[\"D19_TELKO_OFFLINE_DATUM\",\"azdias\"],[\"D19_TELKO_OFFLINE_DATUM\",\"customers\"],[\"D19_BILDUNG\",\"azdias\"],[\"D19_BILDUNG\",\"customers\"],[\"D19_BEKLEIDUNG_GEH\",\"azdias\"],[\"D19_BEKLEIDUNG_GEH\",\"customers\"],[\"D19_RATGEBER\",\"azdias\"],[\"D19_RATGEBER\",\"customers\"],[\"D19_SAMMELARTIKEL\",\"azdias\"],[\"D19_SAMMELARTIKEL\",\"customers\"],[\"D19_BANKEN_ANZ_24\",\"azdias\"],[\"D19_BANKEN_ANZ_24\",\"customers\"],[\"D19_FREIZEIT\",\"azdias\"],[\"D19_FREIZEIT\",\"customers\"],[\"D19_BANKEN_GROSS\",\"azdias\"],[\"D19_BANKEN_GROSS\",\"customers\"],[\"D19_VERSI_ANZ_24\",\"azdias\"],[\"D19_VERSI_ANZ_24\",\"customers\"],[\"D19_SCHUHE\",\"azdias\"],[\"D19_SCHUHE\",\"customers\"],[\"D19_HANDWERK\",\"azdias\"],[\"D19_HANDWERK\",\"customers\"],[\"D19_TELKO_REST\",\"azdias\"],[\"D19_TELKO_REST\",\"customers\"],[\"D19_DROGERIEARTIKEL\",\"azdias\"],[\"D19_DROGERIEARTIKEL\",\"customers\"],[\"D19_KINDERARTIKEL\",\"azdias\"],[\"D19_KINDERARTIKEL\",\"customers\"],[\"D19_LOTTO\",\"azdias\"],[\"D19_LOTTO\",\"customers\"]]},\"selected\":{\"id\":\"1041\"},\"selection_policy\":{\"id\":\"1040\"}},\"id\":\"1004\",\"type\":\"ColumnDataSource\"},{\"attributes\":{\"source\":{\"id\":\"1499\"}},\"id\":\"1543\",\"type\":\"CDSView\"},{\"attributes\":{\"data\":{\"missing\":[0.8266993913588694,0.6524094781682641,0.8160761838463354,0.6222044728434505,0.8131176110180017,0.7975772097976571,0.8064053936141554,0.8343517039403621,0.8042252043703914,0.8400359424920127,0.8040130263029283,0.7865415335463258,0.7876776991315003,0.608805910543131,0.763125835898145,0.642332268370607,0.7462326472909152,0.7415202342917998,0.7452480456969572,0.33813232161874335,0.7312931657206068,0.7158879126730564,0.7180213083996291,0.6879858892438765,0.6981242505226971,0.5390109158679446,0.6936673190943573,0.39116080937167197,0.6887443111245676,0.5064430244941427,0.6800247461611266,0.4102369542066028,0.6528635695026213,0.44557374866879657,0.6347390328971365,0.47048722044728436,0.0,0.0,0.6097318212268661,0.40725505857294997,0.6034618401321703,0.3195953141640043,0.5407596451619825,0.23497071352502663,0.5399812615774128,0.3356895633652822,0.5270610476828487,0.3747870074547391,0.4090447457320024,0.3560503194888179,0.47524549479210126,0.323169595314164,0.4596194145315752,0.21217385516506923,0.35982897017348536,0.12836794462193823,0.28196677148422133,0.1472444089456869,0.0,0.0,0.0,0.0,0.0,0.0],\"null\":[0.0,0.0,0.0,0.0,0.0,0.0,0.0,0.0,0.0,0.0,0.0,0.0,0.0,0.0,0.0,0.0,0.0,0.0,0.0,0.0,0.0,0.0,0.0,0.0,0.0,0.0,0.0,0.0,0.0,0.0,0.0,0.0,0.0,0.0,0.0,0.0,0.6345185107483687,0.4700745473908413,0.0,0.0,0.0,0.0,0.0,0.0,0.0,0.0,0.0,0.0,0.09677107893739316,0.09803647497337593,0.0,0.0,0.0,0.0,0.0,0.0,0.025531696780853434,0.03564297124600639,0.24414305092988825,0.04296458998935037,0.24414305092988825,0.04296458998935037,0.24414305092988825,0.04296458998935037],\"x\":[[\"D19_KOSMETIK\",\"azdias\"],[\"D19_KOSMETIK\",\"customers\"],[\"D19_REISEN\",\"azdias\"],[\"D19_REISEN\",\"customers\"],[\"D19_VERSAND_REST\",\"azdias\"],[\"D19_VERSAND_REST\",\"customers\"],[\"D19_BANKEN_DIREKT\",\"azdias\"],[\"D19_BANKEN_DIREKT\",\"customers\"],[\"D19_BANKEN_ONLINE_DATUM\",\"azdias\"],[\"D19_BANKEN_ONLINE_DATUM\",\"customers\"],[\"D19_TELKO_MOBILE\",\"azdias\"],[\"D19_TELKO_MOBILE\",\"customers\"],[\"D19_HAUS_DEKO\",\"azdias\"],[\"D19_HAUS_DEKO\",\"customers\"],[\"D19_BEKLEIDUNG_REST\",\"azdias\"],[\"D19_BEKLEIDUNG_REST\",\"customers\"],[\"D19_BANKEN_DATUM\",\"azdias\"],[\"D19_BANKEN_DATUM\",\"customers\"],[\"AGER_TYP\",\"azdias\"],[\"AGER_TYP\",\"customers\"],[\"D19_TELKO_DATUM\",\"azdias\"],[\"D19_TELKO_DATUM\",\"customers\"],[\"D19_VERSICHERUNGEN\",\"azdias\"],[\"D19_VERSICHERUNGEN\",\"customers\"],[\"D19_VERSAND_ANZ_12\",\"azdias\"],[\"D19_VERSAND_ANZ_12\",\"customers\"],[\"D19_VERSAND_OFFLINE_DATUM\",\"azdias\"],[\"D19_VERSAND_OFFLINE_DATUM\",\"customers\"],[\"D19_TECHNIK\",\"azdias\"],[\"D19_TECHNIK\",\"customers\"],[\"D19_BUCH_CD\",\"azdias\"],[\"D19_BUCH_CD\",\"customers\"],[\"D19_VOLLSORTIMENT\",\"azdias\"],[\"D19_VOLLSORTIMENT\",\"customers\"],[\"D19_GESAMT_ANZ_12\",\"azdias\"],[\"D19_GESAMT_ANZ_12\",\"customers\"],[\"KK_KUNDENTYP\",\"azdias\"],[\"KK_KUNDENTYP\",\"customers\"],[\"D19_VERSAND_ANZ_24\",\"azdias\"],[\"D19_VERSAND_ANZ_24\",\"customers\"],[\"D19_GESAMT_OFFLINE_DATUM\",\"azdias\"],[\"D19_GESAMT_OFFLINE_DATUM\",\"customers\"],[\"D19_SONSTIGE\",\"azdias\"],[\"D19_SONSTIGE\",\"customers\"],[\"D19_GESAMT_ANZ_24\",\"azdias\"],[\"D19_GESAMT_ANZ_24\",\"customers\"],[\"D19_VERSAND_ONLINE_DATUM\",\"azdias\"],[\"D19_VERSAND_ONLINE_DATUM\",\"customers\"],[\"KBA05_BAUMAX\",\"azdias\"],[\"KBA05_BAUMAX\",\"customers\"],[\"D19_GESAMT_ONLINE_DATUM\",\"azdias\"],[\"D19_GESAMT_ONLINE_DATUM\",\"customers\"],[\"D19_VERSAND_DATUM\",\"azdias\"],[\"D19_VERSAND_DATUM\",\"customers\"],[\"D19_GESAMT_DATUM\",\"azdias\"],[\"D19_GESAMT_DATUM\",\"customers\"],[\"ALTER_HH\",\"azdias\"],[\"ALTER_HH\",\"customers\"],[\"D19_GESAMT_ONLINE_QUOTE_12\",\"azdias\"],[\"D19_GESAMT_ONLINE_QUOTE_12\",\"customers\"],[\"D19_KONSUMTYP\",\"azdias\"],[\"D19_KONSUMTYP\",\"customers\"],[\"D19_VERSAND_ONLINE_QUOTE_12\",\"azdias\"],[\"D19_VERSAND_ONLINE_QUOTE_12\",\"customers\"]]},\"selected\":{\"id\":\"1096\"},\"selection_policy\":{\"id\":\"1095\"}},\"id\":\"1059\",\"type\":\"ColumnDataSource\"},{\"attributes\":{},\"id\":\"1370\",\"type\":\"UnionRenderers\"},{\"attributes\":{\"below\":[{\"id\":\"1071\"}],\"center\":[{\"id\":\"1073\"},{\"id\":\"1077\"},{\"id\":\"1097\"}],\"height\":500,\"left\":[{\"id\":\"1074\"}],\"renderers\":[{\"id\":\"1086\"},{\"id\":\"1102\"}],\"title\":{\"id\":\"1062\"},\"toolbar\":{\"id\":\"1078\"},\"toolbar_location\":null,\"width\":950,\"x_range\":{\"id\":\"1060\"},\"x_scale\":{\"id\":\"1067\"},\"y_range\":{\"id\":\"1065\"},\"y_scale\":{\"id\":\"1069\"}},\"id\":\"1061\",\"subtype\":\"Figure\",\"type\":\"Plot\"},{\"attributes\":{\"bottom\":{\"expr\":{\"id\":\"1521\"}},\"fill_alpha\":{\"value\":0.1},\"fill_color\":{\"value\":\"red\"},\"line_alpha\":{\"value\":0.1},\"line_color\":{\"value\":null},\"line_width\":{\"value\":0},\"top\":{\"expr\":{\"id\":\"1522\"}},\"width\":{\"value\":0.8},\"x\":{\"field\":\"x\"}},\"id\":\"1541\",\"type\":\"VBar\"},{\"attributes\":{},\"id\":\"1371\",\"type\":\"Selection\"},{\"attributes\":{\"data_source\":{\"id\":\"1499\"},\"glyph\":{\"id\":\"1540\"},\"hover_glyph\":null,\"muted_glyph\":null,\"name\":\"missing\",\"nonselection_glyph\":{\"id\":\"1541\"},\"view\":{\"id\":\"1543\"}},\"id\":\"1542\",\"type\":\"GlyphRenderer\"},{\"attributes\":{\"factors\":[[\"TITEL_KZ\",\"azdias\"],[\"TITEL_KZ\",\"customers\"],[\"D19_TELKO_ONLINE_DATUM\",\"azdias\"],[\"D19_TELKO_ONLINE_DATUM\",\"customers\"],[\"D19_BANKEN_LOKAL\",\"azdias\"],[\"D19_BANKEN_LOKAL\",\"customers\"],[\"D19_BANKEN_OFFLINE_DATUM\",\"azdias\"],[\"D19_BANKEN_OFFLINE_DATUM\",\"customers\"],[\"D19_TELKO_ANZ_12\",\"azdias\"],[\"D19_TELKO_ANZ_12\",\"customers\"],[\"D19_DIGIT_SERV\",\"azdias\"],[\"D19_DIGIT_SERV\",\"customers\"],[\"D19_BIO_OEKO\",\"azdias\"],[\"D19_BIO_OEKO\",\"customers\"],[\"D19_TIERARTIKEL\",\"azdias\"],[\"D19_TIERARTIKEL\",\"customers\"],[\"D19_NAHRUNGSERGAENZUNG\",\"azdias\"],[\"D19_NAHRUNGSERGAENZUNG\",\"customers\"],[\"D19_GARTEN\",\"azdias\"],[\"D19_GARTEN\",\"customers\"],[\"D19_LEBENSMITTEL\",\"azdias\"],[\"D19_LEBENSMITTEL\",\"customers\"],[\"D19_WEIN_FEINKOST\",\"azdias\"],[\"D19_WEIN_FEINKOST\",\"customers\"],[\"D19_BANKEN_ANZ_12\",\"azdias\"],[\"D19_BANKEN_ANZ_12\",\"customers\"],[\"D19_ENERGIE\",\"azdias\"],[\"D19_ENERGIE\",\"customers\"],[\"D19_TELKO_ANZ_24\",\"azdias\"],[\"D19_TELKO_ANZ_24\",\"customers\"],[\"D19_BANKEN_REST\",\"azdias\"],[\"D19_BANKEN_REST\",\"customers\"],[\"D19_VERSI_ANZ_12\",\"azdias\"],[\"D19_VERSI_ANZ_12\",\"customers\"],[\"D19_TELKO_OFFLINE_DATUM\",\"azdias\"],[\"D19_TELKO_OFFLINE_DATUM\",\"customers\"],[\"D19_BILDUNG\",\"azdias\"],[\"D19_BILDUNG\",\"customers\"],[\"D19_BEKLEIDUNG_GEH\",\"azdias\"],[\"D19_BEKLEIDUNG_GEH\",\"customers\"],[\"D19_RATGEBER\",\"azdias\"],[\"D19_RATGEBER\",\"customers\"],[\"D19_SAMMELARTIKEL\",\"azdias\"],[\"D19_SAMMELARTIKEL\",\"customers\"],[\"D19_BANKEN_ANZ_24\",\"azdias\"],[\"D19_BANKEN_ANZ_24\",\"customers\"],[\"D19_FREIZEIT\",\"azdias\"],[\"D19_FREIZEIT\",\"customers\"],[\"D19_BANKEN_GROSS\",\"azdias\"],[\"D19_BANKEN_GROSS\",\"customers\"],[\"D19_VERSI_ANZ_24\",\"azdias\"],[\"D19_VERSI_ANZ_24\",\"customers\"],[\"D19_SCHUHE\",\"azdias\"],[\"D19_SCHUHE\",\"customers\"],[\"D19_HANDWERK\",\"azdias\"],[\"D19_HANDWERK\",\"customers\"],[\"D19_TELKO_REST\",\"azdias\"],[\"D19_TELKO_REST\",\"customers\"],[\"D19_DROGERIEARTIKEL\",\"azdias\"],[\"D19_DROGERIEARTIKEL\",\"customers\"],[\"D19_KINDERARTIKEL\",\"azdias\"],[\"D19_KINDERARTIKEL\",\"customers\"],[\"D19_LOTTO\",\"azdias\"],[\"D19_LOTTO\",\"customers\"]]},\"id\":\"1005\",\"type\":\"FactorRange\"},{\"attributes\":{\"label\":{\"value\":\"missing\"},\"renderers\":[{\"id\":\"1542\"}]},\"id\":\"1553\",\"type\":\"LegendItem\"},{\"attributes\":{},\"id\":\"1315\",\"type\":\"UnionRenderers\"},{\"attributes\":{\"fields\":[\"null\",\"missing\"]},\"id\":\"1412\",\"type\":\"Stack\"},{\"attributes\":{},\"id\":\"1316\",\"type\":\"Selection\"},{\"attributes\":{},\"id\":\"1425\",\"type\":\"UnionRenderers\"},{\"attributes\":{\"bottom\":{\"expr\":{\"id\":\"1409\"}},\"fill_alpha\":{\"value\":0.5},\"fill_color\":{\"value\":\"blue\"},\"line_alpha\":{\"value\":0.5},\"line_color\":{\"value\":null},\"line_width\":{\"value\":0},\"top\":{\"expr\":{\"id\":\"1410\"}},\"width\":{\"value\":0.8},\"x\":{\"field\":\"x\"}},\"id\":\"1414\",\"type\":\"VBar\"},{\"attributes\":{\"source\":{\"id\":\"1389\"}},\"id\":\"1417\",\"type\":\"CDSView\"},{\"attributes\":{\"bottom\":{\"expr\":{\"id\":\"1409\"}},\"fill_alpha\":{\"value\":0.1},\"fill_color\":{\"value\":\"blue\"},\"line_alpha\":{\"value\":0.1},\"line_color\":{\"value\":null},\"line_width\":{\"value\":0},\"top\":{\"expr\":{\"id\":\"1410\"}},\"width\":{\"value\":0.8},\"x\":{\"field\":\"x\"}},\"id\":\"1415\",\"type\":\"VBar\"},{\"attributes\":{},\"id\":\"1260\",\"type\":\"UnionRenderers\"},{\"attributes\":{\"label\":{\"value\":\"null\"},\"renderers\":[{\"id\":\"1416\"}]},\"id\":\"1428\",\"type\":\"LegendItem\"},{\"attributes\":{\"data_source\":{\"id\":\"1389\"},\"glyph\":{\"id\":\"1414\"},\"hover_glyph\":null,\"muted_glyph\":null,\"name\":\"null\",\"nonselection_glyph\":{\"id\":\"1415\"},\"view\":{\"id\":\"1417\"}},\"id\":\"1416\",\"type\":\"GlyphRenderer\"},{\"attributes\":{},\"id\":\"1261\",\"type\":\"Selection\"},{\"attributes\":{\"items\":[{\"id\":\"1428\"},{\"id\":\"1443\"}],\"orientation\":\"horizontal\"},\"id\":\"1427\",\"type\":\"Legend\"},{\"attributes\":{\"bottom\":{\"expr\":{\"id\":\"1246\"}},\"fill_alpha\":{\"value\":0.5},\"fill_color\":{\"value\":\"red\"},\"line_alpha\":{\"value\":0.5},\"line_color\":{\"value\":null},\"line_width\":{\"value\":0},\"top\":{\"expr\":{\"id\":\"1247\"}},\"width\":{\"value\":0.8},\"x\":{\"field\":\"x\"}},\"id\":\"1265\",\"type\":\"VBar\"},{\"attributes\":{\"below\":[{\"id\":\"1346\"}],\"center\":[{\"id\":\"1348\"},{\"id\":\"1352\"},{\"id\":\"1372\"}],\"height\":500,\"left\":[{\"id\":\"1349\"}],\"renderers\":[{\"id\":\"1361\"},{\"id\":\"1377\"}],\"title\":{\"id\":\"1337\"},\"toolbar\":{\"id\":\"1353\"},\"toolbar_location\":null,\"width\":950,\"x_range\":{\"id\":\"1335\"},\"x_scale\":{\"id\":\"1342\"},\"y_range\":{\"id\":\"1340\"},\"y_scale\":{\"id\":\"1344\"}},\"id\":\"1336\",\"subtype\":\"Figure\",\"type\":\"Plot\"},{\"attributes\":{},\"id\":\"1419\",\"type\":\"BasicTickFormatter\"},{\"attributes\":{},\"id\":\"1292\",\"type\":\"CategoricalTicker\"},{\"attributes\":{\"source\":{\"id\":\"1224\"}},\"id\":\"1268\",\"type\":\"CDSView\"},{\"attributes\":{\"bottom\":{\"expr\":{\"id\":\"1246\"}},\"fill_alpha\":{\"value\":0.1},\"fill_color\":{\"value\":\"red\"},\"line_alpha\":{\"value\":0.1},\"line_color\":{\"value\":null},\"line_width\":{\"value\":0},\"top\":{\"expr\":{\"id\":\"1247\"}},\"width\":{\"value\":0.8},\"x\":{\"field\":\"x\"}},\"id\":\"1266\",\"type\":\"VBar\"},{\"attributes\":{},\"id\":\"1426\",\"type\":\"Selection\"},{\"attributes\":{\"below\":[{\"id\":\"1401\"}],\"center\":[{\"id\":\"1403\"},{\"id\":\"1407\"},{\"id\":\"1427\"}],\"height\":500,\"left\":[{\"id\":\"1404\"}],\"renderers\":[{\"id\":\"1416\"},{\"id\":\"1432\"}],\"title\":{\"id\":\"1392\"},\"toolbar\":{\"id\":\"1408\"},\"toolbar_location\":null,\"width\":950,\"x_range\":{\"id\":\"1390\"},\"x_scale\":{\"id\":\"1397\"},\"y_range\":{\"id\":\"1395\"},\"y_scale\":{\"id\":\"1399\"}},\"id\":\"1391\",\"subtype\":\"Figure\",\"type\":\"Plot\"},{\"attributes\":{\"label\":{\"value\":\"missing\"},\"renderers\":[{\"id\":\"1267\"}]},\"id\":\"1278\",\"type\":\"LegendItem\"},{\"attributes\":{\"data_source\":{\"id\":\"1224\"},\"glyph\":{\"id\":\"1265\"},\"hover_glyph\":null,\"muted_glyph\":null,\"name\":\"missing\",\"nonselection_glyph\":{\"id\":\"1266\"},\"view\":{\"id\":\"1268\"}},\"id\":\"1267\",\"type\":\"GlyphRenderer\"},{\"attributes\":{},\"id\":\"1347\",\"type\":\"CategoricalTicker\"},{\"attributes\":{\"factors\":[[\"KBA13_ALTERHALTER_45\",\"azdias\"],[\"KBA13_ALTERHALTER_45\",\"customers\"],[\"KBA13_ALTERHALTER_30\",\"azdias\"],[\"KBA13_ALTERHALTER_30\",\"customers\"],[\"KBA13_KMH_0_140\",\"azdias\"],[\"KBA13_KMH_0_140\",\"customers\"],[\"KBA13_CCM_2500\",\"azdias\"],[\"KBA13_CCM_2500\",\"customers\"],[\"KBA13_CCM_1600\",\"azdias\"],[\"KBA13_CCM_1600\",\"customers\"],[\"KBA13_CCM_3000\",\"azdias\"],[\"KBA13_CCM_3000\",\"customers\"],[\"KBA13_HALTER_50\",\"azdias\"],[\"KBA13_HALTER_50\",\"customers\"],[\"KBA13_HERST_SONST\",\"azdias\"],[\"KBA13_HERST_SONST\",\"customers\"],[\"KBA13_HERST_FORD_OPEL\",\"azdias\"],[\"KBA13_HERST_FORD_OPEL\",\"customers\"],[\"KBA13_HERST_EUROPA\",\"azdias\"],[\"KBA13_HERST_EUROPA\",\"customers\"],[\"KBA13_HERST_BMW_BENZ\",\"azdias\"],[\"KBA13_HERST_BMW_BENZ\",\"customers\"],[\"KBA13_HERST_AUDI_VW\",\"azdias\"],[\"KBA13_HERST_AUDI_VW\",\"customers\"],[\"KBA13_HERST_ASIEN\",\"azdias\"],[\"KBA13_HERST_ASIEN\",\"customers\"],[\"KBA13_HALTER_66\",\"azdias\"],[\"KBA13_HALTER_66\",\"customers\"],[\"KBA13_CCM_3001\",\"azdias\"],[\"KBA13_CCM_3001\",\"customers\"],[\"KBA13_HALTER_60\",\"azdias\"],[\"KBA13_HALTER_60\",\"customers\"],[\"KBA13_HALTER_55\",\"azdias\"],[\"KBA13_HALTER_55\",\"customers\"],[\"KBA13_HALTER_65\",\"azdias\"],[\"KBA13_HALTER_65\",\"customers\"],[\"KBA13_HALTER_45\",\"azdias\"],[\"KBA13_HALTER_45\",\"customers\"],[\"KBA13_HALTER_35\",\"azdias\"],[\"KBA13_HALTER_35\",\"customers\"],[\"KBA13_HALTER_30\",\"azdias\"],[\"KBA13_HALTER_30\",\"customers\"],[\"KBA13_HALTER_25\",\"azdias\"],[\"KBA13_HALTER_25\",\"customers\"],[\"KBA13_HALTER_20\",\"azdias\"],[\"KBA13_HALTER_20\",\"customers\"],[\"KBA13_FORD\",\"azdias\"],[\"KBA13_FORD\",\"customers\"],[\"KBA13_FIAT\",\"azdias\"],[\"KBA13_FIAT\",\"customers\"],[\"KBA13_FAB_SONSTIGE\",\"azdias\"],[\"KBA13_FAB_SONSTIGE\",\"customers\"],[\"KBA13_HALTER_40\",\"azdias\"],[\"KBA13_HALTER_40\",\"customers\"],[\"KBA13_FAB_ASIEN\",\"azdias\"],[\"KBA13_FAB_ASIEN\",\"customers\"],[\"CAMEO_DEU_2015\",\"azdias\"],[\"CAMEO_DEU_2015\",\"customers\"],[\"CAMEO_INTL_2015\",\"azdias\"],[\"CAMEO_INTL_2015\",\"customers\"],[\"CAMEO_DEUG_2015\",\"azdias\"],[\"CAMEO_DEUG_2015\",\"customers\"],[\"RELAT_AB\",\"azdias\"],[\"RELAT_AB\",\"customers\"]]},\"id\":\"1390\",\"type\":\"FactorRange\"},{\"attributes\":{\"fields\":[]},\"id\":\"1354\",\"type\":\"Stack\"},{\"attributes\":{\"text\":\"Overview of missing data in datasets (plot 7 of 10)\"},\"id\":\"1337\",\"type\":\"Title\"},{\"attributes\":{\"end\":1.05,\"start\":0},\"id\":\"1340\",\"type\":\"DataRange1d\"},{\"attributes\":{\"formatter\":{\"id\":\"1367\"},\"group_label_orientation\":1.5707963267948966,\"major_label_orientation\":1.5707963267948966,\"major_label_policy\":{\"id\":\"1369\"},\"ticker\":{\"id\":\"1347\"}},\"id\":\"1346\",\"type\":\"CategoricalAxis\"},{\"attributes\":{},\"id\":\"1344\",\"type\":\"LinearScale\"},{\"attributes\":{\"factors\":[[\"KBA13_SEG_MITTELKLASSE\",\"azdias\"],[\"KBA13_SEG_MITTELKLASSE\",\"customers\"],[\"KBA13_SEG_MINIWAGEN\",\"azdias\"],[\"KBA13_SEG_MINIWAGEN\",\"customers\"],[\"KBA13_SEG_MINIVANS\",\"azdias\"],[\"KBA13_SEG_MINIVANS\",\"customers\"],[\"KBA13_SEG_KOMPAKTKLASSE\",\"azdias\"],[\"KBA13_SEG_KOMPAKTKLASSE\",\"customers\"],[\"KBA13_SEG_KLEINWAGEN\",\"azdias\"],[\"KBA13_SEG_KLEINWAGEN\",\"customers\"],[\"KBA13_SEG_KLEINST\",\"azdias\"],[\"KBA13_SEG_KLEINST\",\"customers\"],[\"KBA13_SEG_GROSSRAUMVANS\",\"azdias\"],[\"KBA13_SEG_GROSSRAUMVANS\",\"customers\"],[\"KBA13_SEG_GELAENDEWAGEN\",\"azdias\"],[\"KBA13_SEG_GELAENDEWAGEN\",\"customers\"],[\"KBA13_RENAULT\",\"azdias\"],[\"KBA13_RENAULT\",\"customers\"],[\"KBA13_KMH_140_210\",\"azdias\"],[\"KBA13_KMH_140_210\",\"customers\"],[\"KBA13_ANZAHL_PKW\",\"azdias\"],[\"KBA13_ANZAHL_PKW\",\"customers\"],[\"KBA13_KMH_110\",\"azdias\"],[\"KBA13_KMH_110\",\"customers\"],[\"KBA13_BJ_2008\",\"azdias\"],[\"KBA13_BJ_2008\",\"customers\"],[\"KBA13_CCM_2000\",\"azdias\"],[\"KBA13_CCM_2000\",\"customers\"],[\"KBA13_CCM_1800\",\"azdias\"],[\"KBA13_CCM_1800\",\"customers\"],[\"KBA13_CCM_1500\",\"azdias\"],[\"KBA13_CCM_1500\",\"customers\"],[\"KBA13_CCM_1401_2500\",\"azdias\"],[\"KBA13_CCM_1401_2500\",\"customers\"],[\"KBA13_CCM_1400\",\"azdias\"],[\"KBA13_CCM_1400\",\"customers\"],[\"KBA13_CCM_1200\",\"azdias\"],[\"KBA13_CCM_1200\",\"customers\"],[\"KBA13_CCM_1000\",\"azdias\"],[\"KBA13_CCM_1000\",\"customers\"],[\"KBA13_CCM_0_1400\",\"azdias\"],[\"KBA13_CCM_0_1400\",\"customers\"],[\"KBA13_BMW\",\"azdias\"],[\"KBA13_BMW\",\"customers\"],[\"KBA13_BJ_2009\",\"azdias\"],[\"KBA13_BJ_2009\",\"customers\"],[\"KBA13_BJ_2006\",\"azdias\"],[\"KBA13_BJ_2006\",\"customers\"],[\"KBA13_CCM_2501\",\"azdias\"],[\"KBA13_CCM_2501\",\"customers\"],[\"KBA13_BJ_2004\",\"azdias\"],[\"KBA13_BJ_2004\",\"customers\"],[\"KBA13_BJ_2000\",\"azdias\"],[\"KBA13_BJ_2000\",\"customers\"],[\"KBA13_BJ_1999\",\"azdias\"],[\"KBA13_BJ_1999\",\"customers\"],[\"KBA13_AUTOQUOTE\",\"azdias\"],[\"KBA13_AUTOQUOTE\",\"customers\"],[\"KBA13_AUDI\",\"azdias\"],[\"KBA13_AUDI\",\"customers\"],[\"KBA13_ALTERHALTER_61\",\"azdias\"],[\"KBA13_ALTERHALTER_61\",\"customers\"],[\"KBA13_ALTERHALTER_60\",\"azdias\"],[\"KBA13_ALTERHALTER_60\",\"customers\"]]},\"id\":\"1335\",\"type\":\"FactorRange\"},{\"attributes\":{\"formatter\":{\"id\":\"1364\"},\"major_label_policy\":{\"id\":\"1366\"},\"ticker\":{\"id\":\"1350\"}},\"id\":\"1349\",\"type\":\"LinearAxis\"},{\"attributes\":{\"data\":{\"missing\":[0.0,0.0,0.0,0.0,0.0,0.0,0.0,0.0,0.0,0.0,0.0,0.0,0.0,0.0,0.0,0.0,0.0,0.0,0.0,0.0,0.0,0.0,0.0,0.0,0.0,0.0,0.0,0.0,0.0,0.0,0.0,0.0,0.0,0.0,0.0,0.0,0.0,0.0,0.0,0.0,0.0,0.0,0.0,0.0,0.0,0.0,0.0,0.0,0.0,0.0,0.0,0.0,0.0,0.0,0.0,0.0,0.0,0.0,0.0,0.0,0.0,0.0,0.000189529846778827,0.00015308839190628329],\"null\":[0.06395142314266711,0.06677316293929712,0.06395142314266711,0.06677316293929712,0.06395142314266711,0.06677316293929712,0.06395142314266711,0.06677316293929712,0.06395142314266711,0.06677316293929712,0.06395142314266711,0.06677316293929712,0.06395142314266711,0.06677316293929712,0.06395142314266711,0.06677316293929712,0.06395142314266711,0.06677316293929712,0.06395142314266711,0.06677316293929712,0.06395142314266711,0.06677316293929712,0.06395142314266711,0.06677316293929712,0.06395142314266711,0.06677316293929712,0.06395142314266711,0.06677316293929712,0.06395142314266711,0.06677316293929712,0.06395142314266711,0.06677316293929712,0.06395142314266711,0.06677316293929712,0.06395142314266711,0.06677316293929712,0.06395142314266711,0.06677316293929712,0.06395142314266711,0.06677316293929712,0.06395142314266711,0.06677316293929712,0.06395142314266711,0.06677316293929712,0.06395142314266711,0.06677316293929712,0.06395142314266711,0.06677316293929712,0.06395142314266711,0.06677316293929712,0.06395142314266711,0.06677316293929712,0.06395142314266711,0.06677316293929712,0.06395142314266711,0.06677316293929712,0.056272484319087206,0.0619542066027689,0.056272484319087206,0.0619542066027689,0.056272484319087206,0.0619542066027689,0.05373111555598998,0.06144834930777423],\"x\":[[\"KBA13_ALTERHALTER_45\",\"azdias\"],[\"KBA13_ALTERHALTER_45\",\"customers\"],[\"KBA13_ALTERHALTER_30\",\"azdias\"],[\"KBA13_ALTERHALTER_30\",\"customers\"],[\"KBA13_KMH_0_140\",\"azdias\"],[\"KBA13_KMH_0_140\",\"customers\"],[\"KBA13_CCM_2500\",\"azdias\"],[\"KBA13_CCM_2500\",\"customers\"],[\"KBA13_CCM_1600\",\"azdias\"],[\"KBA13_CCM_1600\",\"customers\"],[\"KBA13_CCM_3000\",\"azdias\"],[\"KBA13_CCM_3000\",\"customers\"],[\"KBA13_HALTER_50\",\"azdias\"],[\"KBA13_HALTER_50\",\"customers\"],[\"KBA13_HERST_SONST\",\"azdias\"],[\"KBA13_HERST_SONST\",\"customers\"],[\"KBA13_HERST_FORD_OPEL\",\"azdias\"],[\"KBA13_HERST_FORD_OPEL\",\"customers\"],[\"KBA13_HERST_EUROPA\",\"azdias\"],[\"KBA13_HERST_EUROPA\",\"customers\"],[\"KBA13_HERST_BMW_BENZ\",\"azdias\"],[\"KBA13_HERST_BMW_BENZ\",\"customers\"],[\"KBA13_HERST_AUDI_VW\",\"azdias\"],[\"KBA13_HERST_AUDI_VW\",\"customers\"],[\"KBA13_HERST_ASIEN\",\"azdias\"],[\"KBA13_HERST_ASIEN\",\"customers\"],[\"KBA13_HALTER_66\",\"azdias\"],[\"KBA13_HALTER_66\",\"customers\"],[\"KBA13_CCM_3001\",\"azdias\"],[\"KBA13_CCM_3001\",\"customers\"],[\"KBA13_HALTER_60\",\"azdias\"],[\"KBA13_HALTER_60\",\"customers\"],[\"KBA13_HALTER_55\",\"azdias\"],[\"KBA13_HALTER_55\",\"customers\"],[\"KBA13_HALTER_65\",\"azdias\"],[\"KBA13_HALTER_65\",\"customers\"],[\"KBA13_HALTER_45\",\"azdias\"],[\"KBA13_HALTER_45\",\"customers\"],[\"KBA13_HALTER_35\",\"azdias\"],[\"KBA13_HALTER_35\",\"customers\"],[\"KBA13_HALTER_30\",\"azdias\"],[\"KBA13_HALTER_30\",\"customers\"],[\"KBA13_HALTER_25\",\"azdias\"],[\"KBA13_HALTER_25\",\"customers\"],[\"KBA13_HALTER_20\",\"azdias\"],[\"KBA13_HALTER_20\",\"customers\"],[\"KBA13_FORD\",\"azdias\"],[\"KBA13_FORD\",\"customers\"],[\"KBA13_FIAT\",\"azdias\"],[\"KBA13_FIAT\",\"customers\"],[\"KBA13_FAB_SONSTIGE\",\"azdias\"],[\"KBA13_FAB_SONSTIGE\",\"customers\"],[\"KBA13_HALTER_40\",\"azdias\"],[\"KBA13_HALTER_40\",\"customers\"],[\"KBA13_FAB_ASIEN\",\"azdias\"],[\"KBA13_FAB_ASIEN\",\"customers\"],[\"CAMEO_DEU_2015\",\"azdias\"],[\"CAMEO_DEU_2015\",\"customers\"],[\"CAMEO_INTL_2015\",\"azdias\"],[\"CAMEO_INTL_2015\",\"customers\"],[\"CAMEO_DEUG_2015\",\"azdias\"],[\"CAMEO_DEUG_2015\",\"customers\"],[\"RELAT_AB\",\"azdias\"],[\"RELAT_AB\",\"customers\"]]},\"selected\":{\"id\":\"1426\"},\"selection_policy\":{\"id\":\"1425\"}},\"id\":\"1389\",\"type\":\"ColumnDataSource\"},{\"attributes\":{\"text\":\"Overview of missing data in datasets (plot 6 of 10)\"},\"id\":\"1282\",\"type\":\"Title\"},{\"attributes\":{},\"id\":\"1342\",\"type\":\"CategoricalScale\"},{\"attributes\":{\"fields\":[]},\"id\":\"1299\",\"type\":\"Stack\"},{\"attributes\":{\"end\":1.05,\"start\":0},\"id\":\"1285\",\"type\":\"DataRange1d\"},{\"attributes\":{\"axis\":{\"id\":\"1346\"},\"grid_line_color\":null,\"ticker\":null},\"id\":\"1348\",\"type\":\"Grid\"},{\"attributes\":{\"formatter\":{\"id\":\"1312\"},\"group_label_orientation\":1.5707963267948966,\"major_label_orientation\":1.5707963267948966,\"major_label_policy\":{\"id\":\"1314\"},\"ticker\":{\"id\":\"1292\"}},\"id\":\"1291\",\"type\":\"CategoricalAxis\"},{\"attributes\":{},\"id\":\"1289\",\"type\":\"LinearScale\"},{\"attributes\":{\"formatter\":{\"id\":\"1309\"},\"major_label_policy\":{\"id\":\"1311\"},\"ticker\":{\"id\":\"1295\"}},\"id\":\"1294\",\"type\":\"LinearAxis\"},{\"attributes\":{\"axis\":{\"id\":\"1349\"},\"dimension\":1,\"ticker\":null},\"id\":\"1352\",\"type\":\"Grid\"},{\"attributes\":{\"fields\":[\"null\"]},\"id\":\"1300\",\"type\":\"Stack\"},{\"attributes\":{},\"id\":\"1287\",\"type\":\"CategoricalScale\"},{\"attributes\":{},\"id\":\"1350\",\"type\":\"BasicTicker\"},{\"attributes\":{\"axis\":{\"id\":\"1291\"},\"grid_line_color\":null,\"ticker\":null},\"id\":\"1293\",\"type\":\"Grid\"},{\"attributes\":{\"active_multi\":null},\"id\":\"1353\",\"type\":\"Toolbar\"},{\"attributes\":{\"active_multi\":null},\"id\":\"1298\",\"type\":\"Toolbar\"},{\"attributes\":{\"fields\":[\"null\"]},\"id\":\"1356\",\"type\":\"Stack\"},{\"attributes\":{\"fields\":[\"null\"]},\"id\":\"1355\",\"type\":\"Stack\"},{\"attributes\":{\"axis\":{\"id\":\"1294\"},\"dimension\":1,\"ticker\":null},\"id\":\"1297\",\"type\":\"Grid\"},{\"attributes\":{},\"id\":\"1295\",\"type\":\"BasicTicker\"},{\"attributes\":{\"fields\":[\"null\"]},\"id\":\"1301\",\"type\":\"Stack\"},{\"attributes\":{\"fields\":[]},\"id\":\"1244\",\"type\":\"Stack\"},{\"attributes\":{\"fields\":[]},\"id\":\"1189\",\"type\":\"Stack\"},{\"attributes\":{\"below\":[{\"id\":\"1236\"}],\"center\":[{\"id\":\"1238\"},{\"id\":\"1242\"},{\"id\":\"1262\"}],\"height\":500,\"left\":[{\"id\":\"1239\"}],\"renderers\":[{\"id\":\"1251\"},{\"id\":\"1267\"}],\"title\":{\"id\":\"1227\"},\"toolbar\":{\"id\":\"1243\"},\"toolbar_location\":null,\"width\":950,\"x_range\":{\"id\":\"1225\"},\"x_scale\":{\"id\":\"1232\"},\"y_range\":{\"id\":\"1230\"},\"y_scale\":{\"id\":\"1234\"}},\"id\":\"1226\",\"subtype\":\"Figure\",\"type\":\"Plot\"},{\"attributes\":{\"fields\":[\"null\"]},\"id\":\"1246\",\"type\":\"Stack\"},{\"attributes\":{\"formatter\":{\"id\":\"1199\"},\"major_label_policy\":{\"id\":\"1201\"},\"ticker\":{\"id\":\"1185\"}},\"id\":\"1184\",\"type\":\"LinearAxis\"},{\"attributes\":{\"axis\":{\"id\":\"1181\"},\"grid_line_color\":null,\"ticker\":null},\"id\":\"1183\",\"type\":\"Grid\"},{\"attributes\":{},\"id\":\"1182\",\"type\":\"CategoricalTicker\"},{\"attributes\":{\"axis\":{\"id\":\"1184\"},\"dimension\":1,\"ticker\":null},\"id\":\"1187\",\"type\":\"Grid\"},{\"attributes\":{},\"id\":\"1185\",\"type\":\"BasicTicker\"},{\"attributes\":{\"text\":\"Overview of missing data in datasets (plot 1 of 10)\"},\"id\":\"1007\",\"type\":\"Title\"},{\"attributes\":{\"active_multi\":null},\"id\":\"1188\",\"type\":\"Toolbar\"},{\"attributes\":{\"active_multi\":null},\"id\":\"1243\",\"type\":\"Toolbar\"},{\"attributes\":{},\"id\":\"1014\",\"type\":\"LinearScale\"},{\"attributes\":{\"fields\":[\"null\"]},\"id\":\"1245\",\"type\":\"Stack\"},{\"attributes\":{\"formatter\":{\"id\":\"1254\"},\"major_label_policy\":{\"id\":\"1256\"},\"ticker\":{\"id\":\"1240\"}},\"id\":\"1239\",\"type\":\"LinearAxis\"},{\"attributes\":{\"fields\":[]},\"id\":\"1024\",\"type\":\"Stack\"},{\"attributes\":{},\"id\":\"1232\",\"type\":\"CategoricalScale\"},{\"attributes\":{\"end\":1.05,\"start\":0},\"id\":\"1010\",\"type\":\"DataRange1d\"},{\"attributes\":{\"formatter\":{\"id\":\"1037\"},\"group_label_orientation\":1.5707963267948966,\"major_label_orientation\":1.5707963267948966,\"major_label_policy\":{\"id\":\"1039\"},\"ticker\":{\"id\":\"1017\"}},\"id\":\"1016\",\"type\":\"CategoricalAxis\"},{\"attributes\":{\"axis\":{\"id\":\"1239\"},\"dimension\":1,\"ticker\":null},\"id\":\"1242\",\"type\":\"Grid\"},{\"attributes\":{},\"id\":\"1012\",\"type\":\"CategoricalScale\"},{\"attributes\":{\"axis\":{\"id\":\"1236\"},\"grid_line_color\":null,\"ticker\":null},\"id\":\"1238\",\"type\":\"Grid\"},{\"attributes\":{},\"id\":\"1240\",\"type\":\"BasicTicker\"},{\"attributes\":{},\"id\":\"1234\",\"type\":\"LinearScale\"},{\"attributes\":{},\"id\":\"1017\",\"type\":\"CategoricalTicker\"},{\"attributes\":{\"formatter\":{\"id\":\"1034\"},\"major_label_policy\":{\"id\":\"1036\"},\"ticker\":{\"id\":\"1020\"}},\"id\":\"1019\",\"type\":\"LinearAxis\"},{\"attributes\":{\"axis\":{\"id\":\"1016\"},\"grid_line_color\":null,\"ticker\":null},\"id\":\"1018\",\"type\":\"Grid\"},{\"attributes\":{},\"id\":\"1237\",\"type\":\"CategoricalTicker\"},{\"attributes\":{\"formatter\":{\"id\":\"1257\"},\"group_label_orientation\":1.5707963267948966,\"major_label_orientation\":1.5707963267948966,\"major_label_policy\":{\"id\":\"1259\"},\"ticker\":{\"id\":\"1237\"}},\"id\":\"1236\",\"type\":\"CategoricalAxis\"},{\"attributes\":{\"end\":1.05,\"start\":0},\"id\":\"1230\",\"type\":\"DataRange1d\"},{\"attributes\":{\"axis\":{\"id\":\"1019\"},\"dimension\":1,\"ticker\":null},\"id\":\"1022\",\"type\":\"Grid\"},{\"attributes\":{\"bottom\":{\"expr\":{\"id\":\"1189\"}},\"fill_alpha\":{\"value\":0.5},\"fill_color\":{\"value\":\"blue\"},\"line_alpha\":{\"value\":0.5},\"line_color\":{\"value\":null},\"line_width\":{\"value\":0},\"top\":{\"expr\":{\"id\":\"1190\"}},\"width\":{\"value\":0.8},\"x\":{\"field\":\"x\"}},\"id\":\"1194\",\"type\":\"VBar\"},{\"attributes\":{},\"id\":\"1020\",\"type\":\"BasicTicker\"},{\"attributes\":{\"fields\":[\"null\"]},\"id\":\"1190\",\"type\":\"Stack\"},{\"attributes\":{\"active_multi\":null},\"id\":\"1023\",\"type\":\"Toolbar\"},{\"attributes\":{},\"id\":\"1201\",\"type\":\"AllLabels\"},{\"attributes\":{\"fields\":[\"null\"]},\"id\":\"1191\",\"type\":\"Stack\"},{\"attributes\":{\"text\":\"Overview of missing data in datasets (plot 5 of 10)\"},\"id\":\"1227\",\"type\":\"Title\"},{\"attributes\":{\"fields\":[\"null\",\"missing\"]},\"id\":\"1192\",\"type\":\"Stack\"},{\"attributes\":{\"source\":{\"id\":\"1169\"}},\"id\":\"1197\",\"type\":\"CDSView\"},{\"attributes\":{\"bottom\":{\"expr\":{\"id\":\"1189\"}},\"fill_alpha\":{\"value\":0.1},\"fill_color\":{\"value\":\"blue\"},\"line_alpha\":{\"value\":0.1},\"line_color\":{\"value\":null},\"line_width\":{\"value\":0},\"top\":{\"expr\":{\"id\":\"1190\"}},\"width\":{\"value\":0.8},\"x\":{\"field\":\"x\"}},\"id\":\"1195\",\"type\":\"VBar\"},{\"attributes\":{\"label\":{\"value\":\"null\"},\"renderers\":[{\"id\":\"1196\"}]},\"id\":\"1208\",\"type\":\"LegendItem\"},{\"attributes\":{\"data_source\":{\"id\":\"1169\"},\"glyph\":{\"id\":\"1194\"},\"hover_glyph\":null,\"muted_glyph\":null,\"name\":\"null\",\"nonselection_glyph\":{\"id\":\"1195\"},\"view\":{\"id\":\"1197\"}},\"id\":\"1196\",\"type\":\"GlyphRenderer\"},{\"attributes\":{\"items\":[{\"id\":\"1208\"},{\"id\":\"1223\"}],\"orientation\":\"horizontal\"},\"id\":\"1207\",\"type\":\"Legend\"},{\"attributes\":{\"bottom\":{\"expr\":{\"id\":\"1024\"}},\"fill_alpha\":{\"value\":0.5},\"fill_color\":{\"value\":\"blue\"},\"line_alpha\":{\"value\":0.5},\"line_color\":{\"value\":null},\"line_width\":{\"value\":0},\"top\":{\"expr\":{\"id\":\"1025\"}},\"width\":{\"value\":0.8},\"x\":{\"field\":\"x\"}},\"id\":\"1029\",\"type\":\"VBar\"},{\"attributes\":{\"fields\":[\"null\"]},\"id\":\"1025\",\"type\":\"Stack\"},{\"attributes\":{\"fields\":[\"null\"]},\"id\":\"1026\",\"type\":\"Stack\"},{\"attributes\":{\"fields\":[\"null\",\"missing\"]},\"id\":\"1027\",\"type\":\"Stack\"},{\"attributes\":{\"source\":{\"id\":\"1004\"}},\"id\":\"1032\",\"type\":\"CDSView\"},{\"attributes\":{\"bottom\":{\"expr\":{\"id\":\"1024\"}},\"fill_alpha\":{\"value\":0.1},\"fill_color\":{\"value\":\"blue\"},\"line_alpha\":{\"value\":0.1},\"line_color\":{\"value\":null},\"line_width\":{\"value\":0},\"top\":{\"expr\":{\"id\":\"1025\"}},\"width\":{\"value\":0.8},\"x\":{\"field\":\"x\"}},\"id\":\"1030\",\"type\":\"VBar\"},{\"attributes\":{\"label\":{\"value\":\"null\"},\"renderers\":[{\"id\":\"1031\"}]},\"id\":\"1043\",\"type\":\"LegendItem\"},{\"attributes\":{\"data_source\":{\"id\":\"1004\"},\"glyph\":{\"id\":\"1029\"},\"hover_glyph\":null,\"muted_glyph\":null,\"name\":\"null\",\"nonselection_glyph\":{\"id\":\"1030\"},\"view\":{\"id\":\"1032\"}},\"id\":\"1031\",\"type\":\"GlyphRenderer\"},{\"attributes\":{\"items\":[{\"id\":\"1043\"},{\"id\":\"1058\"}],\"orientation\":\"horizontal\"},\"id\":\"1042\",\"type\":\"Legend\"},{\"attributes\":{},\"id\":\"1199\",\"type\":\"BasicTickFormatter\"},{\"attributes\":{\"bottom\":{\"expr\":{\"id\":\"1466\"}},\"fill_alpha\":{\"value\":0.1},\"fill_color\":{\"value\":\"red\"},\"line_alpha\":{\"value\":0.1},\"line_color\":{\"value\":null},\"line_width\":{\"value\":0},\"top\":{\"expr\":{\"id\":\"1467\"}},\"width\":{\"value\":0.8},\"x\":{\"field\":\"x\"}},\"id\":\"1486\",\"type\":\"VBar\"},{\"attributes\":{\"source\":{\"id\":\"1444\"}},\"id\":\"1488\",\"type\":\"CDSView\"},{\"attributes\":{\"label\":{\"value\":\"missing\"},\"renderers\":[{\"id\":\"1487\"}]},\"id\":\"1498\",\"type\":\"LegendItem\"},{\"attributes\":{\"factors\":[[\"KBA13_KMH_211\",\"azdias\"],[\"KBA13_KMH_211\",\"customers\"],[\"KBA13_KMH_250\",\"azdias\"],[\"KBA13_KMH_250\",\"customers\"],[\"KBA13_KRSZUL_NEU\",\"azdias\"],[\"KBA13_KRSZUL_NEU\",\"customers\"],[\"KBA13_KRSSEG_VAN\",\"azdias\"],[\"KBA13_KRSSEG_VAN\",\"customers\"],[\"KBA13_KRSSEG_OBER\",\"azdias\"],[\"KBA13_KRSSEG_OBER\",\"customers\"],[\"KBA13_KMH_251\",\"azdias\"],[\"KBA13_KMH_251\",\"customers\"],[\"KBA13_KMH_180\",\"azdias\"],[\"KBA13_KMH_180\",\"customers\"],[\"KBA13_KRSAQUOT\",\"azdias\"],[\"KBA13_KRSAQUOT\",\"customers\"],[\"KBA13_KRSHERST_AUDI_VW\",\"azdias\"],[\"KBA13_KRSHERST_AUDI_VW\",\"customers\"],[\"KBA13_KRSHERST_BMW_BENZ\",\"azdias\"],[\"KBA13_KRSHERST_BMW_BENZ\",\"customers\"],[\"KBA13_KRSHERST_FORD_OPEL\",\"azdias\"],[\"KBA13_KRSHERST_FORD_OPEL\",\"customers\"],[\"KBA13_MOTOR\",\"azdias\"],[\"KBA13_MOTOR\",\"customers\"],[\"KBA13_SEG_VAN\",\"azdias\"],[\"KBA13_SEG_VAN\",\"customers\"],[\"KBA13_OPEL\",\"azdias\"],[\"KBA13_OPEL\",\"customers\"],[\"KBA13_SEG_UTILITIES\",\"azdias\"],[\"KBA13_SEG_UTILITIES\",\"customers\"],[\"KBA13_KMH_140\",\"azdias\"],[\"KBA13_KMH_140\",\"customers\"],[\"KBA13_TOYOTA\",\"azdias\"],[\"KBA13_TOYOTA\",\"customers\"],[\"KBA13_VORB_0\",\"azdias\"],[\"KBA13_VORB_0\",\"customers\"],[\"KBA13_SITZE_6\",\"azdias\"],[\"KBA13_SITZE_6\",\"customers\"],[\"KBA13_VORB_1\",\"azdias\"],[\"KBA13_VORB_1\",\"customers\"],[\"KBA13_VORB_1_2\",\"azdias\"],[\"KBA13_VORB_1_2\",\"customers\"],[\"KBA13_VORB_2\",\"azdias\"],[\"KBA13_VORB_2\",\"customers\"],[\"KBA13_VORB_3\",\"azdias\"],[\"KBA13_VORB_3\",\"customers\"],[\"KBA13_VW\",\"azdias\"],[\"KBA13_VW\",\"customers\"],[\"KBA13_SITZE_5\",\"azdias\"],[\"KBA13_SITZE_5\",\"customers\"],[\"KBA13_SITZE_4\",\"azdias\"],[\"KBA13_SITZE_4\",\"customers\"],[\"KBA13_SEG_WOHNMOBILE\",\"azdias\"],[\"KBA13_SEG_WOHNMOBILE\",\"customers\"],[\"KBA13_SEG_SPORTWAGEN\",\"azdias\"],[\"KBA13_SEG_SPORTWAGEN\",\"customers\"],[\"KBA13_PEUGEOT\",\"azdias\"],[\"KBA13_PEUGEOT\",\"customers\"],[\"KBA13_SEG_SONSTIGE\",\"azdias\"],[\"KBA13_SEG_SONSTIGE\",\"customers\"],[\"KBA13_SEG_OBERKLASSE\",\"azdias\"],[\"KBA13_SEG_OBERKLASSE\",\"customers\"],[\"KBA13_SEG_OBEREMITTELKLASSE\",\"azdias\"],[\"KBA13_SEG_OBEREMITTELKLASSE\",\"customers\"]]},\"id\":\"1280\",\"type\":\"FactorRange\"},{\"attributes\":{\"data_source\":{\"id\":\"1444\"},\"glyph\":{\"id\":\"1485\"},\"hover_glyph\":null,\"muted_glyph\":null,\"name\":\"missing\",\"nonselection_glyph\":{\"id\":\"1486\"},\"view\":{\"id\":\"1488\"}},\"id\":\"1487\",\"type\":\"GlyphRenderer\"},{\"attributes\":{\"data\":{\"missing\":[0.0,0.0,0.0,0.0,0.0,0.0,0.0,0.0,0.0,0.0,0.0,0.0,0.0,0.0,0.0,0.0,0.0,0.0,0.0,0.0,0.0,0.0,0.0,0.0,0.0,0.0,0.0,0.0,0.0,0.0,0.0,0.0,0.0,0.0,0.0,0.0,0.0,0.0,0.0,0.0,0.0,0.0,0.0,0.0,0.0,0.0,0.0,0.0,0.0,0.0,0.0,0.0,0.0,0.0,0.0,0.0,0.0,0.0,0.0,0.0,0.0,0.0,0.0,0.0],\"null\":[0.06395142314266711,0.06677316293929712,0.06395142314266711,0.06677316293929712,0.06395142314266711,0.06677316293929712,0.06395142314266711,0.06677316293929712,0.06395142314266711,0.06677316293929712,0.06395142314266711,0.06677316293929712,0.06395142314266711,0.06677316293929712,0.06395142314266711,0.06677316293929712,0.06395142314266711,0.06677316293929712,0.06395142314266711,0.06677316293929712,0.06395142314266711,0.06677316293929712,0.06395142314266711,0.06677316293929712,0.06395142314266711,0.06677316293929712,0.06395142314266711,0.06677316293929712,0.06395142314266711,0.06677316293929712,0.06395142314266711,0.06677316293929712,0.06395142314266711,0.06677316293929712,0.06395142314266711,0.06677316293929712,0.06395142314266711,0.06677316293929712,0.06395142314266711,0.06677316293929712,0.06395142314266711,0.06677316293929712,0.06395142314266711,0.06677316293929712,0.06395142314266711,0.06677316293929712,0.06395142314266711,0.06677316293929712,0.06395142314266711,0.06677316293929712,0.06395142314266711,0.06677316293929712,0.06395142314266711,0.06677316293929712,0.06395142314266711,0.06677316293929712,0.06395142314266711,0.06677316293929712,0.06395142314266711,0.06677316293929712,0.06395142314266711,0.06677316293929712,0.06395142314266711,0.06677316293929712],\"x\":[[\"KBA13_SEG_MITTELKLASSE\",\"azdias\"],[\"KBA13_SEG_MITTELKLASSE\",\"customers\"],[\"KBA13_SEG_MINIWAGEN\",\"azdias\"],[\"KBA13_SEG_MINIWAGEN\",\"customers\"],[\"KBA13_SEG_MINIVANS\",\"azdias\"],[\"KBA13_SEG_MINIVANS\",\"customers\"],[\"KBA13_SEG_KOMPAKTKLASSE\",\"azdias\"],[\"KBA13_SEG_KOMPAKTKLASSE\",\"customers\"],[\"KBA13_SEG_KLEINWAGEN\",\"azdias\"],[\"KBA13_SEG_KLEINWAGEN\",\"customers\"],[\"KBA13_SEG_KLEINST\",\"azdias\"],[\"KBA13_SEG_KLEINST\",\"customers\"],[\"KBA13_SEG_GROSSRAUMVANS\",\"azdias\"],[\"KBA13_SEG_GROSSRAUMVANS\",\"customers\"],[\"KBA13_SEG_GELAENDEWAGEN\",\"azdias\"],[\"KBA13_SEG_GELAENDEWAGEN\",\"customers\"],[\"KBA13_RENAULT\",\"azdias\"],[\"KBA13_RENAULT\",\"customers\"],[\"KBA13_KMH_140_210\",\"azdias\"],[\"KBA13_KMH_140_210\",\"customers\"],[\"KBA13_ANZAHL_PKW\",\"azdias\"],[\"KBA13_ANZAHL_PKW\",\"customers\"],[\"KBA13_KMH_110\",\"azdias\"],[\"KBA13_KMH_110\",\"customers\"],[\"KBA13_BJ_2008\",\"azdias\"],[\"KBA13_BJ_2008\",\"customers\"],[\"KBA13_CCM_2000\",\"azdias\"],[\"KBA13_CCM_2000\",\"customers\"],[\"KBA13_CCM_1800\",\"azdias\"],[\"KBA13_CCM_1800\",\"customers\"],[\"KBA13_CCM_1500\",\"azdias\"],[\"KBA13_CCM_1500\",\"customers\"],[\"KBA13_CCM_1401_2500\",\"azdias\"],[\"KBA13_CCM_1401_2500\",\"customers\"],[\"KBA13_CCM_1400\",\"azdias\"],[\"KBA13_CCM_1400\",\"customers\"],[\"KBA13_CCM_1200\",\"azdias\"],[\"KBA13_CCM_1200\",\"customers\"],[\"KBA13_CCM_1000\",\"azdias\"],[\"KBA13_CCM_1000\",\"customers\"],[\"KBA13_CCM_0_1400\",\"azdias\"],[\"KBA13_CCM_0_1400\",\"customers\"],[\"KBA13_BMW\",\"azdias\"],[\"KBA13_BMW\",\"customers\"],[\"KBA13_BJ_2009\",\"azdias\"],[\"KBA13_BJ_2009\",\"customers\"],[\"KBA13_BJ_2006\",\"azdias\"],[\"KBA13_BJ_2006\",\"customers\"],[\"KBA13_CCM_2501\",\"azdias\"],[\"KBA13_CCM_2501\",\"customers\"],[\"KBA13_BJ_2004\",\"azdias\"],[\"KBA13_BJ_2004\",\"customers\"],[\"KBA13_BJ_2000\",\"azdias\"],[\"KBA13_BJ_2000\",\"customers\"],[\"KBA13_BJ_1999\",\"azdias\"],[\"KBA13_BJ_1999\",\"customers\"],[\"KBA13_AUTOQUOTE\",\"azdias\"],[\"KBA13_AUTOQUOTE\",\"customers\"],[\"KBA13_AUDI\",\"azdias\"],[\"KBA13_AUDI\",\"customers\"],[\"KBA13_ALTERHALTER_61\",\"azdias\"],[\"KBA13_ALTERHALTER_61\",\"customers\"],[\"KBA13_ALTERHALTER_60\",\"azdias\"],[\"KBA13_ALTERHALTER_60\",\"customers\"]]},\"selected\":{\"id\":\"1371\"},\"selection_policy\":{\"id\":\"1370\"}},\"id\":\"1334\",\"type\":\"ColumnDataSource\"},{\"attributes\":{\"below\":[{\"id\":\"1291\"}],\"center\":[{\"id\":\"1293\"},{\"id\":\"1297\"},{\"id\":\"1317\"}],\"height\":500,\"left\":[{\"id\":\"1294\"}],\"renderers\":[{\"id\":\"1306\"},{\"id\":\"1322\"}],\"title\":{\"id\":\"1282\"},\"toolbar\":{\"id\":\"1298\"},\"toolbar_location\":null,\"width\":950,\"x_range\":{\"id\":\"1280\"},\"x_scale\":{\"id\":\"1287\"},\"y_range\":{\"id\":\"1285\"},\"y_scale\":{\"id\":\"1289\"}},\"id\":\"1281\",\"subtype\":\"Figure\",\"type\":\"Plot\"},{\"attributes\":{\"bottom\":{\"expr\":{\"id\":\"1244\"}},\"fill_alpha\":{\"value\":0.5},\"fill_color\":{\"value\":\"blue\"},\"line_alpha\":{\"value\":0.5},\"line_color\":{\"value\":null},\"line_width\":{\"value\":0},\"top\":{\"expr\":{\"id\":\"1245\"}},\"width\":{\"value\":0.8},\"x\":{\"field\":\"x\"}},\"id\":\"1249\",\"type\":\"VBar\"},{\"attributes\":{},\"id\":\"1512\",\"type\":\"CategoricalTicker\"},{\"attributes\":{\"fields\":[\"null\",\"missing\"]},\"id\":\"1247\",\"type\":\"Stack\"},{\"attributes\":{\"source\":{\"id\":\"1224\"}},\"id\":\"1252\",\"type\":\"CDSView\"},{\"attributes\":{\"bottom\":{\"expr\":{\"id\":\"1244\"}},\"fill_alpha\":{\"value\":0.1},\"fill_color\":{\"value\":\"blue\"},\"line_alpha\":{\"value\":0.1},\"line_color\":{\"value\":null},\"line_width\":{\"value\":0},\"top\":{\"expr\":{\"id\":\"1245\"}},\"width\":{\"value\":0.8},\"x\":{\"field\":\"x\"}},\"id\":\"1250\",\"type\":\"VBar\"},{\"attributes\":{\"text\":\"Overview of missing data in datasets (plot 10 of 10)\"},\"id\":\"1502\",\"type\":\"Title\"},{\"attributes\":{\"label\":{\"value\":\"null\"},\"renderers\":[{\"id\":\"1251\"}]},\"id\":\"1263\",\"type\":\"LegendItem\"},{\"attributes\":{\"data_source\":{\"id\":\"1224\"},\"glyph\":{\"id\":\"1249\"},\"hover_glyph\":null,\"muted_glyph\":null,\"name\":\"null\",\"nonselection_glyph\":{\"id\":\"1250\"},\"view\":{\"id\":\"1252\"}},\"id\":\"1251\",\"type\":\"GlyphRenderer\"},{\"attributes\":{\"fields\":[]},\"id\":\"1519\",\"type\":\"Stack\"},{\"attributes\":{\"end\":1.05,\"start\":0},\"id\":\"1505\",\"type\":\"DataRange1d\"},{\"attributes\":{\"items\":[{\"id\":\"1263\"},{\"id\":\"1278\"}],\"orientation\":\"horizontal\"},\"id\":\"1262\",\"type\":\"Legend\"},{\"attributes\":{\"formatter\":{\"id\":\"1532\"},\"group_label_orientation\":1.5707963267948966,\"major_label_orientation\":1.5707963267948966,\"major_label_policy\":{\"id\":\"1534\"},\"ticker\":{\"id\":\"1512\"}},\"id\":\"1511\",\"type\":\"CategoricalAxis\"},{\"attributes\":{},\"id\":\"1509\",\"type\":\"LinearScale\"},{\"attributes\":{\"formatter\":{\"id\":\"1529\"},\"major_label_policy\":{\"id\":\"1531\"},\"ticker\":{\"id\":\"1515\"}},\"id\":\"1514\",\"type\":\"LinearAxis\"},{\"attributes\":{},\"id\":\"1507\",\"type\":\"CategoricalScale\"},{\"attributes\":{\"axis\":{\"id\":\"1511\"},\"grid_line_color\":null,\"ticker\":null},\"id\":\"1513\",\"type\":\"Grid\"},{\"attributes\":{\"axis\":{\"id\":\"1514\"},\"dimension\":1,\"ticker\":null},\"id\":\"1517\",\"type\":\"Grid\"},{\"attributes\":{},\"id\":\"1515\",\"type\":\"BasicTicker\"},{\"attributes\":{\"active_multi\":null},\"id\":\"1518\",\"type\":\"Toolbar\"},{\"attributes\":{\"bottom\":{\"expr\":{\"id\":\"1519\"}},\"fill_alpha\":{\"value\":0.1},\"fill_color\":{\"value\":\"blue\"},\"line_alpha\":{\"value\":0.1},\"line_color\":{\"value\":null},\"line_width\":{\"value\":0},\"top\":{\"expr\":{\"id\":\"1520\"}},\"width\":{\"value\":0.8},\"x\":{\"field\":\"x\"}},\"id\":\"1525\",\"type\":\"VBar\"},{\"attributes\":{\"fields\":[\"null\"]},\"id\":\"1520\",\"type\":\"Stack\"},{\"attributes\":{\"label\":{\"value\":\"null\"},\"renderers\":[{\"id\":\"1526\"}]},\"id\":\"1538\",\"type\":\"LegendItem\"},{\"attributes\":{\"source\":{\"id\":\"1499\"}},\"id\":\"1527\",\"type\":\"CDSView\"},{\"attributes\":{\"data_source\":{\"id\":\"1499\"},\"glyph\":{\"id\":\"1524\"},\"hover_glyph\":null,\"muted_glyph\":null,\"name\":\"null\",\"nonselection_glyph\":{\"id\":\"1525\"},\"view\":{\"id\":\"1527\"}},\"id\":\"1526\",\"type\":\"GlyphRenderer\"},{\"attributes\":{\"items\":[{\"id\":\"1538\"},{\"id\":\"1553\"}],\"orientation\":\"horizontal\"},\"id\":\"1537\",\"type\":\"Legend\"},{\"attributes\":{\"bottom\":{\"expr\":{\"id\":\"1519\"}},\"fill_alpha\":{\"value\":0.5},\"fill_color\":{\"value\":\"blue\"},\"line_alpha\":{\"value\":0.5},\"line_color\":{\"value\":null},\"line_width\":{\"value\":0},\"top\":{\"expr\":{\"id\":\"1520\"}},\"width\":{\"value\":0.8},\"x\":{\"field\":\"x\"}},\"id\":\"1524\",\"type\":\"VBar\"},{\"attributes\":{},\"id\":\"1254\",\"type\":\"BasicTickFormatter\"},{\"attributes\":{},\"id\":\"1256\",\"type\":\"AllLabels\"},{\"attributes\":{},\"id\":\"1257\",\"type\":\"CategoricalTickFormatter\"},{\"attributes\":{},\"id\":\"1259\",\"type\":\"AllLabels\"}],\"root_ids\":[\"1003\"]},\"title\":\"Bokeh Application\",\"version\":\"2.3.1\"}};\n",
       "  var render_items = [{\"docid\":\"cfdc6f80-99a9-426f-8565-4d93779b77b9\",\"root_ids\":[\"1003\"],\"roots\":{\"1003\":\"d106b1be-9e63-4566-9ce1-f6aeac4ae1ac\"}}];\n",
       "  root.Bokeh.embed.embed_items_notebook(docs_json, render_items);\n",
       "\n",
       "  }\n",
       "  if (root.Bokeh !== undefined) {\n",
       "    embed_document(root);\n",
       "  } else {\n",
       "    var attempts = 0;\n",
       "    var timer = setInterval(function(root) {\n",
       "      if (root.Bokeh !== undefined) {\n",
       "        clearInterval(timer);\n",
       "        embed_document(root);\n",
       "      } else {\n",
       "        attempts++;\n",
       "        if (attempts > 100) {\n",
       "          clearInterval(timer);\n",
       "          console.log(\"Bokeh: ERROR: Unable to run BokehJS code because BokehJS library is missing\");\n",
       "        }\n",
       "      }\n",
       "    }, 10, root)\n",
       "  }\n",
       "})(window);"
      ],
      "application/vnd.bokehjs_exec.v0+json": ""
     },
     "metadata": {
      "application/vnd.bokehjs_exec.v0+json": {
       "id": "1003"
      }
     },
     "output_type": "display_data"
    }
   ],
   "source": [
    "# plot the missing an NULL values for each column \n",
    "layout = column()\n",
    "\n",
    "page_size = 32\n",
    "pages_total = (len(all_data)//page_size)\n",
    "for k in range(0,len(all_data),page_size):\n",
    "    plot_data = all_data.iloc[k:k+page_size]\n",
    "\n",
    "    features = list(plot_data.index.unique())\n",
    "    cols = ['azdias', 'customers']\n",
    "    factors = [ (feature, col) for feature in features for col in cols ]\n",
    "\n",
    "    unk_type = ['null', 'missing']\n",
    "\n",
    "    null = []\n",
    "    missing = []\n",
    "    for feature, source in factors:\n",
    "        null.append(plot_data.loc[feature, f\"{source}_null\"])\n",
    "        missing.append(plot_data.loc[feature, f\"{source}_missing\"])\n",
    "\n",
    "    source = ColumnDataSource(data=dict(\n",
    "        x=factors,\n",
    "        null=null,\n",
    "        missing=missing,\n",
    "    ))\n",
    "\n",
    "    p = figure(x_range=FactorRange(*factors), plot_width=950, plot_height=500,\n",
    "               title=f\"Overview of missing data in datasets (plot {k//page_size+1} of {pages_total+1})\",\n",
    "               toolbar_location=None, tools=\"\")\n",
    "\n",
    "    p.vbar_stack(unk_type, x='x', width=0.8, alpha=0.5, color=[\"blue\", \"red\"], line_color=None, line_width=0, source=source,\n",
    "                 legend_label=unk_type)\n",
    "\n",
    "    p.y_range.start = 0\n",
    "    p.y_range.end = 1.05\n",
    "    p.xaxis.major_label_orientation = np.pi/2\n",
    "    p.xaxis.group_label_orientation = np.pi/2\n",
    "    p.xgrid.grid_line_color = None\n",
    "    p.legend.location = \"top_right\"\n",
    "    p.legend.orientation = \"horizontal\"\n",
    "\n",
    "    layout.children.append(p)\n",
    "show(layout)"
   ]
  },
  {
   "cell_type": "markdown",
   "metadata": {},
   "source": [
    "### Cleaning ALTER_KINDX columns"
   ]
  },
  {
   "cell_type": "code",
   "execution_count": 27,
   "metadata": {},
   "outputs": [],
   "source": [
    "# # we can combine these columns to obtain 1 that has fewer missing values... \n",
    "# # the \"alter\" word seems to be used to group into age buckets\n",
    "# # if we combine them we \"only\" have 91% of the data missing instead of 99.9%\n",
    "# len(azdias[['ALTER_KIND1','ALTER_KIND2','ALTER_KIND3','ALTER_KIND4']].mean(axis=1).round().dropna())/len(azdias)"
   ]
  },
  {
   "cell_type": "code",
   "execution_count": 28,
   "metadata": {},
   "outputs": [],
   "source": [
    "# def muli_columns_row_mean(df, cols, fillna=-1):\n",
    "#     return df[cols].mean(axis=1).round().fillna(fillna)\n",
    "\n",
    "# def muli_columns_row_count_non_nan(df, cols):\n",
    "#     return ((df[cols].isnull() == False).sum(axis=1))"
   ]
  },
  {
   "cell_type": "code",
   "execution_count": 29,
   "metadata": {},
   "outputs": [],
   "source": [
    "# ALTER_KIND_cols = ['ALTER_KIND1','ALTER_KIND2','ALTER_KIND3','ALTER_KIND4']\n",
    "# azdias['ALTER_KIND_M'] = muli_columns_row_mean(azdias,ALTER_KIND_cols)\n",
    "# azdias['ALTER_KIND_C'] = muli_columns_row_count_non_nan(azdias,ALTER_KIND_cols)\n",
    "\n",
    "# customers['ALTER_KIND_M'] = muli_columns_row_mean(customers,ALTER_KIND_cols)\n",
    "# customers['ALTER_KIND_C'] = muli_columns_row_count_non_nan(customers,ALTER_KIND_cols)"
   ]
  },
  {
   "cell_type": "code",
   "execution_count": 30,
   "metadata": {},
   "outputs": [],
   "source": [
    "# azdias.drop(columns=ALTER_KIND_cols, inplace=True)\n",
    "# customers.drop(columns=ALTER_KIND_cols, inplace=True)"
   ]
  },
  {
   "cell_type": "markdown",
   "metadata": {},
   "source": [
    "### Cleaning missing data"
   ]
  },
  {
   "cell_type": "code",
   "execution_count": 31,
   "metadata": {},
   "outputs": [],
   "source": [
    "# if there are more than 1 missing label use the first one, and replace the 2nd one with the first\n",
    "def clean_missing(df1, missing_labels):\n",
    "    \"\"\"\n",
    "    Makes the missing labels consistent through the dataset. If there is more than 1 missing label, the first one\n",
    "    is used. Additionally returns which columns in the dataset is missing from the labels, and which lables are\n",
    "    missing from the dataset.\n",
    "    \n",
    "    Input\n",
    "    df - DataFrame to treat\n",
    "    missing_labels - a series that has as index the column names and as values a list of the possible missing values\n",
    "    \n",
    "    Output\n",
    "    df_cols_missing_from_labels - columns in the dataset thats is missing from the labels\n",
    "    label_cols_missing_from_df - columns in the labels that is missing from the dataset\n",
    "    \"\"\"\n",
    "    df_cols_missing_from_labels = list(df1.columns)\n",
    "    label_cols_missing_from_df = []\n",
    "    # go through all values that we have a index mapping for\n",
    "    for c in tqdm(missing_labels.index):\n",
    "        if c in df_cols_missing_from_labels:\n",
    "            # remove colum if it has been treated\n",
    "            df_cols_missing_from_labels.remove(c)\n",
    "            if len(missing_labels[c]) > 1:\n",
    "                # if there is more than 1 value to map to, map all of the rest to the first one\n",
    "                replacement_mapping = dict()\n",
    "                for k in missing_labels[c][1:]:\n",
    "                    replacement_mapping[k] = missing_labels[c][0]\n",
    "                df1[c].replace(replacement_mapping, inplace=True)\n",
    "        else:\n",
    "            label_cols_missing_from_df.append(c)\n",
    "    return df_cols_missing_from_labels, label_cols_missing_from_df"
   ]
  },
  {
   "cell_type": "code",
   "execution_count": 32,
   "metadata": {},
   "outputs": [
    {
     "data": {
      "application/vnd.jupyter.widget-view+json": {
       "model_id": "ffce96d7aec7432ba6a408dd3e2322af",
       "version_major": 2,
       "version_minor": 0
      },
      "text/plain": [
       "  0%|          | 0/307 [00:00<?, ?it/s]"
      ]
     },
     "metadata": {},
     "output_type": "display_data"
    },
    {
     "data": {
      "application/vnd.jupyter.widget-view+json": {
       "model_id": "bdcd450c76f14b9399c4c21d08612560",
       "version_major": 2,
       "version_minor": 0
      },
      "text/plain": [
       "  0%|          | 0/307 [00:00<?, ?it/s]"
      ]
     },
     "metadata": {},
     "output_type": "display_data"
    }
   ],
   "source": [
    "df_cols_missing_from_labels, label_cols_missing_from_df = clean_missing(azdias, missing_labels)\n",
    "_, _ = clean_missing(customers, missing_labels)"
   ]
  },
  {
   "cell_type": "code",
   "execution_count": 33,
   "metadata": {},
   "outputs": [
    {
     "data": {
      "text/plain": [
       "KBA13_ANZAHL_PKW               1262\n",
       "ANZ_HAUSHALTE_AKTIV             293\n",
       "GEBURTSJAHR                     117\n",
       "CAMEO_DEU_2015                   45\n",
       "LP_LEBENSPHASE_FEIN              42\n",
       "MIN_GEBAEUDEJAHR                 33\n",
       "ANZ_PERSONEN                     31\n",
       "ALTER_HH                         23\n",
       "ANZ_HH_TITEL                     22\n",
       "CAMEO_INTL_2015                  22\n",
       "PRAEGENDE_JUGENDJAHRE            16\n",
       "LP_LEBENSPHASE_GROB              14\n",
       "GFK_URLAUBERTYP                  13\n",
       "LP_FAMILIE_FEIN                  13\n",
       "D19_GESAMT_ONLINE_QUOTE_12       12\n",
       "D19_BANKEN_ONLINE_QUOTE_12       12\n",
       "D19_VERSAND_ONLINE_QUOTE_12      12\n",
       "ORTSGR_KLS9                      11\n",
       "LP_STATUS_FEIN                   11\n",
       "WOHNDAUER_2008                   10\n",
       "dtype: int64"
      ]
     },
     "execution_count": 33,
     "metadata": {},
     "output_type": "execute_result"
    }
   ],
   "source": [
    "azdias.apply(pd.Series.unique).apply(len).sort_values(ascending=False).head(20)"
   ]
  },
  {
   "cell_type": "code",
   "execution_count": 34,
   "metadata": {},
   "outputs": [],
   "source": [
    "# t = azdias['ANZ_HAUSHALTE_AKTIV'].copy()\n",
    "# t.loc[t>16] = 16\n",
    "# azdias['ANZ_HAUSHALTE_AKTIV'] = t\n",
    "# azdias['ANZ_HAUSHALTE_AKTIV'].value_counts().sort_index().head(40)/len(azdias)"
   ]
  },
  {
   "cell_type": "code",
   "execution_count": 35,
   "metadata": {},
   "outputs": [],
   "source": [
    "# t = azdias['ANZ_STATISTISCHE_HAUSHALTE'].copy()\n",
    "# t.loc[t>16] = 16\n",
    "# azdias['ANZ_STATISTISCHE_HAUSHALTE'] = t\n",
    "# azdias['ANZ_STATISTISCHE_HAUSHALTE'].value_counts().sort_index().head(40)/len(azdias)"
   ]
  },
  {
   "cell_type": "markdown",
   "metadata": {},
   "source": [
    "# Fill missing values\n",
    "\n",
    "There are various ways to treat missing values. Due to the multiple procesess in which missing data ends up the dataset, it was chosen to not mix these. So if data was lablelled as missing that label was kept (unless there were multiple labels for missing, in which case the first label was used and all other missing labels were replaced with the first). Missing data in the form of NaNs were replaced with the smallest value in the data -1. The data is mostly categorical. "
   ]
  },
  {
   "cell_type": "code",
   "execution_count": 36,
   "metadata": {},
   "outputs": [],
   "source": [
    "# replace all nans with a numeric value not found in the data\n",
    "missing_fill_value = azdias.min()-1\n",
    "azdias.fillna(missing_fill_value, inplace=True)\n",
    "customers.fillna(missing_fill_value, inplace=True)"
   ]
  },
  {
   "cell_type": "code",
   "execution_count": 37,
   "metadata": {},
   "outputs": [
    {
     "data": {
      "text/plain": [
       "AGER_TYP                [-2.0, -1.0]\n",
       "ALTERSKATEGORIE_GROB         [-1, 0]\n",
       "ALTER_HH                 [-1.0, 0.0]\n",
       "ANREDE_KZ                    [-1, 0]\n",
       "BALLRAUM                 [-1.0, 0.0]\n",
       "                            ...     \n",
       "ANZ_PERSONEN                  [-1.0]\n",
       "ANZ_TITEL                     [-1.0]\n",
       "GEBURTSJAHR                   [-1.0]\n",
       "KBA13_ANZAHL_PKW              [-1.0]\n",
       "MIN_GEBAEUDEJAHR            [1984.0]\n",
       "Length: 314, dtype: object"
      ]
     },
     "execution_count": 37,
     "metadata": {},
     "output_type": "execute_result"
    }
   ],
   "source": [
    "# update the missing labels array so we can use it elsewhere\n",
    "def merge(r):\n",
    "    \"\"\"\n",
    "    Merges the missing values into a single list. Values in each column does not have to be in a list. Removes NaNs.\n",
    "    \"\"\"\n",
    "    col_vals = list(r)\n",
    "    arr = []\n",
    "    for elem in col_vals:\n",
    "        if '__len__' in dir(elem):  # if __len__ is implemented its a list like objecct\n",
    "            arr.extend(list(elem))\n",
    "        elif np.isnan(elem) == False:  # keep it if its not NaN\n",
    "            arr.append(elem)\n",
    "    arr = np.array(list(set(arr)))\n",
    "    arr.sort()\n",
    "    return arr\n",
    "\n",
    "missing_labels_all = pd.DataFrame([missing_labels, missing_fill_value]).T\n",
    "missing_labels_all = missing_labels_all.apply(merge, axis=1)\n",
    "missing_labels_all"
   ]
  },
  {
   "cell_type": "code",
   "execution_count": 38,
   "metadata": {},
   "outputs": [
    {
     "data": {
      "text/plain": [
       "(True, True)"
      ]
     },
     "execution_count": 38,
     "metadata": {},
     "output_type": "execute_result"
    }
   ],
   "source": [
    "# make sure the operation completed and that there are no longer any nans in the data\n",
    "azdias.isna().sum().sum() == 0, customers.isna().sum().sum() == 0"
   ]
  },
  {
   "cell_type": "markdown",
   "metadata": {},
   "source": [
    "# Convert columns to int64 if they dont lose information in the process"
   ]
  },
  {
   "cell_type": "code",
   "execution_count": 39,
   "metadata": {},
   "outputs": [
    {
     "name": "stdout",
     "output_type": "stream",
     "text": [
      "223 columns can be converted from float to int, while 0 can not\n"
     ]
    }
   ],
   "source": [
    "can_convert_to_int = []\n",
    "cannot_convert_to_int = []\n",
    "for c in azdias.dtypes[azdias.dtypes == np.float64].index:\n",
    "    # if all values in float form equals the value in int form\n",
    "    if (azdias[c] == azdias[c].astype(np.int64)).sum() == len(azdias[c]):\n",
    "        # then we can convert that column to int without losing information\n",
    "        can_convert_to_int.append(c)\n",
    "    else:\n",
    "        # otherwise at last some of the float values contain information that is lost in the conversion\n",
    "        cannot_convert_to_int.append(c)\n",
    "        print(f\"{c} is not convertable from float to int\")\n",
    "print(f\"{len(can_convert_to_int)} columns can be converted from float to int, while {len(cannot_convert_to_int)} can not\")        \n",
    "# convert all to the columns that we can to int\n",
    "azdias[can_convert_to_int] = azdias[can_convert_to_int].astype(np.int64)\n",
    "customers[can_convert_to_int] = customers[can_convert_to_int].astype(np.int64)"
   ]
  },
  {
   "cell_type": "markdown",
   "metadata": {},
   "source": [
    "# Find and massage data that has long tails"
   ]
  },
  {
   "cell_type": "code",
   "execution_count": 40,
   "metadata": {},
   "outputs": [],
   "source": [
    "column_stats = azdias.quantile([0, 0.01, 0.25, 0.5, 0.75, 0.99, 1]).T\n",
    "column_stats['IQR'] = column_stats[0.75] - column_stats[0.25]\n",
    "column_stats['l'] = column_stats[0.25] - 1.5 * column_stats['IQR']\n",
    "column_stats['u'] = column_stats[0.75] + 1.5 * column_stats['IQR']"
   ]
  },
  {
   "cell_type": "code",
   "execution_count": 41,
   "metadata": {},
   "outputs": [],
   "source": [
    "column_stats['num_vals'] = azdias.apply(pd.Series.unique).apply(len)"
   ]
  },
  {
   "cell_type": "code",
   "execution_count": 42,
   "metadata": {},
   "outputs": [],
   "source": [
    "column_stats['upper_outlier_percentage'] = (\n",
    "  #  (azdias < column_stats['l']) | \n",
    "    (azdias > column_stats['u'])\n",
    ").sum()/len(azdias) "
   ]
  },
  {
   "cell_type": "code",
   "execution_count": 43,
   "metadata": {},
   "outputs": [
    {
     "data": {
      "text/html": [
       "<div>\n",
       "<style scoped>\n",
       "    .dataframe tbody tr th:only-of-type {\n",
       "        vertical-align: middle;\n",
       "    }\n",
       "\n",
       "    .dataframe tbody tr th {\n",
       "        vertical-align: top;\n",
       "    }\n",
       "\n",
       "    .dataframe thead th {\n",
       "        text-align: right;\n",
       "    }\n",
       "</style>\n",
       "<table border=\"1\" class=\"dataframe\">\n",
       "  <thead>\n",
       "    <tr style=\"text-align: right;\">\n",
       "      <th></th>\n",
       "      <th>0.0</th>\n",
       "      <th>0.01</th>\n",
       "      <th>0.25</th>\n",
       "      <th>0.5</th>\n",
       "      <th>0.75</th>\n",
       "      <th>0.99</th>\n",
       "      <th>1.0</th>\n",
       "      <th>IQR</th>\n",
       "      <th>l</th>\n",
       "      <th>u</th>\n",
       "      <th>num_vals</th>\n",
       "      <th>upper_outlier_percentage</th>\n",
       "    </tr>\n",
       "  </thead>\n",
       "  <tbody>\n",
       "    <tr>\n",
       "      <th>AGER_TYP</th>\n",
       "      <td>-1.0</td>\n",
       "      <td>-1.0</td>\n",
       "      <td>-1.0</td>\n",
       "      <td>-1.0</td>\n",
       "      <td>0.0</td>\n",
       "      <td>3.0</td>\n",
       "      <td>3.0</td>\n",
       "      <td>1.0</td>\n",
       "      <td>-2.5</td>\n",
       "      <td>1.5</td>\n",
       "      <td>5</td>\n",
       "      <td>0.149688</td>\n",
       "    </tr>\n",
       "    <tr>\n",
       "      <th>ALTER_HH</th>\n",
       "      <td>-1.0</td>\n",
       "      <td>-1.0</td>\n",
       "      <td>0.0</td>\n",
       "      <td>13.0</td>\n",
       "      <td>17.0</td>\n",
       "      <td>21.0</td>\n",
       "      <td>21.0</td>\n",
       "      <td>17.0</td>\n",
       "      <td>-25.5</td>\n",
       "      <td>42.5</td>\n",
       "      <td>23</td>\n",
       "      <td>0.000000</td>\n",
       "    </tr>\n",
       "    <tr>\n",
       "      <th>ANZ_HAUSHALTE_AKTIV</th>\n",
       "      <td>-1.0</td>\n",
       "      <td>-1.0</td>\n",
       "      <td>1.0</td>\n",
       "      <td>3.0</td>\n",
       "      <td>9.0</td>\n",
       "      <td>68.0</td>\n",
       "      <td>595.0</td>\n",
       "      <td>8.0</td>\n",
       "      <td>-11.0</td>\n",
       "      <td>21.0</td>\n",
       "      <td>293</td>\n",
       "      <td>0.069872</td>\n",
       "    </tr>\n",
       "    <tr>\n",
       "      <th>ANZ_HH_TITEL</th>\n",
       "      <td>-1.0</td>\n",
       "      <td>-1.0</td>\n",
       "      <td>0.0</td>\n",
       "      <td>0.0</td>\n",
       "      <td>0.0</td>\n",
       "      <td>1.0</td>\n",
       "      <td>23.0</td>\n",
       "      <td>0.0</td>\n",
       "      <td>0.0</td>\n",
       "      <td>0.0</td>\n",
       "      <td>22</td>\n",
       "      <td>0.028538</td>\n",
       "    </tr>\n",
       "    <tr>\n",
       "      <th>ANZ_PERSONEN</th>\n",
       "      <td>-1.0</td>\n",
       "      <td>-1.0</td>\n",
       "      <td>1.0</td>\n",
       "      <td>1.0</td>\n",
       "      <td>2.0</td>\n",
       "      <td>5.0</td>\n",
       "      <td>45.0</td>\n",
       "      <td>1.0</td>\n",
       "      <td>-0.5</td>\n",
       "      <td>3.5</td>\n",
       "      <td>31</td>\n",
       "      <td>0.083275</td>\n",
       "    </tr>\n",
       "  </tbody>\n",
       "</table>\n",
       "</div>"
      ],
      "text/plain": [
       "                     0.0  0.01  0.25   0.5  0.75  0.99    1.0   IQR     l  \\\n",
       "AGER_TYP            -1.0  -1.0  -1.0  -1.0   0.0   3.0    3.0   1.0  -2.5   \n",
       "ALTER_HH            -1.0  -1.0   0.0  13.0  17.0  21.0   21.0  17.0 -25.5   \n",
       "ANZ_HAUSHALTE_AKTIV -1.0  -1.0   1.0   3.0   9.0  68.0  595.0   8.0 -11.0   \n",
       "ANZ_HH_TITEL        -1.0  -1.0   0.0   0.0   0.0   1.0   23.0   0.0   0.0   \n",
       "ANZ_PERSONEN        -1.0  -1.0   1.0   1.0   2.0   5.0   45.0   1.0  -0.5   \n",
       "\n",
       "                        u  num_vals  upper_outlier_percentage  \n",
       "AGER_TYP              1.5         5                  0.149688  \n",
       "ALTER_HH             42.5        23                  0.000000  \n",
       "ANZ_HAUSHALTE_AKTIV  21.0       293                  0.069872  \n",
       "ANZ_HH_TITEL          0.0        22                  0.028538  \n",
       "ANZ_PERSONEN          3.5        31                  0.083275  "
      ]
     },
     "execution_count": 43,
     "metadata": {},
     "output_type": "execute_result"
    }
   ],
   "source": [
    "column_stats.head(5)"
   ]
  },
  {
   "cell_type": "code",
   "execution_count": 44,
   "metadata": {},
   "outputs": [
    {
     "data": {
      "text/html": [
       "<div>\n",
       "<style scoped>\n",
       "    .dataframe tbody tr th:only-of-type {\n",
       "        vertical-align: middle;\n",
       "    }\n",
       "\n",
       "    .dataframe tbody tr th {\n",
       "        vertical-align: top;\n",
       "    }\n",
       "\n",
       "    .dataframe thead th {\n",
       "        text-align: right;\n",
       "    }\n",
       "</style>\n",
       "<table border=\"1\" class=\"dataframe\">\n",
       "  <thead>\n",
       "    <tr style=\"text-align: right;\">\n",
       "      <th></th>\n",
       "      <th>0.0</th>\n",
       "      <th>0.01</th>\n",
       "      <th>0.25</th>\n",
       "      <th>0.5</th>\n",
       "      <th>0.75</th>\n",
       "      <th>0.99</th>\n",
       "      <th>1.0</th>\n",
       "      <th>IQR</th>\n",
       "      <th>l</th>\n",
       "      <th>u</th>\n",
       "      <th>num_vals</th>\n",
       "      <th>upper_outlier_percentage</th>\n",
       "    </tr>\n",
       "  </thead>\n",
       "  <tbody>\n",
       "    <tr>\n",
       "      <th>ANZ_HAUSHALTE_AKTIV</th>\n",
       "      <td>-1.0</td>\n",
       "      <td>-1.0</td>\n",
       "      <td>1.0</td>\n",
       "      <td>3.0</td>\n",
       "      <td>9.0</td>\n",
       "      <td>68.0</td>\n",
       "      <td>595.0</td>\n",
       "      <td>8.0</td>\n",
       "      <td>-11.0</td>\n",
       "      <td>21.0</td>\n",
       "      <td>293</td>\n",
       "      <td>0.069872</td>\n",
       "    </tr>\n",
       "    <tr>\n",
       "      <th>ANZ_HH_TITEL</th>\n",
       "      <td>-1.0</td>\n",
       "      <td>-1.0</td>\n",
       "      <td>0.0</td>\n",
       "      <td>0.0</td>\n",
       "      <td>0.0</td>\n",
       "      <td>1.0</td>\n",
       "      <td>23.0</td>\n",
       "      <td>0.0</td>\n",
       "      <td>0.0</td>\n",
       "      <td>0.0</td>\n",
       "      <td>22</td>\n",
       "      <td>0.028538</td>\n",
       "    </tr>\n",
       "    <tr>\n",
       "      <th>ANZ_PERSONEN</th>\n",
       "      <td>-1.0</td>\n",
       "      <td>-1.0</td>\n",
       "      <td>1.0</td>\n",
       "      <td>1.0</td>\n",
       "      <td>2.0</td>\n",
       "      <td>5.0</td>\n",
       "      <td>45.0</td>\n",
       "      <td>1.0</td>\n",
       "      <td>-0.5</td>\n",
       "      <td>3.5</td>\n",
       "      <td>31</td>\n",
       "      <td>0.083275</td>\n",
       "    </tr>\n",
       "    <tr>\n",
       "      <th>D19_BANKEN_ONLINE_QUOTE_12</th>\n",
       "      <td>-1.0</td>\n",
       "      <td>-1.0</td>\n",
       "      <td>0.0</td>\n",
       "      <td>0.0</td>\n",
       "      <td>0.0</td>\n",
       "      <td>10.0</td>\n",
       "      <td>10.0</td>\n",
       "      <td>0.0</td>\n",
       "      <td>0.0</td>\n",
       "      <td>0.0</td>\n",
       "      <td>12</td>\n",
       "      <td>0.053919</td>\n",
       "    </tr>\n",
       "    <tr>\n",
       "      <th>KBA13_ANZAHL_PKW</th>\n",
       "      <td>-1.0</td>\n",
       "      <td>-1.0</td>\n",
       "      <td>346.0</td>\n",
       "      <td>525.0</td>\n",
       "      <td>757.0</td>\n",
       "      <td>1700.0</td>\n",
       "      <td>2300.0</td>\n",
       "      <td>411.0</td>\n",
       "      <td>-270.5</td>\n",
       "      <td>1373.5</td>\n",
       "      <td>1262</td>\n",
       "      <td>0.043839</td>\n",
       "    </tr>\n",
       "    <tr>\n",
       "      <th>MIN_GEBAEUDEJAHR</th>\n",
       "      <td>1984.0</td>\n",
       "      <td>1984.0</td>\n",
       "      <td>1992.0</td>\n",
       "      <td>1992.0</td>\n",
       "      <td>1993.0</td>\n",
       "      <td>2009.0</td>\n",
       "      <td>2016.0</td>\n",
       "      <td>1.0</td>\n",
       "      <td>1990.5</td>\n",
       "      <td>1994.5</td>\n",
       "      <td>33</td>\n",
       "      <td>0.132273</td>\n",
       "    </tr>\n",
       "  </tbody>\n",
       "</table>\n",
       "</div>"
      ],
      "text/plain": [
       "                               0.0    0.01    0.25     0.5    0.75    0.99  \\\n",
       "ANZ_HAUSHALTE_AKTIV           -1.0    -1.0     1.0     3.0     9.0    68.0   \n",
       "ANZ_HH_TITEL                  -1.0    -1.0     0.0     0.0     0.0     1.0   \n",
       "ANZ_PERSONEN                  -1.0    -1.0     1.0     1.0     2.0     5.0   \n",
       "D19_BANKEN_ONLINE_QUOTE_12    -1.0    -1.0     0.0     0.0     0.0    10.0   \n",
       "KBA13_ANZAHL_PKW              -1.0    -1.0   346.0   525.0   757.0  1700.0   \n",
       "MIN_GEBAEUDEJAHR            1984.0  1984.0  1992.0  1992.0  1993.0  2009.0   \n",
       "\n",
       "                               1.0    IQR       l       u  num_vals  \\\n",
       "ANZ_HAUSHALTE_AKTIV          595.0    8.0   -11.0    21.0       293   \n",
       "ANZ_HH_TITEL                  23.0    0.0     0.0     0.0        22   \n",
       "ANZ_PERSONEN                  45.0    1.0    -0.5     3.5        31   \n",
       "D19_BANKEN_ONLINE_QUOTE_12    10.0    0.0     0.0     0.0        12   \n",
       "KBA13_ANZAHL_PKW            2300.0  411.0  -270.5  1373.5      1262   \n",
       "MIN_GEBAEUDEJAHR            2016.0    1.0  1990.5  1994.5        33   \n",
       "\n",
       "                            upper_outlier_percentage  \n",
       "ANZ_HAUSHALTE_AKTIV                         0.069872  \n",
       "ANZ_HH_TITEL                                0.028538  \n",
       "ANZ_PERSONEN                                0.083275  \n",
       "D19_BANKEN_ONLINE_QUOTE_12                  0.053919  \n",
       "KBA13_ANZAHL_PKW                            0.043839  \n",
       "MIN_GEBAEUDEJAHR                            0.132273  "
      ]
     },
     "execution_count": 44,
     "metadata": {},
     "output_type": "execute_result"
    }
   ],
   "source": [
    "column_stats[(column_stats['num_vals'] > 10) & (column_stats['upper_outlier_percentage'] > 0)]"
   ]
  },
  {
   "cell_type": "code",
   "execution_count": 45,
   "metadata": {},
   "outputs": [
    {
     "data": {
      "text/html": [
       "\n",
       "\n",
       "\n",
       "\n",
       "\n",
       "\n",
       "  <div class=\"bk-root\" id=\"cabd1212-523c-4b16-87b5-ea4906da1a25\" data-root-id=\"2094\"></div>\n"
      ]
     },
     "metadata": {},
     "output_type": "display_data"
    },
    {
     "data": {
      "application/javascript": [
       "(function(root) {\n",
       "  function embed_document(root) {\n",
       "    \n",
       "  var docs_json = {\"d9b56c31-9afb-4cc2-91f0-d11becfe80a5\":{\"defs\":[],\"roots\":{\"references\":[{\"attributes\":{\"below\":[{\"id\":\"2105\"}],\"center\":[{\"id\":\"2108\"},{\"id\":\"2112\"},{\"id\":\"2143\"}],\"height\":400,\"left\":[{\"id\":\"2109\"}],\"output_backend\":\"webgl\",\"renderers\":[{\"id\":\"2131\"}],\"sizing_mode\":\"fixed\",\"title\":{\"id\":\"2095\"},\"toolbar\":{\"id\":\"2120\"},\"x_range\":{\"id\":\"2097\"},\"x_scale\":{\"id\":\"2101\"},\"y_range\":{\"id\":\"2099\"},\"y_scale\":{\"id\":\"2103\"}},\"id\":\"2094\",\"subtype\":\"Figure\",\"type\":\"Plot\"},{\"attributes\":{},\"id\":\"2118\",\"type\":\"HelpTool\"},{\"attributes\":{},\"id\":\"2117\",\"type\":\"ResetTool\"},{\"attributes\":{\"overlay\":{\"id\":\"2119\"}},\"id\":\"2115\",\"type\":\"BoxZoomTool\"},{\"attributes\":{},\"id\":\"2136\",\"type\":\"AllLabels\"},{\"attributes\":{},\"id\":\"2116\",\"type\":\"SaveTool\"},{\"attributes\":{},\"id\":\"2101\",\"type\":\"LinearScale\"},{\"attributes\":{\"data\":{\"ANZ_PERSONEN\":[21419,34102,423162,195469,94905,47126,15503,4842,1525,523,180,67,38,16,11,4,3,1,1,1,3,4,2,2,1,1,1,2,2,1,1],\"__x__values\":[-1,0,1,2,3,4,5,6,7,8,9,10,11,12,13,14,15,16,17,18,20,21,22,23,29,31,35,37,38,40,45],\"__x__values_original\":[-1,0,1,2,3,4,5,6,7,8,9,10,11,12,13,14,15,16,17,18,20,21,22,23,29,31,35,37,38,40,45]},\"selected\":{\"id\":\"2142\"},\"selection_policy\":{\"id\":\"2141\"}},\"id\":\"2127\",\"type\":\"ColumnDataSource\"},{\"attributes\":{},\"id\":\"2137\",\"type\":\"BasicTickFormatter\"},{\"attributes\":{},\"id\":\"2142\",\"type\":\"Selection\"},{\"attributes\":{},\"id\":\"2110\",\"type\":\"BasicTicker\"},{\"attributes\":{\"formatter\":{\"id\":\"2137\"},\"major_label_policy\":{\"id\":\"2139\"},\"ticker\":{\"id\":\"2106\"}},\"id\":\"2105\",\"type\":\"LinearAxis\"},{\"attributes\":{\"bottom_units\":\"screen\",\"fill_alpha\":0.5,\"fill_color\":\"lightgrey\",\"left_units\":\"screen\",\"level\":\"overlay\",\"line_alpha\":1.0,\"line_color\":\"black\",\"line_dash\":[4,4],\"line_width\":2,\"right_units\":\"screen\",\"syncable\":false,\"top_units\":\"screen\"},\"id\":\"2119\",\"type\":\"BoxAnnotation\"},{\"attributes\":{\"axis_label\":\"ANZ_PERSONEN\",\"formatter\":{\"id\":\"2134\"},\"major_label_policy\":{\"id\":\"2136\"},\"ticker\":{\"id\":\"2110\"}},\"id\":\"2109\",\"type\":\"LinearAxis\"},{\"attributes\":{},\"id\":\"2103\",\"type\":\"LinearScale\"},{\"attributes\":{\"line_color\":\"#1f77b4\",\"line_width\":2,\"x\":{\"field\":\"__x__values\"},\"y\":{\"field\":\"ANZ_PERSONEN\"}},\"id\":\"2129\",\"type\":\"Line\"},{\"attributes\":{},\"id\":\"2095\",\"type\":\"Title\"},{\"attributes\":{},\"id\":\"2099\",\"type\":\"DataRange1d\"},{\"attributes\":{\"source\":{\"id\":\"2127\"}},\"id\":\"2132\",\"type\":\"CDSView\"},{\"attributes\":{},\"id\":\"2139\",\"type\":\"AllLabels\"},{\"attributes\":{\"callback\":null,\"mode\":\"vline\",\"renderers\":[{\"id\":\"2131\"}],\"tooltips\":[[\"x\",\"@__x__values_original\"],[\"ANZ_PERSONEN\",\"@{ANZ_PERSONEN}\"]]},\"id\":\"2145\",\"type\":\"HoverTool\"},{\"attributes\":{},\"id\":\"2114\",\"type\":\"WheelZoomTool\"},{\"attributes\":{\"line_alpha\":0.1,\"line_color\":\"#1f77b4\",\"line_width\":2,\"x\":{\"field\":\"__x__values\"},\"y\":{\"field\":\"ANZ_PERSONEN\"}},\"id\":\"2130\",\"type\":\"Line\"},{\"attributes\":{},\"id\":\"2141\",\"type\":\"UnionRenderers\"},{\"attributes\":{},\"id\":\"2106\",\"type\":\"BasicTicker\"},{\"attributes\":{},\"id\":\"2097\",\"type\":\"DataRange1d\"},{\"attributes\":{\"active_multi\":null,\"active_scroll\":{\"id\":\"2114\"},\"tools\":[{\"id\":\"2113\"},{\"id\":\"2114\"},{\"id\":\"2115\"},{\"id\":\"2116\"},{\"id\":\"2117\"},{\"id\":\"2118\"},{\"id\":\"2145\"}]},\"id\":\"2120\",\"type\":\"Toolbar\"},{\"attributes\":{},\"id\":\"2134\",\"type\":\"BasicTickFormatter\"},{\"attributes\":{},\"id\":\"2113\",\"type\":\"PanTool\"},{\"attributes\":{\"axis\":{\"id\":\"2105\"},\"ticker\":null},\"id\":\"2108\",\"type\":\"Grid\"},{\"attributes\":{\"axis\":{\"id\":\"2109\"},\"dimension\":1,\"ticker\":null},\"id\":\"2112\",\"type\":\"Grid\"},{\"attributes\":{\"click_policy\":\"hide\",\"items\":[{\"id\":\"2144\"}]},\"id\":\"2143\",\"type\":\"Legend\"},{\"attributes\":{\"data_source\":{\"id\":\"2127\"},\"glyph\":{\"id\":\"2129\"},\"hover_glyph\":null,\"muted_glyph\":null,\"nonselection_glyph\":{\"id\":\"2130\"},\"view\":{\"id\":\"2132\"}},\"id\":\"2131\",\"type\":\"GlyphRenderer\"},{\"attributes\":{\"label\":{\"value\":\" ANZ_PERSONEN\"},\"renderers\":[{\"id\":\"2131\"}]},\"id\":\"2144\",\"type\":\"LegendItem\"}],\"root_ids\":[\"2094\"]},\"title\":\"Bokeh Application\",\"version\":\"2.3.1\"}};\n",
       "  var render_items = [{\"docid\":\"d9b56c31-9afb-4cc2-91f0-d11becfe80a5\",\"root_ids\":[\"2094\"],\"roots\":{\"2094\":\"cabd1212-523c-4b16-87b5-ea4906da1a25\"}}];\n",
       "  root.Bokeh.embed.embed_items_notebook(docs_json, render_items);\n",
       "\n",
       "  }\n",
       "  if (root.Bokeh !== undefined) {\n",
       "    embed_document(root);\n",
       "  } else {\n",
       "    var attempts = 0;\n",
       "    var timer = setInterval(function(root) {\n",
       "      if (root.Bokeh !== undefined) {\n",
       "        clearInterval(timer);\n",
       "        embed_document(root);\n",
       "      } else {\n",
       "        attempts++;\n",
       "        if (attempts > 100) {\n",
       "          clearInterval(timer);\n",
       "          console.log(\"Bokeh: ERROR: Unable to run BokehJS code because BokehJS library is missing\");\n",
       "        }\n",
       "      }\n",
       "    }, 10, root)\n",
       "  }\n",
       "})(window);"
      ],
      "application/vnd.bokehjs_exec.v0+json": ""
     },
     "metadata": {
      "application/vnd.bokehjs_exec.v0+json": {
       "id": "2094"
      }
     },
     "output_type": "display_data"
    },
    {
     "data": {
      "text/html": [
       "<div style=\"display: table;\"><div style=\"display: table-row;\"><div style=\"display: table-cell;\"><b title=\"bokeh.plotting.figure.Figure\">Figure</b>(</div><div style=\"display: table-cell;\">id&nbsp;=&nbsp;'2094', <span id=\"2298\" style=\"cursor: pointer;\">&hellip;)</span></div></div><div class=\"2297\" style=\"display: none;\"><div style=\"display: table-cell;\"></div><div style=\"display: table-cell;\">above&nbsp;=&nbsp;[],</div></div><div class=\"2297\" style=\"display: none;\"><div style=\"display: table-cell;\"></div><div style=\"display: table-cell;\">align&nbsp;=&nbsp;'start',</div></div><div class=\"2297\" style=\"display: none;\"><div style=\"display: table-cell;\"></div><div style=\"display: table-cell;\">aspect_ratio&nbsp;=&nbsp;None,</div></div><div class=\"2297\" style=\"display: none;\"><div style=\"display: table-cell;\"></div><div style=\"display: table-cell;\">aspect_scale&nbsp;=&nbsp;1,</div></div><div class=\"2297\" style=\"display: none;\"><div style=\"display: table-cell;\"></div><div style=\"display: table-cell;\">background&nbsp;=&nbsp;None,</div></div><div class=\"2297\" style=\"display: none;\"><div style=\"display: table-cell;\"></div><div style=\"display: table-cell;\">background_fill_alpha&nbsp;=&nbsp;1.0,</div></div><div class=\"2297\" style=\"display: none;\"><div style=\"display: table-cell;\"></div><div style=\"display: table-cell;\">background_fill_color&nbsp;=&nbsp;'#ffffff',</div></div><div class=\"2297\" style=\"display: none;\"><div style=\"display: table-cell;\"></div><div style=\"display: table-cell;\">below&nbsp;=&nbsp;[LinearAxis(id='2105', ...)],</div></div><div class=\"2297\" style=\"display: none;\"><div style=\"display: table-cell;\"></div><div style=\"display: table-cell;\">border_fill_alpha&nbsp;=&nbsp;1.0,</div></div><div class=\"2297\" style=\"display: none;\"><div style=\"display: table-cell;\"></div><div style=\"display: table-cell;\">border_fill_color&nbsp;=&nbsp;'#ffffff',</div></div><div class=\"2297\" style=\"display: none;\"><div style=\"display: table-cell;\"></div><div style=\"display: table-cell;\">center&nbsp;=&nbsp;[Grid(id='2108', ...), Grid(id='2112', ...), Legend(id='2143', ...)],</div></div><div class=\"2297\" style=\"display: none;\"><div style=\"display: table-cell;\"></div><div style=\"display: table-cell;\">css_classes&nbsp;=&nbsp;[],</div></div><div class=\"2297\" style=\"display: none;\"><div style=\"display: table-cell;\"></div><div style=\"display: table-cell;\">disabled&nbsp;=&nbsp;False,</div></div><div class=\"2297\" style=\"display: none;\"><div style=\"display: table-cell;\"></div><div style=\"display: table-cell;\">extra_x_ranges&nbsp;=&nbsp;{},</div></div><div class=\"2297\" style=\"display: none;\"><div style=\"display: table-cell;\"></div><div style=\"display: table-cell;\">extra_y_ranges&nbsp;=&nbsp;{},</div></div><div class=\"2297\" style=\"display: none;\"><div style=\"display: table-cell;\"></div><div style=\"display: table-cell;\">frame_height&nbsp;=&nbsp;None,</div></div><div class=\"2297\" style=\"display: none;\"><div style=\"display: table-cell;\"></div><div style=\"display: table-cell;\">frame_width&nbsp;=&nbsp;None,</div></div><div class=\"2297\" style=\"display: none;\"><div style=\"display: table-cell;\"></div><div style=\"display: table-cell;\">height&nbsp;=&nbsp;400,</div></div><div class=\"2297\" style=\"display: none;\"><div style=\"display: table-cell;\"></div><div style=\"display: table-cell;\">height_policy&nbsp;=&nbsp;'auto',</div></div><div class=\"2297\" style=\"display: none;\"><div style=\"display: table-cell;\"></div><div style=\"display: table-cell;\">hidpi&nbsp;=&nbsp;True,</div></div><div class=\"2297\" style=\"display: none;\"><div style=\"display: table-cell;\"></div><div style=\"display: table-cell;\">inner_height&nbsp;=&nbsp;0,</div></div><div class=\"2297\" style=\"display: none;\"><div style=\"display: table-cell;\"></div><div style=\"display: table-cell;\">inner_width&nbsp;=&nbsp;0,</div></div><div class=\"2297\" style=\"display: none;\"><div style=\"display: table-cell;\"></div><div style=\"display: table-cell;\">js_event_callbacks&nbsp;=&nbsp;{},</div></div><div class=\"2297\" style=\"display: none;\"><div style=\"display: table-cell;\"></div><div style=\"display: table-cell;\">js_property_callbacks&nbsp;=&nbsp;{},</div></div><div class=\"2297\" style=\"display: none;\"><div style=\"display: table-cell;\"></div><div style=\"display: table-cell;\">left&nbsp;=&nbsp;[LinearAxis(id='2109', ...)],</div></div><div class=\"2297\" style=\"display: none;\"><div style=\"display: table-cell;\"></div><div style=\"display: table-cell;\">lod_factor&nbsp;=&nbsp;10,</div></div><div class=\"2297\" style=\"display: none;\"><div style=\"display: table-cell;\"></div><div style=\"display: table-cell;\">lod_interval&nbsp;=&nbsp;300,</div></div><div class=\"2297\" style=\"display: none;\"><div style=\"display: table-cell;\"></div><div style=\"display: table-cell;\">lod_threshold&nbsp;=&nbsp;2000,</div></div><div class=\"2297\" style=\"display: none;\"><div style=\"display: table-cell;\"></div><div style=\"display: table-cell;\">lod_timeout&nbsp;=&nbsp;500,</div></div><div class=\"2297\" style=\"display: none;\"><div style=\"display: table-cell;\"></div><div style=\"display: table-cell;\">margin&nbsp;=&nbsp;(0, 0, 0, 0),</div></div><div class=\"2297\" style=\"display: none;\"><div style=\"display: table-cell;\"></div><div style=\"display: table-cell;\">match_aspect&nbsp;=&nbsp;False,</div></div><div class=\"2297\" style=\"display: none;\"><div style=\"display: table-cell;\"></div><div style=\"display: table-cell;\">max_height&nbsp;=&nbsp;None,</div></div><div class=\"2297\" style=\"display: none;\"><div style=\"display: table-cell;\"></div><div style=\"display: table-cell;\">max_width&nbsp;=&nbsp;None,</div></div><div class=\"2297\" style=\"display: none;\"><div style=\"display: table-cell;\"></div><div style=\"display: table-cell;\">min_border&nbsp;=&nbsp;5,</div></div><div class=\"2297\" style=\"display: none;\"><div style=\"display: table-cell;\"></div><div style=\"display: table-cell;\">min_border_bottom&nbsp;=&nbsp;None,</div></div><div class=\"2297\" style=\"display: none;\"><div style=\"display: table-cell;\"></div><div style=\"display: table-cell;\">min_border_left&nbsp;=&nbsp;None,</div></div><div class=\"2297\" style=\"display: none;\"><div style=\"display: table-cell;\"></div><div style=\"display: table-cell;\">min_border_right&nbsp;=&nbsp;None,</div></div><div class=\"2297\" style=\"display: none;\"><div style=\"display: table-cell;\"></div><div style=\"display: table-cell;\">min_border_top&nbsp;=&nbsp;None,</div></div><div class=\"2297\" style=\"display: none;\"><div style=\"display: table-cell;\"></div><div style=\"display: table-cell;\">min_height&nbsp;=&nbsp;None,</div></div><div class=\"2297\" style=\"display: none;\"><div style=\"display: table-cell;\"></div><div style=\"display: table-cell;\">min_width&nbsp;=&nbsp;None,</div></div><div class=\"2297\" style=\"display: none;\"><div style=\"display: table-cell;\"></div><div style=\"display: table-cell;\">name&nbsp;=&nbsp;None,</div></div><div class=\"2297\" style=\"display: none;\"><div style=\"display: table-cell;\"></div><div style=\"display: table-cell;\">outer_height&nbsp;=&nbsp;0,</div></div><div class=\"2297\" style=\"display: none;\"><div style=\"display: table-cell;\"></div><div style=\"display: table-cell;\">outer_width&nbsp;=&nbsp;0,</div></div><div class=\"2297\" style=\"display: none;\"><div style=\"display: table-cell;\"></div><div style=\"display: table-cell;\">outline_line_alpha&nbsp;=&nbsp;1.0,</div></div><div class=\"2297\" style=\"display: none;\"><div style=\"display: table-cell;\"></div><div style=\"display: table-cell;\">outline_line_cap&nbsp;=&nbsp;'butt',</div></div><div class=\"2297\" style=\"display: none;\"><div style=\"display: table-cell;\"></div><div style=\"display: table-cell;\">outline_line_color&nbsp;=&nbsp;'#e5e5e5',</div></div><div class=\"2297\" style=\"display: none;\"><div style=\"display: table-cell;\"></div><div style=\"display: table-cell;\">outline_line_dash&nbsp;=&nbsp;[],</div></div><div class=\"2297\" style=\"display: none;\"><div style=\"display: table-cell;\"></div><div style=\"display: table-cell;\">outline_line_dash_offset&nbsp;=&nbsp;0,</div></div><div class=\"2297\" style=\"display: none;\"><div style=\"display: table-cell;\"></div><div style=\"display: table-cell;\">outline_line_join&nbsp;=&nbsp;'bevel',</div></div><div class=\"2297\" style=\"display: none;\"><div style=\"display: table-cell;\"></div><div style=\"display: table-cell;\">outline_line_width&nbsp;=&nbsp;1,</div></div><div class=\"2297\" style=\"display: none;\"><div style=\"display: table-cell;\"></div><div style=\"display: table-cell;\">output_backend&nbsp;=&nbsp;'webgl',</div></div><div class=\"2297\" style=\"display: none;\"><div style=\"display: table-cell;\"></div><div style=\"display: table-cell;\">renderers&nbsp;=&nbsp;[GlyphRenderer(id='2131', ...)],</div></div><div class=\"2297\" style=\"display: none;\"><div style=\"display: table-cell;\"></div><div style=\"display: table-cell;\">reset_policy&nbsp;=&nbsp;'standard',</div></div><div class=\"2297\" style=\"display: none;\"><div style=\"display: table-cell;\"></div><div style=\"display: table-cell;\">right&nbsp;=&nbsp;[],</div></div><div class=\"2297\" style=\"display: none;\"><div style=\"display: table-cell;\"></div><div style=\"display: table-cell;\">sizing_mode&nbsp;=&nbsp;'fixed',</div></div><div class=\"2297\" style=\"display: none;\"><div style=\"display: table-cell;\"></div><div style=\"display: table-cell;\">subscribed_events&nbsp;=&nbsp;[],</div></div><div class=\"2297\" style=\"display: none;\"><div style=\"display: table-cell;\"></div><div style=\"display: table-cell;\">syncable&nbsp;=&nbsp;True,</div></div><div class=\"2297\" style=\"display: none;\"><div style=\"display: table-cell;\"></div><div style=\"display: table-cell;\">tags&nbsp;=&nbsp;[],</div></div><div class=\"2297\" style=\"display: none;\"><div style=\"display: table-cell;\"></div><div style=\"display: table-cell;\">title&nbsp;=&nbsp;Title(id='2095', ...),</div></div><div class=\"2297\" style=\"display: none;\"><div style=\"display: table-cell;\"></div><div style=\"display: table-cell;\">title_location&nbsp;=&nbsp;'above',</div></div><div class=\"2297\" style=\"display: none;\"><div style=\"display: table-cell;\"></div><div style=\"display: table-cell;\">toolbar&nbsp;=&nbsp;Toolbar(id='2120', ...),</div></div><div class=\"2297\" style=\"display: none;\"><div style=\"display: table-cell;\"></div><div style=\"display: table-cell;\">toolbar_location&nbsp;=&nbsp;'right',</div></div><div class=\"2297\" style=\"display: none;\"><div style=\"display: table-cell;\"></div><div style=\"display: table-cell;\">toolbar_sticky&nbsp;=&nbsp;True,</div></div><div class=\"2297\" style=\"display: none;\"><div style=\"display: table-cell;\"></div><div style=\"display: table-cell;\">visible&nbsp;=&nbsp;True,</div></div><div class=\"2297\" style=\"display: none;\"><div style=\"display: table-cell;\"></div><div style=\"display: table-cell;\">width&nbsp;=&nbsp;600,</div></div><div class=\"2297\" style=\"display: none;\"><div style=\"display: table-cell;\"></div><div style=\"display: table-cell;\">width_policy&nbsp;=&nbsp;'auto',</div></div><div class=\"2297\" style=\"display: none;\"><div style=\"display: table-cell;\"></div><div style=\"display: table-cell;\">x_range&nbsp;=&nbsp;DataRange1d(id='2097', ...),</div></div><div class=\"2297\" style=\"display: none;\"><div style=\"display: table-cell;\"></div><div style=\"display: table-cell;\">x_scale&nbsp;=&nbsp;LinearScale(id='2101', ...),</div></div><div class=\"2297\" style=\"display: none;\"><div style=\"display: table-cell;\"></div><div style=\"display: table-cell;\">y_range&nbsp;=&nbsp;DataRange1d(id='2099', ...),</div></div><div class=\"2297\" style=\"display: none;\"><div style=\"display: table-cell;\"></div><div style=\"display: table-cell;\">y_scale&nbsp;=&nbsp;LinearScale(id='2103', ...))</div></div></div>\n",
       "<script>\n",
       "(function() {\n",
       "  var expanded = false;\n",
       "  var ellipsis = document.getElementById(\"2298\");\n",
       "  ellipsis.addEventListener(\"click\", function() {\n",
       "    var rows = document.getElementsByClassName(\"2297\");\n",
       "    for (var i = 0; i < rows.length; i++) {\n",
       "      var el = rows[i];\n",
       "      el.style.display = expanded ? \"none\" : \"table-row\";\n",
       "    }\n",
       "    ellipsis.innerHTML = expanded ? \"&hellip;)\" : \"&lsaquo;&lsaquo;&lsaquo;\";\n",
       "    expanded = !expanded;\n",
       "  });\n",
       "})();\n",
       "</script>\n"
      ],
      "text/plain": [
       "Figure(id='2094', ...)"
      ]
     },
     "execution_count": 45,
     "metadata": {},
     "output_type": "execute_result"
    }
   ],
   "source": [
    "# some households with very large number of people\n",
    "before = azdias['ANZ_PERSONEN'].value_counts().copy()\n",
    "azdias['ANZ_PERSONEN'].value_counts().sort_index().plot()"
   ]
  },
  {
   "cell_type": "code",
   "execution_count": 46,
   "metadata": {},
   "outputs": [],
   "source": [
    "# unlikely that distinguishing between 8 and 9 or even between 8 and 40 will have a significant impact on \n",
    "# likelihood of being a customer\n",
    "# very small % of data points affected with this adjustment\n",
    "azdias.loc[azdias['ANZ_PERSONEN'] >= 8,'ANZ_PERSONEN'] = 8\n",
    "customers.loc[customers['ANZ_PERSONEN'] >= 8,'ANZ_PERSONEN'] = 8"
   ]
  },
  {
   "cell_type": "code",
   "execution_count": 47,
   "metadata": {},
   "outputs": [],
   "source": [
    "after = azdias['ANZ_PERSONEN'].value_counts().copy()"
   ]
  },
  {
   "cell_type": "code",
   "execution_count": 48,
   "metadata": {},
   "outputs": [
    {
     "data": {
      "text/html": [
       "\n",
       "\n",
       "\n",
       "\n",
       "\n",
       "\n",
       "  <div class=\"bk-root\" id=\"059dc2d5-3562-4304-8e80-9e91004007f8\" data-root-id=\"2300\"></div>\n"
      ]
     },
     "metadata": {},
     "output_type": "display_data"
    },
    {
     "data": {
      "application/javascript": [
       "(function(root) {\n",
       "  function embed_document(root) {\n",
       "    \n",
       "  var docs_json = {\"c86fd21a-4707-458c-898f-f68df20715ad\":{\"defs\":[],\"roots\":{\"references\":[{\"attributes\":{\"below\":[{\"id\":\"2309\"}],\"center\":[{\"id\":\"2312\"},{\"id\":\"2316\"},{\"id\":\"2337\"}],\"height\":400,\"left\":[{\"id\":\"2313\"}],\"renderers\":[{\"id\":\"2324\"},{\"id\":\"2342\"}],\"title\":{\"id\":\"2327\"},\"toolbar\":{\"id\":\"2319\"},\"width\":500,\"x_range\":{\"id\":\"2301\"},\"x_scale\":{\"id\":\"2305\"},\"y_range\":{\"id\":\"2303\"},\"y_scale\":{\"id\":\"2307\"}},\"id\":\"2300\",\"subtype\":\"Figure\",\"type\":\"Plot\"},{\"attributes\":{},\"id\":\"2303\",\"type\":\"DataRange1d\"},{\"attributes\":{\"bottom_units\":\"screen\",\"fill_alpha\":0.5,\"fill_color\":\"lightgrey\",\"left_units\":\"screen\",\"level\":\"overlay\",\"line_alpha\":1.0,\"line_color\":\"black\",\"line_dash\":[4,4],\"line_width\":2,\"right_units\":\"screen\",\"syncable\":false,\"top_units\":\"screen\"},\"id\":\"2318\",\"type\":\"BoxAnnotation\"},{\"attributes\":{},\"id\":\"2330\",\"type\":\"AllLabels\"},{\"attributes\":{\"line_color\":\"red\",\"x\":{\"field\":\"x\"},\"y\":{\"field\":\"y\"}},\"id\":\"2340\",\"type\":\"Line\"},{\"attributes\":{\"label\":{\"value\":\"ANZ_PERSONEN after\"},\"renderers\":[{\"id\":\"2342\"}]},\"id\":\"2357\",\"type\":\"LegendItem\"},{\"attributes\":{},\"id\":\"2328\",\"type\":\"BasicTickFormatter\"},{\"attributes\":{\"active_multi\":null,\"tools\":[{\"id\":\"2317\"}]},\"id\":\"2319\",\"type\":\"Toolbar\"},{\"attributes\":{},\"id\":\"2335\",\"type\":\"UnionRenderers\"},{\"attributes\":{},\"id\":\"2331\",\"type\":\"BasicTickFormatter\"},{\"attributes\":{},\"id\":\"2355\",\"type\":\"UnionRenderers\"},{\"attributes\":{\"data\":{\"x\":[-1,0,1,2,3,4,5,6,7,8],\"y\":[21419,34102,423162,195469,94905,47126,15503,4842,1525,865]},\"selected\":{\"id\":\"2356\"},\"selection_policy\":{\"id\":\"2355\"}},\"id\":\"2339\",\"type\":\"ColumnDataSource\"},{\"attributes\":{},\"id\":\"2310\",\"type\":\"BasicTicker\"},{\"attributes\":{\"label\":{\"value\":\"ANZ_PERSONEN before\"},\"renderers\":[{\"id\":\"2324\"}]},\"id\":\"2338\",\"type\":\"LegendItem\"},{\"attributes\":{\"data\":{\"x\":[-1,0,1,2,3,4,5,6,7,8,9,10,11,12,13,14,15,16,17,18,20,21,22,23,29,31,35,37,38,40,45],\"y\":[21419,34102,423162,195469,94905,47126,15503,4842,1525,523,180,67,38,16,11,4,3,1,1,1,3,4,2,2,1,1,1,2,2,1,1]},\"selected\":{\"id\":\"2336\"},\"selection_policy\":{\"id\":\"2335\"}},\"id\":\"2321\",\"type\":\"ColumnDataSource\"},{\"attributes\":{\"text\":\"ANZ_PERSONEN transformation\"},\"id\":\"2327\",\"type\":\"Title\"},{\"attributes\":{},\"id\":\"2307\",\"type\":\"LinearScale\"},{\"attributes\":{\"axis\":{\"id\":\"2313\"},\"dimension\":1,\"ticker\":null},\"id\":\"2316\",\"type\":\"Grid\"},{\"attributes\":{},\"id\":\"2305\",\"type\":\"LinearScale\"},{\"attributes\":{\"line_alpha\":0.1,\"line_color\":\"red\",\"x\":{\"field\":\"x\"},\"y\":{\"field\":\"y\"}},\"id\":\"2341\",\"type\":\"Line\"},{\"attributes\":{},\"id\":\"2336\",\"type\":\"Selection\"},{\"attributes\":{\"line_color\":\"blue\",\"x\":{\"field\":\"x\"},\"y\":{\"field\":\"y\"}},\"id\":\"2322\",\"type\":\"Line\"},{\"attributes\":{\"line_alpha\":0.1,\"line_color\":\"blue\",\"x\":{\"field\":\"x\"},\"y\":{\"field\":\"y\"}},\"id\":\"2323\",\"type\":\"Line\"},{\"attributes\":{},\"id\":\"2356\",\"type\":\"Selection\"},{\"attributes\":{\"axis_label\":\"Column values\",\"formatter\":{\"id\":\"2331\"},\"major_label_policy\":{\"id\":\"2333\"},\"ticker\":{\"id\":\"2310\"}},\"id\":\"2309\",\"type\":\"LinearAxis\"},{\"attributes\":{\"items\":[{\"id\":\"2338\"},{\"id\":\"2357\"}]},\"id\":\"2337\",\"type\":\"Legend\"},{\"attributes\":{\"source\":{\"id\":\"2321\"}},\"id\":\"2325\",\"type\":\"CDSView\"},{\"attributes\":{\"axis\":{\"id\":\"2309\"},\"grid_line_color\":null,\"ticker\":null},\"id\":\"2312\",\"type\":\"Grid\"},{\"attributes\":{\"axis_label\":\"Numer of occurences\",\"formatter\":{\"id\":\"2328\"},\"major_label_policy\":{\"id\":\"2330\"},\"ticker\":{\"id\":\"2314\"}},\"id\":\"2313\",\"type\":\"LinearAxis\"},{\"attributes\":{\"source\":{\"id\":\"2339\"}},\"id\":\"2343\",\"type\":\"CDSView\"},{\"attributes\":{\"overlay\":{\"id\":\"2318\"}},\"id\":\"2317\",\"type\":\"BoxZoomTool\"},{\"attributes\":{},\"id\":\"2333\",\"type\":\"AllLabels\"},{\"attributes\":{},\"id\":\"2314\",\"type\":\"BasicTicker\"},{\"attributes\":{},\"id\":\"2301\",\"type\":\"DataRange1d\"},{\"attributes\":{\"data_source\":{\"id\":\"2339\"},\"glyph\":{\"id\":\"2340\"},\"hover_glyph\":null,\"muted_glyph\":null,\"nonselection_glyph\":{\"id\":\"2341\"},\"view\":{\"id\":\"2343\"}},\"id\":\"2342\",\"type\":\"GlyphRenderer\"},{\"attributes\":{\"data_source\":{\"id\":\"2321\"},\"glyph\":{\"id\":\"2322\"},\"hover_glyph\":null,\"muted_glyph\":null,\"nonselection_glyph\":{\"id\":\"2323\"},\"view\":{\"id\":\"2325\"}},\"id\":\"2324\",\"type\":\"GlyphRenderer\"}],\"root_ids\":[\"2300\"]},\"title\":\"Bokeh Application\",\"version\":\"2.3.1\"}};\n",
       "  var render_items = [{\"docid\":\"c86fd21a-4707-458c-898f-f68df20715ad\",\"root_ids\":[\"2300\"],\"roots\":{\"2300\":\"059dc2d5-3562-4304-8e80-9e91004007f8\"}}];\n",
       "  root.Bokeh.embed.embed_items_notebook(docs_json, render_items);\n",
       "\n",
       "  }\n",
       "  if (root.Bokeh !== undefined) {\n",
       "    embed_document(root);\n",
       "  } else {\n",
       "    var attempts = 0;\n",
       "    var timer = setInterval(function(root) {\n",
       "      if (root.Bokeh !== undefined) {\n",
       "        clearInterval(timer);\n",
       "        embed_document(root);\n",
       "      } else {\n",
       "        attempts++;\n",
       "        if (attempts > 100) {\n",
       "          clearInterval(timer);\n",
       "          console.log(\"Bokeh: ERROR: Unable to run BokehJS code because BokehJS library is missing\");\n",
       "        }\n",
       "      }\n",
       "    }, 10, root)\n",
       "  }\n",
       "})(window);"
      ],
      "application/vnd.bokehjs_exec.v0+json": ""
     },
     "metadata": {
      "application/vnd.bokehjs_exec.v0+json": {
       "id": "2300"
      }
     },
     "output_type": "display_data"
    }
   ],
   "source": [
    "def plot_columns_before_after(before, after, c):\n",
    "    \n",
    "    p = figure(plot_width=500, plot_height=400,\n",
    "               toolbar_location='right', tools=\"box_zoom\")\n",
    "    \n",
    "    after = after.sort_index()\n",
    "    before = before.sort_index()\n",
    "    \n",
    "    p.line(before.index, before.values, line_color='blue', legend_label=f'{c} before')\n",
    "    p.line(after.index,  after.values,  line_color='red',  legend_label=f'{c} after')\n",
    "\n",
    "    p.title.text = f\"{c} transformation\"\n",
    "    \n",
    "    p.yaxis.axis_label = 'Numer of occurences'\n",
    "    p.xaxis.axis_label = 'Column values'\n",
    "    p.xgrid.grid_line_color = None\n",
    "    return show(p)\n",
    "\n",
    "plot_columns_before_after(before, azdias['ANZ_PERSONEN'].value_counts().copy(), 'ANZ_PERSONEN')"
   ]
  },
  {
   "cell_type": "code",
   "execution_count": 49,
   "metadata": {},
   "outputs": [
    {
     "data": {
      "text/html": [
       "\n",
       "\n",
       "\n",
       "\n",
       "\n",
       "\n",
       "  <div class=\"bk-root\" id=\"b1ae043d-fab3-444c-9ec6-b9b55f824388\" data-root-id=\"2537\"></div>\n"
      ]
     },
     "metadata": {},
     "output_type": "display_data"
    },
    {
     "data": {
      "application/javascript": [
       "(function(root) {\n",
       "  function embed_document(root) {\n",
       "    \n",
       "  var docs_json = {\"3600705e-416e-4bd7-a2e4-6fc26ef99253\":{\"defs\":[],\"roots\":{\"references\":[{\"attributes\":{\"below\":[{\"id\":\"2548\"}],\"center\":[{\"id\":\"2551\"},{\"id\":\"2555\"},{\"id\":\"2586\"}],\"height\":400,\"left\":[{\"id\":\"2552\"}],\"output_backend\":\"webgl\",\"renderers\":[{\"id\":\"2574\"}],\"sizing_mode\":\"fixed\",\"title\":{\"id\":\"2538\"},\"toolbar\":{\"id\":\"2563\"},\"x_range\":{\"id\":\"2540\"},\"x_scale\":{\"id\":\"2544\"},\"y_range\":{\"id\":\"2542\"},\"y_scale\":{\"id\":\"2546\"}},\"id\":\"2537\",\"subtype\":\"Figure\",\"type\":\"Plot\"},{\"attributes\":{},\"id\":\"2557\",\"type\":\"WheelZoomTool\"},{\"attributes\":{},\"id\":\"2561\",\"type\":\"HelpTool\"},{\"attributes\":{},\"id\":\"2542\",\"type\":\"DataRange1d\"},{\"attributes\":{},\"id\":\"2579\",\"type\":\"AllLabels\"},{\"attributes\":{\"data_source\":{\"id\":\"2570\"},\"glyph\":{\"id\":\"2572\"},\"hover_glyph\":null,\"muted_glyph\":null,\"nonselection_glyph\":{\"id\":\"2573\"},\"view\":{\"id\":\"2575\"}},\"id\":\"2574\",\"type\":\"GlyphRenderer\"},{\"attributes\":{\"overlay\":{\"id\":\"2562\"}},\"id\":\"2558\",\"type\":\"BoxZoomTool\"},{\"attributes\":{},\"id\":\"2582\",\"type\":\"AllLabels\"},{\"attributes\":{\"source\":{\"id\":\"2570\"}},\"id\":\"2575\",\"type\":\"CDSView\"},{\"attributes\":{},\"id\":\"2585\",\"type\":\"Selection\"},{\"attributes\":{\"active_multi\":null,\"active_scroll\":{\"id\":\"2557\"},\"tools\":[{\"id\":\"2556\"},{\"id\":\"2557\"},{\"id\":\"2558\"},{\"id\":\"2559\"},{\"id\":\"2560\"},{\"id\":\"2561\"},{\"id\":\"2588\"}]},\"id\":\"2563\",\"type\":\"Toolbar\"},{\"attributes\":{},\"id\":\"2540\",\"type\":\"DataRange1d\"},{\"attributes\":{\"axis\":{\"id\":\"2552\"},\"dimension\":1,\"ticker\":null},\"id\":\"2555\",\"type\":\"Grid\"},{\"attributes\":{},\"id\":\"2553\",\"type\":\"BasicTicker\"},{\"attributes\":{},\"id\":\"2556\",\"type\":\"PanTool\"},{\"attributes\":{\"axis_label\":\"KBA13_ANZAHL_PKW\",\"formatter\":{\"id\":\"2577\"},\"major_label_policy\":{\"id\":\"2579\"},\"ticker\":{\"id\":\"2553\"}},\"id\":\"2552\",\"type\":\"LinearAxis\"},{\"attributes\":{\"formatter\":{\"id\":\"2580\"},\"major_label_policy\":{\"id\":\"2582\"},\"ticker\":{\"id\":\"2549\"}},\"id\":\"2548\",\"type\":\"LinearAxis\"},{\"attributes\":{\"line_color\":\"#1f77b4\",\"line_width\":2,\"x\":{\"field\":\"__x__values\"},\"y\":{\"field\":\"KBA13_ANZAHL_PKW\"}},\"id\":\"2572\",\"type\":\"Line\"},{\"attributes\":{},\"id\":\"2560\",\"type\":\"ResetTool\"},{\"attributes\":{\"callback\":null,\"mode\":\"vline\",\"renderers\":[{\"id\":\"2574\"}],\"tooltips\":[[\"x\",\"@__x__values_original\"],[\"KBA13_ANZAHL_PKW\",\"@{KBA13_ANZAHL_PKW}\"]]},\"id\":\"2588\",\"type\":\"HoverTool\"},{\"attributes\":{\"label\":{\"value\":\" KBA13_ANZAHL_PKW\"},\"renderers\":[{\"id\":\"2574\"}]},\"id\":\"2587\",\"type\":\"LegendItem\"},{\"attributes\":{},\"id\":\"2546\",\"type\":\"LinearScale\"},{\"attributes\":{\"click_policy\":\"hide\",\"items\":[{\"id\":\"2587\"}]},\"id\":\"2586\",\"type\":\"Legend\"},{\"attributes\":{},\"id\":\"2580\",\"type\":\"BasicTickFormatter\"},{\"attributes\":{\"axis\":{\"id\":\"2548\"},\"ticker\":null},\"id\":\"2551\",\"type\":\"Grid\"},{\"attributes\":{\"bottom_units\":\"screen\",\"fill_alpha\":0.5,\"fill_color\":\"lightgrey\",\"left_units\":\"screen\",\"level\":\"overlay\",\"line_alpha\":1.0,\"line_color\":\"black\",\"line_dash\":[4,4],\"line_width\":2,\"right_units\":\"screen\",\"syncable\":false,\"top_units\":\"screen\"},\"id\":\"2562\",\"type\":\"BoxAnnotation\"},{\"attributes\":{\"data\":{\"KBA13_ANZAHL_PKW\":[53650,62,8,6,6,7,7,5,5,6,7,8,7,16,10,16,14,11,20,21,11,18,17,16,13,22,23,21,24,24,15,12,29,28,31,42,43,38,45,35,28,42,44,35,27,52,59,46,77,53,27,37,84,75,53,50,53,53,45,60,76,54,58,66,80,95,67,69,66,84,101,91,99,74,89,89,85,111,74,84,120,94,144,119,139,117,142,126,145,107,159,125,132,156,128,123,141,207,154,152,163,97,179,159,218,219,129,230,161,198,222,151,217,186,189,180,193,218,225,227,220,220,228,245,226,263,233,250,257,277,304,301,202,242,341,317,311,312,244,294,263,319,312,254,243,285,349,281,311,319,368,297,357,269,365,310,355,327,394,380,329,264,356,434,363,388,388,294,359,442,479,419,289,385,344,397,318,377,527,351,403,432,387,391,404,405,595,455,525,437,425,456,470,411,426,416,482,564,502,480,538,495,583,476,476,524,586,542,532,492,576,461,422,629,595,690,643,563,607,649,487,484,580,681,604,578,582,554,565,752,641,589,765,672,619,721,527,684,659,626,624,592,635,784,684,575,634,651,803,689,632,577,850,724,764,759,802,686,840,836,750,600,690,671,703,640,706,973,826,755,932,765,768,900,811,686,859,851,880,731,754,946,849,782,876,844,819,867,717,842,985,988,919,939,1026,808,797,954,912,996,927,748,922,915,1021,851,919,969,842,972,984,1036,1071,927,1124,1068,912,939,764,1039,980,1045,934,1014,1034,958,964,989,915,834,860,1147,1040,1038,1050,1144,1153,1182,873,818,1040,1117,1183,1020,1088,956,1215,1005,884,1120,868,869,1176,1254,1014,989,907,1182,1037,1085,1135,1224,1062,813,1031,1175,1146,1037,1033,1049,1227,1134,1036,1114,1107,1062,1254,978,1257,1076,1173,1207,858,1224,1070,1243,1096,1458,1338,1324,1281,1280,956,1010,1282,1112,1446,1217,1023,1197,1218,1043,1091,1318,1168,1101,1065,1288,1060,1126,1252,1221,1048,1200,1058,1147,1034,1190,1603,1384,1026,1337,1317,1196,1008,1112,1147,1241,1127,1212,1245,1220,1149,966,1116,1240,957,1009,1198,1276,1327,1186,1153,1223,1130,1195,1185,1253,1170,1179,1099,1380,1245,1388,1281,1380,1409,1323,1200,1178,1379,987,1053,1197,1131,1604,1094,1308,1254,1155,1200,1232,1229,977,1100,1024,1205,1089,1297,1256,1264,1178,1417,1011,1392,1101,1273,1071,1319,1232,1296,1302,1299,1358,1114,1379,1097,1035,1262,1020,1310,1255,1161,1220,1072,1339,1038,1326,921,1262,1213,1049,1150,1168,1154,953,1242,1284,1265,1239,1600,1176,1051,1048,1176,1125,1162,1190,1152,1173,1169,1200,1139,1067,1100,1496,838,1290,1267,1012,1060,1177,1169,1042,1158,1159,947,1060,1139,956,1201,1166,1119,1182,1138,1232,914,1278,996,1301,1155,1156,986,1065,905,1160,1212,865,1291,1182,996,1140,1105,1253,1142,1274,1000,1165,1138,927,855,1037,994,1119,1092,1278,929,1054,969,909,946,1022,906,1002,1115,1049,1056,1103,1203,1056,814,1064,943,1068,858,1107,917,890,931,1026,907,1108,1077,1007,934,864,1009,980,956,1171,712,1137,1194,996,1020,784,1009,762,866,844,1050,1043,816,1070,1049,912,981,957,861,782,876,919,952,903,885,786,707,1000,961,887,918,1031,796,709,765,952,787,982,715,853,805,979,781,839,901,880,711,967,904,1064,1111,888,879,854,758,782,680,964,782,848,924,668,776,718,761,736,748,797,721,665,831,933,624,674,796,1074,945,695,771,533,717,716,585,928,523,653,521,801,717,682,981,854,1073,560,601,642,810,592,696,745,604,669,587,725,784,1033,615,550,756,534,684,715,617,656,614,595,701,576,672,624,627,721,730,801,593,756,697,596,798,598,786,623,616,791,609,664,742,773,514,796,861,715,591,680,690,629,464,826,533,580,599,565,567,581,650,737,522,689,527,564,617,600,677,707,563,421,690,629,614,444,523,518,758,634,508,431,714,390,487,658,607,724,627,486,506,487,623,529,510,575,690,624,635,644,515,404,545,505,545,573,472,310,590,643,570,573,449,458,480,605,577,590,548,482,575,465,550,577,535,541,381,451,739,516,427,268,396,552,563,303,422,368,517,659,328,434,332,343,558,676,532,378,366,463,582,403,452,371,507,368,546,370,417,357,471,338,376,338,406,399,426,529,476,379,513,541,355,383,299,395,525,394,372,582,592,472,461,411,444,412,423,389,373,463,400,471,295,568,409,343,368,404,310,416,401,369,430,328,322,487,440,269,509,237,370,445,517,434,364,346,407,488,568,250,423,402,383,501,320,400,468,362,350,209,395,294,329,358,320,403,370,387,366,231,427,346,223,337,404,345,456,265,365,410,476,292,341,369,320,309,355,265,367,356,329,373,410,468,442,259,291,217,281,390,228,369,258,293,298,355,357,281,272,367,379,195,280,344,253,240,284,303,261,518,247,289,192,238,449,363,259,309,290,351,351,250,260,215,339,203,266,344,316,367,542,211,236,128,344,433,169,382,284,267,231,238,167,327,355,202,344,306,200,294,281,298,416,345,285,292,306,315,320,142,174,331,327,355,262,292,471,156,215,224,362,339,317,309,222,471,295,223,168,253,239,103,301,170,196,331,216,244,142,225,243,324,265,239,314,213,339,247,219,229,78,202,255,249,258,67,396,280,231,263,194,309,235,309,277,279,129,265,217,202,163,314,73,268,229,270,272,150,150,85,227,137,156,261,236,169,204,255,213,195,98,321,218,234,191,253,178,287,182,228,143,206,198,122,135,151,233,205,145,200,212,207,171,128,206,139,232,258,180,166,117,196,203,199,254,113,144,286,249,152,164,243,209,179,112,281,258,132,183,150,221,75,71,198,176,245,281,214,152,418,280,236,173,233,261,107,169,122,168,219,271,128,129,193,139,188,183,170,157,296,85,181,135,189,334,154,166,348,103,125,142,95,61,147,171,121,213,151,128,57,87,161,152,216,119,175,124,160,159,124,244,166,183,173,76,143,229,6426,11722,8291,6135,3795,2617,1450,1198,651,307,611],\"__x__values\":[-1,0,1,2,3,4,5,6,7,8,9,10,11,12,13,14,15,16,17,18,19,20,21,22,23,24,25,26,27,28,29,30,31,32,33,34,35,36,37,38,39,40,41,42,43,44,45,46,47,48,49,50,51,52,53,54,55,56,57,58,59,60,61,62,63,64,65,66,67,68,69,70,71,72,73,74,75,76,77,78,79,80,81,82,83,84,85,86,87,88,89,90,91,92,93,94,95,96,97,98,99,100,101,102,103,104,105,106,107,108,109,110,111,112,113,114,115,116,117,118,119,120,121,122,123,124,125,126,127,128,129,130,131,132,133,134,135,136,137,138,139,140,141,142,143,144,145,146,147,148,149,150,151,152,153,154,155,156,157,158,159,160,161,162,163,164,165,166,167,168,169,170,171,172,173,174,175,176,177,178,179,180,181,182,183,184,185,186,187,188,189,190,191,192,193,194,195,196,197,198,199,200,201,202,203,204,205,206,207,208,209,210,211,212,213,214,215,216,217,218,219,220,221,222,223,224,225,226,227,228,229,230,231,232,233,234,235,236,237,238,239,240,241,242,243,244,245,246,247,248,249,250,251,252,253,254,255,256,257,258,259,260,261,262,263,264,265,266,267,268,269,270,271,272,273,274,275,276,277,278,279,280,281,282,283,284,285,286,287,288,289,290,291,292,293,294,295,296,297,298,299,300,301,302,303,304,305,306,307,308,309,310,311,312,313,314,315,316,317,318,319,320,321,322,323,324,325,326,327,328,329,330,331,332,333,334,335,336,337,338,339,340,341,342,343,344,345,346,347,348,349,350,351,352,353,354,355,356,357,358,359,360,361,362,363,364,365,366,367,368,369,370,371,372,373,374,375,376,377,378,379,380,381,382,383,384,385,386,387,388,389,390,391,392,393,394,395,396,397,398,399,400,401,402,403,404,405,406,407,408,409,410,411,412,413,414,415,416,417,418,419,420,421,422,423,424,425,426,427,428,429,430,431,432,433,434,435,436,437,438,439,440,441,442,443,444,445,446,447,448,449,450,451,452,453,454,455,456,457,458,459,460,461,462,463,464,465,466,467,468,469,470,471,472,473,474,475,476,477,478,479,480,481,482,483,484,485,486,487,488,489,490,491,492,493,494,495,496,497,498,499,500,501,502,503,504,505,506,507,508,509,510,511,512,513,514,515,516,517,518,519,520,521,522,523,524,525,526,527,528,529,530,531,532,533,534,535,536,537,538,539,540,541,542,543,544,545,546,547,548,549,550,551,552,553,554,555,556,557,558,559,560,561,562,563,564,565,566,567,568,569,570,571,572,573,574,575,576,577,578,579,580,581,582,583,584,585,586,587,588,589,590,591,592,593,594,595,596,597,598,599,600,601,602,603,604,605,606,607,608,609,610,611,612,613,614,615,616,617,618,619,620,621,622,623,624,625,626,627,628,629,630,631,632,633,634,635,636,637,638,639,640,641,642,643,644,645,646,647,648,649,650,651,652,653,654,655,656,657,658,659,660,661,662,663,664,665,666,667,668,669,670,671,672,673,674,675,676,677,678,679,680,681,682,683,684,685,686,687,688,689,690,691,692,693,694,695,696,697,698,699,700,701,702,703,704,705,706,707,708,709,710,711,712,713,714,715,716,717,718,719,720,721,722,723,724,725,726,727,728,729,730,731,732,733,734,735,736,737,738,739,740,741,742,743,744,745,746,747,748,749,750,751,752,753,754,755,756,757,758,759,760,761,762,763,764,765,766,767,768,769,770,771,772,773,774,775,776,777,778,779,780,781,782,783,784,785,786,787,788,789,790,791,792,793,794,795,796,797,798,799,800,801,802,803,804,805,806,807,808,809,810,811,812,813,814,815,816,817,818,819,820,821,822,823,824,825,826,827,828,829,830,831,832,833,834,835,836,837,838,839,840,841,842,843,844,845,846,847,848,849,850,851,852,853,854,855,856,857,858,859,860,861,862,863,864,865,866,867,868,869,870,871,872,873,874,875,876,877,878,879,880,881,882,883,884,885,886,887,888,889,890,891,892,893,894,895,896,897,898,899,900,901,902,903,904,905,906,907,908,909,910,911,912,913,914,915,916,917,918,919,920,921,922,923,924,925,926,927,928,929,930,931,932,933,934,935,936,937,938,939,940,941,942,943,944,945,946,947,948,949,950,951,952,953,954,955,956,957,958,959,960,961,962,963,964,965,966,967,968,969,970,971,972,973,974,975,976,977,978,979,980,981,982,983,984,985,986,987,988,989,990,991,992,993,994,995,996,997,998,999,1000,1001,1002,1003,1004,1005,1006,1007,1008,1009,1010,1011,1012,1013,1014,1015,1016,1017,1018,1019,1020,1021,1022,1023,1024,1025,1026,1027,1028,1029,1030,1031,1032,1033,1034,1035,1036,1037,1038,1039,1040,1041,1042,1043,1044,1045,1046,1047,1048,1049,1050,1051,1052,1053,1054,1055,1056,1057,1058,1059,1060,1061,1062,1063,1064,1065,1066,1067,1068,1069,1070,1071,1072,1073,1074,1075,1076,1077,1078,1079,1080,1081,1082,1083,1084,1085,1086,1087,1088,1089,1090,1091,1092,1093,1094,1095,1096,1097,1098,1099,1100,1101,1102,1103,1104,1105,1106,1107,1108,1109,1110,1111,1112,1113,1114,1115,1116,1117,1118,1119,1120,1121,1122,1123,1124,1125,1126,1127,1128,1129,1130,1131,1132,1133,1134,1135,1136,1137,1138,1139,1140,1141,1142,1143,1144,1145,1146,1147,1148,1149,1150,1151,1152,1153,1154,1155,1156,1157,1158,1159,1160,1161,1162,1163,1164,1165,1166,1167,1168,1169,1170,1171,1172,1173,1174,1175,1176,1177,1178,1179,1180,1181,1182,1183,1184,1185,1186,1187,1188,1189,1190,1191,1192,1193,1194,1195,1196,1197,1198,1199,1200,1201,1202,1203,1204,1205,1206,1207,1208,1209,1210,1211,1212,1213,1214,1215,1216,1217,1218,1219,1220,1221,1222,1223,1224,1225,1226,1227,1228,1229,1230,1231,1232,1233,1234,1235,1236,1237,1238,1239,1240,1241,1242,1243,1244,1245,1246,1247,1249,1250,1300,1400,1500,1600,1700,1800,1900,2000,2100,2200,2300],\"__x__values_original\":[-1,0,1,2,3,4,5,6,7,8,9,10,11,12,13,14,15,16,17,18,19,20,21,22,23,24,25,26,27,28,29,30,31,32,33,34,35,36,37,38,39,40,41,42,43,44,45,46,47,48,49,50,51,52,53,54,55,56,57,58,59,60,61,62,63,64,65,66,67,68,69,70,71,72,73,74,75,76,77,78,79,80,81,82,83,84,85,86,87,88,89,90,91,92,93,94,95,96,97,98,99,100,101,102,103,104,105,106,107,108,109,110,111,112,113,114,115,116,117,118,119,120,121,122,123,124,125,126,127,128,129,130,131,132,133,134,135,136,137,138,139,140,141,142,143,144,145,146,147,148,149,150,151,152,153,154,155,156,157,158,159,160,161,162,163,164,165,166,167,168,169,170,171,172,173,174,175,176,177,178,179,180,181,182,183,184,185,186,187,188,189,190,191,192,193,194,195,196,197,198,199,200,201,202,203,204,205,206,207,208,209,210,211,212,213,214,215,216,217,218,219,220,221,222,223,224,225,226,227,228,229,230,231,232,233,234,235,236,237,238,239,240,241,242,243,244,245,246,247,248,249,250,251,252,253,254,255,256,257,258,259,260,261,262,263,264,265,266,267,268,269,270,271,272,273,274,275,276,277,278,279,280,281,282,283,284,285,286,287,288,289,290,291,292,293,294,295,296,297,298,299,300,301,302,303,304,305,306,307,308,309,310,311,312,313,314,315,316,317,318,319,320,321,322,323,324,325,326,327,328,329,330,331,332,333,334,335,336,337,338,339,340,341,342,343,344,345,346,347,348,349,350,351,352,353,354,355,356,357,358,359,360,361,362,363,364,365,366,367,368,369,370,371,372,373,374,375,376,377,378,379,380,381,382,383,384,385,386,387,388,389,390,391,392,393,394,395,396,397,398,399,400,401,402,403,404,405,406,407,408,409,410,411,412,413,414,415,416,417,418,419,420,421,422,423,424,425,426,427,428,429,430,431,432,433,434,435,436,437,438,439,440,441,442,443,444,445,446,447,448,449,450,451,452,453,454,455,456,457,458,459,460,461,462,463,464,465,466,467,468,469,470,471,472,473,474,475,476,477,478,479,480,481,482,483,484,485,486,487,488,489,490,491,492,493,494,495,496,497,498,499,500,501,502,503,504,505,506,507,508,509,510,511,512,513,514,515,516,517,518,519,520,521,522,523,524,525,526,527,528,529,530,531,532,533,534,535,536,537,538,539,540,541,542,543,544,545,546,547,548,549,550,551,552,553,554,555,556,557,558,559,560,561,562,563,564,565,566,567,568,569,570,571,572,573,574,575,576,577,578,579,580,581,582,583,584,585,586,587,588,589,590,591,592,593,594,595,596,597,598,599,600,601,602,603,604,605,606,607,608,609,610,611,612,613,614,615,616,617,618,619,620,621,622,623,624,625,626,627,628,629,630,631,632,633,634,635,636,637,638,639,640,641,642,643,644,645,646,647,648,649,650,651,652,653,654,655,656,657,658,659,660,661,662,663,664,665,666,667,668,669,670,671,672,673,674,675,676,677,678,679,680,681,682,683,684,685,686,687,688,689,690,691,692,693,694,695,696,697,698,699,700,701,702,703,704,705,706,707,708,709,710,711,712,713,714,715,716,717,718,719,720,721,722,723,724,725,726,727,728,729,730,731,732,733,734,735,736,737,738,739,740,741,742,743,744,745,746,747,748,749,750,751,752,753,754,755,756,757,758,759,760,761,762,763,764,765,766,767,768,769,770,771,772,773,774,775,776,777,778,779,780,781,782,783,784,785,786,787,788,789,790,791,792,793,794,795,796,797,798,799,800,801,802,803,804,805,806,807,808,809,810,811,812,813,814,815,816,817,818,819,820,821,822,823,824,825,826,827,828,829,830,831,832,833,834,835,836,837,838,839,840,841,842,843,844,845,846,847,848,849,850,851,852,853,854,855,856,857,858,859,860,861,862,863,864,865,866,867,868,869,870,871,872,873,874,875,876,877,878,879,880,881,882,883,884,885,886,887,888,889,890,891,892,893,894,895,896,897,898,899,900,901,902,903,904,905,906,907,908,909,910,911,912,913,914,915,916,917,918,919,920,921,922,923,924,925,926,927,928,929,930,931,932,933,934,935,936,937,938,939,940,941,942,943,944,945,946,947,948,949,950,951,952,953,954,955,956,957,958,959,960,961,962,963,964,965,966,967,968,969,970,971,972,973,974,975,976,977,978,979,980,981,982,983,984,985,986,987,988,989,990,991,992,993,994,995,996,997,998,999,1000,1001,1002,1003,1004,1005,1006,1007,1008,1009,1010,1011,1012,1013,1014,1015,1016,1017,1018,1019,1020,1021,1022,1023,1024,1025,1026,1027,1028,1029,1030,1031,1032,1033,1034,1035,1036,1037,1038,1039,1040,1041,1042,1043,1044,1045,1046,1047,1048,1049,1050,1051,1052,1053,1054,1055,1056,1057,1058,1059,1060,1061,1062,1063,1064,1065,1066,1067,1068,1069,1070,1071,1072,1073,1074,1075,1076,1077,1078,1079,1080,1081,1082,1083,1084,1085,1086,1087,1088,1089,1090,1091,1092,1093,1094,1095,1096,1097,1098,1099,1100,1101,1102,1103,1104,1105,1106,1107,1108,1109,1110,1111,1112,1113,1114,1115,1116,1117,1118,1119,1120,1121,1122,1123,1124,1125,1126,1127,1128,1129,1130,1131,1132,1133,1134,1135,1136,1137,1138,1139,1140,1141,1142,1143,1144,1145,1146,1147,1148,1149,1150,1151,1152,1153,1154,1155,1156,1157,1158,1159,1160,1161,1162,1163,1164,1165,1166,1167,1168,1169,1170,1171,1172,1173,1174,1175,1176,1177,1178,1179,1180,1181,1182,1183,1184,1185,1186,1187,1188,1189,1190,1191,1192,1193,1194,1195,1196,1197,1198,1199,1200,1201,1202,1203,1204,1205,1206,1207,1208,1209,1210,1211,1212,1213,1214,1215,1216,1217,1218,1219,1220,1221,1222,1223,1224,1225,1226,1227,1228,1229,1230,1231,1232,1233,1234,1235,1236,1237,1238,1239,1240,1241,1242,1243,1244,1245,1246,1247,1249,1250,1300,1400,1500,1600,1700,1800,1900,2000,2100,2200,2300]},\"selected\":{\"id\":\"2585\"},\"selection_policy\":{\"id\":\"2584\"}},\"id\":\"2570\",\"type\":\"ColumnDataSource\"},{\"attributes\":{},\"id\":\"2538\",\"type\":\"Title\"},{\"attributes\":{},\"id\":\"2577\",\"type\":\"BasicTickFormatter\"},{\"attributes\":{\"line_alpha\":0.1,\"line_color\":\"#1f77b4\",\"line_width\":2,\"x\":{\"field\":\"__x__values\"},\"y\":{\"field\":\"KBA13_ANZAHL_PKW\"}},\"id\":\"2573\",\"type\":\"Line\"},{\"attributes\":{},\"id\":\"2584\",\"type\":\"UnionRenderers\"},{\"attributes\":{},\"id\":\"2549\",\"type\":\"BasicTicker\"},{\"attributes\":{},\"id\":\"2544\",\"type\":\"LinearScale\"},{\"attributes\":{},\"id\":\"2559\",\"type\":\"SaveTool\"}],\"root_ids\":[\"2537\"]},\"title\":\"Bokeh Application\",\"version\":\"2.3.1\"}};\n",
       "  var render_items = [{\"docid\":\"3600705e-416e-4bd7-a2e4-6fc26ef99253\",\"root_ids\":[\"2537\"],\"roots\":{\"2537\":\"b1ae043d-fab3-444c-9ec6-b9b55f824388\"}}];\n",
       "  root.Bokeh.embed.embed_items_notebook(docs_json, render_items);\n",
       "\n",
       "  }\n",
       "  if (root.Bokeh !== undefined) {\n",
       "    embed_document(root);\n",
       "  } else {\n",
       "    var attempts = 0;\n",
       "    var timer = setInterval(function(root) {\n",
       "      if (root.Bokeh !== undefined) {\n",
       "        clearInterval(timer);\n",
       "        embed_document(root);\n",
       "      } else {\n",
       "        attempts++;\n",
       "        if (attempts > 100) {\n",
       "          clearInterval(timer);\n",
       "          console.log(\"Bokeh: ERROR: Unable to run BokehJS code because BokehJS library is missing\");\n",
       "        }\n",
       "      }\n",
       "    }, 10, root)\n",
       "  }\n",
       "})(window);"
      ],
      "application/vnd.bokehjs_exec.v0+json": ""
     },
     "metadata": {
      "application/vnd.bokehjs_exec.v0+json": {
       "id": "2537"
      }
     },
     "output_type": "display_data"
    },
    {
     "data": {
      "text/html": [
       "<div style=\"display: table;\"><div style=\"display: table-row;\"><div style=\"display: table-cell;\"><b title=\"bokeh.plotting.figure.Figure\">Figure</b>(</div><div style=\"display: table-cell;\">id&nbsp;=&nbsp;'2537', <span id=\"2764\" style=\"cursor: pointer;\">&hellip;)</span></div></div><div class=\"2763\" style=\"display: none;\"><div style=\"display: table-cell;\"></div><div style=\"display: table-cell;\">above&nbsp;=&nbsp;[],</div></div><div class=\"2763\" style=\"display: none;\"><div style=\"display: table-cell;\"></div><div style=\"display: table-cell;\">align&nbsp;=&nbsp;'start',</div></div><div class=\"2763\" style=\"display: none;\"><div style=\"display: table-cell;\"></div><div style=\"display: table-cell;\">aspect_ratio&nbsp;=&nbsp;None,</div></div><div class=\"2763\" style=\"display: none;\"><div style=\"display: table-cell;\"></div><div style=\"display: table-cell;\">aspect_scale&nbsp;=&nbsp;1,</div></div><div class=\"2763\" style=\"display: none;\"><div style=\"display: table-cell;\"></div><div style=\"display: table-cell;\">background&nbsp;=&nbsp;None,</div></div><div class=\"2763\" style=\"display: none;\"><div style=\"display: table-cell;\"></div><div style=\"display: table-cell;\">background_fill_alpha&nbsp;=&nbsp;1.0,</div></div><div class=\"2763\" style=\"display: none;\"><div style=\"display: table-cell;\"></div><div style=\"display: table-cell;\">background_fill_color&nbsp;=&nbsp;'#ffffff',</div></div><div class=\"2763\" style=\"display: none;\"><div style=\"display: table-cell;\"></div><div style=\"display: table-cell;\">below&nbsp;=&nbsp;[LinearAxis(id='2548', ...)],</div></div><div class=\"2763\" style=\"display: none;\"><div style=\"display: table-cell;\"></div><div style=\"display: table-cell;\">border_fill_alpha&nbsp;=&nbsp;1.0,</div></div><div class=\"2763\" style=\"display: none;\"><div style=\"display: table-cell;\"></div><div style=\"display: table-cell;\">border_fill_color&nbsp;=&nbsp;'#ffffff',</div></div><div class=\"2763\" style=\"display: none;\"><div style=\"display: table-cell;\"></div><div style=\"display: table-cell;\">center&nbsp;=&nbsp;[Grid(id='2551', ...), Grid(id='2555', ...), Legend(id='2586', ...)],</div></div><div class=\"2763\" style=\"display: none;\"><div style=\"display: table-cell;\"></div><div style=\"display: table-cell;\">css_classes&nbsp;=&nbsp;[],</div></div><div class=\"2763\" style=\"display: none;\"><div style=\"display: table-cell;\"></div><div style=\"display: table-cell;\">disabled&nbsp;=&nbsp;False,</div></div><div class=\"2763\" style=\"display: none;\"><div style=\"display: table-cell;\"></div><div style=\"display: table-cell;\">extra_x_ranges&nbsp;=&nbsp;{},</div></div><div class=\"2763\" style=\"display: none;\"><div style=\"display: table-cell;\"></div><div style=\"display: table-cell;\">extra_y_ranges&nbsp;=&nbsp;{},</div></div><div class=\"2763\" style=\"display: none;\"><div style=\"display: table-cell;\"></div><div style=\"display: table-cell;\">frame_height&nbsp;=&nbsp;None,</div></div><div class=\"2763\" style=\"display: none;\"><div style=\"display: table-cell;\"></div><div style=\"display: table-cell;\">frame_width&nbsp;=&nbsp;None,</div></div><div class=\"2763\" style=\"display: none;\"><div style=\"display: table-cell;\"></div><div style=\"display: table-cell;\">height&nbsp;=&nbsp;400,</div></div><div class=\"2763\" style=\"display: none;\"><div style=\"display: table-cell;\"></div><div style=\"display: table-cell;\">height_policy&nbsp;=&nbsp;'auto',</div></div><div class=\"2763\" style=\"display: none;\"><div style=\"display: table-cell;\"></div><div style=\"display: table-cell;\">hidpi&nbsp;=&nbsp;True,</div></div><div class=\"2763\" style=\"display: none;\"><div style=\"display: table-cell;\"></div><div style=\"display: table-cell;\">inner_height&nbsp;=&nbsp;0,</div></div><div class=\"2763\" style=\"display: none;\"><div style=\"display: table-cell;\"></div><div style=\"display: table-cell;\">inner_width&nbsp;=&nbsp;0,</div></div><div class=\"2763\" style=\"display: none;\"><div style=\"display: table-cell;\"></div><div style=\"display: table-cell;\">js_event_callbacks&nbsp;=&nbsp;{},</div></div><div class=\"2763\" style=\"display: none;\"><div style=\"display: table-cell;\"></div><div style=\"display: table-cell;\">js_property_callbacks&nbsp;=&nbsp;{},</div></div><div class=\"2763\" style=\"display: none;\"><div style=\"display: table-cell;\"></div><div style=\"display: table-cell;\">left&nbsp;=&nbsp;[LinearAxis(id='2552', ...)],</div></div><div class=\"2763\" style=\"display: none;\"><div style=\"display: table-cell;\"></div><div style=\"display: table-cell;\">lod_factor&nbsp;=&nbsp;10,</div></div><div class=\"2763\" style=\"display: none;\"><div style=\"display: table-cell;\"></div><div style=\"display: table-cell;\">lod_interval&nbsp;=&nbsp;300,</div></div><div class=\"2763\" style=\"display: none;\"><div style=\"display: table-cell;\"></div><div style=\"display: table-cell;\">lod_threshold&nbsp;=&nbsp;2000,</div></div><div class=\"2763\" style=\"display: none;\"><div style=\"display: table-cell;\"></div><div style=\"display: table-cell;\">lod_timeout&nbsp;=&nbsp;500,</div></div><div class=\"2763\" style=\"display: none;\"><div style=\"display: table-cell;\"></div><div style=\"display: table-cell;\">margin&nbsp;=&nbsp;(0, 0, 0, 0),</div></div><div class=\"2763\" style=\"display: none;\"><div style=\"display: table-cell;\"></div><div style=\"display: table-cell;\">match_aspect&nbsp;=&nbsp;False,</div></div><div class=\"2763\" style=\"display: none;\"><div style=\"display: table-cell;\"></div><div style=\"display: table-cell;\">max_height&nbsp;=&nbsp;None,</div></div><div class=\"2763\" style=\"display: none;\"><div style=\"display: table-cell;\"></div><div style=\"display: table-cell;\">max_width&nbsp;=&nbsp;None,</div></div><div class=\"2763\" style=\"display: none;\"><div style=\"display: table-cell;\"></div><div style=\"display: table-cell;\">min_border&nbsp;=&nbsp;5,</div></div><div class=\"2763\" style=\"display: none;\"><div style=\"display: table-cell;\"></div><div style=\"display: table-cell;\">min_border_bottom&nbsp;=&nbsp;None,</div></div><div class=\"2763\" style=\"display: none;\"><div style=\"display: table-cell;\"></div><div style=\"display: table-cell;\">min_border_left&nbsp;=&nbsp;None,</div></div><div class=\"2763\" style=\"display: none;\"><div style=\"display: table-cell;\"></div><div style=\"display: table-cell;\">min_border_right&nbsp;=&nbsp;None,</div></div><div class=\"2763\" style=\"display: none;\"><div style=\"display: table-cell;\"></div><div style=\"display: table-cell;\">min_border_top&nbsp;=&nbsp;None,</div></div><div class=\"2763\" style=\"display: none;\"><div style=\"display: table-cell;\"></div><div style=\"display: table-cell;\">min_height&nbsp;=&nbsp;None,</div></div><div class=\"2763\" style=\"display: none;\"><div style=\"display: table-cell;\"></div><div style=\"display: table-cell;\">min_width&nbsp;=&nbsp;None,</div></div><div class=\"2763\" style=\"display: none;\"><div style=\"display: table-cell;\"></div><div style=\"display: table-cell;\">name&nbsp;=&nbsp;None,</div></div><div class=\"2763\" style=\"display: none;\"><div style=\"display: table-cell;\"></div><div style=\"display: table-cell;\">outer_height&nbsp;=&nbsp;0,</div></div><div class=\"2763\" style=\"display: none;\"><div style=\"display: table-cell;\"></div><div style=\"display: table-cell;\">outer_width&nbsp;=&nbsp;0,</div></div><div class=\"2763\" style=\"display: none;\"><div style=\"display: table-cell;\"></div><div style=\"display: table-cell;\">outline_line_alpha&nbsp;=&nbsp;1.0,</div></div><div class=\"2763\" style=\"display: none;\"><div style=\"display: table-cell;\"></div><div style=\"display: table-cell;\">outline_line_cap&nbsp;=&nbsp;'butt',</div></div><div class=\"2763\" style=\"display: none;\"><div style=\"display: table-cell;\"></div><div style=\"display: table-cell;\">outline_line_color&nbsp;=&nbsp;'#e5e5e5',</div></div><div class=\"2763\" style=\"display: none;\"><div style=\"display: table-cell;\"></div><div style=\"display: table-cell;\">outline_line_dash&nbsp;=&nbsp;[],</div></div><div class=\"2763\" style=\"display: none;\"><div style=\"display: table-cell;\"></div><div style=\"display: table-cell;\">outline_line_dash_offset&nbsp;=&nbsp;0,</div></div><div class=\"2763\" style=\"display: none;\"><div style=\"display: table-cell;\"></div><div style=\"display: table-cell;\">outline_line_join&nbsp;=&nbsp;'bevel',</div></div><div class=\"2763\" style=\"display: none;\"><div style=\"display: table-cell;\"></div><div style=\"display: table-cell;\">outline_line_width&nbsp;=&nbsp;1,</div></div><div class=\"2763\" style=\"display: none;\"><div style=\"display: table-cell;\"></div><div style=\"display: table-cell;\">output_backend&nbsp;=&nbsp;'webgl',</div></div><div class=\"2763\" style=\"display: none;\"><div style=\"display: table-cell;\"></div><div style=\"display: table-cell;\">renderers&nbsp;=&nbsp;[GlyphRenderer(id='2574', ...)],</div></div><div class=\"2763\" style=\"display: none;\"><div style=\"display: table-cell;\"></div><div style=\"display: table-cell;\">reset_policy&nbsp;=&nbsp;'standard',</div></div><div class=\"2763\" style=\"display: none;\"><div style=\"display: table-cell;\"></div><div style=\"display: table-cell;\">right&nbsp;=&nbsp;[],</div></div><div class=\"2763\" style=\"display: none;\"><div style=\"display: table-cell;\"></div><div style=\"display: table-cell;\">sizing_mode&nbsp;=&nbsp;'fixed',</div></div><div class=\"2763\" style=\"display: none;\"><div style=\"display: table-cell;\"></div><div style=\"display: table-cell;\">subscribed_events&nbsp;=&nbsp;[],</div></div><div class=\"2763\" style=\"display: none;\"><div style=\"display: table-cell;\"></div><div style=\"display: table-cell;\">syncable&nbsp;=&nbsp;True,</div></div><div class=\"2763\" style=\"display: none;\"><div style=\"display: table-cell;\"></div><div style=\"display: table-cell;\">tags&nbsp;=&nbsp;[],</div></div><div class=\"2763\" style=\"display: none;\"><div style=\"display: table-cell;\"></div><div style=\"display: table-cell;\">title&nbsp;=&nbsp;Title(id='2538', ...),</div></div><div class=\"2763\" style=\"display: none;\"><div style=\"display: table-cell;\"></div><div style=\"display: table-cell;\">title_location&nbsp;=&nbsp;'above',</div></div><div class=\"2763\" style=\"display: none;\"><div style=\"display: table-cell;\"></div><div style=\"display: table-cell;\">toolbar&nbsp;=&nbsp;Toolbar(id='2563', ...),</div></div><div class=\"2763\" style=\"display: none;\"><div style=\"display: table-cell;\"></div><div style=\"display: table-cell;\">toolbar_location&nbsp;=&nbsp;'right',</div></div><div class=\"2763\" style=\"display: none;\"><div style=\"display: table-cell;\"></div><div style=\"display: table-cell;\">toolbar_sticky&nbsp;=&nbsp;True,</div></div><div class=\"2763\" style=\"display: none;\"><div style=\"display: table-cell;\"></div><div style=\"display: table-cell;\">visible&nbsp;=&nbsp;True,</div></div><div class=\"2763\" style=\"display: none;\"><div style=\"display: table-cell;\"></div><div style=\"display: table-cell;\">width&nbsp;=&nbsp;600,</div></div><div class=\"2763\" style=\"display: none;\"><div style=\"display: table-cell;\"></div><div style=\"display: table-cell;\">width_policy&nbsp;=&nbsp;'auto',</div></div><div class=\"2763\" style=\"display: none;\"><div style=\"display: table-cell;\"></div><div style=\"display: table-cell;\">x_range&nbsp;=&nbsp;DataRange1d(id='2540', ...),</div></div><div class=\"2763\" style=\"display: none;\"><div style=\"display: table-cell;\"></div><div style=\"display: table-cell;\">x_scale&nbsp;=&nbsp;LinearScale(id='2544', ...),</div></div><div class=\"2763\" style=\"display: none;\"><div style=\"display: table-cell;\"></div><div style=\"display: table-cell;\">y_range&nbsp;=&nbsp;DataRange1d(id='2542', ...),</div></div><div class=\"2763\" style=\"display: none;\"><div style=\"display: table-cell;\"></div><div style=\"display: table-cell;\">y_scale&nbsp;=&nbsp;LinearScale(id='2546', ...))</div></div></div>\n",
       "<script>\n",
       "(function() {\n",
       "  var expanded = false;\n",
       "  var ellipsis = document.getElementById(\"2764\");\n",
       "  ellipsis.addEventListener(\"click\", function() {\n",
       "    var rows = document.getElementsByClassName(\"2763\");\n",
       "    for (var i = 0; i < rows.length; i++) {\n",
       "      var el = rows[i];\n",
       "      el.style.display = expanded ? \"none\" : \"table-row\";\n",
       "    }\n",
       "    ellipsis.innerHTML = expanded ? \"&hellip;)\" : \"&lsaquo;&lsaquo;&lsaquo;\";\n",
       "    expanded = !expanded;\n",
       "  });\n",
       "})();\n",
       "</script>\n"
      ],
      "text/plain": [
       "Figure(id='2537', ...)"
      ]
     },
     "execution_count": 49,
     "metadata": {},
     "output_type": "execute_result"
    }
   ],
   "source": [
    "# The tail of this feature is in steps of 100, while the body is not.\n",
    "# It does not make sense to have this as a sparse continious variable (could be very prone to overfitting)\n",
    "# Convert entire feature into buckets of 100\n",
    "before = azdias['KBA13_ANZAHL_PKW'].value_counts().copy()\n",
    "azdias['KBA13_ANZAHL_PKW'].value_counts().sort_index().plot()"
   ]
  },
  {
   "cell_type": "code",
   "execution_count": 50,
   "metadata": {},
   "outputs": [],
   "source": [
    "# use ceiling for 2 reasons\n",
    "# 1. having no cars is significantly different to having 1 car\n",
    "# 2. the distribution has a stop at 1300 when rounding, and with this amount of data that large a step is unlikely to \n",
    "#    be natural.  \n",
    "azdias['KBA13_ANZAHL_PKW'] = (np.ceil((azdias['KBA13_ANZAHL_PKW']/100))*100)\n",
    "customers['KBA13_ANZAHL_PKW'] = (np.ceil((customers['KBA13_ANZAHL_PKW']/100))*100)"
   ]
  },
  {
   "cell_type": "code",
   "execution_count": 51,
   "metadata": {},
   "outputs": [
    {
     "data": {
      "text/html": [
       "\n",
       "\n",
       "\n",
       "\n",
       "\n",
       "\n",
       "  <div class=\"bk-root\" id=\"c96a93ab-0b11-4f72-8c1a-d0d01f5ba8c1\" data-root-id=\"2766\"></div>\n"
      ]
     },
     "metadata": {},
     "output_type": "display_data"
    },
    {
     "data": {
      "application/javascript": [
       "(function(root) {\n",
       "  function embed_document(root) {\n",
       "    \n",
       "  var docs_json = {\"c90b40d7-0dad-4ad2-959d-df31a0c4b65c\":{\"defs\":[],\"roots\":{\"references\":[{\"attributes\":{\"below\":[{\"id\":\"2777\"}],\"center\":[{\"id\":\"2780\"},{\"id\":\"2784\"},{\"id\":\"2815\"}],\"height\":400,\"left\":[{\"id\":\"2781\"}],\"output_backend\":\"webgl\",\"renderers\":[{\"id\":\"2803\"}],\"sizing_mode\":\"fixed\",\"title\":{\"id\":\"2767\"},\"toolbar\":{\"id\":\"2792\"},\"x_range\":{\"id\":\"2769\"},\"x_scale\":{\"id\":\"2773\"},\"y_range\":{\"id\":\"2771\"},\"y_scale\":{\"id\":\"2775\"}},\"id\":\"2766\",\"subtype\":\"Figure\",\"type\":\"Plot\"},{\"attributes\":{},\"id\":\"2782\",\"type\":\"BasicTicker\"},{\"attributes\":{},\"id\":\"2775\",\"type\":\"LinearScale\"},{\"attributes\":{},\"id\":\"2814\",\"type\":\"Selection\"},{\"attributes\":{},\"id\":\"2788\",\"type\":\"SaveTool\"},{\"attributes\":{\"data\":{\"KBA13_ANZAHL_PKW\":[53712,6289,32748,71349,106262,120093,111570,88182,65590,48059,35916,27687,20220,14464,11722,8291,6135,3795,2617,1450,1198,651,307,611],\"__x__values\":{\"__ndarray__\":\"AAAAAAAAAIAAAAAAAABZQAAAAAAAAGlAAAAAAADAckAAAAAAAAB5QAAAAAAAQH9AAAAAAADAgkAAAAAAAOCFQAAAAAAAAIlAAAAAAAAgjEAAAAAAAECPQAAAAAAAMJFAAAAAAADAkkAAAAAAAFCUQAAAAAAA4JVAAAAAAABwl0AAAAAAAACZQAAAAAAAkJpAAAAAAAAgnEAAAAAAALCdQAAAAAAAQJ9AAAAAAABooEAAAAAAADChQAAAAAAA+KFA\",\"dtype\":\"float64\",\"order\":\"little\",\"shape\":[24]},\"__x__values_original\":{\"__ndarray__\":\"AAAAAAAAAIAAAAAAAABZQAAAAAAAAGlAAAAAAADAckAAAAAAAAB5QAAAAAAAQH9AAAAAAADAgkAAAAAAAOCFQAAAAAAAAIlAAAAAAAAgjEAAAAAAAECPQAAAAAAAMJFAAAAAAADAkkAAAAAAAFCUQAAAAAAA4JVAAAAAAABwl0AAAAAAAACZQAAAAAAAkJpAAAAAAAAgnEAAAAAAALCdQAAAAAAAQJ9AAAAAAABooEAAAAAAADChQAAAAAAA+KFA\",\"dtype\":\"float64\",\"order\":\"little\",\"shape\":[24]}},\"selected\":{\"id\":\"2814\"},\"selection_policy\":{\"id\":\"2813\"}},\"id\":\"2799\",\"type\":\"ColumnDataSource\"},{\"attributes\":{\"axis\":{\"id\":\"2781\"},\"dimension\":1,\"ticker\":null},\"id\":\"2784\",\"type\":\"Grid\"},{\"attributes\":{},\"id\":\"2789\",\"type\":\"ResetTool\"},{\"attributes\":{\"overlay\":{\"id\":\"2791\"}},\"id\":\"2787\",\"type\":\"BoxZoomTool\"},{\"attributes\":{\"callback\":null,\"mode\":\"vline\",\"renderers\":[{\"id\":\"2803\"}],\"tooltips\":[[\"x\",\"@__x__values_original\"],[\"KBA13_ANZAHL_PKW\",\"@{KBA13_ANZAHL_PKW}\"]]},\"id\":\"2817\",\"type\":\"HoverTool\"},{\"attributes\":{},\"id\":\"2773\",\"type\":\"LinearScale\"},{\"attributes\":{\"formatter\":{\"id\":\"2809\"},\"major_label_policy\":{\"id\":\"2811\"},\"ticker\":{\"id\":\"2778\"}},\"id\":\"2777\",\"type\":\"LinearAxis\"},{\"attributes\":{\"click_policy\":\"hide\",\"items\":[{\"id\":\"2816\"}]},\"id\":\"2815\",\"type\":\"Legend\"},{\"attributes\":{\"label\":{\"value\":\" KBA13_ANZAHL_PKW\"},\"renderers\":[{\"id\":\"2803\"}]},\"id\":\"2816\",\"type\":\"LegendItem\"},{\"attributes\":{},\"id\":\"2767\",\"type\":\"Title\"},{\"attributes\":{},\"id\":\"2786\",\"type\":\"WheelZoomTool\"},{\"attributes\":{},\"id\":\"2790\",\"type\":\"HelpTool\"},{\"attributes\":{},\"id\":\"2808\",\"type\":\"AllLabels\"},{\"attributes\":{},\"id\":\"2769\",\"type\":\"DataRange1d\"},{\"attributes\":{},\"id\":\"2806\",\"type\":\"BasicTickFormatter\"},{\"attributes\":{},\"id\":\"2813\",\"type\":\"UnionRenderers\"},{\"attributes\":{\"line_alpha\":0.1,\"line_color\":\"#1f77b4\",\"line_width\":2,\"x\":{\"field\":\"__x__values\"},\"y\":{\"field\":\"KBA13_ANZAHL_PKW\"}},\"id\":\"2802\",\"type\":\"Line\"},{\"attributes\":{\"source\":{\"id\":\"2799\"}},\"id\":\"2804\",\"type\":\"CDSView\"},{\"attributes\":{\"axis\":{\"id\":\"2777\"},\"ticker\":null},\"id\":\"2780\",\"type\":\"Grid\"},{\"attributes\":{\"bottom_units\":\"screen\",\"fill_alpha\":0.5,\"fill_color\":\"lightgrey\",\"left_units\":\"screen\",\"level\":\"overlay\",\"line_alpha\":1.0,\"line_color\":\"black\",\"line_dash\":[4,4],\"line_width\":2,\"right_units\":\"screen\",\"syncable\":false,\"top_units\":\"screen\"},\"id\":\"2791\",\"type\":\"BoxAnnotation\"},{\"attributes\":{},\"id\":\"2771\",\"type\":\"DataRange1d\"},{\"attributes\":{\"active_multi\":null,\"active_scroll\":{\"id\":\"2786\"},\"tools\":[{\"id\":\"2785\"},{\"id\":\"2786\"},{\"id\":\"2787\"},{\"id\":\"2788\"},{\"id\":\"2789\"},{\"id\":\"2790\"},{\"id\":\"2817\"}]},\"id\":\"2792\",\"type\":\"Toolbar\"},{\"attributes\":{},\"id\":\"2785\",\"type\":\"PanTool\"},{\"attributes\":{},\"id\":\"2778\",\"type\":\"BasicTicker\"},{\"attributes\":{\"data_source\":{\"id\":\"2799\"},\"glyph\":{\"id\":\"2801\"},\"hover_glyph\":null,\"muted_glyph\":null,\"nonselection_glyph\":{\"id\":\"2802\"},\"view\":{\"id\":\"2804\"}},\"id\":\"2803\",\"type\":\"GlyphRenderer\"},{\"attributes\":{\"line_color\":\"#1f77b4\",\"line_width\":2,\"x\":{\"field\":\"__x__values\"},\"y\":{\"field\":\"KBA13_ANZAHL_PKW\"}},\"id\":\"2801\",\"type\":\"Line\"},{\"attributes\":{},\"id\":\"2811\",\"type\":\"AllLabels\"},{\"attributes\":{},\"id\":\"2809\",\"type\":\"BasicTickFormatter\"},{\"attributes\":{\"axis_label\":\"KBA13_ANZAHL_PKW\",\"formatter\":{\"id\":\"2806\"},\"major_label_policy\":{\"id\":\"2808\"},\"ticker\":{\"id\":\"2782\"}},\"id\":\"2781\",\"type\":\"LinearAxis\"}],\"root_ids\":[\"2766\"]},\"title\":\"Bokeh Application\",\"version\":\"2.3.1\"}};\n",
       "  var render_items = [{\"docid\":\"c90b40d7-0dad-4ad2-959d-df31a0c4b65c\",\"root_ids\":[\"2766\"],\"roots\":{\"2766\":\"c96a93ab-0b11-4f72-8c1a-d0d01f5ba8c1\"}}];\n",
       "  root.Bokeh.embed.embed_items_notebook(docs_json, render_items);\n",
       "\n",
       "  }\n",
       "  if (root.Bokeh !== undefined) {\n",
       "    embed_document(root);\n",
       "  } else {\n",
       "    var attempts = 0;\n",
       "    var timer = setInterval(function(root) {\n",
       "      if (root.Bokeh !== undefined) {\n",
       "        clearInterval(timer);\n",
       "        embed_document(root);\n",
       "      } else {\n",
       "        attempts++;\n",
       "        if (attempts > 100) {\n",
       "          clearInterval(timer);\n",
       "          console.log(\"Bokeh: ERROR: Unable to run BokehJS code because BokehJS library is missing\");\n",
       "        }\n",
       "      }\n",
       "    }, 10, root)\n",
       "  }\n",
       "})(window);"
      ],
      "application/vnd.bokehjs_exec.v0+json": ""
     },
     "metadata": {
      "application/vnd.bokehjs_exec.v0+json": {
       "id": "2766"
      }
     },
     "output_type": "display_data"
    },
    {
     "data": {
      "text/html": [
       "<div style=\"display: table;\"><div style=\"display: table-row;\"><div style=\"display: table-cell;\"><b title=\"bokeh.plotting.figure.Figure\">Figure</b>(</div><div style=\"display: table-cell;\">id&nbsp;=&nbsp;'2766', <span id=\"3003\" style=\"cursor: pointer;\">&hellip;)</span></div></div><div class=\"3002\" style=\"display: none;\"><div style=\"display: table-cell;\"></div><div style=\"display: table-cell;\">above&nbsp;=&nbsp;[],</div></div><div class=\"3002\" style=\"display: none;\"><div style=\"display: table-cell;\"></div><div style=\"display: table-cell;\">align&nbsp;=&nbsp;'start',</div></div><div class=\"3002\" style=\"display: none;\"><div style=\"display: table-cell;\"></div><div style=\"display: table-cell;\">aspect_ratio&nbsp;=&nbsp;None,</div></div><div class=\"3002\" style=\"display: none;\"><div style=\"display: table-cell;\"></div><div style=\"display: table-cell;\">aspect_scale&nbsp;=&nbsp;1,</div></div><div class=\"3002\" style=\"display: none;\"><div style=\"display: table-cell;\"></div><div style=\"display: table-cell;\">background&nbsp;=&nbsp;None,</div></div><div class=\"3002\" style=\"display: none;\"><div style=\"display: table-cell;\"></div><div style=\"display: table-cell;\">background_fill_alpha&nbsp;=&nbsp;1.0,</div></div><div class=\"3002\" style=\"display: none;\"><div style=\"display: table-cell;\"></div><div style=\"display: table-cell;\">background_fill_color&nbsp;=&nbsp;'#ffffff',</div></div><div class=\"3002\" style=\"display: none;\"><div style=\"display: table-cell;\"></div><div style=\"display: table-cell;\">below&nbsp;=&nbsp;[LinearAxis(id='2777', ...)],</div></div><div class=\"3002\" style=\"display: none;\"><div style=\"display: table-cell;\"></div><div style=\"display: table-cell;\">border_fill_alpha&nbsp;=&nbsp;1.0,</div></div><div class=\"3002\" style=\"display: none;\"><div style=\"display: table-cell;\"></div><div style=\"display: table-cell;\">border_fill_color&nbsp;=&nbsp;'#ffffff',</div></div><div class=\"3002\" style=\"display: none;\"><div style=\"display: table-cell;\"></div><div style=\"display: table-cell;\">center&nbsp;=&nbsp;[Grid(id='2780', ...), Grid(id='2784', ...), Legend(id='2815', ...)],</div></div><div class=\"3002\" style=\"display: none;\"><div style=\"display: table-cell;\"></div><div style=\"display: table-cell;\">css_classes&nbsp;=&nbsp;[],</div></div><div class=\"3002\" style=\"display: none;\"><div style=\"display: table-cell;\"></div><div style=\"display: table-cell;\">disabled&nbsp;=&nbsp;False,</div></div><div class=\"3002\" style=\"display: none;\"><div style=\"display: table-cell;\"></div><div style=\"display: table-cell;\">extra_x_ranges&nbsp;=&nbsp;{},</div></div><div class=\"3002\" style=\"display: none;\"><div style=\"display: table-cell;\"></div><div style=\"display: table-cell;\">extra_y_ranges&nbsp;=&nbsp;{},</div></div><div class=\"3002\" style=\"display: none;\"><div style=\"display: table-cell;\"></div><div style=\"display: table-cell;\">frame_height&nbsp;=&nbsp;None,</div></div><div class=\"3002\" style=\"display: none;\"><div style=\"display: table-cell;\"></div><div style=\"display: table-cell;\">frame_width&nbsp;=&nbsp;None,</div></div><div class=\"3002\" style=\"display: none;\"><div style=\"display: table-cell;\"></div><div style=\"display: table-cell;\">height&nbsp;=&nbsp;400,</div></div><div class=\"3002\" style=\"display: none;\"><div style=\"display: table-cell;\"></div><div style=\"display: table-cell;\">height_policy&nbsp;=&nbsp;'auto',</div></div><div class=\"3002\" style=\"display: none;\"><div style=\"display: table-cell;\"></div><div style=\"display: table-cell;\">hidpi&nbsp;=&nbsp;True,</div></div><div class=\"3002\" style=\"display: none;\"><div style=\"display: table-cell;\"></div><div style=\"display: table-cell;\">inner_height&nbsp;=&nbsp;0,</div></div><div class=\"3002\" style=\"display: none;\"><div style=\"display: table-cell;\"></div><div style=\"display: table-cell;\">inner_width&nbsp;=&nbsp;0,</div></div><div class=\"3002\" style=\"display: none;\"><div style=\"display: table-cell;\"></div><div style=\"display: table-cell;\">js_event_callbacks&nbsp;=&nbsp;{},</div></div><div class=\"3002\" style=\"display: none;\"><div style=\"display: table-cell;\"></div><div style=\"display: table-cell;\">js_property_callbacks&nbsp;=&nbsp;{},</div></div><div class=\"3002\" style=\"display: none;\"><div style=\"display: table-cell;\"></div><div style=\"display: table-cell;\">left&nbsp;=&nbsp;[LinearAxis(id='2781', ...)],</div></div><div class=\"3002\" style=\"display: none;\"><div style=\"display: table-cell;\"></div><div style=\"display: table-cell;\">lod_factor&nbsp;=&nbsp;10,</div></div><div class=\"3002\" style=\"display: none;\"><div style=\"display: table-cell;\"></div><div style=\"display: table-cell;\">lod_interval&nbsp;=&nbsp;300,</div></div><div class=\"3002\" style=\"display: none;\"><div style=\"display: table-cell;\"></div><div style=\"display: table-cell;\">lod_threshold&nbsp;=&nbsp;2000,</div></div><div class=\"3002\" style=\"display: none;\"><div style=\"display: table-cell;\"></div><div style=\"display: table-cell;\">lod_timeout&nbsp;=&nbsp;500,</div></div><div class=\"3002\" style=\"display: none;\"><div style=\"display: table-cell;\"></div><div style=\"display: table-cell;\">margin&nbsp;=&nbsp;(0, 0, 0, 0),</div></div><div class=\"3002\" style=\"display: none;\"><div style=\"display: table-cell;\"></div><div style=\"display: table-cell;\">match_aspect&nbsp;=&nbsp;False,</div></div><div class=\"3002\" style=\"display: none;\"><div style=\"display: table-cell;\"></div><div style=\"display: table-cell;\">max_height&nbsp;=&nbsp;None,</div></div><div class=\"3002\" style=\"display: none;\"><div style=\"display: table-cell;\"></div><div style=\"display: table-cell;\">max_width&nbsp;=&nbsp;None,</div></div><div class=\"3002\" style=\"display: none;\"><div style=\"display: table-cell;\"></div><div style=\"display: table-cell;\">min_border&nbsp;=&nbsp;5,</div></div><div class=\"3002\" style=\"display: none;\"><div style=\"display: table-cell;\"></div><div style=\"display: table-cell;\">min_border_bottom&nbsp;=&nbsp;None,</div></div><div class=\"3002\" style=\"display: none;\"><div style=\"display: table-cell;\"></div><div style=\"display: table-cell;\">min_border_left&nbsp;=&nbsp;None,</div></div><div class=\"3002\" style=\"display: none;\"><div style=\"display: table-cell;\"></div><div style=\"display: table-cell;\">min_border_right&nbsp;=&nbsp;None,</div></div><div class=\"3002\" style=\"display: none;\"><div style=\"display: table-cell;\"></div><div style=\"display: table-cell;\">min_border_top&nbsp;=&nbsp;None,</div></div><div class=\"3002\" style=\"display: none;\"><div style=\"display: table-cell;\"></div><div style=\"display: table-cell;\">min_height&nbsp;=&nbsp;None,</div></div><div class=\"3002\" style=\"display: none;\"><div style=\"display: table-cell;\"></div><div style=\"display: table-cell;\">min_width&nbsp;=&nbsp;None,</div></div><div class=\"3002\" style=\"display: none;\"><div style=\"display: table-cell;\"></div><div style=\"display: table-cell;\">name&nbsp;=&nbsp;None,</div></div><div class=\"3002\" style=\"display: none;\"><div style=\"display: table-cell;\"></div><div style=\"display: table-cell;\">outer_height&nbsp;=&nbsp;0,</div></div><div class=\"3002\" style=\"display: none;\"><div style=\"display: table-cell;\"></div><div style=\"display: table-cell;\">outer_width&nbsp;=&nbsp;0,</div></div><div class=\"3002\" style=\"display: none;\"><div style=\"display: table-cell;\"></div><div style=\"display: table-cell;\">outline_line_alpha&nbsp;=&nbsp;1.0,</div></div><div class=\"3002\" style=\"display: none;\"><div style=\"display: table-cell;\"></div><div style=\"display: table-cell;\">outline_line_cap&nbsp;=&nbsp;'butt',</div></div><div class=\"3002\" style=\"display: none;\"><div style=\"display: table-cell;\"></div><div style=\"display: table-cell;\">outline_line_color&nbsp;=&nbsp;'#e5e5e5',</div></div><div class=\"3002\" style=\"display: none;\"><div style=\"display: table-cell;\"></div><div style=\"display: table-cell;\">outline_line_dash&nbsp;=&nbsp;[],</div></div><div class=\"3002\" style=\"display: none;\"><div style=\"display: table-cell;\"></div><div style=\"display: table-cell;\">outline_line_dash_offset&nbsp;=&nbsp;0,</div></div><div class=\"3002\" style=\"display: none;\"><div style=\"display: table-cell;\"></div><div style=\"display: table-cell;\">outline_line_join&nbsp;=&nbsp;'bevel',</div></div><div class=\"3002\" style=\"display: none;\"><div style=\"display: table-cell;\"></div><div style=\"display: table-cell;\">outline_line_width&nbsp;=&nbsp;1,</div></div><div class=\"3002\" style=\"display: none;\"><div style=\"display: table-cell;\"></div><div style=\"display: table-cell;\">output_backend&nbsp;=&nbsp;'webgl',</div></div><div class=\"3002\" style=\"display: none;\"><div style=\"display: table-cell;\"></div><div style=\"display: table-cell;\">renderers&nbsp;=&nbsp;[GlyphRenderer(id='2803', ...)],</div></div><div class=\"3002\" style=\"display: none;\"><div style=\"display: table-cell;\"></div><div style=\"display: table-cell;\">reset_policy&nbsp;=&nbsp;'standard',</div></div><div class=\"3002\" style=\"display: none;\"><div style=\"display: table-cell;\"></div><div style=\"display: table-cell;\">right&nbsp;=&nbsp;[],</div></div><div class=\"3002\" style=\"display: none;\"><div style=\"display: table-cell;\"></div><div style=\"display: table-cell;\">sizing_mode&nbsp;=&nbsp;'fixed',</div></div><div class=\"3002\" style=\"display: none;\"><div style=\"display: table-cell;\"></div><div style=\"display: table-cell;\">subscribed_events&nbsp;=&nbsp;[],</div></div><div class=\"3002\" style=\"display: none;\"><div style=\"display: table-cell;\"></div><div style=\"display: table-cell;\">syncable&nbsp;=&nbsp;True,</div></div><div class=\"3002\" style=\"display: none;\"><div style=\"display: table-cell;\"></div><div style=\"display: table-cell;\">tags&nbsp;=&nbsp;[],</div></div><div class=\"3002\" style=\"display: none;\"><div style=\"display: table-cell;\"></div><div style=\"display: table-cell;\">title&nbsp;=&nbsp;Title(id='2767', ...),</div></div><div class=\"3002\" style=\"display: none;\"><div style=\"display: table-cell;\"></div><div style=\"display: table-cell;\">title_location&nbsp;=&nbsp;'above',</div></div><div class=\"3002\" style=\"display: none;\"><div style=\"display: table-cell;\"></div><div style=\"display: table-cell;\">toolbar&nbsp;=&nbsp;Toolbar(id='2792', ...),</div></div><div class=\"3002\" style=\"display: none;\"><div style=\"display: table-cell;\"></div><div style=\"display: table-cell;\">toolbar_location&nbsp;=&nbsp;'right',</div></div><div class=\"3002\" style=\"display: none;\"><div style=\"display: table-cell;\"></div><div style=\"display: table-cell;\">toolbar_sticky&nbsp;=&nbsp;True,</div></div><div class=\"3002\" style=\"display: none;\"><div style=\"display: table-cell;\"></div><div style=\"display: table-cell;\">visible&nbsp;=&nbsp;True,</div></div><div class=\"3002\" style=\"display: none;\"><div style=\"display: table-cell;\"></div><div style=\"display: table-cell;\">width&nbsp;=&nbsp;600,</div></div><div class=\"3002\" style=\"display: none;\"><div style=\"display: table-cell;\"></div><div style=\"display: table-cell;\">width_policy&nbsp;=&nbsp;'auto',</div></div><div class=\"3002\" style=\"display: none;\"><div style=\"display: table-cell;\"></div><div style=\"display: table-cell;\">x_range&nbsp;=&nbsp;DataRange1d(id='2769', ...),</div></div><div class=\"3002\" style=\"display: none;\"><div style=\"display: table-cell;\"></div><div style=\"display: table-cell;\">x_scale&nbsp;=&nbsp;LinearScale(id='2773', ...),</div></div><div class=\"3002\" style=\"display: none;\"><div style=\"display: table-cell;\"></div><div style=\"display: table-cell;\">y_range&nbsp;=&nbsp;DataRange1d(id='2771', ...),</div></div><div class=\"3002\" style=\"display: none;\"><div style=\"display: table-cell;\"></div><div style=\"display: table-cell;\">y_scale&nbsp;=&nbsp;LinearScale(id='2775', ...))</div></div></div>\n",
       "<script>\n",
       "(function() {\n",
       "  var expanded = false;\n",
       "  var ellipsis = document.getElementById(\"3003\");\n",
       "  ellipsis.addEventListener(\"click\", function() {\n",
       "    var rows = document.getElementsByClassName(\"3002\");\n",
       "    for (var i = 0; i < rows.length; i++) {\n",
       "      var el = rows[i];\n",
       "      el.style.display = expanded ? \"none\" : \"table-row\";\n",
       "    }\n",
       "    ellipsis.innerHTML = expanded ? \"&hellip;)\" : \"&lsaquo;&lsaquo;&lsaquo;\";\n",
       "    expanded = !expanded;\n",
       "  });\n",
       "})();\n",
       "</script>\n"
      ],
      "text/plain": [
       "Figure(id='2766', ...)"
      ]
     },
     "execution_count": 51,
     "metadata": {},
     "output_type": "execute_result"
    }
   ],
   "source": [
    "azdias['KBA13_ANZAHL_PKW'].value_counts().sort_index().plot()"
   ]
  },
  {
   "cell_type": "code",
   "execution_count": 52,
   "metadata": {},
   "outputs": [
    {
     "data": {
      "text/html": [
       "\n",
       "\n",
       "\n",
       "\n",
       "\n",
       "\n",
       "  <div class=\"bk-root\" id=\"2060b417-5140-46ac-b663-595f77a6260a\" data-root-id=\"3005\"></div>\n"
      ]
     },
     "metadata": {},
     "output_type": "display_data"
    },
    {
     "data": {
      "application/javascript": [
       "(function(root) {\n",
       "  function embed_document(root) {\n",
       "    \n",
       "  var docs_json = {\"0c4d6ebf-05fb-4d29-b4b3-a2cf29a689f6\":{\"defs\":[],\"roots\":{\"references\":[{\"attributes\":{\"below\":[{\"id\":\"3014\"}],\"center\":[{\"id\":\"3017\"},{\"id\":\"3021\"},{\"id\":\"3042\"}],\"height\":400,\"left\":[{\"id\":\"3018\"}],\"renderers\":[{\"id\":\"3029\"},{\"id\":\"3047\"}],\"title\":{\"id\":\"3032\"},\"toolbar\":{\"id\":\"3024\"},\"width\":500,\"x_range\":{\"id\":\"3006\"},\"x_scale\":{\"id\":\"3010\"},\"y_range\":{\"id\":\"3008\"},\"y_scale\":{\"id\":\"3012\"}},\"id\":\"3005\",\"subtype\":\"Figure\",\"type\":\"Plot\"},{\"attributes\":{\"source\":{\"id\":\"3044\"}},\"id\":\"3048\",\"type\":\"CDSView\"},{\"attributes\":{},\"id\":\"3015\",\"type\":\"BasicTicker\"},{\"attributes\":{\"items\":[{\"id\":\"3043\"},{\"id\":\"3062\"}]},\"id\":\"3042\",\"type\":\"Legend\"},{\"attributes\":{},\"id\":\"3012\",\"type\":\"LinearScale\"},{\"attributes\":{\"data_source\":{\"id\":\"3026\"},\"glyph\":{\"id\":\"3027\"},\"hover_glyph\":null,\"muted_glyph\":null,\"nonselection_glyph\":{\"id\":\"3028\"},\"view\":{\"id\":\"3030\"}},\"id\":\"3029\",\"type\":\"GlyphRenderer\"},{\"attributes\":{\"label\":{\"value\":\"KBA13_ANZAHL_PKW after\"},\"renderers\":[{\"id\":\"3047\"}]},\"id\":\"3062\",\"type\":\"LegendItem\"},{\"attributes\":{\"line_alpha\":0.1,\"line_color\":\"red\",\"x\":{\"field\":\"x\"},\"y\":{\"field\":\"y\"}},\"id\":\"3046\",\"type\":\"Line\"},{\"attributes\":{\"bottom_units\":\"screen\",\"fill_alpha\":0.5,\"fill_color\":\"lightgrey\",\"left_units\":\"screen\",\"level\":\"overlay\",\"line_alpha\":1.0,\"line_color\":\"black\",\"line_dash\":[4,4],\"line_width\":2,\"right_units\":\"screen\",\"syncable\":false,\"top_units\":\"screen\"},\"id\":\"3023\",\"type\":\"BoxAnnotation\"},{\"attributes\":{\"overlay\":{\"id\":\"3023\"}},\"id\":\"3022\",\"type\":\"BoxZoomTool\"},{\"attributes\":{\"text\":\"KBA13_ANZAHL_PKW transformation\"},\"id\":\"3032\",\"type\":\"Title\"},{\"attributes\":{\"axis_label\":\"Numer of occurences\",\"formatter\":{\"id\":\"3033\"},\"major_label_policy\":{\"id\":\"3035\"},\"ticker\":{\"id\":\"3019\"}},\"id\":\"3018\",\"type\":\"LinearAxis\"},{\"attributes\":{},\"id\":\"3006\",\"type\":\"DataRange1d\"},{\"attributes\":{},\"id\":\"3036\",\"type\":\"BasicTickFormatter\"},{\"attributes\":{\"axis\":{\"id\":\"3014\"},\"grid_line_color\":null,\"ticker\":null},\"id\":\"3017\",\"type\":\"Grid\"},{\"attributes\":{\"line_alpha\":0.1,\"line_color\":\"blue\",\"x\":{\"field\":\"x\"},\"y\":{\"field\":\"y\"}},\"id\":\"3028\",\"type\":\"Line\"},{\"attributes\":{\"data\":{\"x\":{\"__ndarray__\":\"AAAAAAAAAIAAAAAAAABZQAAAAAAAAGlAAAAAAADAckAAAAAAAAB5QAAAAAAAQH9AAAAAAADAgkAAAAAAAOCFQAAAAAAAAIlAAAAAAAAgjEAAAAAAAECPQAAAAAAAMJFAAAAAAADAkkAAAAAAAFCUQAAAAAAA4JVAAAAAAABwl0AAAAAAAACZQAAAAAAAkJpAAAAAAAAgnEAAAAAAALCdQAAAAAAAQJ9AAAAAAABooEAAAAAAADChQAAAAAAA+KFA\",\"dtype\":\"float64\",\"order\":\"little\",\"shape\":[24]},\"y\":[53712,6289,32748,71349,106262,120093,111570,88182,65590,48059,35916,27687,20220,14464,11722,8291,6135,3795,2617,1450,1198,651,307,611]},\"selected\":{\"id\":\"3061\"},\"selection_policy\":{\"id\":\"3060\"}},\"id\":\"3044\",\"type\":\"ColumnDataSource\"},{\"attributes\":{},\"id\":\"3041\",\"type\":\"Selection\"},{\"attributes\":{\"data\":{\"x\":[-1,0,1,2,3,4,5,6,7,8,9,10,11,12,13,14,15,16,17,18,19,20,21,22,23,24,25,26,27,28,29,30,31,32,33,34,35,36,37,38,39,40,41,42,43,44,45,46,47,48,49,50,51,52,53,54,55,56,57,58,59,60,61,62,63,64,65,66,67,68,69,70,71,72,73,74,75,76,77,78,79,80,81,82,83,84,85,86,87,88,89,90,91,92,93,94,95,96,97,98,99,100,101,102,103,104,105,106,107,108,109,110,111,112,113,114,115,116,117,118,119,120,121,122,123,124,125,126,127,128,129,130,131,132,133,134,135,136,137,138,139,140,141,142,143,144,145,146,147,148,149,150,151,152,153,154,155,156,157,158,159,160,161,162,163,164,165,166,167,168,169,170,171,172,173,174,175,176,177,178,179,180,181,182,183,184,185,186,187,188,189,190,191,192,193,194,195,196,197,198,199,200,201,202,203,204,205,206,207,208,209,210,211,212,213,214,215,216,217,218,219,220,221,222,223,224,225,226,227,228,229,230,231,232,233,234,235,236,237,238,239,240,241,242,243,244,245,246,247,248,249,250,251,252,253,254,255,256,257,258,259,260,261,262,263,264,265,266,267,268,269,270,271,272,273,274,275,276,277,278,279,280,281,282,283,284,285,286,287,288,289,290,291,292,293,294,295,296,297,298,299,300,301,302,303,304,305,306,307,308,309,310,311,312,313,314,315,316,317,318,319,320,321,322,323,324,325,326,327,328,329,330,331,332,333,334,335,336,337,338,339,340,341,342,343,344,345,346,347,348,349,350,351,352,353,354,355,356,357,358,359,360,361,362,363,364,365,366,367,368,369,370,371,372,373,374,375,376,377,378,379,380,381,382,383,384,385,386,387,388,389,390,391,392,393,394,395,396,397,398,399,400,401,402,403,404,405,406,407,408,409,410,411,412,413,414,415,416,417,418,419,420,421,422,423,424,425,426,427,428,429,430,431,432,433,434,435,436,437,438,439,440,441,442,443,444,445,446,447,448,449,450,451,452,453,454,455,456,457,458,459,460,461,462,463,464,465,466,467,468,469,470,471,472,473,474,475,476,477,478,479,480,481,482,483,484,485,486,487,488,489,490,491,492,493,494,495,496,497,498,499,500,501,502,503,504,505,506,507,508,509,510,511,512,513,514,515,516,517,518,519,520,521,522,523,524,525,526,527,528,529,530,531,532,533,534,535,536,537,538,539,540,541,542,543,544,545,546,547,548,549,550,551,552,553,554,555,556,557,558,559,560,561,562,563,564,565,566,567,568,569,570,571,572,573,574,575,576,577,578,579,580,581,582,583,584,585,586,587,588,589,590,591,592,593,594,595,596,597,598,599,600,601,602,603,604,605,606,607,608,609,610,611,612,613,614,615,616,617,618,619,620,621,622,623,624,625,626,627,628,629,630,631,632,633,634,635,636,637,638,639,640,641,642,643,644,645,646,647,648,649,650,651,652,653,654,655,656,657,658,659,660,661,662,663,664,665,666,667,668,669,670,671,672,673,674,675,676,677,678,679,680,681,682,683,684,685,686,687,688,689,690,691,692,693,694,695,696,697,698,699,700,701,702,703,704,705,706,707,708,709,710,711,712,713,714,715,716,717,718,719,720,721,722,723,724,725,726,727,728,729,730,731,732,733,734,735,736,737,738,739,740,741,742,743,744,745,746,747,748,749,750,751,752,753,754,755,756,757,758,759,760,761,762,763,764,765,766,767,768,769,770,771,772,773,774,775,776,777,778,779,780,781,782,783,784,785,786,787,788,789,790,791,792,793,794,795,796,797,798,799,800,801,802,803,804,805,806,807,808,809,810,811,812,813,814,815,816,817,818,819,820,821,822,823,824,825,826,827,828,829,830,831,832,833,834,835,836,837,838,839,840,841,842,843,844,845,846,847,848,849,850,851,852,853,854,855,856,857,858,859,860,861,862,863,864,865,866,867,868,869,870,871,872,873,874,875,876,877,878,879,880,881,882,883,884,885,886,887,888,889,890,891,892,893,894,895,896,897,898,899,900,901,902,903,904,905,906,907,908,909,910,911,912,913,914,915,916,917,918,919,920,921,922,923,924,925,926,927,928,929,930,931,932,933,934,935,936,937,938,939,940,941,942,943,944,945,946,947,948,949,950,951,952,953,954,955,956,957,958,959,960,961,962,963,964,965,966,967,968,969,970,971,972,973,974,975,976,977,978,979,980,981,982,983,984,985,986,987,988,989,990,991,992,993,994,995,996,997,998,999,1000,1001,1002,1003,1004,1005,1006,1007,1008,1009,1010,1011,1012,1013,1014,1015,1016,1017,1018,1019,1020,1021,1022,1023,1024,1025,1026,1027,1028,1029,1030,1031,1032,1033,1034,1035,1036,1037,1038,1039,1040,1041,1042,1043,1044,1045,1046,1047,1048,1049,1050,1051,1052,1053,1054,1055,1056,1057,1058,1059,1060,1061,1062,1063,1064,1065,1066,1067,1068,1069,1070,1071,1072,1073,1074,1075,1076,1077,1078,1079,1080,1081,1082,1083,1084,1085,1086,1087,1088,1089,1090,1091,1092,1093,1094,1095,1096,1097,1098,1099,1100,1101,1102,1103,1104,1105,1106,1107,1108,1109,1110,1111,1112,1113,1114,1115,1116,1117,1118,1119,1120,1121,1122,1123,1124,1125,1126,1127,1128,1129,1130,1131,1132,1133,1134,1135,1136,1137,1138,1139,1140,1141,1142,1143,1144,1145,1146,1147,1148,1149,1150,1151,1152,1153,1154,1155,1156,1157,1158,1159,1160,1161,1162,1163,1164,1165,1166,1167,1168,1169,1170,1171,1172,1173,1174,1175,1176,1177,1178,1179,1180,1181,1182,1183,1184,1185,1186,1187,1188,1189,1190,1191,1192,1193,1194,1195,1196,1197,1198,1199,1200,1201,1202,1203,1204,1205,1206,1207,1208,1209,1210,1211,1212,1213,1214,1215,1216,1217,1218,1219,1220,1221,1222,1223,1224,1225,1226,1227,1228,1229,1230,1231,1232,1233,1234,1235,1236,1237,1238,1239,1240,1241,1242,1243,1244,1245,1246,1247,1249,1250,1300,1400,1500,1600,1700,1800,1900,2000,2100,2200,2300],\"y\":[53650,62,8,6,6,7,7,5,5,6,7,8,7,16,10,16,14,11,20,21,11,18,17,16,13,22,23,21,24,24,15,12,29,28,31,42,43,38,45,35,28,42,44,35,27,52,59,46,77,53,27,37,84,75,53,50,53,53,45,60,76,54,58,66,80,95,67,69,66,84,101,91,99,74,89,89,85,111,74,84,120,94,144,119,139,117,142,126,145,107,159,125,132,156,128,123,141,207,154,152,163,97,179,159,218,219,129,230,161,198,222,151,217,186,189,180,193,218,225,227,220,220,228,245,226,263,233,250,257,277,304,301,202,242,341,317,311,312,244,294,263,319,312,254,243,285,349,281,311,319,368,297,357,269,365,310,355,327,394,380,329,264,356,434,363,388,388,294,359,442,479,419,289,385,344,397,318,377,527,351,403,432,387,391,404,405,595,455,525,437,425,456,470,411,426,416,482,564,502,480,538,495,583,476,476,524,586,542,532,492,576,461,422,629,595,690,643,563,607,649,487,484,580,681,604,578,582,554,565,752,641,589,765,672,619,721,527,684,659,626,624,592,635,784,684,575,634,651,803,689,632,577,850,724,764,759,802,686,840,836,750,600,690,671,703,640,706,973,826,755,932,765,768,900,811,686,859,851,880,731,754,946,849,782,876,844,819,867,717,842,985,988,919,939,1026,808,797,954,912,996,927,748,922,915,1021,851,919,969,842,972,984,1036,1071,927,1124,1068,912,939,764,1039,980,1045,934,1014,1034,958,964,989,915,834,860,1147,1040,1038,1050,1144,1153,1182,873,818,1040,1117,1183,1020,1088,956,1215,1005,884,1120,868,869,1176,1254,1014,989,907,1182,1037,1085,1135,1224,1062,813,1031,1175,1146,1037,1033,1049,1227,1134,1036,1114,1107,1062,1254,978,1257,1076,1173,1207,858,1224,1070,1243,1096,1458,1338,1324,1281,1280,956,1010,1282,1112,1446,1217,1023,1197,1218,1043,1091,1318,1168,1101,1065,1288,1060,1126,1252,1221,1048,1200,1058,1147,1034,1190,1603,1384,1026,1337,1317,1196,1008,1112,1147,1241,1127,1212,1245,1220,1149,966,1116,1240,957,1009,1198,1276,1327,1186,1153,1223,1130,1195,1185,1253,1170,1179,1099,1380,1245,1388,1281,1380,1409,1323,1200,1178,1379,987,1053,1197,1131,1604,1094,1308,1254,1155,1200,1232,1229,977,1100,1024,1205,1089,1297,1256,1264,1178,1417,1011,1392,1101,1273,1071,1319,1232,1296,1302,1299,1358,1114,1379,1097,1035,1262,1020,1310,1255,1161,1220,1072,1339,1038,1326,921,1262,1213,1049,1150,1168,1154,953,1242,1284,1265,1239,1600,1176,1051,1048,1176,1125,1162,1190,1152,1173,1169,1200,1139,1067,1100,1496,838,1290,1267,1012,1060,1177,1169,1042,1158,1159,947,1060,1139,956,1201,1166,1119,1182,1138,1232,914,1278,996,1301,1155,1156,986,1065,905,1160,1212,865,1291,1182,996,1140,1105,1253,1142,1274,1000,1165,1138,927,855,1037,994,1119,1092,1278,929,1054,969,909,946,1022,906,1002,1115,1049,1056,1103,1203,1056,814,1064,943,1068,858,1107,917,890,931,1026,907,1108,1077,1007,934,864,1009,980,956,1171,712,1137,1194,996,1020,784,1009,762,866,844,1050,1043,816,1070,1049,912,981,957,861,782,876,919,952,903,885,786,707,1000,961,887,918,1031,796,709,765,952,787,982,715,853,805,979,781,839,901,880,711,967,904,1064,1111,888,879,854,758,782,680,964,782,848,924,668,776,718,761,736,748,797,721,665,831,933,624,674,796,1074,945,695,771,533,717,716,585,928,523,653,521,801,717,682,981,854,1073,560,601,642,810,592,696,745,604,669,587,725,784,1033,615,550,756,534,684,715,617,656,614,595,701,576,672,624,627,721,730,801,593,756,697,596,798,598,786,623,616,791,609,664,742,773,514,796,861,715,591,680,690,629,464,826,533,580,599,565,567,581,650,737,522,689,527,564,617,600,677,707,563,421,690,629,614,444,523,518,758,634,508,431,714,390,487,658,607,724,627,486,506,487,623,529,510,575,690,624,635,644,515,404,545,505,545,573,472,310,590,643,570,573,449,458,480,605,577,590,548,482,575,465,550,577,535,541,381,451,739,516,427,268,396,552,563,303,422,368,517,659,328,434,332,343,558,676,532,378,366,463,582,403,452,371,507,368,546,370,417,357,471,338,376,338,406,399,426,529,476,379,513,541,355,383,299,395,525,394,372,582,592,472,461,411,444,412,423,389,373,463,400,471,295,568,409,343,368,404,310,416,401,369,430,328,322,487,440,269,509,237,370,445,517,434,364,346,407,488,568,250,423,402,383,501,320,400,468,362,350,209,395,294,329,358,320,403,370,387,366,231,427,346,223,337,404,345,456,265,365,410,476,292,341,369,320,309,355,265,367,356,329,373,410,468,442,259,291,217,281,390,228,369,258,293,298,355,357,281,272,367,379,195,280,344,253,240,284,303,261,518,247,289,192,238,449,363,259,309,290,351,351,250,260,215,339,203,266,344,316,367,542,211,236,128,344,433,169,382,284,267,231,238,167,327,355,202,344,306,200,294,281,298,416,345,285,292,306,315,320,142,174,331,327,355,262,292,471,156,215,224,362,339,317,309,222,471,295,223,168,253,239,103,301,170,196,331,216,244,142,225,243,324,265,239,314,213,339,247,219,229,78,202,255,249,258,67,396,280,231,263,194,309,235,309,277,279,129,265,217,202,163,314,73,268,229,270,272,150,150,85,227,137,156,261,236,169,204,255,213,195,98,321,218,234,191,253,178,287,182,228,143,206,198,122,135,151,233,205,145,200,212,207,171,128,206,139,232,258,180,166,117,196,203,199,254,113,144,286,249,152,164,243,209,179,112,281,258,132,183,150,221,75,71,198,176,245,281,214,152,418,280,236,173,233,261,107,169,122,168,219,271,128,129,193,139,188,183,170,157,296,85,181,135,189,334,154,166,348,103,125,142,95,61,147,171,121,213,151,128,57,87,161,152,216,119,175,124,160,159,124,244,166,183,173,76,143,229,6426,11722,8291,6135,3795,2617,1450,1198,651,307,611]},\"selected\":{\"id\":\"3041\"},\"selection_policy\":{\"id\":\"3040\"}},\"id\":\"3026\",\"type\":\"ColumnDataSource\"},{\"attributes\":{\"label\":{\"value\":\"KBA13_ANZAHL_PKW before\"},\"renderers\":[{\"id\":\"3029\"}]},\"id\":\"3043\",\"type\":\"LegendItem\"},{\"attributes\":{},\"id\":\"3008\",\"type\":\"DataRange1d\"},{\"attributes\":{\"source\":{\"id\":\"3026\"}},\"id\":\"3030\",\"type\":\"CDSView\"},{\"attributes\":{\"active_multi\":null,\"tools\":[{\"id\":\"3022\"}]},\"id\":\"3024\",\"type\":\"Toolbar\"},{\"attributes\":{},\"id\":\"3040\",\"type\":\"UnionRenderers\"},{\"attributes\":{\"axis_label\":\"Column values\",\"formatter\":{\"id\":\"3036\"},\"major_label_policy\":{\"id\":\"3038\"},\"ticker\":{\"id\":\"3015\"}},\"id\":\"3014\",\"type\":\"LinearAxis\"},{\"attributes\":{\"line_color\":\"red\",\"x\":{\"field\":\"x\"},\"y\":{\"field\":\"y\"}},\"id\":\"3045\",\"type\":\"Line\"},{\"attributes\":{\"data_source\":{\"id\":\"3044\"},\"glyph\":{\"id\":\"3045\"},\"hover_glyph\":null,\"muted_glyph\":null,\"nonselection_glyph\":{\"id\":\"3046\"},\"view\":{\"id\":\"3048\"}},\"id\":\"3047\",\"type\":\"GlyphRenderer\"},{\"attributes\":{},\"id\":\"3061\",\"type\":\"Selection\"},{\"attributes\":{},\"id\":\"3010\",\"type\":\"LinearScale\"},{\"attributes\":{},\"id\":\"3035\",\"type\":\"AllLabels\"},{\"attributes\":{},\"id\":\"3038\",\"type\":\"AllLabels\"},{\"attributes\":{\"line_color\":\"blue\",\"x\":{\"field\":\"x\"},\"y\":{\"field\":\"y\"}},\"id\":\"3027\",\"type\":\"Line\"},{\"attributes\":{},\"id\":\"3019\",\"type\":\"BasicTicker\"},{\"attributes\":{},\"id\":\"3060\",\"type\":\"UnionRenderers\"},{\"attributes\":{\"axis\":{\"id\":\"3018\"},\"dimension\":1,\"ticker\":null},\"id\":\"3021\",\"type\":\"Grid\"},{\"attributes\":{},\"id\":\"3033\",\"type\":\"BasicTickFormatter\"}],\"root_ids\":[\"3005\"]},\"title\":\"Bokeh Application\",\"version\":\"2.3.1\"}};\n",
       "  var render_items = [{\"docid\":\"0c4d6ebf-05fb-4d29-b4b3-a2cf29a689f6\",\"root_ids\":[\"3005\"],\"roots\":{\"3005\":\"2060b417-5140-46ac-b663-595f77a6260a\"}}];\n",
       "  root.Bokeh.embed.embed_items_notebook(docs_json, render_items);\n",
       "\n",
       "  }\n",
       "  if (root.Bokeh !== undefined) {\n",
       "    embed_document(root);\n",
       "  } else {\n",
       "    var attempts = 0;\n",
       "    var timer = setInterval(function(root) {\n",
       "      if (root.Bokeh !== undefined) {\n",
       "        clearInterval(timer);\n",
       "        embed_document(root);\n",
       "      } else {\n",
       "        attempts++;\n",
       "        if (attempts > 100) {\n",
       "          clearInterval(timer);\n",
       "          console.log(\"Bokeh: ERROR: Unable to run BokehJS code because BokehJS library is missing\");\n",
       "        }\n",
       "      }\n",
       "    }, 10, root)\n",
       "  }\n",
       "})(window);"
      ],
      "application/vnd.bokehjs_exec.v0+json": ""
     },
     "metadata": {
      "application/vnd.bokehjs_exec.v0+json": {
       "id": "3005"
      }
     },
     "output_type": "display_data"
    }
   ],
   "source": [
    "plot_columns_before_after(before, azdias['KBA13_ANZAHL_PKW'].value_counts(), 'KBA13_ANZAHL_PKW')"
   ]
  },
  {
   "cell_type": "code",
   "execution_count": 53,
   "metadata": {},
   "outputs": [
    {
     "data": {
      "text/html": [
       "\n",
       "\n",
       "\n",
       "\n",
       "\n",
       "\n",
       "  <div class=\"bk-root\" id=\"05dcf218-f709-40de-9ca2-f325767dd7ab\" data-root-id=\"3275\"></div>\n"
      ]
     },
     "metadata": {},
     "output_type": "display_data"
    },
    {
     "data": {
      "application/javascript": [
       "(function(root) {\n",
       "  function embed_document(root) {\n",
       "    \n",
       "  var docs_json = {\"4f345ae0-1c02-4e3a-88a9-1b24d1d5cf87\":{\"defs\":[],\"roots\":{\"references\":[{\"attributes\":{\"below\":[{\"id\":\"3286\"}],\"center\":[{\"id\":\"3289\"},{\"id\":\"3293\"},{\"id\":\"3324\"}],\"height\":400,\"left\":[{\"id\":\"3290\"}],\"output_backend\":\"webgl\",\"renderers\":[{\"id\":\"3312\"}],\"sizing_mode\":\"fixed\",\"title\":{\"id\":\"3276\"},\"toolbar\":{\"id\":\"3301\"},\"x_range\":{\"id\":\"3278\"},\"x_scale\":{\"id\":\"3282\"},\"y_range\":{\"id\":\"3280\"},\"y_scale\":{\"id\":\"3284\"}},\"id\":\"3275\",\"subtype\":\"Figure\",\"type\":\"Plot\"},{\"attributes\":{},\"id\":\"3291\",\"type\":\"BasicTicker\"},{\"attributes\":{},\"id\":\"3282\",\"type\":\"LinearScale\"},{\"attributes\":{},\"id\":\"3280\",\"type\":\"DataRange1d\"},{\"attributes\":{},\"id\":\"3287\",\"type\":\"BasicTicker\"},{\"attributes\":{},\"id\":\"3284\",\"type\":\"LinearScale\"},{\"attributes\":{\"callback\":null,\"mode\":\"vline\",\"renderers\":[{\"id\":\"3312\"}],\"tooltips\":[[\"x\",\"@__x__values_original\"],[\"ANZ_HAUSHALTE_AKTIV\",\"@{ANZ_HAUSHALTE_AKTIV}\"]]},\"id\":\"3326\",\"type\":\"HoverTool\"},{\"attributes\":{},\"id\":\"3295\",\"type\":\"WheelZoomTool\"},{\"attributes\":{\"data_source\":{\"id\":\"3308\"},\"glyph\":{\"id\":\"3310\"},\"hover_glyph\":null,\"muted_glyph\":null,\"nonselection_glyph\":{\"id\":\"3311\"},\"view\":{\"id\":\"3313\"}},\"id\":\"3312\",\"type\":\"GlyphRenderer\"},{\"attributes\":{\"line_color\":\"#1f77b4\",\"line_width\":2,\"x\":{\"field\":\"__x__values\"},\"y\":{\"field\":\"ANZ_HAUSHALTE_AKTIV\"}},\"id\":\"3310\",\"type\":\"Line\"},{\"attributes\":{\"active_multi\":null,\"active_scroll\":{\"id\":\"3295\"},\"tools\":[{\"id\":\"3294\"},{\"id\":\"3295\"},{\"id\":\"3296\"},{\"id\":\"3297\"},{\"id\":\"3298\"},{\"id\":\"3299\"},{\"id\":\"3326\"}]},\"id\":\"3301\",\"type\":\"Toolbar\"},{\"attributes\":{},\"id\":\"3322\",\"type\":\"UnionRenderers\"},{\"attributes\":{},\"id\":\"3298\",\"type\":\"ResetTool\"},{\"attributes\":{\"click_policy\":\"hide\",\"items\":[{\"id\":\"3325\"}]},\"id\":\"3324\",\"type\":\"Legend\"},{\"attributes\":{\"bottom_units\":\"screen\",\"fill_alpha\":0.5,\"fill_color\":\"lightgrey\",\"left_units\":\"screen\",\"level\":\"overlay\",\"line_alpha\":1.0,\"line_color\":\"black\",\"line_dash\":[4,4],\"line_width\":2,\"right_units\":\"screen\",\"syncable\":false,\"top_units\":\"screen\"},\"id\":\"3300\",\"type\":\"BoxAnnotation\"},{\"attributes\":{},\"id\":\"3294\",\"type\":\"PanTool\"},{\"attributes\":{\"source\":{\"id\":\"3308\"}},\"id\":\"3313\",\"type\":\"CDSView\"},{\"attributes\":{\"axis_label\":\"ANZ_HAUSHALTE_AKTIV\",\"formatter\":{\"id\":\"3315\"},\"major_label_policy\":{\"id\":\"3317\"},\"ticker\":{\"id\":\"3291\"}},\"id\":\"3290\",\"type\":\"LinearAxis\"},{\"attributes\":{},\"id\":\"3299\",\"type\":\"HelpTool\"},{\"attributes\":{},\"id\":\"3320\",\"type\":\"AllLabels\"},{\"attributes\":{\"axis\":{\"id\":\"3286\"},\"ticker\":null},\"id\":\"3289\",\"type\":\"Grid\"},{\"attributes\":{\"axis\":{\"id\":\"3290\"},\"dimension\":1,\"ticker\":null},\"id\":\"3293\",\"type\":\"Grid\"},{\"attributes\":{\"line_alpha\":0.1,\"line_color\":\"#1f77b4\",\"line_width\":2,\"x\":{\"field\":\"__x__values\"},\"y\":{\"field\":\"ANZ_HAUSHALTE_AKTIV\"}},\"id\":\"3311\",\"type\":\"Line\"},{\"attributes\":{},\"id\":\"3323\",\"type\":\"Selection\"},{\"attributes\":{},\"id\":\"3317\",\"type\":\"AllLabels\"},{\"attributes\":{\"formatter\":{\"id\":\"3318\"},\"major_label_policy\":{\"id\":\"3320\"},\"ticker\":{\"id\":\"3287\"}},\"id\":\"3286\",\"type\":\"LinearAxis\"},{\"attributes\":{\"label\":{\"value\":\" ANZ_HAUSHALTE_AKTIV\"},\"renderers\":[{\"id\":\"3312\"}]},\"id\":\"3325\",\"type\":\"LegendItem\"},{\"attributes\":{},\"id\":\"3276\",\"type\":\"Title\"},{\"attributes\":{},\"id\":\"3297\",\"type\":\"SaveTool\"},{\"attributes\":{\"data\":{\"ANZ_HAUSHALTE_AKTIV\":[41009,6462,195957,120979,62574,43208,37813,36019,34522,32293,29000,25428,21959,18032,15280,12625,10368,8899,7291,6320,5456,4672,4135,3733,3241,2835,2631,2338,2230,2040,1958,1819,1632,1615,1546,1433,1315,1276,1314,1254,1113,1115,1029,1041,818,827,685,771,661,660,608,548,473,536,427,435,433,398,375,392,346,295,370,306,291,311,201,244,247,246,192,247,188,224,244,170,169,149,181,127,135,150,130,136,123,131,130,122,119,105,117,101,122,114,116,83,91,76,97,91,85,63,68,94,89,64,56,82,65,56,64,84,65,84,45,39,49,69,44,65,53,77,43,65,35,59,51,37,70,28,45,35,46,32,32,43,29,29,54,30,22,64,49,30,31,25,54,37,12,30,34,25,9,39,27,30,28,20,33,23,16,19,17,16,11,12,29,6,16,3,8,20,26,9,4,29,23,8,19,17,15,19,18,10,8,18,12,9,10,7,6,10,27,12,5,20,15,8,7,6,6,5,7,8,7,9,19,7,2,6,6,12,10,9,1,9,13,16,3,16,3,5,5,13,5,1,10,2,5,7,7,6,3,14,13,4,4,8,18,2,4,4,10,6,4,5,11,4,7,3,8,7,9,5,6,4,7,6,3,4,6,13,3,13,6,5,6,8,8,4,7,4,8,9,7,11,11,7,1,9,5,3,6,3,2,3,6,9,7,4,4,1,8],\"__x__values\":[-1,0,1,2,3,4,5,6,7,8,9,10,11,12,13,14,15,16,17,18,19,20,21,22,23,24,25,26,27,28,29,30,31,32,33,34,35,36,37,38,39,40,41,42,43,44,45,46,47,48,49,50,51,52,53,54,55,56,57,58,59,60,61,62,63,64,65,66,67,68,69,70,71,72,73,74,75,76,77,78,79,80,81,82,83,84,85,86,87,88,89,90,91,92,93,94,95,96,97,98,99,100,101,102,103,104,105,106,107,108,109,110,111,112,113,114,115,116,117,118,119,120,121,122,123,124,125,126,127,128,129,130,131,132,133,134,135,136,137,138,139,140,141,142,143,144,145,146,147,148,149,150,151,152,153,154,155,156,157,158,159,160,161,162,163,164,165,166,167,168,169,170,171,172,174,175,176,177,178,179,180,181,183,184,185,186,187,189,190,191,193,194,195,196,197,198,199,200,201,202,204,205,206,207,208,209,210,211,213,214,215,216,218,219,220,221,222,223,224,225,226,228,229,230,231,232,236,237,240,241,242,243,244,246,247,249,250,252,253,254,255,256,258,259,260,263,265,266,267,272,274,276,277,280,283,285,286,290,293,301,304,305,307,311,314,316,317,318,321,326,328,331,333,344,346,347,348,353,366,367,377,378,379,395,404,414,430,438,445,515,523,536,595],\"__x__values_original\":[-1,0,1,2,3,4,5,6,7,8,9,10,11,12,13,14,15,16,17,18,19,20,21,22,23,24,25,26,27,28,29,30,31,32,33,34,35,36,37,38,39,40,41,42,43,44,45,46,47,48,49,50,51,52,53,54,55,56,57,58,59,60,61,62,63,64,65,66,67,68,69,70,71,72,73,74,75,76,77,78,79,80,81,82,83,84,85,86,87,88,89,90,91,92,93,94,95,96,97,98,99,100,101,102,103,104,105,106,107,108,109,110,111,112,113,114,115,116,117,118,119,120,121,122,123,124,125,126,127,128,129,130,131,132,133,134,135,136,137,138,139,140,141,142,143,144,145,146,147,148,149,150,151,152,153,154,155,156,157,158,159,160,161,162,163,164,165,166,167,168,169,170,171,172,174,175,176,177,178,179,180,181,183,184,185,186,187,189,190,191,193,194,195,196,197,198,199,200,201,202,204,205,206,207,208,209,210,211,213,214,215,216,218,219,220,221,222,223,224,225,226,228,229,230,231,232,236,237,240,241,242,243,244,246,247,249,250,252,253,254,255,256,258,259,260,263,265,266,267,272,274,276,277,280,283,285,286,290,293,301,304,305,307,311,314,316,317,318,321,326,328,331,333,344,346,347,348,353,366,367,377,378,379,395,404,414,430,438,445,515,523,536,595]},\"selected\":{\"id\":\"3323\"},\"selection_policy\":{\"id\":\"3322\"}},\"id\":\"3308\",\"type\":\"ColumnDataSource\"},{\"attributes\":{},\"id\":\"3318\",\"type\":\"BasicTickFormatter\"},{\"attributes\":{},\"id\":\"3315\",\"type\":\"BasicTickFormatter\"},{\"attributes\":{\"overlay\":{\"id\":\"3300\"}},\"id\":\"3296\",\"type\":\"BoxZoomTool\"},{\"attributes\":{},\"id\":\"3278\",\"type\":\"DataRange1d\"}],\"root_ids\":[\"3275\"]},\"title\":\"Bokeh Application\",\"version\":\"2.3.1\"}};\n",
       "  var render_items = [{\"docid\":\"4f345ae0-1c02-4e3a-88a9-1b24d1d5cf87\",\"root_ids\":[\"3275\"],\"roots\":{\"3275\":\"05dcf218-f709-40de-9ca2-f325767dd7ab\"}}];\n",
       "  root.Bokeh.embed.embed_items_notebook(docs_json, render_items);\n",
       "\n",
       "  }\n",
       "  if (root.Bokeh !== undefined) {\n",
       "    embed_document(root);\n",
       "  } else {\n",
       "    var attempts = 0;\n",
       "    var timer = setInterval(function(root) {\n",
       "      if (root.Bokeh !== undefined) {\n",
       "        clearInterval(timer);\n",
       "        embed_document(root);\n",
       "      } else {\n",
       "        attempts++;\n",
       "        if (attempts > 100) {\n",
       "          clearInterval(timer);\n",
       "          console.log(\"Bokeh: ERROR: Unable to run BokehJS code because BokehJS library is missing\");\n",
       "        }\n",
       "      }\n",
       "    }, 10, root)\n",
       "  }\n",
       "})(window);"
      ],
      "application/vnd.bokehjs_exec.v0+json": ""
     },
     "metadata": {
      "application/vnd.bokehjs_exec.v0+json": {
       "id": "3275"
      }
     },
     "output_type": "display_data"
    },
    {
     "data": {
      "text/html": [
       "<div style=\"display: table;\"><div style=\"display: table-row;\"><div style=\"display: table-cell;\"><b title=\"bokeh.plotting.figure.Figure\">Figure</b>(</div><div style=\"display: table-cell;\">id&nbsp;=&nbsp;'3275', <span id=\"3535\" style=\"cursor: pointer;\">&hellip;)</span></div></div><div class=\"3534\" style=\"display: none;\"><div style=\"display: table-cell;\"></div><div style=\"display: table-cell;\">above&nbsp;=&nbsp;[],</div></div><div class=\"3534\" style=\"display: none;\"><div style=\"display: table-cell;\"></div><div style=\"display: table-cell;\">align&nbsp;=&nbsp;'start',</div></div><div class=\"3534\" style=\"display: none;\"><div style=\"display: table-cell;\"></div><div style=\"display: table-cell;\">aspect_ratio&nbsp;=&nbsp;None,</div></div><div class=\"3534\" style=\"display: none;\"><div style=\"display: table-cell;\"></div><div style=\"display: table-cell;\">aspect_scale&nbsp;=&nbsp;1,</div></div><div class=\"3534\" style=\"display: none;\"><div style=\"display: table-cell;\"></div><div style=\"display: table-cell;\">background&nbsp;=&nbsp;None,</div></div><div class=\"3534\" style=\"display: none;\"><div style=\"display: table-cell;\"></div><div style=\"display: table-cell;\">background_fill_alpha&nbsp;=&nbsp;1.0,</div></div><div class=\"3534\" style=\"display: none;\"><div style=\"display: table-cell;\"></div><div style=\"display: table-cell;\">background_fill_color&nbsp;=&nbsp;'#ffffff',</div></div><div class=\"3534\" style=\"display: none;\"><div style=\"display: table-cell;\"></div><div style=\"display: table-cell;\">below&nbsp;=&nbsp;[LinearAxis(id='3286', ...)],</div></div><div class=\"3534\" style=\"display: none;\"><div style=\"display: table-cell;\"></div><div style=\"display: table-cell;\">border_fill_alpha&nbsp;=&nbsp;1.0,</div></div><div class=\"3534\" style=\"display: none;\"><div style=\"display: table-cell;\"></div><div style=\"display: table-cell;\">border_fill_color&nbsp;=&nbsp;'#ffffff',</div></div><div class=\"3534\" style=\"display: none;\"><div style=\"display: table-cell;\"></div><div style=\"display: table-cell;\">center&nbsp;=&nbsp;[Grid(id='3289', ...), Grid(id='3293', ...), Legend(id='3324', ...)],</div></div><div class=\"3534\" style=\"display: none;\"><div style=\"display: table-cell;\"></div><div style=\"display: table-cell;\">css_classes&nbsp;=&nbsp;[],</div></div><div class=\"3534\" style=\"display: none;\"><div style=\"display: table-cell;\"></div><div style=\"display: table-cell;\">disabled&nbsp;=&nbsp;False,</div></div><div class=\"3534\" style=\"display: none;\"><div style=\"display: table-cell;\"></div><div style=\"display: table-cell;\">extra_x_ranges&nbsp;=&nbsp;{},</div></div><div class=\"3534\" style=\"display: none;\"><div style=\"display: table-cell;\"></div><div style=\"display: table-cell;\">extra_y_ranges&nbsp;=&nbsp;{},</div></div><div class=\"3534\" style=\"display: none;\"><div style=\"display: table-cell;\"></div><div style=\"display: table-cell;\">frame_height&nbsp;=&nbsp;None,</div></div><div class=\"3534\" style=\"display: none;\"><div style=\"display: table-cell;\"></div><div style=\"display: table-cell;\">frame_width&nbsp;=&nbsp;None,</div></div><div class=\"3534\" style=\"display: none;\"><div style=\"display: table-cell;\"></div><div style=\"display: table-cell;\">height&nbsp;=&nbsp;400,</div></div><div class=\"3534\" style=\"display: none;\"><div style=\"display: table-cell;\"></div><div style=\"display: table-cell;\">height_policy&nbsp;=&nbsp;'auto',</div></div><div class=\"3534\" style=\"display: none;\"><div style=\"display: table-cell;\"></div><div style=\"display: table-cell;\">hidpi&nbsp;=&nbsp;True,</div></div><div class=\"3534\" style=\"display: none;\"><div style=\"display: table-cell;\"></div><div style=\"display: table-cell;\">inner_height&nbsp;=&nbsp;0,</div></div><div class=\"3534\" style=\"display: none;\"><div style=\"display: table-cell;\"></div><div style=\"display: table-cell;\">inner_width&nbsp;=&nbsp;0,</div></div><div class=\"3534\" style=\"display: none;\"><div style=\"display: table-cell;\"></div><div style=\"display: table-cell;\">js_event_callbacks&nbsp;=&nbsp;{},</div></div><div class=\"3534\" style=\"display: none;\"><div style=\"display: table-cell;\"></div><div style=\"display: table-cell;\">js_property_callbacks&nbsp;=&nbsp;{},</div></div><div class=\"3534\" style=\"display: none;\"><div style=\"display: table-cell;\"></div><div style=\"display: table-cell;\">left&nbsp;=&nbsp;[LinearAxis(id='3290', ...)],</div></div><div class=\"3534\" style=\"display: none;\"><div style=\"display: table-cell;\"></div><div style=\"display: table-cell;\">lod_factor&nbsp;=&nbsp;10,</div></div><div class=\"3534\" style=\"display: none;\"><div style=\"display: table-cell;\"></div><div style=\"display: table-cell;\">lod_interval&nbsp;=&nbsp;300,</div></div><div class=\"3534\" style=\"display: none;\"><div style=\"display: table-cell;\"></div><div style=\"display: table-cell;\">lod_threshold&nbsp;=&nbsp;2000,</div></div><div class=\"3534\" style=\"display: none;\"><div style=\"display: table-cell;\"></div><div style=\"display: table-cell;\">lod_timeout&nbsp;=&nbsp;500,</div></div><div class=\"3534\" style=\"display: none;\"><div style=\"display: table-cell;\"></div><div style=\"display: table-cell;\">margin&nbsp;=&nbsp;(0, 0, 0, 0),</div></div><div class=\"3534\" style=\"display: none;\"><div style=\"display: table-cell;\"></div><div style=\"display: table-cell;\">match_aspect&nbsp;=&nbsp;False,</div></div><div class=\"3534\" style=\"display: none;\"><div style=\"display: table-cell;\"></div><div style=\"display: table-cell;\">max_height&nbsp;=&nbsp;None,</div></div><div class=\"3534\" style=\"display: none;\"><div style=\"display: table-cell;\"></div><div style=\"display: table-cell;\">max_width&nbsp;=&nbsp;None,</div></div><div class=\"3534\" style=\"display: none;\"><div style=\"display: table-cell;\"></div><div style=\"display: table-cell;\">min_border&nbsp;=&nbsp;5,</div></div><div class=\"3534\" style=\"display: none;\"><div style=\"display: table-cell;\"></div><div style=\"display: table-cell;\">min_border_bottom&nbsp;=&nbsp;None,</div></div><div class=\"3534\" style=\"display: none;\"><div style=\"display: table-cell;\"></div><div style=\"display: table-cell;\">min_border_left&nbsp;=&nbsp;None,</div></div><div class=\"3534\" style=\"display: none;\"><div style=\"display: table-cell;\"></div><div style=\"display: table-cell;\">min_border_right&nbsp;=&nbsp;None,</div></div><div class=\"3534\" style=\"display: none;\"><div style=\"display: table-cell;\"></div><div style=\"display: table-cell;\">min_border_top&nbsp;=&nbsp;None,</div></div><div class=\"3534\" style=\"display: none;\"><div style=\"display: table-cell;\"></div><div style=\"display: table-cell;\">min_height&nbsp;=&nbsp;None,</div></div><div class=\"3534\" style=\"display: none;\"><div style=\"display: table-cell;\"></div><div style=\"display: table-cell;\">min_width&nbsp;=&nbsp;None,</div></div><div class=\"3534\" style=\"display: none;\"><div style=\"display: table-cell;\"></div><div style=\"display: table-cell;\">name&nbsp;=&nbsp;None,</div></div><div class=\"3534\" style=\"display: none;\"><div style=\"display: table-cell;\"></div><div style=\"display: table-cell;\">outer_height&nbsp;=&nbsp;0,</div></div><div class=\"3534\" style=\"display: none;\"><div style=\"display: table-cell;\"></div><div style=\"display: table-cell;\">outer_width&nbsp;=&nbsp;0,</div></div><div class=\"3534\" style=\"display: none;\"><div style=\"display: table-cell;\"></div><div style=\"display: table-cell;\">outline_line_alpha&nbsp;=&nbsp;1.0,</div></div><div class=\"3534\" style=\"display: none;\"><div style=\"display: table-cell;\"></div><div style=\"display: table-cell;\">outline_line_cap&nbsp;=&nbsp;'butt',</div></div><div class=\"3534\" style=\"display: none;\"><div style=\"display: table-cell;\"></div><div style=\"display: table-cell;\">outline_line_color&nbsp;=&nbsp;'#e5e5e5',</div></div><div class=\"3534\" style=\"display: none;\"><div style=\"display: table-cell;\"></div><div style=\"display: table-cell;\">outline_line_dash&nbsp;=&nbsp;[],</div></div><div class=\"3534\" style=\"display: none;\"><div style=\"display: table-cell;\"></div><div style=\"display: table-cell;\">outline_line_dash_offset&nbsp;=&nbsp;0,</div></div><div class=\"3534\" style=\"display: none;\"><div style=\"display: table-cell;\"></div><div style=\"display: table-cell;\">outline_line_join&nbsp;=&nbsp;'bevel',</div></div><div class=\"3534\" style=\"display: none;\"><div style=\"display: table-cell;\"></div><div style=\"display: table-cell;\">outline_line_width&nbsp;=&nbsp;1,</div></div><div class=\"3534\" style=\"display: none;\"><div style=\"display: table-cell;\"></div><div style=\"display: table-cell;\">output_backend&nbsp;=&nbsp;'webgl',</div></div><div class=\"3534\" style=\"display: none;\"><div style=\"display: table-cell;\"></div><div style=\"display: table-cell;\">renderers&nbsp;=&nbsp;[GlyphRenderer(id='3312', ...)],</div></div><div class=\"3534\" style=\"display: none;\"><div style=\"display: table-cell;\"></div><div style=\"display: table-cell;\">reset_policy&nbsp;=&nbsp;'standard',</div></div><div class=\"3534\" style=\"display: none;\"><div style=\"display: table-cell;\"></div><div style=\"display: table-cell;\">right&nbsp;=&nbsp;[],</div></div><div class=\"3534\" style=\"display: none;\"><div style=\"display: table-cell;\"></div><div style=\"display: table-cell;\">sizing_mode&nbsp;=&nbsp;'fixed',</div></div><div class=\"3534\" style=\"display: none;\"><div style=\"display: table-cell;\"></div><div style=\"display: table-cell;\">subscribed_events&nbsp;=&nbsp;[],</div></div><div class=\"3534\" style=\"display: none;\"><div style=\"display: table-cell;\"></div><div style=\"display: table-cell;\">syncable&nbsp;=&nbsp;True,</div></div><div class=\"3534\" style=\"display: none;\"><div style=\"display: table-cell;\"></div><div style=\"display: table-cell;\">tags&nbsp;=&nbsp;[],</div></div><div class=\"3534\" style=\"display: none;\"><div style=\"display: table-cell;\"></div><div style=\"display: table-cell;\">title&nbsp;=&nbsp;Title(id='3276', ...),</div></div><div class=\"3534\" style=\"display: none;\"><div style=\"display: table-cell;\"></div><div style=\"display: table-cell;\">title_location&nbsp;=&nbsp;'above',</div></div><div class=\"3534\" style=\"display: none;\"><div style=\"display: table-cell;\"></div><div style=\"display: table-cell;\">toolbar&nbsp;=&nbsp;Toolbar(id='3301', ...),</div></div><div class=\"3534\" style=\"display: none;\"><div style=\"display: table-cell;\"></div><div style=\"display: table-cell;\">toolbar_location&nbsp;=&nbsp;'right',</div></div><div class=\"3534\" style=\"display: none;\"><div style=\"display: table-cell;\"></div><div style=\"display: table-cell;\">toolbar_sticky&nbsp;=&nbsp;True,</div></div><div class=\"3534\" style=\"display: none;\"><div style=\"display: table-cell;\"></div><div style=\"display: table-cell;\">visible&nbsp;=&nbsp;True,</div></div><div class=\"3534\" style=\"display: none;\"><div style=\"display: table-cell;\"></div><div style=\"display: table-cell;\">width&nbsp;=&nbsp;600,</div></div><div class=\"3534\" style=\"display: none;\"><div style=\"display: table-cell;\"></div><div style=\"display: table-cell;\">width_policy&nbsp;=&nbsp;'auto',</div></div><div class=\"3534\" style=\"display: none;\"><div style=\"display: table-cell;\"></div><div style=\"display: table-cell;\">x_range&nbsp;=&nbsp;DataRange1d(id='3278', ...),</div></div><div class=\"3534\" style=\"display: none;\"><div style=\"display: table-cell;\"></div><div style=\"display: table-cell;\">x_scale&nbsp;=&nbsp;LinearScale(id='3282', ...),</div></div><div class=\"3534\" style=\"display: none;\"><div style=\"display: table-cell;\"></div><div style=\"display: table-cell;\">y_range&nbsp;=&nbsp;DataRange1d(id='3280', ...),</div></div><div class=\"3534\" style=\"display: none;\"><div style=\"display: table-cell;\"></div><div style=\"display: table-cell;\">y_scale&nbsp;=&nbsp;LinearScale(id='3284', ...))</div></div></div>\n",
       "<script>\n",
       "(function() {\n",
       "  var expanded = false;\n",
       "  var ellipsis = document.getElementById(\"3535\");\n",
       "  ellipsis.addEventListener(\"click\", function() {\n",
       "    var rows = document.getElementsByClassName(\"3534\");\n",
       "    for (var i = 0; i < rows.length; i++) {\n",
       "      var el = rows[i];\n",
       "      el.style.display = expanded ? \"none\" : \"table-row\";\n",
       "    }\n",
       "    ellipsis.innerHTML = expanded ? \"&hellip;)\" : \"&lsaquo;&lsaquo;&lsaquo;\";\n",
       "    expanded = !expanded;\n",
       "  });\n",
       "})();\n",
       "</script>\n"
      ],
      "text/plain": [
       "Figure(id='3275', ...)"
      ]
     },
     "execution_count": 53,
     "metadata": {},
     "output_type": "execute_result"
    }
   ],
   "source": [
    "before = azdias['ANZ_HAUSHALTE_AKTIV'].value_counts()\n",
    "azdias['ANZ_HAUSHALTE_AKTIV'].value_counts().sort_index().plot()"
   ]
  },
  {
   "cell_type": "code",
   "execution_count": 54,
   "metadata": {},
   "outputs": [
    {
     "data": {
      "text/plain": [
       "0.0    -1.0\n",
       "0.1     1.0\n",
       "0.2     1.0\n",
       "0.3     2.0\n",
       "0.4     2.0\n",
       "0.5     3.0\n",
       "0.6     5.0\n",
       "0.7     8.0\n",
       "0.8    11.0\n",
       "0.9    17.0\n",
       "Name: ANZ_HAUSHALTE_AKTIV, dtype: float64"
      ]
     },
     "execution_count": 54,
     "metadata": {},
     "output_type": "execute_result"
    }
   ],
   "source": [
    "# bin data above the median as things are too extreme in the tails\n",
    "azdias['ANZ_HAUSHALTE_AKTIV'].quantile([0,0.1,0.2,0.3,0.4,0.5,0.6,0.7,0.8,0.9])"
   ]
  },
  {
   "cell_type": "code",
   "execution_count": 55,
   "metadata": {},
   "outputs": [],
   "source": [
    "ANZ_HAUSHALTE_AKTIV_quantiles = azdias['ANZ_HAUSHALTE_AKTIV'].quantile([0.5,0.6,0.7,0.8,0.9])"
   ]
  },
  {
   "cell_type": "code",
   "execution_count": 56,
   "metadata": {},
   "outputs": [
    {
     "data": {
      "text/plain": [
       "array([ 3.,  5.,  8., 11., 17.])"
      ]
     },
     "execution_count": 56,
     "metadata": {},
     "output_type": "execute_result"
    }
   ],
   "source": [
    "ANZ_HAUSHALTE_AKTIV_quantiles.values"
   ]
  },
  {
   "cell_type": "code",
   "execution_count": 57,
   "metadata": {},
   "outputs": [],
   "source": [
    "def bin_the_tails(df, column, quantiles):\n",
    "    \"\"\"\n",
    "    Takes a list of values (quantile values) bins all data in between these to the lowest of edges.\n",
    "    \"\"\"\n",
    "    prev = np.inf\n",
    "    for v in np.flip(quantiles.values):\n",
    "        df.loc[(df[column] >= v) & (df[column] < prev), column] = v\n",
    "        prev = v"
   ]
  },
  {
   "cell_type": "code",
   "execution_count": 58,
   "metadata": {},
   "outputs": [],
   "source": [
    "bin_the_tails(azdias,    'ANZ_HAUSHALTE_AKTIV', ANZ_HAUSHALTE_AKTIV_quantiles)\n",
    "bin_the_tails(customers, 'ANZ_HAUSHALTE_AKTIV', ANZ_HAUSHALTE_AKTIV_quantiles)"
   ]
  },
  {
   "cell_type": "code",
   "execution_count": 59,
   "metadata": {},
   "outputs": [
    {
     "data": {
      "text/html": [
       "\n",
       "\n",
       "\n",
       "\n",
       "\n",
       "\n",
       "  <div class=\"bk-root\" id=\"35de0ba7-88aa-4eb1-b42b-070747d0289a\" data-root-id=\"3537\"></div>\n"
      ]
     },
     "metadata": {},
     "output_type": "display_data"
    },
    {
     "data": {
      "application/javascript": [
       "(function(root) {\n",
       "  function embed_document(root) {\n",
       "    \n",
       "  var docs_json = {\"1e8706ce-1a1c-4b83-8984-08c72ba5e6c6\":{\"defs\":[],\"roots\":{\"references\":[{\"attributes\":{\"below\":[{\"id\":\"3548\"}],\"center\":[{\"id\":\"3551\"},{\"id\":\"3555\"},{\"id\":\"3586\"}],\"height\":400,\"left\":[{\"id\":\"3552\"}],\"output_backend\":\"webgl\",\"renderers\":[{\"id\":\"3574\"}],\"sizing_mode\":\"fixed\",\"title\":{\"id\":\"3538\"},\"toolbar\":{\"id\":\"3563\"},\"x_range\":{\"id\":\"3540\"},\"x_scale\":{\"id\":\"3544\"},\"y_range\":{\"id\":\"3542\"},\"y_scale\":{\"id\":\"3546\"}},\"id\":\"3537\",\"subtype\":\"Figure\",\"type\":\"Plot\"},{\"attributes\":{},\"id\":\"3540\",\"type\":\"DataRange1d\"},{\"attributes\":{},\"id\":\"3542\",\"type\":\"DataRange1d\"},{\"attributes\":{},\"id\":\"3580\",\"type\":\"BasicTickFormatter\"},{\"attributes\":{},\"id\":\"3556\",\"type\":\"PanTool\"},{\"attributes\":{\"callback\":null,\"mode\":\"vline\",\"renderers\":[{\"id\":\"3574\"}],\"tooltips\":[[\"Column values\",\"@__x__values_original\"],[\"ANZ_HAUSHALTE_AKTIV\",\"@{ANZ_HAUSHALTE_AKTIV}\"]]},\"id\":\"3588\",\"type\":\"HoverTool\"},{\"attributes\":{\"text\":\"Distribution after treatment\"},\"id\":\"3538\",\"type\":\"Title\"},{\"attributes\":{},\"id\":\"3561\",\"type\":\"HelpTool\"},{\"attributes\":{\"click_policy\":\"hide\",\"items\":[{\"id\":\"3587\"}]},\"id\":\"3586\",\"type\":\"Legend\"},{\"attributes\":{},\"id\":\"3585\",\"type\":\"Selection\"},{\"attributes\":{},\"id\":\"3560\",\"type\":\"ResetTool\"},{\"attributes\":{},\"id\":\"3549\",\"type\":\"BasicTicker\"},{\"attributes\":{\"bottom_units\":\"screen\",\"fill_alpha\":0.5,\"fill_color\":\"lightgrey\",\"left_units\":\"screen\",\"level\":\"overlay\",\"line_alpha\":1.0,\"line_color\":\"black\",\"line_dash\":[4,4],\"line_width\":2,\"right_units\":\"screen\",\"syncable\":false,\"top_units\":\"screen\"},\"id\":\"3562\",\"type\":\"BoxAnnotation\"},{\"attributes\":{\"source\":{\"id\":\"3570\"}},\"id\":\"3575\",\"type\":\"CDSView\"},{\"attributes\":{\"data\":{\"ANZ_HAUSHALTE_AKTIV\":[41009,6462,195957,120979,105782,108354,86721,87163,86491],\"__x__values\":{\"__ndarray__\":\"AAAAAAAA8L8AAAAAAAAAAAAAAAAAAPA/AAAAAAAAAEAAAAAAAAAIQAAAAAAAABRAAAAAAAAAIEAAAAAAAAAmQAAAAAAAADFA\",\"dtype\":\"float64\",\"order\":\"little\",\"shape\":[9]},\"__x__values_original\":{\"__ndarray__\":\"AAAAAAAA8L8AAAAAAAAAAAAAAAAAAPA/AAAAAAAAAEAAAAAAAAAIQAAAAAAAABRAAAAAAAAAIEAAAAAAAAAmQAAAAAAAADFA\",\"dtype\":\"float64\",\"order\":\"little\",\"shape\":[9]}},\"selected\":{\"id\":\"3585\"},\"selection_policy\":{\"id\":\"3584\"}},\"id\":\"3570\",\"type\":\"ColumnDataSource\"},{\"attributes\":{},\"id\":\"3579\",\"type\":\"AllLabels\"},{\"attributes\":{\"axis_label\":\"Numer of occurences\",\"formatter\":{\"id\":\"3577\"},\"major_label_policy\":{\"id\":\"3579\"},\"ticker\":{\"id\":\"3553\"}},\"id\":\"3552\",\"type\":\"LinearAxis\"},{\"attributes\":{},\"id\":\"3557\",\"type\":\"WheelZoomTool\"},{\"attributes\":{\"line_alpha\":0.1,\"line_color\":\"#1f77b4\",\"line_width\":2,\"x\":{\"field\":\"__x__values\"},\"y\":{\"field\":\"ANZ_HAUSHALTE_AKTIV\"}},\"id\":\"3573\",\"type\":\"Line\"},{\"attributes\":{},\"id\":\"3582\",\"type\":\"AllLabels\"},{\"attributes\":{\"active_multi\":null,\"active_scroll\":{\"id\":\"3557\"},\"tools\":[{\"id\":\"3556\"},{\"id\":\"3557\"},{\"id\":\"3558\"},{\"id\":\"3559\"},{\"id\":\"3560\"},{\"id\":\"3561\"},{\"id\":\"3588\"}]},\"id\":\"3563\",\"type\":\"Toolbar\"},{\"attributes\":{},\"id\":\"3544\",\"type\":\"LinearScale\"},{\"attributes\":{},\"id\":\"3584\",\"type\":\"UnionRenderers\"},{\"attributes\":{\"axis_label\":\"Column values\",\"formatter\":{\"id\":\"3580\"},\"major_label_policy\":{\"id\":\"3582\"},\"ticker\":{\"id\":\"3549\"}},\"id\":\"3548\",\"type\":\"LinearAxis\"},{\"attributes\":{\"overlay\":{\"id\":\"3562\"}},\"id\":\"3558\",\"type\":\"BoxZoomTool\"},{\"attributes\":{\"line_color\":\"#1f77b4\",\"line_width\":2,\"x\":{\"field\":\"__x__values\"},\"y\":{\"field\":\"ANZ_HAUSHALTE_AKTIV\"}},\"id\":\"3572\",\"type\":\"Line\"},{\"attributes\":{},\"id\":\"3577\",\"type\":\"BasicTickFormatter\"},{\"attributes\":{\"axis\":{\"id\":\"3548\"},\"ticker\":null},\"id\":\"3551\",\"type\":\"Grid\"},{\"attributes\":{\"axis\":{\"id\":\"3552\"},\"dimension\":1,\"ticker\":null},\"id\":\"3555\",\"type\":\"Grid\"},{\"attributes\":{},\"id\":\"3546\",\"type\":\"LinearScale\"},{\"attributes\":{\"data_source\":{\"id\":\"3570\"},\"glyph\":{\"id\":\"3572\"},\"hover_glyph\":null,\"muted_glyph\":null,\"nonselection_glyph\":{\"id\":\"3573\"},\"view\":{\"id\":\"3575\"}},\"id\":\"3574\",\"type\":\"GlyphRenderer\"},{\"attributes\":{},\"id\":\"3553\",\"type\":\"BasicTicker\"},{\"attributes\":{\"label\":{\"value\":\" ANZ_HAUSHALTE_AKTIV\"},\"renderers\":[{\"id\":\"3574\"}]},\"id\":\"3587\",\"type\":\"LegendItem\"},{\"attributes\":{},\"id\":\"3559\",\"type\":\"SaveTool\"}],\"root_ids\":[\"3537\"]},\"title\":\"Bokeh Application\",\"version\":\"2.3.1\"}};\n",
       "  var render_items = [{\"docid\":\"1e8706ce-1a1c-4b83-8984-08c72ba5e6c6\",\"root_ids\":[\"3537\"],\"roots\":{\"3537\":\"35de0ba7-88aa-4eb1-b42b-070747d0289a\"}}];\n",
       "  root.Bokeh.embed.embed_items_notebook(docs_json, render_items);\n",
       "\n",
       "  }\n",
       "  if (root.Bokeh !== undefined) {\n",
       "    embed_document(root);\n",
       "  } else {\n",
       "    var attempts = 0;\n",
       "    var timer = setInterval(function(root) {\n",
       "      if (root.Bokeh !== undefined) {\n",
       "        clearInterval(timer);\n",
       "        embed_document(root);\n",
       "      } else {\n",
       "        attempts++;\n",
       "        if (attempts > 100) {\n",
       "          clearInterval(timer);\n",
       "          console.log(\"Bokeh: ERROR: Unable to run BokehJS code because BokehJS library is missing\");\n",
       "        }\n",
       "      }\n",
       "    }, 10, root)\n",
       "  }\n",
       "})(window);"
      ],
      "application/vnd.bokehjs_exec.v0+json": ""
     },
     "metadata": {
      "application/vnd.bokehjs_exec.v0+json": {
       "id": "3537"
      }
     },
     "output_type": "display_data"
    },
    {
     "data": {
      "text/html": [
       "<div style=\"display: table;\"><div style=\"display: table-row;\"><div style=\"display: table-cell;\"><b title=\"bokeh.plotting.figure.Figure\">Figure</b>(</div><div style=\"display: table-cell;\">id&nbsp;=&nbsp;'3537', <span id=\"3807\" style=\"cursor: pointer;\">&hellip;)</span></div></div><div class=\"3806\" style=\"display: none;\"><div style=\"display: table-cell;\"></div><div style=\"display: table-cell;\">above&nbsp;=&nbsp;[],</div></div><div class=\"3806\" style=\"display: none;\"><div style=\"display: table-cell;\"></div><div style=\"display: table-cell;\">align&nbsp;=&nbsp;'start',</div></div><div class=\"3806\" style=\"display: none;\"><div style=\"display: table-cell;\"></div><div style=\"display: table-cell;\">aspect_ratio&nbsp;=&nbsp;None,</div></div><div class=\"3806\" style=\"display: none;\"><div style=\"display: table-cell;\"></div><div style=\"display: table-cell;\">aspect_scale&nbsp;=&nbsp;1,</div></div><div class=\"3806\" style=\"display: none;\"><div style=\"display: table-cell;\"></div><div style=\"display: table-cell;\">background&nbsp;=&nbsp;None,</div></div><div class=\"3806\" style=\"display: none;\"><div style=\"display: table-cell;\"></div><div style=\"display: table-cell;\">background_fill_alpha&nbsp;=&nbsp;1.0,</div></div><div class=\"3806\" style=\"display: none;\"><div style=\"display: table-cell;\"></div><div style=\"display: table-cell;\">background_fill_color&nbsp;=&nbsp;'#ffffff',</div></div><div class=\"3806\" style=\"display: none;\"><div style=\"display: table-cell;\"></div><div style=\"display: table-cell;\">below&nbsp;=&nbsp;[LinearAxis(id='3548', ...)],</div></div><div class=\"3806\" style=\"display: none;\"><div style=\"display: table-cell;\"></div><div style=\"display: table-cell;\">border_fill_alpha&nbsp;=&nbsp;1.0,</div></div><div class=\"3806\" style=\"display: none;\"><div style=\"display: table-cell;\"></div><div style=\"display: table-cell;\">border_fill_color&nbsp;=&nbsp;'#ffffff',</div></div><div class=\"3806\" style=\"display: none;\"><div style=\"display: table-cell;\"></div><div style=\"display: table-cell;\">center&nbsp;=&nbsp;[Grid(id='3551', ...), Grid(id='3555', ...), Legend(id='3586', ...)],</div></div><div class=\"3806\" style=\"display: none;\"><div style=\"display: table-cell;\"></div><div style=\"display: table-cell;\">css_classes&nbsp;=&nbsp;[],</div></div><div class=\"3806\" style=\"display: none;\"><div style=\"display: table-cell;\"></div><div style=\"display: table-cell;\">disabled&nbsp;=&nbsp;False,</div></div><div class=\"3806\" style=\"display: none;\"><div style=\"display: table-cell;\"></div><div style=\"display: table-cell;\">extra_x_ranges&nbsp;=&nbsp;{},</div></div><div class=\"3806\" style=\"display: none;\"><div style=\"display: table-cell;\"></div><div style=\"display: table-cell;\">extra_y_ranges&nbsp;=&nbsp;{},</div></div><div class=\"3806\" style=\"display: none;\"><div style=\"display: table-cell;\"></div><div style=\"display: table-cell;\">frame_height&nbsp;=&nbsp;None,</div></div><div class=\"3806\" style=\"display: none;\"><div style=\"display: table-cell;\"></div><div style=\"display: table-cell;\">frame_width&nbsp;=&nbsp;None,</div></div><div class=\"3806\" style=\"display: none;\"><div style=\"display: table-cell;\"></div><div style=\"display: table-cell;\">height&nbsp;=&nbsp;400,</div></div><div class=\"3806\" style=\"display: none;\"><div style=\"display: table-cell;\"></div><div style=\"display: table-cell;\">height_policy&nbsp;=&nbsp;'auto',</div></div><div class=\"3806\" style=\"display: none;\"><div style=\"display: table-cell;\"></div><div style=\"display: table-cell;\">hidpi&nbsp;=&nbsp;True,</div></div><div class=\"3806\" style=\"display: none;\"><div style=\"display: table-cell;\"></div><div style=\"display: table-cell;\">inner_height&nbsp;=&nbsp;0,</div></div><div class=\"3806\" style=\"display: none;\"><div style=\"display: table-cell;\"></div><div style=\"display: table-cell;\">inner_width&nbsp;=&nbsp;0,</div></div><div class=\"3806\" style=\"display: none;\"><div style=\"display: table-cell;\"></div><div style=\"display: table-cell;\">js_event_callbacks&nbsp;=&nbsp;{},</div></div><div class=\"3806\" style=\"display: none;\"><div style=\"display: table-cell;\"></div><div style=\"display: table-cell;\">js_property_callbacks&nbsp;=&nbsp;{},</div></div><div class=\"3806\" style=\"display: none;\"><div style=\"display: table-cell;\"></div><div style=\"display: table-cell;\">left&nbsp;=&nbsp;[LinearAxis(id='3552', ...)],</div></div><div class=\"3806\" style=\"display: none;\"><div style=\"display: table-cell;\"></div><div style=\"display: table-cell;\">lod_factor&nbsp;=&nbsp;10,</div></div><div class=\"3806\" style=\"display: none;\"><div style=\"display: table-cell;\"></div><div style=\"display: table-cell;\">lod_interval&nbsp;=&nbsp;300,</div></div><div class=\"3806\" style=\"display: none;\"><div style=\"display: table-cell;\"></div><div style=\"display: table-cell;\">lod_threshold&nbsp;=&nbsp;2000,</div></div><div class=\"3806\" style=\"display: none;\"><div style=\"display: table-cell;\"></div><div style=\"display: table-cell;\">lod_timeout&nbsp;=&nbsp;500,</div></div><div class=\"3806\" style=\"display: none;\"><div style=\"display: table-cell;\"></div><div style=\"display: table-cell;\">margin&nbsp;=&nbsp;(0, 0, 0, 0),</div></div><div class=\"3806\" style=\"display: none;\"><div style=\"display: table-cell;\"></div><div style=\"display: table-cell;\">match_aspect&nbsp;=&nbsp;False,</div></div><div class=\"3806\" style=\"display: none;\"><div style=\"display: table-cell;\"></div><div style=\"display: table-cell;\">max_height&nbsp;=&nbsp;None,</div></div><div class=\"3806\" style=\"display: none;\"><div style=\"display: table-cell;\"></div><div style=\"display: table-cell;\">max_width&nbsp;=&nbsp;None,</div></div><div class=\"3806\" style=\"display: none;\"><div style=\"display: table-cell;\"></div><div style=\"display: table-cell;\">min_border&nbsp;=&nbsp;5,</div></div><div class=\"3806\" style=\"display: none;\"><div style=\"display: table-cell;\"></div><div style=\"display: table-cell;\">min_border_bottom&nbsp;=&nbsp;None,</div></div><div class=\"3806\" style=\"display: none;\"><div style=\"display: table-cell;\"></div><div style=\"display: table-cell;\">min_border_left&nbsp;=&nbsp;None,</div></div><div class=\"3806\" style=\"display: none;\"><div style=\"display: table-cell;\"></div><div style=\"display: table-cell;\">min_border_right&nbsp;=&nbsp;None,</div></div><div class=\"3806\" style=\"display: none;\"><div style=\"display: table-cell;\"></div><div style=\"display: table-cell;\">min_border_top&nbsp;=&nbsp;None,</div></div><div class=\"3806\" style=\"display: none;\"><div style=\"display: table-cell;\"></div><div style=\"display: table-cell;\">min_height&nbsp;=&nbsp;None,</div></div><div class=\"3806\" style=\"display: none;\"><div style=\"display: table-cell;\"></div><div style=\"display: table-cell;\">min_width&nbsp;=&nbsp;None,</div></div><div class=\"3806\" style=\"display: none;\"><div style=\"display: table-cell;\"></div><div style=\"display: table-cell;\">name&nbsp;=&nbsp;None,</div></div><div class=\"3806\" style=\"display: none;\"><div style=\"display: table-cell;\"></div><div style=\"display: table-cell;\">outer_height&nbsp;=&nbsp;0,</div></div><div class=\"3806\" style=\"display: none;\"><div style=\"display: table-cell;\"></div><div style=\"display: table-cell;\">outer_width&nbsp;=&nbsp;0,</div></div><div class=\"3806\" style=\"display: none;\"><div style=\"display: table-cell;\"></div><div style=\"display: table-cell;\">outline_line_alpha&nbsp;=&nbsp;1.0,</div></div><div class=\"3806\" style=\"display: none;\"><div style=\"display: table-cell;\"></div><div style=\"display: table-cell;\">outline_line_cap&nbsp;=&nbsp;'butt',</div></div><div class=\"3806\" style=\"display: none;\"><div style=\"display: table-cell;\"></div><div style=\"display: table-cell;\">outline_line_color&nbsp;=&nbsp;'#e5e5e5',</div></div><div class=\"3806\" style=\"display: none;\"><div style=\"display: table-cell;\"></div><div style=\"display: table-cell;\">outline_line_dash&nbsp;=&nbsp;[],</div></div><div class=\"3806\" style=\"display: none;\"><div style=\"display: table-cell;\"></div><div style=\"display: table-cell;\">outline_line_dash_offset&nbsp;=&nbsp;0,</div></div><div class=\"3806\" style=\"display: none;\"><div style=\"display: table-cell;\"></div><div style=\"display: table-cell;\">outline_line_join&nbsp;=&nbsp;'bevel',</div></div><div class=\"3806\" style=\"display: none;\"><div style=\"display: table-cell;\"></div><div style=\"display: table-cell;\">outline_line_width&nbsp;=&nbsp;1,</div></div><div class=\"3806\" style=\"display: none;\"><div style=\"display: table-cell;\"></div><div style=\"display: table-cell;\">output_backend&nbsp;=&nbsp;'webgl',</div></div><div class=\"3806\" style=\"display: none;\"><div style=\"display: table-cell;\"></div><div style=\"display: table-cell;\">renderers&nbsp;=&nbsp;[GlyphRenderer(id='3574', ...)],</div></div><div class=\"3806\" style=\"display: none;\"><div style=\"display: table-cell;\"></div><div style=\"display: table-cell;\">reset_policy&nbsp;=&nbsp;'standard',</div></div><div class=\"3806\" style=\"display: none;\"><div style=\"display: table-cell;\"></div><div style=\"display: table-cell;\">right&nbsp;=&nbsp;[],</div></div><div class=\"3806\" style=\"display: none;\"><div style=\"display: table-cell;\"></div><div style=\"display: table-cell;\">sizing_mode&nbsp;=&nbsp;'fixed',</div></div><div class=\"3806\" style=\"display: none;\"><div style=\"display: table-cell;\"></div><div style=\"display: table-cell;\">subscribed_events&nbsp;=&nbsp;[],</div></div><div class=\"3806\" style=\"display: none;\"><div style=\"display: table-cell;\"></div><div style=\"display: table-cell;\">syncable&nbsp;=&nbsp;True,</div></div><div class=\"3806\" style=\"display: none;\"><div style=\"display: table-cell;\"></div><div style=\"display: table-cell;\">tags&nbsp;=&nbsp;[],</div></div><div class=\"3806\" style=\"display: none;\"><div style=\"display: table-cell;\"></div><div style=\"display: table-cell;\">title&nbsp;=&nbsp;Title(id='3538', ...),</div></div><div class=\"3806\" style=\"display: none;\"><div style=\"display: table-cell;\"></div><div style=\"display: table-cell;\">title_location&nbsp;=&nbsp;'above',</div></div><div class=\"3806\" style=\"display: none;\"><div style=\"display: table-cell;\"></div><div style=\"display: table-cell;\">toolbar&nbsp;=&nbsp;Toolbar(id='3563', ...),</div></div><div class=\"3806\" style=\"display: none;\"><div style=\"display: table-cell;\"></div><div style=\"display: table-cell;\">toolbar_location&nbsp;=&nbsp;'right',</div></div><div class=\"3806\" style=\"display: none;\"><div style=\"display: table-cell;\"></div><div style=\"display: table-cell;\">toolbar_sticky&nbsp;=&nbsp;True,</div></div><div class=\"3806\" style=\"display: none;\"><div style=\"display: table-cell;\"></div><div style=\"display: table-cell;\">visible&nbsp;=&nbsp;True,</div></div><div class=\"3806\" style=\"display: none;\"><div style=\"display: table-cell;\"></div><div style=\"display: table-cell;\">width&nbsp;=&nbsp;600,</div></div><div class=\"3806\" style=\"display: none;\"><div style=\"display: table-cell;\"></div><div style=\"display: table-cell;\">width_policy&nbsp;=&nbsp;'auto',</div></div><div class=\"3806\" style=\"display: none;\"><div style=\"display: table-cell;\"></div><div style=\"display: table-cell;\">x_range&nbsp;=&nbsp;DataRange1d(id='3540', ...),</div></div><div class=\"3806\" style=\"display: none;\"><div style=\"display: table-cell;\"></div><div style=\"display: table-cell;\">x_scale&nbsp;=&nbsp;LinearScale(id='3544', ...),</div></div><div class=\"3806\" style=\"display: none;\"><div style=\"display: table-cell;\"></div><div style=\"display: table-cell;\">y_range&nbsp;=&nbsp;DataRange1d(id='3542', ...),</div></div><div class=\"3806\" style=\"display: none;\"><div style=\"display: table-cell;\"></div><div style=\"display: table-cell;\">y_scale&nbsp;=&nbsp;LinearScale(id='3546', ...))</div></div></div>\n",
       "<script>\n",
       "(function() {\n",
       "  var expanded = false;\n",
       "  var ellipsis = document.getElementById(\"3807\");\n",
       "  ellipsis.addEventListener(\"click\", function() {\n",
       "    var rows = document.getElementsByClassName(\"3806\");\n",
       "    for (var i = 0; i < rows.length; i++) {\n",
       "      var el = rows[i];\n",
       "      el.style.display = expanded ? \"none\" : \"table-row\";\n",
       "    }\n",
       "    ellipsis.innerHTML = expanded ? \"&hellip;)\" : \"&lsaquo;&lsaquo;&lsaquo;\";\n",
       "    expanded = !expanded;\n",
       "  });\n",
       "})();\n",
       "</script>\n"
      ],
      "text/plain": [
       "Figure(id='3537', ...)"
      ]
     },
     "execution_count": 59,
     "metadata": {},
     "output_type": "execute_result"
    }
   ],
   "source": [
    "azdias['ANZ_HAUSHALTE_AKTIV'].value_counts().sort_index().plot(title='Distribution after treatment', xlabel='Column values', ylabel='Numer of occurences')"
   ]
  },
  {
   "cell_type": "code",
   "execution_count": 60,
   "metadata": {},
   "outputs": [
    {
     "data": {
      "text/html": [
       "\n",
       "\n",
       "\n",
       "\n",
       "\n",
       "\n",
       "  <div class=\"bk-root\" id=\"b985b6fc-777e-4546-a0a2-93ce8d3b9b51\" data-root-id=\"3809\"></div>\n"
      ]
     },
     "metadata": {},
     "output_type": "display_data"
    },
    {
     "data": {
      "application/javascript": [
       "(function(root) {\n",
       "  function embed_document(root) {\n",
       "    \n",
       "  var docs_json = {\"8f6a4bc8-1821-4e7f-8870-be144652296c\":{\"defs\":[],\"roots\":{\"references\":[{\"attributes\":{\"below\":[{\"id\":\"3818\"}],\"center\":[{\"id\":\"3821\"},{\"id\":\"3825\"},{\"id\":\"3846\"}],\"height\":400,\"left\":[{\"id\":\"3822\"}],\"renderers\":[{\"id\":\"3833\"},{\"id\":\"3851\"}],\"title\":{\"id\":\"3836\"},\"toolbar\":{\"id\":\"3828\"},\"width\":500,\"x_range\":{\"id\":\"3810\"},\"x_scale\":{\"id\":\"3814\"},\"y_range\":{\"id\":\"3812\"},\"y_scale\":{\"id\":\"3816\"}},\"id\":\"3809\",\"subtype\":\"Figure\",\"type\":\"Plot\"},{\"attributes\":{},\"id\":\"3819\",\"type\":\"BasicTicker\"},{\"attributes\":{},\"id\":\"3837\",\"type\":\"BasicTickFormatter\"},{\"attributes\":{},\"id\":\"3840\",\"type\":\"BasicTickFormatter\"},{\"attributes\":{\"axis_label\":\"Numer of occurences\",\"formatter\":{\"id\":\"3837\"},\"major_label_policy\":{\"id\":\"3839\"},\"ticker\":{\"id\":\"3823\"}},\"id\":\"3822\",\"type\":\"LinearAxis\"},{\"attributes\":{\"axis\":{\"id\":\"3822\"},\"dimension\":1,\"ticker\":null},\"id\":\"3825\",\"type\":\"Grid\"},{\"attributes\":{\"label\":{\"value\":\"ANZ_HAUSHALTE_AKTIV after\"},\"renderers\":[{\"id\":\"3851\"}]},\"id\":\"3866\",\"type\":\"LegendItem\"},{\"attributes\":{\"source\":{\"id\":\"3830\"}},\"id\":\"3834\",\"type\":\"CDSView\"},{\"attributes\":{\"data_source\":{\"id\":\"3830\"},\"glyph\":{\"id\":\"3831\"},\"hover_glyph\":null,\"muted_glyph\":null,\"nonselection_glyph\":{\"id\":\"3832\"},\"view\":{\"id\":\"3834\"}},\"id\":\"3833\",\"type\":\"GlyphRenderer\"},{\"attributes\":{\"data\":{\"x\":[-1,0,1,2,3,4,5,6,7,8,9,10,11,12,13,14,15,16,17,18,19,20,21,22,23,24,25,26,27,28,29,30,31,32,33,34,35,36,37,38,39,40,41,42,43,44,45,46,47,48,49,50,51,52,53,54,55,56,57,58,59,60,61,62,63,64,65,66,67,68,69,70,71,72,73,74,75,76,77,78,79,80,81,82,83,84,85,86,87,88,89,90,91,92,93,94,95,96,97,98,99,100,101,102,103,104,105,106,107,108,109,110,111,112,113,114,115,116,117,118,119,120,121,122,123,124,125,126,127,128,129,130,131,132,133,134,135,136,137,138,139,140,141,142,143,144,145,146,147,148,149,150,151,152,153,154,155,156,157,158,159,160,161,162,163,164,165,166,167,168,169,170,171,172,174,175,176,177,178,179,180,181,183,184,185,186,187,189,190,191,193,194,195,196,197,198,199,200,201,202,204,205,206,207,208,209,210,211,213,214,215,216,218,219,220,221,222,223,224,225,226,228,229,230,231,232,236,237,240,241,242,243,244,246,247,249,250,252,253,254,255,256,258,259,260,263,265,266,267,272,274,276,277,280,283,285,286,290,293,301,304,305,307,311,314,316,317,318,321,326,328,331,333,344,346,347,348,353,366,367,377,378,379,395,404,414,430,438,445,515,523,536,595],\"y\":[41009,6462,195957,120979,62574,43208,37813,36019,34522,32293,29000,25428,21959,18032,15280,12625,10368,8899,7291,6320,5456,4672,4135,3733,3241,2835,2631,2338,2230,2040,1958,1819,1632,1615,1546,1433,1315,1276,1314,1254,1113,1115,1029,1041,818,827,685,771,661,660,608,548,473,536,427,435,433,398,375,392,346,295,370,306,291,311,201,244,247,246,192,247,188,224,244,170,169,149,181,127,135,150,130,136,123,131,130,122,119,105,117,101,122,114,116,83,91,76,97,91,85,63,68,94,89,64,56,82,65,56,64,84,65,84,45,39,49,69,44,65,53,77,43,65,35,59,51,37,70,28,45,35,46,32,32,43,29,29,54,30,22,64,49,30,31,25,54,37,12,30,34,25,9,39,27,30,28,20,33,23,16,19,17,16,11,12,29,6,16,3,8,20,26,9,4,29,23,8,19,17,15,19,18,10,8,18,12,9,10,7,6,10,27,12,5,20,15,8,7,6,6,5,7,8,7,9,19,7,2,6,6,12,10,9,1,9,13,16,3,16,3,5,5,13,5,1,10,2,5,7,7,6,3,14,13,4,4,8,18,2,4,4,10,6,4,5,11,4,7,3,8,7,9,5,6,4,7,6,3,4,6,13,3,13,6,5,6,8,8,4,7,4,8,9,7,11,11,7,1,9,5,3,6,3,2,3,6,9,7,4,4,1,8]},\"selected\":{\"id\":\"3845\"},\"selection_policy\":{\"id\":\"3844\"}},\"id\":\"3830\",\"type\":\"ColumnDataSource\"},{\"attributes\":{\"line_color\":\"blue\",\"x\":{\"field\":\"x\"},\"y\":{\"field\":\"y\"}},\"id\":\"3831\",\"type\":\"Line\"},{\"attributes\":{\"line_color\":\"red\",\"x\":{\"field\":\"x\"},\"y\":{\"field\":\"y\"}},\"id\":\"3849\",\"type\":\"Line\"},{\"attributes\":{\"line_alpha\":0.1,\"line_color\":\"blue\",\"x\":{\"field\":\"x\"},\"y\":{\"field\":\"y\"}},\"id\":\"3832\",\"type\":\"Line\"},{\"attributes\":{\"source\":{\"id\":\"3848\"}},\"id\":\"3852\",\"type\":\"CDSView\"},{\"attributes\":{},\"id\":\"3812\",\"type\":\"DataRange1d\"},{\"attributes\":{},\"id\":\"3823\",\"type\":\"BasicTicker\"},{\"attributes\":{\"label\":{\"value\":\"ANZ_HAUSHALTE_AKTIV before\"},\"renderers\":[{\"id\":\"3833\"}]},\"id\":\"3847\",\"type\":\"LegendItem\"},{\"attributes\":{\"data_source\":{\"id\":\"3848\"},\"glyph\":{\"id\":\"3849\"},\"hover_glyph\":null,\"muted_glyph\":null,\"nonselection_glyph\":{\"id\":\"3850\"},\"view\":{\"id\":\"3852\"}},\"id\":\"3851\",\"type\":\"GlyphRenderer\"},{\"attributes\":{},\"id\":\"3814\",\"type\":\"LinearScale\"},{\"attributes\":{\"axis_label\":\"Column values\",\"formatter\":{\"id\":\"3840\"},\"major_label_policy\":{\"id\":\"3842\"},\"ticker\":{\"id\":\"3819\"}},\"id\":\"3818\",\"type\":\"LinearAxis\"},{\"attributes\":{\"line_alpha\":0.1,\"line_color\":\"red\",\"x\":{\"field\":\"x\"},\"y\":{\"field\":\"y\"}},\"id\":\"3850\",\"type\":\"Line\"},{\"attributes\":{},\"id\":\"3845\",\"type\":\"Selection\"},{\"attributes\":{},\"id\":\"3810\",\"type\":\"DataRange1d\"},{\"attributes\":{},\"id\":\"3842\",\"type\":\"AllLabels\"},{\"attributes\":{\"data\":{\"x\":{\"__ndarray__\":\"AAAAAAAA8L8AAAAAAAAAAAAAAAAAAPA/AAAAAAAAAEAAAAAAAAAIQAAAAAAAABRAAAAAAAAAIEAAAAAAAAAmQAAAAAAAADFA\",\"dtype\":\"float64\",\"order\":\"little\",\"shape\":[9]},\"y\":[41009,6462,195957,120979,105782,108354,86721,87163,86491]},\"selected\":{\"id\":\"3865\"},\"selection_policy\":{\"id\":\"3864\"}},\"id\":\"3848\",\"type\":\"ColumnDataSource\"},{\"attributes\":{\"text\":\"ANZ_HAUSHALTE_AKTIV transformation\"},\"id\":\"3836\",\"type\":\"Title\"},{\"attributes\":{\"axis\":{\"id\":\"3818\"},\"grid_line_color\":null,\"ticker\":null},\"id\":\"3821\",\"type\":\"Grid\"},{\"attributes\":{},\"id\":\"3864\",\"type\":\"UnionRenderers\"},{\"attributes\":{},\"id\":\"3839\",\"type\":\"AllLabels\"},{\"attributes\":{\"bottom_units\":\"screen\",\"fill_alpha\":0.5,\"fill_color\":\"lightgrey\",\"left_units\":\"screen\",\"level\":\"overlay\",\"line_alpha\":1.0,\"line_color\":\"black\",\"line_dash\":[4,4],\"line_width\":2,\"right_units\":\"screen\",\"syncable\":false,\"top_units\":\"screen\"},\"id\":\"3827\",\"type\":\"BoxAnnotation\"},{\"attributes\":{\"items\":[{\"id\":\"3847\"},{\"id\":\"3866\"}]},\"id\":\"3846\",\"type\":\"Legend\"},{\"attributes\":{},\"id\":\"3816\",\"type\":\"LinearScale\"},{\"attributes\":{\"overlay\":{\"id\":\"3827\"}},\"id\":\"3826\",\"type\":\"BoxZoomTool\"},{\"attributes\":{\"active_multi\":null,\"tools\":[{\"id\":\"3826\"}]},\"id\":\"3828\",\"type\":\"Toolbar\"},{\"attributes\":{},\"id\":\"3865\",\"type\":\"Selection\"},{\"attributes\":{},\"id\":\"3844\",\"type\":\"UnionRenderers\"}],\"root_ids\":[\"3809\"]},\"title\":\"Bokeh Application\",\"version\":\"2.3.1\"}};\n",
       "  var render_items = [{\"docid\":\"8f6a4bc8-1821-4e7f-8870-be144652296c\",\"root_ids\":[\"3809\"],\"roots\":{\"3809\":\"b985b6fc-777e-4546-a0a2-93ce8d3b9b51\"}}];\n",
       "  root.Bokeh.embed.embed_items_notebook(docs_json, render_items);\n",
       "\n",
       "  }\n",
       "  if (root.Bokeh !== undefined) {\n",
       "    embed_document(root);\n",
       "  } else {\n",
       "    var attempts = 0;\n",
       "    var timer = setInterval(function(root) {\n",
       "      if (root.Bokeh !== undefined) {\n",
       "        clearInterval(timer);\n",
       "        embed_document(root);\n",
       "      } else {\n",
       "        attempts++;\n",
       "        if (attempts > 100) {\n",
       "          clearInterval(timer);\n",
       "          console.log(\"Bokeh: ERROR: Unable to run BokehJS code because BokehJS library is missing\");\n",
       "        }\n",
       "      }\n",
       "    }, 10, root)\n",
       "  }\n",
       "})(window);"
      ],
      "application/vnd.bokehjs_exec.v0+json": ""
     },
     "metadata": {
      "application/vnd.bokehjs_exec.v0+json": {
       "id": "3809"
      }
     },
     "output_type": "display_data"
    }
   ],
   "source": [
    "plot_columns_before_after(before, azdias['ANZ_HAUSHALTE_AKTIV'].value_counts(), 'ANZ_HAUSHALTE_AKTIV')"
   ]
  },
  {
   "cell_type": "markdown",
   "metadata": {},
   "source": [
    "# Find highly correlated features"
   ]
  },
  {
   "cell_type": "code",
   "execution_count": 61,
   "metadata": {},
   "outputs": [],
   "source": [
    "# %%time\n",
    "# a_corr = azdias.corr()"
   ]
  },
  {
   "cell_type": "code",
   "execution_count": 62,
   "metadata": {},
   "outputs": [],
   "source": [
    "# np.fill_diagonal(a_corr.values, 0)"
   ]
  },
  {
   "cell_type": "code",
   "execution_count": 63,
   "metadata": {},
   "outputs": [],
   "source": [
    "# pd.DataFrame([a_corr.abs().idxmax(axis=1),a_corr.abs().max(axis=1)], index=['max_corr_col', 'value']).T.sort_values(by='value', ascending=False).head(20)"
   ]
  },
  {
   "cell_type": "code",
   "execution_count": 64,
   "metadata": {},
   "outputs": [],
   "source": [
    "# a_corr['KBA13_HERST_SONST'].abs().sort_values(ascending=False)"
   ]
  },
  {
   "cell_type": "code",
   "execution_count": 65,
   "metadata": {},
   "outputs": [],
   "source": [
    "# a_corr['CAMEO_DEU_2015'].abs().sort_values(ascending=False)"
   ]
  },
  {
   "cell_type": "code",
   "execution_count": 66,
   "metadata": {},
   "outputs": [],
   "source": [
    "correlated_cols_to_drop = [\n",
    "    'KBA13_FAB_SONSTIGE',   # exact copy of KBA13_HERST_SONST\n",
    "    'CAMEO_DEUG_2015',      # just a less detailed version of CAMEO_DEU_2015\n",
    "    'LP_LEBENSPHASE_GROB',  # a GROB suffix is a less detailed version of a FEIN suffix\n",
    "    'LP_STATUS_GROB',\n",
    "    'LP_FAMILIE_GROB', \n",
    "]"
   ]
  },
  {
   "cell_type": "code",
   "execution_count": 67,
   "metadata": {},
   "outputs": [],
   "source": [
    "azdias.drop(columns=correlated_cols_to_drop, inplace=True)\n",
    "customers.drop(columns=correlated_cols_to_drop, inplace=True)"
   ]
  },
  {
   "cell_type": "code",
   "execution_count": 68,
   "metadata": {},
   "outputs": [],
   "source": [
    "# a_corr_flat = a_corr.stack()"
   ]
  },
  {
   "cell_type": "code",
   "execution_count": 69,
   "metadata": {},
   "outputs": [],
   "source": [
    "# axis_values = pd.DataFrame(list(a_corr_flat.index), columns=['x','y'])"
   ]
  },
  {
   "cell_type": "code",
   "execution_count": null,
   "metadata": {},
   "outputs": [],
   "source": []
  },
  {
   "cell_type": "code",
   "execution_count": 70,
   "metadata": {},
   "outputs": [],
   "source": [
    "# a_corr_flat.values.max(), a_corr_flat.values.min()"
   ]
  },
  {
   "cell_type": "code",
   "execution_count": 71,
   "metadata": {
    "scrolled": false
   },
   "outputs": [],
   "source": [
    "# factors = list(a_corr.columns)\n",
    "# x = axis_values['x']\n",
    "# y = axis_values['y']\n",
    "\n",
    "# colors = []\n",
    "# for k in (np.round(a_corr_flat.values*5).astype(int)+5):\n",
    "#     colors.append(RdYlBu[11][k])\n",
    "\n",
    "# hm = figure(title=\"Cross Correlation Heatmap\", tools=\"hover\", toolbar_location=None,\n",
    "#             x_range=factors, y_range=factors, plot_width=950, plot_height=950)\n",
    "\n",
    "# hm.rect(x, y, color=colors, width=1, height=1)\n",
    "\n",
    "# hm.xaxis.major_label_orientation = np.pi/2\n",
    "# hm.yaxis.major_label_text_font_size = \"3pt\"\n",
    "# hm.xaxis.major_label_text_font_size = \"3pt\"\n",
    "\n",
    "# show(hm)"
   ]
  },
  {
   "cell_type": "markdown",
   "metadata": {},
   "source": [
    "### missing data discussion\n",
    "\n",
    "There are two clear ways in which data can be missing. The first is a null in the dataset, caused by a missing value in the original CSV file. The second is data that has explicitly been labelled as unkown or missing in the dataset. It is possible that each of these ways in which data can be missing, could be the result of different mechanisms each containing different information (e.g. the difference between trying to obtain the data and failing, and not trying). It could also be the case that these two different mechanisms are equivalent and thus should be merged to avoid noise in our dataset. \n",
    "\n",
    "There are some columns that are mainly missing data - which should be dropped.\n",
    "\n",
    "There is a clear bias in the datasets between azdias and customers when comparing missing data, most notable in the KBA13 prefixed features, with customers being almost double as likely to have these features missing. Ivestigating and knowing why these fields end up missing would be very important to determine if the fact that the data is missing should be exploited."
   ]
  },
  {
   "cell_type": "code",
   "execution_count": 72,
   "metadata": {},
   "outputs": [],
   "source": [
    "# use a KS test to determine if the distributions of the data are similar \n",
    "# if the data distribution is too similar then this does not tell us anything about our customers. "
   ]
  },
  {
   "cell_type": "code",
   "execution_count": 73,
   "metadata": {},
   "outputs": [],
   "source": [
    "def filter_missing_values(series, missing_vals):\n",
    "    \"\"\"\n",
    "    Returns values that does not represent a value that indicates the value is missing or NaN. \n",
    "    \n",
    "    Input\n",
    "    Series - The series that should be filtered\n",
    "    mssing_vals - The list of values that represents a value that is missing.\n",
    "    \n",
    "    Output\n",
    "    Series consisiting only of the values that are not labelled as missing.\n",
    "    \"\"\"\n",
    "    return series[series.isin(missing_vals) == False]"
   ]
  },
  {
   "cell_type": "code",
   "execution_count": 74,
   "metadata": {
    "scrolled": true
   },
   "outputs": [
    {
     "data": {
      "application/vnd.jupyter.widget-view+json": {
       "model_id": "5b81f66269f542579f9fceeb93435052",
       "version_major": 2,
       "version_minor": 0
      },
      "text/plain": [
       "  0%|          | 0/305 [00:00<?, ?it/s]"
      ]
     },
     "metadata": {},
     "output_type": "display_data"
    }
   ],
   "source": [
    "similarity = dict()\n",
    "for n, c in enumerate(tqdm(azdias.columns)):\n",
    "    \"\"\"\n",
    "    Uses the KS statistic to determine if the distributions are the same.\n",
    "    If the KS statistic is large or the p-value is small, then we can reject the hypothesis that the distributions \n",
    "    of the two samples are the same.\n",
    "    \"\"\"\n",
    "    m = missing_labels_all[c]\n",
    "#     ks, p = stats.ks_2samp(azdias[c], customers[c])\n",
    "    ks, p = stats.ks_2samp(filter_missing_values(azdias[c], m),\n",
    "                           filter_missing_values(customers[c], m))\n",
    "    similarity[c] = {'ks': ks, 'p': p}\n",
    "similarity_scores = pd.DataFrame(similarity).T"
   ]
  },
  {
   "cell_type": "code",
   "execution_count": 75,
   "metadata": {},
   "outputs": [
    {
     "data": {
      "text/html": [
       "<div>\n",
       "<style scoped>\n",
       "    .dataframe tbody tr th:only-of-type {\n",
       "        vertical-align: middle;\n",
       "    }\n",
       "\n",
       "    .dataframe tbody tr th {\n",
       "        vertical-align: top;\n",
       "    }\n",
       "\n",
       "    .dataframe thead th {\n",
       "        text-align: right;\n",
       "    }\n",
       "</style>\n",
       "<table border=\"1\" class=\"dataframe\">\n",
       "  <thead>\n",
       "    <tr style=\"text-align: right;\">\n",
       "      <th></th>\n",
       "      <th>ks</th>\n",
       "      <th>p</th>\n",
       "    </tr>\n",
       "  </thead>\n",
       "  <tbody>\n",
       "    <tr>\n",
       "      <th>SOHO_KZ</th>\n",
       "      <td>0.001451</td>\n",
       "      <td>9.575091e-01</td>\n",
       "    </tr>\n",
       "    <tr>\n",
       "      <th>D19_VERSAND_ANZ_12</th>\n",
       "      <td>0.003825</td>\n",
       "      <td>4.027000e-01</td>\n",
       "    </tr>\n",
       "    <tr>\n",
       "      <th>KBA13_CCM_1800</th>\n",
       "      <td>0.005202</td>\n",
       "      <td>3.183300e-03</td>\n",
       "    </tr>\n",
       "    <tr>\n",
       "      <th>KBA13_MOTOR</th>\n",
       "      <td>0.006814</td>\n",
       "      <td>3.165989e-05</td>\n",
       "    </tr>\n",
       "    <tr>\n",
       "      <th>D19_VERSAND_ANZ_24</th>\n",
       "      <td>0.007181</td>\n",
       "      <td>1.457162e-03</td>\n",
       "    </tr>\n",
       "    <tr>\n",
       "      <th>KBA05_KRSVAN</th>\n",
       "      <td>0.009083</td>\n",
       "      <td>1.356979e-08</td>\n",
       "    </tr>\n",
       "    <tr>\n",
       "      <th>KK_KUNDENTYP</th>\n",
       "      <td>0.009652</td>\n",
       "      <td>1.526343e-05</td>\n",
       "    </tr>\n",
       "    <tr>\n",
       "      <th>D19_LEBENSMITTEL</th>\n",
       "      <td>0.011993</td>\n",
       "      <td>2.740967e-02</td>\n",
       "    </tr>\n",
       "    <tr>\n",
       "      <th>KBA13_KRSSEG_KLEIN</th>\n",
       "      <td>0.012503</td>\n",
       "      <td>1.391307e-16</td>\n",
       "    </tr>\n",
       "    <tr>\n",
       "      <th>D19_BUCH_CD</th>\n",
       "      <td>0.012841</td>\n",
       "      <td>5.709422e-10</td>\n",
       "    </tr>\n",
       "    <tr>\n",
       "      <th>D19_VERSAND_ONLINE_DATUM</th>\n",
       "      <td>0.012843</td>\n",
       "      <td>2.604908e-11</td>\n",
       "    </tr>\n",
       "    <tr>\n",
       "      <th>KBA13_KW_80</th>\n",
       "      <td>0.013445</td>\n",
       "      <td>4.130818e-19</td>\n",
       "    </tr>\n",
       "    <tr>\n",
       "      <th>ANZ_HH_TITEL</th>\n",
       "      <td>0.013480</td>\n",
       "      <td>3.837731e-19</td>\n",
       "    </tr>\n",
       "    <tr>\n",
       "      <th>D19_SONSTIGE</th>\n",
       "      <td>0.013849</td>\n",
       "      <td>3.532146e-15</td>\n",
       "    </tr>\n",
       "    <tr>\n",
       "      <th>D19_TELKO_ONLINE_DATUM</th>\n",
       "      <td>0.014892</td>\n",
       "      <td>8.403607e-01</td>\n",
       "    </tr>\n",
       "    <tr>\n",
       "      <th>ANZ_TITEL</th>\n",
       "      <td>0.015015</td>\n",
       "      <td>1.569540e-24</td>\n",
       "    </tr>\n",
       "    <tr>\n",
       "      <th>D19_HANDWERK</th>\n",
       "      <td>0.015910</td>\n",
       "      <td>5.024752e-08</td>\n",
       "    </tr>\n",
       "    <tr>\n",
       "      <th>KBA13_KW_90</th>\n",
       "      <td>0.016160</td>\n",
       "      <td>2.041269e-27</td>\n",
       "    </tr>\n",
       "    <tr>\n",
       "      <th>KBA13_TOYOTA</th>\n",
       "      <td>0.016811</td>\n",
       "      <td>1.235773e-29</td>\n",
       "    </tr>\n",
       "    <tr>\n",
       "      <th>D19_FREIZEIT</th>\n",
       "      <td>0.017270</td>\n",
       "      <td>1.166194e-05</td>\n",
       "    </tr>\n",
       "    <tr>\n",
       "      <th>KBA13_HERST_EUROPA</th>\n",
       "      <td>0.017271</td>\n",
       "      <td>2.963926e-31</td>\n",
       "    </tr>\n",
       "    <tr>\n",
       "      <th>KBA13_CCM_1500</th>\n",
       "      <td>0.017556</td>\n",
       "      <td>2.787475e-32</td>\n",
       "    </tr>\n",
       "    <tr>\n",
       "      <th>D19_REISEN</th>\n",
       "      <td>0.017981</td>\n",
       "      <td>4.384627e-12</td>\n",
       "    </tr>\n",
       "    <tr>\n",
       "      <th>KBA13_SEG_MINIWAGEN</th>\n",
       "      <td>0.018058</td>\n",
       "      <td>3.948000e-34</td>\n",
       "    </tr>\n",
       "    <tr>\n",
       "      <th>D19_VERSICHERUNGEN</th>\n",
       "      <td>0.018877</td>\n",
       "      <td>1.533959e-12</td>\n",
       "    </tr>\n",
       "  </tbody>\n",
       "</table>\n",
       "</div>"
      ],
      "text/plain": [
       "                                ks             p\n",
       "SOHO_KZ                   0.001451  9.575091e-01\n",
       "D19_VERSAND_ANZ_12        0.003825  4.027000e-01\n",
       "KBA13_CCM_1800            0.005202  3.183300e-03\n",
       "KBA13_MOTOR               0.006814  3.165989e-05\n",
       "D19_VERSAND_ANZ_24        0.007181  1.457162e-03\n",
       "KBA05_KRSVAN              0.009083  1.356979e-08\n",
       "KK_KUNDENTYP              0.009652  1.526343e-05\n",
       "D19_LEBENSMITTEL          0.011993  2.740967e-02\n",
       "KBA13_KRSSEG_KLEIN        0.012503  1.391307e-16\n",
       "D19_BUCH_CD               0.012841  5.709422e-10\n",
       "D19_VERSAND_ONLINE_DATUM  0.012843  2.604908e-11\n",
       "KBA13_KW_80               0.013445  4.130818e-19\n",
       "ANZ_HH_TITEL              0.013480  3.837731e-19\n",
       "D19_SONSTIGE              0.013849  3.532146e-15\n",
       "D19_TELKO_ONLINE_DATUM    0.014892  8.403607e-01\n",
       "ANZ_TITEL                 0.015015  1.569540e-24\n",
       "D19_HANDWERK              0.015910  5.024752e-08\n",
       "KBA13_KW_90               0.016160  2.041269e-27\n",
       "KBA13_TOYOTA              0.016811  1.235773e-29\n",
       "D19_FREIZEIT              0.017270  1.166194e-05\n",
       "KBA13_HERST_EUROPA        0.017271  2.963926e-31\n",
       "KBA13_CCM_1500            0.017556  2.787475e-32\n",
       "D19_REISEN                0.017981  4.384627e-12\n",
       "KBA13_SEG_MINIWAGEN       0.018058  3.948000e-34\n",
       "D19_VERSICHERUNGEN        0.018877  1.533959e-12"
      ]
     },
     "execution_count": 75,
     "metadata": {},
     "output_type": "execute_result"
    }
   ],
   "source": [
    "similarity_scores.sort_values(by=['ks'], ascending=True).head(25)"
   ]
  },
  {
   "cell_type": "code",
   "execution_count": 76,
   "metadata": {},
   "outputs": [],
   "source": [
    "def calc_pdf_cdf(data, bins):\n",
    "    \"\"\"\n",
    "    Calculates a PDF and CDF from data using the bins.\n",
    "    \n",
    "    Input\n",
    "    data - list like to calculate PDF and CDF from\n",
    "    bins - bins to use to group data by \n",
    "    \n",
    "    Output\n",
    "    bins - bin centers of the PDF and CDF\n",
    "    pdf - probability distribution of the data\n",
    "    cdf - cumulative probability distribution of the data\n",
    "    \"\"\"\n",
    "    if np.diff(bins).min() < 1:\n",
    "        raise Error('minimum bin distance is less than 1')\n",
    "    else:\n",
    "        hist_bins = np.append(bins[0] - 0.5, (bins + 0.5))\n",
    "    count, bins_count = np.histogram(data.loc[np.isfinite(data)], hist_bins)\n",
    "    pdf = count / sum(count)\n",
    "    cdf = np.cumsum(pdf)\n",
    "    return bins, pdf, cdf"
   ]
  },
  {
   "cell_type": "code",
   "execution_count": 77,
   "metadata": {},
   "outputs": [],
   "source": [
    "def ks_bar_plot(c, azdias=azdias, customers=customers, missing_labels_all=missing_labels_all, attributes=attributes):\n",
    "    \"\"\"\n",
    "    Generates a bar plot for a provided column.\n",
    "    \"\"\"\n",
    "    m = missing_labels_all[c]\n",
    "    azdi_valid = filter_missing_values(azdias[c], m)\n",
    "    cust_valid = filter_missing_values(customers[c], m)\n",
    "    \n",
    "    numeric_bins = azdi_valid.append(cust_valid).unique()\n",
    "    numeric_bins.sort()\n",
    "    \n",
    "    bins = []\n",
    "    for i in list(numeric_bins):\n",
    "        valid_attrib = attributes[(attributes['Attribute'] == c) &\n",
    "                          (attributes['Value'] == i)]['Meaning']\n",
    "        if len(valid_attrib) > 0:\n",
    "            bins.append(valid_attrib.values[0])\n",
    "        else:\n",
    "            bins.append(i)\n",
    "     \n",
    "#     max_label_len = 0\n",
    "#     for e in bins:\n",
    "#         if len(e) > max_label_len:\n",
    "#             max_label_len = len(e)\n",
    "    \n",
    "    x1, pdf1, cdf1 = calc_pdf_cdf(azdi_valid, bins=numeric_bins)\n",
    "    x2, pdf2, cdf2 = calc_pdf_cdf(cust_valid, bins=numeric_bins)\n",
    "    \n",
    "    datasets = ['a', 'c']\n",
    "    \n",
    "    x_cat = [ (str(b), d) for b in bins for d in datasets ]\n",
    "    \n",
    "    counts_cat = list(pd.DataFrame([pdf1, pdf2], index=datasets).T.stack().values)\n",
    "    \n",
    "    source = ColumnDataSource(data=dict(x=x_cat, counts=counts_cat))\n",
    "    \n",
    "    p = figure(x_range=FactorRange(*x_cat), plot_width=950, plot_height=500,\n",
    "               toolbar_location=None, tools=\"\")\n",
    "\n",
    "#     p.line(x1, pdf1, line_color='blue', legend_label='azdias')\n",
    "#     p.line(x2, pdf2, line_color='red', legend_label='customer')\n",
    "\n",
    "    p.vbar(x='x', top='counts', width=0.9, source=source,  line_color=None,\n",
    "           fill_color=factor_cmap('x', palette=Category10[10][0:2], factors=datasets, start=1, end=2))\n",
    "\n",
    "    p.title.text = f\"{c} [ks:{similarity_scores.loc[c]['ks']:0.4f} p:{similarity_scores.loc[c]['p']:0.4f}]\"\n",
    "    \n",
    "    p.y_range.start = 0\n",
    "    p.xaxis.major_label_orientation = 0\n",
    "    p.xaxis.group_label_orientation = np.pi/2\n",
    "    p.xgrid.grid_line_color = None\n",
    "    return p"
   ]
  },
  {
   "cell_type": "code",
   "execution_count": 78,
   "metadata": {
    "scrolled": true
   },
   "outputs": [
    {
     "data": {
      "application/vnd.jupyter.widget-view+json": {
       "model_id": "ebbb2dabb70a4e129dc15071af2aae87",
       "version_major": 2,
       "version_minor": 0
      },
      "text/plain": [
       "  0%|          | 0/5 [00:00<?, ?it/s]"
      ]
     },
     "metadata": {},
     "output_type": "display_data"
    },
    {
     "data": {
      "text/html": [
       "\n",
       "\n",
       "\n",
       "\n",
       "\n",
       "\n",
       "  <div class=\"bk-root\" id=\"5495ef3f-a7e1-45a0-a02d-762a62278802\" data-root-id=\"4112\"></div>\n"
      ]
     },
     "metadata": {},
     "output_type": "display_data"
    },
    {
     "data": {
      "application/javascript": [
       "(function(root) {\n",
       "  function embed_document(root) {\n",
       "    \n",
       "  var docs_json = {\"10442524-82c0-4e9e-b573-2f57b00c4129\":{\"defs\":[],\"roots\":{\"references\":[{\"attributes\":{\"children\":[{\"id\":\"4115\"},{\"id\":\"4140\"},{\"id\":\"4165\"},{\"id\":\"4190\"},{\"id\":\"4215\"}]},\"id\":\"4112\",\"type\":\"Column\"},{\"attributes\":{},\"id\":\"4121\",\"type\":\"LinearScale\"},{\"attributes\":{},\"id\":\"4127\",\"type\":\"BasicTicker\"},{\"attributes\":{},\"id\":\"4451\",\"type\":\"BasicTickFormatter\"},{\"attributes\":{\"data\":{\"counts\":[0.9915743016199409,0.9901232011595403,0.008425698380059181,0.009876798840459675],\"x\":[[\"no small office/home office\",\"a\"],[\"no small office/home office\",\"c\"],[\"small office/home office\",\"a\"],[\"small office/home office\",\"c\"]]},\"selected\":{\"id\":\"4458\"},\"selection_policy\":{\"id\":\"4457\"}},\"id\":\"4113\",\"type\":\"ColumnDataSource\"},{\"attributes\":{},\"id\":\"4453\",\"type\":\"AllLabels\"},{\"attributes\":{},\"id\":\"4454\",\"type\":\"CategoricalTickFormatter\"},{\"attributes\":{},\"id\":\"4456\",\"type\":\"AllLabels\"},{\"attributes\":{},\"id\":\"4461\",\"type\":\"UnionRenderers\"},{\"attributes\":{},\"id\":\"4119\",\"type\":\"CategoricalScale\"},{\"attributes\":{},\"id\":\"4462\",\"type\":\"Selection\"},{\"attributes\":{\"active_multi\":null},\"id\":\"4130\",\"type\":\"Toolbar\"},{\"attributes\":{\"axis\":{\"id\":\"4126\"},\"dimension\":1,\"ticker\":null},\"id\":\"4129\",\"type\":\"Grid\"},{\"attributes\":{},\"id\":\"4457\",\"type\":\"UnionRenderers\"},{\"attributes\":{\"end\":2,\"factors\":[\"a\",\"c\"],\"palette\":[\"#1f77b4\",\"#ff7f0e\"],\"start\":1},\"id\":\"4131\",\"type\":\"CategoricalColorMapper\"},{\"attributes\":{},\"id\":\"4458\",\"type\":\"Selection\"},{\"attributes\":{\"below\":[{\"id\":\"4123\"}],\"center\":[{\"id\":\"4125\"},{\"id\":\"4129\"}],\"height\":500,\"left\":[{\"id\":\"4126\"}],\"renderers\":[{\"id\":\"4135\"}],\"title\":{\"id\":\"4137\"},\"toolbar\":{\"id\":\"4130\"},\"toolbar_location\":null,\"width\":950,\"x_range\":{\"id\":\"4114\"},\"x_scale\":{\"id\":\"4119\"},\"y_range\":{\"id\":\"4117\"},\"y_scale\":{\"id\":\"4121\"}},\"id\":\"4115\",\"subtype\":\"Figure\",\"type\":\"Plot\"},{\"attributes\":{\"fill_color\":{\"field\":\"x\",\"transform\":{\"id\":\"4131\"}},\"line_color\":{\"value\":null},\"top\":{\"field\":\"counts\"},\"width\":{\"value\":0.9},\"x\":{\"field\":\"x\"}},\"id\":\"4133\",\"type\":\"VBar\"},{\"attributes\":{\"factors\":[[\"no small office/home office\",\"a\"],[\"no small office/home office\",\"c\"],[\"small office/home office\",\"a\"],[\"small office/home office\",\"c\"]]},\"id\":\"4114\",\"type\":\"FactorRange\"},{\"attributes\":{\"formatter\":{\"id\":\"4430\"},\"group_label_orientation\":1.5707963267948966,\"major_label_orientation\":0,\"major_label_policy\":{\"id\":\"4432\"},\"ticker\":{\"id\":\"4124\"}},\"id\":\"4123\",\"type\":\"CategoricalAxis\"},{\"attributes\":{\"factors\":[[\"none\",\"a\"],[\"none\",\"c\"],[\"very low\",\"a\"],[\"very low\",\"c\"],[\"low\",\"a\"],[\"low\",\"c\"],[\"average\",\"a\"],[\"average\",\"c\"],[\"high\",\"a\"],[\"high\",\"c\"],[\"very high\",\"a\"],[\"very high\",\"c\"]]},\"id\":\"4164\",\"type\":\"FactorRange\"},{\"attributes\":{\"axis\":{\"id\":\"4123\"},\"grid_line_color\":null,\"ticker\":null},\"id\":\"4125\",\"type\":\"Grid\"},{\"attributes\":{},\"id\":\"4124\",\"type\":\"CategoricalTicker\"},{\"attributes\":{},\"id\":\"4463\",\"type\":\"UnionRenderers\"},{\"attributes\":{\"data\":{\"counts\":[0.38135195005705846,0.3851773776693282,0.32227570493861774,0.31832686004706967,0.1352739793641831,0.131694075860177,0.11606363697388736,0.11662022264254465,0.0383496084880888,0.04065897572878615,0.0066851201781645735,0.007522488052094312],\"x\":[[\"very low activity\",\"a\"],[\"very low activity\",\"c\"],[\"low activity\",\"a\"],[\"low activity\",\"c\"],[\"slightly increased activity\",\"a\"],[\"slightly increased activity\",\"c\"],[\"increased activity\",\"a\"],[\"increased activity\",\"c\"],[\"high activity\",\"a\"],[\"high activity\",\"c\"],[\"very high activity\",\"a\"],[\"very high activity\",\"c\"]]},\"selected\":{\"id\":\"4460\"},\"selection_policy\":{\"id\":\"4459\"}},\"id\":\"4138\",\"type\":\"ColumnDataSource\"},{\"attributes\":{},\"id\":\"4464\",\"type\":\"Selection\"},{\"attributes\":{\"fill_color\":{\"field\":\"x\",\"transform\":{\"id\":\"4156\"}},\"line_color\":{\"value\":null},\"top\":{\"field\":\"counts\"},\"width\":{\"value\":0.9},\"x\":{\"field\":\"x\"}},\"id\":\"4158\",\"type\":\"VBar\"},{\"attributes\":{},\"id\":\"4459\",\"type\":\"UnionRenderers\"},{\"attributes\":{\"data\":{\"counts\":[0.08032034923109053,0.08713482825516376,0.18416897161223938,0.18153029784320437,0.6046419821003785,0.6006575944311309,0.13086869705629162,0.13067727947050098],\"x\":[[\"mainly small engines\",\"a\"],[\"mainly small engines\",\"c\"],[\"mainly medium sized engines\",\"a\"],[\"mainly medium sized engines\",\"c\"],[\"mainly high engines\",\"a\"],[\"mainly high engines\",\"c\"],[\"mainly very big engines\",\"a\"],[\"mainly very big engines\",\"c\"]]},\"selected\":{\"id\":\"4464\"},\"selection_policy\":{\"id\":\"4463\"}},\"id\":\"4188\",\"type\":\"ColumnDataSource\"},{\"attributes\":{},\"id\":\"4460\",\"type\":\"Selection\"},{\"attributes\":{\"data\":{\"counts\":[0.17511601134899168,0.1772652059796873,0.06633531482245551,0.05898379550382289,0.22900207317756485,0.2296730571722013,0.35214474548816455,0.35995093004678763,0.10382187991870291,0.104216592491156,0.07357997524412048,0.06991041880634485],\"x\":[[\"none\",\"a\"],[\"none\",\"c\"],[\"very low\",\"a\"],[\"very low\",\"c\"],[\"low\",\"a\"],[\"low\",\"c\"],[\"average\",\"a\"],[\"average\",\"c\"],[\"high\",\"a\"],[\"high\",\"c\"],[\"very high\",\"a\"],[\"very high\",\"c\"]]},\"selected\":{\"id\":\"4462\"},\"selection_policy\":{\"id\":\"4461\"}},\"id\":\"4163\",\"type\":\"ColumnDataSource\"},{\"attributes\":{\"start\":0},\"id\":\"4142\",\"type\":\"DataRange1d\"},{\"attributes\":{\"formatter\":{\"id\":\"4427\"},\"major_label_policy\":{\"id\":\"4429\"},\"ticker\":{\"id\":\"4127\"}},\"id\":\"4126\",\"type\":\"LinearAxis\"},{\"attributes\":{\"fill_alpha\":{\"value\":0.1},\"fill_color\":{\"field\":\"x\",\"transform\":{\"id\":\"4131\"}},\"line_alpha\":{\"value\":0.1},\"line_color\":{\"value\":null},\"top\":{\"field\":\"counts\"},\"width\":{\"value\":0.9},\"x\":{\"field\":\"x\"}},\"id\":\"4134\",\"type\":\"VBar\"},{\"attributes\":{\"data\":{\"counts\":[0.27566332623708395,0.2800660273541896,0.286087787833343,0.2884429671884475,0.14609517933555893,0.14651784310642982,0.16803755616167232,0.16103712354301886,0.09284581998332331,0.09132661082040111,0.03127033044901849,0.03260942798751319],\"x\":[[\"very low activity\",\"a\"],[\"very low activity\",\"c\"],[\"low activity\",\"a\"],[\"low activity\",\"c\"],[\"slightly increased activity\",\"a\"],[\"slightly increased activity\",\"c\"],[\"increased activity\",\"a\"],[\"increased activity\",\"c\"],[\"high activity\",\"a\"],[\"high activity\",\"c\"],[\"very high activity\",\"a\"],[\"very high activity\",\"c\"]]},\"selected\":{\"id\":\"4466\"},\"selection_policy\":{\"id\":\"4465\"}},\"id\":\"4213\",\"type\":\"ColumnDataSource\"},{\"attributes\":{\"start\":0},\"id\":\"4117\",\"type\":\"DataRange1d\"},{\"attributes\":{\"factors\":[[\"very low activity\",\"a\"],[\"very low activity\",\"c\"],[\"low activity\",\"a\"],[\"low activity\",\"c\"],[\"slightly increased activity\",\"a\"],[\"slightly increased activity\",\"c\"],[\"increased activity\",\"a\"],[\"increased activity\",\"c\"],[\"high activity\",\"a\"],[\"high activity\",\"c\"],[\"very high activity\",\"a\"],[\"very high activity\",\"c\"]]},\"id\":\"4139\",\"type\":\"FactorRange\"},{\"attributes\":{\"end\":2,\"factors\":[\"a\",\"c\"],\"palette\":[\"#1f77b4\",\"#ff7f0e\"],\"start\":1},\"id\":\"4156\",\"type\":\"CategoricalColorMapper\"},{\"attributes\":{\"below\":[{\"id\":\"4148\"}],\"center\":[{\"id\":\"4150\"},{\"id\":\"4154\"}],\"height\":500,\"left\":[{\"id\":\"4151\"}],\"renderers\":[{\"id\":\"4160\"}],\"title\":{\"id\":\"4162\"},\"toolbar\":{\"id\":\"4155\"},\"toolbar_location\":null,\"width\":950,\"x_range\":{\"id\":\"4139\"},\"x_scale\":{\"id\":\"4144\"},\"y_range\":{\"id\":\"4142\"},\"y_scale\":{\"id\":\"4146\"}},\"id\":\"4140\",\"subtype\":\"Figure\",\"type\":\"Plot\"},{\"attributes\":{},\"id\":\"4194\",\"type\":\"CategoricalScale\"},{\"attributes\":{},\"id\":\"4465\",\"type\":\"UnionRenderers\"},{\"attributes\":{\"axis\":{\"id\":\"4148\"},\"grid_line_color\":null,\"ticker\":null},\"id\":\"4150\",\"type\":\"Grid\"},{\"attributes\":{\"data_source\":{\"id\":\"4163\"},\"glyph\":{\"id\":\"4183\"},\"hover_glyph\":null,\"muted_glyph\":null,\"nonselection_glyph\":{\"id\":\"4184\"},\"view\":{\"id\":\"4186\"}},\"id\":\"4185\",\"type\":\"GlyphRenderer\"},{\"attributes\":{},\"id\":\"4227\",\"type\":\"BasicTicker\"},{\"attributes\":{},\"id\":\"4466\",\"type\":\"Selection\"},{\"attributes\":{\"source\":{\"id\":\"4163\"}},\"id\":\"4186\",\"type\":\"CDSView\"},{\"attributes\":{\"formatter\":{\"id\":\"4436\"},\"group_label_orientation\":1.5707963267948966,\"major_label_orientation\":0,\"major_label_policy\":{\"id\":\"4438\"},\"ticker\":{\"id\":\"4149\"}},\"id\":\"4148\",\"type\":\"CategoricalAxis\"},{\"attributes\":{\"text\":\"KBA13_CCM_1800 [ks:0.0052 p:0.0032]\"},\"id\":\"4187\",\"type\":\"Title\"},{\"attributes\":{\"fill_alpha\":{\"value\":0.1},\"fill_color\":{\"field\":\"x\",\"transform\":{\"id\":\"4156\"}},\"line_alpha\":{\"value\":0.1},\"line_color\":{\"value\":null},\"top\":{\"field\":\"counts\"},\"width\":{\"value\":0.9},\"x\":{\"field\":\"x\"}},\"id\":\"4159\",\"type\":\"VBar\"},{\"attributes\":{\"below\":[{\"id\":\"4198\"}],\"center\":[{\"id\":\"4200\"},{\"id\":\"4204\"}],\"height\":500,\"left\":[{\"id\":\"4201\"}],\"renderers\":[{\"id\":\"4210\"}],\"title\":{\"id\":\"4212\"},\"toolbar\":{\"id\":\"4205\"},\"toolbar_location\":null,\"width\":950,\"x_range\":{\"id\":\"4189\"},\"x_scale\":{\"id\":\"4194\"},\"y_range\":{\"id\":\"4192\"},\"y_scale\":{\"id\":\"4196\"}},\"id\":\"4190\",\"subtype\":\"Figure\",\"type\":\"Plot\"},{\"attributes\":{\"active_multi\":null},\"id\":\"4230\",\"type\":\"Toolbar\"},{\"attributes\":{},\"id\":\"4144\",\"type\":\"CategoricalScale\"},{\"attributes\":{\"factors\":[[\"mainly small engines\",\"a\"],[\"mainly small engines\",\"c\"],[\"mainly medium sized engines\",\"a\"],[\"mainly medium sized engines\",\"c\"],[\"mainly high engines\",\"a\"],[\"mainly high engines\",\"c\"],[\"mainly very big engines\",\"a\"],[\"mainly very big engines\",\"c\"]]},\"id\":\"4189\",\"type\":\"FactorRange\"},{\"attributes\":{},\"id\":\"4445\",\"type\":\"BasicTickFormatter\"},{\"attributes\":{\"formatter\":{\"id\":\"4445\"},\"major_label_policy\":{\"id\":\"4447\"},\"ticker\":{\"id\":\"4202\"}},\"id\":\"4201\",\"type\":\"LinearAxis\"},{\"attributes\":{\"source\":{\"id\":\"4113\"}},\"id\":\"4136\",\"type\":\"CDSView\"},{\"attributes\":{\"data_source\":{\"id\":\"4113\"},\"glyph\":{\"id\":\"4133\"},\"hover_glyph\":null,\"muted_glyph\":null,\"nonselection_glyph\":{\"id\":\"4134\"},\"view\":{\"id\":\"4136\"}},\"id\":\"4135\",\"type\":\"GlyphRenderer\"},{\"attributes\":{\"active_multi\":null},\"id\":\"4155\",\"type\":\"Toolbar\"},{\"attributes\":{\"axis\":{\"id\":\"4198\"},\"grid_line_color\":null,\"ticker\":null},\"id\":\"4200\",\"type\":\"Grid\"},{\"attributes\":{\"text\":\"SOHO_KZ [ks:0.0015 p:0.9575]\"},\"id\":\"4137\",\"type\":\"Title\"},{\"attributes\":{\"axis\":{\"id\":\"4201\"},\"dimension\":1,\"ticker\":null},\"id\":\"4204\",\"type\":\"Grid\"},{\"attributes\":{},\"id\":\"4202\",\"type\":\"BasicTicker\"},{\"attributes\":{},\"id\":\"4146\",\"type\":\"LinearScale\"},{\"attributes\":{},\"id\":\"4152\",\"type\":\"BasicTicker\"},{\"attributes\":{},\"id\":\"4199\",\"type\":\"CategoricalTicker\"},{\"attributes\":{\"axis\":{\"id\":\"4151\"},\"dimension\":1,\"ticker\":null},\"id\":\"4154\",\"type\":\"Grid\"},{\"attributes\":{\"active_multi\":null},\"id\":\"4205\",\"type\":\"Toolbar\"},{\"attributes\":{\"formatter\":{\"id\":\"4448\"},\"group_label_orientation\":1.5707963267948966,\"major_label_orientation\":0,\"major_label_policy\":{\"id\":\"4450\"},\"ticker\":{\"id\":\"4199\"}},\"id\":\"4198\",\"type\":\"CategoricalAxis\"},{\"attributes\":{},\"id\":\"4439\",\"type\":\"BasicTickFormatter\"},{\"attributes\":{\"fill_alpha\":{\"value\":0.1},\"fill_color\":{\"field\":\"x\",\"transform\":{\"id\":\"4206\"}},\"line_alpha\":{\"value\":0.1},\"line_color\":{\"value\":null},\"top\":{\"field\":\"counts\"},\"width\":{\"value\":0.9},\"x\":{\"field\":\"x\"}},\"id\":\"4209\",\"type\":\"VBar\"},{\"attributes\":{},\"id\":\"4441\",\"type\":\"AllLabels\"},{\"attributes\":{},\"id\":\"4427\",\"type\":\"BasicTickFormatter\"},{\"attributes\":{},\"id\":\"4149\",\"type\":\"CategoricalTicker\"},{\"attributes\":{\"formatter\":{\"id\":\"4433\"},\"major_label_policy\":{\"id\":\"4435\"},\"ticker\":{\"id\":\"4152\"}},\"id\":\"4151\",\"type\":\"LinearAxis\"},{\"attributes\":{},\"id\":\"4442\",\"type\":\"CategoricalTickFormatter\"},{\"attributes\":{\"start\":0},\"id\":\"4192\",\"type\":\"DataRange1d\"},{\"attributes\":{},\"id\":\"4429\",\"type\":\"AllLabels\"},{\"attributes\":{\"end\":2,\"factors\":[\"a\",\"c\"],\"palette\":[\"#1f77b4\",\"#ff7f0e\"],\"start\":1},\"id\":\"4206\",\"type\":\"CategoricalColorMapper\"},{\"attributes\":{},\"id\":\"4444\",\"type\":\"AllLabels\"},{\"attributes\":{},\"id\":\"4224\",\"type\":\"CategoricalTicker\"},{\"attributes\":{},\"id\":\"4196\",\"type\":\"LinearScale\"},{\"attributes\":{},\"id\":\"4219\",\"type\":\"CategoricalScale\"},{\"attributes\":{},\"id\":\"4430\",\"type\":\"CategoricalTickFormatter\"},{\"attributes\":{\"fill_color\":{\"field\":\"x\",\"transform\":{\"id\":\"4206\"}},\"line_color\":{\"value\":null},\"top\":{\"field\":\"counts\"},\"width\":{\"value\":0.9},\"x\":{\"field\":\"x\"}},\"id\":\"4208\",\"type\":\"VBar\"},{\"attributes\":{},\"id\":\"4221\",\"type\":\"LinearScale\"},{\"attributes\":{},\"id\":\"4432\",\"type\":\"AllLabels\"},{\"attributes\":{\"fill_alpha\":{\"value\":0.1},\"fill_color\":{\"field\":\"x\",\"transform\":{\"id\":\"4231\"}},\"line_alpha\":{\"value\":0.1},\"line_color\":{\"value\":null},\"top\":{\"field\":\"counts\"},\"width\":{\"value\":0.9},\"x\":{\"field\":\"x\"}},\"id\":\"4234\",\"type\":\"VBar\"},{\"attributes\":{\"fill_color\":{\"field\":\"x\",\"transform\":{\"id\":\"4231\"}},\"line_color\":{\"value\":null},\"top\":{\"field\":\"counts\"},\"width\":{\"value\":0.9},\"x\":{\"field\":\"x\"}},\"id\":\"4233\",\"type\":\"VBar\"},{\"attributes\":{\"source\":{\"id\":\"4138\"}},\"id\":\"4161\",\"type\":\"CDSView\"},{\"attributes\":{\"axis\":{\"id\":\"4226\"},\"dimension\":1,\"ticker\":null},\"id\":\"4229\",\"type\":\"Grid\"},{\"attributes\":{\"source\":{\"id\":\"4188\"}},\"id\":\"4211\",\"type\":\"CDSView\"},{\"attributes\":{\"below\":[{\"id\":\"4173\"}],\"center\":[{\"id\":\"4175\"},{\"id\":\"4179\"}],\"height\":500,\"left\":[{\"id\":\"4176\"}],\"renderers\":[{\"id\":\"4185\"}],\"title\":{\"id\":\"4187\"},\"toolbar\":{\"id\":\"4180\"},\"toolbar_location\":null,\"width\":950,\"x_range\":{\"id\":\"4164\"},\"x_scale\":{\"id\":\"4169\"},\"y_range\":{\"id\":\"4167\"},\"y_scale\":{\"id\":\"4171\"}},\"id\":\"4165\",\"subtype\":\"Figure\",\"type\":\"Plot\"},{\"attributes\":{\"data_source\":{\"id\":\"4138\"},\"glyph\":{\"id\":\"4158\"},\"hover_glyph\":null,\"muted_glyph\":null,\"nonselection_glyph\":{\"id\":\"4159\"},\"view\":{\"id\":\"4161\"}},\"id\":\"4160\",\"type\":\"GlyphRenderer\"},{\"attributes\":{\"start\":0},\"id\":\"4167\",\"type\":\"DataRange1d\"},{\"attributes\":{\"data_source\":{\"id\":\"4188\"},\"glyph\":{\"id\":\"4208\"},\"hover_glyph\":null,\"muted_glyph\":null,\"nonselection_glyph\":{\"id\":\"4209\"},\"view\":{\"id\":\"4211\"}},\"id\":\"4210\",\"type\":\"GlyphRenderer\"},{\"attributes\":{\"text\":\"D19_VERSAND_ANZ_12 [ks:0.0038 p:0.4027]\"},\"id\":\"4162\",\"type\":\"Title\"},{\"attributes\":{},\"id\":\"4171\",\"type\":\"LinearScale\"},{\"attributes\":{\"text\":\"KBA13_MOTOR [ks:0.0068 p:0.0000]\"},\"id\":\"4212\",\"type\":\"Title\"},{\"attributes\":{},\"id\":\"4448\",\"type\":\"CategoricalTickFormatter\"},{\"attributes\":{\"data_source\":{\"id\":\"4213\"},\"glyph\":{\"id\":\"4233\"},\"hover_glyph\":null,\"muted_glyph\":null,\"nonselection_glyph\":{\"id\":\"4234\"},\"view\":{\"id\":\"4236\"}},\"id\":\"4235\",\"type\":\"GlyphRenderer\"},{\"attributes\":{\"formatter\":{\"id\":\"4451\"},\"major_label_policy\":{\"id\":\"4453\"},\"ticker\":{\"id\":\"4227\"}},\"id\":\"4226\",\"type\":\"LinearAxis\"},{\"attributes\":{\"start\":0},\"id\":\"4217\",\"type\":\"DataRange1d\"},{\"attributes\":{},\"id\":\"4450\",\"type\":\"AllLabels\"},{\"attributes\":{\"formatter\":{\"id\":\"4454\"},\"group_label_orientation\":1.5707963267948966,\"major_label_orientation\":0,\"major_label_policy\":{\"id\":\"4456\"},\"ticker\":{\"id\":\"4224\"}},\"id\":\"4223\",\"type\":\"CategoricalAxis\"},{\"attributes\":{\"axis\":{\"id\":\"4176\"},\"dimension\":1,\"ticker\":null},\"id\":\"4179\",\"type\":\"Grid\"},{\"attributes\":{},\"id\":\"4177\",\"type\":\"BasicTicker\"},{\"attributes\":{},\"id\":\"4169\",\"type\":\"CategoricalScale\"},{\"attributes\":{\"formatter\":{\"id\":\"4442\"},\"group_label_orientation\":1.5707963267948966,\"major_label_orientation\":0,\"major_label_policy\":{\"id\":\"4444\"},\"ticker\":{\"id\":\"4174\"}},\"id\":\"4173\",\"type\":\"CategoricalAxis\"},{\"attributes\":{\"formatter\":{\"id\":\"4439\"},\"major_label_policy\":{\"id\":\"4441\"},\"ticker\":{\"id\":\"4177\"}},\"id\":\"4176\",\"type\":\"LinearAxis\"},{\"attributes\":{},\"id\":\"4447\",\"type\":\"AllLabels\"},{\"attributes\":{\"axis\":{\"id\":\"4173\"},\"grid_line_color\":null,\"ticker\":null},\"id\":\"4175\",\"type\":\"Grid\"},{\"attributes\":{},\"id\":\"4433\",\"type\":\"BasicTickFormatter\"},{\"attributes\":{\"fill_color\":{\"field\":\"x\",\"transform\":{\"id\":\"4181\"}},\"line_color\":{\"value\":null},\"top\":{\"field\":\"counts\"},\"width\":{\"value\":0.9},\"x\":{\"field\":\"x\"}},\"id\":\"4183\",\"type\":\"VBar\"},{\"attributes\":{\"active_multi\":null},\"id\":\"4180\",\"type\":\"Toolbar\"},{\"attributes\":{\"source\":{\"id\":\"4213\"}},\"id\":\"4236\",\"type\":\"CDSView\"},{\"attributes\":{},\"id\":\"4435\",\"type\":\"AllLabels\"},{\"attributes\":{},\"id\":\"4174\",\"type\":\"CategoricalTicker\"},{\"attributes\":{\"text\":\"D19_VERSAND_ANZ_24 [ks:0.0072 p:0.0015]\"},\"id\":\"4237\",\"type\":\"Title\"},{\"attributes\":{\"below\":[{\"id\":\"4223\"}],\"center\":[{\"id\":\"4225\"},{\"id\":\"4229\"}],\"height\":500,\"left\":[{\"id\":\"4226\"}],\"renderers\":[{\"id\":\"4235\"}],\"title\":{\"id\":\"4237\"},\"toolbar\":{\"id\":\"4230\"},\"toolbar_location\":null,\"width\":950,\"x_range\":{\"id\":\"4214\"},\"x_scale\":{\"id\":\"4219\"},\"y_range\":{\"id\":\"4217\"},\"y_scale\":{\"id\":\"4221\"}},\"id\":\"4215\",\"subtype\":\"Figure\",\"type\":\"Plot\"},{\"attributes\":{},\"id\":\"4436\",\"type\":\"CategoricalTickFormatter\"},{\"attributes\":{\"fill_alpha\":{\"value\":0.1},\"fill_color\":{\"field\":\"x\",\"transform\":{\"id\":\"4181\"}},\"line_alpha\":{\"value\":0.1},\"line_color\":{\"value\":null},\"top\":{\"field\":\"counts\"},\"width\":{\"value\":0.9},\"x\":{\"field\":\"x\"}},\"id\":\"4184\",\"type\":\"VBar\"},{\"attributes\":{},\"id\":\"4438\",\"type\":\"AllLabels\"},{\"attributes\":{\"end\":2,\"factors\":[\"a\",\"c\"],\"palette\":[\"#1f77b4\",\"#ff7f0e\"],\"start\":1},\"id\":\"4231\",\"type\":\"CategoricalColorMapper\"},{\"attributes\":{\"axis\":{\"id\":\"4223\"},\"grid_line_color\":null,\"ticker\":null},\"id\":\"4225\",\"type\":\"Grid\"},{\"attributes\":{\"end\":2,\"factors\":[\"a\",\"c\"],\"palette\":[\"#1f77b4\",\"#ff7f0e\"],\"start\":1},\"id\":\"4181\",\"type\":\"CategoricalColorMapper\"},{\"attributes\":{\"factors\":[[\"very low activity\",\"a\"],[\"very low activity\",\"c\"],[\"low activity\",\"a\"],[\"low activity\",\"c\"],[\"slightly increased activity\",\"a\"],[\"slightly increased activity\",\"c\"],[\"increased activity\",\"a\"],[\"increased activity\",\"c\"],[\"high activity\",\"a\"],[\"high activity\",\"c\"],[\"very high activity\",\"a\"],[\"very high activity\",\"c\"]]},\"id\":\"4214\",\"type\":\"FactorRange\"}],\"root_ids\":[\"4112\"]},\"title\":\"Bokeh Application\",\"version\":\"2.3.1\"}};\n",
       "  var render_items = [{\"docid\":\"10442524-82c0-4e9e-b573-2f57b00c4129\",\"root_ids\":[\"4112\"],\"roots\":{\"4112\":\"5495ef3f-a7e1-45a0-a02d-762a62278802\"}}];\n",
       "  root.Bokeh.embed.embed_items_notebook(docs_json, render_items);\n",
       "\n",
       "  }\n",
       "  if (root.Bokeh !== undefined) {\n",
       "    embed_document(root);\n",
       "  } else {\n",
       "    var attempts = 0;\n",
       "    var timer = setInterval(function(root) {\n",
       "      if (root.Bokeh !== undefined) {\n",
       "        clearInterval(timer);\n",
       "        embed_document(root);\n",
       "      } else {\n",
       "        attempts++;\n",
       "        if (attempts > 100) {\n",
       "          clearInterval(timer);\n",
       "          console.log(\"Bokeh: ERROR: Unable to run BokehJS code because BokehJS library is missing\");\n",
       "        }\n",
       "      }\n",
       "    }, 10, root)\n",
       "  }\n",
       "})(window);"
      ],
      "application/vnd.bokehjs_exec.v0+json": ""
     },
     "metadata": {
      "application/vnd.bokehjs_exec.v0+json": {
       "id": "4112"
      }
     },
     "output_type": "display_data"
    }
   ],
   "source": [
    "layout = column()\n",
    "for c in tqdm(similarity_scores.sort_values(by=['ks'], ascending=True).head(5).index):\n",
    "    layout.children.append(ks_bar_plot(c))\n",
    "\n",
    "show(layout)"
   ]
  },
  {
   "cell_type": "code",
   "execution_count": 79,
   "metadata": {},
   "outputs": [
    {
     "data": {
      "text/html": [
       "<div>\n",
       "<style scoped>\n",
       "    .dataframe tbody tr th:only-of-type {\n",
       "        vertical-align: middle;\n",
       "    }\n",
       "\n",
       "    .dataframe tbody tr th {\n",
       "        vertical-align: top;\n",
       "    }\n",
       "\n",
       "    .dataframe thead th {\n",
       "        text-align: right;\n",
       "    }\n",
       "</style>\n",
       "<table border=\"1\" class=\"dataframe\">\n",
       "  <thead>\n",
       "    <tr style=\"text-align: right;\">\n",
       "      <th></th>\n",
       "      <th>ks</th>\n",
       "      <th>p</th>\n",
       "    </tr>\n",
       "  </thead>\n",
       "  <tbody>\n",
       "    <tr>\n",
       "      <th>D19_DIGIT_SERV</th>\n",
       "      <td>0.021255</td>\n",
       "      <td>0.005409</td>\n",
       "    </tr>\n",
       "    <tr>\n",
       "      <th>D19_LEBENSMITTEL</th>\n",
       "      <td>0.011993</td>\n",
       "      <td>0.027410</td>\n",
       "    </tr>\n",
       "    <tr>\n",
       "      <th>D19_TELKO_ONLINE_DATUM</th>\n",
       "      <td>0.014892</td>\n",
       "      <td>0.840361</td>\n",
       "    </tr>\n",
       "    <tr>\n",
       "      <th>D19_VERSAND_ANZ_12</th>\n",
       "      <td>0.003825</td>\n",
       "      <td>0.402700</td>\n",
       "    </tr>\n",
       "    <tr>\n",
       "      <th>D19_VERSAND_ANZ_24</th>\n",
       "      <td>0.007181</td>\n",
       "      <td>0.001457</td>\n",
       "    </tr>\n",
       "    <tr>\n",
       "      <th>KBA13_CCM_1800</th>\n",
       "      <td>0.005202</td>\n",
       "      <td>0.003183</td>\n",
       "    </tr>\n",
       "    <tr>\n",
       "      <th>SOHO_KZ</th>\n",
       "      <td>0.001451</td>\n",
       "      <td>0.957509</td>\n",
       "    </tr>\n",
       "    <tr>\n",
       "      <th>TITEL_KZ</th>\n",
       "      <td>0.030428</td>\n",
       "      <td>0.245682</td>\n",
       "    </tr>\n",
       "  </tbody>\n",
       "</table>\n",
       "</div>"
      ],
      "text/plain": [
       "                              ks         p\n",
       "D19_DIGIT_SERV          0.021255  0.005409\n",
       "D19_LEBENSMITTEL        0.011993  0.027410\n",
       "D19_TELKO_ONLINE_DATUM  0.014892  0.840361\n",
       "D19_VERSAND_ANZ_12      0.003825  0.402700\n",
       "D19_VERSAND_ANZ_24      0.007181  0.001457\n",
       "KBA13_CCM_1800          0.005202  0.003183\n",
       "SOHO_KZ                 0.001451  0.957509\n",
       "TITEL_KZ                0.030428  0.245682"
      ]
     },
     "execution_count": 79,
     "metadata": {},
     "output_type": "execute_result"
    }
   ],
   "source": [
    "similarity_scores[similarity_scores['p'] > 0.001]"
   ]
  },
  {
   "cell_type": "code",
   "execution_count": 80,
   "metadata": {},
   "outputs": [],
   "source": [
    "# Drop columns that are distributed too similarly between datasets that they will not provide separation\n",
    "ks_cols_to_drop = similarity_scores[similarity_scores['p'] > 0.001].index\n",
    "azdias.drop(columns=ks_cols_to_drop, inplace=True)\n",
    "customers.drop(columns=ks_cols_to_drop, inplace=True)"
   ]
  },
  {
   "cell_type": "markdown",
   "metadata": {},
   "source": [
    "# UMAP"
   ]
  },
  {
   "cell_type": "code",
   "execution_count": 81,
   "metadata": {},
   "outputs": [],
   "source": [
    "# azdias_c = azdias.copy()\n",
    "# customers_c = customers.copy()\n",
    "# azdias_c['customer'] = False\n",
    "# customers_c['customer'] = True\n",
    "# combined_data = azdias_c.append(customers_c[azdias_c.columns])"
   ]
  },
  {
   "cell_type": "code",
   "execution_count": 82,
   "metadata": {},
   "outputs": [],
   "source": [
    "# mini_data = combined_data.sample(100000, random_state=42)\n",
    "# labels = mini_data['customer']\n",
    "# train = mini_data.drop(columns=['customer'])"
   ]
  },
  {
   "cell_type": "code",
   "execution_count": 83,
   "metadata": {
    "scrolled": true
   },
   "outputs": [],
   "source": [
    "# plots = []\n",
    "# for n_neighbors in tqdm([200, 500, 1000]):\n",
    "#     sub_plots = []\n",
    "#     for min_dist in tqdm([0.3, 0.99]): \n",
    "#         # gridsearch revealed default settings perform very well \n",
    "#         reducer = umap.UMAP(random_state=42, init='random', n_neighbors=n_neighbors, min_dist=min_dist)\n",
    "#         reducer.fit(train)\n",
    "#         embedding = reducer.transform(train)\n",
    "\n",
    "#         x = embedding[:,0]\n",
    "#         y = embedding[:,1]\n",
    "#         colors = labels.replace({False: Cividis[11][-1], True: Cividis[11][0]})\n",
    "\n",
    "#         p = figure(title=f\"Overall view of customers vs non-customers in dataset [n_neighbors = {n_neighbors}, min_dist = {min_dist}]\")\n",
    "\n",
    "#         p.scatter(x, y, radius=0.1,\n",
    "#                   fill_color=colors, fill_alpha=0.25,\n",
    "#                   line_color=None)\n",
    "        \n",
    "#         sub_plots.append(p)\n",
    "# #         layout.children.append(p)\n",
    "#     plots.append(sub_plots)\n",
    "\n",
    "# grid = gridplot(plots)\n",
    "# show(grid)"
   ]
  },
  {
   "cell_type": "code",
   "execution_count": 84,
   "metadata": {
    "scrolled": false
   },
   "outputs": [],
   "source": [
    "# layout = column()\n",
    "# for num_cols in [21]: # tqdm(range(15,25,1)):\n",
    "#     ks_most_dissimilar = similarity_scores.sort_values(by=['ks'], ascending=False).head(num_cols).index\n",
    "#     ks_mini_data = combined_data[[*ks_most_dissimilar, 'customer']].sample(100000, random_state=42)\n",
    "#     ks_labels = ks_mini_data['customer']\n",
    "#     ks_train = ks_mini_data.drop(columns=['customer'])\n",
    "\n",
    "#     ks_reducer = umap.UMAP(random_state=42, init='random', n_neighbors=15, min_dist=0.1)\n",
    "#     ks_reducer.fit(ks_train)\n",
    "#     ks_embedding = ks_reducer.transform(ks_train)\n",
    "\n",
    "#     x = ks_embedding[:,0]\n",
    "#     y = ks_embedding[:,1]\n",
    "#     colors = ks_labels.replace({False: Cividis[11][-1], True: Cividis[11][0]})\n",
    "\n",
    "#     p = figure(title=f\"Overall view of customers vs non-customers in dataset [top {num_cols} dissimilar columns]\")\n",
    "\n",
    "#     p.scatter(x, y, radius=0.1,\n",
    "#               fill_color=colors, fill_alpha=0.1,\n",
    "#               line_color=None)\n",
    "#     layout.children.append(p)\n",
    "\n",
    "# show(layout)"
   ]
  },
  {
   "cell_type": "code",
   "execution_count": 85,
   "metadata": {},
   "outputs": [],
   "source": [
    "# %%time\n",
    "# ks_emb_sample = ks_embedding\n",
    "# clustering = OPTICS(min_samples=1000, n_jobs=-1)\n",
    "# clustering.fit(ks_emb_sample)"
   ]
  },
  {
   "cell_type": "code",
   "execution_count": 86,
   "metadata": {},
   "outputs": [],
   "source": [
    "# max(clustering.labels_)"
   ]
  },
  {
   "cell_type": "code",
   "execution_count": 87,
   "metadata": {},
   "outputs": [],
   "source": [
    "# cluster_labels = list(pd.DataFrame(clustering.labels_).value_counts().index.get_level_values(0))"
   ]
  },
  {
   "cell_type": "code",
   "execution_count": 88,
   "metadata": {},
   "outputs": [],
   "source": [
    "# c = 0\n",
    "# r = dict()\n",
    "# for l in cluster_labels:\n",
    "#     if l == -1:\n",
    "#         r[l] = '#cfcfcf'\n",
    "#     elif c < len(Category10[10]):\n",
    "#         r[l] = Category10[10][c]\n",
    "#         c += 1\n",
    "#     else:\n",
    "#         r[l] = '#cfcfcf'"
   ]
  },
  {
   "cell_type": "code",
   "execution_count": 89,
   "metadata": {},
   "outputs": [],
   "source": [
    "# emb_arr = pd.DataFrame(np.vstack([ks_emb_sample.T, ks_labels.astype(int).values, clustering.labels_, ]).T, columns=['Emb_0', 'Emb_1', 'is_customer', 'Cluster'])\n",
    "# emb_arr.head(10)"
   ]
  },
  {
   "cell_type": "code",
   "execution_count": 90,
   "metadata": {},
   "outputs": [],
   "source": [
    "# locations = emb_arr.groupby('Cluster').mean().sort_values(by='is_customer', ascending=False).reset_index()\n",
    "# locations.merge((emb_arr['Cluster'].value_counts()/len(emb_arr)).rename('Cluster Size'), \n",
    "#                 left_on='Cluster', right_index=True)"
   ]
  },
  {
   "cell_type": "code",
   "execution_count": 91,
   "metadata": {},
   "outputs": [],
   "source": [
    "# colors = list(pd.Series(clustering.labels_).replace(r).values)\n",
    "\n",
    "# x = ks_embedding[:,0]\n",
    "# y = ks_embedding[:,1]\n",
    "\n",
    "# p = figure(title=f\"Clusters within the dataset ranked from highest to lowest customer density\")\n",
    "\n",
    "# p.scatter(x, y, radius=0.1,\n",
    "#           fill_color=colors, fill_alpha=0.25,\n",
    "#           line_color=None)\n",
    "\n",
    "\n",
    "# for k in locations.iterrows():\n",
    "#     l, xl, yl = k[0], k[1]['Emb_0'], k[1]['Emb_1']\n",
    "#     if l != -1:\n",
    "#         citation = Label(x=xl, y=yl, # x_units='screen', y_units='screen',\n",
    "#                          text=str(int(l)), render_mode='css',\n",
    "#                          border_line_color='black', border_line_alpha=1.0,\n",
    "#                          background_fill_color='white', background_fill_alpha=1.0)\n",
    "\n",
    "#         p.add_layout(citation)\n",
    "\n",
    "# show(p)"
   ]
  },
  {
   "cell_type": "code",
   "execution_count": 92,
   "metadata": {},
   "outputs": [],
   "source": [
    "# c_cols = list(set(customers.columns) - set(azdias.columns))\n",
    "# customer_groups = customers[c_cols].copy()\n",
    "\n",
    "# customer_groups['PRODUCT_GROUP_COSMETIC'] = (customer_groups['PRODUCT_GROUP'].str.find('COSMETIC') >= 0)\n",
    "# customer_groups['PRODUCT_GROUP_FOOD'] = (customer_groups['PRODUCT_GROUP'].str.find('FOOD') >= 0)\n",
    "# customer_groups.drop(columns='PRODUCT_GROUP', inplace=True)"
   ]
  },
  {
   "cell_type": "code",
   "execution_count": 93,
   "metadata": {},
   "outputs": [],
   "source": [
    "# label_groups = pd.merge(labels, customer_groups, left_index=True, right_index=True, how='left')\n",
    "# label_groups['ONLINE_PURCHASE'].fillna(-1, inplace=True)\n",
    "# label_groups['CUSTOMER_GROUP'].fillna('NONE', inplace=True)\n",
    "# label_groups['PRODUCT_GROUP_COSMETIC'].fillna(False, inplace=True)\n",
    "# label_groups['PRODUCT_GROUP_FOOD'].fillna(False, inplace=True)\n",
    "# label_groups.head()"
   ]
  },
  {
   "cell_type": "code",
   "execution_count": 94,
   "metadata": {
    "scrolled": false
   },
   "outputs": [],
   "source": [
    "# layout = column()\n",
    "# for k in ['ONLINE_PURCHASE', 'CUSTOMER_GROUP', 'PRODUCT_GROUP_COSMETIC', 'PRODUCT_GROUP_FOOD']:\n",
    "#     x = embedding[:,0]\n",
    "#     y = embedding[:,1]\n",
    "#     if k == 'ONLINE_PURCHASE':\n",
    "#         colors = label_groups[k].replace({-1: Category20[20][1], 0:Category20[20][4],  1: Category20[20][6]})\n",
    "#     elif k == 'CUSTOMER_GROUP':\n",
    "#         colors = label_groups[k].replace({'NONE': Category20[20][1], 'SINGLE_BUYER':Category20[20][4],  'MULTI_BUYER': Category20[20][6]})\n",
    "#     else: \n",
    "#         colors = label_groups[k].replace({False: Category20[20][1], True: Category20[20][6]})\n",
    "#     p = figure(title=k)\n",
    "\n",
    "#     p.scatter(x, y, radius=0.1,\n",
    "#               fill_color=colors, fill_alpha=0.25,\n",
    "#               line_color=None)\n",
    "\n",
    "#     layout.children.append(p)\n",
    "# show(layout)"
   ]
  },
  {
   "cell_type": "markdown",
   "metadata": {},
   "source": [
    "## Part 1: Customer Segmentation Report\n",
    "\n",
    "The main bulk of your analysis will come in this part of the project. Here, you should use unsupervised learning techniques to describe the relationship between the demographics of the company's existing customers and the general population of Germany. By the end of this part, you should be able to describe parts of the general population that are more likely to be part of the mail-order company's main customer base, and which parts of the general population are less so."
   ]
  },
  {
   "cell_type": "code",
   "execution_count": 95,
   "metadata": {},
   "outputs": [],
   "source": [
    "# find features that the distribution of customers and general population differ the most on (ignoring missing values)\n",
    "most_different = similarity_scores.sort_values(by=['ks'], ascending=False).index"
   ]
  },
  {
   "cell_type": "code",
   "execution_count": 96,
   "metadata": {},
   "outputs": [],
   "source": [
    "def output_col(c, attributes=attributes):\n",
    "    p = ks_bar_plot(c)\n",
    "    show(p)\n",
    "    display(attributes[attributes['Attribute'] == c])"
   ]
  },
  {
   "cell_type": "markdown",
   "metadata": {},
   "source": [
    "#### Customers vs  General Population:\n",
    "- Customers are typically older, growing up in the 40's - 60's, and older than 60 years of age.\n",
    "    - PRAEGENDE_JUGENDJAHRE\n",
    "    - ALTERSKATEGORIE_GROB\n",
    "    - LP_LEBENSPHASE_FEIN\n",
    "    - ALTER_HH\n",
    "    - LP_STATUS_FEIN\n",
    "- Customers are more likely to be male than general population (2:1 vs 1:1)\n",
    "    - ANREDE_KZ\n",
    "- Customers are wealthy and have a high income, with a greater chance of being a customer the more wealthy they are. \n",
    "    - HH_EINKOMMEN_SCORE\n",
    "    - LP_STATUS_FEIN\n",
    "- Customers have a higher interest in investing and saving, and lower in finance minimalism and preparedness\n",
    "    - FINANZ_SPARER\n",
    "    - FINANZ_ANLEGER\n",
    "    - FINANZ_VORSORGER\n",
    "    - FINANZ_MINIMALIST\n",
    "- Customers typically own their home\n",
    "    - LP_LEBENSPHASE_FEIN\n",
    "    - LP_STATUS_FEIN\n",
    "    - FINANZ_HAUSBAUER\n",
    "- Customers live in freestanding homes but more densely populated areas\n",
    "    - KBA05_ANTG1\n",
    "    - ANZ_HAUSHALTE_AKTIV\n",
    "    - KBA05_GBZ\n",
    "- Customers are more family orientated, and have multiple generations living in the same home\n",
    "    - LP_FAMILIE_FEIN\n",
    "    - ANZ_PERSONEN\n",
    "- Customers are immobile w.r.t. housing, staying at the same location for 10+ years, and not move home\n",
    "    - WOHNDAUER_2008\n",
    "    - MOBI_REGIO\n",
    "- Customers own more cars, and newer cars than the general population\n",
    "    - KBA05_AUTOQUOT\n",
    "    - KBA05_VORB2\n",
    "- Customers are critical, realistic, traditional and religious\n",
    "    - SEMIO_PFLICHT\n",
    "    - SEMIO_REL\n",
    "    - SEMIO_VERT\n",
    "    - SEMIO_KRIT\n",
    "    - SEMIO_TRADV\n",
    "    - SEMIO_LUST\n",
    "    - SEMIO_RAT\n",
    "\n",
    "\n",
    "#### Feature analysis\n",
    "- D19_KONSUMTYP: consumption type\n",
    "    - Customers are more likely to fall within the universal, versatile and gourmet groups\n",
    "    - Customers are less likely to fall within the family, informed, modern and inactive groups\n",
    "- PRAEGENDE_JUGENDJAHRE: dominating movement in the person's youth (avantgarde or mainstream)\n",
    "    - Customers are more likely to fall in the <= 60ies than > 60ies group\n",
    "- FINANZ_VORSORGER: financial typology: be prepared\n",
    "    - Customers rank low and very low on financial preparedness \n",
    "    - Customers are less likely to rank average, high or very high on financial preparedness \n",
    "- FINANZ_SPARER: financial typology: money saver\n",
    "    - Customers rank very high on saving money\n",
    "    - Customers are less likely to rank high, average, low, of very low on saving money\n",
    "- FINANZ_ANLEGER: financial typology: investor\n",
    "    - Customers rank very high on investing money\n",
    "    - Customers are less likely to rank high, average, low, of very low on investing money\n",
    "- FINANZ_MINIMALIST: financial typology: low financial interest\n",
    "    - Customers rank very low on financial interest\n",
    "    - Customers are less likely to rank low, average, high or very high on financial interest\n",
    "- LP_STATUS_FEIN: social status fine\n",
    "    - Customers are typically hoseowners, title-holder-households, and top earners\n",
    "    - Customers are not minimalistic high-income earners, orientationseeking low-income earners, or new houseowners\n",
    "- SEMIO_RAT: affinity indicating in what way the person is of a rational mind\n",
    "    - Customers are more likely to be rational individuals\n",
    "- ALTERSKATEGORIE_GROB: age classification through prename analysis\n",
    "    - Customer age is typically older than 60 years (this aligns with PRAEGENDE_JUGENDJAHRE)\n",
    "    - There is allso a large number of customers in the > 45 age group, but this is not larger than the general population\n",
    "- SEMIO_PFLICHT: affinity indicating in what way the person is dutyfull traditional minded\n",
    "    - Customers are more likely to show affinity with traditional values\n",
    "- ZABEOTYP: typification of energy consumers\n",
    "    - Customers are more likely to identify with green, smart or fair supplied energy types\n",
    "    - Customers are less likely to identify with price driven, seeking orentation, or indifferent energy types\n",
    "- HH_EINKOMMEN_SCORE: estimated household net income\n",
    "    - Customers are of above average to high household income\n",
    "- ANZ_HAUSHALTE_AKTIV: number of households in the building\n",
    "    - Customers typically have fewer households in the building than non customers\n",
    "- SEMIO_LUST: affinity indicating in what way the person is sensual minded\n",
    "    - Customers have low affinity with sensuality\n",
    "- LP_LEBENSPHASE_FEIN: lifestage fine\n",
    "    - Customers are top earners, homeowners, older age\n",
    "- KBA05_BAUMAX: most common building-type within the cell\n",
    "    - Customers are located in less densly populated areas with only 1-2 homes in a microcell\n",
    "- FINANZ_UNAUFFAELLIGER: financial typology: unremarkable\n",
    "    - HMMM?\n",
    "- SEMIO_TRADV: affinity indicating in what way the person is traditional minded\n",
    "    - More towards high affinity \n",
    "- SEMIO_KRIT: affinity indicating in what way the person is critical minded\n",
    "    - Higher affinity with being critically minded\n",
    "- ALTER_HH: main age within the household\n",
    "    - Customers birth years are more likely to be < 1955 than >= 1955\n",
    "- KBA05_ANTG1: number of 1-2 family houses in the cell\n",
    "    - Homes are typically 1-2 family homes\n",
    "- ANZ_PERSONEN: number of adult persons in the household\n",
    "    - More likely to have a larger number of adults in the household \n",
    "- LP_FAMILIE_FEIN: familytyp fine\n",
    "    - Less likely to be single\n",
    "    - More likely to be a coupe with multi genrations living in the same household\n",
    "- MOBI_REGIO: moving patterns\n",
    "    - Low to very low mobility compared to the general population \n",
    "- WOHNDAUER_2008: length of residence\n",
    "    - Living in the same location for more than 10 years\n",
    "- ANREDE_KZ\n",
    "    - More likely to be male compared to general population\n",
    "- SEMIO_VERT: affinity indicating in what way the person is dreamily\n",
    "    - low afinity to dreaming, i.e. more focused on reality\n",
    "- SEMIO_REL: affinity indicating in what way the person is religious\n",
    "    - More affinity with religion\n",
    "- KBA05_AUTOQUOT: share of cars per household\n",
    "    - Customers are more likely to have a high number of cars\n",
    "- KBA05_GBZ: number of buildings in the microcell\n",
    "    - more likely to have a large number of buildings in the microcell \n",
    "- KBA05_VORB2: share of cars with more than two preowner\n",
    "    - More likely to own newer cars than pre-owned cars\n",
    "- FINANZ_HAUSBAUER: financial typology: main focus is the own house\n",
    "    - High affinity with owning a home "
   ]
  },
  {
   "cell_type": "code",
   "execution_count": 97,
   "metadata": {
    "scrolled": true
   },
   "outputs": [
    {
     "data": {
      "text/html": [
       "\n",
       "\n",
       "\n",
       "\n",
       "\n",
       "\n",
       "  <div class=\"bk-root\" id=\"16a1f220-deb0-4e62-a1f8-d65536e2d40e\" data-root-id=\"4719\"></div>\n"
      ]
     },
     "metadata": {},
     "output_type": "display_data"
    },
    {
     "data": {
      "application/javascript": [
       "(function(root) {\n",
       "  function embed_document(root) {\n",
       "    \n",
       "  var docs_json = {\"e85769ed-d948-4a0c-a00d-cbff3f7199c6\":{\"defs\":[],\"roots\":{\"references\":[{\"attributes\":{\"below\":[{\"id\":\"4727\"}],\"center\":[{\"id\":\"4729\"},{\"id\":\"4733\"}],\"height\":500,\"left\":[{\"id\":\"4730\"}],\"renderers\":[{\"id\":\"4739\"}],\"title\":{\"id\":\"4741\"},\"toolbar\":{\"id\":\"4734\"},\"toolbar_location\":null,\"width\":950,\"x_range\":{\"id\":\"4718\"},\"x_scale\":{\"id\":\"4723\"},\"y_range\":{\"id\":\"4721\"},\"y_scale\":{\"id\":\"4725\"}},\"id\":\"4719\",\"subtype\":\"Figure\",\"type\":\"Plot\"},{\"attributes\":{\"start\":0},\"id\":\"4721\",\"type\":\"DataRange1d\"},{\"attributes\":{\"fill_alpha\":{\"value\":0.1},\"fill_color\":{\"field\":\"x\",\"transform\":{\"id\":\"4735\"}},\"line_alpha\":{\"value\":0.1},\"line_color\":{\"value\":null},\"top\":{\"field\":\"counts\"},\"width\":{\"value\":0.9},\"x\":{\"field\":\"x\"}},\"id\":\"4738\",\"type\":\"VBar\"},{\"attributes\":{\"fill_color\":{\"field\":\"x\",\"transform\":{\"id\":\"4735\"}},\"line_color\":{\"value\":null},\"top\":{\"field\":\"counts\"},\"width\":{\"value\":0.9},\"x\":{\"field\":\"x\"}},\"id\":\"4737\",\"type\":\"VBar\"},{\"attributes\":{},\"id\":\"4725\",\"type\":\"LinearScale\"},{\"attributes\":{},\"id\":\"4980\",\"type\":\"Selection\"},{\"attributes\":{\"data\":{\"counts\":[0.1859511561231474,0.2486072956149807,0.07778559285414649,0.20559168202524603,0.08410318844602288,0.3634941057829398,0.12342178387704186,0.03330667315783983,0.03851430842356592,0.010439197412803839,0.08920016022658815,0.05159787182251278,0.4010238100494873,0.08696317418367702],\"x\":[[\"Universal\",\"a\"],[\"Universal\",\"c\"],[\"Versatile\",\"a\"],[\"Versatile\",\"c\"],[\"Gourmet\",\"a\"],[\"Gourmet\",\"c\"],[\"Family\",\"a\"],[\"Family\",\"c\"],[\"Informed \",\"a\"],[\"Informed \",\"c\"],[\"Modern\",\"a\"],[\"Modern\",\"c\"],[\"Inactive\",\"a\"],[\"Inactive\",\"c\"]]},\"selected\":{\"id\":\"4980\"},\"selection_policy\":{\"id\":\"4979\"}},\"id\":\"4717\",\"type\":\"ColumnDataSource\"},{\"attributes\":{\"text\":\"D19_KONSUMTYP [ks:0.4699 p:0.0000]\"},\"id\":\"4741\",\"type\":\"Title\"},{\"attributes\":{\"formatter\":{\"id\":\"4973\"},\"major_label_policy\":{\"id\":\"4975\"},\"ticker\":{\"id\":\"4731\"}},\"id\":\"4730\",\"type\":\"LinearAxis\"},{\"attributes\":{},\"id\":\"4975\",\"type\":\"AllLabels\"},{\"attributes\":{\"active_multi\":null},\"id\":\"4734\",\"type\":\"Toolbar\"},{\"attributes\":{},\"id\":\"4979\",\"type\":\"UnionRenderers\"},{\"attributes\":{},\"id\":\"4978\",\"type\":\"AllLabels\"},{\"attributes\":{\"data_source\":{\"id\":\"4717\"},\"glyph\":{\"id\":\"4737\"},\"hover_glyph\":null,\"muted_glyph\":null,\"nonselection_glyph\":{\"id\":\"4738\"},\"view\":{\"id\":\"4740\"}},\"id\":\"4739\",\"type\":\"GlyphRenderer\"},{\"attributes\":{\"end\":2,\"factors\":[\"a\",\"c\"],\"palette\":[\"#1f77b4\",\"#ff7f0e\"],\"start\":1},\"id\":\"4735\",\"type\":\"CategoricalColorMapper\"},{\"attributes\":{},\"id\":\"4728\",\"type\":\"CategoricalTicker\"},{\"attributes\":{\"axis\":{\"id\":\"4730\"},\"dimension\":1,\"ticker\":null},\"id\":\"4733\",\"type\":\"Grid\"},{\"attributes\":{},\"id\":\"4973\",\"type\":\"BasicTickFormatter\"},{\"attributes\":{\"source\":{\"id\":\"4717\"}},\"id\":\"4740\",\"type\":\"CDSView\"},{\"attributes\":{},\"id\":\"4731\",\"type\":\"BasicTicker\"},{\"attributes\":{\"formatter\":{\"id\":\"4976\"},\"group_label_orientation\":1.5707963267948966,\"major_label_orientation\":0,\"major_label_policy\":{\"id\":\"4978\"},\"ticker\":{\"id\":\"4728\"}},\"id\":\"4727\",\"type\":\"CategoricalAxis\"},{\"attributes\":{\"factors\":[[\"Universal\",\"a\"],[\"Universal\",\"c\"],[\"Versatile\",\"a\"],[\"Versatile\",\"c\"],[\"Gourmet\",\"a\"],[\"Gourmet\",\"c\"],[\"Family\",\"a\"],[\"Family\",\"c\"],[\"Informed \",\"a\"],[\"Informed \",\"c\"],[\"Modern\",\"a\"],[\"Modern\",\"c\"],[\"Inactive\",\"a\"],[\"Inactive\",\"c\"]]},\"id\":\"4718\",\"type\":\"FactorRange\"},{\"attributes\":{},\"id\":\"4976\",\"type\":\"CategoricalTickFormatter\"},{\"attributes\":{},\"id\":\"4723\",\"type\":\"CategoricalScale\"},{\"attributes\":{\"axis\":{\"id\":\"4727\"},\"grid_line_color\":null,\"ticker\":null},\"id\":\"4729\",\"type\":\"Grid\"}],\"root_ids\":[\"4719\"]},\"title\":\"Bokeh Application\",\"version\":\"2.3.1\"}};\n",
       "  var render_items = [{\"docid\":\"e85769ed-d948-4a0c-a00d-cbff3f7199c6\",\"root_ids\":[\"4719\"],\"roots\":{\"4719\":\"16a1f220-deb0-4e62-a1f8-d65536e2d40e\"}}];\n",
       "  root.Bokeh.embed.embed_items_notebook(docs_json, render_items);\n",
       "\n",
       "  }\n",
       "  if (root.Bokeh !== undefined) {\n",
       "    embed_document(root);\n",
       "  } else {\n",
       "    var attempts = 0;\n",
       "    var timer = setInterval(function(root) {\n",
       "      if (root.Bokeh !== undefined) {\n",
       "        clearInterval(timer);\n",
       "        embed_document(root);\n",
       "      } else {\n",
       "        attempts++;\n",
       "        if (attempts > 100) {\n",
       "          clearInterval(timer);\n",
       "          console.log(\"Bokeh: ERROR: Unable to run BokehJS code because BokehJS library is missing\");\n",
       "        }\n",
       "      }\n",
       "    }, 10, root)\n",
       "  }\n",
       "})(window);"
      ],
      "application/vnd.bokehjs_exec.v0+json": ""
     },
     "metadata": {
      "application/vnd.bokehjs_exec.v0+json": {
       "id": "4719"
      }
     },
     "output_type": "display_data"
    },
    {
     "data": {
      "text/html": [
       "<div>\n",
       "<style scoped>\n",
       "    .dataframe tbody tr th:only-of-type {\n",
       "        vertical-align: middle;\n",
       "    }\n",
       "\n",
       "    .dataframe tbody tr th {\n",
       "        vertical-align: top;\n",
       "    }\n",
       "\n",
       "    .dataframe thead th {\n",
       "        text-align: right;\n",
       "    }\n",
       "</style>\n",
       "<table border=\"1\" class=\"dataframe\">\n",
       "  <thead>\n",
       "    <tr style=\"text-align: right;\">\n",
       "      <th></th>\n",
       "      <th>Attribute</th>\n",
       "      <th>Value</th>\n",
       "      <th>Meaning</th>\n",
       "    </tr>\n",
       "  </thead>\n",
       "  <tbody>\n",
       "    <tr>\n",
       "      <th>384</th>\n",
       "      <td>D19_KONSUMTYP</td>\n",
       "      <td>1</td>\n",
       "      <td>Universal</td>\n",
       "    </tr>\n",
       "    <tr>\n",
       "      <th>385</th>\n",
       "      <td>D19_KONSUMTYP</td>\n",
       "      <td>2</td>\n",
       "      <td>Versatile</td>\n",
       "    </tr>\n",
       "    <tr>\n",
       "      <th>386</th>\n",
       "      <td>D19_KONSUMTYP</td>\n",
       "      <td>3</td>\n",
       "      <td>Gourmet</td>\n",
       "    </tr>\n",
       "    <tr>\n",
       "      <th>387</th>\n",
       "      <td>D19_KONSUMTYP</td>\n",
       "      <td>4</td>\n",
       "      <td>Family</td>\n",
       "    </tr>\n",
       "    <tr>\n",
       "      <th>388</th>\n",
       "      <td>D19_KONSUMTYP</td>\n",
       "      <td>5</td>\n",
       "      <td>Informed</td>\n",
       "    </tr>\n",
       "    <tr>\n",
       "      <th>389</th>\n",
       "      <td>D19_KONSUMTYP</td>\n",
       "      <td>6</td>\n",
       "      <td>Modern</td>\n",
       "    </tr>\n",
       "    <tr>\n",
       "      <th>390</th>\n",
       "      <td>D19_KONSUMTYP</td>\n",
       "      <td>9</td>\n",
       "      <td>Inactive</td>\n",
       "    </tr>\n",
       "  </tbody>\n",
       "</table>\n",
       "</div>"
      ],
      "text/plain": [
       "         Attribute Value    Meaning\n",
       "384  D19_KONSUMTYP     1  Universal\n",
       "385  D19_KONSUMTYP     2  Versatile\n",
       "386  D19_KONSUMTYP     3    Gourmet\n",
       "387  D19_KONSUMTYP     4     Family\n",
       "388  D19_KONSUMTYP     5  Informed \n",
       "389  D19_KONSUMTYP     6     Modern\n",
       "390  D19_KONSUMTYP     9   Inactive"
      ]
     },
     "metadata": {},
     "output_type": "display_data"
    },
    {
     "name": "stdout",
     "output_type": "stream",
     "text": [
      "==========================================================================================================================================================================================================================================\n"
     ]
    },
    {
     "data": {
      "text/html": [
       "\n",
       "\n",
       "\n",
       "\n",
       "\n",
       "\n",
       "  <div class=\"bk-root\" id=\"9005ebae-87f1-4880-aa7f-4e72c6d809de\" data-root-id=\"5033\"></div>\n"
      ]
     },
     "metadata": {},
     "output_type": "display_data"
    },
    {
     "data": {
      "application/javascript": [
       "(function(root) {\n",
       "  function embed_document(root) {\n",
       "    \n",
       "  var docs_json = {\"83119542-d067-42bc-95c6-5983c5dd721c\":{\"defs\":[],\"roots\":{\"references\":[{\"attributes\":{\"below\":[{\"id\":\"5041\"}],\"center\":[{\"id\":\"5043\"},{\"id\":\"5047\"}],\"height\":500,\"left\":[{\"id\":\"5044\"}],\"renderers\":[{\"id\":\"5053\"}],\"title\":{\"id\":\"5055\"},\"toolbar\":{\"id\":\"5048\"},\"toolbar_location\":null,\"width\":950,\"x_range\":{\"id\":\"5032\"},\"x_scale\":{\"id\":\"5037\"},\"y_range\":{\"id\":\"5035\"},\"y_scale\":{\"id\":\"5039\"}},\"id\":\"5033\",\"subtype\":\"Figure\",\"type\":\"Plot\"},{\"attributes\":{\"data\":{\"counts\":[0.027181499925283445,0.0726743779459278,0.009552224318259321,0.07901730142523462,0.07046856859682307,0.1422717037078479,0.026120141667699076,0.15515336307817112,0.11035571466705153,0.12404716281802033,0.03276161331563977,0.108004531658671,0.005119041993258906,0.006014238359651454,0.18640822827248937,0.10415122312824314,0.042875808311801766,0.07777948725121334,0.10958300498493535,0.035162314502706404,0.04566139478567843,0.04364518790998224,0.031214916745321276,0.004979229897757948,0.007361815880525034,0.004084087444228429,0.2409947391881312,0.02523182790886331,0.05434128734710247,0.017783962963480986],\"x\":[[\"40ies - war years (Mainstream, O+W)\",\"a\"],[\"40ies - war years (Mainstream, O+W)\",\"c\"],[\"40ies - reconstruction years (Avantgarde, O+W)\",\"a\"],[\"40ies - reconstruction years (Avantgarde, O+W)\",\"c\"],[\"50ies - economic miracle (Mainstream, O+W)\",\"a\"],[\"50ies - economic miracle (Mainstream, O+W)\",\"c\"],[\"50ies - milk bar / Individualisation (Avantgarde, O+W)\",\"a\"],[\"50ies - milk bar / Individualisation (Avantgarde, O+W)\",\"c\"],[\"60ies - economic miracle (Mainstream, O+W)\",\"a\"],[\"60ies - economic miracle (Mainstream, O+W)\",\"c\"],[\"60ies - generation 68 / student protestors (Avantgarde, W)\",\"a\"],[\"60ies - generation 68 / student protestors (Avantgarde, W)\",\"c\"],[\"60ies - opponents to the building of the Wall (Avantgarde, O)\",\"a\"],[\"60ies - opponents to the building of the Wall (Avantgarde, O)\",\"c\"],[\"70ies - family orientation (Mainstream, O+W)\",\"a\"],[\"70ies - family orientation (Mainstream, O+W)\",\"c\"],[\"70ies - peace movement (Avantgarde, O+W)\",\"a\"],[\"70ies - peace movement (Avantgarde, O+W)\",\"c\"],[\"80ies - Generation Golf (Mainstream, W)\",\"a\"],[\"80ies - Generation Golf (Mainstream, W)\",\"c\"],[\"80ies - ecological awareness (Avantgarde, W)\",\"a\"],[\"80ies - ecological awareness (Avantgarde, W)\",\"c\"],[\"80ies - FDJ / communist party youth organisation (Mainstream, O)\",\"a\"],[\"80ies - FDJ / communist party youth organisation (Mainstream, O)\",\"c\"],[\"80ies - Swords into ploughshares (Avantgarde, O)\",\"a\"],[\"80ies - Swords into ploughshares (Avantgarde, O)\",\"c\"],[\"90ies - digital media kids (Mainstream, O+W)\",\"a\"],[\"90ies - digital media kids (Mainstream, O+W)\",\"c\"],[\"90ies - ecological awareness (Avantgarde, O+W)\",\"a\"],[\"90ies - ecological awareness (Avantgarde, O+W)\",\"c\"]]},\"selected\":{\"id\":\"5304\"},\"selection_policy\":{\"id\":\"5303\"}},\"id\":\"5031\",\"type\":\"ColumnDataSource\"},{\"attributes\":{},\"id\":\"5299\",\"type\":\"AllLabels\"},{\"attributes\":{\"text\":\"PRAEGENDE_JUGENDJAHRE [ks:0.4056 p:0.0000]\"},\"id\":\"5055\",\"type\":\"Title\"},{\"attributes\":{},\"id\":\"5045\",\"type\":\"BasicTicker\"},{\"attributes\":{\"end\":2,\"factors\":[\"a\",\"c\"],\"palette\":[\"#1f77b4\",\"#ff7f0e\"],\"start\":1},\"id\":\"5049\",\"type\":\"CategoricalColorMapper\"},{\"attributes\":{\"axis\":{\"id\":\"5044\"},\"dimension\":1,\"ticker\":null},\"id\":\"5047\",\"type\":\"Grid\"},{\"attributes\":{},\"id\":\"5037\",\"type\":\"CategoricalScale\"},{\"attributes\":{},\"id\":\"5300\",\"type\":\"CategoricalTickFormatter\"},{\"attributes\":{\"data_source\":{\"id\":\"5031\"},\"glyph\":{\"id\":\"5051\"},\"hover_glyph\":null,\"muted_glyph\":null,\"nonselection_glyph\":{\"id\":\"5052\"},\"view\":{\"id\":\"5054\"}},\"id\":\"5053\",\"type\":\"GlyphRenderer\"},{\"attributes\":{},\"id\":\"5042\",\"type\":\"CategoricalTicker\"},{\"attributes\":{\"fill_color\":{\"field\":\"x\",\"transform\":{\"id\":\"5049\"}},\"line_color\":{\"value\":null},\"top\":{\"field\":\"counts\"},\"width\":{\"value\":0.9},\"x\":{\"field\":\"x\"}},\"id\":\"5051\",\"type\":\"VBar\"},{\"attributes\":{},\"id\":\"5304\",\"type\":\"Selection\"},{\"attributes\":{\"source\":{\"id\":\"5031\"}},\"id\":\"5054\",\"type\":\"CDSView\"},{\"attributes\":{\"active_multi\":null},\"id\":\"5048\",\"type\":\"Toolbar\"},{\"attributes\":{\"axis\":{\"id\":\"5041\"},\"grid_line_color\":null,\"ticker\":null},\"id\":\"5043\",\"type\":\"Grid\"},{\"attributes\":{\"fill_alpha\":{\"value\":0.1},\"fill_color\":{\"field\":\"x\",\"transform\":{\"id\":\"5049\"}},\"line_alpha\":{\"value\":0.1},\"line_color\":{\"value\":null},\"top\":{\"field\":\"counts\"},\"width\":{\"value\":0.9},\"x\":{\"field\":\"x\"}},\"id\":\"5052\",\"type\":\"VBar\"},{\"attributes\":{},\"id\":\"5039\",\"type\":\"LinearScale\"},{\"attributes\":{\"formatter\":{\"id\":\"5297\"},\"major_label_policy\":{\"id\":\"5299\"},\"ticker\":{\"id\":\"5045\"}},\"id\":\"5044\",\"type\":\"LinearAxis\"},{\"attributes\":{},\"id\":\"5303\",\"type\":\"UnionRenderers\"},{\"attributes\":{\"start\":0},\"id\":\"5035\",\"type\":\"DataRange1d\"},{\"attributes\":{},\"id\":\"5302\",\"type\":\"AllLabels\"},{\"attributes\":{\"factors\":[[\"40ies - war years (Mainstream, O+W)\",\"a\"],[\"40ies - war years (Mainstream, O+W)\",\"c\"],[\"40ies - reconstruction years (Avantgarde, O+W)\",\"a\"],[\"40ies - reconstruction years (Avantgarde, O+W)\",\"c\"],[\"50ies - economic miracle (Mainstream, O+W)\",\"a\"],[\"50ies - economic miracle (Mainstream, O+W)\",\"c\"],[\"50ies - milk bar / Individualisation (Avantgarde, O+W)\",\"a\"],[\"50ies - milk bar / Individualisation (Avantgarde, O+W)\",\"c\"],[\"60ies - economic miracle (Mainstream, O+W)\",\"a\"],[\"60ies - economic miracle (Mainstream, O+W)\",\"c\"],[\"60ies - generation 68 / student protestors (Avantgarde, W)\",\"a\"],[\"60ies - generation 68 / student protestors (Avantgarde, W)\",\"c\"],[\"60ies - opponents to the building of the Wall (Avantgarde, O)\",\"a\"],[\"60ies - opponents to the building of the Wall (Avantgarde, O)\",\"c\"],[\"70ies - family orientation (Mainstream, O+W)\",\"a\"],[\"70ies - family orientation (Mainstream, O+W)\",\"c\"],[\"70ies - peace movement (Avantgarde, O+W)\",\"a\"],[\"70ies - peace movement (Avantgarde, O+W)\",\"c\"],[\"80ies - Generation Golf (Mainstream, W)\",\"a\"],[\"80ies - Generation Golf (Mainstream, W)\",\"c\"],[\"80ies - ecological awareness (Avantgarde, W)\",\"a\"],[\"80ies - ecological awareness (Avantgarde, W)\",\"c\"],[\"80ies - FDJ / communist party youth organisation (Mainstream, O)\",\"a\"],[\"80ies - FDJ / communist party youth organisation (Mainstream, O)\",\"c\"],[\"80ies - Swords into ploughshares (Avantgarde, O)\",\"a\"],[\"80ies - Swords into ploughshares (Avantgarde, O)\",\"c\"],[\"90ies - digital media kids (Mainstream, O+W)\",\"a\"],[\"90ies - digital media kids (Mainstream, O+W)\",\"c\"],[\"90ies - ecological awareness (Avantgarde, O+W)\",\"a\"],[\"90ies - ecological awareness (Avantgarde, O+W)\",\"c\"]]},\"id\":\"5032\",\"type\":\"FactorRange\"},{\"attributes\":{\"formatter\":{\"id\":\"5300\"},\"group_label_orientation\":1.5707963267948966,\"major_label_orientation\":0,\"major_label_policy\":{\"id\":\"5302\"},\"ticker\":{\"id\":\"5042\"}},\"id\":\"5041\",\"type\":\"CategoricalAxis\"},{\"attributes\":{},\"id\":\"5297\",\"type\":\"BasicTickFormatter\"}],\"root_ids\":[\"5033\"]},\"title\":\"Bokeh Application\",\"version\":\"2.3.1\"}};\n",
       "  var render_items = [{\"docid\":\"83119542-d067-42bc-95c6-5983c5dd721c\",\"root_ids\":[\"5033\"],\"roots\":{\"5033\":\"9005ebae-87f1-4880-aa7f-4e72c6d809de\"}}];\n",
       "  root.Bokeh.embed.embed_items_notebook(docs_json, render_items);\n",
       "\n",
       "  }\n",
       "  if (root.Bokeh !== undefined) {\n",
       "    embed_document(root);\n",
       "  } else {\n",
       "    var attempts = 0;\n",
       "    var timer = setInterval(function(root) {\n",
       "      if (root.Bokeh !== undefined) {\n",
       "        clearInterval(timer);\n",
       "        embed_document(root);\n",
       "      } else {\n",
       "        attempts++;\n",
       "        if (attempts > 100) {\n",
       "          clearInterval(timer);\n",
       "          console.log(\"Bokeh: ERROR: Unable to run BokehJS code because BokehJS library is missing\");\n",
       "        }\n",
       "      }\n",
       "    }, 10, root)\n",
       "  }\n",
       "})(window);"
      ],
      "application/vnd.bokehjs_exec.v0+json": ""
     },
     "metadata": {
      "application/vnd.bokehjs_exec.v0+json": {
       "id": "5033"
      }
     },
     "output_type": "display_data"
    },
    {
     "data": {
      "text/html": [
       "<div>\n",
       "<style scoped>\n",
       "    .dataframe tbody tr th:only-of-type {\n",
       "        vertical-align: middle;\n",
       "    }\n",
       "\n",
       "    .dataframe tbody tr th {\n",
       "        vertical-align: top;\n",
       "    }\n",
       "\n",
       "    .dataframe thead th {\n",
       "        text-align: right;\n",
       "    }\n",
       "</style>\n",
       "<table border=\"1\" class=\"dataframe\">\n",
       "  <thead>\n",
       "    <tr style=\"text-align: right;\">\n",
       "      <th></th>\n",
       "      <th>Attribute</th>\n",
       "      <th>Value</th>\n",
       "      <th>Meaning</th>\n",
       "    </tr>\n",
       "  </thead>\n",
       "  <tbody>\n",
       "    <tr>\n",
       "      <th>2054</th>\n",
       "      <td>PRAEGENDE_JUGENDJAHRE</td>\n",
       "      <td>-1, 0</td>\n",
       "      <td>unknown</td>\n",
       "    </tr>\n",
       "    <tr>\n",
       "      <th>2055</th>\n",
       "      <td>PRAEGENDE_JUGENDJAHRE</td>\n",
       "      <td>1</td>\n",
       "      <td>40ies - war years (Mainstream, O+W)</td>\n",
       "    </tr>\n",
       "    <tr>\n",
       "      <th>2056</th>\n",
       "      <td>PRAEGENDE_JUGENDJAHRE</td>\n",
       "      <td>2</td>\n",
       "      <td>40ies - reconstruction years (Avantgarde, O+W)</td>\n",
       "    </tr>\n",
       "    <tr>\n",
       "      <th>2057</th>\n",
       "      <td>PRAEGENDE_JUGENDJAHRE</td>\n",
       "      <td>3</td>\n",
       "      <td>50ies - economic miracle (Mainstream, O+W)</td>\n",
       "    </tr>\n",
       "    <tr>\n",
       "      <th>2058</th>\n",
       "      <td>PRAEGENDE_JUGENDJAHRE</td>\n",
       "      <td>4</td>\n",
       "      <td>50ies - milk bar / Individualisation (Avantgar...</td>\n",
       "    </tr>\n",
       "    <tr>\n",
       "      <th>2059</th>\n",
       "      <td>PRAEGENDE_JUGENDJAHRE</td>\n",
       "      <td>5</td>\n",
       "      <td>60ies - economic miracle (Mainstream, O+W)</td>\n",
       "    </tr>\n",
       "    <tr>\n",
       "      <th>2060</th>\n",
       "      <td>PRAEGENDE_JUGENDJAHRE</td>\n",
       "      <td>6</td>\n",
       "      <td>60ies - generation 68 / student protestors (Av...</td>\n",
       "    </tr>\n",
       "    <tr>\n",
       "      <th>2061</th>\n",
       "      <td>PRAEGENDE_JUGENDJAHRE</td>\n",
       "      <td>7</td>\n",
       "      <td>60ies - opponents to the building of the Wall ...</td>\n",
       "    </tr>\n",
       "    <tr>\n",
       "      <th>2062</th>\n",
       "      <td>PRAEGENDE_JUGENDJAHRE</td>\n",
       "      <td>8</td>\n",
       "      <td>70ies - family orientation (Mainstream, O+W)</td>\n",
       "    </tr>\n",
       "    <tr>\n",
       "      <th>2063</th>\n",
       "      <td>PRAEGENDE_JUGENDJAHRE</td>\n",
       "      <td>9</td>\n",
       "      <td>70ies - peace movement (Avantgarde, O+W)</td>\n",
       "    </tr>\n",
       "    <tr>\n",
       "      <th>2064</th>\n",
       "      <td>PRAEGENDE_JUGENDJAHRE</td>\n",
       "      <td>10</td>\n",
       "      <td>80ies - Generation Golf (Mainstream, W)</td>\n",
       "    </tr>\n",
       "    <tr>\n",
       "      <th>2065</th>\n",
       "      <td>PRAEGENDE_JUGENDJAHRE</td>\n",
       "      <td>11</td>\n",
       "      <td>80ies - ecological awareness (Avantgarde, W)</td>\n",
       "    </tr>\n",
       "    <tr>\n",
       "      <th>2066</th>\n",
       "      <td>PRAEGENDE_JUGENDJAHRE</td>\n",
       "      <td>12</td>\n",
       "      <td>80ies - FDJ / communist party youth organisati...</td>\n",
       "    </tr>\n",
       "    <tr>\n",
       "      <th>2067</th>\n",
       "      <td>PRAEGENDE_JUGENDJAHRE</td>\n",
       "      <td>13</td>\n",
       "      <td>80ies - Swords into ploughshares (Avantgarde, O)</td>\n",
       "    </tr>\n",
       "    <tr>\n",
       "      <th>2068</th>\n",
       "      <td>PRAEGENDE_JUGENDJAHRE</td>\n",
       "      <td>14</td>\n",
       "      <td>90ies - digital media kids (Mainstream, O+W)</td>\n",
       "    </tr>\n",
       "    <tr>\n",
       "      <th>2069</th>\n",
       "      <td>PRAEGENDE_JUGENDJAHRE</td>\n",
       "      <td>15</td>\n",
       "      <td>90ies - ecological awareness (Avantgarde, O+W)</td>\n",
       "    </tr>\n",
       "  </tbody>\n",
       "</table>\n",
       "</div>"
      ],
      "text/plain": [
       "                  Attribute  Value  \\\n",
       "2054  PRAEGENDE_JUGENDJAHRE  -1, 0   \n",
       "2055  PRAEGENDE_JUGENDJAHRE      1   \n",
       "2056  PRAEGENDE_JUGENDJAHRE      2   \n",
       "2057  PRAEGENDE_JUGENDJAHRE      3   \n",
       "2058  PRAEGENDE_JUGENDJAHRE      4   \n",
       "2059  PRAEGENDE_JUGENDJAHRE      5   \n",
       "2060  PRAEGENDE_JUGENDJAHRE      6   \n",
       "2061  PRAEGENDE_JUGENDJAHRE      7   \n",
       "2062  PRAEGENDE_JUGENDJAHRE      8   \n",
       "2063  PRAEGENDE_JUGENDJAHRE      9   \n",
       "2064  PRAEGENDE_JUGENDJAHRE     10   \n",
       "2065  PRAEGENDE_JUGENDJAHRE     11   \n",
       "2066  PRAEGENDE_JUGENDJAHRE     12   \n",
       "2067  PRAEGENDE_JUGENDJAHRE     13   \n",
       "2068  PRAEGENDE_JUGENDJAHRE     14   \n",
       "2069  PRAEGENDE_JUGENDJAHRE     15   \n",
       "\n",
       "                                                Meaning  \n",
       "2054                                            unknown  \n",
       "2055                40ies - war years (Mainstream, O+W)  \n",
       "2056     40ies - reconstruction years (Avantgarde, O+W)  \n",
       "2057         50ies - economic miracle (Mainstream, O+W)  \n",
       "2058  50ies - milk bar / Individualisation (Avantgar...  \n",
       "2059         60ies - economic miracle (Mainstream, O+W)  \n",
       "2060  60ies - generation 68 / student protestors (Av...  \n",
       "2061  60ies - opponents to the building of the Wall ...  \n",
       "2062       70ies - family orientation (Mainstream, O+W)  \n",
       "2063           70ies - peace movement (Avantgarde, O+W)  \n",
       "2064            80ies - Generation Golf (Mainstream, W)  \n",
       "2065       80ies - ecological awareness (Avantgarde, W)  \n",
       "2066  80ies - FDJ / communist party youth organisati...  \n",
       "2067   80ies - Swords into ploughshares (Avantgarde, O)  \n",
       "2068       90ies - digital media kids (Mainstream, O+W)  \n",
       "2069     90ies - ecological awareness (Avantgarde, O+W)  "
      ]
     },
     "metadata": {},
     "output_type": "display_data"
    },
    {
     "name": "stdout",
     "output_type": "stream",
     "text": [
      "==========================================================================================================================================================================================================================================\n"
     ]
    },
    {
     "data": {
      "text/html": [
       "\n",
       "\n",
       "\n",
       "\n",
       "\n",
       "\n",
       "  <div class=\"bk-root\" id=\"bf8f4212-57c2-4c53-8983-cff61108e255\" data-root-id=\"5357\"></div>\n"
      ]
     },
     "metadata": {},
     "output_type": "display_data"
    },
    {
     "data": {
      "application/javascript": [
       "(function(root) {\n",
       "  function embed_document(root) {\n",
       "    \n",
       "  var docs_json = {\"c7bdcf6c-dc5b-40d6-9e97-30796a62905b\":{\"defs\":[],\"roots\":{\"references\":[{\"attributes\":{\"below\":[{\"id\":\"5365\"}],\"center\":[{\"id\":\"5367\"},{\"id\":\"5371\"}],\"height\":500,\"left\":[{\"id\":\"5368\"}],\"renderers\":[{\"id\":\"5377\"}],\"title\":{\"id\":\"5379\"},\"toolbar\":{\"id\":\"5372\"},\"toolbar_location\":null,\"width\":950,\"x_range\":{\"id\":\"5356\"},\"x_scale\":{\"id\":\"5361\"},\"y_range\":{\"id\":\"5359\"},\"y_scale\":{\"id\":\"5363\"}},\"id\":\"5357\",\"subtype\":\"Figure\",\"type\":\"Plot\"},{\"attributes\":{\"start\":0},\"id\":\"5359\",\"type\":\"DataRange1d\"},{\"attributes\":{\"fill_alpha\":{\"value\":0.1},\"fill_color\":{\"field\":\"x\",\"transform\":{\"id\":\"5373\"}},\"line_alpha\":{\"value\":0.1},\"line_color\":{\"value\":null},\"top\":{\"field\":\"counts\"},\"width\":{\"value\":0.9},\"x\":{\"field\":\"x\"}},\"id\":\"5376\",\"type\":\"VBar\"},{\"attributes\":{},\"id\":\"5361\",\"type\":\"CategoricalScale\"},{\"attributes\":{\"axis\":{\"id\":\"5365\"},\"grid_line_color\":null,\"ticker\":null},\"id\":\"5367\",\"type\":\"Grid\"},{\"attributes\":{\"formatter\":{\"id\":\"5634\"},\"group_label_orientation\":1.5707963267948966,\"major_label_orientation\":0,\"major_label_policy\":{\"id\":\"5636\"},\"ticker\":{\"id\":\"5366\"}},\"id\":\"5365\",\"type\":\"CategoricalAxis\"},{\"attributes\":{\"factors\":[[\"very high\",\"a\"],[\"very high\",\"c\"],[\"high\",\"a\"],[\"high\",\"c\"],[\"average\",\"a\"],[\"average\",\"c\"],[\"low\",\"a\"],[\"low\",\"c\"],[\"very low\",\"a\"],[\"very low\",\"c\"]]},\"id\":\"5356\",\"type\":\"FactorRange\"},{\"attributes\":{},\"id\":\"5634\",\"type\":\"CategoricalTickFormatter\"},{\"attributes\":{\"data_source\":{\"id\":\"5355\"},\"glyph\":{\"id\":\"5375\"},\"hover_glyph\":null,\"muted_glyph\":null,\"nonselection_glyph\":{\"id\":\"5376\"},\"view\":{\"id\":\"5378\"}},\"id\":\"5377\",\"type\":\"GlyphRenderer\"},{\"attributes\":{\"fill_color\":{\"field\":\"x\",\"transform\":{\"id\":\"5373\"}},\"line_color\":{\"value\":null},\"top\":{\"field\":\"counts\"},\"width\":{\"value\":0.9},\"x\":{\"field\":\"x\"}},\"id\":\"5375\",\"type\":\"VBar\"},{\"attributes\":{},\"id\":\"5366\",\"type\":\"CategoricalTicker\"},{\"attributes\":{\"axis\":{\"id\":\"5368\"},\"dimension\":1,\"ticker\":null},\"id\":\"5371\",\"type\":\"Grid\"},{\"attributes\":{\"data\":{\"counts\":[0.12439714012573339,0.01790468583599574,0.13888365728235655,0.02218450479233227,0.2118478802457451,0.08728700745473908,0.23621617369039644,0.1792332268370607,0.2886551486557685,0.6933905750798722],\"x\":[[\"very high\",\"a\"],[\"very high\",\"c\"],[\"high\",\"a\"],[\"high\",\"c\"],[\"average\",\"a\"],[\"average\",\"c\"],[\"low\",\"a\"],[\"low\",\"c\"],[\"very low\",\"a\"],[\"very low\",\"c\"]]},\"selected\":{\"id\":\"5638\"},\"selection_policy\":{\"id\":\"5637\"}},\"id\":\"5355\",\"type\":\"ColumnDataSource\"},{\"attributes\":{},\"id\":\"5636\",\"type\":\"AllLabels\"},{\"attributes\":{},\"id\":\"5363\",\"type\":\"LinearScale\"},{\"attributes\":{},\"id\":\"5633\",\"type\":\"AllLabels\"},{\"attributes\":{},\"id\":\"5638\",\"type\":\"Selection\"},{\"attributes\":{\"source\":{\"id\":\"5355\"}},\"id\":\"5378\",\"type\":\"CDSView\"},{\"attributes\":{},\"id\":\"5637\",\"type\":\"UnionRenderers\"},{\"attributes\":{\"formatter\":{\"id\":\"5631\"},\"major_label_policy\":{\"id\":\"5633\"},\"ticker\":{\"id\":\"5369\"}},\"id\":\"5368\",\"type\":\"LinearAxis\"},{\"attributes\":{\"active_multi\":null},\"id\":\"5372\",\"type\":\"Toolbar\"},{\"attributes\":{},\"id\":\"5631\",\"type\":\"BasicTickFormatter\"},{\"attributes\":{},\"id\":\"5369\",\"type\":\"BasicTicker\"},{\"attributes\":{\"end\":2,\"factors\":[\"a\",\"c\"],\"palette\":[\"#1f77b4\",\"#ff7f0e\"],\"start\":1},\"id\":\"5373\",\"type\":\"CategoricalColorMapper\"},{\"attributes\":{\"text\":\"FINANZ_VORSORGER [ks:0.4047 p:0.0000]\"},\"id\":\"5379\",\"type\":\"Title\"}],\"root_ids\":[\"5357\"]},\"title\":\"Bokeh Application\",\"version\":\"2.3.1\"}};\n",
       "  var render_items = [{\"docid\":\"c7bdcf6c-dc5b-40d6-9e97-30796a62905b\",\"root_ids\":[\"5357\"],\"roots\":{\"5357\":\"bf8f4212-57c2-4c53-8983-cff61108e255\"}}];\n",
       "  root.Bokeh.embed.embed_items_notebook(docs_json, render_items);\n",
       "\n",
       "  }\n",
       "  if (root.Bokeh !== undefined) {\n",
       "    embed_document(root);\n",
       "  } else {\n",
       "    var attempts = 0;\n",
       "    var timer = setInterval(function(root) {\n",
       "      if (root.Bokeh !== undefined) {\n",
       "        clearInterval(timer);\n",
       "        embed_document(root);\n",
       "      } else {\n",
       "        attempts++;\n",
       "        if (attempts > 100) {\n",
       "          clearInterval(timer);\n",
       "          console.log(\"Bokeh: ERROR: Unable to run BokehJS code because BokehJS library is missing\");\n",
       "        }\n",
       "      }\n",
       "    }, 10, root)\n",
       "  }\n",
       "})(window);"
      ],
      "application/vnd.bokehjs_exec.v0+json": ""
     },
     "metadata": {
      "application/vnd.bokehjs_exec.v0+json": {
       "id": "5357"
      }
     },
     "output_type": "display_data"
    },
    {
     "data": {
      "text/html": [
       "<div>\n",
       "<style scoped>\n",
       "    .dataframe tbody tr th:only-of-type {\n",
       "        vertical-align: middle;\n",
       "    }\n",
       "\n",
       "    .dataframe tbody tr th {\n",
       "        vertical-align: top;\n",
       "    }\n",
       "\n",
       "    .dataframe thead th {\n",
       "        text-align: right;\n",
       "    }\n",
       "</style>\n",
       "<table border=\"1\" class=\"dataframe\">\n",
       "  <thead>\n",
       "    <tr style=\"text-align: right;\">\n",
       "      <th></th>\n",
       "      <th>Attribute</th>\n",
       "      <th>Value</th>\n",
       "      <th>Meaning</th>\n",
       "    </tr>\n",
       "  </thead>\n",
       "  <tbody>\n",
       "    <tr>\n",
       "      <th>691</th>\n",
       "      <td>FINANZ_VORSORGER</td>\n",
       "      <td>-1</td>\n",
       "      <td>unknown</td>\n",
       "    </tr>\n",
       "    <tr>\n",
       "      <th>692</th>\n",
       "      <td>FINANZ_VORSORGER</td>\n",
       "      <td>1</td>\n",
       "      <td>very high</td>\n",
       "    </tr>\n",
       "    <tr>\n",
       "      <th>693</th>\n",
       "      <td>FINANZ_VORSORGER</td>\n",
       "      <td>2</td>\n",
       "      <td>high</td>\n",
       "    </tr>\n",
       "    <tr>\n",
       "      <th>694</th>\n",
       "      <td>FINANZ_VORSORGER</td>\n",
       "      <td>3</td>\n",
       "      <td>average</td>\n",
       "    </tr>\n",
       "    <tr>\n",
       "      <th>695</th>\n",
       "      <td>FINANZ_VORSORGER</td>\n",
       "      <td>4</td>\n",
       "      <td>low</td>\n",
       "    </tr>\n",
       "    <tr>\n",
       "      <th>696</th>\n",
       "      <td>FINANZ_VORSORGER</td>\n",
       "      <td>5</td>\n",
       "      <td>very low</td>\n",
       "    </tr>\n",
       "  </tbody>\n",
       "</table>\n",
       "</div>"
      ],
      "text/plain": [
       "            Attribute Value    Meaning\n",
       "691  FINANZ_VORSORGER    -1    unknown\n",
       "692  FINANZ_VORSORGER     1  very high\n",
       "693  FINANZ_VORSORGER     2       high\n",
       "694  FINANZ_VORSORGER     3    average\n",
       "695  FINANZ_VORSORGER     4        low\n",
       "696  FINANZ_VORSORGER     5   very low"
      ]
     },
     "metadata": {},
     "output_type": "display_data"
    },
    {
     "name": "stdout",
     "output_type": "stream",
     "text": [
      "==========================================================================================================================================================================================================================================\n"
     ]
    },
    {
     "data": {
      "text/html": [
       "\n",
       "\n",
       "\n",
       "\n",
       "\n",
       "\n",
       "  <div class=\"bk-root\" id=\"22f10c0f-5eaf-4b84-9f27-076b485ca2cf\" data-root-id=\"5691\"></div>\n"
      ]
     },
     "metadata": {},
     "output_type": "display_data"
    },
    {
     "data": {
      "application/javascript": [
       "(function(root) {\n",
       "  function embed_document(root) {\n",
       "    \n",
       "  var docs_json = {\"f7118869-e7f2-480e-9620-bb22896fdfd8\":{\"defs\":[],\"roots\":{\"references\":[{\"attributes\":{\"below\":[{\"id\":\"5699\"}],\"center\":[{\"id\":\"5701\"},{\"id\":\"5705\"}],\"height\":500,\"left\":[{\"id\":\"5702\"}],\"renderers\":[{\"id\":\"5711\"}],\"title\":{\"id\":\"5713\"},\"toolbar\":{\"id\":\"5706\"},\"toolbar_location\":null,\"width\":950,\"x_range\":{\"id\":\"5690\"},\"x_scale\":{\"id\":\"5695\"},\"y_range\":{\"id\":\"5693\"},\"y_scale\":{\"id\":\"5697\"}},\"id\":\"5691\",\"subtype\":\"Figure\",\"type\":\"Plot\"},{\"attributes\":{},\"id\":\"5982\",\"type\":\"Selection\"},{\"attributes\":{},\"id\":\"5975\",\"type\":\"BasicTickFormatter\"},{\"attributes\":{\"source\":{\"id\":\"5689\"}},\"id\":\"5712\",\"type\":\"CDSView\"},{\"attributes\":{},\"id\":\"5977\",\"type\":\"AllLabels\"},{\"attributes\":{\"active_multi\":null},\"id\":\"5706\",\"type\":\"Toolbar\"},{\"attributes\":{},\"id\":\"5978\",\"type\":\"CategoricalTickFormatter\"},{\"attributes\":{},\"id\":\"5695\",\"type\":\"CategoricalScale\"},{\"attributes\":{},\"id\":\"5981\",\"type\":\"UnionRenderers\"},{\"attributes\":{},\"id\":\"5700\",\"type\":\"CategoricalTicker\"},{\"attributes\":{},\"id\":\"5980\",\"type\":\"AllLabels\"},{\"attributes\":{},\"id\":\"5703\",\"type\":\"BasicTicker\"},{\"attributes\":{\"formatter\":{\"id\":\"5978\"},\"group_label_orientation\":1.5707963267948966,\"major_label_orientation\":0,\"major_label_policy\":{\"id\":\"5980\"},\"ticker\":{\"id\":\"5700\"}},\"id\":\"5699\",\"type\":\"CategoricalAxis\"},{\"attributes\":{\"axis\":{\"id\":\"5699\"},\"grid_line_color\":null,\"ticker\":null},\"id\":\"5701\",\"type\":\"Grid\"},{\"attributes\":{},\"id\":\"5697\",\"type\":\"LinearScale\"},{\"attributes\":{\"factors\":[[\"very high\",\"a\"],[\"very high\",\"c\"],[\"high\",\"a\"],[\"high\",\"c\"],[\"average\",\"a\"],[\"average\",\"c\"],[\"low\",\"a\"],[\"low\",\"c\"],[\"very low\",\"a\"],[\"very low\",\"c\"]]},\"id\":\"5690\",\"type\":\"FactorRange\"},{\"attributes\":{\"end\":2,\"factors\":[\"a\",\"c\"],\"palette\":[\"#1f77b4\",\"#ff7f0e\"],\"start\":1},\"id\":\"5707\",\"type\":\"CategoricalColorMapper\"},{\"attributes\":{\"data\":{\"counts\":[0.2981089927740256,0.699720447284345,0.18240519335620406,0.16456336528221513,0.16728452602042154,0.06020367412140575,0.17775992409270036,0.06281283280085197,0.17444136375664845,0.012699680511182108],\"x\":[[\"very high\",\"a\"],[\"very high\",\"c\"],[\"high\",\"a\"],[\"high\",\"c\"],[\"average\",\"a\"],[\"average\",\"c\"],[\"low\",\"a\"],[\"low\",\"c\"],[\"very low\",\"a\"],[\"very low\",\"c\"]]},\"selected\":{\"id\":\"5982\"},\"selection_policy\":{\"id\":\"5981\"}},\"id\":\"5689\",\"type\":\"ColumnDataSource\"},{\"attributes\":{\"text\":\"FINANZ_SPARER [ks:0.4016 p:0.0000]\"},\"id\":\"5713\",\"type\":\"Title\"},{\"attributes\":{\"start\":0},\"id\":\"5693\",\"type\":\"DataRange1d\"},{\"attributes\":{\"fill_color\":{\"field\":\"x\",\"transform\":{\"id\":\"5707\"}},\"line_color\":{\"value\":null},\"top\":{\"field\":\"counts\"},\"width\":{\"value\":0.9},\"x\":{\"field\":\"x\"}},\"id\":\"5709\",\"type\":\"VBar\"},{\"attributes\":{\"data_source\":{\"id\":\"5689\"},\"glyph\":{\"id\":\"5709\"},\"hover_glyph\":null,\"muted_glyph\":null,\"nonselection_glyph\":{\"id\":\"5710\"},\"view\":{\"id\":\"5712\"}},\"id\":\"5711\",\"type\":\"GlyphRenderer\"},{\"attributes\":{\"formatter\":{\"id\":\"5975\"},\"major_label_policy\":{\"id\":\"5977\"},\"ticker\":{\"id\":\"5703\"}},\"id\":\"5702\",\"type\":\"LinearAxis\"},{\"attributes\":{\"fill_alpha\":{\"value\":0.1},\"fill_color\":{\"field\":\"x\",\"transform\":{\"id\":\"5707\"}},\"line_alpha\":{\"value\":0.1},\"line_color\":{\"value\":null},\"top\":{\"field\":\"counts\"},\"width\":{\"value\":0.9},\"x\":{\"field\":\"x\"}},\"id\":\"5710\",\"type\":\"VBar\"},{\"attributes\":{\"axis\":{\"id\":\"5702\"},\"dimension\":1,\"ticker\":null},\"id\":\"5705\",\"type\":\"Grid\"}],\"root_ids\":[\"5691\"]},\"title\":\"Bokeh Application\",\"version\":\"2.3.1\"}};\n",
       "  var render_items = [{\"docid\":\"f7118869-e7f2-480e-9620-bb22896fdfd8\",\"root_ids\":[\"5691\"],\"roots\":{\"5691\":\"22f10c0f-5eaf-4b84-9f27-076b485ca2cf\"}}];\n",
       "  root.Bokeh.embed.embed_items_notebook(docs_json, render_items);\n",
       "\n",
       "  }\n",
       "  if (root.Bokeh !== undefined) {\n",
       "    embed_document(root);\n",
       "  } else {\n",
       "    var attempts = 0;\n",
       "    var timer = setInterval(function(root) {\n",
       "      if (root.Bokeh !== undefined) {\n",
       "        clearInterval(timer);\n",
       "        embed_document(root);\n",
       "      } else {\n",
       "        attempts++;\n",
       "        if (attempts > 100) {\n",
       "          clearInterval(timer);\n",
       "          console.log(\"Bokeh: ERROR: Unable to run BokehJS code because BokehJS library is missing\");\n",
       "        }\n",
       "      }\n",
       "    }, 10, root)\n",
       "  }\n",
       "})(window);"
      ],
      "application/vnd.bokehjs_exec.v0+json": ""
     },
     "metadata": {
      "application/vnd.bokehjs_exec.v0+json": {
       "id": "5691"
      }
     },
     "output_type": "display_data"
    },
    {
     "data": {
      "text/html": [
       "<div>\n",
       "<style scoped>\n",
       "    .dataframe tbody tr th:only-of-type {\n",
       "        vertical-align: middle;\n",
       "    }\n",
       "\n",
       "    .dataframe tbody tr th {\n",
       "        vertical-align: top;\n",
       "    }\n",
       "\n",
       "    .dataframe thead th {\n",
       "        text-align: right;\n",
       "    }\n",
       "</style>\n",
       "<table border=\"1\" class=\"dataframe\">\n",
       "  <thead>\n",
       "    <tr style=\"text-align: right;\">\n",
       "      <th></th>\n",
       "      <th>Attribute</th>\n",
       "      <th>Value</th>\n",
       "      <th>Meaning</th>\n",
       "    </tr>\n",
       "  </thead>\n",
       "  <tbody>\n",
       "    <tr>\n",
       "      <th>679</th>\n",
       "      <td>FINANZ_SPARER</td>\n",
       "      <td>-1</td>\n",
       "      <td>unknown</td>\n",
       "    </tr>\n",
       "    <tr>\n",
       "      <th>680</th>\n",
       "      <td>FINANZ_SPARER</td>\n",
       "      <td>1</td>\n",
       "      <td>very high</td>\n",
       "    </tr>\n",
       "    <tr>\n",
       "      <th>681</th>\n",
       "      <td>FINANZ_SPARER</td>\n",
       "      <td>2</td>\n",
       "      <td>high</td>\n",
       "    </tr>\n",
       "    <tr>\n",
       "      <th>682</th>\n",
       "      <td>FINANZ_SPARER</td>\n",
       "      <td>3</td>\n",
       "      <td>average</td>\n",
       "    </tr>\n",
       "    <tr>\n",
       "      <th>683</th>\n",
       "      <td>FINANZ_SPARER</td>\n",
       "      <td>4</td>\n",
       "      <td>low</td>\n",
       "    </tr>\n",
       "    <tr>\n",
       "      <th>684</th>\n",
       "      <td>FINANZ_SPARER</td>\n",
       "      <td>5</td>\n",
       "      <td>very low</td>\n",
       "    </tr>\n",
       "  </tbody>\n",
       "</table>\n",
       "</div>"
      ],
      "text/plain": [
       "         Attribute Value    Meaning\n",
       "679  FINANZ_SPARER    -1    unknown\n",
       "680  FINANZ_SPARER     1  very high\n",
       "681  FINANZ_SPARER     2       high\n",
       "682  FINANZ_SPARER     3    average\n",
       "683  FINANZ_SPARER     4        low\n",
       "684  FINANZ_SPARER     5   very low"
      ]
     },
     "metadata": {},
     "output_type": "display_data"
    },
    {
     "name": "stdout",
     "output_type": "stream",
     "text": [
      "==========================================================================================================================================================================================================================================\n"
     ]
    },
    {
     "data": {
      "text/html": [
       "\n",
       "\n",
       "\n",
       "\n",
       "\n",
       "\n",
       "  <div class=\"bk-root\" id=\"650d8b3c-1c5d-4464-b5d9-79a4b2ce2e6b\" data-root-id=\"6035\"></div>\n"
      ]
     },
     "metadata": {},
     "output_type": "display_data"
    },
    {
     "data": {
      "application/javascript": [
       "(function(root) {\n",
       "  function embed_document(root) {\n",
       "    \n",
       "  var docs_json = {\"bb70d125-dae9-4123-8c79-918141434595\":{\"defs\":[],\"roots\":{\"references\":[{\"attributes\":{\"below\":[{\"id\":\"6043\"}],\"center\":[{\"id\":\"6045\"},{\"id\":\"6049\"}],\"height\":500,\"left\":[{\"id\":\"6046\"}],\"renderers\":[{\"id\":\"6055\"}],\"title\":{\"id\":\"6057\"},\"toolbar\":{\"id\":\"6050\"},\"toolbar_location\":null,\"width\":950,\"x_range\":{\"id\":\"6034\"},\"x_scale\":{\"id\":\"6039\"},\"y_range\":{\"id\":\"6037\"},\"y_scale\":{\"id\":\"6041\"}},\"id\":\"6035\",\"subtype\":\"Figure\",\"type\":\"Plot\"},{\"attributes\":{\"source\":{\"id\":\"6033\"}},\"id\":\"6056\",\"type\":\"CDSView\"},{\"attributes\":{\"factors\":[[\"very high\",\"a\"],[\"very high\",\"c\"],[\"high\",\"a\"],[\"high\",\"c\"],[\"average\",\"a\"],[\"average\",\"c\"],[\"low\",\"a\"],[\"low\",\"c\"],[\"very low\",\"a\"],[\"very low\",\"c\"]]},\"id\":\"6034\",\"type\":\"FactorRange\"},{\"attributes\":{\"formatter\":{\"id\":\"6332\"},\"group_label_orientation\":1.5707963267948966,\"major_label_orientation\":0,\"major_label_policy\":{\"id\":\"6334\"},\"ticker\":{\"id\":\"6044\"}},\"id\":\"6043\",\"type\":\"CategoricalAxis\"},{\"attributes\":{},\"id\":\"6334\",\"type\":\"AllLabels\"},{\"attributes\":{\"axis\":{\"id\":\"6043\"},\"grid_line_color\":null,\"ticker\":null},\"id\":\"6045\",\"type\":\"Grid\"},{\"attributes\":{},\"id\":\"6039\",\"type\":\"CategoricalScale\"},{\"attributes\":{},\"id\":\"6332\",\"type\":\"CategoricalTickFormatter\"},{\"attributes\":{\"fill_color\":{\"field\":\"x\",\"transform\":{\"id\":\"6051\"}},\"line_color\":{\"value\":null},\"top\":{\"field\":\"counts\"},\"width\":{\"value\":0.9},\"x\":{\"field\":\"x\"}},\"id\":\"6053\",\"type\":\"VBar\"},{\"attributes\":{},\"id\":\"6047\",\"type\":\"BasicTicker\"},{\"attributes\":{\"start\":0},\"id\":\"6037\",\"type\":\"DataRange1d\"},{\"attributes\":{},\"id\":\"6336\",\"type\":\"Selection\"},{\"attributes\":{},\"id\":\"6329\",\"type\":\"BasicTickFormatter\"},{\"attributes\":{\"formatter\":{\"id\":\"6329\"},\"major_label_policy\":{\"id\":\"6331\"},\"ticker\":{\"id\":\"6047\"}},\"id\":\"6046\",\"type\":\"LinearAxis\"},{\"attributes\":{\"active_multi\":null},\"id\":\"6050\",\"type\":\"Toolbar\"},{\"attributes\":{},\"id\":\"6041\",\"type\":\"LinearScale\"},{\"attributes\":{},\"id\":\"6331\",\"type\":\"AllLabels\"},{\"attributes\":{},\"id\":\"6335\",\"type\":\"UnionRenderers\"},{\"attributes\":{\"text\":\"FINANZ_ANLEGER [ks:0.3767 p:0.0000]\"},\"id\":\"6057\",\"type\":\"Title\"},{\"attributes\":{\"fill_alpha\":{\"value\":0.1},\"fill_color\":{\"field\":\"x\",\"transform\":{\"id\":\"6051\"}},\"line_alpha\":{\"value\":0.1},\"line_color\":{\"value\":null},\"top\":{\"field\":\"counts\"},\"width\":{\"value\":0.9},\"x\":{\"field\":\"x\"}},\"id\":\"6054\",\"type\":\"VBar\"},{\"attributes\":{\"data\":{\"counts\":[0.2511699594000844,0.6278487752928648,0.1922106809008747,0.1760649627263046,0.16806290960499118,0.08605564430244941,0.171139491583206,0.05033280085197018,0.21741695851084372,0.05969781682641107],\"x\":[[\"very high\",\"a\"],[\"very high\",\"c\"],[\"high\",\"a\"],[\"high\",\"c\"],[\"average\",\"a\"],[\"average\",\"c\"],[\"low\",\"a\"],[\"low\",\"c\"],[\"very low\",\"a\"],[\"very low\",\"c\"]]},\"selected\":{\"id\":\"6336\"},\"selection_policy\":{\"id\":\"6335\"}},\"id\":\"6033\",\"type\":\"ColumnDataSource\"},{\"attributes\":{},\"id\":\"6044\",\"type\":\"CategoricalTicker\"},{\"attributes\":{\"axis\":{\"id\":\"6046\"},\"dimension\":1,\"ticker\":null},\"id\":\"6049\",\"type\":\"Grid\"},{\"attributes\":{\"end\":2,\"factors\":[\"a\",\"c\"],\"palette\":[\"#1f77b4\",\"#ff7f0e\"],\"start\":1},\"id\":\"6051\",\"type\":\"CategoricalColorMapper\"},{\"attributes\":{\"data_source\":{\"id\":\"6033\"},\"glyph\":{\"id\":\"6053\"},\"hover_glyph\":null,\"muted_glyph\":null,\"nonselection_glyph\":{\"id\":\"6054\"},\"view\":{\"id\":\"6056\"}},\"id\":\"6055\",\"type\":\"GlyphRenderer\"}],\"root_ids\":[\"6035\"]},\"title\":\"Bokeh Application\",\"version\":\"2.3.1\"}};\n",
       "  var render_items = [{\"docid\":\"bb70d125-dae9-4123-8c79-918141434595\",\"root_ids\":[\"6035\"],\"roots\":{\"6035\":\"650d8b3c-1c5d-4464-b5d9-79a4b2ce2e6b\"}}];\n",
       "  root.Bokeh.embed.embed_items_notebook(docs_json, render_items);\n",
       "\n",
       "  }\n",
       "  if (root.Bokeh !== undefined) {\n",
       "    embed_document(root);\n",
       "  } else {\n",
       "    var attempts = 0;\n",
       "    var timer = setInterval(function(root) {\n",
       "      if (root.Bokeh !== undefined) {\n",
       "        clearInterval(timer);\n",
       "        embed_document(root);\n",
       "      } else {\n",
       "        attempts++;\n",
       "        if (attempts > 100) {\n",
       "          clearInterval(timer);\n",
       "          console.log(\"Bokeh: ERROR: Unable to run BokehJS code because BokehJS library is missing\");\n",
       "        }\n",
       "      }\n",
       "    }, 10, root)\n",
       "  }\n",
       "})(window);"
      ],
      "application/vnd.bokehjs_exec.v0+json": ""
     },
     "metadata": {
      "application/vnd.bokehjs_exec.v0+json": {
       "id": "6035"
      }
     },
     "output_type": "display_data"
    },
    {
     "data": {
      "text/html": [
       "<div>\n",
       "<style scoped>\n",
       "    .dataframe tbody tr th:only-of-type {\n",
       "        vertical-align: middle;\n",
       "    }\n",
       "\n",
       "    .dataframe tbody tr th {\n",
       "        vertical-align: top;\n",
       "    }\n",
       "\n",
       "    .dataframe thead th {\n",
       "        text-align: right;\n",
       "    }\n",
       "</style>\n",
       "<table border=\"1\" class=\"dataframe\">\n",
       "  <thead>\n",
       "    <tr style=\"text-align: right;\">\n",
       "      <th></th>\n",
       "      <th>Attribute</th>\n",
       "      <th>Value</th>\n",
       "      <th>Meaning</th>\n",
       "    </tr>\n",
       "  </thead>\n",
       "  <tbody>\n",
       "    <tr>\n",
       "      <th>661</th>\n",
       "      <td>FINANZ_ANLEGER</td>\n",
       "      <td>-1</td>\n",
       "      <td>unknown</td>\n",
       "    </tr>\n",
       "    <tr>\n",
       "      <th>662</th>\n",
       "      <td>FINANZ_ANLEGER</td>\n",
       "      <td>1</td>\n",
       "      <td>very high</td>\n",
       "    </tr>\n",
       "    <tr>\n",
       "      <th>663</th>\n",
       "      <td>FINANZ_ANLEGER</td>\n",
       "      <td>2</td>\n",
       "      <td>high</td>\n",
       "    </tr>\n",
       "    <tr>\n",
       "      <th>664</th>\n",
       "      <td>FINANZ_ANLEGER</td>\n",
       "      <td>3</td>\n",
       "      <td>average</td>\n",
       "    </tr>\n",
       "    <tr>\n",
       "      <th>665</th>\n",
       "      <td>FINANZ_ANLEGER</td>\n",
       "      <td>4</td>\n",
       "      <td>low</td>\n",
       "    </tr>\n",
       "    <tr>\n",
       "      <th>666</th>\n",
       "      <td>FINANZ_ANLEGER</td>\n",
       "      <td>5</td>\n",
       "      <td>very low</td>\n",
       "    </tr>\n",
       "  </tbody>\n",
       "</table>\n",
       "</div>"
      ],
      "text/plain": [
       "          Attribute Value    Meaning\n",
       "661  FINANZ_ANLEGER    -1    unknown\n",
       "662  FINANZ_ANLEGER     1  very high\n",
       "663  FINANZ_ANLEGER     2       high\n",
       "664  FINANZ_ANLEGER     3    average\n",
       "665  FINANZ_ANLEGER     4        low\n",
       "666  FINANZ_ANLEGER     5   very low"
      ]
     },
     "metadata": {},
     "output_type": "display_data"
    },
    {
     "name": "stdout",
     "output_type": "stream",
     "text": [
      "==========================================================================================================================================================================================================================================\n"
     ]
    },
    {
     "data": {
      "text/html": [
       "\n",
       "\n",
       "\n",
       "\n",
       "\n",
       "\n",
       "  <div class=\"bk-root\" id=\"39b803df-74d4-416f-a299-7027fcd8fa8a\" data-root-id=\"6389\"></div>\n"
      ]
     },
     "metadata": {},
     "output_type": "display_data"
    },
    {
     "data": {
      "application/javascript": [
       "(function(root) {\n",
       "  function embed_document(root) {\n",
       "    \n",
       "  var docs_json = {\"b2dfd500-92cd-4a30-bbcc-320d4a77315f\":{\"defs\":[],\"roots\":{\"references\":[{\"attributes\":{\"below\":[{\"id\":\"6397\"}],\"center\":[{\"id\":\"6399\"},{\"id\":\"6403\"}],\"height\":500,\"left\":[{\"id\":\"6400\"}],\"renderers\":[{\"id\":\"6409\"}],\"title\":{\"id\":\"6411\"},\"toolbar\":{\"id\":\"6404\"},\"toolbar_location\":null,\"width\":950,\"x_range\":{\"id\":\"6388\"},\"x_scale\":{\"id\":\"6393\"},\"y_range\":{\"id\":\"6391\"},\"y_scale\":{\"id\":\"6395\"}},\"id\":\"6389\",\"subtype\":\"Figure\",\"type\":\"Plot\"},{\"attributes\":{\"data\":{\"counts\":[0.16636071701882663,0.011614749733759318,0.18981592956641768,0.06546858359957401,0.2433062587761855,0.16754526091586794,0.19925308552206533,0.19386980830670927,0.20126400911650483,0.5615015974440895],\"x\":[[\"very high\",\"a\"],[\"very high\",\"c\"],[\"high\",\"a\"],[\"high\",\"c\"],[\"average\",\"a\"],[\"average\",\"c\"],[\"low\",\"a\"],[\"low\",\"c\"],[\"very low\",\"a\"],[\"very low\",\"c\"]]},\"selected\":{\"id\":\"6700\"},\"selection_policy\":{\"id\":\"6699\"}},\"id\":\"6387\",\"type\":\"ColumnDataSource\"},{\"attributes\":{\"axis\":{\"id\":\"6400\"},\"dimension\":1,\"ticker\":null},\"id\":\"6403\",\"type\":\"Grid\"},{\"attributes\":{\"axis\":{\"id\":\"6397\"},\"grid_line_color\":null,\"ticker\":null},\"id\":\"6399\",\"type\":\"Grid\"},{\"attributes\":{},\"id\":\"6695\",\"type\":\"AllLabels\"},{\"attributes\":{\"fill_color\":{\"field\":\"x\",\"transform\":{\"id\":\"6405\"}},\"line_color\":{\"value\":null},\"top\":{\"field\":\"counts\"},\"width\":{\"value\":0.9},\"x\":{\"field\":\"x\"}},\"id\":\"6407\",\"type\":\"VBar\"},{\"attributes\":{},\"id\":\"6699\",\"type\":\"UnionRenderers\"},{\"attributes\":{\"formatter\":{\"id\":\"6693\"},\"major_label_policy\":{\"id\":\"6695\"},\"ticker\":{\"id\":\"6401\"}},\"id\":\"6400\",\"type\":\"LinearAxis\"},{\"attributes\":{},\"id\":\"6700\",\"type\":\"Selection\"},{\"attributes\":{\"active_multi\":null},\"id\":\"6404\",\"type\":\"Toolbar\"},{\"attributes\":{\"formatter\":{\"id\":\"6696\"},\"group_label_orientation\":1.5707963267948966,\"major_label_orientation\":0,\"major_label_policy\":{\"id\":\"6698\"},\"ticker\":{\"id\":\"6398\"}},\"id\":\"6397\",\"type\":\"CategoricalAxis\"},{\"attributes\":{},\"id\":\"6693\",\"type\":\"BasicTickFormatter\"},{\"attributes\":{},\"id\":\"6401\",\"type\":\"BasicTicker\"},{\"attributes\":{\"text\":\"FINANZ_MINIMALIST [ks:0.3602 p:0.0000]\"},\"id\":\"6411\",\"type\":\"Title\"},{\"attributes\":{},\"id\":\"6395\",\"type\":\"LinearScale\"},{\"attributes\":{\"fill_alpha\":{\"value\":0.1},\"fill_color\":{\"field\":\"x\",\"transform\":{\"id\":\"6405\"}},\"line_alpha\":{\"value\":0.1},\"line_color\":{\"value\":null},\"top\":{\"field\":\"counts\"},\"width\":{\"value\":0.9},\"x\":{\"field\":\"x\"}},\"id\":\"6408\",\"type\":\"VBar\"},{\"attributes\":{\"factors\":[[\"very high\",\"a\"],[\"very high\",\"c\"],[\"high\",\"a\"],[\"high\",\"c\"],[\"average\",\"a\"],[\"average\",\"c\"],[\"low\",\"a\"],[\"low\",\"c\"],[\"very low\",\"a\"],[\"very low\",\"c\"]]},\"id\":\"6388\",\"type\":\"FactorRange\"},{\"attributes\":{},\"id\":\"6698\",\"type\":\"AllLabels\"},{\"attributes\":{\"start\":0},\"id\":\"6391\",\"type\":\"DataRange1d\"},{\"attributes\":{},\"id\":\"6696\",\"type\":\"CategoricalTickFormatter\"},{\"attributes\":{\"end\":2,\"factors\":[\"a\",\"c\"],\"palette\":[\"#1f77b4\",\"#ff7f0e\"],\"start\":1},\"id\":\"6405\",\"type\":\"CategoricalColorMapper\"},{\"attributes\":{\"data_source\":{\"id\":\"6387\"},\"glyph\":{\"id\":\"6407\"},\"hover_glyph\":null,\"muted_glyph\":null,\"nonselection_glyph\":{\"id\":\"6408\"},\"view\":{\"id\":\"6410\"}},\"id\":\"6409\",\"type\":\"GlyphRenderer\"},{\"attributes\":{\"source\":{\"id\":\"6387\"}},\"id\":\"6410\",\"type\":\"CDSView\"},{\"attributes\":{},\"id\":\"6398\",\"type\":\"CategoricalTicker\"},{\"attributes\":{},\"id\":\"6393\",\"type\":\"CategoricalScale\"}],\"root_ids\":[\"6389\"]},\"title\":\"Bokeh Application\",\"version\":\"2.3.1\"}};\n",
       "  var render_items = [{\"docid\":\"b2dfd500-92cd-4a30-bbcc-320d4a77315f\",\"root_ids\":[\"6389\"],\"roots\":{\"6389\":\"39b803df-74d4-416f-a299-7027fcd8fa8a\"}}];\n",
       "  root.Bokeh.embed.embed_items_notebook(docs_json, render_items);\n",
       "\n",
       "  }\n",
       "  if (root.Bokeh !== undefined) {\n",
       "    embed_document(root);\n",
       "  } else {\n",
       "    var attempts = 0;\n",
       "    var timer = setInterval(function(root) {\n",
       "      if (root.Bokeh !== undefined) {\n",
       "        clearInterval(timer);\n",
       "        embed_document(root);\n",
       "      } else {\n",
       "        attempts++;\n",
       "        if (attempts > 100) {\n",
       "          clearInterval(timer);\n",
       "          console.log(\"Bokeh: ERROR: Unable to run BokehJS code because BokehJS library is missing\");\n",
       "        }\n",
       "      }\n",
       "    }, 10, root)\n",
       "  }\n",
       "})(window);"
      ],
      "application/vnd.bokehjs_exec.v0+json": ""
     },
     "metadata": {
      "application/vnd.bokehjs_exec.v0+json": {
       "id": "6389"
      }
     },
     "output_type": "display_data"
    },
    {
     "data": {
      "text/html": [
       "<div>\n",
       "<style scoped>\n",
       "    .dataframe tbody tr th:only-of-type {\n",
       "        vertical-align: middle;\n",
       "    }\n",
       "\n",
       "    .dataframe tbody tr th {\n",
       "        vertical-align: top;\n",
       "    }\n",
       "\n",
       "    .dataframe thead th {\n",
       "        text-align: right;\n",
       "    }\n",
       "</style>\n",
       "<table border=\"1\" class=\"dataframe\">\n",
       "  <thead>\n",
       "    <tr style=\"text-align: right;\">\n",
       "      <th></th>\n",
       "      <th>Attribute</th>\n",
       "      <th>Value</th>\n",
       "      <th>Meaning</th>\n",
       "    </tr>\n",
       "  </thead>\n",
       "  <tbody>\n",
       "    <tr>\n",
       "      <th>673</th>\n",
       "      <td>FINANZ_MINIMALIST</td>\n",
       "      <td>-1</td>\n",
       "      <td>unknown</td>\n",
       "    </tr>\n",
       "    <tr>\n",
       "      <th>674</th>\n",
       "      <td>FINANZ_MINIMALIST</td>\n",
       "      <td>1</td>\n",
       "      <td>very high</td>\n",
       "    </tr>\n",
       "    <tr>\n",
       "      <th>675</th>\n",
       "      <td>FINANZ_MINIMALIST</td>\n",
       "      <td>2</td>\n",
       "      <td>high</td>\n",
       "    </tr>\n",
       "    <tr>\n",
       "      <th>676</th>\n",
       "      <td>FINANZ_MINIMALIST</td>\n",
       "      <td>3</td>\n",
       "      <td>average</td>\n",
       "    </tr>\n",
       "    <tr>\n",
       "      <th>677</th>\n",
       "      <td>FINANZ_MINIMALIST</td>\n",
       "      <td>4</td>\n",
       "      <td>low</td>\n",
       "    </tr>\n",
       "    <tr>\n",
       "      <th>678</th>\n",
       "      <td>FINANZ_MINIMALIST</td>\n",
       "      <td>5</td>\n",
       "      <td>very low</td>\n",
       "    </tr>\n",
       "  </tbody>\n",
       "</table>\n",
       "</div>"
      ],
      "text/plain": [
       "             Attribute Value    Meaning\n",
       "673  FINANZ_MINIMALIST    -1    unknown\n",
       "674  FINANZ_MINIMALIST     1  very high\n",
       "675  FINANZ_MINIMALIST     2       high\n",
       "676  FINANZ_MINIMALIST     3    average\n",
       "677  FINANZ_MINIMALIST     4        low\n",
       "678  FINANZ_MINIMALIST     5   very low"
      ]
     },
     "metadata": {},
     "output_type": "display_data"
    },
    {
     "name": "stdout",
     "output_type": "stream",
     "text": [
      "==========================================================================================================================================================================================================================================\n"
     ]
    },
    {
     "data": {
      "text/html": [
       "\n",
       "\n",
       "\n",
       "\n",
       "\n",
       "\n",
       "  <div class=\"bk-root\" id=\"89749a72-5393-42a2-8b88-05e7572d7e1f\" data-root-id=\"6753\"></div>\n"
      ]
     },
     "metadata": {},
     "output_type": "display_data"
    },
    {
     "data": {
      "application/javascript": [
       "(function(root) {\n",
       "  function embed_document(root) {\n",
       "    \n",
       "  var docs_json = {\"cabdda09-78c4-4081-90b3-c92cba4aa37e\":{\"defs\":[],\"roots\":{\"references\":[{\"attributes\":{\"below\":[{\"id\":\"6761\"}],\"center\":[{\"id\":\"6763\"},{\"id\":\"6767\"}],\"height\":500,\"left\":[{\"id\":\"6764\"}],\"renderers\":[{\"id\":\"6773\"}],\"title\":{\"id\":\"6775\"},\"toolbar\":{\"id\":\"6768\"},\"toolbar_location\":null,\"width\":950,\"x_range\":{\"id\":\"6752\"},\"x_scale\":{\"id\":\"6757\"},\"y_range\":{\"id\":\"6755\"},\"y_scale\":{\"id\":\"6759\"}},\"id\":\"6753\",\"subtype\":\"Figure\",\"type\":\"Plot\"},{\"attributes\":{},\"id\":\"7074\",\"type\":\"Selection\"},{\"attributes\":{\"text\":\"LP_STATUS_FEIN [ks:0.3309 p:0.0000]\"},\"id\":\"6775\",\"type\":\"Title\"},{\"attributes\":{\"axis\":{\"id\":\"6764\"},\"dimension\":1,\"ticker\":null},\"id\":\"6767\",\"type\":\"Grid\"},{\"attributes\":{\"data\":{\"counts\":[0.2599344894396593,0.13064947254585893,0.13998925741909493,0.009522060573908194,0.08823063937539566,0.10416454120671713,0.09331058527882752,0.03398015330517524,0.034560897005505575,0.006849082141375393,0.03695879452895701,0.0441619566474185,0.01201706343877688,0.07166030729049766,0.023556945270386924,0.005692831928829399,0.17084660169962976,0.2234623572541098,0.14059472654376642,0.36985723710610974],\"x\":[[\"typical low-income earners\",\"a\"],[\"typical low-income earners\",\"c\"],[\"orientationseeking low-income earners\",\"a\"],[\"orientationseeking low-income earners\",\"c\"],[\"aspiring low-income earners \",\"a\"],[\"aspiring low-income earners \",\"c\"],[\"villagers\",\"a\"],[\"villagers\",\"c\"],[\"minimalistic high-income earners\",\"a\"],[\"minimalistic high-income earners\",\"c\"],[\"independant workers\",\"a\"],[\"independant workers\",\"c\"],[\"title holder-households\",\"a\"],[\"title holder-households\",\"c\"],[\"new houseowners\",\"a\"],[\"new houseowners\",\"c\"],[\"houseowners\",\"a\"],[\"houseowners\",\"c\"],[\"top earners \",\"a\"],[\"top earners \",\"c\"]]},\"selected\":{\"id\":\"7074\"},\"selection_policy\":{\"id\":\"7073\"}},\"id\":\"6751\",\"type\":\"ColumnDataSource\"},{\"attributes\":{},\"id\":\"6762\",\"type\":\"CategoricalTicker\"},{\"attributes\":{},\"id\":\"7069\",\"type\":\"AllLabels\"},{\"attributes\":{},\"id\":\"6757\",\"type\":\"CategoricalScale\"},{\"attributes\":{},\"id\":\"7073\",\"type\":\"UnionRenderers\"},{\"attributes\":{},\"id\":\"7070\",\"type\":\"CategoricalTickFormatter\"},{\"attributes\":{\"formatter\":{\"id\":\"7070\"},\"group_label_orientation\":1.5707963267948966,\"major_label_orientation\":0,\"major_label_policy\":{\"id\":\"7072\"},\"ticker\":{\"id\":\"6762\"}},\"id\":\"6761\",\"type\":\"CategoricalAxis\"},{\"attributes\":{\"source\":{\"id\":\"6751\"}},\"id\":\"6774\",\"type\":\"CDSView\"},{\"attributes\":{\"active_multi\":null},\"id\":\"6768\",\"type\":\"Toolbar\"},{\"attributes\":{},\"id\":\"7067\",\"type\":\"BasicTickFormatter\"},{\"attributes\":{\"end\":2,\"factors\":[\"a\",\"c\"],\"palette\":[\"#1f77b4\",\"#ff7f0e\"],\"start\":1},\"id\":\"6769\",\"type\":\"CategoricalColorMapper\"},{\"attributes\":{},\"id\":\"6765\",\"type\":\"BasicTicker\"},{\"attributes\":{\"formatter\":{\"id\":\"7067\"},\"major_label_policy\":{\"id\":\"7069\"},\"ticker\":{\"id\":\"6765\"}},\"id\":\"6764\",\"type\":\"LinearAxis\"},{\"attributes\":{\"start\":0},\"id\":\"6755\",\"type\":\"DataRange1d\"},{\"attributes\":{},\"id\":\"6759\",\"type\":\"LinearScale\"},{\"attributes\":{},\"id\":\"7072\",\"type\":\"AllLabels\"},{\"attributes\":{\"axis\":{\"id\":\"6761\"},\"grid_line_color\":null,\"ticker\":null},\"id\":\"6763\",\"type\":\"Grid\"},{\"attributes\":{\"factors\":[[\"typical low-income earners\",\"a\"],[\"typical low-income earners\",\"c\"],[\"orientationseeking low-income earners\",\"a\"],[\"orientationseeking low-income earners\",\"c\"],[\"aspiring low-income earners \",\"a\"],[\"aspiring low-income earners \",\"c\"],[\"villagers\",\"a\"],[\"villagers\",\"c\"],[\"minimalistic high-income earners\",\"a\"],[\"minimalistic high-income earners\",\"c\"],[\"independant workers\",\"a\"],[\"independant workers\",\"c\"],[\"title holder-households\",\"a\"],[\"title holder-households\",\"c\"],[\"new houseowners\",\"a\"],[\"new houseowners\",\"c\"],[\"houseowners\",\"a\"],[\"houseowners\",\"c\"],[\"top earners \",\"a\"],[\"top earners \",\"c\"]]},\"id\":\"6752\",\"type\":\"FactorRange\"},{\"attributes\":{\"fill_alpha\":{\"value\":0.1},\"fill_color\":{\"field\":\"x\",\"transform\":{\"id\":\"6769\"}},\"line_alpha\":{\"value\":0.1},\"line_color\":{\"value\":null},\"top\":{\"field\":\"counts\"},\"width\":{\"value\":0.9},\"x\":{\"field\":\"x\"}},\"id\":\"6772\",\"type\":\"VBar\"},{\"attributes\":{\"data_source\":{\"id\":\"6751\"},\"glyph\":{\"id\":\"6771\"},\"hover_glyph\":null,\"muted_glyph\":null,\"nonselection_glyph\":{\"id\":\"6772\"},\"view\":{\"id\":\"6774\"}},\"id\":\"6773\",\"type\":\"GlyphRenderer\"},{\"attributes\":{\"fill_color\":{\"field\":\"x\",\"transform\":{\"id\":\"6769\"}},\"line_color\":{\"value\":null},\"top\":{\"field\":\"counts\"},\"width\":{\"value\":0.9},\"x\":{\"field\":\"x\"}},\"id\":\"6771\",\"type\":\"VBar\"}],\"root_ids\":[\"6753\"]},\"title\":\"Bokeh Application\",\"version\":\"2.3.1\"}};\n",
       "  var render_items = [{\"docid\":\"cabdda09-78c4-4081-90b3-c92cba4aa37e\",\"root_ids\":[\"6753\"],\"roots\":{\"6753\":\"89749a72-5393-42a2-8b88-05e7572d7e1f\"}}];\n",
       "  root.Bokeh.embed.embed_items_notebook(docs_json, render_items);\n",
       "\n",
       "  }\n",
       "  if (root.Bokeh !== undefined) {\n",
       "    embed_document(root);\n",
       "  } else {\n",
       "    var attempts = 0;\n",
       "    var timer = setInterval(function(root) {\n",
       "      if (root.Bokeh !== undefined) {\n",
       "        clearInterval(timer);\n",
       "        embed_document(root);\n",
       "      } else {\n",
       "        attempts++;\n",
       "        if (attempts > 100) {\n",
       "          clearInterval(timer);\n",
       "          console.log(\"Bokeh: ERROR: Unable to run BokehJS code because BokehJS library is missing\");\n",
       "        }\n",
       "      }\n",
       "    }, 10, root)\n",
       "  }\n",
       "})(window);"
      ],
      "application/vnd.bokehjs_exec.v0+json": ""
     },
     "metadata": {
      "application/vnd.bokehjs_exec.v0+json": {
       "id": "6753"
      }
     },
     "output_type": "display_data"
    },
    {
     "data": {
      "text/html": [
       "<div>\n",
       "<style scoped>\n",
       "    .dataframe tbody tr th:only-of-type {\n",
       "        vertical-align: middle;\n",
       "    }\n",
       "\n",
       "    .dataframe tbody tr th {\n",
       "        vertical-align: top;\n",
       "    }\n",
       "\n",
       "    .dataframe thead th {\n",
       "        text-align: right;\n",
       "    }\n",
       "</style>\n",
       "<table border=\"1\" class=\"dataframe\">\n",
       "  <thead>\n",
       "    <tr style=\"text-align: right;\">\n",
       "      <th></th>\n",
       "      <th>Attribute</th>\n",
       "      <th>Value</th>\n",
       "      <th>Meaning</th>\n",
       "    </tr>\n",
       "  </thead>\n",
       "  <tbody>\n",
       "    <tr>\n",
       "      <th>1966</th>\n",
       "      <td>LP_STATUS_FEIN</td>\n",
       "      <td>1</td>\n",
       "      <td>typical low-income earners</td>\n",
       "    </tr>\n",
       "    <tr>\n",
       "      <th>1967</th>\n",
       "      <td>LP_STATUS_FEIN</td>\n",
       "      <td>2</td>\n",
       "      <td>orientationseeking low-income earners</td>\n",
       "    </tr>\n",
       "    <tr>\n",
       "      <th>1968</th>\n",
       "      <td>LP_STATUS_FEIN</td>\n",
       "      <td>3</td>\n",
       "      <td>aspiring low-income earners</td>\n",
       "    </tr>\n",
       "    <tr>\n",
       "      <th>1969</th>\n",
       "      <td>LP_STATUS_FEIN</td>\n",
       "      <td>4</td>\n",
       "      <td>villagers</td>\n",
       "    </tr>\n",
       "    <tr>\n",
       "      <th>1970</th>\n",
       "      <td>LP_STATUS_FEIN</td>\n",
       "      <td>5</td>\n",
       "      <td>minimalistic high-income earners</td>\n",
       "    </tr>\n",
       "    <tr>\n",
       "      <th>1971</th>\n",
       "      <td>LP_STATUS_FEIN</td>\n",
       "      <td>6</td>\n",
       "      <td>independant workers</td>\n",
       "    </tr>\n",
       "    <tr>\n",
       "      <th>1972</th>\n",
       "      <td>LP_STATUS_FEIN</td>\n",
       "      <td>7</td>\n",
       "      <td>title holder-households</td>\n",
       "    </tr>\n",
       "    <tr>\n",
       "      <th>1973</th>\n",
       "      <td>LP_STATUS_FEIN</td>\n",
       "      <td>8</td>\n",
       "      <td>new houseowners</td>\n",
       "    </tr>\n",
       "    <tr>\n",
       "      <th>1974</th>\n",
       "      <td>LP_STATUS_FEIN</td>\n",
       "      <td>9</td>\n",
       "      <td>houseowners</td>\n",
       "    </tr>\n",
       "    <tr>\n",
       "      <th>1975</th>\n",
       "      <td>LP_STATUS_FEIN</td>\n",
       "      <td>10</td>\n",
       "      <td>top earners</td>\n",
       "    </tr>\n",
       "  </tbody>\n",
       "</table>\n",
       "</div>"
      ],
      "text/plain": [
       "           Attribute Value                                Meaning\n",
       "1966  LP_STATUS_FEIN     1             typical low-income earners\n",
       "1967  LP_STATUS_FEIN     2  orientationseeking low-income earners\n",
       "1968  LP_STATUS_FEIN     3           aspiring low-income earners \n",
       "1969  LP_STATUS_FEIN     4                              villagers\n",
       "1970  LP_STATUS_FEIN     5       minimalistic high-income earners\n",
       "1971  LP_STATUS_FEIN     6                    independant workers\n",
       "1972  LP_STATUS_FEIN     7                title holder-households\n",
       "1973  LP_STATUS_FEIN     8                        new houseowners\n",
       "1974  LP_STATUS_FEIN     9                            houseowners\n",
       "1975  LP_STATUS_FEIN    10                           top earners "
      ]
     },
     "metadata": {},
     "output_type": "display_data"
    },
    {
     "name": "stdout",
     "output_type": "stream",
     "text": [
      "==========================================================================================================================================================================================================================================\n"
     ]
    },
    {
     "data": {
      "text/html": [
       "\n",
       "\n",
       "\n",
       "\n",
       "\n",
       "\n",
       "  <div class=\"bk-root\" id=\"71bf36b7-5d19-416a-b8e7-38a82088c07b\" data-root-id=\"7127\"></div>\n"
      ]
     },
     "metadata": {},
     "output_type": "display_data"
    },
    {
     "data": {
      "application/javascript": [
       "(function(root) {\n",
       "  function embed_document(root) {\n",
       "    \n",
       "  var docs_json = {\"f715ea50-ad9a-4b08-a815-ba1a1562eb31\":{\"defs\":[],\"roots\":{\"references\":[{\"attributes\":{\"below\":[{\"id\":\"7135\"}],\"center\":[{\"id\":\"7137\"},{\"id\":\"7141\"}],\"height\":500,\"left\":[{\"id\":\"7138\"}],\"renderers\":[{\"id\":\"7147\"}],\"title\":{\"id\":\"7149\"},\"toolbar\":{\"id\":\"7142\"},\"toolbar_location\":null,\"width\":950,\"x_range\":{\"id\":\"7126\"},\"x_scale\":{\"id\":\"7131\"},\"y_range\":{\"id\":\"7129\"},\"y_scale\":{\"id\":\"7133\"}},\"id\":\"7127\",\"subtype\":\"Figure\",\"type\":\"Plot\"},{\"attributes\":{},\"id\":\"7456\",\"type\":\"AllLabels\"},{\"attributes\":{\"fill_color\":{\"field\":\"x\",\"transform\":{\"id\":\"7143\"}},\"line_color\":{\"value\":null},\"top\":{\"field\":\"counts\"},\"width\":{\"value\":0.9},\"x\":{\"field\":\"x\"}},\"id\":\"7145\",\"type\":\"VBar\"},{\"attributes\":{},\"id\":\"7453\",\"type\":\"AllLabels\"},{\"attributes\":{\"fill_alpha\":{\"value\":0.1},\"fill_color\":{\"field\":\"x\",\"transform\":{\"id\":\"7143\"}},\"line_alpha\":{\"value\":0.1},\"line_color\":{\"value\":null},\"top\":{\"field\":\"counts\"},\"width\":{\"value\":0.9},\"x\":{\"field\":\"x\"}},\"id\":\"7146\",\"type\":\"VBar\"},{\"attributes\":{\"active_multi\":null},\"id\":\"7142\",\"type\":\"Toolbar\"},{\"attributes\":{\"factors\":[[\"highest affinity\",\"a\"],[\"highest affinity\",\"c\"],[\"very high affinity\",\"a\"],[\"very high affinity\",\"c\"],[\"high affinity\",\"a\"],[\"high affinity\",\"c\"],[\"average affinity\",\"a\"],[\"average affinity\",\"c\"],[\"low affinity\",\"a\"],[\"low affinity\",\"c\"],[\"very low affinity\",\"a\"],[\"very low affinity\",\"c\"],[\"lowest affinity\",\"a\"],[\"lowest affinity\",\"c\"]]},\"id\":\"7126\",\"type\":\"FactorRange\"},{\"attributes\":{\"end\":2,\"factors\":[\"a\",\"c\"],\"palette\":[\"#1f77b4\",\"#ff7f0e\"],\"start\":1},\"id\":\"7143\",\"type\":\"CategoricalColorMapper\"},{\"attributes\":{},\"id\":\"7136\",\"type\":\"CategoricalTicker\"},{\"attributes\":{\"text\":\"SEMIO_RAT [ks:0.3023 p:0.0000]\"},\"id\":\"7149\",\"type\":\"Title\"},{\"attributes\":{\"start\":0},\"id\":\"7129\",\"type\":\"DataRange1d\"},{\"attributes\":{},\"id\":\"7457\",\"type\":\"UnionRenderers\"},{\"attributes\":{},\"id\":\"7139\",\"type\":\"BasicTicker\"},{\"attributes\":{},\"id\":\"7133\",\"type\":\"LinearScale\"},{\"attributes\":{},\"id\":\"7131\",\"type\":\"CategoricalScale\"},{\"attributes\":{},\"id\":\"7451\",\"type\":\"BasicTickFormatter\"},{\"attributes\":{\"data_source\":{\"id\":\"7125\"},\"glyph\":{\"id\":\"7145\"},\"hover_glyph\":null,\"muted_glyph\":null,\"nonselection_glyph\":{\"id\":\"7146\"},\"view\":{\"id\":\"7148\"}},\"id\":\"7147\",\"type\":\"GlyphRenderer\"},{\"attributes\":{\"axis\":{\"id\":\"7135\"},\"grid_line_color\":null,\"ticker\":null},\"id\":\"7137\",\"type\":\"Grid\"},{\"attributes\":{\"axis\":{\"id\":\"7138\"},\"dimension\":1,\"ticker\":null},\"id\":\"7141\",\"type\":\"Grid\"},{\"attributes\":{\"formatter\":{\"id\":\"7454\"},\"group_label_orientation\":1.5707963267948966,\"major_label_orientation\":0,\"major_label_policy\":{\"id\":\"7456\"},\"ticker\":{\"id\":\"7136\"}},\"id\":\"7135\",\"type\":\"CategoricalAxis\"},{\"attributes\":{},\"id\":\"7454\",\"type\":\"CategoricalTickFormatter\"},{\"attributes\":{\"source\":{\"id\":\"7125\"}},\"id\":\"7148\",\"type\":\"CDSView\"},{\"attributes\":{},\"id\":\"7458\",\"type\":\"Selection\"},{\"attributes\":{\"data\":{\"counts\":[0.05572892702266491,0.18724707135250265,0.16735843074054912,0.1983426517571885,0.1572430201759886,0.2970181043663472,0.3365263351126093,0.17229100106496273,0.106140290230988,0.11248668796592119,0.0732729539716635,0.01757188498402556,0.10373004274553652,0.015042598509052183],\"x\":[[\"highest affinity\",\"a\"],[\"highest affinity\",\"c\"],[\"very high affinity\",\"a\"],[\"very high affinity\",\"c\"],[\"high affinity\",\"a\"],[\"high affinity\",\"c\"],[\"average affinity\",\"a\"],[\"average affinity\",\"c\"],[\"low affinity\",\"a\"],[\"low affinity\",\"c\"],[\"very low affinity\",\"a\"],[\"very low affinity\",\"c\"],[\"lowest affinity\",\"a\"],[\"lowest affinity\",\"c\"]]},\"selected\":{\"id\":\"7458\"},\"selection_policy\":{\"id\":\"7457\"}},\"id\":\"7125\",\"type\":\"ColumnDataSource\"},{\"attributes\":{\"formatter\":{\"id\":\"7451\"},\"major_label_policy\":{\"id\":\"7453\"},\"ticker\":{\"id\":\"7139\"}},\"id\":\"7138\",\"type\":\"LinearAxis\"}],\"root_ids\":[\"7127\"]},\"title\":\"Bokeh Application\",\"version\":\"2.3.1\"}};\n",
       "  var render_items = [{\"docid\":\"f715ea50-ad9a-4b08-a815-ba1a1562eb31\",\"root_ids\":[\"7127\"],\"roots\":{\"7127\":\"71bf36b7-5d19-416a-b8e7-38a82088c07b\"}}];\n",
       "  root.Bokeh.embed.embed_items_notebook(docs_json, render_items);\n",
       "\n",
       "  }\n",
       "  if (root.Bokeh !== undefined) {\n",
       "    embed_document(root);\n",
       "  } else {\n",
       "    var attempts = 0;\n",
       "    var timer = setInterval(function(root) {\n",
       "      if (root.Bokeh !== undefined) {\n",
       "        clearInterval(timer);\n",
       "        embed_document(root);\n",
       "      } else {\n",
       "        attempts++;\n",
       "        if (attempts > 100) {\n",
       "          clearInterval(timer);\n",
       "          console.log(\"Bokeh: ERROR: Unable to run BokehJS code because BokehJS library is missing\");\n",
       "        }\n",
       "      }\n",
       "    }, 10, root)\n",
       "  }\n",
       "})(window);"
      ],
      "application/vnd.bokehjs_exec.v0+json": ""
     },
     "metadata": {
      "application/vnd.bokehjs_exec.v0+json": {
       "id": "7127"
      }
     },
     "output_type": "display_data"
    },
    {
     "data": {
      "text/html": [
       "<div>\n",
       "<style scoped>\n",
       "    .dataframe tbody tr th:only-of-type {\n",
       "        vertical-align: middle;\n",
       "    }\n",
       "\n",
       "    .dataframe tbody tr th {\n",
       "        vertical-align: top;\n",
       "    }\n",
       "\n",
       "    .dataframe thead th {\n",
       "        text-align: right;\n",
       "    }\n",
       "</style>\n",
       "<table border=\"1\" class=\"dataframe\">\n",
       "  <thead>\n",
       "    <tr style=\"text-align: right;\">\n",
       "      <th></th>\n",
       "      <th>Attribute</th>\n",
       "      <th>Value</th>\n",
       "      <th>Meaning</th>\n",
       "    </tr>\n",
       "  </thead>\n",
       "  <tbody>\n",
       "    <tr>\n",
       "      <th>2162</th>\n",
       "      <td>SEMIO_RAT</td>\n",
       "      <td>-1, 9</td>\n",
       "      <td>unknown</td>\n",
       "    </tr>\n",
       "    <tr>\n",
       "      <th>2163</th>\n",
       "      <td>SEMIO_RAT</td>\n",
       "      <td>1</td>\n",
       "      <td>highest affinity</td>\n",
       "    </tr>\n",
       "    <tr>\n",
       "      <th>2164</th>\n",
       "      <td>SEMIO_RAT</td>\n",
       "      <td>2</td>\n",
       "      <td>very high affinity</td>\n",
       "    </tr>\n",
       "    <tr>\n",
       "      <th>2165</th>\n",
       "      <td>SEMIO_RAT</td>\n",
       "      <td>3</td>\n",
       "      <td>high affinity</td>\n",
       "    </tr>\n",
       "    <tr>\n",
       "      <th>2166</th>\n",
       "      <td>SEMIO_RAT</td>\n",
       "      <td>4</td>\n",
       "      <td>average affinity</td>\n",
       "    </tr>\n",
       "    <tr>\n",
       "      <th>2167</th>\n",
       "      <td>SEMIO_RAT</td>\n",
       "      <td>5</td>\n",
       "      <td>low affinity</td>\n",
       "    </tr>\n",
       "    <tr>\n",
       "      <th>2168</th>\n",
       "      <td>SEMIO_RAT</td>\n",
       "      <td>6</td>\n",
       "      <td>very low affinity</td>\n",
       "    </tr>\n",
       "    <tr>\n",
       "      <th>2169</th>\n",
       "      <td>SEMIO_RAT</td>\n",
       "      <td>7</td>\n",
       "      <td>lowest affinity</td>\n",
       "    </tr>\n",
       "  </tbody>\n",
       "</table>\n",
       "</div>"
      ],
      "text/plain": [
       "      Attribute  Value             Meaning\n",
       "2162  SEMIO_RAT  -1, 9             unknown\n",
       "2163  SEMIO_RAT      1    highest affinity\n",
       "2164  SEMIO_RAT      2  very high affinity\n",
       "2165  SEMIO_RAT      3       high affinity\n",
       "2166  SEMIO_RAT      4    average affinity\n",
       "2167  SEMIO_RAT      5        low affinity\n",
       "2168  SEMIO_RAT      6   very low affinity\n",
       "2169  SEMIO_RAT      7     lowest affinity"
      ]
     },
     "metadata": {},
     "output_type": "display_data"
    },
    {
     "name": "stdout",
     "output_type": "stream",
     "text": [
      "==========================================================================================================================================================================================================================================\n"
     ]
    },
    {
     "data": {
      "text/html": [
       "\n",
       "\n",
       "\n",
       "\n",
       "\n",
       "\n",
       "  <div class=\"bk-root\" id=\"309f87a4-74d0-474f-87d8-4aaad76feffa\" data-root-id=\"7511\"></div>\n"
      ]
     },
     "metadata": {},
     "output_type": "display_data"
    },
    {
     "data": {
      "application/javascript": [
       "(function(root) {\n",
       "  function embed_document(root) {\n",
       "    \n",
       "  var docs_json = {\"bc145fb4-42ed-4184-8b88-c105a6e176ce\":{\"defs\":[],\"roots\":{\"references\":[{\"attributes\":{\"below\":[{\"id\":\"7519\"}],\"center\":[{\"id\":\"7521\"},{\"id\":\"7525\"}],\"height\":500,\"left\":[{\"id\":\"7522\"}],\"renderers\":[{\"id\":\"7531\"}],\"title\":{\"id\":\"7533\"},\"toolbar\":{\"id\":\"7526\"},\"toolbar_location\":null,\"width\":950,\"x_range\":{\"id\":\"7510\"},\"x_scale\":{\"id\":\"7515\"},\"y_range\":{\"id\":\"7513\"},\"y_scale\":{\"id\":\"7517\"}},\"id\":\"7511\",\"subtype\":\"Figure\",\"type\":\"Plot\"},{\"attributes\":{},\"id\":\"7850\",\"type\":\"AllLabels\"},{\"attributes\":{},\"id\":\"7520\",\"type\":\"CategoricalTicker\"},{\"attributes\":{},\"id\":\"7852\",\"type\":\"Selection\"},{\"attributes\":{\"end\":2,\"factors\":[\"a\",\"c\"],\"palette\":[\"#1f77b4\",\"#ff7f0e\"],\"start\":1},\"id\":\"7527\",\"type\":\"CategoricalColorMapper\"},{\"attributes\":{},\"id\":\"7517\",\"type\":\"LinearScale\"},{\"attributes\":{\"formatter\":{\"id\":\"7845\"},\"major_label_policy\":{\"id\":\"7847\"},\"ticker\":{\"id\":\"7523\"}},\"id\":\"7522\",\"type\":\"LinearAxis\"},{\"attributes\":{\"text\":\"ALTERSKATEGORIE_GROB [ks:0.2966 p:0.0000]\"},\"id\":\"7533\",\"type\":\"Title\"},{\"attributes\":{\"data_source\":{\"id\":\"7509\"},\"glyph\":{\"id\":\"7529\"},\"hover_glyph\":null,\"muted_glyph\":null,\"nonselection_glyph\":{\"id\":\"7530\"},\"view\":{\"id\":\"7532\"}},\"id\":\"7531\",\"type\":\"GlyphRenderer\"},{\"attributes\":{\"axis\":{\"id\":\"7519\"},\"grid_line_color\":null,\"ticker\":null},\"id\":\"7521\",\"type\":\"Grid\"},{\"attributes\":{\"formatter\":{\"id\":\"7848\"},\"group_label_orientation\":1.5707963267948966,\"major_label_orientation\":0,\"major_label_policy\":{\"id\":\"7850\"},\"ticker\":{\"id\":\"7520\"}},\"id\":\"7519\",\"type\":\"CategoricalAxis\"},{\"attributes\":{},\"id\":\"7851\",\"type\":\"UnionRenderers\"},{\"attributes\":{\"fill_color\":{\"field\":\"x\",\"transform\":{\"id\":\"7527\"}},\"line_color\":{\"value\":null},\"top\":{\"field\":\"counts\"},\"width\":{\"value\":0.9},\"x\":{\"field\":\"x\"}},\"id\":\"7529\",\"type\":\"VBar\"},{\"attributes\":{},\"id\":\"7845\",\"type\":\"BasicTickFormatter\"},{\"attributes\":{\"factors\":[[\"< 30 years\",\"a\"],[\"< 30 years\",\"c\"],[\"30 - 45 years\",\"a\"],[\"30 - 45 years\",\"c\"],[\"46 - 60 years\",\"a\"],[\"46 - 60 years\",\"c\"],[\"> 60 years\",\"a\"],[\"> 60 years\",\"c\"],[\"uniformly distributed\",\"a\"],[\"uniformly distributed\",\"c\"]]},\"id\":\"7510\",\"type\":\"FactorRange\"},{\"attributes\":{\"source\":{\"id\":\"7509\"}},\"id\":\"7532\",\"type\":\"CDSView\"},{\"attributes\":{},\"id\":\"7515\",\"type\":\"CategoricalScale\"},{\"attributes\":{\"start\":0},\"id\":\"7513\",\"type\":\"DataRange1d\"},{\"attributes\":{\"fill_alpha\":{\"value\":0.1},\"fill_color\":{\"field\":\"x\",\"transform\":{\"id\":\"7527\"}},\"line_alpha\":{\"value\":0.1},\"line_color\":{\"value\":null},\"top\":{\"field\":\"counts\"},\"width\":{\"value\":0.9},\"x\":{\"field\":\"x\"}},\"id\":\"7530\",\"type\":\"VBar\"},{\"attributes\":{},\"id\":\"7523\",\"type\":\"BasicTicker\"},{\"attributes\":{\"active_multi\":null},\"id\":\"7526\",\"type\":\"Toolbar\"},{\"attributes\":{},\"id\":\"7847\",\"type\":\"AllLabels\"},{\"attributes\":{\"data\":{\"counts\":[0.15916931094576586,0.0580870607028754,0.17551894225657336,0.04340388711395101,0.38964594871012426,0.3262113951011715,0.2722316126248334,0.5707002129925453,0.0034341854627031486,0.001597444089456869],\"x\":[[\"< 30 years\",\"a\"],[\"< 30 years\",\"c\"],[\"30 - 45 years\",\"a\"],[\"30 - 45 years\",\"c\"],[\"46 - 60 years\",\"a\"],[\"46 - 60 years\",\"c\"],[\"> 60 years\",\"a\"],[\"> 60 years\",\"c\"],[\"uniformly distributed\",\"a\"],[\"uniformly distributed\",\"c\"]]},\"selected\":{\"id\":\"7852\"},\"selection_policy\":{\"id\":\"7851\"}},\"id\":\"7509\",\"type\":\"ColumnDataSource\"},{\"attributes\":{},\"id\":\"7848\",\"type\":\"CategoricalTickFormatter\"},{\"attributes\":{\"axis\":{\"id\":\"7522\"},\"dimension\":1,\"ticker\":null},\"id\":\"7525\",\"type\":\"Grid\"}],\"root_ids\":[\"7511\"]},\"title\":\"Bokeh Application\",\"version\":\"2.3.1\"}};\n",
       "  var render_items = [{\"docid\":\"bc145fb4-42ed-4184-8b88-c105a6e176ce\",\"root_ids\":[\"7511\"],\"roots\":{\"7511\":\"309f87a4-74d0-474f-87d8-4aaad76feffa\"}}];\n",
       "  root.Bokeh.embed.embed_items_notebook(docs_json, render_items);\n",
       "\n",
       "  }\n",
       "  if (root.Bokeh !== undefined) {\n",
       "    embed_document(root);\n",
       "  } else {\n",
       "    var attempts = 0;\n",
       "    var timer = setInterval(function(root) {\n",
       "      if (root.Bokeh !== undefined) {\n",
       "        clearInterval(timer);\n",
       "        embed_document(root);\n",
       "      } else {\n",
       "        attempts++;\n",
       "        if (attempts > 100) {\n",
       "          clearInterval(timer);\n",
       "          console.log(\"Bokeh: ERROR: Unable to run BokehJS code because BokehJS library is missing\");\n",
       "        }\n",
       "      }\n",
       "    }, 10, root)\n",
       "  }\n",
       "})(window);"
      ],
      "application/vnd.bokehjs_exec.v0+json": ""
     },
     "metadata": {
      "application/vnd.bokehjs_exec.v0+json": {
       "id": "7511"
      }
     },
     "output_type": "display_data"
    },
    {
     "data": {
      "text/html": [
       "<div>\n",
       "<style scoped>\n",
       "    .dataframe tbody tr th:only-of-type {\n",
       "        vertical-align: middle;\n",
       "    }\n",
       "\n",
       "    .dataframe tbody tr th {\n",
       "        vertical-align: top;\n",
       "    }\n",
       "\n",
       "    .dataframe thead th {\n",
       "        text-align: right;\n",
       "    }\n",
       "</style>\n",
       "<table border=\"1\" class=\"dataframe\">\n",
       "  <thead>\n",
       "    <tr style=\"text-align: right;\">\n",
       "      <th></th>\n",
       "      <th>Attribute</th>\n",
       "      <th>Value</th>\n",
       "      <th>Meaning</th>\n",
       "    </tr>\n",
       "  </thead>\n",
       "  <tbody>\n",
       "    <tr>\n",
       "      <th>5</th>\n",
       "      <td>ALTERSKATEGORIE_GROB</td>\n",
       "      <td>-1, 0</td>\n",
       "      <td>unknown</td>\n",
       "    </tr>\n",
       "    <tr>\n",
       "      <th>6</th>\n",
       "      <td>ALTERSKATEGORIE_GROB</td>\n",
       "      <td>1</td>\n",
       "      <td>&lt; 30 years</td>\n",
       "    </tr>\n",
       "    <tr>\n",
       "      <th>7</th>\n",
       "      <td>ALTERSKATEGORIE_GROB</td>\n",
       "      <td>2</td>\n",
       "      <td>30 - 45 years</td>\n",
       "    </tr>\n",
       "    <tr>\n",
       "      <th>8</th>\n",
       "      <td>ALTERSKATEGORIE_GROB</td>\n",
       "      <td>3</td>\n",
       "      <td>46 - 60 years</td>\n",
       "    </tr>\n",
       "    <tr>\n",
       "      <th>9</th>\n",
       "      <td>ALTERSKATEGORIE_GROB</td>\n",
       "      <td>4</td>\n",
       "      <td>&gt; 60 years</td>\n",
       "    </tr>\n",
       "    <tr>\n",
       "      <th>10</th>\n",
       "      <td>ALTERSKATEGORIE_GROB</td>\n",
       "      <td>9</td>\n",
       "      <td>uniformly distributed</td>\n",
       "    </tr>\n",
       "  </tbody>\n",
       "</table>\n",
       "</div>"
      ],
      "text/plain": [
       "               Attribute  Value                Meaning\n",
       "5   ALTERSKATEGORIE_GROB  -1, 0                unknown\n",
       "6   ALTERSKATEGORIE_GROB      1             < 30 years\n",
       "7   ALTERSKATEGORIE_GROB      2          30 - 45 years\n",
       "8   ALTERSKATEGORIE_GROB      3          46 - 60 years\n",
       "9   ALTERSKATEGORIE_GROB      4             > 60 years\n",
       "10  ALTERSKATEGORIE_GROB      9  uniformly distributed"
      ]
     },
     "metadata": {},
     "output_type": "display_data"
    },
    {
     "name": "stdout",
     "output_type": "stream",
     "text": [
      "==========================================================================================================================================================================================================================================\n"
     ]
    },
    {
     "data": {
      "text/html": [
       "\n",
       "\n",
       "\n",
       "\n",
       "\n",
       "\n",
       "  <div class=\"bk-root\" id=\"6abb5c4c-48e7-4fbf-a674-ca1682f0e4d3\" data-root-id=\"7905\"></div>\n"
      ]
     },
     "metadata": {},
     "output_type": "display_data"
    },
    {
     "data": {
      "application/javascript": [
       "(function(root) {\n",
       "  function embed_document(root) {\n",
       "    \n",
       "  var docs_json = {\"d23d2af7-7965-42c5-b811-93d6e9019a19\":{\"defs\":[],\"roots\":{\"references\":[{\"attributes\":{\"below\":[{\"id\":\"7913\"}],\"center\":[{\"id\":\"7915\"},{\"id\":\"7919\"}],\"height\":500,\"left\":[{\"id\":\"7916\"}],\"renderers\":[{\"id\":\"7925\"}],\"title\":{\"id\":\"7927\"},\"toolbar\":{\"id\":\"7920\"},\"toolbar_location\":null,\"width\":950,\"x_range\":{\"id\":\"7904\"},\"x_scale\":{\"id\":\"7909\"},\"y_range\":{\"id\":\"7907\"},\"y_scale\":{\"id\":\"7911\"}},\"id\":\"7905\",\"subtype\":\"Figure\",\"type\":\"Plot\"},{\"attributes\":{},\"id\":\"7914\",\"type\":\"CategoricalTicker\"},{\"attributes\":{\"formatter\":{\"id\":\"8249\"},\"major_label_policy\":{\"id\":\"8251\"},\"ticker\":{\"id\":\"7917\"}},\"id\":\"7916\",\"type\":\"LinearAxis\"},{\"attributes\":{\"formatter\":{\"id\":\"8252\"},\"group_label_orientation\":1.5707963267948966,\"major_label_orientation\":0,\"major_label_policy\":{\"id\":\"8254\"},\"ticker\":{\"id\":\"7914\"}},\"id\":\"7913\",\"type\":\"CategoricalAxis\"},{\"attributes\":{\"fill_color\":{\"field\":\"x\",\"transform\":{\"id\":\"7921\"}},\"line_color\":{\"value\":null},\"top\":{\"field\":\"counts\"},\"width\":{\"value\":0.9},\"x\":{\"field\":\"x\"}},\"id\":\"7923\",\"type\":\"VBar\"},{\"attributes\":{\"fill_alpha\":{\"value\":0.1},\"fill_color\":{\"field\":\"x\",\"transform\":{\"id\":\"7921\"}},\"line_alpha\":{\"value\":0.1},\"line_color\":{\"value\":null},\"top\":{\"field\":\"counts\"},\"width\":{\"value\":0.9},\"x\":{\"field\":\"x\"}},\"id\":\"7924\",\"type\":\"VBar\"},{\"attributes\":{\"data\":{\"counts\":[0.08835666894738223,0.14887513312034079,0.10989035877165587,0.22101304579339723,0.1597116762305732,0.2108759318423855,0.19312733783277986,0.2665468583599574,0.1808567702683695,0.10622337593184239,0.13044302303681646,0.021239350372736953,0.1376141649124229,0.025226304579339724],\"x\":[[\"highest affinity\",\"a\"],[\"highest affinity\",\"c\"],[\"very high affinity\",\"a\"],[\"very high affinity\",\"c\"],[\"high affinity\",\"a\"],[\"high affinity\",\"c\"],[\"average affinity\",\"a\"],[\"average affinity\",\"c\"],[\"low affinity\",\"a\"],[\"low affinity\",\"c\"],[\"very low affinity\",\"a\"],[\"very low affinity\",\"c\"],[\"lowest affinity\",\"a\"],[\"lowest affinity\",\"c\"]]},\"selected\":{\"id\":\"8256\"},\"selection_policy\":{\"id\":\"8255\"}},\"id\":\"7903\",\"type\":\"ColumnDataSource\"},{\"attributes\":{},\"id\":\"8249\",\"type\":\"BasicTickFormatter\"},{\"attributes\":{},\"id\":\"8254\",\"type\":\"AllLabels\"},{\"attributes\":{\"factors\":[[\"highest affinity\",\"a\"],[\"highest affinity\",\"c\"],[\"very high affinity\",\"a\"],[\"very high affinity\",\"c\"],[\"high affinity\",\"a\"],[\"high affinity\",\"c\"],[\"average affinity\",\"a\"],[\"average affinity\",\"c\"],[\"low affinity\",\"a\"],[\"low affinity\",\"c\"],[\"very low affinity\",\"a\"],[\"very low affinity\",\"c\"],[\"lowest affinity\",\"a\"],[\"lowest affinity\",\"c\"]]},\"id\":\"7904\",\"type\":\"FactorRange\"},{\"attributes\":{},\"id\":\"8255\",\"type\":\"UnionRenderers\"},{\"attributes\":{\"axis\":{\"id\":\"7913\"},\"grid_line_color\":null,\"ticker\":null},\"id\":\"7915\",\"type\":\"Grid\"},{\"attributes\":{},\"id\":\"7917\",\"type\":\"BasicTicker\"},{\"attributes\":{},\"id\":\"7911\",\"type\":\"LinearScale\"},{\"attributes\":{\"active_multi\":null},\"id\":\"7920\",\"type\":\"Toolbar\"},{\"attributes\":{},\"id\":\"8252\",\"type\":\"CategoricalTickFormatter\"},{\"attributes\":{},\"id\":\"8251\",\"type\":\"AllLabels\"},{\"attributes\":{\"source\":{\"id\":\"7903\"}},\"id\":\"7926\",\"type\":\"CDSView\"},{\"attributes\":{\"axis\":{\"id\":\"7916\"},\"dimension\":1,\"ticker\":null},\"id\":\"7919\",\"type\":\"Grid\"},{\"attributes\":{},\"id\":\"7909\",\"type\":\"CategoricalScale\"},{\"attributes\":{\"end\":2,\"factors\":[\"a\",\"c\"],\"palette\":[\"#1f77b4\",\"#ff7f0e\"],\"start\":1},\"id\":\"7921\",\"type\":\"CategoricalColorMapper\"},{\"attributes\":{\"data_source\":{\"id\":\"7903\"},\"glyph\":{\"id\":\"7923\"},\"hover_glyph\":null,\"muted_glyph\":null,\"nonselection_glyph\":{\"id\":\"7924\"},\"view\":{\"id\":\"7926\"}},\"id\":\"7925\",\"type\":\"GlyphRenderer\"},{\"attributes\":{\"start\":0},\"id\":\"7907\",\"type\":\"DataRange1d\"},{\"attributes\":{},\"id\":\"8256\",\"type\":\"Selection\"},{\"attributes\":{\"text\":\"SEMIO_PFLICHT [ks:0.2962 p:0.0000]\"},\"id\":\"7927\",\"type\":\"Title\"}],\"root_ids\":[\"7905\"]},\"title\":\"Bokeh Application\",\"version\":\"2.3.1\"}};\n",
       "  var render_items = [{\"docid\":\"d23d2af7-7965-42c5-b811-93d6e9019a19\",\"root_ids\":[\"7905\"],\"roots\":{\"7905\":\"6abb5c4c-48e7-4fbf-a674-ca1682f0e4d3\"}}];\n",
       "  root.Bokeh.embed.embed_items_notebook(docs_json, render_items);\n",
       "\n",
       "  }\n",
       "  if (root.Bokeh !== undefined) {\n",
       "    embed_document(root);\n",
       "  } else {\n",
       "    var attempts = 0;\n",
       "    var timer = setInterval(function(root) {\n",
       "      if (root.Bokeh !== undefined) {\n",
       "        clearInterval(timer);\n",
       "        embed_document(root);\n",
       "      } else {\n",
       "        attempts++;\n",
       "        if (attempts > 100) {\n",
       "          clearInterval(timer);\n",
       "          console.log(\"Bokeh: ERROR: Unable to run BokehJS code because BokehJS library is missing\");\n",
       "        }\n",
       "      }\n",
       "    }, 10, root)\n",
       "  }\n",
       "})(window);"
      ],
      "application/vnd.bokehjs_exec.v0+json": ""
     },
     "metadata": {
      "application/vnd.bokehjs_exec.v0+json": {
       "id": "7905"
      }
     },
     "output_type": "display_data"
    },
    {
     "data": {
      "text/html": [
       "<div>\n",
       "<style scoped>\n",
       "    .dataframe tbody tr th:only-of-type {\n",
       "        vertical-align: middle;\n",
       "    }\n",
       "\n",
       "    .dataframe tbody tr th {\n",
       "        vertical-align: top;\n",
       "    }\n",
       "\n",
       "    .dataframe thead th {\n",
       "        text-align: right;\n",
       "    }\n",
       "</style>\n",
       "<table border=\"1\" class=\"dataframe\">\n",
       "  <thead>\n",
       "    <tr style=\"text-align: right;\">\n",
       "      <th></th>\n",
       "      <th>Attribute</th>\n",
       "      <th>Value</th>\n",
       "      <th>Meaning</th>\n",
       "    </tr>\n",
       "  </thead>\n",
       "  <tbody>\n",
       "    <tr>\n",
       "      <th>2154</th>\n",
       "      <td>SEMIO_PFLICHT</td>\n",
       "      <td>-1, 9</td>\n",
       "      <td>unknown</td>\n",
       "    </tr>\n",
       "    <tr>\n",
       "      <th>2155</th>\n",
       "      <td>SEMIO_PFLICHT</td>\n",
       "      <td>1</td>\n",
       "      <td>highest affinity</td>\n",
       "    </tr>\n",
       "    <tr>\n",
       "      <th>2156</th>\n",
       "      <td>SEMIO_PFLICHT</td>\n",
       "      <td>2</td>\n",
       "      <td>very high affinity</td>\n",
       "    </tr>\n",
       "    <tr>\n",
       "      <th>2157</th>\n",
       "      <td>SEMIO_PFLICHT</td>\n",
       "      <td>3</td>\n",
       "      <td>high affinity</td>\n",
       "    </tr>\n",
       "    <tr>\n",
       "      <th>2158</th>\n",
       "      <td>SEMIO_PFLICHT</td>\n",
       "      <td>4</td>\n",
       "      <td>average affinity</td>\n",
       "    </tr>\n",
       "    <tr>\n",
       "      <th>2159</th>\n",
       "      <td>SEMIO_PFLICHT</td>\n",
       "      <td>5</td>\n",
       "      <td>low affinity</td>\n",
       "    </tr>\n",
       "    <tr>\n",
       "      <th>2160</th>\n",
       "      <td>SEMIO_PFLICHT</td>\n",
       "      <td>6</td>\n",
       "      <td>very low affinity</td>\n",
       "    </tr>\n",
       "    <tr>\n",
       "      <th>2161</th>\n",
       "      <td>SEMIO_PFLICHT</td>\n",
       "      <td>7</td>\n",
       "      <td>lowest affinity</td>\n",
       "    </tr>\n",
       "  </tbody>\n",
       "</table>\n",
       "</div>"
      ],
      "text/plain": [
       "          Attribute  Value             Meaning\n",
       "2154  SEMIO_PFLICHT  -1, 9             unknown\n",
       "2155  SEMIO_PFLICHT      1    highest affinity\n",
       "2156  SEMIO_PFLICHT      2  very high affinity\n",
       "2157  SEMIO_PFLICHT      3       high affinity\n",
       "2158  SEMIO_PFLICHT      4    average affinity\n",
       "2159  SEMIO_PFLICHT      5        low affinity\n",
       "2160  SEMIO_PFLICHT      6   very low affinity\n",
       "2161  SEMIO_PFLICHT      7     lowest affinity"
      ]
     },
     "metadata": {},
     "output_type": "display_data"
    },
    {
     "name": "stdout",
     "output_type": "stream",
     "text": [
      "==========================================================================================================================================================================================================================================\n"
     ]
    },
    {
     "data": {
      "text/html": [
       "\n",
       "\n",
       "\n",
       "\n",
       "\n",
       "\n",
       "  <div class=\"bk-root\" id=\"e37f6615-4d5a-4595-b727-16f29e90bc93\" data-root-id=\"8309\"></div>\n"
      ]
     },
     "metadata": {},
     "output_type": "display_data"
    },
    {
     "data": {
      "application/javascript": [
       "(function(root) {\n",
       "  function embed_document(root) {\n",
       "    \n",
       "  var docs_json = {\"890d4c0b-a8fe-4172-9cb3-dfafca68943b\":{\"defs\":[],\"roots\":{\"references\":[{\"attributes\":{\"below\":[{\"id\":\"8317\"}],\"center\":[{\"id\":\"8319\"},{\"id\":\"8323\"}],\"height\":500,\"left\":[{\"id\":\"8320\"}],\"renderers\":[{\"id\":\"8329\"}],\"title\":{\"id\":\"8331\"},\"toolbar\":{\"id\":\"8324\"},\"toolbar_location\":null,\"width\":950,\"x_range\":{\"id\":\"8308\"},\"x_scale\":{\"id\":\"8313\"},\"y_range\":{\"id\":\"8311\"},\"y_scale\":{\"id\":\"8315\"}},\"id\":\"8309\",\"subtype\":\"Figure\",\"type\":\"Plot\"},{\"attributes\":{},\"id\":\"8670\",\"type\":\"Selection\"},{\"attributes\":{},\"id\":\"8313\",\"type\":\"CategoricalScale\"},{\"attributes\":{\"start\":0},\"id\":\"8311\",\"type\":\"DataRange1d\"},{\"attributes\":{\"text\":\"ZABEOTYP [ks:0.2961 p:0.0000]\"},\"id\":\"8331\",\"type\":\"Title\"},{\"attributes\":{\"source\":{\"id\":\"8307\"}},\"id\":\"8330\",\"type\":\"CDSView\"},{\"attributes\":{\"fill_color\":{\"field\":\"x\",\"transform\":{\"id\":\"8325\"}},\"line_color\":{\"value\":null},\"top\":{\"field\":\"counts\"},\"width\":{\"value\":0.9},\"x\":{\"field\":\"x\"}},\"id\":\"8327\",\"type\":\"VBar\"},{\"attributes\":{\"fill_alpha\":{\"value\":0.1},\"fill_color\":{\"field\":\"x\",\"transform\":{\"id\":\"8325\"}},\"line_alpha\":{\"value\":0.1},\"line_color\":{\"value\":null},\"top\":{\"field\":\"counts\"},\"width\":{\"value\":0.9},\"x\":{\"field\":\"x\"}},\"id\":\"8328\",\"type\":\"VBar\"},{\"attributes\":{\"data\":{\"counts\":[0.1473564758415006,0.361328541001065,0.039539025268262216,0.04586661341853035,0.3726776633711519,0.44846911608093715,0.25038561575743995,0.09842252396166135,0.10126853876064168,0.007055378061767838,0.08877268100100368,0.03885782747603834],\"x\":[[\"green\",\"a\"],[\"green\",\"c\"],[\"smart\",\"a\"],[\"smart\",\"c\"],[\"fair supplied\",\"a\"],[\"fair supplied\",\"c\"],[\"price driven\",\"a\"],[\"price driven\",\"c\"],[\"seeking orientation\",\"a\"],[\"seeking orientation\",\"c\"],[\"indifferent\",\"a\"],[\"indifferent\",\"c\"]]},\"selected\":{\"id\":\"8670\"},\"selection_policy\":{\"id\":\"8669\"}},\"id\":\"8307\",\"type\":\"ColumnDataSource\"},{\"attributes\":{\"data_source\":{\"id\":\"8307\"},\"glyph\":{\"id\":\"8327\"},\"hover_glyph\":null,\"muted_glyph\":null,\"nonselection_glyph\":{\"id\":\"8328\"},\"view\":{\"id\":\"8330\"}},\"id\":\"8329\",\"type\":\"GlyphRenderer\"},{\"attributes\":{\"axis\":{\"id\":\"8320\"},\"dimension\":1,\"ticker\":null},\"id\":\"8323\",\"type\":\"Grid\"},{\"attributes\":{\"factors\":[[\"green\",\"a\"],[\"green\",\"c\"],[\"smart\",\"a\"],[\"smart\",\"c\"],[\"fair supplied\",\"a\"],[\"fair supplied\",\"c\"],[\"price driven\",\"a\"],[\"price driven\",\"c\"],[\"seeking orientation\",\"a\"],[\"seeking orientation\",\"c\"],[\"indifferent\",\"a\"],[\"indifferent\",\"c\"]]},\"id\":\"8308\",\"type\":\"FactorRange\"},{\"attributes\":{},\"id\":\"8321\",\"type\":\"BasicTicker\"},{\"attributes\":{},\"id\":\"8668\",\"type\":\"AllLabels\"},{\"attributes\":{},\"id\":\"8663\",\"type\":\"BasicTickFormatter\"},{\"attributes\":{},\"id\":\"8669\",\"type\":\"UnionRenderers\"},{\"attributes\":{},\"id\":\"8315\",\"type\":\"LinearScale\"},{\"attributes\":{},\"id\":\"8318\",\"type\":\"CategoricalTicker\"},{\"attributes\":{\"formatter\":{\"id\":\"8663\"},\"major_label_policy\":{\"id\":\"8665\"},\"ticker\":{\"id\":\"8321\"}},\"id\":\"8320\",\"type\":\"LinearAxis\"},{\"attributes\":{\"active_multi\":null},\"id\":\"8324\",\"type\":\"Toolbar\"},{\"attributes\":{},\"id\":\"8666\",\"type\":\"CategoricalTickFormatter\"},{\"attributes\":{\"formatter\":{\"id\":\"8666\"},\"group_label_orientation\":1.5707963267948966,\"major_label_orientation\":0,\"major_label_policy\":{\"id\":\"8668\"},\"ticker\":{\"id\":\"8318\"}},\"id\":\"8317\",\"type\":\"CategoricalAxis\"},{\"attributes\":{},\"id\":\"8665\",\"type\":\"AllLabels\"},{\"attributes\":{\"end\":2,\"factors\":[\"a\",\"c\"],\"palette\":[\"#1f77b4\",\"#ff7f0e\"],\"start\":1},\"id\":\"8325\",\"type\":\"CategoricalColorMapper\"},{\"attributes\":{\"axis\":{\"id\":\"8317\"},\"grid_line_color\":null,\"ticker\":null},\"id\":\"8319\",\"type\":\"Grid\"}],\"root_ids\":[\"8309\"]},\"title\":\"Bokeh Application\",\"version\":\"2.3.1\"}};\n",
       "  var render_items = [{\"docid\":\"890d4c0b-a8fe-4172-9cb3-dfafca68943b\",\"root_ids\":[\"8309\"],\"roots\":{\"8309\":\"e37f6615-4d5a-4595-b727-16f29e90bc93\"}}];\n",
       "  root.Bokeh.embed.embed_items_notebook(docs_json, render_items);\n",
       "\n",
       "  }\n",
       "  if (root.Bokeh !== undefined) {\n",
       "    embed_document(root);\n",
       "  } else {\n",
       "    var attempts = 0;\n",
       "    var timer = setInterval(function(root) {\n",
       "      if (root.Bokeh !== undefined) {\n",
       "        clearInterval(timer);\n",
       "        embed_document(root);\n",
       "      } else {\n",
       "        attempts++;\n",
       "        if (attempts > 100) {\n",
       "          clearInterval(timer);\n",
       "          console.log(\"Bokeh: ERROR: Unable to run BokehJS code because BokehJS library is missing\");\n",
       "        }\n",
       "      }\n",
       "    }, 10, root)\n",
       "  }\n",
       "})(window);"
      ],
      "application/vnd.bokehjs_exec.v0+json": ""
     },
     "metadata": {
      "application/vnd.bokehjs_exec.v0+json": {
       "id": "8309"
      }
     },
     "output_type": "display_data"
    },
    {
     "data": {
      "text/html": [
       "<div>\n",
       "<style scoped>\n",
       "    .dataframe tbody tr th:only-of-type {\n",
       "        vertical-align: middle;\n",
       "    }\n",
       "\n",
       "    .dataframe tbody tr th {\n",
       "        vertical-align: top;\n",
       "    }\n",
       "\n",
       "    .dataframe thead th {\n",
       "        text-align: right;\n",
       "    }\n",
       "</style>\n",
       "<table border=\"1\" class=\"dataframe\">\n",
       "  <thead>\n",
       "    <tr style=\"text-align: right;\">\n",
       "      <th></th>\n",
       "      <th>Attribute</th>\n",
       "      <th>Value</th>\n",
       "      <th>Meaning</th>\n",
       "    </tr>\n",
       "  </thead>\n",
       "  <tbody>\n",
       "    <tr>\n",
       "      <th>2251</th>\n",
       "      <td>ZABEOTYP</td>\n",
       "      <td>-1, 9</td>\n",
       "      <td>unknown</td>\n",
       "    </tr>\n",
       "    <tr>\n",
       "      <th>2252</th>\n",
       "      <td>ZABEOTYP</td>\n",
       "      <td>1</td>\n",
       "      <td>green</td>\n",
       "    </tr>\n",
       "    <tr>\n",
       "      <th>2253</th>\n",
       "      <td>ZABEOTYP</td>\n",
       "      <td>2</td>\n",
       "      <td>smart</td>\n",
       "    </tr>\n",
       "    <tr>\n",
       "      <th>2254</th>\n",
       "      <td>ZABEOTYP</td>\n",
       "      <td>3</td>\n",
       "      <td>fair supplied</td>\n",
       "    </tr>\n",
       "    <tr>\n",
       "      <th>2255</th>\n",
       "      <td>ZABEOTYP</td>\n",
       "      <td>4</td>\n",
       "      <td>price driven</td>\n",
       "    </tr>\n",
       "    <tr>\n",
       "      <th>2256</th>\n",
       "      <td>ZABEOTYP</td>\n",
       "      <td>5</td>\n",
       "      <td>seeking orientation</td>\n",
       "    </tr>\n",
       "    <tr>\n",
       "      <th>2257</th>\n",
       "      <td>ZABEOTYP</td>\n",
       "      <td>6</td>\n",
       "      <td>indifferent</td>\n",
       "    </tr>\n",
       "  </tbody>\n",
       "</table>\n",
       "</div>"
      ],
      "text/plain": [
       "     Attribute  Value              Meaning\n",
       "2251  ZABEOTYP  -1, 9              unknown\n",
       "2252  ZABEOTYP      1                green\n",
       "2253  ZABEOTYP      2                smart\n",
       "2254  ZABEOTYP      3        fair supplied\n",
       "2255  ZABEOTYP      4         price driven\n",
       "2256  ZABEOTYP      5  seeking orientation\n",
       "2257  ZABEOTYP      6          indifferent"
      ]
     },
     "metadata": {},
     "output_type": "display_data"
    },
    {
     "name": "stdout",
     "output_type": "stream",
     "text": [
      "==========================================================================================================================================================================================================================================\n"
     ]
    },
    {
     "data": {
      "text/html": [
       "\n",
       "\n",
       "\n",
       "\n",
       "\n",
       "\n",
       "  <div class=\"bk-root\" id=\"5825e282-1365-4f2f-909d-e2a3e5dc175f\" data-root-id=\"8723\"></div>\n"
      ]
     },
     "metadata": {},
     "output_type": "display_data"
    },
    {
     "data": {
      "application/javascript": [
       "(function(root) {\n",
       "  function embed_document(root) {\n",
       "    \n",
       "  var docs_json = {\"47c60210-14a0-42a1-83f6-373333579cd5\":{\"defs\":[],\"roots\":{\"references\":[{\"attributes\":{\"below\":[{\"id\":\"8731\"}],\"center\":[{\"id\":\"8733\"},{\"id\":\"8737\"}],\"height\":500,\"left\":[{\"id\":\"8734\"}],\"renderers\":[{\"id\":\"8743\"}],\"title\":{\"id\":\"8745\"},\"toolbar\":{\"id\":\"8738\"},\"toolbar_location\":null,\"width\":950,\"x_range\":{\"id\":\"8722\"},\"x_scale\":{\"id\":\"8727\"},\"y_range\":{\"id\":\"8725\"},\"y_scale\":{\"id\":\"8729\"}},\"id\":\"8723\",\"subtype\":\"Figure\",\"type\":\"Plot\"},{\"attributes\":{\"formatter\":{\"id\":\"9090\"},\"group_label_orientation\":1.5707963267948966,\"major_label_orientation\":0,\"major_label_policy\":{\"id\":\"9092\"},\"ticker\":{\"id\":\"8732\"}},\"id\":\"8731\",\"type\":\"CategoricalAxis\"},{\"attributes\":{\"formatter\":{\"id\":\"9087\"},\"major_label_policy\":{\"id\":\"9089\"},\"ticker\":{\"id\":\"8735\"}},\"id\":\"8734\",\"type\":\"LinearAxis\"},{\"attributes\":{},\"id\":\"9090\",\"type\":\"CategoricalTickFormatter\"},{\"attributes\":{\"end\":2,\"factors\":[\"a\",\"c\"],\"palette\":[\"#1f77b4\",\"#ff7f0e\"],\"start\":1},\"id\":\"8739\",\"type\":\"CategoricalColorMapper\"},{\"attributes\":{\"factors\":[[\"highest income\",\"a\"],[\"highest income\",\"c\"],[\"very high income\",\"a\"],[\"very high income\",\"c\"],[\"high income\",\"a\"],[\"high income\",\"c\"],[\"average income\",\"a\"],[\"average income\",\"c\"],[\"lower income\",\"a\"],[\"lower income\",\"c\"],[\"very low income\",\"a\"],[\"very low income\",\"c\"]]},\"id\":\"8722\",\"type\":\"FactorRange\"},{\"attributes\":{},\"id\":\"9094\",\"type\":\"Selection\"},{\"attributes\":{},\"id\":\"9087\",\"type\":\"BasicTickFormatter\"},{\"attributes\":{\"data_source\":{\"id\":\"8721\"},\"glyph\":{\"id\":\"8741\"},\"hover_glyph\":null,\"muted_glyph\":null,\"nonselection_glyph\":{\"id\":\"8742\"},\"view\":{\"id\":\"8744\"}},\"id\":\"8743\",\"type\":\"GlyphRenderer\"},{\"attributes\":{\"fill_alpha\":{\"value\":0.1},\"fill_color\":{\"field\":\"x\",\"transform\":{\"id\":\"8739\"}},\"line_alpha\":{\"value\":0.1},\"line_color\":{\"value\":null},\"top\":{\"field\":\"counts\"},\"width\":{\"value\":0.9},\"x\":{\"field\":\"x\"}},\"id\":\"8742\",\"type\":\"VBar\"},{\"attributes\":{\"axis\":{\"id\":\"8734\"},\"dimension\":1,\"ticker\":null},\"id\":\"8737\",\"type\":\"Grid\"},{\"attributes\":{\"axis\":{\"id\":\"8731\"},\"grid_line_color\":null,\"ticker\":null},\"id\":\"8733\",\"type\":\"Grid\"},{\"attributes\":{},\"id\":\"9093\",\"type\":\"UnionRenderers\"},{\"attributes\":{\"source\":{\"id\":\"8721\"}},\"id\":\"8744\",\"type\":\"CDSView\"},{\"attributes\":{\"text\":\"HH_EINKOMMEN_SCORE [ks:0.2924 p:0.0000]\"},\"id\":\"8745\",\"type\":\"Title\"},{\"attributes\":{},\"id\":\"9089\",\"type\":\"AllLabels\"},{\"attributes\":{\"start\":0},\"id\":\"8725\",\"type\":\"DataRange1d\"},{\"attributes\":{},\"id\":\"8727\",\"type\":\"CategoricalScale\"},{\"attributes\":{},\"id\":\"8729\",\"type\":\"LinearScale\"},{\"attributes\":{\"active_multi\":null},\"id\":\"8738\",\"type\":\"Toolbar\"},{\"attributes\":{},\"id\":\"8732\",\"type\":\"CategoricalTicker\"},{\"attributes\":{\"data\":{\"counts\":[0.0648673151935893,0.20305688716270354,0.10813290780608534,0.19613781115471843,0.10334024266751479,0.15222646224044978,0.17030716681959815,0.18765023018319596,0.24547389868015876,0.16223501772206908,0.30787846883305364,0.09869359153686326],\"x\":[[\"highest income\",\"a\"],[\"highest income\",\"c\"],[\"very high income\",\"a\"],[\"very high income\",\"c\"],[\"high income\",\"a\"],[\"high income\",\"c\"],[\"average income\",\"a\"],[\"average income\",\"c\"],[\"lower income\",\"a\"],[\"lower income\",\"c\"],[\"very low income\",\"a\"],[\"very low income\",\"c\"]]},\"selected\":{\"id\":\"9094\"},\"selection_policy\":{\"id\":\"9093\"}},\"id\":\"8721\",\"type\":\"ColumnDataSource\"},{\"attributes\":{},\"id\":\"8735\",\"type\":\"BasicTicker\"},{\"attributes\":{},\"id\":\"9092\",\"type\":\"AllLabels\"},{\"attributes\":{\"fill_color\":{\"field\":\"x\",\"transform\":{\"id\":\"8739\"}},\"line_color\":{\"value\":null},\"top\":{\"field\":\"counts\"},\"width\":{\"value\":0.9},\"x\":{\"field\":\"x\"}},\"id\":\"8741\",\"type\":\"VBar\"}],\"root_ids\":[\"8723\"]},\"title\":\"Bokeh Application\",\"version\":\"2.3.1\"}};\n",
       "  var render_items = [{\"docid\":\"47c60210-14a0-42a1-83f6-373333579cd5\",\"root_ids\":[\"8723\"],\"roots\":{\"8723\":\"5825e282-1365-4f2f-909d-e2a3e5dc175f\"}}];\n",
       "  root.Bokeh.embed.embed_items_notebook(docs_json, render_items);\n",
       "\n",
       "  }\n",
       "  if (root.Bokeh !== undefined) {\n",
       "    embed_document(root);\n",
       "  } else {\n",
       "    var attempts = 0;\n",
       "    var timer = setInterval(function(root) {\n",
       "      if (root.Bokeh !== undefined) {\n",
       "        clearInterval(timer);\n",
       "        embed_document(root);\n",
       "      } else {\n",
       "        attempts++;\n",
       "        if (attempts > 100) {\n",
       "          clearInterval(timer);\n",
       "          console.log(\"Bokeh: ERROR: Unable to run BokehJS code because BokehJS library is missing\");\n",
       "        }\n",
       "      }\n",
       "    }, 10, root)\n",
       "  }\n",
       "})(window);"
      ],
      "application/vnd.bokehjs_exec.v0+json": ""
     },
     "metadata": {
      "application/vnd.bokehjs_exec.v0+json": {
       "id": "8723"
      }
     },
     "output_type": "display_data"
    },
    {
     "data": {
      "text/html": [
       "<div>\n",
       "<style scoped>\n",
       "    .dataframe tbody tr th:only-of-type {\n",
       "        vertical-align: middle;\n",
       "    }\n",
       "\n",
       "    .dataframe tbody tr th {\n",
       "        vertical-align: top;\n",
       "    }\n",
       "\n",
       "    .dataframe thead th {\n",
       "        text-align: right;\n",
       "    }\n",
       "</style>\n",
       "<table border=\"1\" class=\"dataframe\">\n",
       "  <thead>\n",
       "    <tr style=\"text-align: right;\">\n",
       "      <th></th>\n",
       "      <th>Attribute</th>\n",
       "      <th>Value</th>\n",
       "      <th>Meaning</th>\n",
       "    </tr>\n",
       "  </thead>\n",
       "  <tbody>\n",
       "    <tr>\n",
       "      <th>749</th>\n",
       "      <td>HH_EINKOMMEN_SCORE</td>\n",
       "      <td>-1, 0</td>\n",
       "      <td>unknown</td>\n",
       "    </tr>\n",
       "    <tr>\n",
       "      <th>750</th>\n",
       "      <td>HH_EINKOMMEN_SCORE</td>\n",
       "      <td>1</td>\n",
       "      <td>highest income</td>\n",
       "    </tr>\n",
       "    <tr>\n",
       "      <th>751</th>\n",
       "      <td>HH_EINKOMMEN_SCORE</td>\n",
       "      <td>2</td>\n",
       "      <td>very high income</td>\n",
       "    </tr>\n",
       "    <tr>\n",
       "      <th>752</th>\n",
       "      <td>HH_EINKOMMEN_SCORE</td>\n",
       "      <td>3</td>\n",
       "      <td>high income</td>\n",
       "    </tr>\n",
       "    <tr>\n",
       "      <th>753</th>\n",
       "      <td>HH_EINKOMMEN_SCORE</td>\n",
       "      <td>4</td>\n",
       "      <td>average income</td>\n",
       "    </tr>\n",
       "    <tr>\n",
       "      <th>754</th>\n",
       "      <td>HH_EINKOMMEN_SCORE</td>\n",
       "      <td>5</td>\n",
       "      <td>lower income</td>\n",
       "    </tr>\n",
       "    <tr>\n",
       "      <th>755</th>\n",
       "      <td>HH_EINKOMMEN_SCORE</td>\n",
       "      <td>6</td>\n",
       "      <td>very low income</td>\n",
       "    </tr>\n",
       "  </tbody>\n",
       "</table>\n",
       "</div>"
      ],
      "text/plain": [
       "              Attribute  Value           Meaning\n",
       "749  HH_EINKOMMEN_SCORE  -1, 0           unknown\n",
       "750  HH_EINKOMMEN_SCORE      1    highest income\n",
       "751  HH_EINKOMMEN_SCORE      2  very high income\n",
       "752  HH_EINKOMMEN_SCORE      3       high income\n",
       "753  HH_EINKOMMEN_SCORE      4    average income\n",
       "754  HH_EINKOMMEN_SCORE      5      lower income\n",
       "755  HH_EINKOMMEN_SCORE      6   very low income"
      ]
     },
     "metadata": {},
     "output_type": "display_data"
    },
    {
     "name": "stdout",
     "output_type": "stream",
     "text": [
      "==========================================================================================================================================================================================================================================\n"
     ]
    },
    {
     "data": {
      "text/html": [
       "\n",
       "\n",
       "\n",
       "\n",
       "\n",
       "\n",
       "  <div class=\"bk-root\" id=\"5203e713-83f8-4f6e-a39f-ca6705d41692\" data-root-id=\"9147\"></div>\n"
      ]
     },
     "metadata": {},
     "output_type": "display_data"
    },
    {
     "data": {
      "application/javascript": [
       "(function(root) {\n",
       "  function embed_document(root) {\n",
       "    \n",
       "  var docs_json = {\"1f4312b6-fef6-4929-8388-b40f6fc14965\":{\"defs\":[],\"roots\":{\"references\":[{\"attributes\":{\"below\":[{\"id\":\"9155\"}],\"center\":[{\"id\":\"9157\"},{\"id\":\"9161\"}],\"height\":500,\"left\":[{\"id\":\"9158\"}],\"renderers\":[{\"id\":\"9167\"}],\"title\":{\"id\":\"9169\"},\"toolbar\":{\"id\":\"9162\"},\"toolbar_location\":null,\"width\":950,\"x_range\":{\"id\":\"9146\"},\"x_scale\":{\"id\":\"9151\"},\"y_range\":{\"id\":\"9149\"},\"y_scale\":{\"id\":\"9153\"}},\"id\":\"9147\",\"subtype\":\"Figure\",\"type\":\"Plot\"},{\"attributes\":{},\"id\":\"9153\",\"type\":\"LinearScale\"},{\"attributes\":{\"factors\":[[\"0.0\",\"a\"],[\"0.0\",\"c\"],[\"1.0\",\"a\"],[\"1.0\",\"c\"],[\"2.0\",\"a\"],[\"2.0\",\"c\"],[\"3.0\",\"a\"],[\"3.0\",\"c\"],[\"5.0\",\"a\"],[\"5.0\",\"c\"],[\"8.0\",\"a\"],[\"8.0\",\"c\"],[\"11.0\",\"a\"],[\"11.0\",\"c\"],[\"17.0\",\"a\"],[\"17.0\",\"c\"]]},\"id\":\"9146\",\"type\":\"FactorRange\"},{\"attributes\":{},\"id\":\"9524\",\"type\":\"CategoricalTickFormatter\"},{\"attributes\":{\"fill_color\":{\"field\":\"x\",\"transform\":{\"id\":\"9163\"}},\"line_color\":{\"value\":null},\"top\":{\"field\":\"counts\"},\"width\":{\"value\":0.9},\"x\":{\"field\":\"x\"}},\"id\":\"9165\",\"type\":\"VBar\"},{\"attributes\":{\"formatter\":{\"id\":\"9521\"},\"major_label_policy\":{\"id\":\"9523\"},\"ticker\":{\"id\":\"9159\"}},\"id\":\"9158\",\"type\":\"LinearAxis\"},{\"attributes\":{\"text\":\"ANZ_HAUSHALTE_AKTIV [ks:0.2824 p:0.0000]\"},\"id\":\"9169\",\"type\":\"Title\"},{\"attributes\":{},\"id\":\"9527\",\"type\":\"UnionRenderers\"},{\"attributes\":{\"axis\":{\"id\":\"9158\"},\"dimension\":1,\"ticker\":null},\"id\":\"9161\",\"type\":\"Grid\"},{\"attributes\":{\"data\":{\"counts\":[0.008098667893205867,0.01728644494051824,0.24558815604285703,0.5132597699850235,0.15162004689757855,0.157110966684563,0.1325740153325755,0.08725875271977168,0.13579744056026438,0.07185848710051146,0.10868532627154225,0.0508350052276131,0.10923927415281692,0.04754302184294555,0.10839707284915949,0.054847551499053376],\"x\":[[\"0.0\",\"a\"],[\"0.0\",\"c\"],[\"1.0\",\"a\"],[\"1.0\",\"c\"],[\"2.0\",\"a\"],[\"2.0\",\"c\"],[\"3.0\",\"a\"],[\"3.0\",\"c\"],[\"5.0\",\"a\"],[\"5.0\",\"c\"],[\"8.0\",\"a\"],[\"8.0\",\"c\"],[\"11.0\",\"a\"],[\"11.0\",\"c\"],[\"17.0\",\"a\"],[\"17.0\",\"c\"]]},\"selected\":{\"id\":\"9528\"},\"selection_policy\":{\"id\":\"9527\"}},\"id\":\"9145\",\"type\":\"ColumnDataSource\"},{\"attributes\":{\"start\":0},\"id\":\"9149\",\"type\":\"DataRange1d\"},{\"attributes\":{\"active_multi\":null},\"id\":\"9162\",\"type\":\"Toolbar\"},{\"attributes\":{},\"id\":\"9523\",\"type\":\"AllLabels\"},{\"attributes\":{\"axis\":{\"id\":\"9155\"},\"grid_line_color\":null,\"ticker\":null},\"id\":\"9157\",\"type\":\"Grid\"},{\"attributes\":{\"formatter\":{\"id\":\"9524\"},\"group_label_orientation\":1.5707963267948966,\"major_label_orientation\":0,\"major_label_policy\":{\"id\":\"9526\"},\"ticker\":{\"id\":\"9156\"}},\"id\":\"9155\",\"type\":\"CategoricalAxis\"},{\"attributes\":{\"fill_alpha\":{\"value\":0.1},\"fill_color\":{\"field\":\"x\",\"transform\":{\"id\":\"9163\"}},\"line_alpha\":{\"value\":0.1},\"line_color\":{\"value\":null},\"top\":{\"field\":\"counts\"},\"width\":{\"value\":0.9},\"x\":{\"field\":\"x\"}},\"id\":\"9166\",\"type\":\"VBar\"},{\"attributes\":{},\"id\":\"9156\",\"type\":\"CategoricalTicker\"},{\"attributes\":{},\"id\":\"9159\",\"type\":\"BasicTicker\"},{\"attributes\":{},\"id\":\"9521\",\"type\":\"BasicTickFormatter\"},{\"attributes\":{\"source\":{\"id\":\"9145\"}},\"id\":\"9168\",\"type\":\"CDSView\"},{\"attributes\":{},\"id\":\"9151\",\"type\":\"CategoricalScale\"},{\"attributes\":{},\"id\":\"9528\",\"type\":\"Selection\"},{\"attributes\":{},\"id\":\"9526\",\"type\":\"AllLabels\"},{\"attributes\":{\"data_source\":{\"id\":\"9145\"},\"glyph\":{\"id\":\"9165\"},\"hover_glyph\":null,\"muted_glyph\":null,\"nonselection_glyph\":{\"id\":\"9166\"},\"view\":{\"id\":\"9168\"}},\"id\":\"9167\",\"type\":\"GlyphRenderer\"},{\"attributes\":{\"end\":2,\"factors\":[\"a\",\"c\"],\"palette\":[\"#1f77b4\",\"#ff7f0e\"],\"start\":1},\"id\":\"9163\",\"type\":\"CategoricalColorMapper\"}],\"root_ids\":[\"9147\"]},\"title\":\"Bokeh Application\",\"version\":\"2.3.1\"}};\n",
       "  var render_items = [{\"docid\":\"1f4312b6-fef6-4929-8388-b40f6fc14965\",\"root_ids\":[\"9147\"],\"roots\":{\"9147\":\"5203e713-83f8-4f6e-a39f-ca6705d41692\"}}];\n",
       "  root.Bokeh.embed.embed_items_notebook(docs_json, render_items);\n",
       "\n",
       "  }\n",
       "  if (root.Bokeh !== undefined) {\n",
       "    embed_document(root);\n",
       "  } else {\n",
       "    var attempts = 0;\n",
       "    var timer = setInterval(function(root) {\n",
       "      if (root.Bokeh !== undefined) {\n",
       "        clearInterval(timer);\n",
       "        embed_document(root);\n",
       "      } else {\n",
       "        attempts++;\n",
       "        if (attempts > 100) {\n",
       "          clearInterval(timer);\n",
       "          console.log(\"Bokeh: ERROR: Unable to run BokehJS code because BokehJS library is missing\");\n",
       "        }\n",
       "      }\n",
       "    }, 10, root)\n",
       "  }\n",
       "})(window);"
      ],
      "application/vnd.bokehjs_exec.v0+json": ""
     },
     "metadata": {
      "application/vnd.bokehjs_exec.v0+json": {
       "id": "9147"
      }
     },
     "output_type": "display_data"
    },
    {
     "data": {
      "text/html": [
       "<div>\n",
       "<style scoped>\n",
       "    .dataframe tbody tr th:only-of-type {\n",
       "        vertical-align: middle;\n",
       "    }\n",
       "\n",
       "    .dataframe tbody tr th {\n",
       "        vertical-align: top;\n",
       "    }\n",
       "\n",
       "    .dataframe thead th {\n",
       "        text-align: right;\n",
       "    }\n",
       "</style>\n",
       "<table border=\"1\" class=\"dataframe\">\n",
       "  <thead>\n",
       "    <tr style=\"text-align: right;\">\n",
       "      <th></th>\n",
       "      <th>Attribute</th>\n",
       "      <th>Value</th>\n",
       "      <th>Meaning</th>\n",
       "    </tr>\n",
       "  </thead>\n",
       "  <tbody>\n",
       "    <tr>\n",
       "      <th>36</th>\n",
       "      <td>ANZ_HAUSHALTE_AKTIV</td>\n",
       "      <td>…</td>\n",
       "      <td>numeric value (typically coded from 1-10)</td>\n",
       "    </tr>\n",
       "  </tbody>\n",
       "</table>\n",
       "</div>"
      ],
      "text/plain": [
       "              Attribute Value                                    Meaning\n",
       "36  ANZ_HAUSHALTE_AKTIV     …  numeric value (typically coded from 1-10)"
      ]
     },
     "metadata": {},
     "output_type": "display_data"
    },
    {
     "name": "stdout",
     "output_type": "stream",
     "text": [
      "==========================================================================================================================================================================================================================================\n"
     ]
    },
    {
     "data": {
      "text/html": [
       "\n",
       "\n",
       "\n",
       "\n",
       "\n",
       "\n",
       "  <div class=\"bk-root\" id=\"2fd62db8-2197-4d43-940c-05093aa07423\" data-root-id=\"9581\"></div>\n"
      ]
     },
     "metadata": {},
     "output_type": "display_data"
    },
    {
     "data": {
      "application/javascript": [
       "(function(root) {\n",
       "  function embed_document(root) {\n",
       "    \n",
       "  var docs_json = {\"30aeaae8-053c-46f4-95b7-9696fbca7843\":{\"defs\":[],\"roots\":{\"references\":[{\"attributes\":{\"below\":[{\"id\":\"9589\"}],\"center\":[{\"id\":\"9591\"},{\"id\":\"9595\"}],\"height\":500,\"left\":[{\"id\":\"9592\"}],\"renderers\":[{\"id\":\"9601\"}],\"title\":{\"id\":\"9603\"},\"toolbar\":{\"id\":\"9596\"},\"toolbar_location\":null,\"width\":950,\"x_range\":{\"id\":\"9580\"},\"x_scale\":{\"id\":\"9585\"},\"y_range\":{\"id\":\"9583\"},\"y_scale\":{\"id\":\"9587\"}},\"id\":\"9581\",\"subtype\":\"Figure\",\"type\":\"Plot\"},{\"attributes\":{\"formatter\":{\"id\":\"9968\"},\"group_label_orientation\":1.5707963267948966,\"major_label_orientation\":0,\"major_label_policy\":{\"id\":\"9970\"},\"ticker\":{\"id\":\"9590\"}},\"id\":\"9589\",\"type\":\"CategoricalAxis\"},{\"attributes\":{\"start\":0},\"id\":\"9583\",\"type\":\"DataRange1d\"},{\"attributes\":{\"data_source\":{\"id\":\"9579\"},\"glyph\":{\"id\":\"9599\"},\"hover_glyph\":null,\"muted_glyph\":null,\"nonselection_glyph\":{\"id\":\"9600\"},\"view\":{\"id\":\"9602\"}},\"id\":\"9601\",\"type\":\"GlyphRenderer\"},{\"attributes\":{\"axis\":{\"id\":\"9592\"},\"dimension\":1,\"ticker\":null},\"id\":\"9595\",\"type\":\"Grid\"},{\"attributes\":{\"end\":2,\"factors\":[\"a\",\"c\"],\"palette\":[\"#1f77b4\",\"#ff7f0e\"],\"start\":1},\"id\":\"9597\",\"type\":\"CategoricalColorMapper\"},{\"attributes\":{\"fill_color\":{\"field\":\"x\",\"transform\":{\"id\":\"9597\"}},\"line_color\":{\"value\":null},\"top\":{\"field\":\"counts\"},\"width\":{\"value\":0.9},\"x\":{\"field\":\"x\"}},\"id\":\"9599\",\"type\":\"VBar\"},{\"attributes\":{\"text\":\"SEMIO_LUST [ks:0.2789 p:0.0000]\"},\"id\":\"9603\",\"type\":\"Title\"},{\"attributes\":{},\"id\":\"9971\",\"type\":\"UnionRenderers\"},{\"attributes\":{},\"id\":\"9972\",\"type\":\"Selection\"},{\"attributes\":{},\"id\":\"9968\",\"type\":\"CategoricalTickFormatter\"},{\"attributes\":{\"factors\":[[\"highest affinity\",\"a\"],[\"highest affinity\",\"c\"],[\"very high affinity\",\"a\"],[\"very high affinity\",\"c\"],[\"high affinity\",\"a\"],[\"high affinity\",\"c\"],[\"average affinity\",\"a\"],[\"average affinity\",\"c\"],[\"low affinity\",\"a\"],[\"low affinity\",\"c\"],[\"very low affinity\",\"a\"],[\"very low affinity\",\"c\"],[\"lowest affinity\",\"a\"],[\"lowest affinity\",\"c\"]]},\"id\":\"9580\",\"type\":\"FactorRange\"},{\"attributes\":{},\"id\":\"9585\",\"type\":\"CategoricalScale\"},{\"attributes\":{\"formatter\":{\"id\":\"9965\"},\"major_label_policy\":{\"id\":\"9967\"},\"ticker\":{\"id\":\"9593\"}},\"id\":\"9592\",\"type\":\"LinearAxis\"},{\"attributes\":{\"source\":{\"id\":\"9579\"}},\"id\":\"9602\",\"type\":\"CDSView\"},{\"attributes\":{},\"id\":\"9590\",\"type\":\"CategoricalTicker\"},{\"attributes\":{\"axis\":{\"id\":\"9589\"},\"grid_line_color\":null,\"ticker\":null},\"id\":\"9591\",\"type\":\"Grid\"},{\"attributes\":{},\"id\":\"9593\",\"type\":\"BasicTicker\"},{\"attributes\":{},\"id\":\"9965\",\"type\":\"BasicTickFormatter\"},{\"attributes\":{},\"id\":\"9967\",\"type\":\"AllLabels\"},{\"attributes\":{\"active_multi\":null},\"id\":\"9596\",\"type\":\"Toolbar\"},{\"attributes\":{\"data\":{\"counts\":[0.13153728969935083,0.041866347177848776,0.13631725627534513,0.02652422790202343,0.09782124117017396,0.01841719914802982,0.1162139803890249,0.16198083067092653,0.1405524735433022,0.2218583599574015,0.189069730295452,0.14587992545260917,0.18848802862735095,0.38347310969116083],\"x\":[[\"highest affinity\",\"a\"],[\"highest affinity\",\"c\"],[\"very high affinity\",\"a\"],[\"very high affinity\",\"c\"],[\"high affinity\",\"a\"],[\"high affinity\",\"c\"],[\"average affinity\",\"a\"],[\"average affinity\",\"c\"],[\"low affinity\",\"a\"],[\"low affinity\",\"c\"],[\"very low affinity\",\"a\"],[\"very low affinity\",\"c\"],[\"lowest affinity\",\"a\"],[\"lowest affinity\",\"c\"]]},\"selected\":{\"id\":\"9972\"},\"selection_policy\":{\"id\":\"9971\"}},\"id\":\"9579\",\"type\":\"ColumnDataSource\"},{\"attributes\":{\"fill_alpha\":{\"value\":0.1},\"fill_color\":{\"field\":\"x\",\"transform\":{\"id\":\"9597\"}},\"line_alpha\":{\"value\":0.1},\"line_color\":{\"value\":null},\"top\":{\"field\":\"counts\"},\"width\":{\"value\":0.9},\"x\":{\"field\":\"x\"}},\"id\":\"9600\",\"type\":\"VBar\"},{\"attributes\":{},\"id\":\"9970\",\"type\":\"AllLabels\"},{\"attributes\":{},\"id\":\"9587\",\"type\":\"LinearScale\"}],\"root_ids\":[\"9581\"]},\"title\":\"Bokeh Application\",\"version\":\"2.3.1\"}};\n",
       "  var render_items = [{\"docid\":\"30aeaae8-053c-46f4-95b7-9696fbca7843\",\"root_ids\":[\"9581\"],\"roots\":{\"9581\":\"2fd62db8-2197-4d43-940c-05093aa07423\"}}];\n",
       "  root.Bokeh.embed.embed_items_notebook(docs_json, render_items);\n",
       "\n",
       "  }\n",
       "  if (root.Bokeh !== undefined) {\n",
       "    embed_document(root);\n",
       "  } else {\n",
       "    var attempts = 0;\n",
       "    var timer = setInterval(function(root) {\n",
       "      if (root.Bokeh !== undefined) {\n",
       "        clearInterval(timer);\n",
       "        embed_document(root);\n",
       "      } else {\n",
       "        attempts++;\n",
       "        if (attempts > 100) {\n",
       "          clearInterval(timer);\n",
       "          console.log(\"Bokeh: ERROR: Unable to run BokehJS code because BokehJS library is missing\");\n",
       "        }\n",
       "      }\n",
       "    }, 10, root)\n",
       "  }\n",
       "})(window);"
      ],
      "application/vnd.bokehjs_exec.v0+json": ""
     },
     "metadata": {
      "application/vnd.bokehjs_exec.v0+json": {
       "id": "9581"
      }
     },
     "output_type": "display_data"
    },
    {
     "data": {
      "text/html": [
       "<div>\n",
       "<style scoped>\n",
       "    .dataframe tbody tr th:only-of-type {\n",
       "        vertical-align: middle;\n",
       "    }\n",
       "\n",
       "    .dataframe tbody tr th {\n",
       "        vertical-align: top;\n",
       "    }\n",
       "\n",
       "    .dataframe thead th {\n",
       "        text-align: right;\n",
       "    }\n",
       "</style>\n",
       "<table border=\"1\" class=\"dataframe\">\n",
       "  <thead>\n",
       "    <tr style=\"text-align: right;\">\n",
       "      <th></th>\n",
       "      <th>Attribute</th>\n",
       "      <th>Value</th>\n",
       "      <th>Meaning</th>\n",
       "    </tr>\n",
       "  </thead>\n",
       "  <tbody>\n",
       "    <tr>\n",
       "      <th>2138</th>\n",
       "      <td>SEMIO_LUST</td>\n",
       "      <td>-1, 9</td>\n",
       "      <td>unknown</td>\n",
       "    </tr>\n",
       "    <tr>\n",
       "      <th>2139</th>\n",
       "      <td>SEMIO_LUST</td>\n",
       "      <td>1</td>\n",
       "      <td>highest affinity</td>\n",
       "    </tr>\n",
       "    <tr>\n",
       "      <th>2140</th>\n",
       "      <td>SEMIO_LUST</td>\n",
       "      <td>2</td>\n",
       "      <td>very high affinity</td>\n",
       "    </tr>\n",
       "    <tr>\n",
       "      <th>2141</th>\n",
       "      <td>SEMIO_LUST</td>\n",
       "      <td>3</td>\n",
       "      <td>high affinity</td>\n",
       "    </tr>\n",
       "    <tr>\n",
       "      <th>2142</th>\n",
       "      <td>SEMIO_LUST</td>\n",
       "      <td>4</td>\n",
       "      <td>average affinity</td>\n",
       "    </tr>\n",
       "    <tr>\n",
       "      <th>2143</th>\n",
       "      <td>SEMIO_LUST</td>\n",
       "      <td>5</td>\n",
       "      <td>low affinity</td>\n",
       "    </tr>\n",
       "    <tr>\n",
       "      <th>2144</th>\n",
       "      <td>SEMIO_LUST</td>\n",
       "      <td>6</td>\n",
       "      <td>very low affinity</td>\n",
       "    </tr>\n",
       "    <tr>\n",
       "      <th>2145</th>\n",
       "      <td>SEMIO_LUST</td>\n",
       "      <td>7</td>\n",
       "      <td>lowest affinity</td>\n",
       "    </tr>\n",
       "  </tbody>\n",
       "</table>\n",
       "</div>"
      ],
      "text/plain": [
       "       Attribute  Value             Meaning\n",
       "2138  SEMIO_LUST  -1, 9             unknown\n",
       "2139  SEMIO_LUST      1    highest affinity\n",
       "2140  SEMIO_LUST      2  very high affinity\n",
       "2141  SEMIO_LUST      3       high affinity\n",
       "2142  SEMIO_LUST      4    average affinity\n",
       "2143  SEMIO_LUST      5        low affinity\n",
       "2144  SEMIO_LUST      6   very low affinity\n",
       "2145  SEMIO_LUST      7     lowest affinity"
      ]
     },
     "metadata": {},
     "output_type": "display_data"
    },
    {
     "name": "stdout",
     "output_type": "stream",
     "text": [
      "==========================================================================================================================================================================================================================================\n"
     ]
    },
    {
     "data": {
      "text/html": [
       "\n",
       "\n",
       "\n",
       "\n",
       "\n",
       "\n",
       "  <div class=\"bk-root\" id=\"a8e224ed-e8af-4516-b41e-d9362dba7804\" data-root-id=\"10025\"></div>\n"
      ]
     },
     "metadata": {},
     "output_type": "display_data"
    },
    {
     "data": {
      "application/javascript": [
       "(function(root) {\n",
       "  function embed_document(root) {\n",
       "    \n",
       "  var docs_json = {\"20dd4ce9-d24e-4d88-b1e5-0e4238daa074\":{\"defs\":[],\"roots\":{\"references\":[{\"attributes\":{\"below\":[{\"id\":\"10033\"}],\"center\":[{\"id\":\"10035\"},{\"id\":\"10039\"}],\"height\":500,\"left\":[{\"id\":\"10036\"}],\"renderers\":[{\"id\":\"10045\"}],\"title\":{\"id\":\"10047\"},\"toolbar\":{\"id\":\"10040\"},\"toolbar_location\":null,\"width\":950,\"x_range\":{\"id\":\"10024\"},\"x_scale\":{\"id\":\"10029\"},\"y_range\":{\"id\":\"10027\"},\"y_scale\":{\"id\":\"10031\"}},\"id\":\"10025\",\"subtype\":\"Figure\",\"type\":\"Plot\"},{\"attributes\":{},\"id\":\"10029\",\"type\":\"CategoricalScale\"},{\"attributes\":{\"source\":{\"id\":\"10023\"}},\"id\":\"10046\",\"type\":\"CDSView\"},{\"attributes\":{},\"id\":\"10425\",\"type\":\"UnionRenderers\"},{\"attributes\":{\"data\":{\"counts\":[0.056348193903585336,0.04710019248165303,0.07363583609890847,0.0037476109830167246,0.046694258474169845,0.004482169941575357,0.02366245276141879,0.00175477973433451,0.020890483224308927,0.0029314343623960226,0.06568440791114351,0.015337318995830698,0.05392032266109076,0.04503934651458576,0.03158510617890234,0.011548899181782937,0.03623343052811295,0.042726846089493765,0.015606716031383683,0.019948716902337665,0.030743444148170884,0.005788052534568481,0.03186326229162271,0.013487318655757106,0.027754464885188665,0.04042794860807879,0.0310659613650751,0.06756582124371714,0.020919257994590344,0.003842831588755807,0.023945404669186057,0.022077577587789998,0.017300830631702124,0.02687941670577513,0.007042625026376873,0.02358070286409979,0.008579677338909244,0.004080883103103511,0.02327519231138138,0.04170662531371789,0.02043847954113833,0.07348990321505573,0.015254225095436322,0.0015983458820488753,0.008646818469565885,0.001707169431464969,0.01099795699131002,0.0075564352125800024,0.014464117861459073,0.0035843756588925845,0.012418711273954997,0.004550184659960416,0.004288639720692896,0.006889890972406429,0.01727085691265898,0.017343753188189925,0.014640363329432754,0.02517224727431016,0.031658242053367605,0.0031626844049052216,0.02671737420629592,0.005618015738605834,0.028508603656314142,0.0269610343678372,0.02037613420552859,0.03668713909690057,0.0072572368547257765,0.00423051548355064,0.015607914980145408,0.006230148204071361,0.01632488633965739,0.012093016928863406,0.012546998791459648,0.05979173893230495,0.022103819371175355,0.031184748379549335,0.01655148765562355,0.058649091663435966,0.019288687678643366,0.046093574649554166,0.017887116576186,0.12335149326314214],\"x\":[[\"0\",\"a\"],[\"0\",\"c\"],[\"single low-income earners of younger age\",\"a\"],[\"single low-income earners of younger age\",\"c\"],[\"single low-income earners of middle age\",\"a\"],[\"single low-income earners of middle age\",\"c\"],[\"single average earners of younger age \",\"a\"],[\"single average earners of younger age \",\"c\"],[\"single average earners of middle age\",\"a\"],[\"single average earners of middle age\",\"c\"],[\"single low-income earners of advanced age\",\"a\"],[\"single low-income earners of advanced age\",\"c\"],[\"single low-income earners at retirement age \",\"a\"],[\"single low-income earners at retirement age \",\"c\"],[\"single average earners of advanced age\",\"a\"],[\"single average earners of advanced age\",\"c\"],[\"single average earners at retirement age\",\"a\"],[\"single average earners at retirement age\",\"c\"],[\"single independant persons\",\"a\"],[\"single independant persons\",\"c\"],[\"wealthy single homeowners\",\"a\"],[\"wealthy single homeowners\",\"c\"],[\"single homeowners of advanced age\",\"a\"],[\"single homeowners of advanced age\",\"c\"],[\"single homeowners at retirement age\",\"a\"],[\"single homeowners at retirement age\",\"c\"],[\"single top earners of higher age \",\"a\"],[\"single top earners of higher age \",\"c\"],[\"low-income- and average earner-couples of younger age\",\"a\"],[\"low-income- and average earner-couples of younger age\",\"c\"],[\"low-income earner-couples of higher age\",\"a\"],[\"low-income earner-couples of higher age\",\"c\"],[\"average earner-couples of higher age \",\"a\"],[\"average earner-couples of higher age \",\"c\"],[\"independant couples\",\"a\"],[\"independant couples\",\"c\"],[\"wealthy homeowner-couples of younger age \",\"a\"],[\"wealthy homeowner-couples of younger age \",\"c\"],[\"homeowner-couples of higher age\",\"a\"],[\"homeowner-couples of higher age\",\"c\"],[\"top earner-couples of higher age\",\"a\"],[\"top earner-couples of higher age\",\"c\"],[\"single parent low-income earners\",\"a\"],[\"single parent low-income earners\",\"c\"],[\"single parent average earners\",\"a\"],[\"single parent average earners\",\"c\"],[\"single parent high-income earners\",\"a\"],[\"single parent high-income earners\",\"c\"],[\"low-income earner-families\",\"a\"],[\"low-income earner-families\",\"c\"],[\"average earner-families \",\"a\"],[\"average earner-families \",\"c\"],[\"independant families\",\"a\"],[\"independant families\",\"c\"],[\"homeowner-families\",\"a\"],[\"homeowner-families\",\"c\"],[\"top earner-families\",\"a\"],[\"top earner-families\",\"c\"],[\"low-income earners of younger age from mulitperson households\",\"a\"],[\"low-income earners of younger age from mulitperson households\",\"c\"],[\"average earners of younger age from mulitperson households\",\"a\"],[\"average earners of younger age from mulitperson households\",\"c\"],[\"low-income earners of higher age from mulitperson households\",\"a\"],[\"low-income earners of higher age from mulitperson households\",\"c\"],[\"average earners of higher age from mulitperson households\",\"a\"],[\"average earners of higher age from mulitperson households\",\"c\"],[\"independant persons of younger age from mulitperson households\",\"a\"],[\"independant persons of younger age from mulitperson households\",\"c\"],[\"homeowners of younger age from mulitperson households\",\"a\"],[\"homeowners of younger age from mulitperson households\",\"c\"],[\"top earners of younger age from mulitperson households\",\"a\"],[\"top earners of younger age from mulitperson households\",\"c\"],[\"independant persons of higher age from mulitperson households\",\"a\"],[\"independant persons of higher age from mulitperson households\",\"c\"],[\"homeowners of advanced age from mulitperson households\",\"a\"],[\"homeowners of advanced age from mulitperson households\",\"c\"],[\"homeowners at retirement age from mulitperson households\",\"a\"],[\"homeowners at retirement age from mulitperson households\",\"c\"],[\"top earners of middle age from mulitperson households\",\"a\"],[\"top earners of middle age from mulitperson households\",\"c\"],[\"top earners at retirement age from mulitperson households\",\"a\"],[\"top earners at retirement age from mulitperson households\",\"c\"]]},\"selected\":{\"id\":\"10426\"},\"selection_policy\":{\"id\":\"10425\"}},\"id\":\"10023\",\"type\":\"ColumnDataSource\"},{\"attributes\":{},\"id\":\"10031\",\"type\":\"LinearScale\"},{\"attributes\":{},\"id\":\"10426\",\"type\":\"Selection\"},{\"attributes\":{\"axis\":{\"id\":\"10036\"},\"dimension\":1,\"ticker\":null},\"id\":\"10039\",\"type\":\"Grid\"},{\"attributes\":{\"data_source\":{\"id\":\"10023\"},\"glyph\":{\"id\":\"10043\"},\"hover_glyph\":null,\"muted_glyph\":null,\"nonselection_glyph\":{\"id\":\"10044\"},\"view\":{\"id\":\"10046\"}},\"id\":\"10045\",\"type\":\"GlyphRenderer\"},{\"attributes\":{\"text\":\"LP_LEBENSPHASE_FEIN [ks:0.2730 p:0.0000]\"},\"id\":\"10047\",\"type\":\"Title\"},{\"attributes\":{\"formatter\":{\"id\":\"10422\"},\"group_label_orientation\":1.5707963267948966,\"major_label_orientation\":0,\"major_label_policy\":{\"id\":\"10424\"},\"ticker\":{\"id\":\"10034\"}},\"id\":\"10033\",\"type\":\"CategoricalAxis\"},{\"attributes\":{\"factors\":[[\"0\",\"a\"],[\"0\",\"c\"],[\"single low-income earners of younger age\",\"a\"],[\"single low-income earners of younger age\",\"c\"],[\"single low-income earners of middle age\",\"a\"],[\"single low-income earners of middle age\",\"c\"],[\"single average earners of younger age \",\"a\"],[\"single average earners of younger age \",\"c\"],[\"single average earners of middle age\",\"a\"],[\"single average earners of middle age\",\"c\"],[\"single low-income earners of advanced age\",\"a\"],[\"single low-income earners of advanced age\",\"c\"],[\"single low-income earners at retirement age \",\"a\"],[\"single low-income earners at retirement age \",\"c\"],[\"single average earners of advanced age\",\"a\"],[\"single average earners of advanced age\",\"c\"],[\"single average earners at retirement age\",\"a\"],[\"single average earners at retirement age\",\"c\"],[\"single independant persons\",\"a\"],[\"single independant persons\",\"c\"],[\"wealthy single homeowners\",\"a\"],[\"wealthy single homeowners\",\"c\"],[\"single homeowners of advanced age\",\"a\"],[\"single homeowners of advanced age\",\"c\"],[\"single homeowners at retirement age\",\"a\"],[\"single homeowners at retirement age\",\"c\"],[\"single top earners of higher age \",\"a\"],[\"single top earners of higher age \",\"c\"],[\"low-income- and average earner-couples of younger age\",\"a\"],[\"low-income- and average earner-couples of younger age\",\"c\"],[\"low-income earner-couples of higher age\",\"a\"],[\"low-income earner-couples of higher age\",\"c\"],[\"average earner-couples of higher age \",\"a\"],[\"average earner-couples of higher age \",\"c\"],[\"independant couples\",\"a\"],[\"independant couples\",\"c\"],[\"wealthy homeowner-couples of younger age \",\"a\"],[\"wealthy homeowner-couples of younger age \",\"c\"],[\"homeowner-couples of higher age\",\"a\"],[\"homeowner-couples of higher age\",\"c\"],[\"top earner-couples of higher age\",\"a\"],[\"top earner-couples of higher age\",\"c\"],[\"single parent low-income earners\",\"a\"],[\"single parent low-income earners\",\"c\"],[\"single parent average earners\",\"a\"],[\"single parent average earners\",\"c\"],[\"single parent high-income earners\",\"a\"],[\"single parent high-income earners\",\"c\"],[\"low-income earner-families\",\"a\"],[\"low-income earner-families\",\"c\"],[\"average earner-families \",\"a\"],[\"average earner-families \",\"c\"],[\"independant families\",\"a\"],[\"independant families\",\"c\"],[\"homeowner-families\",\"a\"],[\"homeowner-families\",\"c\"],[\"top earner-families\",\"a\"],[\"top earner-families\",\"c\"],[\"low-income earners of younger age from mulitperson households\",\"a\"],[\"low-income earners of younger age from mulitperson households\",\"c\"],[\"average earners of younger age from mulitperson households\",\"a\"],[\"average earners of younger age from mulitperson households\",\"c\"],[\"low-income earners of higher age from mulitperson households\",\"a\"],[\"low-income earners of higher age from mulitperson households\",\"c\"],[\"average earners of higher age from mulitperson households\",\"a\"],[\"average earners of higher age from mulitperson households\",\"c\"],[\"independant persons of younger age from mulitperson households\",\"a\"],[\"independant persons of younger age from mulitperson households\",\"c\"],[\"homeowners of younger age from mulitperson households\",\"a\"],[\"homeowners of younger age from mulitperson households\",\"c\"],[\"top earners of younger age from mulitperson households\",\"a\"],[\"top earners of younger age from mulitperson households\",\"c\"],[\"independant persons of higher age from mulitperson households\",\"a\"],[\"independant persons of higher age from mulitperson households\",\"c\"],[\"homeowners of advanced age from mulitperson households\",\"a\"],[\"homeowners of advanced age from mulitperson households\",\"c\"],[\"homeowners at retirement age from mulitperson households\",\"a\"],[\"homeowners at retirement age from mulitperson households\",\"c\"],[\"top earners of middle age from mulitperson households\",\"a\"],[\"top earners of middle age from mulitperson households\",\"c\"],[\"top earners at retirement age from mulitperson households\",\"a\"],[\"top earners at retirement age from mulitperson households\",\"c\"]]},\"id\":\"10024\",\"type\":\"FactorRange\"},{\"attributes\":{\"fill_color\":{\"field\":\"x\",\"transform\":{\"id\":\"10041\"}},\"line_color\":{\"value\":null},\"top\":{\"field\":\"counts\"},\"width\":{\"value\":0.9},\"x\":{\"field\":\"x\"}},\"id\":\"10043\",\"type\":\"VBar\"},{\"attributes\":{\"axis\":{\"id\":\"10033\"},\"grid_line_color\":null,\"ticker\":null},\"id\":\"10035\",\"type\":\"Grid\"},{\"attributes\":{},\"id\":\"10037\",\"type\":\"BasicTicker\"},{\"attributes\":{},\"id\":\"10034\",\"type\":\"CategoricalTicker\"},{\"attributes\":{\"active_multi\":null},\"id\":\"10040\",\"type\":\"Toolbar\"},{\"attributes\":{},\"id\":\"10419\",\"type\":\"BasicTickFormatter\"},{\"attributes\":{},\"id\":\"10421\",\"type\":\"AllLabels\"},{\"attributes\":{\"fill_alpha\":{\"value\":0.1},\"fill_color\":{\"field\":\"x\",\"transform\":{\"id\":\"10041\"}},\"line_alpha\":{\"value\":0.1},\"line_color\":{\"value\":null},\"top\":{\"field\":\"counts\"},\"width\":{\"value\":0.9},\"x\":{\"field\":\"x\"}},\"id\":\"10044\",\"type\":\"VBar\"},{\"attributes\":{},\"id\":\"10422\",\"type\":\"CategoricalTickFormatter\"},{\"attributes\":{\"end\":2,\"factors\":[\"a\",\"c\"],\"palette\":[\"#1f77b4\",\"#ff7f0e\"],\"start\":1},\"id\":\"10041\",\"type\":\"CategoricalColorMapper\"},{\"attributes\":{},\"id\":\"10424\",\"type\":\"AllLabels\"},{\"attributes\":{\"formatter\":{\"id\":\"10419\"},\"major_label_policy\":{\"id\":\"10421\"},\"ticker\":{\"id\":\"10037\"}},\"id\":\"10036\",\"type\":\"LinearAxis\"},{\"attributes\":{\"start\":0},\"id\":\"10027\",\"type\":\"DataRange1d\"}],\"root_ids\":[\"10025\"]},\"title\":\"Bokeh Application\",\"version\":\"2.3.1\"}};\n",
       "  var render_items = [{\"docid\":\"20dd4ce9-d24e-4d88-b1e5-0e4238daa074\",\"root_ids\":[\"10025\"],\"roots\":{\"10025\":\"a8e224ed-e8af-4516-b41e-d9362dba7804\"}}];\n",
       "  root.Bokeh.embed.embed_items_notebook(docs_json, render_items);\n",
       "\n",
       "  }\n",
       "  if (root.Bokeh !== undefined) {\n",
       "    embed_document(root);\n",
       "  } else {\n",
       "    var attempts = 0;\n",
       "    var timer = setInterval(function(root) {\n",
       "      if (root.Bokeh !== undefined) {\n",
       "        clearInterval(timer);\n",
       "        embed_document(root);\n",
       "      } else {\n",
       "        attempts++;\n",
       "        if (attempts > 100) {\n",
       "          clearInterval(timer);\n",
       "          console.log(\"Bokeh: ERROR: Unable to run BokehJS code because BokehJS library is missing\");\n",
       "        }\n",
       "      }\n",
       "    }, 10, root)\n",
       "  }\n",
       "})(window);"
      ],
      "application/vnd.bokehjs_exec.v0+json": ""
     },
     "metadata": {
      "application/vnd.bokehjs_exec.v0+json": {
       "id": "10025"
      }
     },
     "output_type": "display_data"
    },
    {
     "data": {
      "text/html": [
       "<div>\n",
       "<style scoped>\n",
       "    .dataframe tbody tr th:only-of-type {\n",
       "        vertical-align: middle;\n",
       "    }\n",
       "\n",
       "    .dataframe tbody tr th {\n",
       "        vertical-align: top;\n",
       "    }\n",
       "\n",
       "    .dataframe thead th {\n",
       "        text-align: right;\n",
       "    }\n",
       "</style>\n",
       "<table border=\"1\" class=\"dataframe\">\n",
       "  <thead>\n",
       "    <tr style=\"text-align: right;\">\n",
       "      <th></th>\n",
       "      <th>Attribute</th>\n",
       "      <th>Value</th>\n",
       "      <th>Meaning</th>\n",
       "    </tr>\n",
       "  </thead>\n",
       "  <tbody>\n",
       "    <tr>\n",
       "      <th>1914</th>\n",
       "      <td>LP_LEBENSPHASE_FEIN</td>\n",
       "      <td>1</td>\n",
       "      <td>single low-income earners of younger age</td>\n",
       "    </tr>\n",
       "    <tr>\n",
       "      <th>1915</th>\n",
       "      <td>LP_LEBENSPHASE_FEIN</td>\n",
       "      <td>2</td>\n",
       "      <td>single low-income earners of middle age</td>\n",
       "    </tr>\n",
       "    <tr>\n",
       "      <th>1916</th>\n",
       "      <td>LP_LEBENSPHASE_FEIN</td>\n",
       "      <td>3</td>\n",
       "      <td>single average earners of younger age</td>\n",
       "    </tr>\n",
       "    <tr>\n",
       "      <th>1917</th>\n",
       "      <td>LP_LEBENSPHASE_FEIN</td>\n",
       "      <td>4</td>\n",
       "      <td>single average earners of middle age</td>\n",
       "    </tr>\n",
       "    <tr>\n",
       "      <th>1918</th>\n",
       "      <td>LP_LEBENSPHASE_FEIN</td>\n",
       "      <td>5</td>\n",
       "      <td>single low-income earners of advanced age</td>\n",
       "    </tr>\n",
       "    <tr>\n",
       "      <th>1919</th>\n",
       "      <td>LP_LEBENSPHASE_FEIN</td>\n",
       "      <td>6</td>\n",
       "      <td>single low-income earners at retirement age</td>\n",
       "    </tr>\n",
       "    <tr>\n",
       "      <th>1920</th>\n",
       "      <td>LP_LEBENSPHASE_FEIN</td>\n",
       "      <td>7</td>\n",
       "      <td>single average earners of advanced age</td>\n",
       "    </tr>\n",
       "    <tr>\n",
       "      <th>1921</th>\n",
       "      <td>LP_LEBENSPHASE_FEIN</td>\n",
       "      <td>8</td>\n",
       "      <td>single average earners at retirement age</td>\n",
       "    </tr>\n",
       "    <tr>\n",
       "      <th>1922</th>\n",
       "      <td>LP_LEBENSPHASE_FEIN</td>\n",
       "      <td>9</td>\n",
       "      <td>single independant persons</td>\n",
       "    </tr>\n",
       "    <tr>\n",
       "      <th>1923</th>\n",
       "      <td>LP_LEBENSPHASE_FEIN</td>\n",
       "      <td>10</td>\n",
       "      <td>wealthy single homeowners</td>\n",
       "    </tr>\n",
       "    <tr>\n",
       "      <th>1924</th>\n",
       "      <td>LP_LEBENSPHASE_FEIN</td>\n",
       "      <td>11</td>\n",
       "      <td>single homeowners of advanced age</td>\n",
       "    </tr>\n",
       "    <tr>\n",
       "      <th>1925</th>\n",
       "      <td>LP_LEBENSPHASE_FEIN</td>\n",
       "      <td>12</td>\n",
       "      <td>single homeowners at retirement age</td>\n",
       "    </tr>\n",
       "    <tr>\n",
       "      <th>1926</th>\n",
       "      <td>LP_LEBENSPHASE_FEIN</td>\n",
       "      <td>13</td>\n",
       "      <td>single top earners of higher age</td>\n",
       "    </tr>\n",
       "    <tr>\n",
       "      <th>1927</th>\n",
       "      <td>LP_LEBENSPHASE_FEIN</td>\n",
       "      <td>14</td>\n",
       "      <td>low-income- and average earner-couples of youn...</td>\n",
       "    </tr>\n",
       "    <tr>\n",
       "      <th>1928</th>\n",
       "      <td>LP_LEBENSPHASE_FEIN</td>\n",
       "      <td>15</td>\n",
       "      <td>low-income earner-couples of higher age</td>\n",
       "    </tr>\n",
       "    <tr>\n",
       "      <th>1929</th>\n",
       "      <td>LP_LEBENSPHASE_FEIN</td>\n",
       "      <td>16</td>\n",
       "      <td>average earner-couples of higher age</td>\n",
       "    </tr>\n",
       "    <tr>\n",
       "      <th>1930</th>\n",
       "      <td>LP_LEBENSPHASE_FEIN</td>\n",
       "      <td>17</td>\n",
       "      <td>independant couples</td>\n",
       "    </tr>\n",
       "    <tr>\n",
       "      <th>1931</th>\n",
       "      <td>LP_LEBENSPHASE_FEIN</td>\n",
       "      <td>18</td>\n",
       "      <td>wealthy homeowner-couples of younger age</td>\n",
       "    </tr>\n",
       "    <tr>\n",
       "      <th>1932</th>\n",
       "      <td>LP_LEBENSPHASE_FEIN</td>\n",
       "      <td>19</td>\n",
       "      <td>homeowner-couples of higher age</td>\n",
       "    </tr>\n",
       "    <tr>\n",
       "      <th>1933</th>\n",
       "      <td>LP_LEBENSPHASE_FEIN</td>\n",
       "      <td>20</td>\n",
       "      <td>top earner-couples of higher age</td>\n",
       "    </tr>\n",
       "    <tr>\n",
       "      <th>1934</th>\n",
       "      <td>LP_LEBENSPHASE_FEIN</td>\n",
       "      <td>21</td>\n",
       "      <td>single parent low-income earners</td>\n",
       "    </tr>\n",
       "    <tr>\n",
       "      <th>1935</th>\n",
       "      <td>LP_LEBENSPHASE_FEIN</td>\n",
       "      <td>22</td>\n",
       "      <td>single parent average earners</td>\n",
       "    </tr>\n",
       "    <tr>\n",
       "      <th>1936</th>\n",
       "      <td>LP_LEBENSPHASE_FEIN</td>\n",
       "      <td>23</td>\n",
       "      <td>single parent high-income earners</td>\n",
       "    </tr>\n",
       "    <tr>\n",
       "      <th>1937</th>\n",
       "      <td>LP_LEBENSPHASE_FEIN</td>\n",
       "      <td>24</td>\n",
       "      <td>low-income earner-families</td>\n",
       "    </tr>\n",
       "    <tr>\n",
       "      <th>1938</th>\n",
       "      <td>LP_LEBENSPHASE_FEIN</td>\n",
       "      <td>25</td>\n",
       "      <td>average earner-families</td>\n",
       "    </tr>\n",
       "    <tr>\n",
       "      <th>1939</th>\n",
       "      <td>LP_LEBENSPHASE_FEIN</td>\n",
       "      <td>26</td>\n",
       "      <td>independant families</td>\n",
       "    </tr>\n",
       "    <tr>\n",
       "      <th>1940</th>\n",
       "      <td>LP_LEBENSPHASE_FEIN</td>\n",
       "      <td>27</td>\n",
       "      <td>homeowner-families</td>\n",
       "    </tr>\n",
       "    <tr>\n",
       "      <th>1941</th>\n",
       "      <td>LP_LEBENSPHASE_FEIN</td>\n",
       "      <td>28</td>\n",
       "      <td>top earner-families</td>\n",
       "    </tr>\n",
       "    <tr>\n",
       "      <th>1942</th>\n",
       "      <td>LP_LEBENSPHASE_FEIN</td>\n",
       "      <td>29</td>\n",
       "      <td>low-income earners of younger age from mulitpe...</td>\n",
       "    </tr>\n",
       "    <tr>\n",
       "      <th>1943</th>\n",
       "      <td>LP_LEBENSPHASE_FEIN</td>\n",
       "      <td>30</td>\n",
       "      <td>average earners of younger age from mulitperso...</td>\n",
       "    </tr>\n",
       "    <tr>\n",
       "      <th>1944</th>\n",
       "      <td>LP_LEBENSPHASE_FEIN</td>\n",
       "      <td>31</td>\n",
       "      <td>low-income earners of higher age from mulitper...</td>\n",
       "    </tr>\n",
       "    <tr>\n",
       "      <th>1945</th>\n",
       "      <td>LP_LEBENSPHASE_FEIN</td>\n",
       "      <td>32</td>\n",
       "      <td>average earners of higher age from mulitperson...</td>\n",
       "    </tr>\n",
       "    <tr>\n",
       "      <th>1946</th>\n",
       "      <td>LP_LEBENSPHASE_FEIN</td>\n",
       "      <td>33</td>\n",
       "      <td>independant persons of younger age from mulitp...</td>\n",
       "    </tr>\n",
       "    <tr>\n",
       "      <th>1947</th>\n",
       "      <td>LP_LEBENSPHASE_FEIN</td>\n",
       "      <td>34</td>\n",
       "      <td>homeowners of younger age from mulitperson hou...</td>\n",
       "    </tr>\n",
       "    <tr>\n",
       "      <th>1948</th>\n",
       "      <td>LP_LEBENSPHASE_FEIN</td>\n",
       "      <td>35</td>\n",
       "      <td>top earners of younger age from mulitperson ho...</td>\n",
       "    </tr>\n",
       "    <tr>\n",
       "      <th>1949</th>\n",
       "      <td>LP_LEBENSPHASE_FEIN</td>\n",
       "      <td>36</td>\n",
       "      <td>independant persons of higher age from mulitpe...</td>\n",
       "    </tr>\n",
       "    <tr>\n",
       "      <th>1950</th>\n",
       "      <td>LP_LEBENSPHASE_FEIN</td>\n",
       "      <td>37</td>\n",
       "      <td>homeowners of advanced age from mulitperson ho...</td>\n",
       "    </tr>\n",
       "    <tr>\n",
       "      <th>1951</th>\n",
       "      <td>LP_LEBENSPHASE_FEIN</td>\n",
       "      <td>38</td>\n",
       "      <td>homeowners at retirement age from mulitperson ...</td>\n",
       "    </tr>\n",
       "    <tr>\n",
       "      <th>1952</th>\n",
       "      <td>LP_LEBENSPHASE_FEIN</td>\n",
       "      <td>39</td>\n",
       "      <td>top earners of middle age from mulitperson hou...</td>\n",
       "    </tr>\n",
       "    <tr>\n",
       "      <th>1953</th>\n",
       "      <td>LP_LEBENSPHASE_FEIN</td>\n",
       "      <td>40</td>\n",
       "      <td>top earners at retirement age from mulitperson...</td>\n",
       "    </tr>\n",
       "  </tbody>\n",
       "</table>\n",
       "</div>"
      ],
      "text/plain": [
       "                Attribute Value  \\\n",
       "1914  LP_LEBENSPHASE_FEIN     1   \n",
       "1915  LP_LEBENSPHASE_FEIN     2   \n",
       "1916  LP_LEBENSPHASE_FEIN     3   \n",
       "1917  LP_LEBENSPHASE_FEIN     4   \n",
       "1918  LP_LEBENSPHASE_FEIN     5   \n",
       "1919  LP_LEBENSPHASE_FEIN     6   \n",
       "1920  LP_LEBENSPHASE_FEIN     7   \n",
       "1921  LP_LEBENSPHASE_FEIN     8   \n",
       "1922  LP_LEBENSPHASE_FEIN     9   \n",
       "1923  LP_LEBENSPHASE_FEIN    10   \n",
       "1924  LP_LEBENSPHASE_FEIN    11   \n",
       "1925  LP_LEBENSPHASE_FEIN    12   \n",
       "1926  LP_LEBENSPHASE_FEIN    13   \n",
       "1927  LP_LEBENSPHASE_FEIN    14   \n",
       "1928  LP_LEBENSPHASE_FEIN    15   \n",
       "1929  LP_LEBENSPHASE_FEIN    16   \n",
       "1930  LP_LEBENSPHASE_FEIN    17   \n",
       "1931  LP_LEBENSPHASE_FEIN    18   \n",
       "1932  LP_LEBENSPHASE_FEIN    19   \n",
       "1933  LP_LEBENSPHASE_FEIN    20   \n",
       "1934  LP_LEBENSPHASE_FEIN    21   \n",
       "1935  LP_LEBENSPHASE_FEIN    22   \n",
       "1936  LP_LEBENSPHASE_FEIN    23   \n",
       "1937  LP_LEBENSPHASE_FEIN    24   \n",
       "1938  LP_LEBENSPHASE_FEIN    25   \n",
       "1939  LP_LEBENSPHASE_FEIN    26   \n",
       "1940  LP_LEBENSPHASE_FEIN    27   \n",
       "1941  LP_LEBENSPHASE_FEIN    28   \n",
       "1942  LP_LEBENSPHASE_FEIN    29   \n",
       "1943  LP_LEBENSPHASE_FEIN    30   \n",
       "1944  LP_LEBENSPHASE_FEIN    31   \n",
       "1945  LP_LEBENSPHASE_FEIN    32   \n",
       "1946  LP_LEBENSPHASE_FEIN    33   \n",
       "1947  LP_LEBENSPHASE_FEIN    34   \n",
       "1948  LP_LEBENSPHASE_FEIN    35   \n",
       "1949  LP_LEBENSPHASE_FEIN    36   \n",
       "1950  LP_LEBENSPHASE_FEIN    37   \n",
       "1951  LP_LEBENSPHASE_FEIN    38   \n",
       "1952  LP_LEBENSPHASE_FEIN    39   \n",
       "1953  LP_LEBENSPHASE_FEIN    40   \n",
       "\n",
       "                                                Meaning  \n",
       "1914           single low-income earners of younger age  \n",
       "1915            single low-income earners of middle age  \n",
       "1916             single average earners of younger age   \n",
       "1917               single average earners of middle age  \n",
       "1918          single low-income earners of advanced age  \n",
       "1919       single low-income earners at retirement age   \n",
       "1920             single average earners of advanced age  \n",
       "1921           single average earners at retirement age  \n",
       "1922                         single independant persons  \n",
       "1923                          wealthy single homeowners  \n",
       "1924                  single homeowners of advanced age  \n",
       "1925                single homeowners at retirement age  \n",
       "1926                  single top earners of higher age   \n",
       "1927  low-income- and average earner-couples of youn...  \n",
       "1928            low-income earner-couples of higher age  \n",
       "1929              average earner-couples of higher age   \n",
       "1930                                independant couples  \n",
       "1931          wealthy homeowner-couples of younger age   \n",
       "1932                    homeowner-couples of higher age  \n",
       "1933                   top earner-couples of higher age  \n",
       "1934                   single parent low-income earners  \n",
       "1935                      single parent average earners  \n",
       "1936                  single parent high-income earners  \n",
       "1937                         low-income earner-families  \n",
       "1938                           average earner-families   \n",
       "1939                               independant families  \n",
       "1940                                 homeowner-families  \n",
       "1941                                top earner-families  \n",
       "1942  low-income earners of younger age from mulitpe...  \n",
       "1943  average earners of younger age from mulitperso...  \n",
       "1944  low-income earners of higher age from mulitper...  \n",
       "1945  average earners of higher age from mulitperson...  \n",
       "1946  independant persons of younger age from mulitp...  \n",
       "1947  homeowners of younger age from mulitperson hou...  \n",
       "1948  top earners of younger age from mulitperson ho...  \n",
       "1949  independant persons of higher age from mulitpe...  \n",
       "1950  homeowners of advanced age from mulitperson ho...  \n",
       "1951  homeowners at retirement age from mulitperson ...  \n",
       "1952  top earners of middle age from mulitperson hou...  \n",
       "1953  top earners at retirement age from mulitperson...  "
      ]
     },
     "metadata": {},
     "output_type": "display_data"
    },
    {
     "name": "stdout",
     "output_type": "stream",
     "text": [
      "==========================================================================================================================================================================================================================================\n"
     ]
    },
    {
     "data": {
      "text/html": [
       "\n",
       "\n",
       "\n",
       "\n",
       "\n",
       "\n",
       "  <div class=\"bk-root\" id=\"b4e49e23-bb08-4acc-ae84-0f8cfbb70551\" data-root-id=\"10479\"></div>\n"
      ]
     },
     "metadata": {},
     "output_type": "display_data"
    },
    {
     "data": {
      "application/javascript": [
       "(function(root) {\n",
       "  function embed_document(root) {\n",
       "    \n",
       "  var docs_json = {\"2474b682-e2e2-4041-af23-61549ff76f70\":{\"defs\":[],\"roots\":{\"references\":[{\"attributes\":{\"below\":[{\"id\":\"10487\"}],\"center\":[{\"id\":\"10489\"},{\"id\":\"10493\"}],\"height\":500,\"left\":[{\"id\":\"10490\"}],\"renderers\":[{\"id\":\"10499\"}],\"title\":{\"id\":\"10501\"},\"toolbar\":{\"id\":\"10494\"},\"toolbar_location\":null,\"width\":950,\"x_range\":{\"id\":\"10478\"},\"x_scale\":{\"id\":\"10483\"},\"y_range\":{\"id\":\"10481\"},\"y_scale\":{\"id\":\"10485\"}},\"id\":\"10479\",\"subtype\":\"Figure\",\"type\":\"Plot\"},{\"attributes\":{},\"id\":\"10886\",\"type\":\"CategoricalTickFormatter\"},{\"attributes\":{},\"id\":\"10888\",\"type\":\"AllLabels\"},{\"attributes\":{\"source\":{\"id\":\"10477\"}},\"id\":\"10500\",\"type\":\"CDSView\"},{\"attributes\":{\"data\":{\"counts\":[0.5027111775773071,0.7721597698066278,0.023358579767475518,0.010546465410031944,0.14460900188142217,0.059413787217440076,0.09091851994789908,0.03632129532541637,0.2384027208258961,0.1215586822404838],\"x\":[[\"mainly 1-2 family homes in the microcell\",\"a\"],[\"mainly 1-2 family homes in the microcell\",\"c\"],[\"mainly 3-5 family homes in the microcell\",\"a\"],[\"mainly 3-5 family homes in the microcell\",\"c\"],[\"mainly 6-10 family homes in the microcell\",\"a\"],[\"mainly 6-10 family homes in the microcell\",\"c\"],[\"mainly>10 family homes in the microcell\",\"a\"],[\"mainly>10 family homes in the microcell\",\"c\"],[\"mainly business buildings in the microcell\",\"a\"],[\"mainly business buildings in the microcell\",\"c\"]]},\"selected\":{\"id\":\"10890\"},\"selection_policy\":{\"id\":\"10889\"}},\"id\":\"10477\",\"type\":\"ColumnDataSource\"},{\"attributes\":{\"data_source\":{\"id\":\"10477\"},\"glyph\":{\"id\":\"10497\"},\"hover_glyph\":null,\"muted_glyph\":null,\"nonselection_glyph\":{\"id\":\"10498\"},\"view\":{\"id\":\"10500\"}},\"id\":\"10499\",\"type\":\"GlyphRenderer\"},{\"attributes\":{\"text\":\"KBA05_BAUMAX [ks:0.2694 p:0.0000]\"},\"id\":\"10501\",\"type\":\"Title\"},{\"attributes\":{},\"id\":\"10491\",\"type\":\"BasicTicker\"},{\"attributes\":{\"formatter\":{\"id\":\"10886\"},\"group_label_orientation\":1.5707963267948966,\"major_label_orientation\":0,\"major_label_policy\":{\"id\":\"10888\"},\"ticker\":{\"id\":\"10488\"}},\"id\":\"10487\",\"type\":\"CategoricalAxis\"},{\"attributes\":{\"formatter\":{\"id\":\"10883\"},\"major_label_policy\":{\"id\":\"10885\"},\"ticker\":{\"id\":\"10491\"}},\"id\":\"10490\",\"type\":\"LinearAxis\"},{\"attributes\":{\"axis\":{\"id\":\"10487\"},\"grid_line_color\":null,\"ticker\":null},\"id\":\"10489\",\"type\":\"Grid\"},{\"attributes\":{},\"id\":\"10889\",\"type\":\"UnionRenderers\"},{\"attributes\":{\"factors\":[[\"mainly 1-2 family homes in the microcell\",\"a\"],[\"mainly 1-2 family homes in the microcell\",\"c\"],[\"mainly 3-5 family homes in the microcell\",\"a\"],[\"mainly 3-5 family homes in the microcell\",\"c\"],[\"mainly 6-10 family homes in the microcell\",\"a\"],[\"mainly 6-10 family homes in the microcell\",\"c\"],[\"mainly>10 family homes in the microcell\",\"a\"],[\"mainly>10 family homes in the microcell\",\"c\"],[\"mainly business buildings in the microcell\",\"a\"],[\"mainly business buildings in the microcell\",\"c\"]]},\"id\":\"10478\",\"type\":\"FactorRange\"},{\"attributes\":{},\"id\":\"10890\",\"type\":\"Selection\"},{\"attributes\":{\"axis\":{\"id\":\"10490\"},\"dimension\":1,\"ticker\":null},\"id\":\"10493\",\"type\":\"Grid\"},{\"attributes\":{},\"id\":\"10488\",\"type\":\"CategoricalTicker\"},{\"attributes\":{\"active_multi\":null},\"id\":\"10494\",\"type\":\"Toolbar\"},{\"attributes\":{},\"id\":\"10483\",\"type\":\"CategoricalScale\"},{\"attributes\":{\"fill_alpha\":{\"value\":0.1},\"fill_color\":{\"field\":\"x\",\"transform\":{\"id\":\"10495\"}},\"line_alpha\":{\"value\":0.1},\"line_color\":{\"value\":null},\"top\":{\"field\":\"counts\"},\"width\":{\"value\":0.9},\"x\":{\"field\":\"x\"}},\"id\":\"10498\",\"type\":\"VBar\"},{\"attributes\":{\"start\":0},\"id\":\"10481\",\"type\":\"DataRange1d\"},{\"attributes\":{\"end\":2,\"factors\":[\"a\",\"c\"],\"palette\":[\"#1f77b4\",\"#ff7f0e\"],\"start\":1},\"id\":\"10495\",\"type\":\"CategoricalColorMapper\"},{\"attributes\":{},\"id\":\"10485\",\"type\":\"LinearScale\"},{\"attributes\":{\"fill_color\":{\"field\":\"x\",\"transform\":{\"id\":\"10495\"}},\"line_color\":{\"value\":null},\"top\":{\"field\":\"counts\"},\"width\":{\"value\":0.9},\"x\":{\"field\":\"x\"}},\"id\":\"10497\",\"type\":\"VBar\"},{\"attributes\":{},\"id\":\"10883\",\"type\":\"BasicTickFormatter\"},{\"attributes\":{},\"id\":\"10885\",\"type\":\"AllLabels\"}],\"root_ids\":[\"10479\"]},\"title\":\"Bokeh Application\",\"version\":\"2.3.1\"}};\n",
       "  var render_items = [{\"docid\":\"2474b682-e2e2-4041-af23-61549ff76f70\",\"root_ids\":[\"10479\"],\"roots\":{\"10479\":\"b4e49e23-bb08-4acc-ae84-0f8cfbb70551\"}}];\n",
       "  root.Bokeh.embed.embed_items_notebook(docs_json, render_items);\n",
       "\n",
       "  }\n",
       "  if (root.Bokeh !== undefined) {\n",
       "    embed_document(root);\n",
       "  } else {\n",
       "    var attempts = 0;\n",
       "    var timer = setInterval(function(root) {\n",
       "      if (root.Bokeh !== undefined) {\n",
       "        clearInterval(timer);\n",
       "        embed_document(root);\n",
       "      } else {\n",
       "        attempts++;\n",
       "        if (attempts > 100) {\n",
       "          clearInterval(timer);\n",
       "          console.log(\"Bokeh: ERROR: Unable to run BokehJS code because BokehJS library is missing\");\n",
       "        }\n",
       "      }\n",
       "    }, 10, root)\n",
       "  }\n",
       "})(window);"
      ],
      "application/vnd.bokehjs_exec.v0+json": ""
     },
     "metadata": {
      "application/vnd.bokehjs_exec.v0+json": {
       "id": "10479"
      }
     },
     "output_type": "display_data"
    },
    {
     "data": {
      "text/html": [
       "<div>\n",
       "<style scoped>\n",
       "    .dataframe tbody tr th:only-of-type {\n",
       "        vertical-align: middle;\n",
       "    }\n",
       "\n",
       "    .dataframe tbody tr th {\n",
       "        vertical-align: top;\n",
       "    }\n",
       "\n",
       "    .dataframe thead th {\n",
       "        text-align: right;\n",
       "    }\n",
       "</style>\n",
       "<table border=\"1\" class=\"dataframe\">\n",
       "  <thead>\n",
       "    <tr style=\"text-align: right;\">\n",
       "      <th></th>\n",
       "      <th>Attribute</th>\n",
       "      <th>Value</th>\n",
       "      <th>Meaning</th>\n",
       "    </tr>\n",
       "  </thead>\n",
       "  <tbody>\n",
       "    <tr>\n",
       "      <th>822</th>\n",
       "      <td>KBA05_BAUMAX</td>\n",
       "      <td>-1, 0</td>\n",
       "      <td>unknown</td>\n",
       "    </tr>\n",
       "    <tr>\n",
       "      <th>823</th>\n",
       "      <td>KBA05_BAUMAX</td>\n",
       "      <td>1</td>\n",
       "      <td>mainly 1-2 family homes in the microcell</td>\n",
       "    </tr>\n",
       "    <tr>\n",
       "      <th>824</th>\n",
       "      <td>KBA05_BAUMAX</td>\n",
       "      <td>2</td>\n",
       "      <td>mainly 3-5 family homes in the microcell</td>\n",
       "    </tr>\n",
       "    <tr>\n",
       "      <th>825</th>\n",
       "      <td>KBA05_BAUMAX</td>\n",
       "      <td>3</td>\n",
       "      <td>mainly 6-10 family homes in the microcell</td>\n",
       "    </tr>\n",
       "    <tr>\n",
       "      <th>826</th>\n",
       "      <td>KBA05_BAUMAX</td>\n",
       "      <td>4</td>\n",
       "      <td>mainly&gt;10 family homes in the microcell</td>\n",
       "    </tr>\n",
       "    <tr>\n",
       "      <th>827</th>\n",
       "      <td>KBA05_BAUMAX</td>\n",
       "      <td>5</td>\n",
       "      <td>mainly business buildings in the microcell</td>\n",
       "    </tr>\n",
       "  </tbody>\n",
       "</table>\n",
       "</div>"
      ],
      "text/plain": [
       "        Attribute  Value                                     Meaning\n",
       "822  KBA05_BAUMAX  -1, 0                                     unknown\n",
       "823  KBA05_BAUMAX      1    mainly 1-2 family homes in the microcell\n",
       "824  KBA05_BAUMAX      2    mainly 3-5 family homes in the microcell\n",
       "825  KBA05_BAUMAX      3   mainly 6-10 family homes in the microcell\n",
       "826  KBA05_BAUMAX      4     mainly>10 family homes in the microcell\n",
       "827  KBA05_BAUMAX      5  mainly business buildings in the microcell"
      ]
     },
     "metadata": {},
     "output_type": "display_data"
    },
    {
     "name": "stdout",
     "output_type": "stream",
     "text": [
      "==========================================================================================================================================================================================================================================\n"
     ]
    },
    {
     "data": {
      "text/html": [
       "\n",
       "\n",
       "\n",
       "\n",
       "\n",
       "\n",
       "  <div class=\"bk-root\" id=\"d67c0772-2f49-4a1d-8cca-ceb340944b2f\" data-root-id=\"10943\"></div>\n"
      ]
     },
     "metadata": {},
     "output_type": "display_data"
    },
    {
     "data": {
      "application/javascript": [
       "(function(root) {\n",
       "  function embed_document(root) {\n",
       "    \n",
       "  var docs_json = {\"0836f2c7-a6df-486d-a3ad-4d12cdfab5d2\":{\"defs\":[],\"roots\":{\"references\":[{\"attributes\":{\"below\":[{\"id\":\"10951\"}],\"center\":[{\"id\":\"10953\"},{\"id\":\"10957\"}],\"height\":500,\"left\":[{\"id\":\"10954\"}],\"renderers\":[{\"id\":\"10963\"}],\"title\":{\"id\":\"10965\"},\"toolbar\":{\"id\":\"10958\"},\"toolbar_location\":null,\"width\":950,\"x_range\":{\"id\":\"10942\"},\"x_scale\":{\"id\":\"10947\"},\"y_range\":{\"id\":\"10945\"},\"y_scale\":{\"id\":\"10949\"}},\"id\":\"10943\",\"subtype\":\"Figure\",\"type\":\"Plot\"},{\"attributes\":{\"fill_color\":{\"field\":\"x\",\"transform\":{\"id\":\"10959\"}},\"line_color\":{\"value\":null},\"top\":{\"field\":\"counts\"},\"width\":{\"value\":0.9},\"x\":{\"field\":\"x\"}},\"id\":\"10961\",\"type\":\"VBar\"},{\"attributes\":{\"source\":{\"id\":\"10941\"}},\"id\":\"10964\",\"type\":\"CDSView\"},{\"attributes\":{},\"id\":\"11362\",\"type\":\"AllLabels\"},{\"attributes\":{\"data_source\":{\"id\":\"10941\"},\"glyph\":{\"id\":\"10961\"},\"hover_glyph\":null,\"muted_glyph\":null,\"nonselection_glyph\":{\"id\":\"10962\"},\"view\":{\"id\":\"10964\"}},\"id\":\"10963\",\"type\":\"GlyphRenderer\"},{\"attributes\":{\"formatter\":{\"id\":\"11360\"},\"group_label_orientation\":1.5707963267948966,\"major_label_orientation\":0,\"major_label_policy\":{\"id\":\"11362\"},\"ticker\":{\"id\":\"10952\"}},\"id\":\"10951\",\"type\":\"CategoricalAxis\"},{\"attributes\":{\"text\":\"FINANZ_UNAUFFAELLIGER [ks:0.2685 p:0.0000]\"},\"id\":\"10965\",\"type\":\"Title\"},{\"attributes\":{},\"id\":\"11363\",\"type\":\"UnionRenderers\"},{\"attributes\":{},\"id\":\"11364\",\"type\":\"Selection\"},{\"attributes\":{\"factors\":[[\"very high\",\"a\"],[\"very high\",\"c\"],[\"high\",\"a\"],[\"high\",\"c\"],[\"average\",\"a\"],[\"average\",\"c\"],[\"low\",\"a\"],[\"low\",\"c\"],[\"very low\",\"a\"],[\"very low\",\"c\"]]},\"id\":\"10942\",\"type\":\"FactorRange\"},{\"attributes\":{\"active_multi\":null},\"id\":\"10958\",\"type\":\"Toolbar\"},{\"attributes\":{\"axis\":{\"id\":\"10951\"},\"grid_line_color\":null,\"ticker\":null},\"id\":\"10953\",\"type\":\"Grid\"},{\"attributes\":{},\"id\":\"10955\",\"type\":\"BasicTicker\"},{\"attributes\":{\"formatter\":{\"id\":\"11357\"},\"major_label_policy\":{\"id\":\"11359\"},\"ticker\":{\"id\":\"10955\"}},\"id\":\"10954\",\"type\":\"LinearAxis\"},{\"attributes\":{\"start\":0},\"id\":\"10945\",\"type\":\"DataRange1d\"},{\"attributes\":{\"axis\":{\"id\":\"10954\"},\"dimension\":1,\"ticker\":null},\"id\":\"10957\",\"type\":\"Grid\"},{\"attributes\":{},\"id\":\"10952\",\"type\":\"CategoricalTicker\"},{\"attributes\":{\"data\":{\"counts\":[0.2628647853544685,0.40814696485623003,0.22134702080537072,0.34458200212992546,0.20333572530330735,0.1512646432374867,0.13551980050493612,0.03043796592119276,0.1769326680319173,0.06556842385516506],\"x\":[[\"very high\",\"a\"],[\"very high\",\"c\"],[\"high\",\"a\"],[\"high\",\"c\"],[\"average\",\"a\"],[\"average\",\"c\"],[\"low\",\"a\"],[\"low\",\"c\"],[\"very low\",\"a\"],[\"very low\",\"c\"]]},\"selected\":{\"id\":\"11364\"},\"selection_policy\":{\"id\":\"11363\"}},\"id\":\"10941\",\"type\":\"ColumnDataSource\"},{\"attributes\":{\"fill_alpha\":{\"value\":0.1},\"fill_color\":{\"field\":\"x\",\"transform\":{\"id\":\"10959\"}},\"line_alpha\":{\"value\":0.1},\"line_color\":{\"value\":null},\"top\":{\"field\":\"counts\"},\"width\":{\"value\":0.9},\"x\":{\"field\":\"x\"}},\"id\":\"10962\",\"type\":\"VBar\"},{\"attributes\":{},\"id\":\"11357\",\"type\":\"BasicTickFormatter\"},{\"attributes\":{},\"id\":\"10949\",\"type\":\"LinearScale\"},{\"attributes\":{},\"id\":\"11359\",\"type\":\"AllLabels\"},{\"attributes\":{},\"id\":\"10947\",\"type\":\"CategoricalScale\"},{\"attributes\":{\"end\":2,\"factors\":[\"a\",\"c\"],\"palette\":[\"#1f77b4\",\"#ff7f0e\"],\"start\":1},\"id\":\"10959\",\"type\":\"CategoricalColorMapper\"},{\"attributes\":{},\"id\":\"11360\",\"type\":\"CategoricalTickFormatter\"}],\"root_ids\":[\"10943\"]},\"title\":\"Bokeh Application\",\"version\":\"2.3.1\"}};\n",
       "  var render_items = [{\"docid\":\"0836f2c7-a6df-486d-a3ad-4d12cdfab5d2\",\"root_ids\":[\"10943\"],\"roots\":{\"10943\":\"d67c0772-2f49-4a1d-8cca-ceb340944b2f\"}}];\n",
       "  root.Bokeh.embed.embed_items_notebook(docs_json, render_items);\n",
       "\n",
       "  }\n",
       "  if (root.Bokeh !== undefined) {\n",
       "    embed_document(root);\n",
       "  } else {\n",
       "    var attempts = 0;\n",
       "    var timer = setInterval(function(root) {\n",
       "      if (root.Bokeh !== undefined) {\n",
       "        clearInterval(timer);\n",
       "        embed_document(root);\n",
       "      } else {\n",
       "        attempts++;\n",
       "        if (attempts > 100) {\n",
       "          clearInterval(timer);\n",
       "          console.log(\"Bokeh: ERROR: Unable to run BokehJS code because BokehJS library is missing\");\n",
       "        }\n",
       "      }\n",
       "    }, 10, root)\n",
       "  }\n",
       "})(window);"
      ],
      "application/vnd.bokehjs_exec.v0+json": ""
     },
     "metadata": {
      "application/vnd.bokehjs_exec.v0+json": {
       "id": "10943"
      }
     },
     "output_type": "display_data"
    },
    {
     "data": {
      "text/html": [
       "<div>\n",
       "<style scoped>\n",
       "    .dataframe tbody tr th:only-of-type {\n",
       "        vertical-align: middle;\n",
       "    }\n",
       "\n",
       "    .dataframe tbody tr th {\n",
       "        vertical-align: top;\n",
       "    }\n",
       "\n",
       "    .dataframe thead th {\n",
       "        text-align: right;\n",
       "    }\n",
       "</style>\n",
       "<table border=\"1\" class=\"dataframe\">\n",
       "  <thead>\n",
       "    <tr style=\"text-align: right;\">\n",
       "      <th></th>\n",
       "      <th>Attribute</th>\n",
       "      <th>Value</th>\n",
       "      <th>Meaning</th>\n",
       "    </tr>\n",
       "  </thead>\n",
       "  <tbody>\n",
       "    <tr>\n",
       "      <th>685</th>\n",
       "      <td>FINANZ_UNAUFFAELLIGER</td>\n",
       "      <td>-1</td>\n",
       "      <td>unknown</td>\n",
       "    </tr>\n",
       "    <tr>\n",
       "      <th>686</th>\n",
       "      <td>FINANZ_UNAUFFAELLIGER</td>\n",
       "      <td>1</td>\n",
       "      <td>very high</td>\n",
       "    </tr>\n",
       "    <tr>\n",
       "      <th>687</th>\n",
       "      <td>FINANZ_UNAUFFAELLIGER</td>\n",
       "      <td>2</td>\n",
       "      <td>high</td>\n",
       "    </tr>\n",
       "    <tr>\n",
       "      <th>688</th>\n",
       "      <td>FINANZ_UNAUFFAELLIGER</td>\n",
       "      <td>3</td>\n",
       "      <td>average</td>\n",
       "    </tr>\n",
       "    <tr>\n",
       "      <th>689</th>\n",
       "      <td>FINANZ_UNAUFFAELLIGER</td>\n",
       "      <td>4</td>\n",
       "      <td>low</td>\n",
       "    </tr>\n",
       "    <tr>\n",
       "      <th>690</th>\n",
       "      <td>FINANZ_UNAUFFAELLIGER</td>\n",
       "      <td>5</td>\n",
       "      <td>very low</td>\n",
       "    </tr>\n",
       "  </tbody>\n",
       "</table>\n",
       "</div>"
      ],
      "text/plain": [
       "                 Attribute Value    Meaning\n",
       "685  FINANZ_UNAUFFAELLIGER    -1    unknown\n",
       "686  FINANZ_UNAUFFAELLIGER     1  very high\n",
       "687  FINANZ_UNAUFFAELLIGER     2       high\n",
       "688  FINANZ_UNAUFFAELLIGER     3    average\n",
       "689  FINANZ_UNAUFFAELLIGER     4        low\n",
       "690  FINANZ_UNAUFFAELLIGER     5   very low"
      ]
     },
     "metadata": {},
     "output_type": "display_data"
    },
    {
     "name": "stdout",
     "output_type": "stream",
     "text": [
      "==========================================================================================================================================================================================================================================\n"
     ]
    },
    {
     "data": {
      "text/html": [
       "\n",
       "\n",
       "\n",
       "\n",
       "\n",
       "\n",
       "  <div class=\"bk-root\" id=\"2ffe4cf8-97ae-48e1-9c79-c81c87a0d8fe\" data-root-id=\"11417\"></div>\n"
      ]
     },
     "metadata": {},
     "output_type": "display_data"
    },
    {
     "data": {
      "application/javascript": [
       "(function(root) {\n",
       "  function embed_document(root) {\n",
       "    \n",
       "  var docs_json = {\"4c366d8b-7b00-437d-b5d4-e0df715c050a\":{\"defs\":[],\"roots\":{\"references\":[{\"attributes\":{\"below\":[{\"id\":\"11425\"}],\"center\":[{\"id\":\"11427\"},{\"id\":\"11431\"}],\"height\":500,\"left\":[{\"id\":\"11428\"}],\"renderers\":[{\"id\":\"11437\"}],\"title\":{\"id\":\"11439\"},\"toolbar\":{\"id\":\"11432\"},\"toolbar_location\":null,\"width\":950,\"x_range\":{\"id\":\"11416\"},\"x_scale\":{\"id\":\"11421\"},\"y_range\":{\"id\":\"11419\"},\"y_scale\":{\"id\":\"11423\"}},\"id\":\"11417\",\"subtype\":\"Figure\",\"type\":\"Plot\"},{\"attributes\":{},\"id\":\"11843\",\"type\":\"AllLabels\"},{\"attributes\":{},\"id\":\"11844\",\"type\":\"CategoricalTickFormatter\"},{\"attributes\":{\"formatter\":{\"id\":\"11841\"},\"major_label_policy\":{\"id\":\"11843\"},\"ticker\":{\"id\":\"11429\"}},\"id\":\"11428\",\"type\":\"LinearAxis\"},{\"attributes\":{\"source\":{\"id\":\"11415\"}},\"id\":\"11438\",\"type\":\"CDSView\"},{\"attributes\":{\"data_source\":{\"id\":\"11415\"},\"glyph\":{\"id\":\"11435\"},\"hover_glyph\":null,\"muted_glyph\":null,\"nonselection_glyph\":{\"id\":\"11436\"},\"view\":{\"id\":\"11438\"}},\"id\":\"11437\",\"type\":\"GlyphRenderer\"},{\"attributes\":{\"factors\":[[\"doesn't belong to the green avantgarde\",\"a\"],[\"doesn't belong to the green avantgarde\",\"c\"],[\"belongs to the green avantgarde\",\"a\"],[\"belongs to the green avantgarde\",\"c\"]]},\"id\":\"11416\",\"type\":\"FactorRange\"},{\"attributes\":{\"text\":\"GREEN_AVANTGARDE [ks:0.2589 p:0.0000]\"},\"id\":\"11439\",\"type\":\"Title\"},{\"attributes\":{},\"id\":\"11847\",\"type\":\"UnionRenderers\"},{\"attributes\":{},\"id\":\"11423\",\"type\":\"LinearScale\"},{\"attributes\":{},\"id\":\"11426\",\"type\":\"CategoricalTicker\"},{\"attributes\":{},\"id\":\"11848\",\"type\":\"Selection\"},{\"attributes\":{\"active_multi\":null},\"id\":\"11432\",\"type\":\"Toolbar\"},{\"attributes\":{\"formatter\":{\"id\":\"11844\"},\"group_label_orientation\":1.5707963267948966,\"major_label_orientation\":0,\"major_label_policy\":{\"id\":\"11846\"},\"ticker\":{\"id\":\"11426\"}},\"id\":\"11425\",\"type\":\"CategoricalAxis\"},{\"attributes\":{\"axis\":{\"id\":\"11428\"},\"dimension\":1,\"ticker\":null},\"id\":\"11431\",\"type\":\"Grid\"},{\"attributes\":{},\"id\":\"11429\",\"type\":\"BasicTicker\"},{\"attributes\":{},\"id\":\"11846\",\"type\":\"AllLabels\"},{\"attributes\":{},\"id\":\"11421\",\"type\":\"CategoricalScale\"},{\"attributes\":{\"data\":{\"counts\":[0.7911345328148878,0.532221778487753,0.20886546718511226,0.46777822151224707],\"x\":[[\"doesn't belong to the green avantgarde\",\"a\"],[\"doesn't belong to the green avantgarde\",\"c\"],[\"belongs to the green avantgarde\",\"a\"],[\"belongs to the green avantgarde\",\"c\"]]},\"selected\":{\"id\":\"11848\"},\"selection_policy\":{\"id\":\"11847\"}},\"id\":\"11415\",\"type\":\"ColumnDataSource\"},{\"attributes\":{\"axis\":{\"id\":\"11425\"},\"grid_line_color\":null,\"ticker\":null},\"id\":\"11427\",\"type\":\"Grid\"},{\"attributes\":{\"fill_alpha\":{\"value\":0.1},\"fill_color\":{\"field\":\"x\",\"transform\":{\"id\":\"11433\"}},\"line_alpha\":{\"value\":0.1},\"line_color\":{\"value\":null},\"top\":{\"field\":\"counts\"},\"width\":{\"value\":0.9},\"x\":{\"field\":\"x\"}},\"id\":\"11436\",\"type\":\"VBar\"},{\"attributes\":{\"fill_color\":{\"field\":\"x\",\"transform\":{\"id\":\"11433\"}},\"line_color\":{\"value\":null},\"top\":{\"field\":\"counts\"},\"width\":{\"value\":0.9},\"x\":{\"field\":\"x\"}},\"id\":\"11435\",\"type\":\"VBar\"},{\"attributes\":{\"start\":0},\"id\":\"11419\",\"type\":\"DataRange1d\"},{\"attributes\":{},\"id\":\"11841\",\"type\":\"BasicTickFormatter\"},{\"attributes\":{\"end\":2,\"factors\":[\"a\",\"c\"],\"palette\":[\"#1f77b4\",\"#ff7f0e\"],\"start\":1},\"id\":\"11433\",\"type\":\"CategoricalColorMapper\"}],\"root_ids\":[\"11417\"]},\"title\":\"Bokeh Application\",\"version\":\"2.3.1\"}};\n",
       "  var render_items = [{\"docid\":\"4c366d8b-7b00-437d-b5d4-e0df715c050a\",\"root_ids\":[\"11417\"],\"roots\":{\"11417\":\"2ffe4cf8-97ae-48e1-9c79-c81c87a0d8fe\"}}];\n",
       "  root.Bokeh.embed.embed_items_notebook(docs_json, render_items);\n",
       "\n",
       "  }\n",
       "  if (root.Bokeh !== undefined) {\n",
       "    embed_document(root);\n",
       "  } else {\n",
       "    var attempts = 0;\n",
       "    var timer = setInterval(function(root) {\n",
       "      if (root.Bokeh !== undefined) {\n",
       "        clearInterval(timer);\n",
       "        embed_document(root);\n",
       "      } else {\n",
       "        attempts++;\n",
       "        if (attempts > 100) {\n",
       "          clearInterval(timer);\n",
       "          console.log(\"Bokeh: ERROR: Unable to run BokehJS code because BokehJS library is missing\");\n",
       "        }\n",
       "      }\n",
       "    }, 10, root)\n",
       "  }\n",
       "})(window);"
      ],
      "application/vnd.bokehjs_exec.v0+json": ""
     },
     "metadata": {
      "application/vnd.bokehjs_exec.v0+json": {
       "id": "11417"
      }
     },
     "output_type": "display_data"
    },
    {
     "data": {
      "text/html": [
       "<div>\n",
       "<style scoped>\n",
       "    .dataframe tbody tr th:only-of-type {\n",
       "        vertical-align: middle;\n",
       "    }\n",
       "\n",
       "    .dataframe tbody tr th {\n",
       "        vertical-align: top;\n",
       "    }\n",
       "\n",
       "    .dataframe thead th {\n",
       "        text-align: right;\n",
       "    }\n",
       "</style>\n",
       "<table border=\"1\" class=\"dataframe\">\n",
       "  <thead>\n",
       "    <tr style=\"text-align: right;\">\n",
       "      <th></th>\n",
       "      <th>Attribute</th>\n",
       "      <th>Value</th>\n",
       "      <th>Meaning</th>\n",
       "    </tr>\n",
       "  </thead>\n",
       "  <tbody>\n",
       "    <tr>\n",
       "      <th>732</th>\n",
       "      <td>GREEN_AVANTGARDE</td>\n",
       "      <td>0</td>\n",
       "      <td>doesn't belong to the green avantgarde</td>\n",
       "    </tr>\n",
       "    <tr>\n",
       "      <th>733</th>\n",
       "      <td>GREEN_AVANTGARDE</td>\n",
       "      <td>1</td>\n",
       "      <td>belongs to the green avantgarde</td>\n",
       "    </tr>\n",
       "  </tbody>\n",
       "</table>\n",
       "</div>"
      ],
      "text/plain": [
       "            Attribute Value                                 Meaning\n",
       "732  GREEN_AVANTGARDE     0  doesn't belong to the green avantgarde\n",
       "733  GREEN_AVANTGARDE     1         belongs to the green avantgarde"
      ]
     },
     "metadata": {},
     "output_type": "display_data"
    },
    {
     "name": "stdout",
     "output_type": "stream",
     "text": [
      "==========================================================================================================================================================================================================================================\n"
     ]
    },
    {
     "data": {
      "text/html": [
       "\n",
       "\n",
       "\n",
       "\n",
       "\n",
       "\n",
       "  <div class=\"bk-root\" id=\"02dd9124-4c57-4678-ab21-726f0781f0cb\" data-root-id=\"11901\"></div>\n"
      ]
     },
     "metadata": {},
     "output_type": "display_data"
    },
    {
     "data": {
      "application/javascript": [
       "(function(root) {\n",
       "  function embed_document(root) {\n",
       "    \n",
       "  var docs_json = {\"b3d7ca3a-6b18-4f69-88e0-a7d1c1ebf0bc\":{\"defs\":[],\"roots\":{\"references\":[{\"attributes\":{\"below\":[{\"id\":\"11909\"}],\"center\":[{\"id\":\"11911\"},{\"id\":\"11915\"}],\"height\":500,\"left\":[{\"id\":\"11912\"}],\"renderers\":[{\"id\":\"11921\"}],\"title\":{\"id\":\"11923\"},\"toolbar\":{\"id\":\"11916\"},\"toolbar_location\":null,\"width\":950,\"x_range\":{\"id\":\"11900\"},\"x_scale\":{\"id\":\"11905\"},\"y_range\":{\"id\":\"11903\"},\"y_scale\":{\"id\":\"11907\"}},\"id\":\"11901\",\"subtype\":\"Figure\",\"type\":\"Plot\"},{\"attributes\":{\"start\":0},\"id\":\"11903\",\"type\":\"DataRange1d\"},{\"attributes\":{\"axis\":{\"id\":\"11912\"},\"dimension\":1,\"ticker\":null},\"id\":\"11915\",\"type\":\"Grid\"},{\"attributes\":{},\"id\":\"12335\",\"type\":\"BasicTickFormatter\"},{\"attributes\":{},\"id\":\"12337\",\"type\":\"AllLabels\"},{\"attributes\":{},\"id\":\"12338\",\"type\":\"CategoricalTickFormatter\"},{\"attributes\":{},\"id\":\"12340\",\"type\":\"AllLabels\"},{\"attributes\":{\"fill_alpha\":{\"value\":0.1},\"fill_color\":{\"field\":\"x\",\"transform\":{\"id\":\"11917\"}},\"line_alpha\":{\"value\":0.1},\"line_color\":{\"value\":null},\"top\":{\"field\":\"counts\"},\"width\":{\"value\":0.9},\"x\":{\"field\":\"x\"}},\"id\":\"11920\",\"type\":\"VBar\"},{\"attributes\":{\"data\":{\"counts\":[0.11528659535258512,0.23443823216187434,0.15810365256199058,0.15155750798722045,0.20789636174214882,0.19205271565495208,0.207615047001018,0.3652489350372737,0.13989329112022866,0.031682641107561235,0.0804607840098794,0.011288604898828542,0.09074426821214945,0.01373136315228967],\"x\":[[\"highest affinity\",\"a\"],[\"highest affinity\",\"c\"],[\"very high affinity\",\"a\"],[\"very high affinity\",\"c\"],[\"high affinity\",\"a\"],[\"high affinity\",\"c\"],[\"average affinity\",\"a\"],[\"average affinity\",\"c\"],[\"low affinity\",\"a\"],[\"low affinity\",\"c\"],[\"very low affinity\",\"a\"],[\"very low affinity\",\"c\"],[\"lowest affinity\",\"a\"],[\"lowest affinity\",\"c\"]]},\"selected\":{\"id\":\"12342\"},\"selection_policy\":{\"id\":\"12341\"}},\"id\":\"11899\",\"type\":\"ColumnDataSource\"},{\"attributes\":{},\"id\":\"11907\",\"type\":\"LinearScale\"},{\"attributes\":{\"fill_color\":{\"field\":\"x\",\"transform\":{\"id\":\"11917\"}},\"line_color\":{\"value\":null},\"top\":{\"field\":\"counts\"},\"width\":{\"value\":0.9},\"x\":{\"field\":\"x\"}},\"id\":\"11919\",\"type\":\"VBar\"},{\"attributes\":{\"source\":{\"id\":\"11899\"}},\"id\":\"11922\",\"type\":\"CDSView\"},{\"attributes\":{\"active_multi\":null},\"id\":\"11916\",\"type\":\"Toolbar\"},{\"attributes\":{\"axis\":{\"id\":\"11909\"},\"grid_line_color\":null,\"ticker\":null},\"id\":\"11911\",\"type\":\"Grid\"},{\"attributes\":{\"data_source\":{\"id\":\"11899\"},\"glyph\":{\"id\":\"11919\"},\"hover_glyph\":null,\"muted_glyph\":null,\"nonselection_glyph\":{\"id\":\"11920\"},\"view\":{\"id\":\"11922\"}},\"id\":\"11921\",\"type\":\"GlyphRenderer\"},{\"attributes\":{\"factors\":[[\"highest affinity\",\"a\"],[\"highest affinity\",\"c\"],[\"very high affinity\",\"a\"],[\"very high affinity\",\"c\"],[\"high affinity\",\"a\"],[\"high affinity\",\"c\"],[\"average affinity\",\"a\"],[\"average affinity\",\"c\"],[\"low affinity\",\"a\"],[\"low affinity\",\"c\"],[\"very low affinity\",\"a\"],[\"very low affinity\",\"c\"],[\"lowest affinity\",\"a\"],[\"lowest affinity\",\"c\"]]},\"id\":\"11900\",\"type\":\"FactorRange\"},{\"attributes\":{},\"id\":\"11913\",\"type\":\"BasicTicker\"},{\"attributes\":{\"text\":\"SEMIO_TRADV [ks:0.2544 p:0.0000]\"},\"id\":\"11923\",\"type\":\"Title\"},{\"attributes\":{},\"id\":\"12341\",\"type\":\"UnionRenderers\"},{\"attributes\":{\"end\":2,\"factors\":[\"a\",\"c\"],\"palette\":[\"#1f77b4\",\"#ff7f0e\"],\"start\":1},\"id\":\"11917\",\"type\":\"CategoricalColorMapper\"},{\"attributes\":{\"formatter\":{\"id\":\"12338\"},\"group_label_orientation\":1.5707963267948966,\"major_label_orientation\":0,\"major_label_policy\":{\"id\":\"12340\"},\"ticker\":{\"id\":\"11910\"}},\"id\":\"11909\",\"type\":\"CategoricalAxis\"},{\"attributes\":{},\"id\":\"12342\",\"type\":\"Selection\"},{\"attributes\":{},\"id\":\"11905\",\"type\":\"CategoricalScale\"},{\"attributes\":{},\"id\":\"11910\",\"type\":\"CategoricalTicker\"},{\"attributes\":{\"formatter\":{\"id\":\"12335\"},\"major_label_policy\":{\"id\":\"12337\"},\"ticker\":{\"id\":\"11913\"}},\"id\":\"11912\",\"type\":\"LinearAxis\"}],\"root_ids\":[\"11901\"]},\"title\":\"Bokeh Application\",\"version\":\"2.3.1\"}};\n",
       "  var render_items = [{\"docid\":\"b3d7ca3a-6b18-4f69-88e0-a7d1c1ebf0bc\",\"root_ids\":[\"11901\"],\"roots\":{\"11901\":\"02dd9124-4c57-4678-ab21-726f0781f0cb\"}}];\n",
       "  root.Bokeh.embed.embed_items_notebook(docs_json, render_items);\n",
       "\n",
       "  }\n",
       "  if (root.Bokeh !== undefined) {\n",
       "    embed_document(root);\n",
       "  } else {\n",
       "    var attempts = 0;\n",
       "    var timer = setInterval(function(root) {\n",
       "      if (root.Bokeh !== undefined) {\n",
       "        clearInterval(timer);\n",
       "        embed_document(root);\n",
       "      } else {\n",
       "        attempts++;\n",
       "        if (attempts > 100) {\n",
       "          clearInterval(timer);\n",
       "          console.log(\"Bokeh: ERROR: Unable to run BokehJS code because BokehJS library is missing\");\n",
       "        }\n",
       "      }\n",
       "    }, 10, root)\n",
       "  }\n",
       "})(window);"
      ],
      "application/vnd.bokehjs_exec.v0+json": ""
     },
     "metadata": {
      "application/vnd.bokehjs_exec.v0+json": {
       "id": "11901"
      }
     },
     "output_type": "display_data"
    },
    {
     "data": {
      "text/html": [
       "<div>\n",
       "<style scoped>\n",
       "    .dataframe tbody tr th:only-of-type {\n",
       "        vertical-align: middle;\n",
       "    }\n",
       "\n",
       "    .dataframe tbody tr th {\n",
       "        vertical-align: top;\n",
       "    }\n",
       "\n",
       "    .dataframe thead th {\n",
       "        text-align: right;\n",
       "    }\n",
       "</style>\n",
       "<table border=\"1\" class=\"dataframe\">\n",
       "  <thead>\n",
       "    <tr style=\"text-align: right;\">\n",
       "      <th></th>\n",
       "      <th>Attribute</th>\n",
       "      <th>Value</th>\n",
       "      <th>Meaning</th>\n",
       "    </tr>\n",
       "  </thead>\n",
       "  <tbody>\n",
       "    <tr>\n",
       "      <th>2186</th>\n",
       "      <td>SEMIO_TRADV</td>\n",
       "      <td>-1, 9</td>\n",
       "      <td>unknown</td>\n",
       "    </tr>\n",
       "    <tr>\n",
       "      <th>2187</th>\n",
       "      <td>SEMIO_TRADV</td>\n",
       "      <td>1</td>\n",
       "      <td>highest affinity</td>\n",
       "    </tr>\n",
       "    <tr>\n",
       "      <th>2188</th>\n",
       "      <td>SEMIO_TRADV</td>\n",
       "      <td>2</td>\n",
       "      <td>very high affinity</td>\n",
       "    </tr>\n",
       "    <tr>\n",
       "      <th>2189</th>\n",
       "      <td>SEMIO_TRADV</td>\n",
       "      <td>3</td>\n",
       "      <td>high affinity</td>\n",
       "    </tr>\n",
       "    <tr>\n",
       "      <th>2190</th>\n",
       "      <td>SEMIO_TRADV</td>\n",
       "      <td>4</td>\n",
       "      <td>average affinity</td>\n",
       "    </tr>\n",
       "    <tr>\n",
       "      <th>2191</th>\n",
       "      <td>SEMIO_TRADV</td>\n",
       "      <td>5</td>\n",
       "      <td>low affinity</td>\n",
       "    </tr>\n",
       "    <tr>\n",
       "      <th>2192</th>\n",
       "      <td>SEMIO_TRADV</td>\n",
       "      <td>6</td>\n",
       "      <td>very low affinity</td>\n",
       "    </tr>\n",
       "    <tr>\n",
       "      <th>2193</th>\n",
       "      <td>SEMIO_TRADV</td>\n",
       "      <td>7</td>\n",
       "      <td>lowest affinity</td>\n",
       "    </tr>\n",
       "  </tbody>\n",
       "</table>\n",
       "</div>"
      ],
      "text/plain": [
       "        Attribute  Value             Meaning\n",
       "2186  SEMIO_TRADV  -1, 9             unknown\n",
       "2187  SEMIO_TRADV      1    highest affinity\n",
       "2188  SEMIO_TRADV      2  very high affinity\n",
       "2189  SEMIO_TRADV      3       high affinity\n",
       "2190  SEMIO_TRADV      4    average affinity\n",
       "2191  SEMIO_TRADV      5        low affinity\n",
       "2192  SEMIO_TRADV      6   very low affinity\n",
       "2193  SEMIO_TRADV      7     lowest affinity"
      ]
     },
     "metadata": {},
     "output_type": "display_data"
    },
    {
     "name": "stdout",
     "output_type": "stream",
     "text": [
      "==========================================================================================================================================================================================================================================\n"
     ]
    },
    {
     "data": {
      "text/html": [
       "\n",
       "\n",
       "\n",
       "\n",
       "\n",
       "\n",
       "  <div class=\"bk-root\" id=\"fc0d3651-d776-4ce1-b8f8-91a5addcb77a\" data-root-id=\"12395\"></div>\n"
      ]
     },
     "metadata": {},
     "output_type": "display_data"
    },
    {
     "data": {
      "application/javascript": [
       "(function(root) {\n",
       "  function embed_document(root) {\n",
       "    \n",
       "  var docs_json = {\"dba994d7-74a6-40d4-8da6-672c8584e3ef\":{\"defs\":[],\"roots\":{\"references\":[{\"attributes\":{\"below\":[{\"id\":\"12403\"}],\"center\":[{\"id\":\"12405\"},{\"id\":\"12409\"}],\"height\":500,\"left\":[{\"id\":\"12406\"}],\"renderers\":[{\"id\":\"12415\"}],\"title\":{\"id\":\"12417\"},\"toolbar\":{\"id\":\"12410\"},\"toolbar_location\":null,\"width\":950,\"x_range\":{\"id\":\"12394\"},\"x_scale\":{\"id\":\"12399\"},\"y_range\":{\"id\":\"12397\"},\"y_scale\":{\"id\":\"12401\"}},\"id\":\"12395\",\"subtype\":\"Figure\",\"type\":\"Plot\"},{\"attributes\":{\"formatter\":{\"id\":\"12839\"},\"major_label_policy\":{\"id\":\"12841\"},\"ticker\":{\"id\":\"12407\"}},\"id\":\"12406\",\"type\":\"LinearAxis\"},{\"attributes\":{},\"id\":\"12404\",\"type\":\"CategoricalTicker\"},{\"attributes\":{\"factors\":[[\"highest affinity\",\"a\"],[\"highest affinity\",\"c\"],[\"very high affinity\",\"a\"],[\"very high affinity\",\"c\"],[\"high affinity\",\"a\"],[\"high affinity\",\"c\"],[\"average affinity\",\"a\"],[\"average affinity\",\"c\"],[\"low affinity\",\"a\"],[\"low affinity\",\"c\"],[\"very low affinity\",\"a\"],[\"very low affinity\",\"c\"],[\"lowest affinity\",\"a\"],[\"lowest affinity\",\"c\"]]},\"id\":\"12394\",\"type\":\"FactorRange\"},{\"attributes\":{},\"id\":\"12407\",\"type\":\"BasicTicker\"},{\"attributes\":{\"active_multi\":null},\"id\":\"12410\",\"type\":\"Toolbar\"},{\"attributes\":{},\"id\":\"12399\",\"type\":\"CategoricalScale\"},{\"attributes\":{\"data\":{\"counts\":[0.06548554209112213,0.1161741214057508,0.0642398899534877,0.009398296059637913,0.1538648592591886,0.40004659211927585,0.1717319213558417,0.08359957401490947,0.18626254294221842,0.1296126198083067,0.15850297645300257,0.10852635782747604,0.19991226794513886,0.15264243876464323],\"x\":[[\"highest affinity\",\"a\"],[\"highest affinity\",\"c\"],[\"very high affinity\",\"a\"],[\"very high affinity\",\"c\"],[\"high affinity\",\"a\"],[\"high affinity\",\"c\"],[\"average affinity\",\"a\"],[\"average affinity\",\"c\"],[\"low affinity\",\"a\"],[\"low affinity\",\"c\"],[\"very low affinity\",\"a\"],[\"very low affinity\",\"c\"],[\"lowest affinity\",\"a\"],[\"lowest affinity\",\"c\"]]},\"selected\":{\"id\":\"12846\"},\"selection_policy\":{\"id\":\"12845\"}},\"id\":\"12393\",\"type\":\"ColumnDataSource\"},{\"attributes\":{\"fill_alpha\":{\"value\":0.1},\"fill_color\":{\"field\":\"x\",\"transform\":{\"id\":\"12411\"}},\"line_alpha\":{\"value\":0.1},\"line_color\":{\"value\":null},\"top\":{\"field\":\"counts\"},\"width\":{\"value\":0.9},\"x\":{\"field\":\"x\"}},\"id\":\"12414\",\"type\":\"VBar\"},{\"attributes\":{\"start\":0},\"id\":\"12397\",\"type\":\"DataRange1d\"},{\"attributes\":{\"end\":2,\"factors\":[\"a\",\"c\"],\"palette\":[\"#1f77b4\",\"#ff7f0e\"],\"start\":1},\"id\":\"12411\",\"type\":\"CategoricalColorMapper\"},{\"attributes\":{},\"id\":\"12401\",\"type\":\"LinearScale\"},{\"attributes\":{\"fill_color\":{\"field\":\"x\",\"transform\":{\"id\":\"12411\"}},\"line_color\":{\"value\":null},\"top\":{\"field\":\"counts\"},\"width\":{\"value\":0.9},\"x\":{\"field\":\"x\"}},\"id\":\"12413\",\"type\":\"VBar\"},{\"attributes\":{},\"id\":\"12839\",\"type\":\"BasicTickFormatter\"},{\"attributes\":{},\"id\":\"12841\",\"type\":\"AllLabels\"},{\"attributes\":{},\"id\":\"12842\",\"type\":\"CategoricalTickFormatter\"},{\"attributes\":{},\"id\":\"12844\",\"type\":\"AllLabels\"},{\"attributes\":{\"source\":{\"id\":\"12393\"}},\"id\":\"12416\",\"type\":\"CDSView\"},{\"attributes\":{\"data_source\":{\"id\":\"12393\"},\"glyph\":{\"id\":\"12413\"},\"hover_glyph\":null,\"muted_glyph\":null,\"nonselection_glyph\":{\"id\":\"12414\"},\"view\":{\"id\":\"12416\"}},\"id\":\"12415\",\"type\":\"GlyphRenderer\"},{\"attributes\":{\"text\":\"SEMIO_KRIT [ks:0.2420 p:0.0000]\"},\"id\":\"12417\",\"type\":\"Title\"},{\"attributes\":{\"formatter\":{\"id\":\"12842\"},\"group_label_orientation\":1.5707963267948966,\"major_label_orientation\":0,\"major_label_policy\":{\"id\":\"12844\"},\"ticker\":{\"id\":\"12404\"}},\"id\":\"12403\",\"type\":\"CategoricalAxis\"},{\"attributes\":{},\"id\":\"12845\",\"type\":\"UnionRenderers\"},{\"attributes\":{\"axis\":{\"id\":\"12403\"},\"grid_line_color\":null,\"ticker\":null},\"id\":\"12405\",\"type\":\"Grid\"},{\"attributes\":{\"axis\":{\"id\":\"12406\"},\"dimension\":1,\"ticker\":null},\"id\":\"12409\",\"type\":\"Grid\"},{\"attributes\":{},\"id\":\"12846\",\"type\":\"Selection\"}],\"root_ids\":[\"12395\"]},\"title\":\"Bokeh Application\",\"version\":\"2.3.1\"}};\n",
       "  var render_items = [{\"docid\":\"dba994d7-74a6-40d4-8da6-672c8584e3ef\",\"root_ids\":[\"12395\"],\"roots\":{\"12395\":\"fc0d3651-d776-4ce1-b8f8-91a5addcb77a\"}}];\n",
       "  root.Bokeh.embed.embed_items_notebook(docs_json, render_items);\n",
       "\n",
       "  }\n",
       "  if (root.Bokeh !== undefined) {\n",
       "    embed_document(root);\n",
       "  } else {\n",
       "    var attempts = 0;\n",
       "    var timer = setInterval(function(root) {\n",
       "      if (root.Bokeh !== undefined) {\n",
       "        clearInterval(timer);\n",
       "        embed_document(root);\n",
       "      } else {\n",
       "        attempts++;\n",
       "        if (attempts > 100) {\n",
       "          clearInterval(timer);\n",
       "          console.log(\"Bokeh: ERROR: Unable to run BokehJS code because BokehJS library is missing\");\n",
       "        }\n",
       "      }\n",
       "    }, 10, root)\n",
       "  }\n",
       "})(window);"
      ],
      "application/vnd.bokehjs_exec.v0+json": ""
     },
     "metadata": {
      "application/vnd.bokehjs_exec.v0+json": {
       "id": "12395"
      }
     },
     "output_type": "display_data"
    },
    {
     "data": {
      "text/html": [
       "<div>\n",
       "<style scoped>\n",
       "    .dataframe tbody tr th:only-of-type {\n",
       "        vertical-align: middle;\n",
       "    }\n",
       "\n",
       "    .dataframe tbody tr th {\n",
       "        vertical-align: top;\n",
       "    }\n",
       "\n",
       "    .dataframe thead th {\n",
       "        text-align: right;\n",
       "    }\n",
       "</style>\n",
       "<table border=\"1\" class=\"dataframe\">\n",
       "  <thead>\n",
       "    <tr style=\"text-align: right;\">\n",
       "      <th></th>\n",
       "      <th>Attribute</th>\n",
       "      <th>Value</th>\n",
       "      <th>Meaning</th>\n",
       "    </tr>\n",
       "  </thead>\n",
       "  <tbody>\n",
       "    <tr>\n",
       "      <th>2122</th>\n",
       "      <td>SEMIO_KRIT</td>\n",
       "      <td>-1, 9</td>\n",
       "      <td>unknown</td>\n",
       "    </tr>\n",
       "    <tr>\n",
       "      <th>2123</th>\n",
       "      <td>SEMIO_KRIT</td>\n",
       "      <td>1</td>\n",
       "      <td>highest affinity</td>\n",
       "    </tr>\n",
       "    <tr>\n",
       "      <th>2124</th>\n",
       "      <td>SEMIO_KRIT</td>\n",
       "      <td>2</td>\n",
       "      <td>very high affinity</td>\n",
       "    </tr>\n",
       "    <tr>\n",
       "      <th>2125</th>\n",
       "      <td>SEMIO_KRIT</td>\n",
       "      <td>3</td>\n",
       "      <td>high affinity</td>\n",
       "    </tr>\n",
       "    <tr>\n",
       "      <th>2126</th>\n",
       "      <td>SEMIO_KRIT</td>\n",
       "      <td>4</td>\n",
       "      <td>average affinity</td>\n",
       "    </tr>\n",
       "    <tr>\n",
       "      <th>2127</th>\n",
       "      <td>SEMIO_KRIT</td>\n",
       "      <td>5</td>\n",
       "      <td>low affinity</td>\n",
       "    </tr>\n",
       "    <tr>\n",
       "      <th>2128</th>\n",
       "      <td>SEMIO_KRIT</td>\n",
       "      <td>6</td>\n",
       "      <td>very low affinity</td>\n",
       "    </tr>\n",
       "    <tr>\n",
       "      <th>2129</th>\n",
       "      <td>SEMIO_KRIT</td>\n",
       "      <td>7</td>\n",
       "      <td>lowest affinity</td>\n",
       "    </tr>\n",
       "  </tbody>\n",
       "</table>\n",
       "</div>"
      ],
      "text/plain": [
       "       Attribute  Value             Meaning\n",
       "2122  SEMIO_KRIT  -1, 9             unknown\n",
       "2123  SEMIO_KRIT      1    highest affinity\n",
       "2124  SEMIO_KRIT      2  very high affinity\n",
       "2125  SEMIO_KRIT      3       high affinity\n",
       "2126  SEMIO_KRIT      4    average affinity\n",
       "2127  SEMIO_KRIT      5        low affinity\n",
       "2128  SEMIO_KRIT      6   very low affinity\n",
       "2129  SEMIO_KRIT      7     lowest affinity"
      ]
     },
     "metadata": {},
     "output_type": "display_data"
    },
    {
     "name": "stdout",
     "output_type": "stream",
     "text": [
      "==========================================================================================================================================================================================================================================\n"
     ]
    },
    {
     "data": {
      "text/html": [
       "\n",
       "\n",
       "\n",
       "\n",
       "\n",
       "\n",
       "  <div class=\"bk-root\" id=\"f5f4d528-53d5-43a3-8f1f-7677150c208e\" data-root-id=\"12899\"></div>\n"
      ]
     },
     "metadata": {},
     "output_type": "display_data"
    },
    {
     "data": {
      "application/javascript": [
       "(function(root) {\n",
       "  function embed_document(root) {\n",
       "    \n",
       "  var docs_json = {\"51519715-23cd-4623-80d5-1998378baef4\":{\"defs\":[],\"roots\":{\"references\":[{\"attributes\":{\"below\":[{\"id\":\"12907\"}],\"center\":[{\"id\":\"12909\"},{\"id\":\"12913\"}],\"height\":500,\"left\":[{\"id\":\"12910\"}],\"renderers\":[{\"id\":\"12919\"}],\"title\":{\"id\":\"12921\"},\"toolbar\":{\"id\":\"12914\"},\"toolbar_location\":null,\"width\":950,\"x_range\":{\"id\":\"12898\"},\"x_scale\":{\"id\":\"12903\"},\"y_range\":{\"id\":\"12901\"},\"y_scale\":{\"id\":\"12905\"}},\"id\":\"12899\",\"subtype\":\"Figure\",\"type\":\"Plot\"},{\"attributes\":{},\"id\":\"12911\",\"type\":\"BasicTicker\"},{\"attributes\":{\"axis\":{\"id\":\"12910\"},\"dimension\":1,\"ticker\":null},\"id\":\"12913\",\"type\":\"Grid\"},{\"attributes\":{},\"id\":\"13359\",\"type\":\"UnionRenderers\"},{\"attributes\":{},\"id\":\"13360\",\"type\":\"Selection\"},{\"attributes\":{\"axis\":{\"id\":\"12907\"},\"grid_line_color\":null,\"ticker\":null},\"id\":\"12909\",\"type\":\"Grid\"},{\"attributes\":{\"active_multi\":null},\"id\":\"12914\",\"type\":\"Toolbar\"},{\"attributes\":{},\"id\":\"12905\",\"type\":\"LinearScale\"},{\"attributes\":{\"fill_alpha\":{\"value\":0.1},\"fill_color\":{\"field\":\"x\",\"transform\":{\"id\":\"12915\"}},\"line_alpha\":{\"value\":0.1},\"line_color\":{\"value\":null},\"top\":{\"field\":\"counts\"},\"width\":{\"value\":0.9},\"x\":{\"field\":\"x\"}},\"id\":\"12918\",\"type\":\"VBar\"},{\"attributes\":{},\"id\":\"12903\",\"type\":\"CategoricalScale\"},{\"attributes\":{\"formatter\":{\"id\":\"13356\"},\"group_label_orientation\":1.5707963267948966,\"major_label_orientation\":0,\"major_label_policy\":{\"id\":\"13358\"},\"ticker\":{\"id\":\"12908\"}},\"id\":\"12907\",\"type\":\"CategoricalAxis\"},{\"attributes\":{\"fill_color\":{\"field\":\"x\",\"transform\":{\"id\":\"12915\"}},\"line_color\":{\"value\":null},\"top\":{\"field\":\"counts\"},\"width\":{\"value\":0.9},\"x\":{\"field\":\"x\"}},\"id\":\"12917\",\"type\":\"VBar\"},{\"attributes\":{},\"id\":\"12908\",\"type\":\"CategoricalTicker\"},{\"attributes\":{\"formatter\":{\"id\":\"13353\"},\"major_label_policy\":{\"id\":\"13355\"},\"ticker\":{\"id\":\"12911\"}},\"id\":\"12910\",\"type\":\"LinearAxis\"},{\"attributes\":{},\"id\":\"13353\",\"type\":\"BasicTickFormatter\"},{\"attributes\":{},\"id\":\"13355\",\"type\":\"AllLabels\"},{\"attributes\":{\"end\":2,\"factors\":[\"a\",\"c\"],\"palette\":[\"#1f77b4\",\"#ff7f0e\"],\"start\":1},\"id\":\"12915\",\"type\":\"CategoricalColorMapper\"},{\"attributes\":{},\"id\":\"13356\",\"type\":\"CategoricalTickFormatter\"},{\"attributes\":{},\"id\":\"13358\",\"type\":\"AllLabels\"},{\"attributes\":{\"source\":{\"id\":\"12897\"}},\"id\":\"12920\",\"type\":\"CDSView\"},{\"attributes\":{\"start\":0},\"id\":\"12901\",\"type\":\"DataRange1d\"},{\"attributes\":{\"data\":{\"counts\":[1.7213126041394126e-06,0.0,8.09016923945524e-05,0.0001058950986860862,0.0003442625208278825,0.00012218665233009946,0.0010379515002960657,0.0004235803947443448,0.001772951982263595,0.0018572371154175118,0.0065564797091670225,0.015028958236602233,0.014491730814249714,0.04314817982616912,0.02317403158952891,0.0659726464814317,0.03927518968864897,0.10560999649731596,0.05235716548010851,0.11788568216807996,0.04806593315798895,0.07331199139805968,0.0601134000743607,0.06333341479110155,0.06474200966689159,0.050177985223560845,0.07621111554827249,0.050389775420933015,0.0892793208388989,0.06295870905728924,0.08926210771285752,0.06518250612969706,0.0958168661094204,0.05961894056026653,0.10474531458709153,0.052475094287366714,0.09104022363293353,0.04990102881161262,0.07000750492295404,0.053330400853677414,0.07162381745824095,0.0691657909956583],\"x\":[[\"01.01.1895 bis 31.12.1899\",\"a\"],[\"01.01.1895 bis 31.12.1899\",\"c\"],[\"01.01.1900 bis 31.12.1904\",\"a\"],[\"01.01.1900 bis 31.12.1904\",\"c\"],[\"01.01.1905 bis 31.12.1909\",\"a\"],[\"01.01.1905 bis 31.12.1909\",\"c\"],[\"01.01.1910 bis 31.12.1914\",\"a\"],[\"01.01.1910 bis 31.12.1914\",\"c\"],[\"01.01.1915 bis 31.12.1919\",\"a\"],[\"01.01.1915 bis 31.12.1919\",\"c\"],[\"01.01.1920 bis 31.12.1924\",\"a\"],[\"01.01.1920 bis 31.12.1924\",\"c\"],[\"01.01.1925 bis 31.12.1929\",\"a\"],[\"01.01.1925 bis 31.12.1929\",\"c\"],[\"01.01.1930 bis 31.12.1934\",\"a\"],[\"01.01.1930 bis 31.12.1934\",\"c\"],[\"01.01.1935 bis 31.12.1939\",\"a\"],[\"01.01.1935 bis 31.12.1939\",\"c\"],[\"01.01.1940 bis 31.12.1944\",\"a\"],[\"01.01.1940 bis 31.12.1944\",\"c\"],[\"01.01.1945 bis 31.12.1949\",\"a\"],[\"01.01.1945 bis 31.12.1949\",\"c\"],[\"01.01.1950 bis 31.12.1954\",\"a\"],[\"01.01.1950 bis 31.12.1954\",\"c\"],[\"01.01.1955 bis 31.12.1959\",\"a\"],[\"01.01.1955 bis 31.12.1959\",\"c\"],[\"01.01.1960 bis 31.12.1964\",\"a\"],[\"01.01.1960 bis 31.12.1964\",\"c\"],[\"01.01.1965 bis 31.12.1969\",\"a\"],[\"01.01.1965 bis 31.12.1969\",\"c\"],[\"01.01.1970 bis 31.12.1974\",\"a\"],[\"01.01.1970 bis 31.12.1974\",\"c\"],[\"01.01.1975 bis 31.12.1979\",\"a\"],[\"01.01.1975 bis 31.12.1979\",\"c\"],[\"01.01.1980 bis 31.12.1984\",\"a\"],[\"01.01.1980 bis 31.12.1984\",\"c\"],[\"01.01.1985 bis 31.12.1989\",\"a\"],[\"01.01.1985 bis 31.12.1989\",\"c\"],[\"01.01.1990 bis 31.12.1994\",\"a\"],[\"01.01.1990 bis 31.12.1994\",\"c\"],[\"01.01.1995 bis 31.12.1999\",\"a\"],[\"01.01.1995 bis 31.12.1999\",\"c\"]]},\"selected\":{\"id\":\"13360\"},\"selection_policy\":{\"id\":\"13359\"}},\"id\":\"12897\",\"type\":\"ColumnDataSource\"},{\"attributes\":{\"data_source\":{\"id\":\"12897\"},\"glyph\":{\"id\":\"12917\"},\"hover_glyph\":null,\"muted_glyph\":null,\"nonselection_glyph\":{\"id\":\"12918\"},\"view\":{\"id\":\"12920\"}},\"id\":\"12919\",\"type\":\"GlyphRenderer\"},{\"attributes\":{\"text\":\"ALTER_HH [ks:0.2395 p:0.0000]\"},\"id\":\"12921\",\"type\":\"Title\"},{\"attributes\":{\"factors\":[[\"01.01.1895 bis 31.12.1899\",\"a\"],[\"01.01.1895 bis 31.12.1899\",\"c\"],[\"01.01.1900 bis 31.12.1904\",\"a\"],[\"01.01.1900 bis 31.12.1904\",\"c\"],[\"01.01.1905 bis 31.12.1909\",\"a\"],[\"01.01.1905 bis 31.12.1909\",\"c\"],[\"01.01.1910 bis 31.12.1914\",\"a\"],[\"01.01.1910 bis 31.12.1914\",\"c\"],[\"01.01.1915 bis 31.12.1919\",\"a\"],[\"01.01.1915 bis 31.12.1919\",\"c\"],[\"01.01.1920 bis 31.12.1924\",\"a\"],[\"01.01.1920 bis 31.12.1924\",\"c\"],[\"01.01.1925 bis 31.12.1929\",\"a\"],[\"01.01.1925 bis 31.12.1929\",\"c\"],[\"01.01.1930 bis 31.12.1934\",\"a\"],[\"01.01.1930 bis 31.12.1934\",\"c\"],[\"01.01.1935 bis 31.12.1939\",\"a\"],[\"01.01.1935 bis 31.12.1939\",\"c\"],[\"01.01.1940 bis 31.12.1944\",\"a\"],[\"01.01.1940 bis 31.12.1944\",\"c\"],[\"01.01.1945 bis 31.12.1949\",\"a\"],[\"01.01.1945 bis 31.12.1949\",\"c\"],[\"01.01.1950 bis 31.12.1954\",\"a\"],[\"01.01.1950 bis 31.12.1954\",\"c\"],[\"01.01.1955 bis 31.12.1959\",\"a\"],[\"01.01.1955 bis 31.12.1959\",\"c\"],[\"01.01.1960 bis 31.12.1964\",\"a\"],[\"01.01.1960 bis 31.12.1964\",\"c\"],[\"01.01.1965 bis 31.12.1969\",\"a\"],[\"01.01.1965 bis 31.12.1969\",\"c\"],[\"01.01.1970 bis 31.12.1974\",\"a\"],[\"01.01.1970 bis 31.12.1974\",\"c\"],[\"01.01.1975 bis 31.12.1979\",\"a\"],[\"01.01.1975 bis 31.12.1979\",\"c\"],[\"01.01.1980 bis 31.12.1984\",\"a\"],[\"01.01.1980 bis 31.12.1984\",\"c\"],[\"01.01.1985 bis 31.12.1989\",\"a\"],[\"01.01.1985 bis 31.12.1989\",\"c\"],[\"01.01.1990 bis 31.12.1994\",\"a\"],[\"01.01.1990 bis 31.12.1994\",\"c\"],[\"01.01.1995 bis 31.12.1999\",\"a\"],[\"01.01.1995 bis 31.12.1999\",\"c\"]]},\"id\":\"12898\",\"type\":\"FactorRange\"}],\"root_ids\":[\"12899\"]},\"title\":\"Bokeh Application\",\"version\":\"2.3.1\"}};\n",
       "  var render_items = [{\"docid\":\"51519715-23cd-4623-80d5-1998378baef4\",\"root_ids\":[\"12899\"],\"roots\":{\"12899\":\"f5f4d528-53d5-43a3-8f1f-7677150c208e\"}}];\n",
       "  root.Bokeh.embed.embed_items_notebook(docs_json, render_items);\n",
       "\n",
       "  }\n",
       "  if (root.Bokeh !== undefined) {\n",
       "    embed_document(root);\n",
       "  } else {\n",
       "    var attempts = 0;\n",
       "    var timer = setInterval(function(root) {\n",
       "      if (root.Bokeh !== undefined) {\n",
       "        clearInterval(timer);\n",
       "        embed_document(root);\n",
       "      } else {\n",
       "        attempts++;\n",
       "        if (attempts > 100) {\n",
       "          clearInterval(timer);\n",
       "          console.log(\"Bokeh: ERROR: Unable to run BokehJS code because BokehJS library is missing\");\n",
       "        }\n",
       "      }\n",
       "    }, 10, root)\n",
       "  }\n",
       "})(window);"
      ],
      "application/vnd.bokehjs_exec.v0+json": ""
     },
     "metadata": {
      "application/vnd.bokehjs_exec.v0+json": {
       "id": "12899"
      }
     },
     "output_type": "display_data"
    },
    {
     "data": {
      "text/html": [
       "<div>\n",
       "<style scoped>\n",
       "    .dataframe tbody tr th:only-of-type {\n",
       "        vertical-align: middle;\n",
       "    }\n",
       "\n",
       "    .dataframe tbody tr th {\n",
       "        vertical-align: top;\n",
       "    }\n",
       "\n",
       "    .dataframe thead th {\n",
       "        text-align: right;\n",
       "    }\n",
       "</style>\n",
       "<table border=\"1\" class=\"dataframe\">\n",
       "  <thead>\n",
       "    <tr style=\"text-align: right;\">\n",
       "      <th></th>\n",
       "      <th>Attribute</th>\n",
       "      <th>Value</th>\n",
       "      <th>Meaning</th>\n",
       "    </tr>\n",
       "  </thead>\n",
       "  <tbody>\n",
       "    <tr>\n",
       "      <th>11</th>\n",
       "      <td>ALTER_HH</td>\n",
       "      <td>0</td>\n",
       "      <td>unknown / no main age detectable</td>\n",
       "    </tr>\n",
       "    <tr>\n",
       "      <th>12</th>\n",
       "      <td>ALTER_HH</td>\n",
       "      <td>1</td>\n",
       "      <td>01.01.1895 bis 31.12.1899</td>\n",
       "    </tr>\n",
       "    <tr>\n",
       "      <th>13</th>\n",
       "      <td>ALTER_HH</td>\n",
       "      <td>2</td>\n",
       "      <td>01.01.1900 bis 31.12.1904</td>\n",
       "    </tr>\n",
       "    <tr>\n",
       "      <th>14</th>\n",
       "      <td>ALTER_HH</td>\n",
       "      <td>3</td>\n",
       "      <td>01.01.1905 bis 31.12.1909</td>\n",
       "    </tr>\n",
       "    <tr>\n",
       "      <th>15</th>\n",
       "      <td>ALTER_HH</td>\n",
       "      <td>4</td>\n",
       "      <td>01.01.1910 bis 31.12.1914</td>\n",
       "    </tr>\n",
       "    <tr>\n",
       "      <th>16</th>\n",
       "      <td>ALTER_HH</td>\n",
       "      <td>5</td>\n",
       "      <td>01.01.1915 bis 31.12.1919</td>\n",
       "    </tr>\n",
       "    <tr>\n",
       "      <th>17</th>\n",
       "      <td>ALTER_HH</td>\n",
       "      <td>6</td>\n",
       "      <td>01.01.1920 bis 31.12.1924</td>\n",
       "    </tr>\n",
       "    <tr>\n",
       "      <th>18</th>\n",
       "      <td>ALTER_HH</td>\n",
       "      <td>7</td>\n",
       "      <td>01.01.1925 bis 31.12.1929</td>\n",
       "    </tr>\n",
       "    <tr>\n",
       "      <th>19</th>\n",
       "      <td>ALTER_HH</td>\n",
       "      <td>8</td>\n",
       "      <td>01.01.1930 bis 31.12.1934</td>\n",
       "    </tr>\n",
       "    <tr>\n",
       "      <th>20</th>\n",
       "      <td>ALTER_HH</td>\n",
       "      <td>9</td>\n",
       "      <td>01.01.1935 bis 31.12.1939</td>\n",
       "    </tr>\n",
       "    <tr>\n",
       "      <th>21</th>\n",
       "      <td>ALTER_HH</td>\n",
       "      <td>10</td>\n",
       "      <td>01.01.1940 bis 31.12.1944</td>\n",
       "    </tr>\n",
       "    <tr>\n",
       "      <th>22</th>\n",
       "      <td>ALTER_HH</td>\n",
       "      <td>11</td>\n",
       "      <td>01.01.1945 bis 31.12.1949</td>\n",
       "    </tr>\n",
       "    <tr>\n",
       "      <th>23</th>\n",
       "      <td>ALTER_HH</td>\n",
       "      <td>12</td>\n",
       "      <td>01.01.1950 bis 31.12.1954</td>\n",
       "    </tr>\n",
       "    <tr>\n",
       "      <th>24</th>\n",
       "      <td>ALTER_HH</td>\n",
       "      <td>13</td>\n",
       "      <td>01.01.1955 bis 31.12.1959</td>\n",
       "    </tr>\n",
       "    <tr>\n",
       "      <th>25</th>\n",
       "      <td>ALTER_HH</td>\n",
       "      <td>14</td>\n",
       "      <td>01.01.1960 bis 31.12.1964</td>\n",
       "    </tr>\n",
       "    <tr>\n",
       "      <th>26</th>\n",
       "      <td>ALTER_HH</td>\n",
       "      <td>15</td>\n",
       "      <td>01.01.1965 bis 31.12.1969</td>\n",
       "    </tr>\n",
       "    <tr>\n",
       "      <th>27</th>\n",
       "      <td>ALTER_HH</td>\n",
       "      <td>16</td>\n",
       "      <td>01.01.1970 bis 31.12.1974</td>\n",
       "    </tr>\n",
       "    <tr>\n",
       "      <th>28</th>\n",
       "      <td>ALTER_HH</td>\n",
       "      <td>17</td>\n",
       "      <td>01.01.1975 bis 31.12.1979</td>\n",
       "    </tr>\n",
       "    <tr>\n",
       "      <th>29</th>\n",
       "      <td>ALTER_HH</td>\n",
       "      <td>18</td>\n",
       "      <td>01.01.1980 bis 31.12.1984</td>\n",
       "    </tr>\n",
       "    <tr>\n",
       "      <th>30</th>\n",
       "      <td>ALTER_HH</td>\n",
       "      <td>19</td>\n",
       "      <td>01.01.1985 bis 31.12.1989</td>\n",
       "    </tr>\n",
       "    <tr>\n",
       "      <th>31</th>\n",
       "      <td>ALTER_HH</td>\n",
       "      <td>20</td>\n",
       "      <td>01.01.1990 bis 31.12.1994</td>\n",
       "    </tr>\n",
       "    <tr>\n",
       "      <th>32</th>\n",
       "      <td>ALTER_HH</td>\n",
       "      <td>21</td>\n",
       "      <td>01.01.1995 bis 31.12.1999</td>\n",
       "    </tr>\n",
       "  </tbody>\n",
       "</table>\n",
       "</div>"
      ],
      "text/plain": [
       "   Attribute Value                           Meaning\n",
       "11  ALTER_HH     0  unknown / no main age detectable\n",
       "12  ALTER_HH     1         01.01.1895 bis 31.12.1899\n",
       "13  ALTER_HH     2         01.01.1900 bis 31.12.1904\n",
       "14  ALTER_HH     3         01.01.1905 bis 31.12.1909\n",
       "15  ALTER_HH     4         01.01.1910 bis 31.12.1914\n",
       "16  ALTER_HH     5         01.01.1915 bis 31.12.1919\n",
       "17  ALTER_HH     6         01.01.1920 bis 31.12.1924\n",
       "18  ALTER_HH     7         01.01.1925 bis 31.12.1929\n",
       "19  ALTER_HH     8         01.01.1930 bis 31.12.1934\n",
       "20  ALTER_HH     9         01.01.1935 bis 31.12.1939\n",
       "21  ALTER_HH    10         01.01.1940 bis 31.12.1944\n",
       "22  ALTER_HH    11         01.01.1945 bis 31.12.1949\n",
       "23  ALTER_HH    12         01.01.1950 bis 31.12.1954\n",
       "24  ALTER_HH    13         01.01.1955 bis 31.12.1959\n",
       "25  ALTER_HH    14         01.01.1960 bis 31.12.1964\n",
       "26  ALTER_HH    15         01.01.1965 bis 31.12.1969\n",
       "27  ALTER_HH    16         01.01.1970 bis 31.12.1974\n",
       "28  ALTER_HH    17         01.01.1975 bis 31.12.1979\n",
       "29  ALTER_HH    18         01.01.1980 bis 31.12.1984\n",
       "30  ALTER_HH    19         01.01.1985 bis 31.12.1989\n",
       "31  ALTER_HH    20         01.01.1990 bis 31.12.1994\n",
       "32  ALTER_HH    21         01.01.1995 bis 31.12.1999"
      ]
     },
     "metadata": {},
     "output_type": "display_data"
    },
    {
     "name": "stdout",
     "output_type": "stream",
     "text": [
      "==========================================================================================================================================================================================================================================\n"
     ]
    },
    {
     "data": {
      "text/html": [
       "\n",
       "\n",
       "\n",
       "\n",
       "\n",
       "\n",
       "  <div class=\"bk-root\" id=\"c04d9271-14f0-4710-bb06-1082cac056ba\" data-root-id=\"13413\"></div>\n"
      ]
     },
     "metadata": {},
     "output_type": "display_data"
    },
    {
     "data": {
      "application/javascript": [
       "(function(root) {\n",
       "  function embed_document(root) {\n",
       "    \n",
       "  var docs_json = {\"e74466a8-5638-4dd5-8345-eb1feb98d069\":{\"defs\":[],\"roots\":{\"references\":[{\"attributes\":{\"below\":[{\"id\":\"13421\"}],\"center\":[{\"id\":\"13423\"},{\"id\":\"13427\"}],\"height\":500,\"left\":[{\"id\":\"13424\"}],\"renderers\":[{\"id\":\"13433\"}],\"title\":{\"id\":\"13435\"},\"toolbar\":{\"id\":\"13428\"},\"toolbar_location\":null,\"width\":950,\"x_range\":{\"id\":\"13412\"},\"x_scale\":{\"id\":\"13417\"},\"y_range\":{\"id\":\"13415\"},\"y_scale\":{\"id\":\"13419\"}},\"id\":\"13413\",\"subtype\":\"Figure\",\"type\":\"Plot\"},{\"attributes\":{\"active_multi\":null},\"id\":\"13428\",\"type\":\"Toolbar\"},{\"attributes\":{},\"id\":\"13425\",\"type\":\"BasicTicker\"},{\"attributes\":{\"axis\":{\"id\":\"13421\"},\"grid_line_color\":null,\"ticker\":null},\"id\":\"13423\",\"type\":\"Grid\"},{\"attributes\":{},\"id\":\"13883\",\"type\":\"UnionRenderers\"},{\"attributes\":{\"axis\":{\"id\":\"13424\"},\"dimension\":1,\"ticker\":null},\"id\":\"13427\",\"type\":\"Grid\"},{\"attributes\":{\"formatter\":{\"id\":\"13877\"},\"major_label_policy\":{\"id\":\"13879\"},\"ticker\":{\"id\":\"13425\"}},\"id\":\"13424\",\"type\":\"LinearAxis\"},{\"attributes\":{},\"id\":\"13884\",\"type\":\"Selection\"},{\"attributes\":{\"start\":0},\"id\":\"13415\",\"type\":\"DataRange1d\"},{\"attributes\":{},\"id\":\"13422\",\"type\":\"CategoricalTicker\"},{\"attributes\":{\"fill_color\":{\"field\":\"x\",\"transform\":{\"id\":\"13429\"}},\"line_color\":{\"value\":null},\"top\":{\"field\":\"counts\"},\"width\":{\"value\":0.9},\"x\":{\"field\":\"x\"}},\"id\":\"13431\",\"type\":\"VBar\"},{\"attributes\":{\"fill_alpha\":{\"value\":0.1},\"fill_color\":{\"field\":\"x\",\"transform\":{\"id\":\"13429\"}},\"line_alpha\":{\"value\":0.1},\"line_color\":{\"value\":null},\"top\":{\"field\":\"counts\"},\"width\":{\"value\":0.9},\"x\":{\"field\":\"x\"}},\"id\":\"13432\",\"type\":\"VBar\"},{\"attributes\":{\"factors\":[[\"no 1-2 family homes\",\"a\"],[\"no 1-2 family homes\",\"c\"],[\"lower share of 1-2 family homes\",\"a\"],[\"lower share of 1-2 family homes\",\"c\"],[\"average share of 1-2 family homes\",\"a\"],[\"average share of 1-2 family homes\",\"c\"],[\"high share of 1-2 family homes\",\"a\"],[\"high share of 1-2 family homes\",\"c\"],[\"very high share of 1-2 family homes\",\"a\"],[\"very high share of 1-2 family homes\",\"c\"]]},\"id\":\"13412\",\"type\":\"FactorRange\"},{\"attributes\":{},\"id\":\"13419\",\"type\":\"LinearScale\"},{\"attributes\":{},\"id\":\"13417\",\"type\":\"CategoricalScale\"},{\"attributes\":{\"end\":2,\"factors\":[\"a\",\"c\"],\"palette\":[\"#1f77b4\",\"#ff7f0e\"],\"start\":1},\"id\":\"13429\",\"type\":\"CategoricalColorMapper\"},{\"attributes\":{},\"id\":\"13877\",\"type\":\"BasicTickFormatter\"},{\"attributes\":{},\"id\":\"13879\",\"type\":\"AllLabels\"},{\"attributes\":{\"data\":{\"counts\":[0.34433806013975865,0.1655658950195925,0.21273796248028665,0.15407605286655696,0.16723920631883177,0.21220417530680166,0.15541185242861952,0.24402447033820132,0.12027291863250344,0.22412940646884755],\"x\":[[\"no 1-2 family homes\",\"a\"],[\"no 1-2 family homes\",\"c\"],[\"lower share of 1-2 family homes\",\"a\"],[\"lower share of 1-2 family homes\",\"c\"],[\"average share of 1-2 family homes\",\"a\"],[\"average share of 1-2 family homes\",\"c\"],[\"high share of 1-2 family homes\",\"a\"],[\"high share of 1-2 family homes\",\"c\"],[\"very high share of 1-2 family homes\",\"a\"],[\"very high share of 1-2 family homes\",\"c\"]]},\"selected\":{\"id\":\"13884\"},\"selection_policy\":{\"id\":\"13883\"}},\"id\":\"13411\",\"type\":\"ColumnDataSource\"},{\"attributes\":{},\"id\":\"13880\",\"type\":\"CategoricalTickFormatter\"},{\"attributes\":{},\"id\":\"13882\",\"type\":\"AllLabels\"},{\"attributes\":{\"source\":{\"id\":\"13411\"}},\"id\":\"13434\",\"type\":\"CDSView\"},{\"attributes\":{\"data_source\":{\"id\":\"13411\"},\"glyph\":{\"id\":\"13431\"},\"hover_glyph\":null,\"muted_glyph\":null,\"nonselection_glyph\":{\"id\":\"13432\"},\"view\":{\"id\":\"13434\"}},\"id\":\"13433\",\"type\":\"GlyphRenderer\"},{\"attributes\":{\"formatter\":{\"id\":\"13880\"},\"group_label_orientation\":1.5707963267948966,\"major_label_orientation\":0,\"major_label_policy\":{\"id\":\"13882\"},\"ticker\":{\"id\":\"13422\"}},\"id\":\"13421\",\"type\":\"CategoricalAxis\"},{\"attributes\":{\"text\":\"KBA05_ANTG1 [ks:0.2374 p:0.0000]\"},\"id\":\"13435\",\"type\":\"Title\"}],\"root_ids\":[\"13413\"]},\"title\":\"Bokeh Application\",\"version\":\"2.3.1\"}};\n",
       "  var render_items = [{\"docid\":\"e74466a8-5638-4dd5-8345-eb1feb98d069\",\"root_ids\":[\"13413\"],\"roots\":{\"13413\":\"c04d9271-14f0-4710-bb06-1082cac056ba\"}}];\n",
       "  root.Bokeh.embed.embed_items_notebook(docs_json, render_items);\n",
       "\n",
       "  }\n",
       "  if (root.Bokeh !== undefined) {\n",
       "    embed_document(root);\n",
       "  } else {\n",
       "    var attempts = 0;\n",
       "    var timer = setInterval(function(root) {\n",
       "      if (root.Bokeh !== undefined) {\n",
       "        clearInterval(timer);\n",
       "        embed_document(root);\n",
       "      } else {\n",
       "        attempts++;\n",
       "        if (attempts > 100) {\n",
       "          clearInterval(timer);\n",
       "          console.log(\"Bokeh: ERROR: Unable to run BokehJS code because BokehJS library is missing\");\n",
       "        }\n",
       "      }\n",
       "    }, 10, root)\n",
       "  }\n",
       "})(window);"
      ],
      "application/vnd.bokehjs_exec.v0+json": ""
     },
     "metadata": {
      "application/vnd.bokehjs_exec.v0+json": {
       "id": "13413"
      }
     },
     "output_type": "display_data"
    },
    {
     "data": {
      "text/html": [
       "<div>\n",
       "<style scoped>\n",
       "    .dataframe tbody tr th:only-of-type {\n",
       "        vertical-align: middle;\n",
       "    }\n",
       "\n",
       "    .dataframe tbody tr th {\n",
       "        vertical-align: top;\n",
       "    }\n",
       "\n",
       "    .dataframe thead th {\n",
       "        text-align: right;\n",
       "    }\n",
       "</style>\n",
       "<table border=\"1\" class=\"dataframe\">\n",
       "  <thead>\n",
       "    <tr style=\"text-align: right;\">\n",
       "      <th></th>\n",
       "      <th>Attribute</th>\n",
       "      <th>Value</th>\n",
       "      <th>Meaning</th>\n",
       "    </tr>\n",
       "  </thead>\n",
       "  <tbody>\n",
       "    <tr>\n",
       "      <th>795</th>\n",
       "      <td>KBA05_ANTG1</td>\n",
       "      <td>-1</td>\n",
       "      <td>unknown</td>\n",
       "    </tr>\n",
       "    <tr>\n",
       "      <th>796</th>\n",
       "      <td>KBA05_ANTG1</td>\n",
       "      <td>0</td>\n",
       "      <td>no 1-2 family homes</td>\n",
       "    </tr>\n",
       "    <tr>\n",
       "      <th>797</th>\n",
       "      <td>KBA05_ANTG1</td>\n",
       "      <td>1</td>\n",
       "      <td>lower share of 1-2 family homes</td>\n",
       "    </tr>\n",
       "    <tr>\n",
       "      <th>798</th>\n",
       "      <td>KBA05_ANTG1</td>\n",
       "      <td>2</td>\n",
       "      <td>average share of 1-2 family homes</td>\n",
       "    </tr>\n",
       "    <tr>\n",
       "      <th>799</th>\n",
       "      <td>KBA05_ANTG1</td>\n",
       "      <td>3</td>\n",
       "      <td>high share of 1-2 family homes</td>\n",
       "    </tr>\n",
       "    <tr>\n",
       "      <th>800</th>\n",
       "      <td>KBA05_ANTG1</td>\n",
       "      <td>4</td>\n",
       "      <td>very high share of 1-2 family homes</td>\n",
       "    </tr>\n",
       "  </tbody>\n",
       "</table>\n",
       "</div>"
      ],
      "text/plain": [
       "       Attribute Value                              Meaning\n",
       "795  KBA05_ANTG1    -1                              unknown\n",
       "796  KBA05_ANTG1     0                  no 1-2 family homes\n",
       "797  KBA05_ANTG1     1      lower share of 1-2 family homes\n",
       "798  KBA05_ANTG1     2    average share of 1-2 family homes\n",
       "799  KBA05_ANTG1     3       high share of 1-2 family homes\n",
       "800  KBA05_ANTG1     4  very high share of 1-2 family homes"
      ]
     },
     "metadata": {},
     "output_type": "display_data"
    },
    {
     "name": "stdout",
     "output_type": "stream",
     "text": [
      "==========================================================================================================================================================================================================================================\n"
     ]
    },
    {
     "data": {
      "text/html": [
       "\n",
       "\n",
       "\n",
       "\n",
       "\n",
       "\n",
       "  <div class=\"bk-root\" id=\"5353b4b1-eb84-4910-aec3-ededf0b3805a\" data-root-id=\"13937\"></div>\n"
      ]
     },
     "metadata": {},
     "output_type": "display_data"
    },
    {
     "data": {
      "application/javascript": [
       "(function(root) {\n",
       "  function embed_document(root) {\n",
       "    \n",
       "  var docs_json = {\"1b15b1da-f704-420a-98d8-291d84422ba9\":{\"defs\":[],\"roots\":{\"references\":[{\"attributes\":{\"below\":[{\"id\":\"13945\"}],\"center\":[{\"id\":\"13947\"},{\"id\":\"13951\"}],\"height\":500,\"left\":[{\"id\":\"13948\"}],\"renderers\":[{\"id\":\"13957\"}],\"title\":{\"id\":\"13959\"},\"toolbar\":{\"id\":\"13952\"},\"toolbar_location\":null,\"width\":950,\"x_range\":{\"id\":\"13936\"},\"x_scale\":{\"id\":\"13941\"},\"y_range\":{\"id\":\"13939\"},\"y_scale\":{\"id\":\"13943\"}},\"id\":\"13937\",\"subtype\":\"Figure\",\"type\":\"Plot\"},{\"attributes\":{\"text\":\"GEBURTSJAHR [ks:0.2285 p:0.0000]\"},\"id\":\"13959\",\"type\":\"Title\"},{\"attributes\":{},\"id\":\"13946\",\"type\":\"CategoricalTicker\"},{\"attributes\":{\"axis\":{\"id\":\"13948\"},\"dimension\":1,\"ticker\":null},\"id\":\"13951\",\"type\":\"Grid\"},{\"attributes\":{},\"id\":\"13949\",\"type\":\"BasicTicker\"},{\"attributes\":{},\"id\":\"14414\",\"type\":\"CategoricalTickFormatter\"},{\"attributes\":{\"active_multi\":null},\"id\":\"13952\",\"type\":\"Toolbar\"},{\"attributes\":{\"axis\":{\"id\":\"13945\"},\"grid_line_color\":null,\"ticker\":null},\"id\":\"13947\",\"type\":\"Grid\"},{\"attributes\":{\"start\":0},\"id\":\"13939\",\"type\":\"DataRange1d\"},{\"attributes\":{\"fill_color\":{\"field\":\"x\",\"transform\":{\"id\":\"13953\"}},\"line_color\":{\"value\":null},\"top\":{\"field\":\"counts\"},\"width\":{\"value\":0.9},\"x\":{\"field\":\"x\"}},\"id\":\"13955\",\"type\":\"VBar\"},{\"attributes\":{\"fill_alpha\":{\"value\":0.1},\"fill_color\":{\"field\":\"x\",\"transform\":{\"id\":\"13953\"}},\"line_alpha\":{\"value\":0.1},\"line_color\":{\"value\":null},\"top\":{\"field\":\"counts\"},\"width\":{\"value\":0.9},\"x\":{\"field\":\"x\"}},\"id\":\"13956\",\"type\":\"VBar\"},{\"attributes\":{},\"id\":\"14411\",\"type\":\"BasicTickFormatter\"},{\"attributes\":{\"formatter\":{\"id\":\"14411\"},\"major_label_policy\":{\"id\":\"14413\"},\"ticker\":{\"id\":\"13949\"}},\"id\":\"13948\",\"type\":\"LinearAxis\"},{\"attributes\":{},\"id\":\"13941\",\"type\":\"CategoricalScale\"},{\"attributes\":{\"formatter\":{\"id\":\"14414\"},\"group_label_orientation\":1.5707963267948966,\"major_label_orientation\":0,\"major_label_policy\":{\"id\":\"14416\"},\"ticker\":{\"id\":\"13946\"}},\"id\":\"13945\",\"type\":\"CategoricalAxis\"},{\"attributes\":{},\"id\":\"14413\",\"type\":\"AllLabels\"},{\"attributes\":{\"data\":{\"counts\":[0.4053030212726393,0.34434904153354634,4.7680464598447044e-06,1.9968051118210863e-05,1.1920116149611761e-06,6.6560170394036205e-06,5.960058074805881e-06,0.0,9.536092919689409e-06,0.0,8.344081304728233e-06,0.0,4.7680464598447044e-06,0.0,8.344081304728233e-06,6.6560170394036205e-06,8.344081304728233e-06,6.6560170394036205e-06,4.887247621340822e-05,3.9936102236421726e-05,3.5760348448835286e-05,6.656017039403621e-05,3.337632521891293e-05,4.6592119275825345e-05,4.648845298348587e-05,4.6592119275825345e-05,6.556063882286469e-05,8.652822151224707e-05,4.4104429753563516e-05,6.656017039403621e-05,5.3640522673252926e-05,0.00012646432374866878,6.556063882286469e-05,0.00017971246006389776,0.00010132098727169998,0.0002795527156549521,0.00023125025330246818,0.0004792332268370607,0.00028369876436075994,0.0009518104366347177,0.00042316412331121754,0.0015042598509052182,0.0004470043556104411,0.0016107561235356763,0.0005578614358018305,0.002635782747603834,0.0007187830038215893,0.0033812566560170393,0.0008677844556917362,0.004266506922257721,0.0010310900469414175,0.005318157614483493,0.001217043858875361,0.006163471778487753,0.0014065737056541878,0.007321618743343983,0.0015198148090754997,0.0077209797657082,0.0019370188743119113,0.009078807241746539,0.0018297378289654053,0.008978966986155485,0.0020216516989741548,0.009810969116080938,0.00221952562705771,0.010030617678381256,0.0030110213393919312,0.012846112886048987,0.003517626275750431,0.014769701810436634,0.0036642437043906554,0.016240681576144837,0.004015887130804203,0.017312300319488817,0.004603548856980062,0.018443823216187434,0.00503744108482593,0.02042066027689031,0.0054367649758379245,0.020500532481363153,0.007432192419282934,0.023495740149094783,0.006224684653327262,0.018630191693290735,0.00648692720861872,0.019122736954206604,0.006546527789366779,0.017438764643237487,0.004902743772335317,0.012133919062832801,0.005731191844733335,0.014403620873269435,0.006526263591912439,0.014177316293929713,0.00695300375006854,0.015082534611288605,0.00793522132079655,0.015634984025559105,0.008428714129390476,0.014836261980830672,0.008143823353414755,0.014064164004259852,0.008470434535914118,0.013891107561235357,0.008458514419764506,0.013571618743343982,0.00897942349550254,0.014177316293929713,0.009331066921916088,0.012992545260915868,0.009582581372672896,0.01266640042598509,0.009654102069570566,0.012393503727369541,0.009921112671321869,0.011940894568690096,0.010844921672916782,0.013045793397231097,0.011314574249211484,0.012287007454739084,0.01177707475581642,0.012293663471778488,0.012017861102038578,0.012593184238551651,0.012531618108086845,0.011628061767838125,0.012872533429965742,0.01119542066027689,0.013219408809919444,0.010709531416400426,0.013032262986370538,0.009970713525026624,0.013330265890110833,0.009518104366347178,0.012864189348661013,0.00856629392971246,0.012349240330997786,0.00805378061767838,0.012972662405622481,0.008686102236421725,0.01166502566401007,0.005903887113951012,0.010760288848254538,0.005125133120340788,0.009960449054615588,0.00402689030883919,0.010341892771403165,0.003920394036208733,0.010108258494870775,0.0038538338658146965,0.010734064592725391,0.0031682641107561235,0.011080939972679093,0.003174920127795527,0.011334838446665824,0.0028354632587859426,0.011231133436164203,0.0027689030883919063,0.012247919343726085,0.0024693823216187434,0.011173916878646066,0.002143237486687966,0.011343182527970553,0.0018903088391906283,0.010593407222159974,0.001424387646432375,0.01019527534276294,0.00154419595314164,0.009750655010382421,0.0014643237486687967,0.009764959149761955,0.001071618743343983,0.009258354213403456,0.0008120340788072418,0.009298882608312135,0.0007920660276890309,0.008643276220083488,0.000718849840255591,0.008162895539254134,0.0006256656017039403,0.006843338681492113,0.0007388178913738019,0.006198460397798116,0.000579073482428115,0.005524973835345052,0.0005391373801916933,0.005064857351970037,0.00043264110756123536,0.004778774564379355,0.0004459531416400426,0.00482407100574788,0.0002995207667731629,0.004799038761833695,0.0003461128860489883,0.0009893696404177762,0.0002196485623003195,0.0008868566415311151,0.0001597444089456869,0.0008975847460657657,0.00013977635782747605,0.0008916246879909598,9.984025559105431e-05,0.0009321530828996398,9.984025559105431e-05,0.0008427522117775515,9.984025559105431e-05,0.0008093758865586387,3.328008519701811e-05,0.0007056708760570162,5.3248136315228964e-05,0.0006794466205278704,1.9968051118210863e-05,0.0006758705856829869,3.328008519701811e-05,0.0006556063882286469,3.9936102236421726e-05,0.0006663344927632975,1.3312034078807241e-05,0.000649646330153841,1.3312034078807241e-05,0.0005781256332561705,2.6624068157614482e-05,0.000960761361658708,0.00045260915867944624,0.00045296441368524696,0.0002595846645367412,0.00014780944025518584,0.00012646432374866878,0.00030634698504502226,0.00033280085197018105,0.00019906593969851643,4.6592119275825345e-05,0.0007068628876719774,0.0002995207667731629],\"x\":[[\"0\",\"a\"],[\"0\",\"c\"],[\"1900\",\"a\"],[\"1900\",\"c\"],[\"1902\",\"a\"],[\"1902\",\"c\"],[\"1904\",\"a\"],[\"1904\",\"c\"],[\"1905\",\"a\"],[\"1905\",\"c\"],[\"1906\",\"a\"],[\"1906\",\"c\"],[\"1907\",\"a\"],[\"1907\",\"c\"],[\"1908\",\"a\"],[\"1908\",\"c\"],[\"1909\",\"a\"],[\"1909\",\"c\"],[\"1910\",\"a\"],[\"1910\",\"c\"],[\"1911\",\"a\"],[\"1911\",\"c\"],[\"1912\",\"a\"],[\"1912\",\"c\"],[\"1913\",\"a\"],[\"1913\",\"c\"],[\"1914\",\"a\"],[\"1914\",\"c\"],[\"1915\",\"a\"],[\"1915\",\"c\"],[\"1916\",\"a\"],[\"1916\",\"c\"],[\"1917\",\"a\"],[\"1917\",\"c\"],[\"1918\",\"a\"],[\"1918\",\"c\"],[\"1919\",\"a\"],[\"1919\",\"c\"],[\"1920\",\"a\"],[\"1920\",\"c\"],[\"1921\",\"a\"],[\"1921\",\"c\"],[\"1922\",\"a\"],[\"1922\",\"c\"],[\"1923\",\"a\"],[\"1923\",\"c\"],[\"1924\",\"a\"],[\"1924\",\"c\"],[\"1925\",\"a\"],[\"1925\",\"c\"],[\"1926\",\"a\"],[\"1926\",\"c\"],[\"1927\",\"a\"],[\"1927\",\"c\"],[\"1928\",\"a\"],[\"1928\",\"c\"],[\"1929\",\"a\"],[\"1929\",\"c\"],[\"1930\",\"a\"],[\"1930\",\"c\"],[\"1931\",\"a\"],[\"1931\",\"c\"],[\"1932\",\"a\"],[\"1932\",\"c\"],[\"1933\",\"a\"],[\"1933\",\"c\"],[\"1934\",\"a\"],[\"1934\",\"c\"],[\"1935\",\"a\"],[\"1935\",\"c\"],[\"1936\",\"a\"],[\"1936\",\"c\"],[\"1937\",\"a\"],[\"1937\",\"c\"],[\"1938\",\"a\"],[\"1938\",\"c\"],[\"1939\",\"a\"],[\"1939\",\"c\"],[\"1940\",\"a\"],[\"1940\",\"c\"],[\"1941\",\"a\"],[\"1941\",\"c\"],[\"1942\",\"a\"],[\"1942\",\"c\"],[\"1943\",\"a\"],[\"1943\",\"c\"],[\"1944\",\"a\"],[\"1944\",\"c\"],[\"1945\",\"a\"],[\"1945\",\"c\"],[\"1946\",\"a\"],[\"1946\",\"c\"],[\"1947\",\"a\"],[\"1947\",\"c\"],[\"1948\",\"a\"],[\"1948\",\"c\"],[\"1949\",\"a\"],[\"1949\",\"c\"],[\"1950\",\"a\"],[\"1950\",\"c\"],[\"1951\",\"a\"],[\"1951\",\"c\"],[\"1952\",\"a\"],[\"1952\",\"c\"],[\"1953\",\"a\"],[\"1953\",\"c\"],[\"1954\",\"a\"],[\"1954\",\"c\"],[\"1955\",\"a\"],[\"1955\",\"c\"],[\"1956\",\"a\"],[\"1956\",\"c\"],[\"1957\",\"a\"],[\"1957\",\"c\"],[\"1958\",\"a\"],[\"1958\",\"c\"],[\"1959\",\"a\"],[\"1959\",\"c\"],[\"1960\",\"a\"],[\"1960\",\"c\"],[\"1961\",\"a\"],[\"1961\",\"c\"],[\"1962\",\"a\"],[\"1962\",\"c\"],[\"1963\",\"a\"],[\"1963\",\"c\"],[\"1964\",\"a\"],[\"1964\",\"c\"],[\"1965\",\"a\"],[\"1965\",\"c\"],[\"1966\",\"a\"],[\"1966\",\"c\"],[\"1967\",\"a\"],[\"1967\",\"c\"],[\"1968\",\"a\"],[\"1968\",\"c\"],[\"1969\",\"a\"],[\"1969\",\"c\"],[\"1970\",\"a\"],[\"1970\",\"c\"],[\"1971\",\"a\"],[\"1971\",\"c\"],[\"1972\",\"a\"],[\"1972\",\"c\"],[\"1973\",\"a\"],[\"1973\",\"c\"],[\"1974\",\"a\"],[\"1974\",\"c\"],[\"1975\",\"a\"],[\"1975\",\"c\"],[\"1976\",\"a\"],[\"1976\",\"c\"],[\"1977\",\"a\"],[\"1977\",\"c\"],[\"1978\",\"a\"],[\"1978\",\"c\"],[\"1979\",\"a\"],[\"1979\",\"c\"],[\"1980\",\"a\"],[\"1980\",\"c\"],[\"1981\",\"a\"],[\"1981\",\"c\"],[\"1982\",\"a\"],[\"1982\",\"c\"],[\"1983\",\"a\"],[\"1983\",\"c\"],[\"1984\",\"a\"],[\"1984\",\"c\"],[\"1985\",\"a\"],[\"1985\",\"c\"],[\"1986\",\"a\"],[\"1986\",\"c\"],[\"1987\",\"a\"],[\"1987\",\"c\"],[\"1988\",\"a\"],[\"1988\",\"c\"],[\"1989\",\"a\"],[\"1989\",\"c\"],[\"1990\",\"a\"],[\"1990\",\"c\"],[\"1991\",\"a\"],[\"1991\",\"c\"],[\"1992\",\"a\"],[\"1992\",\"c\"],[\"1993\",\"a\"],[\"1993\",\"c\"],[\"1994\",\"a\"],[\"1994\",\"c\"],[\"1995\",\"a\"],[\"1995\",\"c\"],[\"1996\",\"a\"],[\"1996\",\"c\"],[\"1997\",\"a\"],[\"1997\",\"c\"],[\"1998\",\"a\"],[\"1998\",\"c\"],[\"1999\",\"a\"],[\"1999\",\"c\"],[\"2000\",\"a\"],[\"2000\",\"c\"],[\"2001\",\"a\"],[\"2001\",\"c\"],[\"2002\",\"a\"],[\"2002\",\"c\"],[\"2003\",\"a\"],[\"2003\",\"c\"],[\"2004\",\"a\"],[\"2004\",\"c\"],[\"2005\",\"a\"],[\"2005\",\"c\"],[\"2006\",\"a\"],[\"2006\",\"c\"],[\"2007\",\"a\"],[\"2007\",\"c\"],[\"2008\",\"a\"],[\"2008\",\"c\"],[\"2009\",\"a\"],[\"2009\",\"c\"],[\"2010\",\"a\"],[\"2010\",\"c\"],[\"2011\",\"a\"],[\"2011\",\"c\"],[\"2012\",\"a\"],[\"2012\",\"c\"],[\"2013\",\"a\"],[\"2013\",\"c\"],[\"2014\",\"a\"],[\"2014\",\"c\"],[\"2015\",\"a\"],[\"2015\",\"c\"],[\"2016\",\"a\"],[\"2016\",\"c\"],[\"2017\",\"a\"],[\"2017\",\"c\"]]},\"selected\":{\"id\":\"14418\"},\"selection_policy\":{\"id\":\"14417\"}},\"id\":\"13935\",\"type\":\"ColumnDataSource\"},{\"attributes\":{},\"id\":\"13943\",\"type\":\"LinearScale\"},{\"attributes\":{\"end\":2,\"factors\":[\"a\",\"c\"],\"palette\":[\"#1f77b4\",\"#ff7f0e\"],\"start\":1},\"id\":\"13953\",\"type\":\"CategoricalColorMapper\"},{\"attributes\":{},\"id\":\"14417\",\"type\":\"UnionRenderers\"},{\"attributes\":{},\"id\":\"14418\",\"type\":\"Selection\"},{\"attributes\":{},\"id\":\"14416\",\"type\":\"AllLabels\"},{\"attributes\":{\"source\":{\"id\":\"13935\"}},\"id\":\"13958\",\"type\":\"CDSView\"},{\"attributes\":{\"data_source\":{\"id\":\"13935\"},\"glyph\":{\"id\":\"13955\"},\"hover_glyph\":null,\"muted_glyph\":null,\"nonselection_glyph\":{\"id\":\"13956\"},\"view\":{\"id\":\"13958\"}},\"id\":\"13957\",\"type\":\"GlyphRenderer\"},{\"attributes\":{\"factors\":[[\"0\",\"a\"],[\"0\",\"c\"],[\"1900\",\"a\"],[\"1900\",\"c\"],[\"1902\",\"a\"],[\"1902\",\"c\"],[\"1904\",\"a\"],[\"1904\",\"c\"],[\"1905\",\"a\"],[\"1905\",\"c\"],[\"1906\",\"a\"],[\"1906\",\"c\"],[\"1907\",\"a\"],[\"1907\",\"c\"],[\"1908\",\"a\"],[\"1908\",\"c\"],[\"1909\",\"a\"],[\"1909\",\"c\"],[\"1910\",\"a\"],[\"1910\",\"c\"],[\"1911\",\"a\"],[\"1911\",\"c\"],[\"1912\",\"a\"],[\"1912\",\"c\"],[\"1913\",\"a\"],[\"1913\",\"c\"],[\"1914\",\"a\"],[\"1914\",\"c\"],[\"1915\",\"a\"],[\"1915\",\"c\"],[\"1916\",\"a\"],[\"1916\",\"c\"],[\"1917\",\"a\"],[\"1917\",\"c\"],[\"1918\",\"a\"],[\"1918\",\"c\"],[\"1919\",\"a\"],[\"1919\",\"c\"],[\"1920\",\"a\"],[\"1920\",\"c\"],[\"1921\",\"a\"],[\"1921\",\"c\"],[\"1922\",\"a\"],[\"1922\",\"c\"],[\"1923\",\"a\"],[\"1923\",\"c\"],[\"1924\",\"a\"],[\"1924\",\"c\"],[\"1925\",\"a\"],[\"1925\",\"c\"],[\"1926\",\"a\"],[\"1926\",\"c\"],[\"1927\",\"a\"],[\"1927\",\"c\"],[\"1928\",\"a\"],[\"1928\",\"c\"],[\"1929\",\"a\"],[\"1929\",\"c\"],[\"1930\",\"a\"],[\"1930\",\"c\"],[\"1931\",\"a\"],[\"1931\",\"c\"],[\"1932\",\"a\"],[\"1932\",\"c\"],[\"1933\",\"a\"],[\"1933\",\"c\"],[\"1934\",\"a\"],[\"1934\",\"c\"],[\"1935\",\"a\"],[\"1935\",\"c\"],[\"1936\",\"a\"],[\"1936\",\"c\"],[\"1937\",\"a\"],[\"1937\",\"c\"],[\"1938\",\"a\"],[\"1938\",\"c\"],[\"1939\",\"a\"],[\"1939\",\"c\"],[\"1940\",\"a\"],[\"1940\",\"c\"],[\"1941\",\"a\"],[\"1941\",\"c\"],[\"1942\",\"a\"],[\"1942\",\"c\"],[\"1943\",\"a\"],[\"1943\",\"c\"],[\"1944\",\"a\"],[\"1944\",\"c\"],[\"1945\",\"a\"],[\"1945\",\"c\"],[\"1946\",\"a\"],[\"1946\",\"c\"],[\"1947\",\"a\"],[\"1947\",\"c\"],[\"1948\",\"a\"],[\"1948\",\"c\"],[\"1949\",\"a\"],[\"1949\",\"c\"],[\"1950\",\"a\"],[\"1950\",\"c\"],[\"1951\",\"a\"],[\"1951\",\"c\"],[\"1952\",\"a\"],[\"1952\",\"c\"],[\"1953\",\"a\"],[\"1953\",\"c\"],[\"1954\",\"a\"],[\"1954\",\"c\"],[\"1955\",\"a\"],[\"1955\",\"c\"],[\"1956\",\"a\"],[\"1956\",\"c\"],[\"1957\",\"a\"],[\"1957\",\"c\"],[\"1958\",\"a\"],[\"1958\",\"c\"],[\"1959\",\"a\"],[\"1959\",\"c\"],[\"1960\",\"a\"],[\"1960\",\"c\"],[\"1961\",\"a\"],[\"1961\",\"c\"],[\"1962\",\"a\"],[\"1962\",\"c\"],[\"1963\",\"a\"],[\"1963\",\"c\"],[\"1964\",\"a\"],[\"1964\",\"c\"],[\"1965\",\"a\"],[\"1965\",\"c\"],[\"1966\",\"a\"],[\"1966\",\"c\"],[\"1967\",\"a\"],[\"1967\",\"c\"],[\"1968\",\"a\"],[\"1968\",\"c\"],[\"1969\",\"a\"],[\"1969\",\"c\"],[\"1970\",\"a\"],[\"1970\",\"c\"],[\"1971\",\"a\"],[\"1971\",\"c\"],[\"1972\",\"a\"],[\"1972\",\"c\"],[\"1973\",\"a\"],[\"1973\",\"c\"],[\"1974\",\"a\"],[\"1974\",\"c\"],[\"1975\",\"a\"],[\"1975\",\"c\"],[\"1976\",\"a\"],[\"1976\",\"c\"],[\"1977\",\"a\"],[\"1977\",\"c\"],[\"1978\",\"a\"],[\"1978\",\"c\"],[\"1979\",\"a\"],[\"1979\",\"c\"],[\"1980\",\"a\"],[\"1980\",\"c\"],[\"1981\",\"a\"],[\"1981\",\"c\"],[\"1982\",\"a\"],[\"1982\",\"c\"],[\"1983\",\"a\"],[\"1983\",\"c\"],[\"1984\",\"a\"],[\"1984\",\"c\"],[\"1985\",\"a\"],[\"1985\",\"c\"],[\"1986\",\"a\"],[\"1986\",\"c\"],[\"1987\",\"a\"],[\"1987\",\"c\"],[\"1988\",\"a\"],[\"1988\",\"c\"],[\"1989\",\"a\"],[\"1989\",\"c\"],[\"1990\",\"a\"],[\"1990\",\"c\"],[\"1991\",\"a\"],[\"1991\",\"c\"],[\"1992\",\"a\"],[\"1992\",\"c\"],[\"1993\",\"a\"],[\"1993\",\"c\"],[\"1994\",\"a\"],[\"1994\",\"c\"],[\"1995\",\"a\"],[\"1995\",\"c\"],[\"1996\",\"a\"],[\"1996\",\"c\"],[\"1997\",\"a\"],[\"1997\",\"c\"],[\"1998\",\"a\"],[\"1998\",\"c\"],[\"1999\",\"a\"],[\"1999\",\"c\"],[\"2000\",\"a\"],[\"2000\",\"c\"],[\"2001\",\"a\"],[\"2001\",\"c\"],[\"2002\",\"a\"],[\"2002\",\"c\"],[\"2003\",\"a\"],[\"2003\",\"c\"],[\"2004\",\"a\"],[\"2004\",\"c\"],[\"2005\",\"a\"],[\"2005\",\"c\"],[\"2006\",\"a\"],[\"2006\",\"c\"],[\"2007\",\"a\"],[\"2007\",\"c\"],[\"2008\",\"a\"],[\"2008\",\"c\"],[\"2009\",\"a\"],[\"2009\",\"c\"],[\"2010\",\"a\"],[\"2010\",\"c\"],[\"2011\",\"a\"],[\"2011\",\"c\"],[\"2012\",\"a\"],[\"2012\",\"c\"],[\"2013\",\"a\"],[\"2013\",\"c\"],[\"2014\",\"a\"],[\"2014\",\"c\"],[\"2015\",\"a\"],[\"2015\",\"c\"],[\"2016\",\"a\"],[\"2016\",\"c\"],[\"2017\",\"a\"],[\"2017\",\"c\"]]},\"id\":\"13936\",\"type\":\"FactorRange\"}],\"root_ids\":[\"13937\"]},\"title\":\"Bokeh Application\",\"version\":\"2.3.1\"}};\n",
       "  var render_items = [{\"docid\":\"1b15b1da-f704-420a-98d8-291d84422ba9\",\"root_ids\":[\"13937\"],\"roots\":{\"13937\":\"5353b4b1-eb84-4910-aec3-ededf0b3805a\"}}];\n",
       "  root.Bokeh.embed.embed_items_notebook(docs_json, render_items);\n",
       "\n",
       "  }\n",
       "  if (root.Bokeh !== undefined) {\n",
       "    embed_document(root);\n",
       "  } else {\n",
       "    var attempts = 0;\n",
       "    var timer = setInterval(function(root) {\n",
       "      if (root.Bokeh !== undefined) {\n",
       "        clearInterval(timer);\n",
       "        embed_document(root);\n",
       "      } else {\n",
       "        attempts++;\n",
       "        if (attempts > 100) {\n",
       "          clearInterval(timer);\n",
       "          console.log(\"Bokeh: ERROR: Unable to run BokehJS code because BokehJS library is missing\");\n",
       "        }\n",
       "      }\n",
       "    }, 10, root)\n",
       "  }\n",
       "})(window);"
      ],
      "application/vnd.bokehjs_exec.v0+json": ""
     },
     "metadata": {
      "application/vnd.bokehjs_exec.v0+json": {
       "id": "13937"
      }
     },
     "output_type": "display_data"
    },
    {
     "data": {
      "text/html": [
       "<div>\n",
       "<style scoped>\n",
       "    .dataframe tbody tr th:only-of-type {\n",
       "        vertical-align: middle;\n",
       "    }\n",
       "\n",
       "    .dataframe tbody tr th {\n",
       "        vertical-align: top;\n",
       "    }\n",
       "\n",
       "    .dataframe thead th {\n",
       "        text-align: right;\n",
       "    }\n",
       "</style>\n",
       "<table border=\"1\" class=\"dataframe\">\n",
       "  <thead>\n",
       "    <tr style=\"text-align: right;\">\n",
       "      <th></th>\n",
       "      <th>Attribute</th>\n",
       "      <th>Value</th>\n",
       "      <th>Meaning</th>\n",
       "    </tr>\n",
       "  </thead>\n",
       "  <tbody>\n",
       "    <tr>\n",
       "      <th>711</th>\n",
       "      <td>GEBURTSJAHR</td>\n",
       "      <td>…</td>\n",
       "      <td>numeric value</td>\n",
       "    </tr>\n",
       "  </tbody>\n",
       "</table>\n",
       "</div>"
      ],
      "text/plain": [
       "       Attribute Value        Meaning\n",
       "711  GEBURTSJAHR     …  numeric value"
      ]
     },
     "metadata": {},
     "output_type": "display_data"
    },
    {
     "name": "stdout",
     "output_type": "stream",
     "text": [
      "==========================================================================================================================================================================================================================================\n"
     ]
    },
    {
     "data": {
      "text/html": [
       "\n",
       "\n",
       "\n",
       "\n",
       "\n",
       "\n",
       "  <div class=\"bk-root\" id=\"076b540d-c43d-4cf3-b961-b345853abb16\" data-root-id=\"14471\"></div>\n"
      ]
     },
     "metadata": {},
     "output_type": "display_data"
    },
    {
     "data": {
      "application/javascript": [
       "(function(root) {\n",
       "  function embed_document(root) {\n",
       "    \n",
       "  var docs_json = {\"97c4d185-d578-4759-9639-ce63efd86bf7\":{\"defs\":[],\"roots\":{\"references\":[{\"attributes\":{\"below\":[{\"id\":\"14479\"}],\"center\":[{\"id\":\"14481\"},{\"id\":\"14485\"}],\"height\":500,\"left\":[{\"id\":\"14482\"}],\"renderers\":[{\"id\":\"14491\"}],\"title\":{\"id\":\"14493\"},\"toolbar\":{\"id\":\"14486\"},\"toolbar_location\":null,\"width\":950,\"x_range\":{\"id\":\"14470\"},\"x_scale\":{\"id\":\"14475\"},\"y_range\":{\"id\":\"14473\"},\"y_scale\":{\"id\":\"14477\"}},\"id\":\"14471\",\"subtype\":\"Figure\",\"type\":\"Plot\"},{\"attributes\":{\"formatter\":{\"id\":\"14958\"},\"group_label_orientation\":1.5707963267948966,\"major_label_orientation\":0,\"major_label_policy\":{\"id\":\"14960\"},\"ticker\":{\"id\":\"14480\"}},\"id\":\"14479\",\"type\":\"CategoricalAxis\"},{\"attributes\":{\"data\":{\"counts\":[0.041715035737046775,0.049239051661662696,0.5176299909846984,0.2821548124374504,0.23910610288208303,0.30183248783517963,0.11609188512768823,0.18774890430341304,0.05764655369609015,0.11099147599820547,0.018963937570565834,0.04466991061876661,0.005922943025006759,0.0160886220105601,0.0018654457069672257,0.00493494840735756,0.0010581052698535411,0.0023397867274044934],\"x\":[[\"0\",\"a\"],[\"0\",\"c\"],[\"1\",\"a\"],[\"1\",\"c\"],[\"2\",\"a\"],[\"2\",\"c\"],[\"3\",\"a\"],[\"3\",\"c\"],[\"4\",\"a\"],[\"4\",\"c\"],[\"5\",\"a\"],[\"5\",\"c\"],[\"6\",\"a\"],[\"6\",\"c\"],[\"7\",\"a\"],[\"7\",\"c\"],[\"8\",\"a\"],[\"8\",\"c\"]]},\"selected\":{\"id\":\"14962\"},\"selection_policy\":{\"id\":\"14961\"}},\"id\":\"14469\",\"type\":\"ColumnDataSource\"},{\"attributes\":{},\"id\":\"14961\",\"type\":\"UnionRenderers\"},{\"attributes\":{\"axis\":{\"id\":\"14479\"},\"grid_line_color\":null,\"ticker\":null},\"id\":\"14481\",\"type\":\"Grid\"},{\"attributes\":{},\"id\":\"14962\",\"type\":\"Selection\"},{\"attributes\":{},\"id\":\"14480\",\"type\":\"CategoricalTicker\"},{\"attributes\":{\"axis\":{\"id\":\"14482\"},\"dimension\":1,\"ticker\":null},\"id\":\"14485\",\"type\":\"Grid\"},{\"attributes\":{},\"id\":\"14475\",\"type\":\"CategoricalScale\"},{\"attributes\":{},\"id\":\"14477\",\"type\":\"LinearScale\"},{\"attributes\":{},\"id\":\"14483\",\"type\":\"BasicTicker\"},{\"attributes\":{\"active_multi\":null},\"id\":\"14486\",\"type\":\"Toolbar\"},{\"attributes\":{\"formatter\":{\"id\":\"14955\"},\"major_label_policy\":{\"id\":\"14957\"},\"ticker\":{\"id\":\"14483\"}},\"id\":\"14482\",\"type\":\"LinearAxis\"},{\"attributes\":{\"fill_alpha\":{\"value\":0.1},\"fill_color\":{\"field\":\"x\",\"transform\":{\"id\":\"14487\"}},\"line_alpha\":{\"value\":0.1},\"line_color\":{\"value\":null},\"top\":{\"field\":\"counts\"},\"width\":{\"value\":0.9},\"x\":{\"field\":\"x\"}},\"id\":\"14490\",\"type\":\"VBar\"},{\"attributes\":{},\"id\":\"14955\",\"type\":\"BasicTickFormatter\"},{\"attributes\":{\"fill_color\":{\"field\":\"x\",\"transform\":{\"id\":\"14487\"}},\"line_color\":{\"value\":null},\"top\":{\"field\":\"counts\"},\"width\":{\"value\":0.9},\"x\":{\"field\":\"x\"}},\"id\":\"14489\",\"type\":\"VBar\"},{\"attributes\":{\"start\":0},\"id\":\"14473\",\"type\":\"DataRange1d\"},{\"attributes\":{},\"id\":\"14957\",\"type\":\"AllLabels\"},{\"attributes\":{\"end\":2,\"factors\":[\"a\",\"c\"],\"palette\":[\"#1f77b4\",\"#ff7f0e\"],\"start\":1},\"id\":\"14487\",\"type\":\"CategoricalColorMapper\"},{\"attributes\":{},\"id\":\"14958\",\"type\":\"CategoricalTickFormatter\"},{\"attributes\":{},\"id\":\"14960\",\"type\":\"AllLabels\"},{\"attributes\":{\"data_source\":{\"id\":\"14469\"},\"glyph\":{\"id\":\"14489\"},\"hover_glyph\":null,\"muted_glyph\":null,\"nonselection_glyph\":{\"id\":\"14490\"},\"view\":{\"id\":\"14492\"}},\"id\":\"14491\",\"type\":\"GlyphRenderer\"},{\"attributes\":{\"factors\":[[\"0\",\"a\"],[\"0\",\"c\"],[\"1\",\"a\"],[\"1\",\"c\"],[\"2\",\"a\"],[\"2\",\"c\"],[\"3\",\"a\"],[\"3\",\"c\"],[\"4\",\"a\"],[\"4\",\"c\"],[\"5\",\"a\"],[\"5\",\"c\"],[\"6\",\"a\"],[\"6\",\"c\"],[\"7\",\"a\"],[\"7\",\"c\"],[\"8\",\"a\"],[\"8\",\"c\"]]},\"id\":\"14470\",\"type\":\"FactorRange\"},{\"attributes\":{\"text\":\"ANZ_PERSONEN [ks:0.2280 p:0.0000]\"},\"id\":\"14493\",\"type\":\"Title\"},{\"attributes\":{\"source\":{\"id\":\"14469\"}},\"id\":\"14492\",\"type\":\"CDSView\"}],\"root_ids\":[\"14471\"]},\"title\":\"Bokeh Application\",\"version\":\"2.3.1\"}};\n",
       "  var render_items = [{\"docid\":\"97c4d185-d578-4759-9639-ce63efd86bf7\",\"root_ids\":[\"14471\"],\"roots\":{\"14471\":\"076b540d-c43d-4cf3-b961-b345853abb16\"}}];\n",
       "  root.Bokeh.embed.embed_items_notebook(docs_json, render_items);\n",
       "\n",
       "  }\n",
       "  if (root.Bokeh !== undefined) {\n",
       "    embed_document(root);\n",
       "  } else {\n",
       "    var attempts = 0;\n",
       "    var timer = setInterval(function(root) {\n",
       "      if (root.Bokeh !== undefined) {\n",
       "        clearInterval(timer);\n",
       "        embed_document(root);\n",
       "      } else {\n",
       "        attempts++;\n",
       "        if (attempts > 100) {\n",
       "          clearInterval(timer);\n",
       "          console.log(\"Bokeh: ERROR: Unable to run BokehJS code because BokehJS library is missing\");\n",
       "        }\n",
       "      }\n",
       "    }, 10, root)\n",
       "  }\n",
       "})(window);"
      ],
      "application/vnd.bokehjs_exec.v0+json": ""
     },
     "metadata": {
      "application/vnd.bokehjs_exec.v0+json": {
       "id": "14471"
      }
     },
     "output_type": "display_data"
    },
    {
     "data": {
      "text/html": [
       "<div>\n",
       "<style scoped>\n",
       "    .dataframe tbody tr th:only-of-type {\n",
       "        vertical-align: middle;\n",
       "    }\n",
       "\n",
       "    .dataframe tbody tr th {\n",
       "        vertical-align: top;\n",
       "    }\n",
       "\n",
       "    .dataframe thead th {\n",
       "        text-align: right;\n",
       "    }\n",
       "</style>\n",
       "<table border=\"1\" class=\"dataframe\">\n",
       "  <thead>\n",
       "    <tr style=\"text-align: right;\">\n",
       "      <th></th>\n",
       "      <th>Attribute</th>\n",
       "      <th>Value</th>\n",
       "      <th>Meaning</th>\n",
       "    </tr>\n",
       "  </thead>\n",
       "  <tbody>\n",
       "    <tr>\n",
       "      <th>38</th>\n",
       "      <td>ANZ_PERSONEN</td>\n",
       "      <td>…</td>\n",
       "      <td>numeric value (typically coded from 1-3)</td>\n",
       "    </tr>\n",
       "  </tbody>\n",
       "</table>\n",
       "</div>"
      ],
      "text/plain": [
       "       Attribute Value                                   Meaning\n",
       "38  ANZ_PERSONEN     …  numeric value (typically coded from 1-3)"
      ]
     },
     "metadata": {},
     "output_type": "display_data"
    },
    {
     "name": "stdout",
     "output_type": "stream",
     "text": [
      "==========================================================================================================================================================================================================================================\n"
     ]
    },
    {
     "data": {
      "text/html": [
       "\n",
       "\n",
       "\n",
       "\n",
       "\n",
       "\n",
       "  <div class=\"bk-root\" id=\"36d89614-49bd-4dba-87ee-81e8c1a8a902\" data-root-id=\"15015\"></div>\n"
      ]
     },
     "metadata": {},
     "output_type": "display_data"
    },
    {
     "data": {
      "application/javascript": [
       "(function(root) {\n",
       "  function embed_document(root) {\n",
       "    \n",
       "  var docs_json = {\"e447e3d7-65bb-4167-aaf2-2ef75293cd4b\":{\"defs\":[],\"roots\":{\"references\":[{\"attributes\":{\"below\":[{\"id\":\"15023\"}],\"center\":[{\"id\":\"15025\"},{\"id\":\"15029\"}],\"height\":500,\"left\":[{\"id\":\"15026\"}],\"renderers\":[{\"id\":\"15035\"}],\"title\":{\"id\":\"15037\"},\"toolbar\":{\"id\":\"15030\"},\"toolbar_location\":null,\"width\":950,\"x_range\":{\"id\":\"15014\"},\"x_scale\":{\"id\":\"15019\"},\"y_range\":{\"id\":\"15017\"},\"y_scale\":{\"id\":\"15021\"}},\"id\":\"15015\",\"subtype\":\"Figure\",\"type\":\"Plot\"},{\"attributes\":{\"source\":{\"id\":\"15013\"}},\"id\":\"15036\",\"type\":\"CDSView\"},{\"attributes\":{},\"id\":\"15514\",\"type\":\"AllLabels\"},{\"attributes\":{\"factors\":[[\"0\",\"a\"],[\"0\",\"c\"],[\"single \",\"a\"],[\"single \",\"c\"],[\"couple\",\"a\"],[\"couple\",\"c\"],[\"young single parent \",\"a\"],[\"young single parent \",\"c\"],[\"single parent with teenager\",\"a\"],[\"single parent with teenager\",\"c\"],[\"single parent with child of full age\",\"a\"],[\"single parent with child of full age\",\"c\"],[\"young family \",\"a\"],[\"young family \",\"c\"],[\"family with teenager \",\"a\"],[\"family with teenager \",\"c\"],[\"family with child of full age\",\"a\"],[\"family with child of full age\",\"c\"],[\"shared flat\",\"a\"],[\"shared flat\",\"c\"],[\"two-generational household\",\"a\"],[\"two-generational household\",\"c\"],[\"multi-generational household\",\"a\"],[\"multi-generational household\",\"c\"]]},\"id\":\"15014\",\"type\":\"FactorRange\"},{\"attributes\":{\"data_source\":{\"id\":\"15013\"},\"glyph\":{\"id\":\"15033\"},\"hover_glyph\":null,\"muted_glyph\":null,\"nonselection_glyph\":{\"id\":\"15034\"},\"view\":{\"id\":\"15036\"}},\"id\":\"15035\",\"type\":\"GlyphRenderer\"},{\"attributes\":{\"text\":\"LP_FAMILIE_FEIN [ks:0.2178 p:0.0000]\"},\"id\":\"15037\",\"type\":\"Title\"},{\"attributes\":{},\"id\":\"15019\",\"type\":\"CategoricalScale\"},{\"attributes\":{\"axis\":{\"id\":\"15023\"},\"grid_line_color\":null,\"ticker\":null},\"id\":\"15025\",\"type\":\"Grid\"},{\"attributes\":{},\"id\":\"15027\",\"type\":\"BasicTicker\"},{\"attributes\":{},\"id\":\"15515\",\"type\":\"UnionRenderers\"},{\"attributes\":{\"formatter\":{\"id\":\"15509\"},\"major_label_policy\":{\"id\":\"15511\"},\"ticker\":{\"id\":\"15027\"}},\"id\":\"15026\",\"type\":\"LinearAxis\"},{\"attributes\":{},\"id\":\"15516\",\"type\":\"Selection\"},{\"attributes\":{\"axis\":{\"id\":\"15026\"},\"dimension\":1,\"ticker\":null},\"id\":\"15029\",\"type\":\"Grid\"},{\"attributes\":{},\"id\":\"15024\",\"type\":\"CategoricalTicker\"},{\"attributes\":{\"active_multi\":null},\"id\":\"15030\",\"type\":\"Toolbar\"},{\"attributes\":{\"data\":{\"counts\":[0.032809232864624296,0.04389669924571677,0.5054216463005237,0.27654104348180947,0.12458396477968117,0.1962632713719249,0.005932398473018857,0.0010474266631299012,0.014709902357612844,0.003693199208308678,0.014256699725680524,0.0061213246546552675,0.010777350419152487,0.0056452216259598575,0.024755894032112643,0.020098349282784794,0.02754944464693357,0.03179688084501486,0.013347896564292428,0.016493569208376694,0.16407733699092636,0.24722669985784923,0.061778232845441115,0.1511763145544696],\"x\":[[\"0\",\"a\"],[\"0\",\"c\"],[\"single \",\"a\"],[\"single \",\"c\"],[\"couple\",\"a\"],[\"couple\",\"c\"],[\"young single parent \",\"a\"],[\"young single parent \",\"c\"],[\"single parent with teenager\",\"a\"],[\"single parent with teenager\",\"c\"],[\"single parent with child of full age\",\"a\"],[\"single parent with child of full age\",\"c\"],[\"young family \",\"a\"],[\"young family \",\"c\"],[\"family with teenager \",\"a\"],[\"family with teenager \",\"c\"],[\"family with child of full age\",\"a\"],[\"family with child of full age\",\"c\"],[\"shared flat\",\"a\"],[\"shared flat\",\"c\"],[\"two-generational household\",\"a\"],[\"two-generational household\",\"c\"],[\"multi-generational household\",\"a\"],[\"multi-generational household\",\"c\"]]},\"selected\":{\"id\":\"15516\"},\"selection_policy\":{\"id\":\"15515\"}},\"id\":\"15013\",\"type\":\"ColumnDataSource\"},{\"attributes\":{\"formatter\":{\"id\":\"15512\"},\"group_label_orientation\":1.5707963267948966,\"major_label_orientation\":0,\"major_label_policy\":{\"id\":\"15514\"},\"ticker\":{\"id\":\"15024\"}},\"id\":\"15023\",\"type\":\"CategoricalAxis\"},{\"attributes\":{\"fill_alpha\":{\"value\":0.1},\"fill_color\":{\"field\":\"x\",\"transform\":{\"id\":\"15031\"}},\"line_alpha\":{\"value\":0.1},\"line_color\":{\"value\":null},\"top\":{\"field\":\"counts\"},\"width\":{\"value\":0.9},\"x\":{\"field\":\"x\"}},\"id\":\"15034\",\"type\":\"VBar\"},{\"attributes\":{\"start\":0},\"id\":\"15017\",\"type\":\"DataRange1d\"},{\"attributes\":{\"end\":2,\"factors\":[\"a\",\"c\"],\"palette\":[\"#1f77b4\",\"#ff7f0e\"],\"start\":1},\"id\":\"15031\",\"type\":\"CategoricalColorMapper\"},{\"attributes\":{},\"id\":\"15021\",\"type\":\"LinearScale\"},{\"attributes\":{\"fill_color\":{\"field\":\"x\",\"transform\":{\"id\":\"15031\"}},\"line_color\":{\"value\":null},\"top\":{\"field\":\"counts\"},\"width\":{\"value\":0.9},\"x\":{\"field\":\"x\"}},\"id\":\"15033\",\"type\":\"VBar\"},{\"attributes\":{},\"id\":\"15509\",\"type\":\"BasicTickFormatter\"},{\"attributes\":{},\"id\":\"15511\",\"type\":\"AllLabels\"},{\"attributes\":{},\"id\":\"15512\",\"type\":\"CategoricalTickFormatter\"}],\"root_ids\":[\"15015\"]},\"title\":\"Bokeh Application\",\"version\":\"2.3.1\"}};\n",
       "  var render_items = [{\"docid\":\"e447e3d7-65bb-4167-aaf2-2ef75293cd4b\",\"root_ids\":[\"15015\"],\"roots\":{\"15015\":\"36d89614-49bd-4dba-87ee-81e8c1a8a902\"}}];\n",
       "  root.Bokeh.embed.embed_items_notebook(docs_json, render_items);\n",
       "\n",
       "  }\n",
       "  if (root.Bokeh !== undefined) {\n",
       "    embed_document(root);\n",
       "  } else {\n",
       "    var attempts = 0;\n",
       "    var timer = setInterval(function(root) {\n",
       "      if (root.Bokeh !== undefined) {\n",
       "        clearInterval(timer);\n",
       "        embed_document(root);\n",
       "      } else {\n",
       "        attempts++;\n",
       "        if (attempts > 100) {\n",
       "          clearInterval(timer);\n",
       "          console.log(\"Bokeh: ERROR: Unable to run BokehJS code because BokehJS library is missing\");\n",
       "        }\n",
       "      }\n",
       "    }, 10, root)\n",
       "  }\n",
       "})(window);"
      ],
      "application/vnd.bokehjs_exec.v0+json": ""
     },
     "metadata": {
      "application/vnd.bokehjs_exec.v0+json": {
       "id": "15015"
      }
     },
     "output_type": "display_data"
    },
    {
     "data": {
      "text/html": [
       "<div>\n",
       "<style scoped>\n",
       "    .dataframe tbody tr th:only-of-type {\n",
       "        vertical-align: middle;\n",
       "    }\n",
       "\n",
       "    .dataframe tbody tr th {\n",
       "        vertical-align: top;\n",
       "    }\n",
       "\n",
       "    .dataframe thead th {\n",
       "        text-align: right;\n",
       "    }\n",
       "</style>\n",
       "<table border=\"1\" class=\"dataframe\">\n",
       "  <thead>\n",
       "    <tr style=\"text-align: right;\">\n",
       "      <th></th>\n",
       "      <th>Attribute</th>\n",
       "      <th>Value</th>\n",
       "      <th>Meaning</th>\n",
       "    </tr>\n",
       "  </thead>\n",
       "  <tbody>\n",
       "    <tr>\n",
       "      <th>1892</th>\n",
       "      <td>LP_FAMILIE_FEIN</td>\n",
       "      <td>1</td>\n",
       "      <td>single</td>\n",
       "    </tr>\n",
       "    <tr>\n",
       "      <th>1893</th>\n",
       "      <td>LP_FAMILIE_FEIN</td>\n",
       "      <td>2</td>\n",
       "      <td>couple</td>\n",
       "    </tr>\n",
       "    <tr>\n",
       "      <th>1894</th>\n",
       "      <td>LP_FAMILIE_FEIN</td>\n",
       "      <td>3</td>\n",
       "      <td>young single parent</td>\n",
       "    </tr>\n",
       "    <tr>\n",
       "      <th>1895</th>\n",
       "      <td>LP_FAMILIE_FEIN</td>\n",
       "      <td>4</td>\n",
       "      <td>single parent with teenager</td>\n",
       "    </tr>\n",
       "    <tr>\n",
       "      <th>1896</th>\n",
       "      <td>LP_FAMILIE_FEIN</td>\n",
       "      <td>5</td>\n",
       "      <td>single parent with child of full age</td>\n",
       "    </tr>\n",
       "    <tr>\n",
       "      <th>1897</th>\n",
       "      <td>LP_FAMILIE_FEIN</td>\n",
       "      <td>6</td>\n",
       "      <td>young family</td>\n",
       "    </tr>\n",
       "    <tr>\n",
       "      <th>1898</th>\n",
       "      <td>LP_FAMILIE_FEIN</td>\n",
       "      <td>7</td>\n",
       "      <td>family with teenager</td>\n",
       "    </tr>\n",
       "    <tr>\n",
       "      <th>1899</th>\n",
       "      <td>LP_FAMILIE_FEIN</td>\n",
       "      <td>8</td>\n",
       "      <td>family with child of full age</td>\n",
       "    </tr>\n",
       "    <tr>\n",
       "      <th>1900</th>\n",
       "      <td>LP_FAMILIE_FEIN</td>\n",
       "      <td>9</td>\n",
       "      <td>shared flat</td>\n",
       "    </tr>\n",
       "    <tr>\n",
       "      <th>1901</th>\n",
       "      <td>LP_FAMILIE_FEIN</td>\n",
       "      <td>10</td>\n",
       "      <td>two-generational household</td>\n",
       "    </tr>\n",
       "    <tr>\n",
       "      <th>1902</th>\n",
       "      <td>LP_FAMILIE_FEIN</td>\n",
       "      <td>11</td>\n",
       "      <td>multi-generational household</td>\n",
       "    </tr>\n",
       "  </tbody>\n",
       "</table>\n",
       "</div>"
      ],
      "text/plain": [
       "            Attribute Value                               Meaning\n",
       "1892  LP_FAMILIE_FEIN     1                               single \n",
       "1893  LP_FAMILIE_FEIN     2                                couple\n",
       "1894  LP_FAMILIE_FEIN     3                  young single parent \n",
       "1895  LP_FAMILIE_FEIN     4           single parent with teenager\n",
       "1896  LP_FAMILIE_FEIN     5  single parent with child of full age\n",
       "1897  LP_FAMILIE_FEIN     6                         young family \n",
       "1898  LP_FAMILIE_FEIN     7                 family with teenager \n",
       "1899  LP_FAMILIE_FEIN     8         family with child of full age\n",
       "1900  LP_FAMILIE_FEIN     9                           shared flat\n",
       "1901  LP_FAMILIE_FEIN    10            two-generational household\n",
       "1902  LP_FAMILIE_FEIN    11          multi-generational household"
      ]
     },
     "metadata": {},
     "output_type": "display_data"
    },
    {
     "name": "stdout",
     "output_type": "stream",
     "text": [
      "==========================================================================================================================================================================================================================================\n"
     ]
    },
    {
     "data": {
      "text/html": [
       "\n",
       "\n",
       "\n",
       "\n",
       "\n",
       "\n",
       "  <div class=\"bk-root\" id=\"66739020-666c-4228-a874-cdf2b2da0078\" data-root-id=\"15569\"></div>\n"
      ]
     },
     "metadata": {},
     "output_type": "display_data"
    },
    {
     "data": {
      "application/javascript": [
       "(function(root) {\n",
       "  function embed_document(root) {\n",
       "    \n",
       "  var docs_json = {\"fe5fe512-bea7-4fbe-8240-64350f709740\":{\"defs\":[],\"roots\":{\"references\":[{\"attributes\":{\"below\":[{\"id\":\"15577\"}],\"center\":[{\"id\":\"15579\"},{\"id\":\"15583\"}],\"height\":500,\"left\":[{\"id\":\"15580\"}],\"renderers\":[{\"id\":\"15589\"}],\"title\":{\"id\":\"15591\"},\"toolbar\":{\"id\":\"15584\"},\"toolbar_location\":null,\"width\":950,\"x_range\":{\"id\":\"15568\"},\"x_scale\":{\"id\":\"15573\"},\"y_range\":{\"id\":\"15571\"},\"y_scale\":{\"id\":\"15575\"}},\"id\":\"15569\",\"subtype\":\"Figure\",\"type\":\"Plot\"},{\"attributes\":{},\"id\":\"16078\",\"type\":\"AllLabels\"},{\"attributes\":{\"source\":{\"id\":\"15567\"}},\"id\":\"15590\",\"type\":\"CDSView\"},{\"attributes\":{\"data_source\":{\"id\":\"15567\"},\"glyph\":{\"id\":\"15587\"},\"hover_glyph\":null,\"muted_glyph\":null,\"nonselection_glyph\":{\"id\":\"15588\"},\"view\":{\"id\":\"15590\"}},\"id\":\"15589\",\"type\":\"GlyphRenderer\"},{\"attributes\":{\"text\":\"MOBI_REGIO [ks:0.2148 p:0.0000]\"},\"id\":\"15591\",\"type\":\"Title\"},{\"attributes\":{\"axis\":{\"id\":\"15580\"},\"dimension\":1,\"ticker\":null},\"id\":\"15583\",\"type\":\"Grid\"},{\"attributes\":{},\"id\":\"16076\",\"type\":\"CategoricalTickFormatter\"},{\"attributes\":{\"active_multi\":null},\"id\":\"15584\",\"type\":\"Toolbar\"},{\"attributes\":{},\"id\":\"15581\",\"type\":\"BasicTicker\"},{\"attributes\":{},\"id\":\"16079\",\"type\":\"UnionRenderers\"},{\"attributes\":{},\"id\":\"15573\",\"type\":\"CategoricalScale\"},{\"attributes\":{},\"id\":\"16080\",\"type\":\"Selection\"},{\"attributes\":{\"start\":0},\"id\":\"15571\",\"type\":\"DataRange1d\"},{\"attributes\":{\"axis\":{\"id\":\"15577\"},\"grid_line_color\":null,\"ticker\":null},\"id\":\"15579\",\"type\":\"Grid\"},{\"attributes\":{},\"id\":\"15578\",\"type\":\"CategoricalTicker\"},{\"attributes\":{\"fill_color\":{\"field\":\"x\",\"transform\":{\"id\":\"15585\"}},\"line_color\":{\"value\":null},\"top\":{\"field\":\"counts\"},\"width\":{\"value\":0.9},\"x\":{\"field\":\"x\"}},\"id\":\"15587\",\"type\":\"VBar\"},{\"attributes\":{\"factors\":[[\"very high mobility\",\"a\"],[\"very high mobility\",\"c\"],[\"high mobility\",\"a\"],[\"high mobility\",\"c\"],[\"middle mobility\",\"a\"],[\"middle mobility\",\"c\"],[\"low mobility\",\"a\"],[\"low mobility\",\"c\"],[\"very low mobility \",\"a\"],[\"very low mobility \",\"c\"],[\"none\",\"a\"],[\"none\",\"c\"]]},\"id\":\"15568\",\"type\":\"FactorRange\"},{\"attributes\":{\"fill_alpha\":{\"value\":0.1},\"fill_color\":{\"field\":\"x\",\"transform\":{\"id\":\"15585\"}},\"line_alpha\":{\"value\":0.1},\"line_color\":{\"value\":null},\"top\":{\"field\":\"counts\"},\"width\":{\"value\":0.9},\"x\":{\"field\":\"x\"}},\"id\":\"15588\",\"type\":\"VBar\"},{\"attributes\":{},\"id\":\"15575\",\"type\":\"LinearScale\"},{\"attributes\":{\"formatter\":{\"id\":\"16073\"},\"major_label_policy\":{\"id\":\"16075\"},\"ticker\":{\"id\":\"15581\"}},\"id\":\"15580\",\"type\":\"LinearAxis\"},{\"attributes\":{\"formatter\":{\"id\":\"16076\"},\"group_label_orientation\":1.5707963267948966,\"major_label_orientation\":0,\"major_label_policy\":{\"id\":\"16078\"},\"ticker\":{\"id\":\"15578\"}},\"id\":\"15577\",\"type\":\"CategoricalAxis\"},{\"attributes\":{\"end\":2,\"factors\":[\"a\",\"c\"],\"palette\":[\"#1f77b4\",\"#ff7f0e\"],\"start\":1},\"id\":\"15585\",\"type\":\"CategoricalColorMapper\"},{\"attributes\":{},\"id\":\"16073\",\"type\":\"BasicTickFormatter\"},{\"attributes\":{},\"id\":\"16075\",\"type\":\"AllLabels\"},{\"attributes\":{\"data\":{\"counts\":[0.216231268187427,0.09727623587753023,0.19307277610246326,0.09718030270605338,0.19839653704791252,0.20195408490823624,0.19559344625759664,0.28865553349912554,0.19625594699994062,0.3142844492329036,0.0004500254046599405,0.0006493937761510135],\"x\":[[\"very high mobility\",\"a\"],[\"very high mobility\",\"c\"],[\"high mobility\",\"a\"],[\"high mobility\",\"c\"],[\"middle mobility\",\"a\"],[\"middle mobility\",\"c\"],[\"low mobility\",\"a\"],[\"low mobility\",\"c\"],[\"very low mobility \",\"a\"],[\"very low mobility \",\"c\"],[\"none\",\"a\"],[\"none\",\"c\"]]},\"selected\":{\"id\":\"16080\"},\"selection_policy\":{\"id\":\"16079\"}},\"id\":\"15567\",\"type\":\"ColumnDataSource\"}],\"root_ids\":[\"15569\"]},\"title\":\"Bokeh Application\",\"version\":\"2.3.1\"}};\n",
       "  var render_items = [{\"docid\":\"fe5fe512-bea7-4fbe-8240-64350f709740\",\"root_ids\":[\"15569\"],\"roots\":{\"15569\":\"66739020-666c-4228-a874-cdf2b2da0078\"}}];\n",
       "  root.Bokeh.embed.embed_items_notebook(docs_json, render_items);\n",
       "\n",
       "  }\n",
       "  if (root.Bokeh !== undefined) {\n",
       "    embed_document(root);\n",
       "  } else {\n",
       "    var attempts = 0;\n",
       "    var timer = setInterval(function(root) {\n",
       "      if (root.Bokeh !== undefined) {\n",
       "        clearInterval(timer);\n",
       "        embed_document(root);\n",
       "      } else {\n",
       "        attempts++;\n",
       "        if (attempts > 100) {\n",
       "          clearInterval(timer);\n",
       "          console.log(\"Bokeh: ERROR: Unable to run BokehJS code because BokehJS library is missing\");\n",
       "        }\n",
       "      }\n",
       "    }, 10, root)\n",
       "  }\n",
       "})(window);"
      ],
      "application/vnd.bokehjs_exec.v0+json": ""
     },
     "metadata": {
      "application/vnd.bokehjs_exec.v0+json": {
       "id": "15569"
      }
     },
     "output_type": "display_data"
    },
    {
     "data": {
      "text/html": [
       "<div>\n",
       "<style scoped>\n",
       "    .dataframe tbody tr th:only-of-type {\n",
       "        vertical-align: middle;\n",
       "    }\n",
       "\n",
       "    .dataframe tbody tr th {\n",
       "        vertical-align: top;\n",
       "    }\n",
       "\n",
       "    .dataframe thead th {\n",
       "        text-align: right;\n",
       "    }\n",
       "</style>\n",
       "<table border=\"1\" class=\"dataframe\">\n",
       "  <thead>\n",
       "    <tr style=\"text-align: right;\">\n",
       "      <th></th>\n",
       "      <th>Attribute</th>\n",
       "      <th>Value</th>\n",
       "      <th>Meaning</th>\n",
       "    </tr>\n",
       "  </thead>\n",
       "  <tbody>\n",
       "    <tr>\n",
       "      <th>1987</th>\n",
       "      <td>MOBI_REGIO</td>\n",
       "      <td>1</td>\n",
       "      <td>very high mobility</td>\n",
       "    </tr>\n",
       "    <tr>\n",
       "      <th>1988</th>\n",
       "      <td>MOBI_REGIO</td>\n",
       "      <td>2</td>\n",
       "      <td>high mobility</td>\n",
       "    </tr>\n",
       "    <tr>\n",
       "      <th>1989</th>\n",
       "      <td>MOBI_REGIO</td>\n",
       "      <td>3</td>\n",
       "      <td>middle mobility</td>\n",
       "    </tr>\n",
       "    <tr>\n",
       "      <th>1990</th>\n",
       "      <td>MOBI_REGIO</td>\n",
       "      <td>4</td>\n",
       "      <td>low mobility</td>\n",
       "    </tr>\n",
       "    <tr>\n",
       "      <th>1991</th>\n",
       "      <td>MOBI_REGIO</td>\n",
       "      <td>5</td>\n",
       "      <td>very low mobility</td>\n",
       "    </tr>\n",
       "    <tr>\n",
       "      <th>1992</th>\n",
       "      <td>MOBI_REGIO</td>\n",
       "      <td>6</td>\n",
       "      <td>none</td>\n",
       "    </tr>\n",
       "  </tbody>\n",
       "</table>\n",
       "</div>"
      ],
      "text/plain": [
       "       Attribute Value             Meaning\n",
       "1987  MOBI_REGIO     1  very high mobility\n",
       "1988  MOBI_REGIO     2       high mobility\n",
       "1989  MOBI_REGIO     3     middle mobility\n",
       "1990  MOBI_REGIO     4        low mobility\n",
       "1991  MOBI_REGIO     5  very low mobility \n",
       "1992  MOBI_REGIO     6                none"
      ]
     },
     "metadata": {},
     "output_type": "display_data"
    },
    {
     "name": "stdout",
     "output_type": "stream",
     "text": [
      "==========================================================================================================================================================================================================================================\n"
     ]
    },
    {
     "data": {
      "text/html": [
       "\n",
       "\n",
       "\n",
       "\n",
       "\n",
       "\n",
       "  <div class=\"bk-root\" id=\"f213bd06-1e9c-4d54-beaa-4de2f1b97631\" data-root-id=\"16133\"></div>\n"
      ]
     },
     "metadata": {},
     "output_type": "display_data"
    },
    {
     "data": {
      "application/javascript": [
       "(function(root) {\n",
       "  function embed_document(root) {\n",
       "    \n",
       "  var docs_json = {\"2014f5bd-72a0-40e0-bbab-a7b16b7f8cf8\":{\"defs\":[],\"roots\":{\"references\":[{\"attributes\":{\"below\":[{\"id\":\"16141\"}],\"center\":[{\"id\":\"16143\"},{\"id\":\"16147\"}],\"height\":500,\"left\":[{\"id\":\"16144\"}],\"renderers\":[{\"id\":\"16153\"}],\"title\":{\"id\":\"16155\"},\"toolbar\":{\"id\":\"16148\"},\"toolbar_location\":null,\"width\":950,\"x_range\":{\"id\":\"16132\"},\"x_scale\":{\"id\":\"16137\"},\"y_range\":{\"id\":\"16135\"},\"y_scale\":{\"id\":\"16139\"}},\"id\":\"16133\",\"subtype\":\"Figure\",\"type\":\"Plot\"},{\"attributes\":{\"fill_color\":{\"field\":\"x\",\"transform\":{\"id\":\"16149\"}},\"line_color\":{\"value\":null},\"top\":{\"field\":\"counts\"},\"width\":{\"value\":0.9},\"x\":{\"field\":\"x\"}},\"id\":\"16151\",\"type\":\"VBar\"},{\"attributes\":{},\"id\":\"16649\",\"type\":\"AllLabels\"},{\"attributes\":{},\"id\":\"16650\",\"type\":\"CategoricalTickFormatter\"},{\"attributes\":{},\"id\":\"16652\",\"type\":\"AllLabels\"},{\"attributes\":{\"source\":{\"id\":\"16131\"}},\"id\":\"16154\",\"type\":\"CDSView\"},{\"attributes\":{\"data_source\":{\"id\":\"16131\"},\"glyph\":{\"id\":\"16151\"},\"hover_glyph\":null,\"muted_glyph\":null,\"nonselection_glyph\":{\"id\":\"16152\"},\"view\":{\"id\":\"16154\"}},\"id\":\"16153\",\"type\":\"GlyphRenderer\"},{\"attributes\":{\"text\":\"FINANZTYP [ks:0.2108 p:0.0000]\"},\"id\":\"16155\",\"type\":\"Title\"},{\"attributes\":{\"axis\":{\"id\":\"16144\"},\"dimension\":1,\"ticker\":null},\"id\":\"16147\",\"type\":\"Grid\"},{\"attributes\":{},\"id\":\"16145\",\"type\":\"BasicTicker\"},{\"attributes\":{},\"id\":\"16653\",\"type\":\"UnionRenderers\"},{\"attributes\":{},\"id\":\"16137\",\"type\":\"CategoricalScale\"},{\"attributes\":{},\"id\":\"16654\",\"type\":\"Selection\"},{\"attributes\":{\"axis\":{\"id\":\"16141\"},\"grid_line_color\":null,\"ticker\":null},\"id\":\"16143\",\"type\":\"Grid\"},{\"attributes\":{\"start\":0},\"id\":\"16135\",\"type\":\"DataRange1d\"},{\"attributes\":{\"active_multi\":null},\"id\":\"16148\",\"type\":\"Toolbar\"},{\"attributes\":{},\"id\":\"16142\",\"type\":\"CategoricalTicker\"},{\"attributes\":{\"factors\":[[\"low finacial interest\",\"a\"],[\"low finacial interest\",\"c\"],[\"money saver\",\"a\"],[\"money saver\",\"c\"],[\"main focus is the own house\",\"a\"],[\"main focus is the own house\",\"c\"],[\"be prepared\",\"a\"],[\"be prepared\",\"c\"],[\"Investor\",\"a\"],[\"Investor\",\"c\"],[\"unremarkable\",\"a\"],[\"unremarkable\",\"c\"]]},\"id\":\"16132\",\"type\":\"FactorRange\"},{\"attributes\":{\"fill_alpha\":{\"value\":0.1},\"fill_color\":{\"field\":\"x\",\"transform\":{\"id\":\"16149\"}},\"line_alpha\":{\"value\":0.1},\"line_color\":{\"value\":null},\"top\":{\"field\":\"counts\"},\"width\":{\"value\":0.9},\"x\":{\"field\":\"x\"}},\"id\":\"16152\",\"type\":\"VBar\"},{\"attributes\":{},\"id\":\"16139\",\"type\":\"LinearScale\"},{\"attributes\":{\"data\":{\"counts\":[0.23783969350997355,0.027070021299254527,0.1320879990654629,0.29442891373801916,0.06357951551879922,0.03478434504792332,0.09362059223905078,0.047876730564430245,0.12682049973894946,0.31106230031948884,0.3460516999277641,0.2847776890308839],\"x\":[[\"low finacial interest\",\"a\"],[\"low finacial interest\",\"c\"],[\"money saver\",\"a\"],[\"money saver\",\"c\"],[\"main focus is the own house\",\"a\"],[\"main focus is the own house\",\"c\"],[\"be prepared\",\"a\"],[\"be prepared\",\"c\"],[\"Investor\",\"a\"],[\"Investor\",\"c\"],[\"unremarkable\",\"a\"],[\"unremarkable\",\"c\"]]},\"selected\":{\"id\":\"16654\"},\"selection_policy\":{\"id\":\"16653\"}},\"id\":\"16131\",\"type\":\"ColumnDataSource\"},{\"attributes\":{\"formatter\":{\"id\":\"16647\"},\"major_label_policy\":{\"id\":\"16649\"},\"ticker\":{\"id\":\"16145\"}},\"id\":\"16144\",\"type\":\"LinearAxis\"},{\"attributes\":{\"formatter\":{\"id\":\"16650\"},\"group_label_orientation\":1.5707963267948966,\"major_label_orientation\":0,\"major_label_policy\":{\"id\":\"16652\"},\"ticker\":{\"id\":\"16142\"}},\"id\":\"16141\",\"type\":\"CategoricalAxis\"},{\"attributes\":{\"end\":2,\"factors\":[\"a\",\"c\"],\"palette\":[\"#1f77b4\",\"#ff7f0e\"],\"start\":1},\"id\":\"16149\",\"type\":\"CategoricalColorMapper\"},{\"attributes\":{},\"id\":\"16647\",\"type\":\"BasicTickFormatter\"}],\"root_ids\":[\"16133\"]},\"title\":\"Bokeh Application\",\"version\":\"2.3.1\"}};\n",
       "  var render_items = [{\"docid\":\"2014f5bd-72a0-40e0-bbab-a7b16b7f8cf8\",\"root_ids\":[\"16133\"],\"roots\":{\"16133\":\"f213bd06-1e9c-4d54-beaa-4de2f1b97631\"}}];\n",
       "  root.Bokeh.embed.embed_items_notebook(docs_json, render_items);\n",
       "\n",
       "  }\n",
       "  if (root.Bokeh !== undefined) {\n",
       "    embed_document(root);\n",
       "  } else {\n",
       "    var attempts = 0;\n",
       "    var timer = setInterval(function(root) {\n",
       "      if (root.Bokeh !== undefined) {\n",
       "        clearInterval(timer);\n",
       "        embed_document(root);\n",
       "      } else {\n",
       "        attempts++;\n",
       "        if (attempts > 100) {\n",
       "          clearInterval(timer);\n",
       "          console.log(\"Bokeh: ERROR: Unable to run BokehJS code because BokehJS library is missing\");\n",
       "        }\n",
       "      }\n",
       "    }, 10, root)\n",
       "  }\n",
       "})(window);"
      ],
      "application/vnd.bokehjs_exec.v0+json": ""
     },
     "metadata": {
      "application/vnd.bokehjs_exec.v0+json": {
       "id": "16133"
      }
     },
     "output_type": "display_data"
    },
    {
     "data": {
      "text/html": [
       "<div>\n",
       "<style scoped>\n",
       "    .dataframe tbody tr th:only-of-type {\n",
       "        vertical-align: middle;\n",
       "    }\n",
       "\n",
       "    .dataframe tbody tr th {\n",
       "        vertical-align: top;\n",
       "    }\n",
       "\n",
       "    .dataframe thead th {\n",
       "        text-align: right;\n",
       "    }\n",
       "</style>\n",
       "<table border=\"1\" class=\"dataframe\">\n",
       "  <thead>\n",
       "    <tr style=\"text-align: right;\">\n",
       "      <th></th>\n",
       "      <th>Attribute</th>\n",
       "      <th>Value</th>\n",
       "      <th>Meaning</th>\n",
       "    </tr>\n",
       "  </thead>\n",
       "  <tbody>\n",
       "    <tr>\n",
       "      <th>654</th>\n",
       "      <td>FINANZTYP</td>\n",
       "      <td>-1</td>\n",
       "      <td>unknown</td>\n",
       "    </tr>\n",
       "    <tr>\n",
       "      <th>655</th>\n",
       "      <td>FINANZTYP</td>\n",
       "      <td>1</td>\n",
       "      <td>low finacial interest</td>\n",
       "    </tr>\n",
       "    <tr>\n",
       "      <th>656</th>\n",
       "      <td>FINANZTYP</td>\n",
       "      <td>2</td>\n",
       "      <td>money saver</td>\n",
       "    </tr>\n",
       "    <tr>\n",
       "      <th>657</th>\n",
       "      <td>FINANZTYP</td>\n",
       "      <td>3</td>\n",
       "      <td>main focus is the own house</td>\n",
       "    </tr>\n",
       "    <tr>\n",
       "      <th>658</th>\n",
       "      <td>FINANZTYP</td>\n",
       "      <td>4</td>\n",
       "      <td>be prepared</td>\n",
       "    </tr>\n",
       "    <tr>\n",
       "      <th>659</th>\n",
       "      <td>FINANZTYP</td>\n",
       "      <td>5</td>\n",
       "      <td>Investor</td>\n",
       "    </tr>\n",
       "    <tr>\n",
       "      <th>660</th>\n",
       "      <td>FINANZTYP</td>\n",
       "      <td>6</td>\n",
       "      <td>unremarkable</td>\n",
       "    </tr>\n",
       "  </tbody>\n",
       "</table>\n",
       "</div>"
      ],
      "text/plain": [
       "     Attribute Value                      Meaning\n",
       "654  FINANZTYP    -1                      unknown\n",
       "655  FINANZTYP     1        low finacial interest\n",
       "656  FINANZTYP     2                  money saver\n",
       "657  FINANZTYP     3  main focus is the own house\n",
       "658  FINANZTYP     4                  be prepared\n",
       "659  FINANZTYP     5                     Investor\n",
       "660  FINANZTYP     6                 unremarkable"
      ]
     },
     "metadata": {},
     "output_type": "display_data"
    },
    {
     "name": "stdout",
     "output_type": "stream",
     "text": [
      "==========================================================================================================================================================================================================================================\n"
     ]
    },
    {
     "data": {
      "text/html": [
       "\n",
       "\n",
       "\n",
       "\n",
       "\n",
       "\n",
       "  <div class=\"bk-root\" id=\"4c03550f-a34f-4b6d-843d-246cfefa1d49\" data-root-id=\"16707\"></div>\n"
      ]
     },
     "metadata": {},
     "output_type": "display_data"
    },
    {
     "data": {
      "application/javascript": [
       "(function(root) {\n",
       "  function embed_document(root) {\n",
       "    \n",
       "  var docs_json = {\"d1d79ac6-ac47-4e20-ba47-b163cee0abd2\":{\"defs\":[],\"roots\":{\"references\":[{\"attributes\":{\"below\":[{\"id\":\"16715\"}],\"center\":[{\"id\":\"16717\"},{\"id\":\"16721\"}],\"height\":500,\"left\":[{\"id\":\"16718\"}],\"renderers\":[{\"id\":\"16727\"}],\"title\":{\"id\":\"16729\"},\"toolbar\":{\"id\":\"16722\"},\"toolbar_location\":null,\"width\":950,\"x_range\":{\"id\":\"16706\"},\"x_scale\":{\"id\":\"16711\"},\"y_range\":{\"id\":\"16709\"},\"y_scale\":{\"id\":\"16713\"}},\"id\":\"16707\",\"subtype\":\"Figure\",\"type\":\"Plot\"},{\"attributes\":{},\"id\":\"17231\",\"type\":\"BasicTickFormatter\"},{\"attributes\":{},\"id\":\"17233\",\"type\":\"AllLabels\"},{\"attributes\":{\"fill_color\":{\"field\":\"x\",\"transform\":{\"id\":\"16723\"}},\"line_color\":{\"value\":null},\"top\":{\"field\":\"counts\"},\"width\":{\"value\":0.9},\"x\":{\"field\":\"x\"}},\"id\":\"16725\",\"type\":\"VBar\"},{\"attributes\":{},\"id\":\"17234\",\"type\":\"CategoricalTickFormatter\"},{\"attributes\":{},\"id\":\"17236\",\"type\":\"AllLabels\"},{\"attributes\":{\"source\":{\"id\":\"16705\"}},\"id\":\"16728\",\"type\":\"CDSView\"},{\"attributes\":{\"data_source\":{\"id\":\"16705\"},\"glyph\":{\"id\":\"16725\"},\"hover_glyph\":null,\"muted_glyph\":null,\"nonselection_glyph\":{\"id\":\"16726\"},\"view\":{\"id\":\"16728\"}},\"id\":\"16727\",\"type\":\"GlyphRenderer\"},{\"attributes\":{\"axis\":{\"id\":\"16718\"},\"dimension\":1,\"ticker\":null},\"id\":\"16721\",\"type\":\"Grid\"},{\"attributes\":{\"text\":\"WOHNDAUER_2008 [ks:0.2034 p:0.0000]\"},\"id\":\"16729\",\"type\":\"Title\"},{\"attributes\":{\"formatter\":{\"id\":\"17234\"},\"group_label_orientation\":1.5707963267948966,\"major_label_orientation\":0,\"major_label_policy\":{\"id\":\"17236\"},\"ticker\":{\"id\":\"16716\"}},\"id\":\"16715\",\"type\":\"CategoricalAxis\"},{\"attributes\":{\"formatter\":{\"id\":\"17231\"},\"major_label_policy\":{\"id\":\"17233\"},\"ticker\":{\"id\":\"16719\"}},\"id\":\"16718\",\"type\":\"LinearAxis\"},{\"attributes\":{\"axis\":{\"id\":\"16715\"},\"grid_line_color\":null,\"ticker\":null},\"id\":\"16717\",\"type\":\"Grid\"},{\"attributes\":{},\"id\":\"17237\",\"type\":\"UnionRenderers\"},{\"attributes\":{\"active_multi\":null},\"id\":\"16722\",\"type\":\"Toolbar\"},{\"attributes\":{\"start\":0},\"id\":\"16709\",\"type\":\"DataRange1d\"},{\"attributes\":{},\"id\":\"17238\",\"type\":\"Selection\"},{\"attributes\":{},\"id\":\"16719\",\"type\":\"BasicTicker\"},{\"attributes\":{},\"id\":\"16716\",\"type\":\"CategoricalTicker\"},{\"attributes\":{\"fill_alpha\":{\"value\":0.1},\"fill_color\":{\"field\":\"x\",\"transform\":{\"id\":\"16723\"}},\"line_alpha\":{\"value\":0.1},\"line_color\":{\"value\":null},\"top\":{\"field\":\"counts\"},\"width\":{\"value\":0.9},\"x\":{\"field\":\"x\"}},\"id\":\"16726\",\"type\":\"VBar\"},{\"attributes\":{\"factors\":[[\"length of residence below 1 year\",\"a\"],[\"length of residence below 1 year\",\"c\"],[\"length of residence 1-2 years\",\"a\"],[\"length of residence 1-2 years\",\"c\"],[\"length of residence 2-3 years\",\"a\"],[\"length of residence 2-3 years\",\"c\"],[\"length of residence 3-4 years\",\"a\"],[\"length of residence 3-4 years\",\"c\"],[\"length of residence 4-5 years\",\"a\"],[\"length of residence 4-5 years\",\"c\"],[\"length of residence 5-6 years\",\"a\"],[\"length of residence 5-6 years\",\"c\"],[\"length of residence 6-7 years\",\"a\"],[\"length of residence 6-7 years\",\"c\"],[\"length of residence 7-10 years\",\"a\"],[\"length of residence 7-10 years\",\"c\"],[\"length of residence more than 10 years\",\"a\"],[\"length of residence more than 10 years\",\"c\"]]},\"id\":\"16706\",\"type\":\"FactorRange\"},{\"attributes\":{\"data\":{\"counts\":[0.0008354750281040099,0.0006763985229664907,0.0075523028162725585,0.00033819926148324534,0.047420241492650145,0.014583980398246885,0.06206123799539816,0.017054905614797944,0.03786793622989141,0.012278703799565173,0.0430214593534671,0.01621285847396211,0.029280769762409495,0.013721227180177382,0.09799889663473595,0.047727508023604925,0.6739616806870712,0.8774062187251959],\"x\":[[\"length of residence below 1 year\",\"a\"],[\"length of residence below 1 year\",\"c\"],[\"length of residence 1-2 years\",\"a\"],[\"length of residence 1-2 years\",\"c\"],[\"length of residence 2-3 years\",\"a\"],[\"length of residence 2-3 years\",\"c\"],[\"length of residence 3-4 years\",\"a\"],[\"length of residence 3-4 years\",\"c\"],[\"length of residence 4-5 years\",\"a\"],[\"length of residence 4-5 years\",\"c\"],[\"length of residence 5-6 years\",\"a\"],[\"length of residence 5-6 years\",\"c\"],[\"length of residence 6-7 years\",\"a\"],[\"length of residence 6-7 years\",\"c\"],[\"length of residence 7-10 years\",\"a\"],[\"length of residence 7-10 years\",\"c\"],[\"length of residence more than 10 years\",\"a\"],[\"length of residence more than 10 years\",\"c\"]]},\"selected\":{\"id\":\"17238\"},\"selection_policy\":{\"id\":\"17237\"}},\"id\":\"16705\",\"type\":\"ColumnDataSource\"},{\"attributes\":{},\"id\":\"16713\",\"type\":\"LinearScale\"},{\"attributes\":{},\"id\":\"16711\",\"type\":\"CategoricalScale\"},{\"attributes\":{\"end\":2,\"factors\":[\"a\",\"c\"],\"palette\":[\"#1f77b4\",\"#ff7f0e\"],\"start\":1},\"id\":\"16723\",\"type\":\"CategoricalColorMapper\"}],\"root_ids\":[\"16707\"]},\"title\":\"Bokeh Application\",\"version\":\"2.3.1\"}};\n",
       "  var render_items = [{\"docid\":\"d1d79ac6-ac47-4e20-ba47-b163cee0abd2\",\"root_ids\":[\"16707\"],\"roots\":{\"16707\":\"4c03550f-a34f-4b6d-843d-246cfefa1d49\"}}];\n",
       "  root.Bokeh.embed.embed_items_notebook(docs_json, render_items);\n",
       "\n",
       "  }\n",
       "  if (root.Bokeh !== undefined) {\n",
       "    embed_document(root);\n",
       "  } else {\n",
       "    var attempts = 0;\n",
       "    var timer = setInterval(function(root) {\n",
       "      if (root.Bokeh !== undefined) {\n",
       "        clearInterval(timer);\n",
       "        embed_document(root);\n",
       "      } else {\n",
       "        attempts++;\n",
       "        if (attempts > 100) {\n",
       "          clearInterval(timer);\n",
       "          console.log(\"Bokeh: ERROR: Unable to run BokehJS code because BokehJS library is missing\");\n",
       "        }\n",
       "      }\n",
       "    }, 10, root)\n",
       "  }\n",
       "})(window);"
      ],
      "application/vnd.bokehjs_exec.v0+json": ""
     },
     "metadata": {
      "application/vnd.bokehjs_exec.v0+json": {
       "id": "16707"
      }
     },
     "output_type": "display_data"
    },
    {
     "data": {
      "text/html": [
       "<div>\n",
       "<style scoped>\n",
       "    .dataframe tbody tr th:only-of-type {\n",
       "        vertical-align: middle;\n",
       "    }\n",
       "\n",
       "    .dataframe tbody tr th {\n",
       "        vertical-align: top;\n",
       "    }\n",
       "\n",
       "    .dataframe thead th {\n",
       "        text-align: right;\n",
       "    }\n",
       "</style>\n",
       "<table border=\"1\" class=\"dataframe\">\n",
       "  <thead>\n",
       "    <tr style=\"text-align: right;\">\n",
       "      <th></th>\n",
       "      <th>Attribute</th>\n",
       "      <th>Value</th>\n",
       "      <th>Meaning</th>\n",
       "    </tr>\n",
       "  </thead>\n",
       "  <tbody>\n",
       "    <tr>\n",
       "      <th>2219</th>\n",
       "      <td>WOHNDAUER_2008</td>\n",
       "      <td>-1, 0</td>\n",
       "      <td>unknown</td>\n",
       "    </tr>\n",
       "    <tr>\n",
       "      <th>2220</th>\n",
       "      <td>WOHNDAUER_2008</td>\n",
       "      <td>1</td>\n",
       "      <td>length of residence below 1 year</td>\n",
       "    </tr>\n",
       "    <tr>\n",
       "      <th>2221</th>\n",
       "      <td>WOHNDAUER_2008</td>\n",
       "      <td>2</td>\n",
       "      <td>length of residence 1-2 years</td>\n",
       "    </tr>\n",
       "    <tr>\n",
       "      <th>2222</th>\n",
       "      <td>WOHNDAUER_2008</td>\n",
       "      <td>3</td>\n",
       "      <td>length of residence 2-3 years</td>\n",
       "    </tr>\n",
       "    <tr>\n",
       "      <th>2223</th>\n",
       "      <td>WOHNDAUER_2008</td>\n",
       "      <td>4</td>\n",
       "      <td>length of residence 3-4 years</td>\n",
       "    </tr>\n",
       "    <tr>\n",
       "      <th>2224</th>\n",
       "      <td>WOHNDAUER_2008</td>\n",
       "      <td>5</td>\n",
       "      <td>length of residence 4-5 years</td>\n",
       "    </tr>\n",
       "    <tr>\n",
       "      <th>2225</th>\n",
       "      <td>WOHNDAUER_2008</td>\n",
       "      <td>6</td>\n",
       "      <td>length of residence 5-6 years</td>\n",
       "    </tr>\n",
       "    <tr>\n",
       "      <th>2226</th>\n",
       "      <td>WOHNDAUER_2008</td>\n",
       "      <td>7</td>\n",
       "      <td>length of residence 6-7 years</td>\n",
       "    </tr>\n",
       "    <tr>\n",
       "      <th>2227</th>\n",
       "      <td>WOHNDAUER_2008</td>\n",
       "      <td>8</td>\n",
       "      <td>length of residence 7-10 years</td>\n",
       "    </tr>\n",
       "    <tr>\n",
       "      <th>2228</th>\n",
       "      <td>WOHNDAUER_2008</td>\n",
       "      <td>9</td>\n",
       "      <td>length of residence more than 10 years</td>\n",
       "    </tr>\n",
       "  </tbody>\n",
       "</table>\n",
       "</div>"
      ],
      "text/plain": [
       "           Attribute  Value                                 Meaning\n",
       "2219  WOHNDAUER_2008  -1, 0                                 unknown\n",
       "2220  WOHNDAUER_2008      1        length of residence below 1 year\n",
       "2221  WOHNDAUER_2008      2           length of residence 1-2 years\n",
       "2222  WOHNDAUER_2008      3           length of residence 2-3 years\n",
       "2223  WOHNDAUER_2008      4           length of residence 3-4 years\n",
       "2224  WOHNDAUER_2008      5           length of residence 4-5 years\n",
       "2225  WOHNDAUER_2008      6           length of residence 5-6 years\n",
       "2226  WOHNDAUER_2008      7           length of residence 6-7 years\n",
       "2227  WOHNDAUER_2008      8          length of residence 7-10 years\n",
       "2228  WOHNDAUER_2008      9  length of residence more than 10 years"
      ]
     },
     "metadata": {},
     "output_type": "display_data"
    },
    {
     "name": "stdout",
     "output_type": "stream",
     "text": [
      "==========================================================================================================================================================================================================================================\n"
     ]
    },
    {
     "data": {
      "text/html": [
       "\n",
       "\n",
       "\n",
       "\n",
       "\n",
       "\n",
       "  <div class=\"bk-root\" id=\"f533ded3-5814-4517-aab1-c5ce25cd5c47\" data-root-id=\"17291\"></div>\n"
      ]
     },
     "metadata": {},
     "output_type": "display_data"
    },
    {
     "data": {
      "application/javascript": [
       "(function(root) {\n",
       "  function embed_document(root) {\n",
       "    \n",
       "  var docs_json = {\"7ec46ff6-74da-4439-b2ef-874d367ca994\":{\"defs\":[],\"roots\":{\"references\":[{\"attributes\":{\"below\":[{\"id\":\"17299\"}],\"center\":[{\"id\":\"17301\"},{\"id\":\"17305\"}],\"height\":500,\"left\":[{\"id\":\"17302\"}],\"renderers\":[{\"id\":\"17311\"}],\"title\":{\"id\":\"17313\"},\"toolbar\":{\"id\":\"17306\"},\"toolbar_location\":null,\"width\":950,\"x_range\":{\"id\":\"17290\"},\"x_scale\":{\"id\":\"17295\"},\"y_range\":{\"id\":\"17293\"},\"y_scale\":{\"id\":\"17297\"}},\"id\":\"17291\",\"subtype\":\"Figure\",\"type\":\"Plot\"},{\"attributes\":{},\"id\":\"17297\",\"type\":\"LinearScale\"},{\"attributes\":{\"factors\":[[\"highest affinity\",\"a\"],[\"highest affinity\",\"c\"],[\"very high affinity\",\"a\"],[\"very high affinity\",\"c\"],[\"high affinity\",\"a\"],[\"high affinity\",\"c\"],[\"average affinity\",\"a\"],[\"average affinity\",\"c\"],[\"low affinity\",\"a\"],[\"low affinity\",\"c\"],[\"very low affinity\",\"a\"],[\"very low affinity\",\"c\"],[\"lowest affinity\",\"a\"],[\"lowest affinity\",\"c\"]]},\"id\":\"17290\",\"type\":\"FactorRange\"},{\"attributes\":{},\"id\":\"17295\",\"type\":\"CategoricalScale\"},{\"attributes\":{\"end\":2,\"factors\":[\"a\",\"c\"],\"palette\":[\"#1f77b4\",\"#ff7f0e\"],\"start\":1},\"id\":\"17307\",\"type\":\"CategoricalColorMapper\"},{\"attributes\":{\"data\":{\"counts\":[0.056260564202937596,0.11979499467518637,0.1359072042797985,0.13322683706070287,0.21565754936716103,0.35048588924387647,0.09409024481534548,0.04717119275825346,0.15315680435990167,0.1064563365282215,0.18333377040425883,0.1681975505857295,0.16159386257059688,0.07466719914802981],\"x\":[[\"highest affinity\",\"a\"],[\"highest affinity\",\"c\"],[\"very high affinity\",\"a\"],[\"very high affinity\",\"c\"],[\"high affinity\",\"a\"],[\"high affinity\",\"c\"],[\"average affinity\",\"a\"],[\"average affinity\",\"c\"],[\"low affinity\",\"a\"],[\"low affinity\",\"c\"],[\"very low affinity\",\"a\"],[\"very low affinity\",\"c\"],[\"lowest affinity\",\"a\"],[\"lowest affinity\",\"c\"]]},\"selected\":{\"id\":\"17832\"},\"selection_policy\":{\"id\":\"17831\"}},\"id\":\"17289\",\"type\":\"ColumnDataSource\"},{\"attributes\":{},\"id\":\"17825\",\"type\":\"BasicTickFormatter\"},{\"attributes\":{},\"id\":\"17827\",\"type\":\"AllLabels\"},{\"attributes\":{},\"id\":\"17828\",\"type\":\"CategoricalTickFormatter\"},{\"attributes\":{},\"id\":\"17830\",\"type\":\"AllLabels\"},{\"attributes\":{\"source\":{\"id\":\"17289\"}},\"id\":\"17312\",\"type\":\"CDSView\"},{\"attributes\":{\"formatter\":{\"id\":\"17825\"},\"major_label_policy\":{\"id\":\"17827\"},\"ticker\":{\"id\":\"17303\"}},\"id\":\"17302\",\"type\":\"LinearAxis\"},{\"attributes\":{\"data_source\":{\"id\":\"17289\"},\"glyph\":{\"id\":\"17309\"},\"hover_glyph\":null,\"muted_glyph\":null,\"nonselection_glyph\":{\"id\":\"17310\"},\"view\":{\"id\":\"17312\"}},\"id\":\"17311\",\"type\":\"GlyphRenderer\"},{\"attributes\":{\"formatter\":{\"id\":\"17828\"},\"group_label_orientation\":1.5707963267948966,\"major_label_orientation\":0,\"major_label_policy\":{\"id\":\"17830\"},\"ticker\":{\"id\":\"17300\"}},\"id\":\"17299\",\"type\":\"CategoricalAxis\"},{\"attributes\":{\"text\":\"SEMIO_KAEM [ks:0.1957 p:0.0000]\"},\"id\":\"17313\",\"type\":\"Title\"},{\"attributes\":{\"axis\":{\"id\":\"17299\"},\"grid_line_color\":null,\"ticker\":null},\"id\":\"17301\",\"type\":\"Grid\"},{\"attributes\":{\"axis\":{\"id\":\"17302\"},\"dimension\":1,\"ticker\":null},\"id\":\"17305\",\"type\":\"Grid\"},{\"attributes\":{},\"id\":\"17303\",\"type\":\"BasicTicker\"},{\"attributes\":{},\"id\":\"17831\",\"type\":\"UnionRenderers\"},{\"attributes\":{\"fill_color\":{\"field\":\"x\",\"transform\":{\"id\":\"17307\"}},\"line_color\":{\"value\":null},\"top\":{\"field\":\"counts\"},\"width\":{\"value\":0.9},\"x\":{\"field\":\"x\"}},\"id\":\"17309\",\"type\":\"VBar\"},{\"attributes\":{},\"id\":\"17832\",\"type\":\"Selection\"},{\"attributes\":{},\"id\":\"17300\",\"type\":\"CategoricalTicker\"},{\"attributes\":{\"start\":0},\"id\":\"17293\",\"type\":\"DataRange1d\"},{\"attributes\":{\"active_multi\":null},\"id\":\"17306\",\"type\":\"Toolbar\"},{\"attributes\":{\"fill_alpha\":{\"value\":0.1},\"fill_color\":{\"field\":\"x\",\"transform\":{\"id\":\"17307\"}},\"line_alpha\":{\"value\":0.1},\"line_color\":{\"value\":null},\"top\":{\"field\":\"counts\"},\"width\":{\"value\":0.9},\"x\":{\"field\":\"x\"}},\"id\":\"17310\",\"type\":\"VBar\"}],\"root_ids\":[\"17291\"]},\"title\":\"Bokeh Application\",\"version\":\"2.3.1\"}};\n",
       "  var render_items = [{\"docid\":\"7ec46ff6-74da-4439-b2ef-874d367ca994\",\"root_ids\":[\"17291\"],\"roots\":{\"17291\":\"f533ded3-5814-4517-aab1-c5ce25cd5c47\"}}];\n",
       "  root.Bokeh.embed.embed_items_notebook(docs_json, render_items);\n",
       "\n",
       "  }\n",
       "  if (root.Bokeh !== undefined) {\n",
       "    embed_document(root);\n",
       "  } else {\n",
       "    var attempts = 0;\n",
       "    var timer = setInterval(function(root) {\n",
       "      if (root.Bokeh !== undefined) {\n",
       "        clearInterval(timer);\n",
       "        embed_document(root);\n",
       "      } else {\n",
       "        attempts++;\n",
       "        if (attempts > 100) {\n",
       "          clearInterval(timer);\n",
       "          console.log(\"Bokeh: ERROR: Unable to run BokehJS code because BokehJS library is missing\");\n",
       "        }\n",
       "      }\n",
       "    }, 10, root)\n",
       "  }\n",
       "})(window);"
      ],
      "application/vnd.bokehjs_exec.v0+json": ""
     },
     "metadata": {
      "application/vnd.bokehjs_exec.v0+json": {
       "id": "17291"
      }
     },
     "output_type": "display_data"
    },
    {
     "data": {
      "text/html": [
       "<div>\n",
       "<style scoped>\n",
       "    .dataframe tbody tr th:only-of-type {\n",
       "        vertical-align: middle;\n",
       "    }\n",
       "\n",
       "    .dataframe tbody tr th {\n",
       "        vertical-align: top;\n",
       "    }\n",
       "\n",
       "    .dataframe thead th {\n",
       "        text-align: right;\n",
       "    }\n",
       "</style>\n",
       "<table border=\"1\" class=\"dataframe\">\n",
       "  <thead>\n",
       "    <tr style=\"text-align: right;\">\n",
       "      <th></th>\n",
       "      <th>Attribute</th>\n",
       "      <th>Value</th>\n",
       "      <th>Meaning</th>\n",
       "    </tr>\n",
       "  </thead>\n",
       "  <tbody>\n",
       "    <tr>\n",
       "      <th>2114</th>\n",
       "      <td>SEMIO_KAEM</td>\n",
       "      <td>-1, 9</td>\n",
       "      <td>unknown</td>\n",
       "    </tr>\n",
       "    <tr>\n",
       "      <th>2115</th>\n",
       "      <td>SEMIO_KAEM</td>\n",
       "      <td>1</td>\n",
       "      <td>highest affinity</td>\n",
       "    </tr>\n",
       "    <tr>\n",
       "      <th>2116</th>\n",
       "      <td>SEMIO_KAEM</td>\n",
       "      <td>2</td>\n",
       "      <td>very high affinity</td>\n",
       "    </tr>\n",
       "    <tr>\n",
       "      <th>2117</th>\n",
       "      <td>SEMIO_KAEM</td>\n",
       "      <td>3</td>\n",
       "      <td>high affinity</td>\n",
       "    </tr>\n",
       "    <tr>\n",
       "      <th>2118</th>\n",
       "      <td>SEMIO_KAEM</td>\n",
       "      <td>4</td>\n",
       "      <td>average affinity</td>\n",
       "    </tr>\n",
       "    <tr>\n",
       "      <th>2119</th>\n",
       "      <td>SEMIO_KAEM</td>\n",
       "      <td>5</td>\n",
       "      <td>low affinity</td>\n",
       "    </tr>\n",
       "    <tr>\n",
       "      <th>2120</th>\n",
       "      <td>SEMIO_KAEM</td>\n",
       "      <td>6</td>\n",
       "      <td>very low affinity</td>\n",
       "    </tr>\n",
       "    <tr>\n",
       "      <th>2121</th>\n",
       "      <td>SEMIO_KAEM</td>\n",
       "      <td>7</td>\n",
       "      <td>lowest affinity</td>\n",
       "    </tr>\n",
       "  </tbody>\n",
       "</table>\n",
       "</div>"
      ],
      "text/plain": [
       "       Attribute  Value             Meaning\n",
       "2114  SEMIO_KAEM  -1, 9             unknown\n",
       "2115  SEMIO_KAEM      1    highest affinity\n",
       "2116  SEMIO_KAEM      2  very high affinity\n",
       "2117  SEMIO_KAEM      3       high affinity\n",
       "2118  SEMIO_KAEM      4    average affinity\n",
       "2119  SEMIO_KAEM      5        low affinity\n",
       "2120  SEMIO_KAEM      6   very low affinity\n",
       "2121  SEMIO_KAEM      7     lowest affinity"
      ]
     },
     "metadata": {},
     "output_type": "display_data"
    },
    {
     "name": "stdout",
     "output_type": "stream",
     "text": [
      "==========================================================================================================================================================================================================================================\n"
     ]
    },
    {
     "data": {
      "text/html": [
       "\n",
       "\n",
       "\n",
       "\n",
       "\n",
       "\n",
       "  <div class=\"bk-root\" id=\"9773ba6a-9a35-4c40-9302-ef6c4ceeb567\" data-root-id=\"17885\"></div>\n"
      ]
     },
     "metadata": {},
     "output_type": "display_data"
    },
    {
     "data": {
      "application/javascript": [
       "(function(root) {\n",
       "  function embed_document(root) {\n",
       "    \n",
       "  var docs_json = {\"56d1d03b-0953-404e-a413-030c015515b8\":{\"defs\":[],\"roots\":{\"references\":[{\"attributes\":{\"below\":[{\"id\":\"17893\"}],\"center\":[{\"id\":\"17895\"},{\"id\":\"17899\"}],\"height\":500,\"left\":[{\"id\":\"17896\"}],\"renderers\":[{\"id\":\"17905\"}],\"title\":{\"id\":\"17907\"},\"toolbar\":{\"id\":\"17900\"},\"toolbar_location\":null,\"width\":950,\"x_range\":{\"id\":\"17884\"},\"x_scale\":{\"id\":\"17889\"},\"y_range\":{\"id\":\"17887\"},\"y_scale\":{\"id\":\"17891\"}},\"id\":\"17885\",\"subtype\":\"Figure\",\"type\":\"Plot\"},{\"attributes\":{\"factors\":[[\"1\",\"a\"],[\"1\",\"c\"],[\"2\",\"a\"],[\"2\",\"c\"],[\"3\",\"a\"],[\"3\",\"c\"],[\"4\",\"a\"],[\"4\",\"c\"],[\"5\",\"a\"],[\"5\",\"c\"],[\"6\",\"a\"],[\"6\",\"c\"],[\"7\",\"a\"],[\"7\",\"c\"],[\"8\",\"a\"],[\"8\",\"c\"],[\"9\",\"a\"],[\"9\",\"c\"],[\"10\",\"a\"],[\"10\",\"c\"],[\"11\",\"a\"],[\"11\",\"c\"],[\"12\",\"a\"],[\"12\",\"c\"],[\"13\",\"a\"],[\"13\",\"c\"],[\"14\",\"a\"],[\"14\",\"c\"],[\"15\",\"a\"],[\"15\",\"c\"],[\"16\",\"a\"],[\"16\",\"c\"],[\"17\",\"a\"],[\"17\",\"c\"],[\"18\",\"a\"],[\"18\",\"c\"],[\"19\",\"a\"],[\"19\",\"c\"],[\"20\",\"a\"],[\"20\",\"c\"],[\"21\",\"a\"],[\"21\",\"c\"],[\"22\",\"a\"],[\"22\",\"c\"],[\"23\",\"a\"],[\"23\",\"c\"],[\"24\",\"a\"],[\"24\",\"c\"],[\"25\",\"a\"],[\"25\",\"c\"],[\"26\",\"a\"],[\"26\",\"c\"],[\"27\",\"a\"],[\"27\",\"c\"],[\"28\",\"a\"],[\"28\",\"c\"],[\"29\",\"a\"],[\"29\",\"c\"],[\"30\",\"a\"],[\"30\",\"c\"],[\"31\",\"a\"],[\"31\",\"c\"],[\"32\",\"a\"],[\"32\",\"c\"],[\"33\",\"a\"],[\"33\",\"c\"],[\"34\",\"a\"],[\"34\",\"c\"],[\"35\",\"a\"],[\"35\",\"c\"],[\"36\",\"a\"],[\"36\",\"c\"],[\"37\",\"a\"],[\"37\",\"c\"],[\"38\",\"a\"],[\"38\",\"c\"],[\"39\",\"a\"],[\"39\",\"c\"],[\"40\",\"a\"],[\"40\",\"c\"],[\"41\",\"a\"],[\"41\",\"c\"],[\"42\",\"a\"],[\"42\",\"c\"],[\"43\",\"a\"],[\"43\",\"c\"],[\"44\",\"a\"],[\"44\",\"c\"]]},\"id\":\"17884\",\"type\":\"FactorRange\"},{\"attributes\":{\"formatter\":{\"id\":\"18429\"},\"major_label_policy\":{\"id\":\"18431\"},\"ticker\":{\"id\":\"17897\"}},\"id\":\"17896\",\"type\":\"LinearAxis\"},{\"attributes\":{\"active_multi\":null},\"id\":\"17900\",\"type\":\"Toolbar\"},{\"attributes\":{},\"id\":\"17889\",\"type\":\"CategoricalScale\"},{\"attributes\":{},\"id\":\"18429\",\"type\":\"BasicTickFormatter\"},{\"attributes\":{},\"id\":\"18431\",\"type\":\"AllLabels\"},{\"attributes\":{},\"id\":\"18432\",\"type\":\"CategoricalTickFormatter\"},{\"attributes\":{\"end\":2,\"factors\":[\"a\",\"c\"],\"palette\":[\"#1f77b4\",\"#ff7f0e\"],\"start\":1},\"id\":\"17901\",\"type\":\"CategoricalColorMapper\"},{\"attributes\":{\"data\":{\"counts\":[0.013704513016129644,0.02975903272500213,0.005142034330752422,0.008209633014503448,0.005452754165035177,0.015638747764879515,0.015042124010054187,0.04167257968381915,0.006397544555455912,0.023663894644225584,0.016734662944765128,0.026338943604007608,0.019558929405969358,0.02471404649050606,0.024530446754493437,0.035974796355689266,0.04430031198292304,0.07943547242641842,0.013316744767654824,0.013488774728237733,0.009043715501888318,0.012566344052450827,0.043915069911962715,0.04698719950046831,0.04333152290611461,0.05726875372520081,0.041876444657766104,0.05323134561348736,0.011427163986813354,0.014836942639003207,0.06039837819403569,0.06416569693185366,0.010824670649606547,0.015064002497658446,0.006720895277311137,0.009124968069707376,0.015427366081014512,0.013964181307297137,0.013078020992535145,0.012019981267561661,0.012548786803248665,0.011147219935855589,0.018873072210784252,0.03220702182612891,0.0045193315734296646,0.005825504498623449,0.0054060198810170395,0.007492975335622854,0.008601634436851878,0.005399767263644878,0.07157923987318589,0.0682669656288139,0.018717712293642875,0.020073510629239632,0.007670738022760859,0.008763091419975591,0.020343307524219728,0.021875798257315584,0.006809311490318425,0.008287684840916186,0.04344899016053858,0.029077853149036416,0.03094441146379356,0.02421025742911475,0.011439794874385824,0.008472170976073567,0.006708264389738667,0.005669400845797973,0.005850627123567973,0.007322680441631425,0.06622500663121597,0.030135100615899867,0.042225057154766266,0.026864019527147846,0.03914059440956916,0.019853546391167372,0.022191206376072047,0.015638747764879515,0.0259438430738528,0.007258819856384639,0.03494461355799472,0.006506684074589163,0.031543115534728626,0.006989186274231544,0.03610286594839019,0.013857746998552493,0.007999141099645071,0.010678908977379161],\"x\":[[\"1\",\"a\"],[\"1\",\"c\"],[\"2\",\"a\"],[\"2\",\"c\"],[\"3\",\"a\"],[\"3\",\"c\"],[\"4\",\"a\"],[\"4\",\"c\"],[\"5\",\"a\"],[\"5\",\"c\"],[\"6\",\"a\"],[\"6\",\"c\"],[\"7\",\"a\"],[\"7\",\"c\"],[\"8\",\"a\"],[\"8\",\"c\"],[\"9\",\"a\"],[\"9\",\"c\"],[\"10\",\"a\"],[\"10\",\"c\"],[\"11\",\"a\"],[\"11\",\"c\"],[\"12\",\"a\"],[\"12\",\"c\"],[\"13\",\"a\"],[\"13\",\"c\"],[\"14\",\"a\"],[\"14\",\"c\"],[\"15\",\"a\"],[\"15\",\"c\"],[\"16\",\"a\"],[\"16\",\"c\"],[\"17\",\"a\"],[\"17\",\"c\"],[\"18\",\"a\"],[\"18\",\"c\"],[\"19\",\"a\"],[\"19\",\"c\"],[\"20\",\"a\"],[\"20\",\"c\"],[\"21\",\"a\"],[\"21\",\"c\"],[\"22\",\"a\"],[\"22\",\"c\"],[\"23\",\"a\"],[\"23\",\"c\"],[\"24\",\"a\"],[\"24\",\"c\"],[\"25\",\"a\"],[\"25\",\"c\"],[\"26\",\"a\"],[\"26\",\"c\"],[\"27\",\"a\"],[\"27\",\"c\"],[\"28\",\"a\"],[\"28\",\"c\"],[\"29\",\"a\"],[\"29\",\"c\"],[\"30\",\"a\"],[\"30\",\"c\"],[\"31\",\"a\"],[\"31\",\"c\"],[\"32\",\"a\"],[\"32\",\"c\"],[\"33\",\"a\"],[\"33\",\"c\"],[\"34\",\"a\"],[\"34\",\"c\"],[\"35\",\"a\"],[\"35\",\"c\"],[\"36\",\"a\"],[\"36\",\"c\"],[\"37\",\"a\"],[\"37\",\"c\"],[\"38\",\"a\"],[\"38\",\"c\"],[\"39\",\"a\"],[\"39\",\"c\"],[\"40\",\"a\"],[\"40\",\"c\"],[\"41\",\"a\"],[\"41\",\"c\"],[\"42\",\"a\"],[\"42\",\"c\"],[\"43\",\"a\"],[\"43\",\"c\"],[\"44\",\"a\"],[\"44\",\"c\"]]},\"selected\":{\"id\":\"18436\"},\"selection_policy\":{\"id\":\"18435\"}},\"id\":\"17883\",\"type\":\"ColumnDataSource\"},{\"attributes\":{},\"id\":\"18434\",\"type\":\"AllLabels\"},{\"attributes\":{\"formatter\":{\"id\":\"18432\"},\"group_label_orientation\":1.5707963267948966,\"major_label_orientation\":0,\"major_label_policy\":{\"id\":\"18434\"},\"ticker\":{\"id\":\"17894\"}},\"id\":\"17893\",\"type\":\"CategoricalAxis\"},{\"attributes\":{},\"id\":\"17894\",\"type\":\"CategoricalTicker\"},{\"attributes\":{\"axis\":{\"id\":\"17896\"},\"dimension\":1,\"ticker\":null},\"id\":\"17899\",\"type\":\"Grid\"},{\"attributes\":{\"source\":{\"id\":\"17883\"}},\"id\":\"17906\",\"type\":\"CDSView\"},{\"attributes\":{\"fill_color\":{\"field\":\"x\",\"transform\":{\"id\":\"17901\"}},\"line_color\":{\"value\":null},\"top\":{\"field\":\"counts\"},\"width\":{\"value\":0.9},\"x\":{\"field\":\"x\"}},\"id\":\"17903\",\"type\":\"VBar\"},{\"attributes\":{\"data_source\":{\"id\":\"17883\"},\"glyph\":{\"id\":\"17903\"},\"hover_glyph\":null,\"muted_glyph\":null,\"nonselection_glyph\":{\"id\":\"17904\"},\"view\":{\"id\":\"17906\"}},\"id\":\"17905\",\"type\":\"GlyphRenderer\"},{\"attributes\":{},\"id\":\"17897\",\"type\":\"BasicTicker\"},{\"attributes\":{\"text\":\"CAMEO_DEU_2015 [ks:0.1932 p:0.0000]\"},\"id\":\"17907\",\"type\":\"Title\"},{\"attributes\":{},\"id\":\"18435\",\"type\":\"UnionRenderers\"},{\"attributes\":{},\"id\":\"17891\",\"type\":\"LinearScale\"},{\"attributes\":{\"fill_alpha\":{\"value\":0.1},\"fill_color\":{\"field\":\"x\",\"transform\":{\"id\":\"17901\"}},\"line_alpha\":{\"value\":0.1},\"line_color\":{\"value\":null},\"top\":{\"field\":\"counts\"},\"width\":{\"value\":0.9},\"x\":{\"field\":\"x\"}},\"id\":\"17904\",\"type\":\"VBar\"},{\"attributes\":{},\"id\":\"18436\",\"type\":\"Selection\"},{\"attributes\":{\"axis\":{\"id\":\"17893\"},\"grid_line_color\":null,\"ticker\":null},\"id\":\"17895\",\"type\":\"Grid\"},{\"attributes\":{\"start\":0},\"id\":\"17887\",\"type\":\"DataRange1d\"}],\"root_ids\":[\"17885\"]},\"title\":\"Bokeh Application\",\"version\":\"2.3.1\"}};\n",
       "  var render_items = [{\"docid\":\"56d1d03b-0953-404e-a413-030c015515b8\",\"root_ids\":[\"17885\"],\"roots\":{\"17885\":\"9773ba6a-9a35-4c40-9302-ef6c4ceeb567\"}}];\n",
       "  root.Bokeh.embed.embed_items_notebook(docs_json, render_items);\n",
       "\n",
       "  }\n",
       "  if (root.Bokeh !== undefined) {\n",
       "    embed_document(root);\n",
       "  } else {\n",
       "    var attempts = 0;\n",
       "    var timer = setInterval(function(root) {\n",
       "      if (root.Bokeh !== undefined) {\n",
       "        clearInterval(timer);\n",
       "        embed_document(root);\n",
       "      } else {\n",
       "        attempts++;\n",
       "        if (attempts > 100) {\n",
       "          clearInterval(timer);\n",
       "          console.log(\"Bokeh: ERROR: Unable to run BokehJS code because BokehJS library is missing\");\n",
       "        }\n",
       "      }\n",
       "    }, 10, root)\n",
       "  }\n",
       "})(window);"
      ],
      "application/vnd.bokehjs_exec.v0+json": ""
     },
     "metadata": {
      "application/vnd.bokehjs_exec.v0+json": {
       "id": "17885"
      }
     },
     "output_type": "display_data"
    },
    {
     "data": {
      "text/html": [
       "<div>\n",
       "<style scoped>\n",
       "    .dataframe tbody tr th:only-of-type {\n",
       "        vertical-align: middle;\n",
       "    }\n",
       "\n",
       "    .dataframe tbody tr th {\n",
       "        vertical-align: top;\n",
       "    }\n",
       "\n",
       "    .dataframe thead th {\n",
       "        text-align: right;\n",
       "    }\n",
       "</style>\n",
       "<table border=\"1\" class=\"dataframe\">\n",
       "  <thead>\n",
       "    <tr style=\"text-align: right;\">\n",
       "      <th></th>\n",
       "      <th>Attribute</th>\n",
       "      <th>Value</th>\n",
       "      <th>Meaning</th>\n",
       "    </tr>\n",
       "  </thead>\n",
       "  <tbody>\n",
       "    <tr>\n",
       "      <th>61</th>\n",
       "      <td>CAMEO_DEU_2015</td>\n",
       "      <td>1A</td>\n",
       "      <td>Work-Life-Balance</td>\n",
       "    </tr>\n",
       "    <tr>\n",
       "      <th>62</th>\n",
       "      <td>CAMEO_DEU_2015</td>\n",
       "      <td>1B</td>\n",
       "      <td>Wealthy Best Ager</td>\n",
       "    </tr>\n",
       "    <tr>\n",
       "      <th>63</th>\n",
       "      <td>CAMEO_DEU_2015</td>\n",
       "      <td>1C</td>\n",
       "      <td>Successful Songwriter</td>\n",
       "    </tr>\n",
       "    <tr>\n",
       "      <th>64</th>\n",
       "      <td>CAMEO_DEU_2015</td>\n",
       "      <td>1D</td>\n",
       "      <td>Old Nobility</td>\n",
       "    </tr>\n",
       "    <tr>\n",
       "      <th>65</th>\n",
       "      <td>CAMEO_DEU_2015</td>\n",
       "      <td>1E</td>\n",
       "      <td>City Nobility</td>\n",
       "    </tr>\n",
       "    <tr>\n",
       "      <th>66</th>\n",
       "      <td>CAMEO_DEU_2015</td>\n",
       "      <td>2A</td>\n",
       "      <td>Cottage Chic</td>\n",
       "    </tr>\n",
       "    <tr>\n",
       "      <th>67</th>\n",
       "      <td>CAMEO_DEU_2015</td>\n",
       "      <td>2B</td>\n",
       "      <td>Noble Jogger</td>\n",
       "    </tr>\n",
       "    <tr>\n",
       "      <th>68</th>\n",
       "      <td>CAMEO_DEU_2015</td>\n",
       "      <td>2C</td>\n",
       "      <td>Established gourmet</td>\n",
       "    </tr>\n",
       "    <tr>\n",
       "      <th>69</th>\n",
       "      <td>CAMEO_DEU_2015</td>\n",
       "      <td>2D</td>\n",
       "      <td>Fine Management</td>\n",
       "    </tr>\n",
       "    <tr>\n",
       "      <th>70</th>\n",
       "      <td>CAMEO_DEU_2015</td>\n",
       "      <td>3A</td>\n",
       "      <td>Career &amp; Family</td>\n",
       "    </tr>\n",
       "    <tr>\n",
       "      <th>71</th>\n",
       "      <td>CAMEO_DEU_2015</td>\n",
       "      <td>3B</td>\n",
       "      <td>Powershopping Families</td>\n",
       "    </tr>\n",
       "    <tr>\n",
       "      <th>72</th>\n",
       "      <td>CAMEO_DEU_2015</td>\n",
       "      <td>3C</td>\n",
       "      <td>Rural Neighborhood</td>\n",
       "    </tr>\n",
       "    <tr>\n",
       "      <th>73</th>\n",
       "      <td>CAMEO_DEU_2015</td>\n",
       "      <td>3D</td>\n",
       "      <td>Secure Retirement</td>\n",
       "    </tr>\n",
       "    <tr>\n",
       "      <th>74</th>\n",
       "      <td>CAMEO_DEU_2015</td>\n",
       "      <td>4A</td>\n",
       "      <td>Family Starter</td>\n",
       "    </tr>\n",
       "    <tr>\n",
       "      <th>75</th>\n",
       "      <td>CAMEO_DEU_2015</td>\n",
       "      <td>4B</td>\n",
       "      <td>Family Life</td>\n",
       "    </tr>\n",
       "    <tr>\n",
       "      <th>76</th>\n",
       "      <td>CAMEO_DEU_2015</td>\n",
       "      <td>4C</td>\n",
       "      <td>String Trimmer</td>\n",
       "    </tr>\n",
       "    <tr>\n",
       "      <th>77</th>\n",
       "      <td>CAMEO_DEU_2015</td>\n",
       "      <td>4D</td>\n",
       "      <td>Empty Nest</td>\n",
       "    </tr>\n",
       "    <tr>\n",
       "      <th>78</th>\n",
       "      <td>CAMEO_DEU_2015</td>\n",
       "      <td>4E</td>\n",
       "      <td>Golden Ager</td>\n",
       "    </tr>\n",
       "    <tr>\n",
       "      <th>79</th>\n",
       "      <td>CAMEO_DEU_2015</td>\n",
       "      <td>5A</td>\n",
       "      <td>Younger Employees</td>\n",
       "    </tr>\n",
       "    <tr>\n",
       "      <th>80</th>\n",
       "      <td>CAMEO_DEU_2015</td>\n",
       "      <td>5B</td>\n",
       "      <td>Suddenly Family</td>\n",
       "    </tr>\n",
       "    <tr>\n",
       "      <th>81</th>\n",
       "      <td>CAMEO_DEU_2015</td>\n",
       "      <td>5C</td>\n",
       "      <td>Family First</td>\n",
       "    </tr>\n",
       "    <tr>\n",
       "      <th>82</th>\n",
       "      <td>CAMEO_DEU_2015</td>\n",
       "      <td>5D</td>\n",
       "      <td>Stock Market Junkies</td>\n",
       "    </tr>\n",
       "    <tr>\n",
       "      <th>83</th>\n",
       "      <td>CAMEO_DEU_2015</td>\n",
       "      <td>5E</td>\n",
       "      <td>Coffee Rider</td>\n",
       "    </tr>\n",
       "    <tr>\n",
       "      <th>84</th>\n",
       "      <td>CAMEO_DEU_2015</td>\n",
       "      <td>5F</td>\n",
       "      <td>Active Retirement</td>\n",
       "    </tr>\n",
       "    <tr>\n",
       "      <th>85</th>\n",
       "      <td>CAMEO_DEU_2015</td>\n",
       "      <td>6A</td>\n",
       "      <td>Jobstarter</td>\n",
       "    </tr>\n",
       "    <tr>\n",
       "      <th>86</th>\n",
       "      <td>CAMEO_DEU_2015</td>\n",
       "      <td>6B</td>\n",
       "      <td>Petty Bourgeois</td>\n",
       "    </tr>\n",
       "    <tr>\n",
       "      <th>87</th>\n",
       "      <td>CAMEO_DEU_2015</td>\n",
       "      <td>6C</td>\n",
       "      <td>Long-established</td>\n",
       "    </tr>\n",
       "    <tr>\n",
       "      <th>88</th>\n",
       "      <td>CAMEO_DEU_2015</td>\n",
       "      <td>6D</td>\n",
       "      <td>Sportgardener</td>\n",
       "    </tr>\n",
       "    <tr>\n",
       "      <th>89</th>\n",
       "      <td>CAMEO_DEU_2015</td>\n",
       "      <td>6E</td>\n",
       "      <td>Urban Parents</td>\n",
       "    </tr>\n",
       "    <tr>\n",
       "      <th>90</th>\n",
       "      <td>CAMEO_DEU_2015</td>\n",
       "      <td>6F</td>\n",
       "      <td>Frugal Aging</td>\n",
       "    </tr>\n",
       "    <tr>\n",
       "      <th>91</th>\n",
       "      <td>CAMEO_DEU_2015</td>\n",
       "      <td>7A</td>\n",
       "      <td>Journeymen</td>\n",
       "    </tr>\n",
       "    <tr>\n",
       "      <th>92</th>\n",
       "      <td>CAMEO_DEU_2015</td>\n",
       "      <td>7B</td>\n",
       "      <td>Mantaplatte</td>\n",
       "    </tr>\n",
       "    <tr>\n",
       "      <th>93</th>\n",
       "      <td>CAMEO_DEU_2015</td>\n",
       "      <td>7C</td>\n",
       "      <td>Factory Worker</td>\n",
       "    </tr>\n",
       "    <tr>\n",
       "      <th>94</th>\n",
       "      <td>CAMEO_DEU_2015</td>\n",
       "      <td>7D</td>\n",
       "      <td>Rear Window</td>\n",
       "    </tr>\n",
       "    <tr>\n",
       "      <th>95</th>\n",
       "      <td>CAMEO_DEU_2015</td>\n",
       "      <td>7E</td>\n",
       "      <td>Interested Retirees</td>\n",
       "    </tr>\n",
       "    <tr>\n",
       "      <th>96</th>\n",
       "      <td>CAMEO_DEU_2015</td>\n",
       "      <td>8A</td>\n",
       "      <td>Multi-culteral</td>\n",
       "    </tr>\n",
       "    <tr>\n",
       "      <th>97</th>\n",
       "      <td>CAMEO_DEU_2015</td>\n",
       "      <td>8B</td>\n",
       "      <td>Young &amp; Mobile</td>\n",
       "    </tr>\n",
       "    <tr>\n",
       "      <th>98</th>\n",
       "      <td>CAMEO_DEU_2015</td>\n",
       "      <td>8C</td>\n",
       "      <td>Prefab</td>\n",
       "    </tr>\n",
       "    <tr>\n",
       "      <th>99</th>\n",
       "      <td>CAMEO_DEU_2015</td>\n",
       "      <td>8D</td>\n",
       "      <td>Town Seniors</td>\n",
       "    </tr>\n",
       "    <tr>\n",
       "      <th>100</th>\n",
       "      <td>CAMEO_DEU_2015</td>\n",
       "      <td>9A</td>\n",
       "      <td>First Shared Apartment</td>\n",
       "    </tr>\n",
       "    <tr>\n",
       "      <th>101</th>\n",
       "      <td>CAMEO_DEU_2015</td>\n",
       "      <td>9B</td>\n",
       "      <td>Temporary Workers</td>\n",
       "    </tr>\n",
       "    <tr>\n",
       "      <th>102</th>\n",
       "      <td>CAMEO_DEU_2015</td>\n",
       "      <td>9C</td>\n",
       "      <td>Afternoon Talk Show</td>\n",
       "    </tr>\n",
       "    <tr>\n",
       "      <th>103</th>\n",
       "      <td>CAMEO_DEU_2015</td>\n",
       "      <td>9D</td>\n",
       "      <td>Mini-Jobber</td>\n",
       "    </tr>\n",
       "    <tr>\n",
       "      <th>104</th>\n",
       "      <td>CAMEO_DEU_2015</td>\n",
       "      <td>9E</td>\n",
       "      <td>Socking Away</td>\n",
       "    </tr>\n",
       "  </tbody>\n",
       "</table>\n",
       "</div>"
      ],
      "text/plain": [
       "          Attribute Value                 Meaning\n",
       "61   CAMEO_DEU_2015    1A       Work-Life-Balance\n",
       "62   CAMEO_DEU_2015    1B       Wealthy Best Ager\n",
       "63   CAMEO_DEU_2015    1C   Successful Songwriter\n",
       "64   CAMEO_DEU_2015    1D            Old Nobility\n",
       "65   CAMEO_DEU_2015    1E           City Nobility\n",
       "66   CAMEO_DEU_2015    2A            Cottage Chic\n",
       "67   CAMEO_DEU_2015    2B            Noble Jogger\n",
       "68   CAMEO_DEU_2015    2C     Established gourmet\n",
       "69   CAMEO_DEU_2015    2D         Fine Management\n",
       "70   CAMEO_DEU_2015    3A         Career & Family\n",
       "71   CAMEO_DEU_2015    3B  Powershopping Families\n",
       "72   CAMEO_DEU_2015    3C      Rural Neighborhood\n",
       "73   CAMEO_DEU_2015    3D       Secure Retirement\n",
       "74   CAMEO_DEU_2015    4A          Family Starter\n",
       "75   CAMEO_DEU_2015    4B             Family Life\n",
       "76   CAMEO_DEU_2015    4C          String Trimmer\n",
       "77   CAMEO_DEU_2015    4D              Empty Nest\n",
       "78   CAMEO_DEU_2015    4E             Golden Ager\n",
       "79   CAMEO_DEU_2015    5A       Younger Employees\n",
       "80   CAMEO_DEU_2015    5B         Suddenly Family\n",
       "81   CAMEO_DEU_2015    5C            Family First\n",
       "82   CAMEO_DEU_2015    5D    Stock Market Junkies\n",
       "83   CAMEO_DEU_2015    5E            Coffee Rider\n",
       "84   CAMEO_DEU_2015    5F       Active Retirement\n",
       "85   CAMEO_DEU_2015    6A              Jobstarter\n",
       "86   CAMEO_DEU_2015    6B         Petty Bourgeois\n",
       "87   CAMEO_DEU_2015    6C        Long-established\n",
       "88   CAMEO_DEU_2015    6D           Sportgardener\n",
       "89   CAMEO_DEU_2015    6E           Urban Parents\n",
       "90   CAMEO_DEU_2015    6F            Frugal Aging\n",
       "91   CAMEO_DEU_2015    7A              Journeymen\n",
       "92   CAMEO_DEU_2015    7B             Mantaplatte\n",
       "93   CAMEO_DEU_2015    7C          Factory Worker\n",
       "94   CAMEO_DEU_2015    7D             Rear Window\n",
       "95   CAMEO_DEU_2015    7E     Interested Retirees\n",
       "96   CAMEO_DEU_2015    8A          Multi-culteral\n",
       "97   CAMEO_DEU_2015    8B          Young & Mobile\n",
       "98   CAMEO_DEU_2015    8C                  Prefab\n",
       "99   CAMEO_DEU_2015    8D            Town Seniors\n",
       "100  CAMEO_DEU_2015    9A  First Shared Apartment\n",
       "101  CAMEO_DEU_2015    9B       Temporary Workers\n",
       "102  CAMEO_DEU_2015    9C     Afternoon Talk Show\n",
       "103  CAMEO_DEU_2015    9D             Mini-Jobber\n",
       "104  CAMEO_DEU_2015    9E            Socking Away"
      ]
     },
     "metadata": {},
     "output_type": "display_data"
    },
    {
     "name": "stdout",
     "output_type": "stream",
     "text": [
      "==========================================================================================================================================================================================================================================\n"
     ]
    },
    {
     "data": {
      "text/html": [
       "\n",
       "\n",
       "\n",
       "\n",
       "\n",
       "\n",
       "  <div class=\"bk-root\" id=\"36c11d9a-3272-4813-ba4e-2a373d732ccc\" data-root-id=\"18489\"></div>\n"
      ]
     },
     "metadata": {},
     "output_type": "display_data"
    },
    {
     "data": {
      "application/javascript": [
       "(function(root) {\n",
       "  function embed_document(root) {\n",
       "    \n",
       "  var docs_json = {\"48db36ba-9de4-4ec0-abc2-8e084b9a9c2e\":{\"defs\":[],\"roots\":{\"references\":[{\"attributes\":{\"below\":[{\"id\":\"18497\"}],\"center\":[{\"id\":\"18499\"},{\"id\":\"18503\"}],\"height\":500,\"left\":[{\"id\":\"18500\"}],\"renderers\":[{\"id\":\"18509\"}],\"title\":{\"id\":\"18511\"},\"toolbar\":{\"id\":\"18504\"},\"toolbar_location\":null,\"width\":950,\"x_range\":{\"id\":\"18488\"},\"x_scale\":{\"id\":\"18493\"},\"y_range\":{\"id\":\"18491\"},\"y_scale\":{\"id\":\"18495\"}},\"id\":\"18489\",\"subtype\":\"Figure\",\"type\":\"Plot\"},{\"attributes\":{\"axis\":{\"id\":\"18500\"},\"dimension\":1,\"ticker\":null},\"id\":\"18503\",\"type\":\"Grid\"},{\"attributes\":{},\"id\":\"18495\",\"type\":\"LinearScale\"},{\"attributes\":{\"factors\":[[\"Wealthy Households-Young Couples With Children\",\"a\"],[\"Wealthy Households-Young Couples With Children\",\"c\"],[\"Wealthy Households-Families With School Age Children\",\"a\"],[\"Wealthy Households-Families With School Age Children\",\"c\"],[\"Wealthy Households-Older Families &  Mature Couples\",\"a\"],[\"Wealthy Households-Older Families &  Mature Couples\",\"c\"],[\"Wealthy Households-Elders In Retirement\",\"a\"],[\"Wealthy Households-Elders In Retirement\",\"c\"],[\"Prosperous Households-Young Couples With Children\",\"a\"],[\"Prosperous Households-Young Couples With Children\",\"c\"],[\"Prosperous Households-Families With School Age Children\",\"a\"],[\"Prosperous Households-Families With School Age Children\",\"c\"],[\"Prosperous Households-Older Families & Mature Couples\",\"a\"],[\"Prosperous Households-Older Families & Mature Couples\",\"c\"],[\"Prosperous Households-Elders In Retirement\",\"a\"],[\"Prosperous Households-Elders In Retirement\",\"c\"],[\"Comfortable Households-Pre-Family Couples & Singles\",\"a\"],[\"Comfortable Households-Pre-Family Couples & Singles\",\"c\"],[\"Comfortable Households-Young Couples With Children\",\"a\"],[\"Comfortable Households-Young Couples With Children\",\"c\"],[\"Comfortable Households-Families With School Age Children\",\"a\"],[\"Comfortable Households-Families With School Age Children\",\"c\"],[\"Comfortable Households-Older Families & Mature Couples\",\"a\"],[\"Comfortable Households-Older Families & Mature Couples\",\"c\"],[\"Comfortable Households-Elders In Retirement\",\"a\"],[\"Comfortable Households-Elders In Retirement\",\"c\"],[\"Less Affluent Households-Pre-Family Couples & Singles\",\"a\"],[\"Less Affluent Households-Pre-Family Couples & Singles\",\"c\"],[\"Less Affluent Households-Families With School Age Children\",\"a\"],[\"Less Affluent Households-Families With School Age Children\",\"c\"],[\"Less Affluent Households-Older Families & Mature Couples\",\"a\"],[\"Less Affluent Households-Older Families & Mature Couples\",\"c\"],[\"Less Affluent Households-Elders In Retirement\",\"a\"],[\"Less Affluent Households-Elders In Retirement\",\"c\"],[\"Poorer Households-Pre-Family Couples & Singles\",\"a\"],[\"Poorer Households-Pre-Family Couples & Singles\",\"c\"],[\"Poorer Households-Young Couples With Children\",\"a\"],[\"Poorer Households-Young Couples With Children\",\"c\"],[\"Poorer Households-Older Families & Mature Couples\",\"a\"],[\"Poorer Households-Older Families & Mature Couples\",\"c\"],[\"Poorer Households-Elders In Retirement\",\"a\"],[\"Poorer Households-Elders In Retirement\",\"c\"]]},\"id\":\"18488\",\"type\":\"FactorRange\"},{\"attributes\":{},\"id\":\"18501\",\"type\":\"BasicTicker\"},{\"attributes\":{\"axis\":{\"id\":\"18497\"},\"grid_line_color\":null,\"ticker\":null},\"id\":\"18499\",\"type\":\"Grid\"},{\"attributes\":{\"active_multi\":null},\"id\":\"18504\",\"type\":\"Toolbar\"},{\"attributes\":{\"fill_alpha\":{\"value\":0.1},\"fill_color\":{\"field\":\"x\",\"transform\":{\"id\":\"18505\"}},\"line_alpha\":{\"value\":0.1},\"line_color\":{\"value\":null},\"top\":{\"field\":\"counts\"},\"width\":{\"value\":0.9},\"x\":{\"field\":\"x\"}},\"id\":\"18508\",\"type\":\"VBar\"},{\"attributes\":{},\"id\":\"19043\",\"type\":\"BasicTickFormatter\"},{\"attributes\":{},\"id\":\"18493\",\"type\":\"CategoricalScale\"},{\"attributes\":{\"formatter\":{\"id\":\"19046\"},\"group_label_orientation\":1.5707963267948966,\"major_label_orientation\":0,\"major_label_policy\":{\"id\":\"19048\"},\"ticker\":{\"id\":\"18498\"}},\"id\":\"18497\",\"type\":\"CategoricalAxis\"},{\"attributes\":{},\"id\":\"19045\",\"type\":\"AllLabels\"},{\"attributes\":{},\"id\":\"18498\",\"type\":\"CategoricalTicker\"},{\"attributes\":{\"formatter\":{\"id\":\"19043\"},\"major_label_policy\":{\"id\":\"19045\"},\"ticker\":{\"id\":\"18501\"}},\"id\":\"18500\",\"type\":\"LinearAxis\"},{\"attributes\":{},\"id\":\"19046\",\"type\":\"CategoricalTickFormatter\"},{\"attributes\":{},\"id\":\"19048\",\"type\":\"AllLabels\"},{\"attributes\":{\"source\":{\"id\":\"18487\"}},\"id\":\"18510\",\"type\":\"CDSView\"},{\"attributes\":{\"start\":0},\"id\":\"18491\",\"type\":\"DataRange1d\"},{\"attributes\":{\"data\":{\"counts\":[0.016734662944765128,0.026338943604007608,0.033263442422099,0.05447307921550819,0.07942554723320408,0.13925864956149064,0.0214396685655101,0.06533647432804474,0.041876444657766104,0.05323134561348736,0.033787624256356494,0.04089206141969177,0.11513811875560495,0.12621689892998042,0.05005241818342575,0.06639372179490818,0.02402900051786639,0.019363948570942015,0.013078020992535145,0.012019981267561661,0.012548786803248665,0.011147219935855589,0.023392403784213915,0.03803252632475236,0.013076757903777898,0.016256066755598444,0.1166184587790984,0.08015213010529901,0.07157923987318589,0.0682669656288139,0.018717712293642875,0.020073510629239632,0.033003246138106124,0.0374861635398632,0.1688156016723295,0.05748871796327307,0.0259438430738528,0.007258819856384639,0.05728865367369365,0.03399511821303891,0.030190347475717118,0.026317656742258676],\"x\":[[\"Wealthy Households-Young Couples With Children\",\"a\"],[\"Wealthy Households-Young Couples With Children\",\"c\"],[\"Wealthy Households-Families With School Age Children\",\"a\"],[\"Wealthy Households-Families With School Age Children\",\"c\"],[\"Wealthy Households-Older Families &  Mature Couples\",\"a\"],[\"Wealthy Households-Older Families &  Mature Couples\",\"c\"],[\"Wealthy Households-Elders In Retirement\",\"a\"],[\"Wealthy Households-Elders In Retirement\",\"c\"],[\"Prosperous Households-Young Couples With Children\",\"a\"],[\"Prosperous Households-Young Couples With Children\",\"c\"],[\"Prosperous Households-Families With School Age Children\",\"a\"],[\"Prosperous Households-Families With School Age Children\",\"c\"],[\"Prosperous Households-Older Families & Mature Couples\",\"a\"],[\"Prosperous Households-Older Families & Mature Couples\",\"c\"],[\"Prosperous Households-Elders In Retirement\",\"a\"],[\"Prosperous Households-Elders In Retirement\",\"c\"],[\"Comfortable Households-Pre-Family Couples & Singles\",\"a\"],[\"Comfortable Households-Pre-Family Couples & Singles\",\"c\"],[\"Comfortable Households-Young Couples With Children\",\"a\"],[\"Comfortable Households-Young Couples With Children\",\"c\"],[\"Comfortable Households-Families With School Age Children\",\"a\"],[\"Comfortable Households-Families With School Age Children\",\"c\"],[\"Comfortable Households-Older Families & Mature Couples\",\"a\"],[\"Comfortable Households-Older Families & Mature Couples\",\"c\"],[\"Comfortable Households-Elders In Retirement\",\"a\"],[\"Comfortable Households-Elders In Retirement\",\"c\"],[\"Less Affluent Households-Pre-Family Couples & Singles\",\"a\"],[\"Less Affluent Households-Pre-Family Couples & Singles\",\"c\"],[\"Less Affluent Households-Families With School Age Children\",\"a\"],[\"Less Affluent Households-Families With School Age Children\",\"c\"],[\"Less Affluent Households-Older Families & Mature Couples\",\"a\"],[\"Less Affluent Households-Older Families & Mature Couples\",\"c\"],[\"Less Affluent Households-Elders In Retirement\",\"a\"],[\"Less Affluent Households-Elders In Retirement\",\"c\"],[\"Poorer Households-Pre-Family Couples & Singles\",\"a\"],[\"Poorer Households-Pre-Family Couples & Singles\",\"c\"],[\"Poorer Households-Young Couples With Children\",\"a\"],[\"Poorer Households-Young Couples With Children\",\"c\"],[\"Poorer Households-Older Families & Mature Couples\",\"a\"],[\"Poorer Households-Older Families & Mature Couples\",\"c\"],[\"Poorer Households-Elders In Retirement\",\"a\"],[\"Poorer Households-Elders In Retirement\",\"c\"]]},\"selected\":{\"id\":\"19050\"},\"selection_policy\":{\"id\":\"19049\"}},\"id\":\"18487\",\"type\":\"ColumnDataSource\"},{\"attributes\":{\"data_source\":{\"id\":\"18487\"},\"glyph\":{\"id\":\"18507\"},\"hover_glyph\":null,\"muted_glyph\":null,\"nonselection_glyph\":{\"id\":\"18508\"},\"view\":{\"id\":\"18510\"}},\"id\":\"18509\",\"type\":\"GlyphRenderer\"},{\"attributes\":{\"fill_color\":{\"field\":\"x\",\"transform\":{\"id\":\"18505\"}},\"line_color\":{\"value\":null},\"top\":{\"field\":\"counts\"},\"width\":{\"value\":0.9},\"x\":{\"field\":\"x\"}},\"id\":\"18507\",\"type\":\"VBar\"},{\"attributes\":{\"text\":\"CAMEO_INTL_2015 [ks:0.1911 p:0.0000]\"},\"id\":\"18511\",\"type\":\"Title\"},{\"attributes\":{},\"id\":\"19049\",\"type\":\"UnionRenderers\"},{\"attributes\":{\"end\":2,\"factors\":[\"a\",\"c\"],\"palette\":[\"#1f77b4\",\"#ff7f0e\"],\"start\":1},\"id\":\"18505\",\"type\":\"CategoricalColorMapper\"},{\"attributes\":{},\"id\":\"19050\",\"type\":\"Selection\"}],\"root_ids\":[\"18489\"]},\"title\":\"Bokeh Application\",\"version\":\"2.3.1\"}};\n",
       "  var render_items = [{\"docid\":\"48db36ba-9de4-4ec0-abc2-8e084b9a9c2e\",\"root_ids\":[\"18489\"],\"roots\":{\"18489\":\"36c11d9a-3272-4813-ba4e-2a373d732ccc\"}}];\n",
       "  root.Bokeh.embed.embed_items_notebook(docs_json, render_items);\n",
       "\n",
       "  }\n",
       "  if (root.Bokeh !== undefined) {\n",
       "    embed_document(root);\n",
       "  } else {\n",
       "    var attempts = 0;\n",
       "    var timer = setInterval(function(root) {\n",
       "      if (root.Bokeh !== undefined) {\n",
       "        clearInterval(timer);\n",
       "        embed_document(root);\n",
       "      } else {\n",
       "        attempts++;\n",
       "        if (attempts > 100) {\n",
       "          clearInterval(timer);\n",
       "          console.log(\"Bokeh: ERROR: Unable to run BokehJS code because BokehJS library is missing\");\n",
       "        }\n",
       "      }\n",
       "    }, 10, root)\n",
       "  }\n",
       "})(window);"
      ],
      "application/vnd.bokehjs_exec.v0+json": ""
     },
     "metadata": {
      "application/vnd.bokehjs_exec.v0+json": {
       "id": "18489"
      }
     },
     "output_type": "display_data"
    },
    {
     "data": {
      "text/html": [
       "<div>\n",
       "<style scoped>\n",
       "    .dataframe tbody tr th:only-of-type {\n",
       "        vertical-align: middle;\n",
       "    }\n",
       "\n",
       "    .dataframe tbody tr th {\n",
       "        vertical-align: top;\n",
       "    }\n",
       "\n",
       "    .dataframe thead th {\n",
       "        text-align: right;\n",
       "    }\n",
       "</style>\n",
       "<table border=\"1\" class=\"dataframe\">\n",
       "  <thead>\n",
       "    <tr style=\"text-align: right;\">\n",
       "      <th></th>\n",
       "      <th>Attribute</th>\n",
       "      <th>Value</th>\n",
       "      <th>Meaning</th>\n",
       "    </tr>\n",
       "  </thead>\n",
       "  <tbody>\n",
       "    <tr>\n",
       "      <th>105</th>\n",
       "      <td>CAMEO_INTL_2015</td>\n",
       "      <td>-1</td>\n",
       "      <td>unknown</td>\n",
       "    </tr>\n",
       "    <tr>\n",
       "      <th>106</th>\n",
       "      <td>CAMEO_INTL_2015</td>\n",
       "      <td>11</td>\n",
       "      <td>Wealthy Households-Pre-Family Couples &amp; Singles</td>\n",
       "    </tr>\n",
       "    <tr>\n",
       "      <th>107</th>\n",
       "      <td>CAMEO_INTL_2015</td>\n",
       "      <td>12</td>\n",
       "      <td>Wealthy Households-Young Couples With Children</td>\n",
       "    </tr>\n",
       "    <tr>\n",
       "      <th>108</th>\n",
       "      <td>CAMEO_INTL_2015</td>\n",
       "      <td>13</td>\n",
       "      <td>Wealthy Households-Families With School Age Ch...</td>\n",
       "    </tr>\n",
       "    <tr>\n",
       "      <th>109</th>\n",
       "      <td>CAMEO_INTL_2015</td>\n",
       "      <td>14</td>\n",
       "      <td>Wealthy Households-Older Families &amp;  Mature Co...</td>\n",
       "    </tr>\n",
       "    <tr>\n",
       "      <th>110</th>\n",
       "      <td>CAMEO_INTL_2015</td>\n",
       "      <td>15</td>\n",
       "      <td>Wealthy Households-Elders In Retirement</td>\n",
       "    </tr>\n",
       "    <tr>\n",
       "      <th>111</th>\n",
       "      <td>CAMEO_INTL_2015</td>\n",
       "      <td>21</td>\n",
       "      <td>Prosperous Households-Pre-Family Couples &amp; Sin...</td>\n",
       "    </tr>\n",
       "    <tr>\n",
       "      <th>112</th>\n",
       "      <td>CAMEO_INTL_2015</td>\n",
       "      <td>22</td>\n",
       "      <td>Prosperous Households-Young Couples With Children</td>\n",
       "    </tr>\n",
       "    <tr>\n",
       "      <th>113</th>\n",
       "      <td>CAMEO_INTL_2015</td>\n",
       "      <td>23</td>\n",
       "      <td>Prosperous Households-Families With School Age...</td>\n",
       "    </tr>\n",
       "    <tr>\n",
       "      <th>114</th>\n",
       "      <td>CAMEO_INTL_2015</td>\n",
       "      <td>24</td>\n",
       "      <td>Prosperous Households-Older Families &amp; Mature ...</td>\n",
       "    </tr>\n",
       "    <tr>\n",
       "      <th>115</th>\n",
       "      <td>CAMEO_INTL_2015</td>\n",
       "      <td>25</td>\n",
       "      <td>Prosperous Households-Elders In Retirement</td>\n",
       "    </tr>\n",
       "    <tr>\n",
       "      <th>116</th>\n",
       "      <td>CAMEO_INTL_2015</td>\n",
       "      <td>31</td>\n",
       "      <td>Comfortable Households-Pre-Family Couples &amp; Si...</td>\n",
       "    </tr>\n",
       "    <tr>\n",
       "      <th>117</th>\n",
       "      <td>CAMEO_INTL_2015</td>\n",
       "      <td>32</td>\n",
       "      <td>Comfortable Households-Young Couples With Chil...</td>\n",
       "    </tr>\n",
       "    <tr>\n",
       "      <th>118</th>\n",
       "      <td>CAMEO_INTL_2015</td>\n",
       "      <td>33</td>\n",
       "      <td>Comfortable Households-Families With School Ag...</td>\n",
       "    </tr>\n",
       "    <tr>\n",
       "      <th>119</th>\n",
       "      <td>CAMEO_INTL_2015</td>\n",
       "      <td>34</td>\n",
       "      <td>Comfortable Households-Older Families &amp; Mature...</td>\n",
       "    </tr>\n",
       "    <tr>\n",
       "      <th>120</th>\n",
       "      <td>CAMEO_INTL_2015</td>\n",
       "      <td>35</td>\n",
       "      <td>Comfortable Households-Elders In Retirement</td>\n",
       "    </tr>\n",
       "    <tr>\n",
       "      <th>121</th>\n",
       "      <td>CAMEO_INTL_2015</td>\n",
       "      <td>41</td>\n",
       "      <td>Less Affluent Households-Pre-Family Couples &amp; ...</td>\n",
       "    </tr>\n",
       "    <tr>\n",
       "      <th>122</th>\n",
       "      <td>CAMEO_INTL_2015</td>\n",
       "      <td>42</td>\n",
       "      <td>Less Affluent Households-Young Couples With Ch...</td>\n",
       "    </tr>\n",
       "    <tr>\n",
       "      <th>123</th>\n",
       "      <td>CAMEO_INTL_2015</td>\n",
       "      <td>43</td>\n",
       "      <td>Less Affluent Households-Families With School ...</td>\n",
       "    </tr>\n",
       "    <tr>\n",
       "      <th>124</th>\n",
       "      <td>CAMEO_INTL_2015</td>\n",
       "      <td>44</td>\n",
       "      <td>Less Affluent Households-Older Families &amp; Matu...</td>\n",
       "    </tr>\n",
       "    <tr>\n",
       "      <th>125</th>\n",
       "      <td>CAMEO_INTL_2015</td>\n",
       "      <td>45</td>\n",
       "      <td>Less Affluent Households-Elders In Retirement</td>\n",
       "    </tr>\n",
       "    <tr>\n",
       "      <th>126</th>\n",
       "      <td>CAMEO_INTL_2015</td>\n",
       "      <td>51</td>\n",
       "      <td>Poorer Households-Pre-Family Couples &amp; Singles</td>\n",
       "    </tr>\n",
       "    <tr>\n",
       "      <th>127</th>\n",
       "      <td>CAMEO_INTL_2015</td>\n",
       "      <td>52</td>\n",
       "      <td>Poorer Households-Young Couples With Children</td>\n",
       "    </tr>\n",
       "    <tr>\n",
       "      <th>128</th>\n",
       "      <td>CAMEO_INTL_2015</td>\n",
       "      <td>53</td>\n",
       "      <td>Poorer Households-Families With School Age Chi...</td>\n",
       "    </tr>\n",
       "    <tr>\n",
       "      <th>129</th>\n",
       "      <td>CAMEO_INTL_2015</td>\n",
       "      <td>54</td>\n",
       "      <td>Poorer Households-Older Families &amp; Mature Couples</td>\n",
       "    </tr>\n",
       "    <tr>\n",
       "      <th>130</th>\n",
       "      <td>CAMEO_INTL_2015</td>\n",
       "      <td>55</td>\n",
       "      <td>Poorer Households-Elders In Retirement</td>\n",
       "    </tr>\n",
       "  </tbody>\n",
       "</table>\n",
       "</div>"
      ],
      "text/plain": [
       "           Attribute Value                                            Meaning\n",
       "105  CAMEO_INTL_2015    -1                                            unknown\n",
       "106  CAMEO_INTL_2015    11    Wealthy Households-Pre-Family Couples & Singles\n",
       "107  CAMEO_INTL_2015    12     Wealthy Households-Young Couples With Children\n",
       "108  CAMEO_INTL_2015    13  Wealthy Households-Families With School Age Ch...\n",
       "109  CAMEO_INTL_2015    14  Wealthy Households-Older Families &  Mature Co...\n",
       "110  CAMEO_INTL_2015    15            Wealthy Households-Elders In Retirement\n",
       "111  CAMEO_INTL_2015    21  Prosperous Households-Pre-Family Couples & Sin...\n",
       "112  CAMEO_INTL_2015    22  Prosperous Households-Young Couples With Children\n",
       "113  CAMEO_INTL_2015    23  Prosperous Households-Families With School Age...\n",
       "114  CAMEO_INTL_2015    24  Prosperous Households-Older Families & Mature ...\n",
       "115  CAMEO_INTL_2015    25         Prosperous Households-Elders In Retirement\n",
       "116  CAMEO_INTL_2015    31  Comfortable Households-Pre-Family Couples & Si...\n",
       "117  CAMEO_INTL_2015    32  Comfortable Households-Young Couples With Chil...\n",
       "118  CAMEO_INTL_2015    33  Comfortable Households-Families With School Ag...\n",
       "119  CAMEO_INTL_2015    34  Comfortable Households-Older Families & Mature...\n",
       "120  CAMEO_INTL_2015    35        Comfortable Households-Elders In Retirement\n",
       "121  CAMEO_INTL_2015    41  Less Affluent Households-Pre-Family Couples & ...\n",
       "122  CAMEO_INTL_2015    42  Less Affluent Households-Young Couples With Ch...\n",
       "123  CAMEO_INTL_2015    43  Less Affluent Households-Families With School ...\n",
       "124  CAMEO_INTL_2015    44  Less Affluent Households-Older Families & Matu...\n",
       "125  CAMEO_INTL_2015    45      Less Affluent Households-Elders In Retirement\n",
       "126  CAMEO_INTL_2015    51     Poorer Households-Pre-Family Couples & Singles\n",
       "127  CAMEO_INTL_2015    52      Poorer Households-Young Couples With Children\n",
       "128  CAMEO_INTL_2015    53  Poorer Households-Families With School Age Chi...\n",
       "129  CAMEO_INTL_2015    54  Poorer Households-Older Families & Mature Couples\n",
       "130  CAMEO_INTL_2015    55             Poorer Households-Elders In Retirement"
      ]
     },
     "metadata": {},
     "output_type": "display_data"
    },
    {
     "name": "stdout",
     "output_type": "stream",
     "text": [
      "==========================================================================================================================================================================================================================================\n"
     ]
    },
    {
     "data": {
      "text/html": [
       "\n",
       "\n",
       "\n",
       "\n",
       "\n",
       "\n",
       "  <div class=\"bk-root\" id=\"9095fedd-d3c1-448b-99e5-b9e4d8dc2729\" data-root-id=\"19103\"></div>\n"
      ]
     },
     "metadata": {},
     "output_type": "display_data"
    },
    {
     "data": {
      "application/javascript": [
       "(function(root) {\n",
       "  function embed_document(root) {\n",
       "    \n",
       "  var docs_json = {\"53d1edb1-05ab-4bc7-8e1b-d4c674e11c21\":{\"defs\":[],\"roots\":{\"references\":[{\"attributes\":{\"below\":[{\"id\":\"19111\"}],\"center\":[{\"id\":\"19113\"},{\"id\":\"19117\"}],\"height\":500,\"left\":[{\"id\":\"19114\"}],\"renderers\":[{\"id\":\"19123\"}],\"title\":{\"id\":\"19125\"},\"toolbar\":{\"id\":\"19118\"},\"toolbar_location\":null,\"width\":950,\"x_range\":{\"id\":\"19102\"},\"x_scale\":{\"id\":\"19107\"},\"y_range\":{\"id\":\"19105\"},\"y_scale\":{\"id\":\"19109\"}},\"id\":\"19103\",\"subtype\":\"Figure\",\"type\":\"Plot\"},{\"attributes\":{},\"id\":\"19107\",\"type\":\"CategoricalScale\"},{\"attributes\":{\"axis\":{\"id\":\"19111\"},\"grid_line_color\":null,\"ticker\":null},\"id\":\"19113\",\"type\":\"Grid\"},{\"attributes\":{},\"id\":\"19115\",\"type\":\"BasicTicker\"},{\"attributes\":{},\"id\":\"19673\",\"type\":\"UnionRenderers\"},{\"attributes\":{\"formatter\":{\"id\":\"19667\"},\"major_label_policy\":{\"id\":\"19669\"},\"ticker\":{\"id\":\"19115\"}},\"id\":\"19114\",\"type\":\"LinearAxis\"},{\"attributes\":{},\"id\":\"19674\",\"type\":\"Selection\"},{\"attributes\":{\"axis\":{\"id\":\"19114\"},\"dimension\":1,\"ticker\":null},\"id\":\"19117\",\"type\":\"Grid\"},{\"attributes\":{},\"id\":\"19112\",\"type\":\"CategoricalTicker\"},{\"attributes\":{\"active_multi\":null},\"id\":\"19118\",\"type\":\"Toolbar\"},{\"attributes\":{\"formatter\":{\"id\":\"19670\"},\"group_label_orientation\":1.5707963267948966,\"major_label_orientation\":0,\"major_label_policy\":{\"id\":\"19672\"},\"ticker\":{\"id\":\"19112\"}},\"id\":\"19111\",\"type\":\"CategoricalAxis\"},{\"attributes\":{\"data\":{\"counts\":[0.47830419659609164,0.6666466986155485,0.5216958034039084,0.3333533013844515],\"x\":[[\"male\",\"a\"],[\"male\",\"c\"],[\"female\",\"a\"],[\"female\",\"c\"]]},\"selected\":{\"id\":\"19674\"},\"selection_policy\":{\"id\":\"19673\"}},\"id\":\"19101\",\"type\":\"ColumnDataSource\"},{\"attributes\":{\"fill_alpha\":{\"value\":0.1},\"fill_color\":{\"field\":\"x\",\"transform\":{\"id\":\"19119\"}},\"line_alpha\":{\"value\":0.1},\"line_color\":{\"value\":null},\"top\":{\"field\":\"counts\"},\"width\":{\"value\":0.9},\"x\":{\"field\":\"x\"}},\"id\":\"19122\",\"type\":\"VBar\"},{\"attributes\":{\"start\":0},\"id\":\"19105\",\"type\":\"DataRange1d\"},{\"attributes\":{\"end\":2,\"factors\":[\"a\",\"c\"],\"palette\":[\"#1f77b4\",\"#ff7f0e\"],\"start\":1},\"id\":\"19119\",\"type\":\"CategoricalColorMapper\"},{\"attributes\":{},\"id\":\"19109\",\"type\":\"LinearScale\"},{\"attributes\":{\"fill_color\":{\"field\":\"x\",\"transform\":{\"id\":\"19119\"}},\"line_color\":{\"value\":null},\"top\":{\"field\":\"counts\"},\"width\":{\"value\":0.9},\"x\":{\"field\":\"x\"}},\"id\":\"19121\",\"type\":\"VBar\"},{\"attributes\":{},\"id\":\"19667\",\"type\":\"BasicTickFormatter\"},{\"attributes\":{},\"id\":\"19669\",\"type\":\"AllLabels\"},{\"attributes\":{},\"id\":\"19670\",\"type\":\"CategoricalTickFormatter\"},{\"attributes\":{},\"id\":\"19672\",\"type\":\"AllLabels\"},{\"attributes\":{\"source\":{\"id\":\"19101\"}},\"id\":\"19124\",\"type\":\"CDSView\"},{\"attributes\":{\"data_source\":{\"id\":\"19101\"},\"glyph\":{\"id\":\"19121\"},\"hover_glyph\":null,\"muted_glyph\":null,\"nonselection_glyph\":{\"id\":\"19122\"},\"view\":{\"id\":\"19124\"}},\"id\":\"19123\",\"type\":\"GlyphRenderer\"},{\"attributes\":{\"text\":\"ANREDE_KZ [ks:0.1883 p:0.0000]\"},\"id\":\"19125\",\"type\":\"Title\"},{\"attributes\":{\"factors\":[[\"male\",\"a\"],[\"male\",\"c\"],[\"female\",\"a\"],[\"female\",\"c\"]]},\"id\":\"19102\",\"type\":\"FactorRange\"}],\"root_ids\":[\"19103\"]},\"title\":\"Bokeh Application\",\"version\":\"2.3.1\"}};\n",
       "  var render_items = [{\"docid\":\"53d1edb1-05ab-4bc7-8e1b-d4c674e11c21\",\"root_ids\":[\"19103\"],\"roots\":{\"19103\":\"9095fedd-d3c1-448b-99e5-b9e4d8dc2729\"}}];\n",
       "  root.Bokeh.embed.embed_items_notebook(docs_json, render_items);\n",
       "\n",
       "  }\n",
       "  if (root.Bokeh !== undefined) {\n",
       "    embed_document(root);\n",
       "  } else {\n",
       "    var attempts = 0;\n",
       "    var timer = setInterval(function(root) {\n",
       "      if (root.Bokeh !== undefined) {\n",
       "        clearInterval(timer);\n",
       "        embed_document(root);\n",
       "      } else {\n",
       "        attempts++;\n",
       "        if (attempts > 100) {\n",
       "          clearInterval(timer);\n",
       "          console.log(\"Bokeh: ERROR: Unable to run BokehJS code because BokehJS library is missing\");\n",
       "        }\n",
       "      }\n",
       "    }, 10, root)\n",
       "  }\n",
       "})(window);"
      ],
      "application/vnd.bokehjs_exec.v0+json": ""
     },
     "metadata": {
      "application/vnd.bokehjs_exec.v0+json": {
       "id": "19103"
      }
     },
     "output_type": "display_data"
    },
    {
     "data": {
      "text/html": [
       "<div>\n",
       "<style scoped>\n",
       "    .dataframe tbody tr th:only-of-type {\n",
       "        vertical-align: middle;\n",
       "    }\n",
       "\n",
       "    .dataframe tbody tr th {\n",
       "        vertical-align: top;\n",
       "    }\n",
       "\n",
       "    .dataframe thead th {\n",
       "        text-align: right;\n",
       "    }\n",
       "</style>\n",
       "<table border=\"1\" class=\"dataframe\">\n",
       "  <thead>\n",
       "    <tr style=\"text-align: right;\">\n",
       "      <th></th>\n",
       "      <th>Attribute</th>\n",
       "      <th>Value</th>\n",
       "      <th>Meaning</th>\n",
       "    </tr>\n",
       "  </thead>\n",
       "  <tbody>\n",
       "    <tr>\n",
       "      <th>33</th>\n",
       "      <td>ANREDE_KZ</td>\n",
       "      <td>-1, 0</td>\n",
       "      <td>unknown</td>\n",
       "    </tr>\n",
       "    <tr>\n",
       "      <th>34</th>\n",
       "      <td>ANREDE_KZ</td>\n",
       "      <td>1</td>\n",
       "      <td>male</td>\n",
       "    </tr>\n",
       "    <tr>\n",
       "      <th>35</th>\n",
       "      <td>ANREDE_KZ</td>\n",
       "      <td>2</td>\n",
       "      <td>female</td>\n",
       "    </tr>\n",
       "  </tbody>\n",
       "</table>\n",
       "</div>"
      ],
      "text/plain": [
       "    Attribute  Value  Meaning\n",
       "33  ANREDE_KZ  -1, 0  unknown\n",
       "34  ANREDE_KZ      1     male\n",
       "35  ANREDE_KZ      2   female"
      ]
     },
     "metadata": {},
     "output_type": "display_data"
    },
    {
     "name": "stdout",
     "output_type": "stream",
     "text": [
      "==========================================================================================================================================================================================================================================\n"
     ]
    },
    {
     "data": {
      "text/html": [
       "\n",
       "\n",
       "\n",
       "\n",
       "\n",
       "\n",
       "  <div class=\"bk-root\" id=\"56755aa2-2d47-4a6a-b9a5-4b9640e98071\" data-root-id=\"19727\"></div>\n"
      ]
     },
     "metadata": {},
     "output_type": "display_data"
    },
    {
     "data": {
      "application/javascript": [
       "(function(root) {\n",
       "  function embed_document(root) {\n",
       "    \n",
       "  var docs_json = {\"fbff88b9-43d2-412c-93da-a6db1c3b0cce\":{\"defs\":[],\"roots\":{\"references\":[{\"attributes\":{\"below\":[{\"id\":\"19735\"}],\"center\":[{\"id\":\"19737\"},{\"id\":\"19741\"}],\"height\":500,\"left\":[{\"id\":\"19738\"}],\"renderers\":[{\"id\":\"19747\"}],\"title\":{\"id\":\"19749\"},\"toolbar\":{\"id\":\"19742\"},\"toolbar_location\":null,\"width\":950,\"x_range\":{\"id\":\"19726\"},\"x_scale\":{\"id\":\"19731\"},\"y_range\":{\"id\":\"19729\"},\"y_scale\":{\"id\":\"19733\"}},\"id\":\"19727\",\"subtype\":\"Figure\",\"type\":\"Plot\"},{\"attributes\":{\"text\":\"SEMIO_DOM [ks:0.1801 p:0.0000]\"},\"id\":\"19749\",\"type\":\"Title\"},{\"attributes\":{},\"id\":\"19731\",\"type\":\"CategoricalScale\"},{\"attributes\":{\"axis\":{\"id\":\"19738\"},\"dimension\":1,\"ticker\":null},\"id\":\"19741\",\"type\":\"Grid\"},{\"attributes\":{},\"id\":\"20307\",\"type\":\"UnionRenderers\"},{\"attributes\":{\"start\":0},\"id\":\"19729\",\"type\":\"DataRange1d\"},{\"attributes\":{},\"id\":\"20308\",\"type\":\"Selection\"},{\"attributes\":{},\"id\":\"19739\",\"type\":\"BasicTicker\"},{\"attributes\":{\"axis\":{\"id\":\"19735\"},\"grid_line_color\":null,\"ticker\":null},\"id\":\"19737\",\"type\":\"Grid\"},{\"attributes\":{\"active_multi\":null},\"id\":\"19742\",\"type\":\"Toolbar\"},{\"attributes\":{\"fill_color\":{\"field\":\"x\",\"transform\":{\"id\":\"19743\"}},\"line_color\":{\"value\":null},\"top\":{\"field\":\"counts\"},\"width\":{\"value\":0.9},\"x\":{\"field\":\"x\"}},\"id\":\"19745\",\"type\":\"VBar\"},{\"attributes\":{},\"id\":\"19736\",\"type\":\"CategoricalTicker\"},{\"attributes\":{\"fill_alpha\":{\"value\":0.1},\"fill_color\":{\"field\":\"x\",\"transform\":{\"id\":\"19743\"}},\"line_alpha\":{\"value\":0.1},\"line_color\":{\"value\":null},\"top\":{\"field\":\"counts\"},\"width\":{\"value\":0.9},\"x\":{\"field\":\"x\"}},\"id\":\"19746\",\"type\":\"VBar\"},{\"attributes\":{},\"id\":\"19733\",\"type\":\"LinearScale\"},{\"attributes\":{\"formatter\":{\"id\":\"20301\"},\"major_label_policy\":{\"id\":\"20303\"},\"ticker\":{\"id\":\"19739\"}},\"id\":\"19738\",\"type\":\"LinearAxis\"},{\"attributes\":{\"data\":{\"counts\":[0.05335443988566225,0.0588325346112886,0.12094984253526567,0.07740282215122471,0.11562870268607897,0.333772630457934,0.1491218450432581,0.06289936102236422,0.21199688169761527,0.27890708200212994,0.15645390848688429,0.11007055378061768,0.19249437966523547,0.0781150159744409],\"x\":[[\"highest affinity\",\"a\"],[\"highest affinity\",\"c\"],[\"very high affinity\",\"a\"],[\"very high affinity\",\"c\"],[\"high affinity\",\"a\"],[\"high affinity\",\"c\"],[\"average affinity\",\"a\"],[\"average affinity\",\"c\"],[\"low affinity\",\"a\"],[\"low affinity\",\"c\"],[\"very low affinity\",\"a\"],[\"very low affinity\",\"c\"],[\"lowest affinity\",\"a\"],[\"lowest affinity\",\"c\"]]},\"selected\":{\"id\":\"20308\"},\"selection_policy\":{\"id\":\"20307\"}},\"id\":\"19725\",\"type\":\"ColumnDataSource\"},{\"attributes\":{\"formatter\":{\"id\":\"20304\"},\"group_label_orientation\":1.5707963267948966,\"major_label_orientation\":0,\"major_label_policy\":{\"id\":\"20306\"},\"ticker\":{\"id\":\"19736\"}},\"id\":\"19735\",\"type\":\"CategoricalAxis\"},{\"attributes\":{\"end\":2,\"factors\":[\"a\",\"c\"],\"palette\":[\"#1f77b4\",\"#ff7f0e\"],\"start\":1},\"id\":\"19743\",\"type\":\"CategoricalColorMapper\"},{\"attributes\":{},\"id\":\"20301\",\"type\":\"BasicTickFormatter\"},{\"attributes\":{},\"id\":\"20303\",\"type\":\"AllLabels\"},{\"attributes\":{},\"id\":\"20304\",\"type\":\"CategoricalTickFormatter\"},{\"attributes\":{},\"id\":\"20306\",\"type\":\"AllLabels\"},{\"attributes\":{\"source\":{\"id\":\"19725\"}},\"id\":\"19748\",\"type\":\"CDSView\"},{\"attributes\":{\"data_source\":{\"id\":\"19725\"},\"glyph\":{\"id\":\"19745\"},\"hover_glyph\":null,\"muted_glyph\":null,\"nonselection_glyph\":{\"id\":\"19746\"},\"view\":{\"id\":\"19748\"}},\"id\":\"19747\",\"type\":\"GlyphRenderer\"},{\"attributes\":{\"factors\":[[\"highest affinity\",\"a\"],[\"highest affinity\",\"c\"],[\"very high affinity\",\"a\"],[\"very high affinity\",\"c\"],[\"high affinity\",\"a\"],[\"high affinity\",\"c\"],[\"average affinity\",\"a\"],[\"average affinity\",\"c\"],[\"low affinity\",\"a\"],[\"low affinity\",\"c\"],[\"very low affinity\",\"a\"],[\"very low affinity\",\"c\"],[\"lowest affinity\",\"a\"],[\"lowest affinity\",\"c\"]]},\"id\":\"19726\",\"type\":\"FactorRange\"}],\"root_ids\":[\"19727\"]},\"title\":\"Bokeh Application\",\"version\":\"2.3.1\"}};\n",
       "  var render_items = [{\"docid\":\"fbff88b9-43d2-412c-93da-a6db1c3b0cce\",\"root_ids\":[\"19727\"],\"roots\":{\"19727\":\"56755aa2-2d47-4a6a-b9a5-4b9640e98071\"}}];\n",
       "  root.Bokeh.embed.embed_items_notebook(docs_json, render_items);\n",
       "\n",
       "  }\n",
       "  if (root.Bokeh !== undefined) {\n",
       "    embed_document(root);\n",
       "  } else {\n",
       "    var attempts = 0;\n",
       "    var timer = setInterval(function(root) {\n",
       "      if (root.Bokeh !== undefined) {\n",
       "        clearInterval(timer);\n",
       "        embed_document(root);\n",
       "      } else {\n",
       "        attempts++;\n",
       "        if (attempts > 100) {\n",
       "          clearInterval(timer);\n",
       "          console.log(\"Bokeh: ERROR: Unable to run BokehJS code because BokehJS library is missing\");\n",
       "        }\n",
       "      }\n",
       "    }, 10, root)\n",
       "  }\n",
       "})(window);"
      ],
      "application/vnd.bokehjs_exec.v0+json": ""
     },
     "metadata": {
      "application/vnd.bokehjs_exec.v0+json": {
       "id": "19727"
      }
     },
     "output_type": "display_data"
    },
    {
     "data": {
      "text/html": [
       "<div>\n",
       "<style scoped>\n",
       "    .dataframe tbody tr th:only-of-type {\n",
       "        vertical-align: middle;\n",
       "    }\n",
       "\n",
       "    .dataframe tbody tr th {\n",
       "        vertical-align: top;\n",
       "    }\n",
       "\n",
       "    .dataframe thead th {\n",
       "        text-align: right;\n",
       "    }\n",
       "</style>\n",
       "<table border=\"1\" class=\"dataframe\">\n",
       "  <thead>\n",
       "    <tr style=\"text-align: right;\">\n",
       "      <th></th>\n",
       "      <th>Attribute</th>\n",
       "      <th>Value</th>\n",
       "      <th>Meaning</th>\n",
       "    </tr>\n",
       "  </thead>\n",
       "  <tbody>\n",
       "    <tr>\n",
       "      <th>2090</th>\n",
       "      <td>SEMIO_DOM</td>\n",
       "      <td>-1, 9</td>\n",
       "      <td>unknown</td>\n",
       "    </tr>\n",
       "    <tr>\n",
       "      <th>2091</th>\n",
       "      <td>SEMIO_DOM</td>\n",
       "      <td>1</td>\n",
       "      <td>highest affinity</td>\n",
       "    </tr>\n",
       "    <tr>\n",
       "      <th>2092</th>\n",
       "      <td>SEMIO_DOM</td>\n",
       "      <td>2</td>\n",
       "      <td>very high affinity</td>\n",
       "    </tr>\n",
       "    <tr>\n",
       "      <th>2093</th>\n",
       "      <td>SEMIO_DOM</td>\n",
       "      <td>3</td>\n",
       "      <td>high affinity</td>\n",
       "    </tr>\n",
       "    <tr>\n",
       "      <th>2094</th>\n",
       "      <td>SEMIO_DOM</td>\n",
       "      <td>4</td>\n",
       "      <td>average affinity</td>\n",
       "    </tr>\n",
       "    <tr>\n",
       "      <th>2095</th>\n",
       "      <td>SEMIO_DOM</td>\n",
       "      <td>5</td>\n",
       "      <td>low affinity</td>\n",
       "    </tr>\n",
       "    <tr>\n",
       "      <th>2096</th>\n",
       "      <td>SEMIO_DOM</td>\n",
       "      <td>6</td>\n",
       "      <td>very low affinity</td>\n",
       "    </tr>\n",
       "    <tr>\n",
       "      <th>2097</th>\n",
       "      <td>SEMIO_DOM</td>\n",
       "      <td>7</td>\n",
       "      <td>lowest affinity</td>\n",
       "    </tr>\n",
       "  </tbody>\n",
       "</table>\n",
       "</div>"
      ],
      "text/plain": [
       "      Attribute  Value             Meaning\n",
       "2090  SEMIO_DOM  -1, 9             unknown\n",
       "2091  SEMIO_DOM      1    highest affinity\n",
       "2092  SEMIO_DOM      2  very high affinity\n",
       "2093  SEMIO_DOM      3       high affinity\n",
       "2094  SEMIO_DOM      4    average affinity\n",
       "2095  SEMIO_DOM      5        low affinity\n",
       "2096  SEMIO_DOM      6   very low affinity\n",
       "2097  SEMIO_DOM      7     lowest affinity"
      ]
     },
     "metadata": {},
     "output_type": "display_data"
    },
    {
     "name": "stdout",
     "output_type": "stream",
     "text": [
      "==========================================================================================================================================================================================================================================\n"
     ]
    },
    {
     "data": {
      "text/html": [
       "\n",
       "\n",
       "\n",
       "\n",
       "\n",
       "\n",
       "  <div class=\"bk-root\" id=\"9e6a1a23-9f46-48bd-9d7d-a424c83fbd15\" data-root-id=\"20361\"></div>\n"
      ]
     },
     "metadata": {},
     "output_type": "display_data"
    },
    {
     "data": {
      "application/javascript": [
       "(function(root) {\n",
       "  function embed_document(root) {\n",
       "    \n",
       "  var docs_json = {\"ae8261a0-f637-4132-ad7e-1194a127039b\":{\"defs\":[],\"roots\":{\"references\":[{\"attributes\":{\"below\":[{\"id\":\"20369\"}],\"center\":[{\"id\":\"20371\"},{\"id\":\"20375\"}],\"height\":500,\"left\":[{\"id\":\"20372\"}],\"renderers\":[{\"id\":\"20381\"}],\"title\":{\"id\":\"20383\"},\"toolbar\":{\"id\":\"20376\"},\"toolbar_location\":null,\"width\":950,\"x_range\":{\"id\":\"20360\"},\"x_scale\":{\"id\":\"20365\"},\"y_range\":{\"id\":\"20363\"},\"y_scale\":{\"id\":\"20367\"}},\"id\":\"20361\",\"subtype\":\"Figure\",\"type\":\"Plot\"},{\"attributes\":{\"formatter\":{\"id\":\"20945\"},\"major_label_policy\":{\"id\":\"20947\"},\"ticker\":{\"id\":\"20373\"}},\"id\":\"20372\",\"type\":\"LinearAxis\"},{\"attributes\":{\"formatter\":{\"id\":\"20948\"},\"group_label_orientation\":1.5707963267948966,\"major_label_orientation\":0,\"major_label_policy\":{\"id\":\"20950\"},\"ticker\":{\"id\":\"20370\"}},\"id\":\"20369\",\"type\":\"CategoricalAxis\"},{\"attributes\":{\"axis\":{\"id\":\"20369\"},\"grid_line_color\":null,\"ticker\":null},\"id\":\"20371\",\"type\":\"Grid\"},{\"attributes\":{\"axis\":{\"id\":\"20372\"},\"dimension\":1,\"ticker\":null},\"id\":\"20375\",\"type\":\"Grid\"},{\"attributes\":{},\"id\":\"20951\",\"type\":\"UnionRenderers\"},{\"attributes\":{},\"id\":\"20373\",\"type\":\"BasicTicker\"},{\"attributes\":{},\"id\":\"20952\",\"type\":\"Selection\"},{\"attributes\":{},\"id\":\"20370\",\"type\":\"CategoricalTicker\"},{\"attributes\":{\"start\":0},\"id\":\"20363\",\"type\":\"DataRange1d\"},{\"attributes\":{},\"id\":\"20948\",\"type\":\"CategoricalTickFormatter\"},{\"attributes\":{\"active_multi\":null},\"id\":\"20376\",\"type\":\"Toolbar\"},{\"attributes\":{\"fill_color\":{\"field\":\"x\",\"transform\":{\"id\":\"20377\"}},\"line_color\":{\"value\":null},\"top\":{\"field\":\"counts\"},\"width\":{\"value\":0.9},\"x\":{\"field\":\"x\"}},\"id\":\"20379\",\"type\":\"VBar\"},{\"attributes\":{\"fill_alpha\":{\"value\":0.1},\"fill_color\":{\"field\":\"x\",\"transform\":{\"id\":\"20377\"}},\"line_alpha\":{\"value\":0.1},\"line_color\":{\"value\":null},\"top\":{\"field\":\"counts\"},\"width\":{\"value\":0.9},\"x\":{\"field\":\"x\"}},\"id\":\"20380\",\"type\":\"VBar\"},{\"attributes\":{\"data\":{\"counts\":[0.08145492169675701,0.06080271565495208,0.24347075637905016,0.09937433439829606,0.03789643326284571,0.04416932907348243,0.14654709995494197,0.12496006389776358,0.1611420901685266,0.16723908413205538,0.1688949337122341,0.19407614483493077,0.16059376482564447,0.3093783280085197],\"x\":[[\"highest affinity\",\"a\"],[\"highest affinity\",\"c\"],[\"very high affinity\",\"a\"],[\"very high affinity\",\"c\"],[\"high affinity\",\"a\"],[\"high affinity\",\"c\"],[\"average affinity\",\"a\"],[\"average affinity\",\"c\"],[\"low affinity\",\"a\"],[\"low affinity\",\"c\"],[\"very low affinity\",\"a\"],[\"very low affinity\",\"c\"],[\"lowest affinity\",\"a\"],[\"lowest affinity\",\"c\"]]},\"selected\":{\"id\":\"20952\"},\"selection_policy\":{\"id\":\"20951\"}},\"id\":\"20359\",\"type\":\"ColumnDataSource\"},{\"attributes\":{},\"id\":\"20367\",\"type\":\"LinearScale\"},{\"attributes\":{},\"id\":\"20365\",\"type\":\"CategoricalScale\"},{\"attributes\":{\"end\":2,\"factors\":[\"a\",\"c\"],\"palette\":[\"#1f77b4\",\"#ff7f0e\"],\"start\":1},\"id\":\"20377\",\"type\":\"CategoricalColorMapper\"},{\"attributes\":{},\"id\":\"20945\",\"type\":\"BasicTickFormatter\"},{\"attributes\":{\"factors\":[[\"highest affinity\",\"a\"],[\"highest affinity\",\"c\"],[\"very high affinity\",\"a\"],[\"very high affinity\",\"c\"],[\"high affinity\",\"a\"],[\"high affinity\",\"c\"],[\"average affinity\",\"a\"],[\"average affinity\",\"c\"],[\"low affinity\",\"a\"],[\"low affinity\",\"c\"],[\"very low affinity\",\"a\"],[\"very low affinity\",\"c\"],[\"lowest affinity\",\"a\"],[\"lowest affinity\",\"c\"]]},\"id\":\"20360\",\"type\":\"FactorRange\"},{\"attributes\":{},\"id\":\"20947\",\"type\":\"AllLabels\"},{\"attributes\":{},\"id\":\"20950\",\"type\":\"AllLabels\"},{\"attributes\":{\"data_source\":{\"id\":\"20359\"},\"glyph\":{\"id\":\"20379\"},\"hover_glyph\":null,\"muted_glyph\":null,\"nonselection_glyph\":{\"id\":\"20380\"},\"view\":{\"id\":\"20382\"}},\"id\":\"20381\",\"type\":\"GlyphRenderer\"},{\"attributes\":{\"text\":\"SEMIO_VERT [ks:0.1801 p:0.0000]\"},\"id\":\"20383\",\"type\":\"Title\"},{\"attributes\":{\"source\":{\"id\":\"20359\"}},\"id\":\"20382\",\"type\":\"CDSView\"}],\"root_ids\":[\"20361\"]},\"title\":\"Bokeh Application\",\"version\":\"2.3.1\"}};\n",
       "  var render_items = [{\"docid\":\"ae8261a0-f637-4132-ad7e-1194a127039b\",\"root_ids\":[\"20361\"],\"roots\":{\"20361\":\"9e6a1a23-9f46-48bd-9d7d-a424c83fbd15\"}}];\n",
       "  root.Bokeh.embed.embed_items_notebook(docs_json, render_items);\n",
       "\n",
       "  }\n",
       "  if (root.Bokeh !== undefined) {\n",
       "    embed_document(root);\n",
       "  } else {\n",
       "    var attempts = 0;\n",
       "    var timer = setInterval(function(root) {\n",
       "      if (root.Bokeh !== undefined) {\n",
       "        clearInterval(timer);\n",
       "        embed_document(root);\n",
       "      } else {\n",
       "        attempts++;\n",
       "        if (attempts > 100) {\n",
       "          clearInterval(timer);\n",
       "          console.log(\"Bokeh: ERROR: Unable to run BokehJS code because BokehJS library is missing\");\n",
       "        }\n",
       "      }\n",
       "    }, 10, root)\n",
       "  }\n",
       "})(window);"
      ],
      "application/vnd.bokehjs_exec.v0+json": ""
     },
     "metadata": {
      "application/vnd.bokehjs_exec.v0+json": {
       "id": "20361"
      }
     },
     "output_type": "display_data"
    },
    {
     "data": {
      "text/html": [
       "<div>\n",
       "<style scoped>\n",
       "    .dataframe tbody tr th:only-of-type {\n",
       "        vertical-align: middle;\n",
       "    }\n",
       "\n",
       "    .dataframe tbody tr th {\n",
       "        vertical-align: top;\n",
       "    }\n",
       "\n",
       "    .dataframe thead th {\n",
       "        text-align: right;\n",
       "    }\n",
       "</style>\n",
       "<table border=\"1\" class=\"dataframe\">\n",
       "  <thead>\n",
       "    <tr style=\"text-align: right;\">\n",
       "      <th></th>\n",
       "      <th>Attribute</th>\n",
       "      <th>Value</th>\n",
       "      <th>Meaning</th>\n",
       "    </tr>\n",
       "  </thead>\n",
       "  <tbody>\n",
       "    <tr>\n",
       "      <th>2194</th>\n",
       "      <td>SEMIO_VERT</td>\n",
       "      <td>-1, 9</td>\n",
       "      <td>unknown</td>\n",
       "    </tr>\n",
       "    <tr>\n",
       "      <th>2195</th>\n",
       "      <td>SEMIO_VERT</td>\n",
       "      <td>1</td>\n",
       "      <td>highest affinity</td>\n",
       "    </tr>\n",
       "    <tr>\n",
       "      <th>2196</th>\n",
       "      <td>SEMIO_VERT</td>\n",
       "      <td>2</td>\n",
       "      <td>very high affinity</td>\n",
       "    </tr>\n",
       "    <tr>\n",
       "      <th>2197</th>\n",
       "      <td>SEMIO_VERT</td>\n",
       "      <td>3</td>\n",
       "      <td>high affinity</td>\n",
       "    </tr>\n",
       "    <tr>\n",
       "      <th>2198</th>\n",
       "      <td>SEMIO_VERT</td>\n",
       "      <td>4</td>\n",
       "      <td>average affinity</td>\n",
       "    </tr>\n",
       "    <tr>\n",
       "      <th>2199</th>\n",
       "      <td>SEMIO_VERT</td>\n",
       "      <td>5</td>\n",
       "      <td>low affinity</td>\n",
       "    </tr>\n",
       "    <tr>\n",
       "      <th>2200</th>\n",
       "      <td>SEMIO_VERT</td>\n",
       "      <td>6</td>\n",
       "      <td>very low affinity</td>\n",
       "    </tr>\n",
       "    <tr>\n",
       "      <th>2201</th>\n",
       "      <td>SEMIO_VERT</td>\n",
       "      <td>7</td>\n",
       "      <td>lowest affinity</td>\n",
       "    </tr>\n",
       "  </tbody>\n",
       "</table>\n",
       "</div>"
      ],
      "text/plain": [
       "       Attribute  Value             Meaning\n",
       "2194  SEMIO_VERT  -1, 9             unknown\n",
       "2195  SEMIO_VERT      1    highest affinity\n",
       "2196  SEMIO_VERT      2  very high affinity\n",
       "2197  SEMIO_VERT      3       high affinity\n",
       "2198  SEMIO_VERT      4    average affinity\n",
       "2199  SEMIO_VERT      5        low affinity\n",
       "2200  SEMIO_VERT      6   very low affinity\n",
       "2201  SEMIO_VERT      7     lowest affinity"
      ]
     },
     "metadata": {},
     "output_type": "display_data"
    },
    {
     "name": "stdout",
     "output_type": "stream",
     "text": [
      "==========================================================================================================================================================================================================================================\n"
     ]
    },
    {
     "data": {
      "text/html": [
       "\n",
       "\n",
       "\n",
       "\n",
       "\n",
       "\n",
       "  <div class=\"bk-root\" id=\"5f66137d-4b6b-4cee-80ae-4abc16e77f44\" data-root-id=\"21005\"></div>\n"
      ]
     },
     "metadata": {},
     "output_type": "display_data"
    },
    {
     "data": {
      "application/javascript": [
       "(function(root) {\n",
       "  function embed_document(root) {\n",
       "    \n",
       "  var docs_json = {\"6981d46d-3015-425c-b4cd-0bbda9ed73ed\":{\"defs\":[],\"roots\":{\"references\":[{\"attributes\":{\"below\":[{\"id\":\"21013\"}],\"center\":[{\"id\":\"21015\"},{\"id\":\"21019\"}],\"height\":500,\"left\":[{\"id\":\"21016\"}],\"renderers\":[{\"id\":\"21025\"}],\"title\":{\"id\":\"21027\"},\"toolbar\":{\"id\":\"21020\"},\"toolbar_location\":null,\"width\":950,\"x_range\":{\"id\":\"21004\"},\"x_scale\":{\"id\":\"21009\"},\"y_range\":{\"id\":\"21007\"},\"y_scale\":{\"id\":\"21011\"}},\"id\":\"21005\",\"subtype\":\"Figure\",\"type\":\"Plot\"},{\"attributes\":{\"source\":{\"id\":\"21003\"}},\"id\":\"21026\",\"type\":\"CDSView\"},{\"attributes\":{\"data_source\":{\"id\":\"21003\"},\"glyph\":{\"id\":\"21023\"},\"hover_glyph\":null,\"muted_glyph\":null,\"nonselection_glyph\":{\"id\":\"21024\"},\"view\":{\"id\":\"21026\"}},\"id\":\"21025\",\"type\":\"GlyphRenderer\"},{\"attributes\":{\"factors\":[[\"highest affinity\",\"a\"],[\"highest affinity\",\"c\"],[\"very high affinity\",\"a\"],[\"very high affinity\",\"c\"],[\"high affinity\",\"a\"],[\"high affinity\",\"c\"],[\"average affinity\",\"a\"],[\"average affinity\",\"c\"],[\"low affinity\",\"a\"],[\"low affinity\",\"c\"],[\"very low affinity\",\"a\"],[\"very low affinity\",\"c\"],[\"lowest affinity\",\"a\"],[\"lowest affinity\",\"c\"]]},\"id\":\"21004\",\"type\":\"FactorRange\"},{\"attributes\":{\"text\":\"SEMIO_REL [ks:0.1788 p:0.0000]\"},\"id\":\"21027\",\"type\":\"Title\"},{\"attributes\":{},\"id\":\"21009\",\"type\":\"CategoricalScale\"},{\"attributes\":{\"formatter\":{\"id\":\"21599\"},\"major_label_policy\":{\"id\":\"21601\"},\"ticker\":{\"id\":\"21017\"}},\"id\":\"21016\",\"type\":\"LinearAxis\"},{\"attributes\":{},\"id\":\"21605\",\"type\":\"UnionRenderers\"},{\"attributes\":{\"axis\":{\"id\":\"21013\"},\"grid_line_color\":null,\"ticker\":null},\"id\":\"21015\",\"type\":\"Grid\"},{\"attributes\":{},\"id\":\"21606\",\"type\":\"Selection\"},{\"attributes\":{\"axis\":{\"id\":\"21016\"},\"dimension\":1,\"ticker\":null},\"id\":\"21019\",\"type\":\"Grid\"},{\"attributes\":{},\"id\":\"21017\",\"type\":\"BasicTicker\"},{\"attributes\":{},\"id\":\"21014\",\"type\":\"CategoricalTicker\"},{\"attributes\":{\"active_multi\":null},\"id\":\"21020\",\"type\":\"Toolbar\"},{\"attributes\":{\"formatter\":{\"id\":\"21602\"},\"group_label_orientation\":1.5707963267948966,\"major_label_orientation\":0,\"major_label_policy\":{\"id\":\"21604\"},\"ticker\":{\"id\":\"21014\"}},\"id\":\"21013\",\"type\":\"CategoricalAxis\"},{\"attributes\":{\"fill_alpha\":{\"value\":0.1},\"fill_color\":{\"field\":\"x\",\"transform\":{\"id\":\"21021\"}},\"line_alpha\":{\"value\":0.1},\"line_color\":{\"value\":null},\"top\":{\"field\":\"counts\"},\"width\":{\"value\":0.9},\"x\":{\"field\":\"x\"}},\"id\":\"21024\",\"type\":\"VBar\"},{\"attributes\":{\"start\":0},\"id\":\"21007\",\"type\":\"DataRange1d\"},{\"attributes\":{\"end\":2,\"factors\":[\"a\",\"c\"],\"palette\":[\"#1f77b4\",\"#ff7f0e\"],\"start\":1},\"id\":\"21021\",\"type\":\"CategoricalColorMapper\"},{\"attributes\":{},\"id\":\"21011\",\"type\":\"LinearScale\"},{\"attributes\":{\"fill_color\":{\"field\":\"x\",\"transform\":{\"id\":\"21021\"}},\"line_color\":{\"value\":null},\"top\":{\"field\":\"counts\"},\"width\":{\"value\":0.9},\"x\":{\"field\":\"x\"}},\"id\":\"21023\",\"type\":\"VBar\"},{\"attributes\":{},\"id\":\"21599\",\"type\":\"BasicTickFormatter\"},{\"attributes\":{\"data\":{\"counts\":[0.1288576475889181,0.13760649627263047,0.08706572036837927,0.19674520766773163,0.1797422394083808,0.2165135782747604,0.24685130131908006,0.2540135782747604,0.09482452397016157,0.11124201277955272,0.07280449340698376,0.01888312034078807,0.18985407393809645,0.06499600638977636],\"x\":[[\"highest affinity\",\"a\"],[\"highest affinity\",\"c\"],[\"very high affinity\",\"a\"],[\"very high affinity\",\"c\"],[\"high affinity\",\"a\"],[\"high affinity\",\"c\"],[\"average affinity\",\"a\"],[\"average affinity\",\"c\"],[\"low affinity\",\"a\"],[\"low affinity\",\"c\"],[\"very low affinity\",\"a\"],[\"very low affinity\",\"c\"],[\"lowest affinity\",\"a\"],[\"lowest affinity\",\"c\"]]},\"selected\":{\"id\":\"21606\"},\"selection_policy\":{\"id\":\"21605\"}},\"id\":\"21003\",\"type\":\"ColumnDataSource\"},{\"attributes\":{},\"id\":\"21601\",\"type\":\"AllLabels\"},{\"attributes\":{},\"id\":\"21602\",\"type\":\"CategoricalTickFormatter\"},{\"attributes\":{},\"id\":\"21604\",\"type\":\"AllLabels\"}],\"root_ids\":[\"21005\"]},\"title\":\"Bokeh Application\",\"version\":\"2.3.1\"}};\n",
       "  var render_items = [{\"docid\":\"6981d46d-3015-425c-b4cd-0bbda9ed73ed\",\"root_ids\":[\"21005\"],\"roots\":{\"21005\":\"5f66137d-4b6b-4cee-80ae-4abc16e77f44\"}}];\n",
       "  root.Bokeh.embed.embed_items_notebook(docs_json, render_items);\n",
       "\n",
       "  }\n",
       "  if (root.Bokeh !== undefined) {\n",
       "    embed_document(root);\n",
       "  } else {\n",
       "    var attempts = 0;\n",
       "    var timer = setInterval(function(root) {\n",
       "      if (root.Bokeh !== undefined) {\n",
       "        clearInterval(timer);\n",
       "        embed_document(root);\n",
       "      } else {\n",
       "        attempts++;\n",
       "        if (attempts > 100) {\n",
       "          clearInterval(timer);\n",
       "          console.log(\"Bokeh: ERROR: Unable to run BokehJS code because BokehJS library is missing\");\n",
       "        }\n",
       "      }\n",
       "    }, 10, root)\n",
       "  }\n",
       "})(window);"
      ],
      "application/vnd.bokehjs_exec.v0+json": ""
     },
     "metadata": {
      "application/vnd.bokehjs_exec.v0+json": {
       "id": "21005"
      }
     },
     "output_type": "display_data"
    },
    {
     "data": {
      "text/html": [
       "<div>\n",
       "<style scoped>\n",
       "    .dataframe tbody tr th:only-of-type {\n",
       "        vertical-align: middle;\n",
       "    }\n",
       "\n",
       "    .dataframe tbody tr th {\n",
       "        vertical-align: top;\n",
       "    }\n",
       "\n",
       "    .dataframe thead th {\n",
       "        text-align: right;\n",
       "    }\n",
       "</style>\n",
       "<table border=\"1\" class=\"dataframe\">\n",
       "  <thead>\n",
       "    <tr style=\"text-align: right;\">\n",
       "      <th></th>\n",
       "      <th>Attribute</th>\n",
       "      <th>Value</th>\n",
       "      <th>Meaning</th>\n",
       "    </tr>\n",
       "  </thead>\n",
       "  <tbody>\n",
       "    <tr>\n",
       "      <th>2170</th>\n",
       "      <td>SEMIO_REL</td>\n",
       "      <td>-1, 9</td>\n",
       "      <td>unknown</td>\n",
       "    </tr>\n",
       "    <tr>\n",
       "      <th>2171</th>\n",
       "      <td>SEMIO_REL</td>\n",
       "      <td>1</td>\n",
       "      <td>highest affinity</td>\n",
       "    </tr>\n",
       "    <tr>\n",
       "      <th>2172</th>\n",
       "      <td>SEMIO_REL</td>\n",
       "      <td>2</td>\n",
       "      <td>very high affinity</td>\n",
       "    </tr>\n",
       "    <tr>\n",
       "      <th>2173</th>\n",
       "      <td>SEMIO_REL</td>\n",
       "      <td>3</td>\n",
       "      <td>high affinity</td>\n",
       "    </tr>\n",
       "    <tr>\n",
       "      <th>2174</th>\n",
       "      <td>SEMIO_REL</td>\n",
       "      <td>4</td>\n",
       "      <td>average affinity</td>\n",
       "    </tr>\n",
       "    <tr>\n",
       "      <th>2175</th>\n",
       "      <td>SEMIO_REL</td>\n",
       "      <td>5</td>\n",
       "      <td>low affinity</td>\n",
       "    </tr>\n",
       "    <tr>\n",
       "      <th>2176</th>\n",
       "      <td>SEMIO_REL</td>\n",
       "      <td>6</td>\n",
       "      <td>very low affinity</td>\n",
       "    </tr>\n",
       "    <tr>\n",
       "      <th>2177</th>\n",
       "      <td>SEMIO_REL</td>\n",
       "      <td>7</td>\n",
       "      <td>lowest affinity</td>\n",
       "    </tr>\n",
       "  </tbody>\n",
       "</table>\n",
       "</div>"
      ],
      "text/plain": [
       "      Attribute  Value             Meaning\n",
       "2170  SEMIO_REL  -1, 9             unknown\n",
       "2171  SEMIO_REL      1    highest affinity\n",
       "2172  SEMIO_REL      2  very high affinity\n",
       "2173  SEMIO_REL      3       high affinity\n",
       "2174  SEMIO_REL      4    average affinity\n",
       "2175  SEMIO_REL      5        low affinity\n",
       "2176  SEMIO_REL      6   very low affinity\n",
       "2177  SEMIO_REL      7     lowest affinity"
      ]
     },
     "metadata": {},
     "output_type": "display_data"
    },
    {
     "name": "stdout",
     "output_type": "stream",
     "text": [
      "==========================================================================================================================================================================================================================================\n"
     ]
    },
    {
     "data": {
      "text/html": [
       "\n",
       "\n",
       "\n",
       "\n",
       "\n",
       "\n",
       "  <div class=\"bk-root\" id=\"d67e68c0-427c-4b59-8d33-ef0f93f0b85e\" data-root-id=\"21659\"></div>\n"
      ]
     },
     "metadata": {},
     "output_type": "display_data"
    },
    {
     "data": {
      "application/javascript": [
       "(function(root) {\n",
       "  function embed_document(root) {\n",
       "    \n",
       "  var docs_json = {\"e4661944-4215-4bc5-894f-de021e88c917\":{\"defs\":[],\"roots\":{\"references\":[{\"attributes\":{\"below\":[{\"id\":\"21667\"}],\"center\":[{\"id\":\"21669\"},{\"id\":\"21673\"}],\"height\":500,\"left\":[{\"id\":\"21670\"}],\"renderers\":[{\"id\":\"21679\"}],\"title\":{\"id\":\"21681\"},\"toolbar\":{\"id\":\"21674\"},\"toolbar_location\":null,\"width\":950,\"x_range\":{\"id\":\"21658\"},\"x_scale\":{\"id\":\"21663\"},\"y_range\":{\"id\":\"21661\"},\"y_scale\":{\"id\":\"21665\"}},\"id\":\"21659\",\"subtype\":\"Figure\",\"type\":\"Plot\"},{\"attributes\":{},\"id\":\"22268\",\"type\":\"AllLabels\"},{\"attributes\":{\"source\":{\"id\":\"21657\"}},\"id\":\"21680\",\"type\":\"CDSView\"},{\"attributes\":{\"data_source\":{\"id\":\"21657\"},\"glyph\":{\"id\":\"21677\"},\"hover_glyph\":null,\"muted_glyph\":null,\"nonselection_glyph\":{\"id\":\"21678\"},\"view\":{\"id\":\"21680\"}},\"id\":\"21679\",\"type\":\"GlyphRenderer\"},{\"attributes\":{\"text\":\"KBA05_AUTOQUOT [ks:0.1747 p:0.0000]\"},\"id\":\"21681\",\"type\":\"Title\"},{\"attributes\":{},\"id\":\"21663\",\"type\":\"CategoricalScale\"},{\"attributes\":{\"axis\":{\"id\":\"21670\"},\"dimension\":1,\"ticker\":null},\"id\":\"21673\",\"type\":\"Grid\"},{\"attributes\":{\"active_multi\":null},\"id\":\"21674\",\"type\":\"Toolbar\"},{\"attributes\":{},\"id\":\"22269\",\"type\":\"UnionRenderers\"},{\"attributes\":{\"formatter\":{\"id\":\"22263\"},\"major_label_policy\":{\"id\":\"22265\"},\"ticker\":{\"id\":\"21671\"}},\"id\":\"21670\",\"type\":\"LinearAxis\"},{\"attributes\":{\"axis\":{\"id\":\"21667\"},\"grid_line_color\":null,\"ticker\":null},\"id\":\"21669\",\"type\":\"Grid\"},{\"attributes\":{},\"id\":\"22270\",\"type\":\"Selection\"},{\"attributes\":{},\"id\":\"21671\",\"type\":\"BasicTicker\"},{\"attributes\":{\"factors\":[[\"very low car quote\",\"a\"],[\"very low car quote\",\"c\"],[\"low car quote\",\"a\"],[\"low car quote\",\"c\"],[\"average car quote\",\"a\"],[\"average car quote\",\"c\"],[\"high car quote\",\"a\"],[\"high car quote\",\"c\"],[\"very high car quote\",\"a\"],[\"very high car quote\",\"c\"]]},\"id\":\"21658\",\"type\":\"FactorRange\"},{\"attributes\":{},\"id\":\"21668\",\"type\":\"CategoricalTicker\"},{\"attributes\":{\"formatter\":{\"id\":\"22266\"},\"group_label_orientation\":1.5707963267948966,\"major_label_orientation\":0,\"major_label_policy\":{\"id\":\"22268\"},\"ticker\":{\"id\":\"21668\"}},\"id\":\"21667\",\"type\":\"CategoricalAxis\"},{\"attributes\":{\"fill_alpha\":{\"value\":0.1},\"fill_color\":{\"field\":\"x\",\"transform\":{\"id\":\"21675\"}},\"line_alpha\":{\"value\":0.1},\"line_color\":{\"value\":null},\"top\":{\"field\":\"counts\"},\"width\":{\"value\":0.9},\"x\":{\"field\":\"x\"}},\"id\":\"21678\",\"type\":\"VBar\"},{\"attributes\":{\"data\":{\"counts\":[0.11319581551779132,0.03982106897909747,0.1659553908248781,0.08189363709995022,0.3472331571630255,0.3299597999658188,0.26203751929596475,0.38736931273546,0.11157811719834031,0.1609561812196735],\"x\":[[\"very low car quote\",\"a\"],[\"very low car quote\",\"c\"],[\"low car quote\",\"a\"],[\"low car quote\",\"c\"],[\"average car quote\",\"a\"],[\"average car quote\",\"c\"],[\"high car quote\",\"a\"],[\"high car quote\",\"c\"],[\"very high car quote\",\"a\"],[\"very high car quote\",\"c\"]]},\"selected\":{\"id\":\"22270\"},\"selection_policy\":{\"id\":\"22269\"}},\"id\":\"21657\",\"type\":\"ColumnDataSource\"},{\"attributes\":{\"start\":0},\"id\":\"21661\",\"type\":\"DataRange1d\"},{\"attributes\":{\"end\":2,\"factors\":[\"a\",\"c\"],\"palette\":[\"#1f77b4\",\"#ff7f0e\"],\"start\":1},\"id\":\"21675\",\"type\":\"CategoricalColorMapper\"},{\"attributes\":{},\"id\":\"21665\",\"type\":\"LinearScale\"},{\"attributes\":{},\"id\":\"22263\",\"type\":\"BasicTickFormatter\"},{\"attributes\":{\"fill_color\":{\"field\":\"x\",\"transform\":{\"id\":\"21675\"}},\"line_color\":{\"value\":null},\"top\":{\"field\":\"counts\"},\"width\":{\"value\":0.9},\"x\":{\"field\":\"x\"}},\"id\":\"21677\",\"type\":\"VBar\"},{\"attributes\":{},\"id\":\"22265\",\"type\":\"AllLabels\"},{\"attributes\":{},\"id\":\"22266\",\"type\":\"CategoricalTickFormatter\"}],\"root_ids\":[\"21659\"]},\"title\":\"Bokeh Application\",\"version\":\"2.3.1\"}};\n",
       "  var render_items = [{\"docid\":\"e4661944-4215-4bc5-894f-de021e88c917\",\"root_ids\":[\"21659\"],\"roots\":{\"21659\":\"d67e68c0-427c-4b59-8d33-ef0f93f0b85e\"}}];\n",
       "  root.Bokeh.embed.embed_items_notebook(docs_json, render_items);\n",
       "\n",
       "  }\n",
       "  if (root.Bokeh !== undefined) {\n",
       "    embed_document(root);\n",
       "  } else {\n",
       "    var attempts = 0;\n",
       "    var timer = setInterval(function(root) {\n",
       "      if (root.Bokeh !== undefined) {\n",
       "        clearInterval(timer);\n",
       "        embed_document(root);\n",
       "      } else {\n",
       "        attempts++;\n",
       "        if (attempts > 100) {\n",
       "          clearInterval(timer);\n",
       "          console.log(\"Bokeh: ERROR: Unable to run BokehJS code because BokehJS library is missing\");\n",
       "        }\n",
       "      }\n",
       "    }, 10, root)\n",
       "  }\n",
       "})(window);"
      ],
      "application/vnd.bokehjs_exec.v0+json": ""
     },
     "metadata": {
      "application/vnd.bokehjs_exec.v0+json": {
       "id": "21659"
      }
     },
     "output_type": "display_data"
    },
    {
     "data": {
      "text/html": [
       "<div>\n",
       "<style scoped>\n",
       "    .dataframe tbody tr th:only-of-type {\n",
       "        vertical-align: middle;\n",
       "    }\n",
       "\n",
       "    .dataframe tbody tr th {\n",
       "        vertical-align: top;\n",
       "    }\n",
       "\n",
       "    .dataframe thead th {\n",
       "        text-align: right;\n",
       "    }\n",
       "</style>\n",
       "<table border=\"1\" class=\"dataframe\">\n",
       "  <thead>\n",
       "    <tr style=\"text-align: right;\">\n",
       "      <th></th>\n",
       "      <th>Attribute</th>\n",
       "      <th>Value</th>\n",
       "      <th>Meaning</th>\n",
       "    </tr>\n",
       "  </thead>\n",
       "  <tbody>\n",
       "    <tr>\n",
       "      <th>816</th>\n",
       "      <td>KBA05_AUTOQUOT</td>\n",
       "      <td>1</td>\n",
       "      <td>very low car quote</td>\n",
       "    </tr>\n",
       "    <tr>\n",
       "      <th>817</th>\n",
       "      <td>KBA05_AUTOQUOT</td>\n",
       "      <td>2</td>\n",
       "      <td>low car quote</td>\n",
       "    </tr>\n",
       "    <tr>\n",
       "      <th>818</th>\n",
       "      <td>KBA05_AUTOQUOT</td>\n",
       "      <td>3</td>\n",
       "      <td>average car quote</td>\n",
       "    </tr>\n",
       "    <tr>\n",
       "      <th>819</th>\n",
       "      <td>KBA05_AUTOQUOT</td>\n",
       "      <td>4</td>\n",
       "      <td>high car quote</td>\n",
       "    </tr>\n",
       "    <tr>\n",
       "      <th>820</th>\n",
       "      <td>KBA05_AUTOQUOT</td>\n",
       "      <td>5</td>\n",
       "      <td>very high car quote</td>\n",
       "    </tr>\n",
       "    <tr>\n",
       "      <th>821</th>\n",
       "      <td>KBA05_AUTOQUOT</td>\n",
       "      <td>-1, 9</td>\n",
       "      <td>unknown</td>\n",
       "    </tr>\n",
       "  </tbody>\n",
       "</table>\n",
       "</div>"
      ],
      "text/plain": [
       "          Attribute  Value              Meaning\n",
       "816  KBA05_AUTOQUOT      1   very low car quote\n",
       "817  KBA05_AUTOQUOT      2        low car quote\n",
       "818  KBA05_AUTOQUOT      3    average car quote\n",
       "819  KBA05_AUTOQUOT      4       high car quote\n",
       "820  KBA05_AUTOQUOT      5  very high car quote\n",
       "821  KBA05_AUTOQUOT  -1, 9              unknown"
      ]
     },
     "metadata": {},
     "output_type": "display_data"
    },
    {
     "name": "stdout",
     "output_type": "stream",
     "text": [
      "==========================================================================================================================================================================================================================================\n"
     ]
    },
    {
     "data": {
      "text/html": [
       "\n",
       "\n",
       "\n",
       "\n",
       "\n",
       "\n",
       "  <div class=\"bk-root\" id=\"7c321144-78b9-4229-a7d2-002bd36425ce\" data-root-id=\"22323\"></div>\n"
      ]
     },
     "metadata": {},
     "output_type": "display_data"
    },
    {
     "data": {
      "application/javascript": [
       "(function(root) {\n",
       "  function embed_document(root) {\n",
       "    \n",
       "  var docs_json = {\"3647aec2-d65a-4020-bb25-9b9802b799f0\":{\"defs\":[],\"roots\":{\"references\":[{\"attributes\":{\"below\":[{\"id\":\"22331\"}],\"center\":[{\"id\":\"22333\"},{\"id\":\"22337\"}],\"height\":500,\"left\":[{\"id\":\"22334\"}],\"renderers\":[{\"id\":\"22343\"}],\"title\":{\"id\":\"22345\"},\"toolbar\":{\"id\":\"22338\"},\"toolbar_location\":null,\"width\":950,\"x_range\":{\"id\":\"22322\"},\"x_scale\":{\"id\":\"22327\"},\"y_range\":{\"id\":\"22325\"},\"y_scale\":{\"id\":\"22329\"}},\"id\":\"22323\",\"subtype\":\"Figure\",\"type\":\"Plot\"},{\"attributes\":{\"data\":{\"counts\":[0.14140167736741738,0.06950829834180755,0.18278817792500016,0.08756613951840837,0.26106356443875495,0.2558354057664067,0.20495423861904227,0.3170785704270565,0.20979234164978522,0.2700115859463209],\"x\":[[\"1-2 buildings\",\"a\"],[\"1-2 buildings\",\"c\"],[\"3-4 buildings\",\"a\"],[\"3-4 buildings\",\"c\"],[\"5-16 buildings\",\"a\"],[\"5-16 buildings\",\"c\"],[\"17-22 buildings\",\"a\"],[\"17-22 buildings\",\"c\"],[\">=23 buildings\",\"a\"],[\">=23 buildings\",\"c\"]]},\"selected\":{\"id\":\"22944\"},\"selection_policy\":{\"id\":\"22943\"}},\"id\":\"22321\",\"type\":\"ColumnDataSource\"},{\"attributes\":{},\"id\":\"22939\",\"type\":\"AllLabels\"},{\"attributes\":{},\"id\":\"22940\",\"type\":\"CategoricalTickFormatter\"},{\"attributes\":{},\"id\":\"22942\",\"type\":\"AllLabels\"},{\"attributes\":{\"source\":{\"id\":\"22321\"}},\"id\":\"22344\",\"type\":\"CDSView\"},{\"attributes\":{\"data_source\":{\"id\":\"22321\"},\"glyph\":{\"id\":\"22341\"},\"hover_glyph\":null,\"muted_glyph\":null,\"nonselection_glyph\":{\"id\":\"22342\"},\"view\":{\"id\":\"22344\"}},\"id\":\"22343\",\"type\":\"GlyphRenderer\"},{\"attributes\":{\"text\":\"KBA05_GBZ [ks:0.1723 p:0.0000]\"},\"id\":\"22345\",\"type\":\"Title\"},{\"attributes\":{},\"id\":\"22327\",\"type\":\"CategoricalScale\"},{\"attributes\":{\"axis\":{\"id\":\"22334\"},\"dimension\":1,\"ticker\":null},\"id\":\"22337\",\"type\":\"Grid\"},{\"attributes\":{\"active_multi\":null},\"id\":\"22338\",\"type\":\"Toolbar\"},{\"attributes\":{},\"id\":\"22335\",\"type\":\"BasicTicker\"},{\"attributes\":{\"axis\":{\"id\":\"22331\"},\"grid_line_color\":null,\"ticker\":null},\"id\":\"22333\",\"type\":\"Grid\"},{\"attributes\":{},\"id\":\"22943\",\"type\":\"UnionRenderers\"},{\"attributes\":{\"formatter\":{\"id\":\"22937\"},\"major_label_policy\":{\"id\":\"22939\"},\"ticker\":{\"id\":\"22335\"}},\"id\":\"22334\",\"type\":\"LinearAxis\"},{\"attributes\":{},\"id\":\"22944\",\"type\":\"Selection\"},{\"attributes\":{\"factors\":[[\"1-2 buildings\",\"a\"],[\"1-2 buildings\",\"c\"],[\"3-4 buildings\",\"a\"],[\"3-4 buildings\",\"c\"],[\"5-16 buildings\",\"a\"],[\"5-16 buildings\",\"c\"],[\"17-22 buildings\",\"a\"],[\"17-22 buildings\",\"c\"],[\">=23 buildings\",\"a\"],[\">=23 buildings\",\"c\"]]},\"id\":\"22322\",\"type\":\"FactorRange\"},{\"attributes\":{},\"id\":\"22332\",\"type\":\"CategoricalTicker\"},{\"attributes\":{\"formatter\":{\"id\":\"22940\"},\"group_label_orientation\":1.5707963267948966,\"major_label_orientation\":0,\"major_label_policy\":{\"id\":\"22942\"},\"ticker\":{\"id\":\"22332\"}},\"id\":\"22331\",\"type\":\"CategoricalAxis\"},{\"attributes\":{\"fill_alpha\":{\"value\":0.1},\"fill_color\":{\"field\":\"x\",\"transform\":{\"id\":\"22339\"}},\"line_alpha\":{\"value\":0.1},\"line_color\":{\"value\":null},\"top\":{\"field\":\"counts\"},\"width\":{\"value\":0.9},\"x\":{\"field\":\"x\"}},\"id\":\"22342\",\"type\":\"VBar\"},{\"attributes\":{\"start\":0},\"id\":\"22325\",\"type\":\"DataRange1d\"},{\"attributes\":{\"end\":2,\"factors\":[\"a\",\"c\"],\"palette\":[\"#1f77b4\",\"#ff7f0e\"],\"start\":1},\"id\":\"22339\",\"type\":\"CategoricalColorMapper\"},{\"attributes\":{},\"id\":\"22329\",\"type\":\"LinearScale\"},{\"attributes\":{\"fill_color\":{\"field\":\"x\",\"transform\":{\"id\":\"22339\"}},\"line_color\":{\"value\":null},\"top\":{\"field\":\"counts\"},\"width\":{\"value\":0.9},\"x\":{\"field\":\"x\"}},\"id\":\"22341\",\"type\":\"VBar\"},{\"attributes\":{},\"id\":\"22937\",\"type\":\"BasicTickFormatter\"}],\"root_ids\":[\"22323\"]},\"title\":\"Bokeh Application\",\"version\":\"2.3.1\"}};\n",
       "  var render_items = [{\"docid\":\"3647aec2-d65a-4020-bb25-9b9802b799f0\",\"root_ids\":[\"22323\"],\"roots\":{\"22323\":\"7c321144-78b9-4229-a7d2-002bd36425ce\"}}];\n",
       "  root.Bokeh.embed.embed_items_notebook(docs_json, render_items);\n",
       "\n",
       "  }\n",
       "  if (root.Bokeh !== undefined) {\n",
       "    embed_document(root);\n",
       "  } else {\n",
       "    var attempts = 0;\n",
       "    var timer = setInterval(function(root) {\n",
       "      if (root.Bokeh !== undefined) {\n",
       "        clearInterval(timer);\n",
       "        embed_document(root);\n",
       "      } else {\n",
       "        attempts++;\n",
       "        if (attempts > 100) {\n",
       "          clearInterval(timer);\n",
       "          console.log(\"Bokeh: ERROR: Unable to run BokehJS code because BokehJS library is missing\");\n",
       "        }\n",
       "      }\n",
       "    }, 10, root)\n",
       "  }\n",
       "})(window);"
      ],
      "application/vnd.bokehjs_exec.v0+json": ""
     },
     "metadata": {
      "application/vnd.bokehjs_exec.v0+json": {
       "id": "22323"
      }
     },
     "output_type": "display_data"
    },
    {
     "data": {
      "text/html": [
       "<div>\n",
       "<style scoped>\n",
       "    .dataframe tbody tr th:only-of-type {\n",
       "        vertical-align: middle;\n",
       "    }\n",
       "\n",
       "    .dataframe tbody tr th {\n",
       "        vertical-align: top;\n",
       "    }\n",
       "\n",
       "    .dataframe thead th {\n",
       "        text-align: right;\n",
       "    }\n",
       "</style>\n",
       "<table border=\"1\" class=\"dataframe\">\n",
       "  <thead>\n",
       "    <tr style=\"text-align: right;\">\n",
       "      <th></th>\n",
       "      <th>Attribute</th>\n",
       "      <th>Value</th>\n",
       "      <th>Meaning</th>\n",
       "    </tr>\n",
       "  </thead>\n",
       "  <tbody>\n",
       "    <tr>\n",
       "      <th>864</th>\n",
       "      <td>KBA05_GBZ</td>\n",
       "      <td>-1, 0</td>\n",
       "      <td>unknown</td>\n",
       "    </tr>\n",
       "    <tr>\n",
       "      <th>865</th>\n",
       "      <td>KBA05_GBZ</td>\n",
       "      <td>1</td>\n",
       "      <td>1-2 buildings</td>\n",
       "    </tr>\n",
       "    <tr>\n",
       "      <th>866</th>\n",
       "      <td>KBA05_GBZ</td>\n",
       "      <td>2</td>\n",
       "      <td>3-4 buildings</td>\n",
       "    </tr>\n",
       "    <tr>\n",
       "      <th>867</th>\n",
       "      <td>KBA05_GBZ</td>\n",
       "      <td>3</td>\n",
       "      <td>5-16 buildings</td>\n",
       "    </tr>\n",
       "    <tr>\n",
       "      <th>868</th>\n",
       "      <td>KBA05_GBZ</td>\n",
       "      <td>4</td>\n",
       "      <td>17-22 buildings</td>\n",
       "    </tr>\n",
       "    <tr>\n",
       "      <th>869</th>\n",
       "      <td>KBA05_GBZ</td>\n",
       "      <td>5</td>\n",
       "      <td>&gt;=23 buildings</td>\n",
       "    </tr>\n",
       "  </tbody>\n",
       "</table>\n",
       "</div>"
      ],
      "text/plain": [
       "     Attribute  Value          Meaning\n",
       "864  KBA05_GBZ  -1, 0          unknown\n",
       "865  KBA05_GBZ      1    1-2 buildings\n",
       "866  KBA05_GBZ      2    3-4 buildings\n",
       "867  KBA05_GBZ      3   5-16 buildings\n",
       "868  KBA05_GBZ      4  17-22 buildings\n",
       "869  KBA05_GBZ      5   >=23 buildings"
      ]
     },
     "metadata": {},
     "output_type": "display_data"
    },
    {
     "name": "stdout",
     "output_type": "stream",
     "text": [
      "==========================================================================================================================================================================================================================================\n"
     ]
    },
    {
     "data": {
      "text/html": [
       "\n",
       "\n",
       "\n",
       "\n",
       "\n",
       "\n",
       "  <div class=\"bk-root\" id=\"878226df-add0-41ec-8dcc-b935da0ab2d1\" data-root-id=\"22997\"></div>\n"
      ]
     },
     "metadata": {},
     "output_type": "display_data"
    },
    {
     "data": {
      "application/javascript": [
       "(function(root) {\n",
       "  function embed_document(root) {\n",
       "    \n",
       "  var docs_json = {\"83f183dc-70fe-43d8-9f8d-d53df995121b\":{\"defs\":[],\"roots\":{\"references\":[{\"attributes\":{\"below\":[{\"id\":\"23005\"}],\"center\":[{\"id\":\"23007\"},{\"id\":\"23011\"}],\"height\":500,\"left\":[{\"id\":\"23008\"}],\"renderers\":[{\"id\":\"23017\"}],\"title\":{\"id\":\"23019\"},\"toolbar\":{\"id\":\"23012\"},\"toolbar_location\":null,\"width\":950,\"x_range\":{\"id\":\"22996\"},\"x_scale\":{\"id\":\"23001\"},\"y_range\":{\"id\":\"22999\"},\"y_scale\":{\"id\":\"23003\"}},\"id\":\"22997\",\"subtype\":\"Figure\",\"type\":\"Plot\"},{\"attributes\":{},\"id\":\"23621\",\"type\":\"BasicTickFormatter\"},{\"attributes\":{},\"id\":\"23623\",\"type\":\"AllLabels\"},{\"attributes\":{},\"id\":\"23624\",\"type\":\"CategoricalTickFormatter\"},{\"attributes\":{},\"id\":\"23626\",\"type\":\"AllLabels\"},{\"attributes\":{\"source\":{\"id\":\"22995\"}},\"id\":\"23018\",\"type\":\"CDSView\"},{\"attributes\":{\"data_source\":{\"id\":\"22995\"},\"glyph\":{\"id\":\"23015\"},\"hover_glyph\":null,\"muted_glyph\":null,\"nonselection_glyph\":{\"id\":\"23016\"},\"view\":{\"id\":\"23018\"}},\"id\":\"23017\",\"type\":\"GlyphRenderer\"},{\"attributes\":{\"text\":\"KBA05_MAXAH [ks:0.1655 p:0.0000]\"},\"id\":\"23019\",\"type\":\"Title\"},{\"attributes\":{\"formatter\":{\"id\":\"23624\"},\"group_label_orientation\":1.5707963267948966,\"major_label_orientation\":0,\"major_label_policy\":{\"id\":\"23626\"},\"ticker\":{\"id\":\"23006\"}},\"id\":\"23005\",\"type\":\"CategoricalAxis\"},{\"attributes\":{},\"id\":\"23009\",\"type\":\"BasicTicker\"},{\"attributes\":{\"active_multi\":null},\"id\":\"23012\",\"type\":\"Toolbar\"},{\"attributes\":{\"axis\":{\"id\":\"23005\"},\"grid_line_color\":null,\"ticker\":null},\"id\":\"23007\",\"type\":\"Grid\"},{\"attributes\":{},\"id\":\"23627\",\"type\":\"UnionRenderers\"},{\"attributes\":{},\"id\":\"23628\",\"type\":\"Selection\"},{\"attributes\":{\"formatter\":{\"id\":\"23621\"},\"major_label_policy\":{\"id\":\"23623\"},\"ticker\":{\"id\":\"23009\"}},\"id\":\"23008\",\"type\":\"LinearAxis\"},{\"attributes\":{\"start\":0},\"id\":\"22999\",\"type\":\"DataRange1d\"},{\"attributes\":{\"axis\":{\"id\":\"23008\"},\"dimension\":1,\"ticker\":null},\"id\":\"23011\",\"type\":\"Grid\"},{\"attributes\":{},\"id\":\"23006\",\"type\":\"CategoricalTicker\"},{\"attributes\":{\"fill_alpha\":{\"value\":0.1},\"fill_color\":{\"field\":\"x\",\"transform\":{\"id\":\"23013\"}},\"line_alpha\":{\"value\":0.1},\"line_color\":{\"value\":null},\"top\":{\"field\":\"counts\"},\"width\":{\"value\":0.9},\"x\":{\"field\":\"x\"}},\"id\":\"23016\",\"type\":\"VBar\"},{\"attributes\":{},\"id\":\"23003\",\"type\":\"LinearScale\"},{\"attributes\":{\"fill_color\":{\"field\":\"x\",\"transform\":{\"id\":\"23013\"}},\"line_color\":{\"value\":null},\"top\":{\"field\":\"counts\"},\"width\":{\"value\":0.9},\"x\":{\"field\":\"x\"}},\"id\":\"23015\",\"type\":\"VBar\"},{\"attributes\":{},\"id\":\"23001\",\"type\":\"CategoricalScale\"},{\"attributes\":{\"factors\":[[\"below 30 years\",\"a\"],[\"below 30 years\",\"c\"],[\"30 - 40 years\",\"a\"],[\"30 - 40 years\",\"c\"],[\"40 - 50 years\",\"a\"],[\"40 - 50 years\",\"c\"],[\"50 - 60 years\",\"a\"],[\"50 - 60 years\",\"c\"],[\"elder than 60 years\",\"a\"],[\"elder than 60 years\",\"c\"]]},\"id\":\"22996\",\"type\":\"FactorRange\"},{\"attributes\":{\"end\":2,\"factors\":[\"a\",\"c\"],\"palette\":[\"#1f77b4\",\"#ff7f0e\"],\"start\":1},\"id\":\"23013\",\"type\":\"CategoricalColorMapper\"},{\"attributes\":{\"data\":{\"counts\":[0.06864404954807035,0.019765489158703502,0.24990713774298956,0.16452169002362943,0.28146684682841744,0.2502489262732393,0.1375343859516901,0.1618392307806625,0.2624475799288325,0.40362466376376527],\"x\":[[\"below 30 years\",\"a\"],[\"below 30 years\",\"c\"],[\"30 - 40 years\",\"a\"],[\"30 - 40 years\",\"c\"],[\"40 - 50 years\",\"a\"],[\"40 - 50 years\",\"c\"],[\"50 - 60 years\",\"a\"],[\"50 - 60 years\",\"c\"],[\"elder than 60 years\",\"a\"],[\"elder than 60 years\",\"c\"]]},\"selected\":{\"id\":\"23628\"},\"selection_policy\":{\"id\":\"23627\"}},\"id\":\"22995\",\"type\":\"ColumnDataSource\"}],\"root_ids\":[\"22997\"]},\"title\":\"Bokeh Application\",\"version\":\"2.3.1\"}};\n",
       "  var render_items = [{\"docid\":\"83f183dc-70fe-43d8-9f8d-d53df995121b\",\"root_ids\":[\"22997\"],\"roots\":{\"22997\":\"878226df-add0-41ec-8dcc-b935da0ab2d1\"}}];\n",
       "  root.Bokeh.embed.embed_items_notebook(docs_json, render_items);\n",
       "\n",
       "  }\n",
       "  if (root.Bokeh !== undefined) {\n",
       "    embed_document(root);\n",
       "  } else {\n",
       "    var attempts = 0;\n",
       "    var timer = setInterval(function(root) {\n",
       "      if (root.Bokeh !== undefined) {\n",
       "        clearInterval(timer);\n",
       "        embed_document(root);\n",
       "      } else {\n",
       "        attempts++;\n",
       "        if (attempts > 100) {\n",
       "          clearInterval(timer);\n",
       "          console.log(\"Bokeh: ERROR: Unable to run BokehJS code because BokehJS library is missing\");\n",
       "        }\n",
       "      }\n",
       "    }, 10, root)\n",
       "  }\n",
       "})(window);"
      ],
      "application/vnd.bokehjs_exec.v0+json": ""
     },
     "metadata": {
      "application/vnd.bokehjs_exec.v0+json": {
       "id": "22997"
      }
     },
     "output_type": "display_data"
    },
    {
     "data": {
      "text/html": [
       "<div>\n",
       "<style scoped>\n",
       "    .dataframe tbody tr th:only-of-type {\n",
       "        vertical-align: middle;\n",
       "    }\n",
       "\n",
       "    .dataframe tbody tr th {\n",
       "        vertical-align: top;\n",
       "    }\n",
       "\n",
       "    .dataframe thead th {\n",
       "        text-align: right;\n",
       "    }\n",
       "</style>\n",
       "<table border=\"1\" class=\"dataframe\">\n",
       "  <thead>\n",
       "    <tr style=\"text-align: right;\">\n",
       "      <th></th>\n",
       "      <th>Attribute</th>\n",
       "      <th>Value</th>\n",
       "      <th>Meaning</th>\n",
       "    </tr>\n",
       "  </thead>\n",
       "  <tbody>\n",
       "    <tr>\n",
       "      <th>969</th>\n",
       "      <td>KBA05_MAXAH</td>\n",
       "      <td>-1, 9</td>\n",
       "      <td>unknown</td>\n",
       "    </tr>\n",
       "    <tr>\n",
       "      <th>970</th>\n",
       "      <td>KBA05_MAXAH</td>\n",
       "      <td>1</td>\n",
       "      <td>below 30 years</td>\n",
       "    </tr>\n",
       "    <tr>\n",
       "      <th>971</th>\n",
       "      <td>KBA05_MAXAH</td>\n",
       "      <td>2</td>\n",
       "      <td>30 - 40 years</td>\n",
       "    </tr>\n",
       "    <tr>\n",
       "      <th>972</th>\n",
       "      <td>KBA05_MAXAH</td>\n",
       "      <td>3</td>\n",
       "      <td>40 - 50 years</td>\n",
       "    </tr>\n",
       "    <tr>\n",
       "      <th>973</th>\n",
       "      <td>KBA05_MAXAH</td>\n",
       "      <td>4</td>\n",
       "      <td>50 - 60 years</td>\n",
       "    </tr>\n",
       "    <tr>\n",
       "      <th>974</th>\n",
       "      <td>KBA05_MAXAH</td>\n",
       "      <td>5</td>\n",
       "      <td>elder than 60 years</td>\n",
       "    </tr>\n",
       "  </tbody>\n",
       "</table>\n",
       "</div>"
      ],
      "text/plain": [
       "       Attribute  Value              Meaning\n",
       "969  KBA05_MAXAH  -1, 9              unknown\n",
       "970  KBA05_MAXAH      1       below 30 years\n",
       "971  KBA05_MAXAH      2        30 - 40 years\n",
       "972  KBA05_MAXAH      3        40 - 50 years\n",
       "973  KBA05_MAXAH      4        50 - 60 years\n",
       "974  KBA05_MAXAH      5  elder than 60 years"
      ]
     },
     "metadata": {},
     "output_type": "display_data"
    },
    {
     "name": "stdout",
     "output_type": "stream",
     "text": [
      "==========================================================================================================================================================================================================================================\n"
     ]
    },
    {
     "data": {
      "text/html": [
       "\n",
       "\n",
       "\n",
       "\n",
       "\n",
       "\n",
       "  <div class=\"bk-root\" id=\"21290376-3c06-4e36-aa8b-c6661ec29dc2\" data-root-id=\"23681\"></div>\n"
      ]
     },
     "metadata": {},
     "output_type": "display_data"
    },
    {
     "data": {
      "application/javascript": [
       "(function(root) {\n",
       "  function embed_document(root) {\n",
       "    \n",
       "  var docs_json = {\"57b5c2f8-68e8-492c-8d6e-216f454a01db\":{\"defs\":[],\"roots\":{\"references\":[{\"attributes\":{\"below\":[{\"id\":\"23689\"}],\"center\":[{\"id\":\"23691\"},{\"id\":\"23695\"}],\"height\":500,\"left\":[{\"id\":\"23692\"}],\"renderers\":[{\"id\":\"23701\"}],\"title\":{\"id\":\"23703\"},\"toolbar\":{\"id\":\"23696\"},\"toolbar_location\":null,\"width\":950,\"x_range\":{\"id\":\"23680\"},\"x_scale\":{\"id\":\"23685\"},\"y_range\":{\"id\":\"23683\"},\"y_scale\":{\"id\":\"23687\"}},\"id\":\"23681\",\"subtype\":\"Figure\",\"type\":\"Plot\"},{\"attributes\":{\"formatter\":{\"id\":\"24315\"},\"major_label_policy\":{\"id\":\"24317\"},\"ticker\":{\"id\":\"23693\"}},\"id\":\"23692\",\"type\":\"LinearAxis\"},{\"attributes\":{\"start\":0},\"id\":\"23683\",\"type\":\"DataRange1d\"},{\"attributes\":{\"data\":{\"counts\":[0.11768161675842621,0.1641059125194692,0.1770619520804159,0.2902596121800758,0.1861104183851599,0.16516014065443763,0.250358485679756,0.1823474599903419,0.1398429856701644,0.12347391975623524,0.1289445414260776,0.07465295489944024],\"x\":[[\"Advertising- and Consumptionminimalist\",\"a\"],[\"Advertising- and Consumptionminimalist\",\"c\"],[\"Advertising- and Consumptiontraditionalist\",\"a\"],[\"Advertising- and Consumptiontraditionalist\",\"c\"],[\"advertisinginterested Store-shopper\",\"a\"],[\"advertisinginterested Store-shopper\",\"c\"],[\"advertisinginterested Online-shopper\",\"a\"],[\"advertisinginterested Online-shopper\",\"c\"],[\"Advertising- and Cross-Channel-Enthusiast\",\"a\"],[\"Advertising- and Cross-Channel-Enthusiast\",\"c\"],[\"Advertising-Enthusiast with restricted Cross-Channel-Behaviour \",\"a\"],[\"Advertising-Enthusiast with restricted Cross-Channel-Behaviour \",\"c\"]]},\"selected\":{\"id\":\"24322\"},\"selection_policy\":{\"id\":\"24321\"}},\"id\":\"23679\",\"type\":\"ColumnDataSource\"},{\"attributes\":{},\"id\":\"24315\",\"type\":\"BasicTickFormatter\"},{\"attributes\":{\"factors\":[[\"Advertising- and Consumptionminimalist\",\"a\"],[\"Advertising- and Consumptionminimalist\",\"c\"],[\"Advertising- and Consumptiontraditionalist\",\"a\"],[\"Advertising- and Consumptiontraditionalist\",\"c\"],[\"advertisinginterested Store-shopper\",\"a\"],[\"advertisinginterested Store-shopper\",\"c\"],[\"advertisinginterested Online-shopper\",\"a\"],[\"advertisinginterested Online-shopper\",\"c\"],[\"Advertising- and Cross-Channel-Enthusiast\",\"a\"],[\"Advertising- and Cross-Channel-Enthusiast\",\"c\"],[\"Advertising-Enthusiast with restricted Cross-Channel-Behaviour \",\"a\"],[\"Advertising-Enthusiast with restricted Cross-Channel-Behaviour \",\"c\"]]},\"id\":\"23680\",\"type\":\"FactorRange\"},{\"attributes\":{},\"id\":\"24317\",\"type\":\"AllLabels\"},{\"attributes\":{},\"id\":\"24318\",\"type\":\"CategoricalTickFormatter\"},{\"attributes\":{},\"id\":\"24320\",\"type\":\"AllLabels\"},{\"attributes\":{\"source\":{\"id\":\"23679\"}},\"id\":\"23702\",\"type\":\"CDSView\"},{\"attributes\":{\"data_source\":{\"id\":\"23679\"},\"glyph\":{\"id\":\"23699\"},\"hover_glyph\":null,\"muted_glyph\":null,\"nonselection_glyph\":{\"id\":\"23700\"},\"view\":{\"id\":\"23702\"}},\"id\":\"23701\",\"type\":\"GlyphRenderer\"},{\"attributes\":{\"axis\":{\"id\":\"23692\"},\"dimension\":1,\"ticker\":null},\"id\":\"23695\",\"type\":\"Grid\"},{\"attributes\":{\"text\":\"CJT_GESAMTTYP [ks:0.1596 p:0.0000]\"},\"id\":\"23703\",\"type\":\"Title\"},{\"attributes\":{\"active_multi\":null},\"id\":\"23696\",\"type\":\"Toolbar\"},{\"attributes\":{},\"id\":\"23693\",\"type\":\"BasicTicker\"},{\"attributes\":{},\"id\":\"23685\",\"type\":\"CategoricalScale\"},{\"attributes\":{\"axis\":{\"id\":\"23689\"},\"grid_line_color\":null,\"ticker\":null},\"id\":\"23691\",\"type\":\"Grid\"},{\"attributes\":{},\"id\":\"24321\",\"type\":\"UnionRenderers\"},{\"attributes\":{},\"id\":\"24322\",\"type\":\"Selection\"},{\"attributes\":{},\"id\":\"23687\",\"type\":\"LinearScale\"},{\"attributes\":{\"fill_color\":{\"field\":\"x\",\"transform\":{\"id\":\"23697\"}},\"line_color\":{\"value\":null},\"top\":{\"field\":\"counts\"},\"width\":{\"value\":0.9},\"x\":{\"field\":\"x\"}},\"id\":\"23699\",\"type\":\"VBar\"},{\"attributes\":{\"formatter\":{\"id\":\"24318\"},\"group_label_orientation\":1.5707963267948966,\"major_label_orientation\":0,\"major_label_policy\":{\"id\":\"24320\"},\"ticker\":{\"id\":\"23690\"}},\"id\":\"23689\",\"type\":\"CategoricalAxis\"},{\"attributes\":{},\"id\":\"23690\",\"type\":\"CategoricalTicker\"},{\"attributes\":{\"fill_alpha\":{\"value\":0.1},\"fill_color\":{\"field\":\"x\",\"transform\":{\"id\":\"23697\"}},\"line_alpha\":{\"value\":0.1},\"line_color\":{\"value\":null},\"top\":{\"field\":\"counts\"},\"width\":{\"value\":0.9},\"x\":{\"field\":\"x\"}},\"id\":\"23700\",\"type\":\"VBar\"},{\"attributes\":{\"end\":2,\"factors\":[\"a\",\"c\"],\"palette\":[\"#1f77b4\",\"#ff7f0e\"],\"start\":1},\"id\":\"23697\",\"type\":\"CategoricalColorMapper\"}],\"root_ids\":[\"23681\"]},\"title\":\"Bokeh Application\",\"version\":\"2.3.1\"}};\n",
       "  var render_items = [{\"docid\":\"57b5c2f8-68e8-492c-8d6e-216f454a01db\",\"root_ids\":[\"23681\"],\"roots\":{\"23681\":\"21290376-3c06-4e36-aa8b-c6661ec29dc2\"}}];\n",
       "  root.Bokeh.embed.embed_items_notebook(docs_json, render_items);\n",
       "\n",
       "  }\n",
       "  if (root.Bokeh !== undefined) {\n",
       "    embed_document(root);\n",
       "  } else {\n",
       "    var attempts = 0;\n",
       "    var timer = setInterval(function(root) {\n",
       "      if (root.Bokeh !== undefined) {\n",
       "        clearInterval(timer);\n",
       "        embed_document(root);\n",
       "      } else {\n",
       "        attempts++;\n",
       "        if (attempts > 100) {\n",
       "          clearInterval(timer);\n",
       "          console.log(\"Bokeh: ERROR: Unable to run BokehJS code because BokehJS library is missing\");\n",
       "        }\n",
       "      }\n",
       "    }, 10, root)\n",
       "  }\n",
       "})(window);"
      ],
      "application/vnd.bokehjs_exec.v0+json": ""
     },
     "metadata": {
      "application/vnd.bokehjs_exec.v0+json": {
       "id": "23681"
      }
     },
     "output_type": "display_data"
    },
    {
     "data": {
      "text/html": [
       "<div>\n",
       "<style scoped>\n",
       "    .dataframe tbody tr th:only-of-type {\n",
       "        vertical-align: middle;\n",
       "    }\n",
       "\n",
       "    .dataframe tbody tr th {\n",
       "        vertical-align: top;\n",
       "    }\n",
       "\n",
       "    .dataframe thead th {\n",
       "        text-align: right;\n",
       "    }\n",
       "</style>\n",
       "<table border=\"1\" class=\"dataframe\">\n",
       "  <thead>\n",
       "    <tr style=\"text-align: right;\">\n",
       "      <th></th>\n",
       "      <th>Attribute</th>\n",
       "      <th>Value</th>\n",
       "      <th>Meaning</th>\n",
       "    </tr>\n",
       "  </thead>\n",
       "  <tbody>\n",
       "    <tr>\n",
       "      <th>131</th>\n",
       "      <td>CJT_GESAMTTYP</td>\n",
       "      <td>0</td>\n",
       "      <td>unknown</td>\n",
       "    </tr>\n",
       "    <tr>\n",
       "      <th>132</th>\n",
       "      <td>CJT_GESAMTTYP</td>\n",
       "      <td>1</td>\n",
       "      <td>Advertising- and Consumptionminimalist</td>\n",
       "    </tr>\n",
       "    <tr>\n",
       "      <th>133</th>\n",
       "      <td>CJT_GESAMTTYP</td>\n",
       "      <td>2</td>\n",
       "      <td>Advertising- and Consumptiontraditionalist</td>\n",
       "    </tr>\n",
       "    <tr>\n",
       "      <th>134</th>\n",
       "      <td>CJT_GESAMTTYP</td>\n",
       "      <td>3</td>\n",
       "      <td>advertisinginterested Store-shopper</td>\n",
       "    </tr>\n",
       "    <tr>\n",
       "      <th>135</th>\n",
       "      <td>CJT_GESAMTTYP</td>\n",
       "      <td>4</td>\n",
       "      <td>advertisinginterested Online-shopper</td>\n",
       "    </tr>\n",
       "    <tr>\n",
       "      <th>136</th>\n",
       "      <td>CJT_GESAMTTYP</td>\n",
       "      <td>5</td>\n",
       "      <td>Advertising- and Cross-Channel-Enthusiast</td>\n",
       "    </tr>\n",
       "    <tr>\n",
       "      <th>137</th>\n",
       "      <td>CJT_GESAMTTYP</td>\n",
       "      <td>6</td>\n",
       "      <td>Advertising-Enthusiast with restricted Cross-C...</td>\n",
       "    </tr>\n",
       "  </tbody>\n",
       "</table>\n",
       "</div>"
      ],
      "text/plain": [
       "         Attribute Value                                            Meaning\n",
       "131  CJT_GESAMTTYP     0                                            unknown\n",
       "132  CJT_GESAMTTYP     1             Advertising- and Consumptionminimalist\n",
       "133  CJT_GESAMTTYP     2         Advertising- and Consumptiontraditionalist\n",
       "134  CJT_GESAMTTYP     3                advertisinginterested Store-shopper\n",
       "135  CJT_GESAMTTYP     4               advertisinginterested Online-shopper\n",
       "136  CJT_GESAMTTYP     5          Advertising- and Cross-Channel-Enthusiast\n",
       "137  CJT_GESAMTTYP     6  Advertising-Enthusiast with restricted Cross-C..."
      ]
     },
     "metadata": {},
     "output_type": "display_data"
    },
    {
     "name": "stdout",
     "output_type": "stream",
     "text": [
      "==========================================================================================================================================================================================================================================\n"
     ]
    },
    {
     "data": {
      "text/html": [
       "\n",
       "\n",
       "\n",
       "\n",
       "\n",
       "\n",
       "  <div class=\"bk-root\" id=\"d0c5714f-bf16-4fad-96a9-a016972ce0b4\" data-root-id=\"24375\"></div>\n"
      ]
     },
     "metadata": {},
     "output_type": "display_data"
    },
    {
     "data": {
      "application/javascript": [
       "(function(root) {\n",
       "  function embed_document(root) {\n",
       "    \n",
       "  var docs_json = {\"9c4fbd8a-f8b7-45c0-a3bc-6f87e6fa6483\":{\"defs\":[],\"roots\":{\"references\":[{\"attributes\":{\"below\":[{\"id\":\"24383\"}],\"center\":[{\"id\":\"24385\"},{\"id\":\"24389\"}],\"height\":500,\"left\":[{\"id\":\"24386\"}],\"renderers\":[{\"id\":\"24395\"}],\"title\":{\"id\":\"24397\"},\"toolbar\":{\"id\":\"24390\"},\"toolbar_location\":null,\"width\":950,\"x_range\":{\"id\":\"24374\"},\"x_scale\":{\"id\":\"24379\"},\"y_range\":{\"id\":\"24377\"},\"y_scale\":{\"id\":\"24381\"}},\"id\":\"24375\",\"subtype\":\"Figure\",\"type\":\"Plot\"},{\"attributes\":{},\"id\":\"25019\",\"type\":\"BasicTickFormatter\"},{\"attributes\":{\"fill_alpha\":{\"value\":0.1},\"fill_color\":{\"field\":\"x\",\"transform\":{\"id\":\"24391\"}},\"line_alpha\":{\"value\":0.1},\"line_color\":{\"value\":null},\"top\":{\"field\":\"counts\"},\"width\":{\"value\":0.9},\"x\":{\"field\":\"x\"}},\"id\":\"24394\",\"type\":\"VBar\"},{\"attributes\":{\"data\":{\"counts\":[0.06390037215369564,0.05962850360818081,0.05575471426653111,0.034490263693063176,0.06675267125784112,0.09955314330021016,0.07579394387001477,0.11077557183374483,0.08884929693644612,0.1165636243683133,0.03241837556830171,0.04325736089289722,0.051094400429703236,0.09359505396967904,0.10464904371846764,0.11944064695600128,0.07227023345930288,0.037462506886490235,0.12968669070958583,0.18483679868323505,0.09484643864259817,0.05080699463363872,0.16398381898751174,0.04958953117454617],\"x\":[[\"Event travelers\",\"a\"],[\"Event travelers\",\"c\"],[\"Family-oriented vacationists\",\"a\"],[\"Family-oriented vacationists\",\"c\"],[\"Winter sportspeople\",\"a\"],[\"Winter sportspeople\",\"c\"],[\"Culture lovers\",\"a\"],[\"Culture lovers\",\"c\"],[\"Nature fans\",\"a\"],[\"Nature fans\",\"c\"],[\"Hiker\",\"a\"],[\"Hiker\",\"c\"],[\"Golden ager\",\"a\"],[\"Golden ager\",\"c\"],[\"Homeland-connected vacationists \",\"a\"],[\"Homeland-connected vacationists \",\"c\"],[\"Package tour travelers\",\"a\"],[\"Package tour travelers\",\"c\"],[\"Connoisseurs\",\"a\"],[\"Connoisseurs\",\"c\"],[\"Active families\",\"a\"],[\"Active families\",\"c\"],[\"without vacation\",\"a\"],[\"without vacation\",\"c\"]]},\"selected\":{\"id\":\"25026\"},\"selection_policy\":{\"id\":\"25025\"}},\"id\":\"24373\",\"type\":\"ColumnDataSource\"},{\"attributes\":{},\"id\":\"25021\",\"type\":\"AllLabels\"},{\"attributes\":{},\"id\":\"25022\",\"type\":\"CategoricalTickFormatter\"},{\"attributes\":{},\"id\":\"25024\",\"type\":\"AllLabels\"},{\"attributes\":{\"factors\":[[\"Event travelers\",\"a\"],[\"Event travelers\",\"c\"],[\"Family-oriented vacationists\",\"a\"],[\"Family-oriented vacationists\",\"c\"],[\"Winter sportspeople\",\"a\"],[\"Winter sportspeople\",\"c\"],[\"Culture lovers\",\"a\"],[\"Culture lovers\",\"c\"],[\"Nature fans\",\"a\"],[\"Nature fans\",\"c\"],[\"Hiker\",\"a\"],[\"Hiker\",\"c\"],[\"Golden ager\",\"a\"],[\"Golden ager\",\"c\"],[\"Homeland-connected vacationists \",\"a\"],[\"Homeland-connected vacationists \",\"c\"],[\"Package tour travelers\",\"a\"],[\"Package tour travelers\",\"c\"],[\"Connoisseurs\",\"a\"],[\"Connoisseurs\",\"c\"],[\"Active families\",\"a\"],[\"Active families\",\"c\"],[\"without vacation\",\"a\"],[\"without vacation\",\"c\"]]},\"id\":\"24374\",\"type\":\"FactorRange\"},{\"attributes\":{\"source\":{\"id\":\"24373\"}},\"id\":\"24396\",\"type\":\"CDSView\"},{\"attributes\":{\"end\":2,\"factors\":[\"a\",\"c\"],\"palette\":[\"#1f77b4\",\"#ff7f0e\"],\"start\":1},\"id\":\"24391\",\"type\":\"CategoricalColorMapper\"},{\"attributes\":{\"data_source\":{\"id\":\"24373\"},\"glyph\":{\"id\":\"24393\"},\"hover_glyph\":null,\"muted_glyph\":null,\"nonselection_glyph\":{\"id\":\"24394\"},\"view\":{\"id\":\"24396\"}},\"id\":\"24395\",\"type\":\"GlyphRenderer\"},{\"attributes\":{\"text\":\"GFK_URLAUBERTYP [ks:0.1584 p:0.0000]\"},\"id\":\"24397\",\"type\":\"Title\"},{\"attributes\":{},\"id\":\"25025\",\"type\":\"UnionRenderers\"},{\"attributes\":{\"axis\":{\"id\":\"24383\"},\"grid_line_color\":null,\"ticker\":null},\"id\":\"24385\",\"type\":\"Grid\"},{\"attributes\":{},\"id\":\"25026\",\"type\":\"Selection\"},{\"attributes\":{},\"id\":\"24384\",\"type\":\"CategoricalTicker\"},{\"attributes\":{\"active_multi\":null},\"id\":\"24390\",\"type\":\"Toolbar\"},{\"attributes\":{},\"id\":\"24379\",\"type\":\"CategoricalScale\"},{\"attributes\":{\"start\":0},\"id\":\"24377\",\"type\":\"DataRange1d\"},{\"attributes\":{\"formatter\":{\"id\":\"25022\"},\"group_label_orientation\":1.5707963267948966,\"major_label_orientation\":0,\"major_label_policy\":{\"id\":\"25024\"},\"ticker\":{\"id\":\"24384\"}},\"id\":\"24383\",\"type\":\"CategoricalAxis\"},{\"attributes\":{\"formatter\":{\"id\":\"25019\"},\"major_label_policy\":{\"id\":\"25021\"},\"ticker\":{\"id\":\"24387\"}},\"id\":\"24386\",\"type\":\"LinearAxis\"},{\"attributes\":{},\"id\":\"24381\",\"type\":\"LinearScale\"},{\"attributes\":{\"fill_color\":{\"field\":\"x\",\"transform\":{\"id\":\"24391\"}},\"line_color\":{\"value\":null},\"top\":{\"field\":\"counts\"},\"width\":{\"value\":0.9},\"x\":{\"field\":\"x\"}},\"id\":\"24393\",\"type\":\"VBar\"},{\"attributes\":{\"axis\":{\"id\":\"24386\"},\"dimension\":1,\"ticker\":null},\"id\":\"24389\",\"type\":\"Grid\"},{\"attributes\":{},\"id\":\"24387\",\"type\":\"BasicTicker\"}],\"root_ids\":[\"24375\"]},\"title\":\"Bokeh Application\",\"version\":\"2.3.1\"}};\n",
       "  var render_items = [{\"docid\":\"9c4fbd8a-f8b7-45c0-a3bc-6f87e6fa6483\",\"root_ids\":[\"24375\"],\"roots\":{\"24375\":\"d0c5714f-bf16-4fad-96a9-a016972ce0b4\"}}];\n",
       "  root.Bokeh.embed.embed_items_notebook(docs_json, render_items);\n",
       "\n",
       "  }\n",
       "  if (root.Bokeh !== undefined) {\n",
       "    embed_document(root);\n",
       "  } else {\n",
       "    var attempts = 0;\n",
       "    var timer = setInterval(function(root) {\n",
       "      if (root.Bokeh !== undefined) {\n",
       "        clearInterval(timer);\n",
       "        embed_document(root);\n",
       "      } else {\n",
       "        attempts++;\n",
       "        if (attempts > 100) {\n",
       "          clearInterval(timer);\n",
       "          console.log(\"Bokeh: ERROR: Unable to run BokehJS code because BokehJS library is missing\");\n",
       "        }\n",
       "      }\n",
       "    }, 10, root)\n",
       "  }\n",
       "})(window);"
      ],
      "application/vnd.bokehjs_exec.v0+json": ""
     },
     "metadata": {
      "application/vnd.bokehjs_exec.v0+json": {
       "id": "24375"
      }
     },
     "output_type": "display_data"
    },
    {
     "data": {
      "text/html": [
       "<div>\n",
       "<style scoped>\n",
       "    .dataframe tbody tr th:only-of-type {\n",
       "        vertical-align: middle;\n",
       "    }\n",
       "\n",
       "    .dataframe tbody tr th {\n",
       "        vertical-align: top;\n",
       "    }\n",
       "\n",
       "    .dataframe thead th {\n",
       "        text-align: right;\n",
       "    }\n",
       "</style>\n",
       "<table border=\"1\" class=\"dataframe\">\n",
       "  <thead>\n",
       "    <tr style=\"text-align: right;\">\n",
       "      <th></th>\n",
       "      <th>Attribute</th>\n",
       "      <th>Value</th>\n",
       "      <th>Meaning</th>\n",
       "    </tr>\n",
       "  </thead>\n",
       "  <tbody>\n",
       "    <tr>\n",
       "      <th>712</th>\n",
       "      <td>GFK_URLAUBERTYP</td>\n",
       "      <td>1</td>\n",
       "      <td>Event travelers</td>\n",
       "    </tr>\n",
       "    <tr>\n",
       "      <th>713</th>\n",
       "      <td>GFK_URLAUBERTYP</td>\n",
       "      <td>2</td>\n",
       "      <td>Family-oriented vacationists</td>\n",
       "    </tr>\n",
       "    <tr>\n",
       "      <th>714</th>\n",
       "      <td>GFK_URLAUBERTYP</td>\n",
       "      <td>3</td>\n",
       "      <td>Winter sportspeople</td>\n",
       "    </tr>\n",
       "    <tr>\n",
       "      <th>715</th>\n",
       "      <td>GFK_URLAUBERTYP</td>\n",
       "      <td>4</td>\n",
       "      <td>Culture lovers</td>\n",
       "    </tr>\n",
       "    <tr>\n",
       "      <th>716</th>\n",
       "      <td>GFK_URLAUBERTYP</td>\n",
       "      <td>5</td>\n",
       "      <td>Nature fans</td>\n",
       "    </tr>\n",
       "    <tr>\n",
       "      <th>717</th>\n",
       "      <td>GFK_URLAUBERTYP</td>\n",
       "      <td>6</td>\n",
       "      <td>Hiker</td>\n",
       "    </tr>\n",
       "    <tr>\n",
       "      <th>718</th>\n",
       "      <td>GFK_URLAUBERTYP</td>\n",
       "      <td>7</td>\n",
       "      <td>Golden ager</td>\n",
       "    </tr>\n",
       "    <tr>\n",
       "      <th>719</th>\n",
       "      <td>GFK_URLAUBERTYP</td>\n",
       "      <td>8</td>\n",
       "      <td>Homeland-connected vacationists</td>\n",
       "    </tr>\n",
       "    <tr>\n",
       "      <th>720</th>\n",
       "      <td>GFK_URLAUBERTYP</td>\n",
       "      <td>9</td>\n",
       "      <td>Package tour travelers</td>\n",
       "    </tr>\n",
       "    <tr>\n",
       "      <th>721</th>\n",
       "      <td>GFK_URLAUBERTYP</td>\n",
       "      <td>10</td>\n",
       "      <td>Connoisseurs</td>\n",
       "    </tr>\n",
       "    <tr>\n",
       "      <th>722</th>\n",
       "      <td>GFK_URLAUBERTYP</td>\n",
       "      <td>11</td>\n",
       "      <td>Active families</td>\n",
       "    </tr>\n",
       "    <tr>\n",
       "      <th>723</th>\n",
       "      <td>GFK_URLAUBERTYP</td>\n",
       "      <td>12</td>\n",
       "      <td>without vacation</td>\n",
       "    </tr>\n",
       "  </tbody>\n",
       "</table>\n",
       "</div>"
      ],
      "text/plain": [
       "           Attribute Value                           Meaning\n",
       "712  GFK_URLAUBERTYP     1                   Event travelers\n",
       "713  GFK_URLAUBERTYP     2      Family-oriented vacationists\n",
       "714  GFK_URLAUBERTYP     3               Winter sportspeople\n",
       "715  GFK_URLAUBERTYP     4                    Culture lovers\n",
       "716  GFK_URLAUBERTYP     5                       Nature fans\n",
       "717  GFK_URLAUBERTYP     6                             Hiker\n",
       "718  GFK_URLAUBERTYP     7                       Golden ager\n",
       "719  GFK_URLAUBERTYP     8  Homeland-connected vacationists \n",
       "720  GFK_URLAUBERTYP     9            Package tour travelers\n",
       "721  GFK_URLAUBERTYP    10                      Connoisseurs\n",
       "722  GFK_URLAUBERTYP    11                   Active families\n",
       "723  GFK_URLAUBERTYP    12                  without vacation"
      ]
     },
     "metadata": {},
     "output_type": "display_data"
    },
    {
     "name": "stdout",
     "output_type": "stream",
     "text": [
      "==========================================================================================================================================================================================================================================\n"
     ]
    },
    {
     "data": {
      "text/html": [
       "\n",
       "\n",
       "\n",
       "\n",
       "\n",
       "\n",
       "  <div class=\"bk-root\" id=\"c8284d02-47ef-42e1-a61a-82cfa5b5d795\" data-root-id=\"25079\"></div>\n"
      ]
     },
     "metadata": {},
     "output_type": "display_data"
    },
    {
     "data": {
      "application/javascript": [
       "(function(root) {\n",
       "  function embed_document(root) {\n",
       "    \n",
       "  var docs_json = {\"793ccfe8-f81b-4f00-af57-d217977dfd8a\":{\"defs\":[],\"roots\":{\"references\":[{\"attributes\":{\"below\":[{\"id\":\"25087\"}],\"center\":[{\"id\":\"25089\"},{\"id\":\"25093\"}],\"height\":500,\"left\":[{\"id\":\"25090\"}],\"renderers\":[{\"id\":\"25099\"}],\"title\":{\"id\":\"25101\"},\"toolbar\":{\"id\":\"25094\"},\"toolbar_location\":null,\"width\":950,\"x_range\":{\"id\":\"25078\"},\"x_scale\":{\"id\":\"25083\"},\"y_range\":{\"id\":\"25081\"},\"y_scale\":{\"id\":\"25085\"}},\"id\":\"25079\",\"subtype\":\"Figure\",\"type\":\"Plot\"},{\"attributes\":{\"fill_alpha\":{\"value\":0.1},\"fill_color\":{\"field\":\"x\",\"transform\":{\"id\":\"25095\"}},\"line_alpha\":{\"value\":0.1},\"line_color\":{\"value\":null},\"top\":{\"field\":\"counts\"},\"width\":{\"value\":0.9},\"x\":{\"field\":\"x\"}},\"id\":\"25098\",\"type\":\"VBar\"},{\"attributes\":{\"start\":0},\"id\":\"25081\",\"type\":\"DataRange1d\"},{\"attributes\":{\"end\":2,\"factors\":[\"a\",\"c\"],\"palette\":[\"#1f77b4\",\"#ff7f0e\"],\"start\":1},\"id\":\"25095\",\"type\":\"CategoricalColorMapper\"},{\"attributes\":{},\"id\":\"25085\",\"type\":\"LinearScale\"},{\"attributes\":{},\"id\":\"25733\",\"type\":\"BasicTickFormatter\"},{\"attributes\":{\"fill_color\":{\"field\":\"x\",\"transform\":{\"id\":\"25095\"}},\"line_color\":{\"value\":null},\"top\":{\"field\":\"counts\"},\"width\":{\"value\":0.9},\"x\":{\"field\":\"x\"}},\"id\":\"25097\",\"type\":\"VBar\"},{\"attributes\":{},\"id\":\"25735\",\"type\":\"AllLabels\"},{\"attributes\":{\"data\":{\"counts\":[0.6749180122338284,0.8303606349300057,0.12238315506080621,0.0748500121761333,0.10587474512857398,0.049198958018168266,0.09682408757679135,0.04559039487569275],\"x\":[[\"no 6-10 family homes\",\"a\"],[\"no 6-10 family homes\",\"c\"],[\"lower share of 6-10 family homes\",\"a\"],[\"lower share of 6-10 family homes\",\"c\"],[\"average share of 6-10 family homes\",\"a\"],[\"average share of 6-10 family homes\",\"c\"],[\"high share of 6-10 family homes\",\"a\"],[\"high share of 6-10 family homes\",\"c\"]]},\"selected\":{\"id\":\"25740\"},\"selection_policy\":{\"id\":\"25739\"}},\"id\":\"25077\",\"type\":\"ColumnDataSource\"},{\"attributes\":{},\"id\":\"25736\",\"type\":\"CategoricalTickFormatter\"},{\"attributes\":{},\"id\":\"25738\",\"type\":\"AllLabels\"},{\"attributes\":{\"formatter\":{\"id\":\"25733\"},\"major_label_policy\":{\"id\":\"25735\"},\"ticker\":{\"id\":\"25091\"}},\"id\":\"25090\",\"type\":\"LinearAxis\"},{\"attributes\":{\"source\":{\"id\":\"25077\"}},\"id\":\"25100\",\"type\":\"CDSView\"},{\"attributes\":{\"factors\":[[\"no 6-10 family homes\",\"a\"],[\"no 6-10 family homes\",\"c\"],[\"lower share of 6-10 family homes\",\"a\"],[\"lower share of 6-10 family homes\",\"c\"],[\"average share of 6-10 family homes\",\"a\"],[\"average share of 6-10 family homes\",\"c\"],[\"high share of 6-10 family homes\",\"a\"],[\"high share of 6-10 family homes\",\"c\"]]},\"id\":\"25078\",\"type\":\"FactorRange\"},{\"attributes\":{\"data_source\":{\"id\":\"25077\"},\"glyph\":{\"id\":\"25097\"},\"hover_glyph\":null,\"muted_glyph\":null,\"nonselection_glyph\":{\"id\":\"25098\"},\"view\":{\"id\":\"25100\"}},\"id\":\"25099\",\"type\":\"GlyphRenderer\"},{\"attributes\":{},\"id\":\"25083\",\"type\":\"CategoricalScale\"},{\"attributes\":{\"text\":\"KBA05_ANTG3 [ks:0.1554 p:0.0000]\"},\"id\":\"25101\",\"type\":\"Title\"},{\"attributes\":{\"axis\":{\"id\":\"25087\"},\"grid_line_color\":null,\"ticker\":null},\"id\":\"25089\",\"type\":\"Grid\"},{\"attributes\":{},\"id\":\"25739\",\"type\":\"UnionRenderers\"},{\"attributes\":{},\"id\":\"25091\",\"type\":\"BasicTicker\"},{\"attributes\":{},\"id\":\"25740\",\"type\":\"Selection\"},{\"attributes\":{\"axis\":{\"id\":\"25090\"},\"dimension\":1,\"ticker\":null},\"id\":\"25093\",\"type\":\"Grid\"},{\"attributes\":{},\"id\":\"25088\",\"type\":\"CategoricalTicker\"},{\"attributes\":{\"active_multi\":null},\"id\":\"25094\",\"type\":\"Toolbar\"},{\"attributes\":{\"formatter\":{\"id\":\"25736\"},\"group_label_orientation\":1.5707963267948966,\"major_label_orientation\":0,\"major_label_policy\":{\"id\":\"25738\"},\"ticker\":{\"id\":\"25088\"}},\"id\":\"25087\",\"type\":\"CategoricalAxis\"}],\"root_ids\":[\"25079\"]},\"title\":\"Bokeh Application\",\"version\":\"2.3.1\"}};\n",
       "  var render_items = [{\"docid\":\"793ccfe8-f81b-4f00-af57-d217977dfd8a\",\"root_ids\":[\"25079\"],\"roots\":{\"25079\":\"c8284d02-47ef-42e1-a61a-82cfa5b5d795\"}}];\n",
       "  root.Bokeh.embed.embed_items_notebook(docs_json, render_items);\n",
       "\n",
       "  }\n",
       "  if (root.Bokeh !== undefined) {\n",
       "    embed_document(root);\n",
       "  } else {\n",
       "    var attempts = 0;\n",
       "    var timer = setInterval(function(root) {\n",
       "      if (root.Bokeh !== undefined) {\n",
       "        clearInterval(timer);\n",
       "        embed_document(root);\n",
       "      } else {\n",
       "        attempts++;\n",
       "        if (attempts > 100) {\n",
       "          clearInterval(timer);\n",
       "          console.log(\"Bokeh: ERROR: Unable to run BokehJS code because BokehJS library is missing\");\n",
       "        }\n",
       "      }\n",
       "    }, 10, root)\n",
       "  }\n",
       "})(window);"
      ],
      "application/vnd.bokehjs_exec.v0+json": ""
     },
     "metadata": {
      "application/vnd.bokehjs_exec.v0+json": {
       "id": "25079"
      }
     },
     "output_type": "display_data"
    },
    {
     "data": {
      "text/html": [
       "<div>\n",
       "<style scoped>\n",
       "    .dataframe tbody tr th:only-of-type {\n",
       "        vertical-align: middle;\n",
       "    }\n",
       "\n",
       "    .dataframe tbody tr th {\n",
       "        vertical-align: top;\n",
       "    }\n",
       "\n",
       "    .dataframe thead th {\n",
       "        text-align: right;\n",
       "    }\n",
       "</style>\n",
       "<table border=\"1\" class=\"dataframe\">\n",
       "  <thead>\n",
       "    <tr style=\"text-align: right;\">\n",
       "      <th></th>\n",
       "      <th>Attribute</th>\n",
       "      <th>Value</th>\n",
       "      <th>Meaning</th>\n",
       "    </tr>\n",
       "  </thead>\n",
       "  <tbody>\n",
       "    <tr>\n",
       "      <th>807</th>\n",
       "      <td>KBA05_ANTG3</td>\n",
       "      <td>-1</td>\n",
       "      <td>unknown</td>\n",
       "    </tr>\n",
       "    <tr>\n",
       "      <th>808</th>\n",
       "      <td>KBA05_ANTG3</td>\n",
       "      <td>0</td>\n",
       "      <td>no 6-10 family homes</td>\n",
       "    </tr>\n",
       "    <tr>\n",
       "      <th>809</th>\n",
       "      <td>KBA05_ANTG3</td>\n",
       "      <td>1</td>\n",
       "      <td>lower share of 6-10 family homes</td>\n",
       "    </tr>\n",
       "    <tr>\n",
       "      <th>810</th>\n",
       "      <td>KBA05_ANTG3</td>\n",
       "      <td>2</td>\n",
       "      <td>average share of 6-10 family homes</td>\n",
       "    </tr>\n",
       "    <tr>\n",
       "      <th>811</th>\n",
       "      <td>KBA05_ANTG3</td>\n",
       "      <td>3</td>\n",
       "      <td>high share of 6-10 family homes</td>\n",
       "    </tr>\n",
       "  </tbody>\n",
       "</table>\n",
       "</div>"
      ],
      "text/plain": [
       "       Attribute Value                             Meaning\n",
       "807  KBA05_ANTG3    -1                             unknown\n",
       "808  KBA05_ANTG3     0                no 6-10 family homes\n",
       "809  KBA05_ANTG3     1    lower share of 6-10 family homes\n",
       "810  KBA05_ANTG3     2  average share of 6-10 family homes\n",
       "811  KBA05_ANTG3     3     high share of 6-10 family homes"
      ]
     },
     "metadata": {},
     "output_type": "display_data"
    },
    {
     "name": "stdout",
     "output_type": "stream",
     "text": [
      "==========================================================================================================================================================================================================================================\n"
     ]
    },
    {
     "data": {
      "text/html": [
       "\n",
       "\n",
       "\n",
       "\n",
       "\n",
       "\n",
       "  <div class=\"bk-root\" id=\"6c1483dd-e76e-4d0f-b291-50cd8b440054\" data-root-id=\"25793\"></div>\n"
      ]
     },
     "metadata": {},
     "output_type": "display_data"
    },
    {
     "data": {
      "application/javascript": [
       "(function(root) {\n",
       "  function embed_document(root) {\n",
       "    \n",
       "  var docs_json = {\"2f01d6f6-ceb9-45c0-9895-bc7e700cb3ad\":{\"defs\":[],\"roots\":{\"references\":[{\"attributes\":{\"below\":[{\"id\":\"25801\"}],\"center\":[{\"id\":\"25803\"},{\"id\":\"25807\"}],\"height\":500,\"left\":[{\"id\":\"25804\"}],\"renderers\":[{\"id\":\"25813\"}],\"title\":{\"id\":\"25815\"},\"toolbar\":{\"id\":\"25808\"},\"toolbar_location\":null,\"width\":950,\"x_range\":{\"id\":\"25792\"},\"x_scale\":{\"id\":\"25797\"},\"y_range\":{\"id\":\"25795\"},\"y_scale\":{\"id\":\"25799\"}},\"id\":\"25793\",\"subtype\":\"Figure\",\"type\":\"Plot\"},{\"attributes\":{},\"id\":\"25799\",\"type\":\"LinearScale\"},{\"attributes\":{},\"id\":\"26463\",\"type\":\"UnionRenderers\"},{\"attributes\":{},\"id\":\"26464\",\"type\":\"Selection\"},{\"attributes\":{\"data\":{\"counts\":[0.07313777528948799,0.08635884022648575,0.11377376062532636,0.18737089271649154,0.21632060896107322,0.28128668876042145,0.3159106692004156,0.3052207641665057,0.16180373494689357,0.10370194236799476,0.11905345097680328,0.03606087176210079],\"x\":[[\"none\",\"a\"],[\"none\",\"c\"],[\"very low\",\"a\"],[\"very low\",\"c\"],[\"low\",\"a\"],[\"low\",\"c\"],[\"average\",\"a\"],[\"average\",\"c\"],[\"high\",\"a\"],[\"high\",\"c\"],[\"very high\",\"a\"],[\"very high\",\"c\"]]},\"selected\":{\"id\":\"26464\"},\"selection_policy\":{\"id\":\"26463\"}},\"id\":\"25791\",\"type\":\"ColumnDataSource\"},{\"attributes\":{\"end\":2,\"factors\":[\"a\",\"c\"],\"palette\":[\"#1f77b4\",\"#ff7f0e\"],\"start\":1},\"id\":\"25809\",\"type\":\"CategoricalColorMapper\"},{\"attributes\":{\"fill_alpha\":{\"value\":0.1},\"fill_color\":{\"field\":\"x\",\"transform\":{\"id\":\"25809\"}},\"line_alpha\":{\"value\":0.1},\"line_color\":{\"value\":null},\"top\":{\"field\":\"counts\"},\"width\":{\"value\":0.9},\"x\":{\"field\":\"x\"}},\"id\":\"25812\",\"type\":\"VBar\"},{\"attributes\":{\"active_multi\":null},\"id\":\"25808\",\"type\":\"Toolbar\"},{\"attributes\":{\"axis\":{\"id\":\"25801\"},\"grid_line_color\":null,\"ticker\":null},\"id\":\"25803\",\"type\":\"Grid\"},{\"attributes\":{},\"id\":\"26457\",\"type\":\"BasicTickFormatter\"},{\"attributes\":{\"factors\":[[\"none\",\"a\"],[\"none\",\"c\"],[\"very low\",\"a\"],[\"very low\",\"c\"],[\"low\",\"a\"],[\"low\",\"c\"],[\"average\",\"a\"],[\"average\",\"c\"],[\"high\",\"a\"],[\"high\",\"c\"],[\"very high\",\"a\"],[\"very high\",\"c\"]]},\"id\":\"25792\",\"type\":\"FactorRange\"},{\"attributes\":{},\"id\":\"26459\",\"type\":\"AllLabels\"},{\"attributes\":{},\"id\":\"26460\",\"type\":\"CategoricalTickFormatter\"},{\"attributes\":{\"fill_color\":{\"field\":\"x\",\"transform\":{\"id\":\"25809\"}},\"line_color\":{\"value\":null},\"top\":{\"field\":\"counts\"},\"width\":{\"value\":0.9},\"x\":{\"field\":\"x\"}},\"id\":\"25811\",\"type\":\"VBar\"},{\"attributes\":{},\"id\":\"26462\",\"type\":\"AllLabels\"},{\"attributes\":{\"source\":{\"id\":\"25791\"}},\"id\":\"25814\",\"type\":\"CDSView\"},{\"attributes\":{\"axis\":{\"id\":\"25804\"},\"dimension\":1,\"ticker\":null},\"id\":\"25807\",\"type\":\"Grid\"},{\"attributes\":{},\"id\":\"25797\",\"type\":\"CategoricalScale\"},{\"attributes\":{\"formatter\":{\"id\":\"26460\"},\"group_label_orientation\":1.5707963267948966,\"major_label_orientation\":0,\"major_label_policy\":{\"id\":\"26462\"},\"ticker\":{\"id\":\"25802\"}},\"id\":\"25801\",\"type\":\"CategoricalAxis\"},{\"attributes\":{\"formatter\":{\"id\":\"26457\"},\"major_label_policy\":{\"id\":\"26459\"},\"ticker\":{\"id\":\"25805\"}},\"id\":\"25804\",\"type\":\"LinearAxis\"},{\"attributes\":{\"data_source\":{\"id\":\"25791\"},\"glyph\":{\"id\":\"25811\"},\"hover_glyph\":null,\"muted_glyph\":null,\"nonselection_glyph\":{\"id\":\"25812\"},\"view\":{\"id\":\"25814\"}},\"id\":\"25813\",\"type\":\"GlyphRenderer\"},{\"attributes\":{},\"id\":\"25805\",\"type\":\"BasicTicker\"},{\"attributes\":{\"text\":\"KBA05_VORB2 [ks:0.1518 p:0.0000]\"},\"id\":\"25815\",\"type\":\"Title\"},{\"attributes\":{\"start\":0},\"id\":\"25795\",\"type\":\"DataRange1d\"},{\"attributes\":{},\"id\":\"25802\",\"type\":\"CategoricalTicker\"}],\"root_ids\":[\"25793\"]},\"title\":\"Bokeh Application\",\"version\":\"2.3.1\"}};\n",
       "  var render_items = [{\"docid\":\"2f01d6f6-ceb9-45c0-9895-bc7e700cb3ad\",\"root_ids\":[\"25793\"],\"roots\":{\"25793\":\"6c1483dd-e76e-4d0f-b291-50cd8b440054\"}}];\n",
       "  root.Bokeh.embed.embed_items_notebook(docs_json, render_items);\n",
       "\n",
       "  }\n",
       "  if (root.Bokeh !== undefined) {\n",
       "    embed_document(root);\n",
       "  } else {\n",
       "    var attempts = 0;\n",
       "    var timer = setInterval(function(root) {\n",
       "      if (root.Bokeh !== undefined) {\n",
       "        clearInterval(timer);\n",
       "        embed_document(root);\n",
       "      } else {\n",
       "        attempts++;\n",
       "        if (attempts > 100) {\n",
       "          clearInterval(timer);\n",
       "          console.log(\"Bokeh: ERROR: Unable to run BokehJS code because BokehJS library is missing\");\n",
       "        }\n",
       "      }\n",
       "    }, 10, root)\n",
       "  }\n",
       "})(window);"
      ],
      "application/vnd.bokehjs_exec.v0+json": ""
     },
     "metadata": {
      "application/vnd.bokehjs_exec.v0+json": {
       "id": "25793"
      }
     },
     "output_type": "display_data"
    },
    {
     "data": {
      "text/html": [
       "<div>\n",
       "<style scoped>\n",
       "    .dataframe tbody tr th:only-of-type {\n",
       "        vertical-align: middle;\n",
       "    }\n",
       "\n",
       "    .dataframe tbody tr th {\n",
       "        vertical-align: top;\n",
       "    }\n",
       "\n",
       "    .dataframe thead th {\n",
       "        text-align: right;\n",
       "    }\n",
       "</style>\n",
       "<table border=\"1\" class=\"dataframe\">\n",
       "  <thead>\n",
       "    <tr style=\"text-align: right;\">\n",
       "      <th></th>\n",
       "      <th>Attribute</th>\n",
       "      <th>Value</th>\n",
       "      <th>Meaning</th>\n",
       "    </tr>\n",
       "  </thead>\n",
       "  <tbody>\n",
       "    <tr>\n",
       "      <th>1106</th>\n",
       "      <td>KBA05_VORB2</td>\n",
       "      <td>-1, 9</td>\n",
       "      <td>unknown</td>\n",
       "    </tr>\n",
       "    <tr>\n",
       "      <th>1107</th>\n",
       "      <td>KBA05_VORB2</td>\n",
       "      <td>0</td>\n",
       "      <td>none</td>\n",
       "    </tr>\n",
       "    <tr>\n",
       "      <th>1108</th>\n",
       "      <td>KBA05_VORB2</td>\n",
       "      <td>1</td>\n",
       "      <td>very low</td>\n",
       "    </tr>\n",
       "    <tr>\n",
       "      <th>1109</th>\n",
       "      <td>KBA05_VORB2</td>\n",
       "      <td>2</td>\n",
       "      <td>low</td>\n",
       "    </tr>\n",
       "    <tr>\n",
       "      <th>1110</th>\n",
       "      <td>KBA05_VORB2</td>\n",
       "      <td>3</td>\n",
       "      <td>average</td>\n",
       "    </tr>\n",
       "    <tr>\n",
       "      <th>1111</th>\n",
       "      <td>KBA05_VORB2</td>\n",
       "      <td>4</td>\n",
       "      <td>high</td>\n",
       "    </tr>\n",
       "    <tr>\n",
       "      <th>1112</th>\n",
       "      <td>KBA05_VORB2</td>\n",
       "      <td>5</td>\n",
       "      <td>very high</td>\n",
       "    </tr>\n",
       "  </tbody>\n",
       "</table>\n",
       "</div>"
      ],
      "text/plain": [
       "        Attribute  Value    Meaning\n",
       "1106  KBA05_VORB2  -1, 9    unknown\n",
       "1107  KBA05_VORB2      0       none\n",
       "1108  KBA05_VORB2      1   very low\n",
       "1109  KBA05_VORB2      2        low\n",
       "1110  KBA05_VORB2      3    average\n",
       "1111  KBA05_VORB2      4       high\n",
       "1112  KBA05_VORB2      5  very high"
      ]
     },
     "metadata": {},
     "output_type": "display_data"
    },
    {
     "name": "stdout",
     "output_type": "stream",
     "text": [
      "==========================================================================================================================================================================================================================================\n"
     ]
    },
    {
     "data": {
      "text/html": [
       "\n",
       "\n",
       "\n",
       "\n",
       "\n",
       "\n",
       "  <div class=\"bk-root\" id=\"38fca8fb-f3c7-4e55-8818-149d8ad7772b\" data-root-id=\"26517\"></div>\n"
      ]
     },
     "metadata": {},
     "output_type": "display_data"
    },
    {
     "data": {
      "application/javascript": [
       "(function(root) {\n",
       "  function embed_document(root) {\n",
       "    \n",
       "  var docs_json = {\"6f6a0d30-bac0-47e7-9255-5fa7ebdd9e45\":{\"defs\":[],\"roots\":{\"references\":[{\"attributes\":{\"below\":[{\"id\":\"26525\"}],\"center\":[{\"id\":\"26527\"},{\"id\":\"26531\"}],\"height\":500,\"left\":[{\"id\":\"26528\"}],\"renderers\":[{\"id\":\"26537\"}],\"title\":{\"id\":\"26539\"},\"toolbar\":{\"id\":\"26532\"},\"toolbar_location\":null,\"width\":950,\"x_range\":{\"id\":\"26516\"},\"x_scale\":{\"id\":\"26521\"},\"y_range\":{\"id\":\"26519\"},\"y_scale\":{\"id\":\"26523\"}},\"id\":\"26517\",\"subtype\":\"Figure\",\"type\":\"Plot\"},{\"attributes\":{},\"id\":\"27197\",\"type\":\"UnionRenderers\"},{\"attributes\":{\"axis\":{\"id\":\"26528\"},\"dimension\":1,\"ticker\":null},\"id\":\"26531\",\"type\":\"Grid\"},{\"attributes\":{},\"id\":\"27198\",\"type\":\"Selection\"},{\"attributes\":{},\"id\":\"26529\",\"type\":\"BasicTicker\"},{\"attributes\":{\"formatter\":{\"id\":\"27194\"},\"group_label_orientation\":1.5707963267948966,\"major_label_orientation\":0,\"major_label_policy\":{\"id\":\"27196\"},\"ticker\":{\"id\":\"26526\"}},\"id\":\"26525\",\"type\":\"CategoricalAxis\"},{\"attributes\":{\"active_multi\":null},\"id\":\"26532\",\"type\":\"Toolbar\"},{\"attributes\":{\"start\":0},\"id\":\"26519\",\"type\":\"DataRange1d\"},{\"attributes\":{\"axis\":{\"id\":\"26525\"},\"grid_line_color\":null,\"ticker\":null},\"id\":\"26527\",\"type\":\"Grid\"},{\"attributes\":{},\"id\":\"26526\",\"type\":\"CategoricalTicker\"},{\"attributes\":{\"fill_alpha\":{\"value\":0.1},\"fill_color\":{\"field\":\"x\",\"transform\":{\"id\":\"26533\"}},\"line_alpha\":{\"value\":0.1},\"line_color\":{\"value\":null},\"top\":{\"field\":\"counts\"},\"width\":{\"value\":0.9},\"x\":{\"field\":\"x\"}},\"id\":\"26536\",\"type\":\"VBar\"},{\"attributes\":{},\"id\":\"27191\",\"type\":\"BasicTickFormatter\"},{\"attributes\":{},\"id\":\"26523\",\"type\":\"LinearScale\"},{\"attributes\":{\"formatter\":{\"id\":\"27191\"},\"major_label_policy\":{\"id\":\"27193\"},\"ticker\":{\"id\":\"26529\"}},\"id\":\"26528\",\"type\":\"LinearAxis\"},{\"attributes\":{},\"id\":\"26521\",\"type\":\"CategoricalScale\"},{\"attributes\":{},\"id\":\"27193\",\"type\":\"AllLabels\"},{\"attributes\":{\"end\":2,\"factors\":[\"a\",\"c\"],\"palette\":[\"#1f77b4\",\"#ff7f0e\"],\"start\":1},\"id\":\"26533\",\"type\":\"CategoricalColorMapper\"},{\"attributes\":{},\"id\":\"27194\",\"type\":\"CategoricalTickFormatter\"},{\"attributes\":{},\"id\":\"27196\",\"type\":\"AllLabels\"},{\"attributes\":{\"source\":{\"id\":\"26515\"}},\"id\":\"26538\",\"type\":\"CDSView\"},{\"attributes\":{\"factors\":[[\"none\",\"a\"],[\"none\",\"c\"],[\"low\",\"a\"],[\"low\",\"c\"],[\"average\",\"a\"],[\"average\",\"c\"],[\"high\",\"a\"],[\"high\",\"c\"],[\"very high\",\"a\"],[\"very high\",\"c\"]]},\"id\":\"26516\",\"type\":\"FactorRange\"},{\"attributes\":{\"fill_color\":{\"field\":\"x\",\"transform\":{\"id\":\"26533\"}},\"line_color\":{\"value\":null},\"top\":{\"field\":\"counts\"},\"width\":{\"value\":0.9},\"x\":{\"field\":\"x\"}},\"id\":\"26535\",\"type\":\"VBar\"},{\"attributes\":{\"data_source\":{\"id\":\"26515\"},\"glyph\":{\"id\":\"26535\"},\"hover_glyph\":null,\"muted_glyph\":null,\"nonselection_glyph\":{\"id\":\"26536\"},\"view\":{\"id\":\"26538\"}},\"id\":\"26537\",\"type\":\"GlyphRenderer\"},{\"attributes\":{\"data\":{\"counts\":[0.13830150894438492,0.17016897264040184,0.2248060659241275,0.3283226084501181,0.3076714990929107,0.32355214076594985,0.22356117334826306,0.14653955327022247,0.10565975269031379,0.031416724873307676],\"x\":[[\"none\",\"a\"],[\"none\",\"c\"],[\"low\",\"a\"],[\"low\",\"c\"],[\"average\",\"a\"],[\"average\",\"c\"],[\"high\",\"a\"],[\"high\",\"c\"],[\"very high\",\"a\"],[\"very high\",\"c\"]]},\"selected\":{\"id\":\"27198\"},\"selection_policy\":{\"id\":\"27197\"}},\"id\":\"26515\",\"type\":\"ColumnDataSource\"},{\"attributes\":{\"text\":\"KBA05_ALTER1 [ks:0.1513 p:0.0000]\"},\"id\":\"26539\",\"type\":\"Title\"}],\"root_ids\":[\"26517\"]},\"title\":\"Bokeh Application\",\"version\":\"2.3.1\"}};\n",
       "  var render_items = [{\"docid\":\"6f6a0d30-bac0-47e7-9255-5fa7ebdd9e45\",\"root_ids\":[\"26517\"],\"roots\":{\"26517\":\"38fca8fb-f3c7-4e55-8818-149d8ad7772b\"}}];\n",
       "  root.Bokeh.embed.embed_items_notebook(docs_json, render_items);\n",
       "\n",
       "  }\n",
       "  if (root.Bokeh !== undefined) {\n",
       "    embed_document(root);\n",
       "  } else {\n",
       "    var attempts = 0;\n",
       "    var timer = setInterval(function(root) {\n",
       "      if (root.Bokeh !== undefined) {\n",
       "        clearInterval(timer);\n",
       "        embed_document(root);\n",
       "      } else {\n",
       "        attempts++;\n",
       "        if (attempts > 100) {\n",
       "          clearInterval(timer);\n",
       "          console.log(\"Bokeh: ERROR: Unable to run BokehJS code because BokehJS library is missing\");\n",
       "        }\n",
       "      }\n",
       "    }, 10, root)\n",
       "  }\n",
       "})(window);"
      ],
      "application/vnd.bokehjs_exec.v0+json": ""
     },
     "metadata": {
      "application/vnd.bokehjs_exec.v0+json": {
       "id": "26517"
      }
     },
     "output_type": "display_data"
    },
    {
     "data": {
      "text/html": [
       "<div>\n",
       "<style scoped>\n",
       "    .dataframe tbody tr th:only-of-type {\n",
       "        vertical-align: middle;\n",
       "    }\n",
       "\n",
       "    .dataframe tbody tr th {\n",
       "        vertical-align: top;\n",
       "    }\n",
       "\n",
       "    .dataframe thead th {\n",
       "        text-align: right;\n",
       "    }\n",
       "</style>\n",
       "<table border=\"1\" class=\"dataframe\">\n",
       "  <thead>\n",
       "    <tr style=\"text-align: right;\">\n",
       "      <th></th>\n",
       "      <th>Attribute</th>\n",
       "      <th>Value</th>\n",
       "      <th>Meaning</th>\n",
       "    </tr>\n",
       "  </thead>\n",
       "  <tbody>\n",
       "    <tr>\n",
       "      <th>765</th>\n",
       "      <td>KBA05_ALTER1</td>\n",
       "      <td>-1, 9</td>\n",
       "      <td>unknown</td>\n",
       "    </tr>\n",
       "    <tr>\n",
       "      <th>766</th>\n",
       "      <td>KBA05_ALTER1</td>\n",
       "      <td>0</td>\n",
       "      <td>none</td>\n",
       "    </tr>\n",
       "    <tr>\n",
       "      <th>767</th>\n",
       "      <td>KBA05_ALTER1</td>\n",
       "      <td>1</td>\n",
       "      <td>low</td>\n",
       "    </tr>\n",
       "    <tr>\n",
       "      <th>768</th>\n",
       "      <td>KBA05_ALTER1</td>\n",
       "      <td>2</td>\n",
       "      <td>average</td>\n",
       "    </tr>\n",
       "    <tr>\n",
       "      <th>769</th>\n",
       "      <td>KBA05_ALTER1</td>\n",
       "      <td>3</td>\n",
       "      <td>high</td>\n",
       "    </tr>\n",
       "    <tr>\n",
       "      <th>770</th>\n",
       "      <td>KBA05_ALTER1</td>\n",
       "      <td>4</td>\n",
       "      <td>very high</td>\n",
       "    </tr>\n",
       "  </tbody>\n",
       "</table>\n",
       "</div>"
      ],
      "text/plain": [
       "        Attribute  Value    Meaning\n",
       "765  KBA05_ALTER1  -1, 9    unknown\n",
       "766  KBA05_ALTER1      0       none\n",
       "767  KBA05_ALTER1      1        low\n",
       "768  KBA05_ALTER1      2    average\n",
       "769  KBA05_ALTER1      3       high\n",
       "770  KBA05_ALTER1      4  very high"
      ]
     },
     "metadata": {},
     "output_type": "display_data"
    },
    {
     "name": "stdout",
     "output_type": "stream",
     "text": [
      "==========================================================================================================================================================================================================================================\n"
     ]
    },
    {
     "data": {
      "text/html": [
       "\n",
       "\n",
       "\n",
       "\n",
       "\n",
       "\n",
       "  <div class=\"bk-root\" id=\"5d76fe37-d080-462b-9cdb-91839fe679fa\" data-root-id=\"27251\"></div>\n"
      ]
     },
     "metadata": {},
     "output_type": "display_data"
    },
    {
     "data": {
      "application/javascript": [
       "(function(root) {\n",
       "  function embed_document(root) {\n",
       "    \n",
       "  var docs_json = {\"93df0abe-a0df-4897-bfad-e519cf902ccb\":{\"defs\":[],\"roots\":{\"references\":[{\"attributes\":{\"below\":[{\"id\":\"27259\"}],\"center\":[{\"id\":\"27261\"},{\"id\":\"27265\"}],\"height\":500,\"left\":[{\"id\":\"27262\"}],\"renderers\":[{\"id\":\"27271\"}],\"title\":{\"id\":\"27273\"},\"toolbar\":{\"id\":\"27266\"},\"toolbar_location\":null,\"width\":950,\"x_range\":{\"id\":\"27250\"},\"x_scale\":{\"id\":\"27255\"},\"y_range\":{\"id\":\"27253\"},\"y_scale\":{\"id\":\"27257\"}},\"id\":\"27251\",\"subtype\":\"Figure\",\"type\":\"Plot\"},{\"attributes\":{},\"id\":\"27941\",\"type\":\"UnionRenderers\"},{\"attributes\":{},\"id\":\"27942\",\"type\":\"Selection\"},{\"attributes\":{},\"id\":\"27263\",\"type\":\"BasicTicker\"},{\"attributes\":{\"formatter\":{\"id\":\"27938\"},\"group_label_orientation\":1.5707963267948966,\"major_label_orientation\":0,\"major_label_policy\":{\"id\":\"27940\"},\"ticker\":{\"id\":\"27260\"}},\"id\":\"27259\",\"type\":\"CategoricalAxis\"},{\"attributes\":{\"factors\":[[\"very high\",\"a\"],[\"very high\",\"c\"],[\"high\",\"a\"],[\"high\",\"c\"],[\"average\",\"a\"],[\"average\",\"c\"],[\"low\",\"a\"],[\"low\",\"c\"],[\"very low\",\"a\"],[\"very low\",\"c\"]]},\"id\":\"27250\",\"type\":\"FactorRange\"},{\"attributes\":{\"axis\":{\"id\":\"27259\"},\"grid_line_color\":null,\"ticker\":null},\"id\":\"27261\",\"type\":\"Grid\"},{\"attributes\":{\"formatter\":{\"id\":\"27935\"},\"major_label_policy\":{\"id\":\"27937\"},\"ticker\":{\"id\":\"27263\"}},\"id\":\"27262\",\"type\":\"LinearAxis\"},{\"attributes\":{\"axis\":{\"id\":\"27262\"},\"dimension\":1,\"ticker\":null},\"id\":\"27265\",\"type\":\"Grid\"},{\"attributes\":{},\"id\":\"27260\",\"type\":\"CategoricalTicker\"},{\"attributes\":{\"active_multi\":null},\"id\":\"27266\",\"type\":\"Toolbar\"},{\"attributes\":{},\"id\":\"27255\",\"type\":\"CategoricalScale\"},{\"attributes\":{\"fill_alpha\":{\"value\":0.1},\"fill_color\":{\"field\":\"x\",\"transform\":{\"id\":\"27267\"}},\"line_alpha\":{\"value\":0.1},\"line_color\":{\"value\":null},\"top\":{\"field\":\"counts\"},\"width\":{\"value\":0.9},\"x\":{\"field\":\"x\"}},\"id\":\"27270\",\"type\":\"VBar\"},{\"attributes\":{},\"id\":\"27935\",\"type\":\"BasicTickFormatter\"},{\"attributes\":{\"start\":0},\"id\":\"27253\",\"type\":\"DataRange1d\"},{\"attributes\":{\"end\":2,\"factors\":[\"a\",\"c\"],\"palette\":[\"#1f77b4\",\"#ff7f0e\"],\"start\":1},\"id\":\"27267\",\"type\":\"CategoricalColorMapper\"},{\"attributes\":{},\"id\":\"27937\",\"type\":\"AllLabels\"},{\"attributes\":{},\"id\":\"27257\",\"type\":\"LinearScale\"},{\"attributes\":{},\"id\":\"27938\",\"type\":\"CategoricalTickFormatter\"},{\"attributes\":{\"fill_color\":{\"field\":\"x\",\"transform\":{\"id\":\"27267\"}},\"line_color\":{\"value\":null},\"top\":{\"field\":\"counts\"},\"width\":{\"value\":0.9},\"x\":{\"field\":\"x\"}},\"id\":\"27269\",\"type\":\"VBar\"},{\"attributes\":{},\"id\":\"27940\",\"type\":\"AllLabels\"},{\"attributes\":{\"data\":{\"counts\":[0.1705589819267199,0.16847044728434504,0.20479832355486471,0.35706869009584663,0.2182287184206323,0.20541134185303514,0.18732104925630394,0.12293663471778488,0.21909292684147913,0.14611288604898828],\"x\":[[\"very high\",\"a\"],[\"very high\",\"c\"],[\"high\",\"a\"],[\"high\",\"c\"],[\"average\",\"a\"],[\"average\",\"c\"],[\"low\",\"a\"],[\"low\",\"c\"],[\"very low\",\"a\"],[\"very low\",\"c\"]]},\"selected\":{\"id\":\"27942\"},\"selection_policy\":{\"id\":\"27941\"}},\"id\":\"27249\",\"type\":\"ColumnDataSource\"},{\"attributes\":{\"source\":{\"id\":\"27249\"}},\"id\":\"27272\",\"type\":\"CDSView\"},{\"attributes\":{\"text\":\"FINANZ_HAUSBAUER [ks:0.1502 p:0.0000]\"},\"id\":\"27273\",\"type\":\"Title\"},{\"attributes\":{\"data_source\":{\"id\":\"27249\"},\"glyph\":{\"id\":\"27269\"},\"hover_glyph\":null,\"muted_glyph\":null,\"nonselection_glyph\":{\"id\":\"27270\"},\"view\":{\"id\":\"27272\"}},\"id\":\"27271\",\"type\":\"GlyphRenderer\"}],\"root_ids\":[\"27251\"]},\"title\":\"Bokeh Application\",\"version\":\"2.3.1\"}};\n",
       "  var render_items = [{\"docid\":\"93df0abe-a0df-4897-bfad-e519cf902ccb\",\"root_ids\":[\"27251\"],\"roots\":{\"27251\":\"5d76fe37-d080-462b-9cdb-91839fe679fa\"}}];\n",
       "  root.Bokeh.embed.embed_items_notebook(docs_json, render_items);\n",
       "\n",
       "  }\n",
       "  if (root.Bokeh !== undefined) {\n",
       "    embed_document(root);\n",
       "  } else {\n",
       "    var attempts = 0;\n",
       "    var timer = setInterval(function(root) {\n",
       "      if (root.Bokeh !== undefined) {\n",
       "        clearInterval(timer);\n",
       "        embed_document(root);\n",
       "      } else {\n",
       "        attempts++;\n",
       "        if (attempts > 100) {\n",
       "          clearInterval(timer);\n",
       "          console.log(\"Bokeh: ERROR: Unable to run BokehJS code because BokehJS library is missing\");\n",
       "        }\n",
       "      }\n",
       "    }, 10, root)\n",
       "  }\n",
       "})(window);"
      ],
      "application/vnd.bokehjs_exec.v0+json": ""
     },
     "metadata": {
      "application/vnd.bokehjs_exec.v0+json": {
       "id": "27251"
      }
     },
     "output_type": "display_data"
    },
    {
     "data": {
      "text/html": [
       "<div>\n",
       "<style scoped>\n",
       "    .dataframe tbody tr th:only-of-type {\n",
       "        vertical-align: middle;\n",
       "    }\n",
       "\n",
       "    .dataframe tbody tr th {\n",
       "        vertical-align: top;\n",
       "    }\n",
       "\n",
       "    .dataframe thead th {\n",
       "        text-align: right;\n",
       "    }\n",
       "</style>\n",
       "<table border=\"1\" class=\"dataframe\">\n",
       "  <thead>\n",
       "    <tr style=\"text-align: right;\">\n",
       "      <th></th>\n",
       "      <th>Attribute</th>\n",
       "      <th>Value</th>\n",
       "      <th>Meaning</th>\n",
       "    </tr>\n",
       "  </thead>\n",
       "  <tbody>\n",
       "    <tr>\n",
       "      <th>667</th>\n",
       "      <td>FINANZ_HAUSBAUER</td>\n",
       "      <td>-1</td>\n",
       "      <td>unknown</td>\n",
       "    </tr>\n",
       "    <tr>\n",
       "      <th>668</th>\n",
       "      <td>FINANZ_HAUSBAUER</td>\n",
       "      <td>1</td>\n",
       "      <td>very high</td>\n",
       "    </tr>\n",
       "    <tr>\n",
       "      <th>669</th>\n",
       "      <td>FINANZ_HAUSBAUER</td>\n",
       "      <td>2</td>\n",
       "      <td>high</td>\n",
       "    </tr>\n",
       "    <tr>\n",
       "      <th>670</th>\n",
       "      <td>FINANZ_HAUSBAUER</td>\n",
       "      <td>3</td>\n",
       "      <td>average</td>\n",
       "    </tr>\n",
       "    <tr>\n",
       "      <th>671</th>\n",
       "      <td>FINANZ_HAUSBAUER</td>\n",
       "      <td>4</td>\n",
       "      <td>low</td>\n",
       "    </tr>\n",
       "    <tr>\n",
       "      <th>672</th>\n",
       "      <td>FINANZ_HAUSBAUER</td>\n",
       "      <td>5</td>\n",
       "      <td>very low</td>\n",
       "    </tr>\n",
       "  </tbody>\n",
       "</table>\n",
       "</div>"
      ],
      "text/plain": [
       "            Attribute Value    Meaning\n",
       "667  FINANZ_HAUSBAUER    -1    unknown\n",
       "668  FINANZ_HAUSBAUER     1  very high\n",
       "669  FINANZ_HAUSBAUER     2       high\n",
       "670  FINANZ_HAUSBAUER     3    average\n",
       "671  FINANZ_HAUSBAUER     4        low\n",
       "672  FINANZ_HAUSBAUER     5   very low"
      ]
     },
     "metadata": {},
     "output_type": "display_data"
    },
    {
     "name": "stdout",
     "output_type": "stream",
     "text": [
      "==========================================================================================================================================================================================================================================\n"
     ]
    },
    {
     "data": {
      "text/html": [
       "\n",
       "\n",
       "\n",
       "\n",
       "\n",
       "\n",
       "  <div class=\"bk-root\" id=\"6a6f54ca-78ab-4dfc-8403-91793f3f3b65\" data-root-id=\"27995\"></div>\n"
      ]
     },
     "metadata": {},
     "output_type": "display_data"
    },
    {
     "data": {
      "application/javascript": [
       "(function(root) {\n",
       "  function embed_document(root) {\n",
       "    \n",
       "  var docs_json = {\"0600de3d-0972-40f5-a7d5-e36d3934196d\":{\"defs\":[],\"roots\":{\"references\":[{\"attributes\":{\"below\":[{\"id\":\"28003\"}],\"center\":[{\"id\":\"28005\"},{\"id\":\"28009\"}],\"height\":500,\"left\":[{\"id\":\"28006\"}],\"renderers\":[{\"id\":\"28015\"}],\"title\":{\"id\":\"28017\"},\"toolbar\":{\"id\":\"28010\"},\"toolbar_location\":null,\"width\":950,\"x_range\":{\"id\":\"27994\"},\"x_scale\":{\"id\":\"27999\"},\"y_range\":{\"id\":\"27997\"},\"y_scale\":{\"id\":\"28001\"}},\"id\":\"27995\",\"subtype\":\"Figure\",\"type\":\"Plot\"},{\"attributes\":{\"data_source\":{\"id\":\"27993\"},\"glyph\":{\"id\":\"28013\"},\"hover_glyph\":null,\"muted_glyph\":null,\"nonselection_glyph\":{\"id\":\"28014\"},\"view\":{\"id\":\"28016\"}},\"id\":\"28015\",\"type\":\"GlyphRenderer\"},{\"attributes\":{\"text\":\"KBA05_VORB0 [ks:0.1493 p:0.0000]\"},\"id\":\"28017\",\"type\":\"Title\"},{\"attributes\":{},\"id\":\"28695\",\"type\":\"UnionRenderers\"},{\"attributes\":{},\"id\":\"28007\",\"type\":\"BasicTicker\"},{\"attributes\":{},\"id\":\"27999\",\"type\":\"CategoricalScale\"},{\"attributes\":{},\"id\":\"28696\",\"type\":\"Selection\"},{\"attributes\":{\"axis\":{\"id\":\"28006\"},\"dimension\":1,\"ticker\":null},\"id\":\"28009\",\"type\":\"Grid\"},{\"attributes\":{\"formatter\":{\"id\":\"28692\"},\"group_label_orientation\":1.5707963267948966,\"major_label_orientation\":0,\"major_label_policy\":{\"id\":\"28694\"},\"ticker\":{\"id\":\"28004\"}},\"id\":\"28003\",\"type\":\"CategoricalAxis\"},{\"attributes\":{},\"id\":\"28001\",\"type\":\"LinearScale\"},{\"attributes\":{\"axis\":{\"id\":\"28003\"},\"grid_line_color\":null,\"ticker\":null},\"id\":\"28005\",\"type\":\"Grid\"},{\"attributes\":{\"active_multi\":null},\"id\":\"28010\",\"type\":\"Toolbar\"},{\"attributes\":{\"fill_color\":{\"field\":\"x\",\"transform\":{\"id\":\"28011\"}},\"line_color\":{\"value\":null},\"top\":{\"field\":\"counts\"},\"width\":{\"value\":0.9},\"x\":{\"field\":\"x\"}},\"id\":\"28013\",\"type\":\"VBar\"},{\"attributes\":{},\"id\":\"28004\",\"type\":\"CategoricalTicker\"},{\"attributes\":{\"fill_alpha\":{\"value\":0.1},\"fill_color\":{\"field\":\"x\",\"transform\":{\"id\":\"28011\"}},\"line_alpha\":{\"value\":0.1},\"line_color\":{\"value\":null},\"top\":{\"field\":\"counts\"},\"width\":{\"value\":0.9},\"x\":{\"field\":\"x\"}},\"id\":\"28014\",\"type\":\"VBar\"},{\"attributes\":{},\"id\":\"28689\",\"type\":\"BasicTickFormatter\"},{\"attributes\":{\"end\":2,\"factors\":[\"a\",\"c\"],\"palette\":[\"#1f77b4\",\"#ff7f0e\"],\"start\":1},\"id\":\"28011\",\"type\":\"CategoricalColorMapper\"},{\"attributes\":{\"data\":{\"counts\":[0.14408319381564286,0.05518732630890636,0.23308291926636127,0.17265823537279495,0.3280621665706641,0.3477834415729168,0.2182263039745046,0.3001753629865208,0.07654541637282716,0.12419563375886103],\"x\":[[\"very low\",\"a\"],[\"very low\",\"c\"],[\"low\",\"a\"],[\"low\",\"c\"],[\"average\",\"a\"],[\"average\",\"c\"],[\"high\",\"a\"],[\"high\",\"c\"],[\"very high\",\"a\"],[\"very high\",\"c\"]]},\"selected\":{\"id\":\"28696\"},\"selection_policy\":{\"id\":\"28695\"}},\"id\":\"27993\",\"type\":\"ColumnDataSource\"},{\"attributes\":{},\"id\":\"28691\",\"type\":\"AllLabels\"},{\"attributes\":{\"formatter\":{\"id\":\"28689\"},\"major_label_policy\":{\"id\":\"28691\"},\"ticker\":{\"id\":\"28007\"}},\"id\":\"28006\",\"type\":\"LinearAxis\"},{\"attributes\":{\"start\":0},\"id\":\"27997\",\"type\":\"DataRange1d\"},{\"attributes\":{},\"id\":\"28692\",\"type\":\"CategoricalTickFormatter\"},{\"attributes\":{},\"id\":\"28694\",\"type\":\"AllLabels\"},{\"attributes\":{\"factors\":[[\"very low\",\"a\"],[\"very low\",\"c\"],[\"low\",\"a\"],[\"low\",\"c\"],[\"average\",\"a\"],[\"average\",\"c\"],[\"high\",\"a\"],[\"high\",\"c\"],[\"very high\",\"a\"],[\"very high\",\"c\"]]},\"id\":\"27994\",\"type\":\"FactorRange\"},{\"attributes\":{\"source\":{\"id\":\"27993\"}},\"id\":\"28016\",\"type\":\"CDSView\"}],\"root_ids\":[\"27995\"]},\"title\":\"Bokeh Application\",\"version\":\"2.3.1\"}};\n",
       "  var render_items = [{\"docid\":\"0600de3d-0972-40f5-a7d5-e36d3934196d\",\"root_ids\":[\"27995\"],\"roots\":{\"27995\":\"6a6f54ca-78ab-4dfc-8403-91793f3f3b65\"}}];\n",
       "  root.Bokeh.embed.embed_items_notebook(docs_json, render_items);\n",
       "\n",
       "  }\n",
       "  if (root.Bokeh !== undefined) {\n",
       "    embed_document(root);\n",
       "  } else {\n",
       "    var attempts = 0;\n",
       "    var timer = setInterval(function(root) {\n",
       "      if (root.Bokeh !== undefined) {\n",
       "        clearInterval(timer);\n",
       "        embed_document(root);\n",
       "      } else {\n",
       "        attempts++;\n",
       "        if (attempts > 100) {\n",
       "          clearInterval(timer);\n",
       "          console.log(\"Bokeh: ERROR: Unable to run BokehJS code because BokehJS library is missing\");\n",
       "        }\n",
       "      }\n",
       "    }, 10, root)\n",
       "  }\n",
       "})(window);"
      ],
      "application/vnd.bokehjs_exec.v0+json": ""
     },
     "metadata": {
      "application/vnd.bokehjs_exec.v0+json": {
       "id": "27995"
      }
     },
     "output_type": "display_data"
    },
    {
     "data": {
      "text/html": [
       "<div>\n",
       "<style scoped>\n",
       "    .dataframe tbody tr th:only-of-type {\n",
       "        vertical-align: middle;\n",
       "    }\n",
       "\n",
       "    .dataframe tbody tr th {\n",
       "        vertical-align: top;\n",
       "    }\n",
       "\n",
       "    .dataframe thead th {\n",
       "        text-align: right;\n",
       "    }\n",
       "</style>\n",
       "<table border=\"1\" class=\"dataframe\">\n",
       "  <thead>\n",
       "    <tr style=\"text-align: right;\">\n",
       "      <th></th>\n",
       "      <th>Attribute</th>\n",
       "      <th>Value</th>\n",
       "      <th>Meaning</th>\n",
       "    </tr>\n",
       "  </thead>\n",
       "  <tbody>\n",
       "    <tr>\n",
       "      <th>1094</th>\n",
       "      <td>KBA05_VORB0</td>\n",
       "      <td>-1, 9</td>\n",
       "      <td>unknown</td>\n",
       "    </tr>\n",
       "    <tr>\n",
       "      <th>1095</th>\n",
       "      <td>KBA05_VORB0</td>\n",
       "      <td>1</td>\n",
       "      <td>very low</td>\n",
       "    </tr>\n",
       "    <tr>\n",
       "      <th>1096</th>\n",
       "      <td>KBA05_VORB0</td>\n",
       "      <td>2</td>\n",
       "      <td>low</td>\n",
       "    </tr>\n",
       "    <tr>\n",
       "      <th>1097</th>\n",
       "      <td>KBA05_VORB0</td>\n",
       "      <td>3</td>\n",
       "      <td>average</td>\n",
       "    </tr>\n",
       "    <tr>\n",
       "      <th>1098</th>\n",
       "      <td>KBA05_VORB0</td>\n",
       "      <td>4</td>\n",
       "      <td>high</td>\n",
       "    </tr>\n",
       "    <tr>\n",
       "      <th>1099</th>\n",
       "      <td>KBA05_VORB0</td>\n",
       "      <td>5</td>\n",
       "      <td>very high</td>\n",
       "    </tr>\n",
       "  </tbody>\n",
       "</table>\n",
       "</div>"
      ],
      "text/plain": [
       "        Attribute  Value    Meaning\n",
       "1094  KBA05_VORB0  -1, 9    unknown\n",
       "1095  KBA05_VORB0      1   very low\n",
       "1096  KBA05_VORB0      2        low\n",
       "1097  KBA05_VORB0      3    average\n",
       "1098  KBA05_VORB0      4       high\n",
       "1099  KBA05_VORB0      5  very high"
      ]
     },
     "metadata": {},
     "output_type": "display_data"
    },
    {
     "name": "stdout",
     "output_type": "stream",
     "text": [
      "==========================================================================================================================================================================================================================================\n"
     ]
    },
    {
     "data": {
      "text/html": [
       "\n",
       "\n",
       "\n",
       "\n",
       "\n",
       "\n",
       "  <div class=\"bk-root\" id=\"9f0635b0-8057-4f5b-a7c0-99ec4dfbd159\" data-root-id=\"28749\"></div>\n"
      ]
     },
     "metadata": {},
     "output_type": "display_data"
    },
    {
     "data": {
      "application/javascript": [
       "(function(root) {\n",
       "  function embed_document(root) {\n",
       "    \n",
       "  var docs_json = {\"f1e20c9c-6324-41a6-9efa-ed60efd38ab7\":{\"defs\":[],\"roots\":{\"references\":[{\"attributes\":{\"below\":[{\"id\":\"28757\"}],\"center\":[{\"id\":\"28759\"},{\"id\":\"28763\"}],\"height\":500,\"left\":[{\"id\":\"28760\"}],\"renderers\":[{\"id\":\"28769\"}],\"title\":{\"id\":\"28771\"},\"toolbar\":{\"id\":\"28764\"},\"toolbar_location\":null,\"width\":950,\"x_range\":{\"id\":\"28748\"},\"x_scale\":{\"id\":\"28753\"},\"y_range\":{\"id\":\"28751\"},\"y_scale\":{\"id\":\"28755\"}},\"id\":\"28749\",\"subtype\":\"Figure\",\"type\":\"Plot\"},{\"attributes\":{\"formatter\":{\"id\":\"29453\"},\"major_label_policy\":{\"id\":\"29455\"},\"ticker\":{\"id\":\"28761\"}},\"id\":\"28760\",\"type\":\"LinearAxis\"},{\"attributes\":{},\"id\":\"29456\",\"type\":\"CategoricalTickFormatter\"},{\"attributes\":{},\"id\":\"29458\",\"type\":\"AllLabels\"},{\"attributes\":{\"source\":{\"id\":\"28747\"}},\"id\":\"28770\",\"type\":\"CDSView\"},{\"attributes\":{\"data_source\":{\"id\":\"28747\"},\"glyph\":{\"id\":\"28767\"},\"hover_glyph\":null,\"muted_glyph\":null,\"nonselection_glyph\":{\"id\":\"28768\"},\"view\":{\"id\":\"28770\"}},\"id\":\"28769\",\"type\":\"GlyphRenderer\"},{\"attributes\":{\"text\":\"D19_BANKEN_ANZ_12 [ks:0.1472 p:0.0000]\"},\"id\":\"28771\",\"type\":\"Title\"},{\"attributes\":{},\"id\":\"28753\",\"type\":\"CategoricalScale\"},{\"attributes\":{},\"id\":\"28761\",\"type\":\"BasicTicker\"},{\"attributes\":{\"axis\":{\"id\":\"28760\"},\"dimension\":1,\"ticker\":null},\"id\":\"28763\",\"type\":\"Grid\"},{\"attributes\":{},\"id\":\"29459\",\"type\":\"UnionRenderers\"},{\"attributes\":{},\"id\":\"29460\",\"type\":\"Selection\"},{\"attributes\":{\"data\":{\"counts\":[0.5004622858775867,0.6476323119777159,0.30371341637668736,0.24669220055710306,0.09595373779145024,0.06084610027855153,0.06862003462941484,0.032990947075208915,0.024929816598584564,0.00948816155988858,0.006320708726276329,0.0023502785515320335],\"x\":[[\"very low activity\",\"a\"],[\"very low activity\",\"c\"],[\"low activity\",\"a\"],[\"low activity\",\"c\"],[\"slightly increased activity\",\"a\"],[\"slightly increased activity\",\"c\"],[\"increased activity\",\"a\"],[\"increased activity\",\"c\"],[\"high activity\",\"a\"],[\"high activity\",\"c\"],[\"very high activity\",\"a\"],[\"very high activity\",\"c\"]]},\"selected\":{\"id\":\"29460\"},\"selection_policy\":{\"id\":\"29459\"}},\"id\":\"28747\",\"type\":\"ColumnDataSource\"},{\"attributes\":{\"axis\":{\"id\":\"28757\"},\"grid_line_color\":null,\"ticker\":null},\"id\":\"28759\",\"type\":\"Grid\"},{\"attributes\":{\"active_multi\":null},\"id\":\"28764\",\"type\":\"Toolbar\"},{\"attributes\":{\"factors\":[[\"very low activity\",\"a\"],[\"very low activity\",\"c\"],[\"low activity\",\"a\"],[\"low activity\",\"c\"],[\"slightly increased activity\",\"a\"],[\"slightly increased activity\",\"c\"],[\"increased activity\",\"a\"],[\"increased activity\",\"c\"],[\"high activity\",\"a\"],[\"high activity\",\"c\"],[\"very high activity\",\"a\"],[\"very high activity\",\"c\"]]},\"id\":\"28748\",\"type\":\"FactorRange\"},{\"attributes\":{},\"id\":\"28758\",\"type\":\"CategoricalTicker\"},{\"attributes\":{\"formatter\":{\"id\":\"29456\"},\"group_label_orientation\":1.5707963267948966,\"major_label_orientation\":0,\"major_label_policy\":{\"id\":\"29458\"},\"ticker\":{\"id\":\"28758\"}},\"id\":\"28757\",\"type\":\"CategoricalAxis\"},{\"attributes\":{\"fill_alpha\":{\"value\":0.1},\"fill_color\":{\"field\":\"x\",\"transform\":{\"id\":\"28765\"}},\"line_alpha\":{\"value\":0.1},\"line_color\":{\"value\":null},\"top\":{\"field\":\"counts\"},\"width\":{\"value\":0.9},\"x\":{\"field\":\"x\"}},\"id\":\"28768\",\"type\":\"VBar\"},{\"attributes\":{\"start\":0},\"id\":\"28751\",\"type\":\"DataRange1d\"},{\"attributes\":{\"end\":2,\"factors\":[\"a\",\"c\"],\"palette\":[\"#1f77b4\",\"#ff7f0e\"],\"start\":1},\"id\":\"28765\",\"type\":\"CategoricalColorMapper\"},{\"attributes\":{},\"id\":\"28755\",\"type\":\"LinearScale\"},{\"attributes\":{\"fill_color\":{\"field\":\"x\",\"transform\":{\"id\":\"28765\"}},\"line_color\":{\"value\":null},\"top\":{\"field\":\"counts\"},\"width\":{\"value\":0.9},\"x\":{\"field\":\"x\"}},\"id\":\"28767\",\"type\":\"VBar\"},{\"attributes\":{},\"id\":\"29453\",\"type\":\"BasicTickFormatter\"},{\"attributes\":{},\"id\":\"29455\",\"type\":\"AllLabels\"}],\"root_ids\":[\"28749\"]},\"title\":\"Bokeh Application\",\"version\":\"2.3.1\"}};\n",
       "  var render_items = [{\"docid\":\"f1e20c9c-6324-41a6-9efa-ed60efd38ab7\",\"root_ids\":[\"28749\"],\"roots\":{\"28749\":\"9f0635b0-8057-4f5b-a7c0-99ec4dfbd159\"}}];\n",
       "  root.Bokeh.embed.embed_items_notebook(docs_json, render_items);\n",
       "\n",
       "  }\n",
       "  if (root.Bokeh !== undefined) {\n",
       "    embed_document(root);\n",
       "  } else {\n",
       "    var attempts = 0;\n",
       "    var timer = setInterval(function(root) {\n",
       "      if (root.Bokeh !== undefined) {\n",
       "        clearInterval(timer);\n",
       "        embed_document(root);\n",
       "      } else {\n",
       "        attempts++;\n",
       "        if (attempts > 100) {\n",
       "          clearInterval(timer);\n",
       "          console.log(\"Bokeh: ERROR: Unable to run BokehJS code because BokehJS library is missing\");\n",
       "        }\n",
       "      }\n",
       "    }, 10, root)\n",
       "  }\n",
       "})(window);"
      ],
      "application/vnd.bokehjs_exec.v0+json": ""
     },
     "metadata": {
      "application/vnd.bokehjs_exec.v0+json": {
       "id": "28749"
      }
     },
     "output_type": "display_data"
    },
    {
     "data": {
      "text/html": [
       "<div>\n",
       "<style scoped>\n",
       "    .dataframe tbody tr th:only-of-type {\n",
       "        vertical-align: middle;\n",
       "    }\n",
       "\n",
       "    .dataframe tbody tr th {\n",
       "        vertical-align: top;\n",
       "    }\n",
       "\n",
       "    .dataframe thead th {\n",
       "        text-align: right;\n",
       "    }\n",
       "</style>\n",
       "<table border=\"1\" class=\"dataframe\">\n",
       "  <thead>\n",
       "    <tr style=\"text-align: right;\">\n",
       "      <th></th>\n",
       "      <th>Attribute</th>\n",
       "      <th>Value</th>\n",
       "      <th>Meaning</th>\n",
       "    </tr>\n",
       "  </thead>\n",
       "  <tbody>\n",
       "    <tr>\n",
       "      <th>138</th>\n",
       "      <td>D19_BANKEN_ANZ_12</td>\n",
       "      <td>0</td>\n",
       "      <td>no transactions known</td>\n",
       "    </tr>\n",
       "    <tr>\n",
       "      <th>139</th>\n",
       "      <td>D19_BANKEN_ANZ_12</td>\n",
       "      <td>1</td>\n",
       "      <td>very low activity</td>\n",
       "    </tr>\n",
       "    <tr>\n",
       "      <th>140</th>\n",
       "      <td>D19_BANKEN_ANZ_12</td>\n",
       "      <td>2</td>\n",
       "      <td>low activity</td>\n",
       "    </tr>\n",
       "    <tr>\n",
       "      <th>141</th>\n",
       "      <td>D19_BANKEN_ANZ_12</td>\n",
       "      <td>3</td>\n",
       "      <td>slightly increased activity</td>\n",
       "    </tr>\n",
       "    <tr>\n",
       "      <th>142</th>\n",
       "      <td>D19_BANKEN_ANZ_12</td>\n",
       "      <td>4</td>\n",
       "      <td>increased activity</td>\n",
       "    </tr>\n",
       "    <tr>\n",
       "      <th>143</th>\n",
       "      <td>D19_BANKEN_ANZ_12</td>\n",
       "      <td>5</td>\n",
       "      <td>high activity</td>\n",
       "    </tr>\n",
       "    <tr>\n",
       "      <th>144</th>\n",
       "      <td>D19_BANKEN_ANZ_12</td>\n",
       "      <td>6</td>\n",
       "      <td>very high activity</td>\n",
       "    </tr>\n",
       "  </tbody>\n",
       "</table>\n",
       "</div>"
      ],
      "text/plain": [
       "             Attribute Value                      Meaning\n",
       "138  D19_BANKEN_ANZ_12     0        no transactions known\n",
       "139  D19_BANKEN_ANZ_12     1            very low activity\n",
       "140  D19_BANKEN_ANZ_12     2                 low activity\n",
       "141  D19_BANKEN_ANZ_12     3  slightly increased activity\n",
       "142  D19_BANKEN_ANZ_12     4           increased activity\n",
       "143  D19_BANKEN_ANZ_12     5                high activity\n",
       "144  D19_BANKEN_ANZ_12     6           very high activity"
      ]
     },
     "metadata": {},
     "output_type": "display_data"
    },
    {
     "name": "stdout",
     "output_type": "stream",
     "text": [
      "==========================================================================================================================================================================================================================================\n"
     ]
    },
    {
     "data": {
      "text/html": [
       "\n",
       "\n",
       "\n",
       "\n",
       "\n",
       "\n",
       "  <div class=\"bk-root\" id=\"cbdc1618-1540-4d99-aa49-471e5ad03d96\" data-root-id=\"29513\"></div>\n"
      ]
     },
     "metadata": {},
     "output_type": "display_data"
    },
    {
     "data": {
      "application/javascript": [
       "(function(root) {\n",
       "  function embed_document(root) {\n",
       "    \n",
       "  var docs_json = {\"5849ccf7-63be-4903-82a7-f611f406616e\":{\"defs\":[],\"roots\":{\"references\":[{\"attributes\":{\"below\":[{\"id\":\"29521\"}],\"center\":[{\"id\":\"29523\"},{\"id\":\"29527\"}],\"height\":500,\"left\":[{\"id\":\"29524\"}],\"renderers\":[{\"id\":\"29533\"}],\"title\":{\"id\":\"29535\"},\"toolbar\":{\"id\":\"29528\"},\"toolbar_location\":null,\"width\":950,\"x_range\":{\"id\":\"29512\"},\"x_scale\":{\"id\":\"29517\"},\"y_range\":{\"id\":\"29515\"},\"y_scale\":{\"id\":\"29519\"}},\"id\":\"29513\",\"subtype\":\"Figure\",\"type\":\"Plot\"},{\"attributes\":{},\"id\":\"30227\",\"type\":\"BasicTickFormatter\"},{\"attributes\":{},\"id\":\"30229\",\"type\":\"AllLabels\"},{\"attributes\":{\"data\":{\"counts\":[0.11296626273827917,0.04845517097891186,0.20372633358276046,0.12148345197580586,0.38156563073659955,0.3843495965165183,0.193349985734204,0.2786711052326532,0.1083917872081568,0.1670406752961108],\"x\":[[\"way below average\",\"a\"],[\"way below average\",\"c\"],[\"below average\",\"a\"],[\"below average\",\"c\"],[\"average\",\"a\"],[\"average\",\"c\"],[\"above average\",\"a\"],[\"above average\",\"c\"],[\"way above average\",\"a\"],[\"way above average\",\"c\"]]},\"selected\":{\"id\":\"30234\"},\"selection_policy\":{\"id\":\"30233\"}},\"id\":\"29511\",\"type\":\"ColumnDataSource\"},{\"attributes\":{},\"id\":\"30230\",\"type\":\"CategoricalTickFormatter\"},{\"attributes\":{\"end\":2,\"factors\":[\"a\",\"c\"],\"palette\":[\"#1f77b4\",\"#ff7f0e\"],\"start\":1},\"id\":\"29529\",\"type\":\"CategoricalColorMapper\"},{\"attributes\":{},\"id\":\"30232\",\"type\":\"AllLabels\"},{\"attributes\":{\"source\":{\"id\":\"29511\"}},\"id\":\"29534\",\"type\":\"CDSView\"},{\"attributes\":{\"data_source\":{\"id\":\"29511\"},\"glyph\":{\"id\":\"29531\"},\"hover_glyph\":null,\"muted_glyph\":null,\"nonselection_glyph\":{\"id\":\"29532\"},\"view\":{\"id\":\"29534\"}},\"id\":\"29533\",\"type\":\"GlyphRenderer\"},{\"attributes\":{\"formatter\":{\"id\":\"30230\"},\"group_label_orientation\":1.5707963267948966,\"major_label_orientation\":0,\"major_label_policy\":{\"id\":\"30232\"},\"ticker\":{\"id\":\"29522\"}},\"id\":\"29521\",\"type\":\"CategoricalAxis\"},{\"attributes\":{\"text\":\"KBA05_KRSAQUOT [ks:0.1468 p:0.0000]\"},\"id\":\"29535\",\"type\":\"Title\"},{\"attributes\":{\"active_multi\":null},\"id\":\"29528\",\"type\":\"Toolbar\"},{\"attributes\":{},\"id\":\"29525\",\"type\":\"BasicTicker\"},{\"attributes\":{\"axis\":{\"id\":\"29521\"},\"grid_line_color\":null,\"ticker\":null},\"id\":\"29523\",\"type\":\"Grid\"},{\"attributes\":{},\"id\":\"30233\",\"type\":\"UnionRenderers\"},{\"attributes\":{\"axis\":{\"id\":\"29524\"},\"dimension\":1,\"ticker\":null},\"id\":\"29527\",\"type\":\"Grid\"},{\"attributes\":{\"formatter\":{\"id\":\"30227\"},\"major_label_policy\":{\"id\":\"30229\"},\"ticker\":{\"id\":\"29525\"}},\"id\":\"29524\",\"type\":\"LinearAxis\"},{\"attributes\":{},\"id\":\"30234\",\"type\":\"Selection\"},{\"attributes\":{\"start\":0},\"id\":\"29515\",\"type\":\"DataRange1d\"},{\"attributes\":{},\"id\":\"29522\",\"type\":\"CategoricalTicker\"},{\"attributes\":{\"fill_alpha\":{\"value\":0.1},\"fill_color\":{\"field\":\"x\",\"transform\":{\"id\":\"29529\"}},\"line_alpha\":{\"value\":0.1},\"line_color\":{\"value\":null},\"top\":{\"field\":\"counts\"},\"width\":{\"value\":0.9},\"x\":{\"field\":\"x\"}},\"id\":\"29532\",\"type\":\"VBar\"},{\"attributes\":{},\"id\":\"29519\",\"type\":\"LinearScale\"},{\"attributes\":{},\"id\":\"29517\",\"type\":\"CategoricalScale\"},{\"attributes\":{\"factors\":[[\"way below average\",\"a\"],[\"way below average\",\"c\"],[\"below average\",\"a\"],[\"below average\",\"c\"],[\"average\",\"a\"],[\"average\",\"c\"],[\"above average\",\"a\"],[\"above average\",\"c\"],[\"way above average\",\"a\"],[\"way above average\",\"c\"]]},\"id\":\"29512\",\"type\":\"FactorRange\"},{\"attributes\":{\"fill_color\":{\"field\":\"x\",\"transform\":{\"id\":\"29529\"}},\"line_color\":{\"value\":null},\"top\":{\"field\":\"counts\"},\"width\":{\"value\":0.9},\"x\":{\"field\":\"x\"}},\"id\":\"29531\",\"type\":\"VBar\"}],\"root_ids\":[\"29513\"]},\"title\":\"Bokeh Application\",\"version\":\"2.3.1\"}};\n",
       "  var render_items = [{\"docid\":\"5849ccf7-63be-4903-82a7-f611f406616e\",\"root_ids\":[\"29513\"],\"roots\":{\"29513\":\"cbdc1618-1540-4d99-aa49-471e5ad03d96\"}}];\n",
       "  root.Bokeh.embed.embed_items_notebook(docs_json, render_items);\n",
       "\n",
       "  }\n",
       "  if (root.Bokeh !== undefined) {\n",
       "    embed_document(root);\n",
       "  } else {\n",
       "    var attempts = 0;\n",
       "    var timer = setInterval(function(root) {\n",
       "      if (root.Bokeh !== undefined) {\n",
       "        clearInterval(timer);\n",
       "        embed_document(root);\n",
       "      } else {\n",
       "        attempts++;\n",
       "        if (attempts > 100) {\n",
       "          clearInterval(timer);\n",
       "          console.log(\"Bokeh: ERROR: Unable to run BokehJS code because BokehJS library is missing\");\n",
       "        }\n",
       "      }\n",
       "    }, 10, root)\n",
       "  }\n",
       "})(window);"
      ],
      "application/vnd.bokehjs_exec.v0+json": ""
     },
     "metadata": {
      "application/vnd.bokehjs_exec.v0+json": {
       "id": "29513"
      }
     },
     "output_type": "display_data"
    },
    {
     "data": {
      "text/html": [
       "<div>\n",
       "<style scoped>\n",
       "    .dataframe tbody tr th:only-of-type {\n",
       "        vertical-align: middle;\n",
       "    }\n",
       "\n",
       "    .dataframe tbody tr th {\n",
       "        vertical-align: top;\n",
       "    }\n",
       "\n",
       "    .dataframe thead th {\n",
       "        text-align: right;\n",
       "    }\n",
       "</style>\n",
       "<table border=\"1\" class=\"dataframe\">\n",
       "  <thead>\n",
       "    <tr style=\"text-align: right;\">\n",
       "      <th></th>\n",
       "      <th>Attribute</th>\n",
       "      <th>Value</th>\n",
       "      <th>Meaning</th>\n",
       "    </tr>\n",
       "  </thead>\n",
       "  <tbody>\n",
       "    <tr>\n",
       "      <th>911</th>\n",
       "      <td>KBA05_KRSAQUOT</td>\n",
       "      <td>-1, 9</td>\n",
       "      <td>unknown</td>\n",
       "    </tr>\n",
       "    <tr>\n",
       "      <th>912</th>\n",
       "      <td>KBA05_KRSAQUOT</td>\n",
       "      <td>1</td>\n",
       "      <td>way below average</td>\n",
       "    </tr>\n",
       "    <tr>\n",
       "      <th>913</th>\n",
       "      <td>KBA05_KRSAQUOT</td>\n",
       "      <td>2</td>\n",
       "      <td>below average</td>\n",
       "    </tr>\n",
       "    <tr>\n",
       "      <th>914</th>\n",
       "      <td>KBA05_KRSAQUOT</td>\n",
       "      <td>3</td>\n",
       "      <td>average</td>\n",
       "    </tr>\n",
       "    <tr>\n",
       "      <th>915</th>\n",
       "      <td>KBA05_KRSAQUOT</td>\n",
       "      <td>4</td>\n",
       "      <td>above average</td>\n",
       "    </tr>\n",
       "    <tr>\n",
       "      <th>916</th>\n",
       "      <td>KBA05_KRSAQUOT</td>\n",
       "      <td>5</td>\n",
       "      <td>way above average</td>\n",
       "    </tr>\n",
       "  </tbody>\n",
       "</table>\n",
       "</div>"
      ],
      "text/plain": [
       "          Attribute  Value            Meaning\n",
       "911  KBA05_KRSAQUOT  -1, 9            unknown\n",
       "912  KBA05_KRSAQUOT      1  way below average\n",
       "913  KBA05_KRSAQUOT      2      below average\n",
       "914  KBA05_KRSAQUOT      3            average\n",
       "915  KBA05_KRSAQUOT      4      above average\n",
       "916  KBA05_KRSAQUOT      5  way above average"
      ]
     },
     "metadata": {},
     "output_type": "display_data"
    },
    {
     "name": "stdout",
     "output_type": "stream",
     "text": [
      "==========================================================================================================================================================================================================================================\n"
     ]
    },
    {
     "data": {
      "text/html": [
       "\n",
       "\n",
       "\n",
       "\n",
       "\n",
       "\n",
       "  <div class=\"bk-root\" id=\"b9622d76-f9df-44b3-bccb-c9aa9b9a0ab6\" data-root-id=\"30287\"></div>\n"
      ]
     },
     "metadata": {},
     "output_type": "display_data"
    },
    {
     "data": {
      "application/javascript": [
       "(function(root) {\n",
       "  function embed_document(root) {\n",
       "    \n",
       "  var docs_json = {\"e7d84f0e-85a5-4b4a-80e5-19e16f4ed207\":{\"defs\":[],\"roots\":{\"references\":[{\"attributes\":{\"below\":[{\"id\":\"30295\"}],\"center\":[{\"id\":\"30297\"},{\"id\":\"30301\"}],\"height\":500,\"left\":[{\"id\":\"30298\"}],\"renderers\":[{\"id\":\"30307\"}],\"title\":{\"id\":\"30309\"},\"toolbar\":{\"id\":\"30302\"},\"toolbar_location\":null,\"width\":950,\"x_range\":{\"id\":\"30286\"},\"x_scale\":{\"id\":\"30291\"},\"y_range\":{\"id\":\"30289\"},\"y_scale\":{\"id\":\"30293\"}},\"id\":\"30287\",\"subtype\":\"Figure\",\"type\":\"Plot\"},{\"attributes\":{},\"id\":\"31013\",\"type\":\"AllLabels\"},{\"attributes\":{},\"id\":\"31014\",\"type\":\"CategoricalTickFormatter\"},{\"attributes\":{},\"id\":\"31016\",\"type\":\"AllLabels\"},{\"attributes\":{\"fill_color\":{\"field\":\"x\",\"transform\":{\"id\":\"30303\"}},\"line_color\":{\"value\":null},\"top\":{\"field\":\"counts\"},\"width\":{\"value\":0.9},\"x\":{\"field\":\"x\"}},\"id\":\"30305\",\"type\":\"VBar\"},{\"attributes\":{\"source\":{\"id\":\"30285\"}},\"id\":\"30308\",\"type\":\"CDSView\"},{\"attributes\":{\"data_source\":{\"id\":\"30285\"},\"glyph\":{\"id\":\"30305\"},\"hover_glyph\":null,\"muted_glyph\":null,\"nonselection_glyph\":{\"id\":\"30306\"},\"view\":{\"id\":\"30308\"}},\"id\":\"30307\",\"type\":\"GlyphRenderer\"},{\"attributes\":{\"text\":\"KBA05_ALTER4 [ks:0.1461 p:0.0000]\"},\"id\":\"30309\",\"type\":\"Title\"},{\"attributes\":{},\"id\":\"31017\",\"type\":\"UnionRenderers\"},{\"attributes\":{\"axis\":{\"id\":\"30298\"},\"dimension\":1,\"ticker\":null},\"id\":\"30301\",\"type\":\"Grid\"},{\"attributes\":{},\"id\":\"31018\",\"type\":\"Selection\"},{\"attributes\":{},\"id\":\"30296\",\"type\":\"CategoricalTicker\"},{\"attributes\":{\"axis\":{\"id\":\"30295\"},\"grid_line_color\":null,\"ticker\":null},\"id\":\"30297\",\"type\":\"Grid\"},{\"attributes\":{},\"id\":\"30291\",\"type\":\"CategoricalScale\"},{\"attributes\":{\"formatter\":{\"id\":\"31011\"},\"major_label_policy\":{\"id\":\"31013\"},\"ticker\":{\"id\":\"30299\"}},\"id\":\"30298\",\"type\":\"LinearAxis\"},{\"attributes\":{\"start\":0},\"id\":\"30289\",\"type\":\"DataRange1d\"},{\"attributes\":{\"fill_alpha\":{\"value\":0.1},\"fill_color\":{\"field\":\"x\",\"transform\":{\"id\":\"30303\"}},\"line_alpha\":{\"value\":0.1},\"line_color\":{\"value\":null},\"top\":{\"field\":\"counts\"},\"width\":{\"value\":0.9},\"x\":{\"field\":\"x\"}},\"id\":\"30306\",\"type\":\"VBar\"},{\"attributes\":{},\"id\":\"30299\",\"type\":\"BasicTicker\"},{\"attributes\":{\"formatter\":{\"id\":\"31014\"},\"group_label_orientation\":1.5707963267948966,\"major_label_orientation\":0,\"major_label_policy\":{\"id\":\"31016\"},\"ticker\":{\"id\":\"30296\"}},\"id\":\"30295\",\"type\":\"CategoricalAxis\"},{\"attributes\":{\"data\":{\"counts\":[0.06744760684542875,0.018049012468605567,0.07647004990336942,0.04636716253771047,0.18651047863091424,0.12580808155865,0.4024905926496159,0.3966398668430204,0.1938815885098434,0.27737817473881315,0.07319968346082828,0.13575770185320038],\"x\":[[\"none\",\"a\"],[\"none\",\"c\"],[\"very low\",\"a\"],[\"very low\",\"c\"],[\"low\",\"a\"],[\"low\",\"c\"],[\"average\",\"a\"],[\"average\",\"c\"],[\"high\",\"a\"],[\"high\",\"c\"],[\"very high\",\"a\"],[\"very high\",\"c\"]]},\"selected\":{\"id\":\"31018\"},\"selection_policy\":{\"id\":\"31017\"}},\"id\":\"30285\",\"type\":\"ColumnDataSource\"},{\"attributes\":{\"active_multi\":null},\"id\":\"30302\",\"type\":\"Toolbar\"},{\"attributes\":{\"factors\":[[\"none\",\"a\"],[\"none\",\"c\"],[\"very low\",\"a\"],[\"very low\",\"c\"],[\"low\",\"a\"],[\"low\",\"c\"],[\"average\",\"a\"],[\"average\",\"c\"],[\"high\",\"a\"],[\"high\",\"c\"],[\"very high\",\"a\"],[\"very high\",\"c\"]]},\"id\":\"30286\",\"type\":\"FactorRange\"},{\"attributes\":{\"end\":2,\"factors\":[\"a\",\"c\"],\"palette\":[\"#1f77b4\",\"#ff7f0e\"],\"start\":1},\"id\":\"30303\",\"type\":\"CategoricalColorMapper\"},{\"attributes\":{},\"id\":\"31011\",\"type\":\"BasicTickFormatter\"},{\"attributes\":{},\"id\":\"30293\",\"type\":\"LinearScale\"}],\"root_ids\":[\"30287\"]},\"title\":\"Bokeh Application\",\"version\":\"2.3.1\"}};\n",
       "  var render_items = [{\"docid\":\"e7d84f0e-85a5-4b4a-80e5-19e16f4ed207\",\"root_ids\":[\"30287\"],\"roots\":{\"30287\":\"b9622d76-f9df-44b3-bccb-c9aa9b9a0ab6\"}}];\n",
       "  root.Bokeh.embed.embed_items_notebook(docs_json, render_items);\n",
       "\n",
       "  }\n",
       "  if (root.Bokeh !== undefined) {\n",
       "    embed_document(root);\n",
       "  } else {\n",
       "    var attempts = 0;\n",
       "    var timer = setInterval(function(root) {\n",
       "      if (root.Bokeh !== undefined) {\n",
       "        clearInterval(timer);\n",
       "        embed_document(root);\n",
       "      } else {\n",
       "        attempts++;\n",
       "        if (attempts > 100) {\n",
       "          clearInterval(timer);\n",
       "          console.log(\"Bokeh: ERROR: Unable to run BokehJS code because BokehJS library is missing\");\n",
       "        }\n",
       "      }\n",
       "    }, 10, root)\n",
       "  }\n",
       "})(window);"
      ],
      "application/vnd.bokehjs_exec.v0+json": ""
     },
     "metadata": {
      "application/vnd.bokehjs_exec.v0+json": {
       "id": "30287"
      }
     },
     "output_type": "display_data"
    },
    {
     "data": {
      "text/html": [
       "<div>\n",
       "<style scoped>\n",
       "    .dataframe tbody tr th:only-of-type {\n",
       "        vertical-align: middle;\n",
       "    }\n",
       "\n",
       "    .dataframe tbody tr th {\n",
       "        vertical-align: top;\n",
       "    }\n",
       "\n",
       "    .dataframe thead th {\n",
       "        text-align: right;\n",
       "    }\n",
       "</style>\n",
       "<table border=\"1\" class=\"dataframe\">\n",
       "  <thead>\n",
       "    <tr style=\"text-align: right;\">\n",
       "      <th></th>\n",
       "      <th>Attribute</th>\n",
       "      <th>Value</th>\n",
       "      <th>Meaning</th>\n",
       "    </tr>\n",
       "  </thead>\n",
       "  <tbody>\n",
       "    <tr>\n",
       "      <th>783</th>\n",
       "      <td>KBA05_ALTER4</td>\n",
       "      <td>-1, 9</td>\n",
       "      <td>unknown</td>\n",
       "    </tr>\n",
       "    <tr>\n",
       "      <th>784</th>\n",
       "      <td>KBA05_ALTER4</td>\n",
       "      <td>0</td>\n",
       "      <td>none</td>\n",
       "    </tr>\n",
       "    <tr>\n",
       "      <th>785</th>\n",
       "      <td>KBA05_ALTER4</td>\n",
       "      <td>1</td>\n",
       "      <td>very low</td>\n",
       "    </tr>\n",
       "    <tr>\n",
       "      <th>786</th>\n",
       "      <td>KBA05_ALTER4</td>\n",
       "      <td>2</td>\n",
       "      <td>low</td>\n",
       "    </tr>\n",
       "    <tr>\n",
       "      <th>787</th>\n",
       "      <td>KBA05_ALTER4</td>\n",
       "      <td>3</td>\n",
       "      <td>average</td>\n",
       "    </tr>\n",
       "    <tr>\n",
       "      <th>788</th>\n",
       "      <td>KBA05_ALTER4</td>\n",
       "      <td>4</td>\n",
       "      <td>high</td>\n",
       "    </tr>\n",
       "    <tr>\n",
       "      <th>789</th>\n",
       "      <td>KBA05_ALTER4</td>\n",
       "      <td>5</td>\n",
       "      <td>very high</td>\n",
       "    </tr>\n",
       "  </tbody>\n",
       "</table>\n",
       "</div>"
      ],
      "text/plain": [
       "        Attribute  Value    Meaning\n",
       "783  KBA05_ALTER4  -1, 9    unknown\n",
       "784  KBA05_ALTER4      0       none\n",
       "785  KBA05_ALTER4      1   very low\n",
       "786  KBA05_ALTER4      2        low\n",
       "787  KBA05_ALTER4      3    average\n",
       "788  KBA05_ALTER4      4       high\n",
       "789  KBA05_ALTER4      5  very high"
      ]
     },
     "metadata": {},
     "output_type": "display_data"
    },
    {
     "name": "stdout",
     "output_type": "stream",
     "text": [
      "==========================================================================================================================================================================================================================================\n"
     ]
    },
    {
     "data": {
      "text/html": [
       "\n",
       "\n",
       "\n",
       "\n",
       "\n",
       "\n",
       "  <div class=\"bk-root\" id=\"72933e78-49f0-444d-a903-22b9595c5bba\" data-root-id=\"31071\"></div>\n"
      ]
     },
     "metadata": {},
     "output_type": "display_data"
    },
    {
     "data": {
      "application/javascript": [
       "(function(root) {\n",
       "  function embed_document(root) {\n",
       "    \n",
       "  var docs_json = {\"3f738275-23ec-44a2-aaa1-e22e10432f37\":{\"defs\":[],\"roots\":{\"references\":[{\"attributes\":{\"below\":[{\"id\":\"31079\"}],\"center\":[{\"id\":\"31081\"},{\"id\":\"31085\"}],\"height\":500,\"left\":[{\"id\":\"31082\"}],\"renderers\":[{\"id\":\"31091\"}],\"title\":{\"id\":\"31093\"},\"toolbar\":{\"id\":\"31086\"},\"toolbar_location\":null,\"width\":950,\"x_range\":{\"id\":\"31070\"},\"x_scale\":{\"id\":\"31075\"},\"y_range\":{\"id\":\"31073\"},\"y_scale\":{\"id\":\"31077\"}},\"id\":\"31071\",\"subtype\":\"Figure\",\"type\":\"Plot\"},{\"attributes\":{\"start\":0},\"id\":\"31073\",\"type\":\"DataRange1d\"},{\"attributes\":{},\"id\":\"31805\",\"type\":\"BasicTickFormatter\"},{\"attributes\":{\"end\":2,\"factors\":[\"a\",\"c\"],\"palette\":[\"#1f77b4\",\"#ff7f0e\"],\"start\":1},\"id\":\"31087\",\"type\":\"CategoricalColorMapper\"},{\"attributes\":{},\"id\":\"31807\",\"type\":\"AllLabels\"},{\"attributes\":{},\"id\":\"31077\",\"type\":\"LinearScale\"},{\"attributes\":{},\"id\":\"31808\",\"type\":\"CategoricalTickFormatter\"},{\"attributes\":{\"fill_color\":{\"field\":\"x\",\"transform\":{\"id\":\"31087\"}},\"line_color\":{\"value\":null},\"top\":{\"field\":\"counts\"},\"width\":{\"value\":0.9},\"x\":{\"field\":\"x\"}},\"id\":\"31089\",\"type\":\"VBar\"},{\"attributes\":{},\"id\":\"31810\",\"type\":\"AllLabels\"},{\"attributes\":{\"formatter\":{\"id\":\"31805\"},\"major_label_policy\":{\"id\":\"31807\"},\"ticker\":{\"id\":\"31083\"}},\"id\":\"31082\",\"type\":\"LinearAxis\"},{\"attributes\":{\"axis\":{\"id\":\"31082\"},\"dimension\":1,\"ticker\":null},\"id\":\"31085\",\"type\":\"Grid\"},{\"attributes\":{\"source\":{\"id\":\"31069\"}},\"id\":\"31092\",\"type\":\"CDSView\"},{\"attributes\":{},\"id\":\"31075\",\"type\":\"CategoricalScale\"},{\"attributes\":{\"data_source\":{\"id\":\"31069\"},\"glyph\":{\"id\":\"31089\"},\"hover_glyph\":null,\"muted_glyph\":null,\"nonselection_glyph\":{\"id\":\"31090\"},\"view\":{\"id\":\"31092\"}},\"id\":\"31091\",\"type\":\"GlyphRenderer\"},{\"attributes\":{\"text\":\"KBA13_SEG_SPORTWAGEN [ks:0.1446 p:0.0000]\"},\"id\":\"31093\",\"type\":\"Title\"},{\"attributes\":{},\"id\":\"31811\",\"type\":\"UnionRenderers\"},{\"attributes\":{},\"id\":\"31812\",\"type\":\"Selection\"},{\"attributes\":{\"active_multi\":null},\"id\":\"31086\",\"type\":\"Toolbar\"},{\"attributes\":{\"axis\":{\"id\":\"31079\"},\"grid_line_color\":null,\"ticker\":null},\"id\":\"31081\",\"type\":\"Grid\"},{\"attributes\":{},\"id\":\"31083\",\"type\":\"BasicTicker\"},{\"attributes\":{\"factors\":[[\"none\",\"a\"],[\"none\",\"c\"],[\"very low\",\"a\"],[\"very low\",\"c\"],[\"low\",\"a\"],[\"low\",\"c\"],[\"average\",\"a\"],[\"average\",\"c\"],[\"high\",\"a\"],[\"high\",\"c\"],[\"very high\",\"a\"],[\"very high\",\"c\"]]},\"id\":\"31070\",\"type\":\"FactorRange\"},{\"attributes\":{},\"id\":\"31080\",\"type\":\"CategoricalTicker\"},{\"attributes\":{\"data\":{\"counts\":[0.10622233428587438,0.10281153714481342,0.13529521131639136,0.0500470729202328,0.18706607171054979,0.13111234736962227,0.3411255775098438,0.38959260527216705,0.11734719866338626,0.15683841150290997,0.11294360651395448,0.1695980257902545],\"x\":[[\"none\",\"a\"],[\"none\",\"c\"],[\"very low\",\"a\"],[\"very low\",\"c\"],[\"low\",\"a\"],[\"low\",\"c\"],[\"average\",\"a\"],[\"average\",\"c\"],[\"high\",\"a\"],[\"high\",\"c\"],[\"very high\",\"a\"],[\"very high\",\"c\"]]},\"selected\":{\"id\":\"31812\"},\"selection_policy\":{\"id\":\"31811\"}},\"id\":\"31069\",\"type\":\"ColumnDataSource\"},{\"attributes\":{\"formatter\":{\"id\":\"31808\"},\"group_label_orientation\":1.5707963267948966,\"major_label_orientation\":0,\"major_label_policy\":{\"id\":\"31810\"},\"ticker\":{\"id\":\"31080\"}},\"id\":\"31079\",\"type\":\"CategoricalAxis\"},{\"attributes\":{\"fill_alpha\":{\"value\":0.1},\"fill_color\":{\"field\":\"x\",\"transform\":{\"id\":\"31087\"}},\"line_alpha\":{\"value\":0.1},\"line_color\":{\"value\":null},\"top\":{\"field\":\"counts\"},\"width\":{\"value\":0.9},\"x\":{\"field\":\"x\"}},\"id\":\"31090\",\"type\":\"VBar\"}],\"root_ids\":[\"31071\"]},\"title\":\"Bokeh Application\",\"version\":\"2.3.1\"}};\n",
       "  var render_items = [{\"docid\":\"3f738275-23ec-44a2-aaa1-e22e10432f37\",\"root_ids\":[\"31071\"],\"roots\":{\"31071\":\"72933e78-49f0-444d-a903-22b9595c5bba\"}}];\n",
       "  root.Bokeh.embed.embed_items_notebook(docs_json, render_items);\n",
       "\n",
       "  }\n",
       "  if (root.Bokeh !== undefined) {\n",
       "    embed_document(root);\n",
       "  } else {\n",
       "    var attempts = 0;\n",
       "    var timer = setInterval(function(root) {\n",
       "      if (root.Bokeh !== undefined) {\n",
       "        clearInterval(timer);\n",
       "        embed_document(root);\n",
       "      } else {\n",
       "        attempts++;\n",
       "        if (attempts > 100) {\n",
       "          clearInterval(timer);\n",
       "          console.log(\"Bokeh: ERROR: Unable to run BokehJS code because BokehJS library is missing\");\n",
       "        }\n",
       "      }\n",
       "    }, 10, root)\n",
       "  }\n",
       "})(window);"
      ],
      "application/vnd.bokehjs_exec.v0+json": ""
     },
     "metadata": {
      "application/vnd.bokehjs_exec.v0+json": {
       "id": "31071"
      }
     },
     "output_type": "display_data"
    },
    {
     "data": {
      "text/html": [
       "<div>\n",
       "<style scoped>\n",
       "    .dataframe tbody tr th:only-of-type {\n",
       "        vertical-align: middle;\n",
       "    }\n",
       "\n",
       "    .dataframe tbody tr th {\n",
       "        vertical-align: top;\n",
       "    }\n",
       "\n",
       "    .dataframe thead th {\n",
       "        text-align: right;\n",
       "    }\n",
       "</style>\n",
       "<table border=\"1\" class=\"dataframe\">\n",
       "  <thead>\n",
       "    <tr style=\"text-align: right;\">\n",
       "      <th></th>\n",
       "      <th>Attribute</th>\n",
       "      <th>Value</th>\n",
       "      <th>Meaning</th>\n",
       "    </tr>\n",
       "  </thead>\n",
       "  <tbody>\n",
       "    <tr>\n",
       "      <th>1782</th>\n",
       "      <td>KBA13_SEG_SPORTWAGEN</td>\n",
       "      <td>-1</td>\n",
       "      <td>unknown</td>\n",
       "    </tr>\n",
       "    <tr>\n",
       "      <th>1783</th>\n",
       "      <td>KBA13_SEG_SPORTWAGEN</td>\n",
       "      <td>0</td>\n",
       "      <td>none</td>\n",
       "    </tr>\n",
       "    <tr>\n",
       "      <th>1784</th>\n",
       "      <td>KBA13_SEG_SPORTWAGEN</td>\n",
       "      <td>1</td>\n",
       "      <td>very low</td>\n",
       "    </tr>\n",
       "    <tr>\n",
       "      <th>1785</th>\n",
       "      <td>KBA13_SEG_SPORTWAGEN</td>\n",
       "      <td>2</td>\n",
       "      <td>low</td>\n",
       "    </tr>\n",
       "    <tr>\n",
       "      <th>1786</th>\n",
       "      <td>KBA13_SEG_SPORTWAGEN</td>\n",
       "      <td>3</td>\n",
       "      <td>average</td>\n",
       "    </tr>\n",
       "    <tr>\n",
       "      <th>1787</th>\n",
       "      <td>KBA13_SEG_SPORTWAGEN</td>\n",
       "      <td>4</td>\n",
       "      <td>high</td>\n",
       "    </tr>\n",
       "    <tr>\n",
       "      <th>1788</th>\n",
       "      <td>KBA13_SEG_SPORTWAGEN</td>\n",
       "      <td>5</td>\n",
       "      <td>very high</td>\n",
       "    </tr>\n",
       "  </tbody>\n",
       "</table>\n",
       "</div>"
      ],
      "text/plain": [
       "                 Attribute Value    Meaning\n",
       "1782  KBA13_SEG_SPORTWAGEN    -1    unknown\n",
       "1783  KBA13_SEG_SPORTWAGEN     0       none\n",
       "1784  KBA13_SEG_SPORTWAGEN     1   very low\n",
       "1785  KBA13_SEG_SPORTWAGEN     2        low\n",
       "1786  KBA13_SEG_SPORTWAGEN     3    average\n",
       "1787  KBA13_SEG_SPORTWAGEN     4       high\n",
       "1788  KBA13_SEG_SPORTWAGEN     5  very high"
      ]
     },
     "metadata": {},
     "output_type": "display_data"
    },
    {
     "name": "stdout",
     "output_type": "stream",
     "text": [
      "==========================================================================================================================================================================================================================================\n"
     ]
    },
    {
     "data": {
      "text/html": [
       "\n",
       "\n",
       "\n",
       "\n",
       "\n",
       "\n",
       "  <div class=\"bk-root\" id=\"610d28f2-972d-4449-bef4-8f296a5d28fd\" data-root-id=\"31865\"></div>\n"
      ]
     },
     "metadata": {},
     "output_type": "display_data"
    },
    {
     "data": {
      "application/javascript": [
       "(function(root) {\n",
       "  function embed_document(root) {\n",
       "    \n",
       "  var docs_json = {\"244d9cbc-f753-4d6c-9bcb-f0e22d73e8f4\":{\"defs\":[],\"roots\":{\"references\":[{\"attributes\":{\"below\":[{\"id\":\"31873\"}],\"center\":[{\"id\":\"31875\"},{\"id\":\"31879\"}],\"height\":500,\"left\":[{\"id\":\"31876\"}],\"renderers\":[{\"id\":\"31885\"}],\"title\":{\"id\":\"31887\"},\"toolbar\":{\"id\":\"31880\"},\"toolbar_location\":null,\"width\":950,\"x_range\":{\"id\":\"31864\"},\"x_scale\":{\"id\":\"31869\"},\"y_range\":{\"id\":\"31867\"},\"y_scale\":{\"id\":\"31871\"}},\"id\":\"31865\",\"subtype\":\"Figure\",\"type\":\"Plot\"},{\"attributes\":{\"active_multi\":null},\"id\":\"31880\",\"type\":\"Toolbar\"},{\"attributes\":{},\"id\":\"32609\",\"type\":\"BasicTickFormatter\"},{\"attributes\":{\"fill_alpha\":{\"value\":0.1},\"fill_color\":{\"field\":\"x\",\"transform\":{\"id\":\"31881\"}},\"line_alpha\":{\"value\":0.1},\"line_color\":{\"value\":null},\"top\":{\"field\":\"counts\"},\"width\":{\"value\":0.9},\"x\":{\"field\":\"x\"}},\"id\":\"31884\",\"type\":\"VBar\"},{\"attributes\":{},\"id\":\"32611\",\"type\":\"AllLabels\"},{\"attributes\":{},\"id\":\"32612\",\"type\":\"CategoricalTickFormatter\"},{\"attributes\":{},\"id\":\"32614\",\"type\":\"AllLabels\"},{\"attributes\":{\"factors\":[[\"no preowner\",\"a\"],[\"no preowner\",\"c\"],[\"1 preowner\",\"a\"],[\"1 preowner\",\"c\"],[\"2 or more preowner\",\"a\"],[\"2 or more preowner\",\"c\"]]},\"id\":\"31864\",\"type\":\"FactorRange\"},{\"attributes\":{\"source\":{\"id\":\"31863\"}},\"id\":\"31886\",\"type\":\"CDSView\"},{\"attributes\":{\"fill_color\":{\"field\":\"x\",\"transform\":{\"id\":\"31881\"}},\"line_color\":{\"value\":null},\"top\":{\"field\":\"counts\"},\"width\":{\"value\":0.9},\"x\":{\"field\":\"x\"}},\"id\":\"31883\",\"type\":\"VBar\"},{\"attributes\":{\"formatter\":{\"id\":\"32609\"},\"major_label_policy\":{\"id\":\"32611\"},\"ticker\":{\"id\":\"31877\"}},\"id\":\"31876\",\"type\":\"LinearAxis\"},{\"attributes\":{\"data_source\":{\"id\":\"31863\"},\"glyph\":{\"id\":\"31883\"},\"hover_glyph\":null,\"muted_glyph\":null,\"nonselection_glyph\":{\"id\":\"31884\"},\"view\":{\"id\":\"31886\"}},\"id\":\"31885\",\"type\":\"GlyphRenderer\"},{\"attributes\":{\"end\":2,\"factors\":[\"a\",\"c\"],\"palette\":[\"#1f77b4\",\"#ff7f0e\"],\"start\":1},\"id\":\"31881\",\"type\":\"CategoricalColorMapper\"},{\"attributes\":{\"text\":\"KBA05_MAXVORB [ks:0.1431 p:0.0000]\"},\"id\":\"31887\",\"type\":\"Title\"},{\"attributes\":{},\"id\":\"32615\",\"type\":\"UnionRenderers\"},{\"attributes\":{},\"id\":\"32616\",\"type\":\"Selection\"},{\"attributes\":{\"formatter\":{\"id\":\"32612\"},\"group_label_orientation\":1.5707963267948966,\"major_label_orientation\":0,\"major_label_policy\":{\"id\":\"32614\"},\"ticker\":{\"id\":\"31874\"}},\"id\":\"31873\",\"type\":\"CategoricalAxis\"},{\"attributes\":{\"start\":0},\"id\":\"31867\",\"type\":\"DataRange1d\"},{\"attributes\":{\"axis\":{\"id\":\"31876\"},\"dimension\":1,\"ticker\":null},\"id\":\"31879\",\"type\":\"Grid\"},{\"attributes\":{},\"id\":\"31871\",\"type\":\"LinearScale\"},{\"attributes\":{},\"id\":\"31869\",\"type\":\"CategoricalScale\"},{\"attributes\":{\"data\":{\"counts\":[0.24080259906653245,0.3361916509384892,0.43507313239197026,0.4828055105589324,0.32412426854149734,0.18100283850257842],\"x\":[[\"no preowner\",\"a\"],[\"no preowner\",\"c\"],[\"1 preowner\",\"a\"],[\"1 preowner\",\"c\"],[\"2 or more preowner\",\"a\"],[\"2 or more preowner\",\"c\"]]},\"selected\":{\"id\":\"32616\"},\"selection_policy\":{\"id\":\"32615\"}},\"id\":\"31863\",\"type\":\"ColumnDataSource\"},{\"attributes\":{},\"id\":\"31874\",\"type\":\"CategoricalTicker\"},{\"attributes\":{\"axis\":{\"id\":\"31873\"},\"grid_line_color\":null,\"ticker\":null},\"id\":\"31875\",\"type\":\"Grid\"},{\"attributes\":{},\"id\":\"31877\",\"type\":\"BasicTicker\"}],\"root_ids\":[\"31865\"]},\"title\":\"Bokeh Application\",\"version\":\"2.3.1\"}};\n",
       "  var render_items = [{\"docid\":\"244d9cbc-f753-4d6c-9bcb-f0e22d73e8f4\",\"root_ids\":[\"31865\"],\"roots\":{\"31865\":\"610d28f2-972d-4449-bef4-8f296a5d28fd\"}}];\n",
       "  root.Bokeh.embed.embed_items_notebook(docs_json, render_items);\n",
       "\n",
       "  }\n",
       "  if (root.Bokeh !== undefined) {\n",
       "    embed_document(root);\n",
       "  } else {\n",
       "    var attempts = 0;\n",
       "    var timer = setInterval(function(root) {\n",
       "      if (root.Bokeh !== undefined) {\n",
       "        clearInterval(timer);\n",
       "        embed_document(root);\n",
       "      } else {\n",
       "        attempts++;\n",
       "        if (attempts > 100) {\n",
       "          clearInterval(timer);\n",
       "          console.log(\"Bokeh: ERROR: Unable to run BokehJS code because BokehJS library is missing\");\n",
       "        }\n",
       "      }\n",
       "    }, 10, root)\n",
       "  }\n",
       "})(window);"
      ],
      "application/vnd.bokehjs_exec.v0+json": ""
     },
     "metadata": {
      "application/vnd.bokehjs_exec.v0+json": {
       "id": "31865"
      }
     },
     "output_type": "display_data"
    },
    {
     "data": {
      "text/html": [
       "<div>\n",
       "<style scoped>\n",
       "    .dataframe tbody tr th:only-of-type {\n",
       "        vertical-align: middle;\n",
       "    }\n",
       "\n",
       "    .dataframe tbody tr th {\n",
       "        vertical-align: top;\n",
       "    }\n",
       "\n",
       "    .dataframe thead th {\n",
       "        text-align: right;\n",
       "    }\n",
       "</style>\n",
       "<table border=\"1\" class=\"dataframe\">\n",
       "  <thead>\n",
       "    <tr style=\"text-align: right;\">\n",
       "      <th></th>\n",
       "      <th>Attribute</th>\n",
       "      <th>Value</th>\n",
       "      <th>Meaning</th>\n",
       "    </tr>\n",
       "  </thead>\n",
       "  <tbody>\n",
       "    <tr>\n",
       "      <th>991</th>\n",
       "      <td>KBA05_MAXVORB</td>\n",
       "      <td>-1, 9</td>\n",
       "      <td>unknown</td>\n",
       "    </tr>\n",
       "    <tr>\n",
       "      <th>992</th>\n",
       "      <td>KBA05_MAXVORB</td>\n",
       "      <td>1</td>\n",
       "      <td>no preowner</td>\n",
       "    </tr>\n",
       "    <tr>\n",
       "      <th>993</th>\n",
       "      <td>KBA05_MAXVORB</td>\n",
       "      <td>2</td>\n",
       "      <td>1 preowner</td>\n",
       "    </tr>\n",
       "    <tr>\n",
       "      <th>994</th>\n",
       "      <td>KBA05_MAXVORB</td>\n",
       "      <td>3</td>\n",
       "      <td>2 or more preowner</td>\n",
       "    </tr>\n",
       "  </tbody>\n",
       "</table>\n",
       "</div>"
      ],
      "text/plain": [
       "         Attribute  Value             Meaning\n",
       "991  KBA05_MAXVORB  -1, 9             unknown\n",
       "992  KBA05_MAXVORB      1         no preowner\n",
       "993  KBA05_MAXVORB      2          1 preowner\n",
       "994  KBA05_MAXVORB      3  2 or more preowner"
      ]
     },
     "metadata": {},
     "output_type": "display_data"
    },
    {
     "name": "stdout",
     "output_type": "stream",
     "text": [
      "==========================================================================================================================================================================================================================================\n"
     ]
    }
   ],
   "source": [
    "for k in range(50):\n",
    "    output_col(most_different[k])\n",
    "    print('='*117*2)"
   ]
  },
  {
   "cell_type": "markdown",
   "metadata": {},
   "source": [
    "## Part 2: Supervised Learning Model\n",
    "\n",
    "Now that you've found which parts of the population are more likely to be customers of the mail-order company, it's time to build a prediction model. Each of the rows in the \"MAILOUT\" data files represents an individual that was targeted for a mailout campaign. Ideally, we should be able to use the demographic information from each individual to decide whether or not it will be worth it to include that person in the campaign.\n",
    "\n",
    "The \"MAILOUT\" data has been split into two approximately equal parts, each with almost 43 000 data rows. In this part, you can verify your model with the \"TRAIN\" partition, which includes a column, \"RESPONSE\", that states whether or not a person became a customer of the company following the campaign. In the next part, you'll need to create predictions on the \"TEST\" partition, where the \"RESPONSE\" column has been withheld."
   ]
  },
  {
   "cell_type": "code",
   "execution_count": 98,
   "metadata": {},
   "outputs": [],
   "source": [
    "from sys import getsizeof\n",
    "\n",
    "d = dict()\n",
    "keys = list(locals().keys())\n",
    "for k in keys:\n",
    "    d[k] = getsizeof(locals()[k])/1000/1000 # convert to MB"
   ]
  },
  {
   "cell_type": "code",
   "execution_count": 99,
   "metadata": {},
   "outputs": [
    {
     "data": {
      "text/html": [
       "<div>\n",
       "<style scoped>\n",
       "    .dataframe tbody tr th:only-of-type {\n",
       "        vertical-align: middle;\n",
       "    }\n",
       "\n",
       "    .dataframe tbody tr th {\n",
       "        vertical-align: top;\n",
       "    }\n",
       "\n",
       "    .dataframe thead th {\n",
       "        text-align: right;\n",
       "    }\n",
       "</style>\n",
       "<table border=\"1\" class=\"dataframe\">\n",
       "  <thead>\n",
       "    <tr style=\"text-align: right;\">\n",
       "      <th></th>\n",
       "      <th>mem size</th>\n",
       "    </tr>\n",
       "  </thead>\n",
       "  <tbody>\n",
       "    <tr>\n",
       "      <th>azdias</th>\n",
       "      <td>1999.980528</td>\n",
       "    </tr>\n",
       "    <tr>\n",
       "      <th>customers</th>\n",
       "      <td>379.981394</td>\n",
       "    </tr>\n",
       "    <tr>\n",
       "      <th>a_dups</th>\n",
       "      <td>41.837621</td>\n",
       "    </tr>\n",
       "    <tr>\n",
       "      <th>c_dups</th>\n",
       "      <td>5.951996</td>\n",
       "    </tr>\n",
       "    <tr>\n",
       "      <th>attributes_filt</th>\n",
       "      <td>0.425551</td>\n",
       "    </tr>\n",
       "    <tr>\n",
       "      <th>attributes</th>\n",
       "      <td>0.409354</td>\n",
       "    </tr>\n",
       "    <tr>\n",
       "      <th>_37</th>\n",
       "      <td>0.070819</td>\n",
       "    </tr>\n",
       "    <tr>\n",
       "      <th>missing_labels_all</th>\n",
       "      <td>0.070819</td>\n",
       "    </tr>\n",
       "    <tr>\n",
       "      <th>missing_labels</th>\n",
       "      <td>0.061597</td>\n",
       "    </tr>\n",
       "    <tr>\n",
       "      <th>column_stats</th>\n",
       "      <td>0.051735</td>\n",
       "    </tr>\n",
       "    <tr>\n",
       "      <th>all_data</th>\n",
       "      <td>0.037212</td>\n",
       "    </tr>\n",
       "    <tr>\n",
       "      <th>similarity_scores</th>\n",
       "      <td>0.034785</td>\n",
       "    </tr>\n",
       "    <tr>\n",
       "      <th>missing_fill_value</th>\n",
       "      <td>0.032751</td>\n",
       "    </tr>\n",
       "    <tr>\n",
       "      <th>_12</th>\n",
       "      <td>0.024773</td>\n",
       "    </tr>\n",
       "    <tr>\n",
       "      <th>nr_attribute_values</th>\n",
       "      <td>0.024771</td>\n",
       "    </tr>\n",
       "    <tr>\n",
       "      <th>most_different</th>\n",
       "      <td>0.021609</td>\n",
       "    </tr>\n",
       "    <tr>\n",
       "      <th>similarity</th>\n",
       "      <td>0.009312</td>\n",
       "    </tr>\n",
       "    <tr>\n",
       "      <th>customers_missing</th>\n",
       "      <td>0.009312</td>\n",
       "    </tr>\n",
       "    <tr>\n",
       "      <th>azdias_missing</th>\n",
       "      <td>0.009312</td>\n",
       "    </tr>\n",
       "    <tr>\n",
       "      <th>d</th>\n",
       "      <td>0.009312</td>\n",
       "    </tr>\n",
       "  </tbody>\n",
       "</table>\n",
       "</div>"
      ],
      "text/plain": [
       "                        mem size\n",
       "azdias               1999.980528\n",
       "customers             379.981394\n",
       "a_dups                 41.837621\n",
       "c_dups                  5.951996\n",
       "attributes_filt         0.425551\n",
       "attributes              0.409354\n",
       "_37                     0.070819\n",
       "missing_labels_all      0.070819\n",
       "missing_labels          0.061597\n",
       "column_stats            0.051735\n",
       "all_data                0.037212\n",
       "similarity_scores       0.034785\n",
       "missing_fill_value      0.032751\n",
       "_12                     0.024773\n",
       "nr_attribute_values     0.024771\n",
       "most_different          0.021609\n",
       "similarity              0.009312\n",
       "customers_missing       0.009312\n",
       "azdias_missing          0.009312\n",
       "d                       0.009312"
      ]
     },
     "execution_count": 99,
     "metadata": {},
     "output_type": "execute_result"
    }
   ],
   "source": [
    "pd.DataFrame(d.values(), columns=['mem size'], index=d.keys()).sort_values(by='mem size', ascending=False).head(20)"
   ]
  },
  {
   "cell_type": "code",
   "execution_count": 100,
   "metadata": {},
   "outputs": [
    {
     "data": {
      "text/plain": [
       "172"
      ]
     },
     "execution_count": 100,
     "metadata": {},
     "output_type": "execute_result"
    }
   ],
   "source": [
    "import gc\n",
    "\n",
    "del azdias\n",
    "del customers\n",
    "del a_dups\n",
    "del c_dups\n",
    "gc.collect()"
   ]
  },
  {
   "cell_type": "code",
   "execution_count": 101,
   "metadata": {},
   "outputs": [],
   "source": [
    "def apply_pre_processing(df, \n",
    "                         low_to_no_info_columns, \n",
    "                         correlated_cols_to_drop,\n",
    "                         ks_cols_to_drop,\n",
    "                         col_to_proc, \n",
    "                         missing_labels, \n",
    "                         missing_fill_value,\n",
    "                         drop_duplicates=True, \n",
    "                         replacements=None,\n",
    "                         ANZ_HAUSHALTE_AKTIV_quantiles=ANZ_HAUSHALTE_AKTIV_quantiles):\n",
    "    \"\"\"\n",
    "    Systematically apply the pre-processing steps uncovered through the analysis process.\n",
    "    The process \n",
    "        1. Removes meta data and sets the index\n",
    "        2. Drops columns of low value\n",
    "        3. Drops duplicated rows if asked to do so\n",
    "        4. Converts columns to numeric equivalents\n",
    "        5. Unifies the missing labels\n",
    "        6. Fill NaNs with a unique label (separate from missing labels)\n",
    "        7. Converts all columns to int\n",
    "        8. Cleans columns that are prone to ouliers \n",
    "        \n",
    "    Inputs\n",
    "    df - DataFrame with the data to process\n",
    "    low_to_no_info_columns - columns identified as low or no info in the analysis process \n",
    "    correlated_cols_to_drop - columns identified as highly correlated in the analysis process\n",
    "    ks_cols_to_drop - columns identified as similarly distributed in the analysis process\n",
    "    col_to_proc - columns and processes mapping to convert object columns to numeric \n",
    "    missing_labels - labels for each column which indicates the missing values \n",
    "    missing_fill_value - labels for each column to use for NaN values\n",
    "    drop_duplicates=True - flag that drops dupliacte rows from the dataset \n",
    "    replacements=None - replacements mapping (generated in this function to be re-used for subsequent datasets)\n",
    "    ANZ_HAUSHALTE_AKTIV_quantiles - bins to use for this column as determined by the analysis process\n",
    "    \n",
    "    Output\n",
    "    The dataframe is processed in place, so its not retuned\n",
    "    replacements - mapping as calculated in the application of this function\n",
    "    \"\"\"\n",
    "    \n",
    "    setup_dataframe(df)\n",
    "    columns_to_drop = [\n",
    "        *low_to_no_info_columns,  # columns we dont have descriptions for in the accompanying data descriptions\n",
    "        *correlated_cols_to_drop, # columns that are highly correlated    \n",
    "        *ks_cols_to_drop,         # columns with the same distribution in customers and general population\n",
    "    ]\n",
    "    df.drop(columns=columns_to_drop, inplace=True) \n",
    "\n",
    "    # Check for duplicated rows\n",
    "    if drop_duplicates:\n",
    "        dups = df.duplicated()\n",
    "        print(f\"Found and dropping {dups.sum()} duplicate rows\")\n",
    "        df.drop(index=(dups[dups==True].index), inplace=True)\n",
    "    # process non numeric columns so they are numeric\n",
    "    \n",
    "    if 'CAMEO_DEUG_2015' in col_to_proc.keys():\n",
    "        col_to_proc.pop('CAMEO_DEUG_2015')\n",
    "    apply_cleaning_process(df, col_to_proc)\n",
    "    \n",
    "    # convert categoricals to numerics\n",
    "    if replacements is None:\n",
    "        replacements = dict()\n",
    "        cols_to_replace = ['CAMEO_DEU_2015', 'OST_WEST_KZ']\n",
    "        for c in cols_to_replace:\n",
    "            replacements[c] = categorical_to_numeric(df, c)\n",
    "    else:\n",
    "        for c, r in replacements.items():\n",
    "            categorical_to_numeric(df, c, r)\n",
    "    \n",
    "    # some columns have more than 1 missing label, unify these in the data\n",
    "    clean_missing(df, missing_labels)\n",
    "    \n",
    "    # replace all nans with a numeric value not found in the data\n",
    "    df.fillna(missing_fill_value, inplace=True)\n",
    "    \n",
    "    # analysis showed all columns thus far can be converted to int\n",
    "    df.astype(np.int64, copy=False)\n",
    "    \n",
    "    # apply treatment to some features to reduce outliers or reduce the number of categories\n",
    "    df.loc[df['ANZ_PERSONEN'] >= 8,'ANZ_PERSONEN'] = 8\n",
    "    df['KBA13_ANZAHL_PKW'] = (np.ceil((df['KBA13_ANZAHL_PKW']/100))*100)\n",
    "    bin_the_tails(df, 'ANZ_HAUSHALTE_AKTIV', ANZ_HAUSHALTE_AKTIV_quantiles)\n",
    "    \n",
    "    return replacements"
   ]
  },
  {
   "cell_type": "code",
   "execution_count": 102,
   "metadata": {},
   "outputs": [
    {
     "name": "stdout",
     "output_type": "stream",
     "text": [
      "azdias parquet found - loading\n",
      "azdias parquet loaded\n",
      "customers parquet found - loading\n",
      "customers parquet loaded\n"
     ]
    }
   ],
   "source": [
    "train_azdias = load_data('../../data/Term2/capstone/arvato_data/Udacity_AZDIAS_052018.csv', 'azdias')\n",
    "train_customers = load_data('../../data/Term2/capstone/arvato_data/Udacity_CUSTOMERS_052018.csv', 'customers')"
   ]
  },
  {
   "cell_type": "code",
   "execution_count": 103,
   "metadata": {},
   "outputs": [],
   "source": [
    "train_customers.drop(columns=['CUSTOMER_GROUP', 'PRODUCT_GROUP', 'ONLINE_PURCHASE'], inplace=True)"
   ]
  },
  {
   "cell_type": "code",
   "execution_count": 104,
   "metadata": {},
   "outputs": [
    {
     "name": "stdout",
     "output_type": "stream",
     "text": [
      "Found and dropping 52310 duplicate rows\n"
     ]
    },
    {
     "data": {
      "application/vnd.jupyter.widget-view+json": {
       "model_id": "6bf308cb26724272a9500bc961fa7628",
       "version_major": 2,
       "version_minor": 0
      },
      "text/plain": [
       "  0%|          | 0/307 [00:00<?, ?it/s]"
      ]
     },
     "metadata": {},
     "output_type": "display_data"
    }
   ],
   "source": [
    "replacements = apply_pre_processing(train_azdias, \n",
    "                                    low_to_no_info_columns, \n",
    "                                    correlated_cols_to_drop,\n",
    "                                    ks_cols_to_drop,\n",
    "                                    col_to_proc, \n",
    "                                    missing_labels, \n",
    "                                    missing_fill_value,\n",
    "                                    drop_duplicates=True, \n",
    "                                    replacements=None)"
   ]
  },
  {
   "cell_type": "code",
   "execution_count": 105,
   "metadata": {},
   "outputs": [
    {
     "name": "stdout",
     "output_type": "stream",
     "text": [
      "Found and dropping 42298 duplicate rows\n"
     ]
    },
    {
     "data": {
      "application/vnd.jupyter.widget-view+json": {
       "model_id": "f6b2ad8b5eda42979487638f0b082e92",
       "version_major": 2,
       "version_minor": 0
      },
      "text/plain": [
       "  0%|          | 0/307 [00:00<?, ?it/s]"
      ]
     },
     "metadata": {},
     "output_type": "display_data"
    }
   ],
   "source": [
    "_ = apply_pre_processing(train_customers, \n",
    "                         low_to_no_info_columns, \n",
    "                         correlated_cols_to_drop,\n",
    "                         ks_cols_to_drop,\n",
    "                         col_to_proc, \n",
    "                         missing_labels, \n",
    "                         missing_fill_value,\n",
    "                         drop_duplicates=True, \n",
    "                         replacements=replacements)"
   ]
  },
  {
   "cell_type": "code",
   "execution_count": 106,
   "metadata": {},
   "outputs": [],
   "source": [
    "train_azdias['RESPONSE'] = 0\n",
    "train_customers['RESPONSE'] = 1"
   ]
  },
  {
   "cell_type": "code",
   "execution_count": 107,
   "metadata": {},
   "outputs": [],
   "source": [
    "data_train = pd.concat([train_azdias, train_customers], axis=0)"
   ]
  },
  {
   "cell_type": "code",
   "execution_count": 108,
   "metadata": {},
   "outputs": [
    {
     "data": {
      "text/plain": [
       "(838911, 149354, 988265)"
      ]
     },
     "execution_count": 108,
     "metadata": {},
     "output_type": "execute_result"
    }
   ],
   "source": [
    "len(train_azdias), len(train_customers), len(data_train)"
   ]
  },
  {
   "cell_type": "code",
   "execution_count": 109,
   "metadata": {},
   "outputs": [
    {
     "name": "stdout",
     "output_type": "stream",
     "text": [
      "mailout_train parquet found - loading\n",
      "mailout_train parquet loaded\n"
     ]
    }
   ],
   "source": [
    "mailout_veri = load_data('../../data/Term2/capstone/arvato_data/Udacity_MAILOUT_052018_TRAIN.csv', 'mailout_train')"
   ]
  },
  {
   "cell_type": "code",
   "execution_count": 110,
   "metadata": {},
   "outputs": [
    {
     "data": {
      "application/vnd.jupyter.widget-view+json": {
       "model_id": "1cd08c8ba5824d0dab231175fd2b5025",
       "version_major": 2,
       "version_minor": 0
      },
      "text/plain": [
       "  0%|          | 0/307 [00:00<?, ?it/s]"
      ]
     },
     "metadata": {},
     "output_type": "display_data"
    }
   ],
   "source": [
    "_ = apply_pre_processing(mailout_veri, \n",
    "                         low_to_no_info_columns, \n",
    "                         correlated_cols_to_drop,\n",
    "                         ks_cols_to_drop,\n",
    "                         col_to_proc, \n",
    "                         missing_labels, \n",
    "                         missing_fill_value,\n",
    "                         drop_duplicates=False, \n",
    "                         replacements=replacements)"
   ]
  },
  {
   "cell_type": "code",
   "execution_count": 111,
   "metadata": {},
   "outputs": [
    {
     "data": {
      "text/html": [
       "<div>\n",
       "<style scoped>\n",
       "    .dataframe tbody tr th:only-of-type {\n",
       "        vertical-align: middle;\n",
       "    }\n",
       "\n",
       "    .dataframe tbody tr th {\n",
       "        vertical-align: top;\n",
       "    }\n",
       "\n",
       "    .dataframe thead th {\n",
       "        text-align: right;\n",
       "    }\n",
       "</style>\n",
       "<table border=\"1\" class=\"dataframe\">\n",
       "  <thead>\n",
       "    <tr style=\"text-align: right;\">\n",
       "      <th></th>\n",
       "      <th>AGER_TYP</th>\n",
       "      <th>ALTER_HH</th>\n",
       "      <th>ANZ_HAUSHALTE_AKTIV</th>\n",
       "      <th>ANZ_HH_TITEL</th>\n",
       "      <th>ANZ_PERSONEN</th>\n",
       "      <th>ANZ_TITEL</th>\n",
       "      <th>BALLRAUM</th>\n",
       "      <th>CAMEO_DEU_2015</th>\n",
       "      <th>CAMEO_INTL_2015</th>\n",
       "      <th>CJT_GESAMTTYP</th>\n",
       "      <th>...</th>\n",
       "      <th>SEMIO_VERT</th>\n",
       "      <th>SHOPPER_TYP</th>\n",
       "      <th>VERS_TYP</th>\n",
       "      <th>W_KEIT_KIND_HH</th>\n",
       "      <th>WOHNDAUER_2008</th>\n",
       "      <th>WOHNLAGE</th>\n",
       "      <th>ZABEOTYP</th>\n",
       "      <th>RESPONSE</th>\n",
       "      <th>ANREDE_KZ</th>\n",
       "      <th>ALTERSKATEGORIE_GROB</th>\n",
       "    </tr>\n",
       "    <tr>\n",
       "      <th>LNR</th>\n",
       "      <th></th>\n",
       "      <th></th>\n",
       "      <th></th>\n",
       "      <th></th>\n",
       "      <th></th>\n",
       "      <th></th>\n",
       "      <th></th>\n",
       "      <th></th>\n",
       "      <th></th>\n",
       "      <th></th>\n",
       "      <th></th>\n",
       "      <th></th>\n",
       "      <th></th>\n",
       "      <th></th>\n",
       "      <th></th>\n",
       "      <th></th>\n",
       "      <th></th>\n",
       "      <th></th>\n",
       "      <th></th>\n",
       "      <th></th>\n",
       "      <th></th>\n",
       "    </tr>\n",
       "  </thead>\n",
       "  <tbody>\n",
       "    <tr>\n",
       "      <th>1763</th>\n",
       "      <td>2</td>\n",
       "      <td>8.0</td>\n",
       "      <td>11.0</td>\n",
       "      <td>0.0</td>\n",
       "      <td>1.0</td>\n",
       "      <td>0.0</td>\n",
       "      <td>5.0</td>\n",
       "      <td>22.0</td>\n",
       "      <td>34.0</td>\n",
       "      <td>2.0</td>\n",
       "      <td>...</td>\n",
       "      <td>3</td>\n",
       "      <td>3</td>\n",
       "      <td>2</td>\n",
       "      <td>6.0</td>\n",
       "      <td>9.0</td>\n",
       "      <td>3.0</td>\n",
       "      <td>3</td>\n",
       "      <td>0</td>\n",
       "      <td>2</td>\n",
       "      <td>4</td>\n",
       "    </tr>\n",
       "    <tr>\n",
       "      <th>1771</th>\n",
       "      <td>1</td>\n",
       "      <td>13.0</td>\n",
       "      <td>1.0</td>\n",
       "      <td>0.0</td>\n",
       "      <td>2.0</td>\n",
       "      <td>0.0</td>\n",
       "      <td>5.0</td>\n",
       "      <td>20.0</td>\n",
       "      <td>32.0</td>\n",
       "      <td>2.0</td>\n",
       "      <td>...</td>\n",
       "      <td>4</td>\n",
       "      <td>2</td>\n",
       "      <td>1</td>\n",
       "      <td>4.0</td>\n",
       "      <td>9.0</td>\n",
       "      <td>7.0</td>\n",
       "      <td>1</td>\n",
       "      <td>0</td>\n",
       "      <td>2</td>\n",
       "      <td>3</td>\n",
       "    </tr>\n",
       "    <tr>\n",
       "      <th>1776</th>\n",
       "      <td>1</td>\n",
       "      <td>9.0</td>\n",
       "      <td>0.0</td>\n",
       "      <td>-1.0</td>\n",
       "      <td>0.0</td>\n",
       "      <td>0.0</td>\n",
       "      <td>1.0</td>\n",
       "      <td>9.0</td>\n",
       "      <td>14.0</td>\n",
       "      <td>4.0</td>\n",
       "      <td>...</td>\n",
       "      <td>7</td>\n",
       "      <td>3</td>\n",
       "      <td>1</td>\n",
       "      <td>-2.0</td>\n",
       "      <td>9.0</td>\n",
       "      <td>2.0</td>\n",
       "      <td>3</td>\n",
       "      <td>0</td>\n",
       "      <td>1</td>\n",
       "      <td>4</td>\n",
       "    </tr>\n",
       "    <tr>\n",
       "      <th>1460</th>\n",
       "      <td>2</td>\n",
       "      <td>6.0</td>\n",
       "      <td>3.0</td>\n",
       "      <td>0.0</td>\n",
       "      <td>2.0</td>\n",
       "      <td>0.0</td>\n",
       "      <td>2.0</td>\n",
       "      <td>9.0</td>\n",
       "      <td>14.0</td>\n",
       "      <td>2.0</td>\n",
       "      <td>...</td>\n",
       "      <td>2</td>\n",
       "      <td>1</td>\n",
       "      <td>2</td>\n",
       "      <td>6.0</td>\n",
       "      <td>9.0</td>\n",
       "      <td>1.0</td>\n",
       "      <td>3</td>\n",
       "      <td>0</td>\n",
       "      <td>2</td>\n",
       "      <td>4</td>\n",
       "    </tr>\n",
       "    <tr>\n",
       "      <th>1783</th>\n",
       "      <td>2</td>\n",
       "      <td>9.0</td>\n",
       "      <td>17.0</td>\n",
       "      <td>0.0</td>\n",
       "      <td>1.0</td>\n",
       "      <td>0.0</td>\n",
       "      <td>4.0</td>\n",
       "      <td>32.0</td>\n",
       "      <td>41.0</td>\n",
       "      <td>6.0</td>\n",
       "      <td>...</td>\n",
       "      <td>7</td>\n",
       "      <td>1</td>\n",
       "      <td>1</td>\n",
       "      <td>6.0</td>\n",
       "      <td>9.0</td>\n",
       "      <td>3.0</td>\n",
       "      <td>3</td>\n",
       "      <td>0</td>\n",
       "      <td>1</td>\n",
       "      <td>3</td>\n",
       "    </tr>\n",
       "  </tbody>\n",
       "</table>\n",
       "<p>5 rows × 298 columns</p>\n",
       "</div>"
      ],
      "text/plain": [
       "      AGER_TYP  ALTER_HH  ANZ_HAUSHALTE_AKTIV  ANZ_HH_TITEL  ANZ_PERSONEN  \\\n",
       "LNR                                                                         \n",
       "1763         2       8.0                 11.0           0.0           1.0   \n",
       "1771         1      13.0                  1.0           0.0           2.0   \n",
       "1776         1       9.0                  0.0          -1.0           0.0   \n",
       "1460         2       6.0                  3.0           0.0           2.0   \n",
       "1783         2       9.0                 17.0           0.0           1.0   \n",
       "\n",
       "      ANZ_TITEL  BALLRAUM  CAMEO_DEU_2015  CAMEO_INTL_2015  CJT_GESAMTTYP  \\\n",
       "LNR                                                                         \n",
       "1763        0.0       5.0            22.0             34.0            2.0   \n",
       "1771        0.0       5.0            20.0             32.0            2.0   \n",
       "1776        0.0       1.0             9.0             14.0            4.0   \n",
       "1460        0.0       2.0             9.0             14.0            2.0   \n",
       "1783        0.0       4.0            32.0             41.0            6.0   \n",
       "\n",
       "      ...  SEMIO_VERT  SHOPPER_TYP  VERS_TYP  W_KEIT_KIND_HH  WOHNDAUER_2008  \\\n",
       "LNR   ...                                                                      \n",
       "1763  ...           3            3         2             6.0             9.0   \n",
       "1771  ...           4            2         1             4.0             9.0   \n",
       "1776  ...           7            3         1            -2.0             9.0   \n",
       "1460  ...           2            1         2             6.0             9.0   \n",
       "1783  ...           7            1         1             6.0             9.0   \n",
       "\n",
       "      WOHNLAGE  ZABEOTYP  RESPONSE  ANREDE_KZ  ALTERSKATEGORIE_GROB  \n",
       "LNR                                                                  \n",
       "1763       3.0         3         0          2                     4  \n",
       "1771       7.0         1         0          2                     3  \n",
       "1776       2.0         3         0          1                     4  \n",
       "1460       1.0         3         0          2                     4  \n",
       "1783       3.0         3         0          1                     3  \n",
       "\n",
       "[5 rows x 298 columns]"
      ]
     },
     "execution_count": 111,
     "metadata": {},
     "output_type": "execute_result"
    }
   ],
   "source": [
    "mailout_veri.head()"
   ]
  },
  {
   "cell_type": "code",
   "execution_count": 112,
   "metadata": {},
   "outputs": [],
   "source": [
    "X = data_train.drop(columns=['RESPONSE'])\n",
    "y = data_train['RESPONSE']\n",
    "X_train, X_test, y_train, y_test = train_test_split(X, y, test_size=0.2, random_state=42)"
   ]
  },
  {
   "cell_type": "code",
   "execution_count": 113,
   "metadata": {},
   "outputs": [
    {
     "data": {
      "text/plain": [
       "60"
      ]
     },
     "execution_count": 113,
     "metadata": {},
     "output_type": "execute_result"
    }
   ],
   "source": [
    "del data_train\n",
    "del train_azdias\n",
    "del train_customers\n",
    "gc.collect()"
   ]
  },
  {
   "cell_type": "code",
   "execution_count": 114,
   "metadata": {},
   "outputs": [],
   "source": [
    "X_valid = mailout_veri.drop(columns=['RESPONSE'])\n",
    "y_valid = mailout_veri['RESPONSE']"
   ]
  },
  {
   "cell_type": "code",
   "execution_count": 115,
   "metadata": {},
   "outputs": [
    {
     "data": {
      "text/plain": [
       "40"
      ]
     },
     "execution_count": 115,
     "metadata": {},
     "output_type": "execute_result"
    }
   ],
   "source": [
    "del mailout_veri\n",
    "gc.collect()"
   ]
  },
  {
   "cell_type": "code",
   "execution_count": 116,
   "metadata": {},
   "outputs": [
    {
     "data": {
      "text/plain": [
       "0    0.848873\n",
       "1    0.151127\n",
       "Name: RESPONSE, dtype: float64"
      ]
     },
     "execution_count": 116,
     "metadata": {},
     "output_type": "execute_result"
    }
   ],
   "source": [
    "y.value_counts()/len(y)"
   ]
  },
  {
   "cell_type": "code",
   "execution_count": 117,
   "metadata": {},
   "outputs": [],
   "source": [
    "# %%time\n",
    "# clf = RandomForestClassifier(random_state=42, n_jobs=-1)\n",
    "# clf.fit(X_train, y_train)"
   ]
  },
  {
   "cell_type": "code",
   "execution_count": 118,
   "metadata": {},
   "outputs": [],
   "source": [
    "# y_pred_test = clf.predict(X_test)\n",
    "# y_score_test = clf.predict_proba(X_test)[:,1]"
   ]
  },
  {
   "cell_type": "code",
   "execution_count": 119,
   "metadata": {},
   "outputs": [],
   "source": [
    "# y_pred_valid = clf.predict(X_valid)\n",
    "# y_score_valid = clf.predict_proba(X_valid)[:,1]"
   ]
  },
  {
   "cell_type": "code",
   "execution_count": 120,
   "metadata": {},
   "outputs": [],
   "source": [
    "# fpr_test, tpr_test, thresholds_test = roc_curve(y_test, y_score_test)\n",
    "# roc_auc_test = auc(fpr_test, tpr_test)\n",
    "\n",
    "# fpr_valid, tpr_valid, thresholds_valid = roc_curve(y_valid, y_score_valid)\n",
    "# roc_auc_valid = auc(fpr_valid, tpr_valid)"
   ]
  },
  {
   "cell_type": "code",
   "execution_count": 121,
   "metadata": {},
   "outputs": [],
   "source": [
    "# p = figure(title=\"ROC\")\n",
    "\n",
    "# p.line(fpr_test, tpr_test, color='Red', legend_label=f\"Test ROC curve (AUC = {roc_auc_test:0.3f})\")\n",
    "# p.line(fpr_valid, tpr_valid, color='Blue', legend_label=f\"Validation ROC curve (AUC = {roc_auc_valid:0.3f})\")\n",
    "# p.line([0,1], [0,1], color='Gray')\n",
    "\n",
    "# p.yaxis.axis_label = \"True Positive Rate\"\n",
    "# p.xaxis.axis_label = \"False Positive Rate\"\n",
    "# p.legend.location = \"bottom_right\"\n",
    "\n",
    "# show(p)"
   ]
  },
  {
   "cell_type": "code",
   "execution_count": 122,
   "metadata": {},
   "outputs": [],
   "source": [
    "# np.mean(np.array([estimator.tree_.max_depth for estimator in clf.estimators_]))"
   ]
  },
  {
   "cell_type": "markdown",
   "metadata": {},
   "source": [
    "### Gridsearch"
   ]
  },
  {
   "cell_type": "code",
   "execution_count": 123,
   "metadata": {},
   "outputs": [],
   "source": [
    "# auc = roc_auc_score(y_test, y_pred)\n",
    "# tn, fp, fn, tp = confusion_matrix(y_test, y_pred).ravel()\n",
    "# auc, tn, fp, fn, tp"
   ]
  },
  {
   "cell_type": "code",
   "execution_count": 124,
   "metadata": {},
   "outputs": [],
   "source": [
    "# param_grid = {\n",
    "#     'n_estimators':      [100, 500],\n",
    "#     'max_depth':         [None, 10, 20, 30],\n",
    "#     'min_samples_split': [2, 5, 10, 15],\n",
    "#     'min_samples_leaf':  [1, 2, 5, 10],\n",
    "#     'max_features':      ['sqrt', 'log2'],\n",
    "#              }"
   ]
  },
  {
   "cell_type": "code",
   "execution_count": 125,
   "metadata": {},
   "outputs": [],
   "source": [
    "# clf_hyp = RandomForestClassifier(random_state=42, n_jobs=-1)\n",
    "# clf_rand = RandomizedSearchCV(estimator=clf_hyp, param_distributions=param_grid, n_iter=(60/2),\n",
    "#                               verbose=5, random_state=42, scoring='roc_auc')"
   ]
  },
  {
   "cell_type": "code",
   "execution_count": 126,
   "metadata": {
    "scrolled": true
   },
   "outputs": [],
   "source": [
    "# %%time\n",
    "# clf_rand.fit(X, y)"
   ]
  },
  {
   "cell_type": "code",
   "execution_count": 127,
   "metadata": {},
   "outputs": [],
   "source": [
    "# clf_rand.best_params_"
   ]
  },
  {
   "cell_type": "code",
   "execution_count": 128,
   "metadata": {},
   "outputs": [],
   "source": [
    "# y_pred_test_rnd = clf_rand.predict(X_test)\n",
    "# y_score_test_rnd = clf_rand.predict_proba(X_test)[:,1]\n",
    "# y_pred_valid_rnd = clf_rand.predict(X_valid)\n",
    "# y_score_valid_rnd = clf_rand.predict_proba(X_valid)[:,1]"
   ]
  },
  {
   "cell_type": "code",
   "execution_count": 129,
   "metadata": {},
   "outputs": [],
   "source": [
    "# fpr_test_rnd, tpr_test_rnd, thresholds_test_rnd = roc_curve(y_test, y_score_test_rnd)\n",
    "# roc_auc_test_rnd = auc(fpr_test_rnd, tpr_test_rnd)\n",
    "\n",
    "# fpr_valid_rnd, tpr_valid_rnd, thresholds_valid_rnd = roc_curve(y_valid, y_score_valid_rnd)\n",
    "# roc_auc_valid_rnd = auc(fpr_valid_rnd, tpr_valid_rnd)"
   ]
  },
  {
   "cell_type": "code",
   "execution_count": 130,
   "metadata": {},
   "outputs": [],
   "source": [
    "# p = figure(title=\"ROC improvement\")\n",
    "\n",
    "# p.line(fpr_test, tpr_test, color='#ff9e9e', legend_label=f\"Test ROC curve (AUC = {roc_auc_test:0.3f})\")\n",
    "# p.line(fpr_valid, tpr_valid, color='#a3a3ff', legend_label=f\"Validation ROC curve (AUC = {roc_auc_valid:0.3f})\")\n",
    "# p.line(fpr_test_rnd, tpr_test_rnd, color='Red', legend_label=f\"Optimised Test ROC curve (AUC = {roc_auc_test_rnd:0.3f})\")\n",
    "# p.line(fpr_valid_rnd, tpr_valid_rnd, color='Blue', legend_label=f\"Optimised Validation ROC curve (AUC = {roc_auc_valid_rnd:0.3f})\")\n",
    "# p.line([0,1], [0,1], color='Gray')\n",
    "\n",
    "# p.yaxis.axis_label = \"True Positive Rate\"\n",
    "# p.xaxis.axis_label = \"False Positive Rate\"\n",
    "# p.legend.location = \"bottom_right\"\n",
    "\n",
    "# show(p)"
   ]
  },
  {
   "cell_type": "code",
   "execution_count": 131,
   "metadata": {},
   "outputs": [],
   "source": [
    "# results_df = pd.DataFrame(clf_rand.cv_results_)[['params', 'mean_test_score', 'std_test_score']].sort_values(by='mean_test_score', ascending=False)"
   ]
  },
  {
   "cell_type": "code",
   "execution_count": 132,
   "metadata": {},
   "outputs": [],
   "source": [
    "# for k in clf_rand.best_params_.keys():\n",
    "#     results_df[k] = results_df['params'].apply(lambda x: x[k])\n",
    "# results_df.drop(columns=['params'], inplace=True)"
   ]
  },
  {
   "cell_type": "code",
   "execution_count": 133,
   "metadata": {},
   "outputs": [],
   "source": [
    "# results_df"
   ]
  },
  {
   "cell_type": "markdown",
   "metadata": {},
   "source": [
    "### Varying n_estimators"
   ]
  },
  {
   "cell_type": "code",
   "execution_count": 134,
   "metadata": {},
   "outputs": [],
   "source": [
    "# performance_data = dict()"
   ]
  },
  {
   "cell_type": "code",
   "execution_count": 135,
   "metadata": {},
   "outputs": [],
   "source": [
    "# for k in tqdm(np.geomspace(10,500,18, dtype=int)):\n",
    "#     clf = RandomForestClassifier(random_state=42, n_jobs=-1, n_estimators=k)\n",
    "#     clf.fit(X_train, y_train)\n",
    "    \n",
    "#     y_pred_test = clf.predict(X_test)\n",
    "#     y_score_test = clf.predict_proba(X_test)[:,1]\n",
    "    \n",
    "#     y_pred_valid = clf.predict(X_valid)\n",
    "#     y_score_valid = clf.predict_proba(X_valid)[:,1]\n",
    "    \n",
    "#     fpr_test, tpr_test, thresholds_test = roc_curve(y_test, y_score_test)\n",
    "#     roc_auc_test = auc(fpr_test, tpr_test)\n",
    "\n",
    "#     fpr_valid, tpr_valid, thresholds_valid = roc_curve(y_valid, y_score_valid)\n",
    "#     roc_auc_valid = auc(fpr_valid, tpr_valid)\n",
    "    \n",
    "#     performance_data[k] = {\n",
    "#         'y_score_test': y_score_test,\n",
    "#         'y_score_valid': y_score_valid,\n",
    "#         'fpr_test': fpr_test, \n",
    "#         'tpr_test': tpr_test, \n",
    "#         'thresholds_test': thresholds_test,\n",
    "#         'roc_auc_test': roc_auc_test,\n",
    "#         'fpr_valid': fpr_valid, \n",
    "#         'tpr_valid': tpr_valid, \n",
    "#         'thresholds_valid': thresholds_valid,\n",
    "#         'roc_auc_valid': roc_auc_valid,\n",
    "#     }\n",
    "#     print(f\"{k}, {roc_auc_test:0.3f}, {roc_auc_valid:0.3f}\")"
   ]
  },
  {
   "cell_type": "code",
   "execution_count": 136,
   "metadata": {},
   "outputs": [],
   "source": [
    "# p = figure(title=\"ROC for varying n_estimators\")\n",
    "\n",
    "# for k, v in performance_data.items():\n",
    "    \n",
    "#     fpr_valid, tpr_valid = v['fpr_valid'], v['tpr_valid']\n",
    "#     if np.abs(k - 100) < 2:\n",
    "#         color = 'Blue'\n",
    "#         alpha = 1\n",
    "#         legend = 'n_estimators = 100'\n",
    "#     elif np.abs(k - 126) < 5:\n",
    "#         color = 'Red'\n",
    "#         alpha = 1\n",
    "#         legend = 'n_estimators = 126'\n",
    "#     else:\n",
    "#         color = 'Black'\n",
    "#         alpha = 0.15\n",
    "#         legend = 'n_estimators variations'\n",
    "    \n",
    "# #     p.line(fpr_test, tpr_test, color='Red', legend_label=f\"Test ROC curve (AUC = {roc_auc_test:0.3f})\")\n",
    "#     p.line(fpr_valid, tpr_valid, color=color, line_alpha=alpha, legend_label=legend)\n",
    "\n",
    "# p.line([0,1], [0,1], color='Gray')\n",
    "\n",
    "# p.yaxis.axis_label = \"True Positive Rate\"\n",
    "# p.xaxis.axis_label = \"False Positive Rate\"\n",
    "# p.legend.location = \"bottom_right\"\n",
    "\n",
    "# show(p)"
   ]
  },
  {
   "cell_type": "code",
   "execution_count": 137,
   "metadata": {},
   "outputs": [],
   "source": [
    "# p = figure(title=\"AUC scores by n_estimators\")\n",
    "\n",
    "# n_est, auc_test, auc_valid = [], [], []\n",
    "# for k, v in performance_data.items():\n",
    "#     n_est.append(k)\n",
    "#     auc_test.append(v['roc_auc_test'])\n",
    "#     auc_valid.append(v['roc_auc_valid'])  \n",
    "    \n",
    "# p.line(n_est, auc_test, color='Blue', legend_label=f\"Test AUC scores\")\n",
    "# p.line(n_est, auc_valid, color='Red', legend_label=f\"Validation AUC scores\")\n",
    "\n",
    "# # p.line([0,1], [0,1], color='Gray')\n",
    "\n",
    "# p.yaxis.axis_label = \"AUC\"\n",
    "# p.xaxis.axis_label = \"n_estimators\"\n",
    "# p.legend.location = \"bottom_right\"\n",
    "\n",
    "# show(p)"
   ]
  },
  {
   "cell_type": "markdown",
   "metadata": {},
   "source": [
    "### Stacked classifier"
   ]
  },
  {
   "cell_type": "code",
   "execution_count": 138,
   "metadata": {},
   "outputs": [],
   "source": [
    "from sklearn.ensemble import StackingClassifier"
   ]
  },
  {
   "cell_type": "code",
   "execution_count": 139,
   "metadata": {},
   "outputs": [],
   "source": [
    "# clf1 = RandomForestClassifier(n_estimators=15, random_state=42, n_jobs=-1)\n",
    "# clf2 = RandomForestClassifier(n_estimators=31, random_state=42, n_jobs=-1)\n",
    "# clf3 = RandomForestClassifier(n_estimators=126, random_state=42, n_jobs=-1)\n",
    "# # clf4 = RandomForestClassifier(n_estimators=397, random_state=42, n_jobs=-1)"
   ]
  },
  {
   "cell_type": "code",
   "execution_count": 140,
   "metadata": {},
   "outputs": [],
   "source": [
    "# for c in tqdm([clf1, clf2, clf3]):\n",
    "#     c.fit(X_train, y_train)\n"
   ]
  },
  {
   "cell_type": "code",
   "execution_count": 141,
   "metadata": {},
   "outputs": [],
   "source": [
    "def get_scores(clf, X_valid, y_valid):\n",
    "    y_score_valid = clf.predict_proba(X_valid)[:,1]\n",
    "    fpr_valid, tpr_valid, thresholds_valid = roc_curve(y_valid, y_score_valid)\n",
    "    roc_auc_valid = auc(fpr_valid, tpr_valid)\n",
    "    return fpr_valid, tpr_valid, roc_auc_valid\n",
    "\n",
    "# fpr_valid1, tpr_valid1, roc_auc_valid1 = get_scores(clf1, X_valid, y_valid)\n",
    "# fpr_valid2, tpr_valid2, roc_auc_valid2 = get_scores(clf2, X_valid, y_valid)\n",
    "# fpr_valid3, tpr_valid3, roc_auc_valid3 = get_scores(clf3, X_valid, y_valid)\n",
    "# # fpr_valid4, tpr_valid4, roc_auc_valid4 = get_scores(clf4, X_valid, y_valid)"
   ]
  },
  {
   "cell_type": "code",
   "execution_count": 142,
   "metadata": {},
   "outputs": [],
   "source": [
    "# p = figure(title=\"ROC Random Forests\")\n",
    "\n",
    "# p.line(fpr_valid1, tpr_valid1, color='Red', legend_label=f\"n_estimators=15 (AUC = {roc_auc_valid1:0.3f})\")\n",
    "# p.line(fpr_valid2, tpr_valid2, color='Blue', legend_label=f\"n_estimators=31 (AUC = {roc_auc_valid2:0.3f})\")\n",
    "# p.line(fpr_valid3, tpr_valid3, color='Green', legend_label=f\"n_estimators=126 (AUC = {roc_auc_valid3:0.3f})\")\n",
    "# # p.line(fpr_valid4, tpr_valid4, color='Purple', legend_label=f\"n_estimators=397 (AUC = {roc_auc_valid4:0.3f})\")\n",
    "# p.line([0,1], [0,1], color='Gray')\n",
    "\n",
    "# p.yaxis.axis_label = \"True Positive Rate\"\n",
    "# p.xaxis.axis_label = \"False Positive Rate\"\n",
    "# p.legend.location = \"bottom_right\"\n",
    "\n",
    "# show(p)"
   ]
  },
  {
   "cell_type": "code",
   "execution_count": 143,
   "metadata": {},
   "outputs": [],
   "source": [
    "# clfs = StackingClassifier(estimators=[\n",
    "#     ('n15', RandomForestClassifier(n_estimators=15, random_state=42, n_jobs=1)),\n",
    "#     ('n31', RandomForestClassifier(n_estimators=31, random_state=42, n_jobs=2)),\n",
    "#     ('n126', RandomForestClassifier(n_estimators=126, random_state=42, n_jobs=5)),\n",
    "# #     ('n397', RandomForestClassifier(n_estimators=397, random_state=42)),\n",
    "#                             ]\n",
    "#                           )"
   ]
  },
  {
   "cell_type": "code",
   "execution_count": 144,
   "metadata": {},
   "outputs": [],
   "source": [
    "# clfs.fit(X_train, y_train)"
   ]
  },
  {
   "cell_type": "code",
   "execution_count": 145,
   "metadata": {},
   "outputs": [],
   "source": [
    "# fpr_valids, tpr_valids, roc_auc_valids = get_scores(clfs, X_valid, y_valid)"
   ]
  },
  {
   "cell_type": "code",
   "execution_count": 146,
   "metadata": {},
   "outputs": [],
   "source": [
    "# roc_auc_valids"
   ]
  },
  {
   "cell_type": "code",
   "execution_count": 147,
   "metadata": {},
   "outputs": [],
   "source": [
    "# fpr_valid, tpr_valid = [], []\n",
    "# for c in clfs.estimators_:\n",
    "#     fpr_v, tpr_v, roc_auc_valids = get_scores(c, X_valid, y_valid)\n",
    "#     fpr_valid.append(fpr_v)\n",
    "#     tpr_valid.append(tpr_v)"
   ]
  },
  {
   "cell_type": "code",
   "execution_count": 148,
   "metadata": {},
   "outputs": [],
   "source": [
    "# p = figure(title=\"ROC Stacked Random Forests\")\n",
    "\n",
    "# for fpr, tpr in zip(fpr_valid, tpr_valid):\n",
    "#     p.line(fpr, tpr, color='Blue', alpha=0.25, legend_label=f\"Individual Random Forests\")\n",
    "# p.line(fpr_valids, tpr_valids, color='Red',  legend_label=f\"Stacked (AUC = {roc_auc_valids:0.3f})\")\n",
    "# p.line([0,1], [0,1], color='Gray')\n",
    "\n",
    "# p.yaxis.axis_label = \"True Positive Rate\"\n",
    "# p.xaxis.axis_label = \"False Positive Rate\"\n",
    "# p.legend.location = \"bottom_right\"\n",
    "\n",
    "# show(p)"
   ]
  },
  {
   "cell_type": "code",
   "execution_count": null,
   "metadata": {},
   "outputs": [],
   "source": []
  },
  {
   "cell_type": "code",
   "execution_count": null,
   "metadata": {},
   "outputs": [],
   "source": []
  },
  {
   "cell_type": "code",
   "execution_count": null,
   "metadata": {},
   "outputs": [],
   "source": []
  },
  {
   "cell_type": "markdown",
   "metadata": {},
   "source": [
    "### Balanced vs unbalanced vs mathing validation set balance"
   ]
  },
  {
   "cell_type": "code",
   "execution_count": 149,
   "metadata": {},
   "outputs": [],
   "source": [
    "# y_train.value_counts()/len(y_train)"
   ]
  },
  {
   "cell_type": "code",
   "execution_count": 150,
   "metadata": {},
   "outputs": [],
   "source": [
    "# (y_valid.value_counts()/len(y_valid)).to_dict()"
   ]
  },
  {
   "cell_type": "code",
   "execution_count": 151,
   "metadata": {},
   "outputs": [],
   "source": [
    "# clf_plain = RandomForestClassifier(n_estimators = 126, random_state=42, n_jobs=-1)\n",
    "# clf_plain.fit(X_train, y_train)\n",
    "# print('done1')\n",
    "\n",
    "# clf_bal = RandomForestClassifier(n_estimators = 126, random_state=42, n_jobs=-1, class_weight='balanced')\n",
    "# clf_bal.fit(X_train, y_train)\n",
    "# print('done2')\n",
    "\n",
    "# clf_balsub = RandomForestClassifier(n_estimators = 126, random_state=42, n_jobs=-1, class_weight='balanced_subsample')\n",
    "# clf_balsub.fit(X_train, y_train)\n",
    "# print('done3')\n",
    "\n",
    "# clf_val = RandomForestClassifier(n_estimators = 126, random_state=42, n_jobs=-1, class_weight=(y_valid.value_counts()/len(y_valid)).to_dict())\n",
    "# clf_val.fit(X_train, y_train)\n",
    "# print('done4')"
   ]
  },
  {
   "cell_type": "code",
   "execution_count": 152,
   "metadata": {},
   "outputs": [],
   "source": [
    "# fpr_valid1, tpr_valid1, roc_auc_valid1 = get_scores(clf_plain, X_valid, y_valid)\n",
    "# fpr_valid2, tpr_valid2, roc_auc_valid2 = get_scores(clf_bal, X_valid, y_valid)\n",
    "# fpr_valid3, tpr_valid3, roc_auc_valid3 = get_scores(clf_balsub, X_valid, y_valid)\n",
    "# fpr_valid4, tpr_valid4, roc_auc_valid4 = get_scores(clf_val, X_valid, y_valid)"
   ]
  },
  {
   "cell_type": "code",
   "execution_count": 153,
   "metadata": {},
   "outputs": [],
   "source": [
    "# p = figure(title=\"ROC Balancing\")\n",
    "\n",
    "# p.line(fpr_valid1, tpr_valid1, color='Red', legend_label=f\"none (AUC = {roc_auc_valid1:0.3f})\")\n",
    "# p.line(fpr_valid2, tpr_valid2, color='Blue', legend_label=f\"balanced (AUC = {roc_auc_valid2:0.3f})\")\n",
    "# p.line(fpr_valid3, tpr_valid3, color='Green', legend_label=f\"balanced subsample (AUC = {roc_auc_valid3:0.3f})\")\n",
    "# p.line(fpr_valid4, tpr_valid4, color='Purple', legend_label=f\"balanced validation (AUC = {roc_auc_valid4:0.3f})\")\n",
    "# p.line([0,1], [0,1], color='Gray')\n",
    "\n",
    "# p.yaxis.axis_label = \"True Positive Rate\"\n",
    "# p.xaxis.axis_label = \"False Positive Rate\"\n",
    "# p.legend.location = \"bottom_right\"\n",
    "\n",
    "# show(p)"
   ]
  },
  {
   "cell_type": "markdown",
   "metadata": {},
   "source": [
    "### Reducing number of features"
   ]
  },
  {
   "cell_type": "code",
   "execution_count": 166,
   "metadata": {},
   "outputs": [
    {
     "data": {
      "text/plain": [
       "array([  8,  10,  12,  15,  19,  24,  31,  38,  48,  61,  76,  95, 120,\n",
       "       150, 189, 236])"
      ]
     },
     "execution_count": 166,
     "metadata": {},
     "output_type": "execute_result"
    }
   ],
   "source": [
    "np.geomspace(8,len(X_train.columns),16,dtype = int, endpoint=False)"
   ]
  },
  {
   "cell_type": "code",
   "execution_count": 157,
   "metadata": {},
   "outputs": [
    {
     "data": {
      "text/plain": [
       "array([290, 270, 250, 230, 210, 190, 170, 150, 130, 110,  90,  70,  50,\n",
       "        30,  10])"
      ]
     },
     "execution_count": 157,
     "metadata": {},
     "output_type": "execute_result"
    }
   ],
   "source": [
    "np.flip(np.arange(10,len(X_train.columns),20))"
   ]
  },
  {
   "cell_type": "code",
   "execution_count": 167,
   "metadata": {},
   "outputs": [
    {
     "data": {
      "application/vnd.jupyter.widget-view+json": {
       "model_id": "6e33f40d7f5947b58b5c95b1cac48e10",
       "version_major": 2,
       "version_minor": 0
      },
      "text/plain": [
       "  0%|          | 0/16 [00:00<?, ?it/s]"
      ]
     },
     "metadata": {},
     "output_type": "display_data"
    },
    {
     "name": "stdout",
     "output_type": "stream",
     "text": [
      "297 0.8000621102603316\n",
      "236 0.7982615993790746\n",
      "189 0.8034525241928767\n",
      "150 0.799667829720424\n",
      "120 0.8012495813538089\n",
      "95 0.7991226593469296\n",
      "76 0.7978372604856473\n",
      "61 0.7965670790811581\n",
      "48 0.8046477701441915\n",
      "38 0.799730161486677\n",
      "31 0.8033511409326994\n",
      "24 0.7968436956756728\n",
      "19 0.7778185520955346\n",
      "15 0.773619309291376\n",
      "12 0.7668181471827105\n",
      "10 0.7633216762150487\n"
     ]
    }
   ],
   "source": [
    "res_dict = dict()\n",
    "X_lim_t = X_train.copy()\n",
    "X_lim_v = X_valid.copy()\n",
    "\n",
    "for rem_cols in tqdm(np.flip(np.geomspace(8,len(X_train.columns),16,dtype = int, endpoint=False))):\n",
    "    clf = RandomForestClassifier(n_estimators = 126, random_state=42, n_jobs=-1)\n",
    "    clf.fit(X_lim_t, y_train)\n",
    "    fpr_valid, tpr_valid, roc_auc_valid = get_scores(clf, X_lim_v, y_valid)\n",
    "    n = len(X_lim_t.columns)\n",
    "    res_dict[n] = {\n",
    "        \"score\": roc_auc_valid,\n",
    "        \"remaining columns\": X_lim_t.columns\n",
    "    }\n",
    "    \n",
    "    print(n, roc_auc_valid)\n",
    "    step_size = n - rem_cols\n",
    "    cols_to_drop = pd.DataFrame(clf.feature_importances_, index=X_lim_t.columns).sort_values(by=0).head(step_size).index\n",
    "    X_lim_t.drop(columns=cols_to_drop, inplace=True)\n",
    "    X_lim_v.drop(columns=cols_to_drop, inplace=True)"
   ]
  },
  {
   "cell_type": "code",
   "execution_count": 180,
   "metadata": {},
   "outputs": [],
   "source": [
    "# pd.DataFrame(res_dict).T.sort_index().loc[31]['remaining columns'].to_list()\n",
    "most_important_columns = ['AGER_TYP',\n",
    " 'ALTER_HH',\n",
    " 'CAMEO_DEU_2015',\n",
    " 'CAMEO_INTL_2015',\n",
    " 'CJT_GESAMTTYP',\n",
    " 'D19_GESAMT_DATUM',\n",
    " 'D19_GESAMT_OFFLINE_DATUM',\n",
    " 'D19_KONSUMTYP',\n",
    " 'D19_LOTTO',\n",
    " 'D19_SONSTIGE',\n",
    " 'D19_VERSAND_DATUM',\n",
    " 'D19_VERSAND_OFFLINE_DATUM',\n",
    " 'FINANZ_ANLEGER',\n",
    " 'FINANZ_MINIMALIST',\n",
    " 'FINANZ_SPARER',\n",
    " 'FINANZ_VORSORGER',\n",
    " 'GEBURTSJAHR',\n",
    " 'GFK_URLAUBERTYP',\n",
    " 'HH_EINKOMMEN_SCORE',\n",
    " 'INNENSTADT',\n",
    " 'KBA05_HERST1',\n",
    " 'KBA05_ZUL4',\n",
    " 'KBA13_ANZAHL_PKW',\n",
    " 'KBA13_SEG_SPORTWAGEN',\n",
    " 'KONSUMNAEHE',\n",
    " 'LP_LEBENSPHASE_FEIN',\n",
    " 'LP_STATUS_FEIN',\n",
    " 'ORTSGR_KLS9',\n",
    " 'PRAEGENDE_JUGENDJAHRE',\n",
    " 'REGIOTYP',\n",
    " 'SEMIO_PFLICHT']"
   ]
  },
  {
   "cell_type": "code",
   "execution_count": 173,
   "metadata": {},
   "outputs": [
    {
     "data": {
      "text/html": [
       "\n",
       "\n",
       "\n",
       "\n",
       "\n",
       "\n",
       "  <div class=\"bk-root\" id=\"55ea63ff-6178-4385-afe5-e3f69a219931\" data-root-id=\"32667\"></div>\n"
      ]
     },
     "metadata": {},
     "output_type": "display_data"
    },
    {
     "data": {
      "application/javascript": [
       "(function(root) {\n",
       "  function embed_document(root) {\n",
       "    \n",
       "  var docs_json = {\"ff6b12c2-9229-4851-a945-e501ff16d9cc\":{\"defs\":[],\"roots\":{\"references\":[{\"attributes\":{\"below\":[{\"id\":\"32678\"}],\"center\":[{\"id\":\"32681\"},{\"id\":\"32685\"},{\"id\":\"32715\"}],\"left\":[{\"id\":\"32682\"}],\"renderers\":[{\"id\":\"32703\"}],\"title\":{\"id\":\"32668\"},\"toolbar\":{\"id\":\"32693\"},\"x_range\":{\"id\":\"32670\"},\"x_scale\":{\"id\":\"32674\"},\"y_range\":{\"id\":\"32672\"},\"y_scale\":{\"id\":\"32676\"}},\"id\":\"32667\",\"subtype\":\"Figure\",\"type\":\"Plot\"},{\"attributes\":{},\"id\":\"32686\",\"type\":\"PanTool\"},{\"attributes\":{},\"id\":\"32708\",\"type\":\"AllLabels\"},{\"attributes\":{\"data\":{\"x\":[297,236,189,150,120,95,76,61,48,38,31,24,19,15,12,10],\"y\":[0.8000621102603316,0.7982615993790746,0.8034525241928767,0.799667829720424,0.8012495813538089,0.7991226593469296,0.7978372604856473,0.7965670790811581,0.8046477701441915,0.799730161486677,0.8033511409326994,0.7968436956756728,0.7778185520955346,0.773619309291376,0.7668181471827105,0.7633216762150487]},\"selected\":{\"id\":\"32714\"},\"selection_policy\":{\"id\":\"32713\"}},\"id\":\"32700\",\"type\":\"ColumnDataSource\"},{\"attributes\":{\"source\":{\"id\":\"32700\"}},\"id\":\"32704\",\"type\":\"CDSView\"},{\"attributes\":{\"axis\":{\"id\":\"32682\"},\"dimension\":1,\"ticker\":null},\"id\":\"32685\",\"type\":\"Grid\"},{\"attributes\":{},\"id\":\"32687\",\"type\":\"WheelZoomTool\"},{\"attributes\":{},\"id\":\"32674\",\"type\":\"LinearScale\"},{\"attributes\":{\"data_source\":{\"id\":\"32700\"},\"glyph\":{\"id\":\"32701\"},\"hover_glyph\":null,\"muted_glyph\":null,\"nonselection_glyph\":{\"id\":\"32702\"},\"view\":{\"id\":\"32704\"}},\"id\":\"32703\",\"type\":\"GlyphRenderer\"},{\"attributes\":{\"axis_label\":\"number of most important features\",\"formatter\":{\"id\":\"32709\"},\"major_label_policy\":{\"id\":\"32711\"},\"ticker\":{\"id\":\"32679\"}},\"id\":\"32678\",\"type\":\"LinearAxis\"},{\"attributes\":{},\"id\":\"32690\",\"type\":\"ResetTool\"},{\"attributes\":{},\"id\":\"32706\",\"type\":\"BasicTickFormatter\"},{\"attributes\":{\"label\":{\"value\":\"AUC\"},\"renderers\":[{\"id\":\"32703\"}]},\"id\":\"32716\",\"type\":\"LegendItem\"},{\"attributes\":{},\"id\":\"32670\",\"type\":\"DataRange1d\"},{\"attributes\":{\"axis_label\":\"AUC\",\"formatter\":{\"id\":\"32706\"},\"major_label_policy\":{\"id\":\"32708\"},\"ticker\":{\"id\":\"32683\"}},\"id\":\"32682\",\"type\":\"LinearAxis\"},{\"attributes\":{},\"id\":\"32711\",\"type\":\"AllLabels\"},{\"attributes\":{},\"id\":\"32689\",\"type\":\"SaveTool\"},{\"attributes\":{\"axis\":{\"id\":\"32678\"},\"ticker\":null},\"id\":\"32681\",\"type\":\"Grid\"},{\"attributes\":{},\"id\":\"32672\",\"type\":\"DataRange1d\"},{\"attributes\":{},\"id\":\"32709\",\"type\":\"BasicTickFormatter\"},{\"attributes\":{},\"id\":\"32713\",\"type\":\"UnionRenderers\"},{\"attributes\":{\"overlay\":{\"id\":\"32692\"}},\"id\":\"32688\",\"type\":\"BoxZoomTool\"},{\"attributes\":{},\"id\":\"32679\",\"type\":\"BasicTicker\"},{\"attributes\":{\"active_multi\":null,\"tools\":[{\"id\":\"32686\"},{\"id\":\"32687\"},{\"id\":\"32688\"},{\"id\":\"32689\"},{\"id\":\"32690\"},{\"id\":\"32691\"}]},\"id\":\"32693\",\"type\":\"Toolbar\"},{\"attributes\":{\"items\":[{\"id\":\"32716\"}],\"location\":\"bottom_right\"},\"id\":\"32715\",\"type\":\"Legend\"},{\"attributes\":{},\"id\":\"32683\",\"type\":\"BasicTicker\"},{\"attributes\":{\"line_color\":\"Blue\",\"x\":{\"field\":\"x\"},\"y\":{\"field\":\"y\"}},\"id\":\"32701\",\"type\":\"Line\"},{\"attributes\":{},\"id\":\"32676\",\"type\":\"LinearScale\"},{\"attributes\":{\"line_alpha\":0.1,\"line_color\":\"Blue\",\"x\":{\"field\":\"x\"},\"y\":{\"field\":\"y\"}},\"id\":\"32702\",\"type\":\"Line\"},{\"attributes\":{},\"id\":\"32691\",\"type\":\"HelpTool\"},{\"attributes\":{\"bottom_units\":\"screen\",\"fill_alpha\":0.5,\"fill_color\":\"lightgrey\",\"left_units\":\"screen\",\"level\":\"overlay\",\"line_alpha\":1.0,\"line_color\":\"black\",\"line_dash\":[4,4],\"line_width\":2,\"right_units\":\"screen\",\"syncable\":false,\"top_units\":\"screen\"},\"id\":\"32692\",\"type\":\"BoxAnnotation\"},{\"attributes\":{},\"id\":\"32714\",\"type\":\"Selection\"},{\"attributes\":{\"text\":\"AUC by number of most important features\"},\"id\":\"32668\",\"type\":\"Title\"}],\"root_ids\":[\"32667\"]},\"title\":\"Bokeh Application\",\"version\":\"2.3.1\"}};\n",
       "  var render_items = [{\"docid\":\"ff6b12c2-9229-4851-a945-e501ff16d9cc\",\"root_ids\":[\"32667\"],\"roots\":{\"32667\":\"55ea63ff-6178-4385-afe5-e3f69a219931\"}}];\n",
       "  root.Bokeh.embed.embed_items_notebook(docs_json, render_items);\n",
       "\n",
       "  }\n",
       "  if (root.Bokeh !== undefined) {\n",
       "    embed_document(root);\n",
       "  } else {\n",
       "    var attempts = 0;\n",
       "    var timer = setInterval(function(root) {\n",
       "      if (root.Bokeh !== undefined) {\n",
       "        clearInterval(timer);\n",
       "        embed_document(root);\n",
       "      } else {\n",
       "        attempts++;\n",
       "        if (attempts > 100) {\n",
       "          clearInterval(timer);\n",
       "          console.log(\"Bokeh: ERROR: Unable to run BokehJS code because BokehJS library is missing\");\n",
       "        }\n",
       "      }\n",
       "    }, 10, root)\n",
       "  }\n",
       "})(window);"
      ],
      "application/vnd.bokehjs_exec.v0+json": ""
     },
     "metadata": {
      "application/vnd.bokehjs_exec.v0+json": {
       "id": "32667"
      }
     },
     "output_type": "display_data"
    }
   ],
   "source": [
    "p = figure(title=\"AUC by number of most important features\")\n",
    "\n",
    "p.line(pd.DataFrame(res_dict).T.index, pd.DataFrame(res_dict).T['score'].values, color='Blue', legend_label=f\"AUC\")\n",
    "\n",
    "p.yaxis.axis_label = \"AUC\"\n",
    "p.xaxis.axis_label = \"number of most important features\"\n",
    "p.legend.location = \"bottom_right\"\n",
    "\n",
    "show(p)"
   ]
  },
  {
   "cell_type": "markdown",
   "metadata": {},
   "source": [
    "### Predict missing values"
   ]
  },
  {
   "cell_type": "code",
   "execution_count": null,
   "metadata": {},
   "outputs": [],
   "source": []
  },
  {
   "cell_type": "code",
   "execution_count": null,
   "metadata": {},
   "outputs": [],
   "source": []
  },
  {
   "cell_type": "code",
   "execution_count": null,
   "metadata": {},
   "outputs": [],
   "source": []
  },
  {
   "cell_type": "code",
   "execution_count": null,
   "metadata": {},
   "outputs": [],
   "source": []
  },
  {
   "cell_type": "code",
   "execution_count": null,
   "metadata": {},
   "outputs": [],
   "source": []
  },
  {
   "cell_type": "markdown",
   "metadata": {},
   "source": [
    "## Part 3: Kaggle Competition\n",
    "\n",
    "Now that you've created a model to predict which individuals are most likely to respond to a mailout campaign, it's time to test that model in competition through Kaggle. If you click on the link [here](http://www.kaggle.com/t/21e6d45d4c574c7fa2d868f0e8c83140), you'll be taken to the competition page where, if you have a Kaggle account, you can enter.\n",
    "\n",
    "Your entry to the competition should be a CSV file with two columns. The first column should be a copy of \"LNR\", which acts as an ID number for each individual in the \"TEST\" partition. The second column, \"RESPONSE\", should be some measure of how likely each individual became a customer – this might not be a straightforward probability. As you should have found in Part 2, there is a large output class imbalance, where most individuals did not respond to the mailout. Thus, predicting individual classes and using accuracy does not seem to be an appropriate performance evaluation method. Instead, the competition will be using AUC to evaluate performance. The exact values of the \"RESPONSE\" column do not matter as much: only that the higher values try to capture as many of the actual customers as possible, early in the ROC curve sweep."
   ]
  },
  {
   "cell_type": "code",
   "execution_count": null,
   "metadata": {},
   "outputs": [],
   "source": [
    "mailout_test = load_data('../../data/Term2/capstone/arvato_data/Udacity_MAILOUT_052018_TEST.csv', 'mailout_test')"
   ]
  },
  {
   "cell_type": "code",
   "execution_count": null,
   "metadata": {},
   "outputs": [],
   "source": [
    "_ = apply_pre_processing(mailout_test, \n",
    "                         low_to_no_info_columns, \n",
    "                         correlated_cols_to_drop,\n",
    "                         ks_cols_to_drop,\n",
    "                         col_to_proc, \n",
    "                         missing_labels, \n",
    "                         missing_fill_value,\n",
    "                         drop_duplicates=False, \n",
    "                         replacements=replacements)"
   ]
  },
  {
   "cell_type": "code",
   "execution_count": null,
   "metadata": {},
   "outputs": [],
   "source": [
    "y_score_kaggle = clf.predict_proba(mailout_test)[:,1]"
   ]
  },
  {
   "cell_type": "code",
   "execution_count": null,
   "metadata": {},
   "outputs": [],
   "source": [
    "kaggle = pd.DataFrame(y_score_kaggle, columns=['RESPONSE'], index=mailout_test.index)\n",
    "kaggle.to_csv('kaggle_valid_mix.csv')"
   ]
  },
  {
   "cell_type": "code",
   "execution_count": null,
   "metadata": {},
   "outputs": [],
   "source": [
    "kaggle.head()"
   ]
  },
  {
   "cell_type": "code",
   "execution_count": null,
   "metadata": {},
   "outputs": [],
   "source": []
  }
 ],
 "metadata": {
  "kernelspec": {
   "display_name": "Python 3",
   "language": "python",
   "name": "python3"
  },
  "language_info": {
   "codemirror_mode": {
    "name": "ipython",
    "version": 3
   },
   "file_extension": ".py",
   "mimetype": "text/x-python",
   "name": "python",
   "nbconvert_exporter": "python",
   "pygments_lexer": "ipython3",
   "version": "3.8.5"
  }
 },
 "nbformat": 4,
 "nbformat_minor": 2
}
